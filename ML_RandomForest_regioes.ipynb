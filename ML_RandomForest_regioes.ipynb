{
  "nbformat": 4,
  "nbformat_minor": 0,
  "metadata": {
    "colab": {
      "name": "ML_RandomForest_regioes",
      "provenance": [],
      "collapsed_sections": [],
      "authorship_tag": "ABX9TyNqU0zoH3WKt0FmHiIRwK+V",
      "include_colab_link": true
    },
    "kernelspec": {
      "name": "python3",
      "display_name": "Python 3"
    },
    "language_info": {
      "name": "python"
    }
  },
  "cells": [
    {
      "cell_type": "markdown",
      "metadata": {
        "id": "view-in-github",
        "colab_type": "text"
      },
      "source": [
        "<a href=\"https://colab.research.google.com/github/bcury/Machine-Learning-Projects/blob/main/ML_RandomForest_regioes.ipynb\" target=\"_parent\"><img src=\"https://colab.research.google.com/assets/colab-badge.svg\" alt=\"Open In Colab\"/></a>"
      ]
    },
    {
      "cell_type": "code",
      "execution_count": 74,
      "metadata": {
        "id": "DnrTKb7yjSj0"
      },
      "outputs": [],
      "source": [
        "import pandas as pd\n",
        "import numpy as np\n",
        "import seaborn as sns\n",
        "import matplotlib.pyplot as plt\n"
      ]
    },
    {
      "cell_type": "code",
      "source": [
        "base = pd.read_csv('/content/Customer.csv')"
      ],
      "metadata": {
        "id": "2YFGayDNjgud"
      },
      "execution_count": 75,
      "outputs": []
    },
    {
      "cell_type": "code",
      "source": [
        "base.head()"
      ],
      "metadata": {
        "colab": {
          "base_uri": "https://localhost:8080/",
          "height": 206
        },
        "id": "EW35h8-njoX2",
        "outputId": "c290a9e8-5a1d-4003-88e6-5bedc4b8bbbb"
      },
      "execution_count": 76,
      "outputs": [
        {
          "output_type": "execute_result",
          "data": {
            "text/html": [
              "<div>\n",
              "<style scoped>\n",
              "    .dataframe tbody tr th:only-of-type {\n",
              "        vertical-align: middle;\n",
              "    }\n",
              "\n",
              "    .dataframe tbody tr th {\n",
              "        vertical-align: top;\n",
              "    }\n",
              "\n",
              "    .dataframe thead th {\n",
              "        text-align: right;\n",
              "    }\n",
              "</style>\n",
              "<table border=\"1\" class=\"dataframe\">\n",
              "  <thead>\n",
              "    <tr style=\"text-align: right;\">\n",
              "      <th></th>\n",
              "      <th>Customer ID</th>\n",
              "      <th>Customer Name</th>\n",
              "      <th>Segment</th>\n",
              "      <th>Age</th>\n",
              "      <th>Country</th>\n",
              "      <th>City</th>\n",
              "      <th>State</th>\n",
              "      <th>Postal Code</th>\n",
              "      <th>Region</th>\n",
              "    </tr>\n",
              "  </thead>\n",
              "  <tbody>\n",
              "    <tr>\n",
              "      <th>0</th>\n",
              "      <td>CG-12520</td>\n",
              "      <td>Claire Gute</td>\n",
              "      <td>Consumer</td>\n",
              "      <td>67</td>\n",
              "      <td>United States</td>\n",
              "      <td>Henderson</td>\n",
              "      <td>Kentucky</td>\n",
              "      <td>42420</td>\n",
              "      <td>South</td>\n",
              "    </tr>\n",
              "    <tr>\n",
              "      <th>1</th>\n",
              "      <td>DV-13045</td>\n",
              "      <td>Darrin Van Huff</td>\n",
              "      <td>Corporate</td>\n",
              "      <td>31</td>\n",
              "      <td>United States</td>\n",
              "      <td>Los Angeles</td>\n",
              "      <td>California</td>\n",
              "      <td>90036</td>\n",
              "      <td>West</td>\n",
              "    </tr>\n",
              "    <tr>\n",
              "      <th>2</th>\n",
              "      <td>SO-20335</td>\n",
              "      <td>Sean O'Donnell</td>\n",
              "      <td>Consumer</td>\n",
              "      <td>65</td>\n",
              "      <td>United States</td>\n",
              "      <td>Fort Lauderdale</td>\n",
              "      <td>Florida</td>\n",
              "      <td>33311</td>\n",
              "      <td>South</td>\n",
              "    </tr>\n",
              "    <tr>\n",
              "      <th>3</th>\n",
              "      <td>BH-11710</td>\n",
              "      <td>Brosina Hoffman</td>\n",
              "      <td>Consumer</td>\n",
              "      <td>20</td>\n",
              "      <td>United States</td>\n",
              "      <td>Los Angeles</td>\n",
              "      <td>California</td>\n",
              "      <td>90032</td>\n",
              "      <td>West</td>\n",
              "    </tr>\n",
              "    <tr>\n",
              "      <th>4</th>\n",
              "      <td>AA-10480</td>\n",
              "      <td>Andrew Allen</td>\n",
              "      <td>Consumer</td>\n",
              "      <td>50</td>\n",
              "      <td>United States</td>\n",
              "      <td>Concord</td>\n",
              "      <td>North Carolina</td>\n",
              "      <td>28027</td>\n",
              "      <td>South</td>\n",
              "    </tr>\n",
              "  </tbody>\n",
              "</table>\n",
              "</div>"
            ],
            "text/plain": [
              "  Customer ID    Customer Name    Segment  ...           State Postal Code Region\n",
              "0    CG-12520      Claire Gute   Consumer  ...        Kentucky       42420  South\n",
              "1    DV-13045  Darrin Van Huff  Corporate  ...      California       90036   West\n",
              "2    SO-20335   Sean O'Donnell   Consumer  ...         Florida       33311  South\n",
              "3    BH-11710  Brosina Hoffman   Consumer  ...      California       90032   West\n",
              "4    AA-10480     Andrew Allen   Consumer  ...  North Carolina       28027  South\n",
              "\n",
              "[5 rows x 9 columns]"
            ]
          },
          "metadata": {},
          "execution_count": 76
        }
      ]
    },
    {
      "cell_type": "code",
      "source": [
        "base.tail()"
      ],
      "metadata": {
        "colab": {
          "base_uri": "https://localhost:8080/",
          "height": 206
        },
        "id": "6MyuSo-sjpdJ",
        "outputId": "16313b77-7691-4245-fdf5-0902fdb41239"
      },
      "execution_count": 77,
      "outputs": [
        {
          "output_type": "execute_result",
          "data": {
            "text/html": [
              "<div>\n",
              "<style scoped>\n",
              "    .dataframe tbody tr th:only-of-type {\n",
              "        vertical-align: middle;\n",
              "    }\n",
              "\n",
              "    .dataframe tbody tr th {\n",
              "        vertical-align: top;\n",
              "    }\n",
              "\n",
              "    .dataframe thead th {\n",
              "        text-align: right;\n",
              "    }\n",
              "</style>\n",
              "<table border=\"1\" class=\"dataframe\">\n",
              "  <thead>\n",
              "    <tr style=\"text-align: right;\">\n",
              "      <th></th>\n",
              "      <th>Customer ID</th>\n",
              "      <th>Customer Name</th>\n",
              "      <th>Segment</th>\n",
              "      <th>Age</th>\n",
              "      <th>Country</th>\n",
              "      <th>City</th>\n",
              "      <th>State</th>\n",
              "      <th>Postal Code</th>\n",
              "      <th>Region</th>\n",
              "    </tr>\n",
              "  </thead>\n",
              "  <tbody>\n",
              "    <tr>\n",
              "      <th>788</th>\n",
              "      <td>CJ-11875</td>\n",
              "      <td>Carl Jackson</td>\n",
              "      <td>Corporate</td>\n",
              "      <td>64</td>\n",
              "      <td>United States</td>\n",
              "      <td>Philadelphia</td>\n",
              "      <td>Pennsylvania</td>\n",
              "      <td>19140</td>\n",
              "      <td>East</td>\n",
              "    </tr>\n",
              "    <tr>\n",
              "      <th>789</th>\n",
              "      <td>RS-19870</td>\n",
              "      <td>Roy Skaria</td>\n",
              "      <td>Home Office</td>\n",
              "      <td>39</td>\n",
              "      <td>United States</td>\n",
              "      <td>Burlington</td>\n",
              "      <td>Iowa</td>\n",
              "      <td>52601</td>\n",
              "      <td>Central</td>\n",
              "    </tr>\n",
              "    <tr>\n",
              "      <th>790</th>\n",
              "      <td>SC-20845</td>\n",
              "      <td>Sung Chung</td>\n",
              "      <td>Consumer</td>\n",
              "      <td>69</td>\n",
              "      <td>United States</td>\n",
              "      <td>Arlington Heights</td>\n",
              "      <td>Illinois</td>\n",
              "      <td>60004</td>\n",
              "      <td>Central</td>\n",
              "    </tr>\n",
              "    <tr>\n",
              "      <th>791</th>\n",
              "      <td>RE-19405</td>\n",
              "      <td>Ricardo Emerson</td>\n",
              "      <td>Consumer</td>\n",
              "      <td>35</td>\n",
              "      <td>United States</td>\n",
              "      <td>Kent</td>\n",
              "      <td>Ohio</td>\n",
              "      <td>44240</td>\n",
              "      <td>East</td>\n",
              "    </tr>\n",
              "    <tr>\n",
              "      <th>792</th>\n",
              "      <td>SM-20905</td>\n",
              "      <td>Susan MacKendrick</td>\n",
              "      <td>Consumer</td>\n",
              "      <td>46</td>\n",
              "      <td>United States</td>\n",
              "      <td>Newark</td>\n",
              "      <td>Ohio</td>\n",
              "      <td>43055</td>\n",
              "      <td>East</td>\n",
              "    </tr>\n",
              "  </tbody>\n",
              "</table>\n",
              "</div>"
            ],
            "text/plain": [
              "    Customer ID      Customer Name  ... Postal Code   Region\n",
              "788    CJ-11875       Carl Jackson  ...       19140     East\n",
              "789    RS-19870         Roy Skaria  ...       52601  Central\n",
              "790    SC-20845         Sung Chung  ...       60004  Central\n",
              "791    RE-19405    Ricardo Emerson  ...       44240     East\n",
              "792    SM-20905  Susan MacKendrick  ...       43055     East\n",
              "\n",
              "[5 rows x 9 columns]"
            ]
          },
          "metadata": {},
          "execution_count": 77
        }
      ]
    },
    {
      "cell_type": "code",
      "source": [
        "base.describe()"
      ],
      "metadata": {
        "colab": {
          "base_uri": "https://localhost:8080/",
          "height": 300
        },
        "id": "ZxAdt9HcjwTU",
        "outputId": "60559094-5035-4f15-e313-88db916f4fef"
      },
      "execution_count": 78,
      "outputs": [
        {
          "output_type": "execute_result",
          "data": {
            "text/html": [
              "<div>\n",
              "<style scoped>\n",
              "    .dataframe tbody tr th:only-of-type {\n",
              "        vertical-align: middle;\n",
              "    }\n",
              "\n",
              "    .dataframe tbody tr th {\n",
              "        vertical-align: top;\n",
              "    }\n",
              "\n",
              "    .dataframe thead th {\n",
              "        text-align: right;\n",
              "    }\n",
              "</style>\n",
              "<table border=\"1\" class=\"dataframe\">\n",
              "  <thead>\n",
              "    <tr style=\"text-align: right;\">\n",
              "      <th></th>\n",
              "      <th>Age</th>\n",
              "      <th>Postal Code</th>\n",
              "    </tr>\n",
              "  </thead>\n",
              "  <tbody>\n",
              "    <tr>\n",
              "      <th>count</th>\n",
              "      <td>793.000000</td>\n",
              "      <td>793.000000</td>\n",
              "    </tr>\n",
              "    <tr>\n",
              "      <th>mean</th>\n",
              "      <td>44.467844</td>\n",
              "      <td>55229.717528</td>\n",
              "    </tr>\n",
              "    <tr>\n",
              "      <th>std</th>\n",
              "      <td>15.526673</td>\n",
              "      <td>31679.223816</td>\n",
              "    </tr>\n",
              "    <tr>\n",
              "      <th>min</th>\n",
              "      <td>18.000000</td>\n",
              "      <td>1841.000000</td>\n",
              "    </tr>\n",
              "    <tr>\n",
              "      <th>25%</th>\n",
              "      <td>31.000000</td>\n",
              "      <td>27217.000000</td>\n",
              "    </tr>\n",
              "    <tr>\n",
              "      <th>50%</th>\n",
              "      <td>45.000000</td>\n",
              "      <td>55901.000000</td>\n",
              "    </tr>\n",
              "    <tr>\n",
              "      <th>75%</th>\n",
              "      <td>58.000000</td>\n",
              "      <td>90004.000000</td>\n",
              "    </tr>\n",
              "    <tr>\n",
              "      <th>max</th>\n",
              "      <td>70.000000</td>\n",
              "      <td>99207.000000</td>\n",
              "    </tr>\n",
              "  </tbody>\n",
              "</table>\n",
              "</div>"
            ],
            "text/plain": [
              "              Age   Postal Code\n",
              "count  793.000000    793.000000\n",
              "mean    44.467844  55229.717528\n",
              "std     15.526673  31679.223816\n",
              "min     18.000000   1841.000000\n",
              "25%     31.000000  27217.000000\n",
              "50%     45.000000  55901.000000\n",
              "75%     58.000000  90004.000000\n",
              "max     70.000000  99207.000000"
            ]
          },
          "metadata": {},
          "execution_count": 78
        }
      ]
    },
    {
      "cell_type": "code",
      "source": [
        "base.isnull().sum()"
      ],
      "metadata": {
        "colab": {
          "base_uri": "https://localhost:8080/"
        },
        "id": "umLVk8sQk5mW",
        "outputId": "40f2e95c-5c0d-470d-9e8d-6d44b97a54f8"
      },
      "execution_count": 79,
      "outputs": [
        {
          "output_type": "execute_result",
          "data": {
            "text/plain": [
              "Customer ID      0\n",
              "Customer Name    0\n",
              "Segment          0\n",
              "Age              0\n",
              "Country          0\n",
              "City             0\n",
              "State            0\n",
              "Postal Code      0\n",
              "Region           0\n",
              "dtype: int64"
            ]
          },
          "metadata": {},
          "execution_count": 79
        }
      ]
    },
    {
      "cell_type": "code",
      "source": [
        "sns.countplot( x = base['Region']);"
      ],
      "metadata": {
        "colab": {
          "base_uri": "https://localhost:8080/",
          "height": 279
        },
        "id": "o-AdkQUbj3Lv",
        "outputId": "bb516f37-2e5e-47f7-fa21-75226783ee8c"
      },
      "execution_count": 80,
      "outputs": [
        {
          "output_type": "display_data",
          "data": {
            "image/png": "[encoded data removed]",
            "text/plain": [
              "<Figure size 432x288 with 1 Axes>"
            ]
          },
          "metadata": {
            "needs_background": "light"
          }
        }
      ]
    },
    {
      "cell_type": "markdown",
      "source": [
        "Region vai ser nosso target"
      ],
      "metadata": {
        "id": "v9Nv1zM9kLuX"
      }
    },
    {
      "cell_type": "code",
      "source": [
        "from sklearn.preprocessing import LabelEncoder"
      ],
      "metadata": {
        "id": "Z_eQfiawkiPl"
      },
      "execution_count": 81,
      "outputs": []
    },
    {
      "cell_type": "code",
      "source": [
        "label_encode = LabelEncoder()\n",
        "labels = label_encode.fit_transform(base['Customer Name'])\n"
      ],
      "metadata": {
        "id": "FTMjGxk2pgaw"
      },
      "execution_count": 82,
      "outputs": []
    },
    {
      "cell_type": "code",
      "source": [
        "base['name'] = labels\n"
      ],
      "metadata": {
        "id": "c1TJoLIwpuIv"
      },
      "execution_count": 83,
      "outputs": []
    },
    {
      "cell_type": "code",
      "source": [
        "label_encode = LabelEncoder()\n",
        "labels_ = label_encode.fit_transform(base['Country'])"
      ],
      "metadata": {
        "id": "oSqswlxHqAch"
      },
      "execution_count": 84,
      "outputs": []
    },
    {
      "cell_type": "code",
      "source": [
        "base['pais'] = labels_"
      ],
      "metadata": {
        "id": "lQWW3BnpqtWi"
      },
      "execution_count": 85,
      "outputs": []
    },
    {
      "cell_type": "code",
      "source": [
        "label_encode = LabelEncoder()\n",
        "labels3 = label_encode.fit_transform(base['City'])"
      ],
      "metadata": {
        "id": "IffpC5_ysXA_"
      },
      "execution_count": 86,
      "outputs": []
    },
    {
      "cell_type": "code",
      "source": [
        "base['City'] = labels3"
      ],
      "metadata": {
        "id": "zrjnxBa2sbvd"
      },
      "execution_count": 87,
      "outputs": []
    },
    {
      "cell_type": "code",
      "source": [
        "label_encode = LabelEncoder()\n",
        "labels4 = label_encode.fit_transform(base['State'])"
      ],
      "metadata": {
        "id": "G01lzLBMshj2"
      },
      "execution_count": 88,
      "outputs": []
    },
    {
      "cell_type": "code",
      "source": [
        "base['State'] = labels4"
      ],
      "metadata": {
        "id": "y2RyZDxJsncW"
      },
      "execution_count": 89,
      "outputs": []
    },
    {
      "cell_type": "code",
      "source": [
        "label_encode = LabelEncoder()\n",
        "labels5 = label_encode.fit_transform(base['Segment'])"
      ],
      "metadata": {
        "id": "DDuulWprsuek"
      },
      "execution_count": 90,
      "outputs": []
    },
    {
      "cell_type": "code",
      "source": [
        "base['segmento'] = labels5"
      ],
      "metadata": {
        "id": "ZRzSzuoSsxjd"
      },
      "execution_count": 91,
      "outputs": []
    },
    {
      "cell_type": "markdown",
      "source": [
        "paar facilitar vamos criar nosso target para ficar por ultimo no dataset"
      ],
      "metadata": {
        "id": "mitAeVqzrDZ1"
      }
    },
    {
      "cell_type": "code",
      "source": [
        "label_encode = LabelEncoder()\n",
        "labels2 = label_encode.fit_transform(base['Region'])"
      ],
      "metadata": {
        "id": "qrdP-FW9qzCv"
      },
      "execution_count": 92,
      "outputs": []
    },
    {
      "cell_type": "code",
      "source": [
        "base['target'] = labels2"
      ],
      "metadata": {
        "id": "KIsHWW-XrQER"
      },
      "execution_count": 93,
      "outputs": []
    },
    {
      "cell_type": "code",
      "source": [
        "base.head()"
      ],
      "metadata": {
        "colab": {
          "base_uri": "https://localhost:8080/",
          "height": 206
        },
        "id": "ED0ChZ74rUon",
        "outputId": "2aa4c98f-c32c-4b0f-845f-dd7ec58291b8"
      },
      "execution_count": 94,
      "outputs": [
        {
          "output_type": "execute_result",
          "data": {
            "text/html": [
              "<div>\n",
              "<style scoped>\n",
              "    .dataframe tbody tr th:only-of-type {\n",
              "        vertical-align: middle;\n",
              "    }\n",
              "\n",
              "    .dataframe tbody tr th {\n",
              "        vertical-align: top;\n",
              "    }\n",
              "\n",
              "    .dataframe thead th {\n",
              "        text-align: right;\n",
              "    }\n",
              "</style>\n",
              "<table border=\"1\" class=\"dataframe\">\n",
              "  <thead>\n",
              "    <tr style=\"text-align: right;\">\n",
              "      <th></th>\n",
              "      <th>Customer ID</th>\n",
              "      <th>Customer Name</th>\n",
              "      <th>Segment</th>\n",
              "      <th>Age</th>\n",
              "      <th>Country</th>\n",
              "      <th>City</th>\n",
              "      <th>State</th>\n",
              "      <th>Postal Code</th>\n",
              "      <th>Region</th>\n",
              "      <th>name</th>\n",
              "      <th>pais</th>\n",
              "      <th>segmento</th>\n",
              "      <th>target</th>\n",
              "    </tr>\n",
              "  </thead>\n",
              "  <tbody>\n",
              "    <tr>\n",
              "      <th>0</th>\n",
              "      <td>CG-12520</td>\n",
              "      <td>Claire Gute</td>\n",
              "      <td>Consumer</td>\n",
              "      <td>67</td>\n",
              "      <td>United States</td>\n",
              "      <td>90</td>\n",
              "      <td>14</td>\n",
              "      <td>42420</td>\n",
              "      <td>South</td>\n",
              "      <td>166</td>\n",
              "      <td>0</td>\n",
              "      <td>0</td>\n",
              "      <td>2</td>\n",
              "    </tr>\n",
              "    <tr>\n",
              "      <th>1</th>\n",
              "      <td>DV-13045</td>\n",
              "      <td>Darrin Van Huff</td>\n",
              "      <td>Corporate</td>\n",
              "      <td>31</td>\n",
              "      <td>United States</td>\n",
              "      <td>129</td>\n",
              "      <td>3</td>\n",
              "      <td>90036</td>\n",
              "      <td>West</td>\n",
              "      <td>201</td>\n",
              "      <td>0</td>\n",
              "      <td>1</td>\n",
              "      <td>3</td>\n",
              "    </tr>\n",
              "    <tr>\n",
              "      <th>2</th>\n",
              "      <td>SO-20335</td>\n",
              "      <td>Sean O'Donnell</td>\n",
              "      <td>Consumer</td>\n",
              "      <td>65</td>\n",
              "      <td>United States</td>\n",
              "      <td>71</td>\n",
              "      <td>8</td>\n",
              "      <td>33311</td>\n",
              "      <td>South</td>\n",
              "      <td>687</td>\n",
              "      <td>0</td>\n",
              "      <td>0</td>\n",
              "      <td>2</td>\n",
              "    </tr>\n",
              "    <tr>\n",
              "      <th>3</th>\n",
              "      <td>BH-11710</td>\n",
              "      <td>Brosina Hoffman</td>\n",
              "      <td>Consumer</td>\n",
              "      <td>20</td>\n",
              "      <td>United States</td>\n",
              "      <td>129</td>\n",
              "      <td>3</td>\n",
              "      <td>90032</td>\n",
              "      <td>West</td>\n",
              "      <td>113</td>\n",
              "      <td>0</td>\n",
              "      <td>0</td>\n",
              "      <td>3</td>\n",
              "    </tr>\n",
              "    <tr>\n",
              "      <th>4</th>\n",
              "      <td>AA-10480</td>\n",
              "      <td>Andrew Allen</td>\n",
              "      <td>Consumer</td>\n",
              "      <td>50</td>\n",
              "      <td>United States</td>\n",
              "      <td>42</td>\n",
              "      <td>28</td>\n",
              "      <td>28027</td>\n",
              "      <td>South</td>\n",
              "      <td>31</td>\n",
              "      <td>0</td>\n",
              "      <td>0</td>\n",
              "      <td>2</td>\n",
              "    </tr>\n",
              "  </tbody>\n",
              "</table>\n",
              "</div>"
            ],
            "text/plain": [
              "  Customer ID    Customer Name    Segment  Age  ... name  pais  segmento  target\n",
              "0    CG-12520      Claire Gute   Consumer   67  ...  166     0         0       2\n",
              "1    DV-13045  Darrin Van Huff  Corporate   31  ...  201     0         1       3\n",
              "2    SO-20335   Sean O'Donnell   Consumer   65  ...  687     0         0       2\n",
              "3    BH-11710  Brosina Hoffman   Consumer   20  ...  113     0         0       3\n",
              "4    AA-10480     Andrew Allen   Consumer   50  ...   31     0         0       2\n",
              "\n",
              "[5 rows x 13 columns]"
            ]
          },
          "metadata": {},
          "execution_count": 94
        }
      ]
    },
    {
      "cell_type": "markdown",
      "source": [
        "todos os dados estao numericos agora, os que nao importam mais, vamos apagar"
      ],
      "metadata": {
        "id": "pR4OP4rEthv-"
      }
    },
    {
      "cell_type": "code",
      "source": [
        "base.drop(columns=['Customer ID','Customer Name', 'Segment','Country', 'State','Region'], axis=1, inplace=True)"
      ],
      "metadata": {
        "id": "al1aDWh3rWGG"
      },
      "execution_count": null,
      "outputs": []
    },
    {
      "cell_type": "code",
      "source": [
        "base.head()"
      ],
      "metadata": {
        "id": "GV7eXQQQsAqI",
        "colab": {
          "base_uri": "https://localhost:8080/",
          "height": 206
        },
        "outputId": "6b827071-014f-44e4-9a41-bbe002cd9925"
      },
      "execution_count": 97,
      "outputs": [
        {
          "output_type": "execute_result",
          "data": {
            "text/html": [
              "<div>\n",
              "<style scoped>\n",
              "    .dataframe tbody tr th:only-of-type {\n",
              "        vertical-align: middle;\n",
              "    }\n",
              "\n",
              "    .dataframe tbody tr th {\n",
              "        vertical-align: top;\n",
              "    }\n",
              "\n",
              "    .dataframe thead th {\n",
              "        text-align: right;\n",
              "    }\n",
              "</style>\n",
              "<table border=\"1\" class=\"dataframe\">\n",
              "  <thead>\n",
              "    <tr style=\"text-align: right;\">\n",
              "      <th></th>\n",
              "      <th>Age</th>\n",
              "      <th>City</th>\n",
              "      <th>Postal Code</th>\n",
              "      <th>Region</th>\n",
              "      <th>name</th>\n",
              "      <th>pais</th>\n",
              "      <th>segmento</th>\n",
              "      <th>target</th>\n",
              "    </tr>\n",
              "  </thead>\n",
              "  <tbody>\n",
              "    <tr>\n",
              "      <th>0</th>\n",
              "      <td>67</td>\n",
              "      <td>90</td>\n",
              "      <td>42420</td>\n",
              "      <td>South</td>\n",
              "      <td>166</td>\n",
              "      <td>0</td>\n",
              "      <td>0</td>\n",
              "      <td>2</td>\n",
              "    </tr>\n",
              "    <tr>\n",
              "      <th>1</th>\n",
              "      <td>31</td>\n",
              "      <td>129</td>\n",
              "      <td>90036</td>\n",
              "      <td>West</td>\n",
              "      <td>201</td>\n",
              "      <td>0</td>\n",
              "      <td>1</td>\n",
              "      <td>3</td>\n",
              "    </tr>\n",
              "    <tr>\n",
              "      <th>2</th>\n",
              "      <td>65</td>\n",
              "      <td>71</td>\n",
              "      <td>33311</td>\n",
              "      <td>South</td>\n",
              "      <td>687</td>\n",
              "      <td>0</td>\n",
              "      <td>0</td>\n",
              "      <td>2</td>\n",
              "    </tr>\n",
              "    <tr>\n",
              "      <th>3</th>\n",
              "      <td>20</td>\n",
              "      <td>129</td>\n",
              "      <td>90032</td>\n",
              "      <td>West</td>\n",
              "      <td>113</td>\n",
              "      <td>0</td>\n",
              "      <td>0</td>\n",
              "      <td>3</td>\n",
              "    </tr>\n",
              "    <tr>\n",
              "      <th>4</th>\n",
              "      <td>50</td>\n",
              "      <td>42</td>\n",
              "      <td>28027</td>\n",
              "      <td>South</td>\n",
              "      <td>31</td>\n",
              "      <td>0</td>\n",
              "      <td>0</td>\n",
              "      <td>2</td>\n",
              "    </tr>\n",
              "  </tbody>\n",
              "</table>\n",
              "</div>"
            ],
            "text/plain": [
              "   Age  City  Postal Code Region  name  pais  segmento  target\n",
              "0   67    90        42420  South   166     0         0       2\n",
              "1   31   129        90036   West   201     0         1       3\n",
              "2   65    71        33311  South   687     0         0       2\n",
              "3   20   129        90032   West   113     0         0       3\n",
              "4   50    42        28027  South    31     0         0       2"
            ]
          },
          "metadata": {},
          "execution_count": 97
        }
      ]
    },
    {
      "cell_type": "code",
      "source": [
        "base.drop(columns=['Region'], axis=1, inplace=True)"
      ],
      "metadata": {
        "id": "bUmblDqSuLd4"
      },
      "execution_count": 100,
      "outputs": []
    },
    {
      "cell_type": "code",
      "source": [
        "base.head()"
      ],
      "metadata": {
        "colab": {
          "base_uri": "https://localhost:8080/",
          "height": 206
        },
        "id": "FSFik4BXukDP",
        "outputId": "22edfab6-2ed0-47cb-f0da-b25d50a7937b"
      },
      "execution_count": 101,
      "outputs": [
        {
          "output_type": "execute_result",
          "data": {
            "text/html": [
              "<div>\n",
              "<style scoped>\n",
              "    .dataframe tbody tr th:only-of-type {\n",
              "        vertical-align: middle;\n",
              "    }\n",
              "\n",
              "    .dataframe tbody tr th {\n",
              "        vertical-align: top;\n",
              "    }\n",
              "\n",
              "    .dataframe thead th {\n",
              "        text-align: right;\n",
              "    }\n",
              "</style>\n",
              "<table border=\"1\" class=\"dataframe\">\n",
              "  <thead>\n",
              "    <tr style=\"text-align: right;\">\n",
              "      <th></th>\n",
              "      <th>Age</th>\n",
              "      <th>City</th>\n",
              "      <th>Postal Code</th>\n",
              "      <th>name</th>\n",
              "      <th>pais</th>\n",
              "      <th>segmento</th>\n",
              "      <th>target</th>\n",
              "    </tr>\n",
              "  </thead>\n",
              "  <tbody>\n",
              "    <tr>\n",
              "      <th>0</th>\n",
              "      <td>67</td>\n",
              "      <td>90</td>\n",
              "      <td>42420</td>\n",
              "      <td>166</td>\n",
              "      <td>0</td>\n",
              "      <td>0</td>\n",
              "      <td>2</td>\n",
              "    </tr>\n",
              "    <tr>\n",
              "      <th>1</th>\n",
              "      <td>31</td>\n",
              "      <td>129</td>\n",
              "      <td>90036</td>\n",
              "      <td>201</td>\n",
              "      <td>0</td>\n",
              "      <td>1</td>\n",
              "      <td>3</td>\n",
              "    </tr>\n",
              "    <tr>\n",
              "      <th>2</th>\n",
              "      <td>65</td>\n",
              "      <td>71</td>\n",
              "      <td>33311</td>\n",
              "      <td>687</td>\n",
              "      <td>0</td>\n",
              "      <td>0</td>\n",
              "      <td>2</td>\n",
              "    </tr>\n",
              "    <tr>\n",
              "      <th>3</th>\n",
              "      <td>20</td>\n",
              "      <td>129</td>\n",
              "      <td>90032</td>\n",
              "      <td>113</td>\n",
              "      <td>0</td>\n",
              "      <td>0</td>\n",
              "      <td>3</td>\n",
              "    </tr>\n",
              "    <tr>\n",
              "      <th>4</th>\n",
              "      <td>50</td>\n",
              "      <td>42</td>\n",
              "      <td>28027</td>\n",
              "      <td>31</td>\n",
              "      <td>0</td>\n",
              "      <td>0</td>\n",
              "      <td>2</td>\n",
              "    </tr>\n",
              "  </tbody>\n",
              "</table>\n",
              "</div>"
            ],
            "text/plain": [
              "   Age  City  Postal Code  name  pais  segmento  target\n",
              "0   67    90        42420   166     0         0       2\n",
              "1   31   129        90036   201     0         1       3\n",
              "2   65    71        33311   687     0         0       2\n",
              "3   20   129        90032   113     0         0       3\n",
              "4   50    42        28027    31     0         0       2"
            ]
          },
          "metadata": {},
          "execution_count": 101
        }
      ]
    },
    {
      "cell_type": "code",
      "source": [
        "x_base = base.iloc[:,0:6].values\n",
        "y_base = base.iloc[:,6].values"
      ],
      "metadata": {
        "id": "NlGA4qO1ulEO"
      },
      "execution_count": 102,
      "outputs": []
    },
    {
      "cell_type": "code",
      "source": [
        "x_base"
      ],
      "metadata": {
        "colab": {
          "base_uri": "https://localhost:8080/"
        },
        "id": "OlS5b36Suwry",
        "outputId": "db8aab93-6b3d-43f5-c8b5-8e15d92d62c0"
      },
      "execution_count": 103,
      "outputs": [
        {
          "output_type": "execute_result",
          "data": {
            "text/plain": [
              "array([[   67,    90, 42420,   166,     0,     0],\n",
              "       [   31,   129, 90036,   201,     0,     1],\n",
              "       [   65,    71, 33311,   687,     0,     0],\n",
              "       ...,\n",
              "       [   69,     6, 60004,   721,     0,     0],\n",
              "       [   35,   106, 44240,   625,     0,     0],\n",
              "       [   46,   162, 43055,   725,     0,     0]])"
            ]
          },
          "metadata": {},
          "execution_count": 103
        }
      ]
    },
    {
      "cell_type": "code",
      "source": [
        "y_base"
      ],
      "metadata": {
        "colab": {
          "base_uri": "https://localhost:8080/"
        },
        "id": "0HAGsIU1uyBA",
        "outputId": "a1bacfd5-0a65-4d61-c077-b8ab17d5a458"
      },
      "execution_count": 104,
      "outputs": [
        {
          "output_type": "execute_result",
          "data": {
            "text/plain": [
              "array([2, 3, 2, 3, 2, 3, 0, 0, 3, 3, 0, 1, 3, 3, 1, 0, 0, 0, 0, 3, 2, 0,\n",
              "       0, 1, 0, 1, 1, 3, 0, 3, 2, 1, 2, 0, 2, 3, 2, 0, 0, 0, 3, 0, 3, 1,\n",
              "       3, 0, 0, 0, 3, 2, 0, 1, 0, 1, 3, 2, 1, 0, 0, 3, 3, 1, 3, 1, 3, 0,\n",
              "       3, 1, 0, 3, 3, 3, 3, 0, 3, 1, 3, 3, 0, 3, 0, 0, 1, 0, 2, 1, 3, 0,\n",
              "       1, 3, 1, 1, 1, 1, 3, 0, 2, 3, 0, 0, 1, 3, 1, 0, 2, 2, 3, 0, 0, 3,\n",
              "       3, 1, 0, 1, 0, 0, 0, 3, 2, 1, 3, 3, 1, 3, 2, 1, 3, 1, 1, 2, 3, 1,\n",
              "       2, 1, 1, 3, 3, 2, 1, 1, 3, 3, 3, 1, 1, 1, 2, 1, 3, 1, 0, 3, 0, 1,\n",
              "       0, 3, 0, 2, 1, 1, 1, 3, 0, 3, 1, 0, 2, 1, 3, 3, 3, 3, 1, 2, 1, 0,\n",
              "       2, 2, 0, 0, 0, 1, 1, 3, 3, 0, 1, 3, 1, 1, 3, 1, 3, 0, 0, 1, 3, 2,\n",
              "       2, 3, 2, 0, 3, 0, 0, 1, 2, 1, 3, 3, 2, 3, 0, 2, 0, 1, 1, 3, 0, 2,\n",
              "       3, 3, 2, 3, 3, 3, 1, 3, 3, 0, 3, 3, 2, 3, 0, 3, 1, 1, 2, 1, 0, 1,\n",
              "       1, 1, 0, 0, 1, 3, 3, 2, 3, 0, 3, 0, 0, 3, 1, 1, 0, 1, 0, 1, 0, 0,\n",
              "       1, 2, 2, 1, 2, 3, 1, 3, 2, 1, 1, 2, 1, 1, 3, 3, 1, 2, 0, 1, 3, 0,\n",
              "       0, 0, 0, 3, 0, 1, 0, 1, 2, 2, 0, 1, 1, 3, 2, 3, 0, 3, 3, 2, 3, 3,\n",
              "       0, 1, 3, 2, 1, 3, 2, 1, 1, 3, 1, 1, 3, 2, 1, 1, 1, 1, 1, 0, 1, 3,\n",
              "       1, 3, 0, 0, 1, 1, 0, 1, 0, 1, 1, 1, 2, 1, 1, 3, 3, 1, 0, 2, 3, 3,\n",
              "       3, 2, 1, 2, 3, 0, 0, 2, 2, 2, 3, 3, 3, 3, 1, 3, 1, 1, 3, 2, 0, 1,\n",
              "       0, 1, 1, 1, 1, 3, 0, 3, 3, 1, 3, 0, 3, 0, 3, 1, 2, 3, 3, 3, 2, 0,\n",
              "       0, 0, 3, 1, 0, 3, 0, 3, 3, 2, 1, 1, 3, 1, 1, 3, 2, 3, 1, 2, 2, 0,\n",
              "       3, 2, 0, 1, 1, 3, 3, 0, 2, 2, 3, 2, 1, 2, 2, 1, 1, 3, 3, 1, 0, 1,\n",
              "       3, 1, 2, 0, 2, 0, 3, 1, 3, 3, 1, 0, 2, 2, 2, 3, 1, 3, 0, 3, 3, 1,\n",
              "       3, 2, 3, 3, 2, 2, 0, 1, 1, 3, 1, 2, 1, 3, 1, 1, 3, 0, 3, 1, 1, 3,\n",
              "       0, 3, 3, 1, 1, 3, 3, 2, 1, 1, 3, 1, 1, 0, 0, 0, 2, 0, 3, 0, 3, 3,\n",
              "       3, 2, 3, 1, 0, 3, 3, 3, 3, 0, 3, 2, 3, 3, 0, 1, 3, 3, 1, 3, 0, 3,\n",
              "       0, 2, 2, 0, 0, 0, 0, 0, 0, 1, 0, 2, 2, 2, 2, 3, 3, 3, 3, 0, 2, 0,\n",
              "       0, 1, 2, 1, 0, 3, 1, 0, 1, 0, 3, 0, 2, 1, 0, 1, 1, 3, 3, 1, 1, 3,\n",
              "       2, 3, 1, 1, 1, 0, 0, 0, 3, 1, 3, 3, 2, 0, 1, 2, 3, 1, 3, 0, 3, 3,\n",
              "       3, 3, 1, 2, 2, 3, 3, 2, 3, 1, 3, 0, 1, 3, 2, 3, 3, 1, 3, 3, 3, 0,\n",
              "       1, 3, 3, 2, 3, 1, 1, 0, 0, 3, 2, 0, 3, 3, 1, 2, 0, 1, 2, 3, 3, 0,\n",
              "       1, 3, 3, 1, 0, 0, 3, 1, 3, 3, 1, 2, 3, 3, 3, 2, 3, 2, 3, 0, 3, 3,\n",
              "       1, 3, 2, 0, 2, 0, 2, 3, 2, 2, 3, 1, 3, 1, 2, 1, 3, 0, 0, 2, 0, 0,\n",
              "       3, 3, 1, 1, 1, 1, 3, 3, 0, 0, 1, 1, 0, 0, 1, 0, 0, 2, 2, 3, 3, 0,\n",
              "       2, 1, 1, 2, 2, 0, 0, 2, 0, 1, 0, 3, 1, 1, 1, 3, 2, 1, 2, 1, 3, 1,\n",
              "       1, 3, 2, 0, 2, 1, 0, 1, 3, 3, 1, 0, 0, 0, 1, 2, 2, 3, 3, 3, 0, 3,\n",
              "       1, 0, 2, 3, 1, 1, 3, 3, 1, 3, 2, 0, 0, 3, 3, 1, 1, 0, 1, 2, 2, 2,\n",
              "       3, 1, 0, 2, 3, 1, 2, 0, 3, 1, 3, 2, 0, 2, 2, 0, 3, 1, 1, 0, 0, 1,\n",
              "       1])"
            ]
          },
          "metadata": {},
          "execution_count": 104
        }
      ]
    },
    {
      "cell_type": "code",
      "source": [
        "x_base.shape"
      ],
      "metadata": {
        "colab": {
          "base_uri": "https://localhost:8080/"
        },
        "id": "N2BEA3Vnuzd-",
        "outputId": "4ed3ed20-38a3-4689-bf6a-8c6d01c1e0c4"
      },
      "execution_count": 105,
      "outputs": [
        {
          "output_type": "execute_result",
          "data": {
            "text/plain": [
              "(793, 6)"
            ]
          },
          "metadata": {},
          "execution_count": 105
        }
      ]
    },
    {
      "cell_type": "code",
      "source": [
        "y_base.shape"
      ],
      "metadata": {
        "colab": {
          "base_uri": "https://localhost:8080/"
        },
        "id": "bgiHE0Rlu2Nz",
        "outputId": "42c4a81b-5d94-40ca-f443-70f23a4342cf"
      },
      "execution_count": 106,
      "outputs": [
        {
          "output_type": "execute_result",
          "data": {
            "text/plain": [
              "(793,)"
            ]
          },
          "metadata": {},
          "execution_count": 106
        }
      ]
    },
    {
      "cell_type": "code",
      "source": [
        "from sklearn.model_selection import train_test_split"
      ],
      "metadata": {
        "id": "WJqfVevcu3uD"
      },
      "execution_count": 107,
      "outputs": []
    },
    {
      "cell_type": "code",
      "source": [
        "x_base_treino, x_base_teste, y_base_treino, y_base_teste = train_test_split( x_base, y_base, test_size=0.30, random_state =0)"
      ],
      "metadata": {
        "id": "NDyGRYLJu_lR"
      },
      "execution_count": 108,
      "outputs": []
    },
    {
      "cell_type": "code",
      "source": [
        "x_base_treino.shape"
      ],
      "metadata": {
        "colab": {
          "base_uri": "https://localhost:8080/"
        },
        "id": "AYPa3KRavOAn",
        "outputId": "8c25adcf-3908-4614-db2a-d22725c6580f"
      },
      "execution_count": 109,
      "outputs": [
        {
          "output_type": "execute_result",
          "data": {
            "text/plain": [
              "(555, 6)"
            ]
          },
          "metadata": {},
          "execution_count": 109
        }
      ]
    },
    {
      "cell_type": "code",
      "source": [
        "y_base_treino.shape"
      ],
      "metadata": {
        "colab": {
          "base_uri": "https://localhost:8080/"
        },
        "id": "qLTmSfCqvTWT",
        "outputId": "a794f910-6657-4930-f480-4d1cae70d8fd"
      },
      "execution_count": 110,
      "outputs": [
        {
          "output_type": "execute_result",
          "data": {
            "text/plain": [
              "(555,)"
            ]
          },
          "metadata": {},
          "execution_count": 110
        }
      ]
    },
    {
      "cell_type": "code",
      "source": [
        "x_base_teste.shape"
      ],
      "metadata": {
        "colab": {
          "base_uri": "https://localhost:8080/"
        },
        "id": "W4JwBPjJvWir",
        "outputId": "b3ed0675-55ff-4f4b-d32d-4c064f950b96"
      },
      "execution_count": 111,
      "outputs": [
        {
          "output_type": "execute_result",
          "data": {
            "text/plain": [
              "(238, 6)"
            ]
          },
          "metadata": {},
          "execution_count": 111
        }
      ]
    },
    {
      "cell_type": "code",
      "source": [
        "y_base_teste.shape"
      ],
      "metadata": {
        "colab": {
          "base_uri": "https://localhost:8080/"
        },
        "id": "A4QHDE-pvYgj",
        "outputId": "cf58927f-1efc-4f68-be12-b84d09a68444"
      },
      "execution_count": 112,
      "outputs": [
        {
          "output_type": "execute_result",
          "data": {
            "text/plain": [
              "(238,)"
            ]
          },
          "metadata": {},
          "execution_count": 112
        }
      ]
    },
    {
      "cell_type": "code",
      "source": [
        "from sklearn.ensemble import RandomForestClassifier"
      ],
      "metadata": {
        "id": "cnJdvoTFvbKt"
      },
      "execution_count": 113,
      "outputs": []
    },
    {
      "cell_type": "code",
      "source": [
        "rf = RandomForestClassifier(n_estimators=50, criterion='entropy')"
      ],
      "metadata": {
        "id": "GsifkYAMvprG"
      },
      "execution_count": 114,
      "outputs": []
    },
    {
      "cell_type": "code",
      "source": [
        "rf.fit(x_base_treino, y_base_treino)"
      ],
      "metadata": {
        "colab": {
          "base_uri": "https://localhost:8080/"
        },
        "id": "VrdZzDRZvw9p",
        "outputId": "1023fcd0-4d0b-42cd-a91d-aa3d7dcaadd1"
      },
      "execution_count": 115,
      "outputs": [
        {
          "output_type": "execute_result",
          "data": {
            "text/plain": [
              "RandomForestClassifier(criterion='entropy', n_estimators=50)"
            ]
          },
          "metadata": {},
          "execution_count": 115
        }
      ]
    },
    {
      "cell_type": "code",
      "source": [
        "previsao = rf.predict(x_base_teste) #previsao dados\n",
        "previsao"
      ],
      "metadata": {
        "colab": {
          "base_uri": "https://localhost:8080/"
        },
        "id": "D4sDRJ5sv10u",
        "outputId": "50fb437a-268a-444f-d268-b10083dc0b52"
      },
      "execution_count": 118,
      "outputs": [
        {
          "output_type": "execute_result",
          "data": {
            "text/plain": [
              "array([0, 0, 1, 0, 3, 3, 3, 2, 0, 1, 0, 1, 3, 1, 3, 0, 1, 2, 2, 0, 1, 1,\n",
              "       3, 3, 2, 3, 2, 0, 3, 3, 0, 1, 0, 0, 3, 2, 3, 2, 1, 1, 2, 1, 1, 0,\n",
              "       1, 3, 0, 3, 1, 0, 2, 0, 3, 1, 3, 3, 2, 3, 1, 1, 3, 1, 1, 3, 0, 0,\n",
              "       1, 3, 3, 2, 3, 1, 1, 2, 3, 3, 1, 3, 3, 0, 0, 1, 1, 2, 3, 2, 0, 1,\n",
              "       3, 0, 3, 3, 1, 1, 1, 0, 0, 1, 3, 3, 0, 0, 1, 3, 0, 3, 3, 0, 3, 3,\n",
              "       3, 3, 3, 0, 3, 2, 3, 1, 0, 3, 0, 0, 3, 0, 3, 1, 1, 3, 3, 2, 0, 0,\n",
              "       3, 3, 2, 0, 0, 1, 3, 1, 2, 1, 3, 1, 3, 2, 1, 0, 0, 0, 3, 3, 3, 0,\n",
              "       0, 3, 3, 3, 3, 3, 1, 0, 3, 1, 0, 3, 0, 2, 3, 3, 3, 2, 3, 2, 2, 1,\n",
              "       1, 3, 3, 3, 2, 2, 1, 0, 1, 2, 3, 2, 0, 1, 0, 0, 0, 1, 3, 2, 3, 3,\n",
              "       3, 3, 0, 0, 3, 3, 0, 0, 0, 2, 0, 3, 0, 2, 1, 0, 3, 0, 3, 3, 1, 0,\n",
              "       3, 1, 1, 0, 3, 0, 0, 2, 3, 3, 1, 3, 3, 0, 2, 3, 3, 0])"
            ]
          },
          "metadata": {},
          "execution_count": 118
        }
      ]
    },
    {
      "cell_type": "code",
      "source": [
        "y_base_teste #base real"
      ],
      "metadata": {
        "colab": {
          "base_uri": "https://localhost:8080/"
        },
        "id": "pidN7Ej4v6k0",
        "outputId": "7d65452c-a7f9-4b7e-9c28-0aae93b428cc"
      },
      "execution_count": 119,
      "outputs": [
        {
          "output_type": "execute_result",
          "data": {
            "text/plain": [
              "array([0, 0, 1, 0, 3, 3, 3, 2, 0, 1, 0, 1, 3, 1, 3, 0, 1, 2, 2, 0, 1, 1,\n",
              "       3, 3, 2, 3, 2, 0, 3, 3, 0, 1, 0, 0, 3, 2, 3, 2, 1, 1, 2, 1, 1, 0,\n",
              "       1, 3, 0, 3, 1, 0, 2, 0, 3, 1, 3, 3, 2, 3, 1, 1, 3, 1, 1, 3, 0, 0,\n",
              "       1, 3, 3, 2, 3, 1, 1, 2, 3, 3, 1, 3, 3, 0, 0, 1, 1, 2, 3, 2, 0, 1,\n",
              "       3, 0, 3, 3, 1, 1, 1, 0, 0, 1, 3, 3, 0, 0, 1, 3, 0, 3, 3, 0, 3, 3,\n",
              "       3, 3, 3, 0, 3, 2, 3, 1, 0, 3, 0, 0, 3, 0, 3, 1, 1, 3, 3, 2, 0, 0,\n",
              "       3, 3, 2, 0, 0, 1, 3, 1, 2, 1, 3, 1, 3, 2, 1, 0, 0, 0, 3, 3, 3, 0,\n",
              "       0, 3, 3, 3, 3, 3, 1, 0, 3, 1, 0, 3, 0, 2, 3, 3, 3, 2, 3, 2, 2, 1,\n",
              "       1, 3, 3, 3, 2, 2, 1, 0, 1, 2, 3, 2, 0, 1, 0, 0, 0, 1, 3, 2, 3, 3,\n",
              "       3, 3, 0, 0, 3, 3, 0, 0, 0, 2, 0, 3, 0, 2, 1, 2, 3, 2, 3, 3, 1, 0,\n",
              "       3, 1, 1, 0, 3, 0, 0, 2, 3, 3, 1, 3, 3, 0, 2, 3, 3, 0])"
            ]
          },
          "metadata": {},
          "execution_count": 119
        }
      ]
    },
    {
      "cell_type": "code",
      "source": [
        "from sklearn.metrics import accuracy_score, classification_report"
      ],
      "metadata": {
        "id": "XmJMbcxxv9QA"
      },
      "execution_count": 120,
      "outputs": []
    },
    {
      "cell_type": "code",
      "source": [
        "accuracy_score(y_base_teste, previsao)"
      ],
      "metadata": {
        "colab": {
          "base_uri": "https://localhost:8080/"
        },
        "id": "rhiGt44awK48",
        "outputId": "cc7ce193-a785-4b81-df3e-cfbbcae6615d"
      },
      "execution_count": 121,
      "outputs": [
        {
          "output_type": "execute_result",
          "data": {
            "text/plain": [
              "0.9915966386554622"
            ]
          },
          "metadata": {},
          "execution_count": 121
        }
      ]
    },
    {
      "cell_type": "markdown",
      "source": [
        "otima acurácia!!"
      ],
      "metadata": {
        "id": "dYDDPXqswQLE"
      }
    },
    {
      "cell_type": "code",
      "source": [
        "from yellowbrick.classifier import ConfusionMatrix"
      ],
      "metadata": {
        "id": "DyK9RL5JwSIX"
      },
      "execution_count": 122,
      "outputs": []
    },
    {
      "cell_type": "code",
      "source": [
        "cm = ConfusionMatrix(rf)\n",
        "cm.fit(x_base_treino, y_base_treino)\n",
        "cm.score(x_base_teste, y_base_teste)"
      ],
      "metadata": {
        "colab": {
          "base_uri": "https://localhost:8080/",
          "height": 361
        },
        "id": "cypr_dvDwYyD",
        "outputId": "f40241e7-7e8c-4532-b366-b8736bd07c24"
      },
      "execution_count": 123,
      "outputs": [
        {
          "output_type": "execute_result",
          "data": {
            "text/plain": [
              "0.9915966386554622"
            ]
          },
          "metadata": {},
          "execution_count": 123
        },
        {
          "output_type": "display_data",
          "data": {
            "image/png": "[encoded data removed]",
            "text/plain": [
              "<Figure size 576x396 with 1 Axes>"
            ]
          },
          "metadata": {}
        }
      ]
    },
    {
      "cell_type": "markdown",
      "source": [
        "aqui vemos a matriz de confusão, mostrando a previsao e o acerto em cada regiao"
      ],
      "metadata": {
        "id": "7IYCa2XVwoEr"
      }
    },
    {
      "cell_type": "code",
      "source": [
        "print(classification_report(y_base_teste, previsao))"
      ],
      "metadata": {
        "colab": {
          "base_uri": "https://localhost:8080/"
        },
        "id": "gSntXkUmww43",
        "outputId": "fda1c502-d481-4dff-925c-7fe598439643"
      },
      "execution_count": 124,
      "outputs": [
        {
          "output_type": "stream",
          "name": "stdout",
          "text": [
            "              precision    recall  f1-score   support\n",
            "\n",
            "           0       0.97      1.00      0.98        62\n",
            "           1       1.00      1.00      1.00        52\n",
            "           2       1.00      0.94      0.97        34\n",
            "           3       1.00      1.00      1.00        90\n",
            "\n",
            "    accuracy                           0.99       238\n",
            "   macro avg       0.99      0.99      0.99       238\n",
            "weighted avg       0.99      0.99      0.99       238\n",
            "\n"
          ]
        }
      ]
    },
    {
      "cell_type": "markdown",
      "source": [
        "aqui vemos direitinho cada passo do modelo, a previsão praticamete acertou tudo"
      ],
      "metadata": {
        "id": "BHsfedGjw26-"
      }
    }
  ]
}