{
  "nbformat": 4,
  "nbformat_minor": 0,
  "metadata": {
    "colab": {
      "name": "ML_spark_classificação_NaiveBayes",
      "provenance": [],
      "collapsed_sections": [],
      "authorship_tag": "ABX9TyOr1anINRE4G2w6NsrzhwGo",
      "include_colab_link": true
    },
    "kernelspec": {
      "name": "python3",
      "display_name": "Python 3"
    },
    "language_info": {
      "name": "python"
    }
  },
  "cells": [
    {
      "cell_type": "markdown",
      "metadata": {
        "id": "view-in-github",
        "colab_type": "text"
      },
      "source": [
        "<a href=\"https://colab.research.google.com/github/bcury/Machine-Learning-Projects/blob/main/ML_spark_classifica%C3%A7%C3%A3o_NaiveBayes.ipynb\" target=\"_parent\"><img src=\"https://colab.research.google.com/assets/colab-badge.svg\" alt=\"Open In Colab\"/></a>"
      ]
    },
    {
      "cell_type": "code",
      "execution_count": 1,
      "metadata": {
        "colab": {
          "base_uri": "https://localhost:8080/"
        },
        "id": "FYfXk0Px5gl7",
        "outputId": "4af9ade1-b2db-49ec-e53b-df5d67d6d052"
      },
      "outputs": [
        {
          "output_type": "stream",
          "name": "stdout",
          "text": [
            "Looking in indexes: https://pypi.org/simple, https://us-python.pkg.dev/colab-wheels/public/simple/\n",
            "Collecting findspark\n",
            "  Downloading findspark-2.0.1-py2.py3-none-any.whl (4.4 kB)\n",
            "Installing collected packages: findspark\n",
            "Successfully installed findspark-2.0.1\n"
          ]
        }
      ],
      "source": [
        "pip install findspark"
      ]
    },
    {
      "cell_type": "code",
      "source": [
        "pip install pyspark"
      ],
      "metadata": {
        "colab": {
          "base_uri": "https://localhost:8080/"
        },
        "id": "pwyzZyH65pqb",
        "outputId": "d84372fc-a2df-48f0-c1ca-536c20b33d21"
      },
      "execution_count": 2,
      "outputs": [
        {
          "output_type": "stream",
          "name": "stdout",
          "text": [
            "Looking in indexes: https://pypi.org/simple, https://us-python.pkg.dev/colab-wheels/public/simple/\n",
            "Collecting pyspark\n",
            "  Downloading pyspark-3.2.1.tar.gz (281.4 MB)\n",
            "\u001b[K     |████████████████████████████████| 281.4 MB 34 kB/s \n",
            "\u001b[?25hCollecting py4j==0.10.9.3\n",
            "  Downloading py4j-0.10.9.3-py2.py3-none-any.whl (198 kB)\n",
            "\u001b[K     |████████████████████████████████| 198 kB 39.4 MB/s \n",
            "\u001b[?25hBuilding wheels for collected packages: pyspark\n",
            "  Building wheel for pyspark (setup.py) ... \u001b[?25l\u001b[?25hdone\n",
            "  Created wheel for pyspark: filename=pyspark-3.2.1-py2.py3-none-any.whl size=281853642 sha256=3cd8d2e28d038e0157b6dde2fc093b5896858c36fc5bbe3aa30f69b6c929207c\n",
            "  Stored in directory: /root/.cache/pip/wheels/9f/f5/07/7cd8017084dce4e93e84e92efd1e1d5334db05f2e83bcef74f\n",
            "Successfully built pyspark\n",
            "Installing collected packages: py4j, pyspark\n",
            "Successfully installed py4j-0.10.9.3 pyspark-3.2.1\n"
          ]
        }
      ]
    },
    {
      "cell_type": "code",
      "source": [
        "import pyspark, findspark\n",
        "from pyspark.sql import SparkSession\n",
        "findspark.init()\n",
        "spark = SparkSession.builder.appName('NB').getOrCreate()"
      ],
      "metadata": {
        "id": "ZuKS_Jsc5xSm"
      },
      "execution_count": 3,
      "outputs": []
    },
    {
      "cell_type": "code",
      "source": [
        "iris = spark.read.csv('iris.csv', header=True, inferSchema=True, sep=',')\n",
        "iris.show()"
      ],
      "metadata": {
        "colab": {
          "base_uri": "https://localhost:8080/"
        },
        "id": "Ct9dCaWn5_SD",
        "outputId": "07926c16-f707-48e1-ab8b-b1621dd47e45"
      },
      "execution_count": 9,
      "outputs": [
        {
          "output_type": "stream",
          "name": "stdout",
          "text": [
            "+-----------+----------+-----------+----------+-----------+\n",
            "|sepallength|sepalwidth|petallength|petalwidth|      class|\n",
            "+-----------+----------+-----------+----------+-----------+\n",
            "|        5.1|       3.5|        1.4|       0.2|Iris-setosa|\n",
            "|        4.9|       3.0|        1.4|       0.2|Iris-setosa|\n",
            "|        4.7|       3.2|        1.3|       0.2|Iris-setosa|\n",
            "|        4.6|       3.1|        1.5|       0.2|Iris-setosa|\n",
            "|        5.0|       3.6|        1.4|       0.2|Iris-setosa|\n",
            "|        5.4|       3.9|        1.7|       0.4|Iris-setosa|\n",
            "|        4.6|       3.4|        1.4|       0.3|Iris-setosa|\n",
            "|        5.0|       3.4|        1.5|       0.2|Iris-setosa|\n",
            "|        4.4|       2.9|        1.4|       0.2|Iris-setosa|\n",
            "|        4.9|       3.1|        1.5|       0.1|Iris-setosa|\n",
            "|        5.4|       3.7|        1.5|       0.2|Iris-setosa|\n",
            "|        4.8|       3.4|        1.6|       0.2|Iris-setosa|\n",
            "|        4.8|       3.0|        1.4|       0.1|Iris-setosa|\n",
            "|        4.3|       3.0|        1.1|       0.1|Iris-setosa|\n",
            "|        5.8|       4.0|        1.2|       0.2|Iris-setosa|\n",
            "|        5.7|       4.4|        1.5|       0.4|Iris-setosa|\n",
            "|        5.4|       3.9|        1.3|       0.4|Iris-setosa|\n",
            "|        5.1|       3.5|        1.4|       0.3|Iris-setosa|\n",
            "|        5.7|       3.8|        1.7|       0.3|Iris-setosa|\n",
            "|        5.1|       3.8|        1.5|       0.3|Iris-setosa|\n",
            "+-----------+----------+-----------+----------+-----------+\n",
            "only showing top 20 rows\n",
            "\n"
          ]
        }
      ]
    },
    {
      "cell_type": "code",
      "source": [
        "from pyspark.ml.feature import RFormula\n",
        "Rformula = RFormula(formula='class ~ .', featuresCol='independente', labelCol='dependente')\n",
        "iris_rformula = Rformula.fit(iris).transform(iris)\n",
        "iris_rformula.select('independente','dependente').show(truncate=False)"
      ],
      "metadata": {
        "colab": {
          "base_uri": "https://localhost:8080/"
        },
        "id": "XiLlm8gx7deK",
        "outputId": "a4eb75f6-4653-4937-f004-08505895017e"
      },
      "execution_count": 12,
      "outputs": [
        {
          "output_type": "stream",
          "name": "stdout",
          "text": [
            "+-----------------+----------+\n",
            "|independente     |dependente|\n",
            "+-----------------+----------+\n",
            "|[5.1,3.5,1.4,0.2]|0.0       |\n",
            "|[4.9,3.0,1.4,0.2]|0.0       |\n",
            "|[4.7,3.2,1.3,0.2]|0.0       |\n",
            "|[4.6,3.1,1.5,0.2]|0.0       |\n",
            "|[5.0,3.6,1.4,0.2]|0.0       |\n",
            "|[5.4,3.9,1.7,0.4]|0.0       |\n",
            "|[4.6,3.4,1.4,0.3]|0.0       |\n",
            "|[5.0,3.4,1.5,0.2]|0.0       |\n",
            "|[4.4,2.9,1.4,0.2]|0.0       |\n",
            "|[4.9,3.1,1.5,0.1]|0.0       |\n",
            "|[5.4,3.7,1.5,0.2]|0.0       |\n",
            "|[4.8,3.4,1.6,0.2]|0.0       |\n",
            "|[4.8,3.0,1.4,0.1]|0.0       |\n",
            "|[4.3,3.0,1.1,0.1]|0.0       |\n",
            "|[5.8,4.0,1.2,0.2]|0.0       |\n",
            "|[5.7,4.4,1.5,0.4]|0.0       |\n",
            "|[5.4,3.9,1.3,0.4]|0.0       |\n",
            "|[5.1,3.5,1.4,0.3]|0.0       |\n",
            "|[5.7,3.8,1.7,0.3]|0.0       |\n",
            "|[5.1,3.8,1.5,0.3]|0.0       |\n",
            "+-----------------+----------+\n",
            "only showing top 20 rows\n",
            "\n"
          ]
        }
      ]
    },
    {
      "cell_type": "code",
      "source": [
        "iris_treino, iris_teste = iris_rformula.randomSplit([0.8,0.2])\n",
        "iris_treino.count(), iris_teste.count()"
      ],
      "metadata": {
        "colab": {
          "base_uri": "https://localhost:8080/"
        },
        "id": "7UY5yJjj7hqA",
        "outputId": "62d4689d-7164-49d0-bf78-ed89a063278a"
      },
      "execution_count": 13,
      "outputs": [
        {
          "output_type": "execute_result",
          "data": {
            "text/plain": [
              "(114, 36)"
            ]
          },
          "metadata": {},
          "execution_count": 13
        }
      ]
    },
    {
      "cell_type": "code",
      "source": [
        "from pyspark.ml.classification import NaiveBayes"
      ],
      "metadata": {
        "id": "Es23UUu77opR"
      },
      "execution_count": 14,
      "outputs": []
    },
    {
      "cell_type": "code",
      "source": [
        "NB = NaiveBayes(smoothing=1.0,modelType='multinomial',featuresCol='independente', labelCol='dependente')"
      ],
      "metadata": {
        "id": "oA4pcBgh7wOE"
      },
      "execution_count": 17,
      "outputs": []
    },
    {
      "cell_type": "code",
      "source": [
        "modelo = NB.fit(iris_treino)"
      ],
      "metadata": {
        "id": "JMgbUb-6qyF5"
      },
      "execution_count": 18,
      "outputs": []
    },
    {
      "cell_type": "code",
      "source": [
        "previsao = modelo.transform(iris_teste)\n",
        "previsao.select('dependente','prediction').show()"
      ],
      "metadata": {
        "colab": {
          "base_uri": "https://localhost:8080/"
        },
        "id": "HHnw6KSPq3C1",
        "outputId": "ec2e787f-46e2-4938-96db-d4441495db33"
      },
      "execution_count": 19,
      "outputs": [
        {
          "output_type": "stream",
          "name": "stdout",
          "text": [
            "+----------+----------+\n",
            "|dependente|prediction|\n",
            "+----------+----------+\n",
            "|       0.0|       0.0|\n",
            "|       0.0|       0.0|\n",
            "|       0.0|       0.0|\n",
            "|       1.0|       1.0|\n",
            "|       0.0|       0.0|\n",
            "|       1.0|       1.0|\n",
            "|       0.0|       0.0|\n",
            "|       0.0|       0.0|\n",
            "|       0.0|       0.0|\n",
            "|       0.0|       0.0|\n",
            "|       1.0|       1.0|\n",
            "|       1.0|       1.0|\n",
            "|       1.0|       1.0|\n",
            "|       1.0|       1.0|\n",
            "|       2.0|       2.0|\n",
            "|       1.0|       1.0|\n",
            "|       0.0|       0.0|\n",
            "|       1.0|       1.0|\n",
            "|       2.0|       2.0|\n",
            "|       1.0|       1.0|\n",
            "+----------+----------+\n",
            "only showing top 20 rows\n",
            "\n"
          ]
        }
      ]
    },
    {
      "cell_type": "code",
      "source": [
        "from pyspark.ml.evaluation import MulticlassClassificationEvaluator"
      ],
      "metadata": {
        "id": "omSU-GVwrgMa"
      },
      "execution_count": 20,
      "outputs": []
    },
    {
      "cell_type": "code",
      "source": [
        "performance = MulticlassClassificationEvaluator(labelCol='dependente',predictionCol='prediction', metricName='accuracy')"
      ],
      "metadata": {
        "id": "24mKmGNWryDG"
      },
      "execution_count": 25,
      "outputs": []
    },
    {
      "cell_type": "code",
      "source": [
        "accuracy = performance.evaluate(previsao)\n",
        "print(accuracy)"
      ],
      "metadata": {
        "colab": {
          "base_uri": "https://localhost:8080/"
        },
        "id": "CQo_wcxsseNA",
        "outputId": "d0fe004c-8fbc-440a-92e8-0bddbef6cb52"
      },
      "execution_count": 26,
      "outputs": [
        {
          "output_type": "stream",
          "name": "stdout",
          "text": [
            "1.0\n"
          ]
        }
      ]
    },
    {
      "cell_type": "markdown",
      "source": [
        "modelo perfeito WOW, 100% de eficácia"
      ],
      "metadata": {
        "id": "67ThEKWjtE_e"
      }
    }
  ]
}