{
  "nbformat": 4,
  "nbformat_minor": 0,
  "metadata": {
    "colab": {
      "name": "ML_Finanças_Análises_Previsão_SeriesTemporais_ARIMA_FacebokProphet",
      "provenance": [],
      "collapsed_sections": [],
      "authorship_tag": "ABX9TyPvqR+3hFvRhP9JUfoyQED5",
      "include_colab_link": true
    },
    "kernelspec": {
      "name": "python3",
      "display_name": "Python 3"
    },
    "language_info": {
      "name": "python"
    }
  },
  "cells": [
    {
      "cell_type": "markdown",
      "metadata": {
        "id": "view-in-github",
        "colab_type": "text"
      },
      "source": [
        "<a href=\"https://colab.research.google.com/github/bcury/Machine-Learning-Projects/blob/main/ML_Finan%C3%A7as_An%C3%A1lises_Previs%C3%A3o_SeriesTemporais_ARIMA_FacebokProphet.ipynb\" target=\"_parent\"><img src=\"https://colab.research.google.com/assets/colab-badge.svg\" alt=\"Open In Colab\"/></a>"
      ]
    },
    {
      "cell_type": "markdown",
      "source": [
        "**ARIMA**"
      ],
      "metadata": {
        "id": "Fl4Vwjxf6lKw"
      }
    },
    {
      "cell_type": "code",
      "execution_count": 1,
      "metadata": {
        "id": "x1ElayXU6FUo"
      },
      "outputs": [],
      "source": [
        "import pandas as pd\n",
        "import numpy as np\n",
        "import matplotlib.pyplot as plt\n",
        "import plotly.express as px\n",
        "import seaborn as sns\n",
        "import datetime \n",
        "from statsmodels.tsa.seasonal import seasonal_decompose\n",
        "from pmdarima.arima import auto_arima"
      ]
    },
    {
      "cell_type": "code",
      "source": [
        "dateparse = lambda dates: datetime.datetime.strptime(dates, '%Y-%m-%d')\n",
        "data = pd.read_csv('/content/acoes.csv', parse_dates=['Date'], index_col='Date', date_parser = dateparse, usecols=['Date','BOVA'])"
      ],
      "metadata": {
        "id": "ZPYi_dI68NI8"
      },
      "execution_count": 3,
      "outputs": []
    },
    {
      "cell_type": "code",
      "source": [
        "data.head()"
      ],
      "metadata": {
        "colab": {
          "base_uri": "https://localhost:8080/",
          "height": 237
        },
        "id": "17P3UD6h9vHh",
        "outputId": "024761aa-bfb1-4cd1-9e9f-03817f63caaa"
      },
      "execution_count": 4,
      "outputs": [
        {
          "output_type": "execute_result",
          "data": {
            "text/html": [
              "\n",
              "  <div id=\"df-c98c1c8f-42c8-4e9e-b37c-5c24d38966e9\">\n",
              "    <div class=\"colab-df-container\">\n",
              "      <div>\n",
              "<style scoped>\n",
              "    .dataframe tbody tr th:only-of-type {\n",
              "        vertical-align: middle;\n",
              "    }\n",
              "\n",
              "    .dataframe tbody tr th {\n",
              "        vertical-align: top;\n",
              "    }\n",
              "\n",
              "    .dataframe thead th {\n",
              "        text-align: right;\n",
              "    }\n",
              "</style>\n",
              "<table border=\"1\" class=\"dataframe\">\n",
              "  <thead>\n",
              "    <tr style=\"text-align: right;\">\n",
              "      <th></th>\n",
              "      <th>BOVA</th>\n",
              "    </tr>\n",
              "    <tr>\n",
              "      <th>Date</th>\n",
              "      <th></th>\n",
              "    </tr>\n",
              "  </thead>\n",
              "  <tbody>\n",
              "    <tr>\n",
              "      <th>2015-01-02</th>\n",
              "      <td>47.259998</td>\n",
              "    </tr>\n",
              "    <tr>\n",
              "      <th>2015-01-05</th>\n",
              "      <td>46.320000</td>\n",
              "    </tr>\n",
              "    <tr>\n",
              "      <th>2015-01-06</th>\n",
              "      <td>46.580002</td>\n",
              "    </tr>\n",
              "    <tr>\n",
              "      <th>2015-01-07</th>\n",
              "      <td>48.150002</td>\n",
              "    </tr>\n",
              "    <tr>\n",
              "      <th>2015-01-08</th>\n",
              "      <td>48.509998</td>\n",
              "    </tr>\n",
              "  </tbody>\n",
              "</table>\n",
              "</div>\n",
              "      <button class=\"colab-df-convert\" onclick=\"convertToInteractive('df-c98c1c8f-42c8-4e9e-b37c-5c24d38966e9')\"\n",
              "              title=\"Convert this dataframe to an interactive table.\"\n",
              "              style=\"display:none;\">\n",
              "        \n",
              "  <svg xmlns=\"http://www.w3.org/2000/svg\" height=\"24px\"viewBox=\"0 0 24 24\"\n",
              "       width=\"24px\">\n",
              "    <path d=\"M0 0h24v24H0V0z\" fill=\"none\"/>\n",
              "    <path d=\"M18.56 5.44l.94 2.06.94-2.06 2.06-.94-2.06-.94-.94-2.06-.94 2.06-2.06.94zm-11 1L8.5 8.5l.94-2.06 2.06-.94-2.06-.94L8.5 2.5l-.94 2.06-2.06.94zm10 10l.94 2.06.94-2.06 2.06-.94-2.06-.94-.94-2.06-.94 2.06-2.06.94z\"/><path d=\"M17.41 7.96l-1.37-1.37c-.4-.4-.92-.59-1.43-.59-.52 0-1.04.2-1.43.59L10.3 9.45l-7.72 7.72c-.78.78-.78 2.05 0 2.83L4 21.41c.39.39.9.59 1.41.59.51 0 1.02-.2 1.41-.59l7.78-7.78 2.81-2.81c.8-.78.8-2.07 0-2.86zM5.41 20L4 18.59l7.72-7.72 1.47 1.35L5.41 20z\"/>\n",
              "  </svg>\n",
              "      </button>\n",
              "      \n",
              "  <style>\n",
              "    .colab-df-container {\n",
              "      display:flex;\n",
              "      flex-wrap:wrap;\n",
              "      gap: 12px;\n",
              "    }\n",
              "\n",
              "    .colab-df-convert {\n",
              "      background-color: #E8F0FE;\n",
              "      border: none;\n",
              "      border-radius: 50%;\n",
              "      cursor: pointer;\n",
              "      display: none;\n",
              "      fill: #1967D2;\n",
              "      height: 32px;\n",
              "      padding: 0 0 0 0;\n",
              "      width: 32px;\n",
              "    }\n",
              "\n",
              "    .colab-df-convert:hover {\n",
              "      background-color: #E2EBFA;\n",
              "      box-shadow: 0px 1px 2px rgba(60, 64, 67, 0.3), 0px 1px 3px 1px rgba(60, 64, 67, 0.15);\n",
              "      fill: #174EA6;\n",
              "    }\n",
              "\n",
              "    [theme=dark] .colab-df-convert {\n",
              "      background-color: #3B4455;\n",
              "      fill: #D2E3FC;\n",
              "    }\n",
              "\n",
              "    [theme=dark] .colab-df-convert:hover {\n",
              "      background-color: #434B5C;\n",
              "      box-shadow: 0px 1px 3px 1px rgba(0, 0, 0, 0.15);\n",
              "      filter: drop-shadow(0px 1px 2px rgba(0, 0, 0, 0.3));\n",
              "      fill: #FFFFFF;\n",
              "    }\n",
              "  </style>\n",
              "\n",
              "      <script>\n",
              "        const buttonEl =\n",
              "          document.querySelector('#df-c98c1c8f-42c8-4e9e-b37c-5c24d38966e9 button.colab-df-convert');\n",
              "        buttonEl.style.display =\n",
              "          google.colab.kernel.accessAllowed ? 'block' : 'none';\n",
              "\n",
              "        async function convertToInteractive(key) {\n",
              "          const element = document.querySelector('#df-c98c1c8f-42c8-4e9e-b37c-5c24d38966e9');\n",
              "          const dataTable =\n",
              "            await google.colab.kernel.invokeFunction('convertToInteractive',\n",
              "                                                     [key], {});\n",
              "          if (!dataTable) return;\n",
              "\n",
              "          const docLinkHtml = 'Like what you see? Visit the ' +\n",
              "            '<a target=\"_blank\" href=https://colab.research.google.com/notebooks/data_table.ipynb>data table notebook</a>'\n",
              "            + ' to learn more about interactive tables.';\n",
              "          element.innerHTML = '';\n",
              "          dataTable['output_type'] = 'display_data';\n",
              "          await google.colab.output.renderOutput(dataTable, element);\n",
              "          const docLink = document.createElement('div');\n",
              "          docLink.innerHTML = docLinkHtml;\n",
              "          element.appendChild(docLink);\n",
              "        }\n",
              "      </script>\n",
              "    </div>\n",
              "  </div>\n",
              "  "
            ],
            "text/plain": [
              "                 BOVA\n",
              "Date                 \n",
              "2015-01-02  47.259998\n",
              "2015-01-05  46.320000\n",
              "2015-01-06  46.580002\n",
              "2015-01-07  48.150002\n",
              "2015-01-08  48.509998"
            ]
          },
          "metadata": {},
          "execution_count": 4
        }
      ]
    },
    {
      "cell_type": "code",
      "source": [
        "serie_temporal = data['BOVA']\n",
        "serie_temporal"
      ],
      "metadata": {
        "colab": {
          "base_uri": "https://localhost:8080/"
        },
        "id": "Elcaiqa-9wFq",
        "outputId": "cd57d90a-b7fe-418a-fe71-a66d81098d98"
      },
      "execution_count": 5,
      "outputs": [
        {
          "output_type": "execute_result",
          "data": {
            "text/plain": [
              "Date\n",
              "2015-01-02    47.259998\n",
              "2015-01-05    46.320000\n",
              "2015-01-06    46.580002\n",
              "2015-01-07    48.150002\n",
              "2015-01-08    48.509998\n",
              "                ...    \n",
              "2020-10-27    95.800003\n",
              "2020-10-28    92.430000\n",
              "2020-10-29    92.910004\n",
              "2020-10-30    90.660004\n",
              "2020-11-03    92.410004\n",
              "Name: BOVA, Length: 1446, dtype: float64"
            ]
          },
          "metadata": {},
          "execution_count": 5
        }
      ]
    },
    {
      "cell_type": "code",
      "source": [
        "serie_temporal[0] , serie_temporal[1]"
      ],
      "metadata": {
        "colab": {
          "base_uri": "https://localhost:8080/"
        },
        "id": "tRU43a1u-Nhp",
        "outputId": "ade4eee3-3ad2-47ae-ce6a-20d5dab44a4e"
      },
      "execution_count": 6,
      "outputs": [
        {
          "output_type": "execute_result",
          "data": {
            "text/plain": [
              "(47.2599983215332, 46.31999969482422)"
            ]
          },
          "metadata": {},
          "execution_count": 6
        }
      ]
    },
    {
      "cell_type": "code",
      "source": [
        "serie_temporal['2015-01-08']"
      ],
      "metadata": {
        "colab": {
          "base_uri": "https://localhost:8080/"
        },
        "id": "QVqCLuNc-atO",
        "outputId": "6a677cb1-8318-4698-e62b-109bd3f1870a"
      },
      "execution_count": 7,
      "outputs": [
        {
          "output_type": "execute_result",
          "data": {
            "text/plain": [
              "48.5099983215332"
            ]
          },
          "metadata": {},
          "execution_count": 7
        }
      ]
    },
    {
      "cell_type": "code",
      "source": [
        "serie_temporal['2015-01-01':'2015-01-31'] #intervalos"
      ],
      "metadata": {
        "colab": {
          "base_uri": "https://localhost:8080/"
        },
        "id": "MFcyFEd_BOe3",
        "outputId": "3edf52d1-5ab2-4cfb-95cf-2aab4ac2454a"
      },
      "execution_count": 8,
      "outputs": [
        {
          "output_type": "execute_result",
          "data": {
            "text/plain": [
              "Date\n",
              "2015-01-02    47.259998\n",
              "2015-01-05    46.320000\n",
              "2015-01-06    46.580002\n",
              "2015-01-07    48.150002\n",
              "2015-01-08    48.509998\n",
              "2015-01-09    47.529999\n",
              "2015-01-12    46.830002\n",
              "2015-01-13    46.639999\n",
              "2015-01-14    46.480000\n",
              "2015-01-15    47.000000\n",
              "2015-01-16    47.599998\n",
              "2015-01-19    46.310001\n",
              "2015-01-20    46.520000\n",
              "2015-01-21    47.810001\n",
              "2015-01-22    48.119999\n",
              "2015-01-23    47.299999\n",
              "2015-01-26    47.189999\n",
              "2015-01-27    47.340000\n",
              "2015-01-28    46.330002\n",
              "2015-01-29    46.380001\n",
              "2015-01-30    45.610001\n",
              "Name: BOVA, dtype: float64"
            ]
          },
          "metadata": {},
          "execution_count": 8
        }
      ]
    },
    {
      "cell_type": "code",
      "source": [
        "serie_temporal['2016']"
      ],
      "metadata": {
        "colab": {
          "base_uri": "https://localhost:8080/"
        },
        "id": "iKvC4FdQBiq2",
        "outputId": "906cb6a5-f481-4e02-ec12-36cea819e3f4"
      },
      "execution_count": 9,
      "outputs": [
        {
          "output_type": "execute_result",
          "data": {
            "text/plain": [
              "Date\n",
              "2016-01-04    41.099998\n",
              "2016-01-05    41.180000\n",
              "2016-01-06    40.500000\n",
              "2016-01-07    39.470001\n",
              "2016-01-08    39.340000\n",
              "                ...    \n",
              "2016-12-23    56.360001\n",
              "2016-12-26    56.959999\n",
              "2016-12-27    56.810001\n",
              "2016-12-28    57.840000\n",
              "2016-12-29    58.240002\n",
              "Name: BOVA, Length: 249, dtype: float64"
            ]
          },
          "metadata": {},
          "execution_count": 9
        }
      ]
    },
    {
      "cell_type": "code",
      "source": [
        "serie_temporal.index.max() #index pq colocamos a data como index no começo"
      ],
      "metadata": {
        "colab": {
          "base_uri": "https://localhost:8080/"
        },
        "id": "GB37ru8IB-W2",
        "outputId": "558b8e3c-418c-4e3f-8363-568e3c2fcfed"
      },
      "execution_count": 10,
      "outputs": [
        {
          "output_type": "execute_result",
          "data": {
            "text/plain": [
              "Timestamp('2020-11-03 00:00:00')"
            ]
          },
          "metadata": {},
          "execution_count": 10
        }
      ]
    },
    {
      "cell_type": "code",
      "source": [
        "serie_temporal.index.min()"
      ],
      "metadata": {
        "colab": {
          "base_uri": "https://localhost:8080/"
        },
        "id": "qYrpUHdMCJMB",
        "outputId": "fff3750c-f37c-42db-e441-c681fc0d3b97"
      },
      "execution_count": 11,
      "outputs": [
        {
          "output_type": "execute_result",
          "data": {
            "text/plain": [
              "Timestamp('2015-01-02 00:00:00')"
            ]
          },
          "metadata": {},
          "execution_count": 11
        }
      ]
    },
    {
      "cell_type": "code",
      "source": [
        "plt.plot(serie_temporal);"
      ],
      "metadata": {
        "colab": {
          "base_uri": "https://localhost:8080/",
          "height": 265
        },
        "id": "gYI4uvitCVbc",
        "outputId": "af50f2a4-0eee-4277-d75f-29ace2ee1236"
      },
      "execution_count": 12,
      "outputs": [
        {
          "output_type": "display_data",
          "data": {
            "image/png": "[encoded data removed]",
            "text/plain": [
              "<Figure size 432x288 with 1 Axes>"
            ]
          },
          "metadata": {
            "needs_background": "light"
          }
        }
      ]
    },
    {
      "cell_type": "code",
      "source": [
        "figura = px.line(title='Historico dos preços das ações')\n",
        "figura.add_scatter( x = serie_temporal.index, y = serie_temporal)"
      ],
      "metadata": {
        "colab": {
          "base_uri": "https://localhost:8080/",
          "height": 542
        },
        "id": "ZcO9Yd8mCksh",
        "outputId": "44bdc5fe-b3bd-4e37-cdc7-5aed75844c92"
      },
      "execution_count": 13,
      "outputs": [
        {
          "output_type": "display_data",
          "data": {
            "text/html": [
              "<html>\n",
              "<head><meta charset=\"utf-8\" /></head>\n",
              "<body>\n",
              "    <div>            <script src=\"https://cdnjs.cloudflare.com/ajax/libs/mathjax/2.7.5/MathJax.js?config=TeX-AMS-MML_SVG\"></script><script type=\"text/javascript\">if (window.MathJax) {MathJax.Hub.Config({SVG: {font: \"STIX-Web\"}});}</script>                <script type=\"text/javascript\">window.PlotlyConfig = {MathJaxConfig: 'local'};</script>\n",
              "        <script src=\"https://cdn.plot.ly/plotly-2.8.3.min.js\"></script>                <div id=\"0d3606b3-3169-46a2-a772-16c499a474b3\" class=\"plotly-graph-div\" style=\"height:525px; width:100%;\"></div>            <script type=\"text/javascript\">                                    window.PLOTLYENV=window.PLOTLYENV || {};                                    if (document.getElementById(\"0d3606b3-3169-46a2-a772-16c499a474b3\")) {                    Plotly.newPlot(                        \"0d3606b3-3169-46a2-a772-16c499a474b3\",                        [{\"x\":[\"2015-01-02T00:00:00\",\"2015-01-05T00:00:00\",\"2015-01-06T00:00:00\",\"2015-01-07T00:00:00\",\"2015-01-08T00:00:00\",\"2015-01-09T00:00:00\",\"2015-01-12T00:00:00\",\"2015-01-13T00:00:00\",\"2015-01-14T00:00:00\",\"2015-01-15T00:00:00\",\"2015-01-16T00:00:00\",\"2015-01-19T00:00:00\",\"2015-01-20T00:00:00\",\"2015-01-21T00:00:00\",\"2015-01-22T00:00:00\",\"2015-01-23T00:00:00\",\"2015-01-26T00:00:00\",\"2015-01-27T00:00:00\",\"2015-01-28T00:00:00\",\"2015-01-29T00:00:00\",\"2015-01-30T00:00:00\",\"2015-02-02T00:00:00\",\"2015-02-03T00:00:00\",\"2015-02-04T00:00:00\",\"2015-02-05T00:00:00\",\"2015-02-06T00:00:00\",\"2015-02-09T00:00:00\",\"2015-02-10T00:00:00\",\"2015-02-11T00:00:00\",\"2015-02-12T00:00:00\",\"2015-02-13T00:00:00\",\"2015-02-18T00:00:00\",\"2015-02-19T00:00:00\",\"2015-02-20T00:00:00\",\"2015-02-23T00:00:00\",\"2015-02-24T00:00:00\",\"2015-02-25T00:00:00\",\"2015-02-26T00:00:00\",\"2015-02-27T00:00:00\",\"2015-03-02T00:00:00\",\"2015-03-03T00:00:00\",\"2015-03-04T00:00:00\",\"2015-03-05T00:00:00\",\"2015-03-06T00:00:00\",\"2015-03-09T00:00:00\",\"2015-03-10T00:00:00\",\"2015-03-11T00:00:00\",\"2015-03-12T00:00:00\",\"2015-03-13T00:00:00\",\"2015-03-16T00:00:00\",\"2015-03-17T00:00:00\",\"2015-03-18T00:00:00\",\"2015-03-19T00:00:00\",\"2015-03-20T00:00:00\",\"2015-03-23T00:00:00\",\"2015-03-24T00:00:00\",\"2015-03-25T00:00:00\",\"2015-03-26T00:00:00\",\"2015-03-27T00:00:00\",\"2015-03-30T00:00:00\",\"2015-03-31T00:00:00\",\"2015-04-01T00:00:00\",\"2015-04-02T00:00:00\",\"2015-04-06T00:00:00\",\"2015-04-07T00:00:00\",\"2015-04-08T00:00:00\",\"2015-04-09T00:00:00\",\"2015-04-10T00:00:00\",\"2015-04-13T00:00:00\",\"2015-04-14T00:00:00\",\"2015-04-15T00:00:00\",\"2015-04-16T00:00:00\",\"2015-04-17T00:00:00\",\"2015-04-20T00:00:00\",\"2015-04-22T00:00:00\",\"2015-04-23T00:00:00\",\"2015-04-24T00:00:00\",\"2015-04-27T00:00:00\",\"2015-04-28T00:00:00\",\"2015-04-29T00:00:00\",\"2015-04-30T00:00:00\",\"2015-05-04T00:00:00\",\"2015-05-05T00:00:00\",\"2015-05-06T00:00:00\",\"2015-05-07T00:00:00\",\"2015-05-08T00:00:00\",\"2015-05-11T00:00:00\",\"2015-05-12T00:00:00\",\"2015-05-13T00:00:00\",\"2015-05-14T00:00:00\",\"2015-05-15T00:00:00\",\"2015-05-18T00:00:00\",\"2015-05-19T00:00:00\",\"2015-05-20T00:00:00\",\"2015-05-21T00:00:00\",\"2015-05-22T00:00:00\",\"2015-05-25T00:00:00\",\"2015-05-26T00:00:00\",\"2015-05-27T00:00:00\",\"2015-05-28T00:00:00\",\"2015-05-29T00:00:00\",\"2015-06-01T00:00:00\",\"2015-06-02T00:00:00\",\"2015-06-03T00:00:00\",\"2015-06-05T00:00:00\",\"2015-06-08T00:00:00\",\"2015-06-09T00:00:00\",\"2015-06-10T00:00:00\",\"2015-06-11T00:00:00\",\"2015-06-12T00:00:00\",\"2015-06-15T00:00:00\",\"2015-06-16T00:00:00\",\"2015-06-17T00:00:00\",\"2015-06-18T00:00:00\",\"2015-06-19T00:00:00\",\"2015-06-22T00:00:00\",\"2015-06-23T00:00:00\",\"2015-06-24T00:00:00\",\"2015-06-25T00:00:00\",\"2015-06-26T00:00:00\",\"2015-06-29T00:00:00\",\"2015-06-30T00:00:00\",\"2015-07-01T00:00:00\",\"2015-07-02T00:00:00\",\"2015-07-03T00:00:00\",\"2015-07-06T00:00:00\",\"2015-07-07T00:00:00\",\"2015-07-08T00:00:00\",\"2015-07-10T00:00:00\",\"2015-07-13T00:00:00\",\"2015-07-14T00:00:00\",\"2015-07-15T00:00:00\",\"2015-07-16T00:00:00\",\"2015-07-17T00:00:00\",\"2015-07-20T00:00:00\",\"2015-07-21T00:00:00\",\"2015-07-22T00:00:00\",\"2015-07-23T00:00:00\",\"2015-07-24T00:00:00\",\"2015-07-27T00:00:00\",\"2015-07-28T00:00:00\",\"2015-07-29T00:00:00\",\"2015-07-30T00:00:00\",\"2015-07-31T00:00:00\",\"2015-08-03T00:00:00\",\"2015-08-04T00:00:00\",\"2015-08-05T00:00:00\",\"2015-08-06T00:00:00\",\"2015-08-07T00:00:00\",\"2015-08-10T00:00:00\",\"2015-08-11T00:00:00\",\"2015-08-12T00:00:00\",\"2015-08-13T00:00:00\",\"2015-08-14T00:00:00\",\"2015-08-17T00:00:00\",\"2015-08-18T00:00:00\",\"2015-08-19T00:00:00\",\"2015-08-20T00:00:00\",\"2015-08-21T00:00:00\",\"2015-08-24T00:00:00\",\"2015-08-25T00:00:00\",\"2015-08-26T00:00:00\",\"2015-08-27T00:00:00\",\"2015-08-28T00:00:00\",\"2015-08-31T00:00:00\",\"2015-09-01T00:00:00\",\"2015-09-02T00:00:00\",\"2015-09-03T00:00:00\",\"2015-09-04T00:00:00\",\"2015-09-08T00:00:00\",\"2015-09-09T00:00:00\",\"2015-09-10T00:00:00\",\"2015-09-11T00:00:00\",\"2015-09-14T00:00:00\",\"2015-09-15T00:00:00\",\"2015-09-16T00:00:00\",\"2015-09-17T00:00:00\",\"2015-09-18T00:00:00\",\"2015-09-21T00:00:00\",\"2015-09-22T00:00:00\",\"2015-09-23T00:00:00\",\"2015-09-24T00:00:00\",\"2015-09-25T00:00:00\",\"2015-09-28T00:00:00\",\"2015-09-29T00:00:00\",\"2015-09-30T00:00:00\",\"2015-10-01T00:00:00\",\"2015-10-02T00:00:00\",\"2015-10-05T00:00:00\",\"2015-10-06T00:00:00\",\"2015-10-07T00:00:00\",\"2015-10-08T00:00:00\",\"2015-10-09T00:00:00\",\"2015-10-13T00:00:00\",\"2015-10-14T00:00:00\",\"2015-10-15T00:00:00\",\"2015-10-16T00:00:00\",\"2015-10-19T00:00:00\",\"2015-10-20T00:00:00\",\"2015-10-21T00:00:00\",\"2015-10-22T00:00:00\",\"2015-10-23T00:00:00\",\"2015-10-26T00:00:00\",\"2015-10-27T00:00:00\",\"2015-10-28T00:00:00\",\"2015-10-29T00:00:00\",\"2015-10-30T00:00:00\",\"2015-11-03T00:00:00\",\"2015-11-04T00:00:00\",\"2015-11-05T00:00:00\",\"2015-11-06T00:00:00\",\"2015-11-09T00:00:00\",\"2015-11-10T00:00:00\",\"2015-11-11T00:00:00\",\"2015-11-12T00:00:00\",\"2015-11-13T00:00:00\",\"2015-11-16T00:00:00\",\"2015-11-17T00:00:00\",\"2015-11-18T00:00:00\",\"2015-11-19T00:00:00\",\"2015-11-23T00:00:00\",\"2015-11-24T00:00:00\",\"2015-11-25T00:00:00\",\"2015-11-26T00:00:00\",\"2015-11-27T00:00:00\",\"2015-11-30T00:00:00\",\"2015-12-01T00:00:00\",\"2015-12-02T00:00:00\",\"2015-12-03T00:00:00\",\"2015-12-04T00:00:00\",\"2015-12-07T00:00:00\",\"2015-12-08T00:00:00\",\"2015-12-09T00:00:00\",\"2015-12-10T00:00:00\",\"2015-12-11T00:00:00\",\"2015-12-14T00:00:00\",\"2015-12-15T00:00:00\",\"2015-12-16T00:00:00\",\"2015-12-17T00:00:00\",\"2015-12-18T00:00:00\",\"2015-12-21T00:00:00\",\"2015-12-22T00:00:00\",\"2015-12-23T00:00:00\",\"2015-12-28T00:00:00\",\"2015-12-29T00:00:00\",\"2015-12-30T00:00:00\",\"2016-01-04T00:00:00\",\"2016-01-05T00:00:00\",\"2016-01-06T00:00:00\",\"2016-01-07T00:00:00\",\"2016-01-08T00:00:00\",\"2016-01-11T00:00:00\",\"2016-01-12T00:00:00\",\"2016-01-13T00:00:00\",\"2016-01-14T00:00:00\",\"2016-01-15T00:00:00\",\"2016-01-18T00:00:00\",\"2016-01-19T00:00:00\",\"2016-01-20T00:00:00\",\"2016-01-21T00:00:00\",\"2016-01-22T00:00:00\",\"2016-01-26T00:00:00\",\"2016-01-27T00:00:00\",\"2016-01-28T00:00:00\",\"2016-01-29T00:00:00\",\"2016-02-01T00:00:00\",\"2016-02-02T00:00:00\",\"2016-02-03T00:00:00\",\"2016-02-04T00:00:00\",\"2016-02-05T00:00:00\",\"2016-02-10T00:00:00\",\"2016-02-11T00:00:00\",\"2016-02-12T00:00:00\",\"2016-02-15T00:00:00\",\"2016-02-16T00:00:00\",\"2016-02-17T00:00:00\",\"2016-02-18T00:00:00\",\"2016-02-19T00:00:00\",\"2016-02-22T00:00:00\",\"2016-02-23T00:00:00\",\"2016-02-24T00:00:00\",\"2016-02-25T00:00:00\",\"2016-02-26T00:00:00\",\"2016-02-29T00:00:00\",\"2016-03-01T00:00:00\",\"2016-03-02T00:00:00\",\"2016-03-03T00:00:00\",\"2016-03-04T00:00:00\",\"2016-03-07T00:00:00\",\"2016-03-08T00:00:00\",\"2016-03-09T00:00:00\",\"2016-03-10T00:00:00\",\"2016-03-11T00:00:00\",\"2016-03-14T00:00:00\",\"2016-03-15T00:00:00\",\"2016-03-16T00:00:00\",\"2016-03-17T00:00:00\",\"2016-03-18T00:00:00\",\"2016-03-21T00:00:00\",\"2016-03-22T00:00:00\",\"2016-03-23T00:00:00\",\"2016-03-24T00:00:00\",\"2016-03-28T00:00:00\",\"2016-03-29T00:00:00\",\"2016-03-30T00:00:00\",\"2016-03-31T00:00:00\",\"2016-04-01T00:00:00\",\"2016-04-04T00:00:00\",\"2016-04-05T00:00:00\",\"2016-04-06T00:00:00\",\"2016-04-07T00:00:00\",\"2016-04-08T00:00:00\",\"2016-04-11T00:00:00\",\"2016-04-12T00:00:00\",\"2016-04-13T00:00:00\",\"2016-04-14T00:00:00\",\"2016-04-15T00:00:00\",\"2016-04-18T00:00:00\",\"2016-04-19T00:00:00\",\"2016-04-20T00:00:00\",\"2016-04-22T00:00:00\",\"2016-04-25T00:00:00\",\"2016-04-26T00:00:00\",\"2016-04-27T00:00:00\",\"2016-04-28T00:00:00\",\"2016-04-29T00:00:00\",\"2016-05-02T00:00:00\",\"2016-05-03T00:00:00\",\"2016-05-04T00:00:00\",\"2016-05-05T00:00:00\",\"2016-05-06T00:00:00\",\"2016-05-09T00:00:00\",\"2016-05-10T00:00:00\",\"2016-05-11T00:00:00\",\"2016-05-12T00:00:00\",\"2016-05-13T00:00:00\",\"2016-05-16T00:00:00\",\"2016-05-17T00:00:00\",\"2016-05-18T00:00:00\",\"2016-05-19T00:00:00\",\"2016-05-20T00:00:00\",\"2016-05-23T00:00:00\",\"2016-05-24T00:00:00\",\"2016-05-25T00:00:00\",\"2016-05-27T00:00:00\",\"2016-05-30T00:00:00\",\"2016-05-31T00:00:00\",\"2016-06-01T00:00:00\",\"2016-06-02T00:00:00\",\"2016-06-03T00:00:00\",\"2016-06-06T00:00:00\",\"2016-06-07T00:00:00\",\"2016-06-08T00:00:00\",\"2016-06-09T00:00:00\",\"2016-06-10T00:00:00\",\"2016-06-13T00:00:00\",\"2016-06-14T00:00:00\",\"2016-06-15T00:00:00\",\"2016-06-16T00:00:00\",\"2016-06-17T00:00:00\",\"2016-06-20T00:00:00\",\"2016-06-21T00:00:00\",\"2016-06-22T00:00:00\",\"2016-06-23T00:00:00\",\"2016-06-24T00:00:00\",\"2016-06-27T00:00:00\",\"2016-06-28T00:00:00\",\"2016-06-29T00:00:00\",\"2016-06-30T00:00:00\",\"2016-07-01T00:00:00\",\"2016-07-04T00:00:00\",\"2016-07-05T00:00:00\",\"2016-07-06T00:00:00\",\"2016-07-07T00:00:00\",\"2016-07-08T00:00:00\",\"2016-07-11T00:00:00\",\"2016-07-12T00:00:00\",\"2016-07-13T00:00:00\",\"2016-07-14T00:00:00\",\"2016-07-15T00:00:00\",\"2016-07-18T00:00:00\",\"2016-07-19T00:00:00\",\"2016-07-20T00:00:00\",\"2016-07-21T00:00:00\",\"2016-07-22T00:00:00\",\"2016-07-25T00:00:00\",\"2016-07-26T00:00:00\",\"2016-07-27T00:00:00\",\"2016-07-28T00:00:00\",\"2016-07-29T00:00:00\",\"2016-08-01T00:00:00\",\"2016-08-02T00:00:00\",\"2016-08-03T00:00:00\",\"2016-08-04T00:00:00\",\"2016-08-05T00:00:00\",\"2016-08-08T00:00:00\",\"2016-08-09T00:00:00\",\"2016-08-10T00:00:00\",\"2016-08-11T00:00:00\",\"2016-08-12T00:00:00\",\"2016-08-15T00:00:00\",\"2016-08-16T00:00:00\",\"2016-08-17T00:00:00\",\"2016-08-18T00:00:00\",\"2016-08-19T00:00:00\",\"2016-08-22T00:00:00\",\"2016-08-23T00:00:00\",\"2016-08-24T00:00:00\",\"2016-08-25T00:00:00\",\"2016-08-26T00:00:00\",\"2016-08-29T00:00:00\",\"2016-08-30T00:00:00\",\"2016-08-31T00:00:00\",\"2016-09-01T00:00:00\",\"2016-09-02T00:00:00\",\"2016-09-05T00:00:00\",\"2016-09-06T00:00:00\",\"2016-09-08T00:00:00\",\"2016-09-09T00:00:00\",\"2016-09-12T00:00:00\",\"2016-09-13T00:00:00\",\"2016-09-14T00:00:00\",\"2016-09-15T00:00:00\",\"2016-09-16T00:00:00\",\"2016-09-19T00:00:00\",\"2016-09-20T00:00:00\",\"2016-09-21T00:00:00\",\"2016-09-22T00:00:00\",\"2016-09-23T00:00:00\",\"2016-09-26T00:00:00\",\"2016-09-27T00:00:00\",\"2016-09-28T00:00:00\",\"2016-09-29T00:00:00\",\"2016-09-30T00:00:00\",\"2016-10-03T00:00:00\",\"2016-10-04T00:00:00\",\"2016-10-05T00:00:00\",\"2016-10-06T00:00:00\",\"2016-10-07T00:00:00\",\"2016-10-10T00:00:00\",\"2016-10-11T00:00:00\",\"2016-10-13T00:00:00\",\"2016-10-14T00:00:00\",\"2016-10-17T00:00:00\",\"2016-10-18T00:00:00\",\"2016-10-19T00:00:00\",\"2016-10-20T00:00:00\",\"2016-10-21T00:00:00\",\"2016-10-24T00:00:00\",\"2016-10-25T00:00:00\",\"2016-10-26T00:00:00\",\"2016-10-27T00:00:00\",\"2016-10-28T00:00:00\",\"2016-10-31T00:00:00\",\"2016-11-01T00:00:00\",\"2016-11-03T00:00:00\",\"2016-11-04T00:00:00\",\"2016-11-07T00:00:00\",\"2016-11-08T00:00:00\",\"2016-11-09T00:00:00\",\"2016-11-10T00:00:00\",\"2016-11-11T00:00:00\",\"2016-11-14T00:00:00\",\"2016-11-16T00:00:00\",\"2016-11-17T00:00:00\",\"2016-11-18T00:00:00\",\"2016-11-21T00:00:00\",\"2016-11-22T00:00:00\",\"2016-11-23T00:00:00\",\"2016-11-24T00:00:00\",\"2016-11-25T00:00:00\",\"2016-11-28T00:00:00\",\"2016-11-29T00:00:00\",\"2016-11-30T00:00:00\",\"2016-12-01T00:00:00\",\"2016-12-02T00:00:00\",\"2016-12-05T00:00:00\",\"2016-12-06T00:00:00\",\"2016-12-07T00:00:00\",\"2016-12-08T00:00:00\",\"2016-12-09T00:00:00\",\"2016-12-12T00:00:00\",\"2016-12-13T00:00:00\",\"2016-12-14T00:00:00\",\"2016-12-15T00:00:00\",\"2016-12-16T00:00:00\",\"2016-12-19T00:00:00\",\"2016-12-20T00:00:00\",\"2016-12-21T00:00:00\",\"2016-12-22T00:00:00\",\"2016-12-23T00:00:00\",\"2016-12-26T00:00:00\",\"2016-12-27T00:00:00\",\"2016-12-28T00:00:00\",\"2016-12-29T00:00:00\",\"2017-01-02T00:00:00\",\"2017-01-03T00:00:00\",\"2017-01-04T00:00:00\",\"2017-01-05T00:00:00\",\"2017-01-06T00:00:00\",\"2017-01-09T00:00:00\",\"2017-01-10T00:00:00\",\"2017-01-11T00:00:00\",\"2017-01-12T00:00:00\",\"2017-01-13T00:00:00\",\"2017-01-16T00:00:00\",\"2017-01-17T00:00:00\",\"2017-01-18T00:00:00\",\"2017-01-19T00:00:00\",\"2017-01-20T00:00:00\",\"2017-01-23T00:00:00\",\"2017-01-24T00:00:00\",\"2017-01-26T00:00:00\",\"2017-01-27T00:00:00\",\"2017-01-30T00:00:00\",\"2017-01-31T00:00:00\",\"2017-02-01T00:00:00\",\"2017-02-02T00:00:00\",\"2017-02-03T00:00:00\",\"2017-02-06T00:00:00\",\"2017-02-07T00:00:00\",\"2017-02-08T00:00:00\",\"2017-02-09T00:00:00\",\"2017-02-10T00:00:00\",\"2017-02-13T00:00:00\",\"2017-02-14T00:00:00\",\"2017-02-15T00:00:00\",\"2017-02-16T00:00:00\",\"2017-02-17T00:00:00\",\"2017-02-20T00:00:00\",\"2017-02-21T00:00:00\",\"2017-02-22T00:00:00\",\"2017-02-23T00:00:00\",\"2017-02-24T00:00:00\",\"2017-03-01T00:00:00\",\"2017-03-02T00:00:00\",\"2017-03-03T00:00:00\",\"2017-03-06T00:00:00\",\"2017-03-07T00:00:00\",\"2017-03-08T00:00:00\",\"2017-03-09T00:00:00\",\"2017-03-10T00:00:00\",\"2017-03-13T00:00:00\",\"2017-03-14T00:00:00\",\"2017-03-15T00:00:00\",\"2017-03-16T00:00:00\",\"2017-03-17T00:00:00\",\"2017-03-20T00:00:00\",\"2017-03-21T00:00:00\",\"2017-03-22T00:00:00\",\"2017-03-23T00:00:00\",\"2017-03-24T00:00:00\",\"2017-03-27T00:00:00\",\"2017-03-28T00:00:00\",\"2017-03-29T00:00:00\",\"2017-03-30T00:00:00\",\"2017-03-31T00:00:00\",\"2017-04-03T00:00:00\",\"2017-04-04T00:00:00\",\"2017-04-05T00:00:00\",\"2017-04-06T00:00:00\",\"2017-04-07T00:00:00\",\"2017-04-10T00:00:00\",\"2017-04-11T00:00:00\",\"2017-04-12T00:00:00\",\"2017-04-13T00:00:00\",\"2017-04-17T00:00:00\",\"2017-04-18T00:00:00\",\"2017-04-19T00:00:00\",\"2017-04-20T00:00:00\",\"2017-04-24T00:00:00\",\"2017-04-25T00:00:00\",\"2017-04-26T00:00:00\",\"2017-04-27T00:00:00\",\"2017-04-28T00:00:00\",\"2017-05-02T00:00:00\",\"2017-05-03T00:00:00\",\"2017-05-04T00:00:00\",\"2017-05-05T00:00:00\",\"2017-05-08T00:00:00\",\"2017-05-09T00:00:00\",\"2017-05-10T00:00:00\",\"2017-05-11T00:00:00\",\"2017-05-12T00:00:00\",\"2017-05-15T00:00:00\",\"2017-05-16T00:00:00\",\"2017-05-17T00:00:00\",\"2017-05-18T00:00:00\",\"2017-05-19T00:00:00\",\"2017-05-22T00:00:00\",\"2017-05-23T00:00:00\",\"2017-05-24T00:00:00\",\"2017-05-25T00:00:00\",\"2017-05-26T00:00:00\",\"2017-05-29T00:00:00\",\"2017-05-30T00:00:00\",\"2017-05-31T00:00:00\",\"2017-06-01T00:00:00\",\"2017-06-02T00:00:00\",\"2017-06-05T00:00:00\",\"2017-06-06T00:00:00\",\"2017-06-07T00:00:00\",\"2017-06-08T00:00:00\",\"2017-06-09T00:00:00\",\"2017-06-12T00:00:00\",\"2017-06-13T00:00:00\",\"2017-06-14T00:00:00\",\"2017-06-15T00:00:00\",\"2017-06-16T00:00:00\",\"2017-06-19T00:00:00\",\"2017-06-20T00:00:00\",\"2017-06-21T00:00:00\",\"2017-06-22T00:00:00\",\"2017-06-23T00:00:00\",\"2017-06-26T00:00:00\",\"2017-06-27T00:00:00\",\"2017-06-28T00:00:00\",\"2017-06-29T00:00:00\",\"2017-06-30T00:00:00\",\"2017-07-03T00:00:00\",\"2017-07-04T00:00:00\",\"2017-07-05T00:00:00\",\"2017-07-06T00:00:00\",\"2017-07-07T00:00:00\",\"2017-07-10T00:00:00\",\"2017-07-11T00:00:00\",\"2017-07-12T00:00:00\",\"2017-07-13T00:00:00\",\"2017-07-14T00:00:00\",\"2017-07-17T00:00:00\",\"2017-07-18T00:00:00\",\"2017-07-19T00:00:00\",\"2017-07-20T00:00:00\",\"2017-07-21T00:00:00\",\"2017-07-24T00:00:00\",\"2017-07-25T00:00:00\",\"2017-07-26T00:00:00\",\"2017-07-27T00:00:00\",\"2017-07-28T00:00:00\",\"2017-07-31T00:00:00\",\"2017-08-01T00:00:00\",\"2017-08-02T00:00:00\",\"2017-08-03T00:00:00\",\"2017-08-04T00:00:00\",\"2017-08-07T00:00:00\",\"2017-08-08T00:00:00\",\"2017-08-09T00:00:00\",\"2017-08-10T00:00:00\",\"2017-08-11T00:00:00\",\"2017-08-14T00:00:00\",\"2017-08-15T00:00:00\",\"2017-08-16T00:00:00\",\"2017-08-17T00:00:00\",\"2017-08-18T00:00:00\",\"2017-08-21T00:00:00\",\"2017-08-22T00:00:00\",\"2017-08-23T00:00:00\",\"2017-08-24T00:00:00\",\"2017-08-25T00:00:00\",\"2017-08-28T00:00:00\",\"2017-08-29T00:00:00\",\"2017-08-30T00:00:00\",\"2017-08-31T00:00:00\",\"2017-09-01T00:00:00\",\"2017-09-04T00:00:00\",\"2017-09-05T00:00:00\",\"2017-09-06T00:00:00\",\"2017-09-07T00:00:00\",\"2017-09-08T00:00:00\",\"2017-09-11T00:00:00\",\"2017-09-12T00:00:00\",\"2017-09-13T00:00:00\",\"2017-09-14T00:00:00\",\"2017-09-15T00:00:00\",\"2017-09-18T00:00:00\",\"2017-09-19T00:00:00\",\"2017-09-20T00:00:00\",\"2017-09-21T00:00:00\",\"2017-09-22T00:00:00\",\"2017-09-25T00:00:00\",\"2017-09-26T00:00:00\",\"2017-09-27T00:00:00\",\"2017-09-28T00:00:00\",\"2017-09-29T00:00:00\",\"2017-10-02T00:00:00\",\"2017-10-03T00:00:00\",\"2017-10-04T00:00:00\",\"2017-10-05T00:00:00\",\"2017-10-06T00:00:00\",\"2017-10-09T00:00:00\",\"2017-10-10T00:00:00\",\"2017-10-11T00:00:00\",\"2017-10-12T00:00:00\",\"2017-10-13T00:00:00\",\"2017-10-16T00:00:00\",\"2017-10-17T00:00:00\",\"2017-10-18T00:00:00\",\"2017-10-19T00:00:00\",\"2017-10-20T00:00:00\",\"2017-10-23T00:00:00\",\"2017-10-24T00:00:00\",\"2017-10-25T00:00:00\",\"2017-10-26T00:00:00\",\"2017-10-27T00:00:00\",\"2017-10-30T00:00:00\",\"2017-10-31T00:00:00\",\"2017-11-01T00:00:00\",\"2017-11-02T00:00:00\",\"2017-11-03T00:00:00\",\"2017-11-06T00:00:00\",\"2017-11-07T00:00:00\",\"2017-11-08T00:00:00\",\"2017-11-09T00:00:00\",\"2017-11-10T00:00:00\",\"2017-11-13T00:00:00\",\"2017-11-14T00:00:00\",\"2017-11-15T00:00:00\",\"2017-11-16T00:00:00\",\"2017-11-17T00:00:00\",\"2017-11-20T00:00:00\",\"2017-11-21T00:00:00\",\"2017-11-22T00:00:00\",\"2017-11-23T00:00:00\",\"2017-11-24T00:00:00\",\"2017-11-27T00:00:00\",\"2017-11-28T00:00:00\",\"2017-11-29T00:00:00\",\"2017-11-30T00:00:00\",\"2017-12-01T00:00:00\",\"2017-12-04T00:00:00\",\"2017-12-05T00:00:00\",\"2017-12-06T00:00:00\",\"2017-12-07T00:00:00\",\"2017-12-08T00:00:00\",\"2017-12-11T00:00:00\",\"2017-12-12T00:00:00\",\"2017-12-13T00:00:00\",\"2017-12-14T00:00:00\",\"2017-12-15T00:00:00\",\"2017-12-18T00:00:00\",\"2017-12-19T00:00:00\",\"2017-12-20T00:00:00\",\"2017-12-21T00:00:00\",\"2017-12-22T00:00:00\",\"2017-12-25T00:00:00\",\"2017-12-26T00:00:00\",\"2017-12-27T00:00:00\",\"2017-12-28T00:00:00\",\"2017-12-29T00:00:00\",\"2018-01-02T00:00:00\",\"2018-01-03T00:00:00\",\"2018-01-04T00:00:00\",\"2018-01-05T00:00:00\",\"2018-01-08T00:00:00\",\"2018-01-09T00:00:00\",\"2018-01-10T00:00:00\",\"2018-01-11T00:00:00\",\"2018-01-12T00:00:00\",\"2018-01-15T00:00:00\",\"2018-01-16T00:00:00\",\"2018-01-17T00:00:00\",\"2018-01-18T00:00:00\",\"2018-01-19T00:00:00\",\"2018-01-22T00:00:00\",\"2018-01-23T00:00:00\",\"2018-01-24T00:00:00\",\"2018-01-25T00:00:00\",\"2018-01-26T00:00:00\",\"2018-01-29T00:00:00\",\"2018-01-30T00:00:00\",\"2018-01-31T00:00:00\",\"2018-02-01T00:00:00\",\"2018-02-02T00:00:00\",\"2018-02-05T00:00:00\",\"2018-02-06T00:00:00\",\"2018-02-07T00:00:00\",\"2018-02-08T00:00:00\",\"2018-02-09T00:00:00\",\"2018-02-15T00:00:00\",\"2018-02-16T00:00:00\",\"2018-02-19T00:00:00\",\"2018-02-20T00:00:00\",\"2018-02-21T00:00:00\",\"2018-02-22T00:00:00\",\"2018-02-23T00:00:00\",\"2018-02-26T00:00:00\",\"2018-02-27T00:00:00\",\"2018-02-28T00:00:00\",\"2018-03-01T00:00:00\",\"2018-03-02T00:00:00\",\"2018-03-05T00:00:00\",\"2018-03-06T00:00:00\",\"2018-03-07T00:00:00\",\"2018-03-08T00:00:00\",\"2018-03-09T00:00:00\",\"2018-03-12T00:00:00\",\"2018-03-13T00:00:00\",\"2018-03-14T00:00:00\",\"2018-03-15T00:00:00\",\"2018-03-16T00:00:00\",\"2018-03-19T00:00:00\",\"2018-03-20T00:00:00\",\"2018-03-21T00:00:00\",\"2018-03-22T00:00:00\",\"2018-03-23T00:00:00\",\"2018-03-26T00:00:00\",\"2018-03-27T00:00:00\",\"2018-03-28T00:00:00\",\"2018-03-29T00:00:00\",\"2018-04-02T00:00:00\",\"2018-04-03T00:00:00\",\"2018-04-04T00:00:00\",\"2018-04-05T00:00:00\",\"2018-04-06T00:00:00\",\"2018-04-09T00:00:00\",\"2018-04-10T00:00:00\",\"2018-04-11T00:00:00\",\"2018-04-12T00:00:00\",\"2018-04-13T00:00:00\",\"2018-04-16T00:00:00\",\"2018-04-17T00:00:00\",\"2018-04-18T00:00:00\",\"2018-04-19T00:00:00\",\"2018-04-20T00:00:00\",\"2018-04-23T00:00:00\",\"2018-04-24T00:00:00\",\"2018-04-25T00:00:00\",\"2018-04-26T00:00:00\",\"2018-04-27T00:00:00\",\"2018-04-30T00:00:00\",\"2018-05-02T00:00:00\",\"2018-05-03T00:00:00\",\"2018-05-04T00:00:00\",\"2018-05-07T00:00:00\",\"2018-05-08T00:00:00\",\"2018-05-09T00:00:00\",\"2018-05-10T00:00:00\",\"2018-05-11T00:00:00\",\"2018-05-14T00:00:00\",\"2018-05-15T00:00:00\",\"2018-05-16T00:00:00\",\"2018-05-17T00:00:00\",\"2018-05-18T00:00:00\",\"2018-05-21T00:00:00\",\"2018-05-22T00:00:00\",\"2018-05-23T00:00:00\",\"2018-05-24T00:00:00\",\"2018-05-25T00:00:00\",\"2018-05-28T00:00:00\",\"2018-05-29T00:00:00\",\"2018-05-30T00:00:00\",\"2018-06-01T00:00:00\",\"2018-06-04T00:00:00\",\"2018-06-05T00:00:00\",\"2018-06-06T00:00:00\",\"2018-06-07T00:00:00\",\"2018-06-08T00:00:00\",\"2018-06-11T00:00:00\",\"2018-06-12T00:00:00\",\"2018-06-13T00:00:00\",\"2018-06-14T00:00:00\",\"2018-06-15T00:00:00\",\"2018-06-18T00:00:00\",\"2018-06-19T00:00:00\",\"2018-06-20T00:00:00\",\"2018-06-21T00:00:00\",\"2018-06-22T00:00:00\",\"2018-06-25T00:00:00\",\"2018-06-26T00:00:00\",\"2018-06-27T00:00:00\",\"2018-06-28T00:00:00\",\"2018-06-29T00:00:00\",\"2018-07-02T00:00:00\",\"2018-07-03T00:00:00\",\"2018-07-04T00:00:00\",\"2018-07-05T00:00:00\",\"2018-07-06T00:00:00\",\"2018-07-10T00:00:00\",\"2018-07-11T00:00:00\",\"2018-07-12T00:00:00\",\"2018-07-13T00:00:00\",\"2018-07-16T00:00:00\",\"2018-07-17T00:00:00\",\"2018-07-18T00:00:00\",\"2018-07-19T00:00:00\",\"2018-07-20T00:00:00\",\"2018-07-23T00:00:00\",\"2018-07-24T00:00:00\",\"2018-07-25T00:00:00\",\"2018-07-26T00:00:00\",\"2018-07-27T00:00:00\",\"2018-07-30T00:00:00\",\"2018-07-31T00:00:00\",\"2018-08-01T00:00:00\",\"2018-08-02T00:00:00\",\"2018-08-03T00:00:00\",\"2018-08-06T00:00:00\",\"2018-08-07T00:00:00\",\"2018-08-08T00:00:00\",\"2018-08-09T00:00:00\",\"2018-08-10T00:00:00\",\"2018-08-13T00:00:00\",\"2018-08-14T00:00:00\",\"2018-08-15T00:00:00\",\"2018-08-16T00:00:00\",\"2018-08-17T00:00:00\",\"2018-08-20T00:00:00\",\"2018-08-21T00:00:00\",\"2018-08-22T00:00:00\",\"2018-08-23T00:00:00\",\"2018-08-24T00:00:00\",\"2018-08-27T00:00:00\",\"2018-08-28T00:00:00\",\"2018-08-29T00:00:00\",\"2018-08-30T00:00:00\",\"2018-08-31T00:00:00\",\"2018-09-03T00:00:00\",\"2018-09-04T00:00:00\",\"2018-09-05T00:00:00\",\"2018-09-06T00:00:00\",\"2018-09-10T00:00:00\",\"2018-09-11T00:00:00\",\"2018-09-12T00:00:00\",\"2018-09-13T00:00:00\",\"2018-09-14T00:00:00\",\"2018-09-17T00:00:00\",\"2018-09-18T00:00:00\",\"2018-09-19T00:00:00\",\"2018-09-20T00:00:00\",\"2018-09-21T00:00:00\",\"2018-09-24T00:00:00\",\"2018-09-25T00:00:00\",\"2018-09-26T00:00:00\",\"2018-09-27T00:00:00\",\"2018-09-28T00:00:00\",\"2018-10-01T00:00:00\",\"2018-10-02T00:00:00\",\"2018-10-03T00:00:00\",\"2018-10-04T00:00:00\",\"2018-10-05T00:00:00\",\"2018-10-08T00:00:00\",\"2018-10-09T00:00:00\",\"2018-10-10T00:00:00\",\"2018-10-11T00:00:00\",\"2018-10-15T00:00:00\",\"2018-10-16T00:00:00\",\"2018-10-17T00:00:00\",\"2018-10-18T00:00:00\",\"2018-10-19T00:00:00\",\"2018-10-22T00:00:00\",\"2018-10-23T00:00:00\",\"2018-10-24T00:00:00\",\"2018-10-25T00:00:00\",\"2018-10-26T00:00:00\",\"2018-10-29T00:00:00\",\"2018-10-30T00:00:00\",\"2018-10-31T00:00:00\",\"2018-11-01T00:00:00\",\"2018-11-05T00:00:00\",\"2018-11-06T00:00:00\",\"2018-11-07T00:00:00\",\"2018-11-08T00:00:00\",\"2018-11-09T00:00:00\",\"2018-11-12T00:00:00\",\"2018-11-13T00:00:00\",\"2018-11-14T00:00:00\",\"2018-11-16T00:00:00\",\"2018-11-19T00:00:00\",\"2018-11-21T00:00:00\",\"2018-11-22T00:00:00\",\"2018-11-23T00:00:00\",\"2018-11-26T00:00:00\",\"2018-11-27T00:00:00\",\"2018-11-28T00:00:00\",\"2018-11-29T00:00:00\",\"2018-11-30T00:00:00\",\"2018-12-03T00:00:00\",\"2018-12-04T00:00:00\",\"2018-12-05T00:00:00\",\"2018-12-06T00:00:00\",\"2018-12-07T00:00:00\",\"2018-12-10T00:00:00\",\"2018-12-11T00:00:00\",\"2018-12-12T00:00:00\",\"2018-12-13T00:00:00\",\"2018-12-14T00:00:00\",\"2018-12-17T00:00:00\",\"2018-12-18T00:00:00\",\"2018-12-19T00:00:00\",\"2018-12-20T00:00:00\",\"2018-12-21T00:00:00\",\"2018-12-26T00:00:00\",\"2018-12-27T00:00:00\",\"2018-12-28T00:00:00\",\"2019-01-02T00:00:00\",\"2019-01-03T00:00:00\",\"2019-01-04T00:00:00\",\"2019-01-07T00:00:00\",\"2019-01-08T00:00:00\",\"2019-01-09T00:00:00\",\"2019-01-10T00:00:00\",\"2019-01-11T00:00:00\",\"2019-01-14T00:00:00\",\"2019-01-15T00:00:00\",\"2019-01-16T00:00:00\",\"2019-01-17T00:00:00\",\"2019-01-18T00:00:00\",\"2019-01-21T00:00:00\",\"2019-01-22T00:00:00\",\"2019-01-23T00:00:00\",\"2019-01-24T00:00:00\",\"2019-01-28T00:00:00\",\"2019-01-29T00:00:00\",\"2019-01-30T00:00:00\",\"2019-01-31T00:00:00\",\"2019-02-01T00:00:00\",\"2019-02-04T00:00:00\",\"2019-02-05T00:00:00\",\"2019-02-06T00:00:00\",\"2019-02-07T00:00:00\",\"2019-02-08T00:00:00\",\"2019-02-11T00:00:00\",\"2019-02-12T00:00:00\",\"2019-02-13T00:00:00\",\"2019-02-14T00:00:00\",\"2019-02-15T00:00:00\",\"2019-02-18T00:00:00\",\"2019-02-19T00:00:00\",\"2019-02-20T00:00:00\",\"2019-02-21T00:00:00\",\"2019-02-22T00:00:00\",\"2019-02-25T00:00:00\",\"2019-02-26T00:00:00\",\"2019-02-27T00:00:00\",\"2019-02-28T00:00:00\",\"2019-03-01T00:00:00\",\"2019-03-07T00:00:00\",\"2019-03-08T00:00:00\",\"2019-03-11T00:00:00\",\"2019-03-12T00:00:00\",\"2019-03-13T00:00:00\",\"2019-03-14T00:00:00\",\"2019-03-15T00:00:00\",\"2019-03-18T00:00:00\",\"2019-03-19T00:00:00\",\"2019-03-20T00:00:00\",\"2019-03-21T00:00:00\",\"2019-03-22T00:00:00\",\"2019-03-25T00:00:00\",\"2019-03-26T00:00:00\",\"2019-03-27T00:00:00\",\"2019-03-28T00:00:00\",\"2019-03-29T00:00:00\",\"2019-04-01T00:00:00\",\"2019-04-02T00:00:00\",\"2019-04-03T00:00:00\",\"2019-04-04T00:00:00\",\"2019-04-05T00:00:00\",\"2019-04-08T00:00:00\",\"2019-04-09T00:00:00\",\"2019-04-10T00:00:00\",\"2019-04-11T00:00:00\",\"2019-04-12T00:00:00\",\"2019-04-15T00:00:00\",\"2019-04-16T00:00:00\",\"2019-04-17T00:00:00\",\"2019-04-18T00:00:00\",\"2019-04-22T00:00:00\",\"2019-04-23T00:00:00\",\"2019-04-24T00:00:00\",\"2019-04-25T00:00:00\",\"2019-04-26T00:00:00\",\"2019-04-29T00:00:00\",\"2019-04-30T00:00:00\",\"2019-05-02T00:00:00\",\"2019-05-03T00:00:00\",\"2019-05-06T00:00:00\",\"2019-05-07T00:00:00\",\"2019-05-08T00:00:00\",\"2019-05-09T00:00:00\",\"2019-05-10T00:00:00\",\"2019-05-13T00:00:00\",\"2019-05-14T00:00:00\",\"2019-05-15T00:00:00\",\"2019-05-16T00:00:00\",\"2019-05-17T00:00:00\",\"2019-05-20T00:00:00\",\"2019-05-21T00:00:00\",\"2019-05-22T00:00:00\",\"2019-05-23T00:00:00\",\"2019-05-24T00:00:00\",\"2019-05-27T00:00:00\",\"2019-05-28T00:00:00\",\"2019-05-29T00:00:00\",\"2019-05-30T00:00:00\",\"2019-05-31T00:00:00\",\"2019-06-03T00:00:00\",\"2019-06-04T00:00:00\",\"2019-06-05T00:00:00\",\"2019-06-06T00:00:00\",\"2019-06-07T00:00:00\",\"2019-06-10T00:00:00\",\"2019-06-11T00:00:00\",\"2019-06-12T00:00:00\",\"2019-06-13T00:00:00\",\"2019-06-14T00:00:00\",\"2019-06-17T00:00:00\",\"2019-06-18T00:00:00\",\"2019-06-19T00:00:00\",\"2019-06-21T00:00:00\",\"2019-06-24T00:00:00\",\"2019-06-25T00:00:00\",\"2019-06-26T00:00:00\",\"2019-06-27T00:00:00\",\"2019-06-28T00:00:00\",\"2019-07-01T00:00:00\",\"2019-07-02T00:00:00\",\"2019-07-03T00:00:00\",\"2019-07-04T00:00:00\",\"2019-07-05T00:00:00\",\"2019-07-08T00:00:00\",\"2019-07-10T00:00:00\",\"2019-07-11T00:00:00\",\"2019-07-12T00:00:00\",\"2019-07-15T00:00:00\",\"2019-07-16T00:00:00\",\"2019-07-17T00:00:00\",\"2019-07-18T00:00:00\",\"2019-07-19T00:00:00\",\"2019-07-22T00:00:00\",\"2019-07-23T00:00:00\",\"2019-07-24T00:00:00\",\"2019-07-25T00:00:00\",\"2019-07-26T00:00:00\",\"2019-07-29T00:00:00\",\"2019-07-30T00:00:00\",\"2019-07-31T00:00:00\",\"2019-08-01T00:00:00\",\"2019-08-02T00:00:00\",\"2019-08-05T00:00:00\",\"2019-08-06T00:00:00\",\"2019-08-07T00:00:00\",\"2019-08-08T00:00:00\",\"2019-08-09T00:00:00\",\"2019-08-12T00:00:00\",\"2019-08-13T00:00:00\",\"2019-08-14T00:00:00\",\"2019-08-15T00:00:00\",\"2019-08-16T00:00:00\",\"2019-08-19T00:00:00\",\"2019-08-20T00:00:00\",\"2019-08-21T00:00:00\",\"2019-08-22T00:00:00\",\"2019-08-23T00:00:00\",\"2019-08-26T00:00:00\",\"2019-08-27T00:00:00\",\"2019-08-28T00:00:00\",\"2019-08-29T00:00:00\",\"2019-08-30T00:00:00\",\"2019-09-02T00:00:00\",\"2019-09-03T00:00:00\",\"2019-09-04T00:00:00\",\"2019-09-05T00:00:00\",\"2019-09-06T00:00:00\",\"2019-09-09T00:00:00\",\"2019-09-10T00:00:00\",\"2019-09-11T00:00:00\",\"2019-09-12T00:00:00\",\"2019-09-13T00:00:00\",\"2019-09-16T00:00:00\",\"2019-09-17T00:00:00\",\"2019-09-18T00:00:00\",\"2019-09-19T00:00:00\",\"2019-09-20T00:00:00\",\"2019-09-23T00:00:00\",\"2019-09-24T00:00:00\",\"2019-09-25T00:00:00\",\"2019-09-26T00:00:00\",\"2019-09-27T00:00:00\",\"2019-09-30T00:00:00\",\"2019-10-01T00:00:00\",\"2019-10-02T00:00:00\",\"2019-10-03T00:00:00\",\"2019-10-04T00:00:00\",\"2019-10-07T00:00:00\",\"2019-10-08T00:00:00\",\"2019-10-09T00:00:00\",\"2019-10-10T00:00:00\",\"2019-10-11T00:00:00\",\"2019-10-14T00:00:00\",\"2019-10-15T00:00:00\",\"2019-10-16T00:00:00\",\"2019-10-17T00:00:00\",\"2019-10-18T00:00:00\",\"2019-10-21T00:00:00\",\"2019-10-22T00:00:00\",\"2019-10-23T00:00:00\",\"2019-10-24T00:00:00\",\"2019-10-25T00:00:00\",\"2019-10-28T00:00:00\",\"2019-10-29T00:00:00\",\"2019-10-30T00:00:00\",\"2019-10-31T00:00:00\",\"2019-11-01T00:00:00\",\"2019-11-04T00:00:00\",\"2019-11-05T00:00:00\",\"2019-11-06T00:00:00\",\"2019-11-07T00:00:00\",\"2019-11-08T00:00:00\",\"2019-11-11T00:00:00\",\"2019-11-12T00:00:00\",\"2019-11-13T00:00:00\",\"2019-11-14T00:00:00\",\"2019-11-18T00:00:00\",\"2019-11-19T00:00:00\",\"2019-11-21T00:00:00\",\"2019-11-22T00:00:00\",\"2019-11-25T00:00:00\",\"2019-11-26T00:00:00\",\"2019-11-27T00:00:00\",\"2019-11-28T00:00:00\",\"2019-11-29T00:00:00\",\"2019-12-02T00:00:00\",\"2019-12-03T00:00:00\",\"2019-12-04T00:00:00\",\"2019-12-05T00:00:00\",\"2019-12-06T00:00:00\",\"2019-12-09T00:00:00\",\"2019-12-10T00:00:00\",\"2019-12-11T00:00:00\",\"2019-12-12T00:00:00\",\"2019-12-13T00:00:00\",\"2019-12-16T00:00:00\",\"2019-12-17T00:00:00\",\"2019-12-18T00:00:00\",\"2019-12-19T00:00:00\",\"2019-12-20T00:00:00\",\"2019-12-23T00:00:00\",\"2019-12-26T00:00:00\",\"2019-12-27T00:00:00\",\"2019-12-30T00:00:00\",\"2020-01-02T00:00:00\",\"2020-01-03T00:00:00\",\"2020-01-06T00:00:00\",\"2020-01-07T00:00:00\",\"2020-01-08T00:00:00\",\"2020-01-09T00:00:00\",\"2020-01-10T00:00:00\",\"2020-01-13T00:00:00\",\"2020-01-14T00:00:00\",\"2020-01-15T00:00:00\",\"2020-01-16T00:00:00\",\"2020-01-17T00:00:00\",\"2020-01-20T00:00:00\",\"2020-01-21T00:00:00\",\"2020-01-22T00:00:00\",\"2020-01-23T00:00:00\",\"2020-01-24T00:00:00\",\"2020-01-27T00:00:00\",\"2020-01-28T00:00:00\",\"2020-01-29T00:00:00\",\"2020-01-30T00:00:00\",\"2020-01-31T00:00:00\",\"2020-02-03T00:00:00\",\"2020-02-04T00:00:00\",\"2020-02-05T00:00:00\",\"2020-02-06T00:00:00\",\"2020-02-07T00:00:00\",\"2020-02-10T00:00:00\",\"2020-02-11T00:00:00\",\"2020-02-12T00:00:00\",\"2020-02-13T00:00:00\",\"2020-02-14T00:00:00\",\"2020-02-17T00:00:00\",\"2020-02-18T00:00:00\",\"2020-02-19T00:00:00\",\"2020-02-20T00:00:00\",\"2020-02-21T00:00:00\",\"2020-02-27T00:00:00\",\"2020-02-28T00:00:00\",\"2020-03-02T00:00:00\",\"2020-03-03T00:00:00\",\"2020-03-04T00:00:00\",\"2020-03-05T00:00:00\",\"2020-03-06T00:00:00\",\"2020-03-09T00:00:00\",\"2020-03-10T00:00:00\",\"2020-03-11T00:00:00\",\"2020-03-12T00:00:00\",\"2020-03-13T00:00:00\",\"2020-03-16T00:00:00\",\"2020-03-17T00:00:00\",\"2020-03-18T00:00:00\",\"2020-03-19T00:00:00\",\"2020-03-20T00:00:00\",\"2020-03-23T00:00:00\",\"2020-03-24T00:00:00\",\"2020-03-25T00:00:00\",\"2020-03-26T00:00:00\",\"2020-03-27T00:00:00\",\"2020-03-30T00:00:00\",\"2020-03-31T00:00:00\",\"2020-04-01T00:00:00\",\"2020-04-02T00:00:00\",\"2020-04-03T00:00:00\",\"2020-04-06T00:00:00\",\"2020-04-07T00:00:00\",\"2020-04-08T00:00:00\",\"2020-04-09T00:00:00\",\"2020-04-13T00:00:00\",\"2020-04-14T00:00:00\",\"2020-04-15T00:00:00\",\"2020-04-16T00:00:00\",\"2020-04-17T00:00:00\",\"2020-04-20T00:00:00\",\"2020-04-22T00:00:00\",\"2020-04-23T00:00:00\",\"2020-04-24T00:00:00\",\"2020-04-27T00:00:00\",\"2020-04-28T00:00:00\",\"2020-04-29T00:00:00\",\"2020-04-30T00:00:00\",\"2020-05-04T00:00:00\",\"2020-05-05T00:00:00\",\"2020-05-06T00:00:00\",\"2020-05-07T00:00:00\",\"2020-05-08T00:00:00\",\"2020-05-11T00:00:00\",\"2020-05-12T00:00:00\",\"2020-05-13T00:00:00\",\"2020-05-14T00:00:00\",\"2020-05-15T00:00:00\",\"2020-05-18T00:00:00\",\"2020-05-19T00:00:00\",\"2020-05-20T00:00:00\",\"2020-05-21T00:00:00\",\"2020-05-22T00:00:00\",\"2020-05-25T00:00:00\",\"2020-05-26T00:00:00\",\"2020-05-27T00:00:00\",\"2020-05-28T00:00:00\",\"2020-05-29T00:00:00\",\"2020-06-01T00:00:00\",\"2020-06-02T00:00:00\",\"2020-06-03T00:00:00\",\"2020-06-04T00:00:00\",\"2020-06-05T00:00:00\",\"2020-06-08T00:00:00\",\"2020-06-09T00:00:00\",\"2020-06-10T00:00:00\",\"2020-06-12T00:00:00\",\"2020-06-15T00:00:00\",\"2020-06-16T00:00:00\",\"2020-06-17T00:00:00\",\"2020-06-18T00:00:00\",\"2020-06-19T00:00:00\",\"2020-06-22T00:00:00\",\"2020-06-23T00:00:00\",\"2020-06-24T00:00:00\",\"2020-06-25T00:00:00\",\"2020-06-26T00:00:00\",\"2020-06-29T00:00:00\",\"2020-06-30T00:00:00\",\"2020-07-01T00:00:00\",\"2020-07-02T00:00:00\",\"2020-07-08T00:00:00\",\"2020-07-09T00:00:00\",\"2020-07-10T00:00:00\",\"2020-07-13T00:00:00\",\"2020-07-14T00:00:00\",\"2020-07-15T00:00:00\",\"2020-07-16T00:00:00\",\"2020-07-17T00:00:00\",\"2020-07-20T00:00:00\",\"2020-07-21T00:00:00\",\"2020-07-22T00:00:00\",\"2020-07-23T00:00:00\",\"2020-07-24T00:00:00\",\"2020-07-27T00:00:00\",\"2020-07-28T00:00:00\",\"2020-07-29T00:00:00\",\"2020-07-30T00:00:00\",\"2020-07-31T00:00:00\",\"2020-08-03T00:00:00\",\"2020-08-04T00:00:00\",\"2020-08-05T00:00:00\",\"2020-08-06T00:00:00\",\"2020-08-07T00:00:00\",\"2020-08-10T00:00:00\",\"2020-08-11T00:00:00\",\"2020-08-12T00:00:00\",\"2020-08-13T00:00:00\",\"2020-08-14T00:00:00\",\"2020-08-17T00:00:00\",\"2020-08-18T00:00:00\",\"2020-08-19T00:00:00\",\"2020-08-20T00:00:00\",\"2020-08-21T00:00:00\",\"2020-08-24T00:00:00\",\"2020-08-25T00:00:00\",\"2020-08-26T00:00:00\",\"2020-08-27T00:00:00\",\"2020-08-28T00:00:00\",\"2020-08-31T00:00:00\",\"2020-09-01T00:00:00\",\"2020-09-02T00:00:00\",\"2020-09-03T00:00:00\",\"2020-09-04T00:00:00\",\"2020-09-08T00:00:00\",\"2020-09-09T00:00:00\",\"2020-09-10T00:00:00\",\"2020-09-11T00:00:00\",\"2020-09-14T00:00:00\",\"2020-09-15T00:00:00\",\"2020-09-16T00:00:00\",\"2020-09-17T00:00:00\",\"2020-09-18T00:00:00\",\"2020-09-21T00:00:00\",\"2020-09-22T00:00:00\",\"2020-09-23T00:00:00\",\"2020-09-24T00:00:00\",\"2020-09-28T00:00:00\",\"2020-09-29T00:00:00\",\"2020-09-30T00:00:00\",\"2020-10-01T00:00:00\",\"2020-10-02T00:00:00\",\"2020-10-05T00:00:00\",\"2020-10-06T00:00:00\",\"2020-10-07T00:00:00\",\"2020-10-08T00:00:00\",\"2020-10-09T00:00:00\",\"2020-10-13T00:00:00\",\"2020-10-14T00:00:00\",\"2020-10-15T00:00:00\",\"2020-10-16T00:00:00\",\"2020-10-19T00:00:00\",\"2020-10-20T00:00:00\",\"2020-10-21T00:00:00\",\"2020-10-22T00:00:00\",\"2020-10-23T00:00:00\",\"2020-10-26T00:00:00\",\"2020-10-27T00:00:00\",\"2020-10-28T00:00:00\",\"2020-10-29T00:00:00\",\"2020-10-30T00:00:00\",\"2020-11-03T00:00:00\"],\"y\":[47.2599983215332,46.31999969482422,46.58000183105469,48.1500015258789,48.5099983215332,47.52999877929688,46.83000183105469,46.63999938964844,46.47999954223633,47.0,47.599998474121094,46.31000137329102,46.52000045776367,47.81000137329102,48.11999893188477,47.29999923706055,47.18999862670898,47.34000015258789,46.33000183105469,46.38000106811523,45.61000061035156,46.27000045776367,47.63999938964844,47.77000045776367,47.88000106811523,47.29999923706055,47.91999816894531,47.15999984741211,46.95000076293945,48.13000106811523,49.38999938964844,49.90999984741211,49.79999923706055,49.84000015258789,49.79999923706055,50.40999984741211,50.36000061035156,50.31000137329102,50.0099983215332,49.59000015258789,49.83000183105469,49.06999969482422,48.95000076293945,48.54999923706055,47.75,46.95000076293945,47.52000045776367,47.45000076293945,47.209999084472656,47.38000106811523,48.91999816894531,50.099998474121094,49.54999923706055,50.31999969482422,50.43000030517578,50.040000915527344,50.290000915527344,49.11000061035156,48.65999984741211,49.81999969482422,49.5,50.79999923706055,51.5,52.099998474121094,52.20000076293945,52.22000122070313,52.27000045776367,52.6500015258789,52.61000061035156,52.52999877929688,53.25,53.02999877929688,52.45000076293945,52.2400016784668,53.02999877929688,54.040000915527344,54.97999954223633,53.959999084472656,54.20000076293945,53.68000030517578,54.61999893188477,55.83000183105469,56.41999816894531,55.43000030517578,55.31999969482422,55.5,55.52000045776367,55.18000030517578,54.77000045776367,55.06999969482422,55.59000015258789,54.4900016784668,53.93000030517578,53.34000015258789,53.54999923706055,52.93000030517578,53.0,52.2400016784668,52.6500015258789,52.38999938964844,51.349998474121094,51.459999084472656,52.61999893188477,52.040000915527344,51.36999893188477,51.25,51.349998474121094,52.349998474121094,52.08000183105469,51.72999954223633,51.63000106811523,52.18000030517578,51.63999938964844,52.61000061035156,52.22000122070313,52.29999923706055,52.2599983215332,52.25,51.65999984741211,52.38000106811523,51.5099983215332,51.459999084472656,51.2400016784668,51.52000045776367,50.88999938964844,50.6500015258789,50.72999954223633,50.22000122070313,51.0,51.5,51.70000076293945,51.36000061035156,51.52000045776367,50.7599983215332,50.11000061035156,49.93000030517578,49.36000061035156,48.2400016784668,47.77999877929688,47.349998474121094,48.18000030517578,48.7400016784668,48.43000030517578,49.36999893188477,48.68999862670898,48.59000015258789,48.77999877929688,48.540000915527344,47.04999923706055,47.88000106811523,48.1500015258789,46.93999862670898,46.5099983215332,46.099998474121094,45.86999893188477,46.040000915527344,45.1500015258789,45.16999816894531,44.29999923706055,42.900001525878906,43.060001373291016,44.65999984741211,46.29999923706055,45.79999923706055,45.34000015258789,44.16999816894531,45.09000015258789,45.81999969482422,45.099998474121094,45.34000015258789,45.70000076293945,45.13000106811523,44.88000106811523,46.099998474121094,45.9000015258789,47.09000015258789,47.11999893188477,45.790000915527344,45.209999084472656,44.93999862670898,43.88999938964844,44.0,43.86000061035156,42.75,42.95000076293945,43.43000030517578,44.02999877929688,45.459999084472656,46.13000106811523,46.18999862670898,47.5,47.59000015258789,47.790000915527344,45.93000030517578,45.29999923706055,45.790000915527344,45.849998474121094,46.0,45.54999923706055,45.56000137329102,46.29999923706055,45.959999084472656,45.77999877929688,45.54999923706055,46.06000137329102,44.18000030517578,44.400001525878906,46.63000106811523,46.18000030517578,46.45000076293945,45.52999877929688,44.7599983215332,44.93000030517578,45.77999877929688,45.33000183105469,45.22000122070313,45.43999862670898,45.88999938964844,46.08000183105469,46.70000076293945,46.459999084472656,46.790000915527344,45.40999984741211,45.6500015258789,44.59000015258789,43.70000076293945,43.52999877929688,43.459999084472656,44.97000122070313,44.099998474121094,43.95000076293945,43.04999923706055,44.650001525878906,44.31999969482422,43.91999816894531,43.43000030517578,43.5,43.7400016784668,43.7400016784668,42.58000183105469,41.95000076293945,42.22999954223633,42.75,42.5,42.41999816894531,42.13000106811523,41.099998474121094,41.18000030517578,40.5,39.47000122070313,39.34000015258789,38.72000122070313,38.38000106811523,37.75,38.27000045776367,37.47999954223633,36.75,36.849998474121094,36.5,36.599998474121094,36.86000061035156,36.45000076293945,37.47999954223633,37.400001525878906,39.18999862670898,39.29999923706055,37.52000045776367,38.400001525878906,39.61999893188477,39.349998474121094,39.15999984741211,38.20000076293945,38.72999954223633,39.04999923706055,39.7400016784668,40.29999923706055,40.20000076293945,40.25,41.959999084472656,41.310001373291016,40.88000106811523,40.599998474121094,40.25,41.45000076293945,42.75,43.5,45.70000076293945,45.70000076293945,47.77000045776367,47.70000076293945,47.25,48.599998474121094,48.459999084472656,47.13000106811523,45.7599983215332,46.29999923706055,49.54999923706055,49.20000076293945,49.709999084472656,49.56999969482422,48.20000076293945,48.38000106811523,49.5,49.6500015258789,49.68000030517578,48.63999938964844,49.11999893188477,47.33000183105469,47.36000061035156,46.81999969482422,47.04999923706055,47.04999923706055,48.599998474121094,50.54999923706055,51.5099983215332,50.9000015258789,51.709999084472656,51.20000076293945,52.2400016784668,51.95000076293945,51.29999923706055,50.349998474121094,51.52000045776367,52.86999893188477,52.86999893188477,52.1500015258789,51.93000030517578,50.79999923706055,51.02000045776367,50.33000183105469,50.31000137329102,49.52000045776367,51.58000183105469,51.22999954223633,51.45000076293945,50.22000122070313,50.11000061035156,49.38000106811523,49.38000106811523,48.9000015258789,48.27999877929688,47.72000122070313,47.849998474121094,47.93000030517578,47.599998474121094,47.5099983215332,47.02000045776367,47.47999954223633,48.4000015258789,49.099998474121094,48.849998474121094,48.95000076293945,50.25,49.65999984741211,47.93999862670898,48.099998474121094,47.099998474121094,47.4000015258789,48.0,48.02000045776367,48.68000030517578,49.349998474121094,48.56999969482422,50.11000061035156,48.56999969482422,47.849998474121094,48.6500015258789,49.5099983215332,49.9000015258789,50.709999084472656,51.0099983215332,50.25,50.4000015258789,50.4000015258789,51.54999923706055,52.29999923706055,52.56000137329102,52.90999984741211,53.61000061035156,53.95000076293945,54.88000106811523,55.04999923706055,54.97000122070313,54.93000030517578,55.04999923706055,55.099998474121094,55.099998474121094,55.04999923706055,55.0,55.68000030517578,55.040000915527344,54.4000015258789,55.290000915527344,55.81999969482422,55.81999969482422,55.86999893188477,55.93000030517578,55.13000106811523,56.4900016784668,56.5099983215332,57.2400016784668,57.2400016784668,57.47999954223633,57.34000015258789,57.349998474121094,56.04999923706055,56.0,55.9000015258789,56.06000137329102,55.959999084472656,56.849998474121094,56.88999938964844,55.93000030517578,56.25,57.75,57.68000030517578,58.11999893188477,58.290000915527344,56.06000137329102,56.709999084472656,55.16999816894531,55.18000030517578,56.040000915527344,55.4000015258789,55.5099983215332,55.9000015258789,56.6500015258789,57.15999984741211,57.27000045776367,56.2599983215332,56.6500015258789,57.599998474121094,56.459999084472656,56.56000137329102,57.54999923706055,57.47000122070313,58.18999862670898,58.86999893188477,59.22000122070313,59.75,59.02000045776367,59.290000915527344,59.9000015258789,60.77999877929688,61.849998474121094,61.31000137329102,61.77000045776367,61.540000915527344,62.13000106811523,61.86999893188477,61.9900016784668,62.11000061035156,62.290000915527344,62.9000015258789,61.349998474121094,59.959999084472656,59.5,62.20000076293945,62.20000076293945,61.209999084472656,59.22999954223633,57.43000030517578,58.06999969482422,58.95000076293945,57.6500015258789,58.02999877929688,59.099998474121094,60.04999923706055,60.13000106811523,59.38000106811523,59.599998474121094,60.849998474121094,59.18999862670898,60.0,57.79999923706055,58.38000106811523,57.79999923706055,59.11000061035156,59.5099983215332,59.79999923706055,58.56999969482422,57.25,57.790000915527344,56.31999969482422,56.599998474121094,56.41999816894531,55.20000076293945,55.709999084472656,55.70000076293945,55.97999954223633,56.36000061035156,56.959999084472656,56.81000137329102,57.84000015258789,58.2400016784668,57.63000106811523,59.75,59.75,60.04999923706055,59.849998474121094,59.7400016784668,60.25,60.47000122070313,62.0,61.68000030517578,61.9000015258789,62.27999877929688,61.9000015258789,62.099998474121094,62.56999969482422,63.79999923706055,63.90999984741211,64.19999694824219,64.01000213623047,62.2599983215332,62.38999938964844,62.709999084472656,62.6500015258789,63.09000015258789,62.0099983215332,62.0099983215332,62.86999893188477,62.83000183105469,63.9900016784668,64.68000030517578,65.05000305175781,65.84999847412111,65.59999847412111,65.41999816894531,66.34999847412111,66.88999938964844,66.48000335693361,65.31999969482422,64.5,64.83000183105469,63.5,64.59999847412111,64.19999694824219,63.81999969482422,62.63000106811523,62.36999893188477,62.54999923706055,63.47000122070313,62.75,64.11000061035156,63.41999816894531,62.209999084472656,62.81000137329102,60.97999954223633,61.36999893188477,61.540000915527344,61.88000106811523,62.27999877929688,62.5,63.47999954223633,63.1500015258789,62.77999877929688,63.08000183105469,63.72000122070313,62.56000137329102,62.0,62.27000045776367,62.540000915527344,62.41999816894531,61.68000030517578,60.79999923706055,62.25,61.95000076293945,61.20000076293945,61.5099983215332,62.290000915527344,63.0,62.79999923706055,62.459999084472656,63.18999862670898,64.55999755859375,63.959999084472656,62.65999984741211,63.65999984741211,63.41999816894531,64.16999816894531,65.19999694824219,65.34999847412111,65.94000244140625,66.26999664306639,66.44999694824219,65.33000183105469,59.66999816894531,60.61000061035156,59.52999877929688,60.7400016784668,61.16999816894531,61.290000915527344,61.95000076293945,61.7400016784668,61.9000015258789,60.56000137329102,60.2599983215332,60.349998474121094,60.45000076293945,60.95000076293945,61.18999862670898,60.709999084472656,60.22000122070313,59.6500015258789,59.81999969482422,59.88999938964844,59.88999938964844,59.61000061035156,60.09000015258789,58.7400016784668,58.77999877929688,59.349998474121094,59.099998474121094,60.2599983215332,59.75,59.95000076293945,60.099998474121094,60.93000030517578,61.09000015258789,61.1500015258789,61.04999923706055,60.41999816894531,60.5,60.93999862670898,61.70000076293945,62.70000076293945,63.20000076293945,63.34000015258789,63.06000137329102,63.11999893188477,63.09000015258789,62.75,62.52999877929688,62.93000030517578,63.47999954223633,62.81000137329102,63.04999923706055,63.38999938964844,63.72000122070313,64.23000335693361,64.91999816894531,64.44999694824219,64.70999908447266,65.62999725341797,65.66000366210939,65.44000244140625,64.73000335693361,65.09999847412111,66.01999664306639,66.08000183105469,66.41999816894531,65.80000305175781,66.47000122070311,66.44999694824219,67.77999877929689,68.19999694824219,68.83999633789061,68.65000152587889,68.72000122070311,68.98000335693361,68.52999877929689,68.41000366210939,69.51000213623047,69.83999633789061,69.76000213623047,70.94999694824219,70.94999694824219,70.70999908447266,71.93000030517578,72.0999984741211,72.2699966430664,71.97000122070312,73.13999938964844,73.5,73.44999694824219,73.45999908447266,73.06999969482422,72.81999969482422,71.9000015258789,71.8499984741211,71.33999633789062,71.08000183105469,71.58000183105469,71.81999969482422,74.16000366210938,74.0199966430664,74.04000091552734,73.51000213623047,73.20999908447266,74.23999786376953,74.12999725341797,74.12999725341797,74.44999694824219,74.33999633789062,73.70999908447266,74.08999633789062,73.79000091552734,73.5999984741211,73.5999984741211,73.86000061035156,74.01000213623047,73.05000305175781,73.37000274658203,72.3499984741211,71.7699966430664,71.2699966430664,71.2699966430664,71.30000305175781,71.79000091552734,69.97000122070311,71.93000030517578,70.5,69.97000122070311,70.4800033569336,68.45999908447266,68.45999908447266,70.16999816894531,70.91000366210938,70.91000366210938,72.0,71.9000015258789,71.93000030517578,71.62999725341797,71.58999633789062,71.86000061035156,70.25,69.40000152587889,69.66999816894531,70.52999877929688,70.0,72.9800033569336,70.0,70.12000274658203,70.44000244140625,71.4000015258789,70.37999725341797,70.0,69.94999694824219,70.66999816894531,70.16999816894531,70.9000015258789,72.54000091552734,72.69999694824219,72.69999694824219,73.25,73.6500015258789,73.81999969482422,73.81999969482422,75.0999984741211,75.30000305175781,76.0,76.44000244140625,76.76000213623047,76.16000366210938,75.5999984741211,76.66000366210938,76.66999816894531,77.06999969482422,77.05999755859375,78.41000366210938,78.0999984741211,78.41999816894531,78.83999633789062,77.91000366210938,80.83000183105469,80.83000183105469,82.6500015258789,81.77999877929688,81.61000061035156,82.0,82.55000305175781,81.23999786376953,79.19999694824219,81.1500015258789,79.95999908447266,78.69999694824219,78.16999816894531,81.4000015258789,81.55999755859375,81.86000061035156,82.94000244140625,83.04000091552734,83.75,84.29000091552734,84.72000122070312,84.08999633789062,82.5,82.5199966430664,82.94999694824219,82.9000015258789,82.69000244140625,82.5999984741211,82.13999938964844,83.4000015258789,83.94999694824219,83.5,83.13999938964844,82.06999969482422,82.01000213623047,81.08999633789062,81.4000015258789,82.08999633789062,81.79000091552734,81.58000183105469,82.2300033569336,80.9800033569336,81.0199966430664,82.43000030517578,81.8499984741211,81.75,81.4000015258789,82.37000274658203,81.94000244140625,80.41999816894531,81.55999755859375,82.44999694824219,82.43000030517578,81.30000305175781,79.9800033569336,81.11000061035156,82.69999694824219,82.9000015258789,82.73999786376953,82.69999694824219,82.4800033569336,82.08000183105469,83.51000213623047,83.47000122070312,83.18000030517578,81.70999908447266,80.48999786376953,80.26000213623047,79.81999969482422,80.22000122070312,81.3499984741211,82.87000274658203,82.29000091552734,82.38999938964844,82.20999908447266,83.41999816894531,80.77999877929688,80.20999908447266,79.19999694824219,80.0,78.25,77.44999694824219,77.44999694824219,72.69000244140625,73.4000015258789,74.06999969482422,74.62000274658203,75.8499984741211,74.0999984741211,73.47000122070312,71.37000274658203,70.4000015258789,69.86000061035156,70.26999664306639,69.75,68.80000305175781,68.11000061035156,67.51999664306639,68.80999755859375,69.51000213623047,67.66000366210939,68.18000030517578,68.59999847412111,69.0,68.0,69.40000152587889,70.34999847412111,70.30000305175781,71.0999984741211,72.11000061035156,71.87000274658203,72.44999694824219,72.3499984741211,71.76000213623047,73.26000213623047,74.01000213623047,73.94999694824219,75.37000274658203,74.66000366210938,74.6500015258789,75.80000305175781,75.25,76.5,77.37000274658203,76.62000274658203,77.12999725341797,77.41999816894531,76.44999694824219,76.45999908447266,76.94999694824219,78.66000366210938,78.23999786376953,77.48999786376953,76.31999969482422,75.95999908447266,73.80000305175781,74.88999938964844,75.9000015258789,74.38999938964844,74.13999938964844,73.3499984741211,73.68000030517578,72.51000213623047,74.1500015258789,73.02999877929688,73.68000030517578,75.0999984741211,74.79000091552734,75.68000030517578,73.73999786376953,74.12000274658203,73.4800033569336,72.06999969482422,72.41999816894531,74.0999984741211,74.0,72.12999725341797,72.56999969482422,72.0199966430664,72.80999755859375,74.06999969482422,75.3499984741211,75.2699966430664,75.33000183105469,76.5,75.19999694824219,75.87999725341797,75.8499984741211,77.06999969482422,76.61000061035156,75.80000305175781,78.77999877929688,80.29000091552734,79.87999725341797,79.44999694824219,83.63999938964844,83.0,80.7300033569336,80.1500015258789,80.45999908447266,82.5999984741211,82.72000122070312,82.72000122070312,81.22000122070312,82.62000274658203,82.29000091552734,80.1500015258789,81.02999877929688,82.70999908447266,80.80999755859375,83.76000213623047,84.08000183105469,85.25,86.0999984741211,85.27999877929688,84.58999633789062,82.5999984741211,82.5199966430664,82.3499984741211,81.63999938964844,82.6500015258789,85.30000305175781,84.30000305175781,84.27999877929688,84.30000305175781,83.02999877929688,82.33999633789062,84.48999786376953,86.0,86.37999725341797,86.37000274658203,86.48999786376953,85.2300033569336,86.02999877929688,85.54000091552734,84.93000030517578,82.86000061035156,83.5,83.9000015258789,84.27999877929688,84.20999908447266,83.23999786376953,83.5,82.5,82.41999816894531,82.44000244140625,82.13999938964844,82.6500015258789,84.5999984741211,87.9000015258789,88.0,88.5,88.4800033569336,88.83000183105469,90.31999969482422,90.41999816894531,90.37999725341795,91.20999908447266,90.61000061035156,91.1500015258789,91.97000122070312,92.61000061035156,92.63999938964844,91.4000015258789,93.0999984741211,94.16999816894531,92.08000183105469,92.19000244140624,93.5199966430664,94.0,94.36000061035156,95.02999877929688,94.8000030517578,91.2699966430664,91.0,91.6999969482422,90.98999786376952,92.4499969482422,92.5999984741211,94.33999633789062,94.04000091552734,92.9800033569336,93.77999877929688,93.16999816894531,93.58000183105469,94.44000244140624,93.7699966430664,94.12000274658205,93.83999633789062,91.8499984741211,91.08000183105469,91.0500030517578,91.8499984741211,94.5500030517578,94.4000015258789,95.30999755859376,94.9499969482422,95.52999877929688,96.37999725341795,96.05999755859376,94.3499984741211,93.01000213623048,90.25,90.3499984741211,91.91000366210938,88.0999984741211,91.0199966430664,91.80999755859376,92.3499984741211,91.83000183105469,91.16000366210938,92.87000274658205,93.55999755859376,93.77999877929688,92.6999969482422,92.48999786376952,91.37999725341795,89.51000213623047,89.80999755859375,91.0,90.0,91.16000366210938,91.1999969482422,92.37000274658205,91.5999984741211,92.9000015258789,92.62999725341795,92.72000122070312,92.87999725341795,92.16000366210938,92.5999984741211,91.61000061035156,90.9800033569336,92.11000061035156,91.37000274658205,90.8000030517578,88.30999755859375,88.76000213623047,87.87000274658203,86.55999755859375,86.73999786376953,88.83000183105469,91.19000244140624,90.95999908447266,90.43000030517578,90.25,91.5,92.8499984741211,93.05999755859376,93.95999908447266,93.58999633789062,93.4800033569336,93.8000030517578,92.63999938964844,93.69000244140624,94.22000122070312,93.8499984741211,95.41999816894531,94.66000366210938,95.13999938964844,94.51000213623048,94.25,95.7699966430664,96.62999725341795,98.22000122070312,98.30999755859376,96.36000061035156,96.8499984741211,97.06999969482422,97.11000061035156,97.4499969482422,96.7699966430664,100.0,100.0,100.2699966430664,100.55999755859376,101.95999908447266,101.20999908447266,100.0500030517578,100.04000091552734,99.9000015258789,100.01000213623048,100.6999969482422,99.5999984741211,100.0,100.0999984741211,100.38999938964844,98.8000030517578,99.1500015258789,99.55999755859376,99.12000274658205,97.9800033569336,98.43000030517578,98.77999877929688,96.47000122070312,98.44000244140624,99.0500030517578,100.36000061035156,100.23999786376952,98.16000366210938,99.5199966430664,96.6500015258789,95.37999725341795,96.1500015258789,95.7699966430664,95.54000091552734,97.52999877929688,96.3499984741211,94.0199966430664,92.6500015258789,93.6500015258789,94.58000183105469,96.86000061035156,97.61000061035156,96.76000213623048,95.9000015258789,97.37000274658205,98.44000244140624,99.12999725341795,99.33000183105469,99.19000244140624,99.75,100.36000061035156,99.58000183105469,99.8000030517578,100.76000213623048,100.62999725341795,100.44000244140624,100.76000213623048,100.77999877929688,100.0,100.4499969482422,101.43000030517578,101.23999786376952,101.01000213623048,100.05999755859376,97.1500015258789,97.72000122070312,98.69000244140624,96.8000030517578,96.1500015258789,97.5,98.08000183105469,99.97000122070312,100.3499984741211,100.58000183105469,101.4000015258789,101.0500030517578,100.75,102.0,103.23999786376952,103.4000015258789,103.0,103.37000274658205,103.9499969482422,103.5,104.29000091552734,103.2300033569336,104.2699966430664,104.62999725341795,104.66999816894531,104.3499984741211,105.30999755859376,103.4000015258789,104.23999786376952,102.4499969482422,102.37000274658205,102.5500030517578,102.0,101.95999908447266,103.5,104.5999984741211,104.25,103.44000244140624,103.68000030517578,104.37999725341795,104.3499984741211,104.80999755859376,105.0,106.0999984741211,106.44000244140624,106.93000030517578,106.7699966430664,106.58000183105469,106.75,107.8499984741211,108.30999755859376,107.72000122070312,108.41000366210938,110.16000366210938,110.81999969482422,110.83999633789062,111.66999816894531,112.80999755859376,112.16999816894531,111.2300033569336,114.23999786376952,113.8000030517578,112.58999633789062,112.23999786376952,111.9499969482422,111.66000366210938,111.27999877929688,113.08000183105469,113.31999969482422,112.18000030517578,112.3499984741211,114.0999984741211,114.41000366210938,112.6500015258789,114.0999984741211,115.20999908447266,114.0,110.29000091552734,112.3000030517578,110.87999725341795,111.19000244140624,108.9000015258789,110.41999816894531,111.20999908447266,111.7699966430664,110.9499969482422,109.3499984741211,108.79000091552734,111.3000030517578,112.4499969482422,110.9000015258789,110.08000183105469,110.8000030517578,111.13999938964844,112.08000183105469,110.1999969482422,109.4499969482422,99.1999969482422,100.5999984741211,102.98999786376952,101.75,103.0999984741211,98.79000091552734,94.4000015258789,82.80000305175781,88.62999725341797,82.05999755859375,70.09999847412111,79.48999786376953,69.27999877929689,71.0,65.01000213623047,65.0,64.76999664306639,61.1500015258789,67.40000152587889,71.7300033569336,74.56999969482422,70.22000122070311,72.0,69.34999847412111,68.18000030517578,69.62999725341797,66.90000152587889,71.44000244140625,73.51000213623047,75.7300033569336,74.87000274658203,75.75,76.8499984741211,76.05000305175781,74.93000030517578,76.0,75.66000366210938,77.69999694824219,76.6500015258789,72.41000366210938,75.29000091552734,78.30000305175781,80.18000030517578,77.20999908447266,76.0999984741211,76.54000091552734,76.19999694824219,75.4000015258789,77.43000030517578,76.13999938964844,75.0,75.1500015258789,76.25,74.55999755859375,78.02999877929688,77.6500015258789,78.44999694824219,79.97000122070312,79.94000244140625,82.5999984741211,82.44999694824219,84.68000030517578,83.6500015258789,84.1500015258789,85.33000183105469,87.77999877929688,89.37000274658203,90.30999755859376,91.0500030517578,93.9499969482422,92.9499969482422,91.16999816894531,89.25,89.06999969482422,90.0,91.9499969482422,92.62999725341795,92.63999938964844,91.75,92.26000213623048,90.7699966430664,92.38999938964844,90.22000122070312,91.8499984741211,92.01000213623048,92.8000030517578,92.5999984741211,96.22000122070312,95.41000366210938,96.33999633789062,95.0500030517578,96.5999984741211,98.02999877929688,96.81999969482422,99.12999725341795,100.5,100.29000091552734,100.37999725341795,98.4000015258789,98.58999633789062,100.45999908447266,100.0500030517578,101.4800033569336,101.30999755859376,99.29000091552734,99.1999969482422,97.5999984741211,98.98999786376952,100.16999816894531,98.83000183105469,99.54000091552734,98.1999969482422,98.33000183105469,96.51000213623048,97.47000122070312,95.83000183105469,98.25,97.0,97.66999816894531,97.5999984741211,98.5,98.3499984741211,96.62999725341795,96.87000274658205,98.3000030517578,96.25,98.3499984741211,98.1500015258789,96.95999908447266,97.41999816894531,96.8000030517578,97.5,95.04000091552734,94.4800033569336,96.51000213623048,96.45999908447266,95.91000366210938,96.37000274658205,94.63999938964844,93.20999908447266,93.75,92.1500015258789,93.4800033569336,91.1500015258789,89.91999816894531,91.0500030517578,91.91000366210938,90.11000061035156,92.58000183105469,92.1500015258789,92.19000244140624,94.12999725341795,93.6500015258789,94.9499969482422,95.72000122070312,95.45999908447266,94.54000091552734,94.83000183105469,96.81999969482422,97.08999633789062,97.97000122070312,97.44000244140624,96.7699966430664,95.8000030517578,92.43000030517578,92.91000366210938,90.66000366210938,92.41000366210938],\"type\":\"scatter\"}],                        {\"template\":{\"data\":{\"bar\":[{\"error_x\":{\"color\":\"#2a3f5f\"},\"error_y\":{\"color\":\"#2a3f5f\"},\"marker\":{\"line\":{\"color\":\"#E5ECF6\",\"width\":0.5},\"pattern\":{\"fillmode\":\"overlay\",\"size\":10,\"solidity\":0.2}},\"type\":\"bar\"}],\"barpolar\":[{\"marker\":{\"line\":{\"color\":\"#E5ECF6\",\"width\":0.5},\"pattern\":{\"fillmode\":\"overlay\",\"size\":10,\"solidity\":0.2}},\"type\":\"barpolar\"}],\"carpet\":[{\"aaxis\":{\"endlinecolor\":\"#2a3f5f\",\"gridcolor\":\"white\",\"linecolor\":\"white\",\"minorgridcolor\":\"white\",\"startlinecolor\":\"#2a3f5f\"},\"baxis\":{\"endlinecolor\":\"#2a3f5f\",\"gridcolor\":\"white\",\"linecolor\":\"white\",\"minorgridcolor\":\"white\",\"startlinecolor\":\"#2a3f5f\"},\"type\":\"carpet\"}],\"choropleth\":[{\"colorbar\":{\"outlinewidth\":0,\"ticks\":\"\"},\"type\":\"choropleth\"}],\"contour\":[{\"colorbar\":{\"outlinewidth\":0,\"ticks\":\"\"},\"colorscale\":[[0.0,\"#0d0887\"],[0.1111111111111111,\"#46039f\"],[0.2222222222222222,\"#7201a8\"],[0.3333333333333333,\"#9c179e\"],[0.4444444444444444,\"#bd3786\"],[0.5555555555555556,\"#d8576b\"],[0.6666666666666666,\"#ed7953\"],[0.7777777777777778,\"#fb9f3a\"],[0.8888888888888888,\"#fdca26\"],[1.0,\"#f0f921\"]],\"type\":\"contour\"}],\"contourcarpet\":[{\"colorbar\":{\"outlinewidth\":0,\"ticks\":\"\"},\"type\":\"contourcarpet\"}],\"heatmap\":[{\"colorbar\":{\"outlinewidth\":0,\"ticks\":\"\"},\"colorscale\":[[0.0,\"#0d0887\"],[0.1111111111111111,\"#46039f\"],[0.2222222222222222,\"#7201a8\"],[0.3333333333333333,\"#9c179e\"],[0.4444444444444444,\"#bd3786\"],[0.5555555555555556,\"#d8576b\"],[0.6666666666666666,\"#ed7953\"],[0.7777777777777778,\"#fb9f3a\"],[0.8888888888888888,\"#fdca26\"],[1.0,\"#f0f921\"]],\"type\":\"heatmap\"}],\"heatmapgl\":[{\"colorbar\":{\"outlinewidth\":0,\"ticks\":\"\"},\"colorscale\":[[0.0,\"#0d0887\"],[0.1111111111111111,\"#46039f\"],[0.2222222222222222,\"#7201a8\"],[0.3333333333333333,\"#9c179e\"],[0.4444444444444444,\"#bd3786\"],[0.5555555555555556,\"#d8576b\"],[0.6666666666666666,\"#ed7953\"],[0.7777777777777778,\"#fb9f3a\"],[0.8888888888888888,\"#fdca26\"],[1.0,\"#f0f921\"]],\"type\":\"heatmapgl\"}],\"histogram\":[{\"marker\":{\"pattern\":{\"fillmode\":\"overlay\",\"size\":10,\"solidity\":0.2}},\"type\":\"histogram\"}],\"histogram2d\":[{\"colorbar\":{\"outlinewidth\":0,\"ticks\":\"\"},\"colorscale\":[[0.0,\"#0d0887\"],[0.1111111111111111,\"#46039f\"],[0.2222222222222222,\"#7201a8\"],[0.3333333333333333,\"#9c179e\"],[0.4444444444444444,\"#bd3786\"],[0.5555555555555556,\"#d8576b\"],[0.6666666666666666,\"#ed7953\"],[0.7777777777777778,\"#fb9f3a\"],[0.8888888888888888,\"#fdca26\"],[1.0,\"#f0f921\"]],\"type\":\"histogram2d\"}],\"histogram2dcontour\":[{\"colorbar\":{\"outlinewidth\":0,\"ticks\":\"\"},\"colorscale\":[[0.0,\"#0d0887\"],[0.1111111111111111,\"#46039f\"],[0.2222222222222222,\"#7201a8\"],[0.3333333333333333,\"#9c179e\"],[0.4444444444444444,\"#bd3786\"],[0.5555555555555556,\"#d8576b\"],[0.6666666666666666,\"#ed7953\"],[0.7777777777777778,\"#fb9f3a\"],[0.8888888888888888,\"#fdca26\"],[1.0,\"#f0f921\"]],\"type\":\"histogram2dcontour\"}],\"mesh3d\":[{\"colorbar\":{\"outlinewidth\":0,\"ticks\":\"\"},\"type\":\"mesh3d\"}],\"parcoords\":[{\"line\":{\"colorbar\":{\"outlinewidth\":0,\"ticks\":\"\"}},\"type\":\"parcoords\"}],\"pie\":[{\"automargin\":true,\"type\":\"pie\"}],\"scatter\":[{\"marker\":{\"colorbar\":{\"outlinewidth\":0,\"ticks\":\"\"}},\"type\":\"scatter\"}],\"scatter3d\":[{\"line\":{\"colorbar\":{\"outlinewidth\":0,\"ticks\":\"\"}},\"marker\":{\"colorbar\":{\"outlinewidth\":0,\"ticks\":\"\"}},\"type\":\"scatter3d\"}],\"scattercarpet\":[{\"marker\":{\"colorbar\":{\"outlinewidth\":0,\"ticks\":\"\"}},\"type\":\"scattercarpet\"}],\"scattergeo\":[{\"marker\":{\"colorbar\":{\"outlinewidth\":0,\"ticks\":\"\"}},\"type\":\"scattergeo\"}],\"scattergl\":[{\"marker\":{\"colorbar\":{\"outlinewidth\":0,\"ticks\":\"\"}},\"type\":\"scattergl\"}],\"scattermapbox\":[{\"marker\":{\"colorbar\":{\"outlinewidth\":0,\"ticks\":\"\"}},\"type\":\"scattermapbox\"}],\"scatterpolar\":[{\"marker\":{\"colorbar\":{\"outlinewidth\":0,\"ticks\":\"\"}},\"type\":\"scatterpolar\"}],\"scatterpolargl\":[{\"marker\":{\"colorbar\":{\"outlinewidth\":0,\"ticks\":\"\"}},\"type\":\"scatterpolargl\"}],\"scatterternary\":[{\"marker\":{\"colorbar\":{\"outlinewidth\":0,\"ticks\":\"\"}},\"type\":\"scatterternary\"}],\"surface\":[{\"colorbar\":{\"outlinewidth\":0,\"ticks\":\"\"},\"colorscale\":[[0.0,\"#0d0887\"],[0.1111111111111111,\"#46039f\"],[0.2222222222222222,\"#7201a8\"],[0.3333333333333333,\"#9c179e\"],[0.4444444444444444,\"#bd3786\"],[0.5555555555555556,\"#d8576b\"],[0.6666666666666666,\"#ed7953\"],[0.7777777777777778,\"#fb9f3a\"],[0.8888888888888888,\"#fdca26\"],[1.0,\"#f0f921\"]],\"type\":\"surface\"}],\"table\":[{\"cells\":{\"fill\":{\"color\":\"#EBF0F8\"},\"line\":{\"color\":\"white\"}},\"header\":{\"fill\":{\"color\":\"#C8D4E3\"},\"line\":{\"color\":\"white\"}},\"type\":\"table\"}]},\"layout\":{\"annotationdefaults\":{\"arrowcolor\":\"#2a3f5f\",\"arrowhead\":0,\"arrowwidth\":1},\"autotypenumbers\":\"strict\",\"coloraxis\":{\"colorbar\":{\"outlinewidth\":0,\"ticks\":\"\"}},\"colorscale\":{\"diverging\":[[0,\"#8e0152\"],[0.1,\"#c51b7d\"],[0.2,\"#de77ae\"],[0.3,\"#f1b6da\"],[0.4,\"#fde0ef\"],[0.5,\"#f7f7f7\"],[0.6,\"#e6f5d0\"],[0.7,\"#b8e186\"],[0.8,\"#7fbc41\"],[0.9,\"#4d9221\"],[1,\"#276419\"]],\"sequential\":[[0.0,\"#0d0887\"],[0.1111111111111111,\"#46039f\"],[0.2222222222222222,\"#7201a8\"],[0.3333333333333333,\"#9c179e\"],[0.4444444444444444,\"#bd3786\"],[0.5555555555555556,\"#d8576b\"],[0.6666666666666666,\"#ed7953\"],[0.7777777777777778,\"#fb9f3a\"],[0.8888888888888888,\"#fdca26\"],[1.0,\"#f0f921\"]],\"sequentialminus\":[[0.0,\"#0d0887\"],[0.1111111111111111,\"#46039f\"],[0.2222222222222222,\"#7201a8\"],[0.3333333333333333,\"#9c179e\"],[0.4444444444444444,\"#bd3786\"],[0.5555555555555556,\"#d8576b\"],[0.6666666666666666,\"#ed7953\"],[0.7777777777777778,\"#fb9f3a\"],[0.8888888888888888,\"#fdca26\"],[1.0,\"#f0f921\"]]},\"colorway\":[\"#636efa\",\"#EF553B\",\"#00cc96\",\"#ab63fa\",\"#FFA15A\",\"#19d3f3\",\"#FF6692\",\"#B6E880\",\"#FF97FF\",\"#FECB52\"],\"font\":{\"color\":\"#2a3f5f\"},\"geo\":{\"bgcolor\":\"white\",\"lakecolor\":\"white\",\"landcolor\":\"#E5ECF6\",\"showlakes\":true,\"showland\":true,\"subunitcolor\":\"white\"},\"hoverlabel\":{\"align\":\"left\"},\"hovermode\":\"closest\",\"mapbox\":{\"style\":\"light\"},\"paper_bgcolor\":\"white\",\"plot_bgcolor\":\"#E5ECF6\",\"polar\":{\"angularaxis\":{\"gridcolor\":\"white\",\"linecolor\":\"white\",\"ticks\":\"\"},\"bgcolor\":\"#E5ECF6\",\"radialaxis\":{\"gridcolor\":\"white\",\"linecolor\":\"white\",\"ticks\":\"\"}},\"scene\":{\"xaxis\":{\"backgroundcolor\":\"#E5ECF6\",\"gridcolor\":\"white\",\"gridwidth\":2,\"linecolor\":\"white\",\"showbackground\":true,\"ticks\":\"\",\"zerolinecolor\":\"white\"},\"yaxis\":{\"backgroundcolor\":\"#E5ECF6\",\"gridcolor\":\"white\",\"gridwidth\":2,\"linecolor\":\"white\",\"showbackground\":true,\"ticks\":\"\",\"zerolinecolor\":\"white\"},\"zaxis\":{\"backgroundcolor\":\"#E5ECF6\",\"gridcolor\":\"white\",\"gridwidth\":2,\"linecolor\":\"white\",\"showbackground\":true,\"ticks\":\"\",\"zerolinecolor\":\"white\"}},\"shapedefaults\":{\"line\":{\"color\":\"#2a3f5f\"}},\"ternary\":{\"aaxis\":{\"gridcolor\":\"white\",\"linecolor\":\"white\",\"ticks\":\"\"},\"baxis\":{\"gridcolor\":\"white\",\"linecolor\":\"white\",\"ticks\":\"\"},\"bgcolor\":\"#E5ECF6\",\"caxis\":{\"gridcolor\":\"white\",\"linecolor\":\"white\",\"ticks\":\"\"}},\"title\":{\"x\":0.05},\"xaxis\":{\"automargin\":true,\"gridcolor\":\"white\",\"linecolor\":\"white\",\"ticks\":\"\",\"title\":{\"standoff\":15},\"zerolinecolor\":\"white\",\"zerolinewidth\":2},\"yaxis\":{\"automargin\":true,\"gridcolor\":\"white\",\"linecolor\":\"white\",\"ticks\":\"\",\"title\":{\"standoff\":15},\"zerolinecolor\":\"white\",\"zerolinewidth\":2}}},\"xaxis\":{\"anchor\":\"y\",\"domain\":[0.0,1.0]},\"yaxis\":{\"anchor\":\"x\",\"domain\":[0.0,1.0]},\"legend\":{\"tracegroupgap\":0},\"title\":{\"text\":\"Historico dos pre\\u00e7os das a\\u00e7\\u00f5es\"}},                        {\"responsive\": true}                    ).then(function(){\n",
              "                            \n",
              "var gd = document.getElementById('0d3606b3-3169-46a2-a772-16c499a474b3');\n",
              "var x = new MutationObserver(function (mutations, observer) {{\n",
              "        var display = window.getComputedStyle(gd).display;\n",
              "        if (!display || display === 'none') {{\n",
              "            console.log([gd, 'removed!']);\n",
              "            Plotly.purge(gd);\n",
              "            observer.disconnect();\n",
              "        }}\n",
              "}});\n",
              "\n",
              "// Listen for the removal of the full notebook cells\n",
              "var notebookContainer = gd.closest('#notebook-container');\n",
              "if (notebookContainer) {{\n",
              "    x.observe(notebookContainer, {childList: true});\n",
              "}}\n",
              "\n",
              "// Listen for the clearing of the current output cell\n",
              "var outputEl = gd.closest('.output');\n",
              "if (outputEl) {{\n",
              "    x.observe(outputEl, {childList: true});\n",
              "}}\n",
              "\n",
              "                        })                };                            </script>        </div>\n",
              "</body>\n",
              "</html>"
            ]
          },
          "metadata": {}
        }
      ]
    },
    {
      "cell_type": "code",
      "source": [
        "serie_temporal_datas = serie_temporal['2015-01-01':'2015-12-31']"
      ],
      "metadata": {
        "id": "8b2DrOcCDwuA"
      },
      "execution_count": 14,
      "outputs": []
    },
    {
      "cell_type": "code",
      "source": [
        "serie_temporal_datas"
      ],
      "metadata": {
        "colab": {
          "base_uri": "https://localhost:8080/"
        },
        "id": "T40ih0g8EL-I",
        "outputId": "d8892243-2294-48c2-ae9f-55434bda166b"
      },
      "execution_count": 15,
      "outputs": [
        {
          "output_type": "execute_result",
          "data": {
            "text/plain": [
              "Date\n",
              "2015-01-02    47.259998\n",
              "2015-01-05    46.320000\n",
              "2015-01-06    46.580002\n",
              "2015-01-07    48.150002\n",
              "2015-01-08    48.509998\n",
              "                ...    \n",
              "2015-12-22    42.230000\n",
              "2015-12-23    42.750000\n",
              "2015-12-28    42.500000\n",
              "2015-12-29    42.419998\n",
              "2015-12-30    42.130001\n",
              "Name: BOVA, Length: 246, dtype: float64"
            ]
          },
          "metadata": {},
          "execution_count": 15
        }
      ]
    },
    {
      "cell_type": "code",
      "source": [
        "plt.plot(serie_temporal_datas);"
      ],
      "metadata": {
        "colab": {
          "base_uri": "https://localhost:8080/",
          "height": 265
        },
        "id": "3A8TNYeFENTd",
        "outputId": "b3ca7716-60ca-47b4-a1e7-6941f8311f39"
      },
      "execution_count": 16,
      "outputs": [
        {
          "output_type": "display_data",
          "data": {
            "image/png": "[encoded data removed]",
            "text/plain": [
              "<Figure size 432x288 with 1 Axes>"
            ]
          },
          "metadata": {
            "needs_background": "light"
          }
        }
      ]
    },
    {
      "cell_type": "markdown",
      "source": [
        "- decomposição"
      ],
      "metadata": {
        "id": "Ft_V4FOSQ3kq"
      }
    },
    {
      "cell_type": "code",
      "source": [
        "len(serie_temporal) / 2"
      ],
      "metadata": {
        "colab": {
          "base_uri": "https://localhost:8080/"
        },
        "id": "1A-nZx01RmVA",
        "outputId": "1209390c-0817-4290-9b68-650cd95c8cb8"
      },
      "execution_count": 18,
      "outputs": [
        {
          "output_type": "execute_result",
          "data": {
            "text/plain": [
              "723.0"
            ]
          },
          "metadata": {},
          "execution_count": 18
        }
      ]
    },
    {
      "cell_type": "code",
      "source": [
        "decomposição = seasonal_decompose(serie_temporal, period=723)"
      ],
      "metadata": {
        "id": "nnj7P-lFEbdn"
      },
      "execution_count": 17,
      "outputs": []
    },
    {
      "cell_type": "code",
      "source": [
        "tendencia = decomposição.trend\n",
        "sazonal = decomposição.seasonal\n",
        "aleatorio = decomposição.resid"
      ],
      "metadata": {
        "id": "j0QTbC6tRq_9"
      },
      "execution_count": 19,
      "outputs": []
    },
    {
      "cell_type": "code",
      "source": [
        "plt.plot(tendencia);"
      ],
      "metadata": {
        "colab": {
          "base_uri": "https://localhost:8080/",
          "height": 267
        },
        "id": "yFtqSTTWSLm1",
        "outputId": "65d29496-e5b4-46c4-b4d7-beb685815af6"
      },
      "execution_count": 20,
      "outputs": [
        {
          "output_type": "display_data",
          "data": {
            "image/png": "[encoded data removed]",
            "text/plain": [
              "<Figure size 432x288 with 1 Axes>"
            ]
          },
          "metadata": {
            "needs_background": "light"
          }
        }
      ]
    },
    {
      "cell_type": "code",
      "source": [
        "plt.plot(sazonal); #comum em vendas"
      ],
      "metadata": {
        "colab": {
          "base_uri": "https://localhost:8080/",
          "height": 267
        },
        "id": "q3vKX_4USPrQ",
        "outputId": "46ef7e46-2270-4465-ddd6-da3dee8a5567"
      },
      "execution_count": 21,
      "outputs": [
        {
          "output_type": "display_data",
          "data": {
            "image/png": "[encoded data removed]",
            "text/plain": [
              "<Figure size 432x288 with 1 Axes>"
            ]
          },
          "metadata": {
            "needs_background": "light"
          }
        }
      ]
    },
    {
      "cell_type": "code",
      "source": [
        "plt.plot(aleatorio);"
      ],
      "metadata": {
        "colab": {
          "base_uri": "https://localhost:8080/",
          "height": 265
        },
        "id": "-XYt0918SdqG",
        "outputId": "79305889-d935-41c6-c573-28b004bf275f"
      },
      "execution_count": 22,
      "outputs": [
        {
          "output_type": "display_data",
          "data": {
            "image/png": "[encoded data removed]",
            "text/plain": [
              "<Figure size 432x288 with 1 Axes>"
            ]
          },
          "metadata": {
            "needs_background": "light"
          }
        }
      ]
    },
    {
      "cell_type": "markdown",
      "source": [
        "- Previsão"
      ],
      "metadata": {
        "id": "SLvarQCSS8vc"
      }
    },
    {
      "cell_type": "code",
      "source": [
        "modelo = auto_arima(serie_temporal, suppress_warnings=True, error_action='ignore')"
      ],
      "metadata": {
        "id": "vhpIKKMFSqEa"
      },
      "execution_count": 23,
      "outputs": []
    },
    {
      "cell_type": "code",
      "source": [
        "modelo.order"
      ],
      "metadata": {
        "colab": {
          "base_uri": "https://localhost:8080/"
        },
        "id": "UN5eFGBST3T8",
        "outputId": "57cb02c0-ed7d-4b65-c5c7-8a4084fb5b48"
      },
      "execution_count": 24,
      "outputs": [
        {
          "output_type": "execute_result",
          "data": {
            "text/plain": [
              "(4, 1, 4)"
            ]
          },
          "metadata": {},
          "execution_count": 24
        }
      ]
    },
    {
      "cell_type": "code",
      "source": [
        "previsoes = modelo.predict(n_periods=90) #prev de 90 dias"
      ],
      "metadata": {
        "id": "_xR95iSKUJCj"
      },
      "execution_count": 25,
      "outputs": []
    },
    {
      "cell_type": "code",
      "source": [
        "previsoes"
      ],
      "metadata": {
        "colab": {
          "base_uri": "https://localhost:8080/"
        },
        "id": "YqUyqUweUZ8g",
        "outputId": "9b692896-d26e-4f33-f719-bdb0b4a1dd74"
      },
      "execution_count": 26,
      "outputs": [
        {
          "output_type": "execute_result",
          "data": {
            "text/plain": [
              "array([92.06040543, 91.65955205, 91.68701293, 90.8491663 , 91.06300945,\n",
              "       90.26532904, 90.40839673, 90.00106925, 89.93690554, 89.99878804,\n",
              "       89.77377018, 90.13962912, 89.91466341, 90.32026045, 90.24460551,\n",
              "       90.48548541, 90.60221361, 90.61966236, 90.85324312, 90.72101018,\n",
              "       90.93812553, 90.78325798, 90.87703034, 90.79503927, 90.73961426,\n",
              "       90.75153715, 90.60180531, 90.66525576, 90.51268025, 90.56590554,\n",
              "       90.48364523, 90.48864938, 90.49802807, 90.45815386, 90.52985907,\n",
              "       90.47808018, 90.55958851, 90.53156239, 90.5800275 , 90.5913893 ,\n",
              "       90.59314894, 90.63349803, 90.60310728, 90.64661688, 90.61112656,\n",
              "       90.63411095, 90.61489301, 90.60877602, 90.61143082, 90.58467932,\n",
              "       90.60044369, 90.57066356, 90.5855091 , 90.56816856, 90.57246937,\n",
              "       90.57318666, 90.56632199, 90.58015079, 90.56868461, 90.5852095 ,\n",
              "       90.57727698, 90.58741866, 90.58747874, 90.58792703, 90.59484053,\n",
              "       90.58829248, 90.59708758, 90.58919513, 90.59468672, 90.59019659,\n",
              "       90.58998062, 90.59038076, 90.58563415, 90.58921785, 90.58332507,\n",
              "       90.58702004, 90.58326656, 90.5847585 , 90.58457786, 90.58345945,\n",
              "       90.58607943, 90.58361723, 90.58698382, 90.584975  , 90.58715482,\n",
              "       90.58674696, 90.5869302 , 90.58808919, 90.58674064, 90.58852132])"
            ]
          },
          "metadata": {},
          "execution_count": 26
        }
      ]
    },
    {
      "cell_type": "code",
      "source": [
        "\n",
        "\n",
        "len(serie_temporal)"
      ],
      "metadata": {
        "colab": {
          "base_uri": "https://localhost:8080/"
        },
        "id": "FrbDw9yLUbGG",
        "outputId": "44f6db3e-d665-4404-c93c-eaed442d1c21"
      },
      "execution_count": 29,
      "outputs": [
        {
          "output_type": "execute_result",
          "data": {
            "text/plain": [
              "1446"
            ]
          },
          "metadata": {},
          "execution_count": 29
        }
      ]
    },
    {
      "cell_type": "code",
      "source": [
        "treinamento = serie_temporal[:1081]"
      ],
      "metadata": {
        "id": "7WNr4g-eVML0"
      },
      "execution_count": 28,
      "outputs": []
    },
    {
      "cell_type": "code",
      "source": [
        "treinamento.shape"
      ],
      "metadata": {
        "colab": {
          "base_uri": "https://localhost:8080/"
        },
        "id": "h6G5ZfgbVccW",
        "outputId": "b24155e1-1e24-4a7f-9255-ce81bde21c12"
      },
      "execution_count": 30,
      "outputs": [
        {
          "output_type": "execute_result",
          "data": {
            "text/plain": [
              "(1081,)"
            ]
          },
          "metadata": {},
          "execution_count": 30
        }
      ]
    },
    {
      "cell_type": "code",
      "source": [
        "treinamento.index.min(), treinamento.index.max()"
      ],
      "metadata": {
        "colab": {
          "base_uri": "https://localhost:8080/"
        },
        "id": "CWi2OykoVg0V",
        "outputId": "7aa7b3e4-c445-4175-d975-24836ee3c588"
      },
      "execution_count": 33,
      "outputs": [
        {
          "output_type": "execute_result",
          "data": {
            "text/plain": [
              "(Timestamp('2015-01-02 00:00:00'), Timestamp('2019-05-10 00:00:00'))"
            ]
          },
          "metadata": {},
          "execution_count": 33
        }
      ]
    },
    {
      "cell_type": "code",
      "source": [
        "teste = serie_temporal[1081:]"
      ],
      "metadata": {
        "id": "3OdiYcHRVrUk"
      },
      "execution_count": 34,
      "outputs": []
    },
    {
      "cell_type": "code",
      "source": [
        "teste.shape"
      ],
      "metadata": {
        "colab": {
          "base_uri": "https://localhost:8080/"
        },
        "id": "QmKKypSUV7_j",
        "outputId": "9b0004e0-e539-42c9-ce43-abcf6e009e81"
      },
      "execution_count": 35,
      "outputs": [
        {
          "output_type": "execute_result",
          "data": {
            "text/plain": [
              "(365,)"
            ]
          },
          "metadata": {},
          "execution_count": 35
        }
      ]
    },
    {
      "cell_type": "code",
      "source": [
        "teste.index.min(), teste.index.max()"
      ],
      "metadata": {
        "colab": {
          "base_uri": "https://localhost:8080/"
        },
        "id": "s6taCvCWV880",
        "outputId": "51bea1a4-cb94-4f8c-ef6b-7660aeb4f59a"
      },
      "execution_count": 36,
      "outputs": [
        {
          "output_type": "execute_result",
          "data": {
            "text/plain": [
              "(Timestamp('2019-05-13 00:00:00'), Timestamp('2020-11-03 00:00:00'))"
            ]
          },
          "metadata": {},
          "execution_count": 36
        }
      ]
    },
    {
      "cell_type": "code",
      "source": [
        "modelo2 = auto_arima(treinamento, suppress_warnings=True, error_action='ignore')"
      ],
      "metadata": {
        "id": "xT0AW2BmWB1j"
      },
      "execution_count": 38,
      "outputs": []
    },
    {
      "cell_type": "code",
      "source": [
        "teste.index #valores reais"
      ],
      "metadata": {
        "colab": {
          "base_uri": "https://localhost:8080/"
        },
        "id": "4BCxfvkrW6or",
        "outputId": "6014cfb9-389a-4b02-8c13-22a145d460ac"
      },
      "execution_count": 39,
      "outputs": [
        {
          "output_type": "execute_result",
          "data": {
            "text/plain": [
              "DatetimeIndex(['2019-05-13', '2019-05-14', '2019-05-15', '2019-05-16',\n",
              "               '2019-05-17', '2019-05-20', '2019-05-21', '2019-05-22',\n",
              "               '2019-05-23', '2019-05-24',\n",
              "               ...\n",
              "               '2020-10-20', '2020-10-21', '2020-10-22', '2020-10-23',\n",
              "               '2020-10-26', '2020-10-27', '2020-10-28', '2020-10-29',\n",
              "               '2020-10-30', '2020-11-03'],\n",
              "              dtype='datetime64[ns]', name='Date', length=365, freq=None)"
            ]
          },
          "metadata": {},
          "execution_count": 39
        }
      ]
    },
    {
      "cell_type": "code",
      "source": [
        "previsões = pd.DataFrame(modelo2.predict(n_periods=365), index=teste.index)\n",
        "previsões.columns = ['Previsoes']"
      ],
      "metadata": {
        "id": "KqqQR9QkW8gz"
      },
      "execution_count": 44,
      "outputs": []
    },
    {
      "cell_type": "code",
      "source": [
        "previsões"
      ],
      "metadata": {
        "colab": {
          "base_uri": "https://localhost:8080/",
          "height": 455
        },
        "id": "-a9cMsSsXUio",
        "outputId": "16882beb-2244-4686-a2aa-6cc0cfa44160"
      },
      "execution_count": 45,
      "outputs": [
        {
          "output_type": "execute_result",
          "data": {
            "text/html": [
              "\n",
              "  <div id=\"df-f1e9fd3d-6d88-46e1-b8be-a1e180e24b76\">\n",
              "    <div class=\"colab-df-container\">\n",
              "      <div>\n",
              "<style scoped>\n",
              "    .dataframe tbody tr th:only-of-type {\n",
              "        vertical-align: middle;\n",
              "    }\n",
              "\n",
              "    .dataframe tbody tr th {\n",
              "        vertical-align: top;\n",
              "    }\n",
              "\n",
              "    .dataframe thead th {\n",
              "        text-align: right;\n",
              "    }\n",
              "</style>\n",
              "<table border=\"1\" class=\"dataframe\">\n",
              "  <thead>\n",
              "    <tr style=\"text-align: right;\">\n",
              "      <th></th>\n",
              "      <th>Previsoes</th>\n",
              "    </tr>\n",
              "    <tr>\n",
              "      <th>Date</th>\n",
              "      <th></th>\n",
              "    </tr>\n",
              "  </thead>\n",
              "  <tbody>\n",
              "    <tr>\n",
              "      <th>2019-05-13</th>\n",
              "      <td>90.900022</td>\n",
              "    </tr>\n",
              "    <tr>\n",
              "      <th>2019-05-14</th>\n",
              "      <td>90.977381</td>\n",
              "    </tr>\n",
              "    <tr>\n",
              "      <th>2019-05-15</th>\n",
              "      <td>91.040707</td>\n",
              "    </tr>\n",
              "    <tr>\n",
              "      <th>2019-05-16</th>\n",
              "      <td>91.095342</td>\n",
              "    </tr>\n",
              "    <tr>\n",
              "      <th>2019-05-17</th>\n",
              "      <td>91.144594</td>\n",
              "    </tr>\n",
              "    <tr>\n",
              "      <th>...</th>\n",
              "      <td>...</td>\n",
              "    </tr>\n",
              "    <tr>\n",
              "      <th>2020-10-27</th>\n",
              "      <td>105.575508</td>\n",
              "    </tr>\n",
              "    <tr>\n",
              "      <th>2020-10-28</th>\n",
              "      <td>105.616004</td>\n",
              "    </tr>\n",
              "    <tr>\n",
              "      <th>2020-10-29</th>\n",
              "      <td>105.656500</td>\n",
              "    </tr>\n",
              "    <tr>\n",
              "      <th>2020-10-30</th>\n",
              "      <td>105.696997</td>\n",
              "    </tr>\n",
              "    <tr>\n",
              "      <th>2020-11-03</th>\n",
              "      <td>105.737493</td>\n",
              "    </tr>\n",
              "  </tbody>\n",
              "</table>\n",
              "<p>365 rows × 1 columns</p>\n",
              "</div>\n",
              "      <button class=\"colab-df-convert\" onclick=\"convertToInteractive('df-f1e9fd3d-6d88-46e1-b8be-a1e180e24b76')\"\n",
              "              title=\"Convert this dataframe to an interactive table.\"\n",
              "              style=\"display:none;\">\n",
              "        \n",
              "  <svg xmlns=\"http://www.w3.org/2000/svg\" height=\"24px\"viewBox=\"0 0 24 24\"\n",
              "       width=\"24px\">\n",
              "    <path d=\"M0 0h24v24H0V0z\" fill=\"none\"/>\n",
              "    <path d=\"M18.56 5.44l.94 2.06.94-2.06 2.06-.94-2.06-.94-.94-2.06-.94 2.06-2.06.94zm-11 1L8.5 8.5l.94-2.06 2.06-.94-2.06-.94L8.5 2.5l-.94 2.06-2.06.94zm10 10l.94 2.06.94-2.06 2.06-.94-2.06-.94-.94-2.06-.94 2.06-2.06.94z\"/><path d=\"M17.41 7.96l-1.37-1.37c-.4-.4-.92-.59-1.43-.59-.52 0-1.04.2-1.43.59L10.3 9.45l-7.72 7.72c-.78.78-.78 2.05 0 2.83L4 21.41c.39.39.9.59 1.41.59.51 0 1.02-.2 1.41-.59l7.78-7.78 2.81-2.81c.8-.78.8-2.07 0-2.86zM5.41 20L4 18.59l7.72-7.72 1.47 1.35L5.41 20z\"/>\n",
              "  </svg>\n",
              "      </button>\n",
              "      \n",
              "  <style>\n",
              "    .colab-df-container {\n",
              "      display:flex;\n",
              "      flex-wrap:wrap;\n",
              "      gap: 12px;\n",
              "    }\n",
              "\n",
              "    .colab-df-convert {\n",
              "      background-color: #E8F0FE;\n",
              "      border: none;\n",
              "      border-radius: 50%;\n",
              "      cursor: pointer;\n",
              "      display: none;\n",
              "      fill: #1967D2;\n",
              "      height: 32px;\n",
              "      padding: 0 0 0 0;\n",
              "      width: 32px;\n",
              "    }\n",
              "\n",
              "    .colab-df-convert:hover {\n",
              "      background-color: #E2EBFA;\n",
              "      box-shadow: 0px 1px 2px rgba(60, 64, 67, 0.3), 0px 1px 3px 1px rgba(60, 64, 67, 0.15);\n",
              "      fill: #174EA6;\n",
              "    }\n",
              "\n",
              "    [theme=dark] .colab-df-convert {\n",
              "      background-color: #3B4455;\n",
              "      fill: #D2E3FC;\n",
              "    }\n",
              "\n",
              "    [theme=dark] .colab-df-convert:hover {\n",
              "      background-color: #434B5C;\n",
              "      box-shadow: 0px 1px 3px 1px rgba(0, 0, 0, 0.15);\n",
              "      filter: drop-shadow(0px 1px 2px rgba(0, 0, 0, 0.3));\n",
              "      fill: #FFFFFF;\n",
              "    }\n",
              "  </style>\n",
              "\n",
              "      <script>\n",
              "        const buttonEl =\n",
              "          document.querySelector('#df-f1e9fd3d-6d88-46e1-b8be-a1e180e24b76 button.colab-df-convert');\n",
              "        buttonEl.style.display =\n",
              "          google.colab.kernel.accessAllowed ? 'block' : 'none';\n",
              "\n",
              "        async function convertToInteractive(key) {\n",
              "          const element = document.querySelector('#df-f1e9fd3d-6d88-46e1-b8be-a1e180e24b76');\n",
              "          const dataTable =\n",
              "            await google.colab.kernel.invokeFunction('convertToInteractive',\n",
              "                                                     [key], {});\n",
              "          if (!dataTable) return;\n",
              "\n",
              "          const docLinkHtml = 'Like what you see? Visit the ' +\n",
              "            '<a target=\"_blank\" href=https://colab.research.google.com/notebooks/data_table.ipynb>data table notebook</a>'\n",
              "            + ' to learn more about interactive tables.';\n",
              "          element.innerHTML = '';\n",
              "          dataTable['output_type'] = 'display_data';\n",
              "          await google.colab.output.renderOutput(dataTable, element);\n",
              "          const docLink = document.createElement('div');\n",
              "          docLink.innerHTML = docLinkHtml;\n",
              "          element.appendChild(docLink);\n",
              "        }\n",
              "      </script>\n",
              "    </div>\n",
              "  </div>\n",
              "  "
            ],
            "text/plain": [
              "             Previsoes\n",
              "Date                  \n",
              "2019-05-13   90.900022\n",
              "2019-05-14   90.977381\n",
              "2019-05-15   91.040707\n",
              "2019-05-16   91.095342\n",
              "2019-05-17   91.144594\n",
              "...                ...\n",
              "2020-10-27  105.575508\n",
              "2020-10-28  105.616004\n",
              "2020-10-29  105.656500\n",
              "2020-10-30  105.696997\n",
              "2020-11-03  105.737493\n",
              "\n",
              "[365 rows x 1 columns]"
            ]
          },
          "metadata": {},
          "execution_count": 45
        }
      ]
    },
    {
      "cell_type": "code",
      "source": [
        "teste #real"
      ],
      "metadata": {
        "colab": {
          "base_uri": "https://localhost:8080/"
        },
        "id": "hfaTHNggXVk2",
        "outputId": "ef6a65da-675d-49e2-d364-0b5deef10c72"
      },
      "execution_count": 47,
      "outputs": [
        {
          "output_type": "execute_result",
          "data": {
            "text/plain": [
              "Date\n",
              "2019-05-13    88.309998\n",
              "2019-05-14    88.760002\n",
              "2019-05-15    87.870003\n",
              "2019-05-16    86.559998\n",
              "2019-05-17    86.739998\n",
              "                ...    \n",
              "2020-10-27    95.800003\n",
              "2020-10-28    92.430000\n",
              "2020-10-29    92.910004\n",
              "2020-10-30    90.660004\n",
              "2020-11-03    92.410004\n",
              "Name: BOVA, Length: 365, dtype: float64"
            ]
          },
          "metadata": {},
          "execution_count": 47
        }
      ]
    },
    {
      "cell_type": "code",
      "source": [
        "plt.figure(figsize=(10,5))\n",
        "plt.plot(treinamento, label='Treinamento')\n",
        "plt.plot(teste, label='teste')\n",
        "plt.plot(previsões, label='Previsões')\n",
        "plt.legend();"
      ],
      "metadata": {
        "colab": {
          "base_uri": "https://localhost:8080/",
          "height": 320
        },
        "id": "shsPRrGRX_f0",
        "outputId": "827c06c2-78ee-47b0-83a9-44d752c286c0"
      },
      "execution_count": 50,
      "outputs": [
        {
          "output_type": "display_data",
          "data": {
            "image/png": "[encoded data removed]",
            "text/plain": [
              "<Figure size 720x360 with 1 Axes>"
            ]
          },
          "metadata": {
            "needs_background": "light"
          }
        }
      ]
    },
    {
      "cell_type": "markdown",
      "source": [
        "a previsão não foi capaz de prever o inicio da pandemia, por isso o algoritimo teve trabalho ao acertar as previsões depois de março de 2020"
      ],
      "metadata": {
        "id": "1fbrD4GQZHBu"
      }
    },
    {
      "cell_type": "markdown",
      "source": [
        "e ainda o ARIMA não é tão indicado para trabalhar com dados financeiros, e sim por exemplo com vendas em um periodo especifico"
      ],
      "metadata": {
        "id": "dohFjwAUZcnk"
      }
    },
    {
      "cell_type": "markdown",
      "source": [
        "- avaliação"
      ],
      "metadata": {
        "id": "ZD3hq4CoZ8x0"
      }
    },
    {
      "cell_type": "code",
      "source": [
        "teste[0:2]"
      ],
      "metadata": {
        "colab": {
          "base_uri": "https://localhost:8080/"
        },
        "id": "DAUVpnP2YpF9",
        "outputId": "c23a9c10-2e91-472d-962a-09ef26408e3e"
      },
      "execution_count": 51,
      "outputs": [
        {
          "output_type": "execute_result",
          "data": {
            "text/plain": [
              "Date\n",
              "2019-05-13    88.309998\n",
              "2019-05-14    88.760002\n",
              "Name: BOVA, dtype: float64"
            ]
          },
          "metadata": {},
          "execution_count": 51
        }
      ]
    },
    {
      "cell_type": "code",
      "source": [
        "previsões[0:2]"
      ],
      "metadata": {
        "colab": {
          "base_uri": "https://localhost:8080/",
          "height": 143
        },
        "id": "UVGP7v42Z_tZ",
        "outputId": "af27cbe5-b807-4625-b5b2-a0f9248c71ae"
      },
      "execution_count": 52,
      "outputs": [
        {
          "output_type": "execute_result",
          "data": {
            "text/html": [
              "\n",
              "  <div id=\"df-b821175f-2db8-40a7-876f-e54b70dfa353\">\n",
              "    <div class=\"colab-df-container\">\n",
              "      <div>\n",
              "<style scoped>\n",
              "    .dataframe tbody tr th:only-of-type {\n",
              "        vertical-align: middle;\n",
              "    }\n",
              "\n",
              "    .dataframe tbody tr th {\n",
              "        vertical-align: top;\n",
              "    }\n",
              "\n",
              "    .dataframe thead th {\n",
              "        text-align: right;\n",
              "    }\n",
              "</style>\n",
              "<table border=\"1\" class=\"dataframe\">\n",
              "  <thead>\n",
              "    <tr style=\"text-align: right;\">\n",
              "      <th></th>\n",
              "      <th>Previsoes</th>\n",
              "    </tr>\n",
              "    <tr>\n",
              "      <th>Date</th>\n",
              "      <th></th>\n",
              "    </tr>\n",
              "  </thead>\n",
              "  <tbody>\n",
              "    <tr>\n",
              "      <th>2019-05-13</th>\n",
              "      <td>90.900022</td>\n",
              "    </tr>\n",
              "    <tr>\n",
              "      <th>2019-05-14</th>\n",
              "      <td>90.977381</td>\n",
              "    </tr>\n",
              "  </tbody>\n",
              "</table>\n",
              "</div>\n",
              "      <button class=\"colab-df-convert\" onclick=\"convertToInteractive('df-b821175f-2db8-40a7-876f-e54b70dfa353')\"\n",
              "              title=\"Convert this dataframe to an interactive table.\"\n",
              "              style=\"display:none;\">\n",
              "        \n",
              "  <svg xmlns=\"http://www.w3.org/2000/svg\" height=\"24px\"viewBox=\"0 0 24 24\"\n",
              "       width=\"24px\">\n",
              "    <path d=\"M0 0h24v24H0V0z\" fill=\"none\"/>\n",
              "    <path d=\"M18.56 5.44l.94 2.06.94-2.06 2.06-.94-2.06-.94-.94-2.06-.94 2.06-2.06.94zm-11 1L8.5 8.5l.94-2.06 2.06-.94-2.06-.94L8.5 2.5l-.94 2.06-2.06.94zm10 10l.94 2.06.94-2.06 2.06-.94-2.06-.94-.94-2.06-.94 2.06-2.06.94z\"/><path d=\"M17.41 7.96l-1.37-1.37c-.4-.4-.92-.59-1.43-.59-.52 0-1.04.2-1.43.59L10.3 9.45l-7.72 7.72c-.78.78-.78 2.05 0 2.83L4 21.41c.39.39.9.59 1.41.59.51 0 1.02-.2 1.41-.59l7.78-7.78 2.81-2.81c.8-.78.8-2.07 0-2.86zM5.41 20L4 18.59l7.72-7.72 1.47 1.35L5.41 20z\"/>\n",
              "  </svg>\n",
              "      </button>\n",
              "      \n",
              "  <style>\n",
              "    .colab-df-container {\n",
              "      display:flex;\n",
              "      flex-wrap:wrap;\n",
              "      gap: 12px;\n",
              "    }\n",
              "\n",
              "    .colab-df-convert {\n",
              "      background-color: #E8F0FE;\n",
              "      border: none;\n",
              "      border-radius: 50%;\n",
              "      cursor: pointer;\n",
              "      display: none;\n",
              "      fill: #1967D2;\n",
              "      height: 32px;\n",
              "      padding: 0 0 0 0;\n",
              "      width: 32px;\n",
              "    }\n",
              "\n",
              "    .colab-df-convert:hover {\n",
              "      background-color: #E2EBFA;\n",
              "      box-shadow: 0px 1px 2px rgba(60, 64, 67, 0.3), 0px 1px 3px 1px rgba(60, 64, 67, 0.15);\n",
              "      fill: #174EA6;\n",
              "    }\n",
              "\n",
              "    [theme=dark] .colab-df-convert {\n",
              "      background-color: #3B4455;\n",
              "      fill: #D2E3FC;\n",
              "    }\n",
              "\n",
              "    [theme=dark] .colab-df-convert:hover {\n",
              "      background-color: #434B5C;\n",
              "      box-shadow: 0px 1px 3px 1px rgba(0, 0, 0, 0.15);\n",
              "      filter: drop-shadow(0px 1px 2px rgba(0, 0, 0, 0.3));\n",
              "      fill: #FFFFFF;\n",
              "    }\n",
              "  </style>\n",
              "\n",
              "      <script>\n",
              "        const buttonEl =\n",
              "          document.querySelector('#df-b821175f-2db8-40a7-876f-e54b70dfa353 button.colab-df-convert');\n",
              "        buttonEl.style.display =\n",
              "          google.colab.kernel.accessAllowed ? 'block' : 'none';\n",
              "\n",
              "        async function convertToInteractive(key) {\n",
              "          const element = document.querySelector('#df-b821175f-2db8-40a7-876f-e54b70dfa353');\n",
              "          const dataTable =\n",
              "            await google.colab.kernel.invokeFunction('convertToInteractive',\n",
              "                                                     [key], {});\n",
              "          if (!dataTable) return;\n",
              "\n",
              "          const docLinkHtml = 'Like what you see? Visit the ' +\n",
              "            '<a target=\"_blank\" href=https://colab.research.google.com/notebooks/data_table.ipynb>data table notebook</a>'\n",
              "            + ' to learn more about interactive tables.';\n",
              "          element.innerHTML = '';\n",
              "          dataTable['output_type'] = 'display_data';\n",
              "          await google.colab.output.renderOutput(dataTable, element);\n",
              "          const docLink = document.createElement('div');\n",
              "          docLink.innerHTML = docLinkHtml;\n",
              "          element.appendChild(docLink);\n",
              "        }\n",
              "      </script>\n",
              "    </div>\n",
              "  </div>\n",
              "  "
            ],
            "text/plain": [
              "            Previsoes\n",
              "Date                 \n",
              "2019-05-13  90.900022\n",
              "2019-05-14  90.977381"
            ]
          },
          "metadata": {},
          "execution_count": 52
        }
      ]
    },
    {
      "cell_type": "code",
      "source": [
        "sum(abs(teste - previsões['Previsoes'])/ len(teste)) #qnto menor esse valor, melhor"
      ],
      "metadata": {
        "colab": {
          "base_uri": "https://localhost:8080/"
        },
        "id": "3N17_Hk5aFAW",
        "outputId": "a306fd97-111e-40a2-de2f-2687a67ec004"
      },
      "execution_count": 59,
      "outputs": [
        {
          "output_type": "execute_result",
          "data": {
            "text/plain": [
              "10.260835830334681"
            ]
          },
          "metadata": {},
          "execution_count": 59
        }
      ]
    },
    {
      "cell_type": "markdown",
      "source": [
        "ou"
      ],
      "metadata": {
        "id": "m1rn3Ps9bm5C"
      }
    },
    {
      "cell_type": "code",
      "source": [
        "from sklearn.metrics import mean_absolute_error"
      ],
      "metadata": {
        "id": "C0s23L4AbnyK"
      },
      "execution_count": 60,
      "outputs": []
    },
    {
      "cell_type": "code",
      "source": [
        "mean_absolute_error(teste, previsões)"
      ],
      "metadata": {
        "colab": {
          "base_uri": "https://localhost:8080/"
        },
        "id": "sGyHFAjEbwl6",
        "outputId": "a125632e-8a81-4e1f-d689-64248207f379"
      },
      "execution_count": 61,
      "outputs": [
        {
          "output_type": "execute_result",
          "data": {
            "text/plain": [
              "10.260835830334681"
            ]
          },
          "metadata": {},
          "execution_count": 61
        }
      ]
    },
    {
      "cell_type": "markdown",
      "source": [
        "isso indica que fazendo a previsao com esse algortimo, podemos errar em torno de 10 reais, tanto para cima, como para baixo"
      ],
      "metadata": {
        "id": "owMmKveUbLAX"
      }
    },
    {
      "cell_type": "markdown",
      "source": [
        "**Facebook Prophet**"
      ],
      "metadata": {
        "id": "QJzuhMvtb_JN"
      }
    },
    {
      "cell_type": "code",
      "source": [
        "pip install fbprophet"
      ],
      "metadata": {
        "colab": {
          "base_uri": "https://localhost:8080/"
        },
        "id": "s82mFze2aq1S",
        "outputId": "9231384b-c796-42a3-ea4f-1d5a5968034c"
      },
      "execution_count": 62,
      "outputs": [
        {
          "output_type": "stream",
          "name": "stdout",
          "text": [
            "Requirement already satisfied: fbprophet in /usr/local/lib/python3.7/dist-packages (0.7.1)\n",
            "Requirement already satisfied: Cython>=0.22 in /usr/local/lib/python3.7/dist-packages (from fbprophet) (0.29.26)\n",
            "Requirement already satisfied: cmdstanpy==0.9.5 in /usr/local/lib/python3.7/dist-packages (from fbprophet) (0.9.5)\n",
            "Requirement already satisfied: pystan>=2.14 in /usr/local/lib/python3.7/dist-packages (from fbprophet) (2.19.1.1)\n",
            "Requirement already satisfied: numpy>=1.15.4 in /usr/local/lib/python3.7/dist-packages (from fbprophet) (1.19.5)\n",
            "Requirement already satisfied: pandas>=1.0.4 in /usr/local/lib/python3.7/dist-packages (from fbprophet) (1.1.5)\n",
            "Requirement already satisfied: matplotlib>=2.0.0 in /usr/local/lib/python3.7/dist-packages (from fbprophet) (3.2.2)\n",
            "Requirement already satisfied: LunarCalendar>=0.0.9 in /usr/local/lib/python3.7/dist-packages (from fbprophet) (0.0.9)\n",
            "Requirement already satisfied: convertdate>=2.1.2 in /usr/local/lib/python3.7/dist-packages (from fbprophet) (2.4.0)\n",
            "Requirement already satisfied: holidays>=0.10.2 in /usr/local/lib/python3.7/dist-packages (from fbprophet) (0.10.5.2)\n",
            "Requirement already satisfied: setuptools-git>=1.2 in /usr/local/lib/python3.7/dist-packages (from fbprophet) (1.2)\n",
            "Requirement already satisfied: python-dateutil>=2.8.0 in /usr/local/lib/python3.7/dist-packages (from fbprophet) (2.8.2)\n",
            "Requirement already satisfied: tqdm>=4.36.1 in /usr/local/lib/python3.7/dist-packages (from fbprophet) (4.62.3)\n",
            "Requirement already satisfied: pymeeus<=1,>=0.3.13 in /usr/local/lib/python3.7/dist-packages (from convertdate>=2.1.2->fbprophet) (0.5.11)\n",
            "Requirement already satisfied: hijri-converter in /usr/local/lib/python3.7/dist-packages (from holidays>=0.10.2->fbprophet) (2.2.2)\n",
            "Requirement already satisfied: korean-lunar-calendar in /usr/local/lib/python3.7/dist-packages (from holidays>=0.10.2->fbprophet) (0.2.1)\n",
            "Requirement already satisfied: six in /usr/local/lib/python3.7/dist-packages (from holidays>=0.10.2->fbprophet) (1.15.0)\n",
            "Requirement already satisfied: ephem>=3.7.5.3 in /usr/local/lib/python3.7/dist-packages (from LunarCalendar>=0.0.9->fbprophet) (4.1.3)\n",
            "Requirement already satisfied: pytz in /usr/local/lib/python3.7/dist-packages (from LunarCalendar>=0.0.9->fbprophet) (2018.9)\n",
            "Requirement already satisfied: kiwisolver>=1.0.1 in /usr/local/lib/python3.7/dist-packages (from matplotlib>=2.0.0->fbprophet) (1.3.2)\n",
            "Requirement already satisfied: cycler>=0.10 in /usr/local/lib/python3.7/dist-packages (from matplotlib>=2.0.0->fbprophet) (0.11.0)\n",
            "Requirement already satisfied: pyparsing!=2.0.4,!=2.1.2,!=2.1.6,>=2.0.1 in /usr/local/lib/python3.7/dist-packages (from matplotlib>=2.0.0->fbprophet) (3.0.7)\n"
          ]
        }
      ]
    },
    {
      "cell_type": "code",
      "source": [
        "from fbprophet import Prophet"
      ],
      "metadata": {
        "id": "6PYBrJhucTBF"
      },
      "execution_count": 63,
      "outputs": []
    },
    {
      "cell_type": "code",
      "source": [
        "base = pd.read_csv('/content/acoes.csv', usecols=['Date', 'BOVA']) #aqui naoé prreciso usar o parse, poiso facebook prophet va fazer o serviço"
      ],
      "metadata": {
        "id": "EjwlBRA9cnrb"
      },
      "execution_count": 66,
      "outputs": []
    },
    {
      "cell_type": "code",
      "source": [
        "base"
      ],
      "metadata": {
        "colab": {
          "base_uri": "https://localhost:8080/",
          "height": 423
        },
        "id": "dm7XmaipdKu7",
        "outputId": "ad8b0574-42a6-4ec5-ca0a-f6d030a1ddff"
      },
      "execution_count": 67,
      "outputs": [
        {
          "output_type": "execute_result",
          "data": {
            "text/html": [
              "\n",
              "  <div id=\"df-eff2542a-7098-4332-9621-a315663e4ea9\">\n",
              "    <div class=\"colab-df-container\">\n",
              "      <div>\n",
              "<style scoped>\n",
              "    .dataframe tbody tr th:only-of-type {\n",
              "        vertical-align: middle;\n",
              "    }\n",
              "\n",
              "    .dataframe tbody tr th {\n",
              "        vertical-align: top;\n",
              "    }\n",
              "\n",
              "    .dataframe thead th {\n",
              "        text-align: right;\n",
              "    }\n",
              "</style>\n",
              "<table border=\"1\" class=\"dataframe\">\n",
              "  <thead>\n",
              "    <tr style=\"text-align: right;\">\n",
              "      <th></th>\n",
              "      <th>Date</th>\n",
              "      <th>BOVA</th>\n",
              "    </tr>\n",
              "  </thead>\n",
              "  <tbody>\n",
              "    <tr>\n",
              "      <th>0</th>\n",
              "      <td>2015-01-02</td>\n",
              "      <td>47.259998</td>\n",
              "    </tr>\n",
              "    <tr>\n",
              "      <th>1</th>\n",
              "      <td>2015-01-05</td>\n",
              "      <td>46.320000</td>\n",
              "    </tr>\n",
              "    <tr>\n",
              "      <th>2</th>\n",
              "      <td>2015-01-06</td>\n",
              "      <td>46.580002</td>\n",
              "    </tr>\n",
              "    <tr>\n",
              "      <th>3</th>\n",
              "      <td>2015-01-07</td>\n",
              "      <td>48.150002</td>\n",
              "    </tr>\n",
              "    <tr>\n",
              "      <th>4</th>\n",
              "      <td>2015-01-08</td>\n",
              "      <td>48.509998</td>\n",
              "    </tr>\n",
              "    <tr>\n",
              "      <th>...</th>\n",
              "      <td>...</td>\n",
              "      <td>...</td>\n",
              "    </tr>\n",
              "    <tr>\n",
              "      <th>1441</th>\n",
              "      <td>2020-10-27</td>\n",
              "      <td>95.800003</td>\n",
              "    </tr>\n",
              "    <tr>\n",
              "      <th>1442</th>\n",
              "      <td>2020-10-28</td>\n",
              "      <td>92.430000</td>\n",
              "    </tr>\n",
              "    <tr>\n",
              "      <th>1443</th>\n",
              "      <td>2020-10-29</td>\n",
              "      <td>92.910004</td>\n",
              "    </tr>\n",
              "    <tr>\n",
              "      <th>1444</th>\n",
              "      <td>2020-10-30</td>\n",
              "      <td>90.660004</td>\n",
              "    </tr>\n",
              "    <tr>\n",
              "      <th>1445</th>\n",
              "      <td>2020-11-03</td>\n",
              "      <td>92.410004</td>\n",
              "    </tr>\n",
              "  </tbody>\n",
              "</table>\n",
              "<p>1446 rows × 2 columns</p>\n",
              "</div>\n",
              "      <button class=\"colab-df-convert\" onclick=\"convertToInteractive('df-eff2542a-7098-4332-9621-a315663e4ea9')\"\n",
              "              title=\"Convert this dataframe to an interactive table.\"\n",
              "              style=\"display:none;\">\n",
              "        \n",
              "  <svg xmlns=\"http://www.w3.org/2000/svg\" height=\"24px\"viewBox=\"0 0 24 24\"\n",
              "       width=\"24px\">\n",
              "    <path d=\"M0 0h24v24H0V0z\" fill=\"none\"/>\n",
              "    <path d=\"M18.56 5.44l.94 2.06.94-2.06 2.06-.94-2.06-.94-.94-2.06-.94 2.06-2.06.94zm-11 1L8.5 8.5l.94-2.06 2.06-.94-2.06-.94L8.5 2.5l-.94 2.06-2.06.94zm10 10l.94 2.06.94-2.06 2.06-.94-2.06-.94-.94-2.06-.94 2.06-2.06.94z\"/><path d=\"M17.41 7.96l-1.37-1.37c-.4-.4-.92-.59-1.43-.59-.52 0-1.04.2-1.43.59L10.3 9.45l-7.72 7.72c-.78.78-.78 2.05 0 2.83L4 21.41c.39.39.9.59 1.41.59.51 0 1.02-.2 1.41-.59l7.78-7.78 2.81-2.81c.8-.78.8-2.07 0-2.86zM5.41 20L4 18.59l7.72-7.72 1.47 1.35L5.41 20z\"/>\n",
              "  </svg>\n",
              "      </button>\n",
              "      \n",
              "  <style>\n",
              "    .colab-df-container {\n",
              "      display:flex;\n",
              "      flex-wrap:wrap;\n",
              "      gap: 12px;\n",
              "    }\n",
              "\n",
              "    .colab-df-convert {\n",
              "      background-color: #E8F0FE;\n",
              "      border: none;\n",
              "      border-radius: 50%;\n",
              "      cursor: pointer;\n",
              "      display: none;\n",
              "      fill: #1967D2;\n",
              "      height: 32px;\n",
              "      padding: 0 0 0 0;\n",
              "      width: 32px;\n",
              "    }\n",
              "\n",
              "    .colab-df-convert:hover {\n",
              "      background-color: #E2EBFA;\n",
              "      box-shadow: 0px 1px 2px rgba(60, 64, 67, 0.3), 0px 1px 3px 1px rgba(60, 64, 67, 0.15);\n",
              "      fill: #174EA6;\n",
              "    }\n",
              "\n",
              "    [theme=dark] .colab-df-convert {\n",
              "      background-color: #3B4455;\n",
              "      fill: #D2E3FC;\n",
              "    }\n",
              "\n",
              "    [theme=dark] .colab-df-convert:hover {\n",
              "      background-color: #434B5C;\n",
              "      box-shadow: 0px 1px 3px 1px rgba(0, 0, 0, 0.15);\n",
              "      filter: drop-shadow(0px 1px 2px rgba(0, 0, 0, 0.3));\n",
              "      fill: #FFFFFF;\n",
              "    }\n",
              "  </style>\n",
              "\n",
              "      <script>\n",
              "        const buttonEl =\n",
              "          document.querySelector('#df-eff2542a-7098-4332-9621-a315663e4ea9 button.colab-df-convert');\n",
              "        buttonEl.style.display =\n",
              "          google.colab.kernel.accessAllowed ? 'block' : 'none';\n",
              "\n",
              "        async function convertToInteractive(key) {\n",
              "          const element = document.querySelector('#df-eff2542a-7098-4332-9621-a315663e4ea9');\n",
              "          const dataTable =\n",
              "            await google.colab.kernel.invokeFunction('convertToInteractive',\n",
              "                                                     [key], {});\n",
              "          if (!dataTable) return;\n",
              "\n",
              "          const docLinkHtml = 'Like what you see? Visit the ' +\n",
              "            '<a target=\"_blank\" href=https://colab.research.google.com/notebooks/data_table.ipynb>data table notebook</a>'\n",
              "            + ' to learn more about interactive tables.';\n",
              "          element.innerHTML = '';\n",
              "          dataTable['output_type'] = 'display_data';\n",
              "          await google.colab.output.renderOutput(dataTable, element);\n",
              "          const docLink = document.createElement('div');\n",
              "          docLink.innerHTML = docLinkHtml;\n",
              "          element.appendChild(docLink);\n",
              "        }\n",
              "      </script>\n",
              "    </div>\n",
              "  </div>\n",
              "  "
            ],
            "text/plain": [
              "            Date       BOVA\n",
              "0     2015-01-02  47.259998\n",
              "1     2015-01-05  46.320000\n",
              "2     2015-01-06  46.580002\n",
              "3     2015-01-07  48.150002\n",
              "4     2015-01-08  48.509998\n",
              "...          ...        ...\n",
              "1441  2020-10-27  95.800003\n",
              "1442  2020-10-28  92.430000\n",
              "1443  2020-10-29  92.910004\n",
              "1444  2020-10-30  90.660004\n",
              "1445  2020-11-03  92.410004\n",
              "\n",
              "[1446 rows x 2 columns]"
            ]
          },
          "metadata": {},
          "execution_count": 67
        }
      ]
    },
    {
      "cell_type": "markdown",
      "source": [
        "vamos renomear as colunas por boas prticas e nao haver erros no facebbok prophet, date vai ser ds e BOVA vai ser y"
      ],
      "metadata": {
        "id": "IwzwctF7fCrE"
      }
    },
    {
      "cell_type": "code",
      "source": [
        "base = base[['Date', 'BOVA']].rename(columns= {'Date': 'ds', 'BOVA':'y'})"
      ],
      "metadata": {
        "id": "kFvPKnUEdLMT"
      },
      "execution_count": 69,
      "outputs": []
    },
    {
      "cell_type": "code",
      "source": [
        "base"
      ],
      "metadata": {
        "colab": {
          "base_uri": "https://localhost:8080/",
          "height": 423
        },
        "id": "4H3sIqIagwIp",
        "outputId": "c68834e6-1d00-404c-90d1-764016b0d287"
      },
      "execution_count": 70,
      "outputs": [
        {
          "output_type": "execute_result",
          "data": {
            "text/html": [
              "\n",
              "  <div id=\"df-dc43f2fd-5fb0-4414-a220-90caeb890c88\">\n",
              "    <div class=\"colab-df-container\">\n",
              "      <div>\n",
              "<style scoped>\n",
              "    .dataframe tbody tr th:only-of-type {\n",
              "        vertical-align: middle;\n",
              "    }\n",
              "\n",
              "    .dataframe tbody tr th {\n",
              "        vertical-align: top;\n",
              "    }\n",
              "\n",
              "    .dataframe thead th {\n",
              "        text-align: right;\n",
              "    }\n",
              "</style>\n",
              "<table border=\"1\" class=\"dataframe\">\n",
              "  <thead>\n",
              "    <tr style=\"text-align: right;\">\n",
              "      <th></th>\n",
              "      <th>ds</th>\n",
              "      <th>y</th>\n",
              "    </tr>\n",
              "  </thead>\n",
              "  <tbody>\n",
              "    <tr>\n",
              "      <th>0</th>\n",
              "      <td>2015-01-02</td>\n",
              "      <td>47.259998</td>\n",
              "    </tr>\n",
              "    <tr>\n",
              "      <th>1</th>\n",
              "      <td>2015-01-05</td>\n",
              "      <td>46.320000</td>\n",
              "    </tr>\n",
              "    <tr>\n",
              "      <th>2</th>\n",
              "      <td>2015-01-06</td>\n",
              "      <td>46.580002</td>\n",
              "    </tr>\n",
              "    <tr>\n",
              "      <th>3</th>\n",
              "      <td>2015-01-07</td>\n",
              "      <td>48.150002</td>\n",
              "    </tr>\n",
              "    <tr>\n",
              "      <th>4</th>\n",
              "      <td>2015-01-08</td>\n",
              "      <td>48.509998</td>\n",
              "    </tr>\n",
              "    <tr>\n",
              "      <th>...</th>\n",
              "      <td>...</td>\n",
              "      <td>...</td>\n",
              "    </tr>\n",
              "    <tr>\n",
              "      <th>1441</th>\n",
              "      <td>2020-10-27</td>\n",
              "      <td>95.800003</td>\n",
              "    </tr>\n",
              "    <tr>\n",
              "      <th>1442</th>\n",
              "      <td>2020-10-28</td>\n",
              "      <td>92.430000</td>\n",
              "    </tr>\n",
              "    <tr>\n",
              "      <th>1443</th>\n",
              "      <td>2020-10-29</td>\n",
              "      <td>92.910004</td>\n",
              "    </tr>\n",
              "    <tr>\n",
              "      <th>1444</th>\n",
              "      <td>2020-10-30</td>\n",
              "      <td>90.660004</td>\n",
              "    </tr>\n",
              "    <tr>\n",
              "      <th>1445</th>\n",
              "      <td>2020-11-03</td>\n",
              "      <td>92.410004</td>\n",
              "    </tr>\n",
              "  </tbody>\n",
              "</table>\n",
              "<p>1446 rows × 2 columns</p>\n",
              "</div>\n",
              "      <button class=\"colab-df-convert\" onclick=\"convertToInteractive('df-dc43f2fd-5fb0-4414-a220-90caeb890c88')\"\n",
              "              title=\"Convert this dataframe to an interactive table.\"\n",
              "              style=\"display:none;\">\n",
              "        \n",
              "  <svg xmlns=\"http://www.w3.org/2000/svg\" height=\"24px\"viewBox=\"0 0 24 24\"\n",
              "       width=\"24px\">\n",
              "    <path d=\"M0 0h24v24H0V0z\" fill=\"none\"/>\n",
              "    <path d=\"M18.56 5.44l.94 2.06.94-2.06 2.06-.94-2.06-.94-.94-2.06-.94 2.06-2.06.94zm-11 1L8.5 8.5l.94-2.06 2.06-.94-2.06-.94L8.5 2.5l-.94 2.06-2.06.94zm10 10l.94 2.06.94-2.06 2.06-.94-2.06-.94-.94-2.06-.94 2.06-2.06.94z\"/><path d=\"M17.41 7.96l-1.37-1.37c-.4-.4-.92-.59-1.43-.59-.52 0-1.04.2-1.43.59L10.3 9.45l-7.72 7.72c-.78.78-.78 2.05 0 2.83L4 21.41c.39.39.9.59 1.41.59.51 0 1.02-.2 1.41-.59l7.78-7.78 2.81-2.81c.8-.78.8-2.07 0-2.86zM5.41 20L4 18.59l7.72-7.72 1.47 1.35L5.41 20z\"/>\n",
              "  </svg>\n",
              "      </button>\n",
              "      \n",
              "  <style>\n",
              "    .colab-df-container {\n",
              "      display:flex;\n",
              "      flex-wrap:wrap;\n",
              "      gap: 12px;\n",
              "    }\n",
              "\n",
              "    .colab-df-convert {\n",
              "      background-color: #E8F0FE;\n",
              "      border: none;\n",
              "      border-radius: 50%;\n",
              "      cursor: pointer;\n",
              "      display: none;\n",
              "      fill: #1967D2;\n",
              "      height: 32px;\n",
              "      padding: 0 0 0 0;\n",
              "      width: 32px;\n",
              "    }\n",
              "\n",
              "    .colab-df-convert:hover {\n",
              "      background-color: #E2EBFA;\n",
              "      box-shadow: 0px 1px 2px rgba(60, 64, 67, 0.3), 0px 1px 3px 1px rgba(60, 64, 67, 0.15);\n",
              "      fill: #174EA6;\n",
              "    }\n",
              "\n",
              "    [theme=dark] .colab-df-convert {\n",
              "      background-color: #3B4455;\n",
              "      fill: #D2E3FC;\n",
              "    }\n",
              "\n",
              "    [theme=dark] .colab-df-convert:hover {\n",
              "      background-color: #434B5C;\n",
              "      box-shadow: 0px 1px 3px 1px rgba(0, 0, 0, 0.15);\n",
              "      filter: drop-shadow(0px 1px 2px rgba(0, 0, 0, 0.3));\n",
              "      fill: #FFFFFF;\n",
              "    }\n",
              "  </style>\n",
              "\n",
              "      <script>\n",
              "        const buttonEl =\n",
              "          document.querySelector('#df-dc43f2fd-5fb0-4414-a220-90caeb890c88 button.colab-df-convert');\n",
              "        buttonEl.style.display =\n",
              "          google.colab.kernel.accessAllowed ? 'block' : 'none';\n",
              "\n",
              "        async function convertToInteractive(key) {\n",
              "          const element = document.querySelector('#df-dc43f2fd-5fb0-4414-a220-90caeb890c88');\n",
              "          const dataTable =\n",
              "            await google.colab.kernel.invokeFunction('convertToInteractive',\n",
              "                                                     [key], {});\n",
              "          if (!dataTable) return;\n",
              "\n",
              "          const docLinkHtml = 'Like what you see? Visit the ' +\n",
              "            '<a target=\"_blank\" href=https://colab.research.google.com/notebooks/data_table.ipynb>data table notebook</a>'\n",
              "            + ' to learn more about interactive tables.';\n",
              "          element.innerHTML = '';\n",
              "          dataTable['output_type'] = 'display_data';\n",
              "          await google.colab.output.renderOutput(dataTable, element);\n",
              "          const docLink = document.createElement('div');\n",
              "          docLink.innerHTML = docLinkHtml;\n",
              "          element.appendChild(docLink);\n",
              "        }\n",
              "      </script>\n",
              "    </div>\n",
              "  </div>\n",
              "  "
            ],
            "text/plain": [
              "              ds          y\n",
              "0     2015-01-02  47.259998\n",
              "1     2015-01-05  46.320000\n",
              "2     2015-01-06  46.580002\n",
              "3     2015-01-07  48.150002\n",
              "4     2015-01-08  48.509998\n",
              "...          ...        ...\n",
              "1441  2020-10-27  95.800003\n",
              "1442  2020-10-28  92.430000\n",
              "1443  2020-10-29  92.910004\n",
              "1444  2020-10-30  90.660004\n",
              "1445  2020-11-03  92.410004\n",
              "\n",
              "[1446 rows x 2 columns]"
            ]
          },
          "metadata": {},
          "execution_count": 70
        }
      ]
    },
    {
      "cell_type": "markdown",
      "source": [
        "- Modelo e Previsão"
      ],
      "metadata": {
        "id": "uX6WohYWg5Mf"
      }
    },
    {
      "cell_type": "code",
      "source": [
        "modelo = Prophet()\n",
        "modelo.fit(base)"
      ],
      "metadata": {
        "colab": {
          "base_uri": "https://localhost:8080/"
        },
        "id": "4KGlHPjHgxEp",
        "outputId": "1dcbd0e1-729e-4b7b-addd-41b7edb219d0"
      },
      "execution_count": 71,
      "outputs": [
        {
          "output_type": "stream",
          "name": "stderr",
          "text": [
            "INFO:fbprophet:Disabling daily seasonality. Run prophet with daily_seasonality=True to override this.\n"
          ]
        },
        {
          "output_type": "execute_result",
          "data": {
            "text/plain": [
              "<fbprophet.forecaster.Prophet at 0x7f20dc33e910>"
            ]
          },
          "metadata": {},
          "execution_count": 71
        }
      ]
    },
    {
      "cell_type": "code",
      "source": [
        "futuro = modelo.make_future_dataframe(periods=90) #previsao pra os proximos 90 dias\n",
        "predictions = modelo.predict(futuro)"
      ],
      "metadata": {
        "id": "VbGXcVyQiNsL"
      },
      "execution_count": 73,
      "outputs": []
    },
    {
      "cell_type": "code",
      "source": [
        "predictions.head()"
      ],
      "metadata": {
        "colab": {
          "base_uri": "https://localhost:8080/",
          "height": 357
        },
        "id": "Fxmy-_gXiwi2",
        "outputId": "aa27f2a7-ec0a-4a49-ad9a-a938a9955b0b"
      },
      "execution_count": 75,
      "outputs": [
        {
          "output_type": "execute_result",
          "data": {
            "text/html": [
              "\n",
              "  <div id=\"df-a78e65a8-6ae0-4387-9bd4-8ee5d74a84b1\">\n",
              "    <div class=\"colab-df-container\">\n",
              "      <div>\n",
              "<style scoped>\n",
              "    .dataframe tbody tr th:only-of-type {\n",
              "        vertical-align: middle;\n",
              "    }\n",
              "\n",
              "    .dataframe tbody tr th {\n",
              "        vertical-align: top;\n",
              "    }\n",
              "\n",
              "    .dataframe thead th {\n",
              "        text-align: right;\n",
              "    }\n",
              "</style>\n",
              "<table border=\"1\" class=\"dataframe\">\n",
              "  <thead>\n",
              "    <tr style=\"text-align: right;\">\n",
              "      <th></th>\n",
              "      <th>ds</th>\n",
              "      <th>trend</th>\n",
              "      <th>yhat_lower</th>\n",
              "      <th>yhat_upper</th>\n",
              "      <th>trend_lower</th>\n",
              "      <th>trend_upper</th>\n",
              "      <th>additive_terms</th>\n",
              "      <th>additive_terms_lower</th>\n",
              "      <th>additive_terms_upper</th>\n",
              "      <th>weekly</th>\n",
              "      <th>weekly_lower</th>\n",
              "      <th>weekly_upper</th>\n",
              "      <th>yearly</th>\n",
              "      <th>yearly_lower</th>\n",
              "      <th>yearly_upper</th>\n",
              "      <th>multiplicative_terms</th>\n",
              "      <th>multiplicative_terms_lower</th>\n",
              "      <th>multiplicative_terms_upper</th>\n",
              "      <th>yhat</th>\n",
              "    </tr>\n",
              "  </thead>\n",
              "  <tbody>\n",
              "    <tr>\n",
              "      <th>0</th>\n",
              "      <td>2015-01-02</td>\n",
              "      <td>48.991425</td>\n",
              "      <td>43.851878</td>\n",
              "      <td>58.041350</td>\n",
              "      <td>48.991425</td>\n",
              "      <td>48.991425</td>\n",
              "      <td>1.835024</td>\n",
              "      <td>1.835024</td>\n",
              "      <td>1.835024</td>\n",
              "      <td>0.401428</td>\n",
              "      <td>0.401428</td>\n",
              "      <td>0.401428</td>\n",
              "      <td>1.433596</td>\n",
              "      <td>1.433596</td>\n",
              "      <td>1.433596</td>\n",
              "      <td>0.0</td>\n",
              "      <td>0.0</td>\n",
              "      <td>0.0</td>\n",
              "      <td>50.826449</td>\n",
              "    </tr>\n",
              "    <tr>\n",
              "      <th>1</th>\n",
              "      <td>2015-01-05</td>\n",
              "      <td>49.018699</td>\n",
              "      <td>44.000554</td>\n",
              "      <td>58.641342</td>\n",
              "      <td>49.018699</td>\n",
              "      <td>49.018699</td>\n",
              "      <td>2.198627</td>\n",
              "      <td>2.198627</td>\n",
              "      <td>2.198627</td>\n",
              "      <td>0.342181</td>\n",
              "      <td>0.342181</td>\n",
              "      <td>0.342181</td>\n",
              "      <td>1.856447</td>\n",
              "      <td>1.856447</td>\n",
              "      <td>1.856447</td>\n",
              "      <td>0.0</td>\n",
              "      <td>0.0</td>\n",
              "      <td>0.0</td>\n",
              "      <td>51.217327</td>\n",
              "    </tr>\n",
              "    <tr>\n",
              "      <th>2</th>\n",
              "      <td>2015-01-06</td>\n",
              "      <td>49.027791</td>\n",
              "      <td>44.037633</td>\n",
              "      <td>57.986283</td>\n",
              "      <td>49.027791</td>\n",
              "      <td>49.027791</td>\n",
              "      <td>2.386577</td>\n",
              "      <td>2.386577</td>\n",
              "      <td>2.386577</td>\n",
              "      <td>0.389818</td>\n",
              "      <td>0.389818</td>\n",
              "      <td>0.389818</td>\n",
              "      <td>1.996759</td>\n",
              "      <td>1.996759</td>\n",
              "      <td>1.996759</td>\n",
              "      <td>0.0</td>\n",
              "      <td>0.0</td>\n",
              "      <td>0.0</td>\n",
              "      <td>51.414368</td>\n",
              "    </tr>\n",
              "    <tr>\n",
              "      <th>3</th>\n",
              "      <td>2015-01-07</td>\n",
              "      <td>49.036883</td>\n",
              "      <td>44.747627</td>\n",
              "      <td>58.694020</td>\n",
              "      <td>49.036883</td>\n",
              "      <td>49.036883</td>\n",
              "      <td>2.492839</td>\n",
              "      <td>2.492839</td>\n",
              "      <td>2.492839</td>\n",
              "      <td>0.359332</td>\n",
              "      <td>0.359332</td>\n",
              "      <td>0.359332</td>\n",
              "      <td>2.133507</td>\n",
              "      <td>2.133507</td>\n",
              "      <td>2.133507</td>\n",
              "      <td>0.0</td>\n",
              "      <td>0.0</td>\n",
              "      <td>0.0</td>\n",
              "      <td>51.529722</td>\n",
              "    </tr>\n",
              "    <tr>\n",
              "      <th>4</th>\n",
              "      <td>2015-01-08</td>\n",
              "      <td>49.045974</td>\n",
              "      <td>44.743777</td>\n",
              "      <td>58.493594</td>\n",
              "      <td>49.045974</td>\n",
              "      <td>49.045974</td>\n",
              "      <td>2.661502</td>\n",
              "      <td>2.661502</td>\n",
              "      <td>2.661502</td>\n",
              "      <td>0.396597</td>\n",
              "      <td>0.396597</td>\n",
              "      <td>0.396597</td>\n",
              "      <td>2.264905</td>\n",
              "      <td>2.264905</td>\n",
              "      <td>2.264905</td>\n",
              "      <td>0.0</td>\n",
              "      <td>0.0</td>\n",
              "      <td>0.0</td>\n",
              "      <td>51.707476</td>\n",
              "    </tr>\n",
              "  </tbody>\n",
              "</table>\n",
              "</div>\n",
              "      <button class=\"colab-df-convert\" onclick=\"convertToInteractive('df-a78e65a8-6ae0-4387-9bd4-8ee5d74a84b1')\"\n",
              "              title=\"Convert this dataframe to an interactive table.\"\n",
              "              style=\"display:none;\">\n",
              "        \n",
              "  <svg xmlns=\"http://www.w3.org/2000/svg\" height=\"24px\"viewBox=\"0 0 24 24\"\n",
              "       width=\"24px\">\n",
              "    <path d=\"M0 0h24v24H0V0z\" fill=\"none\"/>\n",
              "    <path d=\"M18.56 5.44l.94 2.06.94-2.06 2.06-.94-2.06-.94-.94-2.06-.94 2.06-2.06.94zm-11 1L8.5 8.5l.94-2.06 2.06-.94-2.06-.94L8.5 2.5l-.94 2.06-2.06.94zm10 10l.94 2.06.94-2.06 2.06-.94-2.06-.94-.94-2.06-.94 2.06-2.06.94z\"/><path d=\"M17.41 7.96l-1.37-1.37c-.4-.4-.92-.59-1.43-.59-.52 0-1.04.2-1.43.59L10.3 9.45l-7.72 7.72c-.78.78-.78 2.05 0 2.83L4 21.41c.39.39.9.59 1.41.59.51 0 1.02-.2 1.41-.59l7.78-7.78 2.81-2.81c.8-.78.8-2.07 0-2.86zM5.41 20L4 18.59l7.72-7.72 1.47 1.35L5.41 20z\"/>\n",
              "  </svg>\n",
              "      </button>\n",
              "      \n",
              "  <style>\n",
              "    .colab-df-container {\n",
              "      display:flex;\n",
              "      flex-wrap:wrap;\n",
              "      gap: 12px;\n",
              "    }\n",
              "\n",
              "    .colab-df-convert {\n",
              "      background-color: #E8F0FE;\n",
              "      border: none;\n",
              "      border-radius: 50%;\n",
              "      cursor: pointer;\n",
              "      display: none;\n",
              "      fill: #1967D2;\n",
              "      height: 32px;\n",
              "      padding: 0 0 0 0;\n",
              "      width: 32px;\n",
              "    }\n",
              "\n",
              "    .colab-df-convert:hover {\n",
              "      background-color: #E2EBFA;\n",
              "      box-shadow: 0px 1px 2px rgba(60, 64, 67, 0.3), 0px 1px 3px 1px rgba(60, 64, 67, 0.15);\n",
              "      fill: #174EA6;\n",
              "    }\n",
              "\n",
              "    [theme=dark] .colab-df-convert {\n",
              "      background-color: #3B4455;\n",
              "      fill: #D2E3FC;\n",
              "    }\n",
              "\n",
              "    [theme=dark] .colab-df-convert:hover {\n",
              "      background-color: #434B5C;\n",
              "      box-shadow: 0px 1px 3px 1px rgba(0, 0, 0, 0.15);\n",
              "      filter: drop-shadow(0px 1px 2px rgba(0, 0, 0, 0.3));\n",
              "      fill: #FFFFFF;\n",
              "    }\n",
              "  </style>\n",
              "\n",
              "      <script>\n",
              "        const buttonEl =\n",
              "          document.querySelector('#df-a78e65a8-6ae0-4387-9bd4-8ee5d74a84b1 button.colab-df-convert');\n",
              "        buttonEl.style.display =\n",
              "          google.colab.kernel.accessAllowed ? 'block' : 'none';\n",
              "\n",
              "        async function convertToInteractive(key) {\n",
              "          const element = document.querySelector('#df-a78e65a8-6ae0-4387-9bd4-8ee5d74a84b1');\n",
              "          const dataTable =\n",
              "            await google.colab.kernel.invokeFunction('convertToInteractive',\n",
              "                                                     [key], {});\n",
              "          if (!dataTable) return;\n",
              "\n",
              "          const docLinkHtml = 'Like what you see? Visit the ' +\n",
              "            '<a target=\"_blank\" href=https://colab.research.google.com/notebooks/data_table.ipynb>data table notebook</a>'\n",
              "            + ' to learn more about interactive tables.';\n",
              "          element.innerHTML = '';\n",
              "          dataTable['output_type'] = 'display_data';\n",
              "          await google.colab.output.renderOutput(dataTable, element);\n",
              "          const docLink = document.createElement('div');\n",
              "          docLink.innerHTML = docLinkHtml;\n",
              "          element.appendChild(docLink);\n",
              "        }\n",
              "      </script>\n",
              "    </div>\n",
              "  </div>\n",
              "  "
            ],
            "text/plain": [
              "          ds      trend  ...  multiplicative_terms_upper       yhat\n",
              "0 2015-01-02  48.991425  ...                         0.0  50.826449\n",
              "1 2015-01-05  49.018699  ...                         0.0  51.217327\n",
              "2 2015-01-06  49.027791  ...                         0.0  51.414368\n",
              "3 2015-01-07  49.036883  ...                         0.0  51.529722\n",
              "4 2015-01-08  49.045974  ...                         0.0  51.707476\n",
              "\n",
              "[5 rows x 19 columns]"
            ]
          },
          "metadata": {},
          "execution_count": 75
        }
      ]
    },
    {
      "cell_type": "code",
      "source": [
        "len(base), len(predictions)"
      ],
      "metadata": {
        "colab": {
          "base_uri": "https://localhost:8080/"
        },
        "id": "bnIaYaLTixsY",
        "outputId": "f12d135a-cab6-4481-9ae0-beb53e2b8d65"
      },
      "execution_count": 77,
      "outputs": [
        {
          "output_type": "execute_result",
          "data": {
            "text/plain": [
              "(1446, 1536)"
            ]
          },
          "metadata": {},
          "execution_count": 77
        }
      ]
    },
    {
      "cell_type": "code",
      "source": [
        "len(predictions) - len(base)"
      ],
      "metadata": {
        "colab": {
          "base_uri": "https://localhost:8080/"
        },
        "id": "ozmaZ9cEjOGG",
        "outputId": "ad92bb6d-2006-437a-92d1-8e478c8cb597"
      },
      "execution_count": 78,
      "outputs": [
        {
          "output_type": "execute_result",
          "data": {
            "text/plain": [
              "90"
            ]
          },
          "metadata": {},
          "execution_count": 78
        }
      ]
    },
    {
      "cell_type": "code",
      "source": [
        "predictions.tail(90)"
      ],
      "metadata": {
        "colab": {
          "base_uri": "https://localhost:8080/",
          "height": 661
        },
        "id": "QzanO2c4jcvH",
        "outputId": "28a1a4f5-8090-482e-e7d8-c2583eb2889e"
      },
      "execution_count": 80,
      "outputs": [
        {
          "output_type": "execute_result",
          "data": {
            "text/html": [
              "\n",
              "  <div id=\"df-2283af10-4691-4e9e-9193-1568a6f3550c\">\n",
              "    <div class=\"colab-df-container\">\n",
              "      <div>\n",
              "<style scoped>\n",
              "    .dataframe tbody tr th:only-of-type {\n",
              "        vertical-align: middle;\n",
              "    }\n",
              "\n",
              "    .dataframe tbody tr th {\n",
              "        vertical-align: top;\n",
              "    }\n",
              "\n",
              "    .dataframe thead th {\n",
              "        text-align: right;\n",
              "    }\n",
              "</style>\n",
              "<table border=\"1\" class=\"dataframe\">\n",
              "  <thead>\n",
              "    <tr style=\"text-align: right;\">\n",
              "      <th></th>\n",
              "      <th>ds</th>\n",
              "      <th>trend</th>\n",
              "      <th>yhat_lower</th>\n",
              "      <th>yhat_upper</th>\n",
              "      <th>trend_lower</th>\n",
              "      <th>trend_upper</th>\n",
              "      <th>additive_terms</th>\n",
              "      <th>additive_terms_lower</th>\n",
              "      <th>additive_terms_upper</th>\n",
              "      <th>weekly</th>\n",
              "      <th>weekly_lower</th>\n",
              "      <th>weekly_upper</th>\n",
              "      <th>yearly</th>\n",
              "      <th>yearly_lower</th>\n",
              "      <th>yearly_upper</th>\n",
              "      <th>multiplicative_terms</th>\n",
              "      <th>multiplicative_terms_lower</th>\n",
              "      <th>multiplicative_terms_upper</th>\n",
              "      <th>yhat</th>\n",
              "    </tr>\n",
              "  </thead>\n",
              "  <tbody>\n",
              "    <tr>\n",
              "      <th>1446</th>\n",
              "      <td>2020-11-04</td>\n",
              "      <td>90.226469</td>\n",
              "      <td>85.399452</td>\n",
              "      <td>99.700532</td>\n",
              "      <td>90.226469</td>\n",
              "      <td>90.226469</td>\n",
              "      <td>2.341880</td>\n",
              "      <td>2.341880</td>\n",
              "      <td>2.341880</td>\n",
              "      <td>0.359332</td>\n",
              "      <td>0.359332</td>\n",
              "      <td>0.359332</td>\n",
              "      <td>1.982549</td>\n",
              "      <td>1.982549</td>\n",
              "      <td>1.982549</td>\n",
              "      <td>0.0</td>\n",
              "      <td>0.0</td>\n",
              "      <td>0.0</td>\n",
              "      <td>92.568350</td>\n",
              "    </tr>\n",
              "    <tr>\n",
              "      <th>1447</th>\n",
              "      <td>2020-11-05</td>\n",
              "      <td>90.204724</td>\n",
              "      <td>85.376106</td>\n",
              "      <td>98.846509</td>\n",
              "      <td>90.204724</td>\n",
              "      <td>90.204724</td>\n",
              "      <td>2.245200</td>\n",
              "      <td>2.245200</td>\n",
              "      <td>2.245200</td>\n",
              "      <td>0.396597</td>\n",
              "      <td>0.396597</td>\n",
              "      <td>0.396597</td>\n",
              "      <td>1.848603</td>\n",
              "      <td>1.848603</td>\n",
              "      <td>1.848603</td>\n",
              "      <td>0.0</td>\n",
              "      <td>0.0</td>\n",
              "      <td>0.0</td>\n",
              "      <td>92.449925</td>\n",
              "    </tr>\n",
              "    <tr>\n",
              "      <th>1448</th>\n",
              "      <td>2020-11-06</td>\n",
              "      <td>90.182980</td>\n",
              "      <td>84.667010</td>\n",
              "      <td>99.714794</td>\n",
              "      <td>90.182980</td>\n",
              "      <td>90.182980</td>\n",
              "      <td>2.119374</td>\n",
              "      <td>2.119374</td>\n",
              "      <td>2.119374</td>\n",
              "      <td>0.401428</td>\n",
              "      <td>0.401428</td>\n",
              "      <td>0.401428</td>\n",
              "      <td>1.717946</td>\n",
              "      <td>1.717946</td>\n",
              "      <td>1.717946</td>\n",
              "      <td>0.0</td>\n",
              "      <td>0.0</td>\n",
              "      <td>0.0</td>\n",
              "      <td>92.302354</td>\n",
              "    </tr>\n",
              "    <tr>\n",
              "      <th>1449</th>\n",
              "      <td>2020-11-07</td>\n",
              "      <td>90.161235</td>\n",
              "      <td>83.589227</td>\n",
              "      <td>98.153646</td>\n",
              "      <td>90.161235</td>\n",
              "      <td>90.161235</td>\n",
              "      <td>0.648184</td>\n",
              "      <td>0.648184</td>\n",
              "      <td>0.648184</td>\n",
              "      <td>-0.944678</td>\n",
              "      <td>-0.944678</td>\n",
              "      <td>-0.944678</td>\n",
              "      <td>1.592862</td>\n",
              "      <td>1.592862</td>\n",
              "      <td>1.592862</td>\n",
              "      <td>0.0</td>\n",
              "      <td>0.0</td>\n",
              "      <td>0.0</td>\n",
              "      <td>90.809419</td>\n",
              "    </tr>\n",
              "    <tr>\n",
              "      <th>1450</th>\n",
              "      <td>2020-11-08</td>\n",
              "      <td>90.139490</td>\n",
              "      <td>83.934843</td>\n",
              "      <td>97.934955</td>\n",
              "      <td>90.139490</td>\n",
              "      <td>90.139490</td>\n",
              "      <td>0.530774</td>\n",
              "      <td>0.530774</td>\n",
              "      <td>0.530774</td>\n",
              "      <td>-0.944678</td>\n",
              "      <td>-0.944678</td>\n",
              "      <td>-0.944678</td>\n",
              "      <td>1.475452</td>\n",
              "      <td>1.475452</td>\n",
              "      <td>1.475452</td>\n",
              "      <td>0.0</td>\n",
              "      <td>0.0</td>\n",
              "      <td>0.0</td>\n",
              "      <td>90.670264</td>\n",
              "    </tr>\n",
              "    <tr>\n",
              "      <th>...</th>\n",
              "      <td>...</td>\n",
              "      <td>...</td>\n",
              "      <td>...</td>\n",
              "      <td>...</td>\n",
              "      <td>...</td>\n",
              "      <td>...</td>\n",
              "      <td>...</td>\n",
              "      <td>...</td>\n",
              "      <td>...</td>\n",
              "      <td>...</td>\n",
              "      <td>...</td>\n",
              "      <td>...</td>\n",
              "      <td>...</td>\n",
              "      <td>...</td>\n",
              "      <td>...</td>\n",
              "      <td>...</td>\n",
              "      <td>...</td>\n",
              "      <td>...</td>\n",
              "      <td>...</td>\n",
              "    </tr>\n",
              "    <tr>\n",
              "      <th>1531</th>\n",
              "      <td>2021-01-28</td>\n",
              "      <td>88.378164</td>\n",
              "      <td>84.496086</td>\n",
              "      <td>98.456907</td>\n",
              "      <td>87.575888</td>\n",
              "      <td>88.989403</td>\n",
              "      <td>3.402828</td>\n",
              "      <td>3.402828</td>\n",
              "      <td>3.402828</td>\n",
              "      <td>0.396597</td>\n",
              "      <td>0.396597</td>\n",
              "      <td>0.396597</td>\n",
              "      <td>3.006231</td>\n",
              "      <td>3.006231</td>\n",
              "      <td>3.006231</td>\n",
              "      <td>0.0</td>\n",
              "      <td>0.0</td>\n",
              "      <td>0.0</td>\n",
              "      <td>91.780992</td>\n",
              "    </tr>\n",
              "    <tr>\n",
              "      <th>1532</th>\n",
              "      <td>2021-01-29</td>\n",
              "      <td>88.356420</td>\n",
              "      <td>84.575725</td>\n",
              "      <td>98.687078</td>\n",
              "      <td>87.549387</td>\n",
              "      <td>88.992725</td>\n",
              "      <td>3.408446</td>\n",
              "      <td>3.408446</td>\n",
              "      <td>3.408446</td>\n",
              "      <td>0.401428</td>\n",
              "      <td>0.401428</td>\n",
              "      <td>0.401428</td>\n",
              "      <td>3.007017</td>\n",
              "      <td>3.007017</td>\n",
              "      <td>3.007017</td>\n",
              "      <td>0.0</td>\n",
              "      <td>0.0</td>\n",
              "      <td>0.0</td>\n",
              "      <td>91.764865</td>\n",
              "    </tr>\n",
              "    <tr>\n",
              "      <th>1533</th>\n",
              "      <td>2021-01-30</td>\n",
              "      <td>88.334675</td>\n",
              "      <td>83.446658</td>\n",
              "      <td>97.438861</td>\n",
              "      <td>87.517648</td>\n",
              "      <td>88.987238</td>\n",
              "      <td>2.069184</td>\n",
              "      <td>2.069184</td>\n",
              "      <td>2.069184</td>\n",
              "      <td>-0.944678</td>\n",
              "      <td>-0.944678</td>\n",
              "      <td>-0.944678</td>\n",
              "      <td>3.013862</td>\n",
              "      <td>3.013862</td>\n",
              "      <td>3.013862</td>\n",
              "      <td>0.0</td>\n",
              "      <td>0.0</td>\n",
              "      <td>0.0</td>\n",
              "      <td>90.403858</td>\n",
              "    </tr>\n",
              "    <tr>\n",
              "      <th>1534</th>\n",
              "      <td>2021-01-31</td>\n",
              "      <td>88.312930</td>\n",
              "      <td>83.331240</td>\n",
              "      <td>98.019873</td>\n",
              "      <td>87.483969</td>\n",
              "      <td>88.983857</td>\n",
              "      <td>2.082822</td>\n",
              "      <td>2.082822</td>\n",
              "      <td>2.082822</td>\n",
              "      <td>-0.944678</td>\n",
              "      <td>-0.944678</td>\n",
              "      <td>-0.944678</td>\n",
              "      <td>3.027501</td>\n",
              "      <td>3.027501</td>\n",
              "      <td>3.027501</td>\n",
              "      <td>0.0</td>\n",
              "      <td>0.0</td>\n",
              "      <td>0.0</td>\n",
              "      <td>90.395753</td>\n",
              "    </tr>\n",
              "    <tr>\n",
              "      <th>1535</th>\n",
              "      <td>2021-02-01</td>\n",
              "      <td>88.291185</td>\n",
              "      <td>84.218525</td>\n",
              "      <td>98.662472</td>\n",
              "      <td>87.450298</td>\n",
              "      <td>88.971488</td>\n",
              "      <td>3.390604</td>\n",
              "      <td>3.390604</td>\n",
              "      <td>3.390604</td>\n",
              "      <td>0.342181</td>\n",
              "      <td>0.342181</td>\n",
              "      <td>0.342181</td>\n",
              "      <td>3.048423</td>\n",
              "      <td>3.048423</td>\n",
              "      <td>3.048423</td>\n",
              "      <td>0.0</td>\n",
              "      <td>0.0</td>\n",
              "      <td>0.0</td>\n",
              "      <td>91.681790</td>\n",
              "    </tr>\n",
              "  </tbody>\n",
              "</table>\n",
              "<p>90 rows × 19 columns</p>\n",
              "</div>\n",
              "      <button class=\"colab-df-convert\" onclick=\"convertToInteractive('df-2283af10-4691-4e9e-9193-1568a6f3550c')\"\n",
              "              title=\"Convert this dataframe to an interactive table.\"\n",
              "              style=\"display:none;\">\n",
              "        \n",
              "  <svg xmlns=\"http://www.w3.org/2000/svg\" height=\"24px\"viewBox=\"0 0 24 24\"\n",
              "       width=\"24px\">\n",
              "    <path d=\"M0 0h24v24H0V0z\" fill=\"none\"/>\n",
              "    <path d=\"M18.56 5.44l.94 2.06.94-2.06 2.06-.94-2.06-.94-.94-2.06-.94 2.06-2.06.94zm-11 1L8.5 8.5l.94-2.06 2.06-.94-2.06-.94L8.5 2.5l-.94 2.06-2.06.94zm10 10l.94 2.06.94-2.06 2.06-.94-2.06-.94-.94-2.06-.94 2.06-2.06.94z\"/><path d=\"M17.41 7.96l-1.37-1.37c-.4-.4-.92-.59-1.43-.59-.52 0-1.04.2-1.43.59L10.3 9.45l-7.72 7.72c-.78.78-.78 2.05 0 2.83L4 21.41c.39.39.9.59 1.41.59.51 0 1.02-.2 1.41-.59l7.78-7.78 2.81-2.81c.8-.78.8-2.07 0-2.86zM5.41 20L4 18.59l7.72-7.72 1.47 1.35L5.41 20z\"/>\n",
              "  </svg>\n",
              "      </button>\n",
              "      \n",
              "  <style>\n",
              "    .colab-df-container {\n",
              "      display:flex;\n",
              "      flex-wrap:wrap;\n",
              "      gap: 12px;\n",
              "    }\n",
              "\n",
              "    .colab-df-convert {\n",
              "      background-color: #E8F0FE;\n",
              "      border: none;\n",
              "      border-radius: 50%;\n",
              "      cursor: pointer;\n",
              "      display: none;\n",
              "      fill: #1967D2;\n",
              "      height: 32px;\n",
              "      padding: 0 0 0 0;\n",
              "      width: 32px;\n",
              "    }\n",
              "\n",
              "    .colab-df-convert:hover {\n",
              "      background-color: #E2EBFA;\n",
              "      box-shadow: 0px 1px 2px rgba(60, 64, 67, 0.3), 0px 1px 3px 1px rgba(60, 64, 67, 0.15);\n",
              "      fill: #174EA6;\n",
              "    }\n",
              "\n",
              "    [theme=dark] .colab-df-convert {\n",
              "      background-color: #3B4455;\n",
              "      fill: #D2E3FC;\n",
              "    }\n",
              "\n",
              "    [theme=dark] .colab-df-convert:hover {\n",
              "      background-color: #434B5C;\n",
              "      box-shadow: 0px 1px 3px 1px rgba(0, 0, 0, 0.15);\n",
              "      filter: drop-shadow(0px 1px 2px rgba(0, 0, 0, 0.3));\n",
              "      fill: #FFFFFF;\n",
              "    }\n",
              "  </style>\n",
              "\n",
              "      <script>\n",
              "        const buttonEl =\n",
              "          document.querySelector('#df-2283af10-4691-4e9e-9193-1568a6f3550c button.colab-df-convert');\n",
              "        buttonEl.style.display =\n",
              "          google.colab.kernel.accessAllowed ? 'block' : 'none';\n",
              "\n",
              "        async function convertToInteractive(key) {\n",
              "          const element = document.querySelector('#df-2283af10-4691-4e9e-9193-1568a6f3550c');\n",
              "          const dataTable =\n",
              "            await google.colab.kernel.invokeFunction('convertToInteractive',\n",
              "                                                     [key], {});\n",
              "          if (!dataTable) return;\n",
              "\n",
              "          const docLinkHtml = 'Like what you see? Visit the ' +\n",
              "            '<a target=\"_blank\" href=https://colab.research.google.com/notebooks/data_table.ipynb>data table notebook</a>'\n",
              "            + ' to learn more about interactive tables.';\n",
              "          element.innerHTML = '';\n",
              "          dataTable['output_type'] = 'display_data';\n",
              "          await google.colab.output.renderOutput(dataTable, element);\n",
              "          const docLink = document.createElement('div');\n",
              "          docLink.innerHTML = docLinkHtml;\n",
              "          element.appendChild(docLink);\n",
              "        }\n",
              "      </script>\n",
              "    </div>\n",
              "  </div>\n",
              "  "
            ],
            "text/plain": [
              "             ds      trend  ...  multiplicative_terms_upper       yhat\n",
              "1446 2020-11-04  90.226469  ...                         0.0  92.568350\n",
              "1447 2020-11-05  90.204724  ...                         0.0  92.449925\n",
              "1448 2020-11-06  90.182980  ...                         0.0  92.302354\n",
              "1449 2020-11-07  90.161235  ...                         0.0  90.809419\n",
              "1450 2020-11-08  90.139490  ...                         0.0  90.670264\n",
              "...         ...        ...  ...                         ...        ...\n",
              "1531 2021-01-28  88.378164  ...                         0.0  91.780992\n",
              "1532 2021-01-29  88.356420  ...                         0.0  91.764865\n",
              "1533 2021-01-30  88.334675  ...                         0.0  90.403858\n",
              "1534 2021-01-31  88.312930  ...                         0.0  90.395753\n",
              "1535 2021-02-01  88.291185  ...                         0.0  91.681790\n",
              "\n",
              "[90 rows x 19 columns]"
            ]
          },
          "metadata": {},
          "execution_count": 80
        }
      ]
    },
    {
      "cell_type": "code",
      "source": [
        "modelo.plot(predictions, xlabel='Data', ylabel='Preço');"
      ],
      "metadata": {
        "colab": {
          "base_uri": "https://localhost:8080/",
          "height": 441
        },
        "id": "AeNPE0rtjs2F",
        "outputId": "a1ec2120-0690-4518-f526-1b24a686c52f"
      },
      "execution_count": 82,
      "outputs": [
        {
          "output_type": "display_data",
          "data": {
            "image/png": "[encoded data removed]",
            "text/plain": [
              "<Figure size 720x432 with 1 Axes>"
            ]
          },
          "metadata": {}
        }
      ]
    },
    {
      "cell_type": "markdown",
      "source": [
        "o modelo apenas mostra dificuldade no inicio da pandemia, muito normal;azul escuro é os preços das previsoes poros proximos 90 dias"
      ],
      "metadata": {
        "id": "_GUAnmWgkkIp"
      }
    },
    {
      "cell_type": "code",
      "source": [
        "modelo.plot_components(predictions); #1 tendencia  #2 bolsa de valores nao tem sab e dom "
      ],
      "metadata": {
        "colab": {
          "base_uri": "https://localhost:8080/",
          "height": 657
        },
        "id": "WuTD8wfYkbZY",
        "outputId": "01470ae2-a893-44d8-81c2-52ddeb3964af"
      },
      "execution_count": 83,
      "outputs": [
        {
          "output_type": "display_data",
          "data": {
            "image/png": "[encoded data removed]",
            "text/plain": [
              "<Figure size 648x648 with 3 Axes>"
            ]
          },
          "metadata": {}
        }
      ]
    },
    {
      "cell_type": "markdown",
      "source": [
        "- Avaliação"
      ],
      "metadata": {
        "id": "3J7qBU13pXBW"
      }
    },
    {
      "cell_type": "code",
      "source": [
        "teste.shape"
      ],
      "metadata": {
        "colab": {
          "base_uri": "https://localhost:8080/"
        },
        "id": "u4h8Pdieoys2",
        "outputId": "93224c53-500c-4ba4-eab8-a916b73876aa"
      },
      "execution_count": 84,
      "outputs": [
        {
          "output_type": "execute_result",
          "data": {
            "text/plain": [
              "(365,)"
            ]
          },
          "metadata": {},
          "execution_count": 84
        }
      ]
    },
    {
      "cell_type": "code",
      "source": [
        "teste.tail()"
      ],
      "metadata": {
        "colab": {
          "base_uri": "https://localhost:8080/"
        },
        "id": "R1hEhcU6pbg0",
        "outputId": "d41516f6-f0ef-4f0e-d416-fcf4fba69a6d"
      },
      "execution_count": 85,
      "outputs": [
        {
          "output_type": "execute_result",
          "data": {
            "text/plain": [
              "Date\n",
              "2020-10-27    95.800003\n",
              "2020-10-28    92.430000\n",
              "2020-10-29    92.910004\n",
              "2020-10-30    90.660004\n",
              "2020-11-03    92.410004\n",
              "Name: BOVA, dtype: float64"
            ]
          },
          "metadata": {},
          "execution_count": 85
        }
      ]
    },
    {
      "cell_type": "code",
      "source": [
        "pred = modelo.make_future_dataframe(periods=0)#aqui so queremos a previsao da base que ja existe\n",
        "previsao = modelo.predict(pred)"
      ],
      "metadata": {
        "id": "B60WtnR3pmPi"
      },
      "execution_count": 87,
      "outputs": []
    },
    {
      "cell_type": "code",
      "source": [
        "previsao.shape"
      ],
      "metadata": {
        "colab": {
          "base_uri": "https://localhost:8080/"
        },
        "id": "E9dmLnivqDUe",
        "outputId": "4f96bd5f-acf0-418d-c40e-b4083949e39a"
      },
      "execution_count": 88,
      "outputs": [
        {
          "output_type": "execute_result",
          "data": {
            "text/plain": [
              "(1446, 19)"
            ]
          },
          "metadata": {},
          "execution_count": 88
        }
      ]
    },
    {
      "cell_type": "code",
      "source": [
        "previsao.tail()"
      ],
      "metadata": {
        "colab": {
          "base_uri": "https://localhost:8080/",
          "height": 357
        },
        "id": "943JDtEVqEai",
        "outputId": "e8b46952-7c8a-49bb-8753-e24de03c428e"
      },
      "execution_count": 89,
      "outputs": [
        {
          "output_type": "execute_result",
          "data": {
            "text/html": [
              "\n",
              "  <div id=\"df-3d87b456-b9d6-436f-bfe7-b3dfd7987732\">\n",
              "    <div class=\"colab-df-container\">\n",
              "      <div>\n",
              "<style scoped>\n",
              "    .dataframe tbody tr th:only-of-type {\n",
              "        vertical-align: middle;\n",
              "    }\n",
              "\n",
              "    .dataframe tbody tr th {\n",
              "        vertical-align: top;\n",
              "    }\n",
              "\n",
              "    .dataframe thead th {\n",
              "        text-align: right;\n",
              "    }\n",
              "</style>\n",
              "<table border=\"1\" class=\"dataframe\">\n",
              "  <thead>\n",
              "    <tr style=\"text-align: right;\">\n",
              "      <th></th>\n",
              "      <th>ds</th>\n",
              "      <th>trend</th>\n",
              "      <th>yhat_lower</th>\n",
              "      <th>yhat_upper</th>\n",
              "      <th>trend_lower</th>\n",
              "      <th>trend_upper</th>\n",
              "      <th>additive_terms</th>\n",
              "      <th>additive_terms_lower</th>\n",
              "      <th>additive_terms_upper</th>\n",
              "      <th>weekly</th>\n",
              "      <th>weekly_lower</th>\n",
              "      <th>weekly_upper</th>\n",
              "      <th>yearly</th>\n",
              "      <th>yearly_lower</th>\n",
              "      <th>yearly_upper</th>\n",
              "      <th>multiplicative_terms</th>\n",
              "      <th>multiplicative_terms_lower</th>\n",
              "      <th>multiplicative_terms_upper</th>\n",
              "      <th>yhat</th>\n",
              "    </tr>\n",
              "  </thead>\n",
              "  <tbody>\n",
              "    <tr>\n",
              "      <th>1441</th>\n",
              "      <td>2020-10-27</td>\n",
              "      <td>90.400427</td>\n",
              "      <td>87.223975</td>\n",
              "      <td>100.804759</td>\n",
              "      <td>90.400427</td>\n",
              "      <td>90.400427</td>\n",
              "      <td>3.266904</td>\n",
              "      <td>3.266904</td>\n",
              "      <td>3.266904</td>\n",
              "      <td>0.389818</td>\n",
              "      <td>0.389818</td>\n",
              "      <td>0.389818</td>\n",
              "      <td>2.877086</td>\n",
              "      <td>2.877086</td>\n",
              "      <td>2.877086</td>\n",
              "      <td>0.0</td>\n",
              "      <td>0.0</td>\n",
              "      <td>0.0</td>\n",
              "      <td>93.667331</td>\n",
              "    </tr>\n",
              "    <tr>\n",
              "      <th>1442</th>\n",
              "      <td>2020-10-28</td>\n",
              "      <td>90.378683</td>\n",
              "      <td>86.200737</td>\n",
              "      <td>101.055057</td>\n",
              "      <td>90.378683</td>\n",
              "      <td>90.378683</td>\n",
              "      <td>3.163925</td>\n",
              "      <td>3.163925</td>\n",
              "      <td>3.163925</td>\n",
              "      <td>0.359332</td>\n",
              "      <td>0.359332</td>\n",
              "      <td>0.359332</td>\n",
              "      <td>2.804593</td>\n",
              "      <td>2.804593</td>\n",
              "      <td>2.804593</td>\n",
              "      <td>0.0</td>\n",
              "      <td>0.0</td>\n",
              "      <td>0.0</td>\n",
              "      <td>93.542607</td>\n",
              "    </tr>\n",
              "    <tr>\n",
              "      <th>1443</th>\n",
              "      <td>2020-10-29</td>\n",
              "      <td>90.356938</td>\n",
              "      <td>86.787503</td>\n",
              "      <td>100.434854</td>\n",
              "      <td>90.356938</td>\n",
              "      <td>90.356938</td>\n",
              "      <td>3.113158</td>\n",
              "      <td>3.113158</td>\n",
              "      <td>3.113158</td>\n",
              "      <td>0.396597</td>\n",
              "      <td>0.396597</td>\n",
              "      <td>0.396597</td>\n",
              "      <td>2.716561</td>\n",
              "      <td>2.716561</td>\n",
              "      <td>2.716561</td>\n",
              "      <td>0.0</td>\n",
              "      <td>0.0</td>\n",
              "      <td>0.0</td>\n",
              "      <td>93.470096</td>\n",
              "    </tr>\n",
              "    <tr>\n",
              "      <th>1444</th>\n",
              "      <td>2020-10-30</td>\n",
              "      <td>90.335193</td>\n",
              "      <td>86.466213</td>\n",
              "      <td>100.449242</td>\n",
              "      <td>90.335193</td>\n",
              "      <td>90.335193</td>\n",
              "      <td>3.016340</td>\n",
              "      <td>3.016340</td>\n",
              "      <td>3.016340</td>\n",
              "      <td>0.401428</td>\n",
              "      <td>0.401428</td>\n",
              "      <td>0.401428</td>\n",
              "      <td>2.614911</td>\n",
              "      <td>2.614911</td>\n",
              "      <td>2.614911</td>\n",
              "      <td>0.0</td>\n",
              "      <td>0.0</td>\n",
              "      <td>0.0</td>\n",
              "      <td>93.351533</td>\n",
              "    </tr>\n",
              "    <tr>\n",
              "      <th>1445</th>\n",
              "      <td>2020-11-03</td>\n",
              "      <td>90.248214</td>\n",
              "      <td>86.121856</td>\n",
              "      <td>99.909294</td>\n",
              "      <td>90.248214</td>\n",
              "      <td>90.248214</td>\n",
              "      <td>2.507178</td>\n",
              "      <td>2.507178</td>\n",
              "      <td>2.507178</td>\n",
              "      <td>0.389818</td>\n",
              "      <td>0.389818</td>\n",
              "      <td>0.389818</td>\n",
              "      <td>2.117360</td>\n",
              "      <td>2.117360</td>\n",
              "      <td>2.117360</td>\n",
              "      <td>0.0</td>\n",
              "      <td>0.0</td>\n",
              "      <td>0.0</td>\n",
              "      <td>92.755392</td>\n",
              "    </tr>\n",
              "  </tbody>\n",
              "</table>\n",
              "</div>\n",
              "      <button class=\"colab-df-convert\" onclick=\"convertToInteractive('df-3d87b456-b9d6-436f-bfe7-b3dfd7987732')\"\n",
              "              title=\"Convert this dataframe to an interactive table.\"\n",
              "              style=\"display:none;\">\n",
              "        \n",
              "  <svg xmlns=\"http://www.w3.org/2000/svg\" height=\"24px\"viewBox=\"0 0 24 24\"\n",
              "       width=\"24px\">\n",
              "    <path d=\"M0 0h24v24H0V0z\" fill=\"none\"/>\n",
              "    <path d=\"M18.56 5.44l.94 2.06.94-2.06 2.06-.94-2.06-.94-.94-2.06-.94 2.06-2.06.94zm-11 1L8.5 8.5l.94-2.06 2.06-.94-2.06-.94L8.5 2.5l-.94 2.06-2.06.94zm10 10l.94 2.06.94-2.06 2.06-.94-2.06-.94-.94-2.06-.94 2.06-2.06.94z\"/><path d=\"M17.41 7.96l-1.37-1.37c-.4-.4-.92-.59-1.43-.59-.52 0-1.04.2-1.43.59L10.3 9.45l-7.72 7.72c-.78.78-.78 2.05 0 2.83L4 21.41c.39.39.9.59 1.41.59.51 0 1.02-.2 1.41-.59l7.78-7.78 2.81-2.81c.8-.78.8-2.07 0-2.86zM5.41 20L4 18.59l7.72-7.72 1.47 1.35L5.41 20z\"/>\n",
              "  </svg>\n",
              "      </button>\n",
              "      \n",
              "  <style>\n",
              "    .colab-df-container {\n",
              "      display:flex;\n",
              "      flex-wrap:wrap;\n",
              "      gap: 12px;\n",
              "    }\n",
              "\n",
              "    .colab-df-convert {\n",
              "      background-color: #E8F0FE;\n",
              "      border: none;\n",
              "      border-radius: 50%;\n",
              "      cursor: pointer;\n",
              "      display: none;\n",
              "      fill: #1967D2;\n",
              "      height: 32px;\n",
              "      padding: 0 0 0 0;\n",
              "      width: 32px;\n",
              "    }\n",
              "\n",
              "    .colab-df-convert:hover {\n",
              "      background-color: #E2EBFA;\n",
              "      box-shadow: 0px 1px 2px rgba(60, 64, 67, 0.3), 0px 1px 3px 1px rgba(60, 64, 67, 0.15);\n",
              "      fill: #174EA6;\n",
              "    }\n",
              "\n",
              "    [theme=dark] .colab-df-convert {\n",
              "      background-color: #3B4455;\n",
              "      fill: #D2E3FC;\n",
              "    }\n",
              "\n",
              "    [theme=dark] .colab-df-convert:hover {\n",
              "      background-color: #434B5C;\n",
              "      box-shadow: 0px 1px 3px 1px rgba(0, 0, 0, 0.15);\n",
              "      filter: drop-shadow(0px 1px 2px rgba(0, 0, 0, 0.3));\n",
              "      fill: #FFFFFF;\n",
              "    }\n",
              "  </style>\n",
              "\n",
              "      <script>\n",
              "        const buttonEl =\n",
              "          document.querySelector('#df-3d87b456-b9d6-436f-bfe7-b3dfd7987732 button.colab-df-convert');\n",
              "        buttonEl.style.display =\n",
              "          google.colab.kernel.accessAllowed ? 'block' : 'none';\n",
              "\n",
              "        async function convertToInteractive(key) {\n",
              "          const element = document.querySelector('#df-3d87b456-b9d6-436f-bfe7-b3dfd7987732');\n",
              "          const dataTable =\n",
              "            await google.colab.kernel.invokeFunction('convertToInteractive',\n",
              "                                                     [key], {});\n",
              "          if (!dataTable) return;\n",
              "\n",
              "          const docLinkHtml = 'Like what you see? Visit the ' +\n",
              "            '<a target=\"_blank\" href=https://colab.research.google.com/notebooks/data_table.ipynb>data table notebook</a>'\n",
              "            + ' to learn more about interactive tables.';\n",
              "          element.innerHTML = '';\n",
              "          dataTable['output_type'] = 'display_data';\n",
              "          await google.colab.output.renderOutput(dataTable, element);\n",
              "          const docLink = document.createElement('div');\n",
              "          docLink.innerHTML = docLinkHtml;\n",
              "          element.appendChild(docLink);\n",
              "        }\n",
              "      </script>\n",
              "    </div>\n",
              "  </div>\n",
              "  "
            ],
            "text/plain": [
              "             ds      trend  ...  multiplicative_terms_upper       yhat\n",
              "1441 2020-10-27  90.400427  ...                         0.0  93.667331\n",
              "1442 2020-10-28  90.378683  ...                         0.0  93.542607\n",
              "1443 2020-10-29  90.356938  ...                         0.0  93.470096\n",
              "1444 2020-10-30  90.335193  ...                         0.0  93.351533\n",
              "1445 2020-11-03  90.248214  ...                         0.0  92.755392\n",
              "\n",
              "[5 rows x 19 columns]"
            ]
          },
          "metadata": {},
          "execution_count": 89
        }
      ]
    },
    {
      "cell_type": "code",
      "source": [
        "previsao = previsao['yhat'].tail(365)"
      ],
      "metadata": {
        "id": "n-jk2ZAMqKUY"
      },
      "execution_count": 90,
      "outputs": []
    },
    {
      "cell_type": "code",
      "source": [
        "previsao"
      ],
      "metadata": {
        "colab": {
          "base_uri": "https://localhost:8080/"
        },
        "id": "z5fQ9NmpqdeU",
        "outputId": "89215e4b-6b3c-4e91-b9c0-a1788df46f75"
      },
      "execution_count": 91,
      "outputs": [
        {
          "output_type": "execute_result",
          "data": {
            "text/plain": [
              "1081    92.374527\n",
              "1082    92.395009\n",
              "1083    92.343171\n",
              "1084    92.365431\n",
              "1085    92.362015\n",
              "          ...    \n",
              "1441    93.667331\n",
              "1442    93.542607\n",
              "1443    93.470096\n",
              "1444    93.351533\n",
              "1445    92.755392\n",
              "Name: yhat, Length: 365, dtype: float64"
            ]
          },
          "metadata": {},
          "execution_count": 91
        }
      ]
    },
    {
      "cell_type": "code",
      "source": [
        "mean_absolute_error(teste, previsao)"
      ],
      "metadata": {
        "colab": {
          "base_uri": "https://localhost:8080/"
        },
        "id": "07kW8jQzqhZO",
        "outputId": "478c2be1-8e2c-4a9a-aef9-a4afd17cd7a3"
      },
      "execution_count": 92,
      "outputs": [
        {
          "output_type": "execute_result",
          "data": {
            "text/plain": [
              "6.330108237081639"
            ]
          },
          "metadata": {},
          "execution_count": 92
        }
      ]
    },
    {
      "cell_type": "markdown",
      "source": [
        "resultado do Prophet é melhor do que com o ARIMA, que era de 10 reais, quanto menor é melhor"
      ],
      "metadata": {
        "id": "de5U46jBqvRX"
      }
    }
  ]
}