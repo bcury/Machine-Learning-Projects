{
  "nbformat": 4,
  "nbformat_minor": 0,
  "metadata": {
    "colab": {
      "name": "ML_Spark_RegressaoLinearMultipla",
      "provenance": [],
      "collapsed_sections": [],
      "authorship_tag": "ABX9TyN8KOldXvz2Zuy4JMFytZdm",
      "include_colab_link": true
    },
    "kernelspec": {
      "name": "python3",
      "display_name": "Python 3"
    },
    "language_info": {
      "name": "python"
    }
  },
  "cells": [
    {
      "cell_type": "markdown",
      "metadata": {
        "id": "view-in-github",
        "colab_type": "text"
      },
      "source": [
        "<a href=\"https://colab.research.google.com/github/bcury/Machine-Learning-Projects/blob/main/ML_Spark_RegressaoLinearMultipla.ipynb\" target=\"_parent\"><img src=\"https://colab.research.google.com/assets/colab-badge.svg\" alt=\"Open In Colab\"/></a>"
      ]
    },
    {
      "cell_type": "code",
      "execution_count": 3,
      "metadata": {
        "colab": {
          "base_uri": "https://localhost:8080/"
        },
        "id": "MZ0Ta96mq-vS",
        "outputId": "37ecb913-03b8-428f-94ef-7e79983b11fc"
      },
      "outputs": [
        {
          "output_type": "stream",
          "name": "stdout",
          "text": [
            "Looking in indexes: https://pypi.org/simple, https://us-python.pkg.dev/colab-wheels/public/simple/\n",
            "Collecting findspark\n",
            "  Downloading findspark-2.0.1-py2.py3-none-any.whl (4.4 kB)\n",
            "Installing collected packages: findspark\n",
            "Successfully installed findspark-2.0.1\n"
          ]
        }
      ],
      "source": [
        "pip install findspark"
      ]
    },
    {
      "cell_type": "code",
      "source": [
        "pip install pyspark"
      ],
      "metadata": {
        "colab": {
          "base_uri": "https://localhost:8080/"
        },
        "id": "oMUu_LOzr1pW",
        "outputId": "e0aa60b0-06f1-4125-89f8-3de9f06996a1"
      },
      "execution_count": 4,
      "outputs": [
        {
          "output_type": "stream",
          "name": "stdout",
          "text": [
            "Looking in indexes: https://pypi.org/simple, https://us-python.pkg.dev/colab-wheels/public/simple/\n",
            "Collecting pyspark\n",
            "  Downloading pyspark-3.2.1.tar.gz (281.4 MB)\n",
            "\u001b[K     |████████████████████████████████| 281.4 MB 34 kB/s \n",
            "\u001b[?25hCollecting py4j==0.10.9.3\n",
            "  Downloading py4j-0.10.9.3-py2.py3-none-any.whl (198 kB)\n",
            "\u001b[K     |████████████████████████████████| 198 kB 53.1 MB/s \n",
            "\u001b[?25hBuilding wheels for collected packages: pyspark\n",
            "  Building wheel for pyspark (setup.py) ... \u001b[?25l\u001b[?25hdone\n",
            "  Created wheel for pyspark: filename=pyspark-3.2.1-py2.py3-none-any.whl size=281853642 sha256=5b5ff164419ab644562c74bca3e9a5177a99ffdeefb026b46b3c5f23a501e091\n",
            "  Stored in directory: /root/.cache/pip/wheels/9f/f5/07/7cd8017084dce4e93e84e92efd1e1d5334db05f2e83bcef74f\n",
            "Successfully built pyspark\n",
            "Installing collected packages: py4j, pyspark\n",
            "Successfully installed py4j-0.10.9.3 pyspark-3.2.1\n"
          ]
        }
      ]
    },
    {
      "cell_type": "code",
      "source": [
        "import pyspark, findspark\n",
        "from pyspark.sql import SparkSession\n",
        "findspark.init()\n",
        "spark = SparkSession.builder.appName('Regressao_spark').getOrCreate()"
      ],
      "metadata": {
        "id": "MfGRItytsAjV"
      },
      "execution_count": 8,
      "outputs": []
    },
    {
      "cell_type": "code",
      "source": [
        "carros = spark.read.csv('Carros.csv', header=True, sep=';', inferSchema=True)\n",
        "carros.show()"
      ],
      "metadata": {
        "colab": {
          "base_uri": "https://localhost:8080/"
        },
        "id": "crutice2sTBs",
        "outputId": "bf9d6002-7947-4395-fce2-23df3ba5023b"
      },
      "execution_count": 11,
      "outputs": [
        {
          "output_type": "stream",
          "name": "stdout",
          "text": [
            "+-------+---------+-----------+---------------+----+-----+---------+-----------+-------+-----------+---+\n",
            "|Consumo|Cilindros|Cilindradas|RelEixoTraseiro|Peso|Tempo|TipoMotor|Transmissao|Marchas|Carburadors| HP|\n",
            "+-------+---------+-----------+---------------+----+-----+---------+-----------+-------+-----------+---+\n",
            "|     21|        6|        160|             39| 262| 1646|        0|          1|      4|          4|110|\n",
            "|     21|        6|        160|             39|2875| 1702|        0|          1|      4|          4|110|\n",
            "|    228|        4|        108|            385| 232| 1861|        1|          1|      4|          1| 93|\n",
            "|    214|        6|        258|            308|3215| 1944|        1|          0|      3|          1|110|\n",
            "|    187|        8|        360|            315| 344| 1702|        0|          0|      3|          2|175|\n",
            "|    181|        6|        225|            276| 346| 2022|        1|          0|      3|          1|105|\n",
            "|    143|        8|        360|            321| 357| 1584|        0|          0|      3|          4|245|\n",
            "|    244|        4|       1467|            369| 319|   20|        1|          0|      4|          2| 62|\n",
            "|    228|        4|       1408|            392| 315|  229|        1|          0|      4|          2| 95|\n",
            "|    192|        6|       1676|            392| 344|  183|        1|          0|      4|          4|123|\n",
            "|    178|        6|       1676|            392| 344|  189|        1|          0|      4|          4|123|\n",
            "|    164|        8|       2758|            307| 407|  174|        0|          0|      3|          3|180|\n",
            "|    173|        8|       2758|            307| 373|  176|        0|          0|      3|          3|180|\n",
            "|    152|        8|       2758|            307| 378|   18|        0|          0|      3|          3|180|\n",
            "|    104|        8|        472|            293| 525| 1798|        0|          0|      3|          4|205|\n",
            "|    104|        8|        460|              3|5424| 1782|        0|          0|      3|          4|215|\n",
            "|    147|        8|        440|            323|5345| 1742|        0|          0|      3|          4|230|\n",
            "|    324|        4|        787|            408|  22| 1947|        1|          1|      4|          1| 66|\n",
            "|    304|        4|        757|            493|1615| 1852|        1|          1|      4|          2| 52|\n",
            "|    339|        4|        711|            422|1835|  199|        1|          1|      4|          1| 65|\n",
            "+-------+---------+-----------+---------------+----+-----+---------+-----------+-------+-----------+---+\n",
            "only showing top 20 rows\n",
            "\n"
          ]
        }
      ]
    },
    {
      "cell_type": "code",
      "source": [
        "print(carros.count())"
      ],
      "metadata": {
        "colab": {
          "base_uri": "https://localhost:8080/"
        },
        "id": "CRj8gvtstFLy",
        "outputId": "11a8c6de-6166-43c6-e6de-024414913675"
      },
      "execution_count": 12,
      "outputs": [
        {
          "output_type": "stream",
          "name": "stdout",
          "text": [
            "32\n"
          ]
        }
      ]
    },
    {
      "cell_type": "code",
      "source": [
        "from pyspark.ml.feature import RFormula"
      ],
      "metadata": {
        "id": "tsL43cTjtswe"
      },
      "execution_count": 13,
      "outputs": []
    },
    {
      "cell_type": "code",
      "source": [
        "Rformula = RFormula(formula='HP ~ Consumo + Cilindros + Cilindradas', featuresCol='independente', labelCol='dependente')\n",
        "carrosrf = Rformula.fit(carros).transform(carros)\n",
        "carrosrf.select('independente','dependente').show(truncate=False)"
      ],
      "metadata": {
        "colab": {
          "base_uri": "https://localhost:8080/"
        },
        "id": "xFhA8VkZuD5Z",
        "outputId": "80614432-431e-4afa-8fd3-47272a11dbe3"
      },
      "execution_count": 17,
      "outputs": [
        {
          "output_type": "stream",
          "name": "stdout",
          "text": [
            "+------------------+----------+\n",
            "|independente      |dependente|\n",
            "+------------------+----------+\n",
            "|[21.0,6.0,160.0]  |110.0     |\n",
            "|[21.0,6.0,160.0]  |110.0     |\n",
            "|[228.0,4.0,108.0] |93.0      |\n",
            "|[214.0,6.0,258.0] |110.0     |\n",
            "|[187.0,8.0,360.0] |175.0     |\n",
            "|[181.0,6.0,225.0] |105.0     |\n",
            "|[143.0,8.0,360.0] |245.0     |\n",
            "|[244.0,4.0,1467.0]|62.0      |\n",
            "|[228.0,4.0,1408.0]|95.0      |\n",
            "|[192.0,6.0,1676.0]|123.0     |\n",
            "|[178.0,6.0,1676.0]|123.0     |\n",
            "|[164.0,8.0,2758.0]|180.0     |\n",
            "|[173.0,8.0,2758.0]|180.0     |\n",
            "|[152.0,8.0,2758.0]|180.0     |\n",
            "|[104.0,8.0,472.0] |205.0     |\n",
            "|[104.0,8.0,460.0] |215.0     |\n",
            "|[147.0,8.0,440.0] |230.0     |\n",
            "|[324.0,4.0,787.0] |66.0      |\n",
            "|[304.0,4.0,757.0] |52.0      |\n",
            "|[339.0,4.0,711.0] |65.0      |\n",
            "+------------------+----------+\n",
            "only showing top 20 rows\n",
            "\n"
          ]
        }
      ]
    },
    {
      "cell_type": "code",
      "source": [
        "carros_treino, carros_teste = carrosrf.randomSplit([0.75,0.25])"
      ],
      "metadata": {
        "id": "tRbqM35Gu_XD"
      },
      "execution_count": 35,
      "outputs": []
    },
    {
      "cell_type": "code",
      "source": [
        "print(carros_treino.count(), carros_teste.count())"
      ],
      "metadata": {
        "colab": {
          "base_uri": "https://localhost:8080/"
        },
        "id": "BVsSPuXzwMlk",
        "outputId": "c5f17374-04e0-4d0d-f11a-f0c9f7039ebd"
      },
      "execution_count": 36,
      "outputs": [
        {
          "output_type": "stream",
          "name": "stdout",
          "text": [
            "24 8\n"
          ]
        }
      ]
    },
    {
      "cell_type": "code",
      "source": [
        "from pyspark.ml.regression import LinearRegression"
      ],
      "metadata": {
        "id": "QuLm4Z6lwQyy"
      },
      "execution_count": 37,
      "outputs": []
    },
    {
      "cell_type": "code",
      "source": [
        "regressao = LinearRegression(featuresCol='independente', labelCol='dependente',maxIter=1000,loss='squaredError', standardization=True)\n",
        "modelo = regressao.fit(carros_treino)"
      ],
      "metadata": {
        "id": "G0xV2iBqw9zR"
      },
      "execution_count": 38,
      "outputs": []
    },
    {
      "cell_type": "code",
      "source": [
        "previsao = modelo.transform(carros_teste)\n",
        "previsao.select('dependente','prediction').show() # dependente = y_teste, prediction = previsao"
      ],
      "metadata": {
        "colab": {
          "base_uri": "https://localhost:8080/"
        },
        "id": "rsRuwTKWx2S1",
        "outputId": "300973bf-2e84-4696-8b0f-9730ae885388"
      },
      "execution_count": 39,
      "outputs": [
        {
          "output_type": "stream",
          "name": "stdout",
          "text": [
            "+----------+------------------+\n",
            "|dependente|        prediction|\n",
            "+----------+------------------+\n",
            "|     110.0|173.25798917600602|\n",
            "|     215.0|217.93650864291666|\n",
            "|     205.0| 217.8239091994631|\n",
            "|     245.0|214.85582996243474|\n",
            "|     180.0| 187.8643905757507|\n",
            "|     180.0|186.58799187887973|\n",
            "|     175.0|207.10360491166443|\n",
            "|     175.0| 206.0191630463353|\n",
            "+----------+------------------+\n",
            "\n"
          ]
        }
      ]
    },
    {
      "cell_type": "markdown",
      "source": [
        "métricas"
      ],
      "metadata": {
        "id": "wUwxqSxQzLJz"
      }
    },
    {
      "cell_type": "code",
      "source": [
        "from pyspark.ml.evaluation import RegressionEvaluator"
      ],
      "metadata": {
        "id": "VC6Es5yvyVlY"
      },
      "execution_count": 40,
      "outputs": []
    },
    {
      "cell_type": "code",
      "source": [
        "avaliacao = RegressionEvaluator(predictionCol='prediction',labelCol='dependente',metricName='rmse')\n",
        "rmse = avaliacao.evaluate(previsao)\n",
        "print(rmse) #quanto mais proxima de zero melhor"
      ],
      "metadata": {
        "colab": {
          "base_uri": "https://localhost:8080/"
        },
        "id": "iPLa0VGzzub2",
        "outputId": "fab0e0f5-fd78-4179-fd39-9ec91824f0a8"
      },
      "execution_count": 42,
      "outputs": [
        {
          "output_type": "stream",
          "name": "stdout",
          "text": [
            "29.961225176373507\n"
          ]
        }
      ]
    }
  ]
}