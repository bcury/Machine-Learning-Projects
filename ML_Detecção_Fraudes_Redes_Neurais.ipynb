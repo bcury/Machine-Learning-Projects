{
  "nbformat": 4,
  "nbformat_minor": 0,
  "metadata": {
    "colab": {
      "name": "ML_Detecção_Fraudes_Redes_Neurais",
      "provenance": [],
      "collapsed_sections": [],
      "authorship_tag": "ABX9TyNupc1HDf2rjfXoyB2nCu7L",
      "include_colab_link": true
    },
    "kernelspec": {
      "name": "python3",
      "display_name": "Python 3"
    },
    "language_info": {
      "name": "python"
    }
  },
  "cells": [
    {
      "cell_type": "markdown",
      "metadata": {
        "id": "view-in-github",
        "colab_type": "text"
      },
      "source": [
        "<a href=\"https://colab.research.google.com/github/bcury/Machine-Learning-Projects/blob/main/ML_Detec%C3%A7%C3%A3o_Fraudes_Redes_Neurais.ipynb\" target=\"_parent\"><img src=\"https://colab.research.google.com/assets/colab-badge.svg\" alt=\"Open In Colab\"/></a>"
      ]
    },
    {
      "cell_type": "code",
      "metadata": {
        "id": "j5C9X9n2jxz3"
      },
      "source": [
        "import pandas as pd\n",
        "import numpy as np\n",
        "import pickle\n",
        "import matplotlib.pyplot as plt\n",
        "from scipy import stats\n",
        "import tensorflow as tf\n",
        "import seaborn as sns\n",
        "from pylab import rcParams\n",
        "from sklearn.model_selection import train_test_split\n",
        "from keras.models import Model, load_model\n",
        "from keras.layers import Input, Dense\n",
        "from keras.callbacks import ModelCheckpoint, TensorBoard\n",
        "from keras import regularizers"
      ],
      "execution_count": 9,
      "outputs": []
    },
    {
      "cell_type": "code",
      "metadata": {
        "id": "Ml3TZnXFkwv5"
      },
      "source": [
        "base_dados = pd.read_csv('/content/creditcard.csv')"
      ],
      "execution_count": 10,
      "outputs": []
    },
    {
      "cell_type": "code",
      "metadata": {
        "colab": {
          "base_uri": "https://localhost:8080/",
          "height": 226
        },
        "id": "ICEOFF0alAPn",
        "outputId": "92aeeabc-1ae5-48a1-ad74-56e27e46f7f2"
      },
      "source": [
        "base_dados.head()"
      ],
      "execution_count": 11,
      "outputs": [
        {
          "output_type": "execute_result",
          "data": {
            "text/html": [
              "<div>\n",
              "<style scoped>\n",
              "    .dataframe tbody tr th:only-of-type {\n",
              "        vertical-align: middle;\n",
              "    }\n",
              "\n",
              "    .dataframe tbody tr th {\n",
              "        vertical-align: top;\n",
              "    }\n",
              "\n",
              "    .dataframe thead th {\n",
              "        text-align: right;\n",
              "    }\n",
              "</style>\n",
              "<table border=\"1\" class=\"dataframe\">\n",
              "  <thead>\n",
              "    <tr style=\"text-align: right;\">\n",
              "      <th></th>\n",
              "      <th>Time</th>\n",
              "      <th>V1</th>\n",
              "      <th>V2</th>\n",
              "      <th>V3</th>\n",
              "      <th>V4</th>\n",
              "      <th>V5</th>\n",
              "      <th>V6</th>\n",
              "      <th>V7</th>\n",
              "      <th>V8</th>\n",
              "      <th>V9</th>\n",
              "      <th>V10</th>\n",
              "      <th>V11</th>\n",
              "      <th>V12</th>\n",
              "      <th>V13</th>\n",
              "      <th>V14</th>\n",
              "      <th>V15</th>\n",
              "      <th>V16</th>\n",
              "      <th>V17</th>\n",
              "      <th>V18</th>\n",
              "      <th>V19</th>\n",
              "      <th>V20</th>\n",
              "      <th>V21</th>\n",
              "      <th>V22</th>\n",
              "      <th>V23</th>\n",
              "      <th>V24</th>\n",
              "      <th>V25</th>\n",
              "      <th>V26</th>\n",
              "      <th>V27</th>\n",
              "      <th>V28</th>\n",
              "      <th>Amount</th>\n",
              "      <th>Class</th>\n",
              "    </tr>\n",
              "  </thead>\n",
              "  <tbody>\n",
              "    <tr>\n",
              "      <th>0</th>\n",
              "      <td>0.0</td>\n",
              "      <td>-1.359807</td>\n",
              "      <td>-0.072781</td>\n",
              "      <td>2.536347</td>\n",
              "      <td>1.378155</td>\n",
              "      <td>-0.338321</td>\n",
              "      <td>0.462388</td>\n",
              "      <td>0.239599</td>\n",
              "      <td>0.098698</td>\n",
              "      <td>0.363787</td>\n",
              "      <td>0.090794</td>\n",
              "      <td>-0.551600</td>\n",
              "      <td>-0.617801</td>\n",
              "      <td>-0.991390</td>\n",
              "      <td>-0.311169</td>\n",
              "      <td>1.468177</td>\n",
              "      <td>-0.470401</td>\n",
              "      <td>0.207971</td>\n",
              "      <td>0.025791</td>\n",
              "      <td>0.403993</td>\n",
              "      <td>0.251412</td>\n",
              "      <td>-0.018307</td>\n",
              "      <td>0.277838</td>\n",
              "      <td>-0.110474</td>\n",
              "      <td>0.066928</td>\n",
              "      <td>0.128539</td>\n",
              "      <td>-0.189115</td>\n",
              "      <td>0.133558</td>\n",
              "      <td>-0.021053</td>\n",
              "      <td>149.62</td>\n",
              "      <td>0</td>\n",
              "    </tr>\n",
              "    <tr>\n",
              "      <th>1</th>\n",
              "      <td>0.0</td>\n",
              "      <td>1.191857</td>\n",
              "      <td>0.266151</td>\n",
              "      <td>0.166480</td>\n",
              "      <td>0.448154</td>\n",
              "      <td>0.060018</td>\n",
              "      <td>-0.082361</td>\n",
              "      <td>-0.078803</td>\n",
              "      <td>0.085102</td>\n",
              "      <td>-0.255425</td>\n",
              "      <td>-0.166974</td>\n",
              "      <td>1.612727</td>\n",
              "      <td>1.065235</td>\n",
              "      <td>0.489095</td>\n",
              "      <td>-0.143772</td>\n",
              "      <td>0.635558</td>\n",
              "      <td>0.463917</td>\n",
              "      <td>-0.114805</td>\n",
              "      <td>-0.183361</td>\n",
              "      <td>-0.145783</td>\n",
              "      <td>-0.069083</td>\n",
              "      <td>-0.225775</td>\n",
              "      <td>-0.638672</td>\n",
              "      <td>0.101288</td>\n",
              "      <td>-0.339846</td>\n",
              "      <td>0.167170</td>\n",
              "      <td>0.125895</td>\n",
              "      <td>-0.008983</td>\n",
              "      <td>0.014724</td>\n",
              "      <td>2.69</td>\n",
              "      <td>0</td>\n",
              "    </tr>\n",
              "    <tr>\n",
              "      <th>2</th>\n",
              "      <td>1.0</td>\n",
              "      <td>-1.358354</td>\n",
              "      <td>-1.340163</td>\n",
              "      <td>1.773209</td>\n",
              "      <td>0.379780</td>\n",
              "      <td>-0.503198</td>\n",
              "      <td>1.800499</td>\n",
              "      <td>0.791461</td>\n",
              "      <td>0.247676</td>\n",
              "      <td>-1.514654</td>\n",
              "      <td>0.207643</td>\n",
              "      <td>0.624501</td>\n",
              "      <td>0.066084</td>\n",
              "      <td>0.717293</td>\n",
              "      <td>-0.165946</td>\n",
              "      <td>2.345865</td>\n",
              "      <td>-2.890083</td>\n",
              "      <td>1.109969</td>\n",
              "      <td>-0.121359</td>\n",
              "      <td>-2.261857</td>\n",
              "      <td>0.524980</td>\n",
              "      <td>0.247998</td>\n",
              "      <td>0.771679</td>\n",
              "      <td>0.909412</td>\n",
              "      <td>-0.689281</td>\n",
              "      <td>-0.327642</td>\n",
              "      <td>-0.139097</td>\n",
              "      <td>-0.055353</td>\n",
              "      <td>-0.059752</td>\n",
              "      <td>378.66</td>\n",
              "      <td>0</td>\n",
              "    </tr>\n",
              "    <tr>\n",
              "      <th>3</th>\n",
              "      <td>1.0</td>\n",
              "      <td>-0.966272</td>\n",
              "      <td>-0.185226</td>\n",
              "      <td>1.792993</td>\n",
              "      <td>-0.863291</td>\n",
              "      <td>-0.010309</td>\n",
              "      <td>1.247203</td>\n",
              "      <td>0.237609</td>\n",
              "      <td>0.377436</td>\n",
              "      <td>-1.387024</td>\n",
              "      <td>-0.054952</td>\n",
              "      <td>-0.226487</td>\n",
              "      <td>0.178228</td>\n",
              "      <td>0.507757</td>\n",
              "      <td>-0.287924</td>\n",
              "      <td>-0.631418</td>\n",
              "      <td>-1.059647</td>\n",
              "      <td>-0.684093</td>\n",
              "      <td>1.965775</td>\n",
              "      <td>-1.232622</td>\n",
              "      <td>-0.208038</td>\n",
              "      <td>-0.108300</td>\n",
              "      <td>0.005274</td>\n",
              "      <td>-0.190321</td>\n",
              "      <td>-1.175575</td>\n",
              "      <td>0.647376</td>\n",
              "      <td>-0.221929</td>\n",
              "      <td>0.062723</td>\n",
              "      <td>0.061458</td>\n",
              "      <td>123.50</td>\n",
              "      <td>0</td>\n",
              "    </tr>\n",
              "    <tr>\n",
              "      <th>4</th>\n",
              "      <td>2.0</td>\n",
              "      <td>-1.158233</td>\n",
              "      <td>0.877737</td>\n",
              "      <td>1.548718</td>\n",
              "      <td>0.403034</td>\n",
              "      <td>-0.407193</td>\n",
              "      <td>0.095921</td>\n",
              "      <td>0.592941</td>\n",
              "      <td>-0.270533</td>\n",
              "      <td>0.817739</td>\n",
              "      <td>0.753074</td>\n",
              "      <td>-0.822843</td>\n",
              "      <td>0.538196</td>\n",
              "      <td>1.345852</td>\n",
              "      <td>-1.119670</td>\n",
              "      <td>0.175121</td>\n",
              "      <td>-0.451449</td>\n",
              "      <td>-0.237033</td>\n",
              "      <td>-0.038195</td>\n",
              "      <td>0.803487</td>\n",
              "      <td>0.408542</td>\n",
              "      <td>-0.009431</td>\n",
              "      <td>0.798278</td>\n",
              "      <td>-0.137458</td>\n",
              "      <td>0.141267</td>\n",
              "      <td>-0.206010</td>\n",
              "      <td>0.502292</td>\n",
              "      <td>0.219422</td>\n",
              "      <td>0.215153</td>\n",
              "      <td>69.99</td>\n",
              "      <td>0</td>\n",
              "    </tr>\n",
              "  </tbody>\n",
              "</table>\n",
              "</div>"
            ],
            "text/plain": [
              "   Time        V1        V2        V3  ...       V27       V28  Amount  Class\n",
              "0   0.0 -1.359807 -0.072781  2.536347  ...  0.133558 -0.021053  149.62      0\n",
              "1   0.0  1.191857  0.266151  0.166480  ... -0.008983  0.014724    2.69      0\n",
              "2   1.0 -1.358354 -1.340163  1.773209  ... -0.055353 -0.059752  378.66      0\n",
              "3   1.0 -0.966272 -0.185226  1.792993  ...  0.062723  0.061458  123.50      0\n",
              "4   2.0 -1.158233  0.877737  1.548718  ...  0.219422  0.215153   69.99      0\n",
              "\n",
              "[5 rows x 31 columns]"
            ]
          },
          "metadata": {},
          "execution_count": 11
        }
      ]
    },
    {
      "cell_type": "code",
      "metadata": {
        "colab": {
          "base_uri": "https://localhost:8080/"
        },
        "id": "tSfyYfmflB5u",
        "outputId": "e94faba6-3eb8-4bc7-ad43-d15869674f1a"
      },
      "source": [
        "base_dados.shape"
      ],
      "execution_count": 12,
      "outputs": [
        {
          "output_type": "execute_result",
          "data": {
            "text/plain": [
              "(284807, 31)"
            ]
          },
          "metadata": {},
          "execution_count": 12
        }
      ]
    },
    {
      "cell_type": "code",
      "metadata": {
        "colab": {
          "base_uri": "https://localhost:8080/"
        },
        "id": "hlXSLXsNlIqD",
        "outputId": "3fcd9df0-b5c0-4eda-858d-cba5fb108273"
      },
      "source": [
        "base_dados.isnull().values.any()"
      ],
      "execution_count": 13,
      "outputs": [
        {
          "output_type": "execute_result",
          "data": {
            "text/plain": [
              "False"
            ]
          },
          "metadata": {},
          "execution_count": 13
        }
      ]
    },
    {
      "cell_type": "code",
      "metadata": {
        "colab": {
          "base_uri": "https://localhost:8080/"
        },
        "id": "XBRRsmIdlTV6",
        "outputId": "04f6a2f0-0460-46ac-c7da-eae350198d67"
      },
      "source": [
        "base_dados.isnull().sum()"
      ],
      "execution_count": 14,
      "outputs": [
        {
          "output_type": "execute_result",
          "data": {
            "text/plain": [
              "Time      0\n",
              "V1        0\n",
              "V2        0\n",
              "V3        0\n",
              "V4        0\n",
              "V5        0\n",
              "V6        0\n",
              "V7        0\n",
              "V8        0\n",
              "V9        0\n",
              "V10       0\n",
              "V11       0\n",
              "V12       0\n",
              "V13       0\n",
              "V14       0\n",
              "V15       0\n",
              "V16       0\n",
              "V17       0\n",
              "V18       0\n",
              "V19       0\n",
              "V20       0\n",
              "V21       0\n",
              "V22       0\n",
              "V23       0\n",
              "V24       0\n",
              "V25       0\n",
              "V26       0\n",
              "V27       0\n",
              "V28       0\n",
              "Amount    0\n",
              "Class     0\n",
              "dtype: int64"
            ]
          },
          "metadata": {},
          "execution_count": 14
        }
      ]
    },
    {
      "cell_type": "code",
      "metadata": {
        "colab": {
          "base_uri": "https://localhost:8080/",
          "height": 295
        },
        "id": "JQTUUKIllf8U",
        "outputId": "0969f3f0-3e5e-45be-d3de-d38c4f9d70dc"
      },
      "source": [
        "count_classes = pd.value_counts(base_dados['Class'], sort = True)\n",
        "count_classes.plot(kind = 'bar', rot=0)\n",
        "plt.title(\"Transaction class distribution\")\n",
        "plt.xlabel(\"Class\")\n",
        "plt.ylabel(\"Frequency\");"
      ],
      "execution_count": 17,
      "outputs": [
        {
          "output_type": "display_data",
          "data": {
            "image/png": "[encoded data removed]",
            "text/plain": [
              "<Figure size 432x288 with 1 Axes>"
            ]
          },
          "metadata": {
            "needs_background": "light"
          }
        }
      ]
    },
    {
      "cell_type": "markdown",
      "metadata": {
        "id": "7J1egS_amlYa"
      },
      "source": [
        "A classe 0 representa representa sem fraude, já a classe 1 rpresenta fraude"
      ]
    },
    {
      "cell_type": "code",
      "metadata": {
        "colab": {
          "base_uri": "https://localhost:8080/"
        },
        "id": "ut6YYOJ5mvZD",
        "outputId": "a3d116cb-cb26-4291-b0e2-800a513ab200"
      },
      "source": [
        "fraude = base_dados[base_dados.Class == 1]\n",
        "sem_fraude = base_dados[base_dados.Class == 0]\n",
        "fraude.shape"
      ],
      "execution_count": 21,
      "outputs": [
        {
          "output_type": "execute_result",
          "data": {
            "text/plain": [
              "(492, 31)"
            ]
          },
          "metadata": {},
          "execution_count": 21
        }
      ]
    },
    {
      "cell_type": "code",
      "metadata": {
        "colab": {
          "base_uri": "https://localhost:8080/"
        },
        "id": "2JGg_p1hnDwg",
        "outputId": "9403cb20-7f89-412d-f0e6-be9fee42fc1e"
      },
      "source": [
        "sem_fraude.shape"
      ],
      "execution_count": 22,
      "outputs": [
        {
          "output_type": "execute_result",
          "data": {
            "text/plain": [
              "(284315, 31)"
            ]
          },
          "metadata": {},
          "execution_count": 22
        }
      ]
    },
    {
      "cell_type": "code",
      "metadata": {
        "colab": {
          "base_uri": "https://localhost:8080/"
        },
        "id": "NsB7hf2_nFDM",
        "outputId": "2d48073d-9835-403d-d28d-6206172fd2b8"
      },
      "source": [
        "fraude.Amount.describe()"
      ],
      "execution_count": 23,
      "outputs": [
        {
          "output_type": "execute_result",
          "data": {
            "text/plain": [
              "count     492.000000\n",
              "mean      122.211321\n",
              "std       256.683288\n",
              "min         0.000000\n",
              "25%         1.000000\n",
              "50%         9.250000\n",
              "75%       105.890000\n",
              "max      2125.870000\n",
              "Name: Amount, dtype: float64"
            ]
          },
          "metadata": {},
          "execution_count": 23
        }
      ]
    },
    {
      "cell_type": "code",
      "metadata": {
        "colab": {
          "base_uri": "https://localhost:8080/"
        },
        "id": "YQaWdQiVnNdw",
        "outputId": "344acb99-5806-4873-bf9b-7c0922814c00"
      },
      "source": [
        "sem_fraude.Amount.describe()"
      ],
      "execution_count": 24,
      "outputs": [
        {
          "output_type": "execute_result",
          "data": {
            "text/plain": [
              "count    284315.000000\n",
              "mean         88.291022\n",
              "std         250.105092\n",
              "min           0.000000\n",
              "25%           5.650000\n",
              "50%          22.000000\n",
              "75%          77.050000\n",
              "max       25691.160000\n",
              "Name: Amount, dtype: float64"
            ]
          },
          "metadata": {},
          "execution_count": 24
        }
      ]
    },
    {
      "cell_type": "code",
      "metadata": {
        "colab": {
          "base_uri": "https://localhost:8080/",
          "height": 308
        },
        "id": "keuOpTfonP9_",
        "outputId": "bc4f0e96-9b15-47ae-fb5a-3d622fbd232e"
      },
      "source": [
        "#representação gráfica\n",
        "\n",
        "f, (ax1, ax2) = plt.subplots(2, 1, sharex=True)\n",
        "f.suptitle('Amount per transaction by class')\n",
        "\n",
        "bins = 50\n",
        "\n",
        "ax1.hist(fraude.Amount, bins = bins)\n",
        "ax1.set_title('Fraude')\n",
        "\n",
        "ax2.hist(sem_fraude.Amount, bins = bins)\n",
        "ax2.set_title('sem fraude')\n",
        "\n",
        "plt.xlabel('Amount ($)')\n",
        "plt.ylabel('Number of Transactions')\n",
        "plt.xlim((0, 20000))\n",
        "plt.yscale('log')\n",
        "plt.show();"
      ],
      "execution_count": 27,
      "outputs": [
        {
          "output_type": "display_data",
          "data": {
            "image/png": "[encoded data removed]",
            "text/plain": [
              "<Figure size 432x288 with 2 Axes>"
            ]
          },
          "metadata": {
            "needs_background": "light"
          }
        }
      ]
    },
    {
      "cell_type": "markdown",
      "metadata": {
        "id": "B1TbfuEKnx3B"
      },
      "source": [
        "quando ocorrem mais os fraudes?"
      ]
    },
    {
      "cell_type": "code",
      "metadata": {
        "colab": {
          "base_uri": "https://localhost:8080/",
          "height": 308
        },
        "id": "nKCwIuJHn0gH",
        "outputId": "24e9fd52-14d2-40a0-83c8-ae144a5d8b9f"
      },
      "source": [
        "f, (ax1, ax2) = plt.subplots(2, 1, sharex=True)\n",
        "f.suptitle('Time of transaction vs Amount by class')\n",
        "\n",
        "ax1.scatter(fraude.Time, fraude.Amount)\n",
        "ax1.set_title('Fraude')\n",
        "\n",
        "ax2.scatter(sem_fraude.Time, sem_fraude.Amount)\n",
        "ax2.set_title('sem fraude')\n",
        "\n",
        "plt.xlabel('Time (in Seconds)')\n",
        "plt.ylabel('Amount')\n",
        "plt.show()"
      ],
      "execution_count": 30,
      "outputs": [
        {
          "output_type": "display_data",
          "data": {
            "image/png": "[encoded data removed]",
            "text/plain": [
              "<Figure size 432x288 with 2 Axes>"
            ]
          },
          "metadata": {
            "needs_background": "light"
          }
        }
      ]
    },
    {
      "cell_type": "markdown",
      "metadata": {
        "id": "gNdRSiaLoFLI"
      },
      "source": [
        "bom, não parece que teve muita relevância com os gráficos acima"
      ]
    },
    {
      "cell_type": "markdown",
      "metadata": {
        "id": "V2YgvleCogxw"
      },
      "source": [
        "**Treinamento e previsão**"
      ]
    },
    {
      "cell_type": "code",
      "metadata": {
        "id": "TZkvF1wEoL7n"
      },
      "source": [
        "from sklearn.preprocessing import StandardScaler\n",
        "data = base_dados.drop(['Time'], axis=1)\n",
        "data['Amount'] = StandardScaler().fit_transform(data['Amount'].values.reshape(-1, 1))"
      ],
      "execution_count": 31,
      "outputs": []
    },
    {
      "cell_type": "code",
      "metadata": {
        "id": "odjAflTcolOo"
      },
      "source": [
        "X_train, X_test = train_test_split(data, test_size=0.2, random_state=0)\n",
        "X_train = X_train[X_train.Class == 0]\n",
        "X_train = X_train.drop(['Class'], axis=1)"
      ],
      "execution_count": 33,
      "outputs": []
    },
    {
      "cell_type": "code",
      "metadata": {
        "id": "QBpIlP6HpCrY"
      },
      "source": [
        "y_test = X_test['Class']\n",
        "X_test = X_test.drop(['Class'], axis=1)"
      ],
      "execution_count": 34,
      "outputs": []
    },
    {
      "cell_type": "code",
      "metadata": {
        "id": "PwA6MQrVpDMg"
      },
      "source": [
        "X_train = X_train.values\n",
        "X_test = X_test.values"
      ],
      "execution_count": 35,
      "outputs": []
    },
    {
      "cell_type": "code",
      "metadata": {
        "colab": {
          "base_uri": "https://localhost:8080/"
        },
        "id": "S8UndttvpKTf",
        "outputId": "da40ce22-3247-41f7-af80-c81ee6873f4b"
      },
      "source": [
        "X_train.shape"
      ],
      "execution_count": 36,
      "outputs": [
        {
          "output_type": "execute_result",
          "data": {
            "text/plain": [
              "(227454, 29)"
            ]
          },
          "metadata": {},
          "execution_count": 36
        }
      ]
    },
    {
      "cell_type": "code",
      "metadata": {
        "id": "1mv8sEklpM2M"
      },
      "source": [
        "input_dim = X_train.shape[1]\n",
        "encoding_dim = 14"
      ],
      "execution_count": 37,
      "outputs": []
    },
    {
      "cell_type": "code",
      "metadata": {
        "id": "1MZddSuspVpX"
      },
      "source": [
        "input_layer = Input(shape=(input_dim, ))\n",
        "encoder = Dense(encoding_dim, activation=\"tanh\", \n",
        "                activity_regularizer=regularizers.l1(10e-5))(input_layer)\n",
        "encoder = Dense(int(encoding_dim / 2), activation=\"relu\")(encoder)\n",
        "decoder = Dense(int(encoding_dim / 2), activation='tanh')(encoder)\n",
        "decoder = Dense(input_dim, activation='relu')(decoder)\n",
        "autoencoder = Model(inputs=input_layer, outputs=decoder)"
      ],
      "execution_count": 38,
      "outputs": []
    },
    {
      "cell_type": "code",
      "metadata": {
        "colab": {
          "base_uri": "https://localhost:8080/"
        },
        "id": "7rmOf8mypgv_",
        "outputId": "e7465ded-902d-4cb8-b056-a7c2d647362d"
      },
      "source": [
        "nb_epoch = 100\n",
        "batch_size = 32\n",
        "autoencoder.compile(optimizer='adam', \n",
        "                    loss='mean_squared_error', \n",
        "                    metrics=['accuracy'])\n",
        "checkpointer = ModelCheckpoint(filepath=\"model.h5\",\n",
        "                               verbose=0,\n",
        "                               save_best_only=True)\n",
        "tensorboard = TensorBoard(log_dir='./logs',\n",
        "                          histogram_freq=0,\n",
        "                          write_graph=True,\n",
        "                          write_images=True)\n",
        "history = autoencoder.fit(X_train, X_train,\n",
        "                    epochs=nb_epoch,\n",
        "                    batch_size=batch_size,\n",
        "                    shuffle=True,\n",
        "                    validation_data=(X_test, X_test),\n",
        "                    verbose=1,\n",
        "                    callbacks=[checkpointer, tensorboard]).history"
      ],
      "execution_count": 39,
      "outputs": [
        {
          "output_type": "stream",
          "name": "stdout",
          "text": [
            "Epoch 1/100\n",
            "7108/7108 [==============================] - 16s 2ms/step - loss: 0.8190 - accuracy: 0.5765 - val_loss: 0.8329 - val_accuracy: 0.6263\n",
            "Epoch 2/100\n",
            "7108/7108 [==============================] - 15s 2ms/step - loss: 0.7424 - accuracy: 0.6449 - val_loss: 0.7930 - val_accuracy: 0.6694\n",
            "Epoch 3/100\n",
            "7108/7108 [==============================] - 14s 2ms/step - loss: 0.7198 - accuracy: 0.6812 - val_loss: 0.7834 - val_accuracy: 0.6725\n",
            "Epoch 4/100\n",
            "7108/7108 [==============================] - 14s 2ms/step - loss: 0.7136 - accuracy: 0.6899 - val_loss: 0.7778 - val_accuracy: 0.6948\n",
            "Epoch 5/100\n",
            "7108/7108 [==============================] - 15s 2ms/step - loss: 0.7100 - accuracy: 0.6943 - val_loss: 0.7738 - val_accuracy: 0.6940\n",
            "Epoch 6/100\n",
            "7108/7108 [==============================] - 14s 2ms/step - loss: 0.7074 - accuracy: 0.6978 - val_loss: 0.7717 - val_accuracy: 0.7018\n",
            "Epoch 7/100\n",
            "7108/7108 [==============================] - 14s 2ms/step - loss: 0.7056 - accuracy: 0.7006 - val_loss: 0.7704 - val_accuracy: 0.7054\n",
            "Epoch 8/100\n",
            "7108/7108 [==============================] - 15s 2ms/step - loss: 0.7041 - accuracy: 0.7027 - val_loss: 0.7687 - val_accuracy: 0.7051\n",
            "Epoch 9/100\n",
            "7108/7108 [==============================] - 15s 2ms/step - loss: 0.7033 - accuracy: 0.7041 - val_loss: 0.7687 - val_accuracy: 0.7052\n",
            "Epoch 10/100\n",
            "7108/7108 [==============================] - 14s 2ms/step - loss: 0.7022 - accuracy: 0.7058 - val_loss: 0.7717 - val_accuracy: 0.6997\n",
            "Epoch 11/100\n",
            "7108/7108 [==============================] - 15s 2ms/step - loss: 0.7015 - accuracy: 0.7081 - val_loss: 0.7652 - val_accuracy: 0.7140\n",
            "Epoch 12/100\n",
            "7108/7108 [==============================] - 15s 2ms/step - loss: 0.7011 - accuracy: 0.7093 - val_loss: 0.7660 - val_accuracy: 0.7091\n",
            "Epoch 13/100\n",
            "7108/7108 [==============================] - 14s 2ms/step - loss: 0.7006 - accuracy: 0.7119 - val_loss: 0.7642 - val_accuracy: 0.7188\n",
            "Epoch 14/100\n",
            "7108/7108 [==============================] - 15s 2ms/step - loss: 0.7004 - accuracy: 0.7123 - val_loss: 0.7671 - val_accuracy: 0.7118\n",
            "Epoch 15/100\n",
            "7108/7108 [==============================] - 14s 2ms/step - loss: 0.6999 - accuracy: 0.7139 - val_loss: 0.7676 - val_accuracy: 0.7118\n",
            "Epoch 16/100\n",
            "7108/7108 [==============================] - 15s 2ms/step - loss: 0.6994 - accuracy: 0.7157 - val_loss: 0.7645 - val_accuracy: 0.7181\n",
            "Epoch 17/100\n",
            "7108/7108 [==============================] - 14s 2ms/step - loss: 0.6989 - accuracy: 0.7169 - val_loss: 0.7646 - val_accuracy: 0.7076\n",
            "Epoch 18/100\n",
            "7108/7108 [==============================] - 15s 2ms/step - loss: 0.6985 - accuracy: 0.7174 - val_loss: 0.7637 - val_accuracy: 0.7173\n",
            "Epoch 19/100\n",
            "7108/7108 [==============================] - 14s 2ms/step - loss: 0.6984 - accuracy: 0.7184 - val_loss: 0.7636 - val_accuracy: 0.7177\n",
            "Epoch 20/100\n",
            "7108/7108 [==============================] - 15s 2ms/step - loss: 0.6979 - accuracy: 0.7189 - val_loss: 0.7628 - val_accuracy: 0.7137\n",
            "Epoch 21/100\n",
            "7108/7108 [==============================] - 15s 2ms/step - loss: 0.6982 - accuracy: 0.7180 - val_loss: 0.7618 - val_accuracy: 0.7252\n",
            "Epoch 22/100\n",
            "7108/7108 [==============================] - 15s 2ms/step - loss: 0.6980 - accuracy: 0.7180 - val_loss: 0.7615 - val_accuracy: 0.7224\n",
            "Epoch 23/100\n",
            "7108/7108 [==============================] - 15s 2ms/step - loss: 0.6981 - accuracy: 0.7183 - val_loss: 0.7627 - val_accuracy: 0.7190\n",
            "Epoch 24/100\n",
            "7108/7108 [==============================] - 15s 2ms/step - loss: 0.6977 - accuracy: 0.7191 - val_loss: 0.7625 - val_accuracy: 0.7233\n",
            "Epoch 25/100\n",
            "7108/7108 [==============================] - 15s 2ms/step - loss: 0.6976 - accuracy: 0.7193 - val_loss: 0.7626 - val_accuracy: 0.7256\n",
            "Epoch 26/100\n",
            "7108/7108 [==============================] - 15s 2ms/step - loss: 0.6978 - accuracy: 0.7192 - val_loss: 0.7644 - val_accuracy: 0.7231\n",
            "Epoch 27/100\n",
            "7108/7108 [==============================] - 14s 2ms/step - loss: 0.6977 - accuracy: 0.7192 - val_loss: 0.7619 - val_accuracy: 0.7231\n",
            "Epoch 28/100\n",
            "7108/7108 [==============================] - 16s 2ms/step - loss: 0.6978 - accuracy: 0.7183 - val_loss: 0.7610 - val_accuracy: 0.7243\n",
            "Epoch 29/100\n",
            "7108/7108 [==============================] - 15s 2ms/step - loss: 0.6974 - accuracy: 0.7189 - val_loss: 0.7605 - val_accuracy: 0.7218\n",
            "Epoch 30/100\n",
            "7108/7108 [==============================] - 15s 2ms/step - loss: 0.6975 - accuracy: 0.7189 - val_loss: 0.7623 - val_accuracy: 0.7208\n",
            "Epoch 31/100\n",
            "7108/7108 [==============================] - 15s 2ms/step - loss: 0.6971 - accuracy: 0.7203 - val_loss: 0.7609 - val_accuracy: 0.7235\n",
            "Epoch 32/100\n",
            "7108/7108 [==============================] - 14s 2ms/step - loss: 0.6973 - accuracy: 0.7195 - val_loss: 0.7615 - val_accuracy: 0.7235\n",
            "Epoch 33/100\n",
            "7108/7108 [==============================] - 15s 2ms/step - loss: 0.6972 - accuracy: 0.7196 - val_loss: 0.7619 - val_accuracy: 0.7143\n",
            "Epoch 34/100\n",
            "7108/7108 [==============================] - 15s 2ms/step - loss: 0.6974 - accuracy: 0.7198 - val_loss: 0.7621 - val_accuracy: 0.7238\n",
            "Epoch 35/100\n",
            "7108/7108 [==============================] - 15s 2ms/step - loss: 0.6974 - accuracy: 0.7200 - val_loss: 0.7606 - val_accuracy: 0.7248\n",
            "Epoch 36/100\n",
            "7108/7108 [==============================] - 16s 2ms/step - loss: 0.6972 - accuracy: 0.7210 - val_loss: 0.7615 - val_accuracy: 0.7268\n",
            "Epoch 37/100\n",
            "7108/7108 [==============================] - 15s 2ms/step - loss: 0.6971 - accuracy: 0.7202 - val_loss: 0.7650 - val_accuracy: 0.7175\n",
            "Epoch 38/100\n",
            "7108/7108 [==============================] - 15s 2ms/step - loss: 0.6972 - accuracy: 0.7209 - val_loss: 0.7632 - val_accuracy: 0.7240\n",
            "Epoch 39/100\n",
            "7108/7108 [==============================] - 15s 2ms/step - loss: 0.6973 - accuracy: 0.7205 - val_loss: 0.7619 - val_accuracy: 0.7249\n",
            "Epoch 40/100\n",
            "7108/7108 [==============================] - 14s 2ms/step - loss: 0.6969 - accuracy: 0.7220 - val_loss: 0.7617 - val_accuracy: 0.7195\n",
            "Epoch 41/100\n",
            "7108/7108 [==============================] - 15s 2ms/step - loss: 0.6970 - accuracy: 0.7203 - val_loss: 0.7615 - val_accuracy: 0.7217\n",
            "Epoch 42/100\n",
            "7108/7108 [==============================] - 15s 2ms/step - loss: 0.6968 - accuracy: 0.7208 - val_loss: 0.7606 - val_accuracy: 0.7206\n",
            "Epoch 43/100\n",
            "7108/7108 [==============================] - 15s 2ms/step - loss: 0.6968 - accuracy: 0.7211 - val_loss: 0.7609 - val_accuracy: 0.7210\n",
            "Epoch 44/100\n",
            "7108/7108 [==============================] - 15s 2ms/step - loss: 0.6967 - accuracy: 0.7219 - val_loss: 0.7617 - val_accuracy: 0.7246\n",
            "Epoch 45/100\n",
            "7108/7108 [==============================] - 15s 2ms/step - loss: 0.6964 - accuracy: 0.7220 - val_loss: 0.7606 - val_accuracy: 0.7277\n",
            "Epoch 46/100\n",
            "7108/7108 [==============================] - 15s 2ms/step - loss: 0.6966 - accuracy: 0.7236 - val_loss: 0.7597 - val_accuracy: 0.7276\n",
            "Epoch 47/100\n",
            "7108/7108 [==============================] - 15s 2ms/step - loss: 0.6967 - accuracy: 0.7224 - val_loss: 0.7599 - val_accuracy: 0.7229\n",
            "Epoch 48/100\n",
            "7108/7108 [==============================] - 16s 2ms/step - loss: 0.6966 - accuracy: 0.7226 - val_loss: 0.7604 - val_accuracy: 0.7297\n",
            "Epoch 49/100\n",
            "7108/7108 [==============================] - 15s 2ms/step - loss: 0.6966 - accuracy: 0.7226 - val_loss: 0.7604 - val_accuracy: 0.7269\n",
            "Epoch 50/100\n",
            "7108/7108 [==============================] - 15s 2ms/step - loss: 0.6965 - accuracy: 0.7227 - val_loss: 0.7624 - val_accuracy: 0.7192\n",
            "Epoch 51/100\n",
            "7108/7108 [==============================] - 15s 2ms/step - loss: 0.6965 - accuracy: 0.7227 - val_loss: 0.7614 - val_accuracy: 0.7231\n",
            "Epoch 52/100\n",
            "7108/7108 [==============================] - 14s 2ms/step - loss: 0.6966 - accuracy: 0.7234 - val_loss: 0.7617 - val_accuracy: 0.7228\n",
            "Epoch 53/100\n",
            "7108/7108 [==============================] - 15s 2ms/step - loss: 0.6964 - accuracy: 0.7231 - val_loss: 0.7597 - val_accuracy: 0.7232\n",
            "Epoch 54/100\n",
            "7108/7108 [==============================] - 15s 2ms/step - loss: 0.6963 - accuracy: 0.7229 - val_loss: 0.7618 - val_accuracy: 0.7189\n",
            "Epoch 55/100\n",
            "7108/7108 [==============================] - 15s 2ms/step - loss: 0.6965 - accuracy: 0.7232 - val_loss: 0.7607 - val_accuracy: 0.7219\n",
            "Epoch 56/100\n",
            "7108/7108 [==============================] - 15s 2ms/step - loss: 0.6964 - accuracy: 0.7227 - val_loss: 0.7602 - val_accuracy: 0.7194\n",
            "Epoch 57/100\n",
            "7108/7108 [==============================] - 15s 2ms/step - loss: 0.6967 - accuracy: 0.7235 - val_loss: 0.7612 - val_accuracy: 0.7261\n",
            "Epoch 58/100\n",
            "7108/7108 [==============================] - 14s 2ms/step - loss: 0.6964 - accuracy: 0.7235 - val_loss: 0.7644 - val_accuracy: 0.7240\n",
            "Epoch 59/100\n",
            "7108/7108 [==============================] - 14s 2ms/step - loss: 0.6965 - accuracy: 0.7240 - val_loss: 0.7602 - val_accuracy: 0.7251\n",
            "Epoch 60/100\n",
            "7108/7108 [==============================] - 14s 2ms/step - loss: 0.6965 - accuracy: 0.7239 - val_loss: 0.7602 - val_accuracy: 0.7269\n",
            "Epoch 61/100\n",
            "7108/7108 [==============================] - 15s 2ms/step - loss: 0.6965 - accuracy: 0.7237 - val_loss: 0.7628 - val_accuracy: 0.7293\n",
            "Epoch 62/100\n",
            "7108/7108 [==============================] - 14s 2ms/step - loss: 0.6962 - accuracy: 0.7250 - val_loss: 0.7596 - val_accuracy: 0.7273\n",
            "Epoch 63/100\n",
            "7108/7108 [==============================] - 14s 2ms/step - loss: 0.6964 - accuracy: 0.7239 - val_loss: 0.7640 - val_accuracy: 0.7235\n",
            "Epoch 64/100\n",
            "7108/7108 [==============================] - 15s 2ms/step - loss: 0.6968 - accuracy: 0.7243 - val_loss: 0.7624 - val_accuracy: 0.7314\n",
            "Epoch 65/100\n",
            "7108/7108 [==============================] - 14s 2ms/step - loss: 0.6963 - accuracy: 0.7257 - val_loss: 0.7612 - val_accuracy: 0.7247\n",
            "Epoch 66/100\n",
            "7108/7108 [==============================] - 15s 2ms/step - loss: 0.6962 - accuracy: 0.7245 - val_loss: 0.7603 - val_accuracy: 0.7202\n",
            "Epoch 67/100\n",
            "7108/7108 [==============================] - 15s 2ms/step - loss: 0.6961 - accuracy: 0.7252 - val_loss: 0.7615 - val_accuracy: 0.7282\n",
            "Epoch 68/100\n",
            "7108/7108 [==============================] - 15s 2ms/step - loss: 0.6963 - accuracy: 0.7251 - val_loss: 0.7627 - val_accuracy: 0.7244\n",
            "Epoch 69/100\n",
            "7108/7108 [==============================] - 15s 2ms/step - loss: 0.6961 - accuracy: 0.7261 - val_loss: 0.7599 - val_accuracy: 0.7226\n",
            "Epoch 70/100\n",
            "7108/7108 [==============================] - 15s 2ms/step - loss: 0.6959 - accuracy: 0.7259 - val_loss: 0.7597 - val_accuracy: 0.7280\n",
            "Epoch 71/100\n",
            "7108/7108 [==============================] - 15s 2ms/step - loss: 0.6961 - accuracy: 0.7259 - val_loss: 0.7610 - val_accuracy: 0.7192\n",
            "Epoch 72/100\n",
            "7108/7108 [==============================] - 15s 2ms/step - loss: 0.6960 - accuracy: 0.7261 - val_loss: 0.7604 - val_accuracy: 0.7255\n",
            "Epoch 73/100\n",
            "7108/7108 [==============================] - 15s 2ms/step - loss: 0.6960 - accuracy: 0.7256 - val_loss: 0.7638 - val_accuracy: 0.7237\n",
            "Epoch 74/100\n",
            "7108/7108 [==============================] - 15s 2ms/step - loss: 0.6962 - accuracy: 0.7266 - val_loss: 0.7588 - val_accuracy: 0.7292\n",
            "Epoch 75/100\n",
            "7108/7108 [==============================] - 15s 2ms/step - loss: 0.6962 - accuracy: 0.7267 - val_loss: 0.7641 - val_accuracy: 0.7294\n",
            "Epoch 76/100\n",
            "7108/7108 [==============================] - 16s 2ms/step - loss: 0.6963 - accuracy: 0.7258 - val_loss: 0.7596 - val_accuracy: 0.7319\n",
            "Epoch 77/100\n",
            "7108/7108 [==============================] - 15s 2ms/step - loss: 0.6959 - accuracy: 0.7265 - val_loss: 0.7600 - val_accuracy: 0.7261\n",
            "Epoch 78/100\n",
            "7108/7108 [==============================] - 15s 2ms/step - loss: 0.6959 - accuracy: 0.7268 - val_loss: 0.7589 - val_accuracy: 0.7351\n",
            "Epoch 79/100\n",
            "7108/7108 [==============================] - 15s 2ms/step - loss: 0.6960 - accuracy: 0.7280 - val_loss: 0.7615 - val_accuracy: 0.7306\n",
            "Epoch 80/100\n",
            "7108/7108 [==============================] - 15s 2ms/step - loss: 0.6960 - accuracy: 0.7274 - val_loss: 0.7592 - val_accuracy: 0.7303\n",
            "Epoch 81/100\n",
            "7108/7108 [==============================] - 15s 2ms/step - loss: 0.6959 - accuracy: 0.7274 - val_loss: 0.7592 - val_accuracy: 0.7265\n",
            "Epoch 82/100\n",
            "7108/7108 [==============================] - 15s 2ms/step - loss: 0.6957 - accuracy: 0.7273 - val_loss: 0.7593 - val_accuracy: 0.7267\n",
            "Epoch 83/100\n",
            "7108/7108 [==============================] - 14s 2ms/step - loss: 0.6959 - accuracy: 0.7279 - val_loss: 0.7589 - val_accuracy: 0.7348\n",
            "Epoch 84/100\n",
            "7108/7108 [==============================] - 15s 2ms/step - loss: 0.6959 - accuracy: 0.7283 - val_loss: 0.7618 - val_accuracy: 0.7269\n",
            "Epoch 85/100\n",
            "7108/7108 [==============================] - 15s 2ms/step - loss: 0.6958 - accuracy: 0.7281 - val_loss: 0.7599 - val_accuracy: 0.7282\n",
            "Epoch 86/100\n",
            "7108/7108 [==============================] - 15s 2ms/step - loss: 0.6960 - accuracy: 0.7283 - val_loss: 0.7602 - val_accuracy: 0.7380\n",
            "Epoch 87/100\n",
            "7108/7108 [==============================] - 15s 2ms/step - loss: 0.6958 - accuracy: 0.7280 - val_loss: 0.7635 - val_accuracy: 0.7137\n",
            "Epoch 88/100\n",
            "7108/7108 [==============================] - 15s 2ms/step - loss: 0.6958 - accuracy: 0.7281 - val_loss: 0.7608 - val_accuracy: 0.7262\n",
            "Epoch 89/100\n",
            "7108/7108 [==============================] - 14s 2ms/step - loss: 0.6959 - accuracy: 0.7281 - val_loss: 0.7610 - val_accuracy: 0.7236\n",
            "Epoch 90/100\n",
            "7108/7108 [==============================] - 16s 2ms/step - loss: 0.6956 - accuracy: 0.7278 - val_loss: 0.7599 - val_accuracy: 0.7329\n",
            "Epoch 91/100\n",
            "7108/7108 [==============================] - 15s 2ms/step - loss: 0.6961 - accuracy: 0.7273 - val_loss: 0.7593 - val_accuracy: 0.7358\n",
            "Epoch 92/100\n",
            "7108/7108 [==============================] - 14s 2ms/step - loss: 0.6960 - accuracy: 0.7291 - val_loss: 0.7617 - val_accuracy: 0.7232\n",
            "Epoch 93/100\n",
            "7108/7108 [==============================] - 15s 2ms/step - loss: 0.6956 - accuracy: 0.7292 - val_loss: 0.7637 - val_accuracy: 0.7289\n",
            "Epoch 94/100\n",
            "7108/7108 [==============================] - 15s 2ms/step - loss: 0.6960 - accuracy: 0.7290 - val_loss: 0.7590 - val_accuracy: 0.7351\n",
            "Epoch 95/100\n",
            "7108/7108 [==============================] - 14s 2ms/step - loss: 0.6959 - accuracy: 0.7290 - val_loss: 0.7596 - val_accuracy: 0.7344\n",
            "Epoch 96/100\n",
            "7108/7108 [==============================] - 16s 2ms/step - loss: 0.6960 - accuracy: 0.7284 - val_loss: 0.7599 - val_accuracy: 0.7305\n",
            "Epoch 97/100\n",
            "7108/7108 [==============================] - 15s 2ms/step - loss: 0.6959 - accuracy: 0.7291 - val_loss: 0.7591 - val_accuracy: 0.7308\n",
            "Epoch 98/100\n",
            "7108/7108 [==============================] - 16s 2ms/step - loss: 0.6956 - accuracy: 0.7288 - val_loss: 0.7603 - val_accuracy: 0.7321\n",
            "Epoch 99/100\n",
            "7108/7108 [==============================] - 15s 2ms/step - loss: 0.6956 - accuracy: 0.7292 - val_loss: 0.7600 - val_accuracy: 0.7345\n",
            "Epoch 100/100\n",
            "7108/7108 [==============================] - 15s 2ms/step - loss: 0.6960 - accuracy: 0.7287 - val_loss: 0.7616 - val_accuracy: 0.7309\n"
          ]
        }
      ]
    },
    {
      "cell_type": "code",
      "metadata": {
        "id": "p8f1RuNOwZyl"
      },
      "source": [
        "autoencoder = load_model('model.h5')"
      ],
      "execution_count": 40,
      "outputs": []
    },
    {
      "cell_type": "code",
      "metadata": {
        "colab": {
          "base_uri": "https://localhost:8080/",
          "height": 295
        },
        "id": "h1H-rwZfwaXQ",
        "outputId": "45c8b1d5-4b01-41f8-f52e-5c32cdcbd72e"
      },
      "source": [
        "plt.plot(history['loss'])\n",
        "plt.plot(history['val_loss'])\n",
        "plt.title('model loss')\n",
        "plt.ylabel('loss')\n",
        "plt.xlabel('epoch')\n",
        "plt.legend(['train', 'test'], loc='upper right');"
      ],
      "execution_count": 41,
      "outputs": [
        {
          "output_type": "display_data",
          "data": {
            "image/png": "[encoded data removed]",
            "text/plain": [
              "<Figure size 432x288 with 1 Axes>"
            ]
          },
          "metadata": {
            "needs_background": "light"
          }
        }
      ]
    },
    {
      "cell_type": "markdown",
      "metadata": {
        "id": "6dOty1VsxXmm"
      },
      "source": [
        "vamos dar uma olhada mais profunda nas distribuições dos erros"
      ]
    },
    {
      "cell_type": "code",
      "metadata": {
        "colab": {
          "base_uri": "https://localhost:8080/",
          "height": 300
        },
        "id": "zjIvObGmweWA",
        "outputId": "abd5bcc5-e164-4aad-c8af-31a9d27fab86"
      },
      "source": [
        "predictions = autoencoder.predict(X_test)\n",
        "mse = np.mean(np.power(X_test - predictions, 2), axis=1)\n",
        "error_base_dados = pd.DataFrame({'reconstruction_error': mse,\n",
        "                        'true_class': y_test})\n",
        "error_base_dados.describe()"
      ],
      "execution_count": 42,
      "outputs": [
        {
          "output_type": "execute_result",
          "data": {
            "text/html": [
              "<div>\n",
              "<style scoped>\n",
              "    .dataframe tbody tr th:only-of-type {\n",
              "        vertical-align: middle;\n",
              "    }\n",
              "\n",
              "    .dataframe tbody tr th {\n",
              "        vertical-align: top;\n",
              "    }\n",
              "\n",
              "    .dataframe thead th {\n",
              "        text-align: right;\n",
              "    }\n",
              "</style>\n",
              "<table border=\"1\" class=\"dataframe\">\n",
              "  <thead>\n",
              "    <tr style=\"text-align: right;\">\n",
              "      <th></th>\n",
              "      <th>reconstruction_error</th>\n",
              "      <th>true_class</th>\n",
              "    </tr>\n",
              "  </thead>\n",
              "  <tbody>\n",
              "    <tr>\n",
              "      <th>count</th>\n",
              "      <td>56962.000000</td>\n",
              "      <td>56962.000000</td>\n",
              "    </tr>\n",
              "    <tr>\n",
              "      <th>mean</th>\n",
              "      <td>0.757982</td>\n",
              "      <td>0.001773</td>\n",
              "    </tr>\n",
              "    <tr>\n",
              "      <th>std</th>\n",
              "      <td>7.264675</td>\n",
              "      <td>0.042071</td>\n",
              "    </tr>\n",
              "    <tr>\n",
              "      <th>min</th>\n",
              "      <td>0.045375</td>\n",
              "      <td>0.000000</td>\n",
              "    </tr>\n",
              "    <tr>\n",
              "      <th>25%</th>\n",
              "      <td>0.243729</td>\n",
              "      <td>0.000000</td>\n",
              "    </tr>\n",
              "    <tr>\n",
              "      <th>50%</th>\n",
              "      <td>0.394462</td>\n",
              "      <td>0.000000</td>\n",
              "    </tr>\n",
              "    <tr>\n",
              "      <th>75%</th>\n",
              "      <td>0.621541</td>\n",
              "      <td>0.000000</td>\n",
              "    </tr>\n",
              "    <tr>\n",
              "      <th>max</th>\n",
              "      <td>1523.407024</td>\n",
              "      <td>1.000000</td>\n",
              "    </tr>\n",
              "  </tbody>\n",
              "</table>\n",
              "</div>"
            ],
            "text/plain": [
              "       reconstruction_error    true_class\n",
              "count          56962.000000  56962.000000\n",
              "mean               0.757982      0.001773\n",
              "std                7.264675      0.042071\n",
              "min                0.045375      0.000000\n",
              "25%                0.243729      0.000000\n",
              "50%                0.394462      0.000000\n",
              "75%                0.621541      0.000000\n",
              "max             1523.407024      1.000000"
            ]
          },
          "metadata": {},
          "execution_count": 42
        }
      ]
    },
    {
      "cell_type": "markdown",
      "metadata": {
        "id": "WNizZnFRxvhm"
      },
      "source": [
        "Reconstruindo o erro sem fraude"
      ]
    },
    {
      "cell_type": "code",
      "metadata": {
        "colab": {
          "base_uri": "https://localhost:8080/",
          "height": 265
        },
        "id": "OWzZFEZDxxiq",
        "outputId": "8d040f4b-58aa-4969-a128-7b765afc8b15"
      },
      "source": [
        "fig = plt.figure()\n",
        "ax = fig.add_subplot(111)\n",
        "sem_fraude_error_base_dados = error_base_dados[(error_base_dados['true_class']== 0) & (error_base_dados['reconstruction_error'] < 10)]\n",
        "_ = ax.hist(sem_fraude_error_base_dados.reconstruction_error.values, bins=10)"
      ],
      "execution_count": 44,
      "outputs": [
        {
          "output_type": "display_data",
          "data": {
            "image/png": "[encoded data removed]",
            "text/plain": [
              "<Figure size 432x288 with 1 Axes>"
            ]
          },
          "metadata": {
            "needs_background": "light"
          }
        }
      ]
    },
    {
      "cell_type": "markdown",
      "metadata": {
        "id": "hgFByr4iyWh6"
      },
      "source": [
        "Recnstruindoo erro com fraude"
      ]
    },
    {
      "cell_type": "code",
      "metadata": {
        "colab": {
          "base_uri": "https://localhost:8080/",
          "height": 265
        },
        "id": "58vjXHs_yYld",
        "outputId": "f2e20aa1-9397-43ba-e32a-4a0c70f92fa3"
      },
      "source": [
        "fig = plt.figure()\n",
        "ax = fig.add_subplot(111)\n",
        "fraude_error_base_dados = error_base_dados[error_base_dados['true_class'] == 1]\n",
        "_ = ax.hist(fraude_error_base_dados.reconstruction_error.values, bins=10)"
      ],
      "execution_count": 45,
      "outputs": [
        {
          "output_type": "display_data",
          "data": {
            "image/png": "[encoded data removed]",
            "text/plain": [
              "<Figure size 432x288 with 1 Axes>"
            ]
          },
          "metadata": {
            "needs_background": "light"
          }
        }
      ]
    },
    {
      "cell_type": "code",
      "metadata": {
        "id": "mZ2oVNsGyqos"
      },
      "source": [
        "from sklearn.metrics import (confusion_matrix, precision_recall_curve, auc,\n",
        "                             roc_curve, recall_score, classification_report, f1_score,\n",
        "                             precision_recall_fscore_support)"
      ],
      "execution_count": 46,
      "outputs": []
    },
    {
      "cell_type": "markdown",
      "metadata": {
        "id": "ViSfUguxyuPz"
      },
      "source": [
        "ROC curvas são muito uteis"
      ]
    },
    {
      "cell_type": "code",
      "metadata": {
        "colab": {
          "base_uri": "https://localhost:8080/",
          "height": 295
        },
        "id": "ofxh8VM_yyBF",
        "outputId": "6f9f6959-28f2-4484-f979-e8620c58102b"
      },
      "source": [
        "fpr, tpr, thresholds = roc_curve(error_base_dados.true_class, error_base_dados.reconstruction_error)\n",
        "roc_auc = auc(fpr, tpr)\n",
        "\n",
        "plt.title('Receiver Operating Characteristic')\n",
        "plt.plot(fpr, tpr, label='AUC = %0.4f'% roc_auc)\n",
        "plt.legend(loc='lower right')\n",
        "plt.plot([0,1],[0,1],'r--')\n",
        "plt.xlim([-0.001, 1])\n",
        "plt.ylim([0, 1.001])\n",
        "plt.ylabel('True Positive Rate')\n",
        "plt.xlabel('False Positive Rate')\n",
        "plt.show();"
      ],
      "execution_count": 47,
      "outputs": [
        {
          "output_type": "display_data",
          "data": {
            "image/png": "[encoded data removed]",
            "text/plain": [
              "<Figure size 432x288 with 1 Axes>"
            ]
          },
          "metadata": {
            "needs_background": "light"
          }
        }
      ]
    },
    {
      "cell_type": "markdown",
      "metadata": {
        "id": "RBP-3ga_zM1U"
      },
      "source": [
        "A curva ROC representa a taxa de verdadeiro positivo versus a taxa de falso positivo, em diferentes valores de limite. Basicamente, queremos que a linha azul fique o mais próximo possível do canto superior esquerdo. Embora nossos resultados pareçam muito bons, devemos ter em mente a natureza de nosso conjunto de dados. ROC não parece muito útil para nós nesse caso, então, vamos seguir"
      ]
    },
    {
      "cell_type": "code",
      "metadata": {
        "colab": {
          "base_uri": "https://localhost:8080/",
          "height": 295
        },
        "id": "wJ5PSx3kzNk8",
        "outputId": "b39ab257-679c-4f83-dea7-5ab2c6da569f"
      },
      "source": [
        "precision, recall, th = precision_recall_curve(error_base_dados.true_class, error_base_dados.reconstruction_error)\n",
        "plt.plot(recall, precision, 'b', label='Precision-Recall curve')\n",
        "plt.title('Recall vs Precision')\n",
        "plt.xlabel('Recall')\n",
        "plt.ylabel('Precision')\n",
        "plt.show()"
      ],
      "execution_count": 48,
      "outputs": [
        {
          "output_type": "display_data",
          "data": {
            "image/png": "[encoded data removed]",
            "text/plain": [
              "<Figure size 432x288 with 1 Axes>"
            ]
          },
          "metadata": {
            "needs_background": "light"
          }
        }
      ]
    },
    {
      "cell_type": "markdown",
      "metadata": {
        "id": "NWCAFJNmzku9"
      },
      "source": [
        "Uma área alta sob a curva representa alta rechamada e alta precisão, em que alta precisão se relaciona a uma taxa baixa de falsos positivos e alta rechamada está relacionada a uma baixa taxa de falsos negativos. Altas pontuações para ambos mostram que o classificador está retornando resultados precisos (alta precisão), bem como retornando a maioria de todos os resultados positivos (alta recuperação)"
      ]
    },
    {
      "cell_type": "code",
      "metadata": {
        "colab": {
          "base_uri": "https://localhost:8080/",
          "height": 295
        },
        "id": "lN9pac9SzlL1",
        "outputId": "39c8ef5b-ba46-4953-ae07-6e295698fe2f"
      },
      "source": [
        "plt.plot(th, precision[1:], 'b', label='Threshold-Precision curve')\n",
        "plt.title('Precision for different threshold values')\n",
        "plt.xlabel('Threshold')\n",
        "plt.ylabel('Precision')\n",
        "plt.show()"
      ],
      "execution_count": 49,
      "outputs": [
        {
          "output_type": "display_data",
          "data": {
            "image/png": "[encoded data removed]",
            "text/plain": [
              "<Figure size 432x288 with 1 Axes>"
            ]
          },
          "metadata": {
            "needs_background": "light"
          }
        }
      ]
    },
    {
      "cell_type": "markdown",
      "metadata": {
        "id": "BFy8JZqYzy2f"
      },
      "source": [
        "Você pode ver que, à medida que o erro de reconstrução aumenta, nossa precisão também aumenta. Vamos dar uma olhada no recall:"
      ]
    },
    {
      "cell_type": "code",
      "metadata": {
        "colab": {
          "base_uri": "https://localhost:8080/",
          "height": 295
        },
        "id": "cieEtWyczzZe",
        "outputId": "a6c8b0df-c3de-4b19-e0f4-841a33bdda94"
      },
      "source": [
        "plt.plot(th, recall[1:], 'b', label='Threshold-Recall curve')\n",
        "plt.title('Recall for different threshold values')\n",
        "plt.xlabel('Reconstruction error')\n",
        "plt.ylabel('Recall')\n",
        "plt.show()"
      ],
      "execution_count": 50,
      "outputs": [
        {
          "output_type": "display_data",
          "data": {
            "image/png": "[encoded data removed]",
            "text/plain": [
              "<Figure size 432x288 with 1 Axes>"
            ]
          },
          "metadata": {
            "needs_background": "light"
          }
        }
      ]
    },
    {
      "cell_type": "markdown",
      "metadata": {
        "id": "xXTHwnJK0TUC"
      },
      "source": [
        "Aqui, temos a situação exatamente oposta. À medida que o erro de reconstrução aumenta, a recuperação diminui"
      ]
    },
    {
      "cell_type": "code",
      "metadata": {
        "colab": {
          "base_uri": "https://localhost:8080/",
          "height": 295
        },
        "id": "zKlh6_U00OWR",
        "outputId": "2b3119e9-dc31-4a14-cb81-65c70e28a2fd"
      },
      "source": [
        "#Previsão\n",
        "\n",
        "threshold = 2.9\n",
        "\n",
        "groups = error_base_dados.groupby('true_class')\n",
        "fig, ax = plt.subplots()\n",
        "\n",
        "for name, group in groups:\n",
        "    ax.plot(group.index, group.reconstruction_error, marker='o', ms=3.5, linestyle='',\n",
        "            label= \"Fraude\" if name == 1 else \"sem fraude\")\n",
        "ax.hlines(threshold, ax.get_xlim()[0], ax.get_xlim()[1], colors=\"r\", zorder=100, label='Threshold')\n",
        "ax.legend()\n",
        "plt.title(\"Reconstruction error for different classes\")\n",
        "plt.ylabel(\"Reconstruction error\")\n",
        "plt.xlabel(\"Data point index\")\n",
        "plt.show();"
      ],
      "execution_count": 51,
      "outputs": [
        {
          "output_type": "display_data",
          "data": {
            "image/png": "[encoded data removed]",
            "text/plain": [
              "<Figure size 432x288 with 1 Axes>"
            ]
          },
          "metadata": {
            "needs_background": "light"
          }
        }
      ]
    },
    {
      "cell_type": "markdown",
      "metadata": {
        "id": "c8WWfYgp00Kn"
      },
      "source": [
        "Esse gráfico pode ser um pouco enganador. Vamos dar uma olhada na matriz de confusão:"
      ]
    },
    {
      "cell_type": "code",
      "metadata": {
        "id": "9AGfnWga02N5"
      },
      "source": [
        "y_pred = [1 if e > threshold else 0 for e in error_base_dados.reconstruction_error.values]\n",
        "conf_matrix = confusion_matrix(error_base_dados.true_class, y_pred)\n",
        "plt.figure(figsize=(12, 12))\n",
        "sns.heatmap(conf_matrix, xticklabels= labels, yticklabels= labels, annot=True, fmt=\"d\");\n",
        "plt.title(\"Confusion matrix\")\n",
        "plt.ylabel('True class')\n",
        "plt.xlabel('Predicted class')\n",
        "plt.show()"
      ],
      "execution_count": null,
      "outputs": []
    },
    {
      "cell_type": "markdown",
      "metadata": {
        "id": "g2QtEdVF1tc4"
      },
      "source": [
        "[ 55491 ....................1373 ; \n",
        ".\n",
        ".\n",
        ".\n",
        "  20..........................78 ]"
      ]
    },
    {
      "cell_type": "markdown",
      "metadata": {
        "id": "CvuonuE82BmT"
      },
      "source": [
        "construimos um bom modelo que preve muito bem a maioria dos fraudes"
      ]
    },
    {
      "cell_type": "markdown",
      "metadata": {
        "id": "ttAU-w5Z2esa"
      },
      "source": [
        "foi usado um modelo simples de Deep Autoencoder em Keras"
      ]
    },
    {
      "cell_type": "markdown",
      "metadata": {
        "id": "AVgvAlt62is_"
      },
      "source": [
        "Fonte: Kaggle"
      ]
    }
  ]
}