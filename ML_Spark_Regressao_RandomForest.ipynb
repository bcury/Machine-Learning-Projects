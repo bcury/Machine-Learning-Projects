{
  "nbformat": 4,
  "nbformat_minor": 0,
  "metadata": {
    "colab": {
      "name": "ML_Spark_Regressao_RandomForest",
      "provenance": [],
      "collapsed_sections": [],
      "authorship_tag": "ABX9TyNFmkGySlf1OII9jPnzXMJV",
      "include_colab_link": true
    },
    "kernelspec": {
      "name": "python3",
      "display_name": "Python 3"
    },
    "language_info": {
      "name": "python"
    }
  },
  "cells": [
    {
      "cell_type": "markdown",
      "metadata": {
        "id": "view-in-github",
        "colab_type": "text"
      },
      "source": [
        "<a href=\"https://colab.research.google.com/github/bcury/Machine-Learning-Projects/blob/main/ML_Spark_Regressao_RandomForest.ipynb\" target=\"_parent\"><img src=\"https://colab.research.google.com/assets/colab-badge.svg\" alt=\"Open In Colab\"/></a>"
      ]
    },
    {
      "cell_type": "code",
      "source": [
        "pip install pyspark"
      ],
      "metadata": {
        "colab": {
          "base_uri": "https://localhost:8080/"
        },
        "id": "ABOgBSLI_oyA",
        "outputId": "6f4f3a27-cf30-4105-b678-059005697a9b"
      },
      "execution_count": 1,
      "outputs": [
        {
          "output_type": "stream",
          "name": "stdout",
          "text": [
            "Looking in indexes: https://pypi.org/simple, https://us-python.pkg.dev/colab-wheels/public/simple/\n",
            "Collecting pyspark\n",
            "  Downloading pyspark-3.2.1.tar.gz (281.4 MB)\n",
            "\u001b[K     |████████████████████████████████| 281.4 MB 34 kB/s \n",
            "\u001b[?25hCollecting py4j==0.10.9.3\n",
            "  Downloading py4j-0.10.9.3-py2.py3-none-any.whl (198 kB)\n",
            "\u001b[K     |████████████████████████████████| 198 kB 43.2 MB/s \n",
            "\u001b[?25hBuilding wheels for collected packages: pyspark\n",
            "  Building wheel for pyspark (setup.py) ... \u001b[?25l\u001b[?25hdone\n",
            "  Created wheel for pyspark: filename=pyspark-3.2.1-py2.py3-none-any.whl size=281853642 sha256=66235149ddb928b2886d6723d5dadd6fdec22a6303ede100444edb920359a13f\n",
            "  Stored in directory: /root/.cache/pip/wheels/9f/f5/07/7cd8017084dce4e93e84e92efd1e1d5334db05f2e83bcef74f\n",
            "Successfully built pyspark\n",
            "Installing collected packages: py4j, pyspark\n",
            "Successfully installed py4j-0.10.9.3 pyspark-3.2.1\n"
          ]
        }
      ]
    },
    {
      "cell_type": "code",
      "source": [
        "pip install findspark"
      ],
      "metadata": {
        "colab": {
          "base_uri": "https://localhost:8080/"
        },
        "id": "5lq-FdY0_0Rv",
        "outputId": "f871cc67-7aff-4575-e113-27410abbe85f"
      },
      "execution_count": 2,
      "outputs": [
        {
          "output_type": "stream",
          "name": "stdout",
          "text": [
            "Looking in indexes: https://pypi.org/simple, https://us-python.pkg.dev/colab-wheels/public/simple/\n",
            "Collecting findspark\n",
            "  Downloading findspark-2.0.1-py2.py3-none-any.whl (4.4 kB)\n",
            "Installing collected packages: findspark\n",
            "Successfully installed findspark-2.0.1\n"
          ]
        }
      ]
    },
    {
      "cell_type": "code",
      "execution_count": 3,
      "metadata": {
        "id": "OXdvhQQc9spx"
      },
      "outputs": [],
      "source": [
        "import pyspark, findspark\n",
        "from pyspark.sql import SparkSession\n",
        "findspark.init()\n",
        "spark = SparkSession.builder.appName('Forest_spark').getOrCreate()"
      ]
    },
    {
      "cell_type": "code",
      "source": [
        "carros = spark.read.csv('Carros.csv', header=True, sep=';',inferSchema=True)\n",
        "carros.show()"
      ],
      "metadata": {
        "id": "xEdtf-OR_nNc",
        "colab": {
          "base_uri": "https://localhost:8080/"
        },
        "outputId": "2c9cb27d-e75e-43b1-9524-03392566e15c"
      },
      "execution_count": 4,
      "outputs": [
        {
          "output_type": "stream",
          "name": "stdout",
          "text": [
            "+-------+---------+-----------+---------------+----+-----+---------+-----------+-------+-----------+---+\n",
            "|Consumo|Cilindros|Cilindradas|RelEixoTraseiro|Peso|Tempo|TipoMotor|Transmissao|Marchas|Carburadors| HP|\n",
            "+-------+---------+-----------+---------------+----+-----+---------+-----------+-------+-----------+---+\n",
            "|     21|        6|        160|             39| 262| 1646|        0|          1|      4|          4|110|\n",
            "|     21|        6|        160|             39|2875| 1702|        0|          1|      4|          4|110|\n",
            "|    228|        4|        108|            385| 232| 1861|        1|          1|      4|          1| 93|\n",
            "|    214|        6|        258|            308|3215| 1944|        1|          0|      3|          1|110|\n",
            "|    187|        8|        360|            315| 344| 1702|        0|          0|      3|          2|175|\n",
            "|    181|        6|        225|            276| 346| 2022|        1|          0|      3|          1|105|\n",
            "|    143|        8|        360|            321| 357| 1584|        0|          0|      3|          4|245|\n",
            "|    244|        4|       1467|            369| 319|   20|        1|          0|      4|          2| 62|\n",
            "|    228|        4|       1408|            392| 315|  229|        1|          0|      4|          2| 95|\n",
            "|    192|        6|       1676|            392| 344|  183|        1|          0|      4|          4|123|\n",
            "|    178|        6|       1676|            392| 344|  189|        1|          0|      4|          4|123|\n",
            "|    164|        8|       2758|            307| 407|  174|        0|          0|      3|          3|180|\n",
            "|    173|        8|       2758|            307| 373|  176|        0|          0|      3|          3|180|\n",
            "|    152|        8|       2758|            307| 378|   18|        0|          0|      3|          3|180|\n",
            "|    104|        8|        472|            293| 525| 1798|        0|          0|      3|          4|205|\n",
            "|    104|        8|        460|              3|5424| 1782|        0|          0|      3|          4|215|\n",
            "|    147|        8|        440|            323|5345| 1742|        0|          0|      3|          4|230|\n",
            "|    324|        4|        787|            408|  22| 1947|        1|          1|      4|          1| 66|\n",
            "|    304|        4|        757|            493|1615| 1852|        1|          1|      4|          2| 52|\n",
            "|    339|        4|        711|            422|1835|  199|        1|          1|      4|          1| 65|\n",
            "+-------+---------+-----------+---------------+----+-----+---------+-----------+-------+-----------+---+\n",
            "only showing top 20 rows\n",
            "\n"
          ]
        }
      ]
    },
    {
      "cell_type": "code",
      "source": [
        "from pyspark.ml.regression import RandomForestRegressor\n",
        "from pyspark.ml.feature import RFormula"
      ],
      "metadata": {
        "id": "K4Z6KN88Ic5y"
      },
      "execution_count": 5,
      "outputs": []
    },
    {
      "cell_type": "code",
      "source": [
        "Rformula = RFormula(formula='HP ~ Consumo + Cilindros + Cilindradas', featuresCol='independente', labelCol='dependente')\n",
        "carrosrf = Rformula.fit(carros).transform(carros)\n",
        "carrosrf.select('independente','dependente').show(truncate=False)"
      ],
      "metadata": {
        "colab": {
          "base_uri": "https://localhost:8080/"
        },
        "id": "E47qZ_1bIwod",
        "outputId": "2d56dcbd-4d5f-498f-bb27-b2aabd979af2"
      },
      "execution_count": 6,
      "outputs": [
        {
          "output_type": "stream",
          "name": "stdout",
          "text": [
            "+------------------+----------+\n",
            "|independente      |dependente|\n",
            "+------------------+----------+\n",
            "|[21.0,6.0,160.0]  |110.0     |\n",
            "|[21.0,6.0,160.0]  |110.0     |\n",
            "|[228.0,4.0,108.0] |93.0      |\n",
            "|[214.0,6.0,258.0] |110.0     |\n",
            "|[187.0,8.0,360.0] |175.0     |\n",
            "|[181.0,6.0,225.0] |105.0     |\n",
            "|[143.0,8.0,360.0] |245.0     |\n",
            "|[244.0,4.0,1467.0]|62.0      |\n",
            "|[228.0,4.0,1408.0]|95.0      |\n",
            "|[192.0,6.0,1676.0]|123.0     |\n",
            "|[178.0,6.0,1676.0]|123.0     |\n",
            "|[164.0,8.0,2758.0]|180.0     |\n",
            "|[173.0,8.0,2758.0]|180.0     |\n",
            "|[152.0,8.0,2758.0]|180.0     |\n",
            "|[104.0,8.0,472.0] |205.0     |\n",
            "|[104.0,8.0,460.0] |215.0     |\n",
            "|[147.0,8.0,440.0] |230.0     |\n",
            "|[324.0,4.0,787.0] |66.0      |\n",
            "|[304.0,4.0,757.0] |52.0      |\n",
            "|[339.0,4.0,711.0] |65.0      |\n",
            "+------------------+----------+\n",
            "only showing top 20 rows\n",
            "\n"
          ]
        }
      ]
    },
    {
      "cell_type": "code",
      "source": [
        "from pyspark.ml.feature import Normalizer"
      ],
      "metadata": {
        "id": "kWnNLm-dJT6o"
      },
      "execution_count": 7,
      "outputs": []
    },
    {
      "cell_type": "code",
      "source": [
        "normalizer = Normalizer(inputCol='independente',outputCol='independente_norm',p=1.0)\n",
        "carros_norm = normalizer.transform(carrosrf)"
      ],
      "metadata": {
        "id": "IQn-AlWOJtpE"
      },
      "execution_count": 8,
      "outputs": []
    },
    {
      "cell_type": "code",
      "source": [
        "carros_norm.select('independente','dependente','independente_norm').show(truncate=False)"
      ],
      "metadata": {
        "id": "jrQBCPAvKc4S",
        "colab": {
          "base_uri": "https://localhost:8080/"
        },
        "outputId": "dc2daf85-a2a6-4428-b338-5a290a0e6195"
      },
      "execution_count": 9,
      "outputs": [
        {
          "output_type": "stream",
          "name": "stdout",
          "text": [
            "+------------------+----------+--------------------------------------------------------------+\n",
            "|independente      |dependente|independente_norm                                             |\n",
            "+------------------+----------+--------------------------------------------------------------+\n",
            "|[21.0,6.0,160.0]  |110.0     |[0.11229946524064172,0.03208556149732621,0.8556149732620321]  |\n",
            "|[21.0,6.0,160.0]  |110.0     |[0.11229946524064172,0.03208556149732621,0.8556149732620321]  |\n",
            "|[228.0,4.0,108.0] |93.0      |[0.6705882352941176,0.011764705882352941,0.3176470588235294]  |\n",
            "|[214.0,6.0,258.0] |110.0     |[0.4476987447698745,0.012552301255230125,0.5397489539748954]  |\n",
            "|[187.0,8.0,360.0] |175.0     |[0.33693693693693694,0.014414414414414415,0.6486486486486487] |\n",
            "|[181.0,6.0,225.0] |105.0     |[0.4393203883495146,0.014563106796116505,0.5461165048543689]  |\n",
            "|[143.0,8.0,360.0] |245.0     |[0.27984344422700586,0.015655577299412915,0.7045009784735812] |\n",
            "|[244.0,4.0,1467.0]|62.0      |[0.1422740524781341,0.0023323615160349854,0.8553935860058309] |\n",
            "|[228.0,4.0,1408.0]|95.0      |[0.13902439024390245,0.0024390243902439024,0.8585365853658536]|\n",
            "|[192.0,6.0,1676.0]|123.0     |[0.10245464247598719,0.0032017075773745998,0.8943436499466382]|\n",
            "|[178.0,6.0,1676.0]|123.0     |[0.0956989247311828,0.0032258064516129032,0.9010752688172043] |\n",
            "|[164.0,8.0,2758.0]|180.0     |[0.05597269624573379,0.0027303754266211604,0.941296928327645] |\n",
            "|[173.0,8.0,2758.0]|180.0     |[0.058863559033684926,0.0027220142905750254,0.93841442667574] |\n",
            "|[152.0,8.0,2758.0]|180.0     |[0.0520904729266621,0.0027416038382453737,0.9451679232350926] |\n",
            "|[104.0,8.0,472.0] |205.0     |[0.1780821917808219,0.0136986301369863,0.8082191780821918]    |\n",
            "|[104.0,8.0,460.0] |215.0     |[0.18181818181818182,0.013986013986013986,0.8041958041958042] |\n",
            "|[147.0,8.0,440.0] |230.0     |[0.24705882352941178,0.013445378151260505,0.7394957983193278] |\n",
            "|[324.0,4.0,787.0] |66.0      |[0.2905829596412556,0.003587443946188341,0.705829596412556]   |\n",
            "|[304.0,4.0,757.0] |52.0      |[0.28544600938967135,0.003755868544600939,0.7107981220657277] |\n",
            "|[339.0,4.0,711.0] |65.0      |[0.3216318785578748,0.003795066413662239,0.674573055028463]   |\n",
            "+------------------+----------+--------------------------------------------------------------+\n",
            "only showing top 20 rows\n",
            "\n"
          ]
        }
      ]
    },
    {
      "cell_type": "code",
      "source": [
        "carro_treino, carro_teste =  carros_norm.randomSplit([0.7,0.3], seed=1)"
      ],
      "metadata": {
        "id": "w3A5mzfNdpqr"
      },
      "execution_count": 20,
      "outputs": []
    },
    {
      "cell_type": "code",
      "source": [
        "carro_treino.count() , carro_teste.count()"
      ],
      "metadata": {
        "id": "oX5xN67LeONu",
        "colab": {
          "base_uri": "https://localhost:8080/"
        },
        "outputId": "cd45a6a2-75ed-4048-9dff-fd62a14ccb71"
      },
      "execution_count": 21,
      "outputs": [
        {
          "output_type": "execute_result",
          "data": {
            "text/plain": [
              "(24, 8)"
            ]
          },
          "metadata": {},
          "execution_count": 21
        }
      ]
    },
    {
      "cell_type": "code",
      "source": [
        "rf = RandomForestRegressor(featuresCol='independente_norm', labelCol='dependente',maxDepth=10,numTrees=500,seed=20)"
      ],
      "metadata": {
        "id": "bv_ZGGm4Sw5b"
      },
      "execution_count": 22,
      "outputs": []
    },
    {
      "cell_type": "code",
      "source": [
        "modelo = rf.fit(carro_treino)"
      ],
      "metadata": {
        "id": "_UgdrHMcUMs8"
      },
      "execution_count": 24,
      "outputs": []
    },
    {
      "cell_type": "code",
      "source": [
        "previsao = modelo.transform(carro_teste)\n",
        "previsao.select('dependente','prediction').show()"
      ],
      "metadata": {
        "colab": {
          "base_uri": "https://localhost:8080/"
        },
        "id": "U66riNmlUWO5",
        "outputId": "6da60ccf-69fd-4994-98fd-a4231d931f34"
      },
      "execution_count": 26,
      "outputs": [
        {
          "output_type": "stream",
          "name": "stdout",
          "text": [
            "+----------+------------------+\n",
            "|dependente|        prediction|\n",
            "+----------+------------------+\n",
            "|     215.0|            175.44|\n",
            "|     205.0|            175.44|\n",
            "|     180.0|           158.596|\n",
            "|     180.0|           158.596|\n",
            "|     123.0|           125.568|\n",
            "|     105.0| 167.3863333333333|\n",
            "|     175.0|169.75033333333332|\n",
            "|     113.0|           114.878|\n",
            "+----------+------------------+\n",
            "\n"
          ]
        }
      ]
    },
    {
      "cell_type": "code",
      "source": [
        "from pyspark.ml.evaluation import RegressionEvaluator"
      ],
      "metadata": {
        "id": "B3h--GzkUkTO"
      },
      "execution_count": 27,
      "outputs": []
    },
    {
      "cell_type": "code",
      "source": [
        "avaliacao = RegressionEvaluator(predictionCol='prediction',labelCol='dependente', metricName='rmse')"
      ],
      "metadata": {
        "id": "B2F9o3GQVDfc"
      },
      "execution_count": 29,
      "outputs": []
    },
    {
      "cell_type": "code",
      "source": [
        "rmse = avaliacao.evaluate(previsao)\n",
        "print(rmse) # mais perto de 0 melhor"
      ],
      "metadata": {
        "colab": {
          "base_uri": "https://localhost:8080/"
        },
        "id": "hoyFtTKGVWmt",
        "outputId": "3df8c01a-5d09-41b3-8dfd-a38cef0011b2"
      },
      "execution_count": 31,
      "outputs": [
        {
          "output_type": "stream",
          "name": "stdout",
          "text": [
            "30.176117889170413\n"
          ]
        }
      ]
    },
    {
      "cell_type": "markdown",
      "source": [
        "com Random Forest a performance foi melhor do que com a regressao linear"
      ],
      "metadata": {
        "id": "BRKJVzR5V58_"
      }
    }
  ]
}