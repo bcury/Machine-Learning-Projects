{
  "nbformat": 4,
  "nbformat_minor": 0,
  "metadata": {
    "colab": {
      "name": "ML_spark_classificação_RedesNeurais_MLP",
      "provenance": [],
      "collapsed_sections": [],
      "authorship_tag": "ABX9TyO1DBeWuTrc26nW7kI3DthL",
      "include_colab_link": true
    },
    "kernelspec": {
      "name": "python3",
      "display_name": "Python 3"
    },
    "language_info": {
      "name": "python"
    }
  },
  "cells": [
    {
      "cell_type": "markdown",
      "metadata": {
        "id": "view-in-github",
        "colab_type": "text"
      },
      "source": [
        "<a href=\"https://colab.research.google.com/github/bcury/Machine-Learning-Projects/blob/main/ML_spark_classifica%C3%A7%C3%A3o_RedesNeurais_MLP.ipynb\" target=\"_parent\"><img src=\"https://colab.research.google.com/assets/colab-badge.svg\" alt=\"Open In Colab\"/></a>"
      ]
    },
    {
      "cell_type": "code",
      "execution_count": null,
      "metadata": {
        "colab": {
          "base_uri": "https://localhost:8080/"
        },
        "id": "FeohKzpYtnhM",
        "outputId": "ea4301cb-9bf1-48c4-8318-e44e40f5a453"
      },
      "outputs": [
        {
          "output_type": "stream",
          "name": "stdout",
          "text": [
            "Looking in indexes: https://pypi.org/simple, https://us-python.pkg.dev/colab-wheels/public/simple/\n",
            "Collecting pyspark\n",
            "  Downloading pyspark-3.2.1.tar.gz (281.4 MB)\n",
            "\u001b[K     |████████████████████████████████| 281.4 MB 27 kB/s \n",
            "\u001b[?25hCollecting py4j==0.10.9.3\n",
            "  Downloading py4j-0.10.9.3-py2.py3-none-any.whl (198 kB)\n",
            "\u001b[K     |████████████████████████████████| 198 kB 46.1 MB/s \n",
            "\u001b[?25hBuilding wheels for collected packages: pyspark\n",
            "  Building wheel for pyspark (setup.py) ... \u001b[?25l\u001b[?25hdone\n",
            "  Created wheel for pyspark: filename=pyspark-3.2.1-py2.py3-none-any.whl size=281853642 sha256=998579f0dfcdd1ba17bd2c0ad80c47fb6d010e91d1c17d15ccbead164c3abf7a\n",
            "  Stored in directory: /root/.cache/pip/wheels/9f/f5/07/7cd8017084dce4e93e84e92efd1e1d5334db05f2e83bcef74f\n",
            "Successfully built pyspark\n",
            "Installing collected packages: py4j, pyspark\n",
            "Successfully installed py4j-0.10.9.3 pyspark-3.2.1\n"
          ]
        }
      ],
      "source": [
        "pip install pyspark"
      ]
    },
    {
      "cell_type": "code",
      "source": [
        "pip install findspark"
      ],
      "metadata": {
        "colab": {
          "base_uri": "https://localhost:8080/"
        },
        "id": "NhiZ5Tc8t3pJ",
        "outputId": "4ffa68b6-3b3d-4947-fc3c-060fe806561a"
      },
      "execution_count": null,
      "outputs": [
        {
          "output_type": "stream",
          "name": "stdout",
          "text": [
            "Looking in indexes: https://pypi.org/simple, https://us-python.pkg.dev/colab-wheels/public/simple/\n",
            "Collecting findspark\n",
            "  Downloading findspark-2.0.1-py2.py3-none-any.whl (4.4 kB)\n",
            "Installing collected packages: findspark\n",
            "Successfully installed findspark-2.0.1\n"
          ]
        }
      ]
    },
    {
      "cell_type": "code",
      "source": [
        "import pyspark, findspark\n",
        "from pyspark.sql import SparkSession\n",
        "findspark.init()\n",
        "spark = SparkSession.builder.appName('DeepLearning').getOrCreate()"
      ],
      "metadata": {
        "id": "OSnLJZJEt-Du"
      },
      "execution_count": 138,
      "outputs": []
    },
    {
      "cell_type": "code",
      "source": [
        "iris = spark.read.csv('iris.csv', inferSchema=True, header=True)\n",
        "iris.show()"
      ],
      "metadata": {
        "colab": {
          "base_uri": "https://localhost:8080/"
        },
        "id": "izoZAHo2uMCJ",
        "outputId": "847d0371-6626-4ec7-fb90-e08ab4203614"
      },
      "execution_count": 139,
      "outputs": [
        {
          "output_type": "stream",
          "name": "stdout",
          "text": [
            "+-----------+----------+-----------+----------+-----------+\n",
            "|sepallength|sepalwidth|petallength|petalwidth|      class|\n",
            "+-----------+----------+-----------+----------+-----------+\n",
            "|        5.1|       3.5|        1.4|       0.2|Iris-setosa|\n",
            "|        4.9|       3.0|        1.4|       0.2|Iris-setosa|\n",
            "|        4.7|       3.2|        1.3|       0.2|Iris-setosa|\n",
            "|        4.6|       3.1|        1.5|       0.2|Iris-setosa|\n",
            "|        5.0|       3.6|        1.4|       0.2|Iris-setosa|\n",
            "|        5.4|       3.9|        1.7|       0.4|Iris-setosa|\n",
            "|        4.6|       3.4|        1.4|       0.3|Iris-setosa|\n",
            "|        5.0|       3.4|        1.5|       0.2|Iris-setosa|\n",
            "|        4.4|       2.9|        1.4|       0.2|Iris-setosa|\n",
            "|        4.9|       3.1|        1.5|       0.1|Iris-setosa|\n",
            "|        5.4|       3.7|        1.5|       0.2|Iris-setosa|\n",
            "|        4.8|       3.4|        1.6|       0.2|Iris-setosa|\n",
            "|        4.8|       3.0|        1.4|       0.1|Iris-setosa|\n",
            "|        4.3|       3.0|        1.1|       0.1|Iris-setosa|\n",
            "|        5.8|       4.0|        1.2|       0.2|Iris-setosa|\n",
            "|        5.7|       4.4|        1.5|       0.4|Iris-setosa|\n",
            "|        5.4|       3.9|        1.3|       0.4|Iris-setosa|\n",
            "|        5.1|       3.5|        1.4|       0.3|Iris-setosa|\n",
            "|        5.7|       3.8|        1.7|       0.3|Iris-setosa|\n",
            "|        5.1|       3.8|        1.5|       0.3|Iris-setosa|\n",
            "+-----------+----------+-----------+----------+-----------+\n",
            "only showing top 20 rows\n",
            "\n"
          ]
        }
      ]
    },
    {
      "cell_type": "code",
      "source": [
        "from pyspark.ml.feature import VectorAssembler"
      ],
      "metadata": {
        "id": "7ERlsWqdLsSz"
      },
      "execution_count": 140,
      "outputs": []
    },
    {
      "cell_type": "code",
      "source": [
        "asb = VectorAssembler(inputCols=['sepallength','sepalwidth','petallength','petalwidth'], outputCol='independente')\n",
        "iris_asb = asb.transform(iris)\n",
        "iris_asb.show()"
      ],
      "metadata": {
        "colab": {
          "base_uri": "https://localhost:8080/"
        },
        "id": "yXtA5ylGOOJO",
        "outputId": "c7cfadf0-1a39-4e7c-e0c8-f2ea80b639e9"
      },
      "execution_count": 141,
      "outputs": [
        {
          "output_type": "stream",
          "name": "stdout",
          "text": [
            "+-----------+----------+-----------+----------+-----------+-----------------+\n",
            "|sepallength|sepalwidth|petallength|petalwidth|      class|     independente|\n",
            "+-----------+----------+-----------+----------+-----------+-----------------+\n",
            "|        5.1|       3.5|        1.4|       0.2|Iris-setosa|[5.1,3.5,1.4,0.2]|\n",
            "|        4.9|       3.0|        1.4|       0.2|Iris-setosa|[4.9,3.0,1.4,0.2]|\n",
            "|        4.7|       3.2|        1.3|       0.2|Iris-setosa|[4.7,3.2,1.3,0.2]|\n",
            "|        4.6|       3.1|        1.5|       0.2|Iris-setosa|[4.6,3.1,1.5,0.2]|\n",
            "|        5.0|       3.6|        1.4|       0.2|Iris-setosa|[5.0,3.6,1.4,0.2]|\n",
            "|        5.4|       3.9|        1.7|       0.4|Iris-setosa|[5.4,3.9,1.7,0.4]|\n",
            "|        4.6|       3.4|        1.4|       0.3|Iris-setosa|[4.6,3.4,1.4,0.3]|\n",
            "|        5.0|       3.4|        1.5|       0.2|Iris-setosa|[5.0,3.4,1.5,0.2]|\n",
            "|        4.4|       2.9|        1.4|       0.2|Iris-setosa|[4.4,2.9,1.4,0.2]|\n",
            "|        4.9|       3.1|        1.5|       0.1|Iris-setosa|[4.9,3.1,1.5,0.1]|\n",
            "|        5.4|       3.7|        1.5|       0.2|Iris-setosa|[5.4,3.7,1.5,0.2]|\n",
            "|        4.8|       3.4|        1.6|       0.2|Iris-setosa|[4.8,3.4,1.6,0.2]|\n",
            "|        4.8|       3.0|        1.4|       0.1|Iris-setosa|[4.8,3.0,1.4,0.1]|\n",
            "|        4.3|       3.0|        1.1|       0.1|Iris-setosa|[4.3,3.0,1.1,0.1]|\n",
            "|        5.8|       4.0|        1.2|       0.2|Iris-setosa|[5.8,4.0,1.2,0.2]|\n",
            "|        5.7|       4.4|        1.5|       0.4|Iris-setosa|[5.7,4.4,1.5,0.4]|\n",
            "|        5.4|       3.9|        1.3|       0.4|Iris-setosa|[5.4,3.9,1.3,0.4]|\n",
            "|        5.1|       3.5|        1.4|       0.3|Iris-setosa|[5.1,3.5,1.4,0.3]|\n",
            "|        5.7|       3.8|        1.7|       0.3|Iris-setosa|[5.7,3.8,1.7,0.3]|\n",
            "|        5.1|       3.8|        1.5|       0.3|Iris-setosa|[5.1,3.8,1.5,0.3]|\n",
            "+-----------+----------+-----------+----------+-----------+-----------------+\n",
            "only showing top 20 rows\n",
            "\n"
          ]
        }
      ]
    },
    {
      "cell_type": "code",
      "source": [
        "from pyspark.ml.feature import StringIndexer"
      ],
      "metadata": {
        "id": "IY6tOYJ7PM3m"
      },
      "execution_count": 142,
      "outputs": []
    },
    {
      "cell_type": "code",
      "source": [
        "ind = StringIndexer(inputCol='class',outputCol='dependente')\n",
        "iris_asb= ind.fit(iris_asb).transform(iris_asb)\n",
        "iris_asb.show()"
      ],
      "metadata": {
        "colab": {
          "base_uri": "https://localhost:8080/"
        },
        "id": "zRKJZcetPv0p",
        "outputId": "7b43ca80-e8a1-4c14-ace8-6b95bbf9ddd9"
      },
      "execution_count": 143,
      "outputs": [
        {
          "output_type": "stream",
          "name": "stdout",
          "text": [
            "+-----------+----------+-----------+----------+-----------+-----------------+----------+\n",
            "|sepallength|sepalwidth|petallength|petalwidth|      class|     independente|dependente|\n",
            "+-----------+----------+-----------+----------+-----------+-----------------+----------+\n",
            "|        5.1|       3.5|        1.4|       0.2|Iris-setosa|[5.1,3.5,1.4,0.2]|       0.0|\n",
            "|        4.9|       3.0|        1.4|       0.2|Iris-setosa|[4.9,3.0,1.4,0.2]|       0.0|\n",
            "|        4.7|       3.2|        1.3|       0.2|Iris-setosa|[4.7,3.2,1.3,0.2]|       0.0|\n",
            "|        4.6|       3.1|        1.5|       0.2|Iris-setosa|[4.6,3.1,1.5,0.2]|       0.0|\n",
            "|        5.0|       3.6|        1.4|       0.2|Iris-setosa|[5.0,3.6,1.4,0.2]|       0.0|\n",
            "|        5.4|       3.9|        1.7|       0.4|Iris-setosa|[5.4,3.9,1.7,0.4]|       0.0|\n",
            "|        4.6|       3.4|        1.4|       0.3|Iris-setosa|[4.6,3.4,1.4,0.3]|       0.0|\n",
            "|        5.0|       3.4|        1.5|       0.2|Iris-setosa|[5.0,3.4,1.5,0.2]|       0.0|\n",
            "|        4.4|       2.9|        1.4|       0.2|Iris-setosa|[4.4,2.9,1.4,0.2]|       0.0|\n",
            "|        4.9|       3.1|        1.5|       0.1|Iris-setosa|[4.9,3.1,1.5,0.1]|       0.0|\n",
            "|        5.4|       3.7|        1.5|       0.2|Iris-setosa|[5.4,3.7,1.5,0.2]|       0.0|\n",
            "|        4.8|       3.4|        1.6|       0.2|Iris-setosa|[4.8,3.4,1.6,0.2]|       0.0|\n",
            "|        4.8|       3.0|        1.4|       0.1|Iris-setosa|[4.8,3.0,1.4,0.1]|       0.0|\n",
            "|        4.3|       3.0|        1.1|       0.1|Iris-setosa|[4.3,3.0,1.1,0.1]|       0.0|\n",
            "|        5.8|       4.0|        1.2|       0.2|Iris-setosa|[5.8,4.0,1.2,0.2]|       0.0|\n",
            "|        5.7|       4.4|        1.5|       0.4|Iris-setosa|[5.7,4.4,1.5,0.4]|       0.0|\n",
            "|        5.4|       3.9|        1.3|       0.4|Iris-setosa|[5.4,3.9,1.3,0.4]|       0.0|\n",
            "|        5.1|       3.5|        1.4|       0.3|Iris-setosa|[5.1,3.5,1.4,0.3]|       0.0|\n",
            "|        5.7|       3.8|        1.7|       0.3|Iris-setosa|[5.7,3.8,1.7,0.3]|       0.0|\n",
            "|        5.1|       3.8|        1.5|       0.3|Iris-setosa|[5.1,3.8,1.5,0.3]|       0.0|\n",
            "+-----------+----------+-----------+----------+-----------+-----------------+----------+\n",
            "only showing top 20 rows\n",
            "\n"
          ]
        }
      ]
    },
    {
      "cell_type": "code",
      "source": [
        "iris_treino, iris_teste = iris_asb.randomSplit([0.7,0.3])"
      ],
      "metadata": {
        "id": "t5_o4-7HQdld"
      },
      "execution_count": 144,
      "outputs": []
    },
    {
      "cell_type": "code",
      "source": [
        "iris_treino.count(), iris_teste.count()"
      ],
      "metadata": {
        "colab": {
          "base_uri": "https://localhost:8080/"
        },
        "id": "ZGAVi2LEQsOC",
        "outputId": "699108d7-e71f-450b-cc9e-324c255e80ca"
      },
      "execution_count": 145,
      "outputs": [
        {
          "output_type": "execute_result",
          "data": {
            "text/plain": [
              "(100, 50)"
            ]
          },
          "metadata": {},
          "execution_count": 145
        }
      ]
    },
    {
      "cell_type": "code",
      "source": [
        "from pyspark.ml.classification import MultilayerPerceptronClassifier"
      ],
      "metadata": {
        "id": "Wl-q6SsGRZtQ"
      },
      "execution_count": 146,
      "outputs": []
    },
    {
      "cell_type": "code",
      "source": [
        "mlp = MultilayerPerceptronClassifier(maxIter=10, layers=[4,5,4,3], featuresCol='independente',labelCol='dependente')"
      ],
      "metadata": {
        "id": "e4aK2GxWRti3"
      },
      "execution_count": 147,
      "outputs": []
    },
    {
      "cell_type": "code",
      "source": [
        "modelo = mlp.fit(iris_treino)"
      ],
      "metadata": {
        "id": "nwC2COrPSTpr"
      },
      "execution_count": 148,
      "outputs": []
    },
    {
      "cell_type": "code",
      "source": [
        "previsao = modelo.transform(iris_teste)\n",
        "previsao.select('dependente','prediction').show()"
      ],
      "metadata": {
        "colab": {
          "base_uri": "https://localhost:8080/"
        },
        "id": "5jI1aynfSaHS",
        "outputId": "6704085a-eaf6-402b-ccf1-9674dd13456a"
      },
      "execution_count": 149,
      "outputs": [
        {
          "output_type": "stream",
          "name": "stdout",
          "text": [
            "+----------+----------+\n",
            "|dependente|prediction|\n",
            "+----------+----------+\n",
            "|       0.0|       0.0|\n",
            "|       0.0|       0.0|\n",
            "|       0.0|       0.0|\n",
            "|       0.0|       0.0|\n",
            "|       0.0|       0.0|\n",
            "|       0.0|       0.0|\n",
            "|       0.0|       0.0|\n",
            "|       0.0|       0.0|\n",
            "|       0.0|       0.0|\n",
            "|       0.0|       0.0|\n",
            "|       0.0|       0.0|\n",
            "|       0.0|       0.0|\n",
            "|       0.0|       0.0|\n",
            "|       0.0|       0.0|\n",
            "|       0.0|       0.0|\n",
            "|       0.0|       0.0|\n",
            "|       0.0|       0.0|\n",
            "|       1.0|       2.0|\n",
            "|       0.0|       0.0|\n",
            "|       0.0|       0.0|\n",
            "+----------+----------+\n",
            "only showing top 20 rows\n",
            "\n"
          ]
        }
      ]
    },
    {
      "cell_type": "code",
      "source": [
        "from pyspark.ml.evaluation import MulticlassClassificationEvaluator"
      ],
      "metadata": {
        "id": "r6IkRULmSp5i"
      },
      "execution_count": 150,
      "outputs": []
    },
    {
      "cell_type": "code",
      "source": [
        "performance = MulticlassClassificationEvaluator(labelCol='dependente',predictionCol='prediction',metricName='accuracy')\n",
        "acuracia = performance.evaluate(previsao)\n",
        "print(acuracia)"
      ],
      "metadata": {
        "colab": {
          "base_uri": "https://localhost:8080/"
        },
        "id": "iNfyUKupS0Tx",
        "outputId": "7b1caf2d-41b8-40d5-e7d9-6921194bf289"
      },
      "execution_count": 151,
      "outputs": [
        {
          "output_type": "stream",
          "name": "stdout",
          "text": [
            "0.66\n"
          ]
        }
      ]
    },
    {
      "cell_type": "code",
      "source": [
        "print(modelo.getMaxIter())\n",
        "print(modelo.getLayers())"
      ],
      "metadata": {
        "colab": {
          "base_uri": "https://localhost:8080/"
        },
        "id": "vzvOHX2qTd9t",
        "outputId": "9a37b399-c28b-4d53-9b0a-f301b2cc1fb5"
      },
      "execution_count": 152,
      "outputs": [
        {
          "output_type": "stream",
          "name": "stdout",
          "text": [
            "10\n",
            "[4, 5, 4, 3]\n"
          ]
        }
      ]
    },
    {
      "cell_type": "code",
      "source": [
        "parunico = {modelo.maxIter: 1000}"
      ],
      "metadata": {
        "id": "kwCOL17CUXRH"
      },
      "execution_count": 153,
      "outputs": []
    },
    {
      "cell_type": "code",
      "source": [
        "modelo = mlp.fit(iris_treino, parunico)"
      ],
      "metadata": {
        "id": "wao-41dQV9UE"
      },
      "execution_count": 154,
      "outputs": []
    },
    {
      "cell_type": "code",
      "source": [
        "previsao = modelo.transform(iris_teste)\n",
        "previsao.select('dependente','prediction').show()"
      ],
      "metadata": {
        "colab": {
          "base_uri": "https://localhost:8080/"
        },
        "id": "6H7SqGawWEiS",
        "outputId": "8bccac6f-178d-4aff-bdf9-238d89bc31ba"
      },
      "execution_count": 155,
      "outputs": [
        {
          "output_type": "stream",
          "name": "stdout",
          "text": [
            "+----------+----------+\n",
            "|dependente|prediction|\n",
            "+----------+----------+\n",
            "|       0.0|       0.0|\n",
            "|       0.0|       0.0|\n",
            "|       0.0|       0.0|\n",
            "|       0.0|       0.0|\n",
            "|       0.0|       0.0|\n",
            "|       0.0|       0.0|\n",
            "|       0.0|       0.0|\n",
            "|       0.0|       0.0|\n",
            "|       0.0|       0.0|\n",
            "|       0.0|       0.0|\n",
            "|       0.0|       0.0|\n",
            "|       0.0|       0.0|\n",
            "|       0.0|       0.0|\n",
            "|       0.0|       0.0|\n",
            "|       0.0|       0.0|\n",
            "|       0.0|       0.0|\n",
            "|       0.0|       0.0|\n",
            "|       1.0|       1.0|\n",
            "|       0.0|       0.0|\n",
            "|       0.0|       0.0|\n",
            "+----------+----------+\n",
            "only showing top 20 rows\n",
            "\n"
          ]
        }
      ]
    },
    {
      "cell_type": "code",
      "source": [
        "performance = MulticlassClassificationEvaluator(labelCol='dependente',predictionCol='prediction',metricName='accuracy')\n",
        "acuracia = performance.evaluate(previsao)\n",
        "print(acuracia)"
      ],
      "metadata": {
        "id": "YN-FbCgXWg0W",
        "colab": {
          "base_uri": "https://localhost:8080/"
        },
        "outputId": "6ebd0c9a-6bef-4263-a2cd-28a5084c289d"
      },
      "execution_count": 156,
      "outputs": [
        {
          "output_type": "stream",
          "name": "stdout",
          "text": [
            "0.98\n"
          ]
        }
      ]
    },
    {
      "cell_type": "markdown",
      "source": [
        "woww 98% agora"
      ],
      "metadata": {
        "id": "5NtmR2b1ZBGd"
      }
    },
    {
      "cell_type": "code",
      "source": [
        "print(modelo.getMaxIter())\n",
        "print(modelo.getLayers())"
      ],
      "metadata": {
        "colab": {
          "base_uri": "https://localhost:8080/"
        },
        "id": "mEUsqdqEWTxf",
        "outputId": "bdaae2d0-53a0-4573-a4cf-f12858c4e022"
      },
      "execution_count": 157,
      "outputs": [
        {
          "output_type": "stream",
          "name": "stdout",
          "text": [
            "1000\n",
            "[4, 5, 4, 3]\n"
          ]
        }
      ]
    },
    {
      "cell_type": "markdown",
      "source": [
        "ou seja, aumentando 100 vezes a interação na rede neural, temos uma melhora muito boa na acuracia, e ainda poderiamos alterar outros parametros tbm"
      ],
      "metadata": {
        "id": "OaX1yTz-Y1L9"
      }
    }
  ]
}