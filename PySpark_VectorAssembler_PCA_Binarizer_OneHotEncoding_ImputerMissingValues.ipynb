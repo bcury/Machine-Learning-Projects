{
  "nbformat": 4,
  "nbformat_minor": 0,
  "metadata": {
    "colab": {
      "name": "PySpark_VectorAssembler_PCA_Binarizer_OneHotEncoding_ImputerMissingValues",
      "provenance": [],
      "collapsed_sections": [],
      "authorship_tag": "ABX9TyNDtB3Mxrln5W/70fBvs9nh",
      "include_colab_link": true
    },
    "kernelspec": {
      "name": "python3",
      "display_name": "Python 3"
    },
    "language_info": {
      "name": "python"
    }
  },
  "cells": [
    {
      "cell_type": "markdown",
      "metadata": {
        "id": "view-in-github",
        "colab_type": "text"
      },
      "source": [
        "<a href=\"https://colab.research.google.com/github/bcury/Machine-Learning-Projects/blob/main/PySpark_VectorAssembler_PCA_Binarizer_OneHotEncoding_ImputerMissingValues.ipynb\" target=\"_parent\"><img src=\"https://colab.research.google.com/assets/colab-badge.svg\" alt=\"Open In Colab\"/></a>"
      ]
    },
    {
      "cell_type": "code",
      "execution_count": 1,
      "metadata": {
        "colab": {
          "base_uri": "https://localhost:8080/"
        },
        "id": "Huh7Au-o96gR",
        "outputId": "be17d0f7-3e9c-4488-f74a-8897ecca696f"
      },
      "outputs": [
        {
          "output_type": "stream",
          "name": "stdout",
          "text": [
            "Looking in indexes: https://pypi.org/simple, https://us-python.pkg.dev/colab-wheels/public/simple/\n",
            "Collecting pyspark\n",
            "  Downloading pyspark-3.2.1.tar.gz (281.4 MB)\n",
            "\u001b[K     |████████████████████████████████| 281.4 MB 40 kB/s \n",
            "\u001b[?25hCollecting py4j==0.10.9.3\n",
            "  Downloading py4j-0.10.9.3-py2.py3-none-any.whl (198 kB)\n",
            "\u001b[K     |████████████████████████████████| 198 kB 77.7 MB/s \n",
            "\u001b[?25hBuilding wheels for collected packages: pyspark\n",
            "  Building wheel for pyspark (setup.py) ... \u001b[?25l\u001b[?25hdone\n",
            "  Created wheel for pyspark: filename=pyspark-3.2.1-py2.py3-none-any.whl size=281853642 sha256=7548da81adfd5dc1444a88bf767d539111893f61266846ad858631bd8311a5e9\n",
            "  Stored in directory: /root/.cache/pip/wheels/9f/f5/07/7cd8017084dce4e93e84e92efd1e1d5334db05f2e83bcef74f\n",
            "Successfully built pyspark\n",
            "Installing collected packages: py4j, pyspark\n",
            "Successfully installed py4j-0.10.9.3 pyspark-3.2.1\n"
          ]
        }
      ],
      "source": [
        "pip install pyspark"
      ]
    },
    {
      "cell_type": "code",
      "source": [
        "pip install findspark"
      ],
      "metadata": {
        "colab": {
          "base_uri": "https://localhost:8080/"
        },
        "id": "ah1IHXgp-HmG",
        "outputId": "e3b3a32d-e567-4efc-e9bb-1d12912dba55"
      },
      "execution_count": 2,
      "outputs": [
        {
          "output_type": "stream",
          "name": "stdout",
          "text": [
            "Looking in indexes: https://pypi.org/simple, https://us-python.pkg.dev/colab-wheels/public/simple/\n",
            "Collecting findspark\n",
            "  Downloading findspark-2.0.1-py2.py3-none-any.whl (4.4 kB)\n",
            "Installing collected packages: findspark\n",
            "Successfully installed findspark-2.0.1\n"
          ]
        }
      ]
    },
    {
      "cell_type": "code",
      "source": [
        "import pyspark, findspark\n",
        "from pyspark.sql import SparkSession\n",
        "findspark.init()\n",
        "spark = SparkSession.builder.appName('Importação').getOrCreate()"
      ],
      "metadata": {
        "id": "EfUw6U6l-feO"
      },
      "execution_count": 3,
      "outputs": []
    },
    {
      "cell_type": "code",
      "source": [
        "arqschema = 'id INT, nome STRING, status STRING, cidade STRING, vendas INT, data DATE'"
      ],
      "metadata": {
        "id": "zGo9sw_T_VP5"
      },
      "execution_count": 4,
      "outputs": []
    },
    {
      "cell_type": "code",
      "source": [
        "despachantes = spark.read.csv(\"despachantes.csv\", header=False, schema=arqschema)\n",
        "despachantes.show()"
      ],
      "metadata": {
        "colab": {
          "base_uri": "https://localhost:8080/"
        },
        "id": "1EVSM9kO-vCu",
        "outputId": "1f3d4f8f-29cf-4b42-9338-7ecab3fb4491"
      },
      "execution_count": 5,
      "outputs": [
        {
          "output_type": "stream",
          "name": "stdout",
          "text": [
            "+---+-------------------+------+-------------+------+----------+\n",
            "| id|               nome|status|       cidade|vendas|      data|\n",
            "+---+-------------------+------+-------------+------+----------+\n",
            "|  1|   Carminda Pestana| Ativo|  Santa Maria|    23|2020-08-11|\n",
            "|  2|    Deolinda Vilela| Ativo|Novo Hamburgo|    34|2020-03-05|\n",
            "|  3|   Emídio Dornelles| Ativo| Porto Alegre|    34|2020-02-05|\n",
            "|  4|Felisbela Dornelles| Ativo| Porto Alegre|    36|2020-02-05|\n",
            "|  5|     Graça Ornellas| Ativo| Porto Alegre|    12|2020-02-05|\n",
            "|  6|   Matilde Rebouças| Ativo| Porto Alegre|    22|2019-01-05|\n",
            "|  7|    Noêmia   Orriça| Ativo|  Santa Maria|    45|2019-10-05|\n",
            "|  8|      Roque Vásquez| Ativo| Porto Alegre|    65|2020-03-05|\n",
            "|  9|      Uriel Queiroz| Ativo| Porto Alegre|    54|2018-05-05|\n",
            "| 10|   Viviana Sequeira| Ativo| Porto Alegre|     0|2020-09-05|\n",
            "+---+-------------------+------+-------------+------+----------+\n",
            "\n"
          ]
        }
      ]
    },
    {
      "cell_type": "code",
      "source": [
        "despachantes.schema"
      ],
      "metadata": {
        "colab": {
          "base_uri": "https://localhost:8080/"
        },
        "id": "Ha1krqVkFMG6",
        "outputId": "347431f6-c4ae-4499-9d50-cf7ae4a1170d"
      },
      "execution_count": 6,
      "outputs": [
        {
          "output_type": "execute_result",
          "data": {
            "text/plain": [
              "StructType(List(StructField(id,IntegerType,true),StructField(nome,StringType,true),StructField(status,StringType,true),StructField(cidade,StringType,true),StructField(vendas,IntegerType,true),StructField(data,DateType,true)))"
            ]
          },
          "metadata": {},
          "execution_count": 6
        }
      ]
    },
    {
      "cell_type": "code",
      "source": [
        "# mesmo arquivo mas em parquet"
      ],
      "metadata": {
        "id": "23Cn3zqYF4SG"
      },
      "execution_count": 7,
      "outputs": []
    },
    {
      "cell_type": "code",
      "source": [
        "par = spark.read.format('parquet').load('despachantes.parquet')\n",
        "par.show(5)"
      ],
      "metadata": {
        "colab": {
          "base_uri": "https://localhost:8080/"
        },
        "id": "YxicgW-YGk9O",
        "outputId": "9e31f6f8-c345-4ba8-aaab-eb4839eba54d"
      },
      "execution_count": 8,
      "outputs": [
        {
          "output_type": "stream",
          "name": "stdout",
          "text": [
            "+---+-------------------+-----+-------------+---+----------+\n",
            "|_c0|                _c1|  _c2|          _c3|_c4|       _c5|\n",
            "+---+-------------------+-----+-------------+---+----------+\n",
            "|  1|   Carminda Pestana|Ativo|  Santa Maria| 23|2020-08-11|\n",
            "|  2|    Deolinda Vilela|Ativo|Novo Hamburgo| 34|2020-03-05|\n",
            "|  3|   Emídio Dornelles|Ativo| Porto Alegre| 34|2020-02-05|\n",
            "|  4|Felisbela Dornelles|Ativo| Porto Alegre| 36|2020-02-05|\n",
            "|  5|     Graça Ornellas|Ativo| Porto Alegre| 12|2020-02-05|\n",
            "+---+-------------------+-----+-------------+---+----------+\n",
            "only showing top 5 rows\n",
            "\n"
          ]
        }
      ]
    },
    {
      "cell_type": "code",
      "source": [
        "# json"
      ],
      "metadata": {
        "id": "kGPY5G2nGxC5"
      },
      "execution_count": 9,
      "outputs": []
    },
    {
      "cell_type": "code",
      "source": [
        "json = spark.read.format('json').load('despachantes.json')\n",
        "json.show(5)"
      ],
      "metadata": {
        "colab": {
          "base_uri": "https://localhost:8080/"
        },
        "id": "gU5JzxFSHHHj",
        "outputId": "5fc1a5fc-0a8f-4f44-c6f6-75d26969a11a"
      },
      "execution_count": 10,
      "outputs": [
        {
          "output_type": "stream",
          "name": "stdout",
          "text": [
            "+-------------+-----------+---+-------------------+------+------+\n",
            "|       cidade|       data| id|               nome|status|vendas|\n",
            "+-------------+-----------+---+-------------------+------+------+\n",
            "|  Santa Maria| 2020-08-11|  1|   Carminda Pestana| Ativo|    23|\n",
            "|Novo Hamburgo| 2020-03-05|  2|    Deolinda Vilela| Ativo|    34|\n",
            "| Porto Alegre| 2020-02-05|  3|   Emídio Dornelles| Ativo|    34|\n",
            "| Porto Alegre| 2020-02-05|  4|Felisbela Dornelles| Ativo|    36|\n",
            "| Porto Alegre| 2020-02-05|  5|     Graça Ornellas| Ativo|    12|\n",
            "+-------------+-----------+---+-------------------+------+------+\n",
            "only showing top 5 rows\n",
            "\n"
          ]
        }
      ]
    },
    {
      "cell_type": "code",
      "source": [
        "import pyspark, findspark\n",
        "from pyspark.sql import SparkSession\n",
        "findspark.init()\n",
        "spark = SparkSession.builder.appName('VectorAssembler').getOrCreate()"
      ],
      "metadata": {
        "id": "P_qBAd_gHRL4"
      },
      "execution_count": 11,
      "outputs": []
    },
    {
      "cell_type": "code",
      "source": [
        "from pyspark.ml.feature import VectorAssembler"
      ],
      "metadata": {
        "id": "rDXJUIycX-N_"
      },
      "execution_count": 7,
      "outputs": []
    },
    {
      "cell_type": "code",
      "source": [
        "carros = spark.read.csv('Carros.csv', header=True, inferSchema=True, sep=';')\n",
        "carros.show()"
      ],
      "metadata": {
        "colab": {
          "base_uri": "https://localhost:8080/"
        },
        "id": "OJkPjhL_YJ1H",
        "outputId": "7c120563-dd96-4cf6-d53b-0ccf122c0684"
      },
      "execution_count": 14,
      "outputs": [
        {
          "output_type": "stream",
          "name": "stdout",
          "text": [
            "+-------+---------+-----------+---------------+----+-----+---------+-----------+-------+-----------+---+\n",
            "|Consumo|Cilindros|Cilindradas|RelEixoTraseiro|Peso|Tempo|TipoMotor|Transmissao|Marchas|Carburadors| HP|\n",
            "+-------+---------+-----------+---------------+----+-----+---------+-----------+-------+-----------+---+\n",
            "|     21|        6|        160|             39| 262| 1646|        0|          1|      4|          4|110|\n",
            "|     21|        6|        160|             39|2875| 1702|        0|          1|      4|          4|110|\n",
            "|    228|        4|        108|            385| 232| 1861|        1|          1|      4|          1| 93|\n",
            "|    214|        6|        258|            308|3215| 1944|        1|          0|      3|          1|110|\n",
            "|    187|        8|        360|            315| 344| 1702|        0|          0|      3|          2|175|\n",
            "|    181|        6|        225|            276| 346| 2022|        1|          0|      3|          1|105|\n",
            "|    143|        8|        360|            321| 357| 1584|        0|          0|      3|          4|245|\n",
            "|    244|        4|       1467|            369| 319|   20|        1|          0|      4|          2| 62|\n",
            "|    228|        4|       1408|            392| 315|  229|        1|          0|      4|          2| 95|\n",
            "|    192|        6|       1676|            392| 344|  183|        1|          0|      4|          4|123|\n",
            "|    178|        6|       1676|            392| 344|  189|        1|          0|      4|          4|123|\n",
            "|    164|        8|       2758|            307| 407|  174|        0|          0|      3|          3|180|\n",
            "|    173|        8|       2758|            307| 373|  176|        0|          0|      3|          3|180|\n",
            "|    152|        8|       2758|            307| 378|   18|        0|          0|      3|          3|180|\n",
            "|    104|        8|        472|            293| 525| 1798|        0|          0|      3|          4|205|\n",
            "|    104|        8|        460|              3|5424| 1782|        0|          0|      3|          4|215|\n",
            "|    147|        8|        440|            323|5345| 1742|        0|          0|      3|          4|230|\n",
            "|    324|        4|        787|            408|  22| 1947|        1|          1|      4|          1| 66|\n",
            "|    304|        4|        757|            493|1615| 1852|        1|          1|      4|          2| 52|\n",
            "|    339|        4|        711|            422|1835|  199|        1|          1|      4|          1| 65|\n",
            "+-------+---------+-----------+---------------+----+-----+---------+-----------+-------+-----------+---+\n",
            "only showing top 20 rows\n",
            "\n"
          ]
        }
      ]
    },
    {
      "cell_type": "markdown",
      "source": [
        "vamos criar a coluna caracteristicas: que  tem todos os inputs"
      ],
      "metadata": {
        "id": "9GLBL7nHbLEw"
      }
    },
    {
      "cell_type": "code",
      "source": [
        "vectas = VectorAssembler(inputCols=['Consumo','Cilindros','Cilindradas','RelEixoTraseiro','Peso','Tempo','TipoMotor','Transmissao','Marchas','Carburadors'], outputCol='caracteristicas')\n",
        "carros = vectas.transform(carros)\n",
        "carros.show()"
      ],
      "metadata": {
        "colab": {
          "base_uri": "https://localhost:8080/"
        },
        "id": "kSVjAfSYYss7",
        "outputId": "fb04dc3c-576f-47f8-abe1-df2601a644ba"
      },
      "execution_count": 18,
      "outputs": [
        {
          "output_type": "stream",
          "name": "stdout",
          "text": [
            "+-------+---------+-----------+---------------+----+-----+---------+-----------+-------+-----------+---+--------------------+\n",
            "|Consumo|Cilindros|Cilindradas|RelEixoTraseiro|Peso|Tempo|TipoMotor|Transmissao|Marchas|Carburadors| HP|     caracteristicas|\n",
            "+-------+---------+-----------+---------------+----+-----+---------+-----------+-------+-----------+---+--------------------+\n",
            "|     21|        6|        160|             39| 262| 1646|        0|          1|      4|          4|110|[21.0,6.0,160.0,3...|\n",
            "|     21|        6|        160|             39|2875| 1702|        0|          1|      4|          4|110|[21.0,6.0,160.0,3...|\n",
            "|    228|        4|        108|            385| 232| 1861|        1|          1|      4|          1| 93|[228.0,4.0,108.0,...|\n",
            "|    214|        6|        258|            308|3215| 1944|        1|          0|      3|          1|110|[214.0,6.0,258.0,...|\n",
            "|    187|        8|        360|            315| 344| 1702|        0|          0|      3|          2|175|[187.0,8.0,360.0,...|\n",
            "|    181|        6|        225|            276| 346| 2022|        1|          0|      3|          1|105|[181.0,6.0,225.0,...|\n",
            "|    143|        8|        360|            321| 357| 1584|        0|          0|      3|          4|245|[143.0,8.0,360.0,...|\n",
            "|    244|        4|       1467|            369| 319|   20|        1|          0|      4|          2| 62|[244.0,4.0,1467.0...|\n",
            "|    228|        4|       1408|            392| 315|  229|        1|          0|      4|          2| 95|[228.0,4.0,1408.0...|\n",
            "|    192|        6|       1676|            392| 344|  183|        1|          0|      4|          4|123|[192.0,6.0,1676.0...|\n",
            "|    178|        6|       1676|            392| 344|  189|        1|          0|      4|          4|123|[178.0,6.0,1676.0...|\n",
            "|    164|        8|       2758|            307| 407|  174|        0|          0|      3|          3|180|[164.0,8.0,2758.0...|\n",
            "|    173|        8|       2758|            307| 373|  176|        0|          0|      3|          3|180|[173.0,8.0,2758.0...|\n",
            "|    152|        8|       2758|            307| 378|   18|        0|          0|      3|          3|180|[152.0,8.0,2758.0...|\n",
            "|    104|        8|        472|            293| 525| 1798|        0|          0|      3|          4|205|[104.0,8.0,472.0,...|\n",
            "|    104|        8|        460|              3|5424| 1782|        0|          0|      3|          4|215|[104.0,8.0,460.0,...|\n",
            "|    147|        8|        440|            323|5345| 1742|        0|          0|      3|          4|230|[147.0,8.0,440.0,...|\n",
            "|    324|        4|        787|            408|  22| 1947|        1|          1|      4|          1| 66|[324.0,4.0,787.0,...|\n",
            "|    304|        4|        757|            493|1615| 1852|        1|          1|      4|          2| 52|[304.0,4.0,757.0,...|\n",
            "|    339|        4|        711|            422|1835|  199|        1|          1|      4|          1| 65|[339.0,4.0,711.0,...|\n",
            "+-------+---------+-----------+---------------+----+-----+---------+-----------+-------+-----------+---+--------------------+\n",
            "only showing top 20 rows\n",
            "\n"
          ]
        }
      ]
    },
    {
      "cell_type": "code",
      "source": [
        "carros.select('caracteristicas').show(truncate=False) #pra nao truncar"
      ],
      "metadata": {
        "colab": {
          "base_uri": "https://localhost:8080/"
        },
        "id": "1rgLkjKlasdz",
        "outputId": "d22d26b0-961a-4a94-bd97-f5975064d017"
      },
      "execution_count": 22,
      "outputs": [
        {
          "output_type": "stream",
          "name": "stdout",
          "text": [
            "+-----------------------------------------------------+\n",
            "|caracteristicas                                      |\n",
            "+-----------------------------------------------------+\n",
            "|[21.0,6.0,160.0,39.0,262.0,1646.0,0.0,1.0,4.0,4.0]   |\n",
            "|[21.0,6.0,160.0,39.0,2875.0,1702.0,0.0,1.0,4.0,4.0]  |\n",
            "|[228.0,4.0,108.0,385.0,232.0,1861.0,1.0,1.0,4.0,1.0] |\n",
            "|[214.0,6.0,258.0,308.0,3215.0,1944.0,1.0,0.0,3.0,1.0]|\n",
            "|[187.0,8.0,360.0,315.0,344.0,1702.0,0.0,0.0,3.0,2.0] |\n",
            "|[181.0,6.0,225.0,276.0,346.0,2022.0,1.0,0.0,3.0,1.0] |\n",
            "|[143.0,8.0,360.0,321.0,357.0,1584.0,0.0,0.0,3.0,4.0] |\n",
            "|[244.0,4.0,1467.0,369.0,319.0,20.0,1.0,0.0,4.0,2.0]  |\n",
            "|[228.0,4.0,1408.0,392.0,315.0,229.0,1.0,0.0,4.0,2.0] |\n",
            "|[192.0,6.0,1676.0,392.0,344.0,183.0,1.0,0.0,4.0,4.0] |\n",
            "|[178.0,6.0,1676.0,392.0,344.0,189.0,1.0,0.0,4.0,4.0] |\n",
            "|[164.0,8.0,2758.0,307.0,407.0,174.0,0.0,0.0,3.0,3.0] |\n",
            "|[173.0,8.0,2758.0,307.0,373.0,176.0,0.0,0.0,3.0,3.0] |\n",
            "|[152.0,8.0,2758.0,307.0,378.0,18.0,0.0,0.0,3.0,3.0]  |\n",
            "|[104.0,8.0,472.0,293.0,525.0,1798.0,0.0,0.0,3.0,4.0] |\n",
            "|[104.0,8.0,460.0,3.0,5424.0,1782.0,0.0,0.0,3.0,4.0]  |\n",
            "|[147.0,8.0,440.0,323.0,5345.0,1742.0,0.0,0.0,3.0,4.0]|\n",
            "|[324.0,4.0,787.0,408.0,22.0,1947.0,1.0,1.0,4.0,1.0]  |\n",
            "|[304.0,4.0,757.0,493.0,1615.0,1852.0,1.0,1.0,4.0,2.0]|\n",
            "|[339.0,4.0,711.0,422.0,1835.0,199.0,1.0,1.0,4.0,1.0] |\n",
            "+-----------------------------------------------------+\n",
            "only showing top 20 rows\n",
            "\n"
          ]
        }
      ]
    },
    {
      "cell_type": "markdown",
      "source": [
        "PCA"
      ],
      "metadata": {
        "id": "IG_hEsdmb-VS"
      }
    },
    {
      "cell_type": "code",
      "source": [
        "import pyspark, findspark\n",
        "from pyspark.sql import SparkSession\n",
        "findspark.init()\n",
        "spark = SparkSession.builder.appName('PCA').getOrCreate()"
      ],
      "metadata": {
        "id": "JeGzQfsybflf"
      },
      "execution_count": 3,
      "outputs": []
    },
    {
      "cell_type": "code",
      "source": [
        "from pyspark.ml.feature  import PCA"
      ],
      "metadata": {
        "id": "GwwysB7TPf1L"
      },
      "execution_count": 5,
      "outputs": []
    },
    {
      "cell_type": "code",
      "source": [
        "carros = spark.read.csv('Carros.csv', header=True, inferSchema=True, sep=';')\n",
        "carros.show()"
      ],
      "metadata": {
        "colab": {
          "base_uri": "https://localhost:8080/"
        },
        "id": "SPlVEWSPPoCL",
        "outputId": "ae9ba64a-9cc1-43da-82f3-4460efc6efcc"
      },
      "execution_count": 6,
      "outputs": [
        {
          "output_type": "stream",
          "name": "stdout",
          "text": [
            "+-------+---------+-----------+---------------+----+-----+---------+-----------+-------+-----------+---+\n",
            "|Consumo|Cilindros|Cilindradas|RelEixoTraseiro|Peso|Tempo|TipoMotor|Transmissao|Marchas|Carburadors| HP|\n",
            "+-------+---------+-----------+---------------+----+-----+---------+-----------+-------+-----------+---+\n",
            "|     21|        6|        160|             39| 262| 1646|        0|          1|      4|          4|110|\n",
            "|     21|        6|        160|             39|2875| 1702|        0|          1|      4|          4|110|\n",
            "|    228|        4|        108|            385| 232| 1861|        1|          1|      4|          1| 93|\n",
            "|    214|        6|        258|            308|3215| 1944|        1|          0|      3|          1|110|\n",
            "|    187|        8|        360|            315| 344| 1702|        0|          0|      3|          2|175|\n",
            "|    181|        6|        225|            276| 346| 2022|        1|          0|      3|          1|105|\n",
            "|    143|        8|        360|            321| 357| 1584|        0|          0|      3|          4|245|\n",
            "|    244|        4|       1467|            369| 319|   20|        1|          0|      4|          2| 62|\n",
            "|    228|        4|       1408|            392| 315|  229|        1|          0|      4|          2| 95|\n",
            "|    192|        6|       1676|            392| 344|  183|        1|          0|      4|          4|123|\n",
            "|    178|        6|       1676|            392| 344|  189|        1|          0|      4|          4|123|\n",
            "|    164|        8|       2758|            307| 407|  174|        0|          0|      3|          3|180|\n",
            "|    173|        8|       2758|            307| 373|  176|        0|          0|      3|          3|180|\n",
            "|    152|        8|       2758|            307| 378|   18|        0|          0|      3|          3|180|\n",
            "|    104|        8|        472|            293| 525| 1798|        0|          0|      3|          4|205|\n",
            "|    104|        8|        460|              3|5424| 1782|        0|          0|      3|          4|215|\n",
            "|    147|        8|        440|            323|5345| 1742|        0|          0|      3|          4|230|\n",
            "|    324|        4|        787|            408|  22| 1947|        1|          1|      4|          1| 66|\n",
            "|    304|        4|        757|            493|1615| 1852|        1|          1|      4|          2| 52|\n",
            "|    339|        4|        711|            422|1835|  199|        1|          1|      4|          1| 65|\n",
            "+-------+---------+-----------+---------------+----+-----+---------+-----------+-------+-----------+---+\n",
            "only showing top 20 rows\n",
            "\n"
          ]
        }
      ]
    },
    {
      "cell_type": "code",
      "source": [
        "vectas = VectorAssembler(inputCols=['Consumo','Cilindros','Cilindradas','RelEixoTraseiro','Peso','Tempo','TipoMotor','Transmissao','Marchas','Carburadors'], outputCol='caracteristicas')\n",
        "carros = vectas.transform(carros)\n",
        "carros.show()"
      ],
      "metadata": {
        "colab": {
          "base_uri": "https://localhost:8080/"
        },
        "id": "reYRrBrYP5Uk",
        "outputId": "10af7dbd-bd88-467c-89a3-ceccabb65bdf"
      },
      "execution_count": 8,
      "outputs": [
        {
          "output_type": "stream",
          "name": "stdout",
          "text": [
            "+-------+---------+-----------+---------------+----+-----+---------+-----------+-------+-----------+---+--------------------+\n",
            "|Consumo|Cilindros|Cilindradas|RelEixoTraseiro|Peso|Tempo|TipoMotor|Transmissao|Marchas|Carburadors| HP|     caracteristicas|\n",
            "+-------+---------+-----------+---------------+----+-----+---------+-----------+-------+-----------+---+--------------------+\n",
            "|     21|        6|        160|             39| 262| 1646|        0|          1|      4|          4|110|[21.0,6.0,160.0,3...|\n",
            "|     21|        6|        160|             39|2875| 1702|        0|          1|      4|          4|110|[21.0,6.0,160.0,3...|\n",
            "|    228|        4|        108|            385| 232| 1861|        1|          1|      4|          1| 93|[228.0,4.0,108.0,...|\n",
            "|    214|        6|        258|            308|3215| 1944|        1|          0|      3|          1|110|[214.0,6.0,258.0,...|\n",
            "|    187|        8|        360|            315| 344| 1702|        0|          0|      3|          2|175|[187.0,8.0,360.0,...|\n",
            "|    181|        6|        225|            276| 346| 2022|        1|          0|      3|          1|105|[181.0,6.0,225.0,...|\n",
            "|    143|        8|        360|            321| 357| 1584|        0|          0|      3|          4|245|[143.0,8.0,360.0,...|\n",
            "|    244|        4|       1467|            369| 319|   20|        1|          0|      4|          2| 62|[244.0,4.0,1467.0...|\n",
            "|    228|        4|       1408|            392| 315|  229|        1|          0|      4|          2| 95|[228.0,4.0,1408.0...|\n",
            "|    192|        6|       1676|            392| 344|  183|        1|          0|      4|          4|123|[192.0,6.0,1676.0...|\n",
            "|    178|        6|       1676|            392| 344|  189|        1|          0|      4|          4|123|[178.0,6.0,1676.0...|\n",
            "|    164|        8|       2758|            307| 407|  174|        0|          0|      3|          3|180|[164.0,8.0,2758.0...|\n",
            "|    173|        8|       2758|            307| 373|  176|        0|          0|      3|          3|180|[173.0,8.0,2758.0...|\n",
            "|    152|        8|       2758|            307| 378|   18|        0|          0|      3|          3|180|[152.0,8.0,2758.0...|\n",
            "|    104|        8|        472|            293| 525| 1798|        0|          0|      3|          4|205|[104.0,8.0,472.0,...|\n",
            "|    104|        8|        460|              3|5424| 1782|        0|          0|      3|          4|215|[104.0,8.0,460.0,...|\n",
            "|    147|        8|        440|            323|5345| 1742|        0|          0|      3|          4|230|[147.0,8.0,440.0,...|\n",
            "|    324|        4|        787|            408|  22| 1947|        1|          1|      4|          1| 66|[324.0,4.0,787.0,...|\n",
            "|    304|        4|        757|            493|1615| 1852|        1|          1|      4|          2| 52|[304.0,4.0,757.0,...|\n",
            "|    339|        4|        711|            422|1835|  199|        1|          1|      4|          1| 65|[339.0,4.0,711.0,...|\n",
            "+-------+---------+-----------+---------------+----+-----+---------+-----------+-------+-----------+---+--------------------+\n",
            "only showing top 20 rows\n",
            "\n"
          ]
        }
      ]
    },
    {
      "cell_type": "code",
      "source": [
        "carros.select('caracteristicas').show(truncate=False) #pra nao truncar"
      ],
      "metadata": {
        "colab": {
          "base_uri": "https://localhost:8080/"
        },
        "id": "y8bGXcYDQbeb",
        "outputId": "2b2c6f5b-fa49-4096-bab2-92e30b1d78de"
      },
      "execution_count": 9,
      "outputs": [
        {
          "output_type": "stream",
          "name": "stdout",
          "text": [
            "+-----------------------------------------------------+\n",
            "|caracteristicas                                      |\n",
            "+-----------------------------------------------------+\n",
            "|[21.0,6.0,160.0,39.0,262.0,1646.0,0.0,1.0,4.0,4.0]   |\n",
            "|[21.0,6.0,160.0,39.0,2875.0,1702.0,0.0,1.0,4.0,4.0]  |\n",
            "|[228.0,4.0,108.0,385.0,232.0,1861.0,1.0,1.0,4.0,1.0] |\n",
            "|[214.0,6.0,258.0,308.0,3215.0,1944.0,1.0,0.0,3.0,1.0]|\n",
            "|[187.0,8.0,360.0,315.0,344.0,1702.0,0.0,0.0,3.0,2.0] |\n",
            "|[181.0,6.0,225.0,276.0,346.0,2022.0,1.0,0.0,3.0,1.0] |\n",
            "|[143.0,8.0,360.0,321.0,357.0,1584.0,0.0,0.0,3.0,4.0] |\n",
            "|[244.0,4.0,1467.0,369.0,319.0,20.0,1.0,0.0,4.0,2.0]  |\n",
            "|[228.0,4.0,1408.0,392.0,315.0,229.0,1.0,0.0,4.0,2.0] |\n",
            "|[192.0,6.0,1676.0,392.0,344.0,183.0,1.0,0.0,4.0,4.0] |\n",
            "|[178.0,6.0,1676.0,392.0,344.0,189.0,1.0,0.0,4.0,4.0] |\n",
            "|[164.0,8.0,2758.0,307.0,407.0,174.0,0.0,0.0,3.0,3.0] |\n",
            "|[173.0,8.0,2758.0,307.0,373.0,176.0,0.0,0.0,3.0,3.0] |\n",
            "|[152.0,8.0,2758.0,307.0,378.0,18.0,0.0,0.0,3.0,3.0]  |\n",
            "|[104.0,8.0,472.0,293.0,525.0,1798.0,0.0,0.0,3.0,4.0] |\n",
            "|[104.0,8.0,460.0,3.0,5424.0,1782.0,0.0,0.0,3.0,4.0]  |\n",
            "|[147.0,8.0,440.0,323.0,5345.0,1742.0,0.0,0.0,3.0,4.0]|\n",
            "|[324.0,4.0,787.0,408.0,22.0,1947.0,1.0,1.0,4.0,1.0]  |\n",
            "|[304.0,4.0,757.0,493.0,1615.0,1852.0,1.0,1.0,4.0,2.0]|\n",
            "|[339.0,4.0,711.0,422.0,1835.0,199.0,1.0,1.0,4.0,1.0] |\n",
            "+-----------------------------------------------------+\n",
            "only showing top 20 rows\n",
            "\n"
          ]
        }
      ]
    },
    {
      "cell_type": "code",
      "source": [
        "pca = PCA(k=3, inputCol='caracteristicas', outputCol='caracteristicas_pca')\n",
        "modelo = pca.fit(carros) # k = 3 caract artificiais"
      ],
      "metadata": {
        "id": "36BTIEAqQetq"
      },
      "execution_count": 10,
      "outputs": []
    },
    {
      "cell_type": "code",
      "source": [
        "resultado = modelo.transform(carros)\n",
        "resultado.select('caracteristicas_pca').show(truncate=False)"
      ],
      "metadata": {
        "colab": {
          "base_uri": "https://localhost:8080/"
        },
        "id": "18uZ84cWRlos",
        "outputId": "9581cc58-3adb-453f-ecde-7dfe274f43bc"
      },
      "execution_count": 13,
      "outputs": [
        {
          "output_type": "stream",
          "name": "stdout",
          "text": [
            "+-----------------------------------------------------------+\n",
            "|caracteristicas_pca                                        |\n",
            "+-----------------------------------------------------------+\n",
            "|[618.7707206779614,-937.712394997354,1231.9633529945509]   |\n",
            "|[3112.9887675342206,-161.05746385491523,1191.861991305438] |\n",
            "|[640.4959007710695,-1120.7188865110418,1320.0756315189049] |\n",
            "|[3466.0956877556678,-149.69421418298342,1401.2041780368531]|\n",
            "|[661.4577445758732,-812.4592128844115,1395.2949328316356]  |\n",
            "|[769.234367178774,-1120.4160559477316,1518.7436632279525]  |\n",
            "|[644.8369503533214,-727.9539376169615,1313.681521097935]   |\n",
            "|[9.101880661709801,1061.295403667789,1045.1710500215693]   |\n",
            "|[67.13360966508397,878.479368204501,1143.9379120496164]    |\n",
            "|[31.390504477140617,1095.3694498285743,1306.0124861906327] |\n",
            "|[32.89165922208959,1091.1521230845228,1310.0881577350906]  |\n",
            "|[-118.37273751675397,1832.771927405815,2088.6955393326043] |\n",
            "|[-150.18148405358022,1820.8730926512776,2091.1033550766124]|\n",
            "|[-184.02684680334363,1930.3231940423877,1982.8031901298746]|\n",
            "|[835.9451693278469,-748.8857628718292,1538.088953784914]   |\n",
            "|[5495.038233422231,777.0454947426246,1390.349383434824]    |\n",
            "|[5402.955892349916,772.4728618077414,1330.0311995807017]   |\n",
            "|[329.12434485652096,-796.2299760858442,1876.6906247404202] |\n",
            "|[1821.0609870602007,-252.89066020520687,1736.5182284793484]|\n",
            "|[1636.9493562944253,914.9927770681531,570.2389907310254]   |\n",
            "+-----------------------------------------------------------+\n",
            "only showing top 20 rows\n",
            "\n"
          ]
        }
      ]
    },
    {
      "cell_type": "markdown",
      "source": [
        "**Binarizer**"
      ],
      "metadata": {
        "id": "I7f4T2HdTBX-"
      }
    },
    {
      "cell_type": "code",
      "source": [
        "import pyspark, findspark\n",
        "from pyspark.sql import SparkSession\n",
        "findspark.init()\n",
        "spark = SparkSession.builder.appName('Binarizer').getOrCreate()"
      ],
      "metadata": {
        "id": "gSL7sCgYSIFd"
      },
      "execution_count": 14,
      "outputs": []
    },
    {
      "cell_type": "code",
      "source": [
        "from pyspark.ml.feature import Binarizer"
      ],
      "metadata": {
        "id": "TZRxgRT6TRmT"
      },
      "execution_count": 16,
      "outputs": []
    },
    {
      "cell_type": "code",
      "source": [
        "iris = spark.read.csv('iris.csv', header=True, inferSchema=True)\n",
        "iris.show()"
      ],
      "metadata": {
        "colab": {
          "base_uri": "https://localhost:8080/"
        },
        "id": "wVeUnbU1TePv",
        "outputId": "bdcd9c29-db91-4114-e0f7-bdd87b10258d"
      },
      "execution_count": 20,
      "outputs": [
        {
          "output_type": "stream",
          "name": "stdout",
          "text": [
            "+-----------+----------+-----------+----------+-----------+\n",
            "|sepallength|sepalwidth|petallength|petalwidth|      class|\n",
            "+-----------+----------+-----------+----------+-----------+\n",
            "|        5.1|       3.5|        1.4|       0.2|Iris-setosa|\n",
            "|        4.9|       3.0|        1.4|       0.2|Iris-setosa|\n",
            "|        4.7|       3.2|        1.3|       0.2|Iris-setosa|\n",
            "|        4.6|       3.1|        1.5|       0.2|Iris-setosa|\n",
            "|        5.0|       3.6|        1.4|       0.2|Iris-setosa|\n",
            "|        5.4|       3.9|        1.7|       0.4|Iris-setosa|\n",
            "|        4.6|       3.4|        1.4|       0.3|Iris-setosa|\n",
            "|        5.0|       3.4|        1.5|       0.2|Iris-setosa|\n",
            "|        4.4|       2.9|        1.4|       0.2|Iris-setosa|\n",
            "|        4.9|       3.1|        1.5|       0.1|Iris-setosa|\n",
            "|        5.4|       3.7|        1.5|       0.2|Iris-setosa|\n",
            "|        4.8|       3.4|        1.6|       0.2|Iris-setosa|\n",
            "|        4.8|       3.0|        1.4|       0.1|Iris-setosa|\n",
            "|        4.3|       3.0|        1.1|       0.1|Iris-setosa|\n",
            "|        5.8|       4.0|        1.2|       0.2|Iris-setosa|\n",
            "|        5.7|       4.4|        1.5|       0.4|Iris-setosa|\n",
            "|        5.4|       3.9|        1.3|       0.4|Iris-setosa|\n",
            "|        5.1|       3.5|        1.4|       0.3|Iris-setosa|\n",
            "|        5.7|       3.8|        1.7|       0.3|Iris-setosa|\n",
            "|        5.1|       3.8|        1.5|       0.3|Iris-setosa|\n",
            "+-----------+----------+-----------+----------+-----------+\n",
            "only showing top 20 rows\n",
            "\n"
          ]
        }
      ]
    },
    {
      "cell_type": "code",
      "source": [
        "binarizer = Binarizer(threshold=5, inputCol='sepallength', outputCol='sepallenght_bin')"
      ],
      "metadata": {
        "id": "YR33Z-vwT8kT"
      },
      "execution_count": 21,
      "outputs": []
    },
    {
      "cell_type": "code",
      "source": [
        "iris_bin = binarizer.transform(iris)\n",
        "iris_bin.show() # se o valor de sepallenght for maior que 5, sepallength_bin recebe 1, se menor, 0"
      ],
      "metadata": {
        "colab": {
          "base_uri": "https://localhost:8080/"
        },
        "id": "nOCaZEYsU5Dp",
        "outputId": "24571de4-9242-4ec9-80bf-6944c5fc5453"
      },
      "execution_count": 23,
      "outputs": [
        {
          "output_type": "stream",
          "name": "stdout",
          "text": [
            "+-----------+----------+-----------+----------+-----------+---------------+\n",
            "|sepallength|sepalwidth|petallength|petalwidth|      class|sepallenght_bin|\n",
            "+-----------+----------+-----------+----------+-----------+---------------+\n",
            "|        5.1|       3.5|        1.4|       0.2|Iris-setosa|            1.0|\n",
            "|        4.9|       3.0|        1.4|       0.2|Iris-setosa|            0.0|\n",
            "|        4.7|       3.2|        1.3|       0.2|Iris-setosa|            0.0|\n",
            "|        4.6|       3.1|        1.5|       0.2|Iris-setosa|            0.0|\n",
            "|        5.0|       3.6|        1.4|       0.2|Iris-setosa|            0.0|\n",
            "|        5.4|       3.9|        1.7|       0.4|Iris-setosa|            1.0|\n",
            "|        4.6|       3.4|        1.4|       0.3|Iris-setosa|            0.0|\n",
            "|        5.0|       3.4|        1.5|       0.2|Iris-setosa|            0.0|\n",
            "|        4.4|       2.9|        1.4|       0.2|Iris-setosa|            0.0|\n",
            "|        4.9|       3.1|        1.5|       0.1|Iris-setosa|            0.0|\n",
            "|        5.4|       3.7|        1.5|       0.2|Iris-setosa|            1.0|\n",
            "|        4.8|       3.4|        1.6|       0.2|Iris-setosa|            0.0|\n",
            "|        4.8|       3.0|        1.4|       0.1|Iris-setosa|            0.0|\n",
            "|        4.3|       3.0|        1.1|       0.1|Iris-setosa|            0.0|\n",
            "|        5.8|       4.0|        1.2|       0.2|Iris-setosa|            1.0|\n",
            "|        5.7|       4.4|        1.5|       0.4|Iris-setosa|            1.0|\n",
            "|        5.4|       3.9|        1.3|       0.4|Iris-setosa|            1.0|\n",
            "|        5.1|       3.5|        1.4|       0.3|Iris-setosa|            1.0|\n",
            "|        5.7|       3.8|        1.7|       0.3|Iris-setosa|            1.0|\n",
            "|        5.1|       3.8|        1.5|       0.3|Iris-setosa|            1.0|\n",
            "+-----------+----------+-----------+----------+-----------+---------------+\n",
            "only showing top 20 rows\n",
            "\n"
          ]
        }
      ]
    },
    {
      "cell_type": "markdown",
      "source": [
        "**OneHotEncoding**"
      ],
      "metadata": {
        "id": "ntXsw9nUV01C"
      }
    },
    {
      "cell_type": "markdown",
      "source": [
        "Pra ele funcionar, a coluna tem que estar númerica, podemos transformar strings em numeros com o LabelEncoding ou StringIndexer"
      ],
      "metadata": {
        "id": "Mzb08fA1WHib"
      }
    },
    {
      "cell_type": "code",
      "source": [
        "import pyspark, findspark\n",
        "from pyspark.sql import SparkSession\n",
        "findspark.init()\n",
        "spark = SparkSession.builder.appName('onehotencoding').getOrCreate()"
      ],
      "metadata": {
        "id": "qN2LFR4NVQXG"
      },
      "execution_count": 24,
      "outputs": []
    },
    {
      "cell_type": "code",
      "source": [
        "from pyspark.ml.feature import OneHotEncoder"
      ],
      "metadata": {
        "id": "b44k2BfcWCSG"
      },
      "execution_count": 25,
      "outputs": []
    },
    {
      "cell_type": "code",
      "source": [
        "churn = spark.read.csv('Churn.csv',sep=';',inferSchema=True, header=True)\n",
        "churn.show()"
      ],
      "metadata": {
        "colab": {
          "base_uri": "https://localhost:8080/"
        },
        "id": "Lc0D79ZcWZBi",
        "outputId": "3e0f9981-b892-4adc-88e7-2013440bdbcb"
      },
      "execution_count": 29,
      "outputs": [
        {
          "output_type": "stream",
          "name": "stdout",
          "text": [
            "+-----------+---------+------+---+------+--------+-------------+---------+--------------+---------------+------+\n",
            "|CreditScore|Geography|Gender|Age|Tenure| Balance|NumOfProducts|HasCrCard|IsActiveMember|EstimatedSalary|Exited|\n",
            "+-----------+---------+------+---+------+--------+-------------+---------+--------------+---------------+------+\n",
            "|        619|   France|Female| 42|     2|       0|            1|        1|             1|       10134888|     1|\n",
            "|        608|    Spain|Female| 41|     1| 8380786|            1|        0|             1|       11254258|     0|\n",
            "|        502|   France|Female| 42|     8| 1596608|            3|        1|             0|       11393157|     1|\n",
            "|        699|   France|Female| 39|     1|       0|            2|        0|             0|        9382663|     0|\n",
            "|        850|    Spain|Female| 43|     2|12551082|            1|        1|             1|         790841|     0|\n",
            "|        645|    Spain|  Male| 44|     8|11375578|            2|        1|             0|       14975671|     1|\n",
            "|        822|   France|  Male| 50|     7|       0|            2|        1|             1|         100628|     0|\n",
            "|        376|  Germany|Female| 29|     4|11504674|            4|        1|             0|       11934688|     1|\n",
            "|        501|   France|  Male| 44|     4|14205107|            2|        0|             1|         749405|     0|\n",
            "|        684|   France|  Male| 27|     2|13460388|            1|        1|             1|        7172573|     0|\n",
            "|        528|   France|  Male| 31|     6|10201672|            2|        0|             0|        8018112|     0|\n",
            "|        497|    Spain|  Male| 24|     3|       0|            2|        1|             0|        7639001|     0|\n",
            "|        476|   France|Female| 34|    10|       0|            2|        1|             0|        2626098|     0|\n",
            "|        549|   France|Female| 25|     5|       0|            2|        0|             0|       19085779|     0|\n",
            "|        635|    Spain|Female| 35|     7|       0|            2|        1|             1|        6595165|     0|\n",
            "|        616|  Germany|  Male| 45|     3|14312941|            2|        0|             1|        6432726|     0|\n",
            "|        653|  Germany|  Male| 58|     1|13260288|            1|        1|             0|         509767|     1|\n",
            "|        549|    Spain|Female| 24|     9|       0|            2|        1|             1|        1440641|     0|\n",
            "|        587|    Spain|  Male| 45|     6|       0|            1|        0|             0|       15868481|     0|\n",
            "|        726|   France|Female| 24|     6|       0|            2|        1|             1|        5472403|     0|\n",
            "+-----------+---------+------+---+------+--------+-------------+---------+--------------+---------------+------+\n",
            "only showing top 20 rows\n",
            "\n"
          ]
        }
      ]
    },
    {
      "cell_type": "code",
      "source": [
        "from pyspark.ml.feature import StringIndexer"
      ],
      "metadata": {
        "id": "4I-8ji19W76J"
      },
      "execution_count": 30,
      "outputs": []
    },
    {
      "cell_type": "code",
      "source": [
        "indice = StringIndexer(inputCol='Geography', outputCol='indice')\n",
        "modelo = indice.fit(churn)\n",
        "dados_indices = modelo.transform(churn)\n",
        "dados_indices.select('Geography','indice').show()"
      ],
      "metadata": {
        "colab": {
          "base_uri": "https://localhost:8080/"
        },
        "id": "Wh7T-j1lXYUg",
        "outputId": "f09b9a51-9248-459f-c767-252bbd6482cc"
      },
      "execution_count": 32,
      "outputs": [
        {
          "output_type": "stream",
          "name": "stdout",
          "text": [
            "+---------+------+\n",
            "|Geography|indice|\n",
            "+---------+------+\n",
            "|   France|   0.0|\n",
            "|    Spain|   2.0|\n",
            "|   France|   0.0|\n",
            "|   France|   0.0|\n",
            "|    Spain|   2.0|\n",
            "|    Spain|   2.0|\n",
            "|   France|   0.0|\n",
            "|  Germany|   1.0|\n",
            "|   France|   0.0|\n",
            "|   France|   0.0|\n",
            "|   France|   0.0|\n",
            "|    Spain|   2.0|\n",
            "|   France|   0.0|\n",
            "|   France|   0.0|\n",
            "|    Spain|   2.0|\n",
            "|  Germany|   1.0|\n",
            "|  Germany|   1.0|\n",
            "|    Spain|   2.0|\n",
            "|    Spain|   2.0|\n",
            "|   France|   0.0|\n",
            "+---------+------+\n",
            "only showing top 20 rows\n",
            "\n"
          ]
        }
      ]
    },
    {
      "cell_type": "code",
      "source": [
        "indice = StringIndexer(inputCol='Geography', outputCol='indexer_c1')\n",
        "indiceonehot = indice.fit(churn).transform(churn)\n",
        "\n",
        "indice = StringIndexer(inputCol='Gender', outputCol='indexer_c2')\n",
        "indiceonehot = indice.fit(indiceonehot).transform(indiceonehot)\n"
      ],
      "metadata": {
        "id": "MFNrj1icYDeD"
      },
      "execution_count": 33,
      "outputs": []
    },
    {
      "cell_type": "code",
      "source": [
        "indiceonehot.select('indexer_c1','indexer_c2').show()"
      ],
      "metadata": {
        "colab": {
          "base_uri": "https://localhost:8080/"
        },
        "id": "mUL4b6fTZPOV",
        "outputId": "7a7a0803-2270-48a2-c42d-9590313a4299"
      },
      "execution_count": 34,
      "outputs": [
        {
          "output_type": "stream",
          "name": "stdout",
          "text": [
            "+----------+----------+\n",
            "|indexer_c1|indexer_c2|\n",
            "+----------+----------+\n",
            "|       0.0|       1.0|\n",
            "|       2.0|       1.0|\n",
            "|       0.0|       1.0|\n",
            "|       0.0|       1.0|\n",
            "|       2.0|       1.0|\n",
            "|       2.0|       0.0|\n",
            "|       0.0|       0.0|\n",
            "|       1.0|       1.0|\n",
            "|       0.0|       0.0|\n",
            "|       0.0|       0.0|\n",
            "|       0.0|       0.0|\n",
            "|       2.0|       0.0|\n",
            "|       0.0|       1.0|\n",
            "|       0.0|       1.0|\n",
            "|       2.0|       1.0|\n",
            "|       1.0|       0.0|\n",
            "|       1.0|       0.0|\n",
            "|       2.0|       1.0|\n",
            "|       2.0|       0.0|\n",
            "|       0.0|       1.0|\n",
            "+----------+----------+\n",
            "only showing top 20 rows\n",
            "\n"
          ]
        }
      ]
    },
    {
      "cell_type": "code",
      "source": [
        "onehot = OneHotEncoder(inputCols=['indexer_c1','indexer_c2'],outputCols=['onehot_c1','onehot_c2'])"
      ],
      "metadata": {
        "id": "q4eGEqLaZlfk"
      },
      "execution_count": 36,
      "outputs": []
    },
    {
      "cell_type": "code",
      "source": [
        "modelo = onehot.fit(indiceonehot)\n",
        "onehot_out = modelo.transform(indiceonehot)\n",
        "onehot_out.select('onehot_c1','onehot_c2').show(truncate=False)"
      ],
      "metadata": {
        "colab": {
          "base_uri": "https://localhost:8080/"
        },
        "id": "VRIl1ZyEatxW",
        "outputId": "1068f2c0-e90e-4df3-f4d4-1074c1370bf3"
      },
      "execution_count": 39,
      "outputs": [
        {
          "output_type": "stream",
          "name": "stdout",
          "text": [
            "+-------------+-------------+\n",
            "|onehot_c1    |onehot_c2    |\n",
            "+-------------+-------------+\n",
            "|(2,[0],[1.0])|(1,[],[])    |\n",
            "|(2,[],[])    |(1,[],[])    |\n",
            "|(2,[0],[1.0])|(1,[],[])    |\n",
            "|(2,[0],[1.0])|(1,[],[])    |\n",
            "|(2,[],[])    |(1,[],[])    |\n",
            "|(2,[],[])    |(1,[0],[1.0])|\n",
            "|(2,[0],[1.0])|(1,[0],[1.0])|\n",
            "|(2,[1],[1.0])|(1,[],[])    |\n",
            "|(2,[0],[1.0])|(1,[0],[1.0])|\n",
            "|(2,[0],[1.0])|(1,[0],[1.0])|\n",
            "|(2,[0],[1.0])|(1,[0],[1.0])|\n",
            "|(2,[],[])    |(1,[0],[1.0])|\n",
            "|(2,[0],[1.0])|(1,[],[])    |\n",
            "|(2,[0],[1.0])|(1,[],[])    |\n",
            "|(2,[],[])    |(1,[],[])    |\n",
            "|(2,[1],[1.0])|(1,[0],[1.0])|\n",
            "|(2,[1],[1.0])|(1,[0],[1.0])|\n",
            "|(2,[],[])    |(1,[],[])    |\n",
            "|(2,[],[])    |(1,[0],[1.0])|\n",
            "|(2,[0],[1.0])|(1,[],[])    |\n",
            "+-------------+-------------+\n",
            "only showing top 20 rows\n",
            "\n"
          ]
        }
      ]
    },
    {
      "cell_type": "markdown",
      "source": [
        "Imputer(missing values)"
      ],
      "metadata": {
        "id": "plPRT2IYbznb"
      }
    },
    {
      "cell_type": "code",
      "source": [
        "import pyspark, findspark\n",
        "from pyspark.sql import SparkSession\n",
        "findspark.init()\n",
        "spark = SparkSession.builder.appName('missing_values').getOrCreate()"
      ],
      "metadata": {
        "id": "Pg_6-W0TbQ4w"
      },
      "execution_count": 40,
      "outputs": []
    },
    {
      "cell_type": "code",
      "source": [
        "from pyspark.ml.feature import Imputer"
      ],
      "metadata": {
        "id": "_i7JotPIcMoF"
      },
      "execution_count": 41,
      "outputs": []
    },
    {
      "cell_type": "code",
      "source": [
        "carro_nan = spark.read.csv('CarrosNAN.csv', header=True, sep=';', inferSchema=True)\n",
        "carro_nan.show()"
      ],
      "metadata": {
        "colab": {
          "base_uri": "https://localhost:8080/"
        },
        "id": "hAiYagpeccXB",
        "outputId": "ea5612c8-ff0e-4563-bb50-f383619009a0"
      },
      "execution_count": 47,
      "outputs": [
        {
          "output_type": "stream",
          "name": "stdout",
          "text": [
            "+-------+---------+-----------+---------------+----+-----+---------+-----------+-------+-----------+---+\n",
            "|Consumo|Cilindros|Cilindradas|RelEixoTraseiro|Peso|Tempo|TipoMotor|Transmissao|Marchas|Carburadors| HP|\n",
            "+-------+---------+-----------+---------------+----+-----+---------+-----------+-------+-----------+---+\n",
            "|     21|        6|        160|             39| 262| 1646|        0|          1|      4|          4|110|\n",
            "|     21|        6|       null|             39|2875| null|        0|          1|      4|          4|110|\n",
            "|    228|        0|        108|            385| 232| 1861|        1|          1|      4|          1| 93|\n",
            "|    214|        0|       null|            308|3215| 1944|        1|          0|      3|          1|110|\n",
            "|    187|        0|        360|            315|null| 1702|        0|          0|      3|          2|175|\n",
            "|    181|        6|        225|            276| 346| null|        1|          0|      3|          1|105|\n",
            "|    143|        8|        360|            321| 357| 1584|        0|          0|      3|          4|245|\n",
            "|    244|        4|       1467|            369| 319|   20|        1|          0|      4|          2| 62|\n",
            "|    228|        4|       1408|            392| 315|  229|        1|          0|      4|          2| 95|\n",
            "|    192|        0|       1676|            392| 344|  183|        1|          0|      4|          4|123|\n",
            "|    178|        6|       1676|            392|null|  189|        1|          0|      4|          4|123|\n",
            "|    164|        8|       2758|            307| 407|  174|        0|          0|      3|          3|180|\n",
            "|    173|        8|       2758|            307| 373|  176|        0|          0|      3|          3|180|\n",
            "|    152|        8|       2758|            307| 378|   18|        0|          0|      3|          3|180|\n",
            "|    104|        8|        472|            293| 525| 1798|        0|          0|      3|          4|205|\n",
            "|    104|        8|       null|              3|5424| 1782|        0|          0|      3|          4|215|\n",
            "|    147|        8|        440|            323|5345| 1742|        0|          0|      3|          4|230|\n",
            "|    324|        4|        787|            408|  22| 1947|        1|          1|      4|          1| 66|\n",
            "|    304|        4|        757|            493|1615| 1852|        1|          1|      4|          2| 52|\n",
            "|    339|        4|        711|            422|1835|  199|        1|          1|      4|          1| 65|\n",
            "+-------+---------+-----------+---------------+----+-----+---------+-----------+-------+-----------+---+\n",
            "only showing top 20 rows\n",
            "\n"
          ]
        }
      ]
    },
    {
      "cell_type": "code",
      "source": [
        "imput = Imputer(inputCols=['Cilindradas','Peso'], outputCols=['nova_cilindrada','novo_peso'])"
      ],
      "metadata": {
        "id": "exLngZ_scqqK"
      },
      "execution_count": 55,
      "outputs": []
    },
    {
      "cell_type": "code",
      "source": [
        "modelo = imput.fit(carro_nan)\n",
        "carros_sem_nan = modelo.transform(carro_nan)\n",
        "carros_sem_nan.select('nova_cilindrada','novo_peso').show() #preencheu NAN com valor da média que é padrão"
      ],
      "metadata": {
        "colab": {
          "base_uri": "https://localhost:8080/"
        },
        "id": "Ct1cqagVd9np",
        "outputId": "c8d2dd9c-858a-4d99-b2a3-b66b26329b89"
      },
      "execution_count": 58,
      "outputs": [
        {
          "output_type": "stream",
          "name": "stdout",
          "text": [
            "+---------------+---------+\n",
            "|nova_cilindrada|novo_peso|\n",
            "+---------------+---------+\n",
            "|            160|      262|\n",
            "|            848|     2875|\n",
            "|            108|      232|\n",
            "|            848|     3215|\n",
            "|            360|     1318|\n",
            "|            225|      346|\n",
            "|            360|      357|\n",
            "|           1467|      319|\n",
            "|           1408|      315|\n",
            "|           1676|      344|\n",
            "|           1676|     1318|\n",
            "|           2758|      407|\n",
            "|           2758|      373|\n",
            "|           2758|      378|\n",
            "|            472|      525|\n",
            "|            848|     5424|\n",
            "|            440|     5345|\n",
            "|            787|       22|\n",
            "|            757|     1615|\n",
            "|            711|     1835|\n",
            "+---------------+---------+\n",
            "only showing top 20 rows\n",
            "\n"
          ]
        }
      ]
    },
    {
      "cell_type": "markdown",
      "source": [
        "Para substituir pela mediana por exemplo, basta usar:\n",
        "imput =  Imputer(inputcols=[], outputcols =[])\n",
        "imput.setStrategy('median').setMissingValue(0).fit(carro_nan).transform(carro_nan).select('coluna que quer substituir)"
      ],
      "metadata": {
        "id": "lPsZL6qjfjYa"
      }
    }
  ]
}