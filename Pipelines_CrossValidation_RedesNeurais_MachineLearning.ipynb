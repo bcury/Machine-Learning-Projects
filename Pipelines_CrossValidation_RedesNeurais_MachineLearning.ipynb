{
  "nbformat": 4,
  "nbformat_minor": 0,
  "metadata": {
    "colab": {
      "name": "Pipelines_CrossValidation_RedesNeurais_MachineLearning",
      "provenance": [],
      "collapsed_sections": [],
      "authorship_tag": "ABX9TyP/22tia9LhuIUgVKt5i9sX",
      "include_colab_link": true
    },
    "kernelspec": {
      "name": "python3",
      "display_name": "Python 3"
    },
    "language_info": {
      "name": "python"
    }
  },
  "cells": [
    {
      "cell_type": "markdown",
      "metadata": {
        "id": "view-in-github",
        "colab_type": "text"
      },
      "source": [
        "<a href=\"https://colab.research.google.com/github/bcury/Machine-Learning-Projects/blob/main/Pipelines_CrossValidation_RedesNeurais_MachineLearning.ipynb\" target=\"_parent\"><img src=\"https://colab.research.google.com/assets/colab-badge.svg\" alt=\"Open In Colab\"/></a>"
      ]
    },
    {
      "cell_type": "code",
      "execution_count": null,
      "metadata": {
        "colab": {
          "base_uri": "https://localhost:8080/"
        },
        "id": "nlpfK-dOEepw",
        "outputId": "cd37c835-81e7-4e86-ceb9-d3eccbda365c"
      },
      "outputs": [
        {
          "output_type": "stream",
          "name": "stdout",
          "text": [
            "Looking in indexes: https://pypi.org/simple, https://us-python.pkg.dev/colab-wheels/public/simple/\n",
            "Collecting findspark\n",
            "  Downloading findspark-2.0.1-py2.py3-none-any.whl (4.4 kB)\n",
            "Installing collected packages: findspark\n",
            "Successfully installed findspark-2.0.1\n"
          ]
        }
      ],
      "source": [
        "pip install findspark"
      ]
    },
    {
      "cell_type": "code",
      "source": [
        "pip install pyspark"
      ],
      "metadata": {
        "id": "fJTRpSkdGtf8",
        "colab": {
          "base_uri": "https://localhost:8080/"
        },
        "outputId": "1b2e64a8-7222-4e8b-ecc9-a31781fb1e1b"
      },
      "execution_count": null,
      "outputs": [
        {
          "output_type": "stream",
          "name": "stdout",
          "text": [
            "Looking in indexes: https://pypi.org/simple, https://us-python.pkg.dev/colab-wheels/public/simple/\n",
            "Collecting pyspark\n",
            "  Downloading pyspark-3.2.1.tar.gz (281.4 MB)\n",
            "\u001b[K     |████████████████████████████████| 281.4 MB 25 kB/s \n",
            "\u001b[?25hCollecting py4j==0.10.9.3\n",
            "  Downloading py4j-0.10.9.3-py2.py3-none-any.whl (198 kB)\n",
            "\u001b[K     |████████████████████████████████| 198 kB 44.6 MB/s \n",
            "\u001b[?25hBuilding wheels for collected packages: pyspark\n",
            "  Building wheel for pyspark (setup.py) ... \u001b[?25l\u001b[?25hdone\n",
            "  Created wheel for pyspark: filename=pyspark-3.2.1-py2.py3-none-any.whl size=281853642 sha256=75f41002c9345dc6a89b40b8f46ba265ffdbe7ac22b00f034b3df53e6488d20d\n",
            "  Stored in directory: /root/.cache/pip/wheels/9f/f5/07/7cd8017084dce4e93e84e92efd1e1d5334db05f2e83bcef74f\n",
            "Successfully built pyspark\n",
            "Installing collected packages: py4j, pyspark\n",
            "Successfully installed py4j-0.10.9.3 pyspark-3.2.1\n"
          ]
        }
      ]
    },
    {
      "cell_type": "code",
      "source": [
        "import pyspark,  findspark\n",
        "from pyspark.sql import SparkSession\n",
        "findspark.init()\n",
        "spark = SparkSession.builder.appName('pipe').getOrCreate()"
      ],
      "metadata": {
        "id": "WJ1neYDE1Tcz"
      },
      "execution_count": 38,
      "outputs": []
    },
    {
      "cell_type": "code",
      "source": [
        "iris = spark.read.csv('iris.csv', header=True, inferSchema=True, sep=',')\n",
        "iris.show()"
      ],
      "metadata": {
        "colab": {
          "base_uri": "https://localhost:8080/"
        },
        "id": "owZ1GWZ92EXU",
        "outputId": "900e9e61-c7de-4016-8382-ff9f0d483877"
      },
      "execution_count": 39,
      "outputs": [
        {
          "output_type": "stream",
          "name": "stdout",
          "text": [
            "+-----------+----------+-----------+----------+-----------+\n",
            "|sepallength|sepalwidth|petallength|petalwidth|      class|\n",
            "+-----------+----------+-----------+----------+-----------+\n",
            "|        5.1|       3.5|        1.4|       0.2|Iris-setosa|\n",
            "|        4.9|       3.0|        1.4|       0.2|Iris-setosa|\n",
            "|        4.7|       3.2|        1.3|       0.2|Iris-setosa|\n",
            "|        4.6|       3.1|        1.5|       0.2|Iris-setosa|\n",
            "|        5.0|       3.6|        1.4|       0.2|Iris-setosa|\n",
            "|        5.4|       3.9|        1.7|       0.4|Iris-setosa|\n",
            "|        4.6|       3.4|        1.4|       0.3|Iris-setosa|\n",
            "|        5.0|       3.4|        1.5|       0.2|Iris-setosa|\n",
            "|        4.4|       2.9|        1.4|       0.2|Iris-setosa|\n",
            "|        4.9|       3.1|        1.5|       0.1|Iris-setosa|\n",
            "|        5.4|       3.7|        1.5|       0.2|Iris-setosa|\n",
            "|        4.8|       3.4|        1.6|       0.2|Iris-setosa|\n",
            "|        4.8|       3.0|        1.4|       0.1|Iris-setosa|\n",
            "|        4.3|       3.0|        1.1|       0.1|Iris-setosa|\n",
            "|        5.8|       4.0|        1.2|       0.2|Iris-setosa|\n",
            "|        5.7|       4.4|        1.5|       0.4|Iris-setosa|\n",
            "|        5.4|       3.9|        1.3|       0.4|Iris-setosa|\n",
            "|        5.1|       3.5|        1.4|       0.3|Iris-setosa|\n",
            "|        5.7|       3.8|        1.7|       0.3|Iris-setosa|\n",
            "|        5.1|       3.8|        1.5|       0.3|Iris-setosa|\n",
            "+-----------+----------+-----------+----------+-----------+\n",
            "only showing top 20 rows\n",
            "\n"
          ]
        }
      ]
    },
    {
      "cell_type": "code",
      "source": [
        "iris_treino, iris_teste = iris.randomSplit([0.7,0.3])"
      ],
      "metadata": {
        "id": "wai26dLg3o6A"
      },
      "execution_count": 40,
      "outputs": []
    },
    {
      "cell_type": "code",
      "source": [
        "from pyspark.ml.feature import VectorAssembler"
      ],
      "metadata": {
        "id": "cSoWH9Ff38_o"
      },
      "execution_count": 41,
      "outputs": []
    },
    {
      "cell_type": "code",
      "source": [
        "vector = VectorAssembler(inputCols=['sepallength','sepalwidth','petallength','petalwidth'],outputCol='independente')"
      ],
      "metadata": {
        "id": "TOqvElPe4j_g"
      },
      "execution_count": 42,
      "outputs": []
    },
    {
      "cell_type": "code",
      "source": [
        "from pyspark.ml.feature import StringIndexer"
      ],
      "metadata": {
        "id": "4kKUI7mo5OZV"
      },
      "execution_count": 43,
      "outputs": []
    },
    {
      "cell_type": "code",
      "source": [
        "indexer = StringIndexer(inputCol='class',outputCol='dependente')"
      ],
      "metadata": {
        "id": "RCPu6vqf6-wo"
      },
      "execution_count": 45,
      "outputs": []
    },
    {
      "cell_type": "code",
      "source": [
        "from pyspark.ml.classification import MultilayerPerceptronClassifier"
      ],
      "metadata": {
        "id": "Fwd0Sh_17JJH"
      },
      "execution_count": 46,
      "outputs": []
    },
    {
      "cell_type": "code",
      "source": [
        "mlp = MultilayerPerceptronClassifier(maxIter=1000, layers=[4,5,4,3], featuresCol='independente',labelCol='dependente')"
      ],
      "metadata": {
        "id": "11PUFqIr75IA"
      },
      "execution_count": 62,
      "outputs": []
    },
    {
      "cell_type": "code",
      "source": [
        "from pyspark.ml import Pipeline"
      ],
      "metadata": {
        "id": "I77h-jsI8L1d"
      },
      "execution_count": 63,
      "outputs": []
    },
    {
      "cell_type": "code",
      "source": [
        "pipe = Pipeline(stages=[vector, indexer, mlp])"
      ],
      "metadata": {
        "id": "WGvv0Tj98Tcf"
      },
      "execution_count": 64,
      "outputs": []
    },
    {
      "cell_type": "code",
      "source": [
        "modelo = pipe.fit(iris_treino)"
      ],
      "metadata": {
        "id": "4nufTQvc8uI7"
      },
      "execution_count": 65,
      "outputs": []
    },
    {
      "cell_type": "code",
      "source": [
        "previsao = modelo.transform(iris_teste)\n"
      ],
      "metadata": {
        "id": "x5sbtbzC8y97"
      },
      "execution_count": 66,
      "outputs": []
    },
    {
      "cell_type": "code",
      "source": [
        "previsao.select('independente','dependente','rawPrediction','probability','prediction').show()"
      ],
      "metadata": {
        "colab": {
          "base_uri": "https://localhost:8080/"
        },
        "id": "V59eH1ek9AMY",
        "outputId": "ab31b110-a43c-4ecf-e663-9d78fc32edfc"
      },
      "execution_count": 67,
      "outputs": [
        {
          "output_type": "stream",
          "name": "stdout",
          "text": [
            "+-----------------+----------+--------------------+--------------------+----------+\n",
            "|     independente|dependente|       rawPrediction|         probability|prediction|\n",
            "+-----------------+----------+--------------------+--------------------+----------+\n",
            "|[4.4,3.0,1.3,0.2]|       2.0|[-170.58126558196...|[1.00283734656068...|       2.0|\n",
            "|[4.4,3.2,1.3,0.2]|       2.0|[-170.58126558196...|[1.00283734656068...|       2.0|\n",
            "|[4.8,3.4,1.6,0.2]|       2.0|[-170.58126558196...|[1.00283734656068...|       2.0|\n",
            "|[4.8,3.4,1.9,0.2]|       2.0|[-170.58126558196...|[1.00283734656068...|       2.0|\n",
            "|[4.9,3.1,1.5,0.1]|       2.0|[-170.58126558196...|[1.00283734656068...|       2.0|\n",
            "|[4.9,3.1,1.5,0.1]|       2.0|[-170.58126558196...|[1.00283734656068...|       2.0|\n",
            "|[4.9,3.1,1.5,0.1]|       2.0|[-170.58126558196...|[1.00283734656068...|       2.0|\n",
            "|[5.0,3.3,1.4,0.2]|       2.0|[-170.58126558196...|[1.00283734656068...|       2.0|\n",
            "|[5.1,2.5,3.0,1.1]|       1.0|[-170.58126558196...|[1.00283734656068...|       2.0|\n",
            "|[5.1,3.4,1.5,0.2]|       2.0|[-170.58126558196...|[1.00283734656068...|       2.0|\n",
            "|[5.1,3.5,1.4,0.3]|       2.0|[-170.58126558196...|[1.00283734656068...|       2.0|\n",
            "|[5.1,3.8,1.5,0.3]|       2.0|[-170.58126558196...|[1.00283734656068...|       2.0|\n",
            "|[5.1,3.8,1.6,0.2]|       2.0|[-170.58126558196...|[1.00283734656068...|       2.0|\n",
            "|[5.2,3.4,1.4,0.2]|       2.0|[-170.58126558196...|[1.00283734656068...|       2.0|\n",
            "|[5.4,3.4,1.5,0.4]|       2.0|[-170.58126558196...|[1.00283734656068...|       2.0|\n",
            "|[5.4,3.4,1.7,0.2]|       2.0|[-170.58126558196...|[1.00283734656068...|       2.0|\n",
            "|[5.5,2.5,4.0,1.3]|       1.0|[18.4162476988169...|[6.79188328088654...|       1.0|\n",
            "|[5.6,2.9,3.6,1.3]|       1.0|[18.4162476515163...|[6.79188294556344...|       1.0|\n",
            "|[5.6,3.0,4.5,1.5]|       1.0|[18.4164378603129...|[6.79323150536486...|       1.0|\n",
            "|[5.7,3.0,4.2,1.2]|       1.0|[18.4162476515164...|[6.79188294556489...|       1.0|\n",
            "+-----------------+----------+--------------------+--------------------+----------+\n",
            "only showing top 20 rows\n",
            "\n"
          ]
        }
      ]
    },
    {
      "cell_type": "code",
      "source": [
        "from pyspark.ml.evaluation import MulticlassClassificationEvaluator"
      ],
      "metadata": {
        "id": "k2BP1nFj_CGQ"
      },
      "execution_count": 68,
      "outputs": []
    },
    {
      "cell_type": "code",
      "source": [
        "performance = MulticlassClassificationEvaluator(labelCol='dependente',predictionCol='prediction',metricName='accuracy')\n",
        "acuracia = performance.evaluate(previsao)\n",
        "print(acuracia)"
      ],
      "metadata": {
        "colab": {
          "base_uri": "https://localhost:8080/"
        },
        "id": "MqxSxP9K_RqO",
        "outputId": "ec537d07-1768-4dee-dd70-421bebf7227a"
      },
      "execution_count": 69,
      "outputs": [
        {
          "output_type": "stream",
          "name": "stdout",
          "text": [
            "0.9302325581395349\n"
          ]
        }
      ]
    },
    {
      "cell_type": "markdown",
      "source": [
        "interesse esse problema com pipeline"
      ],
      "metadata": {
        "id": "D3hhoEc2-Qtb"
      }
    },
    {
      "cell_type": "markdown",
      "source": [
        "agora vamos fazer TUNNING de cross validation: testar parametros pra ver como fica o modelo"
      ],
      "metadata": {
        "id": "MOOhJyOz-8tH"
      }
    },
    {
      "cell_type": "code",
      "source": [
        "from pyspark.ml.tuning import CrossValidator, ParamGridBuilder"
      ],
      "metadata": {
        "id": "gZnhPmdP9JL3"
      },
      "execution_count": 70,
      "outputs": []
    },
    {
      "cell_type": "code",
      "source": [
        "grid = ParamGridBuilder().addGrid(mlp.maxIter,[10,100,1000]).addGrid(mlp.layers,[[4,5,4,3],[4,4,3]]).build()"
      ],
      "metadata": {
        "id": "1tOGNOR4ASrv"
      },
      "execution_count": 75,
      "outputs": []
    },
    {
      "cell_type": "code",
      "source": [
        "cross_validation = CrossValidator(estimator=pipe,estimatorParamMaps=grid,evaluator=performance,numFolds=3)"
      ],
      "metadata": {
        "id": "SLfWMX-xA2YX"
      },
      "execution_count": 76,
      "outputs": []
    },
    {
      "cell_type": "code",
      "source": [
        "model = cross_validation.fit(iris_treino)"
      ],
      "metadata": {
        "id": "aLzzx0WwCbAR"
      },
      "execution_count": 77,
      "outputs": []
    },
    {
      "cell_type": "code",
      "source": [
        "prev = model.transform(iris_teste)\n",
        "prev.select('rawPrediction','probability','prediction').show()"
      ],
      "metadata": {
        "colab": {
          "base_uri": "https://localhost:8080/"
        },
        "id": "ve8-ZjT5CmC8",
        "outputId": "25f69916-ba80-487b-a60b-5eab6c8eeaa1"
      },
      "execution_count": 78,
      "outputs": [
        {
          "output_type": "stream",
          "name": "stdout",
          "text": [
            "+--------------------+--------------------+----------+\n",
            "|       rawPrediction|         probability|prediction|\n",
            "+--------------------+--------------------+----------+\n",
            "|[-99.878099298349...|[1.49875900793774...|       2.0|\n",
            "|[-99.878225954565...|[1.49879872162741...|       2.0|\n",
            "|[-99.878470315454...|[1.49887534517942...|       2.0|\n",
            "|[-99.878482128457...|[1.49887904944854...|       2.0|\n",
            "|[-99.878405500756...|[1.49885502103633...|       2.0|\n",
            "|[-99.878405500756...|[1.49885502103633...|       2.0|\n",
            "|[-99.878405500756...|[1.49885502103633...|       2.0|\n",
            "|[-99.878484669955...|[1.49887984640157...|       2.0|\n",
            "|[-13.616946742329...|[2.73421684403939...|       1.0|\n",
            "|[-99.878530844878...|[1.49889432582500...|       2.0|\n",
            "|[-99.878544864974...|[1.49889872224104...|       2.0|\n",
            "|[-99.878591826139...|[1.49891344839922...|       2.0|\n",
            "|[-99.878594859346...|[1.49891439956205...|       2.0|\n",
            "|[-99.878545357590...|[1.49889887671575...|       2.0|\n",
            "|[-99.878574316437...|[1.49890795766165...|       2.0|\n",
            "|[-99.878581313756...|[1.49891015189641...|       2.0|\n",
            "|[-13.617130884582...|[2.73262940629583...|       1.0|\n",
            "|[-13.617221247598...|[2.73185074972205...|       1.0|\n",
            "|[-13.617149270804...|[2.73180170505872...|       1.0|\n",
            "|[-13.617260712292...|[2.73151075272459...|       1.0|\n",
            "+--------------------+--------------------+----------+\n",
            "only showing top 20 rows\n",
            "\n"
          ]
        }
      ]
    },
    {
      "cell_type": "code",
      "source": [
        "new_performance = MulticlassClassificationEvaluator(labelCol='dependente',predictionCol='prediction',metricName='accuracy')"
      ],
      "metadata": {
        "id": "iKCLuIvTDF4o"
      },
      "execution_count": 79,
      "outputs": []
    },
    {
      "cell_type": "code",
      "source": [
        "acuracia = new_performance.evaluate(prev)"
      ],
      "metadata": {
        "id": "ItoTGf4PDkhN"
      },
      "execution_count": 80,
      "outputs": []
    },
    {
      "cell_type": "code",
      "source": [
        "print(acuracia)"
      ],
      "metadata": {
        "colab": {
          "base_uri": "https://localhost:8080/"
        },
        "id": "eEvlrGibD31t",
        "outputId": "f9f00231-7faa-4ab3-8728-8a8126974a55"
      },
      "execution_count": 81,
      "outputs": [
        {
          "output_type": "stream",
          "name": "stdout",
          "text": [
            "0.9534883720930233\n"
          ]
        }
      ]
    },
    {
      "cell_type": "markdown",
      "source": [
        "a validação cruzada melhorou nosso modelo com TUNING de hiperparametro"
      ],
      "metadata": {
        "id": "aNzKTHcHD7Te"
      }
    }
  ]
}