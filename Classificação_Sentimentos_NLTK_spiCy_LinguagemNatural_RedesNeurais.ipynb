{
  "nbformat": 4,
  "nbformat_minor": 0,
  "metadata": {
    "colab": {
      "name": "Classificação_Sentimentos_NLTK_spiCy_LinguagemNatural_RedesNeurais",
      "provenance": [],
      "collapsed_sections": [],
      "authorship_tag": "ABX9TyPUMKenXOJWF14M1x4s63Cl",
      "include_colab_link": true
    },
    "kernelspec": {
      "name": "python3",
      "display_name": "Python 3"
    },
    "language_info": {
      "name": "python"
    }
  },
  "cells": [
    {
      "cell_type": "markdown",
      "metadata": {
        "id": "view-in-github",
        "colab_type": "text"
      },
      "source": [
        "<a href=\"https://colab.research.google.com/github/bcury/Machine-Learning-Projects/blob/main/Classifica%C3%A7%C3%A3o_Sentimentos_NLTK_spiCy_LinguagemNatural_RedesNeurais.ipynb\" target=\"_parent\"><img src=\"https://colab.research.google.com/assets/colab-badge.svg\" alt=\"Open In Colab\"/></a>"
      ]
    },
    {
      "cell_type": "markdown",
      "metadata": {
        "id": "V4LOOzIozlc0"
      },
      "source": [
        "**Classificação de sentimentos**"
      ]
    },
    {
      "cell_type": "code",
      "metadata": {
        "colab": {
          "base_uri": "https://localhost:8080/"
        },
        "id": "xf7zbjlrzpeK",
        "outputId": "703207e9-c2db-49fe-a602-0eeeca6c597c"
      },
      "source": [
        "pip install spicy --upgrade"
      ],
      "execution_count": 1,
      "outputs": [
        {
          "output_type": "stream",
          "name": "stdout",
          "text": [
            "Collecting spicy\n",
            "  Downloading spicy-0.16.0-py2.py3-none-any.whl (1.7 kB)\n",
            "Requirement already satisfied: scipy in /usr/local/lib/python3.7/dist-packages (from spicy) (1.4.1)\n",
            "Requirement already satisfied: numpy>=1.13.3 in /usr/local/lib/python3.7/dist-packages (from scipy->spicy) (1.19.5)\n",
            "Installing collected packages: spicy\n",
            "Successfully installed spicy-0.16.0\n"
          ]
        }
      ]
    },
    {
      "cell_type": "code",
      "metadata": {
        "id": "RYp05bIREOB3"
      },
      "source": [
        "import pandas as pd\n",
        "import numpy as np\n",
        "import seaborn as sns\n",
        "import matplotlib.pyplot as plt\n",
        "import spicy\n",
        "import random\n",
        "import string"
      ],
      "execution_count": 19,
      "outputs": []
    },
    {
      "cell_type": "markdown",
      "metadata": {
        "id": "U404h3FCFdpz"
      },
      "source": [
        "vou baixar a versao do  spacy do modelo em  portugues desta vez"
      ]
    },
    {
      "cell_type": "code",
      "metadata": {
        "colab": {
          "base_uri": "https://localhost:8080/"
        },
        "id": "AXTWVMgyEhdA",
        "outputId": "02f8c41e-04df-4f60-85d1-31ceeeea2e3d"
      },
      "source": [
        "!python -m spacy download pt"
      ],
      "execution_count": 3,
      "outputs": [
        {
          "output_type": "stream",
          "name": "stdout",
          "text": [
            "Collecting pt_core_news_sm==2.2.5\n",
            "  Downloading https://github.com/explosion/spacy-models/releases/download/pt_core_news_sm-2.2.5/pt_core_news_sm-2.2.5.tar.gz (21.2 MB)\n",
            "\u001b[K     |████████████████████████████████| 21.2 MB 1.2 MB/s \n",
            "\u001b[?25hRequirement already satisfied: spacy>=2.2.2 in /usr/local/lib/python3.7/dist-packages (from pt_core_news_sm==2.2.5) (2.2.4)\n",
            "Requirement already satisfied: blis<0.5.0,>=0.4.0 in /usr/local/lib/python3.7/dist-packages (from spacy>=2.2.2->pt_core_news_sm==2.2.5) (0.4.1)\n",
            "Requirement already satisfied: murmurhash<1.1.0,>=0.28.0 in /usr/local/lib/python3.7/dist-packages (from spacy>=2.2.2->pt_core_news_sm==2.2.5) (1.0.6)\n",
            "Requirement already satisfied: requests<3.0.0,>=2.13.0 in /usr/local/lib/python3.7/dist-packages (from spacy>=2.2.2->pt_core_news_sm==2.2.5) (2.23.0)\n",
            "Requirement already satisfied: plac<1.2.0,>=0.9.6 in /usr/local/lib/python3.7/dist-packages (from spacy>=2.2.2->pt_core_news_sm==2.2.5) (1.1.3)\n",
            "Requirement already satisfied: preshed<3.1.0,>=3.0.2 in /usr/local/lib/python3.7/dist-packages (from spacy>=2.2.2->pt_core_news_sm==2.2.5) (3.0.6)\n",
            "Requirement already satisfied: srsly<1.1.0,>=1.0.2 in /usr/local/lib/python3.7/dist-packages (from spacy>=2.2.2->pt_core_news_sm==2.2.5) (1.0.5)\n",
            "Requirement already satisfied: setuptools in /usr/local/lib/python3.7/dist-packages (from spacy>=2.2.2->pt_core_news_sm==2.2.5) (57.4.0)\n",
            "Requirement already satisfied: thinc==7.4.0 in /usr/local/lib/python3.7/dist-packages (from spacy>=2.2.2->pt_core_news_sm==2.2.5) (7.4.0)\n",
            "Requirement already satisfied: tqdm<5.0.0,>=4.38.0 in /usr/local/lib/python3.7/dist-packages (from spacy>=2.2.2->pt_core_news_sm==2.2.5) (4.62.3)\n",
            "Requirement already satisfied: numpy>=1.15.0 in /usr/local/lib/python3.7/dist-packages (from spacy>=2.2.2->pt_core_news_sm==2.2.5) (1.19.5)\n",
            "Requirement already satisfied: wasabi<1.1.0,>=0.4.0 in /usr/local/lib/python3.7/dist-packages (from spacy>=2.2.2->pt_core_news_sm==2.2.5) (0.8.2)\n",
            "Requirement already satisfied: catalogue<1.1.0,>=0.0.7 in /usr/local/lib/python3.7/dist-packages (from spacy>=2.2.2->pt_core_news_sm==2.2.5) (1.0.0)\n",
            "Requirement already satisfied: cymem<2.1.0,>=2.0.2 in /usr/local/lib/python3.7/dist-packages (from spacy>=2.2.2->pt_core_news_sm==2.2.5) (2.0.6)\n",
            "Requirement already satisfied: importlib-metadata>=0.20 in /usr/local/lib/python3.7/dist-packages (from catalogue<1.1.0,>=0.0.7->spacy>=2.2.2->pt_core_news_sm==2.2.5) (4.8.2)\n",
            "Requirement already satisfied: typing-extensions>=3.6.4 in /usr/local/lib/python3.7/dist-packages (from importlib-metadata>=0.20->catalogue<1.1.0,>=0.0.7->spacy>=2.2.2->pt_core_news_sm==2.2.5) (3.10.0.2)\n",
            "Requirement already satisfied: zipp>=0.5 in /usr/local/lib/python3.7/dist-packages (from importlib-metadata>=0.20->catalogue<1.1.0,>=0.0.7->spacy>=2.2.2->pt_core_news_sm==2.2.5) (3.6.0)\n",
            "Requirement already satisfied: urllib3!=1.25.0,!=1.25.1,<1.26,>=1.21.1 in /usr/local/lib/python3.7/dist-packages (from requests<3.0.0,>=2.13.0->spacy>=2.2.2->pt_core_news_sm==2.2.5) (1.24.3)\n",
            "Requirement already satisfied: certifi>=2017.4.17 in /usr/local/lib/python3.7/dist-packages (from requests<3.0.0,>=2.13.0->spacy>=2.2.2->pt_core_news_sm==2.2.5) (2021.10.8)\n",
            "Requirement already satisfied: idna<3,>=2.5 in /usr/local/lib/python3.7/dist-packages (from requests<3.0.0,>=2.13.0->spacy>=2.2.2->pt_core_news_sm==2.2.5) (2.10)\n",
            "Requirement already satisfied: chardet<4,>=3.0.2 in /usr/local/lib/python3.7/dist-packages (from requests<3.0.0,>=2.13.0->spacy>=2.2.2->pt_core_news_sm==2.2.5) (3.0.4)\n",
            "Building wheels for collected packages: pt-core-news-sm\n",
            "  Building wheel for pt-core-news-sm (setup.py) ... \u001b[?25l\u001b[?25hdone\n",
            "  Created wheel for pt-core-news-sm: filename=pt_core_news_sm-2.2.5-py3-none-any.whl size=21186282 sha256=2629f400dc13c3487f966d7d81241502c9d82e0a687d50267d9740a93af37338\n",
            "  Stored in directory: /tmp/pip-ephem-wheel-cache-rw_f01yl/wheels/c3/f9/0c/5c014a36941a00f5df5fc0756cb961d7c457a978e697a6ce3b\n",
            "Successfully built pt-core-news-sm\n",
            "Installing collected packages: pt-core-news-sm\n",
            "Successfully installed pt-core-news-sm-2.2.5\n",
            "\u001b[38;5;2m✔ Download and installation successful\u001b[0m\n",
            "You can now load the model via spacy.load('pt_core_news_sm')\n",
            "\u001b[38;5;2m✔ Linking successful\u001b[0m\n",
            "/usr/local/lib/python3.7/dist-packages/pt_core_news_sm -->\n",
            "/usr/local/lib/python3.7/dist-packages/spacy/data/pt\n",
            "You can now load the model via spacy.load('pt')\n"
          ]
        }
      ]
    },
    {
      "cell_type": "markdown",
      "metadata": {
        "id": "8oDQBtujHBXm"
      },
      "source": [
        "**Carregar os textos**"
      ]
    },
    {
      "cell_type": "code",
      "metadata": {
        "id": "ghYn9ZSqFWwL"
      },
      "source": [
        "base_dados = pd.read_csv('/content/base_treinamento.txt', encoding='utf-8')"
      ],
      "execution_count": 4,
      "outputs": []
    },
    {
      "cell_type": "code",
      "metadata": {
        "colab": {
          "base_uri": "https://localhost:8080/",
          "height": 423
        },
        "id": "OHlheUbUHeE3",
        "outputId": "894f5ac7-34dc-4769-ca6d-ee8be937acb5"
      },
      "source": [
        "base_dados"
      ],
      "execution_count": 5,
      "outputs": [
        {
          "output_type": "execute_result",
          "data": {
            "text/html": [
              "<div>\n",
              "<style scoped>\n",
              "    .dataframe tbody tr th:only-of-type {\n",
              "        vertical-align: middle;\n",
              "    }\n",
              "\n",
              "    .dataframe tbody tr th {\n",
              "        vertical-align: top;\n",
              "    }\n",
              "\n",
              "    .dataframe thead th {\n",
              "        text-align: right;\n",
              "    }\n",
              "</style>\n",
              "<table border=\"1\" class=\"dataframe\">\n",
              "  <thead>\n",
              "    <tr style=\"text-align: right;\">\n",
              "      <th></th>\n",
              "      <th>texto</th>\n",
              "      <th>emocao</th>\n",
              "    </tr>\n",
              "  </thead>\n",
              "  <tbody>\n",
              "    <tr>\n",
              "      <th>0</th>\n",
              "      <td>este trabalho é agradável</td>\n",
              "      <td>alegria</td>\n",
              "    </tr>\n",
              "    <tr>\n",
              "      <th>1</th>\n",
              "      <td>gosto de ficar no seu aconchego</td>\n",
              "      <td>alegria</td>\n",
              "    </tr>\n",
              "    <tr>\n",
              "      <th>2</th>\n",
              "      <td>fiz a adesão ao curso hoje</td>\n",
              "      <td>alegria</td>\n",
              "    </tr>\n",
              "    <tr>\n",
              "      <th>3</th>\n",
              "      <td>eu sou admirada por muitos</td>\n",
              "      <td>alegria</td>\n",
              "    </tr>\n",
              "    <tr>\n",
              "      <th>4</th>\n",
              "      <td>adoro como você</td>\n",
              "      <td>alegria</td>\n",
              "    </tr>\n",
              "    <tr>\n",
              "      <th>...</th>\n",
              "      <td>...</td>\n",
              "      <td>...</td>\n",
              "    </tr>\n",
              "    <tr>\n",
              "      <th>191</th>\n",
              "      <td>estou chocado e amedrontado com este assassina...</td>\n",
              "      <td>medo</td>\n",
              "    </tr>\n",
              "    <tr>\n",
              "      <th>192</th>\n",
              "      <td>é preciso afugenta com ímpeto este medo do inf...</td>\n",
              "      <td>medo</td>\n",
              "    </tr>\n",
              "    <tr>\n",
              "      <th>193</th>\n",
              "      <td>políticos usam suas forças para afugentar e am...</td>\n",
              "      <td>medo</td>\n",
              "    </tr>\n",
              "    <tr>\n",
              "      <th>194</th>\n",
              "      <td>o objetivo disso e apenas me amedrontar mais</td>\n",
              "      <td>medo</td>\n",
              "    </tr>\n",
              "    <tr>\n",
              "      <th>195</th>\n",
              "      <td>isso me apavora</td>\n",
              "      <td>medo</td>\n",
              "    </tr>\n",
              "  </tbody>\n",
              "</table>\n",
              "<p>196 rows × 2 columns</p>\n",
              "</div>"
            ],
            "text/plain": [
              "                                                 texto   emocao\n",
              "0                            este trabalho é agradável  alegria\n",
              "1                      gosto de ficar no seu aconchego  alegria\n",
              "2                           fiz a adesão ao curso hoje  alegria\n",
              "3                           eu sou admirada por muitos  alegria\n",
              "4                                      adoro como você  alegria\n",
              "..                                                 ...      ...\n",
              "191  estou chocado e amedrontado com este assassina...     medo\n",
              "192  é preciso afugenta com ímpeto este medo do inf...     medo\n",
              "193  políticos usam suas forças para afugentar e am...     medo\n",
              "194       o objetivo disso e apenas me amedrontar mais     medo\n",
              "195                                    isso me apavora     medo\n",
              "\n",
              "[196 rows x 2 columns]"
            ]
          },
          "metadata": {},
          "execution_count": 5
        }
      ]
    },
    {
      "cell_type": "code",
      "metadata": {
        "colab": {
          "base_uri": "https://localhost:8080/"
        },
        "id": "ePrEvfl-HfHI",
        "outputId": "20d3bf2a-d8cd-4db1-fe6e-c098cf563826"
      },
      "source": [
        "base_dados.shape"
      ],
      "execution_count": 6,
      "outputs": [
        {
          "output_type": "execute_result",
          "data": {
            "text/plain": [
              "(196, 2)"
            ]
          },
          "metadata": {},
          "execution_count": 6
        }
      ]
    },
    {
      "cell_type": "code",
      "metadata": {
        "colab": {
          "base_uri": "https://localhost:8080/",
          "height": 206
        },
        "id": "M-cRLoG9HnYE",
        "outputId": "260d531b-0610-4d21-d3f4-13f5fcdd7abf"
      },
      "source": [
        "base_dados.head()"
      ],
      "execution_count": 7,
      "outputs": [
        {
          "output_type": "execute_result",
          "data": {
            "text/html": [
              "<div>\n",
              "<style scoped>\n",
              "    .dataframe tbody tr th:only-of-type {\n",
              "        vertical-align: middle;\n",
              "    }\n",
              "\n",
              "    .dataframe tbody tr th {\n",
              "        vertical-align: top;\n",
              "    }\n",
              "\n",
              "    .dataframe thead th {\n",
              "        text-align: right;\n",
              "    }\n",
              "</style>\n",
              "<table border=\"1\" class=\"dataframe\">\n",
              "  <thead>\n",
              "    <tr style=\"text-align: right;\">\n",
              "      <th></th>\n",
              "      <th>texto</th>\n",
              "      <th>emocao</th>\n",
              "    </tr>\n",
              "  </thead>\n",
              "  <tbody>\n",
              "    <tr>\n",
              "      <th>0</th>\n",
              "      <td>este trabalho é agradável</td>\n",
              "      <td>alegria</td>\n",
              "    </tr>\n",
              "    <tr>\n",
              "      <th>1</th>\n",
              "      <td>gosto de ficar no seu aconchego</td>\n",
              "      <td>alegria</td>\n",
              "    </tr>\n",
              "    <tr>\n",
              "      <th>2</th>\n",
              "      <td>fiz a adesão ao curso hoje</td>\n",
              "      <td>alegria</td>\n",
              "    </tr>\n",
              "    <tr>\n",
              "      <th>3</th>\n",
              "      <td>eu sou admirada por muitos</td>\n",
              "      <td>alegria</td>\n",
              "    </tr>\n",
              "    <tr>\n",
              "      <th>4</th>\n",
              "      <td>adoro como você</td>\n",
              "      <td>alegria</td>\n",
              "    </tr>\n",
              "  </tbody>\n",
              "</table>\n",
              "</div>"
            ],
            "text/plain": [
              "                             texto   emocao\n",
              "0        este trabalho é agradável  alegria\n",
              "1  gosto de ficar no seu aconchego  alegria\n",
              "2       fiz a adesão ao curso hoje  alegria\n",
              "3       eu sou admirada por muitos  alegria\n",
              "4                  adoro como você  alegria"
            ]
          },
          "metadata": {},
          "execution_count": 7
        }
      ]
    },
    {
      "cell_type": "code",
      "metadata": {
        "colab": {
          "base_uri": "https://localhost:8080/",
          "height": 206
        },
        "id": "jER9vr2BHt4q",
        "outputId": "51001da3-14fe-490a-d673-bc1c26e427bb"
      },
      "source": [
        "base_dados.tail()"
      ],
      "execution_count": 8,
      "outputs": [
        {
          "output_type": "execute_result",
          "data": {
            "text/html": [
              "<div>\n",
              "<style scoped>\n",
              "    .dataframe tbody tr th:only-of-type {\n",
              "        vertical-align: middle;\n",
              "    }\n",
              "\n",
              "    .dataframe tbody tr th {\n",
              "        vertical-align: top;\n",
              "    }\n",
              "\n",
              "    .dataframe thead th {\n",
              "        text-align: right;\n",
              "    }\n",
              "</style>\n",
              "<table border=\"1\" class=\"dataframe\">\n",
              "  <thead>\n",
              "    <tr style=\"text-align: right;\">\n",
              "      <th></th>\n",
              "      <th>texto</th>\n",
              "      <th>emocao</th>\n",
              "    </tr>\n",
              "  </thead>\n",
              "  <tbody>\n",
              "    <tr>\n",
              "      <th>191</th>\n",
              "      <td>estou chocado e amedrontado com este assassina...</td>\n",
              "      <td>medo</td>\n",
              "    </tr>\n",
              "    <tr>\n",
              "      <th>192</th>\n",
              "      <td>é preciso afugenta com ímpeto este medo do inf...</td>\n",
              "      <td>medo</td>\n",
              "    </tr>\n",
              "    <tr>\n",
              "      <th>193</th>\n",
              "      <td>políticos usam suas forças para afugentar e am...</td>\n",
              "      <td>medo</td>\n",
              "    </tr>\n",
              "    <tr>\n",
              "      <th>194</th>\n",
              "      <td>o objetivo disso e apenas me amedrontar mais</td>\n",
              "      <td>medo</td>\n",
              "    </tr>\n",
              "    <tr>\n",
              "      <th>195</th>\n",
              "      <td>isso me apavora</td>\n",
              "      <td>medo</td>\n",
              "    </tr>\n",
              "  </tbody>\n",
              "</table>\n",
              "</div>"
            ],
            "text/plain": [
              "                                                 texto emocao\n",
              "191  estou chocado e amedrontado com este assassina...   medo\n",
              "192  é preciso afugenta com ímpeto este medo do inf...   medo\n",
              "193  políticos usam suas forças para afugentar e am...   medo\n",
              "194       o objetivo disso e apenas me amedrontar mais   medo\n",
              "195                                    isso me apavora   medo"
            ]
          },
          "metadata": {},
          "execution_count": 8
        }
      ]
    },
    {
      "cell_type": "code",
      "metadata": {
        "colab": {
          "base_uri": "https://localhost:8080/",
          "height": 333
        },
        "id": "px4arkfBH39Q",
        "outputId": "f2803785-f001-474f-ec76-d71bcddc61a9"
      },
      "source": [
        "sns.countplot(base_dados['emocao'], label = 'contagem');"
      ],
      "execution_count": 11,
      "outputs": [
        {
          "output_type": "stream",
          "name": "stderr",
          "text": [
            "/usr/local/lib/python3.7/dist-packages/seaborn/_decorators.py:43: FutureWarning: Pass the following variable as a keyword arg: x. From version 0.12, the only valid positional argument will be `data`, and passing other arguments without an explicit keyword will result in an error or misinterpretation.\n",
            "  FutureWarning\n"
          ]
        },
        {
          "output_type": "display_data",
          "data": {
            "image/png": "[encoded data removed]",
            "text/plain": [
              "<Figure size 432x288 with 1 Axes>"
            ]
          },
          "metadata": {
            "needs_background": "light"
          }
        }
      ]
    },
    {
      "cell_type": "markdown",
      "metadata": {
        "id": "vC53oXA6ImaA"
      },
      "source": [
        "Portanto vemos mais registros de ALEGRIA do que de MEDO"
      ]
    },
    {
      "cell_type": "markdown",
      "metadata": {
        "id": "1n9UFej6I2Yo"
      },
      "source": [
        "**Função pra Pré-Processamento dos textos**"
      ]
    },
    {
      "cell_type": "code",
      "metadata": {
        "colab": {
          "base_uri": "https://localhost:8080/",
          "height": 36
        },
        "id": "GGSRgvXFI9AC",
        "outputId": "751b53f2-564e-4738-ff02-45a0c275ac79"
      },
      "source": [
        "pontuações = string.punctuation\n",
        "pontuações"
      ],
      "execution_count": 12,
      "outputs": [
        {
          "output_type": "execute_result",
          "data": {
            "application/vnd.google.colaboratory.intrinsic+json": {
              "type": "string"
            },
            "text/plain": [
              "'!\"#$%&\\'()*+,-./:;<=>?@[\\\\]^_`{|}~'"
            ]
          },
          "metadata": {},
          "execution_count": 12
        }
      ]
    },
    {
      "cell_type": "code",
      "metadata": {
        "id": "1t3GYpx1Jecx"
      },
      "source": [
        "from spacy.lang.pt.stop_words import STOP_WORDS"
      ],
      "execution_count": 13,
      "outputs": []
    },
    {
      "cell_type": "code",
      "metadata": {
        "colab": {
          "base_uri": "https://localhost:8080/"
        },
        "id": "mCAXcQ6vJy0b",
        "outputId": "09656554-e66b-4a56-e7cb-412aff986fdc"
      },
      "source": [
        "stop_words = STOP_WORDS\n",
        "print(stop_words)"
      ],
      "execution_count": 15,
      "outputs": [
        {
          "output_type": "stream",
          "name": "stdout",
          "text": [
            "{'tens', 'contudo', 'tipo', 'partir', 'duas', 'mês', 'vosso', 'somente', 'segundo', 'aquela', 'veja', 'cujo', 'podem', 'outras', 'qualquer', 'uns', 'possivelmente', 'vindo', 'põe', 'todo', 'próprio', 'sistema', 'quarto', 'maioria', 'estive', 'terceira', 'algumas', 'enquanto', 'estado', 'estar', 'ou', 'teve', 'mil', 'vez', 'tu', 'tarde', 'local', 'umas', 'tal', 'mas', 'com', 'outros', 'nosso', 'fez', 'sim', 'podia', 'quê', 'até', 'são', 'da', 'dezanove', 'te', 'aquilo', 'acerca', 'ora', 'inclusive', 'vossa', 'nossos', 'estivestes', 'pegar', 'custa', 'através', 'longe', 'primeira', 'ele', 'ir', 'obrigada', 'nessa', 'último', 'pouca', 'diz', 'isto', 'quero', 'vinda', 'grande', 'tendes', 'sexto', 'esta', 'lhe', 'aquele', 'apoio', 'ambas', 'não', 'porquê', 'número', 'todos', 'cuja', 'você', 'ao', 'vós', 'poderá', 'minha', 'ontem', 'nas', 'apenas', 'tudo', 'estiveste', 'oito', 'quinze', 'fará', 'nuns', 'irá', 'menos', 'bastante', 'novo', 'à', 'também', 'fazia', 'assim', 'ambos', 'usa', 'poder', 'por', 'sexta', 'adeus', 'conselho', 'apoia', 'grandes', 'sabe', 'sua', 'novas', 'cima', 'números', 'esses', 'já', 'fazemos', 'pelas', 'segunda', 'próximo', 'próxima', 'vossas', 'numa', 'dos', 'valor', 'seis', 'outra', 'questão', 'um', 'cá', 'cada', 'vens', 'estes', 'estás', 'fui', 'porém', 'doze', 'forma', 'fora', 'nova', 'quem', 'sob', 'essas', 'pois', 'portanto', 'maiorias', 'logo', 'lugar', 'final', 'cedo', 'cinco', 'os', 'tua', 'dezassete', 'tuas', 'oitava', 'debaixo', 'nunca', 'posso', 'bom', 'essa', 'bem', 'sobre', 'boa', 'antes', 'as', 'parte', 'contra', 'porque', 'aí', 'muitos', 'estivemos', 'ser', 'faz', 'todas', 'deste', 'mesmo', 'tentei', 'num', 'oitavo', 'sétima', 'ver', 'fostes', 'às', 'é', 'sétimo', 'direita', 'geral', 'posição', 'me', 'talvez', 'estou', 'teu', 'seu', 'dão', 'certamente', 'esteve', 'foste', 'quatro', 'área', 'só', 'no', 'vossos', 'mais', 'do', 'eu', 'deverá', 'nos', 'naquela', 'dar', 'tão', 'tenho', 'desse', 'estão', 'tivemos', 'qual', 'tempo', 'quando', 'favor', 'aos', 'cento', 'meio', 'sempre', 'seus', 'fim', 'como', 'daquela', 'nada', 'perto', 'neste', 'vai', 'vos', 'suas', 'estas', 'quer', 'diante', 'têm', 'meses', 'muito', 'meus', 'elas', 'tentaram', 'nenhuma', 'dezasseis', 'uma', 'coisa', 'nem', 'quieta', 'sou', 'está', 'conhecida', 'faço', 'quanto', 'inicio', 'treze', 'tiveram', 'vão', 'das', 'falta', 'vários', 'querem', 'comprida', 'vocês', 'terceiro', 'vêm', 'pontos', 'pelos', 'tive', 'maior', 'seria', 'catorze', 'demais', 'quinta', 'comprido', 'põem', 'foram', 'aquelas', 'quais', 'disso', 'de', 'és', 'lá', 'povo', 'vem', 'novos', 'grupo', 'aqueles', 'fazes', 'toda', 'estava', 'naquele', 'dentro', 'além', 'menor', 'ponto', 'quieto', 'estiveram', 'possível', 'pouco', 'for', 'ademais', 'des', 'que', 'algo', 'tanto', 'fazeis', 'onze', 'dizer', 'iniciar', 'vais', 'pela', 'pôde', 'depois', 'em', 'era', 'eles', 'fazer', 'ainda', 'onde', 'este', 'sois', 'nove', 'somos', 'sem', 'baixo', 'tanta', 'usar', 'conhecido', 'tem', 'alguns', 'corrente', 'dois', 'entre', 'sete', 'teus', 'embora', 'foi', 'nível', 'devem', 'nesse', 'eventual', 'tente', 'sei', 'desta', 'mal', 'caminho', 'obrigado', 'nós', 'tentar', 'se', 'dessa', 'esse', 'dizem', 'pelo', 'primeiro', 'máximo', 'pode', 'puderam', 'estará', 'minhas', 'lado', 'breve', 'nesta', 'quinto', 'zero', 'dezoito', 'três', 'daquele', 'tivestes', 'isso', 'dá', 'meu', 'aqui', 'ali', 'vinte', 'deve', 'certeza', 'nossa', 'fazem', 'agora', 'dez', 'temos', 'saber', 'ter', 'desde', 'após', 'exemplo', 'porquanto', 'nossas', 'vezes', 'então', 'na', 'tais', 'atrás', 'ligado', 'para', 'parece', 'momento', 'ela', 'quarta', 'apontar', 'relação', 'tiveste', 'fomos'}\n"
          ]
        }
      ]
    },
    {
      "cell_type": "code",
      "metadata": {
        "colab": {
          "base_uri": "https://localhost:8080/"
        },
        "id": "nVD_BtHHKDrl",
        "outputId": "8ffc668a-0d89-4c11-eed6-0b84a7a1cf94"
      },
      "source": [
        "len(stop_words)"
      ],
      "execution_count": 16,
      "outputs": [
        {
          "output_type": "execute_result",
          "data": {
            "text/plain": [
              "413"
            ]
          },
          "metadata": {},
          "execution_count": 16
        }
      ]
    },
    {
      "cell_type": "code",
      "metadata": {
        "colab": {
          "base_uri": "https://localhost:8080/"
        },
        "id": "uMkEJ9wtKLHG",
        "outputId": "29d59d59-947f-4830-a7a4-3b412f10d1b0"
      },
      "source": [
        "import spacy\n",
        "pln = spacy.load('pt')\n",
        "pln"
      ],
      "execution_count": 20,
      "outputs": [
        {
          "output_type": "execute_result",
          "data": {
            "text/plain": [
              "<spacy.lang.pt.Portuguese at 0x7f2b3ccde990>"
            ]
          },
          "metadata": {},
          "execution_count": 20
        }
      ]
    },
    {
      "cell_type": "code",
      "metadata": {
        "id": "3NYp5tFqKUvT"
      },
      "source": [
        "def preprocessamento(texto):\n",
        "  texto = texto.lower() #passar pra minusculo antes de usar o lemma_, se nao ele faz leitura errada\n",
        "  documento = pln(texto)\n",
        "\n",
        "  Lista = []\n",
        "  for token in documento:\n",
        "    #Lista.append(token.text)\n",
        "    Lista.append(token.lemma_)\n",
        "\n",
        "  Lista = [palavra for palavra in Lista if palavra not in stop_words and palavra not in pontuações]\n",
        "  Lista = ' '.join(str(elemento) for elemento in Lista if not elemento.isdigit()) #formato de lista pra formato de texto\n",
        "\n",
        "  return Lista\n",
        "\n"
      ],
      "execution_count": 59,
      "outputs": []
    },
    {
      "cell_type": "code",
      "metadata": {
        "id": "cPu6yVjULLMO"
      },
      "source": [
        "teste = preprocessamento('Python 1 2 3 e Computação Visual, é muito top')"
      ],
      "execution_count": 60,
      "outputs": []
    },
    {
      "cell_type": "code",
      "metadata": {
        "colab": {
          "base_uri": "https://localhost:8080/",
          "height": 36
        },
        "id": "qdPXxey9MJ1Q",
        "outputId": "bb0ad1c3-67a1-4ed7-9911-25533dafd1a1"
      },
      "source": [
        "teste"
      ],
      "execution_count": 61,
      "outputs": [
        {
          "output_type": "execute_result",
          "data": {
            "application/vnd.google.colaboratory.intrinsic+json": {
              "type": "string"
            },
            "text/plain": [
              "'python e computação visual top'"
            ]
          },
          "metadata": {},
          "execution_count": 61
        }
      ]
    },
    {
      "cell_type": "markdown",
      "metadata": {
        "id": "gQajeH7APZyl"
      },
      "source": [
        "entao conseguimos trasnformar em texto e também eliminar o 1 2 3, alem do que ja tinhamos tirado com as stop_words"
      ]
    },
    {
      "cell_type": "markdown",
      "metadata": {
        "id": "B9ZZLN4wP9w4"
      },
      "source": [
        "**Pré-Processamento da base de dados**"
      ]
    },
    {
      "cell_type": "code",
      "metadata": {
        "colab": {
          "base_uri": "https://localhost:8080/",
          "height": 362
        },
        "id": "ITk1JxluQFCy",
        "outputId": "d2cb8e5b-1c97-490c-b227-06ee32d021d4"
      },
      "source": [
        "#Limpeza\n",
        "\n",
        "base_dados.head(10)"
      ],
      "execution_count": 62,
      "outputs": [
        {
          "output_type": "execute_result",
          "data": {
            "text/html": [
              "<div>\n",
              "<style scoped>\n",
              "    .dataframe tbody tr th:only-of-type {\n",
              "        vertical-align: middle;\n",
              "    }\n",
              "\n",
              "    .dataframe tbody tr th {\n",
              "        vertical-align: top;\n",
              "    }\n",
              "\n",
              "    .dataframe thead th {\n",
              "        text-align: right;\n",
              "    }\n",
              "</style>\n",
              "<table border=\"1\" class=\"dataframe\">\n",
              "  <thead>\n",
              "    <tr style=\"text-align: right;\">\n",
              "      <th></th>\n",
              "      <th>texto</th>\n",
              "      <th>emocao</th>\n",
              "    </tr>\n",
              "  </thead>\n",
              "  <tbody>\n",
              "    <tr>\n",
              "      <th>0</th>\n",
              "      <td>este trabalho é agradável</td>\n",
              "      <td>alegria</td>\n",
              "    </tr>\n",
              "    <tr>\n",
              "      <th>1</th>\n",
              "      <td>gosto de ficar no seu aconchego</td>\n",
              "      <td>alegria</td>\n",
              "    </tr>\n",
              "    <tr>\n",
              "      <th>2</th>\n",
              "      <td>fiz a adesão ao curso hoje</td>\n",
              "      <td>alegria</td>\n",
              "    </tr>\n",
              "    <tr>\n",
              "      <th>3</th>\n",
              "      <td>eu sou admirada por muitos</td>\n",
              "      <td>alegria</td>\n",
              "    </tr>\n",
              "    <tr>\n",
              "      <th>4</th>\n",
              "      <td>adoro como você</td>\n",
              "      <td>alegria</td>\n",
              "    </tr>\n",
              "    <tr>\n",
              "      <th>5</th>\n",
              "      <td>adoro seu cabelo macio</td>\n",
              "      <td>alegria</td>\n",
              "    </tr>\n",
              "    <tr>\n",
              "      <th>6</th>\n",
              "      <td>adoro a cor dos seus olhos</td>\n",
              "      <td>alegria</td>\n",
              "    </tr>\n",
              "    <tr>\n",
              "      <th>7</th>\n",
              "      <td>somo tão amáveis um com o outro</td>\n",
              "      <td>alegria</td>\n",
              "    </tr>\n",
              "    <tr>\n",
              "      <th>8</th>\n",
              "      <td>sinto uma grande afeição por ele</td>\n",
              "      <td>alegria</td>\n",
              "    </tr>\n",
              "    <tr>\n",
              "      <th>9</th>\n",
              "      <td>quero agradar meus filhos</td>\n",
              "      <td>alegria</td>\n",
              "    </tr>\n",
              "  </tbody>\n",
              "</table>\n",
              "</div>"
            ],
            "text/plain": [
              "                              texto   emocao\n",
              "0         este trabalho é agradável  alegria\n",
              "1   gosto de ficar no seu aconchego  alegria\n",
              "2        fiz a adesão ao curso hoje  alegria\n",
              "3        eu sou admirada por muitos  alegria\n",
              "4                   adoro como você  alegria\n",
              "5            adoro seu cabelo macio  alegria\n",
              "6        adoro a cor dos seus olhos  alegria\n",
              "7   somo tão amáveis um com o outro  alegria\n",
              "8  sinto uma grande afeição por ele  alegria\n",
              "9         quero agradar meus filhos  alegria"
            ]
          },
          "metadata": {},
          "execution_count": 62
        }
      ]
    },
    {
      "cell_type": "code",
      "metadata": {
        "id": "RkKEYwJzQTS2"
      },
      "source": [
        "base_dados['texto'] = base_dados['texto'].apply(preprocessamento)"
      ],
      "execution_count": 64,
      "outputs": []
    },
    {
      "cell_type": "markdown",
      "metadata": {
        "id": "GkcliG6BQ3kI"
      },
      "source": [
        "Apply é função do pandas que ja faz a transformação do pre processamento dos textos um a um, sem prcisar de mais nada"
      ]
    },
    {
      "cell_type": "code",
      "metadata": {
        "colab": {
          "base_uri": "https://localhost:8080/",
          "height": 362
        },
        "id": "-rzfKDLtQrPm",
        "outputId": "ebebb71b-333f-433c-a7ca-c2b5bd3bfa98"
      },
      "source": [
        "base_dados.head(10)"
      ],
      "execution_count": 66,
      "outputs": [
        {
          "output_type": "execute_result",
          "data": {
            "text/html": [
              "<div>\n",
              "<style scoped>\n",
              "    .dataframe tbody tr th:only-of-type {\n",
              "        vertical-align: middle;\n",
              "    }\n",
              "\n",
              "    .dataframe tbody tr th {\n",
              "        vertical-align: top;\n",
              "    }\n",
              "\n",
              "    .dataframe thead th {\n",
              "        text-align: right;\n",
              "    }\n",
              "</style>\n",
              "<table border=\"1\" class=\"dataframe\">\n",
              "  <thead>\n",
              "    <tr style=\"text-align: right;\">\n",
              "      <th></th>\n",
              "      <th>texto</th>\n",
              "      <th>emocao</th>\n",
              "    </tr>\n",
              "  </thead>\n",
              "  <tbody>\n",
              "    <tr>\n",
              "      <th>0</th>\n",
              "      <td>trabalhar agradável</td>\n",
              "      <td>alegria</td>\n",
              "    </tr>\n",
              "    <tr>\n",
              "      <th>1</th>\n",
              "      <td>gostar ficar o aconchegar</td>\n",
              "      <td>alegria</td>\n",
              "    </tr>\n",
              "    <tr>\n",
              "      <th>2</th>\n",
              "      <td>o adesão o o cursar hoje</td>\n",
              "      <td>alegria</td>\n",
              "    </tr>\n",
              "    <tr>\n",
              "      <th>3</th>\n",
              "      <td>admirar</td>\n",
              "      <td>alegria</td>\n",
              "    </tr>\n",
              "    <tr>\n",
              "      <th>4</th>\n",
              "      <td>adorar comer</td>\n",
              "      <td>alegria</td>\n",
              "    </tr>\n",
              "    <tr>\n",
              "      <th>5</th>\n",
              "      <td>adorar cabelar maciar</td>\n",
              "      <td>alegria</td>\n",
              "    </tr>\n",
              "    <tr>\n",
              "      <th>6</th>\n",
              "      <td>adorar o cor olho</td>\n",
              "      <td>alegria</td>\n",
              "    </tr>\n",
              "    <tr>\n",
              "      <th>7</th>\n",
              "      <td>somar amável o outro</td>\n",
              "      <td>alegria</td>\n",
              "    </tr>\n",
              "    <tr>\n",
              "      <th>8</th>\n",
              "      <td>sentir umar afeição</td>\n",
              "      <td>alegria</td>\n",
              "    </tr>\n",
              "    <tr>\n",
              "      <th>9</th>\n",
              "      <td>querer agradar filho</td>\n",
              "      <td>alegria</td>\n",
              "    </tr>\n",
              "  </tbody>\n",
              "</table>\n",
              "</div>"
            ],
            "text/plain": [
              "                       texto   emocao\n",
              "0        trabalhar agradável  alegria\n",
              "1  gostar ficar o aconchegar  alegria\n",
              "2   o adesão o o cursar hoje  alegria\n",
              "3                    admirar  alegria\n",
              "4               adorar comer  alegria\n",
              "5      adorar cabelar maciar  alegria\n",
              "6          adorar o cor olho  alegria\n",
              "7       somar amável o outro  alegria\n",
              "8        sentir umar afeição  alegria\n",
              "9       querer agradar filho  alegria"
            ]
          },
          "metadata": {},
          "execution_count": 66
        }
      ]
    },
    {
      "cell_type": "markdown",
      "metadata": {
        "id": "yCHDQD2SRJyn"
      },
      "source": [
        "agora já temos os textos tudo certinho, com todo o tratamento dos dados, com as palavras principais somente, graças ao Pandas e sua função Apply"
      ]
    },
    {
      "cell_type": "code",
      "metadata": {
        "id": "d3IZNEjyRFp3"
      },
      "source": [
        "#Tratamento da classe\n",
        "\n",
        "#classe: medo e alegria\n",
        "\n",
        "ex_base_dados = [['este trabalho é agradável', {'ALEGRIA':True, 'MEDO':False}],['este lugar continua assustador', {'ALEGRIA':False, 'MEDO':True}]]"
      ],
      "execution_count": 70,
      "outputs": []
    },
    {
      "cell_type": "code",
      "metadata": {
        "colab": {
          "base_uri": "https://localhost:8080/"
        },
        "id": "29HpDGtoRvDN",
        "outputId": "bd39dd8f-05cc-4432-d091-2f8cd51ea4ff"
      },
      "source": [
        "ex_base_dados"
      ],
      "execution_count": 71,
      "outputs": [
        {
          "output_type": "execute_result",
          "data": {
            "text/plain": [
              "[['este trabalho é agradável', {'ALEGRIA': True, 'MEDO': False}],\n",
              " ['este lugar continua assustador', {'ALEGRIA': False, 'MEDO': True}]]"
            ]
          },
          "metadata": {},
          "execution_count": 71
        }
      ]
    },
    {
      "cell_type": "code",
      "metadata": {
        "colab": {
          "base_uri": "https://localhost:8080/"
        },
        "id": "4KrkK67xSs1R",
        "outputId": "69ed3356-f2bc-4249-ca74-6a6fbaac1d1c"
      },
      "source": [
        "type(ex_base_dados)"
      ],
      "execution_count": 72,
      "outputs": [
        {
          "output_type": "execute_result",
          "data": {
            "text/plain": [
              "list"
            ]
          },
          "metadata": {},
          "execution_count": 72
        }
      ]
    },
    {
      "cell_type": "code",
      "metadata": {
        "colab": {
          "base_uri": "https://localhost:8080/"
        },
        "id": "hQ_QoH-yS3eh",
        "outputId": "f7018ad2-863d-41fc-8058-d0934f672b26"
      },
      "source": [
        "ex_base_dados[0]"
      ],
      "execution_count": 73,
      "outputs": [
        {
          "output_type": "execute_result",
          "data": {
            "text/plain": [
              "['este trabalho é agradável', {'ALEGRIA': True, 'MEDO': False}]"
            ]
          },
          "metadata": {},
          "execution_count": 73
        }
      ]
    },
    {
      "cell_type": "code",
      "metadata": {
        "colab": {
          "base_uri": "https://localhost:8080/",
          "height": 36
        },
        "id": "xUPd4O7HTIFZ",
        "outputId": "418b6515-7b60-4453-da0f-42480f088f0a"
      },
      "source": [
        "ex_base_dados[0][0]"
      ],
      "execution_count": 75,
      "outputs": [
        {
          "output_type": "execute_result",
          "data": {
            "application/vnd.google.colaboratory.intrinsic+json": {
              "type": "string"
            },
            "text/plain": [
              "'este trabalho é agradável'"
            ]
          },
          "metadata": {},
          "execution_count": 75
        }
      ]
    },
    {
      "cell_type": "code",
      "metadata": {
        "colab": {
          "base_uri": "https://localhost:8080/"
        },
        "id": "b18tBj3aS9cS",
        "outputId": "c40e3f81-b52e-4530-fb7b-95592482440e"
      },
      "source": [
        "ex_base_dados[1]"
      ],
      "execution_count": 74,
      "outputs": [
        {
          "output_type": "execute_result",
          "data": {
            "text/plain": [
              "['este lugar continua assustador', {'ALEGRIA': False, 'MEDO': True}]"
            ]
          },
          "metadata": {},
          "execution_count": 74
        }
      ]
    },
    {
      "cell_type": "code",
      "metadata": {
        "colab": {
          "base_uri": "https://localhost:8080/",
          "height": 36
        },
        "id": "ECu5CiO-TAEg",
        "outputId": "2c0a037f-3acc-44fd-db59-81b599f837c6"
      },
      "source": [
        "ex_base_dados[1][0]"
      ],
      "execution_count": 77,
      "outputs": [
        {
          "output_type": "execute_result",
          "data": {
            "application/vnd.google.colaboratory.intrinsic+json": {
              "type": "string"
            },
            "text/plain": [
              "'este lugar continua assustador'"
            ]
          },
          "metadata": {},
          "execution_count": 77
        }
      ]
    },
    {
      "cell_type": "code",
      "metadata": {
        "colab": {
          "base_uri": "https://localhost:8080/"
        },
        "id": "IfKtnfPeTNiU",
        "outputId": "c9c2d1e8-e55d-4fef-a9cb-1c795233e919"
      },
      "source": [
        "ex_base_dados[1][1]"
      ],
      "execution_count": 78,
      "outputs": [
        {
          "output_type": "execute_result",
          "data": {
            "text/plain": [
              "{'ALEGRIA': False, 'MEDO': True}"
            ]
          },
          "metadata": {},
          "execution_count": 78
        }
      ]
    },
    {
      "cell_type": "code",
      "metadata": {
        "colab": {
          "base_uri": "https://localhost:8080/"
        },
        "id": "k1r-HOIKTU8v",
        "outputId": "5d740dd0-429a-4494-e4be-f58495774130"
      },
      "source": [
        "ex_base_dados[0][1]"
      ],
      "execution_count": 79,
      "outputs": [
        {
          "output_type": "execute_result",
          "data": {
            "text/plain": [
              "{'ALEGRIA': True, 'MEDO': False}"
            ]
          },
          "metadata": {},
          "execution_count": 79
        }
      ]
    },
    {
      "cell_type": "code",
      "metadata": {
        "colab": {
          "base_uri": "https://localhost:8080/"
        },
        "id": "ec9Gg9EiTh4x",
        "outputId": "b5efe73f-8639-4b80-91da-81ff30282989"
      },
      "source": [
        "type(ex_base_dados[0][1])"
      ],
      "execution_count": 80,
      "outputs": [
        {
          "output_type": "execute_result",
          "data": {
            "text/plain": [
              "dict"
            ]
          },
          "metadata": {},
          "execution_count": 80
        }
      ]
    },
    {
      "cell_type": "code",
      "metadata": {
        "id": "Q7vUtObdToeR"
      },
      "source": [
        "base_dados_final = []\n",
        "for texto, emocao in zip(base_dados['texto'], base_dados['emocao']): #zip pois precisou, ja que retornou muitos valores como erro no output\n",
        "  #print(texto, emocao)\n",
        "  if emocao == 'alegria':\n",
        "    dic = ({'ALEGRIA':True, 'MEDO':False})\n",
        "  elif  emocao == 'medo':\n",
        "    dic = ({'ALEGRIA':False, 'MEDO':True})\n",
        "\n",
        "  base_dados_final.append([texto, dic.copy()])"
      ],
      "execution_count": 88,
      "outputs": []
    },
    {
      "cell_type": "code",
      "metadata": {
        "colab": {
          "base_uri": "https://localhost:8080/"
        },
        "id": "yue6Y-okUHu0",
        "outputId": "38dc0be0-9579-4f9a-e573-fbde12989b83"
      },
      "source": [
        "len(base_dados_final)"
      ],
      "execution_count": 89,
      "outputs": [
        {
          "output_type": "execute_result",
          "data": {
            "text/plain": [
              "196"
            ]
          },
          "metadata": {},
          "execution_count": 89
        }
      ]
    },
    {
      "cell_type": "code",
      "metadata": {
        "colab": {
          "base_uri": "https://localhost:8080/"
        },
        "id": "z79Nv2sgWdIe",
        "outputId": "92b5bb1e-bd06-4973-f180-7ab26d674803"
      },
      "source": [
        "base_dados_final[0]"
      ],
      "execution_count": 90,
      "outputs": [
        {
          "output_type": "execute_result",
          "data": {
            "text/plain": [
              "['trabalhar agradável', {'ALEGRIA': True, 'MEDO': False}]"
            ]
          },
          "metadata": {},
          "execution_count": 90
        }
      ]
    },
    {
      "cell_type": "code",
      "metadata": {
        "colab": {
          "base_uri": "https://localhost:8080/",
          "height": 36
        },
        "id": "9nNv_khgW8cy",
        "outputId": "bb7163d5-e941-4e54-c13b-73468d196004"
      },
      "source": [
        "base_dados_final[0][0]"
      ],
      "execution_count": 91,
      "outputs": [
        {
          "output_type": "execute_result",
          "data": {
            "application/vnd.google.colaboratory.intrinsic+json": {
              "type": "string"
            },
            "text/plain": [
              "'trabalhar agradável'"
            ]
          },
          "metadata": {},
          "execution_count": 91
        }
      ]
    },
    {
      "cell_type": "code",
      "metadata": {
        "colab": {
          "base_uri": "https://localhost:8080/"
        },
        "id": "4ZBDmkxQXFth",
        "outputId": "01bef749-b55d-439c-96a8-0373224f48f0"
      },
      "source": [
        "base_dados_final[0][1]"
      ],
      "execution_count": 93,
      "outputs": [
        {
          "output_type": "execute_result",
          "data": {
            "text/plain": [
              "{'ALEGRIA': True, 'MEDO': False}"
            ]
          },
          "metadata": {},
          "execution_count": 93
        }
      ]
    },
    {
      "cell_type": "code",
      "metadata": {
        "colab": {
          "base_uri": "https://localhost:8080/"
        },
        "id": "VWclZkm5XMXE",
        "outputId": "1ccc35ec-7556-4cd0-bb3d-83fef42b95d2"
      },
      "source": [
        "type(base_dados_final[0][1])"
      ],
      "execution_count": 94,
      "outputs": [
        {
          "output_type": "execute_result",
          "data": {
            "text/plain": [
              "dict"
            ]
          },
          "metadata": {},
          "execution_count": 94
        }
      ]
    },
    {
      "cell_type": "code",
      "metadata": {
        "colab": {
          "base_uri": "https://localhost:8080/"
        },
        "id": "3jumTiOsXbyF",
        "outputId": "3a13a567-98d8-422c-a6c6-1da073676ef5"
      },
      "source": [
        "base_dados_final"
      ],
      "execution_count": 95,
      "outputs": [
        {
          "output_type": "execute_result",
          "data": {
            "text/plain": [
              "[['trabalhar agradável', {'ALEGRIA': True, 'MEDO': False}],\n",
              " ['gostar ficar o aconchegar', {'ALEGRIA': True, 'MEDO': False}],\n",
              " ['o adesão o o cursar hoje', {'ALEGRIA': True, 'MEDO': False}],\n",
              " ['admirar', {'ALEGRIA': True, 'MEDO': False}],\n",
              " ['adorar comer', {'ALEGRIA': True, 'MEDO': False}],\n",
              " ['adorar cabelar maciar', {'ALEGRIA': True, 'MEDO': False}],\n",
              " ['adorar o cor olho', {'ALEGRIA': True, 'MEDO': False}],\n",
              " ['somar amável o outro', {'ALEGRIA': True, 'MEDO': False}],\n",
              " ['sentir umar afeição', {'ALEGRIA': True, 'MEDO': False}],\n",
              " ['querer agradar filho', {'ALEGRIA': True, 'MEDO': False}],\n",
              " ['sentir completamente amar', {'ALEGRIA': True, 'MEDO': False}],\n",
              " ['amar', {'ALEGRIA': True, 'MEDO': False}],\n",
              " ['alívio', {'ALEGRIA': True, 'MEDO': False}],\n",
              " ['o dor amenizar finalmente', {'ALEGRIA': True, 'MEDO': False}],\n",
              " ['achar apaixonar', {'ALEGRIA': True, 'MEDO': False}],\n",
              " ['amar maravilhoso', {'ALEGRIA': True, 'MEDO': False}],\n",
              " ['sentir animar', {'ALEGRIA': True, 'MEDO': False}],\n",
              " ['sentir hoje', {'ALEGRIA': True, 'MEDO': False}],\n",
              " ['comer o luar belo', {'ALEGRIA': True, 'MEDO': False}],\n",
              " ['o dia bonito', {'ALEGRIA': True, 'MEDO': False}],\n",
              " ['comer afortunar', {'ALEGRIA': True, 'MEDO': False}],\n",
              " ['o maravilhar mundo', {'ALEGRIA': True, 'MEDO': False}],\n",
              " ['receber caro hoje colega', {'ALEGRIA': True, 'MEDO': False}],\n",
              " ['sentir reconfortar hoje', {'ALEGRIA': True, 'MEDO': False}],\n",
              " ['o amigo', {'ALEGRIA': True, 'MEDO': False}],\n",
              " ['contentar o resultar teste', {'ALEGRIA': True, 'MEDO': False}],\n",
              " ['pintura brilhante', {'ALEGRIA': True, 'MEDO': False}],\n",
              " ['água abundância', {'ALEGRIA': True, 'MEDO': False}],\n",
              " ['roupar delicado', {'ALEGRIA': True, 'MEDO': False}],\n",
              " ['comediante', {'ALEGRIA': True, 'MEDO': False}],\n",
              " ['bondade o suar', {'ALEGRIA': True, 'MEDO': False}],\n",
              " ['o amor lindar', {'ALEGRIA': True, 'MEDO': False}],\n",
              " ['amizade durar parir', {'ALEGRIA': True, 'MEDO': False}],\n",
              " ['eufórico o notícia', {'ALEGRIA': True, 'MEDO': False}],\n",
              " ['realmente fiel o mim', {'ALEGRIA': True, 'MEDO': False}],\n",
              " ['umar festa parir comemorar aniversário', {'ALEGRIA': True, 'MEDO': False}],\n",
              " ['graça o deus enxergar o certar', {'ALEGRIA': True, 'MEDO': False}],\n",
              " ['o melhor escolher', {'ALEGRIA': True, 'MEDO': False}],\n",
              " ['o incrível belo', {'ALEGRIA': True, 'MEDO': False}],\n",
              " ['engraçar explicar', {'ALEGRIA': True, 'MEDO': False}],\n",
              " ['emocionante n', {'ALEGRIA': True, 'MEDO': False}],\n",
              " ['cativar pelar olhar', {'ALEGRIA': True, 'MEDO': False}],\n",
              " ['loucamente apaixonar', {'ALEGRIA': True, 'MEDO': False}],\n",
              " ['dúvida', {'ALEGRIA': True, 'MEDO': False}],\n",
              " ['rodear pelar abraçar', {'ALEGRIA': True, 'MEDO': False}],\n",
              " ['estrelo pelar caminhar', {'ALEGRIA': True, 'MEDO': False}],\n",
              " ['sentir o sol', {'ALEGRIA': True, 'MEDO': False}],\n",
              " ['sorrir orelhar o orelhar', {'ALEGRIA': True, 'MEDO': False}],\n",
              " ['valer o peno', {'ALEGRIA': True, 'MEDO': False}],\n",
              " ['finalmente colocar amor', {'ALEGRIA': True, 'MEDO': False}],\n",
              " ['nó dançar noite adentrar', {'ALEGRIA': True, 'MEDO': False}],\n",
              " ['amor brilhante', {'ALEGRIA': True, 'MEDO': False}],\n",
              " ['tocar coração durante o caminhar', {'ALEGRIA': True, 'MEDO': False}],\n",
              " ['suar amigo e companheiro', {'ALEGRIA': True, 'MEDO': False}],\n",
              " ['trazer voltar o vidar', {'ALEGRIA': True, 'MEDO': False}],\n",
              " ['e comer sonhar doce', {'ALEGRIA': True, 'MEDO': False}],\n",
              " ['adorar doce frutar', {'ALEGRIA': True, 'MEDO': False}],\n",
              " ['suco favorito', {'ALEGRIA': True, 'MEDO': False}],\n",
              " ['agradecido pelar ajudar', {'ALEGRIA': True, 'MEDO': False}],\n",
              " ['enorme prazer equipar', {'ALEGRIA': True, 'MEDO': False}],\n",
              " ['trabalhar equipar o melhor', {'ALEGRIA': True, 'MEDO': False}],\n",
              " ['sentir flutuar o ar', {'ALEGRIA': True, 'MEDO': False}],\n",
              " ['o brisa agradável hoje', {'ALEGRIA': True, 'MEDO': False}],\n",
              " ['ótimo e compatível', {'ALEGRIA': True, 'MEDO': False}],\n",
              " ['compatível o outro', {'ALEGRIA': True, 'MEDO': False}],\n",
              " ['o órgão compatível o paciente', {'ALEGRIA': True, 'MEDO': False}],\n",
              " ['contentar aceito o faculdade', {'ALEGRIA': True, 'MEDO': False}],\n",
              " ['aprovar o exame', {'ALEGRIA': True, 'MEDO': False}],\n",
              " ['beneficiar pelar empresar', {'ALEGRIA': True, 'MEDO': False}],\n",
              " ['cativante', {'ALEGRIA': True, 'MEDO': False}],\n",
              " ['contentar o apoiar', {'ALEGRIA': True, 'MEDO': False}],\n",
              " ['comer e confortável', {'ALEGRIA': True, 'MEDO': False}],\n",
              " ['e quentar n frio', {'ALEGRIA': True, 'MEDO': False}],\n",
              " ['elogiar e', {'ALEGRIA': True, 'MEDO': False}],\n",
              " ['chamar parir comemorar', {'ALEGRIA': True, 'MEDO': False}],\n",
              " ['desejável o suar presença apresentação', {'ALEGRIA': True, 'MEDO': False}],\n",
              " ['grato o', {'ALEGRIA': True, 'MEDO': False}],\n",
              " ['dedicar n', {'ALEGRIA': True, 'MEDO': False}],\n",
              " ['completamente apaixonar', {'ALEGRIA': True, 'MEDO': False}],\n",
              " ['agitar noite', {'ALEGRIA': True, 'MEDO': False}],\n",
              " ['significar parir mim', {'ALEGRIA': True, 'MEDO': False}],\n",
              " ['agir preconceito e julgamento', {'ALEGRIA': True, 'MEDO': False}],\n",
              " ['finalmente completar o coleção maravilhoso',\n",
              "  {'ALEGRIA': True, 'MEDO': False}],\n",
              " ['suar rei', {'ALEGRIA': True, 'MEDO': False}],\n",
              " ['satisfatoriamente anunciar o vencedor jogo',\n",
              "  {'ALEGRIA': True, 'MEDO': False}],\n",
              " ['atrair facilmente', {'ALEGRIA': True, 'MEDO': False}],\n",
              " ['rapaz e extremamente atraente', {'ALEGRIA': True, 'MEDO': False}],\n",
              " ['sinto-me vivo', {'ALEGRIA': True, 'MEDO': False}],\n",
              " ['sinto-me paz', {'ALEGRIA': True, 'MEDO': False}],\n",
              " ['lucrar', {'ALEGRIA': True, 'MEDO': False}],\n",
              " ['ordem', {'ALEGRIA': True, 'MEDO': False}],\n",
              " ['arrumar empregar junto', {'ALEGRIA': True, 'MEDO': False}],\n",
              " ['o arrumação terminar alívio', {'ALEGRIA': True, 'MEDO': False}],\n",
              " ['o câncer benigno', {'ALEGRIA': True, 'MEDO': False}],\n",
              " ['o amor abundante', {'ALEGRIA': True, 'MEDO': False}],\n",
              " ['caridoso natal', {'ALEGRIA': True, 'MEDO': False}],\n",
              " ['charme irar atrair o', {'ALEGRIA': True, 'MEDO': False}],\n",
              " ['comer charmoso querer', {'ALEGRIA': True, 'MEDO': False}],\n",
              " ['querido amigo', {'ALEGRIA': True, 'MEDO': False}],\n",
              " ['cuidadoso o sentimento', {'ALEGRIA': True, 'MEDO': False}],\n",
              " ['comover tamanho caridade', {'ALEGRIA': True, 'MEDO': False}],\n",
              " ['chá quentar e reconfortante', {'ALEGRIA': True, 'MEDO': False}],\n",
              " ['alegria', {'ALEGRIA': True, 'MEDO': False}],\n",
              " ['aplaudir o vencedor', {'ALEGRIA': True, 'MEDO': False}],\n",
              " ['palmar parir o aniversariante', {'ALEGRIA': True, 'MEDO': False}],\n",
              " ['desejar o', {'ALEGRIA': True, 'MEDO': False}],\n",
              " ['horar apreciar vinho', {'ALEGRIA': True, 'MEDO': False}],\n",
              " ['apreciar suar presença escola', {'ALEGRIA': True, 'MEDO': False}],\n",
              " ['ansiar trabalho', {'ALEGRIA': True, 'MEDO': False}],\n",
              " ['maravilhoso jogar amistoso', {'ALEGRIA': True, 'MEDO': False}],\n",
              " ['e ótimo o menimos apaziguar', {'ALEGRIA': True, 'MEDO': False}],\n",
              " ['concretizar finalmente sonhar', {'ALEGRIA': True, 'MEDO': False}],\n",
              " ['implorar matar', {'ALEGRIA': False, 'MEDO': True}],\n",
              " ['perigoso', {'ALEGRIA': False, 'MEDO': True}],\n",
              " ['segurar', {'ALEGRIA': False, 'MEDO': True}],\n",
              " ['correr pra', {'ALEGRIA': False, 'MEDO': True}],\n",
              " ['socorrer querer roubar o doce', {'ALEGRIA': False, 'MEDO': True}],\n",
              " ['caro perseguir', {'ALEGRIA': False, 'MEDO': True}],\n",
              " ['entrar perigoso', {'ALEGRIA': False, 'MEDO': True}],\n",
              " ['continuar assustador', {'ALEGRIA': False, 'MEDO': True}],\n",
              " ['o selva animar perigoso', {'ALEGRIA': False, 'MEDO': True}],\n",
              " ['avançar cautela', {'ALEGRIA': False, 'MEDO': True}],\n",
              " ['silencioso cuidar', {'ALEGRIA': False, 'MEDO': True}],\n",
              " ['deixe-me viver', {'ALEGRIA': False, 'MEDO': True}],\n",
              " ['ficar mesada tirar noto', {'ALEGRIA': False, 'MEDO': True}],\n",
              " ['parecer olho o vigiar', {'ALEGRIA': False, 'MEDO': True}],\n",
              " ['o sentença juiz negativo', {'ALEGRIA': False, 'MEDO': True}],\n",
              " ['missão arriscar', {'ALEGRIA': False, 'MEDO': True}],\n",
              " ['salvem-se', {'ALEGRIA': False, 'MEDO': True}],\n",
              " ['planar descobrir', {'ALEGRIA': False, 'MEDO': True}],\n",
              " ['culpar jurar', {'ALEGRIA': False, 'MEDO': True}],\n",
              " ['tomar cuidar o lobisomem', {'ALEGRIA': False, 'MEDO': True}],\n",
              " ['achar descobrir o verdade', {'ALEGRIA': False, 'MEDO': True}],\n",
              " ['deus desaparecer', {'ALEGRIA': False, 'MEDO': True}],\n",
              " ['tomar d', {'ALEGRIA': False, 'MEDO': True}],\n",
              " ['manter segredar descobrir ferrar', {'ALEGRIA': False, 'MEDO': True}],\n",
              " ['soltar inocentar', {'ALEGRIA': False, 'MEDO': True}],\n",
              " ['ouvir passo mim', {'ALEGRIA': False, 'MEDO': True}],\n",
              " ['pedir socorrer', {'ALEGRIA': False, 'MEDO': True}],\n",
              " ['cuidar o curvo o estrar', {'ALEGRIA': False, 'MEDO': True}],\n",
              " ['parecer perigoso', {'ALEGRIA': False, 'MEDO': True}],\n",
              " ['tremer medo', {'ALEGRIA': False, 'MEDO': True}],\n",
              " ['socorrer cair', {'ALEGRIA': False, 'MEDO': True}],\n",
              " ['o florestar negro perigoso', {'ALEGRIA': False, 'MEDO': True}],\n",
              " ['ouvir passo o direção', {'ALEGRIA': False, 'MEDO': True}],\n",
              " ['achar arriscar', {'ALEGRIA': False, 'MEDO': True}],\n",
              " ['voltar perigoso', {'ALEGRIA': False, 'MEDO': True}],\n",
              " ['fugir acabar morto', {'ALEGRIA': False, 'MEDO': True}],\n",
              " ['recear livrar d situação', {'ALEGRIA': False, 'MEDO': True}],\n",
              " ['socorrer armar', {'ALEGRIA': False, 'MEDO': True}],\n",
              " ['eis cuidar bater o postar', {'ALEGRIA': False, 'MEDO': True}],\n",
              " ['socorrer nó afundar', {'ALEGRIA': False, 'MEDO': True}],\n",
              " ['e sério cuidar armar', {'ALEGRIA': False, 'MEDO': True}],\n",
              " ['o tubarão atacar', {'ALEGRIA': False, 'MEDO': True}],\n",
              " ['sentir arrepio ficar o escuro', {'ALEGRIA': False, 'MEDO': True}],\n",
              " ['calmo o dinheiro', {'ALEGRIA': False, 'MEDO': True}],\n",
              " ['achar enganar', {'ALEGRIA': False, 'MEDO': True}],\n",
              " ['ligeiro fugir depressa', {'ALEGRIA': False, 'MEDO': True}],\n",
              " ['crocodilo selvagem vir parir', {'ALEGRIA': False, 'MEDO': True}],\n",
              " ['ficar o achar', {'ALEGRIA': False, 'MEDO': True}],\n",
              " ['fugir o tigre parecer faminto', {'ALEGRIA': False, 'MEDO': True}],\n",
              " ['sair precisar milagre', {'ALEGRIA': False, 'MEDO': True}],\n",
              " ['tirar mim socorrer', {'ALEGRIA': False, 'MEDO': True}],\n",
              " ['nadar afogar', {'ALEGRIA': False, 'MEDO': True}],\n",
              " ['e segurar', {'ALEGRIA': False, 'MEDO': True}],\n",
              " ['apanhar pai boletim', {'ALEGRIA': False, 'MEDO': True}],\n",
              " ['conseguir sair d', {'ALEGRIA': False, 'MEDO': True}],\n",
              " ['sair tardar assaltar', {'ALEGRIA': False, 'MEDO': True}],\n",
              " ['deixar', {'ALEGRIA': False, 'MEDO': True}],\n",
              " ['esperar largar', {'ALEGRIA': False, 'MEDO': True}],\n",
              " ['pelar suar segurança', {'ALEGRIA': False, 'MEDO': True}],\n",
              " ['entregar o dinheiro matar', {'ALEGRIA': False, 'MEDO': True}],\n",
              " ['levar o dinheiro', {'ALEGRIA': False, 'MEDO': True}],\n",
              " ['dirigir rápido', {'ALEGRIA': False, 'MEDO': True}],\n",
              " ['descobrir prender', {'ALEGRIA': False, 'MEDO': True}],\n",
              " ['esperar nenhum', {'ALEGRIA': False, 'MEDO': True}],\n",
              " ['afogar ajudar o sair água', {'ALEGRIA': False, 'MEDO': True}],\n",
              " ['o salvar', {'ALEGRIA': False, 'MEDO': True}],\n",
              " ['querer pensar o acontecer', {'ALEGRIA': False, 'MEDO': True}],\n",
              " ['n cidade umar desgraçar outro', {'ALEGRIA': False, 'MEDO': True}],\n",
              " ['alguém ligar assustar', {'ALEGRIA': False, 'MEDO': True}],\n",
              " ['remedio matar', {'ALEGRIA': False, 'MEDO': True}],\n",
              " ['confiar n cautela', {'ALEGRIA': False, 'MEDO': True}],\n",
              " ['cautela', {'ALEGRIA': False, 'MEDO': True}],\n",
              " ['descobrir deus', {'ALEGRIA': False, 'MEDO': True}],\n",
              " ['recear', {'ALEGRIA': False, 'MEDO': True}],\n",
              " ['o noite e perigoso', {'ALEGRIA': False, 'MEDO': True}],\n",
              " ['estremecer casar', {'ALEGRIA': False, 'MEDO': True}],\n",
              " ['olhar criatura mover monstruosamente', {'ALEGRIA': False, 'MEDO': True}],\n",
              " ['aguentar suspense', {'ALEGRIA': False, 'MEDO': True}],\n",
              " ['afugentar o cão', {'ALEGRIA': False, 'MEDO': True}],\n",
              " ['chocar e amedrontar assassinato brutal', {'ALEGRIA': False, 'MEDO': True}],\n",
              " ['precisar afugentar ímpeto medo infernar', {'ALEGRIA': False, 'MEDO': True}],\n",
              " ['político suar forçar parir afugentar e amedrontar o',\n",
              "  {'ALEGRIA': False, 'MEDO': True}],\n",
              " ['o objetivo d e amedrontar', {'ALEGRIA': False, 'MEDO': True}],\n",
              " ['apavorar', {'ALEGRIA': False, 'MEDO': True}]]"
            ]
          },
          "metadata": {},
          "execution_count": 95
        }
      ]
    },
    {
      "cell_type": "markdown",
      "metadata": {
        "id": "eiCQ9FVGX_F8"
      },
      "source": [
        "**Criação do Classificador**"
      ]
    },
    {
      "cell_type": "code",
      "metadata": {
        "id": "uStNsBSGYDKz"
      },
      "source": [
        "modelo = spacy.blank('pt')\n",
        "categ = modelo.create_pipe('textcat')\n",
        "categ.add_label('ALEGRIA')\n",
        "categ.add_label('MEDO')\n",
        "modelo.add_pipe(categ)\n",
        "historico = []\n"
      ],
      "execution_count": 98,
      "outputs": []
    },
    {
      "cell_type": "code",
      "metadata": {
        "colab": {
          "base_uri": "https://localhost:8080/"
        },
        "id": "vk-LhQvkZTJx",
        "outputId": "df470e7c-9118-42d2-9b49-403690f22333"
      },
      "source": [
        "#Treinamento\n",
        "\n",
        "modelo.begin_training()\n",
        "for epoca in range(1000):\n",
        "  random.shuffle(base_dados_final)\n",
        "  perdas ={}\n",
        "  for batch in spacy.util.minibatch(base_dados_final, 30):\n",
        "    textos = [modelo(texto) for texto, entities in batch]\n",
        "    annotations = [{'cats': entities} for texto, entities in batch]\n",
        "    modelo.update(textos, annotations, losses=perdas)  #ajustes de pesos\n",
        "  if epoca % 100 == 0:\n",
        "    print(perdas)\n",
        "    historico.append(perdas)"
      ],
      "execution_count": 104,
      "outputs": [
        {
          "output_type": "stream",
          "name": "stdout",
          "text": [
            "{'textcat': 0.006454392161685973}\n",
            "{'textcat': 1.0460885224716776e-07}\n",
            "{'textcat': 3.309063312251226e-08}\n",
            "{'textcat': 1.5476994685847956e-08}\n",
            "{'textcat': 8.123110684099544e-09}\n",
            "{'textcat': 5.677957104488485e-09}\n",
            "{'textcat': 3.999253872510877e-09}\n",
            "{'textcat': 3.0658914573766793e-09}\n",
            "{'textcat': 2.8018091180470606e-09}\n",
            "{'textcat': 2.458930739579479e-09}\n"
          ]
        }
      ]
    },
    {
      "cell_type": "code",
      "metadata": {
        "id": "cQpMIAUIclhL"
      },
      "source": [
        "historico_perdas = []\n",
        "for i in historico:\n",
        "  historico_perdas.append(i.get('textcat'))"
      ],
      "execution_count": 105,
      "outputs": []
    },
    {
      "cell_type": "code",
      "metadata": {
        "colab": {
          "base_uri": "https://localhost:8080/"
        },
        "id": "gH5EVMoEhCLU",
        "outputId": "399343fd-fdbb-4d96-ef78-61ff75a20aa6"
      },
      "source": [
        "historico_perdas = np.array(historico_perdas)\n",
        "historico_perdas"
      ],
      "execution_count": 106,
      "outputs": [
        {
          "output_type": "execute_result",
          "data": {
            "text/plain": [
              "array([6.45439216e-03, 1.04608852e-07, 3.30906331e-08, 1.54769947e-08,\n",
              "       8.12311068e-09, 5.67795710e-09, 3.99925387e-09, 3.06589146e-09,\n",
              "       2.80180912e-09, 2.45893074e-09])"
            ]
          },
          "metadata": {},
          "execution_count": 106
        }
      ]
    },
    {
      "cell_type": "code",
      "metadata": {
        "colab": {
          "base_uri": "https://localhost:8080/",
          "height": 295
        },
        "id": "_PbjC57ChQEg",
        "outputId": "fe9a979d-675b-4b5c-c15e-8abb3fa26f93"
      },
      "source": [
        "plt.plot(historico_perdas)\n",
        "plt.title('Progressão do erro')\n",
        "plt.xlabel('epocas')\n",
        "plt.ylabel('erro')\n",
        "plt.show()"
      ],
      "execution_count": 107,
      "outputs": [
        {
          "output_type": "display_data",
          "data": {
            "image/png": "[encoded data removed]",
            "text/plain": [
              "<Figure size 432x288 with 1 Axes>"
            ]
          },
          "metadata": {
            "needs_background": "light"
          }
        }
      ]
    },
    {
      "cell_type": "markdown",
      "metadata": {
        "id": "6g0eBKhCiBUP"
      },
      "source": [
        "Nota-se como o erro está diminuindo..."
      ]
    },
    {
      "cell_type": "code",
      "metadata": {
        "id": "r9vpV_o8h7fS"
      },
      "source": [
        "#salvar o modelo\n",
        "\n",
        "modelo.to_disk('Modelo')"
      ],
      "execution_count": 108,
      "outputs": []
    },
    {
      "cell_type": "markdown",
      "metadata": {
        "id": "_GuetW0GioDf"
      },
      "source": [
        "**Testes com uma Frase**"
      ]
    },
    {
      "cell_type": "code",
      "metadata": {
        "colab": {
          "base_uri": "https://localhost:8080/"
        },
        "id": "1St3Zajrirw3",
        "outputId": "4c530ba4-3ec9-44f2-c8b0-10fb7fc98d01"
      },
      "source": [
        "modelo_carregado = spacy.load('Modelo')\n",
        "modelo_carregado"
      ],
      "execution_count": 110,
      "outputs": [
        {
          "output_type": "execute_result",
          "data": {
            "text/plain": [
              "<spacy.lang.pt.Portuguese at 0x7f2b35afffd0>"
            ]
          },
          "metadata": {},
          "execution_count": 110
        }
      ]
    },
    {
      "cell_type": "code",
      "metadata": {
        "id": "qNzJdgkvjK5I"
      },
      "source": [
        "texto_alegria = 'eu amo ciencia de dados'"
      ],
      "execution_count": 111,
      "outputs": []
    },
    {
      "cell_type": "markdown",
      "metadata": {
        "id": "ojiKPlnRjaWW"
      },
      "source": [
        "vamos agora passar essa variavel para a rede reural"
      ]
    },
    {
      "cell_type": "code",
      "metadata": {
        "colab": {
          "base_uri": "https://localhost:8080/",
          "height": 36
        },
        "id": "iXVsJX6qjdrL",
        "outputId": "af6f23c1-fa39-45c5-e96b-98726f15c70d"
      },
      "source": [
        "texto_alegria = preprocessamento(texto_alegria) #aqui ja temos todo o pre processaento dos dados\n",
        "texto_alegria"
      ],
      "execution_count": 113,
      "outputs": [
        {
          "output_type": "execute_result",
          "data": {
            "application/vnd.google.colaboratory.intrinsic+json": {
              "type": "string"
            },
            "text/plain": [
              "'amar ciencia'"
            ]
          },
          "metadata": {},
          "execution_count": 113
        }
      ]
    },
    {
      "cell_type": "code",
      "metadata": {
        "colab": {
          "base_uri": "https://localhost:8080/"
        },
        "id": "J4jpZJFejrcU",
        "outputId": "cbec96f4-c84c-47e3-e13e-0113a746e728"
      },
      "source": [
        "previsão = modelo_carregado(texto_alegria)\n",
        "previsão"
      ],
      "execution_count": 114,
      "outputs": [
        {
          "output_type": "execute_result",
          "data": {
            "text/plain": [
              "amar ciencia"
            ]
          },
          "metadata": {},
          "execution_count": 114
        }
      ]
    },
    {
      "cell_type": "code",
      "metadata": {
        "colab": {
          "base_uri": "https://localhost:8080/"
        },
        "id": "qSnctILXlMV4",
        "outputId": "216d866d-d373-4a59-a9cd-bfa305ca0d44"
      },
      "source": [
        "previsão.cats #categorias"
      ],
      "execution_count": 115,
      "outputs": [
        {
          "output_type": "execute_result",
          "data": {
            "text/plain": [
              "{'ALEGRIA': 0.9997937083244324, 'MEDO': 4.539786823443137e-05}"
            ]
          },
          "metadata": {},
          "execution_count": 115
        }
      ]
    },
    {
      "cell_type": "markdown",
      "metadata": {
        "id": "APa6lKnUlX9u"
      },
      "source": [
        "Portanto quando passamos uma frase, temos 99,9% de ser de alegria, e 0,0000004% de ser de medo"
      ]
    },
    {
      "cell_type": "code",
      "metadata": {
        "id": "jNYBKJVRlgs_"
      },
      "source": [
        "texto_medo = 'estou com medo de estatistica'"
      ],
      "execution_count": 116,
      "outputs": []
    },
    {
      "cell_type": "code",
      "metadata": {
        "colab": {
          "base_uri": "https://localhost:8080/"
        },
        "id": "PhpO5_D0l3bf",
        "outputId": "e6883e44-1ce9-4b41-8bcf-396d59845db4"
      },
      "source": [
        "previsão = modelo_carregado(preprocessamento(texto_medo))\n",
        "previsão"
      ],
      "execution_count": 120,
      "outputs": [
        {
          "output_type": "execute_result",
          "data": {
            "text/plain": [
              "medo estatistica"
            ]
          },
          "metadata": {},
          "execution_count": 120
        }
      ]
    },
    {
      "cell_type": "code",
      "metadata": {
        "colab": {
          "base_uri": "https://localhost:8080/"
        },
        "id": "AWIWgHF3mByy",
        "outputId": "c4662654-92a4-4a8e-f1d4-a4cdc60ebf3f"
      },
      "source": [
        "previsão.cats"
      ],
      "execution_count": 121,
      "outputs": [
        {
          "output_type": "execute_result",
          "data": {
            "text/plain": [
              "{'ALEGRIA': 8.787535625742748e-05, 'MEDO': 0.9999545812606812}"
            ]
          },
          "metadata": {},
          "execution_count": 121
        }
      ]
    },
    {
      "cell_type": "markdown",
      "metadata": {
        "id": "e4XnPh4EmHb_"
      },
      "source": [
        "aqui quando passamos a frase temos  99,9999% de ser medo e 0,00007% de ser alegria "
      ]
    },
    {
      "cell_type": "markdown",
      "metadata": {
        "id": "K4lDuDLvmxH-"
      },
      "source": [
        "**Avaliação do Modelo**"
      ]
    },
    {
      "cell_type": "code",
      "metadata": {
        "colab": {
          "base_uri": "https://localhost:8080/"
        },
        "id": "SYmsaydFm0Uw",
        "outputId": "36bdb8a0-e0cd-441a-ae71-65a484dda903"
      },
      "source": [
        "# avaliação da base treinamento\n",
        "\n",
        "previsoes = []\n",
        "for texto in base_dados['texto']:\n",
        "  print(texto)\n",
        "  predict = modelo_carregado(texto)\n",
        "  previsoes.append(predict.cats)"
      ],
      "execution_count": 123,
      "outputs": [
        {
          "output_type": "stream",
          "name": "stdout",
          "text": [
            "trabalhar agradável\n",
            "gostar ficar o aconchegar\n",
            "o adesão o o cursar hoje\n",
            "admirar\n",
            "adorar comer\n",
            "adorar cabelar maciar\n",
            "adorar o cor olho\n",
            "somar amável o outro\n",
            "sentir umar afeição\n",
            "querer agradar filho\n",
            "sentir completamente amar\n",
            "amar\n",
            "alívio\n",
            "o dor amenizar finalmente\n",
            "achar apaixonar\n",
            "amar maravilhoso\n",
            "sentir animar\n",
            "sentir hoje\n",
            "comer o luar belo\n",
            "o dia bonito\n",
            "comer afortunar\n",
            "o maravilhar mundo\n",
            "receber caro hoje colega\n",
            "sentir reconfortar hoje\n",
            "o amigo\n",
            "contentar o resultar teste\n",
            "pintura brilhante\n",
            "água abundância\n",
            "roupar delicado\n",
            "comediante\n",
            "bondade o suar\n",
            "o amor lindar\n",
            "amizade durar parir\n",
            "eufórico o notícia\n",
            "realmente fiel o mim\n",
            "umar festa parir comemorar aniversário\n",
            "graça o deus enxergar o certar\n",
            "o melhor escolher\n",
            "o incrível belo\n",
            "engraçar explicar\n",
            "emocionante n\n",
            "cativar pelar olhar\n",
            "loucamente apaixonar\n",
            "dúvida\n",
            "rodear pelar abraçar\n",
            "estrelo pelar caminhar\n",
            "sentir o sol\n",
            "sorrir orelhar o orelhar\n",
            "valer o peno\n",
            "finalmente colocar amor\n",
            "nó dançar noite adentrar\n",
            "amor brilhante\n",
            "tocar coração durante o caminhar\n",
            "suar amigo e companheiro\n",
            "trazer voltar o vidar\n",
            "e comer sonhar doce\n",
            "adorar doce frutar\n",
            "suco favorito\n",
            "agradecido pelar ajudar\n",
            "enorme prazer equipar\n",
            "trabalhar equipar o melhor\n",
            "sentir flutuar o ar\n",
            "o brisa agradável hoje\n",
            "ótimo e compatível\n",
            "compatível o outro\n",
            "o órgão compatível o paciente\n",
            "contentar aceito o faculdade\n",
            "aprovar o exame\n",
            "beneficiar pelar empresar\n",
            "cativante\n",
            "contentar o apoiar\n",
            "comer e confortável\n",
            "e quentar n frio\n",
            "elogiar e\n",
            "chamar parir comemorar\n",
            "desejável o suar presença apresentação\n",
            "grato o\n",
            "dedicar n\n",
            "completamente apaixonar\n",
            "agitar noite\n",
            "significar parir mim\n",
            "agir preconceito e julgamento\n",
            "finalmente completar o coleção maravilhoso\n",
            "suar rei\n",
            "satisfatoriamente anunciar o vencedor jogo\n",
            "atrair facilmente\n",
            "rapaz e extremamente atraente\n",
            "sinto-me vivo\n",
            "sinto-me paz\n",
            "lucrar\n",
            "ordem\n",
            "arrumar empregar junto\n",
            "o arrumação terminar alívio\n",
            "o câncer benigno\n",
            "o amor abundante\n",
            "caridoso natal\n",
            "charme irar atrair o\n",
            "comer charmoso querer\n",
            "querido amigo\n",
            "cuidadoso o sentimento\n",
            "comover tamanho caridade\n",
            "chá quentar e reconfortante\n",
            "alegria\n",
            "aplaudir o vencedor\n",
            "palmar parir o aniversariante\n",
            "desejar o\n",
            "horar apreciar vinho\n",
            "apreciar suar presença escola\n",
            "ansiar trabalho\n",
            "maravilhoso jogar amistoso\n",
            "e ótimo o menimos apaziguar\n",
            "concretizar finalmente sonhar\n",
            "implorar matar\n",
            "perigoso\n",
            "segurar\n",
            "correr pra\n",
            "socorrer querer roubar o doce\n",
            "caro perseguir\n",
            "entrar perigoso\n",
            "continuar assustador\n",
            "o selva animar perigoso\n",
            "avançar cautela\n",
            "silencioso cuidar\n",
            "deixe-me viver\n",
            "ficar mesada tirar noto\n",
            "parecer olho o vigiar\n",
            "o sentença juiz negativo\n",
            "missão arriscar\n",
            "salvem-se\n",
            "planar descobrir\n",
            "culpar jurar\n",
            "tomar cuidar o lobisomem\n",
            "achar descobrir o verdade\n",
            "deus desaparecer\n",
            "tomar d\n",
            "manter segredar descobrir ferrar\n",
            "soltar inocentar\n",
            "ouvir passo mim\n",
            "pedir socorrer\n",
            "cuidar o curvo o estrar\n",
            "parecer perigoso\n",
            "tremer medo\n",
            "socorrer cair\n",
            "o florestar negro perigoso\n",
            "ouvir passo o direção\n",
            "achar arriscar\n",
            "voltar perigoso\n",
            "fugir acabar morto\n",
            "recear livrar d situação\n",
            "socorrer armar\n",
            "eis cuidar bater o postar\n",
            "socorrer nó afundar\n",
            "e sério cuidar armar\n",
            "o tubarão atacar\n",
            "sentir arrepio ficar o escuro\n",
            "calmo o dinheiro\n",
            "achar enganar\n",
            "ligeiro fugir depressa\n",
            "crocodilo selvagem vir parir\n",
            "ficar o achar\n",
            "fugir o tigre parecer faminto\n",
            "sair precisar milagre\n",
            "tirar mim socorrer\n",
            "nadar afogar\n",
            "e segurar\n",
            "apanhar pai boletim\n",
            "conseguir sair d\n",
            "sair tardar assaltar\n",
            "deixar\n",
            "esperar largar\n",
            "pelar suar segurança\n",
            "entregar o dinheiro matar\n",
            "levar o dinheiro\n",
            "dirigir rápido\n",
            "descobrir prender\n",
            "esperar nenhum\n",
            "afogar ajudar o sair água\n",
            "o salvar\n",
            "querer pensar o acontecer\n",
            "n cidade umar desgraçar outro\n",
            "alguém ligar assustar\n",
            "remedio matar\n",
            "confiar n cautela\n",
            "cautela\n",
            "descobrir deus\n",
            "recear\n",
            "o noite e perigoso\n",
            "estremecer casar\n",
            "olhar criatura mover monstruosamente\n",
            "aguentar suspense\n",
            "afugentar o cão\n",
            "chocar e amedrontar assassinato brutal\n",
            "precisar afugentar ímpeto medo infernar\n",
            "político suar forçar parir afugentar e amedrontar o\n",
            "o objetivo d e amedrontar\n",
            "apavorar\n"
          ]
        }
      ]
    },
    {
      "cell_type": "code",
      "metadata": {
        "colab": {
          "base_uri": "https://localhost:8080/"
        },
        "id": "bcFEMVcAoTlr",
        "outputId": "9ee8e82a-5d37-46c0-d4cd-90fe9811d3fa"
      },
      "source": [
        "previsoes"
      ],
      "execution_count": 124,
      "outputs": [
        {
          "output_type": "execute_result",
          "data": {
            "text/plain": [
              "[{'ALEGRIA': 0.9998868703842163, 'MEDO': 4.539786823443137e-05},\n",
              " {'ALEGRIA': 0.9995379447937012, 'MEDO': 4.539786823443137e-05},\n",
              " {'ALEGRIA': 0.9995587468147278, 'MEDO': 4.539786823443137e-05},\n",
              " {'ALEGRIA': 0.9996929168701172, 'MEDO': 4.539786823443137e-05},\n",
              " {'ALEGRIA': 0.999705970287323, 'MEDO': 4.539786823443137e-05},\n",
              " {'ALEGRIA': 0.9994388222694397, 'MEDO': 4.539786823443137e-05},\n",
              " {'ALEGRIA': 0.9997088313102722, 'MEDO': 4.539786823443137e-05},\n",
              " {'ALEGRIA': 0.9994650483131409, 'MEDO': 4.539786823443137e-05},\n",
              " {'ALEGRIA': 0.9997666478157043, 'MEDO': 4.539786823443137e-05},\n",
              " {'ALEGRIA': 0.9996864795684814, 'MEDO': 4.539786823443137e-05},\n",
              " {'ALEGRIA': 0.9998840093612671, 'MEDO': 4.539786823443137e-05},\n",
              " {'ALEGRIA': 0.9999545812606812, 'MEDO': 4.539786823443137e-05},\n",
              " {'ALEGRIA': 0.9998753070831299, 'MEDO': 4.539786823443137e-05},\n",
              " {'ALEGRIA': 0.9996514320373535, 'MEDO': 4.539786823443137e-05},\n",
              " {'ALEGRIA': 0.9993770718574524, 'MEDO': 4.539786823443137e-05},\n",
              " {'ALEGRIA': 0.9998286962509155, 'MEDO': 4.539786823443137e-05},\n",
              " {'ALEGRIA': 0.9996916055679321, 'MEDO': 4.539786823443137e-05},\n",
              " {'ALEGRIA': 0.9998548030853271, 'MEDO': 4.539786823443137e-05},\n",
              " {'ALEGRIA': 0.9996213912963867, 'MEDO': 4.539786823443137e-05},\n",
              " {'ALEGRIA': 0.9997677206993103, 'MEDO': 4.539786823443137e-05},\n",
              " {'ALEGRIA': 0.9997929930686951, 'MEDO': 4.539786823443137e-05},\n",
              " {'ALEGRIA': 0.9995182752609253, 'MEDO': 4.539786823443137e-05},\n",
              " {'ALEGRIA': 0.9994589686393738, 'MEDO': 4.539786823443137e-05},\n",
              " {'ALEGRIA': 0.9997416138648987, 'MEDO': 4.539786823443137e-05},\n",
              " {'ALEGRIA': 0.9999009370803833, 'MEDO': 4.539786823443137e-05},\n",
              " {'ALEGRIA': 0.9994218349456787, 'MEDO': 4.539786823443137e-05},\n",
              " {'ALEGRIA': 0.9996440410614014, 'MEDO': 4.539786823443137e-05},\n",
              " {'ALEGRIA': 0.9993131160736084, 'MEDO': 4.539786823443137e-05},\n",
              " {'ALEGRIA': 0.9996134638786316, 'MEDO': 4.539786823443137e-05},\n",
              " {'ALEGRIA': 0.9999521970748901, 'MEDO': 4.539786823443137e-05},\n",
              " {'ALEGRIA': 0.9998714923858643, 'MEDO': 4.539786823443137e-05},\n",
              " {'ALEGRIA': 0.9997654557228088, 'MEDO': 4.539786823443137e-05},\n",
              " {'ALEGRIA': 0.9994851350784302, 'MEDO': 4.539786823443137e-05},\n",
              " {'ALEGRIA': 0.9997380375862122, 'MEDO': 4.539786823443137e-05},\n",
              " {'ALEGRIA': 0.999579131603241, 'MEDO': 4.539786823443137e-05},\n",
              " {'ALEGRIA': 0.999810516834259, 'MEDO': 4.539786823443137e-05},\n",
              " {'ALEGRIA': 0.9995278120040894, 'MEDO': 4.539786823443137e-05},\n",
              " {'ALEGRIA': 0.999431312084198, 'MEDO': 4.539786823443137e-05},\n",
              " {'ALEGRIA': 0.99981290102005, 'MEDO': 4.539786823443137e-05},\n",
              " {'ALEGRIA': 0.9995679259300232, 'MEDO': 4.539786823443137e-05},\n",
              " {'ALEGRIA': 0.999116837978363, 'MEDO': 4.539786823443137e-05},\n",
              " {'ALEGRIA': 0.9996179342269897, 'MEDO': 4.539786823443137e-05},\n",
              " {'ALEGRIA': 0.9998902082443237, 'MEDO': 4.539786823443137e-05},\n",
              " {'ALEGRIA': 0.9998061060905457, 'MEDO': 4.539786823443137e-05},\n",
              " {'ALEGRIA': 0.9995951056480408, 'MEDO': 4.539786823443137e-05},\n",
              " {'ALEGRIA': 0.9998059868812561, 'MEDO': 4.539786823443137e-05},\n",
              " {'ALEGRIA': 0.9996858835220337, 'MEDO': 4.539786823443137e-05},\n",
              " {'ALEGRIA': 0.9995288848876953, 'MEDO': 4.539786823443137e-05},\n",
              " {'ALEGRIA': 0.9996054768562317, 'MEDO': 4.539786823443137e-05},\n",
              " {'ALEGRIA': 0.999816358089447, 'MEDO': 4.539786823443137e-05},\n",
              " {'ALEGRIA': 0.9992432594299316, 'MEDO': 4.539786823443137e-05},\n",
              " {'ALEGRIA': 0.9999048709869385, 'MEDO': 4.539786823443137e-05},\n",
              " {'ALEGRIA': 0.9997624754905701, 'MEDO': 4.539786823443137e-05},\n",
              " {'ALEGRIA': 0.9994992017745972, 'MEDO': 4.539786823443137e-05},\n",
              " {'ALEGRIA': 0.99932861328125, 'MEDO': 4.539786823443137e-05},\n",
              " {'ALEGRIA': 0.9995323419570923, 'MEDO': 4.539786823443137e-05},\n",
              " {'ALEGRIA': 0.9993972778320312, 'MEDO': 4.539786823443137e-05},\n",
              " {'ALEGRIA': 0.9997199177742004, 'MEDO': 4.539786823443137e-05},\n",
              " {'ALEGRIA': 0.9995744824409485, 'MEDO': 4.539786823443137e-05},\n",
              " {'ALEGRIA': 0.9994760155677795, 'MEDO': 4.539786823443137e-05},\n",
              " {'ALEGRIA': 0.9997215867042542, 'MEDO': 4.539786823443137e-05},\n",
              " {'ALEGRIA': 0.999661922454834, 'MEDO': 4.539786823443137e-05},\n",
              " {'ALEGRIA': 0.9996204376220703, 'MEDO': 4.539786823443137e-05},\n",
              " {'ALEGRIA': 0.99978107213974, 'MEDO': 4.539786823443137e-05},\n",
              " {'ALEGRIA': 0.9999148845672607, 'MEDO': 4.539786823443137e-05},\n",
              " {'ALEGRIA': 0.999782383441925, 'MEDO': 4.539786823443137e-05},\n",
              " {'ALEGRIA': 0.9994062185287476, 'MEDO': 4.539786823443137e-05},\n",
              " {'ALEGRIA': 0.9996668100357056, 'MEDO': 4.539786823443137e-05},\n",
              " {'ALEGRIA': 0.9997062087059021, 'MEDO': 4.539786823443137e-05},\n",
              " {'ALEGRIA': 0.9999353885650635, 'MEDO': 4.539786823443137e-05},\n",
              " {'ALEGRIA': 0.9998446702957153, 'MEDO': 4.539786823443137e-05},\n",
              " {'ALEGRIA': 0.9997294545173645, 'MEDO': 4.539786823443137e-05},\n",
              " {'ALEGRIA': 0.999238133430481, 'MEDO': 4.539786823443137e-05},\n",
              " {'ALEGRIA': 0.9996336698532104, 'MEDO': 4.539786823443137e-05},\n",
              " {'ALEGRIA': 0.9996747970581055, 'MEDO': 4.539786823443137e-05},\n",
              " {'ALEGRIA': 0.9994732737541199, 'MEDO': 4.539786823443137e-05},\n",
              " {'ALEGRIA': 0.999666690826416, 'MEDO': 4.539786823443137e-05},\n",
              " {'ALEGRIA': 0.999138355255127, 'MEDO': 4.539786823443137e-05},\n",
              " {'ALEGRIA': 0.9999332427978516, 'MEDO': 4.539786823443137e-05},\n",
              " {'ALEGRIA': 0.999190628528595, 'MEDO': 4.539786823443137e-05},\n",
              " {'ALEGRIA': 0.9994736313819885, 'MEDO': 4.539786823443137e-05},\n",
              " {'ALEGRIA': 0.9992907047271729, 'MEDO': 4.539786823443137e-05},\n",
              " {'ALEGRIA': 0.9993897676467896, 'MEDO': 4.539786823443137e-05},\n",
              " {'ALEGRIA': 0.9997091889381409, 'MEDO': 4.539786823443137e-05},\n",
              " {'ALEGRIA': 0.9995346069335938, 'MEDO': 4.539786823443137e-05},\n",
              " {'ALEGRIA': 0.9997571110725403, 'MEDO': 4.539786823443137e-05},\n",
              " {'ALEGRIA': 0.9996894598007202, 'MEDO': 4.539786823443137e-05},\n",
              " {'ALEGRIA': 0.9992806315422058, 'MEDO': 4.539786823443137e-05},\n",
              " {'ALEGRIA': 0.9995049238204956, 'MEDO': 4.539786823443137e-05},\n",
              " {'ALEGRIA': 0.9995408058166504, 'MEDO': 4.539786823443137e-05},\n",
              " {'ALEGRIA': 0.9998363256454468, 'MEDO': 4.539786823443137e-05},\n",
              " {'ALEGRIA': 0.9997448325157166, 'MEDO': 4.539786823443137e-05},\n",
              " {'ALEGRIA': 0.9997063279151917, 'MEDO': 4.539786823443137e-05},\n",
              " {'ALEGRIA': 0.9995505213737488, 'MEDO': 4.539786823443137e-05},\n",
              " {'ALEGRIA': 0.9998774528503418, 'MEDO': 4.539786823443137e-05},\n",
              " {'ALEGRIA': 0.9995612502098083, 'MEDO': 4.539786823443137e-05},\n",
              " {'ALEGRIA': 0.9996138215065002, 'MEDO': 4.539786823443137e-05},\n",
              " {'ALEGRIA': 0.9994043111801147, 'MEDO': 4.539786823443137e-05},\n",
              " {'ALEGRIA': 0.9996776580810547, 'MEDO': 4.539786823443137e-05},\n",
              " {'ALEGRIA': 0.9995279312133789, 'MEDO': 4.539786823443137e-05},\n",
              " {'ALEGRIA': 0.9994083642959595, 'MEDO': 4.539786823443137e-05},\n",
              " {'ALEGRIA': 0.9997592568397522, 'MEDO': 4.539786823443137e-05},\n",
              " {'ALEGRIA': 0.9997243285179138, 'MEDO': 4.539786823443137e-05},\n",
              " {'ALEGRIA': 0.9997069239616394, 'MEDO': 4.539786823443137e-05},\n",
              " {'ALEGRIA': 0.9998219609260559, 'MEDO': 4.539786823443137e-05},\n",
              " {'ALEGRIA': 0.999626874923706, 'MEDO': 4.539786823443137e-05},\n",
              " {'ALEGRIA': 0.9996849298477173, 'MEDO': 4.539786823443137e-05},\n",
              " {'ALEGRIA': 0.999663233757019, 'MEDO': 4.539786823443137e-05},\n",
              " {'ALEGRIA': 0.9994214773178101, 'MEDO': 4.539786823443137e-05},\n",
              " {'ALEGRIA': 0.9995980858802795, 'MEDO': 4.539786823443137e-05},\n",
              " {'ALEGRIA': 0.9995736479759216, 'MEDO': 4.539786823443137e-05},\n",
              " {'ALEGRIA': 0.9998241066932678, 'MEDO': 4.539786823443137e-05},\n",
              " {'ALEGRIA': 7.966943667270243e-05, 'MEDO': 0.9999545812606812},\n",
              " {'ALEGRIA': 0.00041589225293137133, 'MEDO': 0.9999545812606812},\n",
              " {'ALEGRIA': 0.00014745369844604284, 'MEDO': 0.9999545812606812},\n",
              " {'ALEGRIA': 0.00035528428270481527, 'MEDO': 0.9999545812606812},\n",
              " {'ALEGRIA': 0.00013327112537808716, 'MEDO': 0.9999545812606812},\n",
              " {'ALEGRIA': 0.0006115474388934672, 'MEDO': 0.9999545812606812},\n",
              " {'ALEGRIA': 0.00046482260222546756, 'MEDO': 0.9999545812606812},\n",
              " {'ALEGRIA': 0.0006562977796420455, 'MEDO': 0.9999545812606812},\n",
              " {'ALEGRIA': 0.0006064435001462698, 'MEDO': 0.9999545812606812},\n",
              " {'ALEGRIA': 0.00044549733866006136, 'MEDO': 0.9999545812606812},\n",
              " {'ALEGRIA': 0.00023245287593454123, 'MEDO': 0.9999545812606812},\n",
              " {'ALEGRIA': 0.0005220075836405158, 'MEDO': 0.9999545812606812},\n",
              " {'ALEGRIA': 0.0004859968612436205, 'MEDO': 0.9999545812606812},\n",
              " {'ALEGRIA': 0.0005415520281530917, 'MEDO': 0.9999545812606812},\n",
              " {'ALEGRIA': 0.0003971375699620694, 'MEDO': 0.9999545812606812},\n",
              " {'ALEGRIA': 0.00023709416564088315, 'MEDO': 0.9999545812606812},\n",
              " {'ALEGRIA': 0.00037146598333492875, 'MEDO': 0.9999545812606812},\n",
              " {'ALEGRIA': 0.0003538796154316515, 'MEDO': 0.9999545812606812},\n",
              " {'ALEGRIA': 0.0006487008067779243, 'MEDO': 0.9999545812606812},\n",
              " {'ALEGRIA': 7.477424514945596e-05, 'MEDO': 0.9999545812606812},\n",
              " {'ALEGRIA': 0.000334502081386745, 'MEDO': 0.9999545812606812},\n",
              " {'ALEGRIA': 0.00024468122865073383, 'MEDO': 0.9999545812606812},\n",
              " {'ALEGRIA': 0.0002476143417879939, 'MEDO': 0.9999545812606812},\n",
              " {'ALEGRIA': 0.00036497018299996853, 'MEDO': 0.9999545812606812},\n",
              " {'ALEGRIA': 0.0001504353858763352, 'MEDO': 0.9999545812606812},\n",
              " {'ALEGRIA': 0.000771788414567709, 'MEDO': 0.9999545812606812},\n",
              " {'ALEGRIA': 0.00039283602382056415, 'MEDO': 0.9999545812606812},\n",
              " {'ALEGRIA': 0.0006562783964909613, 'MEDO': 0.9999545812606812},\n",
              " {'ALEGRIA': 0.000141120923217386, 'MEDO': 0.9999545812606812},\n",
              " {'ALEGRIA': 0.00048500136472284794, 'MEDO': 0.9999545812606812},\n",
              " {'ALEGRIA': 5.544512896449305e-05, 'MEDO': 0.9999545812606812},\n",
              " {'ALEGRIA': 0.0005432472680695355, 'MEDO': 0.9999545812606812},\n",
              " {'ALEGRIA': 0.0006376884994097054, 'MEDO': 0.9999545812606812},\n",
              " {'ALEGRIA': 0.00034625804983079433, 'MEDO': 0.9999545812606812},\n",
              " {'ALEGRIA': 0.00024234718875959516, 'MEDO': 0.9999545812606812},\n",
              " {'ALEGRIA': 0.0007302798912860453, 'MEDO': 0.9999545812606812},\n",
              " {'ALEGRIA': 0.0002955848758574575, 'MEDO': 0.9999545812606812},\n",
              " {'ALEGRIA': 0.00022665598953608423, 'MEDO': 0.9999545812606812},\n",
              " {'ALEGRIA': 0.0004073600866831839, 'MEDO': 0.9999545812606812},\n",
              " {'ALEGRIA': 0.00010431176633574069, 'MEDO': 0.9999545812606812},\n",
              " {'ALEGRIA': 0.0006134447176009417, 'MEDO': 0.9999545812606812},\n",
              " {'ALEGRIA': 0.00062949099810794, 'MEDO': 0.9999545812606812},\n",
              " {'ALEGRIA': 0.0007289400673471391, 'MEDO': 0.9999545812606812},\n",
              " {'ALEGRIA': 0.0004175783833488822, 'MEDO': 0.9999545812606812},\n",
              " {'ALEGRIA': 0.00029198298580013216, 'MEDO': 0.9999545812606812},\n",
              " {'ALEGRIA': 0.0004377143632154912, 'MEDO': 0.9999545812606812},\n",
              " {'ALEGRIA': 0.00040874077240005136, 'MEDO': 0.9999545812606812},\n",
              " {'ALEGRIA': 0.000617541023530066, 'MEDO': 0.9999545812606812},\n",
              " {'ALEGRIA': 0.0003723700938280672, 'MEDO': 0.9999545812606812},\n",
              " {'ALEGRIA': 0.0002037779486272484, 'MEDO': 0.9999545812606812},\n",
              " {'ALEGRIA': 0.00017272219702135772, 'MEDO': 0.9999545812606812},\n",
              " {'ALEGRIA': 0.00042197052971459925, 'MEDO': 0.9999545812606812},\n",
              " {'ALEGRIA': 0.0003342546697240323, 'MEDO': 0.9999545812606812},\n",
              " {'ALEGRIA': 0.0004761478630825877, 'MEDO': 0.9999545812606812},\n",
              " {'ALEGRIA': 0.00033321650698781013, 'MEDO': 0.9999545812606812},\n",
              " {'ALEGRIA': 0.00014188137720339, 'MEDO': 0.9999545812606812},\n",
              " {'ALEGRIA': 0.00020651143859140575, 'MEDO': 0.9999545812606812},\n",
              " {'ALEGRIA': 0.0001572865148773417, 'MEDO': 0.9999545812606812},\n",
              " {'ALEGRIA': 0.000505980511661619, 'MEDO': 0.9999545812606812},\n",
              " {'ALEGRIA': 0.00026597859687171876, 'MEDO': 0.9999545812606812},\n",
              " {'ALEGRIA': 0.0002841121458914131, 'MEDO': 0.9999545812606812},\n",
              " {'ALEGRIA': 0.00036312660085968673, 'MEDO': 0.9999545812606812},\n",
              " {'ALEGRIA': 0.0003455548139754683, 'MEDO': 0.9999545812606812},\n",
              " {'ALEGRIA': 0.0003983708447776735, 'MEDO': 0.9999545812606812},\n",
              " {'ALEGRIA': 0.0009093895205296576, 'MEDO': 0.9999545812606812},\n",
              " {'ALEGRIA': 0.0005857825162820518, 'MEDO': 0.9999545812606812},\n",
              " {'ALEGRIA': 0.00040271226316690445, 'MEDO': 0.9999545812606812},\n",
              " {'ALEGRIA': 0.001471276511438191, 'MEDO': 0.9999545812606812},\n",
              " {'ALEGRIA': 0.0005335204186849296, 'MEDO': 0.9999545812606812},\n",
              " {'ALEGRIA': 0.00011803529923781753, 'MEDO': 0.9999545812606812},\n",
              " {'ALEGRIA': 0.0008889493765309453, 'MEDO': 0.9999545812606812},\n",
              " {'ALEGRIA': 0.0005438642692752182, 'MEDO': 0.9999545812606812},\n",
              " {'ALEGRIA': 0.0004407658998388797, 'MEDO': 0.9999545812606812},\n",
              " {'ALEGRIA': 0.0002408478467259556, 'MEDO': 0.9999545812606812},\n",
              " {'ALEGRIA': 0.00037343925214372575, 'MEDO': 0.9999545812606812},\n",
              " {'ALEGRIA': 0.00048766439431346953, 'MEDO': 0.9999545812606812},\n",
              " {'ALEGRIA': 0.0006075722631067038, 'MEDO': 0.9999545812606812},\n",
              " {'ALEGRIA': 0.000508796249050647, 'MEDO': 0.9999545812606812},\n",
              " {'ALEGRIA': 0.00039531977381557226, 'MEDO': 0.9999545812606812},\n",
              " {'ALEGRIA': 0.0006559626199305058, 'MEDO': 0.9999545812606812},\n",
              " {'ALEGRIA': 0.0005526274908334017, 'MEDO': 0.9999545812606812},\n",
              " {'ALEGRIA': 0.0005382461822591722, 'MEDO': 0.9999545812606812},\n",
              " {'ALEGRIA': 0.00019869694369845092, 'MEDO': 0.9999545812606812},\n",
              " {'ALEGRIA': 0.0005870109307579696, 'MEDO': 0.9999545812606812}]"
            ]
          },
          "metadata": {},
          "execution_count": 124
        }
      ]
    },
    {
      "cell_type": "code",
      "metadata": {
        "id": "78FW_puXojYS"
      },
      "source": [
        "previsoes_final = []\n",
        "for predict in previsoes:\n",
        "  if predict['ALEGRIA'] > predict['MEDO']:\n",
        "    previsoes_final.append('alegria')\n",
        "  else:\n",
        "    previsoes_final.append('medo')\n",
        "    \n",
        "previsoes_final = np.array(previsoes_final)"
      ],
      "execution_count": 125,
      "outputs": []
    },
    {
      "cell_type": "code",
      "metadata": {
        "colab": {
          "base_uri": "https://localhost:8080/"
        },
        "id": "8mrEE7Ljp_Mu",
        "outputId": "942b667e-c52a-448b-8118-ab9fa4e26f6b"
      },
      "source": [
        "previsoes_final"
      ],
      "execution_count": 126,
      "outputs": [
        {
          "output_type": "execute_result",
          "data": {
            "text/plain": [
              "array(['alegria', 'alegria', 'alegria', 'alegria', 'alegria', 'alegria',\n",
              "       'alegria', 'alegria', 'alegria', 'alegria', 'alegria', 'alegria',\n",
              "       'alegria', 'alegria', 'alegria', 'alegria', 'alegria', 'alegria',\n",
              "       'alegria', 'alegria', 'alegria', 'alegria', 'alegria', 'alegria',\n",
              "       'alegria', 'alegria', 'alegria', 'alegria', 'alegria', 'alegria',\n",
              "       'alegria', 'alegria', 'alegria', 'alegria', 'alegria', 'alegria',\n",
              "       'alegria', 'alegria', 'alegria', 'alegria', 'alegria', 'alegria',\n",
              "       'alegria', 'alegria', 'alegria', 'alegria', 'alegria', 'alegria',\n",
              "       'alegria', 'alegria', 'alegria', 'alegria', 'alegria', 'alegria',\n",
              "       'alegria', 'alegria', 'alegria', 'alegria', 'alegria', 'alegria',\n",
              "       'alegria', 'alegria', 'alegria', 'alegria', 'alegria', 'alegria',\n",
              "       'alegria', 'alegria', 'alegria', 'alegria', 'alegria', 'alegria',\n",
              "       'alegria', 'alegria', 'alegria', 'alegria', 'alegria', 'alegria',\n",
              "       'alegria', 'alegria', 'alegria', 'alegria', 'alegria', 'alegria',\n",
              "       'alegria', 'alegria', 'alegria', 'alegria', 'alegria', 'alegria',\n",
              "       'alegria', 'alegria', 'alegria', 'alegria', 'alegria', 'alegria',\n",
              "       'alegria', 'alegria', 'alegria', 'alegria', 'alegria', 'alegria',\n",
              "       'alegria', 'alegria', 'alegria', 'alegria', 'alegria', 'alegria',\n",
              "       'alegria', 'alegria', 'alegria', 'alegria', 'medo', 'medo', 'medo',\n",
              "       'medo', 'medo', 'medo', 'medo', 'medo', 'medo', 'medo', 'medo',\n",
              "       'medo', 'medo', 'medo', 'medo', 'medo', 'medo', 'medo', 'medo',\n",
              "       'medo', 'medo', 'medo', 'medo', 'medo', 'medo', 'medo', 'medo',\n",
              "       'medo', 'medo', 'medo', 'medo', 'medo', 'medo', 'medo', 'medo',\n",
              "       'medo', 'medo', 'medo', 'medo', 'medo', 'medo', 'medo', 'medo',\n",
              "       'medo', 'medo', 'medo', 'medo', 'medo', 'medo', 'medo', 'medo',\n",
              "       'medo', 'medo', 'medo', 'medo', 'medo', 'medo', 'medo', 'medo',\n",
              "       'medo', 'medo', 'medo', 'medo', 'medo', 'medo', 'medo', 'medo',\n",
              "       'medo', 'medo', 'medo', 'medo', 'medo', 'medo', 'medo', 'medo',\n",
              "       'medo', 'medo', 'medo', 'medo', 'medo', 'medo', 'medo', 'medo',\n",
              "       'medo'], dtype='<U7')"
            ]
          },
          "metadata": {},
          "execution_count": 126
        }
      ]
    },
    {
      "cell_type": "code",
      "metadata": {
        "colab": {
          "base_uri": "https://localhost:8080/"
        },
        "id": "ckU-1gaqnKpo",
        "outputId": "9620b21b-d4dd-4529-866f-f93d4a0560cf"
      },
      "source": [
        "respostas_reais = base_dados['emocao'].values\n",
        "respostas_reais"
      ],
      "execution_count": 127,
      "outputs": [
        {
          "output_type": "execute_result",
          "data": {
            "text/plain": [
              "array(['alegria', 'alegria', 'alegria', 'alegria', 'alegria', 'alegria',\n",
              "       'alegria', 'alegria', 'alegria', 'alegria', 'alegria', 'alegria',\n",
              "       'alegria', 'alegria', 'alegria', 'alegria', 'alegria', 'alegria',\n",
              "       'alegria', 'alegria', 'alegria', 'alegria', 'alegria', 'alegria',\n",
              "       'alegria', 'alegria', 'alegria', 'alegria', 'alegria', 'alegria',\n",
              "       'alegria', 'alegria', 'alegria', 'alegria', 'alegria', 'alegria',\n",
              "       'alegria', 'alegria', 'alegria', 'alegria', 'alegria', 'alegria',\n",
              "       'alegria', 'alegria', 'alegria', 'alegria', 'alegria', 'alegria',\n",
              "       'alegria', 'alegria', 'alegria', 'alegria', 'alegria', 'alegria',\n",
              "       'alegria', 'alegria', 'alegria', 'alegria', 'alegria', 'alegria',\n",
              "       'alegria', 'alegria', 'alegria', 'alegria', 'alegria', 'alegria',\n",
              "       'alegria', 'alegria', 'alegria', 'alegria', 'alegria', 'alegria',\n",
              "       'alegria', 'alegria', 'alegria', 'alegria', 'alegria', 'alegria',\n",
              "       'alegria', 'alegria', 'alegria', 'alegria', 'alegria', 'alegria',\n",
              "       'alegria', 'alegria', 'alegria', 'alegria', 'alegria', 'alegria',\n",
              "       'alegria', 'alegria', 'alegria', 'alegria', 'alegria', 'alegria',\n",
              "       'alegria', 'alegria', 'alegria', 'alegria', 'alegria', 'alegria',\n",
              "       'alegria', 'alegria', 'alegria', 'alegria', 'alegria', 'alegria',\n",
              "       'alegria', 'alegria', 'alegria', 'alegria', 'medo', 'medo', 'medo',\n",
              "       'medo', 'medo', 'medo', 'medo', 'medo', 'medo', 'medo', 'medo',\n",
              "       'medo', 'medo', 'medo', 'medo', 'medo', 'medo', 'medo', 'medo',\n",
              "       'medo', 'medo', 'medo', 'medo', 'medo', 'medo', 'medo', 'medo',\n",
              "       'medo', 'medo', 'medo', 'medo', 'medo', 'medo', 'medo', 'medo',\n",
              "       'medo', 'medo', 'medo', 'medo', 'medo', 'medo', 'medo', 'medo',\n",
              "       'medo', 'medo', 'medo', 'medo', 'medo', 'medo', 'medo', 'medo',\n",
              "       'medo', 'medo', 'medo', 'medo', 'medo', 'medo', 'medo', 'medo',\n",
              "       'medo', 'medo', 'medo', 'medo', 'medo', 'medo', 'medo', 'medo',\n",
              "       'medo', 'medo', 'medo', 'medo', 'medo', 'medo', 'medo', 'medo',\n",
              "       'medo', 'medo', 'medo', 'medo', 'medo', 'medo', 'medo', 'medo',\n",
              "       'medo'], dtype=object)"
            ]
          },
          "metadata": {},
          "execution_count": 127
        }
      ]
    },
    {
      "cell_type": "markdown",
      "metadata": {
        "id": "w3H6f0WIrckY"
      },
      "source": [
        "agora vamos comparar e ver a acurácia"
      ]
    },
    {
      "cell_type": "code",
      "metadata": {
        "id": "be46kkrmrfQH"
      },
      "source": [
        "from sklearn.metrics import confusion_matrix, accuracy_score"
      ],
      "execution_count": 129,
      "outputs": []
    },
    {
      "cell_type": "code",
      "metadata": {
        "colab": {
          "base_uri": "https://localhost:8080/"
        },
        "id": "IZuCaZ2Rr4ja",
        "outputId": "4ea098f2-2c98-4e36-cbc6-4dd9bb50f96e"
      },
      "source": [
        "accuracy_score(previsoes_final, respostas_reais)"
      ],
      "execution_count": 130,
      "outputs": [
        {
          "output_type": "execute_result",
          "data": {
            "text/plain": [
              "1.0"
            ]
          },
          "metadata": {},
          "execution_count": 130
        }
      ]
    },
    {
      "cell_type": "markdown",
      "metadata": {
        "id": "NFVZAIbQsZn0"
      },
      "source": [
        "100% de acerto!! isso deve indicar um OVERFITTING"
      ]
    },
    {
      "cell_type": "code",
      "metadata": {
        "colab": {
          "base_uri": "https://localhost:8080/"
        },
        "id": "S4o2N4Njsv21",
        "outputId": "62441dca-9474-4e5a-ed31-4b844eae975e"
      },
      "source": [
        "cm = confusion_matrix(respostas_reais, previsoes_final)\n",
        "cm\n",
        "                  "
      ],
      "execution_count": 131,
      "outputs": [
        {
          "output_type": "execute_result",
          "data": {
            "text/plain": [
              "array([[112,   0],\n",
              "       [  0,  84]])"
            ]
          },
          "metadata": {},
          "execution_count": 131
        }
      ]
    },
    {
      "cell_type": "code",
      "metadata": {
        "id": "mGaQxv4fsbhL"
      },
      "source": [
        "# AVALIAÇÃO NA BASE TESTE\n",
        "\n",
        "base_dados_teste = pd.read_csv('/content/base_teste.txt', encoding= 'utf-8')\n",
        "\n"
      ],
      "execution_count": 134,
      "outputs": []
    },
    {
      "cell_type": "code",
      "metadata": {
        "colab": {
          "base_uri": "https://localhost:8080/",
          "height": 206
        },
        "id": "1geNJ4FAtcJ9",
        "outputId": "c86949b9-f27c-492a-f9df-8a06a4691c72"
      },
      "source": [
        "base_dados_teste.head()"
      ],
      "execution_count": 136,
      "outputs": [
        {
          "output_type": "execute_result",
          "data": {
            "text/html": [
              "<div>\n",
              "<style scoped>\n",
              "    .dataframe tbody tr th:only-of-type {\n",
              "        vertical-align: middle;\n",
              "    }\n",
              "\n",
              "    .dataframe tbody tr th {\n",
              "        vertical-align: top;\n",
              "    }\n",
              "\n",
              "    .dataframe thead th {\n",
              "        text-align: right;\n",
              "    }\n",
              "</style>\n",
              "<table border=\"1\" class=\"dataframe\">\n",
              "  <thead>\n",
              "    <tr style=\"text-align: right;\">\n",
              "      <th></th>\n",
              "      <th>texto</th>\n",
              "      <th>emocao</th>\n",
              "    </tr>\n",
              "  </thead>\n",
              "  <tbody>\n",
              "    <tr>\n",
              "      <th>0</th>\n",
              "      <td>não precisei pagar o ingresso</td>\n",
              "      <td>alegria</td>\n",
              "    </tr>\n",
              "    <tr>\n",
              "      <th>1</th>\n",
              "      <td>se eu ajeitar tudo fica bem</td>\n",
              "      <td>alegria</td>\n",
              "    </tr>\n",
              "    <tr>\n",
              "      <th>2</th>\n",
              "      <td>minha fortuna ultrapassará a sua</td>\n",
              "      <td>alegria</td>\n",
              "    </tr>\n",
              "    <tr>\n",
              "      <th>3</th>\n",
              "      <td>sou muito afortunado</td>\n",
              "      <td>alegria</td>\n",
              "    </tr>\n",
              "    <tr>\n",
              "      <th>4</th>\n",
              "      <td>é benéfico para todos esta nova medida</td>\n",
              "      <td>alegria</td>\n",
              "    </tr>\n",
              "  </tbody>\n",
              "</table>\n",
              "</div>"
            ],
            "text/plain": [
              "                                    texto   emocao\n",
              "0           não precisei pagar o ingresso  alegria\n",
              "1             se eu ajeitar tudo fica bem  alegria\n",
              "2        minha fortuna ultrapassará a sua  alegria\n",
              "3                    sou muito afortunado  alegria\n",
              "4  é benéfico para todos esta nova medida  alegria"
            ]
          },
          "metadata": {},
          "execution_count": 136
        }
      ]
    },
    {
      "cell_type": "code",
      "metadata": {
        "id": "KaACdstHtdUw"
      },
      "source": [
        "base_dados_teste['texto'] = base_dados_teste['texto'].apply(preprocessamento)"
      ],
      "execution_count": 137,
      "outputs": []
    },
    {
      "cell_type": "code",
      "metadata": {
        "colab": {
          "base_uri": "https://localhost:8080/",
          "height": 206
        },
        "id": "k-EZQsHZt2vy",
        "outputId": "76b2adc6-b43d-4177-b7eb-8ecd2bbc4c8b"
      },
      "source": [
        "base_dados_teste.head()"
      ],
      "execution_count": 139,
      "outputs": [
        {
          "output_type": "execute_result",
          "data": {
            "text/html": [
              "<div>\n",
              "<style scoped>\n",
              "    .dataframe tbody tr th:only-of-type {\n",
              "        vertical-align: middle;\n",
              "    }\n",
              "\n",
              "    .dataframe tbody tr th {\n",
              "        vertical-align: top;\n",
              "    }\n",
              "\n",
              "    .dataframe thead th {\n",
              "        text-align: right;\n",
              "    }\n",
              "</style>\n",
              "<table border=\"1\" class=\"dataframe\">\n",
              "  <thead>\n",
              "    <tr style=\"text-align: right;\">\n",
              "      <th></th>\n",
              "      <th>texto</th>\n",
              "      <th>emocao</th>\n",
              "    </tr>\n",
              "  </thead>\n",
              "  <tbody>\n",
              "    <tr>\n",
              "      <th>0</th>\n",
              "      <td>precisar pagar o ingressar</td>\n",
              "      <td>alegria</td>\n",
              "    </tr>\n",
              "    <tr>\n",
              "      <th>1</th>\n",
              "      <td>ajeitar ficar</td>\n",
              "      <td>alegria</td>\n",
              "    </tr>\n",
              "    <tr>\n",
              "      <th>2</th>\n",
              "      <td>fortuna ultrapassar o suar</td>\n",
              "      <td>alegria</td>\n",
              "    </tr>\n",
              "    <tr>\n",
              "      <th>3</th>\n",
              "      <td>afortunar</td>\n",
              "      <td>alegria</td>\n",
              "    </tr>\n",
              "    <tr>\n",
              "      <th>4</th>\n",
              "      <td>benéfico parir medir</td>\n",
              "      <td>alegria</td>\n",
              "    </tr>\n",
              "  </tbody>\n",
              "</table>\n",
              "</div>"
            ],
            "text/plain": [
              "                        texto   emocao\n",
              "0  precisar pagar o ingressar  alegria\n",
              "1               ajeitar ficar  alegria\n",
              "2  fortuna ultrapassar o suar  alegria\n",
              "3                   afortunar  alegria\n",
              "4        benéfico parir medir  alegria"
            ]
          },
          "metadata": {},
          "execution_count": 139
        }
      ]
    },
    {
      "cell_type": "code",
      "metadata": {
        "colab": {
          "base_uri": "https://localhost:8080/"
        },
        "id": "EdvmcjiOt3w5",
        "outputId": "c8cfb5f5-e542-489b-d1db-1f2cd51331ce"
      },
      "source": [
        "previsoes = []\n",
        "for texto in base_dados_teste['texto']:\n",
        "  print(texto)\n",
        "  predict = modelo_carregado(texto)\n",
        "  previsoes.append(predict.cats)"
      ],
      "execution_count": 141,
      "outputs": [
        {
          "output_type": "stream",
          "name": "stdout",
          "text": [
            "precisar pagar o ingressar\n",
            "ajeitar ficar\n",
            "fortuna ultrapassar o suar\n",
            "afortunar\n",
            "benéfico parir medir\n",
            "ficar lindar\n",
            "achar sapato simpático\n",
            "ansioso pelar suar chegar\n",
            "congratulação pelar aniversário\n",
            "delicadamente o colocar parir dormir\n",
            "o músico lindo\n",
            "músico viver\n",
            "concluir umar tarefar difícil\n",
            "concluir graduação\n",
            "contentar\n",
            "confiar\n",
            "prazer conhecê-lo\n",
            "o coleguismo animador\n",
            "aproveitar o féria\n",
            "aproveitar o féria\n",
            "divertir jogar\n",
            "diversão\n",
            "achar divertir\n",
            "consentir o orçamentar o o cliente\n",
            "o consentimento pai o casar\n",
            "adorar perfumar\n",
            "suar bondade cativante\n",
            "despreocupar\n",
            "preocupar o acontecer\n",
            "sentir completamente seguro\n",
            "estimar o trabalhar\n",
            "estimar família\n",
            "concretizar idear\n",
            "ideal alcançar\n",
            "feliz junto\n",
            "animar o preparativo parir o casamentar\n",
            "amar filhar\n",
            "o apaixonar sãoo maravilhoso\n",
            "agradecer imensamente o apoiar n dia\n",
            "comido parecer atraente\n",
            "completar\n",
            "completar o projeto hoje\n",
            "namorar\n",
            "namorar vestir o\n",
            "comprar celular hoje\n",
            "e deleitar compartilhar vitória\n",
            "garoto\n",
            "estivar útimo show\n",
            "abominável monstro\n",
            "alarmar o sobrar o situação\n",
            "amedrontar\n",
            "medo noite\n",
            "ameaçar o dia\n",
            "quantum angústia\n",
            "angustiar\n",
            "angustiadamente sair casar\n",
            "deixar apavorar\n",
            "apavorar\n",
            "desconfiar\n",
            "confiar\n",
            "atar o cachorro apavorar\n",
            "assustar o atitude colega\n",
            "sentir humilhar apavorar\n",
            "assustar o população e provocar morte\n",
            "dificuldade parir respirar e assustar\n",
            "o policiar assustar o carro capotar\n",
            "o trabalhador assombrar pelar temor desempregar\n",
            "assombrar\n",
            "assombrar pelar crise financeiro\n",
            "aterrorizar lembrar\n",
            "aterrorizar e suar frio\n",
            "grupar elefante selvagem aterrorizar vila\n",
            "sentir intimidar pelar suar presença\n",
            "medo advertir novamente\n",
            "correr o riscar advertir\n",
            "correr risco\n",
            "o risco real\n",
            "perder dinheiro investir\n",
            "socorrer intimar o depor\n",
            "notificar e medo perder o guardar filho\n",
            "angustiar filho o ruir\n",
            "e abominável o o animar\n",
            "terrível o tigre quase o matar\n",
            "advertir sobrar\n"
          ]
        }
      ]
    },
    {
      "cell_type": "code",
      "metadata": {
        "id": "xVBvqFe-ugdu"
      },
      "source": [
        "previsoes_final = []\n",
        "for predict in previsoes:\n",
        "  if predict['ALEGRIA'] > predict['MEDO']:\n",
        "    previsoes_final.append('alegria')\n",
        "  else:\n",
        "    previsoes_final.append('medo')\n",
        "    \n",
        "previsoes_final = np.array(previsoes_final)"
      ],
      "execution_count": 142,
      "outputs": []
    },
    {
      "cell_type": "code",
      "metadata": {
        "colab": {
          "base_uri": "https://localhost:8080/"
        },
        "id": "Lr_n3lERutDW",
        "outputId": "eb16c9b0-e053-4371-bd2e-a34966bebf5a"
      },
      "source": [
        "respostas_reais = base_dados_teste['emocao'].values\n",
        "respostas_reais"
      ],
      "execution_count": 144,
      "outputs": [
        {
          "output_type": "execute_result",
          "data": {
            "text/plain": [
              "array(['alegria', 'alegria', 'alegria', 'alegria', 'alegria', 'alegria',\n",
              "       'alegria', 'alegria', 'alegria', 'alegria', 'alegria', 'alegria',\n",
              "       'alegria', 'alegria', 'alegria', 'alegria', 'alegria', 'alegria',\n",
              "       'alegria', 'alegria', 'alegria', 'alegria', 'alegria', 'alegria',\n",
              "       'alegria', 'alegria', 'alegria', 'alegria', 'alegria', 'alegria',\n",
              "       'alegria', 'alegria', 'alegria', 'alegria', 'alegria', 'alegria',\n",
              "       'alegria', 'alegria', 'alegria', 'alegria', 'alegria', 'alegria',\n",
              "       'alegria', 'alegria', 'alegria', 'alegria', 'alegria', 'alegria',\n",
              "       'medo', 'medo', 'medo', 'medo', 'medo', 'medo', 'medo', 'medo',\n",
              "       'medo', 'medo', 'medo', 'medo', 'medo', 'medo', 'medo', 'medo',\n",
              "       'medo', 'medo', 'medo', 'medo', 'medo', 'medo', 'medo', 'medo',\n",
              "       'medo', 'medo', 'medo', 'medo', 'medo', 'medo', 'medo', 'medo',\n",
              "       'medo', 'medo', 'medo', 'medo'], dtype=object)"
            ]
          },
          "metadata": {},
          "execution_count": 144
        }
      ]
    },
    {
      "cell_type": "code",
      "metadata": {
        "colab": {
          "base_uri": "https://localhost:8080/"
        },
        "id": "-Vuk1N86uzWG",
        "outputId": "7f64c4e3-c0a6-4fd3-a964-5ac58d4c4c1b"
      },
      "source": [
        "from sklearn.metrics import confusion_matrix, accuracy_score\n",
        "accuracy_score(respostas_reais, previsoes_final)"
      ],
      "execution_count": 145,
      "outputs": [
        {
          "output_type": "execute_result",
          "data": {
            "text/plain": [
              "0.6071428571428571"
            ]
          },
          "metadata": {},
          "execution_count": 145
        }
      ]
    },
    {
      "cell_type": "markdown",
      "metadata": {
        "id": "PtcVReRDvJZ2"
      },
      "source": [
        "ou seja, sofremos de OVERFITTING mesmo, treino perfeito demais, que o teste falha um tanto consideravel, poderiamos alterar no datset para aumentar os dados e assim o modelo não conseguir absorver tudo no treino, e assim equilibrar as etapas ou então podemos trocar de algoritimos "
      ]
    },
    {
      "cell_type": "code",
      "metadata": {
        "colab": {
          "base_uri": "https://localhost:8080/"
        },
        "id": "W0HUUwkdvGOU",
        "outputId": "a6a3b241-99ef-4108-de33-dc55aac7036b"
      },
      "source": [
        "cm = confusion_matrix(respostas_reais, previsoes_final)\n",
        "cm"
      ],
      "execution_count": 146,
      "outputs": [
        {
          "output_type": "execute_result",
          "data": {
            "text/plain": [
              "array([[35, 13],\n",
              "       [20, 16]])"
            ]
          },
          "metadata": {},
          "execution_count": 146
        }
      ]
    }
  ]
}