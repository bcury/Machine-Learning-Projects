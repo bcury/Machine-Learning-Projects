{
  "nbformat": 4,
  "nbformat_minor": 0,
  "metadata": {
    "colab": {
      "name": "ML_spark_Clusterização_K-Means",
      "provenance": [],
      "collapsed_sections": [],
      "authorship_tag": "ABX9TyM6KOKr/O+7h5ydKq5PbyaI",
      "include_colab_link": true
    },
    "kernelspec": {
      "name": "python3",
      "display_name": "Python 3"
    },
    "language_info": {
      "name": "python"
    }
  },
  "cells": [
    {
      "cell_type": "markdown",
      "metadata": {
        "id": "view-in-github",
        "colab_type": "text"
      },
      "source": [
        "<a href=\"https://colab.research.google.com/github/bcury/Machine-Learning-Projects/blob/main/ML_spark_Clusteriza%C3%A7%C3%A3o_K_Means.ipynb\" target=\"_parent\"><img src=\"https://colab.research.google.com/assets/colab-badge.svg\" alt=\"Open In Colab\"/></a>"
      ]
    },
    {
      "cell_type": "code",
      "execution_count": 1,
      "metadata": {
        "colab": {
          "base_uri": "https://localhost:8080/"
        },
        "id": "FAZCaXgpZX1S",
        "outputId": "01f3d224-ee90-4649-ef83-75ed3956b1f1"
      },
      "outputs": [
        {
          "output_type": "stream",
          "name": "stdout",
          "text": [
            "Looking in indexes: https://pypi.org/simple, https://us-python.pkg.dev/colab-wheels/public/simple/\n",
            "Collecting pyspark\n",
            "  Downloading pyspark-3.2.1.tar.gz (281.4 MB)\n",
            "\u001b[K     |████████████████████████████████| 281.4 MB 34 kB/s \n",
            "\u001b[?25hCollecting py4j==0.10.9.3\n",
            "  Downloading py4j-0.10.9.3-py2.py3-none-any.whl (198 kB)\n",
            "\u001b[K     |████████████████████████████████| 198 kB 55.1 MB/s \n",
            "\u001b[?25hBuilding wheels for collected packages: pyspark\n",
            "  Building wheel for pyspark (setup.py) ... \u001b[?25l\u001b[?25hdone\n",
            "  Created wheel for pyspark: filename=pyspark-3.2.1-py2.py3-none-any.whl size=281853642 sha256=4d91cfc80a1627166ae8cc1cc7e79bd4523162188eb5e1b57614f80accfdedb8\n",
            "  Stored in directory: /root/.cache/pip/wheels/9f/f5/07/7cd8017084dce4e93e84e92efd1e1d5334db05f2e83bcef74f\n",
            "Successfully built pyspark\n",
            "Installing collected packages: py4j, pyspark\n",
            "Successfully installed py4j-0.10.9.3 pyspark-3.2.1\n"
          ]
        }
      ],
      "source": [
        "pip install pyspark"
      ]
    },
    {
      "cell_type": "code",
      "source": [
        "pip install findspark"
      ],
      "metadata": {
        "colab": {
          "base_uri": "https://localhost:8080/"
        },
        "id": "NJ3RfezKZ13f",
        "outputId": "a1de1ece-81ea-4e1e-94c6-624af4ac9093"
      },
      "execution_count": 2,
      "outputs": [
        {
          "output_type": "stream",
          "name": "stdout",
          "text": [
            "Looking in indexes: https://pypi.org/simple, https://us-python.pkg.dev/colab-wheels/public/simple/\n",
            "Collecting findspark\n",
            "  Downloading findspark-2.0.1-py2.py3-none-any.whl (4.4 kB)\n",
            "Installing collected packages: findspark\n",
            "Successfully installed findspark-2.0.1\n"
          ]
        }
      ]
    },
    {
      "cell_type": "code",
      "source": [
        "import pyspark, findspark\n",
        "from pyspark.sql import SparkSession\n",
        "findspark.init()\n",
        "spark = SparkSession.builder.appName('Clusterization').getOrCreate()"
      ],
      "metadata": {
        "id": "QlC5WOS0a6Ed"
      },
      "execution_count": 3,
      "outputs": []
    },
    {
      "cell_type": "code",
      "source": [
        "iris = spark.read.csv('iris.csv', inferSchema=True, header=True)\n",
        "iris.show()"
      ],
      "metadata": {
        "colab": {
          "base_uri": "https://localhost:8080/"
        },
        "id": "p70rK40Ha9Pj",
        "outputId": "c9294d14-dfb9-4286-956f-cb361f2643a4"
      },
      "execution_count": 4,
      "outputs": [
        {
          "output_type": "stream",
          "name": "stdout",
          "text": [
            "+-----------+----------+-----------+----------+-----------+\n",
            "|sepallength|sepalwidth|petallength|petalwidth|      class|\n",
            "+-----------+----------+-----------+----------+-----------+\n",
            "|        5.1|       3.5|        1.4|       0.2|Iris-setosa|\n",
            "|        4.9|       3.0|        1.4|       0.2|Iris-setosa|\n",
            "|        4.7|       3.2|        1.3|       0.2|Iris-setosa|\n",
            "|        4.6|       3.1|        1.5|       0.2|Iris-setosa|\n",
            "|        5.0|       3.6|        1.4|       0.2|Iris-setosa|\n",
            "|        5.4|       3.9|        1.7|       0.4|Iris-setosa|\n",
            "|        4.6|       3.4|        1.4|       0.3|Iris-setosa|\n",
            "|        5.0|       3.4|        1.5|       0.2|Iris-setosa|\n",
            "|        4.4|       2.9|        1.4|       0.2|Iris-setosa|\n",
            "|        4.9|       3.1|        1.5|       0.1|Iris-setosa|\n",
            "|        5.4|       3.7|        1.5|       0.2|Iris-setosa|\n",
            "|        4.8|       3.4|        1.6|       0.2|Iris-setosa|\n",
            "|        4.8|       3.0|        1.4|       0.1|Iris-setosa|\n",
            "|        4.3|       3.0|        1.1|       0.1|Iris-setosa|\n",
            "|        5.8|       4.0|        1.2|       0.2|Iris-setosa|\n",
            "|        5.7|       4.4|        1.5|       0.4|Iris-setosa|\n",
            "|        5.4|       3.9|        1.3|       0.4|Iris-setosa|\n",
            "|        5.1|       3.5|        1.4|       0.3|Iris-setosa|\n",
            "|        5.7|       3.8|        1.7|       0.3|Iris-setosa|\n",
            "|        5.1|       3.8|        1.5|       0.3|Iris-setosa|\n",
            "+-----------+----------+-----------+----------+-----------+\n",
            "only showing top 20 rows\n",
            "\n"
          ]
        }
      ]
    },
    {
      "cell_type": "code",
      "source": [
        "from pyspark.ml.clustering import KMeans"
      ],
      "metadata": {
        "id": "Oul2zaZlbV5M"
      },
      "execution_count": 5,
      "outputs": []
    },
    {
      "cell_type": "code",
      "source": [
        "from pyspark.ml.feature import VectorAssembler"
      ],
      "metadata": {
        "id": "hjoqJMIobcqB"
      },
      "execution_count": 6,
      "outputs": []
    },
    {
      "cell_type": "code",
      "source": [
        "asb = VectorAssembler(inputCols=['sepallength','sepalwidth','petallength','petalwidth'], outputCol='features')\n",
        "iris_asb = asb.transform(iris)\n",
        "iris_asb.show()"
      ],
      "metadata": {
        "colab": {
          "base_uri": "https://localhost:8080/"
        },
        "id": "fY8-w_OtborH",
        "outputId": "b710f436-f299-4e92-80eb-2e7477896c3b"
      },
      "execution_count": 8,
      "outputs": [
        {
          "output_type": "stream",
          "name": "stdout",
          "text": [
            "+-----------+----------+-----------+----------+-----------+-----------------+\n",
            "|sepallength|sepalwidth|petallength|petalwidth|      class|         features|\n",
            "+-----------+----------+-----------+----------+-----------+-----------------+\n",
            "|        5.1|       3.5|        1.4|       0.2|Iris-setosa|[5.1,3.5,1.4,0.2]|\n",
            "|        4.9|       3.0|        1.4|       0.2|Iris-setosa|[4.9,3.0,1.4,0.2]|\n",
            "|        4.7|       3.2|        1.3|       0.2|Iris-setosa|[4.7,3.2,1.3,0.2]|\n",
            "|        4.6|       3.1|        1.5|       0.2|Iris-setosa|[4.6,3.1,1.5,0.2]|\n",
            "|        5.0|       3.6|        1.4|       0.2|Iris-setosa|[5.0,3.6,1.4,0.2]|\n",
            "|        5.4|       3.9|        1.7|       0.4|Iris-setosa|[5.4,3.9,1.7,0.4]|\n",
            "|        4.6|       3.4|        1.4|       0.3|Iris-setosa|[4.6,3.4,1.4,0.3]|\n",
            "|        5.0|       3.4|        1.5|       0.2|Iris-setosa|[5.0,3.4,1.5,0.2]|\n",
            "|        4.4|       2.9|        1.4|       0.2|Iris-setosa|[4.4,2.9,1.4,0.2]|\n",
            "|        4.9|       3.1|        1.5|       0.1|Iris-setosa|[4.9,3.1,1.5,0.1]|\n",
            "|        5.4|       3.7|        1.5|       0.2|Iris-setosa|[5.4,3.7,1.5,0.2]|\n",
            "|        4.8|       3.4|        1.6|       0.2|Iris-setosa|[4.8,3.4,1.6,0.2]|\n",
            "|        4.8|       3.0|        1.4|       0.1|Iris-setosa|[4.8,3.0,1.4,0.1]|\n",
            "|        4.3|       3.0|        1.1|       0.1|Iris-setosa|[4.3,3.0,1.1,0.1]|\n",
            "|        5.8|       4.0|        1.2|       0.2|Iris-setosa|[5.8,4.0,1.2,0.2]|\n",
            "|        5.7|       4.4|        1.5|       0.4|Iris-setosa|[5.7,4.4,1.5,0.4]|\n",
            "|        5.4|       3.9|        1.3|       0.4|Iris-setosa|[5.4,3.9,1.3,0.4]|\n",
            "|        5.1|       3.5|        1.4|       0.3|Iris-setosa|[5.1,3.5,1.4,0.3]|\n",
            "|        5.7|       3.8|        1.7|       0.3|Iris-setosa|[5.7,3.8,1.7,0.3]|\n",
            "|        5.1|       3.8|        1.5|       0.3|Iris-setosa|[5.1,3.8,1.5,0.3]|\n",
            "+-----------+----------+-----------+----------+-----------+-----------------+\n",
            "only showing top 20 rows\n",
            "\n"
          ]
        }
      ]
    },
    {
      "cell_type": "code",
      "source": [
        "from pyspark.ml.feature import StringIndexer\n",
        "ind = StringIndexer(inputCol='class',outputCol='classe_transf')\n",
        "iris_asb= ind.fit(iris_asb).transform(iris_asb)\n",
        "iris_asb.show()"
      ],
      "metadata": {
        "colab": {
          "base_uri": "https://localhost:8080/"
        },
        "id": "J23wgK4gbqov",
        "outputId": "b460df47-6d0b-4894-dce7-69adf2ad3cf4"
      },
      "execution_count": 9,
      "outputs": [
        {
          "output_type": "stream",
          "name": "stdout",
          "text": [
            "+-----------+----------+-----------+----------+-----------+-----------------+-------------+\n",
            "|sepallength|sepalwidth|petallength|petalwidth|      class|         features|classe_transf|\n",
            "+-----------+----------+-----------+----------+-----------+-----------------+-------------+\n",
            "|        5.1|       3.5|        1.4|       0.2|Iris-setosa|[5.1,3.5,1.4,0.2]|          0.0|\n",
            "|        4.9|       3.0|        1.4|       0.2|Iris-setosa|[4.9,3.0,1.4,0.2]|          0.0|\n",
            "|        4.7|       3.2|        1.3|       0.2|Iris-setosa|[4.7,3.2,1.3,0.2]|          0.0|\n",
            "|        4.6|       3.1|        1.5|       0.2|Iris-setosa|[4.6,3.1,1.5,0.2]|          0.0|\n",
            "|        5.0|       3.6|        1.4|       0.2|Iris-setosa|[5.0,3.6,1.4,0.2]|          0.0|\n",
            "|        5.4|       3.9|        1.7|       0.4|Iris-setosa|[5.4,3.9,1.7,0.4]|          0.0|\n",
            "|        4.6|       3.4|        1.4|       0.3|Iris-setosa|[4.6,3.4,1.4,0.3]|          0.0|\n",
            "|        5.0|       3.4|        1.5|       0.2|Iris-setosa|[5.0,3.4,1.5,0.2]|          0.0|\n",
            "|        4.4|       2.9|        1.4|       0.2|Iris-setosa|[4.4,2.9,1.4,0.2]|          0.0|\n",
            "|        4.9|       3.1|        1.5|       0.1|Iris-setosa|[4.9,3.1,1.5,0.1]|          0.0|\n",
            "|        5.4|       3.7|        1.5|       0.2|Iris-setosa|[5.4,3.7,1.5,0.2]|          0.0|\n",
            "|        4.8|       3.4|        1.6|       0.2|Iris-setosa|[4.8,3.4,1.6,0.2]|          0.0|\n",
            "|        4.8|       3.0|        1.4|       0.1|Iris-setosa|[4.8,3.0,1.4,0.1]|          0.0|\n",
            "|        4.3|       3.0|        1.1|       0.1|Iris-setosa|[4.3,3.0,1.1,0.1]|          0.0|\n",
            "|        5.8|       4.0|        1.2|       0.2|Iris-setosa|[5.8,4.0,1.2,0.2]|          0.0|\n",
            "|        5.7|       4.4|        1.5|       0.4|Iris-setosa|[5.7,4.4,1.5,0.4]|          0.0|\n",
            "|        5.4|       3.9|        1.3|       0.4|Iris-setosa|[5.4,3.9,1.3,0.4]|          0.0|\n",
            "|        5.1|       3.5|        1.4|       0.3|Iris-setosa|[5.1,3.5,1.4,0.3]|          0.0|\n",
            "|        5.7|       3.8|        1.7|       0.3|Iris-setosa|[5.7,3.8,1.7,0.3]|          0.0|\n",
            "|        5.1|       3.8|        1.5|       0.3|Iris-setosa|[5.1,3.8,1.5,0.3]|          0.0|\n",
            "+-----------+----------+-----------+----------+-----------+-----------------+-------------+\n",
            "only showing top 20 rows\n",
            "\n"
          ]
        }
      ]
    },
    {
      "cell_type": "code",
      "source": [
        "from pyspark.sql.functions import col\n",
        "from pyspark.sql.types import IntegerType"
      ],
      "metadata": {
        "id": "REck82hNcLPr"
      },
      "execution_count": 10,
      "outputs": []
    },
    {
      "cell_type": "markdown",
      "source": [
        "transformar numero em inteiro"
      ],
      "metadata": {
        "id": "E_crDSkadqEb"
      }
    },
    {
      "cell_type": "code",
      "source": [
        "iris_asb = iris_asb.withColumn('classe_transf',iris_asb['classe_transf'].cast(IntegerType()))\n",
        "iris_asb.show()"
      ],
      "metadata": {
        "colab": {
          "base_uri": "https://localhost:8080/"
        },
        "id": "HxgVVKt4c7Ir",
        "outputId": "5b9d639c-b4b9-4c74-be70-ba8933827a06"
      },
      "execution_count": 11,
      "outputs": [
        {
          "output_type": "stream",
          "name": "stdout",
          "text": [
            "+-----------+----------+-----------+----------+-----------+-----------------+-------------+\n",
            "|sepallength|sepalwidth|petallength|petalwidth|      class|         features|classe_transf|\n",
            "+-----------+----------+-----------+----------+-----------+-----------------+-------------+\n",
            "|        5.1|       3.5|        1.4|       0.2|Iris-setosa|[5.1,3.5,1.4,0.2]|            0|\n",
            "|        4.9|       3.0|        1.4|       0.2|Iris-setosa|[4.9,3.0,1.4,0.2]|            0|\n",
            "|        4.7|       3.2|        1.3|       0.2|Iris-setosa|[4.7,3.2,1.3,0.2]|            0|\n",
            "|        4.6|       3.1|        1.5|       0.2|Iris-setosa|[4.6,3.1,1.5,0.2]|            0|\n",
            "|        5.0|       3.6|        1.4|       0.2|Iris-setosa|[5.0,3.6,1.4,0.2]|            0|\n",
            "|        5.4|       3.9|        1.7|       0.4|Iris-setosa|[5.4,3.9,1.7,0.4]|            0|\n",
            "|        4.6|       3.4|        1.4|       0.3|Iris-setosa|[4.6,3.4,1.4,0.3]|            0|\n",
            "|        5.0|       3.4|        1.5|       0.2|Iris-setosa|[5.0,3.4,1.5,0.2]|            0|\n",
            "|        4.4|       2.9|        1.4|       0.2|Iris-setosa|[4.4,2.9,1.4,0.2]|            0|\n",
            "|        4.9|       3.1|        1.5|       0.1|Iris-setosa|[4.9,3.1,1.5,0.1]|            0|\n",
            "|        5.4|       3.7|        1.5|       0.2|Iris-setosa|[5.4,3.7,1.5,0.2]|            0|\n",
            "|        4.8|       3.4|        1.6|       0.2|Iris-setosa|[4.8,3.4,1.6,0.2]|            0|\n",
            "|        4.8|       3.0|        1.4|       0.1|Iris-setosa|[4.8,3.0,1.4,0.1]|            0|\n",
            "|        4.3|       3.0|        1.1|       0.1|Iris-setosa|[4.3,3.0,1.1,0.1]|            0|\n",
            "|        5.8|       4.0|        1.2|       0.2|Iris-setosa|[5.8,4.0,1.2,0.2]|            0|\n",
            "|        5.7|       4.4|        1.5|       0.4|Iris-setosa|[5.7,4.4,1.5,0.4]|            0|\n",
            "|        5.4|       3.9|        1.3|       0.4|Iris-setosa|[5.4,3.9,1.3,0.4]|            0|\n",
            "|        5.1|       3.5|        1.4|       0.3|Iris-setosa|[5.1,3.5,1.4,0.3]|            0|\n",
            "|        5.7|       3.8|        1.7|       0.3|Iris-setosa|[5.7,3.8,1.7,0.3]|            0|\n",
            "|        5.1|       3.8|        1.5|       0.3|Iris-setosa|[5.1,3.8,1.5,0.3]|            0|\n",
            "+-----------+----------+-----------+----------+-----------+-----------------+-------------+\n",
            "only showing top 20 rows\n",
            "\n"
          ]
        }
      ]
    },
    {
      "cell_type": "code",
      "source": [
        "km = KMeans(predictionCol='grupo',maxIter=100,k=3, featuresCol='features')"
      ],
      "metadata": {
        "id": "B9BePpTFd13-"
      },
      "execution_count": 12,
      "outputs": []
    },
    {
      "cell_type": "code",
      "source": [
        "modelo = km.fit(iris_asb)"
      ],
      "metadata": {
        "id": "6oRiqEhcewoh"
      },
      "execution_count": 13,
      "outputs": []
    },
    {
      "cell_type": "code",
      "source": [
        "grupos = modelo.transform(iris_asb)\n",
        "grupos.show(150)"
      ],
      "metadata": {
        "colab": {
          "base_uri": "https://localhost:8080/"
        },
        "id": "bgv5ev4Ue52-",
        "outputId": "1af93045-24b6-4a4e-8581-724aabce9a1f"
      },
      "execution_count": 15,
      "outputs": [
        {
          "output_type": "stream",
          "name": "stdout",
          "text": [
            "+-----------+----------+-----------+----------+---------------+-----------------+-------------+-----+\n",
            "|sepallength|sepalwidth|petallength|petalwidth|          class|         features|classe_transf|grupo|\n",
            "+-----------+----------+-----------+----------+---------------+-----------------+-------------+-----+\n",
            "|        5.1|       3.5|        1.4|       0.2|    Iris-setosa|[5.1,3.5,1.4,0.2]|            0|    0|\n",
            "|        4.9|       3.0|        1.4|       0.2|    Iris-setosa|[4.9,3.0,1.4,0.2]|            0|    0|\n",
            "|        4.7|       3.2|        1.3|       0.2|    Iris-setosa|[4.7,3.2,1.3,0.2]|            0|    0|\n",
            "|        4.6|       3.1|        1.5|       0.2|    Iris-setosa|[4.6,3.1,1.5,0.2]|            0|    0|\n",
            "|        5.0|       3.6|        1.4|       0.2|    Iris-setosa|[5.0,3.6,1.4,0.2]|            0|    0|\n",
            "|        5.4|       3.9|        1.7|       0.4|    Iris-setosa|[5.4,3.9,1.7,0.4]|            0|    0|\n",
            "|        4.6|       3.4|        1.4|       0.3|    Iris-setosa|[4.6,3.4,1.4,0.3]|            0|    0|\n",
            "|        5.0|       3.4|        1.5|       0.2|    Iris-setosa|[5.0,3.4,1.5,0.2]|            0|    0|\n",
            "|        4.4|       2.9|        1.4|       0.2|    Iris-setosa|[4.4,2.9,1.4,0.2]|            0|    0|\n",
            "|        4.9|       3.1|        1.5|       0.1|    Iris-setosa|[4.9,3.1,1.5,0.1]|            0|    0|\n",
            "|        5.4|       3.7|        1.5|       0.2|    Iris-setosa|[5.4,3.7,1.5,0.2]|            0|    0|\n",
            "|        4.8|       3.4|        1.6|       0.2|    Iris-setosa|[4.8,3.4,1.6,0.2]|            0|    0|\n",
            "|        4.8|       3.0|        1.4|       0.1|    Iris-setosa|[4.8,3.0,1.4,0.1]|            0|    0|\n",
            "|        4.3|       3.0|        1.1|       0.1|    Iris-setosa|[4.3,3.0,1.1,0.1]|            0|    0|\n",
            "|        5.8|       4.0|        1.2|       0.2|    Iris-setosa|[5.8,4.0,1.2,0.2]|            0|    0|\n",
            "|        5.7|       4.4|        1.5|       0.4|    Iris-setosa|[5.7,4.4,1.5,0.4]|            0|    0|\n",
            "|        5.4|       3.9|        1.3|       0.4|    Iris-setosa|[5.4,3.9,1.3,0.4]|            0|    0|\n",
            "|        5.1|       3.5|        1.4|       0.3|    Iris-setosa|[5.1,3.5,1.4,0.3]|            0|    0|\n",
            "|        5.7|       3.8|        1.7|       0.3|    Iris-setosa|[5.7,3.8,1.7,0.3]|            0|    0|\n",
            "|        5.1|       3.8|        1.5|       0.3|    Iris-setosa|[5.1,3.8,1.5,0.3]|            0|    0|\n",
            "|        5.4|       3.4|        1.7|       0.2|    Iris-setosa|[5.4,3.4,1.7,0.2]|            0|    0|\n",
            "|        5.1|       3.7|        1.5|       0.4|    Iris-setosa|[5.1,3.7,1.5,0.4]|            0|    0|\n",
            "|        4.6|       3.6|        1.0|       0.2|    Iris-setosa|[4.6,3.6,1.0,0.2]|            0|    0|\n",
            "|        5.1|       3.3|        1.7|       0.5|    Iris-setosa|[5.1,3.3,1.7,0.5]|            0|    0|\n",
            "|        4.8|       3.4|        1.9|       0.2|    Iris-setosa|[4.8,3.4,1.9,0.2]|            0|    0|\n",
            "|        5.0|       3.0|        1.6|       0.2|    Iris-setosa|[5.0,3.0,1.6,0.2]|            0|    0|\n",
            "|        5.0|       3.4|        1.6|       0.4|    Iris-setosa|[5.0,3.4,1.6,0.4]|            0|    0|\n",
            "|        5.2|       3.5|        1.5|       0.2|    Iris-setosa|[5.2,3.5,1.5,0.2]|            0|    0|\n",
            "|        5.2|       3.4|        1.4|       0.2|    Iris-setosa|[5.2,3.4,1.4,0.2]|            0|    0|\n",
            "|        4.7|       3.2|        1.6|       0.2|    Iris-setosa|[4.7,3.2,1.6,0.2]|            0|    0|\n",
            "|        4.8|       3.1|        1.6|       0.2|    Iris-setosa|[4.8,3.1,1.6,0.2]|            0|    0|\n",
            "|        5.4|       3.4|        1.5|       0.4|    Iris-setosa|[5.4,3.4,1.5,0.4]|            0|    0|\n",
            "|        5.2|       4.1|        1.5|       0.1|    Iris-setosa|[5.2,4.1,1.5,0.1]|            0|    0|\n",
            "|        5.5|       4.2|        1.4|       0.2|    Iris-setosa|[5.5,4.2,1.4,0.2]|            0|    0|\n",
            "|        4.9|       3.1|        1.5|       0.1|    Iris-setosa|[4.9,3.1,1.5,0.1]|            0|    0|\n",
            "|        5.0|       3.2|        1.2|       0.2|    Iris-setosa|[5.0,3.2,1.2,0.2]|            0|    0|\n",
            "|        5.5|       3.5|        1.3|       0.2|    Iris-setosa|[5.5,3.5,1.3,0.2]|            0|    0|\n",
            "|        4.9|       3.1|        1.5|       0.1|    Iris-setosa|[4.9,3.1,1.5,0.1]|            0|    0|\n",
            "|        4.4|       3.0|        1.3|       0.2|    Iris-setosa|[4.4,3.0,1.3,0.2]|            0|    0|\n",
            "|        5.1|       3.4|        1.5|       0.2|    Iris-setosa|[5.1,3.4,1.5,0.2]|            0|    0|\n",
            "|        5.0|       3.5|        1.3|       0.3|    Iris-setosa|[5.0,3.5,1.3,0.3]|            0|    0|\n",
            "|        4.5|       2.3|        1.3|       0.3|    Iris-setosa|[4.5,2.3,1.3,0.3]|            0|    0|\n",
            "|        4.4|       3.2|        1.3|       0.2|    Iris-setosa|[4.4,3.2,1.3,0.2]|            0|    0|\n",
            "|        5.0|       3.5|        1.6|       0.6|    Iris-setosa|[5.0,3.5,1.6,0.6]|            0|    0|\n",
            "|        5.1|       3.8|        1.9|       0.4|    Iris-setosa|[5.1,3.8,1.9,0.4]|            0|    0|\n",
            "|        4.8|       3.0|        1.4|       0.3|    Iris-setosa|[4.8,3.0,1.4,0.3]|            0|    0|\n",
            "|        5.1|       3.8|        1.6|       0.2|    Iris-setosa|[5.1,3.8,1.6,0.2]|            0|    0|\n",
            "|        4.6|       3.2|        1.4|       0.2|    Iris-setosa|[4.6,3.2,1.4,0.2]|            0|    0|\n",
            "|        5.3|       3.7|        1.5|       0.2|    Iris-setosa|[5.3,3.7,1.5,0.2]|            0|    0|\n",
            "|        5.0|       3.3|        1.4|       0.2|    Iris-setosa|[5.0,3.3,1.4,0.2]|            0|    0|\n",
            "|        7.0|       3.2|        4.7|       1.4|Iris-versicolor|[7.0,3.2,4.7,1.4]|            1|    2|\n",
            "|        6.4|       3.2|        4.5|       1.5|Iris-versicolor|[6.4,3.2,4.5,1.5]|            1|    2|\n",
            "|        6.9|       3.1|        4.9|       1.5|Iris-versicolor|[6.9,3.1,4.9,1.5]|            1|    1|\n",
            "|        5.5|       2.3|        4.0|       1.3|Iris-versicolor|[5.5,2.3,4.0,1.3]|            1|    2|\n",
            "|        6.5|       2.8|        4.6|       1.5|Iris-versicolor|[6.5,2.8,4.6,1.5]|            1|    2|\n",
            "|        5.7|       2.8|        4.5|       1.3|Iris-versicolor|[5.7,2.8,4.5,1.3]|            1|    2|\n",
            "|        6.3|       3.3|        4.7|       1.6|Iris-versicolor|[6.3,3.3,4.7,1.6]|            1|    2|\n",
            "|        4.9|       2.4|        3.3|       1.0|Iris-versicolor|[4.9,2.4,3.3,1.0]|            1|    2|\n",
            "|        6.6|       2.9|        4.6|       1.3|Iris-versicolor|[6.6,2.9,4.6,1.3]|            1|    2|\n",
            "|        5.2|       2.7|        3.9|       1.4|Iris-versicolor|[5.2,2.7,3.9,1.4]|            1|    2|\n",
            "|        5.0|       2.0|        3.5|       1.0|Iris-versicolor|[5.0,2.0,3.5,1.0]|            1|    2|\n",
            "|        5.9|       3.0|        4.2|       1.5|Iris-versicolor|[5.9,3.0,4.2,1.5]|            1|    2|\n",
            "|        6.0|       2.2|        4.0|       1.0|Iris-versicolor|[6.0,2.2,4.0,1.0]|            1|    2|\n",
            "|        6.1|       2.9|        4.7|       1.4|Iris-versicolor|[6.1,2.9,4.7,1.4]|            1|    2|\n",
            "|        5.6|       2.9|        3.6|       1.3|Iris-versicolor|[5.6,2.9,3.6,1.3]|            1|    2|\n",
            "|        6.7|       3.1|        4.4|       1.4|Iris-versicolor|[6.7,3.1,4.4,1.4]|            1|    2|\n",
            "|        5.6|       3.0|        4.5|       1.5|Iris-versicolor|[5.6,3.0,4.5,1.5]|            1|    2|\n",
            "|        5.8|       2.7|        4.1|       1.0|Iris-versicolor|[5.8,2.7,4.1,1.0]|            1|    2|\n",
            "|        6.2|       2.2|        4.5|       1.5|Iris-versicolor|[6.2,2.2,4.5,1.5]|            1|    2|\n",
            "|        5.6|       2.5|        3.9|       1.1|Iris-versicolor|[5.6,2.5,3.9,1.1]|            1|    2|\n",
            "|        5.9|       3.2|        4.8|       1.8|Iris-versicolor|[5.9,3.2,4.8,1.8]|            1|    2|\n",
            "|        6.1|       2.8|        4.0|       1.3|Iris-versicolor|[6.1,2.8,4.0,1.3]|            1|    2|\n",
            "|        6.3|       2.5|        4.9|       1.5|Iris-versicolor|[6.3,2.5,4.9,1.5]|            1|    2|\n",
            "|        6.1|       2.8|        4.7|       1.2|Iris-versicolor|[6.1,2.8,4.7,1.2]|            1|    2|\n",
            "|        6.4|       2.9|        4.3|       1.3|Iris-versicolor|[6.4,2.9,4.3,1.3]|            1|    2|\n",
            "|        6.6|       3.0|        4.4|       1.4|Iris-versicolor|[6.6,3.0,4.4,1.4]|            1|    2|\n",
            "|        6.8|       2.8|        4.8|       1.4|Iris-versicolor|[6.8,2.8,4.8,1.4]|            1|    2|\n",
            "|        6.7|       3.0|        5.0|       1.7|Iris-versicolor|[6.7,3.0,5.0,1.7]|            1|    1|\n",
            "|        6.0|       2.9|        4.5|       1.5|Iris-versicolor|[6.0,2.9,4.5,1.5]|            1|    2|\n",
            "|        5.7|       2.6|        3.5|       1.0|Iris-versicolor|[5.7,2.6,3.5,1.0]|            1|    2|\n",
            "|        5.5|       2.4|        3.8|       1.1|Iris-versicolor|[5.5,2.4,3.8,1.1]|            1|    2|\n",
            "|        5.5|       2.4|        3.7|       1.0|Iris-versicolor|[5.5,2.4,3.7,1.0]|            1|    2|\n",
            "|        5.8|       2.7|        3.9|       1.2|Iris-versicolor|[5.8,2.7,3.9,1.2]|            1|    2|\n",
            "|        6.0|       2.7|        5.1|       1.6|Iris-versicolor|[6.0,2.7,5.1,1.6]|            1|    2|\n",
            "|        5.4|       3.0|        4.5|       1.5|Iris-versicolor|[5.4,3.0,4.5,1.5]|            1|    2|\n",
            "|        6.0|       3.4|        4.5|       1.6|Iris-versicolor|[6.0,3.4,4.5,1.6]|            1|    2|\n",
            "|        6.7|       3.1|        4.7|       1.5|Iris-versicolor|[6.7,3.1,4.7,1.5]|            1|    2|\n",
            "|        6.3|       2.3|        4.4|       1.3|Iris-versicolor|[6.3,2.3,4.4,1.3]|            1|    2|\n",
            "|        5.6|       3.0|        4.1|       1.3|Iris-versicolor|[5.6,3.0,4.1,1.3]|            1|    2|\n",
            "|        5.5|       2.5|        4.0|       1.3|Iris-versicolor|[5.5,2.5,4.0,1.3]|            1|    2|\n",
            "|        5.5|       2.6|        4.4|       1.2|Iris-versicolor|[5.5,2.6,4.4,1.2]|            1|    2|\n",
            "|        6.1|       3.0|        4.6|       1.4|Iris-versicolor|[6.1,3.0,4.6,1.4]|            1|    2|\n",
            "|        5.8|       2.6|        4.0|       1.2|Iris-versicolor|[5.8,2.6,4.0,1.2]|            1|    2|\n",
            "|        5.0|       2.3|        3.3|       1.0|Iris-versicolor|[5.0,2.3,3.3,1.0]|            1|    2|\n",
            "|        5.6|       2.7|        4.2|       1.3|Iris-versicolor|[5.6,2.7,4.2,1.3]|            1|    2|\n",
            "|        5.7|       3.0|        4.2|       1.2|Iris-versicolor|[5.7,3.0,4.2,1.2]|            1|    2|\n",
            "|        5.7|       2.9|        4.2|       1.3|Iris-versicolor|[5.7,2.9,4.2,1.3]|            1|    2|\n",
            "|        6.2|       2.9|        4.3|       1.3|Iris-versicolor|[6.2,2.9,4.3,1.3]|            1|    2|\n",
            "|        5.1|       2.5|        3.0|       1.1|Iris-versicolor|[5.1,2.5,3.0,1.1]|            1|    2|\n",
            "|        5.7|       2.8|        4.1|       1.3|Iris-versicolor|[5.7,2.8,4.1,1.3]|            1|    2|\n",
            "|        6.3|       3.3|        6.0|       2.5| Iris-virginica|[6.3,3.3,6.0,2.5]|            2|    1|\n",
            "|        5.8|       2.7|        5.1|       1.9| Iris-virginica|[5.8,2.7,5.1,1.9]|            2|    2|\n",
            "|        7.1|       3.0|        5.9|       2.1| Iris-virginica|[7.1,3.0,5.9,2.1]|            2|    1|\n",
            "|        6.3|       2.9|        5.6|       1.8| Iris-virginica|[6.3,2.9,5.6,1.8]|            2|    1|\n",
            "|        6.5|       3.0|        5.8|       2.2| Iris-virginica|[6.5,3.0,5.8,2.2]|            2|    1|\n",
            "|        7.6|       3.0|        6.6|       2.1| Iris-virginica|[7.6,3.0,6.6,2.1]|            2|    1|\n",
            "|        4.9|       2.5|        4.5|       1.7| Iris-virginica|[4.9,2.5,4.5,1.7]|            2|    2|\n",
            "|        7.3|       2.9|        6.3|       1.8| Iris-virginica|[7.3,2.9,6.3,1.8]|            2|    1|\n",
            "|        6.7|       2.5|        5.8|       1.8| Iris-virginica|[6.7,2.5,5.8,1.8]|            2|    1|\n",
            "|        7.2|       3.6|        6.1|       2.5| Iris-virginica|[7.2,3.6,6.1,2.5]|            2|    1|\n",
            "|        6.5|       3.2|        5.1|       2.0| Iris-virginica|[6.5,3.2,5.1,2.0]|            2|    1|\n",
            "|        6.4|       2.7|        5.3|       1.9| Iris-virginica|[6.4,2.7,5.3,1.9]|            2|    1|\n",
            "|        6.8|       3.0|        5.5|       2.1| Iris-virginica|[6.8,3.0,5.5,2.1]|            2|    1|\n",
            "|        5.7|       2.5|        5.0|       2.0| Iris-virginica|[5.7,2.5,5.0,2.0]|            2|    2|\n",
            "|        5.8|       2.8|        5.1|       2.4| Iris-virginica|[5.8,2.8,5.1,2.4]|            2|    2|\n",
            "|        6.4|       3.2|        5.3|       2.3| Iris-virginica|[6.4,3.2,5.3,2.3]|            2|    1|\n",
            "|        6.5|       3.0|        5.5|       1.8| Iris-virginica|[6.5,3.0,5.5,1.8]|            2|    1|\n",
            "|        7.7|       3.8|        6.7|       2.2| Iris-virginica|[7.7,3.8,6.7,2.2]|            2|    1|\n",
            "|        7.7|       2.6|        6.9|       2.3| Iris-virginica|[7.7,2.6,6.9,2.3]|            2|    1|\n",
            "|        6.0|       2.2|        5.0|       1.5| Iris-virginica|[6.0,2.2,5.0,1.5]|            2|    2|\n",
            "|        6.9|       3.2|        5.7|       2.3| Iris-virginica|[6.9,3.2,5.7,2.3]|            2|    1|\n",
            "|        5.6|       2.8|        4.9|       2.0| Iris-virginica|[5.6,2.8,4.9,2.0]|            2|    2|\n",
            "|        7.7|       2.8|        6.7|       2.0| Iris-virginica|[7.7,2.8,6.7,2.0]|            2|    1|\n",
            "|        6.3|       2.7|        4.9|       1.8| Iris-virginica|[6.3,2.7,4.9,1.8]|            2|    2|\n",
            "|        6.7|       3.3|        5.7|       2.1| Iris-virginica|[6.7,3.3,5.7,2.1]|            2|    1|\n",
            "|        7.2|       3.2|        6.0|       1.8| Iris-virginica|[7.2,3.2,6.0,1.8]|            2|    1|\n",
            "|        6.2|       2.8|        4.8|       1.8| Iris-virginica|[6.2,2.8,4.8,1.8]|            2|    2|\n",
            "|        6.1|       3.0|        4.9|       1.8| Iris-virginica|[6.1,3.0,4.9,1.8]|            2|    2|\n",
            "|        6.4|       2.8|        5.6|       2.1| Iris-virginica|[6.4,2.8,5.6,2.1]|            2|    1|\n",
            "|        7.2|       3.0|        5.8|       1.6| Iris-virginica|[7.2,3.0,5.8,1.6]|            2|    1|\n",
            "|        7.4|       2.8|        6.1|       1.9| Iris-virginica|[7.4,2.8,6.1,1.9]|            2|    1|\n",
            "|        7.9|       3.8|        6.4|       2.0| Iris-virginica|[7.9,3.8,6.4,2.0]|            2|    1|\n",
            "|        6.4|       2.8|        5.6|       2.2| Iris-virginica|[6.4,2.8,5.6,2.2]|            2|    1|\n",
            "|        6.3|       2.8|        5.1|       1.5| Iris-virginica|[6.3,2.8,5.1,1.5]|            2|    2|\n",
            "|        6.1|       2.6|        5.6|       1.4| Iris-virginica|[6.1,2.6,5.6,1.4]|            2|    1|\n",
            "|        7.7|       3.0|        6.1|       2.3| Iris-virginica|[7.7,3.0,6.1,2.3]|            2|    1|\n",
            "|        6.3|       3.4|        5.6|       2.4| Iris-virginica|[6.3,3.4,5.6,2.4]|            2|    1|\n",
            "|        6.4|       3.1|        5.5|       1.8| Iris-virginica|[6.4,3.1,5.5,1.8]|            2|    1|\n",
            "|        6.0|       3.0|        4.8|       1.8| Iris-virginica|[6.0,3.0,4.8,1.8]|            2|    2|\n",
            "|        6.9|       3.1|        5.4|       2.1| Iris-virginica|[6.9,3.1,5.4,2.1]|            2|    1|\n",
            "|        6.7|       3.1|        5.6|       2.4| Iris-virginica|[6.7,3.1,5.6,2.4]|            2|    1|\n",
            "|        6.9|       3.1|        5.1|       2.3| Iris-virginica|[6.9,3.1,5.1,2.3]|            2|    1|\n",
            "|        5.8|       2.7|        5.1|       1.9| Iris-virginica|[5.8,2.7,5.1,1.9]|            2|    2|\n",
            "|        6.8|       3.2|        5.9|       2.3| Iris-virginica|[6.8,3.2,5.9,2.3]|            2|    1|\n",
            "|        6.7|       3.3|        5.7|       2.5| Iris-virginica|[6.7,3.3,5.7,2.5]|            2|    1|\n",
            "|        6.7|       3.0|        5.2|       2.3| Iris-virginica|[6.7,3.0,5.2,2.3]|            2|    1|\n",
            "|        6.3|       2.5|        5.0|       1.9| Iris-virginica|[6.3,2.5,5.0,1.9]|            2|    2|\n",
            "|        6.5|       3.0|        5.2|       2.0| Iris-virginica|[6.5,3.0,5.2,2.0]|            2|    1|\n",
            "|        6.2|       3.4|        5.4|       2.3| Iris-virginica|[6.2,3.4,5.4,2.3]|            2|    1|\n",
            "|        5.9|       3.0|        5.1|       1.8| Iris-virginica|[5.9,3.0,5.1,1.8]|            2|    2|\n",
            "+-----------+----------+-----------+----------+---------------+-----------------+-------------+-----+\n",
            "\n"
          ]
        }
      ]
    },
    {
      "cell_type": "code",
      "source": [
        "classe = grupos.select('classe_transf').collect()\n",
        "agrupado = grupos.select('grupo').collect()"
      ],
      "metadata": {
        "id": "C_70fVxafH7c"
      },
      "execution_count": 16,
      "outputs": []
    },
    {
      "cell_type": "code",
      "source": [
        "from sklearn.metrics import confusion_matrix, accuracy_score#accuracy_score faz a media da cm em diagonal entao nao vamos usar"
      ],
      "metadata": {
        "id": "UXTNms5MiCcP"
      },
      "execution_count": 19,
      "outputs": []
    },
    {
      "cell_type": "code",
      "source": [
        "cm = confusion_matrix(classe, agrupado)\n",
        "print(cm)"
      ],
      "metadata": {
        "colab": {
          "base_uri": "https://localhost:8080/"
        },
        "id": "oZpKrXHkiV5C",
        "outputId": "d9027db0-8003-4530-9f6a-a4b0c8a1046b"
      },
      "execution_count": 18,
      "outputs": [
        {
          "output_type": "stream",
          "name": "stdout",
          "text": [
            "[[50  0  0]\n",
            " [ 0  2 48]\n",
            " [ 0 36 14]]\n"
          ]
        }
      ]
    },
    {
      "cell_type": "code",
      "source": [
        "acuracia = (cm[0,0] + cm[1,2] + cm[2,1]) / 150\n",
        "print(acuracia)"
      ],
      "metadata": {
        "colab": {
          "base_uri": "https://localhost:8080/"
        },
        "id": "SvsgPgcKiqC3",
        "outputId": "d323584a-68db-43dc-81c4-8d8c83a26997"
      },
      "execution_count": 21,
      "outputs": [
        {
          "output_type": "stream",
          "name": "stdout",
          "text": [
            "0.8933333333333333\n"
          ]
        }
      ]
    },
    {
      "cell_type": "markdown",
      "source": [
        "90% de eficácia"
      ],
      "metadata": {
        "id": "8tKQzs3qj2s7"
      }
    }
  ]
}