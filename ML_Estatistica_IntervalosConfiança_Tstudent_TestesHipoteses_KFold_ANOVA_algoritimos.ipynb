{
  "nbformat": 4,
  "nbformat_minor": 0,
  "metadata": {
    "colab": {
      "name": "ML_Estatistica_IntervalosConfiança_Tstudent_TestesHipoteses_KFold_ANOVA_algoritimos",
      "provenance": [],
      "collapsed_sections": [],
      "authorship_tag": "ABX9TyPoy2AuQCkoHmGBVIWLiZbn",
      "include_colab_link": true
    },
    "kernelspec": {
      "name": "python3",
      "display_name": "Python 3"
    },
    "language_info": {
      "name": "python"
    }
  },
  "cells": [
    {
      "cell_type": "markdown",
      "metadata": {
        "id": "view-in-github",
        "colab_type": "text"
      },
      "source": [
        "<a href=\"https://colab.research.google.com/github/bcury/Machine-Learning-Projects/blob/main/ML_Estatistica_IntervalosConfian%C3%A7a_Tstudent_TestesHipoteses_KFold_ANOVA_algoritimos.ipynb\" target=\"_parent\"><img src=\"https://colab.research.google.com/assets/colab-badge.svg\" alt=\"Open In Colab\"/></a>"
      ]
    },
    {
      "cell_type": "markdown",
      "source": [
        "**intervalos de confiança**"
      ],
      "metadata": {
        "id": "uvOEu3IpcShH"
      }
    },
    {
      "cell_type": "code",
      "execution_count": 1,
      "metadata": {
        "id": "RdPyMgfVbiVL"
      },
      "outputs": [],
      "source": [
        "import pandas as pd\n",
        "import numpy as np\n",
        "import math\n",
        "import seaborn as sns\n",
        "from scipy.stats import norm\n",
        "from scipy import stats"
      ]
    },
    {
      "cell_type": "code",
      "source": [
        "#base de dados\n",
        "\n",
        "dados = np.array([120,122,129,130,134,139,140,142,144,148,\n",
        "                 149,150,155,156,159,160,162,163,164,166,\n",
        "                 168,169,172,174,176,178,178,179,183,185,\n",
        "                 188,189,190,192,194,195,196,198,198,200])"
      ],
      "metadata": {
        "id": "kXmL54cBc2cB"
      },
      "execution_count": 2,
      "outputs": []
    },
    {
      "cell_type": "code",
      "source": [
        "n = len(dados)\n",
        "n"
      ],
      "metadata": {
        "colab": {
          "base_uri": "https://localhost:8080/"
        },
        "id": "IvUP_N6AecZl",
        "outputId": "0019165a-080c-4c79-8404-f9eb1c2bf2a4"
      },
      "execution_count": 3,
      "outputs": [
        {
          "output_type": "execute_result",
          "data": {
            "text/plain": [
              "40"
            ]
          },
          "metadata": {},
          "execution_count": 3
        }
      ]
    },
    {
      "cell_type": "code",
      "source": [
        "media = np.mean(dados)\n",
        "media"
      ],
      "metadata": {
        "colab": {
          "base_uri": "https://localhost:8080/"
        },
        "id": "SWPgpSkBetgO",
        "outputId": "58013e2e-1f7f-4973-e2db-39e136e6a788"
      },
      "execution_count": 4,
      "outputs": [
        {
          "output_type": "execute_result",
          "data": {
            "text/plain": [
              "165.85"
            ]
          },
          "metadata": {},
          "execution_count": 4
        }
      ]
    },
    {
      "cell_type": "code",
      "source": [
        "desvio_padrao = np.std(dados)\n",
        "desvio_padrao"
      ],
      "metadata": {
        "colab": {
          "base_uri": "https://localhost:8080/"
        },
        "id": "_HgUyD1YgAYf",
        "outputId": "aeee110d-816e-423d-ca43-f5e449acd82c"
      },
      "execution_count": 5,
      "outputs": [
        {
          "output_type": "execute_result",
          "data": {
            "text/plain": [
              "22.7613158670583"
            ]
          },
          "metadata": {},
          "execution_count": 5
        }
      ]
    },
    {
      "cell_type": "code",
      "source": [
        "stats.sem(dados)"
      ],
      "metadata": {
        "colab": {
          "base_uri": "https://localhost:8080/"
        },
        "id": "6q3-rW43chkj",
        "outputId": "f31a5be8-8a86-4b8a-ef2b-59907cf5350b"
      },
      "execution_count": 6,
      "outputs": [
        {
          "output_type": "execute_result",
          "data": {
            "text/plain": [
              "3.6447274879664815"
            ]
          },
          "metadata": {},
          "execution_count": 6
        }
      ]
    },
    {
      "cell_type": "code",
      "source": [
        "desvio_padrao / math.sqrt(n -1)"
      ],
      "metadata": {
        "colab": {
          "base_uri": "https://localhost:8080/"
        },
        "id": "FeRRR7F4cvv3",
        "outputId": "4d31af29-63bb-46f1-c0da-c36ce97b857c"
      },
      "execution_count": 8,
      "outputs": [
        {
          "output_type": "execute_result",
          "data": {
            "text/plain": [
              "3.6447274879664815"
            ]
          },
          "metadata": {},
          "execution_count": 8
        }
      ]
    },
    {
      "cell_type": "code",
      "source": [
        "#scipy\n",
        "\n",
        "intervalos = norm.interval(0.95, media, stats.sem(dados))\n",
        "intervalos"
      ],
      "metadata": {
        "id": "JlTUn2D47oqd",
        "colab": {
          "base_uri": "https://localhost:8080/"
        },
        "outputId": "42541a5e-85b2-4fe3-c36f-fe403039444f"
      },
      "execution_count": 9,
      "outputs": [
        {
          "output_type": "execute_result",
          "data": {
            "text/plain": [
              "(158.70646539012256, 172.99353460987743)"
            ]
          },
          "metadata": {},
          "execution_count": 9
        }
      ]
    },
    {
      "cell_type": "code",
      "source": [
        "margem_erro = media - intervalos[0]\n",
        "margem_erro"
      ],
      "metadata": {
        "colab": {
          "base_uri": "https://localhost:8080/"
        },
        "id": "h5QvAJ4AdOxH",
        "outputId": "5c01f371-b89d-49c5-96a4-92cfaa325f46"
      },
      "execution_count": 11,
      "outputs": [
        {
          "output_type": "execute_result",
          "data": {
            "text/plain": [
              "7.143534609877435"
            ]
          },
          "metadata": {},
          "execution_count": 11
        }
      ]
    },
    {
      "cell_type": "markdown",
      "source": [
        "- Diferentes niveis de confiança"
      ],
      "metadata": {
        "id": "HOT5_L2mdeq0"
      }
    },
    {
      "cell_type": "code",
      "source": [
        "intervalos = norm.interval(0.99, media, stats.sem(dados))\n",
        "intervalos"
      ],
      "metadata": {
        "colab": {
          "base_uri": "https://localhost:8080/"
        },
        "id": "Cb_St8oSdhB2",
        "outputId": "dcce9040-7733-4af9-a277-d2c0f9990d7b"
      },
      "execution_count": 12,
      "outputs": [
        {
          "output_type": "execute_result",
          "data": {
            "text/plain": [
              "(156.46180413304575, 175.23819586695424)"
            ]
          },
          "metadata": {},
          "execution_count": 12
        }
      ]
    },
    {
      "cell_type": "code",
      "source": [
        "margem_erro = media - intervalos[0]\n",
        "margem_erro"
      ],
      "metadata": {
        "colab": {
          "base_uri": "https://localhost:8080/"
        },
        "id": "KGCZwG59d7Ij",
        "outputId": "d050a692-0179-42b3-dff3-2a4d95bec462"
      },
      "execution_count": 13,
      "outputs": [
        {
          "output_type": "execute_result",
          "data": {
            "text/plain": [
              "9.388195866954248"
            ]
          },
          "metadata": {},
          "execution_count": 13
        }
      ]
    },
    {
      "cell_type": "markdown",
      "source": [
        "**Distribuição T-Student**"
      ],
      "metadata": {
        "id": "38uGUcybiAqy"
      }
    },
    {
      "cell_type": "code",
      "source": [
        "base = np.array([149, 160, 147, 189, 175, 168, 156, 160, 152])"
      ],
      "metadata": {
        "id": "rxGuPXM9eQFG"
      },
      "execution_count": 14,
      "outputs": []
    },
    {
      "cell_type": "code",
      "source": [
        "n = len(base)\n",
        "n"
      ],
      "metadata": {
        "colab": {
          "base_uri": "https://localhost:8080/"
        },
        "id": "u4V3qvwYtIVI",
        "outputId": "0c02af67-9091-4687-e706-87e3c88c5700"
      },
      "execution_count": 16,
      "outputs": [
        {
          "output_type": "execute_result",
          "data": {
            "text/plain": [
              "9"
            ]
          },
          "metadata": {},
          "execution_count": 16
        }
      ]
    },
    {
      "cell_type": "code",
      "source": [
        "media = base.mean()\n",
        "media"
      ],
      "metadata": {
        "colab": {
          "base_uri": "https://localhost:8080/"
        },
        "id": "cb1nrIj4tJsT",
        "outputId": "3c9c3059-d8c4-4d1a-9c58-585a2586ea2a"
      },
      "execution_count": 19,
      "outputs": [
        {
          "output_type": "execute_result",
          "data": {
            "text/plain": [
              "161.77777777777777"
            ]
          },
          "metadata": {},
          "execution_count": 19
        }
      ]
    },
    {
      "cell_type": "code",
      "source": [
        "desvio_padrao = base.std()\n",
        "desvio_padrao"
      ],
      "metadata": {
        "colab": {
          "base_uri": "https://localhost:8080/"
        },
        "id": "sSwNac3BtRHO",
        "outputId": "8d140eb8-b747-409c-9e10-a8a60ab72d49"
      },
      "execution_count": 21,
      "outputs": [
        {
          "output_type": "execute_result",
          "data": {
            "text/plain": [
              "12.786953227391823"
            ]
          },
          "metadata": {},
          "execution_count": 21
        }
      ]
    },
    {
      "cell_type": "code",
      "source": [
        "from scipy.stats import t"
      ],
      "metadata": {
        "id": "uQAoa2CXtcv6"
      },
      "execution_count": 22,
      "outputs": []
    },
    {
      "cell_type": "code",
      "source": [
        "intervalos = t.interval(0.95, n -1, media, stats.sem(base,ddof=0)) #ddof graus de liberdade, o padrao é colocar 1\n",
        "intervalos"
      ],
      "metadata": {
        "colab": {
          "base_uri": "https://localhost:8080/"
        },
        "id": "rIhGlDF_tt2z",
        "outputId": "417fea4e-b267-4b14-b8dc-40c40c221f6a"
      },
      "execution_count": 24,
      "outputs": [
        {
          "output_type": "execute_result",
          "data": {
            "text/plain": [
              "(151.9488554388298, 171.60670011672573)"
            ]
          },
          "metadata": {},
          "execution_count": 24
        }
      ]
    },
    {
      "cell_type": "code",
      "source": [
        "margem_erro = media - intervalos[0]\n",
        "margem_erro"
      ],
      "metadata": {
        "colab": {
          "base_uri": "https://localhost:8080/"
        },
        "id": "BldzXpkWuJ4n",
        "outputId": "cfd099b5-fc50-4352-d615-1a9226618bf4"
      },
      "execution_count": 25,
      "outputs": [
        {
          "output_type": "execute_result",
          "data": {
            "text/plain": [
              "9.828922338947962"
            ]
          },
          "metadata": {},
          "execution_count": 25
        }
      ]
    },
    {
      "cell_type": "markdown",
      "source": [
        "**intervalos de confiança com ML**:\n",
        "classificação"
      ],
      "metadata": {
        "id": "ngI402MYvGOm"
      }
    },
    {
      "cell_type": "code",
      "source": [
        "base_dados = pd.read_csv('/content/credit_data.csv')\n",
        "base_dados.dropna(inplace=True)"
      ],
      "metadata": {
        "id": "Trw1snB4uu7U"
      },
      "execution_count": 58,
      "outputs": []
    },
    {
      "cell_type": "code",
      "source": [
        "base_dados.head()"
      ],
      "metadata": {
        "colab": {
          "base_uri": "https://localhost:8080/",
          "height": 206
        },
        "id": "YptR_jzevviR",
        "outputId": "f4307b46-1975-499d-da47-2f3a89344ade"
      },
      "execution_count": 60,
      "outputs": [
        {
          "output_type": "execute_result",
          "data": {
            "text/html": [
              "\n",
              "  <div id=\"df-078d33e8-70ee-4205-8a8a-13bca28167c1\">\n",
              "    <div class=\"colab-df-container\">\n",
              "      <div>\n",
              "<style scoped>\n",
              "    .dataframe tbody tr th:only-of-type {\n",
              "        vertical-align: middle;\n",
              "    }\n",
              "\n",
              "    .dataframe tbody tr th {\n",
              "        vertical-align: top;\n",
              "    }\n",
              "\n",
              "    .dataframe thead th {\n",
              "        text-align: right;\n",
              "    }\n",
              "</style>\n",
              "<table border=\"1\" class=\"dataframe\">\n",
              "  <thead>\n",
              "    <tr style=\"text-align: right;\">\n",
              "      <th></th>\n",
              "      <th>i#clientid</th>\n",
              "      <th>income</th>\n",
              "      <th>age</th>\n",
              "      <th>loan</th>\n",
              "      <th>c#default</th>\n",
              "    </tr>\n",
              "  </thead>\n",
              "  <tbody>\n",
              "    <tr>\n",
              "      <th>0</th>\n",
              "      <td>1</td>\n",
              "      <td>66155.925095</td>\n",
              "      <td>59.017015</td>\n",
              "      <td>8106.532131</td>\n",
              "      <td>0</td>\n",
              "    </tr>\n",
              "    <tr>\n",
              "      <th>1</th>\n",
              "      <td>2</td>\n",
              "      <td>34415.153966</td>\n",
              "      <td>48.117153</td>\n",
              "      <td>6564.745018</td>\n",
              "      <td>0</td>\n",
              "    </tr>\n",
              "    <tr>\n",
              "      <th>2</th>\n",
              "      <td>3</td>\n",
              "      <td>57317.170063</td>\n",
              "      <td>63.108049</td>\n",
              "      <td>8020.953296</td>\n",
              "      <td>0</td>\n",
              "    </tr>\n",
              "    <tr>\n",
              "      <th>3</th>\n",
              "      <td>4</td>\n",
              "      <td>42709.534201</td>\n",
              "      <td>45.751972</td>\n",
              "      <td>6103.642260</td>\n",
              "      <td>0</td>\n",
              "    </tr>\n",
              "    <tr>\n",
              "      <th>4</th>\n",
              "      <td>5</td>\n",
              "      <td>66952.688845</td>\n",
              "      <td>18.584336</td>\n",
              "      <td>8770.099235</td>\n",
              "      <td>1</td>\n",
              "    </tr>\n",
              "  </tbody>\n",
              "</table>\n",
              "</div>\n",
              "      <button class=\"colab-df-convert\" onclick=\"convertToInteractive('df-078d33e8-70ee-4205-8a8a-13bca28167c1')\"\n",
              "              title=\"Convert this dataframe to an interactive table.\"\n",
              "              style=\"display:none;\">\n",
              "        \n",
              "  <svg xmlns=\"http://www.w3.org/2000/svg\" height=\"24px\"viewBox=\"0 0 24 24\"\n",
              "       width=\"24px\">\n",
              "    <path d=\"M0 0h24v24H0V0z\" fill=\"none\"/>\n",
              "    <path d=\"M18.56 5.44l.94 2.06.94-2.06 2.06-.94-2.06-.94-.94-2.06-.94 2.06-2.06.94zm-11 1L8.5 8.5l.94-2.06 2.06-.94-2.06-.94L8.5 2.5l-.94 2.06-2.06.94zm10 10l.94 2.06.94-2.06 2.06-.94-2.06-.94-.94-2.06-.94 2.06-2.06.94z\"/><path d=\"M17.41 7.96l-1.37-1.37c-.4-.4-.92-.59-1.43-.59-.52 0-1.04.2-1.43.59L10.3 9.45l-7.72 7.72c-.78.78-.78 2.05 0 2.83L4 21.41c.39.39.9.59 1.41.59.51 0 1.02-.2 1.41-.59l7.78-7.78 2.81-2.81c.8-.78.8-2.07 0-2.86zM5.41 20L4 18.59l7.72-7.72 1.47 1.35L5.41 20z\"/>\n",
              "  </svg>\n",
              "      </button>\n",
              "      \n",
              "  <style>\n",
              "    .colab-df-container {\n",
              "      display:flex;\n",
              "      flex-wrap:wrap;\n",
              "      gap: 12px;\n",
              "    }\n",
              "\n",
              "    .colab-df-convert {\n",
              "      background-color: #E8F0FE;\n",
              "      border: none;\n",
              "      border-radius: 50%;\n",
              "      cursor: pointer;\n",
              "      display: none;\n",
              "      fill: #1967D2;\n",
              "      height: 32px;\n",
              "      padding: 0 0 0 0;\n",
              "      width: 32px;\n",
              "    }\n",
              "\n",
              "    .colab-df-convert:hover {\n",
              "      background-color: #E2EBFA;\n",
              "      box-shadow: 0px 1px 2px rgba(60, 64, 67, 0.3), 0px 1px 3px 1px rgba(60, 64, 67, 0.15);\n",
              "      fill: #174EA6;\n",
              "    }\n",
              "\n",
              "    [theme=dark] .colab-df-convert {\n",
              "      background-color: #3B4455;\n",
              "      fill: #D2E3FC;\n",
              "    }\n",
              "\n",
              "    [theme=dark] .colab-df-convert:hover {\n",
              "      background-color: #434B5C;\n",
              "      box-shadow: 0px 1px 3px 1px rgba(0, 0, 0, 0.15);\n",
              "      filter: drop-shadow(0px 1px 2px rgba(0, 0, 0, 0.3));\n",
              "      fill: #FFFFFF;\n",
              "    }\n",
              "  </style>\n",
              "\n",
              "      <script>\n",
              "        const buttonEl =\n",
              "          document.querySelector('#df-078d33e8-70ee-4205-8a8a-13bca28167c1 button.colab-df-convert');\n",
              "        buttonEl.style.display =\n",
              "          google.colab.kernel.accessAllowed ? 'block' : 'none';\n",
              "\n",
              "        async function convertToInteractive(key) {\n",
              "          const element = document.querySelector('#df-078d33e8-70ee-4205-8a8a-13bca28167c1');\n",
              "          const dataTable =\n",
              "            await google.colab.kernel.invokeFunction('convertToInteractive',\n",
              "                                                     [key], {});\n",
              "          if (!dataTable) return;\n",
              "\n",
              "          const docLinkHtml = 'Like what you see? Visit the ' +\n",
              "            '<a target=\"_blank\" href=https://colab.research.google.com/notebooks/data_table.ipynb>data table notebook</a>'\n",
              "            + ' to learn more about interactive tables.';\n",
              "          element.innerHTML = '';\n",
              "          dataTable['output_type'] = 'display_data';\n",
              "          await google.colab.output.renderOutput(dataTable, element);\n",
              "          const docLink = document.createElement('div');\n",
              "          docLink.innerHTML = docLinkHtml;\n",
              "          element.appendChild(docLink);\n",
              "        }\n",
              "      </script>\n",
              "    </div>\n",
              "  </div>\n",
              "  "
            ],
            "text/plain": [
              "   i#clientid        income        age         loan  c#default\n",
              "0           1  66155.925095  59.017015  8106.532131          0\n",
              "1           2  34415.153966  48.117153  6564.745018          0\n",
              "2           3  57317.170063  63.108049  8020.953296          0\n",
              "3           4  42709.534201  45.751972  6103.642260          0\n",
              "4           5  66952.688845  18.584336  8770.099235          1"
            ]
          },
          "metadata": {},
          "execution_count": 60
        }
      ]
    },
    {
      "cell_type": "code",
      "source": [
        "from sklearn.model_selection import train_test_split, cross_val_score, KFold\n",
        "from sklearn.metrics import accuracy_score\n"
      ],
      "metadata": {
        "id": "L0fwt1XTvxOe"
      },
      "execution_count": 61,
      "outputs": []
    },
    {
      "cell_type": "markdown",
      "source": [
        "algoritimos"
      ],
      "metadata": {
        "id": "-gAwzqJBwbrm"
      }
    },
    {
      "cell_type": "code",
      "source": [
        "from sklearn.ensemble import RandomForestClassifier\n",
        "from sklearn.linear_model import LogisticRegression\n",
        "from sklearn.naive_bayes import GaussianNB"
      ],
      "metadata": {
        "id": "0o3DosMewHRG"
      },
      "execution_count": 62,
      "outputs": []
    },
    {
      "cell_type": "code",
      "source": [
        "x = base_dados.iloc[:,1:4].values\n",
        "y = base_dados.iloc[:,4].values"
      ],
      "metadata": {
        "id": "Op4ZoA0Nwa6W"
      },
      "execution_count": 63,
      "outputs": []
    },
    {
      "cell_type": "code",
      "source": [
        "x.shape"
      ],
      "metadata": {
        "colab": {
          "base_uri": "https://localhost:8080/"
        },
        "id": "sQceXoMfA4p9",
        "outputId": "ccd15a13-4886-41cd-f368-6d6ce7d198f3"
      },
      "execution_count": 64,
      "outputs": [
        {
          "output_type": "execute_result",
          "data": {
            "text/plain": [
              "(1997, 3)"
            ]
          },
          "metadata": {},
          "execution_count": 64
        }
      ]
    },
    {
      "cell_type": "code",
      "source": [
        "y.shape"
      ],
      "metadata": {
        "colab": {
          "base_uri": "https://localhost:8080/"
        },
        "id": "lpBEEdMSA-kz",
        "outputId": "e6d2141e-ae73-4c43-9a75-efeb7e3c490b"
      },
      "execution_count": 65,
      "outputs": [
        {
          "output_type": "execute_result",
          "data": {
            "text/plain": [
              "(1997,)"
            ]
          },
          "metadata": {},
          "execution_count": 65
        }
      ]
    },
    {
      "cell_type": "markdown",
      "source": [
        "vamos fazer um loop para rodarmos os resultados mais vezes, sem dividir em treino e teste"
      ],
      "metadata": {
        "id": "WPisZhQqCrai"
      }
    },
    {
      "cell_type": "code",
      "source": [
        "resultados_naives_bayes_cv = []\n",
        "resultados_naives_bayes_cv_300 = []\n",
        "resultados_regressaologistica_cv = []\n",
        "resultados_regressaologistica_cv_300 = []\n",
        "resultados_randomforest_cv = []\n",
        "resultados_randomforest_cv_300 = []\n",
        "for i in range(30):                      #300 é porque sao 30 testes e 10 n_splits(pontes)\n",
        "  kfold = KFold(n_splits=10, shuffle = True, random_state = i)\n",
        "\n",
        "  naive_bayes = GaussianNB()\n",
        "  scores = cross_val_score(naive_bayes, x, y, cv=kfold)\n",
        "  resultados_naives_bayes_cv_300.append(scores)\n",
        "  resultados_naives_bayes_cv.append(scores.mean())\n",
        "\n",
        "  logistica = LogisticRegression()\n",
        "  scores = cross_val_score(logistica, x, y, cv=kfold)\n",
        "  resultados_regressaologistica_cv_300.append(scores)\n",
        "  resultados_regressaologistica_cv.append(scores.mean())\n",
        "\n",
        "  random_forest = RandomForestClassifier()\n",
        "  scores = cross_val_score(random_forest, x, y, cv=kfold)\n",
        "  resultados_randomforest_cv_300.append(scores)\n",
        "  resultados_randomforest_cv.append(scores.mean())\n"
      ],
      "metadata": {
        "id": "hkNRo_1dA_3U"
      },
      "execution_count": 66,
      "outputs": []
    },
    {
      "cell_type": "code",
      "source": [
        "len(resultados_naives_bayes_cv), len(resultados_naives_bayes_cv_300)"
      ],
      "metadata": {
        "colab": {
          "base_uri": "https://localhost:8080/"
        },
        "id": "_167b2-cJ4QY",
        "outputId": "a2139d76-d465-4eaf-e258-82c0e8f28494"
      },
      "execution_count": 67,
      "outputs": [
        {
          "output_type": "execute_result",
          "data": {
            "text/plain": [
              "(30, 30)"
            ]
          },
          "metadata": {},
          "execution_count": 67
        }
      ]
    },
    {
      "cell_type": "code",
      "source": [
        "print(resultados_naives_bayes_cv)"
      ],
      "metadata": {
        "colab": {
          "base_uri": "https://localhost:8080/"
        },
        "id": "ialescUrKP8S",
        "outputId": "710b5c7b-e4d7-4d53-c9fb-d7c2a69a5209"
      },
      "execution_count": 68,
      "outputs": [
        {
          "output_type": "stream",
          "name": "stdout",
          "text": [
            "[0.9248618090452261, 0.9249170854271356, 0.9248894472361808, 0.9228819095477387, 0.9248718592964824, 0.9253894472361809, 0.9243844221105528, 0.9248894472361808, 0.9248718592964824, 0.9238894472361808, 0.9253844221105527, 0.9244020100502512, 0.9253743718592965, 0.924394472361809, 0.9253869346733667, 0.9248819095477387, 0.9258844221105527, 0.924894472361809, 0.9238819095477387, 0.9258844221105529, 0.9258944723618091, 0.9253894472361811, 0.92436432160804, 0.9263844221105527, 0.9228944723618092, 0.9253894472361809, 0.9248869346733668, 0.9253919597989949, 0.9253819095477386, 0.9258844221105527]\n"
          ]
        }
      ]
    },
    {
      "cell_type": "code",
      "source": [
        "print(resultados_naives_bayes_cv_300) #formato de matriz"
      ],
      "metadata": {
        "colab": {
          "base_uri": "https://localhost:8080/"
        },
        "id": "72tGhc4iL_67",
        "outputId": "7a07d8b5-7bc2-410c-ffd7-263e2f2218d5"
      },
      "execution_count": 74,
      "outputs": [
        {
          "output_type": "stream",
          "name": "stdout",
          "text": [
            "[array([0.91      , 0.93      , 0.96      , 0.925     , 0.94      ,\n",
            "       0.895     , 0.965     , 0.89949749, 0.87939698, 0.94472362]), array([0.92      , 0.945     , 0.895     , 0.92      , 0.915     ,\n",
            "       0.93      , 0.89      , 0.94974874, 0.93467337, 0.94974874]), array([0.93      , 0.89      , 0.94      , 0.935     , 0.905     ,\n",
            "       0.935     , 0.935     , 0.91959799, 0.94472362, 0.91457286]), array([0.91      , 0.945     , 0.95      , 0.94      , 0.92      ,\n",
            "       0.9       , 0.9       , 0.90954774, 0.91959799, 0.93467337]), array([0.96      , 0.93      , 0.94      , 0.905     , 0.935     ,\n",
            "       0.93      , 0.905     , 0.90452261, 0.89949749, 0.93969849]), array([0.915     , 0.91      , 0.945     , 0.945     , 0.9       ,\n",
            "       0.935     , 0.925     , 0.96482412, 0.89949749, 0.91457286]), array([0.955     , 0.935     , 0.915     , 0.94      , 0.905     ,\n",
            "       0.9       , 0.925     , 0.92462312, 0.92462312, 0.91959799]), array([0.94      , 0.92      , 0.925     , 0.915     , 0.905     ,\n",
            "       0.935     , 0.93      , 0.91457286, 0.92462312, 0.93969849]), array([0.915     , 0.93      , 0.905     , 0.94      , 0.935     ,\n",
            "       0.955     , 0.925     , 0.91457286, 0.91457286, 0.91457286]), array([0.895     , 0.885     , 0.925     , 0.935     , 0.955     ,\n",
            "       0.935     , 0.93      , 0.92964824, 0.91959799, 0.92964824]), array([0.92      , 0.93      , 0.935     , 0.95      , 0.905     ,\n",
            "       0.905     , 0.94      , 0.91959799, 0.89949749, 0.94974874]), array([0.945     , 0.92      , 0.925     , 0.89      , 0.935     ,\n",
            "       0.9       , 0.925     , 0.92462312, 0.94472362, 0.93467337]), array([0.93      , 0.92      , 0.93      , 0.945     , 0.935     ,\n",
            "       0.93      , 0.915     , 0.92964824, 0.91457286, 0.90452261]), array([0.91      , 0.94      , 0.93      , 0.88      , 0.945     ,\n",
            "       0.9       , 0.95      , 0.93969849, 0.93467337, 0.91457286]), array([0.92      , 0.915     , 0.945     , 0.935     , 0.885     ,\n",
            "       0.945     , 0.935     , 0.93467337, 0.92462312, 0.91457286]), array([0.9       , 0.95      , 0.955     , 0.895     , 0.96      ,\n",
            "       0.935     , 0.89      , 0.90452261, 0.91959799, 0.93969849]), array([0.925     , 0.92      , 0.94      , 0.93      , 0.935     ,\n",
            "       0.93      , 0.91      , 0.90954774, 0.90954774, 0.94974874]), array([0.95      , 0.93      , 0.94      , 0.935     , 0.9       ,\n",
            "       0.895     , 0.91      , 0.94472362, 0.90954774, 0.93467337]), array([0.925     , 0.92      , 0.92      , 0.935     , 0.905     ,\n",
            "       0.94      , 0.93      , 0.91457286, 0.91457286, 0.93467337]), array([0.94      , 0.925     , 0.905     , 0.96      , 0.915     ,\n",
            "       0.915     , 0.93      , 0.90954774, 0.94974874, 0.90954774]), array([0.895     , 0.9       , 0.94      , 0.9       , 0.94      ,\n",
            "       0.935     , 0.96      , 0.89949749, 0.93467337, 0.95477387]), array([0.93      , 0.94      , 0.915     , 0.955     , 0.925     ,\n",
            "       0.9       , 0.91      , 0.89447236, 0.92462312, 0.95979899]), array([0.945     , 0.9       , 0.93      , 0.95      , 0.945     ,\n",
            "       0.93      , 0.915     , 0.91457286, 0.88944724, 0.92462312]), array([0.92      , 0.925     , 0.925     , 0.94      , 0.915     ,\n",
            "       0.91      , 0.96      , 0.94974874, 0.89949749, 0.91959799]), array([0.91      , 0.92      , 0.925     , 0.895     , 0.925     ,\n",
            "       0.92      , 0.945     , 0.92964824, 0.90954774, 0.94974874]), array([0.92      , 0.925     , 0.91      , 0.93      , 0.905     ,\n",
            "       0.945     , 0.94      , 0.92462312, 0.92964824, 0.92462312]), array([0.935     , 0.91      , 0.93      , 0.96      , 0.9       ,\n",
            "       0.91      , 0.93      , 0.91457286, 0.93969849, 0.91959799]), array([0.95      , 0.91      , 0.915     , 0.905     , 0.925     ,\n",
            "       0.93      , 0.935     , 0.92462312, 0.91959799, 0.93969849]), array([0.94      , 0.915     , 0.945     , 0.925     , 0.93      ,\n",
            "       0.92      , 0.915     , 0.90452261, 0.90954774, 0.94974874]), array([0.935     , 0.92      , 0.91      , 0.925     , 0.91      ,\n",
            "       0.93      , 0.96      , 0.91457286, 0.92964824, 0.92462312])]\n"
          ]
        }
      ]
    },
    {
      "cell_type": "code",
      "source": [
        "len(resultados_randomforest_cv), len(resultados_randomforest_cv_300)"
      ],
      "metadata": {
        "colab": {
          "base_uri": "https://localhost:8080/"
        },
        "id": "fGbEjoidKBBL",
        "outputId": "34d7f771-0da0-4e39-c955-72c92a9a3744"
      },
      "execution_count": 70,
      "outputs": [
        {
          "output_type": "execute_result",
          "data": {
            "text/plain": [
              "(30, 30)"
            ]
          },
          "metadata": {},
          "execution_count": 70
        }
      ]
    },
    {
      "cell_type": "code",
      "source": [
        "print(resultados_randomforest_cv)"
      ],
      "metadata": {
        "colab": {
          "base_uri": "https://localhost:8080/"
        },
        "id": "ATZT0nSpKz55",
        "outputId": "126976cd-4164-4bb8-abfe-b07f5af2887a"
      },
      "execution_count": 71,
      "outputs": [
        {
          "output_type": "stream",
          "name": "stdout",
          "text": [
            "[0.9854723618090452, 0.9854849246231157, 0.9854798994974875, 0.9869698492462312, 0.9884849246231155, 0.9859849246231155, 0.9874723618090453, 0.9879849246231156, 0.9864824120603016, 0.9859824120603016, 0.9889798994974874, 0.9874773869346735, 0.9864748743718593, 0.9884798994974874, 0.9874849246231155, 0.9879849246231156, 0.9879874371859296, 0.9859673366834171, 0.9864798994974875, 0.9839773869346734, 0.9859748743718593, 0.9864798994974875, 0.9839773869346734, 0.9899824120603015, 0.9879924623115578, 0.9854849246231157, 0.9869798994974875, 0.9839748743718593, 0.9884924623115579, 0.9884874371859297]\n"
          ]
        }
      ]
    },
    {
      "cell_type": "code",
      "source": [
        "len(resultados_regressaologistica_cv), len(resultados_regressaologistica_cv_300)"
      ],
      "metadata": {
        "colab": {
          "base_uri": "https://localhost:8080/"
        },
        "id": "KUj5WCeUKGXi",
        "outputId": "56bfa199-e8d5-4e1a-d087-58e90e64b4ca"
      },
      "execution_count": 72,
      "outputs": [
        {
          "output_type": "execute_result",
          "data": {
            "text/plain": [
              "(30, 30)"
            ]
          },
          "metadata": {},
          "execution_count": 72
        }
      ]
    },
    {
      "cell_type": "code",
      "source": [
        "print(resultados_regressaologistica_cv)"
      ],
      "metadata": {
        "colab": {
          "base_uri": "https://localhost:8080/"
        },
        "id": "FRPQQ_fGKLk6",
        "outputId": "d9892eda-422c-4395-bcce-93d079d76e38"
      },
      "execution_count": 73,
      "outputs": [
        {
          "output_type": "stream",
          "name": "stdout",
          "text": [
            "[0.9113718592964826, 0.9103668341708543, 0.918359296482412, 0.9158768844221106, 0.9133417085427136, 0.9108718592964824, 0.9188366834170856, 0.9188969849246231, 0.913356783919598, 0.9148693467336683, 0.9098718592964824, 0.9183542713567838, 0.9183793969849248, 0.9213618090452261, 0.9098643216080402, 0.914356783919598, 0.9103693467336684, 0.915856783919598, 0.9128542713567839, 0.9123668341708543, 0.9208944723618091, 0.9108668341708542, 0.9103467336683417, 0.9133768844221105, 0.9098592964824121, 0.9148768844221105, 0.910859296482412, 0.9113768844221104, 0.9113668341708543, 0.9098442211055277]\n"
          ]
        }
      ]
    },
    {
      "cell_type": "code",
      "source": [
        "print(resultados_regressaologistica_cv_300) #forma de matriz"
      ],
      "metadata": {
        "colab": {
          "base_uri": "https://localhost:8080/"
        },
        "id": "5Q4e9g-ML9z-",
        "outputId": "8f136e77-ac23-422a-a664-7c884d376646"
      },
      "execution_count": 75,
      "outputs": [
        {
          "output_type": "stream",
          "name": "stdout",
          "text": [
            "[array([0.905     , 0.925     , 0.92      , 0.885     , 0.925     ,\n",
            "       0.875     , 0.935     , 0.92462312, 0.86934673, 0.94974874]), array([0.895     , 0.945     , 0.905     , 0.925     , 0.915     ,\n",
            "       0.9       , 0.885     , 0.93969849, 0.90452261, 0.88944724]), array([0.9       , 0.865     , 0.925     , 0.935     , 0.94      ,\n",
            "       0.93      , 0.97      , 0.88944724, 0.91959799, 0.90954774]), array([0.895     , 0.905     , 0.94      , 0.955     , 0.925     ,\n",
            "       0.885     , 0.9       , 0.89949749, 0.94472362, 0.90954774]), array([0.96      , 0.925     , 0.91      , 0.905     , 0.915     ,\n",
            "       0.935     , 0.9       , 0.90452261, 0.88944724, 0.88944724]), array([0.93      , 0.885     , 0.91      , 0.93      , 0.895     ,\n",
            "       0.905     , 0.91      , 0.93969849, 0.88442211, 0.91959799]), array([0.95      , 0.915     , 0.91      , 0.965     , 0.96      ,\n",
            "       0.895     , 0.92      , 0.90954774, 0.88944724, 0.87437186]), array([0.91      , 0.915     , 0.92      , 0.905     , 0.9       ,\n",
            "       0.93      , 0.915     , 0.93969849, 0.93969849, 0.91457286]), array([0.89      , 0.96      , 0.9       , 0.94      , 0.925     ,\n",
            "       0.91      , 0.895     , 0.90452261, 0.89949749, 0.90954774]), array([0.89      , 0.9       , 0.915     , 0.91      , 0.91      ,\n",
            "       0.94      , 0.945     , 0.88442211, 0.92462312, 0.92964824]), array([0.905     , 0.905     , 0.94      , 0.925     , 0.91      ,\n",
            "       0.885     , 0.885     , 0.90954774, 0.90452261, 0.92964824]), array([0.94      , 0.94      , 0.9       , 0.92      , 0.915     ,\n",
            "       0.945     , 0.915     , 0.89949749, 0.92462312, 0.88442211]), array([0.93      , 0.915     , 0.91      , 0.94      , 0.925     ,\n",
            "       0.9       , 0.905     , 0.90954774, 0.95979899, 0.88944724]), array([0.96      , 0.905     , 0.895     , 0.895     , 0.98      ,\n",
            "       0.925     , 0.93      , 0.90452261, 0.93969849, 0.87939698]), array([0.91      , 0.935     , 0.915     , 0.905     , 0.87      ,\n",
            "       0.94      , 0.895     , 0.90452261, 0.91457286, 0.90954774]), array([0.87      , 0.92      , 0.94      , 0.915     , 0.965     ,\n",
            "       0.935     , 0.885     , 0.90452261, 0.91457286, 0.89447236]), array([0.9       , 0.905     , 0.925     , 0.915     , 0.925     ,\n",
            "       0.915     , 0.88      , 0.91959799, 0.90452261, 0.91457286]), array([0.925     , 0.89      , 0.94      , 0.935     , 0.955     ,\n",
            "       0.875     , 0.925     , 0.92462312, 0.87939698, 0.90954774]), array([0.915     , 0.92      , 0.915     , 0.93      , 0.9       ,\n",
            "       0.91      , 0.93      , 0.92964824, 0.89447236, 0.88442211]), array([0.93      , 0.895     , 0.92      , 0.93      , 0.895     ,\n",
            "       0.895     , 0.925     , 0.88442211, 0.94974874, 0.89949749]), array([0.91      , 0.905     , 0.93      , 0.875     , 0.925     ,\n",
            "       0.95      , 0.925     , 0.93467337, 0.92964824, 0.92462312]), array([0.91      , 0.915     , 0.875     , 0.935     , 0.905     ,\n",
            "       0.91      , 0.925     , 0.88442211, 0.91959799, 0.92964824]), array([0.945     , 0.92      , 0.91      , 0.925     , 0.925     ,\n",
            "       0.885     , 0.9       , 0.89447236, 0.90452261, 0.89447236]), array([0.905     , 0.89      , 0.915     , 0.925     , 0.9       ,\n",
            "       0.9       , 0.945     , 0.95979899, 0.89447236, 0.89949749]), array([0.91      , 0.915     , 0.91      , 0.885     , 0.915     ,\n",
            "       0.915     , 0.93      , 0.90954774, 0.89447236, 0.91457286]), array([0.905     , 0.92      , 0.95      , 0.89      , 0.9       ,\n",
            "       0.94      , 0.89      , 0.90954774, 0.94472362, 0.89949749]), array([0.925     , 0.9       , 0.92      , 0.935     , 0.93      ,\n",
            "       0.895     , 0.885     , 0.89949749, 0.90954774, 0.90954774]), array([0.945     , 0.89      , 0.895     , 0.91      , 0.925     ,\n",
            "       0.885     , 0.91      , 0.89447236, 0.91457286, 0.94472362]), array([0.895     , 0.905     , 0.935     , 0.915     , 0.91      ,\n",
            "       0.92      , 0.9       , 0.89949749, 0.90452261, 0.92964824]), array([0.91      , 0.93      , 0.89      , 0.89      , 0.92      ,\n",
            "       0.92      , 0.95      , 0.86934673, 0.90452261, 0.91457286])]\n"
          ]
        }
      ]
    },
    {
      "cell_type": "code",
      "source": [
        "#vamos deixar tudo no mesmo formato\n",
        "\n",
        "resultados_naives_bayes_cv = np.array(resultados_naives_bayes_cv)\n",
        "resultados_naives_bayes_cv_300 = np.array(np.asarray(resultados_naives_bayes_cv_300).reshape(-1))\n",
        "resultados_regressaologistica_cv = np.array(resultados_regressaologistica_cv)\n",
        "resultados_regressaologistica_cv_300 = np.array(np.asarray(resultados_regressaologistica_cv_300).reshape(-1))\n",
        "resultados_randomforest_cv = np.array(resultados_randomforest_cv)\n",
        "resultados_randomforest_cv_300 = np.array(np.asarray(resultados_randomforest_cv_300).reshape(-1))"
      ],
      "metadata": {
        "id": "EQX4fxvrRvco"
      },
      "execution_count": 86,
      "outputs": []
    },
    {
      "cell_type": "code",
      "source": [
        "resultados_naives_bayes_cv.shape, resultados_regressaologistica_cv.shape, resultados_randomforest_cv.shape"
      ],
      "metadata": {
        "colab": {
          "base_uri": "https://localhost:8080/"
        },
        "id": "Q7LbZamsSzmu",
        "outputId": "b8398f26-69d3-4b9a-9b13-a0bca265ba8f"
      },
      "execution_count": 87,
      "outputs": [
        {
          "output_type": "execute_result",
          "data": {
            "text/plain": [
              "((30,), (30,), (30,))"
            ]
          },
          "metadata": {},
          "execution_count": 87
        }
      ]
    },
    {
      "cell_type": "code",
      "source": [
        "resultados_naives_bayes_cv_300.shape, resultados_regressaologistica_cv_300.shape, resultados_randomforest_cv_300.shape"
      ],
      "metadata": {
        "colab": {
          "base_uri": "https://localhost:8080/"
        },
        "id": "dZ2ZG7TAS2Th",
        "outputId": "70f57f5d-15a0-4f7a-c27a-b1e2f04df55f"
      },
      "execution_count": 88,
      "outputs": [
        {
          "output_type": "execute_result",
          "data": {
            "text/plain": [
              "((300,), (300,), (300,))"
            ]
          },
          "metadata": {},
          "execution_count": 88
        }
      ]
    },
    {
      "cell_type": "code",
      "source": [
        "sns.distplot(resultados_naives_bayes_cv);"
      ],
      "metadata": {
        "colab": {
          "base_uri": "https://localhost:8080/",
          "height": 321
        },
        "id": "2JJazXdGS4y-",
        "outputId": "89cc9f5c-2808-4e90-db5c-2064f095692c"
      },
      "execution_count": 90,
      "outputs": [
        {
          "output_type": "stream",
          "name": "stderr",
          "text": [
            "/usr/local/lib/python3.7/dist-packages/seaborn/distributions.py:2619: FutureWarning: `distplot` is a deprecated function and will be removed in a future version. Please adapt your code to use either `displot` (a figure-level function with similar flexibility) or `histplot` (an axes-level function for histograms).\n",
            "  warnings.warn(msg, FutureWarning)\n"
          ]
        },
        {
          "output_type": "display_data",
          "data": {
            "image/png": "[encoded data removed]",
            "text/plain": [
              "<Figure size 432x288 with 1 Axes>"
            ]
          },
          "metadata": {
            "needs_background": "light"
          }
        }
      ]
    },
    {
      "cell_type": "code",
      "source": [
        "sns.distplot(resultados_naives_bayes_cv_300);"
      ],
      "metadata": {
        "colab": {
          "base_uri": "https://localhost:8080/",
          "height": 323
        },
        "id": "C9W_GfcKTvea",
        "outputId": "21d900a1-b29c-42d3-d4e3-05e0e84753c0"
      },
      "execution_count": 91,
      "outputs": [
        {
          "output_type": "stream",
          "name": "stderr",
          "text": [
            "/usr/local/lib/python3.7/dist-packages/seaborn/distributions.py:2619: FutureWarning: `distplot` is a deprecated function and will be removed in a future version. Please adapt your code to use either `displot` (a figure-level function with similar flexibility) or `histplot` (an axes-level function for histograms).\n",
            "  warnings.warn(msg, FutureWarning)\n"
          ]
        },
        {
          "output_type": "display_data",
          "data": {
            "image/png": "[encoded data removed]",
            "text/plain": [
              "<Figure size 432x288 with 1 Axes>"
            ]
          },
          "metadata": {
            "needs_background": "light"
          }
        }
      ]
    },
    {
      "cell_type": "code",
      "source": [
        "sns.distplot(resultados_regressaologistica_cv);"
      ],
      "metadata": {
        "colab": {
          "base_uri": "https://localhost:8080/",
          "height": 321
        },
        "id": "-7NM3ODUT1FL",
        "outputId": "c59ea77d-4070-4d25-9b42-448285cbbdd3"
      },
      "execution_count": 92,
      "outputs": [
        {
          "output_type": "stream",
          "name": "stderr",
          "text": [
            "/usr/local/lib/python3.7/dist-packages/seaborn/distributions.py:2619: FutureWarning: `distplot` is a deprecated function and will be removed in a future version. Please adapt your code to use either `displot` (a figure-level function with similar flexibility) or `histplot` (an axes-level function for histograms).\n",
            "  warnings.warn(msg, FutureWarning)\n"
          ]
        },
        {
          "output_type": "display_data",
          "data": {
            "image/png": "[encoded data removed]",
            "text/plain": [
              "<Figure size 432x288 with 1 Axes>"
            ]
          },
          "metadata": {
            "needs_background": "light"
          }
        }
      ]
    },
    {
      "cell_type": "code",
      "source": [
        "sns.distplot(resultados_regressaologistica_cv_300);"
      ],
      "metadata": {
        "colab": {
          "base_uri": "https://localhost:8080/",
          "height": 321
        },
        "id": "mUCBka_3T4tI",
        "outputId": "1f14b830-bf69-4388-b76b-a14fbb4b8025"
      },
      "execution_count": 93,
      "outputs": [
        {
          "output_type": "stream",
          "name": "stderr",
          "text": [
            "/usr/local/lib/python3.7/dist-packages/seaborn/distributions.py:2619: FutureWarning: `distplot` is a deprecated function and will be removed in a future version. Please adapt your code to use either `displot` (a figure-level function with similar flexibility) or `histplot` (an axes-level function for histograms).\n",
            "  warnings.warn(msg, FutureWarning)\n"
          ]
        },
        {
          "output_type": "display_data",
          "data": {
            "image/png": "[encoded data removed]",
            "text/plain": [
              "<Figure size 432x288 with 1 Axes>"
            ]
          },
          "metadata": {
            "needs_background": "light"
          }
        }
      ]
    },
    {
      "cell_type": "code",
      "source": [
        "sns.distplot(resultados_randomforest_cv);"
      ],
      "metadata": {
        "colab": {
          "base_uri": "https://localhost:8080/",
          "height": 321
        },
        "id": "uCuTe7gfT8Fv",
        "outputId": "2989cb15-7f95-4959-b6f9-baef1da5c58c"
      },
      "execution_count": 94,
      "outputs": [
        {
          "output_type": "stream",
          "name": "stderr",
          "text": [
            "/usr/local/lib/python3.7/dist-packages/seaborn/distributions.py:2619: FutureWarning: `distplot` is a deprecated function and will be removed in a future version. Please adapt your code to use either `displot` (a figure-level function with similar flexibility) or `histplot` (an axes-level function for histograms).\n",
            "  warnings.warn(msg, FutureWarning)\n"
          ]
        },
        {
          "output_type": "display_data",
          "data": {
            "image/png": "[encoded data removed]",
            "text/plain": [
              "<Figure size 432x288 with 1 Axes>"
            ]
          },
          "metadata": {
            "needs_background": "light"
          }
        }
      ]
    },
    {
      "cell_type": "code",
      "source": [
        "sns.distplot(resultados_randomforest_cv_300);"
      ],
      "metadata": {
        "colab": {
          "base_uri": "https://localhost:8080/",
          "height": 321
        },
        "id": "_GomwLIJT_qX",
        "outputId": "95c72df3-7e35-4cac-f7bc-addde4a14bd3"
      },
      "execution_count": 95,
      "outputs": [
        {
          "output_type": "stream",
          "name": "stderr",
          "text": [
            "/usr/local/lib/python3.7/dist-packages/seaborn/distributions.py:2619: FutureWarning: `distplot` is a deprecated function and will be removed in a future version. Please adapt your code to use either `displot` (a figure-level function with similar flexibility) or `histplot` (an axes-level function for histograms).\n",
            "  warnings.warn(msg, FutureWarning)\n"
          ]
        },
        {
          "output_type": "display_data",
          "data": {
            "image/png": "[encoded data removed]",
            "text/plain": [
              "<Figure size 432x288 with 1 Axes>"
            ]
          },
          "metadata": {
            "needs_background": "light"
          }
        }
      ]
    },
    {
      "cell_type": "code",
      "source": [
        "resultados_naives_bayes_cv.mean(), resultados_regressaologistica_cv.mean(), resultados_randomforest_cv.mean()"
      ],
      "metadata": {
        "colab": {
          "base_uri": "https://localhost:8080/"
        },
        "id": "8_Q5bzceUDZy",
        "outputId": "cda471ba-5846-4809-e63e-636fc3cff0ce"
      },
      "execution_count": 96,
      "outputs": [
        {
          "output_type": "execute_result",
          "data": {
            "text/plain": [
              "(0.9249359296482411, 0.9137817420435511, 0.9868306532663317)"
            ]
          },
          "metadata": {},
          "execution_count": 96
        }
      ]
    },
    {
      "cell_type": "code",
      "source": [
        "stats.variation(resultados_naives_bayes_cv) * 100, stats.variation(resultados_regressaologistica_cv)*100, stats.variation(resultados_randomforest_cv) * 100"
      ],
      "metadata": {
        "colab": {
          "base_uri": "https://localhost:8080/"
        },
        "id": "bxml5t6jUgOq",
        "outputId": "e152b1fe-7fd9-4c2a-fc5a-6847a9fb0e88"
      },
      "execution_count": 100,
      "outputs": [
        {
          "output_type": "execute_result",
          "data": {
            "text/plain": [
              "(0.08641071566366061, 0.38801026116292653, 0.15178087948090277)"
            ]
          },
          "metadata": {},
          "execution_count": 100
        }
      ]
    },
    {
      "cell_type": "markdown",
      "source": [
        "- intervalo de confiança"
      ],
      "metadata": {
        "id": "KXGP4cBoWuwJ"
      }
    },
    {
      "cell_type": "code",
      "source": [
        "from scipy.stats import norm #aqui vamos usar para os casos dos _cv_300\n",
        "from scipy.stats import t #importamos para menos de 30 registros, que é o caso dos _cv"
      ],
      "metadata": {
        "id": "Aprm7oWFUyXa"
      },
      "execution_count": 102,
      "outputs": []
    },
    {
      "cell_type": "markdown",
      "source": [
        "*Naive Bayes*"
      ],
      "metadata": {
        "id": "-LXMn9N2XOUu"
      }
    },
    {
      "cell_type": "code",
      "source": [
        "intervalos_naive_bayes_t = t.interval(0.95, len(resultados_naives_bayes_cv) -1,\n",
        "                                      resultados_naives_bayes_cv.mean(),\n",
        "                                      stats.sem(resultados_naives_bayes_cv, ddof=0))\n",
        "\n",
        "intervalos_naive_bayes_t"
      ],
      "metadata": {
        "colab": {
          "base_uri": "https://localhost:8080/"
        },
        "id": "hiukNgYhW8Ea",
        "outputId": "80d9f71c-8e8e-4868-b664-3e810b2dba36"
      },
      "execution_count": 104,
      "outputs": [
        {
          "output_type": "execute_result",
          "data": {
            "text/plain": [
              "(0.9246374871248957, 0.9252343721715865)"
            ]
          },
          "metadata": {},
          "execution_count": 104
        }
      ]
    },
    {
      "cell_type": "code",
      "source": [
        "abs(resultados_naives_bayes_cv.mean() - intervalos_naive_bayes_t[1])"
      ],
      "metadata": {
        "colab": {
          "base_uri": "https://localhost:8080/"
        },
        "id": "fSpwR_bjXz-1",
        "outputId": "675f45e0-1d45-4701-defc-2b1fb302adfa"
      },
      "execution_count": 105,
      "outputs": [
        {
          "output_type": "execute_result",
          "data": {
            "text/plain": [
              "0.0002984425233454324"
            ]
          },
          "metadata": {},
          "execution_count": 105
        }
      ]
    },
    {
      "cell_type": "code",
      "source": [
        "intervalos_naive_bayes_norm = norm.interval(0.95, resultados_naives_bayes_cv_300.mean(),\n",
        "                                            stats.sem(resultados_naives_bayes_cv_300))\n",
        "\n",
        "intervalos_naive_bayes_norm"
      ],
      "metadata": {
        "colab": {
          "base_uri": "https://localhost:8080/"
        },
        "id": "HDuG0Bh5YCOJ",
        "outputId": "8ac96dd3-cf0b-4037-eca2-350df3d08ab8"
      },
      "execution_count": 106,
      "outputs": [
        {
          "output_type": "execute_result",
          "data": {
            "text/plain": [
              "(0.9229333893644709, 0.9269384699320113)"
            ]
          },
          "metadata": {},
          "execution_count": 106
        }
      ]
    },
    {
      "cell_type": "code",
      "source": [
        "abs(resultados_naives_bayes_cv_300.mean() - intervalos_naive_bayes_norm[1])"
      ],
      "metadata": {
        "colab": {
          "base_uri": "https://localhost:8080/"
        },
        "id": "9kD39N6dYWVE",
        "outputId": "2ca78871-f666-4ae9-cd0b-de78d796e17b"
      },
      "execution_count": 110,
      "outputs": [
        {
          "output_type": "execute_result",
          "data": {
            "text/plain": [
              "0.0020025402837702266"
            ]
          },
          "metadata": {},
          "execution_count": 110
        }
      ]
    },
    {
      "cell_type": "markdown",
      "source": [
        "*Regressao Logistica*"
      ],
      "metadata": {
        "id": "A-AunCJCYh_B"
      }
    },
    {
      "cell_type": "code",
      "source": [
        "intervalos_regressao_logistica_t = t.interval(0.95, len(resultados_regressaologistica_cv) -1,\n",
        "                                      resultados_regressaologistica_cv.mean(),\n",
        "                                      stats.sem(resultados_regressaologistica_cv, ddof=0))\n",
        "\n",
        "intervalos_regressao_logistica_t"
      ],
      "metadata": {
        "colab": {
          "base_uri": "https://localhost:8080/"
        },
        "id": "nYNWi1oPYfZv",
        "outputId": "20ef5d05-c227-47c3-ca90-97ae0c1e13bc"
      },
      "execution_count": 108,
      "outputs": [
        {
          "output_type": "execute_result",
          "data": {
            "text/plain": [
              "(0.9124578055959317, 0.9151056784911705)"
            ]
          },
          "metadata": {},
          "execution_count": 108
        }
      ]
    },
    {
      "cell_type": "code",
      "source": [
        "abs(resultados_regressaologistica_cv.mean() - intervalos_regressao_logistica_t[1])"
      ],
      "metadata": {
        "colab": {
          "base_uri": "https://localhost:8080/"
        },
        "id": "VzRZsDivY2PQ",
        "outputId": "73da242f-dbd4-4b6b-ced2-5b4aac944408"
      },
      "execution_count": 114,
      "outputs": [
        {
          "output_type": "execute_result",
          "data": {
            "text/plain": [
              "0.0013239364476194115"
            ]
          },
          "metadata": {},
          "execution_count": 114
        }
      ]
    },
    {
      "cell_type": "code",
      "source": [
        "intervalos_regressao_logistica_norm = norm.interval(0.95, resultados_regressaologistica_cv_300.mean(),\n",
        "                                      stats.sem(resultados_regressaologistica_cv_300))\n",
        "\n",
        "intervalos_regressao_logistica_norm"
      ],
      "metadata": {
        "colab": {
          "base_uri": "https://localhost:8080/"
        },
        "id": "dwHZC3icY_q_",
        "outputId": "2c51892a-322c-413a-90c3-bb4d975b9b1b"
      },
      "execution_count": 120,
      "outputs": [
        {
          "output_type": "execute_result",
          "data": {
            "text/plain": [
              "(0.985988905877321, 0.9876724006553426)"
            ]
          },
          "metadata": {},
          "execution_count": 120
        }
      ]
    },
    {
      "cell_type": "code",
      "source": [
        "abs(resultados_regressaologistica_cv_300.mean() - intervalos_regressao_logistica_norm[1])"
      ],
      "metadata": {
        "colab": {
          "base_uri": "https://localhost:8080/"
        },
        "id": "XaAfvMHvZTtk",
        "outputId": "1a19ac65-ce42-41fc-ac99-59373b305ae9"
      },
      "execution_count": 134,
      "outputs": [
        {
          "output_type": "execute_result",
          "data": {
            "text/plain": [
              "0.0008417473890107718"
            ]
          },
          "metadata": {},
          "execution_count": 134
        }
      ]
    },
    {
      "cell_type": "markdown",
      "source": [
        "*Random Forest*"
      ],
      "metadata": {
        "id": "UImy2DcSa0sm"
      }
    },
    {
      "cell_type": "code",
      "source": [
        "intervalos_random_forest_t = t.interval(0.95, len(resultados_randomforest_cv)-1,\n",
        "                                        resultados_randomforest_cv.mean(),\n",
        "                                        stats.sem(resultados_randomforest_cv_300))\n",
        "\n",
        "intervalos_random_forest_t"
      ],
      "metadata": {
        "colab": {
          "base_uri": "https://localhost:8080/"
        },
        "id": "6eEtecTvaF0c",
        "outputId": "3861283e-95ce-4e38-9445-a712d7edc8c5"
      },
      "execution_count": 122,
      "outputs": [
        {
          "output_type": "execute_result",
          "data": {
            "text/plain": [
              "(0.9859522867632876, 0.9877090197693758)"
            ]
          },
          "metadata": {},
          "execution_count": 122
        }
      ]
    },
    {
      "cell_type": "code",
      "source": [
        "abs(resultados_randomforest_cv.mean()- intervalos_random_forest_t[1])"
      ],
      "metadata": {
        "colab": {
          "base_uri": "https://localhost:8080/"
        },
        "id": "LzzNmkR_bRLg",
        "outputId": "9e21cefd-ff6b-440c-9764-d6f4f2159d1d"
      },
      "execution_count": 135,
      "outputs": [
        {
          "output_type": "execute_result",
          "data": {
            "text/plain": [
              "0.0008783665030440702"
            ]
          },
          "metadata": {},
          "execution_count": 135
        }
      ]
    },
    {
      "cell_type": "code",
      "source": [
        "intervalos_random_forest_norm = norm.interval(0.95, resultados_randomforest_cv_300.mean(),\n",
        "                                            stats.sem(resultados_randomforest_cv_300))\n",
        "\n",
        "intervalos_random_forest_norm"
      ],
      "metadata": {
        "colab": {
          "base_uri": "https://localhost:8080/"
        },
        "id": "UCW1pgcjbm_V",
        "outputId": "0420ec4b-4a29-422a-84e6-b188da3bf746"
      },
      "execution_count": 132,
      "outputs": [
        {
          "output_type": "execute_result",
          "data": {
            "text/plain": [
              "(0.985988905877321, 0.9876724006553426)"
            ]
          },
          "metadata": {},
          "execution_count": 132
        }
      ]
    },
    {
      "cell_type": "code",
      "source": [
        "abs(resultados_randomforest_cv_300.mean() - intervalos_random_forest_norm[1])"
      ],
      "metadata": {
        "colab": {
          "base_uri": "https://localhost:8080/"
        },
        "id": "vzGoL-1Wb_Pl",
        "outputId": "bb9020e5-cecf-4c78-dbbc-cbebf11fccdd"
      },
      "execution_count": 136,
      "outputs": [
        {
          "output_type": "execute_result",
          "data": {
            "text/plain": [
              "0.0008417473890107718"
            ]
          },
          "metadata": {},
          "execution_count": 136
        }
      ]
    },
    {
      "cell_type": "markdown",
      "source": [
        "o algoritimo de Random Forest mostrou ter sido o melhor na acurácia dos modelos, e também a respeito do intervalos de confiança"
      ],
      "metadata": {
        "id": "_OHwoxEMfxVa"
      }
    },
    {
      "cell_type": "code",
      "source": [
        "kfold = KFold(n_splits=10, shuffle=True)\n",
        "random_forest = RandomForestClassifier()\n",
        "scores = cross_val_score(random_forest, x, y, cv=kfold)\n",
        "print(scores.mean())"
      ],
      "metadata": {
        "colab": {
          "base_uri": "https://localhost:8080/"
        },
        "id": "9RyjLeHZgCbp",
        "outputId": "d8b7b356-8661-4c3a-86e8-c992602759a7"
      },
      "execution_count": 137,
      "outputs": [
        {
          "output_type": "stream",
          "name": "stdout",
          "text": [
            "0.9849798994974874\n"
          ]
        }
      ]
    },
    {
      "cell_type": "markdown",
      "source": [
        "a media ficou nesse valor, ou seja, temos a confiança de que o algoritimo nos traz esta eficácia média"
      ],
      "metadata": {
        "id": "LZxb0746g97l"
      }
    },
    {
      "cell_type": "markdown",
      "source": [
        "**Teste de Hipoteses**"
      ],
      "metadata": {
        "id": "6nPLq4fahnRM"
      }
    },
    {
      "cell_type": "code",
      "source": [
        "dados_originais = np.array([126. , 129.5, 133. , 133. , 136.5, 136.5, 140. , 140. , 140. ,\n",
        "                            140. , 143.5, 143.5, 143.5, 143.5, 143.5, 143.5, 147. , 147. ,\n",
        "                            147. , 147. , 147. , 147. , 147. , 150.5, 150.5, 150.5, 150.5,\n",
        "                            150.5, 150.5, 150.5, 150.5, 154. , 154. , 154. , 154. , 154. ,\n",
        "                            154. , 154. , 154. , 154. , 157.5, 157.5, 157.5, 157.5, 157.5,\n",
        "                            157.5, 157.5, 157.5, 157.5, 157.5, 161. , 161. , 161. , 161. ,\n",
        "                            161. , 161. , 161. , 161. , 161. , 161. , 164.5, 164.5, 164.5,\n",
        "                            164.5, 164.5, 164.5, 164.5, 164.5, 164.5, 168. , 168. , 168. ,\n",
        "                            168. , 168. , 168. , 168. , 168. , 171.5, 171.5, 171.5, 171.5,\n",
        "                            171.5, 171.5, 171.5, 175. , 175. , 175. , 175. , 175. , 175. ,\n",
        "                            178.5, 178.5, 178.5, 178.5, 182. , 182. , 185.5, 185.5, 189., 192.5])"
      ],
      "metadata": {
        "id": "6Hoe6cRbhqep"
      },
      "execution_count": 138,
      "outputs": []
    },
    {
      "cell_type": "code",
      "source": [
        "H0_media = np.mean(dados_originais)\n",
        "H0_media"
      ],
      "metadata": {
        "colab": {
          "base_uri": "https://localhost:8080/"
        },
        "id": "GhSRCCR_h1eb",
        "outputId": "b5c05ff0-2afd-4275-c518-3d6a0d0eb054"
      },
      "execution_count": 139,
      "outputs": [
        {
          "output_type": "execute_result",
          "data": {
            "text/plain": [
              "159.25"
            ]
          },
          "metadata": {},
          "execution_count": 139
        }
      ]
    },
    {
      "cell_type": "code",
      "source": [
        "H0_desvio_padrao = np.std(dados_originais)\n",
        "H0_desvio_padrao"
      ],
      "metadata": {
        "colab": {
          "base_uri": "https://localhost:8080/"
        },
        "id": "7Bbtq0uMh3m-",
        "outputId": "75d705d1-990a-424b-c737-9893d3316f84"
      },
      "execution_count": 140,
      "outputs": [
        {
          "output_type": "execute_result",
          "data": {
            "text/plain": [
              "13.65"
            ]
          },
          "metadata": {},
          "execution_count": 140
        }
      ]
    },
    {
      "cell_type": "code",
      "source": [
        "dados_novos = dados_originais * 1.03\n",
        "dados_novos"
      ],
      "metadata": {
        "colab": {
          "base_uri": "https://localhost:8080/"
        },
        "id": "AmWrSceph6ZV",
        "outputId": "10c28ef1-3303-47cb-b946-b3689e220e7a"
      },
      "execution_count": 141,
      "outputs": [
        {
          "output_type": "execute_result",
          "data": {
            "text/plain": [
              "array([129.78 , 133.385, 136.99 , 136.99 , 140.595, 140.595, 144.2  ,\n",
              "       144.2  , 144.2  , 144.2  , 147.805, 147.805, 147.805, 147.805,\n",
              "       147.805, 147.805, 151.41 , 151.41 , 151.41 , 151.41 , 151.41 ,\n",
              "       151.41 , 151.41 , 155.015, 155.015, 155.015, 155.015, 155.015,\n",
              "       155.015, 155.015, 155.015, 158.62 , 158.62 , 158.62 , 158.62 ,\n",
              "       158.62 , 158.62 , 158.62 , 158.62 , 158.62 , 162.225, 162.225,\n",
              "       162.225, 162.225, 162.225, 162.225, 162.225, 162.225, 162.225,\n",
              "       162.225, 165.83 , 165.83 , 165.83 , 165.83 , 165.83 , 165.83 ,\n",
              "       165.83 , 165.83 , 165.83 , 165.83 , 169.435, 169.435, 169.435,\n",
              "       169.435, 169.435, 169.435, 169.435, 169.435, 169.435, 173.04 ,\n",
              "       173.04 , 173.04 , 173.04 , 173.04 , 173.04 , 173.04 , 173.04 ,\n",
              "       176.645, 176.645, 176.645, 176.645, 176.645, 176.645, 176.645,\n",
              "       180.25 , 180.25 , 180.25 , 180.25 , 180.25 , 180.25 , 183.855,\n",
              "       183.855, 183.855, 183.855, 187.46 , 187.46 , 191.065, 191.065,\n",
              "       194.67 , 198.275])"
            ]
          },
          "metadata": {},
          "execution_count": 141
        }
      ]
    },
    {
      "cell_type": "code",
      "source": [
        "H1_media = np.mean(dados_novos)\n",
        "H1_media"
      ],
      "metadata": {
        "colab": {
          "base_uri": "https://localhost:8080/"
        },
        "id": "u9ILRVP5h8fx",
        "outputId": "92f7ec2f-9da0-45e6-e47a-616f91e7e0e4"
      },
      "execution_count": 142,
      "outputs": [
        {
          "output_type": "execute_result",
          "data": {
            "text/plain": [
              "164.0275"
            ]
          },
          "metadata": {},
          "execution_count": 142
        }
      ]
    },
    {
      "cell_type": "code",
      "source": [
        "H1_desvio_padrao = np.std(dados_novos)\n",
        "H1_desvio_padrao"
      ],
      "metadata": {
        "colab": {
          "base_uri": "https://localhost:8080/"
        },
        "id": "7t6mdOmXh-xo",
        "outputId": "a4517c44-67c6-45b7-8f32-ed413e1cbd3e"
      },
      "execution_count": 143,
      "outputs": [
        {
          "output_type": "execute_result",
          "data": {
            "text/plain": [
              "14.0595"
            ]
          },
          "metadata": {},
          "execution_count": 143
        }
      ]
    },
    {
      "cell_type": "code",
      "source": [
        "H1_n = len(dados_novos)\n",
        "H1_n"
      ],
      "metadata": {
        "colab": {
          "base_uri": "https://localhost:8080/"
        },
        "id": "2grole9riAnZ",
        "outputId": "88d6a0df-b7a1-42c4-ac18-f21c78beecbc"
      },
      "execution_count": 144,
      "outputs": [
        {
          "output_type": "execute_result",
          "data": {
            "text/plain": [
              "100"
            ]
          },
          "metadata": {},
          "execution_count": 144
        }
      ]
    },
    {
      "cell_type": "code",
      "source": [
        "alpha = 0.05"
      ],
      "metadata": {
        "id": "1yD9KjHciDdz"
      },
      "execution_count": 145,
      "outputs": []
    },
    {
      "cell_type": "markdown",
      "source": [
        "- teste de hipotese z"
      ],
      "metadata": {
        "id": "4LvrvPgNiNzL"
      }
    },
    {
      "cell_type": "code",
      "source": [
        "from statsmodels.stats.weightstats import ztest"
      ],
      "metadata": {
        "colab": {
          "base_uri": "https://localhost:8080/"
        },
        "id": "zGYLG-ZLiFau",
        "outputId": "25ed524e-ba40-4e57-9cdf-63ecca8e1427"
      },
      "execution_count": 146,
      "outputs": [
        {
          "output_type": "stream",
          "name": "stderr",
          "text": [
            "/usr/local/lib/python3.7/dist-packages/statsmodels/tools/_testing.py:19: FutureWarning: pandas.util.testing is deprecated. Use the functions in the public API at pandas.testing instead.\n",
            "  import pandas.util.testing as tm\n"
          ]
        }
      ]
    },
    {
      "cell_type": "code",
      "source": [
        "_, p = ztest(dados_originais, dados_novos,\n",
        "             value = H1_media - H0_media,\n",
        "             alternative='larger')"
      ],
      "metadata": {
        "id": "F6WhXenWiTCh"
      },
      "execution_count": 147,
      "outputs": []
    },
    {
      "cell_type": "code",
      "source": [
        "p"
      ],
      "metadata": {
        "colab": {
          "base_uri": "https://localhost:8080/"
        },
        "id": "d6p_SAPYiVuH",
        "outputId": "e5e02950-a346-4f88-8b6f-02a7cef64184"
      },
      "execution_count": 148,
      "outputs": [
        {
          "output_type": "execute_result",
          "data": {
            "text/plain": [
              "0.9999993877283934"
            ]
          },
          "metadata": {},
          "execution_count": 148
        }
      ]
    },
    {
      "cell_type": "markdown",
      "source": [
        "- teste de hipotese t"
      ],
      "metadata": {
        "id": "MdJuxxldiZB8"
      }
    },
    {
      "cell_type": "code",
      "source": [
        "dados_originais = np.array([149. , 160., 147., 189., 175., 168., 156., 160., 152.])"
      ],
      "metadata": {
        "id": "pMZd1u2NiW-U"
      },
      "execution_count": 149,
      "outputs": []
    },
    {
      "cell_type": "code",
      "source": [
        "dados_originais.mean(), np.std(dados_originais)"
      ],
      "metadata": {
        "colab": {
          "base_uri": "https://localhost:8080/"
        },
        "id": "vBCxr0VKic6Q",
        "outputId": "68c8273e-da71-41a7-bc3a-a0efd706538b"
      },
      "execution_count": 150,
      "outputs": [
        {
          "output_type": "execute_result",
          "data": {
            "text/plain": [
              "(161.77777777777777, 12.786953227391823)"
            ]
          },
          "metadata": {},
          "execution_count": 150
        }
      ]
    },
    {
      "cell_type": "code",
      "source": [
        "dados_novos = dados_originais * 1.02\n",
        "dados_novos"
      ],
      "metadata": {
        "colab": {
          "base_uri": "https://localhost:8080/"
        },
        "id": "yKm1QprxifLi",
        "outputId": "93d7d7de-f71a-45db-904f-923ae30e5b5a"
      },
      "execution_count": 151,
      "outputs": [
        {
          "output_type": "execute_result",
          "data": {
            "text/plain": [
              "array([151.98, 163.2 , 149.94, 192.78, 178.5 , 171.36, 159.12, 163.2 ,\n",
              "       155.04])"
            ]
          },
          "metadata": {},
          "execution_count": 151
        }
      ]
    },
    {
      "cell_type": "code",
      "source": [
        "dados_novos.mean(), np.std(dados_novos)"
      ],
      "metadata": {
        "colab": {
          "base_uri": "https://localhost:8080/"
        },
        "id": "eRcsxf89il5P",
        "outputId": "9cd0025b-76fc-4d6e-e439-0160bada8a09"
      },
      "execution_count": 152,
      "outputs": [
        {
          "output_type": "execute_result",
          "data": {
            "text/plain": [
              "(165.01333333333332, 13.042692291939664)"
            ]
          },
          "metadata": {},
          "execution_count": 152
        }
      ]
    },
    {
      "cell_type": "code",
      "source": [
        "from scipy.stats import ttest_rel"
      ],
      "metadata": {
        "id": "uebNmjp_in8d"
      },
      "execution_count": 153,
      "outputs": []
    },
    {
      "cell_type": "code",
      "source": [
        "_, p = ttest_rel(dados_originais, dados_novos)\n",
        "p"
      ],
      "metadata": {
        "colab": {
          "base_uri": "https://localhost:8080/"
        },
        "id": "AMOp2aDqiqRz",
        "outputId": "1f762376-d2c2-4b1f-a5cc-79998463fbb2"
      },
      "execution_count": 154,
      "outputs": [
        {
          "output_type": "execute_result",
          "data": {
            "text/plain": [
              "4.072922493930298e-10"
            ]
          },
          "metadata": {},
          "execution_count": 154
        }
      ]
    },
    {
      "cell_type": "code",
      "source": [
        "alpha = 0.01\n",
        "if p <= alpha:\n",
        "  print('Hipótese nula rejeitada')\n",
        "else:\n",
        "  print('Hipótese alternativa rejeitada')"
      ],
      "metadata": {
        "colab": {
          "base_uri": "https://localhost:8080/"
        },
        "id": "fSfkGeAwisv8",
        "outputId": "782f4374-14da-4fa4-a52b-268203fb9f10"
      },
      "execution_count": 155,
      "outputs": [
        {
          "output_type": "stream",
          "name": "stdout",
          "text": [
            "Hipótese nula rejeitada\n"
          ]
        }
      ]
    },
    {
      "cell_type": "markdown",
      "source": [
        "- teste qui quadrado"
      ],
      "metadata": {
        "id": "C0uulvbdixJo"
      }
    },
    {
      "cell_type": "code",
      "source": [
        "from scipy.stats import chi2_contingency"
      ],
      "metadata": {
        "id": "kCy4aeq-ivRI"
      },
      "execution_count": 156,
      "outputs": []
    },
    {
      "cell_type": "code",
      "source": [
        "tabela = np.array([[45, 5], [5, 45]])"
      ],
      "metadata": {
        "id": "01klBYc7i0-M"
      },
      "execution_count": 157,
      "outputs": []
    },
    {
      "cell_type": "code",
      "source": [
        "tabela.shape"
      ],
      "metadata": {
        "colab": {
          "base_uri": "https://localhost:8080/"
        },
        "id": "GV1-Wk2Pi3LB",
        "outputId": "7611d48d-e157-413c-cba9-e26a6ff3aca6"
      },
      "execution_count": 158,
      "outputs": [
        {
          "output_type": "execute_result",
          "data": {
            "text/plain": [
              "(2, 2)"
            ]
          },
          "metadata": {},
          "execution_count": 158
        }
      ]
    },
    {
      "cell_type": "code",
      "source": [
        "_, p, _, _ = chi2_contingency(tabela)\n",
        "p"
      ],
      "metadata": {
        "colab": {
          "base_uri": "https://localhost:8080/"
        },
        "id": "3ENAOj1hi5Jq",
        "outputId": "0bef914a-f128-40ff-a420-5eaba867316b"
      },
      "execution_count": 159,
      "outputs": [
        {
          "output_type": "execute_result",
          "data": {
            "text/plain": [
              "6.190717543917382e-15"
            ]
          },
          "metadata": {},
          "execution_count": 159
        }
      ]
    },
    {
      "cell_type": "code",
      "source": [
        "alpha = 0.05\n",
        "if p <= alpha:\n",
        "  print('Hipótese nula rejeitada')\n",
        "else:\n",
        "  print('Hipótese alternativa rejeitada')"
      ],
      "metadata": {
        "colab": {
          "base_uri": "https://localhost:8080/"
        },
        "id": "N0c19XrCi77m",
        "outputId": "7fe0aa2d-d52e-474b-b93f-fca46cf73ba7"
      },
      "execution_count": 160,
      "outputs": [
        {
          "output_type": "stream",
          "name": "stdout",
          "text": [
            "Hipótese nula rejeitada\n"
          ]
        }
      ]
    },
    {
      "cell_type": "markdown",
      "source": [
        "**ANOVA** - ANALISE DE VARIAÇÃO"
      ],
      "metadata": {
        "id": "ohwA4TmyjIuM"
      }
    },
    {
      "cell_type": "code",
      "source": [
        "grupo_a = np.array([165, 152, 143, 140, 155])\n",
        "grupo_b = np.array([130, 169, 164, 143, 154])\n",
        "grupo_c = np.array([163, 158, 154, 149, 156])"
      ],
      "metadata": {
        "id": "ZU0SCah5i_nb"
      },
      "execution_count": 161,
      "outputs": []
    },
    {
      "cell_type": "code",
      "source": [
        "from scipy.stats import f"
      ],
      "metadata": {
        "id": "8mGTnAldjfw2"
      },
      "execution_count": 162,
      "outputs": []
    },
    {
      "cell_type": "code",
      "source": [
        "f.ppf(1 - 0.05, dfn = 2, dfd = 12)"
      ],
      "metadata": {
        "colab": {
          "base_uri": "https://localhost:8080/"
        },
        "id": "vSoxTZC7jfnX",
        "outputId": "d5a2f485-b794-48f6-e8c4-c3d815a8ab2f"
      },
      "execution_count": 163,
      "outputs": [
        {
          "output_type": "execute_result",
          "data": {
            "text/plain": [
              "3.8852938346523933"
            ]
          },
          "metadata": {},
          "execution_count": 163
        }
      ]
    },
    {
      "cell_type": "code",
      "source": [
        "from scipy.stats import f_oneway"
      ],
      "metadata": {
        "id": "IQX_u6HPjfcu"
      },
      "execution_count": 164,
      "outputs": []
    },
    {
      "cell_type": "code",
      "source": [
        "_, p = f_oneway(grupo_a, grupo_b, grupo_c)\n",
        "p"
      ],
      "metadata": {
        "colab": {
          "base_uri": "https://localhost:8080/"
        },
        "id": "yh1_Sb0-j1uN",
        "outputId": "db496e9b-97fa-42b2-d54b-627f5b9fed41"
      },
      "execution_count": 165,
      "outputs": [
        {
          "output_type": "execute_result",
          "data": {
            "text/plain": [
              "0.7613994386091956"
            ]
          },
          "metadata": {},
          "execution_count": 165
        }
      ]
    },
    {
      "cell_type": "code",
      "source": [
        "alpha = 0.05\n",
        "if p <= alpha:\n",
        "  print('Hipótese nula rejeitada')\n",
        "else:\n",
        "  print('Hipótese alternativa rejeitada')"
      ],
      "metadata": {
        "colab": {
          "base_uri": "https://localhost:8080/"
        },
        "id": "kKqeBQoWj69s",
        "outputId": "445fc8a0-57de-40df-f03c-bc8a645ca446"
      },
      "execution_count": 166,
      "outputs": [
        {
          "output_type": "stream",
          "name": "stdout",
          "text": [
            "Hipótese alternativa rejeitada\n"
          ]
        }
      ]
    },
    {
      "cell_type": "markdown",
      "source": [
        "- Teste de Tukey"
      ],
      "metadata": {
        "id": "VNsXtixpkCak"
      }
    },
    {
      "cell_type": "code",
      "source": [
        "dados = {'valores': [165, 152, 143, 140, 155, 130, 169, 164, 143, 154, 163, 158, 154, 149, 156],\n",
        "         'grupo': ['A', 'A', 'A', 'A', 'A', 'B', 'B', 'B', 'B', 'B', 'C', 'C', 'C', 'C', 'C']}"
      ],
      "metadata": {
        "id": "iVV2BevtkF2N"
      },
      "execution_count": 167,
      "outputs": []
    },
    {
      "cell_type": "code",
      "source": [
        "dados = {'valores': [70, 90, 80, 50, 20, 130, 169, 164, 143, 154, 163, 158, 154, 149, 156],\n",
        "         'grupo': ['A', 'A', 'A', 'A', 'A', 'B', 'B', 'B', 'B', 'B', 'C', 'C', 'C', 'C', 'C']}"
      ],
      "metadata": {
        "id": "jdaaPqkgkIc9"
      },
      "execution_count": 168,
      "outputs": []
    },
    {
      "cell_type": "code",
      "source": [
        "dados_pd = pd.DataFrame(dados)\n",
        "dados_pd"
      ],
      "metadata": {
        "colab": {
          "base_uri": "https://localhost:8080/",
          "height": 519
        },
        "id": "m-2uY_LnkK1k",
        "outputId": "7d4a3a83-4249-46bb-e078-547aa8a3c852"
      },
      "execution_count": 169,
      "outputs": [
        {
          "output_type": "execute_result",
          "data": {
            "text/html": [
              "\n",
              "  <div id=\"df-c463155b-f122-433a-8ca2-d58683518bff\">\n",
              "    <div class=\"colab-df-container\">\n",
              "      <div>\n",
              "<style scoped>\n",
              "    .dataframe tbody tr th:only-of-type {\n",
              "        vertical-align: middle;\n",
              "    }\n",
              "\n",
              "    .dataframe tbody tr th {\n",
              "        vertical-align: top;\n",
              "    }\n",
              "\n",
              "    .dataframe thead th {\n",
              "        text-align: right;\n",
              "    }\n",
              "</style>\n",
              "<table border=\"1\" class=\"dataframe\">\n",
              "  <thead>\n",
              "    <tr style=\"text-align: right;\">\n",
              "      <th></th>\n",
              "      <th>valores</th>\n",
              "      <th>grupo</th>\n",
              "    </tr>\n",
              "  </thead>\n",
              "  <tbody>\n",
              "    <tr>\n",
              "      <th>0</th>\n",
              "      <td>70</td>\n",
              "      <td>A</td>\n",
              "    </tr>\n",
              "    <tr>\n",
              "      <th>1</th>\n",
              "      <td>90</td>\n",
              "      <td>A</td>\n",
              "    </tr>\n",
              "    <tr>\n",
              "      <th>2</th>\n",
              "      <td>80</td>\n",
              "      <td>A</td>\n",
              "    </tr>\n",
              "    <tr>\n",
              "      <th>3</th>\n",
              "      <td>50</td>\n",
              "      <td>A</td>\n",
              "    </tr>\n",
              "    <tr>\n",
              "      <th>4</th>\n",
              "      <td>20</td>\n",
              "      <td>A</td>\n",
              "    </tr>\n",
              "    <tr>\n",
              "      <th>5</th>\n",
              "      <td>130</td>\n",
              "      <td>B</td>\n",
              "    </tr>\n",
              "    <tr>\n",
              "      <th>6</th>\n",
              "      <td>169</td>\n",
              "      <td>B</td>\n",
              "    </tr>\n",
              "    <tr>\n",
              "      <th>7</th>\n",
              "      <td>164</td>\n",
              "      <td>B</td>\n",
              "    </tr>\n",
              "    <tr>\n",
              "      <th>8</th>\n",
              "      <td>143</td>\n",
              "      <td>B</td>\n",
              "    </tr>\n",
              "    <tr>\n",
              "      <th>9</th>\n",
              "      <td>154</td>\n",
              "      <td>B</td>\n",
              "    </tr>\n",
              "    <tr>\n",
              "      <th>10</th>\n",
              "      <td>163</td>\n",
              "      <td>C</td>\n",
              "    </tr>\n",
              "    <tr>\n",
              "      <th>11</th>\n",
              "      <td>158</td>\n",
              "      <td>C</td>\n",
              "    </tr>\n",
              "    <tr>\n",
              "      <th>12</th>\n",
              "      <td>154</td>\n",
              "      <td>C</td>\n",
              "    </tr>\n",
              "    <tr>\n",
              "      <th>13</th>\n",
              "      <td>149</td>\n",
              "      <td>C</td>\n",
              "    </tr>\n",
              "    <tr>\n",
              "      <th>14</th>\n",
              "      <td>156</td>\n",
              "      <td>C</td>\n",
              "    </tr>\n",
              "  </tbody>\n",
              "</table>\n",
              "</div>\n",
              "      <button class=\"colab-df-convert\" onclick=\"convertToInteractive('df-c463155b-f122-433a-8ca2-d58683518bff')\"\n",
              "              title=\"Convert this dataframe to an interactive table.\"\n",
              "              style=\"display:none;\">\n",
              "        \n",
              "  <svg xmlns=\"http://www.w3.org/2000/svg\" height=\"24px\"viewBox=\"0 0 24 24\"\n",
              "       width=\"24px\">\n",
              "    <path d=\"M0 0h24v24H0V0z\" fill=\"none\"/>\n",
              "    <path d=\"M18.56 5.44l.94 2.06.94-2.06 2.06-.94-2.06-.94-.94-2.06-.94 2.06-2.06.94zm-11 1L8.5 8.5l.94-2.06 2.06-.94-2.06-.94L8.5 2.5l-.94 2.06-2.06.94zm10 10l.94 2.06.94-2.06 2.06-.94-2.06-.94-.94-2.06-.94 2.06-2.06.94z\"/><path d=\"M17.41 7.96l-1.37-1.37c-.4-.4-.92-.59-1.43-.59-.52 0-1.04.2-1.43.59L10.3 9.45l-7.72 7.72c-.78.78-.78 2.05 0 2.83L4 21.41c.39.39.9.59 1.41.59.51 0 1.02-.2 1.41-.59l7.78-7.78 2.81-2.81c.8-.78.8-2.07 0-2.86zM5.41 20L4 18.59l7.72-7.72 1.47 1.35L5.41 20z\"/>\n",
              "  </svg>\n",
              "      </button>\n",
              "      \n",
              "  <style>\n",
              "    .colab-df-container {\n",
              "      display:flex;\n",
              "      flex-wrap:wrap;\n",
              "      gap: 12px;\n",
              "    }\n",
              "\n",
              "    .colab-df-convert {\n",
              "      background-color: #E8F0FE;\n",
              "      border: none;\n",
              "      border-radius: 50%;\n",
              "      cursor: pointer;\n",
              "      display: none;\n",
              "      fill: #1967D2;\n",
              "      height: 32px;\n",
              "      padding: 0 0 0 0;\n",
              "      width: 32px;\n",
              "    }\n",
              "\n",
              "    .colab-df-convert:hover {\n",
              "      background-color: #E2EBFA;\n",
              "      box-shadow: 0px 1px 2px rgba(60, 64, 67, 0.3), 0px 1px 3px 1px rgba(60, 64, 67, 0.15);\n",
              "      fill: #174EA6;\n",
              "    }\n",
              "\n",
              "    [theme=dark] .colab-df-convert {\n",
              "      background-color: #3B4455;\n",
              "      fill: #D2E3FC;\n",
              "    }\n",
              "\n",
              "    [theme=dark] .colab-df-convert:hover {\n",
              "      background-color: #434B5C;\n",
              "      box-shadow: 0px 1px 3px 1px rgba(0, 0, 0, 0.15);\n",
              "      filter: drop-shadow(0px 1px 2px rgba(0, 0, 0, 0.3));\n",
              "      fill: #FFFFFF;\n",
              "    }\n",
              "  </style>\n",
              "\n",
              "      <script>\n",
              "        const buttonEl =\n",
              "          document.querySelector('#df-c463155b-f122-433a-8ca2-d58683518bff button.colab-df-convert');\n",
              "        buttonEl.style.display =\n",
              "          google.colab.kernel.accessAllowed ? 'block' : 'none';\n",
              "\n",
              "        async function convertToInteractive(key) {\n",
              "          const element = document.querySelector('#df-c463155b-f122-433a-8ca2-d58683518bff');\n",
              "          const dataTable =\n",
              "            await google.colab.kernel.invokeFunction('convertToInteractive',\n",
              "                                                     [key], {});\n",
              "          if (!dataTable) return;\n",
              "\n",
              "          const docLinkHtml = 'Like what you see? Visit the ' +\n",
              "            '<a target=\"_blank\" href=https://colab.research.google.com/notebooks/data_table.ipynb>data table notebook</a>'\n",
              "            + ' to learn more about interactive tables.';\n",
              "          element.innerHTML = '';\n",
              "          dataTable['output_type'] = 'display_data';\n",
              "          await google.colab.output.renderOutput(dataTable, element);\n",
              "          const docLink = document.createElement('div');\n",
              "          docLink.innerHTML = docLinkHtml;\n",
              "          element.appendChild(docLink);\n",
              "        }\n",
              "      </script>\n",
              "    </div>\n",
              "  </div>\n",
              "  "
            ],
            "text/plain": [
              "    valores grupo\n",
              "0        70     A\n",
              "1        90     A\n",
              "2        80     A\n",
              "3        50     A\n",
              "4        20     A\n",
              "5       130     B\n",
              "6       169     B\n",
              "7       164     B\n",
              "8       143     B\n",
              "9       154     B\n",
              "10      163     C\n",
              "11      158     C\n",
              "12      154     C\n",
              "13      149     C\n",
              "14      156     C"
            ]
          },
          "metadata": {},
          "execution_count": 169
        }
      ]
    },
    {
      "cell_type": "code",
      "source": [
        "from statsmodels.stats.multicomp import MultiComparison"
      ],
      "metadata": {
        "id": "eJJ93JPJkOJ3"
      },
      "execution_count": 170,
      "outputs": []
    },
    {
      "cell_type": "code",
      "source": [
        "compara_grupos = MultiComparison(dados_pd['valores'], dados_pd['grupo'])"
      ],
      "metadata": {
        "id": "vEiJ6vd9kRjG"
      },
      "execution_count": 171,
      "outputs": []
    },
    {
      "cell_type": "code",
      "source": [
        "teste = compara_grupos.tukeyhsd()\n",
        "print(teste)"
      ],
      "metadata": {
        "colab": {
          "base_uri": "https://localhost:8080/"
        },
        "id": "5UcRYLFpkVLN",
        "outputId": "0c8a5c3f-36fa-4981-e563-3d8034a45dbb"
      },
      "execution_count": 172,
      "outputs": [
        {
          "output_type": "stream",
          "name": "stdout",
          "text": [
            "Multiple Comparison of Means - Tukey HSD, FWER=0.05\n",
            "===================================================\n",
            "group1 group2 meandiff p-adj  lower   upper  reject\n",
            "---------------------------------------------------\n",
            "     A      B     90.0 0.001  58.494 121.506   True\n",
            "     A      C     94.0 0.001  62.494 125.506   True\n",
            "     B      C      4.0   0.9 -27.506  35.506  False\n",
            "---------------------------------------------------\n"
          ]
        }
      ]
    },
    {
      "cell_type": "code",
      "source": [
        "teste.plot_simultaneous();"
      ],
      "metadata": {
        "colab": {
          "base_uri": "https://localhost:8080/",
          "height": 390
        },
        "id": "K2vheoLrkWwE",
        "outputId": "95b3a460-6e75-4916-ea0f-0ba362ccccb1"
      },
      "execution_count": 173,
      "outputs": [
        {
          "output_type": "display_data",
          "data": {
            "image/png": "[encoded data removed]",
            "text/plain": [
              "<Figure size 720x432 with 1 Axes>"
            ]
          },
          "metadata": {
            "needs_background": "light"
          }
        }
      ]
    },
    {
      "cell_type": "markdown",
      "source": [
        "- Teste de hipótese de Shapiro-Wilk"
      ],
      "metadata": {
        "id": "m-TIAKP1k0Mu"
      }
    },
    {
      "cell_type": "code",
      "source": [
        "alpha = 0.5"
      ],
      "metadata": {
        "id": "cr_PTZ8rk1Rz"
      },
      "execution_count": 175,
      "outputs": []
    },
    {
      "cell_type": "code",
      "source": [
        "from scipy.stats import shapiro\n",
        "shapiro(resultados_naives_bayes_cv), shapiro(resultados_regressaologistica_cv), shapiro(resultados_randomforest_cv)"
      ],
      "metadata": {
        "colab": {
          "base_uri": "https://localhost:8080/"
        },
        "id": "J-I6aWy_k3r0",
        "outputId": "7fe2d95f-32ab-4c5d-af49-88630960c1b3"
      },
      "execution_count": 177,
      "outputs": [
        {
          "output_type": "execute_result",
          "data": {
            "text/plain": [
              "((0.9171155691146851, 0.02259083092212677),\n",
              " (0.8864966630935669, 0.003988792188465595),\n",
              " (0.9634578824043274, 0.3784557580947876))"
            ]
          },
          "metadata": {},
          "execution_count": 177
        }
      ]
    },
    {
      "cell_type": "code",
      "source": [
        "\n",
        "sns.distplot(resultados_naives_bayes_cv);"
      ],
      "metadata": {
        "colab": {
          "base_uri": "https://localhost:8080/",
          "height": 321
        },
        "id": "mzwBP7L_lIFs",
        "outputId": "d12e1238-4b13-4f52-9491-52f728c170a1"
      },
      "execution_count": 179,
      "outputs": [
        {
          "output_type": "stream",
          "name": "stderr",
          "text": [
            "/usr/local/lib/python3.7/dist-packages/seaborn/distributions.py:2619: FutureWarning: `distplot` is a deprecated function and will be removed in a future version. Please adapt your code to use either `displot` (a figure-level function with similar flexibility) or `histplot` (an axes-level function for histograms).\n",
            "  warnings.warn(msg, FutureWarning)\n"
          ]
        },
        {
          "output_type": "display_data",
          "data": {
            "image/png": "[encoded data removed]",
            "text/plain": [
              "<Figure size 432x288 with 1 Axes>"
            ]
          },
          "metadata": {
            "needs_background": "light"
          }
        }
      ]
    },
    {
      "cell_type": "code",
      "source": [
        "sns.distplot(resultados_randomforest_cv);"
      ],
      "metadata": {
        "colab": {
          "base_uri": "https://localhost:8080/",
          "height": 321
        },
        "id": "eD_zHQnRlRxO",
        "outputId": "f826bdbd-5283-43fe-edbc-4d51cfb7ffd0"
      },
      "execution_count": 180,
      "outputs": [
        {
          "output_type": "stream",
          "name": "stderr",
          "text": [
            "/usr/local/lib/python3.7/dist-packages/seaborn/distributions.py:2619: FutureWarning: `distplot` is a deprecated function and will be removed in a future version. Please adapt your code to use either `displot` (a figure-level function with similar flexibility) or `histplot` (an axes-level function for histograms).\n",
            "  warnings.warn(msg, FutureWarning)\n"
          ]
        },
        {
          "output_type": "display_data",
          "data": {
            "image/png": "[encoded data removed]",
            "text/plain": [
              "<Figure size 432x288 with 1 Axes>"
            ]
          },
          "metadata": {
            "needs_background": "light"
          }
        }
      ]
    },
    {
      "cell_type": "code",
      "source": [
        "sns.distplot(resultados_regressaologistica_cv);"
      ],
      "metadata": {
        "colab": {
          "base_uri": "https://localhost:8080/",
          "height": 321
        },
        "id": "oJ5GVSDYlWoe",
        "outputId": "cc0b341e-db0b-4281-a213-dd790d9a5fb1"
      },
      "execution_count": 181,
      "outputs": [
        {
          "output_type": "stream",
          "name": "stderr",
          "text": [
            "/usr/local/lib/python3.7/dist-packages/seaborn/distributions.py:2619: FutureWarning: `distplot` is a deprecated function and will be removed in a future version. Please adapt your code to use either `displot` (a figure-level function with similar flexibility) or `histplot` (an axes-level function for histograms).\n",
            "  warnings.warn(msg, FutureWarning)\n"
          ]
        },
        {
          "output_type": "display_data",
          "data": {
            "image/png": "[encoded data removed]",
            "text/plain": [
              "<Figure size 432x288 with 1 Axes>"
            ]
          },
          "metadata": {
            "needs_background": "light"
          }
        }
      ]
    },
    {
      "cell_type": "markdown",
      "source": [
        "- Teste de hipótese de D'Agostinho K²"
      ],
      "metadata": {
        "id": "8KSnsXFGlf2h"
      }
    },
    {
      "cell_type": "code",
      "source": [
        "from scipy.stats import normaltest\n",
        "normaltest(resultados_naives_bayes_cv), normaltest(resultados_regressaologistica_cv), normaltest(resultados_randomforest_cv)"
      ],
      "metadata": {
        "colab": {
          "base_uri": "https://localhost:8080/"
        },
        "id": "OzPxVl39lfVl",
        "outputId": "5a83cd17-629c-42b7-ede9-a78fc045d307"
      },
      "execution_count": 183,
      "outputs": [
        {
          "output_type": "execute_result",
          "data": {
            "text/plain": [
              "(NormaltestResult(statistic=5.99427246615723, pvalue=0.04992985127827434),\n",
              " NormaltestResult(statistic=3.8974107716049797, pvalue=0.1424583808985108),\n",
              " NormaltestResult(statistic=0.30656691500897826, pvalue=0.8578865129732348))"
            ]
          },
          "metadata": {},
          "execution_count": 183
        }
      ]
    },
    {
      "cell_type": "markdown",
      "source": [
        "- Teste de hipótese de Anderson-Darling"
      ],
      "metadata": {
        "id": "yEeMq-WZlw0u"
      }
    },
    {
      "cell_type": "code",
      "source": [
        "from scipy.stats import anderson\n",
        "anderson(resultados_naives_bayes_cv).statistic, anderson(resultados_regressaologistica_cv).statistic, anderson(resultados_randomforest_cv).statistic"
      ],
      "metadata": {
        "colab": {
          "base_uri": "https://localhost:8080/"
        },
        "id": "sbf6LTa2lyGu",
        "outputId": "0893c897-2133-44dc-9f77-6ca7f1cf14ea"
      },
      "execution_count": 185,
      "outputs": [
        {
          "output_type": "execute_result",
          "data": {
            "text/plain": [
              "(0.92994483424728, 1.1807882152762872, 0.3956277426413841)"
            ]
          },
          "metadata": {},
          "execution_count": 185
        }
      ]
    },
    {
      "cell_type": "markdown",
      "source": [
        "- TESTES DE WILCOXON e friedman"
      ],
      "metadata": {
        "id": "fJVXOAWhjXxr"
      }
    },
    {
      "cell_type": "code",
      "source": [
        "from scipy.stats import friedmanchisquare"
      ],
      "metadata": {
        "id": "EQCEFN8fmKKw"
      },
      "execution_count": 186,
      "outputs": []
    },
    {
      "cell_type": "code",
      "source": [
        "_, p = friedmanchisquare(resultados_naives_bayes_cv, resultados_regressaologistica_cv, resultados_randomforest_cv)\n",
        "p"
      ],
      "metadata": {
        "colab": {
          "base_uri": "https://localhost:8080/"
        },
        "id": "3eGLCVZOjehE",
        "outputId": "2d88de34-d85e-4874-af01-04e39674cdfd"
      },
      "execution_count": 189,
      "outputs": [
        {
          "output_type": "execute_result",
          "data": {
            "text/plain": [
              "9.357622968840163e-14"
            ]
          },
          "metadata": {},
          "execution_count": 189
        }
      ]
    },
    {
      "cell_type": "code",
      "source": [
        "alpha = 0.5"
      ],
      "metadata": {
        "id": "-6zABkyemMlA"
      },
      "execution_count": 190,
      "outputs": []
    },
    {
      "cell_type": "code",
      "source": [
        "from scipy.stats import wilcoxon\n",
        "_, p = wilcoxon(resultados_naives_bayes_cv, resultados_regressaologistica_cv)\n",
        "p"
      ],
      "metadata": {
        "colab": {
          "base_uri": "https://localhost:8080/"
        },
        "id": "f8vB-ioKmWla",
        "outputId": "2c1d751d-fdd9-4110-aa5f-5ef7c867b1cf"
      },
      "execution_count": 192,
      "outputs": [
        {
          "output_type": "execute_result",
          "data": {
            "text/plain": [
              "1.7343976283205784e-06"
            ]
          },
          "metadata": {},
          "execution_count": 192
        }
      ]
    },
    {
      "cell_type": "code",
      "source": [
        "_, p = wilcoxon(resultados_naives_bayes_cv, resultados_randomforest_cv)\n",
        "p"
      ],
      "metadata": {
        "colab": {
          "base_uri": "https://localhost:8080/"
        },
        "id": "bawRSr_fmYt1",
        "outputId": "f64d40aa-6bd2-4a68-ff1d-5ce85c2bb4d3"
      },
      "execution_count": 194,
      "outputs": [
        {
          "output_type": "execute_result",
          "data": {
            "text/plain": [
              "1.7333066441991056e-06"
            ]
          },
          "metadata": {},
          "execution_count": 194
        }
      ]
    },
    {
      "cell_type": "code",
      "source": [
        "_, p = wilcoxon(resultados_regressaologistica_cv, resultados_randomforest_cv)\n",
        "p"
      ],
      "metadata": {
        "colab": {
          "base_uri": "https://localhost:8080/"
        },
        "id": "qMgKn1kzmes9",
        "outputId": "f654a57d-389d-4a7a-b2fe-9ea1c0055562"
      },
      "execution_count": 195,
      "outputs": [
        {
          "output_type": "execute_result",
          "data": {
            "text/plain": [
              "1.7343976283205784e-06"
            ]
          },
          "metadata": {},
          "execution_count": 195
        }
      ]
    }
  ]
}