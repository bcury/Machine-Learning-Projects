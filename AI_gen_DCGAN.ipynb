{
  "nbformat": 4,
  "nbformat_minor": 0,
  "metadata": {
    "colab": {
      "provenance": [],
      "gpuType": "T4",
      "include_colab_link": true
    },
    "kernelspec": {
      "name": "python3",
      "display_name": "Python 3"
    },
    "language_info": {
      "name": "python"
    },
    "accelerator": "GPU"
  },
  "cells": [
    {
      "cell_type": "markdown",
      "metadata": {
        "id": "view-in-github",
        "colab_type": "text"
      },
      "source": [
        "<a href=\"https://colab.research.google.com/github/bcury/Machine-Learning-Projects/blob/main/AI_gen_DCGAN.ipynb\" target=\"_parent\"><img src=\"https://colab.research.google.com/assets/colab-badge.svg\" alt=\"Open In Colab\"/></a>"
      ]
    },
    {
      "cell_type": "code",
      "source": [
        "#GPU"
      ],
      "metadata": {
        "id": "xLxKiNC0Q_M_"
      },
      "execution_count": 1,
      "outputs": []
    },
    {
      "cell_type": "code",
      "source": [
        "import torch\n",
        "import matplotlib.pyplot as plt\n",
        "import torchvision"
      ],
      "metadata": {
        "id": "A_SkbbhEK9Sm"
      },
      "execution_count": 2,
      "outputs": []
    },
    {
      "cell_type": "code",
      "execution_count": 3,
      "metadata": {
        "id": "-bljID9nQwiA",
        "colab": {
          "base_uri": "https://localhost:8080/"
        },
        "outputId": "6200a203-e4ab-496c-e83a-877eed2c706f"
      },
      "outputs": [
        {
          "output_type": "stream",
          "name": "stderr",
          "text": [
            "Downloading: \"https://github.com/facebookresearch/pytorch_GAN_zoo/zipball/hub\" to /root/.cache/torch/hub/hub.zip\n",
            "Downloading: \"https://dl.fbaipublicfiles.com/gan_zoo/DCGAN_fashionGen-1d67302.pth\" to /root/.cache/torch/hub/checkpoints/DCGAN_fashionGen-1d67302.pth\n",
            "100%|██████████| 39.7M/39.7M [00:00<00:00, 170MB/s]\n"
          ]
        },
        {
          "output_type": "stream",
          "name": "stdout",
          "text": [
            "Average network found !\n"
          ]
        }
      ],
      "source": [
        "use_gpu = True if torch.cuda.is_available() else False\n",
        "\n",
        "total_images = 8\n",
        "\n",
        "model = torch.hub.load('facebookresearch/pytorch_GAN_zoo:hub', 'DCGAN', pretrained=True, useGPU=use_gpu)"
      ]
    },
    {
      "cell_type": "code",
      "source": [
        "noise, _ = model.buildNoiseData(total_images)\n",
        "\n",
        "print(noise)"
      ],
      "metadata": {
        "id": "oyVkMOhiQyVQ",
        "colab": {
          "base_uri": "https://localhost:8080/"
        },
        "outputId": "12c918b6-7b3d-45e2-ba54-13d49e42cd76"
      },
      "execution_count": 4,
      "outputs": [
        {
          "output_type": "stream",
          "name": "stdout",
          "text": [
            "tensor([[-7.0061e-01, -2.6710e+00, -2.3848e-01, -1.9706e-01, -9.3256e-01,\n",
            "         -3.8013e-01, -8.3087e-01, -3.0158e-01,  8.6553e-01,  9.6813e-01,\n",
            "         -2.3716e+00, -6.3887e-01, -1.2576e+00, -1.0760e-01,  1.8676e+00,\n",
            "         -2.5259e+00,  2.1724e+00, -9.8906e-01,  8.1252e-01,  8.2042e-01,\n",
            "         -5.8434e-01,  2.3956e+00, -2.2639e+00, -8.6317e-01, -9.0941e-01,\n",
            "         -1.3382e+00, -3.5790e-02,  2.1589e+00, -5.8052e-01,  1.7954e+00,\n",
            "         -4.2237e-01, -8.5056e-01, -2.1241e-01, -6.2024e-01,  3.6027e-01,\n",
            "         -4.7266e-01,  4.8231e-01,  6.0859e-01,  2.4360e-01, -2.7961e-03,\n",
            "         -4.2877e-01,  2.6404e-01, -2.8778e-01,  2.1465e-01,  1.0173e-01,\n",
            "         -7.5564e-01,  4.3651e-01, -7.8848e-01,  1.4974e+00,  1.2291e-02,\n",
            "         -5.4249e-01,  1.2004e+00, -1.7744e+00, -1.2183e+00, -4.3510e-01,\n",
            "          5.8471e-01,  6.4881e-01, -5.2478e-01, -2.5174e-01,  2.8348e+00,\n",
            "         -1.4025e+00,  2.3564e-01,  8.3226e-01,  1.1532e+00,  1.2248e-01,\n",
            "         -7.1990e-01,  1.1348e+00,  6.7614e-01,  2.3384e-01, -6.9096e-01,\n",
            "          7.6948e-01, -1.0685e+00, -1.1148e-01,  2.2108e+00, -1.0321e+00,\n",
            "          1.0514e+00, -2.5945e-01,  6.8947e-01, -1.4986e+00,  1.8393e+00,\n",
            "          2.3762e-01, -1.8782e+00,  1.5377e+00,  6.2619e-01, -4.0645e-01,\n",
            "          1.7559e-01, -1.5093e+00,  6.4915e-01, -8.6879e-02,  1.2136e+00,\n",
            "         -1.0755e+00, -5.0229e-01, -4.0137e-01, -1.6220e+00,  1.0511e+00,\n",
            "          1.0146e+00,  1.5451e-01,  9.4688e-01, -2.3914e-02, -6.9306e-01,\n",
            "          0.0000e+00,  1.0000e+00,  0.0000e+00,  0.0000e+00,  0.0000e+00,\n",
            "          1.0000e+00,  0.0000e+00,  0.0000e+00,  0.0000e+00,  0.0000e+00,\n",
            "          0.0000e+00,  0.0000e+00,  0.0000e+00,  0.0000e+00,  0.0000e+00,\n",
            "          0.0000e+00,  1.0000e+00,  0.0000e+00,  0.0000e+00,  0.0000e+00],\n",
            "        [-5.4131e-01,  2.2331e-01,  4.7200e-01, -1.5374e+00,  1.6922e-01,\n",
            "         -7.2725e-01,  7.4676e-01,  8.0467e-01, -1.5199e+00, -9.0088e-01,\n",
            "          2.4819e-01,  1.6018e+00, -2.5920e-01, -7.7837e-01, -1.2392e-01,\n",
            "         -1.9517e+00, -1.1565e+00,  6.9744e-02, -3.9915e-01, -1.1133e+00,\n",
            "          2.3307e-01, -2.5984e+00,  4.4406e-01, -1.3043e+00,  1.5520e+00,\n",
            "         -6.0164e-01,  1.1150e+00, -3.3446e-02, -8.8845e-01, -2.2045e-01,\n",
            "          4.2283e-01,  1.8065e-01, -9.0585e-01, -6.0039e-01,  1.5338e+00,\n",
            "          1.1028e+00, -1.5568e+00, -2.4912e+00, -1.2485e-01, -1.9172e+00,\n",
            "          3.4786e-01, -2.3205e-01,  2.0535e+00, -2.0864e-01, -8.1005e-01,\n",
            "         -2.7893e-01, -4.1916e-01,  1.9381e-01,  1.5157e+00,  1.1692e+00,\n",
            "         -1.8265e+00,  1.4004e+00, -5.5389e-01,  6.8012e-02, -4.2425e-01,\n",
            "         -5.8570e-01, -1.8897e+00, -8.5184e-01, -1.0993e+00, -3.7296e-01,\n",
            "         -2.9329e-01, -1.5433e-01,  1.3710e+00, -3.3126e-01, -1.1157e+00,\n",
            "          1.4133e+00,  4.5803e-01,  1.6295e+00,  1.2332e-01,  2.2210e-01,\n",
            "         -1.5984e+00, -2.1340e-01,  9.5821e-01, -9.3207e-01,  1.6303e-01,\n",
            "          5.5801e-01, -7.6589e-01, -1.2973e-01, -2.4455e+00, -2.4738e+00,\n",
            "         -7.2792e-01,  8.7522e-01,  6.4989e-01, -3.6673e-01, -1.2298e+00,\n",
            "          2.1982e-01,  6.3830e-01,  9.6047e-01,  8.2665e-01,  5.4421e-02,\n",
            "          3.0683e+00, -2.2074e+00,  2.8928e-01, -1.1321e+00,  1.2375e-02,\n",
            "          5.6684e-01, -3.9366e-01, -5.3834e-01, -1.0816e+00, -1.1781e+00,\n",
            "          0.0000e+00,  1.0000e+00,  0.0000e+00,  0.0000e+00,  0.0000e+00,\n",
            "          0.0000e+00,  0.0000e+00,  0.0000e+00,  0.0000e+00,  0.0000e+00,\n",
            "          0.0000e+00,  0.0000e+00,  0.0000e+00,  0.0000e+00,  1.0000e+00,\n",
            "          0.0000e+00,  1.0000e+00,  0.0000e+00,  0.0000e+00,  0.0000e+00],\n",
            "        [ 1.2613e+00,  6.4802e-01, -9.8190e-01,  9.8762e-01, -8.1776e-01,\n",
            "          1.2824e+00,  1.7714e+00,  5.2808e-01, -4.1332e-02, -1.3018e+00,\n",
            "         -1.6733e+00, -3.0361e-01,  6.6705e-01,  1.1389e+00,  1.0936e+00,\n",
            "          5.5191e-01,  3.7055e-02, -7.0112e-01, -7.8487e-01,  4.9822e-01,\n",
            "          9.1876e-01, -1.0117e+00, -8.6816e-01, -2.1891e-01, -3.0770e-01,\n",
            "         -1.9598e-01,  9.5880e-01, -1.8215e-01,  4.1249e-01, -1.1140e+00,\n",
            "         -1.2118e+00, -8.6292e-01,  8.5378e-01, -1.2772e+00, -7.3983e-02,\n",
            "          9.1742e-01,  7.0166e-01, -1.1916e-01,  1.8014e-01,  1.9803e+00,\n",
            "         -1.1077e-01,  8.5741e-01, -5.6882e-04, -7.5491e-02, -1.4067e+00,\n",
            "         -1.9835e+00,  4.6796e-01, -1.1267e+00,  3.4056e-01, -3.3131e-01,\n",
            "          5.1399e-01, -5.3081e-02,  3.7183e-01, -4.4767e-01,  1.4460e+00,\n",
            "         -7.3651e-02, -1.7831e+00,  1.2647e+00, -5.8175e-01,  4.0290e-01,\n",
            "         -9.6200e-02, -2.0022e+00,  6.8183e-01, -1.9148e-01,  4.2236e-01,\n",
            "          6.3236e-01, -7.7220e-01,  7.5743e-01, -7.8045e-01, -9.2986e-01,\n",
            "          1.1386e+00,  9.0622e-01,  4.1740e-01,  6.2571e-01, -5.4976e-02,\n",
            "          9.3552e-01, -1.0507e+00, -3.6900e-01, -2.5409e-01,  9.4974e-01,\n",
            "         -4.4822e-01, -2.0032e+00, -1.1058e+00, -1.9409e+00, -4.8493e-03,\n",
            "          1.5400e-01,  1.4723e+00, -2.6609e-01, -1.9450e-01, -6.9769e-01,\n",
            "          1.3697e-01,  2.8688e-01,  2.1496e-01,  7.7504e-01, -1.0130e-01,\n",
            "          2.0416e+00, -1.5087e+00, -1.1870e+00, -5.8195e-01,  2.0753e+00,\n",
            "          0.0000e+00,  1.0000e+00,  0.0000e+00,  0.0000e+00,  0.0000e+00,\n",
            "          0.0000e+00,  0.0000e+00,  0.0000e+00,  0.0000e+00,  0.0000e+00,\n",
            "          0.0000e+00,  0.0000e+00,  0.0000e+00,  0.0000e+00,  1.0000e+00,\n",
            "          0.0000e+00,  0.0000e+00,  0.0000e+00,  0.0000e+00,  1.0000e+00],\n",
            "        [ 8.3007e-01,  1.1176e+00, -1.3104e+00, -6.4234e-01,  7.9627e-01,\n",
            "         -9.0409e-01, -6.1099e-01,  1.3657e+00,  2.3055e-01, -2.1021e-01,\n",
            "          2.4600e+00,  9.0495e-01, -9.8419e-01, -3.8813e-01, -8.5614e-01,\n",
            "          1.6379e+00, -3.5612e-01,  5.7181e-01, -7.3422e-01,  5.3831e-01,\n",
            "         -1.7547e+00,  8.8224e-01, -7.0052e-01,  5.2786e-01,  4.5838e-01,\n",
            "         -5.5262e-01,  4.7122e-01,  1.0603e-01,  4.5326e-01, -9.1105e-01,\n",
            "          4.9885e-01,  1.0049e+00,  1.4141e-02, -5.3918e-01,  9.2770e-01,\n",
            "          1.5488e+00, -1.3373e+00, -8.8821e-01, -1.5523e+00,  3.2237e-01,\n",
            "          4.6969e-01, -5.1750e-02, -4.9583e-02, -8.8823e-01, -3.0219e-01,\n",
            "         -4.0095e-01, -3.2791e-01, -7.1813e-01, -1.6531e-01, -2.0637e-01,\n",
            "         -7.5822e-01, -1.9490e+00,  1.0827e+00, -9.6750e-02,  4.5352e-01,\n",
            "          2.5400e+00,  1.1217e+00,  6.9860e-01, -1.1034e-01, -1.6536e+00,\n",
            "         -1.0700e+00, -3.3180e-01, -7.5151e-01, -1.6672e+00, -7.8905e-01,\n",
            "          2.2463e+00,  2.2104e-01,  8.2782e-01,  1.1413e+00,  1.6254e+00,\n",
            "         -1.0299e+00,  8.2603e-01,  6.5452e-01, -3.2559e-01, -1.7064e-01,\n",
            "         -1.8320e+00,  7.3470e-01,  1.2708e+00,  1.8099e-01, -5.0141e-01,\n",
            "          2.1842e-01, -6.6974e-01,  3.4266e-01,  3.5196e-01, -1.4089e+00,\n",
            "         -1.4288e-01, -2.5201e-01,  8.1135e-02,  2.1706e+00, -9.2937e-01,\n",
            "         -4.9158e-01, -7.2607e-01,  6.9362e-01, -6.7487e-01,  1.1301e-01,\n",
            "          7.4594e-01,  6.2494e-01,  4.3117e-01,  6.1437e-01,  5.3053e-01,\n",
            "          1.0000e+00,  0.0000e+00,  0.0000e+00,  0.0000e+00,  0.0000e+00,\n",
            "          0.0000e+00,  0.0000e+00,  0.0000e+00,  0.0000e+00,  0.0000e+00,\n",
            "          0.0000e+00,  0.0000e+00,  1.0000e+00,  0.0000e+00,  0.0000e+00,\n",
            "          0.0000e+00,  0.0000e+00,  0.0000e+00,  1.0000e+00,  0.0000e+00],\n",
            "        [-8.5514e-01,  7.6021e-01, -1.0532e-01,  1.1505e+00,  2.1739e+00,\n",
            "          1.3901e+00,  1.0779e+00,  5.4968e-01,  1.2665e+00, -1.2323e+00,\n",
            "          1.0188e+00, -3.8575e-01, -4.7644e-01,  8.7960e-01, -1.2187e+00,\n",
            "         -9.1276e-01,  3.3804e-01, -8.5522e-01,  1.4511e+00,  6.0566e-01,\n",
            "         -8.5245e-01,  2.0045e+00, -1.6762e+00,  1.4679e+00,  1.1384e+00,\n",
            "          1.2455e+00, -1.1049e+00, -2.6506e-01, -2.3604e-01,  1.2929e-01,\n",
            "          4.6631e-01,  5.6135e-01,  1.6004e-01, -1.7977e-01, -6.2436e-01,\n",
            "         -3.1410e-01,  1.5940e+00, -3.2042e-02, -2.0709e+00,  5.0474e-01,\n",
            "          1.2770e-01,  1.2953e+00,  7.2174e-01,  2.6538e+00, -1.0377e-01,\n",
            "          6.8828e-01,  5.1754e-01,  1.1302e-01,  6.4292e-01, -9.7772e-01,\n",
            "         -9.6768e-01, -1.2484e-01, -1.5228e-01,  1.1020e+00,  1.3671e+00,\n",
            "         -1.7824e+00, -4.9473e-01, -1.8126e-01, -1.4268e+00, -2.1892e+00,\n",
            "         -3.3213e-01,  7.1831e-01, -6.9095e-01, -1.3495e+00,  1.0937e-01,\n",
            "          6.0736e-01,  3.3314e-02, -3.1920e-01,  9.0214e-02, -7.1273e-02,\n",
            "          3.0158e-01,  1.3315e-01,  9.7289e-02, -1.6109e+00, -5.9225e-01,\n",
            "          1.3654e+00,  4.0882e-01, -5.9885e-01, -3.5720e+00, -1.1788e-01,\n",
            "         -1.6053e+00, -1.7290e+00,  2.3486e-01,  1.1097e+00,  5.9986e-01,\n",
            "          2.2461e+00, -1.1989e+00, -3.4785e-01, -5.4217e-01, -4.7954e-01,\n",
            "         -9.7393e-01, -1.2985e+00,  1.4412e+00, -7.0377e-01, -3.9584e-01,\n",
            "          2.4934e-01,  6.7813e-01, -1.3292e+00,  1.3916e+00, -4.2066e-01,\n",
            "          0.0000e+00,  1.0000e+00,  0.0000e+00,  0.0000e+00,  0.0000e+00,\n",
            "          1.0000e+00,  0.0000e+00,  0.0000e+00,  0.0000e+00,  0.0000e+00,\n",
            "          0.0000e+00,  0.0000e+00,  0.0000e+00,  0.0000e+00,  0.0000e+00,\n",
            "          0.0000e+00,  0.0000e+00,  0.0000e+00,  1.0000e+00,  0.0000e+00],\n",
            "        [ 2.4139e+00,  7.0185e-01,  1.5171e+00,  4.1687e-01, -3.1035e-01,\n",
            "          6.0863e-01,  1.6568e+00, -6.4212e-01,  2.5004e-01,  2.4203e-01,\n",
            "          1.5246e+00, -5.7167e-01, -6.5242e-01, -1.6817e+00,  5.7937e-01,\n",
            "         -4.5484e-01, -4.4703e-01, -6.3146e-01, -2.1556e+00,  2.1508e+00,\n",
            "          1.0309e+00, -7.5629e-01,  6.8899e-01,  2.4802e+00, -1.4359e+00,\n",
            "         -2.0447e-01,  6.3316e-01, -9.8024e-01, -6.5939e-01, -3.5870e-01,\n",
            "         -2.9188e-01,  1.4584e+00,  7.4542e-01, -5.3617e-02,  5.4625e-01,\n",
            "         -1.2550e+00, -1.0974e+00,  1.6891e+00, -1.7112e+00,  4.0986e-01,\n",
            "         -1.7483e-02, -2.6693e+00,  1.7115e+00,  6.9120e-01, -8.9900e-01,\n",
            "         -2.3517e-03,  6.4419e-02, -1.8292e-01, -1.4639e+00,  3.7236e-01,\n",
            "          4.2116e-01, -2.0764e-01,  2.3318e+00, -1.1135e+00,  9.7714e-02,\n",
            "         -1.9575e+00,  2.1459e-01,  1.7189e+00, -1.3378e+00,  1.6134e+00,\n",
            "         -9.4718e-02, -6.0231e-01,  8.7665e-01, -1.4972e+00,  2.7012e+00,\n",
            "         -8.3068e-01,  7.3740e-02,  1.9143e-01,  9.1009e-01, -3.7008e-01,\n",
            "         -6.9337e-01, -5.3076e-01, -1.3418e+00, -6.0253e-01, -7.4307e-01,\n",
            "          4.7703e-01,  7.5721e-01,  2.1751e+00,  5.3683e-02, -1.5192e-01,\n",
            "          5.7910e-01, -1.2264e+00, -1.5123e+00, -9.5477e-01, -6.1586e-01,\n",
            "          1.7220e+00, -7.9815e-01, -6.6654e-03,  4.0600e-01,  8.1330e-01,\n",
            "          2.6281e-01,  7.4361e-02,  8.3717e-01,  5.7229e-01, -1.0186e+00,\n",
            "          9.3256e-01,  1.6827e+00,  2.3869e-01,  6.8592e-02, -7.6300e-01,\n",
            "          1.0000e+00,  0.0000e+00,  1.0000e+00,  0.0000e+00,  0.0000e+00,\n",
            "          0.0000e+00,  0.0000e+00,  0.0000e+00,  0.0000e+00,  0.0000e+00,\n",
            "          0.0000e+00,  0.0000e+00,  0.0000e+00,  0.0000e+00,  0.0000e+00,\n",
            "          0.0000e+00,  1.0000e+00,  0.0000e+00,  0.0000e+00,  0.0000e+00],\n",
            "        [-1.0559e-01,  1.6428e+00, -3.6978e-01,  1.5111e+00, -8.4048e-01,\n",
            "          5.4749e-02,  2.6460e-01, -3.5396e-01, -1.9824e-01, -1.4655e+00,\n",
            "         -7.7762e-01, -7.8010e-01, -1.3999e+00,  2.3619e-01, -3.0743e+00,\n",
            "         -1.1554e+00, -1.1397e+00, -5.2857e-01, -9.7275e-01,  1.0923e+00,\n",
            "          5.3835e-01, -7.6634e-01, -8.9682e-01,  1.6400e+00, -3.0793e-01,\n",
            "         -6.7918e-01, -1.6377e+00,  6.5036e-01, -5.6465e-02, -8.0327e-01,\n",
            "          4.7686e-01, -2.9052e-01,  1.0573e+00, -7.3364e-02,  1.7912e-01,\n",
            "         -1.4228e+00, -4.0819e-01,  2.8018e-01,  3.6423e-01,  4.7308e-01,\n",
            "          3.4717e-01, -8.3465e-01, -4.4608e-01,  5.1339e-01, -6.6578e-01,\n",
            "          9.2732e-01,  1.1261e+00, -1.3963e+00,  3.3640e-01,  1.0856e+00,\n",
            "         -5.5224e-01,  1.3937e-01,  4.7708e-01, -9.6460e-01,  1.2191e+00,\n",
            "          1.4376e+00, -2.5909e+00,  6.5765e-01, -2.3262e-01, -1.1486e+00,\n",
            "         -2.2465e-01,  9.0685e-01, -3.7316e-01, -8.1815e-01, -2.3467e-01,\n",
            "          5.2417e-01,  3.5672e-01,  4.9680e-01,  3.8902e-01, -1.0535e+00,\n",
            "         -2.1801e-02, -3.9256e-01, -6.2643e-01,  8.1845e-01, -3.6610e-01,\n",
            "          2.9351e-01, -1.4127e+00,  4.4779e-01, -1.2394e+00,  4.1027e-01,\n",
            "          3.7520e-01, -3.3198e-01, -1.3348e+00, -1.0621e+00,  1.3747e+00,\n",
            "         -1.1071e-01,  2.2717e+00,  2.0448e+00, -1.7807e+00,  8.7962e-01,\n",
            "         -1.7022e-01, -1.9652e-01, -1.7917e+00, -1.5871e-01,  1.9556e-01,\n",
            "         -2.7776e+00, -1.9190e+00, -9.4598e-02,  1.1580e+00, -3.7650e-01,\n",
            "          1.0000e+00,  0.0000e+00,  1.0000e+00,  0.0000e+00,  0.0000e+00,\n",
            "          0.0000e+00,  0.0000e+00,  0.0000e+00,  0.0000e+00,  0.0000e+00,\n",
            "          0.0000e+00,  0.0000e+00,  0.0000e+00,  0.0000e+00,  0.0000e+00,\n",
            "          0.0000e+00,  1.0000e+00,  0.0000e+00,  0.0000e+00,  0.0000e+00],\n",
            "        [-1.2303e+00,  1.6550e+00, -2.7819e-02, -1.0794e-02,  8.5165e-01,\n",
            "         -1.1509e+00, -8.8803e-01,  2.0850e+00, -1.5901e+00, -1.4716e+00,\n",
            "          9.5684e-01,  2.3036e-01,  5.9967e-01,  1.6222e+00,  2.0278e+00,\n",
            "          2.2020e+00,  1.1263e+00, -7.6792e-01, -7.8443e-01,  1.0123e+00,\n",
            "          1.4091e-01, -7.4265e-01,  1.0000e+00,  1.5844e+00,  7.8348e-01,\n",
            "         -2.4550e+00, -5.1339e-01,  1.2706e+00, -7.7511e-01, -1.3384e+00,\n",
            "         -2.3443e+00,  2.1533e-02,  1.6860e-02, -1.4019e+00, -8.7499e-01,\n",
            "          3.8437e-01,  6.0503e-01,  1.9157e-03,  1.0481e+00, -5.8193e-02,\n",
            "          1.0739e+00, -1.0195e+00, -1.1902e+00, -3.9828e-01, -1.0431e+00,\n",
            "          9.6424e-01, -4.8396e-01, -6.8804e-01,  8.2280e-01,  8.4739e-01,\n",
            "          2.5223e-01,  9.4973e-01,  2.5030e-01, -9.3539e-01,  1.0233e-01,\n",
            "          1.0237e+00, -2.2418e+00, -5.1236e-01, -5.5753e-01, -5.9274e-01,\n",
            "         -7.0529e-01,  7.8210e-01,  1.5766e-01, -1.2149e+00, -3.5294e-01,\n",
            "         -2.3015e-02,  1.4504e+00,  1.9358e+00,  5.1089e-02,  2.9258e-01,\n",
            "          1.5533e+00, -4.6658e-01, -8.5386e-01,  2.8134e-01,  5.3942e-01,\n",
            "          1.5645e+00,  3.5769e-01,  2.4458e-01,  4.2727e-01,  8.4690e-01,\n",
            "         -1.5155e+00, -1.5776e+00, -9.7529e-01,  1.7432e+00, -6.1060e-02,\n",
            "          1.3136e+00,  3.6693e-01, -5.7037e-01,  1.6009e-01, -3.1611e-01,\n",
            "         -6.6439e-01,  6.7639e-01, -8.2320e-01, -6.7203e-01, -1.6299e+00,\n",
            "         -1.2241e+00, -7.6916e-01, -6.6040e-02, -5.0453e-01,  1.3336e+00,\n",
            "          0.0000e+00,  1.0000e+00,  0.0000e+00,  1.0000e+00,  0.0000e+00,\n",
            "          0.0000e+00,  0.0000e+00,  0.0000e+00,  0.0000e+00,  0.0000e+00,\n",
            "          0.0000e+00,  0.0000e+00,  0.0000e+00,  0.0000e+00,  0.0000e+00,\n",
            "          0.0000e+00,  0.0000e+00,  0.0000e+00,  0.0000e+00,  1.0000e+00]],\n",
            "       device='cuda:0')\n"
          ]
        }
      ]
    },
    {
      "cell_type": "code",
      "source": [
        "with torch.no_grad():\n",
        "    images = model.test(noise)"
      ],
      "metadata": {
        "id": "187gHI1mt7Sb"
      },
      "execution_count": 5,
      "outputs": []
    },
    {
      "cell_type": "code",
      "source": [
        "images = images - images.min()\n",
        "images = images / images.max()"
      ],
      "metadata": {
        "id": "4FHmAGl80qdQ"
      },
      "execution_count": 6,
      "outputs": []
    },
    {
      "cell_type": "code",
      "source": [
        "plt.imshow(torchvision.utils.make_grid(images).permute(1, 2, 0).cpu().numpy())\n",
        "plt.axis('off')\n",
        "plt.show()"
      ],
      "metadata": {
        "colab": {
          "base_uri": "https://localhost:8080/",
          "height": 100
        },
        "id": "DOIMgP_s0suG",
        "outputId": "97b7c8f7-e245-4ef8-9b2a-47aceb94ffbd"
      },
      "execution_count": 7,
      "outputs": [
        {
          "output_type": "display_data",
          "data": {
            "text/plain": [
              "<Figure size 640x480 with 1 Axes>"
            ],
            "image/png": "[encoded data removed]"
          },
          "metadata": {}
        }
      ]
    }
  ]
}