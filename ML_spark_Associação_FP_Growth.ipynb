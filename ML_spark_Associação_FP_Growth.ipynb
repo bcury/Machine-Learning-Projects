{
  "nbformat": 4,
  "nbformat_minor": 0,
  "metadata": {
    "colab": {
      "name": "ML_spark_Associação_FP-Growth",
      "provenance": [],
      "collapsed_sections": [],
      "authorship_tag": "ABX9TyMikzWkck/AttOISlPUpr8x",
      "include_colab_link": true
    },
    "kernelspec": {
      "name": "python3",
      "display_name": "Python 3"
    },
    "language_info": {
      "name": "python"
    }
  },
  "cells": [
    {
      "cell_type": "markdown",
      "metadata": {
        "id": "view-in-github",
        "colab_type": "text"
      },
      "source": [
        "<a href=\"https://colab.research.google.com/github/bcury/Machine-Learning-Projects/blob/main/ML_spark_Associa%C3%A7%C3%A3o_FP_Growth.ipynb\" target=\"_parent\"><img src=\"https://colab.research.google.com/assets/colab-badge.svg\" alt=\"Open In Colab\"/></a>"
      ]
    },
    {
      "cell_type": "markdown",
      "source": [
        "Modelo simples"
      ],
      "metadata": {
        "id": "HPgPsm4cEILa"
      }
    },
    {
      "cell_type": "code",
      "execution_count": 1,
      "metadata": {
        "colab": {
          "base_uri": "https://localhost:8080/"
        },
        "id": "kuHOdlNJkX-5",
        "outputId": "b2015952-af3e-4887-d60f-f8f9773e0a6b"
      },
      "outputs": [
        {
          "output_type": "stream",
          "name": "stdout",
          "text": [
            "Looking in indexes: https://pypi.org/simple, https://us-python.pkg.dev/colab-wheels/public/simple/\n",
            "Collecting pyspark\n",
            "  Downloading pyspark-3.2.1.tar.gz (281.4 MB)\n",
            "\u001b[K     |████████████████████████████████| 281.4 MB 43 kB/s \n",
            "\u001b[?25hCollecting py4j==0.10.9.3\n",
            "  Downloading py4j-0.10.9.3-py2.py3-none-any.whl (198 kB)\n",
            "\u001b[K     |████████████████████████████████| 198 kB 81.6 MB/s \n",
            "\u001b[?25hBuilding wheels for collected packages: pyspark\n",
            "  Building wheel for pyspark (setup.py) ... \u001b[?25l\u001b[?25hdone\n",
            "  Created wheel for pyspark: filename=pyspark-3.2.1-py2.py3-none-any.whl size=281853642 sha256=6e6620cef193009f70321e5368575e4362d5a37c2c8dfd8a6e856fdd1c13d709\n",
            "  Stored in directory: /root/.cache/pip/wheels/9f/f5/07/7cd8017084dce4e93e84e92efd1e1d5334db05f2e83bcef74f\n",
            "Successfully built pyspark\n",
            "Installing collected packages: py4j, pyspark\n",
            "Successfully installed py4j-0.10.9.3 pyspark-3.2.1\n"
          ]
        }
      ],
      "source": [
        "pip install pyspark"
      ]
    },
    {
      "cell_type": "code",
      "source": [
        "pip install findspark"
      ],
      "metadata": {
        "colab": {
          "base_uri": "https://localhost:8080/"
        },
        "id": "GmSzOciMkjwA",
        "outputId": "f5d92d7d-16af-48e0-d74e-e15aa0060d47"
      },
      "execution_count": 2,
      "outputs": [
        {
          "output_type": "stream",
          "name": "stdout",
          "text": [
            "Looking in indexes: https://pypi.org/simple, https://us-python.pkg.dev/colab-wheels/public/simple/\n",
            "Collecting findspark\n",
            "  Downloading findspark-2.0.1-py2.py3-none-any.whl (4.4 kB)\n",
            "Installing collected packages: findspark\n",
            "Successfully installed findspark-2.0.1\n"
          ]
        }
      ]
    },
    {
      "cell_type": "code",
      "source": [
        "import pyspark, findspark\n",
        "from pyspark.sql import SparkSession\n",
        "findspark.init()\n",
        "spark = SparkSession.builder.appName('associacao').getOrCreate()"
      ],
      "metadata": {
        "id": "A8vrra3zkw_S"
      },
      "execution_count": 3,
      "outputs": []
    },
    {
      "cell_type": "code",
      "source": [
        "from pyspark.ml.fpm import FPGrowth"
      ],
      "metadata": {
        "id": "BYdKKSd8k15F"
      },
      "execution_count": 4,
      "outputs": []
    },
    {
      "cell_type": "code",
      "source": [
        "from pyspark.sql.functions import split\n"
      ],
      "metadata": {
        "id": "bBM2KMZllTlh"
      },
      "execution_count": 5,
      "outputs": []
    },
    {
      "cell_type": "code",
      "source": [
        "transações = spark.read.text('Transacoes.txt').select(split('value','\\s+').alias('transações'))\n",
        "transações.show(truncate=False)"
      ],
      "metadata": {
        "colab": {
          "base_uri": "https://localhost:8080/"
        },
        "id": "7-NaalB4lltx",
        "outputId": "54ff4fec-beee-4ec3-d0cf-211271a3750c"
      },
      "execution_count": 10,
      "outputs": [
        {
          "output_type": "stream",
          "name": "stdout",
          "text": [
            "+-------------------------+\n",
            "|transações               |\n",
            "+-------------------------+\n",
            "|[Cerveja, Pizza, Sorvete]|\n",
            "|[Pizza, Sorvete]         |\n",
            "|[Cerveja, Pizza]         |\n",
            "|[Cerveja, Pizza, Sorvete]|\n",
            "|[Cerveja, Pizza]         |\n",
            "|[Pizza]                  |\n",
            "+-------------------------+\n",
            "\n"
          ]
        }
      ]
    },
    {
      "cell_type": "code",
      "source": [
        "fp = FPGrowth(itemsCol='transações',minSupport=0.5, minConfidence=0.5)"
      ],
      "metadata": {
        "id": "RdlxDM12ntRO"
      },
      "execution_count": 11,
      "outputs": []
    },
    {
      "cell_type": "code",
      "source": [
        "modelo = fp.fit(transações)\n",
        "modelo.freqItemsets.show()"
      ],
      "metadata": {
        "colab": {
          "base_uri": "https://localhost:8080/"
        },
        "id": "ovzeNdR4CjsS",
        "outputId": "f87b7a04-91b8-4204-a500-ea727f8ae8d8"
      },
      "execution_count": 12,
      "outputs": [
        {
          "output_type": "stream",
          "name": "stderr",
          "text": [
            "/usr/local/lib/python3.7/dist-packages/pyspark/sql/context.py:127: FutureWarning: Deprecated in 3.0.0. Use SparkSession.builder.getOrCreate() instead.\n",
            "  FutureWarning\n"
          ]
        },
        {
          "output_type": "stream",
          "name": "stdout",
          "text": [
            "+----------------+----+\n",
            "|           items|freq|\n",
            "+----------------+----+\n",
            "|       [Sorvete]|   3|\n",
            "|[Sorvete, Pizza]|   3|\n",
            "|       [Cerveja]|   4|\n",
            "|[Cerveja, Pizza]|   4|\n",
            "|         [Pizza]|   6|\n",
            "+----------------+----+\n",
            "\n"
          ]
        }
      ]
    },
    {
      "cell_type": "code",
      "source": [
        "modelo.associationRules.show()"
      ],
      "metadata": {
        "colab": {
          "base_uri": "https://localhost:8080/"
        },
        "id": "RxEi8KRPCzDf",
        "outputId": "c63534a4-0a4f-4003-f2d3-10bc796ecb62"
      },
      "execution_count": 13,
      "outputs": [
        {
          "output_type": "stream",
          "name": "stderr",
          "text": [
            "/usr/local/lib/python3.7/dist-packages/pyspark/sql/context.py:127: FutureWarning: Deprecated in 3.0.0. Use SparkSession.builder.getOrCreate() instead.\n",
            "  FutureWarning\n"
          ]
        },
        {
          "output_type": "stream",
          "name": "stdout",
          "text": [
            "+----------+----------+------------------+----+------------------+\n",
            "|antecedent|consequent|        confidence|lift|           support|\n",
            "+----------+----------+------------------+----+------------------+\n",
            "| [Cerveja]|   [Pizza]|               1.0| 1.0|0.6666666666666666|\n",
            "| [Sorvete]|   [Pizza]|               1.0| 1.0|               0.5|\n",
            "|   [Pizza]| [Sorvete]|               0.5| 1.0|               0.5|\n",
            "|   [Pizza]| [Cerveja]|0.6666666666666666| 1.0|0.6666666666666666|\n",
            "+----------+----------+------------------+----+------------------+\n",
            "\n"
          ]
        }
      ]
    },
    {
      "cell_type": "markdown",
      "source": [
        "quem compra cerveja, comra pizza, confinaa de 100%, etc"
      ],
      "metadata": {
        "id": "SrDK5mY7DLkp"
      }
    },
    {
      "cell_type": "code",
      "source": [
        "modelo.transform(transações).show(truncate=False)"
      ],
      "metadata": {
        "colab": {
          "base_uri": "https://localhost:8080/"
        },
        "id": "q3R5zhDaDEVy",
        "outputId": "4cd08a1a-6442-464a-fa39-7a0d7be2c3db"
      },
      "execution_count": 14,
      "outputs": [
        {
          "output_type": "stream",
          "name": "stdout",
          "text": [
            "+-------------------------+------------------+\n",
            "|transações               |prediction        |\n",
            "+-------------------------+------------------+\n",
            "|[Cerveja, Pizza, Sorvete]|[]                |\n",
            "|[Pizza, Sorvete]         |[Cerveja]         |\n",
            "|[Cerveja, Pizza]         |[Sorvete]         |\n",
            "|[Cerveja, Pizza, Sorvete]|[]                |\n",
            "|[Cerveja, Pizza]         |[Sorvete]         |\n",
            "|[Pizza]                  |[Sorvete, Cerveja]|\n",
            "+-------------------------+------------------+\n",
            "\n"
          ]
        }
      ]
    },
    {
      "cell_type": "markdown",
      "source": [
        "previsão acima: quem compra pizzaa e sorvete, tbm deve comprar cerveja, quem compra pizza, deve comprar sorvte e cerveja, etc...."
      ],
      "metadata": {
        "id": "bAKopDLKD2NJ"
      }
    }
  ]
}