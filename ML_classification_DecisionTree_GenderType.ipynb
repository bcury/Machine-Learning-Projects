{
  "nbformat": 4,
  "nbformat_minor": 0,
  "metadata": {
    "colab": {
      "name": "ML_classification_DecisionTree_GenderType",
      "provenance": [],
      "collapsed_sections": [],
      "authorship_tag": "ABX9TyM5FU1KHNJ5qcuFlQx6h+7C",
      "include_colab_link": true
    },
    "kernelspec": {
      "name": "python3",
      "display_name": "Python 3"
    },
    "language_info": {
      "name": "python"
    }
  },
  "cells": [
    {
      "cell_type": "markdown",
      "metadata": {
        "id": "view-in-github",
        "colab_type": "text"
      },
      "source": [
        "<a href=\"https://colab.research.google.com/github/bcury/Machine-Learning-Projects/blob/main/ML_classification_DecisionTree_GenderType.ipynb\" target=\"_parent\"><img src=\"https://colab.research.google.com/assets/colab-badge.svg\" alt=\"Open In Colab\"/></a>"
      ]
    },
    {
      "cell_type": "code",
      "execution_count": 1,
      "metadata": {
        "id": "iJpvreZpz-tf"
      },
      "outputs": [],
      "source": [
        "import pandas as pd\n",
        "import numpy as np"
      ]
    },
    {
      "cell_type": "code",
      "source": [
        "import matplotlib.pyplot as plt\n",
        "import seaborn as sns"
      ],
      "metadata": {
        "id": "LahNIJyn0VxS"
      },
      "execution_count": 2,
      "outputs": []
    },
    {
      "cell_type": "code",
      "source": [
        "base = pd.read_csv('/content/MBA_ADMISSIONS.csv')"
      ],
      "metadata": {
        "id": "pQZJgVxK0by6"
      },
      "execution_count": 3,
      "outputs": []
    },
    {
      "cell_type": "code",
      "source": [
        "base.head()"
      ],
      "metadata": {
        "colab": {
          "base_uri": "https://localhost:8080/",
          "height": 357
        },
        "id": "vwoMhNCI0gIh",
        "outputId": "4b6d517b-db5a-4a72-aa7e-8f10263eb4f9"
      },
      "execution_count": 4,
      "outputs": [
        {
          "output_type": "execute_result",
          "data": {
            "text/html": [
              "\n",
              "  <div id=\"df-8388982f-d4d7-4fbb-9f39-4a613c8e87ee\">\n",
              "    <div class=\"colab-df-container\">\n",
              "      <div>\n",
              "<style scoped>\n",
              "    .dataframe tbody tr th:only-of-type {\n",
              "        vertical-align: middle;\n",
              "    }\n",
              "\n",
              "    .dataframe tbody tr th {\n",
              "        vertical-align: top;\n",
              "    }\n",
              "\n",
              "    .dataframe thead th {\n",
              "        text-align: right;\n",
              "    }\n",
              "</style>\n",
              "<table border=\"1\" class=\"dataframe\">\n",
              "  <thead>\n",
              "    <tr style=\"text-align: right;\">\n",
              "      <th></th>\n",
              "      <th>pre_score</th>\n",
              "      <th>Age_in_years</th>\n",
              "      <th>Percentage_in_10_Class</th>\n",
              "      <th>Percentage_in_12_Class</th>\n",
              "      <th>Percentage_in_Under_Graduate</th>\n",
              "      <th>percentage_MBA</th>\n",
              "      <th>post_score</th>\n",
              "      <th>Gender</th>\n",
              "      <th>STATE</th>\n",
              "      <th>Previous_Degree</th>\n",
              "      <th>Marital_status</th>\n",
              "      <th>Place_you_belong_to</th>\n",
              "      <th>perceived#Job#Skill</th>\n",
              "      <th>Specialization</th>\n",
              "    </tr>\n",
              "  </thead>\n",
              "  <tbody>\n",
              "    <tr>\n",
              "      <th>0</th>\n",
              "      <td>75.000000</td>\n",
              "      <td>22</td>\n",
              "      <td>71.0</td>\n",
              "      <td>74.8</td>\n",
              "      <td>72.00</td>\n",
              "      <td>61.00</td>\n",
              "      <td>83.333333</td>\n",
              "      <td>Male</td>\n",
              "      <td>Central Zone</td>\n",
              "      <td>Engineering</td>\n",
              "      <td>Single</td>\n",
              "      <td>Urban</td>\n",
              "      <td>prefered skills</td>\n",
              "      <td>Marketing</td>\n",
              "    </tr>\n",
              "    <tr>\n",
              "      <th>1</th>\n",
              "      <td>71.666667</td>\n",
              "      <td>25</td>\n",
              "      <td>77.6</td>\n",
              "      <td>82.6</td>\n",
              "      <td>76.90</td>\n",
              "      <td>66.85</td>\n",
              "      <td>76.666667</td>\n",
              "      <td>Male</td>\n",
              "      <td>Central Zone</td>\n",
              "      <td>Engineering</td>\n",
              "      <td>Single</td>\n",
              "      <td>Semi Urban</td>\n",
              "      <td>prefered skills</td>\n",
              "      <td>LOS</td>\n",
              "    </tr>\n",
              "    <tr>\n",
              "      <th>2</th>\n",
              "      <td>76.666667</td>\n",
              "      <td>26</td>\n",
              "      <td>93.2</td>\n",
              "      <td>83.8</td>\n",
              "      <td>77.00</td>\n",
              "      <td>74.97</td>\n",
              "      <td>75.000000</td>\n",
              "      <td>Female</td>\n",
              "      <td>Central Zone</td>\n",
              "      <td>Engineering</td>\n",
              "      <td>Single</td>\n",
              "      <td>Urban</td>\n",
              "      <td>desired skills</td>\n",
              "      <td>Finance</td>\n",
              "    </tr>\n",
              "    <tr>\n",
              "      <th>3</th>\n",
              "      <td>66.666667</td>\n",
              "      <td>22</td>\n",
              "      <td>91.2</td>\n",
              "      <td>80.0</td>\n",
              "      <td>67.00</td>\n",
              "      <td>68.30</td>\n",
              "      <td>60.000000</td>\n",
              "      <td>Male</td>\n",
              "      <td>Central Zone</td>\n",
              "      <td>Commerce</td>\n",
              "      <td>Single</td>\n",
              "      <td>Semi Urban</td>\n",
              "      <td>prefered skills</td>\n",
              "      <td>Finance</td>\n",
              "    </tr>\n",
              "    <tr>\n",
              "      <th>4</th>\n",
              "      <td>71.666667</td>\n",
              "      <td>24</td>\n",
              "      <td>79.8</td>\n",
              "      <td>61.6</td>\n",
              "      <td>60.33</td>\n",
              "      <td>69.28</td>\n",
              "      <td>76.666667</td>\n",
              "      <td>Female</td>\n",
              "      <td>Central Zone</td>\n",
              "      <td>Engineering</td>\n",
              "      <td>Single</td>\n",
              "      <td>Urban</td>\n",
              "      <td>prefered skills</td>\n",
              "      <td>Finance</td>\n",
              "    </tr>\n",
              "  </tbody>\n",
              "</table>\n",
              "</div>\n",
              "      <button class=\"colab-df-convert\" onclick=\"convertToInteractive('df-8388982f-d4d7-4fbb-9f39-4a613c8e87ee')\"\n",
              "              title=\"Convert this dataframe to an interactive table.\"\n",
              "              style=\"display:none;\">\n",
              "        \n",
              "  <svg xmlns=\"http://www.w3.org/2000/svg\" height=\"24px\"viewBox=\"0 0 24 24\"\n",
              "       width=\"24px\">\n",
              "    <path d=\"M0 0h24v24H0V0z\" fill=\"none\"/>\n",
              "    <path d=\"M18.56 5.44l.94 2.06.94-2.06 2.06-.94-2.06-.94-.94-2.06-.94 2.06-2.06.94zm-11 1L8.5 8.5l.94-2.06 2.06-.94-2.06-.94L8.5 2.5l-.94 2.06-2.06.94zm10 10l.94 2.06.94-2.06 2.06-.94-2.06-.94-.94-2.06-.94 2.06-2.06.94z\"/><path d=\"M17.41 7.96l-1.37-1.37c-.4-.4-.92-.59-1.43-.59-.52 0-1.04.2-1.43.59L10.3 9.45l-7.72 7.72c-.78.78-.78 2.05 0 2.83L4 21.41c.39.39.9.59 1.41.59.51 0 1.02-.2 1.41-.59l7.78-7.78 2.81-2.81c.8-.78.8-2.07 0-2.86zM5.41 20L4 18.59l7.72-7.72 1.47 1.35L5.41 20z\"/>\n",
              "  </svg>\n",
              "      </button>\n",
              "      \n",
              "  <style>\n",
              "    .colab-df-container {\n",
              "      display:flex;\n",
              "      flex-wrap:wrap;\n",
              "      gap: 12px;\n",
              "    }\n",
              "\n",
              "    .colab-df-convert {\n",
              "      background-color: #E8F0FE;\n",
              "      border: none;\n",
              "      border-radius: 50%;\n",
              "      cursor: pointer;\n",
              "      display: none;\n",
              "      fill: #1967D2;\n",
              "      height: 32px;\n",
              "      padding: 0 0 0 0;\n",
              "      width: 32px;\n",
              "    }\n",
              "\n",
              "    .colab-df-convert:hover {\n",
              "      background-color: #E2EBFA;\n",
              "      box-shadow: 0px 1px 2px rgba(60, 64, 67, 0.3), 0px 1px 3px 1px rgba(60, 64, 67, 0.15);\n",
              "      fill: #174EA6;\n",
              "    }\n",
              "\n",
              "    [theme=dark] .colab-df-convert {\n",
              "      background-color: #3B4455;\n",
              "      fill: #D2E3FC;\n",
              "    }\n",
              "\n",
              "    [theme=dark] .colab-df-convert:hover {\n",
              "      background-color: #434B5C;\n",
              "      box-shadow: 0px 1px 3px 1px rgba(0, 0, 0, 0.15);\n",
              "      filter: drop-shadow(0px 1px 2px rgba(0, 0, 0, 0.3));\n",
              "      fill: #FFFFFF;\n",
              "    }\n",
              "  </style>\n",
              "\n",
              "      <script>\n",
              "        const buttonEl =\n",
              "          document.querySelector('#df-8388982f-d4d7-4fbb-9f39-4a613c8e87ee button.colab-df-convert');\n",
              "        buttonEl.style.display =\n",
              "          google.colab.kernel.accessAllowed ? 'block' : 'none';\n",
              "\n",
              "        async function convertToInteractive(key) {\n",
              "          const element = document.querySelector('#df-8388982f-d4d7-4fbb-9f39-4a613c8e87ee');\n",
              "          const dataTable =\n",
              "            await google.colab.kernel.invokeFunction('convertToInteractive',\n",
              "                                                     [key], {});\n",
              "          if (!dataTable) return;\n",
              "\n",
              "          const docLinkHtml = 'Like what you see? Visit the ' +\n",
              "            '<a target=\"_blank\" href=https://colab.research.google.com/notebooks/data_table.ipynb>data table notebook</a>'\n",
              "            + ' to learn more about interactive tables.';\n",
              "          element.innerHTML = '';\n",
              "          dataTable['output_type'] = 'display_data';\n",
              "          await google.colab.output.renderOutput(dataTable, element);\n",
              "          const docLink = document.createElement('div');\n",
              "          docLink.innerHTML = docLinkHtml;\n",
              "          element.appendChild(docLink);\n",
              "        }\n",
              "      </script>\n",
              "    </div>\n",
              "  </div>\n",
              "  "
            ],
            "text/plain": [
              "   pre_score  Age_in_years  ...  perceived#Job#Skill  Specialization\n",
              "0  75.000000            22  ...      prefered skills       Marketing\n",
              "1  71.666667            25  ...      prefered skills             LOS\n",
              "2  76.666667            26  ...       desired skills         Finance\n",
              "3  66.666667            22  ...      prefered skills         Finance\n",
              "4  71.666667            24  ...      prefered skills         Finance\n",
              "\n",
              "[5 rows x 14 columns]"
            ]
          },
          "metadata": {},
          "execution_count": 4
        }
      ]
    },
    {
      "cell_type": "code",
      "source": [
        "base. tail()"
      ],
      "metadata": {
        "colab": {
          "base_uri": "https://localhost:8080/",
          "height": 357
        },
        "id": "keSPzVCB7O_J",
        "outputId": "a1ef9a2a-f14d-4ea2-b600-8cf87e86775c"
      },
      "execution_count": 51,
      "outputs": [
        {
          "output_type": "execute_result",
          "data": {
            "text/html": [
              "\n",
              "  <div id=\"df-26d42e09-c04f-4b8f-9b2b-dd3c82bc6810\">\n",
              "    <div class=\"colab-df-container\">\n",
              "      <div>\n",
              "<style scoped>\n",
              "    .dataframe tbody tr th:only-of-type {\n",
              "        vertical-align: middle;\n",
              "    }\n",
              "\n",
              "    .dataframe tbody tr th {\n",
              "        vertical-align: top;\n",
              "    }\n",
              "\n",
              "    .dataframe thead th {\n",
              "        text-align: right;\n",
              "    }\n",
              "</style>\n",
              "<table border=\"1\" class=\"dataframe\">\n",
              "  <thead>\n",
              "    <tr style=\"text-align: right;\">\n",
              "      <th></th>\n",
              "      <th>pre_score</th>\n",
              "      <th>Age_in_years</th>\n",
              "      <th>Percentage_in_10_Class</th>\n",
              "      <th>Percentage_in_12_Class</th>\n",
              "      <th>Percentage_in_Under_Graduate</th>\n",
              "      <th>percentage_MBA</th>\n",
              "      <th>post_score</th>\n",
              "      <th>STATE</th>\n",
              "      <th>Previous_Degree</th>\n",
              "      <th>Marital_status</th>\n",
              "      <th>Place_you_belong_to</th>\n",
              "      <th>perceived#Job#Skill</th>\n",
              "      <th>Specialization</th>\n",
              "      <th>Target</th>\n",
              "    </tr>\n",
              "  </thead>\n",
              "  <tbody>\n",
              "    <tr>\n",
              "      <th>468</th>\n",
              "      <td>71.666667</td>\n",
              "      <td>22</td>\n",
              "      <td>95.0</td>\n",
              "      <td>78.6</td>\n",
              "      <td>75.43</td>\n",
              "      <td>68.54</td>\n",
              "      <td>88.333333</td>\n",
              "      <td>Central Zone</td>\n",
              "      <td>Engineering</td>\n",
              "      <td>Single</td>\n",
              "      <td>Urban</td>\n",
              "      <td>prefered skills</td>\n",
              "      <td>Marketing</td>\n",
              "      <td>1</td>\n",
              "    </tr>\n",
              "    <tr>\n",
              "      <th>469</th>\n",
              "      <td>71.666667</td>\n",
              "      <td>25</td>\n",
              "      <td>77.6</td>\n",
              "      <td>82.6</td>\n",
              "      <td>76.90</td>\n",
              "      <td>66.85</td>\n",
              "      <td>76.666667</td>\n",
              "      <td>Central Zone</td>\n",
              "      <td>Engineering</td>\n",
              "      <td>Single</td>\n",
              "      <td>Semi Urban</td>\n",
              "      <td>prefered skills</td>\n",
              "      <td>LOS</td>\n",
              "      <td>1</td>\n",
              "    </tr>\n",
              "    <tr>\n",
              "      <th>470</th>\n",
              "      <td>76.666667</td>\n",
              "      <td>26</td>\n",
              "      <td>93.2</td>\n",
              "      <td>83.8</td>\n",
              "      <td>77.00</td>\n",
              "      <td>74.97</td>\n",
              "      <td>75.000000</td>\n",
              "      <td>Central Zone</td>\n",
              "      <td>Engineering</td>\n",
              "      <td>Single</td>\n",
              "      <td>Urban</td>\n",
              "      <td>desired skills</td>\n",
              "      <td>Finance</td>\n",
              "      <td>0</td>\n",
              "    </tr>\n",
              "    <tr>\n",
              "      <th>471</th>\n",
              "      <td>66.666667</td>\n",
              "      <td>22</td>\n",
              "      <td>91.2</td>\n",
              "      <td>80.0</td>\n",
              "      <td>67.00</td>\n",
              "      <td>68.30</td>\n",
              "      <td>60.000000</td>\n",
              "      <td>Central Zone</td>\n",
              "      <td>Commerce</td>\n",
              "      <td>Single</td>\n",
              "      <td>Semi Urban</td>\n",
              "      <td>prefered skills</td>\n",
              "      <td>Finance</td>\n",
              "      <td>1</td>\n",
              "    </tr>\n",
              "    <tr>\n",
              "      <th>472</th>\n",
              "      <td>71.666667</td>\n",
              "      <td>24</td>\n",
              "      <td>79.8</td>\n",
              "      <td>61.6</td>\n",
              "      <td>60.33</td>\n",
              "      <td>69.28</td>\n",
              "      <td>76.666667</td>\n",
              "      <td>Central Zone</td>\n",
              "      <td>Engineering</td>\n",
              "      <td>Single</td>\n",
              "      <td>Urban</td>\n",
              "      <td>prefered skills</td>\n",
              "      <td>Finance</td>\n",
              "      <td>0</td>\n",
              "    </tr>\n",
              "  </tbody>\n",
              "</table>\n",
              "</div>\n",
              "      <button class=\"colab-df-convert\" onclick=\"convertToInteractive('df-26d42e09-c04f-4b8f-9b2b-dd3c82bc6810')\"\n",
              "              title=\"Convert this dataframe to an interactive table.\"\n",
              "              style=\"display:none;\">\n",
              "        \n",
              "  <svg xmlns=\"http://www.w3.org/2000/svg\" height=\"24px\"viewBox=\"0 0 24 24\"\n",
              "       width=\"24px\">\n",
              "    <path d=\"M0 0h24v24H0V0z\" fill=\"none\"/>\n",
              "    <path d=\"M18.56 5.44l.94 2.06.94-2.06 2.06-.94-2.06-.94-.94-2.06-.94 2.06-2.06.94zm-11 1L8.5 8.5l.94-2.06 2.06-.94-2.06-.94L8.5 2.5l-.94 2.06-2.06.94zm10 10l.94 2.06.94-2.06 2.06-.94-2.06-.94-.94-2.06-.94 2.06-2.06.94z\"/><path d=\"M17.41 7.96l-1.37-1.37c-.4-.4-.92-.59-1.43-.59-.52 0-1.04.2-1.43.59L10.3 9.45l-7.72 7.72c-.78.78-.78 2.05 0 2.83L4 21.41c.39.39.9.59 1.41.59.51 0 1.02-.2 1.41-.59l7.78-7.78 2.81-2.81c.8-.78.8-2.07 0-2.86zM5.41 20L4 18.59l7.72-7.72 1.47 1.35L5.41 20z\"/>\n",
              "  </svg>\n",
              "      </button>\n",
              "      \n",
              "  <style>\n",
              "    .colab-df-container {\n",
              "      display:flex;\n",
              "      flex-wrap:wrap;\n",
              "      gap: 12px;\n",
              "    }\n",
              "\n",
              "    .colab-df-convert {\n",
              "      background-color: #E8F0FE;\n",
              "      border: none;\n",
              "      border-radius: 50%;\n",
              "      cursor: pointer;\n",
              "      display: none;\n",
              "      fill: #1967D2;\n",
              "      height: 32px;\n",
              "      padding: 0 0 0 0;\n",
              "      width: 32px;\n",
              "    }\n",
              "\n",
              "    .colab-df-convert:hover {\n",
              "      background-color: #E2EBFA;\n",
              "      box-shadow: 0px 1px 2px rgba(60, 64, 67, 0.3), 0px 1px 3px 1px rgba(60, 64, 67, 0.15);\n",
              "      fill: #174EA6;\n",
              "    }\n",
              "\n",
              "    [theme=dark] .colab-df-convert {\n",
              "      background-color: #3B4455;\n",
              "      fill: #D2E3FC;\n",
              "    }\n",
              "\n",
              "    [theme=dark] .colab-df-convert:hover {\n",
              "      background-color: #434B5C;\n",
              "      box-shadow: 0px 1px 3px 1px rgba(0, 0, 0, 0.15);\n",
              "      filter: drop-shadow(0px 1px 2px rgba(0, 0, 0, 0.3));\n",
              "      fill: #FFFFFF;\n",
              "    }\n",
              "  </style>\n",
              "\n",
              "      <script>\n",
              "        const buttonEl =\n",
              "          document.querySelector('#df-26d42e09-c04f-4b8f-9b2b-dd3c82bc6810 button.colab-df-convert');\n",
              "        buttonEl.style.display =\n",
              "          google.colab.kernel.accessAllowed ? 'block' : 'none';\n",
              "\n",
              "        async function convertToInteractive(key) {\n",
              "          const element = document.querySelector('#df-26d42e09-c04f-4b8f-9b2b-dd3c82bc6810');\n",
              "          const dataTable =\n",
              "            await google.colab.kernel.invokeFunction('convertToInteractive',\n",
              "                                                     [key], {});\n",
              "          if (!dataTable) return;\n",
              "\n",
              "          const docLinkHtml = 'Like what you see? Visit the ' +\n",
              "            '<a target=\"_blank\" href=https://colab.research.google.com/notebooks/data_table.ipynb>data table notebook</a>'\n",
              "            + ' to learn more about interactive tables.';\n",
              "          element.innerHTML = '';\n",
              "          dataTable['output_type'] = 'display_data';\n",
              "          await google.colab.output.renderOutput(dataTable, element);\n",
              "          const docLink = document.createElement('div');\n",
              "          docLink.innerHTML = docLinkHtml;\n",
              "          element.appendChild(docLink);\n",
              "        }\n",
              "      </script>\n",
              "    </div>\n",
              "  </div>\n",
              "  "
            ],
            "text/plain": [
              "     pre_score  Age_in_years  ...  Specialization  Target\n",
              "468  71.666667            22  ...       Marketing       1\n",
              "469  71.666667            25  ...             LOS       1\n",
              "470  76.666667            26  ...         Finance       0\n",
              "471  66.666667            22  ...         Finance       1\n",
              "472  71.666667            24  ...         Finance       0\n",
              "\n",
              "[5 rows x 14 columns]"
            ]
          },
          "metadata": {},
          "execution_count": 51
        }
      ]
    },
    {
      "cell_type": "code",
      "source": [
        "#VISUALIZAO DE DADOS\n",
        "np.unique(base['Gender'], return_counts = True)"
      ],
      "metadata": {
        "colab": {
          "base_uri": "https://localhost:8080/"
        },
        "id": "ucviGdXl0iRi",
        "outputId": "d68cc8a4-c6af-46ff-8043-20f2a7b41749"
      },
      "execution_count": 11,
      "outputs": [
        {
          "output_type": "execute_result",
          "data": {
            "text/plain": [
              "(array(['Female', 'Male'], dtype=object), array([205, 268]))"
            ]
          },
          "metadata": {},
          "execution_count": 11
        }
      ]
    },
    {
      "cell_type": "code",
      "source": [
        "sns.countplot( x = base['Gender']);"
      ],
      "metadata": {
        "colab": {
          "base_uri": "https://localhost:8080/",
          "height": 279
        },
        "id": "K7poJ1Nn1NQ-",
        "outputId": "c750e35f-2ae0-423e-8008-07e95cd6d1c9"
      },
      "execution_count": 10,
      "outputs": [
        {
          "output_type": "display_data",
          "data": {
            "image/png": "[encoded data removed]",
            "text/plain": [
              "<Figure size 432x288 with 1 Axes>"
            ]
          },
          "metadata": {
            "needs_background": "light"
          }
        }
      ]
    },
    {
      "cell_type": "code",
      "source": [
        "base.isnull().sum()"
      ],
      "metadata": {
        "colab": {
          "base_uri": "https://localhost:8080/"
        },
        "id": "BXTQvsJN1w-J",
        "outputId": "283dd234-aeb4-49f0-e574-b72d21ef3b98"
      },
      "execution_count": 12,
      "outputs": [
        {
          "output_type": "execute_result",
          "data": {
            "text/plain": [
              "pre_score                       0\n",
              "Age_in_years                    0\n",
              "Percentage_in_10_Class          0\n",
              "Percentage_in_12_Class          0\n",
              "Percentage_in_Under_Graduate    0\n",
              "percentage_MBA                  0\n",
              "post_score                      0\n",
              "Gender                          0\n",
              "STATE                           0\n",
              "Previous_Degree                 0\n",
              "Marital_status                  0\n",
              "Place_you_belong_to             0\n",
              "perceived#Job#Skill             0\n",
              "Specialization                  0\n",
              "dtype: int64"
            ]
          },
          "metadata": {},
          "execution_count": 12
        }
      ]
    },
    {
      "cell_type": "code",
      "source": [
        "from sklearn.preprocessing import LabelEncoder"
      ],
      "metadata": {
        "id": "NPfpTjvb2Mor"
      },
      "execution_count": 66,
      "outputs": []
    },
    {
      "cell_type": "code",
      "source": [
        "label_encode = LabelEncoder()\n",
        "labels = label_encode.fit_transform(base['STATE'])\n",
        "base['estado'] = labels"
      ],
      "metadata": {
        "id": "rZvg_ZbP8ing"
      },
      "execution_count": 68,
      "outputs": []
    },
    {
      "cell_type": "code",
      "source": [
        "label_encode = LabelEncoder()\n",
        "labels1 = label_encode.fit_transform(base['Previous_Degree'])\n",
        "base['grau anterior'] = labels1"
      ],
      "metadata": {
        "id": "cLFLQ-818jbP"
      },
      "execution_count": 69,
      "outputs": []
    },
    {
      "cell_type": "code",
      "source": [
        "label_encode = LabelEncoder()\n",
        "labels2 = label_encode.fit_transform(base['Marital_status'])\n",
        "base['estado civel'] = labels2"
      ],
      "metadata": {
        "id": "LU8MjzGO8kGn"
      },
      "execution_count": 70,
      "outputs": []
    },
    {
      "cell_type": "code",
      "source": [
        "label_encode = LabelEncoder()\n",
        "labels3 = label_encode.fit_transform(base['Place_you_belong_to'])\n",
        "base['lugar que pertence'] =labels3"
      ],
      "metadata": {
        "id": "CgR6yY8V2Tlv"
      },
      "execution_count": 71,
      "outputs": []
    },
    {
      "cell_type": "code",
      "source": [
        "label_encode = LabelEncoder()\n",
        "labels4 = label_encode.fit_transform(base['perceived#Job#Skill'])\n",
        "base['skills'] = labels4"
      ],
      "metadata": {
        "id": "tr1ClpkH8_yd"
      },
      "execution_count": 72,
      "outputs": []
    },
    {
      "cell_type": "code",
      "source": [
        "label_encode = LabelEncoder()\n",
        "labels5 = label_encode.fit_transform(base['Specialization'])\n",
        "base['especialização'] = labels5"
      ],
      "metadata": {
        "id": "p3RhM3n79F2W"
      },
      "execution_count": 73,
      "outputs": []
    },
    {
      "cell_type": "code",
      "source": [
        "base.head()"
      ],
      "metadata": {
        "colab": {
          "base_uri": "https://localhost:8080/",
          "height": 305
        },
        "id": "zXN0OI0z2e3j",
        "outputId": "123043bf-74da-4b15-c688-0c372ca77ec8"
      },
      "execution_count": 75,
      "outputs": [
        {
          "output_type": "execute_result",
          "data": {
            "text/html": [
              "\n",
              "  <div id=\"df-57f97da0-2e4e-4f1c-9efe-7b46e171d93b\">\n",
              "    <div class=\"colab-df-container\">\n",
              "      <div>\n",
              "<style scoped>\n",
              "    .dataframe tbody tr th:only-of-type {\n",
              "        vertical-align: middle;\n",
              "    }\n",
              "\n",
              "    .dataframe tbody tr th {\n",
              "        vertical-align: top;\n",
              "    }\n",
              "\n",
              "    .dataframe thead th {\n",
              "        text-align: right;\n",
              "    }\n",
              "</style>\n",
              "<table border=\"1\" class=\"dataframe\">\n",
              "  <thead>\n",
              "    <tr style=\"text-align: right;\">\n",
              "      <th></th>\n",
              "      <th>pre_score</th>\n",
              "      <th>Age_in_years</th>\n",
              "      <th>Percentage_in_10_Class</th>\n",
              "      <th>Percentage_in_12_Class</th>\n",
              "      <th>Percentage_in_Under_Graduate</th>\n",
              "      <th>percentage_MBA</th>\n",
              "      <th>post_score</th>\n",
              "      <th>STATE</th>\n",
              "      <th>Previous_Degree</th>\n",
              "      <th>Marital_status</th>\n",
              "      <th>Place_you_belong_to</th>\n",
              "      <th>perceived#Job#Skill</th>\n",
              "      <th>Specialization</th>\n",
              "      <th>Target</th>\n",
              "      <th>estado</th>\n",
              "      <th>grau anterior</th>\n",
              "      <th>estado civel</th>\n",
              "      <th>lugar que pertence</th>\n",
              "      <th>skills</th>\n",
              "      <th>especialização</th>\n",
              "    </tr>\n",
              "  </thead>\n",
              "  <tbody>\n",
              "    <tr>\n",
              "      <th>0</th>\n",
              "      <td>75.000000</td>\n",
              "      <td>22</td>\n",
              "      <td>71.0</td>\n",
              "      <td>74.8</td>\n",
              "      <td>72.00</td>\n",
              "      <td>61.00</td>\n",
              "      <td>83.333333</td>\n",
              "      <td>1</td>\n",
              "      <td>Engineering</td>\n",
              "      <td>Single</td>\n",
              "      <td>Urban</td>\n",
              "      <td>prefered skills</td>\n",
              "      <td>Marketing</td>\n",
              "      <td>1</td>\n",
              "      <td>1</td>\n",
              "      <td>2</td>\n",
              "      <td>1</td>\n",
              "      <td>2</td>\n",
              "      <td>1</td>\n",
              "      <td>3</td>\n",
              "    </tr>\n",
              "    <tr>\n",
              "      <th>1</th>\n",
              "      <td>71.666667</td>\n",
              "      <td>25</td>\n",
              "      <td>77.6</td>\n",
              "      <td>82.6</td>\n",
              "      <td>76.90</td>\n",
              "      <td>66.85</td>\n",
              "      <td>76.666667</td>\n",
              "      <td>1</td>\n",
              "      <td>Engineering</td>\n",
              "      <td>Single</td>\n",
              "      <td>Semi Urban</td>\n",
              "      <td>prefered skills</td>\n",
              "      <td>LOS</td>\n",
              "      <td>1</td>\n",
              "      <td>1</td>\n",
              "      <td>2</td>\n",
              "      <td>1</td>\n",
              "      <td>1</td>\n",
              "      <td>1</td>\n",
              "      <td>2</td>\n",
              "    </tr>\n",
              "    <tr>\n",
              "      <th>2</th>\n",
              "      <td>76.666667</td>\n",
              "      <td>26</td>\n",
              "      <td>93.2</td>\n",
              "      <td>83.8</td>\n",
              "      <td>77.00</td>\n",
              "      <td>74.97</td>\n",
              "      <td>75.000000</td>\n",
              "      <td>1</td>\n",
              "      <td>Engineering</td>\n",
              "      <td>Single</td>\n",
              "      <td>Urban</td>\n",
              "      <td>desired skills</td>\n",
              "      <td>Finance</td>\n",
              "      <td>0</td>\n",
              "      <td>1</td>\n",
              "      <td>2</td>\n",
              "      <td>1</td>\n",
              "      <td>2</td>\n",
              "      <td>0</td>\n",
              "      <td>0</td>\n",
              "    </tr>\n",
              "    <tr>\n",
              "      <th>3</th>\n",
              "      <td>66.666667</td>\n",
              "      <td>22</td>\n",
              "      <td>91.2</td>\n",
              "      <td>80.0</td>\n",
              "      <td>67.00</td>\n",
              "      <td>68.30</td>\n",
              "      <td>60.000000</td>\n",
              "      <td>1</td>\n",
              "      <td>Commerce</td>\n",
              "      <td>Single</td>\n",
              "      <td>Semi Urban</td>\n",
              "      <td>prefered skills</td>\n",
              "      <td>Finance</td>\n",
              "      <td>1</td>\n",
              "      <td>1</td>\n",
              "      <td>1</td>\n",
              "      <td>1</td>\n",
              "      <td>1</td>\n",
              "      <td>1</td>\n",
              "      <td>0</td>\n",
              "    </tr>\n",
              "    <tr>\n",
              "      <th>4</th>\n",
              "      <td>71.666667</td>\n",
              "      <td>24</td>\n",
              "      <td>79.8</td>\n",
              "      <td>61.6</td>\n",
              "      <td>60.33</td>\n",
              "      <td>69.28</td>\n",
              "      <td>76.666667</td>\n",
              "      <td>1</td>\n",
              "      <td>Engineering</td>\n",
              "      <td>Single</td>\n",
              "      <td>Urban</td>\n",
              "      <td>prefered skills</td>\n",
              "      <td>Finance</td>\n",
              "      <td>0</td>\n",
              "      <td>1</td>\n",
              "      <td>2</td>\n",
              "      <td>1</td>\n",
              "      <td>2</td>\n",
              "      <td>1</td>\n",
              "      <td>0</td>\n",
              "    </tr>\n",
              "  </tbody>\n",
              "</table>\n",
              "</div>\n",
              "      <button class=\"colab-df-convert\" onclick=\"convertToInteractive('df-57f97da0-2e4e-4f1c-9efe-7b46e171d93b')\"\n",
              "              title=\"Convert this dataframe to an interactive table.\"\n",
              "              style=\"display:none;\">\n",
              "        \n",
              "  <svg xmlns=\"http://www.w3.org/2000/svg\" height=\"24px\"viewBox=\"0 0 24 24\"\n",
              "       width=\"24px\">\n",
              "    <path d=\"M0 0h24v24H0V0z\" fill=\"none\"/>\n",
              "    <path d=\"M18.56 5.44l.94 2.06.94-2.06 2.06-.94-2.06-.94-.94-2.06-.94 2.06-2.06.94zm-11 1L8.5 8.5l.94-2.06 2.06-.94-2.06-.94L8.5 2.5l-.94 2.06-2.06.94zm10 10l.94 2.06.94-2.06 2.06-.94-2.06-.94-.94-2.06-.94 2.06-2.06.94z\"/><path d=\"M17.41 7.96l-1.37-1.37c-.4-.4-.92-.59-1.43-.59-.52 0-1.04.2-1.43.59L10.3 9.45l-7.72 7.72c-.78.78-.78 2.05 0 2.83L4 21.41c.39.39.9.59 1.41.59.51 0 1.02-.2 1.41-.59l7.78-7.78 2.81-2.81c.8-.78.8-2.07 0-2.86zM5.41 20L4 18.59l7.72-7.72 1.47 1.35L5.41 20z\"/>\n",
              "  </svg>\n",
              "      </button>\n",
              "      \n",
              "  <style>\n",
              "    .colab-df-container {\n",
              "      display:flex;\n",
              "      flex-wrap:wrap;\n",
              "      gap: 12px;\n",
              "    }\n",
              "\n",
              "    .colab-df-convert {\n",
              "      background-color: #E8F0FE;\n",
              "      border: none;\n",
              "      border-radius: 50%;\n",
              "      cursor: pointer;\n",
              "      display: none;\n",
              "      fill: #1967D2;\n",
              "      height: 32px;\n",
              "      padding: 0 0 0 0;\n",
              "      width: 32px;\n",
              "    }\n",
              "\n",
              "    .colab-df-convert:hover {\n",
              "      background-color: #E2EBFA;\n",
              "      box-shadow: 0px 1px 2px rgba(60, 64, 67, 0.3), 0px 1px 3px 1px rgba(60, 64, 67, 0.15);\n",
              "      fill: #174EA6;\n",
              "    }\n",
              "\n",
              "    [theme=dark] .colab-df-convert {\n",
              "      background-color: #3B4455;\n",
              "      fill: #D2E3FC;\n",
              "    }\n",
              "\n",
              "    [theme=dark] .colab-df-convert:hover {\n",
              "      background-color: #434B5C;\n",
              "      box-shadow: 0px 1px 3px 1px rgba(0, 0, 0, 0.15);\n",
              "      filter: drop-shadow(0px 1px 2px rgba(0, 0, 0, 0.3));\n",
              "      fill: #FFFFFF;\n",
              "    }\n",
              "  </style>\n",
              "\n",
              "      <script>\n",
              "        const buttonEl =\n",
              "          document.querySelector('#df-57f97da0-2e4e-4f1c-9efe-7b46e171d93b button.colab-df-convert');\n",
              "        buttonEl.style.display =\n",
              "          google.colab.kernel.accessAllowed ? 'block' : 'none';\n",
              "\n",
              "        async function convertToInteractive(key) {\n",
              "          const element = document.querySelector('#df-57f97da0-2e4e-4f1c-9efe-7b46e171d93b');\n",
              "          const dataTable =\n",
              "            await google.colab.kernel.invokeFunction('convertToInteractive',\n",
              "                                                     [key], {});\n",
              "          if (!dataTable) return;\n",
              "\n",
              "          const docLinkHtml = 'Like what you see? Visit the ' +\n",
              "            '<a target=\"_blank\" href=https://colab.research.google.com/notebooks/data_table.ipynb>data table notebook</a>'\n",
              "            + ' to learn more about interactive tables.';\n",
              "          element.innerHTML = '';\n",
              "          dataTable['output_type'] = 'display_data';\n",
              "          await google.colab.output.renderOutput(dataTable, element);\n",
              "          const docLink = document.createElement('div');\n",
              "          docLink.innerHTML = docLinkHtml;\n",
              "          element.appendChild(docLink);\n",
              "        }\n",
              "      </script>\n",
              "    </div>\n",
              "  </div>\n",
              "  "
            ],
            "text/plain": [
              "   pre_score  Age_in_years  ...  skills  especialização\n",
              "0  75.000000            22  ...       1               3\n",
              "1  71.666667            25  ...       1               2\n",
              "2  76.666667            26  ...       0               0\n",
              "3  66.666667            22  ...       1               0\n",
              "4  71.666667            24  ...       1               0\n",
              "\n",
              "[5 rows x 20 columns]"
            ]
          },
          "metadata": {},
          "execution_count": 75
        }
      ]
    },
    {
      "cell_type": "code",
      "source": [
        "base.drop(columns=['Previous_Degree','Marital_status', 'Place_you_belong_to','perceived#Job#Skill','Specialization'], axis=1, inplace=True)"
      ],
      "metadata": {
        "id": "T3sHEGs72ge6"
      },
      "execution_count": 76,
      "outputs": []
    },
    {
      "cell_type": "code",
      "source": [
        "base.head()"
      ],
      "metadata": {
        "colab": {
          "base_uri": "https://localhost:8080/",
          "height": 305
        },
        "id": "D5xsjqJ82xWJ",
        "outputId": "447121de-e64d-4af1-8873-36a14859e040"
      },
      "execution_count": 81,
      "outputs": [
        {
          "output_type": "execute_result",
          "data": {
            "text/html": [
              "\n",
              "  <div id=\"df-81215c0f-be82-483d-bd10-24e27c9fbd7e\">\n",
              "    <div class=\"colab-df-container\">\n",
              "      <div>\n",
              "<style scoped>\n",
              "    .dataframe tbody tr th:only-of-type {\n",
              "        vertical-align: middle;\n",
              "    }\n",
              "\n",
              "    .dataframe tbody tr th {\n",
              "        vertical-align: top;\n",
              "    }\n",
              "\n",
              "    .dataframe thead th {\n",
              "        text-align: right;\n",
              "    }\n",
              "</style>\n",
              "<table border=\"1\" class=\"dataframe\">\n",
              "  <thead>\n",
              "    <tr style=\"text-align: right;\">\n",
              "      <th></th>\n",
              "      <th>pre_score</th>\n",
              "      <th>Age_in_years</th>\n",
              "      <th>Percentage_in_10_Class</th>\n",
              "      <th>Percentage_in_12_Class</th>\n",
              "      <th>Percentage_in_Under_Graduate</th>\n",
              "      <th>percentage_MBA</th>\n",
              "      <th>post_score</th>\n",
              "      <th>STATE</th>\n",
              "      <th>Target</th>\n",
              "      <th>estado</th>\n",
              "      <th>grau anterior</th>\n",
              "      <th>estado civel</th>\n",
              "      <th>lugar que pertence</th>\n",
              "      <th>skills</th>\n",
              "      <th>especialização</th>\n",
              "      <th>alvo</th>\n",
              "    </tr>\n",
              "  </thead>\n",
              "  <tbody>\n",
              "    <tr>\n",
              "      <th>0</th>\n",
              "      <td>75.000000</td>\n",
              "      <td>22</td>\n",
              "      <td>71.0</td>\n",
              "      <td>74.8</td>\n",
              "      <td>72.00</td>\n",
              "      <td>61.00</td>\n",
              "      <td>83.333333</td>\n",
              "      <td>1</td>\n",
              "      <td>1</td>\n",
              "      <td>1</td>\n",
              "      <td>2</td>\n",
              "      <td>1</td>\n",
              "      <td>2</td>\n",
              "      <td>1</td>\n",
              "      <td>3</td>\n",
              "      <td>1</td>\n",
              "    </tr>\n",
              "    <tr>\n",
              "      <th>1</th>\n",
              "      <td>71.666667</td>\n",
              "      <td>25</td>\n",
              "      <td>77.6</td>\n",
              "      <td>82.6</td>\n",
              "      <td>76.90</td>\n",
              "      <td>66.85</td>\n",
              "      <td>76.666667</td>\n",
              "      <td>1</td>\n",
              "      <td>1</td>\n",
              "      <td>1</td>\n",
              "      <td>2</td>\n",
              "      <td>1</td>\n",
              "      <td>1</td>\n",
              "      <td>1</td>\n",
              "      <td>2</td>\n",
              "      <td>1</td>\n",
              "    </tr>\n",
              "    <tr>\n",
              "      <th>2</th>\n",
              "      <td>76.666667</td>\n",
              "      <td>26</td>\n",
              "      <td>93.2</td>\n",
              "      <td>83.8</td>\n",
              "      <td>77.00</td>\n",
              "      <td>74.97</td>\n",
              "      <td>75.000000</td>\n",
              "      <td>1</td>\n",
              "      <td>0</td>\n",
              "      <td>1</td>\n",
              "      <td>2</td>\n",
              "      <td>1</td>\n",
              "      <td>2</td>\n",
              "      <td>0</td>\n",
              "      <td>0</td>\n",
              "      <td>0</td>\n",
              "    </tr>\n",
              "    <tr>\n",
              "      <th>3</th>\n",
              "      <td>66.666667</td>\n",
              "      <td>22</td>\n",
              "      <td>91.2</td>\n",
              "      <td>80.0</td>\n",
              "      <td>67.00</td>\n",
              "      <td>68.30</td>\n",
              "      <td>60.000000</td>\n",
              "      <td>1</td>\n",
              "      <td>1</td>\n",
              "      <td>1</td>\n",
              "      <td>1</td>\n",
              "      <td>1</td>\n",
              "      <td>1</td>\n",
              "      <td>1</td>\n",
              "      <td>0</td>\n",
              "      <td>1</td>\n",
              "    </tr>\n",
              "    <tr>\n",
              "      <th>4</th>\n",
              "      <td>71.666667</td>\n",
              "      <td>24</td>\n",
              "      <td>79.8</td>\n",
              "      <td>61.6</td>\n",
              "      <td>60.33</td>\n",
              "      <td>69.28</td>\n",
              "      <td>76.666667</td>\n",
              "      <td>1</td>\n",
              "      <td>0</td>\n",
              "      <td>1</td>\n",
              "      <td>2</td>\n",
              "      <td>1</td>\n",
              "      <td>2</td>\n",
              "      <td>1</td>\n",
              "      <td>0</td>\n",
              "      <td>0</td>\n",
              "    </tr>\n",
              "  </tbody>\n",
              "</table>\n",
              "</div>\n",
              "      <button class=\"colab-df-convert\" onclick=\"convertToInteractive('df-81215c0f-be82-483d-bd10-24e27c9fbd7e')\"\n",
              "              title=\"Convert this dataframe to an interactive table.\"\n",
              "              style=\"display:none;\">\n",
              "        \n",
              "  <svg xmlns=\"http://www.w3.org/2000/svg\" height=\"24px\"viewBox=\"0 0 24 24\"\n",
              "       width=\"24px\">\n",
              "    <path d=\"M0 0h24v24H0V0z\" fill=\"none\"/>\n",
              "    <path d=\"M18.56 5.44l.94 2.06.94-2.06 2.06-.94-2.06-.94-.94-2.06-.94 2.06-2.06.94zm-11 1L8.5 8.5l.94-2.06 2.06-.94-2.06-.94L8.5 2.5l-.94 2.06-2.06.94zm10 10l.94 2.06.94-2.06 2.06-.94-2.06-.94-.94-2.06-.94 2.06-2.06.94z\"/><path d=\"M17.41 7.96l-1.37-1.37c-.4-.4-.92-.59-1.43-.59-.52 0-1.04.2-1.43.59L10.3 9.45l-7.72 7.72c-.78.78-.78 2.05 0 2.83L4 21.41c.39.39.9.59 1.41.59.51 0 1.02-.2 1.41-.59l7.78-7.78 2.81-2.81c.8-.78.8-2.07 0-2.86zM5.41 20L4 18.59l7.72-7.72 1.47 1.35L5.41 20z\"/>\n",
              "  </svg>\n",
              "      </button>\n",
              "      \n",
              "  <style>\n",
              "    .colab-df-container {\n",
              "      display:flex;\n",
              "      flex-wrap:wrap;\n",
              "      gap: 12px;\n",
              "    }\n",
              "\n",
              "    .colab-df-convert {\n",
              "      background-color: #E8F0FE;\n",
              "      border: none;\n",
              "      border-radius: 50%;\n",
              "      cursor: pointer;\n",
              "      display: none;\n",
              "      fill: #1967D2;\n",
              "      height: 32px;\n",
              "      padding: 0 0 0 0;\n",
              "      width: 32px;\n",
              "    }\n",
              "\n",
              "    .colab-df-convert:hover {\n",
              "      background-color: #E2EBFA;\n",
              "      box-shadow: 0px 1px 2px rgba(60, 64, 67, 0.3), 0px 1px 3px 1px rgba(60, 64, 67, 0.15);\n",
              "      fill: #174EA6;\n",
              "    }\n",
              "\n",
              "    [theme=dark] .colab-df-convert {\n",
              "      background-color: #3B4455;\n",
              "      fill: #D2E3FC;\n",
              "    }\n",
              "\n",
              "    [theme=dark] .colab-df-convert:hover {\n",
              "      background-color: #434B5C;\n",
              "      box-shadow: 0px 1px 3px 1px rgba(0, 0, 0, 0.15);\n",
              "      filter: drop-shadow(0px 1px 2px rgba(0, 0, 0, 0.3));\n",
              "      fill: #FFFFFF;\n",
              "    }\n",
              "  </style>\n",
              "\n",
              "      <script>\n",
              "        const buttonEl =\n",
              "          document.querySelector('#df-81215c0f-be82-483d-bd10-24e27c9fbd7e button.colab-df-convert');\n",
              "        buttonEl.style.display =\n",
              "          google.colab.kernel.accessAllowed ? 'block' : 'none';\n",
              "\n",
              "        async function convertToInteractive(key) {\n",
              "          const element = document.querySelector('#df-81215c0f-be82-483d-bd10-24e27c9fbd7e');\n",
              "          const dataTable =\n",
              "            await google.colab.kernel.invokeFunction('convertToInteractive',\n",
              "                                                     [key], {});\n",
              "          if (!dataTable) return;\n",
              "\n",
              "          const docLinkHtml = 'Like what you see? Visit the ' +\n",
              "            '<a target=\"_blank\" href=https://colab.research.google.com/notebooks/data_table.ipynb>data table notebook</a>'\n",
              "            + ' to learn more about interactive tables.';\n",
              "          element.innerHTML = '';\n",
              "          dataTable['output_type'] = 'display_data';\n",
              "          await google.colab.output.renderOutput(dataTable, element);\n",
              "          const docLink = document.createElement('div');\n",
              "          docLink.innerHTML = docLinkHtml;\n",
              "          element.appendChild(docLink);\n",
              "        }\n",
              "      </script>\n",
              "    </div>\n",
              "  </div>\n",
              "  "
            ],
            "text/plain": [
              "   pre_score  Age_in_years  ...  especialização  alvo\n",
              "0  75.000000            22  ...               3     1\n",
              "1  71.666667            25  ...               2     1\n",
              "2  76.666667            26  ...               0     0\n",
              "3  66.666667            22  ...               0     1\n",
              "4  71.666667            24  ...               0     0\n",
              "\n",
              "[5 rows x 16 columns]"
            ]
          },
          "metadata": {},
          "execution_count": 81
        }
      ]
    },
    {
      "cell_type": "code",
      "source": [
        "base.drop(columns=['Target'], axis=1, inplace=True)"
      ],
      "metadata": {
        "id": "EXT5FEZ5_D3J"
      },
      "execution_count": 83,
      "outputs": []
    },
    {
      "cell_type": "code",
      "source": [
        "base.hist(bins=30, figsize=(20,20), color = 'r');"
      ],
      "metadata": {
        "colab": {
          "base_uri": "https://localhost:8080/",
          "height": 858
        },
        "id": "TAcZP68W2yNN",
        "outputId": "9fa0f96f-b932-4c69-e441-f1cdda44b2b9"
      },
      "execution_count": 78,
      "outputs": [
        {
          "output_type": "display_data",
          "data": {
            "image/png": "[encoded data removed]",
            "text/plain": [
              "<Figure size 1440x1440 with 16 Axes>"
            ]
          },
          "metadata": {
            "needs_background": "light"
          }
        }
      ]
    },
    {
      "cell_type": "code",
      "source": [
        "base['alvo'] = base['Target']"
      ],
      "metadata": {
        "id": "YfZ3Sd-y-25_"
      },
      "execution_count": 80,
      "outputs": []
    },
    {
      "cell_type": "code",
      "source": [
        "base.head()"
      ],
      "metadata": {
        "colab": {
          "base_uri": "https://localhost:8080/",
          "height": 305
        },
        "id": "x-dCrxq8_a55",
        "outputId": "8ef3335d-e762-4138-f5b8-9efc2af2b90e"
      },
      "execution_count": 84,
      "outputs": [
        {
          "output_type": "execute_result",
          "data": {
            "text/html": [
              "\n",
              "  <div id=\"df-9f1ddaea-2491-4d9c-af8d-b15f62a9adad\">\n",
              "    <div class=\"colab-df-container\">\n",
              "      <div>\n",
              "<style scoped>\n",
              "    .dataframe tbody tr th:only-of-type {\n",
              "        vertical-align: middle;\n",
              "    }\n",
              "\n",
              "    .dataframe tbody tr th {\n",
              "        vertical-align: top;\n",
              "    }\n",
              "\n",
              "    .dataframe thead th {\n",
              "        text-align: right;\n",
              "    }\n",
              "</style>\n",
              "<table border=\"1\" class=\"dataframe\">\n",
              "  <thead>\n",
              "    <tr style=\"text-align: right;\">\n",
              "      <th></th>\n",
              "      <th>pre_score</th>\n",
              "      <th>Age_in_years</th>\n",
              "      <th>Percentage_in_10_Class</th>\n",
              "      <th>Percentage_in_12_Class</th>\n",
              "      <th>Percentage_in_Under_Graduate</th>\n",
              "      <th>percentage_MBA</th>\n",
              "      <th>post_score</th>\n",
              "      <th>STATE</th>\n",
              "      <th>estado</th>\n",
              "      <th>grau anterior</th>\n",
              "      <th>estado civel</th>\n",
              "      <th>lugar que pertence</th>\n",
              "      <th>skills</th>\n",
              "      <th>especialização</th>\n",
              "      <th>alvo</th>\n",
              "    </tr>\n",
              "  </thead>\n",
              "  <tbody>\n",
              "    <tr>\n",
              "      <th>0</th>\n",
              "      <td>75.000000</td>\n",
              "      <td>22</td>\n",
              "      <td>71.0</td>\n",
              "      <td>74.8</td>\n",
              "      <td>72.00</td>\n",
              "      <td>61.00</td>\n",
              "      <td>83.333333</td>\n",
              "      <td>1</td>\n",
              "      <td>1</td>\n",
              "      <td>2</td>\n",
              "      <td>1</td>\n",
              "      <td>2</td>\n",
              "      <td>1</td>\n",
              "      <td>3</td>\n",
              "      <td>1</td>\n",
              "    </tr>\n",
              "    <tr>\n",
              "      <th>1</th>\n",
              "      <td>71.666667</td>\n",
              "      <td>25</td>\n",
              "      <td>77.6</td>\n",
              "      <td>82.6</td>\n",
              "      <td>76.90</td>\n",
              "      <td>66.85</td>\n",
              "      <td>76.666667</td>\n",
              "      <td>1</td>\n",
              "      <td>1</td>\n",
              "      <td>2</td>\n",
              "      <td>1</td>\n",
              "      <td>1</td>\n",
              "      <td>1</td>\n",
              "      <td>2</td>\n",
              "      <td>1</td>\n",
              "    </tr>\n",
              "    <tr>\n",
              "      <th>2</th>\n",
              "      <td>76.666667</td>\n",
              "      <td>26</td>\n",
              "      <td>93.2</td>\n",
              "      <td>83.8</td>\n",
              "      <td>77.00</td>\n",
              "      <td>74.97</td>\n",
              "      <td>75.000000</td>\n",
              "      <td>1</td>\n",
              "      <td>1</td>\n",
              "      <td>2</td>\n",
              "      <td>1</td>\n",
              "      <td>2</td>\n",
              "      <td>0</td>\n",
              "      <td>0</td>\n",
              "      <td>0</td>\n",
              "    </tr>\n",
              "    <tr>\n",
              "      <th>3</th>\n",
              "      <td>66.666667</td>\n",
              "      <td>22</td>\n",
              "      <td>91.2</td>\n",
              "      <td>80.0</td>\n",
              "      <td>67.00</td>\n",
              "      <td>68.30</td>\n",
              "      <td>60.000000</td>\n",
              "      <td>1</td>\n",
              "      <td>1</td>\n",
              "      <td>1</td>\n",
              "      <td>1</td>\n",
              "      <td>1</td>\n",
              "      <td>1</td>\n",
              "      <td>0</td>\n",
              "      <td>1</td>\n",
              "    </tr>\n",
              "    <tr>\n",
              "      <th>4</th>\n",
              "      <td>71.666667</td>\n",
              "      <td>24</td>\n",
              "      <td>79.8</td>\n",
              "      <td>61.6</td>\n",
              "      <td>60.33</td>\n",
              "      <td>69.28</td>\n",
              "      <td>76.666667</td>\n",
              "      <td>1</td>\n",
              "      <td>1</td>\n",
              "      <td>2</td>\n",
              "      <td>1</td>\n",
              "      <td>2</td>\n",
              "      <td>1</td>\n",
              "      <td>0</td>\n",
              "      <td>0</td>\n",
              "    </tr>\n",
              "  </tbody>\n",
              "</table>\n",
              "</div>\n",
              "      <button class=\"colab-df-convert\" onclick=\"convertToInteractive('df-9f1ddaea-2491-4d9c-af8d-b15f62a9adad')\"\n",
              "              title=\"Convert this dataframe to an interactive table.\"\n",
              "              style=\"display:none;\">\n",
              "        \n",
              "  <svg xmlns=\"http://www.w3.org/2000/svg\" height=\"24px\"viewBox=\"0 0 24 24\"\n",
              "       width=\"24px\">\n",
              "    <path d=\"M0 0h24v24H0V0z\" fill=\"none\"/>\n",
              "    <path d=\"M18.56 5.44l.94 2.06.94-2.06 2.06-.94-2.06-.94-.94-2.06-.94 2.06-2.06.94zm-11 1L8.5 8.5l.94-2.06 2.06-.94-2.06-.94L8.5 2.5l-.94 2.06-2.06.94zm10 10l.94 2.06.94-2.06 2.06-.94-2.06-.94-.94-2.06-.94 2.06-2.06.94z\"/><path d=\"M17.41 7.96l-1.37-1.37c-.4-.4-.92-.59-1.43-.59-.52 0-1.04.2-1.43.59L10.3 9.45l-7.72 7.72c-.78.78-.78 2.05 0 2.83L4 21.41c.39.39.9.59 1.41.59.51 0 1.02-.2 1.41-.59l7.78-7.78 2.81-2.81c.8-.78.8-2.07 0-2.86zM5.41 20L4 18.59l7.72-7.72 1.47 1.35L5.41 20z\"/>\n",
              "  </svg>\n",
              "      </button>\n",
              "      \n",
              "  <style>\n",
              "    .colab-df-container {\n",
              "      display:flex;\n",
              "      flex-wrap:wrap;\n",
              "      gap: 12px;\n",
              "    }\n",
              "\n",
              "    .colab-df-convert {\n",
              "      background-color: #E8F0FE;\n",
              "      border: none;\n",
              "      border-radius: 50%;\n",
              "      cursor: pointer;\n",
              "      display: none;\n",
              "      fill: #1967D2;\n",
              "      height: 32px;\n",
              "      padding: 0 0 0 0;\n",
              "      width: 32px;\n",
              "    }\n",
              "\n",
              "    .colab-df-convert:hover {\n",
              "      background-color: #E2EBFA;\n",
              "      box-shadow: 0px 1px 2px rgba(60, 64, 67, 0.3), 0px 1px 3px 1px rgba(60, 64, 67, 0.15);\n",
              "      fill: #174EA6;\n",
              "    }\n",
              "\n",
              "    [theme=dark] .colab-df-convert {\n",
              "      background-color: #3B4455;\n",
              "      fill: #D2E3FC;\n",
              "    }\n",
              "\n",
              "    [theme=dark] .colab-df-convert:hover {\n",
              "      background-color: #434B5C;\n",
              "      box-shadow: 0px 1px 3px 1px rgba(0, 0, 0, 0.15);\n",
              "      filter: drop-shadow(0px 1px 2px rgba(0, 0, 0, 0.3));\n",
              "      fill: #FFFFFF;\n",
              "    }\n",
              "  </style>\n",
              "\n",
              "      <script>\n",
              "        const buttonEl =\n",
              "          document.querySelector('#df-9f1ddaea-2491-4d9c-af8d-b15f62a9adad button.colab-df-convert');\n",
              "        buttonEl.style.display =\n",
              "          google.colab.kernel.accessAllowed ? 'block' : 'none';\n",
              "\n",
              "        async function convertToInteractive(key) {\n",
              "          const element = document.querySelector('#df-9f1ddaea-2491-4d9c-af8d-b15f62a9adad');\n",
              "          const dataTable =\n",
              "            await google.colab.kernel.invokeFunction('convertToInteractive',\n",
              "                                                     [key], {});\n",
              "          if (!dataTable) return;\n",
              "\n",
              "          const docLinkHtml = 'Like what you see? Visit the ' +\n",
              "            '<a target=\"_blank\" href=https://colab.research.google.com/notebooks/data_table.ipynb>data table notebook</a>'\n",
              "            + ' to learn more about interactive tables.';\n",
              "          element.innerHTML = '';\n",
              "          dataTable['output_type'] = 'display_data';\n",
              "          await google.colab.output.renderOutput(dataTable, element);\n",
              "          const docLink = document.createElement('div');\n",
              "          docLink.innerHTML = docLinkHtml;\n",
              "          element.appendChild(docLink);\n",
              "        }\n",
              "      </script>\n",
              "    </div>\n",
              "  </div>\n",
              "  "
            ],
            "text/plain": [
              "   pre_score  Age_in_years  ...  especialização  alvo\n",
              "0  75.000000            22  ...               3     1\n",
              "1  71.666667            25  ...               2     1\n",
              "2  76.666667            26  ...               0     0\n",
              "3  66.666667            22  ...               0     1\n",
              "4  71.666667            24  ...               0     0\n",
              "\n",
              "[5 rows x 15 columns]"
            ]
          },
          "metadata": {},
          "execution_count": 84
        }
      ]
    },
    {
      "cell_type": "code",
      "source": [
        "x_base = base.iloc[:,0:14].values\n",
        "y_base = base.iloc[:,14].values"
      ],
      "metadata": {
        "id": "88tLvqMy36yp"
      },
      "execution_count": 85,
      "outputs": []
    },
    {
      "cell_type": "code",
      "source": [
        "x_base.shape "
      ],
      "metadata": {
        "colab": {
          "base_uri": "https://localhost:8080/"
        },
        "id": "JZAHR98b4Oz5",
        "outputId": "260db07e-fdfa-4fa8-e7ed-8217e339e66c"
      },
      "execution_count": 86,
      "outputs": [
        {
          "output_type": "execute_result",
          "data": {
            "text/plain": [
              "(473, 14)"
            ]
          },
          "metadata": {},
          "execution_count": 86
        }
      ]
    },
    {
      "cell_type": "code",
      "source": [
        "y_base.shape"
      ],
      "metadata": {
        "colab": {
          "base_uri": "https://localhost:8080/"
        },
        "id": "Z3VreZx040-3",
        "outputId": "bc083433-4622-4ccc-af79-9a7d525907ee"
      },
      "execution_count": 87,
      "outputs": [
        {
          "output_type": "execute_result",
          "data": {
            "text/plain": [
              "(473,)"
            ]
          },
          "metadata": {},
          "execution_count": 87
        }
      ]
    },
    {
      "cell_type": "code",
      "source": [
        "from sklearn.model_selection import train_test_split"
      ],
      "metadata": {
        "id": "Dids2VlO5Qw2"
      },
      "execution_count": 88,
      "outputs": []
    },
    {
      "cell_type": "code",
      "source": [
        "x_treino, x_teste, y_treino, y_teste = train_test_split(x_base, y_base, test_size=0.30, random_state=0)"
      ],
      "metadata": {
        "id": "_QCbzCAx5Cze"
      },
      "execution_count": 89,
      "outputs": []
    },
    {
      "cell_type": "code",
      "source": [
        "x_treino.shape"
      ],
      "metadata": {
        "colab": {
          "base_uri": "https://localhost:8080/"
        },
        "id": "iN1kHBur5mOA",
        "outputId": "10839069-e78a-4cb0-cd52-c2c193083df1"
      },
      "execution_count": 90,
      "outputs": [
        {
          "output_type": "execute_result",
          "data": {
            "text/plain": [
              "(331, 14)"
            ]
          },
          "metadata": {},
          "execution_count": 90
        }
      ]
    },
    {
      "cell_type": "code",
      "source": [
        "y_treino.shape"
      ],
      "metadata": {
        "colab": {
          "base_uri": "https://localhost:8080/"
        },
        "id": "we0do3AJ5oYR",
        "outputId": "dd5b3e34-554d-42b4-fa3a-a5707180d72e"
      },
      "execution_count": 91,
      "outputs": [
        {
          "output_type": "execute_result",
          "data": {
            "text/plain": [
              "(331,)"
            ]
          },
          "metadata": {},
          "execution_count": 91
        }
      ]
    },
    {
      "cell_type": "code",
      "source": [
        "x_teste.shape"
      ],
      "metadata": {
        "colab": {
          "base_uri": "https://localhost:8080/"
        },
        "id": "ks1E3z_p5qa7",
        "outputId": "61d9c512-6f1a-4275-a28f-c18474fb19b1"
      },
      "execution_count": 92,
      "outputs": [
        {
          "output_type": "execute_result",
          "data": {
            "text/plain": [
              "(142, 14)"
            ]
          },
          "metadata": {},
          "execution_count": 92
        }
      ]
    },
    {
      "cell_type": "code",
      "source": [
        "y_teste.shape"
      ],
      "metadata": {
        "colab": {
          "base_uri": "https://localhost:8080/"
        },
        "id": "HnI0f_tt5r9M",
        "outputId": "bbc0713c-7de1-47fe-bfc5-53633f63962e"
      },
      "execution_count": 93,
      "outputs": [
        {
          "output_type": "execute_result",
          "data": {
            "text/plain": [
              "(142,)"
            ]
          },
          "metadata": {},
          "execution_count": 93
        }
      ]
    },
    {
      "cell_type": "code",
      "source": [
        "from sklearn.preprocessing import StandardScaler\n",
        "scaler_base = StandardScaler()\n",
        "x_base = scaler_base.fit_transform(x_base)"
      ],
      "metadata": {
        "id": "u-VVHwbZ79VN"
      },
      "execution_count": 94,
      "outputs": []
    },
    {
      "cell_type": "code",
      "source": [
        "from sklearn.ensemble import ExtraTreesClassifier"
      ],
      "metadata": {
        "id": "YmZyHvp55tnz"
      },
      "execution_count": 95,
      "outputs": []
    },
    {
      "cell_type": "code",
      "source": [
        "decision_tree = ExtraTreesClassifier(n_estimators=50, criterion='entropy')"
      ],
      "metadata": {
        "id": "TahnkGMV55JF"
      },
      "execution_count": 96,
      "outputs": []
    },
    {
      "cell_type": "code",
      "source": [
        "decision_tree.fit(x_treino, y_treino)"
      ],
      "metadata": {
        "colab": {
          "base_uri": "https://localhost:8080/"
        },
        "id": "kAvY_TI86A-q",
        "outputId": "6c1c281e-cfbc-4917-e70d-d60caa626d78"
      },
      "execution_count": 97,
      "outputs": [
        {
          "output_type": "execute_result",
          "data": {
            "text/plain": [
              "ExtraTreesClassifier(criterion='entropy', n_estimators=50)"
            ]
          },
          "metadata": {},
          "execution_count": 97
        }
      ]
    },
    {
      "cell_type": "code",
      "source": [
        "previsao = decision_tree.predict(x_teste)"
      ],
      "metadata": {
        "id": "YbF5D_aP6FY6"
      },
      "execution_count": 98,
      "outputs": []
    },
    {
      "cell_type": "code",
      "source": [
        "previsao"
      ],
      "metadata": {
        "colab": {
          "base_uri": "https://localhost:8080/"
        },
        "id": "DUhzsq9P_1iS",
        "outputId": "06ce6a54-729a-46ba-bf6e-e3cec23aecbf"
      },
      "execution_count": 99,
      "outputs": [
        {
          "output_type": "execute_result",
          "data": {
            "text/plain": [
              "array([1, 0, 1, 1, 1, 1, 1, 1, 0, 0, 0, 0, 1, 0, 1, 0, 1, 1, 1, 1, 1, 1,\n",
              "       1, 1, 0, 0, 1, 1, 0, 0, 0, 0, 0, 1, 1, 0, 0, 1, 0, 1, 0, 1, 0, 1,\n",
              "       1, 1, 1, 1, 1, 1, 0, 1, 1, 1, 0, 1, 0, 1, 1, 0, 1, 1, 1, 0, 1, 0,\n",
              "       1, 1, 1, 1, 1, 0, 1, 1, 1, 0, 0, 1, 1, 0, 1, 1, 1, 1, 1, 1, 1, 0,\n",
              "       1, 0, 0, 0, 0, 0, 0, 1, 1, 0, 1, 0, 1, 0, 0, 1, 0, 0, 0, 1, 1, 0,\n",
              "       1, 0, 1, 1, 1, 0, 0, 0, 1, 1, 1, 1, 1, 0, 0, 1, 1, 1, 1, 1, 1, 1,\n",
              "       0, 1, 0, 0, 1, 0, 1, 0, 1, 1])"
            ]
          },
          "metadata": {},
          "execution_count": 99
        }
      ]
    },
    {
      "cell_type": "code",
      "source": [
        "y_teste"
      ],
      "metadata": {
        "colab": {
          "base_uri": "https://localhost:8080/"
        },
        "id": "UtPV9tEf_2i5",
        "outputId": "b9315b3d-0b3d-4baf-ed10-c13c60710e39"
      },
      "execution_count": 100,
      "outputs": [
        {
          "output_type": "execute_result",
          "data": {
            "text/plain": [
              "array([1, 0, 1, 1, 1, 1, 1, 1, 0, 0, 0, 0, 1, 0, 1, 0, 1, 1, 1, 1, 1, 1,\n",
              "       1, 1, 0, 0, 1, 1, 0, 0, 0, 0, 0, 1, 1, 0, 0, 1, 0, 1, 0, 1, 0, 1,\n",
              "       1, 1, 1, 1, 1, 1, 0, 1, 1, 1, 0, 1, 0, 1, 1, 0, 1, 1, 1, 0, 1, 0,\n",
              "       1, 1, 1, 1, 1, 0, 1, 1, 1, 0, 0, 1, 1, 0, 1, 1, 1, 1, 1, 1, 1, 0,\n",
              "       1, 0, 0, 0, 0, 0, 0, 0, 1, 0, 1, 0, 1, 0, 0, 0, 0, 0, 0, 1, 1, 0,\n",
              "       1, 0, 1, 1, 1, 0, 0, 0, 1, 1, 1, 1, 1, 0, 0, 1, 0, 1, 1, 1, 1, 1,\n",
              "       0, 1, 0, 0, 1, 0, 1, 0, 1, 0])"
            ]
          },
          "metadata": {},
          "execution_count": 100
        }
      ]
    },
    {
      "cell_type": "code",
      "source": [
        "from sklearn.metrics import accuracy_score, classification_report"
      ],
      "metadata": {
        "id": "FLdvrCdy_37c"
      },
      "execution_count": 106,
      "outputs": []
    },
    {
      "cell_type": "code",
      "source": [
        "accuracy_score(y_teste,previsao)"
      ],
      "metadata": {
        "colab": {
          "base_uri": "https://localhost:8080/"
        },
        "id": "SKkxchUoADRJ",
        "outputId": "28467b19-85a5-4762-aaa2-f694c4b4a57d"
      },
      "execution_count": 102,
      "outputs": [
        {
          "output_type": "execute_result",
          "data": {
            "text/plain": [
              "0.971830985915493"
            ]
          },
          "metadata": {},
          "execution_count": 102
        }
      ]
    },
    {
      "cell_type": "markdown",
      "source": [
        "excelente"
      ],
      "metadata": {
        "id": "qeTD8CuoAHgf"
      }
    },
    {
      "cell_type": "code",
      "source": [
        "from yellowbrick.classifier import ConfusionMatrix"
      ],
      "metadata": {
        "id": "Iua5OorUAGJv"
      },
      "execution_count": 103,
      "outputs": []
    },
    {
      "cell_type": "code",
      "source": [
        "cm = ConfusionMatrix(decision_tree)"
      ],
      "metadata": {
        "id": "DLRYrVQMAMWa"
      },
      "execution_count": 104,
      "outputs": []
    },
    {
      "cell_type": "code",
      "source": [
        "cm.fit(x_treino, y_treino)\n",
        "cm.score(x_teste, y_teste)"
      ],
      "metadata": {
        "colab": {
          "base_uri": "https://localhost:8080/",
          "height": 361
        },
        "id": "-C2PFbRQAR9R",
        "outputId": "9789002e-3579-41fd-dca4-e2cb90a95a0e"
      },
      "execution_count": 105,
      "outputs": [
        {
          "output_type": "execute_result",
          "data": {
            "text/plain": [
              "0.971830985915493"
            ]
          },
          "metadata": {},
          "execution_count": 105
        },
        {
          "output_type": "display_data",
          "data": {
            "image/png": "[encoded data removed]",
            "text/plain": [
              "<Figure size 576x396 with 1 Axes>"
            ]
          },
          "metadata": {}
        }
      ]
    },
    {
      "cell_type": "code",
      "source": [
        "print(classification_report(y_teste, previsao))"
      ],
      "metadata": {
        "colab": {
          "base_uri": "https://localhost:8080/"
        },
        "id": "Hy9x9A10AYTC",
        "outputId": "dc14588a-4fbb-4b79-805d-92d776d6b52e"
      },
      "execution_count": 107,
      "outputs": [
        {
          "output_type": "stream",
          "name": "stdout",
          "text": [
            "              precision    recall  f1-score   support\n",
            "\n",
            "           0       1.00      0.93      0.96        59\n",
            "           1       0.95      1.00      0.98        83\n",
            "\n",
            "    accuracy                           0.97       142\n",
            "   macro avg       0.98      0.97      0.97       142\n",
            "weighted avg       0.97      0.97      0.97       142\n",
            "\n"
          ]
        }
      ]
    },
    {
      "cell_type": "markdown",
      "source": [
        "perfeito!!!"
      ],
      "metadata": {
        "id": "V_NZDhg0AhT3"
      }
    },
    {
      "cell_type": "markdown",
      "source": [
        "Foram feitos muitos passos a mais do que precisava, e a ordem ficou um pouco bagunçada, mas esta ai, usando o algoritimo de ARVore de decisão obtivemos uma excelente acurácia em prever quantos dos aprovados eram homens e mulheres"
      ],
      "metadata": {
        "id": "4SLfmdhKAvjk"
      }
    }
  ]
}