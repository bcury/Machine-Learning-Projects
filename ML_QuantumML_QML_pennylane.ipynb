{
  "nbformat": 4,
  "nbformat_minor": 0,
  "metadata": {
    "colab": {
      "name": "ML_QuantumML_QML_pennylane",
      "provenance": [],
      "collapsed_sections": [],
      "authorship_tag": "ABX9TyMt/t9H4hopHekJp27Ib4rT",
      "include_colab_link": true
    },
    "kernelspec": {
      "name": "python3",
      "display_name": "Python 3"
    },
    "language_info": {
      "name": "python"
    }
  },
  "cells": [
    {
      "cell_type": "markdown",
      "metadata": {
        "id": "view-in-github",
        "colab_type": "text"
      },
      "source": [
        "<a href=\"https://colab.research.google.com/github/bcury/Machine-Learning-Projects/blob/main/ML_QuantumML_QML_pennylane.ipynb\" target=\"_parent\"><img src=\"https://colab.research.google.com/assets/colab-badge.svg\" alt=\"Open In Colab\"/></a>"
      ]
    },
    {
      "cell_type": "markdown",
      "source": [
        "Math, Python, Optimization, Machine learning, Quantum computing = **Quantum Machine Learning**"
      ],
      "metadata": {
        "id": "b_nRFtvF7UcM"
      }
    },
    {
      "cell_type": "markdown",
      "source": [
        "Vamos treinar um circuito para um modelo da função seno"
      ],
      "metadata": {
        "id": "xqeI375E7rWx"
      }
    },
    {
      "cell_type": "code",
      "source": [
        "pip install pennylane"
      ],
      "metadata": {
        "colab": {
          "base_uri": "https://localhost:8080/"
        },
        "id": "Cu8Ij1iM74x3",
        "outputId": "32dbe427-5bf2-48a6-9f4f-f50c61f9dbf0"
      },
      "execution_count": 2,
      "outputs": [
        {
          "output_type": "stream",
          "name": "stdout",
          "text": [
            "Collecting pennylane\n",
            "  Downloading PennyLane-0.20.0-py3-none-any.whl (756 kB)\n",
            "\u001b[K     |████████████████████████████████| 756 kB 5.0 MB/s \n",
            "\u001b[?25hRequirement already satisfied: toml in /usr/local/lib/python3.7/dist-packages (from pennylane) (0.10.2)\n",
            "Collecting pennylane-lightning>=0.18\n",
            "  Downloading PennyLane_Lightning-0.20.2-cp37-cp37m-manylinux2014_x86_64.whl (305 kB)\n",
            "\u001b[K     |████████████████████████████████| 305 kB 53.5 MB/s \n",
            "\u001b[?25hRequirement already satisfied: autograd in /usr/local/lib/python3.7/dist-packages (from pennylane) (1.3)\n",
            "Requirement already satisfied: cachetools in /usr/local/lib/python3.7/dist-packages (from pennylane) (4.2.4)\n",
            "Requirement already satisfied: numpy in /usr/local/lib/python3.7/dist-packages (from pennylane) (1.19.5)\n",
            "Collecting semantic-version==2.6\n",
            "  Downloading semantic_version-2.6.0-py3-none-any.whl (14 kB)\n",
            "Requirement already satisfied: networkx in /usr/local/lib/python3.7/dist-packages (from pennylane) (2.6.3)\n",
            "Requirement already satisfied: appdirs in /usr/local/lib/python3.7/dist-packages (from pennylane) (1.4.4)\n",
            "Requirement already satisfied: scipy in /usr/local/lib/python3.7/dist-packages (from pennylane) (1.4.1)\n",
            "Collecting autoray\n",
            "  Downloading autoray-0.2.5-py3-none-any.whl (16 kB)\n",
            "Collecting ninja\n",
            "  Downloading ninja-1.10.2.3-py2.py3-none-manylinux_2_5_x86_64.manylinux1_x86_64.whl (108 kB)\n",
            "\u001b[K     |████████████████████████████████| 108 kB 54.1 MB/s \n",
            "\u001b[?25hRequirement already satisfied: future>=0.15.2 in /usr/local/lib/python3.7/dist-packages (from autograd->pennylane) (0.16.0)\n",
            "Installing collected packages: ninja, semantic-version, pennylane-lightning, autoray, pennylane\n",
            "Successfully installed autoray-0.2.5 ninja-1.10.2.3 pennylane-0.20.0 pennylane-lightning-0.20.2 semantic-version-2.6.0\n"
          ]
        }
      ]
    },
    {
      "cell_type": "code",
      "execution_count": 3,
      "metadata": {
        "id": "szfHQ-ey7G4L"
      },
      "outputs": [],
      "source": [
        "import pennylane as qml\n",
        "from pennylane import numpy as np\n",
        "import matplotlib.pyplot as plt"
      ]
    },
    {
      "cell_type": "code",
      "source": [
        "#criando o treinamento\n",
        "\n",
        "X = np.linspace(0, 2*np.pi, 5) \n",
        "X.requires_grad = False\n",
        "Y = np.sin(X)\n",
        "\n",
        "#teste\n",
        "\n",
        "X_test = np.linspace(0.2, 2*np.pi+0.2, 5)\n",
        "Y_test = np.sin(X_test)"
      ],
      "metadata": {
        "id": "GX3ONlO070TB"
      },
      "execution_count": 5,
      "outputs": []
    },
    {
      "cell_type": "code",
      "source": [
        "#dispositivo\n",
        "\n",
        "dev = qml.device('default.qubit', wires=1) \n"
      ],
      "metadata": {
        "id": "NAbEGcLL8T_y"
      },
      "execution_count": 6,
      "outputs": []
    },
    {
      "cell_type": "code",
      "source": [
        "#criando o circuito quantico\n",
        "\n",
        "@qml.qnode(dev)\n",
        "def quantum_circuit(datapoint, params):\n",
        "\n",
        "    qml.RX(datapoint, wires=0)\n",
        "  \n",
        "    qml.Rot(params[0], params[1], params[2], wires=0)\n",
        "   \n",
        "    return qml.expval(qml.PauliZ(wires=0))"
      ],
      "metadata": {
        "id": "vk5TAXTb8fBe"
      },
      "execution_count": 7,
      "outputs": []
    },
    {
      "cell_type": "code",
      "source": [
        "# Classical Pre/Postprocessing\n",
        "\n",
        "def loss_func(predictions):\n",
        "\n",
        "  total_losses = 0\n",
        "  for i in range(len(Y)):\n",
        "      output = Y[i]\n",
        "      prediction = predictions[i]\n",
        "      loss = (prediction - output)**2\n",
        "      total_losses += loss\n",
        "  return total_losses\n",
        "\n",
        "def cost_fn(params): \n",
        "\n",
        "    predictions = [quantum_circuit(x, params)  for x in X]\n",
        "  \n",
        "    cost = loss_func(predictions)\n",
        "    return cost\n",
        "\n",
        "opt = qml.GradientDescentOptimizer(stepsize=0.3)\n",
        "params = [0.1,0.1,0.1]\n",
        "\n",
        "for i in range (100):\n",
        " \n",
        "    params, prev_cost = opt.step_and_cost(cost_fn,params) \n",
        "    if i%10 == 0:\n",
        "       \n",
        "        print(f'Step = {i} Cost = {cost_fn(params)}')\n",
        "\n",
        "\n",
        "test_predictions = []\n",
        "for x_test in X_test:\n",
        "    prediction = quantum_circuit(x_test,params)\n",
        "    test_predictions.append(prediction)\n",
        "\n",
        "fig = plt.figure()\n",
        "ax1 = fig.add_subplot(111)\n",
        "\n",
        "ax1.scatter(X, Y, s=30, c='b', marker=\"s\", label='Train outputs')\n",
        "ax1.scatter(X_test,Y_test, s=60, c='r', marker=\"o\", label='Test outputs')\n",
        "ax1.scatter(X_test,test_predictions, s=30, c='k', marker=\"x\", label='Test predicitons')\n",
        "plt.xlabel(\"Inputs\")\n",
        "plt.ylabel(\"Outputs\")\n",
        "plt.title(\"QML results\")\n",
        "\n",
        "plt.legend(loc='upper right');\n",
        "plt.show()\n",
        "\n"
      ],
      "metadata": {
        "colab": {
          "base_uri": "https://localhost:8080/",
          "height": 532
        },
        "id": "bRDQXWHq8pzL",
        "outputId": "0612b511-e712-4c75-f705-bee294252f73"
      },
      "execution_count": 15,
      "outputs": [
        {
          "output_type": "stream",
          "name": "stderr",
          "text": [
            "/usr/local/lib/python3.7/dist-packages/pennylane/_grad.py:100: UserWarning: Starting with PennyLane v0.21.0, when using Autograd, inputs have to explicitly specify requires_grad=True (or the argnum argument must be passed) in order for trainable parameters to be identified.\n",
            "  UserWarning,\n"
          ]
        },
        {
          "output_type": "stream",
          "name": "stdout",
          "text": [
            "Step = 0 Cost = 4.912499465469816\n",
            "Step = 10 Cost = 0.017712616264714008\n",
            "Step = 20 Cost = 0.0010549650559468187\n",
            "Step = 30 Cost = 0.00033478390918248945\n",
            "Step = 40 Cost = 0.00019081038150773098\n",
            "Step = 50 Cost = 0.00012461609775916144\n",
            "Step = 60 Cost = 8.781349557163865e-05\n",
            "Step = 70 Cost = 6.52239822689002e-05\n",
            "Step = 80 Cost = 5.0362401887342866e-05\n",
            "Step = 90 Cost = 4.0063867053839383e-05\n"
          ]
        },
        {
          "output_type": "display_data",
          "data": {
            "image/png": "[encoded data removed]",
            "text/plain": [
              "<Figure size 432x288 with 1 Axes>"
            ]
          },
          "metadata": {
            "needs_background": "light"
          }
        }
      ]
    },
    {
      "cell_type": "markdown",
      "source": [
        "WoW!! QML !!!"
      ],
      "metadata": {
        "id": "GqbH-89ADKv9"
      }
    }
  ]
}