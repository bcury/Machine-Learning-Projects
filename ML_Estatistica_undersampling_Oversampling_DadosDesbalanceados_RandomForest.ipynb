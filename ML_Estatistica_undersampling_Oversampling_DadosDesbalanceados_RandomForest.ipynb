{
  "nbformat": 4,
  "nbformat_minor": 0,
  "metadata": {
    "colab": {
      "name": "ML_Estatistica_undersampling_Oversampling_DadosDesbalanceados_RandomForest",
      "provenance": [],
      "collapsed_sections": [],
      "include_colab_link": true
    },
    "kernelspec": {
      "name": "python3",
      "display_name": "Python 3"
    }
  },
  "cells": [
    {
      "cell_type": "markdown",
      "metadata": {
        "id": "view-in-github",
        "colab_type": "text"
      },
      "source": [
        "<a href=\"https://colab.research.google.com/github/bcury/Machine-Learning-Projects/blob/main/ML_Estatistica_undersampling_Oversampling_DadosDesbalanceados_RandomForest.ipynb\" target=\"_parent\"><img src=\"https://colab.research.google.com/assets/colab-badge.svg\" alt=\"Open In Colab\"/></a>"
      ]
    },
    {
      "cell_type": "code",
      "metadata": {
        "id": "Sz394_Ya5tsR"
      },
      "source": [
        "import pandas as pd\n",
        "import random\n",
        "import numpy as np\n",
        "import seaborn as sns"
      ],
      "execution_count": 6,
      "outputs": []
    },
    {
      "cell_type": "code",
      "metadata": {
        "id": "g6ufdhZ-57UD"
      },
      "source": [
        "data = pd.read_csv('/content/csv_result-ebay_confianca_completo.csv')"
      ],
      "execution_count": 2,
      "outputs": []
    },
    {
      "cell_type": "code",
      "metadata": {
        "id": "jemytT0Z6KIm",
        "colab": {
          "base_uri": "https://localhost:8080/"
        },
        "outputId": "7129ddb9-9ac5-45b5-e0e8-e0ed776e5d5f"
      },
      "source": [
        "data.shape"
      ],
      "execution_count": 3,
      "outputs": [
        {
          "output_type": "execute_result",
          "data": {
            "text/plain": [
              "(5806, 75)"
            ]
          },
          "metadata": {},
          "execution_count": 3
        }
      ]
    },
    {
      "cell_type": "code",
      "metadata": {
        "id": "WMaeoEfa6Ppq",
        "colab": {
          "base_uri": "https://localhost:8080/",
          "height": 270
        },
        "outputId": "0b301f27-8f85-48dc-b818-8fa591a5d71e"
      },
      "source": [
        "data.head()"
      ],
      "execution_count": 4,
      "outputs": [
        {
          "output_type": "execute_result",
          "data": {
            "text/html": [
              "\n",
              "  <div id=\"df-8b6a4d6a-fc25-40a5-af85-aa480e6f0b48\">\n",
              "    <div class=\"colab-df-container\">\n",
              "      <div>\n",
              "<style scoped>\n",
              "    .dataframe tbody tr th:only-of-type {\n",
              "        vertical-align: middle;\n",
              "    }\n",
              "\n",
              "    .dataframe tbody tr th {\n",
              "        vertical-align: top;\n",
              "    }\n",
              "\n",
              "    .dataframe thead th {\n",
              "        text-align: right;\n",
              "    }\n",
              "</style>\n",
              "<table border=\"1\" class=\"dataframe\">\n",
              "  <thead>\n",
              "    <tr style=\"text-align: right;\">\n",
              "      <th></th>\n",
              "      <th>feedbacks</th>\n",
              "      <th>reviews</th>\n",
              "      <th>blacklist</th>\n",
              "      <th>mextraversion</th>\n",
              "      <th>cextraversion</th>\n",
              "      <th>sextraversion</th>\n",
              "      <th>mneuroticism</th>\n",
              "      <th>cneuroticism</th>\n",
              "      <th>sneuroticism</th>\n",
              "      <th>mconscientiousness</th>\n",
              "      <th>cconscientiousness</th>\n",
              "      <th>sconscientiousness</th>\n",
              "      <th>magreeableness</th>\n",
              "      <th>cagreeableness</th>\n",
              "      <th>sagreeableness</th>\n",
              "      <th>mopenness</th>\n",
              "      <th>copenness</th>\n",
              "      <th>sopenness</th>\n",
              "      <th>agreeablenessIndico</th>\n",
              "      <th>conscientiousnessIndico</th>\n",
              "      <th>extraversionIndico</th>\n",
              "      <th>opennessIndico</th>\n",
              "      <th>openessWatson</th>\n",
              "      <th>conscientiousnessWatson</th>\n",
              "      <th>extraversionWatson</th>\n",
              "      <th>agreeablenessWatson</th>\n",
              "      <th>neuroticismWatson</th>\n",
              "      <th>o_adventure</th>\n",
              "      <th>o_artistic</th>\n",
              "      <th>o_emotionality</th>\n",
              "      <th>o_imagination</th>\n",
              "      <th>o_intelect</th>\n",
              "      <th>o_liberalism</th>\n",
              "      <th>c_achievement</th>\n",
              "      <th>c_cautiouness</th>\n",
              "      <th>c_dutifulness</th>\n",
              "      <th>c_orderliness</th>\n",
              "      <th>c_discipline</th>\n",
              "      <th>c_efficacy</th>\n",
              "      <th>e_activity</th>\n",
              "      <th>e_assertiveness</th>\n",
              "      <th>e_cheerfulness</th>\n",
              "      <th>e_excitement</th>\n",
              "      <th>e_friend</th>\n",
              "      <th>e_gregariouness</th>\n",
              "      <th>a_altruism</th>\n",
              "      <th>a_cooperation</th>\n",
              "      <th>a_modesty</th>\n",
              "      <th>a_morality</th>\n",
              "      <th>a_simpathy</th>\n",
              "      <th>a_trust</th>\n",
              "      <th>n_anger</th>\n",
              "      <th>n_anxiety</th>\n",
              "      <th>n_depression</th>\n",
              "      <th>n_immoderation</th>\n",
              "      <th>n_selfconsciouness</th>\n",
              "      <th>n_vulnerability</th>\n",
              "      <th>need_chalenge</th>\n",
              "      <th>need_closeness</th>\n",
              "      <th>need_curiosity</th>\n",
              "      <th>need_excitement</th>\n",
              "      <th>need_harmony</th>\n",
              "      <th>need_ideal</th>\n",
              "      <th>need_liberty</th>\n",
              "      <th>need_love</th>\n",
              "      <th>need_practicaly</th>\n",
              "      <th>need_selfexpression</th>\n",
              "      <th>need_stability</th>\n",
              "      <th>need_structure</th>\n",
              "      <th>value_conservation</th>\n",
              "      <th>value_openess</th>\n",
              "      <th>value_hedonism</th>\n",
              "      <th>value_selfenhancement</th>\n",
              "      <th>value_selftranscendence</th>\n",
              "      <th>reputation</th>\n",
              "    </tr>\n",
              "  </thead>\n",
              "  <tbody>\n",
              "    <tr>\n",
              "      <th>2</th>\n",
              "      <td>0</td>\n",
              "      <td>49</td>\n",
              "      <td>N</td>\n",
              "      <td>4.181642</td>\n",
              "      <td>0.6</td>\n",
              "      <td>1</td>\n",
              "      <td>2.777591</td>\n",
              "      <td>0.6</td>\n",
              "      <td>0</td>\n",
              "      <td>4.085460</td>\n",
              "      <td>0.5</td>\n",
              "      <td>0</td>\n",
              "      <td>4.110703</td>\n",
              "      <td>0.4</td>\n",
              "      <td>0</td>\n",
              "      <td>5.645506</td>\n",
              "      <td>0.6</td>\n",
              "      <td>1</td>\n",
              "      <td>0.684026</td>\n",
              "      <td>0.410566</td>\n",
              "      <td>0.646393</td>\n",
              "      <td>0.541885</td>\n",
              "      <td>0.835889</td>\n",
              "      <td>0.607272</td>\n",
              "      <td>0.589781</td>\n",
              "      <td>0.797063</td>\n",
              "      <td>0.449051</td>\n",
              "      <td>0.479940</td>\n",
              "      <td>0.753559</td>\n",
              "      <td>0.744320</td>\n",
              "      <td>0.758126</td>\n",
              "      <td>0.684179</td>\n",
              "      <td>0.526194</td>\n",
              "      <td>0.683279</td>\n",
              "      <td>0.559430</td>\n",
              "      <td>0.667665</td>\n",
              "      <td>0.522323</td>\n",
              "      <td>0.570964</td>\n",
              "      <td>0.746656</td>\n",
              "      <td>0.496348</td>\n",
              "      <td>0.649539</td>\n",
              "      <td>0.577345</td>\n",
              "      <td>0.553578</td>\n",
              "      <td>0.541931</td>\n",
              "      <td>0.350008</td>\n",
              "      <td>0.750762</td>\n",
              "      <td>0.626144</td>\n",
              "      <td>0.476133</td>\n",
              "      <td>0.701773</td>\n",
              "      <td>0.764204</td>\n",
              "      <td>0.512819</td>\n",
              "      <td>0.569980</td>\n",
              "      <td>0.611817</td>\n",
              "      <td>0.446330</td>\n",
              "      <td>0.468466</td>\n",
              "      <td>0.542865</td>\n",
              "      <td>0.442188</td>\n",
              "      <td>0.587795</td>\n",
              "      <td>0.833622</td>\n",
              "      <td>0.810144</td>\n",
              "      <td>0.462635</td>\n",
              "      <td>0.852183</td>\n",
              "      <td>0.628620</td>\n",
              "      <td>0.681354</td>\n",
              "      <td>0.820817</td>\n",
              "      <td>0.696359</td>\n",
              "      <td>0.698786</td>\n",
              "      <td>0.756963</td>\n",
              "      <td>0.660119</td>\n",
              "      <td>0.619416</td>\n",
              "      <td>0.746372</td>\n",
              "      <td>0.640073</td>\n",
              "      <td>0.598037</td>\n",
              "      <td>0.828716</td>\n",
              "      <td>Bom</td>\n",
              "    </tr>\n",
              "    <tr>\n",
              "      <th>3</th>\n",
              "      <td>0</td>\n",
              "      <td>56</td>\n",
              "      <td>N</td>\n",
              "      <td>4.007042</td>\n",
              "      <td>0.6</td>\n",
              "      <td>0</td>\n",
              "      <td>2.698650</td>\n",
              "      <td>0.6</td>\n",
              "      <td>0</td>\n",
              "      <td>4.187338</td>\n",
              "      <td>0.5</td>\n",
              "      <td>0</td>\n",
              "      <td>3.806675</td>\n",
              "      <td>0.4</td>\n",
              "      <td>0</td>\n",
              "      <td>6.190563</td>\n",
              "      <td>0.6</td>\n",
              "      <td>1</td>\n",
              "      <td>0.464647</td>\n",
              "      <td>0.431002</td>\n",
              "      <td>0.569719</td>\n",
              "      <td>0.588085</td>\n",
              "      <td>0.830316</td>\n",
              "      <td>0.572403</td>\n",
              "      <td>0.564882</td>\n",
              "      <td>0.722874</td>\n",
              "      <td>0.461567</td>\n",
              "      <td>0.478643</td>\n",
              "      <td>0.710639</td>\n",
              "      <td>0.701289</td>\n",
              "      <td>0.782399</td>\n",
              "      <td>0.716377</td>\n",
              "      <td>0.547235</td>\n",
              "      <td>0.657048</td>\n",
              "      <td>0.510715</td>\n",
              "      <td>0.654974</td>\n",
              "      <td>0.505224</td>\n",
              "      <td>0.543689</td>\n",
              "      <td>0.754035</td>\n",
              "      <td>0.463572</td>\n",
              "      <td>0.667516</td>\n",
              "      <td>0.547494</td>\n",
              "      <td>0.580140</td>\n",
              "      <td>0.514974</td>\n",
              "      <td>0.327534</td>\n",
              "      <td>0.724414</td>\n",
              "      <td>0.556060</td>\n",
              "      <td>0.424484</td>\n",
              "      <td>0.610452</td>\n",
              "      <td>0.757238</td>\n",
              "      <td>0.514746</td>\n",
              "      <td>0.595900</td>\n",
              "      <td>0.623953</td>\n",
              "      <td>0.500948</td>\n",
              "      <td>0.467786</td>\n",
              "      <td>0.569568</td>\n",
              "      <td>0.408936</td>\n",
              "      <td>0.596168</td>\n",
              "      <td>0.766870</td>\n",
              "      <td>0.790915</td>\n",
              "      <td>0.473358</td>\n",
              "      <td>0.800680</td>\n",
              "      <td>0.628022</td>\n",
              "      <td>0.667925</td>\n",
              "      <td>0.785016</td>\n",
              "      <td>0.715300</td>\n",
              "      <td>0.664572</td>\n",
              "      <td>0.728806</td>\n",
              "      <td>0.660740</td>\n",
              "      <td>0.588969</td>\n",
              "      <td>0.735915</td>\n",
              "      <td>0.644465</td>\n",
              "      <td>0.603042</td>\n",
              "      <td>0.809379</td>\n",
              "      <td>Bom</td>\n",
              "    </tr>\n",
              "    <tr>\n",
              "      <th>4</th>\n",
              "      <td>0</td>\n",
              "      <td>50</td>\n",
              "      <td>N</td>\n",
              "      <td>4.538230</td>\n",
              "      <td>0.7</td>\n",
              "      <td>1</td>\n",
              "      <td>2.298492</td>\n",
              "      <td>0.5</td>\n",
              "      <td>1</td>\n",
              "      <td>5.085833</td>\n",
              "      <td>0.5</td>\n",
              "      <td>0</td>\n",
              "      <td>4.307670</td>\n",
              "      <td>0.4</td>\n",
              "      <td>0</td>\n",
              "      <td>5.834547</td>\n",
              "      <td>0.8</td>\n",
              "      <td>1</td>\n",
              "      <td>0.574335</td>\n",
              "      <td>0.438136</td>\n",
              "      <td>0.594625</td>\n",
              "      <td>0.536566</td>\n",
              "      <td>0.849708</td>\n",
              "      <td>0.582639</td>\n",
              "      <td>0.577375</td>\n",
              "      <td>0.752931</td>\n",
              "      <td>0.451419</td>\n",
              "      <td>0.510756</td>\n",
              "      <td>0.737884</td>\n",
              "      <td>0.676704</td>\n",
              "      <td>0.785777</td>\n",
              "      <td>0.684304</td>\n",
              "      <td>0.577079</td>\n",
              "      <td>0.658175</td>\n",
              "      <td>0.517050</td>\n",
              "      <td>0.639082</td>\n",
              "      <td>0.509898</td>\n",
              "      <td>0.520291</td>\n",
              "      <td>0.725458</td>\n",
              "      <td>0.487635</td>\n",
              "      <td>0.578349</td>\n",
              "      <td>0.528123</td>\n",
              "      <td>0.555361</td>\n",
              "      <td>0.474853</td>\n",
              "      <td>0.326494</td>\n",
              "      <td>0.678454</td>\n",
              "      <td>0.619364</td>\n",
              "      <td>0.453175</td>\n",
              "      <td>0.678154</td>\n",
              "      <td>0.694500</td>\n",
              "      <td>0.525181</td>\n",
              "      <td>0.579213</td>\n",
              "      <td>0.619524</td>\n",
              "      <td>0.519524</td>\n",
              "      <td>0.479714</td>\n",
              "      <td>0.611395</td>\n",
              "      <td>0.482310</td>\n",
              "      <td>0.641673</td>\n",
              "      <td>0.755555</td>\n",
              "      <td>0.818792</td>\n",
              "      <td>0.506326</td>\n",
              "      <td>0.798245</td>\n",
              "      <td>0.617355</td>\n",
              "      <td>0.700126</td>\n",
              "      <td>0.735538</td>\n",
              "      <td>0.720150</td>\n",
              "      <td>0.694678</td>\n",
              "      <td>0.669652</td>\n",
              "      <td>0.627962</td>\n",
              "      <td>0.553523</td>\n",
              "      <td>0.766618</td>\n",
              "      <td>0.655470</td>\n",
              "      <td>0.645042</td>\n",
              "      <td>0.826039</td>\n",
              "      <td>Bom</td>\n",
              "    </tr>\n",
              "    <tr>\n",
              "      <th>5</th>\n",
              "      <td>72</td>\n",
              "      <td>0</td>\n",
              "      <td>N</td>\n",
              "      <td>4.692854</td>\n",
              "      <td>0.3</td>\n",
              "      <td>0</td>\n",
              "      <td>2.987231</td>\n",
              "      <td>0.5</td>\n",
              "      <td>0</td>\n",
              "      <td>4.831320</td>\n",
              "      <td>0.7</td>\n",
              "      <td>0</td>\n",
              "      <td>4.613918</td>\n",
              "      <td>0.5</td>\n",
              "      <td>1</td>\n",
              "      <td>4.348694</td>\n",
              "      <td>0.7</td>\n",
              "      <td>1</td>\n",
              "      <td>0.574341</td>\n",
              "      <td>0.514639</td>\n",
              "      <td>0.514115</td>\n",
              "      <td>0.495976</td>\n",
              "      <td>0.790834</td>\n",
              "      <td>0.674920</td>\n",
              "      <td>0.646031</td>\n",
              "      <td>0.763297</td>\n",
              "      <td>0.549710</td>\n",
              "      <td>0.489649</td>\n",
              "      <td>0.646631</td>\n",
              "      <td>0.608902</td>\n",
              "      <td>0.677307</td>\n",
              "      <td>0.614726</td>\n",
              "      <td>0.488001</td>\n",
              "      <td>0.712907</td>\n",
              "      <td>0.549355</td>\n",
              "      <td>0.664191</td>\n",
              "      <td>0.538321</td>\n",
              "      <td>0.596186</td>\n",
              "      <td>0.756297</td>\n",
              "      <td>0.585698</td>\n",
              "      <td>0.624495</td>\n",
              "      <td>0.582153</td>\n",
              "      <td>0.520175</td>\n",
              "      <td>0.525256</td>\n",
              "      <td>0.373468</td>\n",
              "      <td>0.661293</td>\n",
              "      <td>0.656178</td>\n",
              "      <td>0.414692</td>\n",
              "      <td>0.648699</td>\n",
              "      <td>0.612588</td>\n",
              "      <td>0.611793</td>\n",
              "      <td>0.545152</td>\n",
              "      <td>0.545936</td>\n",
              "      <td>0.449869</td>\n",
              "      <td>0.435871</td>\n",
              "      <td>0.523706</td>\n",
              "      <td>0.440116</td>\n",
              "      <td>0.675587</td>\n",
              "      <td>0.751850</td>\n",
              "      <td>0.813193</td>\n",
              "      <td>0.556613</td>\n",
              "      <td>0.775064</td>\n",
              "      <td>0.700630</td>\n",
              "      <td>0.701459</td>\n",
              "      <td>0.690972</td>\n",
              "      <td>0.739793</td>\n",
              "      <td>0.637027</td>\n",
              "      <td>0.697221</td>\n",
              "      <td>0.638587</td>\n",
              "      <td>0.675289</td>\n",
              "      <td>0.752234</td>\n",
              "      <td>0.679661</td>\n",
              "      <td>0.674438</td>\n",
              "      <td>0.813391</td>\n",
              "      <td>Bom</td>\n",
              "    </tr>\n",
              "    <tr>\n",
              "      <th>6</th>\n",
              "      <td>76</td>\n",
              "      <td>0</td>\n",
              "      <td>N</td>\n",
              "      <td>4.966753</td>\n",
              "      <td>0.3</td>\n",
              "      <td>0</td>\n",
              "      <td>3.048730</td>\n",
              "      <td>0.5</td>\n",
              "      <td>0</td>\n",
              "      <td>4.725294</td>\n",
              "      <td>0.5</td>\n",
              "      <td>1</td>\n",
              "      <td>4.743250</td>\n",
              "      <td>0.3</td>\n",
              "      <td>0</td>\n",
              "      <td>4.486198</td>\n",
              "      <td>0.7</td>\n",
              "      <td>1</td>\n",
              "      <td>0.627522</td>\n",
              "      <td>0.542976</td>\n",
              "      <td>0.485505</td>\n",
              "      <td>0.485903</td>\n",
              "      <td>0.786669</td>\n",
              "      <td>0.670957</td>\n",
              "      <td>0.540510</td>\n",
              "      <td>0.764619</td>\n",
              "      <td>0.529810</td>\n",
              "      <td>0.473329</td>\n",
              "      <td>0.663005</td>\n",
              "      <td>0.608885</td>\n",
              "      <td>0.695995</td>\n",
              "      <td>0.601024</td>\n",
              "      <td>0.477730</td>\n",
              "      <td>0.702990</td>\n",
              "      <td>0.554734</td>\n",
              "      <td>0.667045</td>\n",
              "      <td>0.529989</td>\n",
              "      <td>0.574750</td>\n",
              "      <td>0.733478</td>\n",
              "      <td>0.563220</td>\n",
              "      <td>0.540472</td>\n",
              "      <td>0.565630</td>\n",
              "      <td>0.504446</td>\n",
              "      <td>0.493837</td>\n",
              "      <td>0.343277</td>\n",
              "      <td>0.644033</td>\n",
              "      <td>0.713643</td>\n",
              "      <td>0.449867</td>\n",
              "      <td>0.670262</td>\n",
              "      <td>0.618680</td>\n",
              "      <td>0.596047</td>\n",
              "      <td>0.516514</td>\n",
              "      <td>0.583900</td>\n",
              "      <td>0.494273</td>\n",
              "      <td>0.412867</td>\n",
              "      <td>0.575115</td>\n",
              "      <td>0.481213</td>\n",
              "      <td>0.621911</td>\n",
              "      <td>0.779859</td>\n",
              "      <td>0.786455</td>\n",
              "      <td>0.486580</td>\n",
              "      <td>0.808006</td>\n",
              "      <td>0.641099</td>\n",
              "      <td>0.686376</td>\n",
              "      <td>0.724988</td>\n",
              "      <td>0.718530</td>\n",
              "      <td>0.616852</td>\n",
              "      <td>0.692761</td>\n",
              "      <td>0.646695</td>\n",
              "      <td>0.677245</td>\n",
              "      <td>0.699785</td>\n",
              "      <td>0.648607</td>\n",
              "      <td>0.616075</td>\n",
              "      <td>0.816841</td>\n",
              "      <td>Bom</td>\n",
              "    </tr>\n",
              "  </tbody>\n",
              "</table>\n",
              "</div>\n",
              "      <button class=\"colab-df-convert\" onclick=\"convertToInteractive('df-8b6a4d6a-fc25-40a5-af85-aa480e6f0b48')\"\n",
              "              title=\"Convert this dataframe to an interactive table.\"\n",
              "              style=\"display:none;\">\n",
              "        \n",
              "  <svg xmlns=\"http://www.w3.org/2000/svg\" height=\"24px\"viewBox=\"0 0 24 24\"\n",
              "       width=\"24px\">\n",
              "    <path d=\"M0 0h24v24H0V0z\" fill=\"none\"/>\n",
              "    <path d=\"M18.56 5.44l.94 2.06.94-2.06 2.06-.94-2.06-.94-.94-2.06-.94 2.06-2.06.94zm-11 1L8.5 8.5l.94-2.06 2.06-.94-2.06-.94L8.5 2.5l-.94 2.06-2.06.94zm10 10l.94 2.06.94-2.06 2.06-.94-2.06-.94-.94-2.06-.94 2.06-2.06.94z\"/><path d=\"M17.41 7.96l-1.37-1.37c-.4-.4-.92-.59-1.43-.59-.52 0-1.04.2-1.43.59L10.3 9.45l-7.72 7.72c-.78.78-.78 2.05 0 2.83L4 21.41c.39.39.9.59 1.41.59.51 0 1.02-.2 1.41-.59l7.78-7.78 2.81-2.81c.8-.78.8-2.07 0-2.86zM5.41 20L4 18.59l7.72-7.72 1.47 1.35L5.41 20z\"/>\n",
              "  </svg>\n",
              "      </button>\n",
              "      \n",
              "  <style>\n",
              "    .colab-df-container {\n",
              "      display:flex;\n",
              "      flex-wrap:wrap;\n",
              "      gap: 12px;\n",
              "    }\n",
              "\n",
              "    .colab-df-convert {\n",
              "      background-color: #E8F0FE;\n",
              "      border: none;\n",
              "      border-radius: 50%;\n",
              "      cursor: pointer;\n",
              "      display: none;\n",
              "      fill: #1967D2;\n",
              "      height: 32px;\n",
              "      padding: 0 0 0 0;\n",
              "      width: 32px;\n",
              "    }\n",
              "\n",
              "    .colab-df-convert:hover {\n",
              "      background-color: #E2EBFA;\n",
              "      box-shadow: 0px 1px 2px rgba(60, 64, 67, 0.3), 0px 1px 3px 1px rgba(60, 64, 67, 0.15);\n",
              "      fill: #174EA6;\n",
              "    }\n",
              "\n",
              "    [theme=dark] .colab-df-convert {\n",
              "      background-color: #3B4455;\n",
              "      fill: #D2E3FC;\n",
              "    }\n",
              "\n",
              "    [theme=dark] .colab-df-convert:hover {\n",
              "      background-color: #434B5C;\n",
              "      box-shadow: 0px 1px 3px 1px rgba(0, 0, 0, 0.15);\n",
              "      filter: drop-shadow(0px 1px 2px rgba(0, 0, 0, 0.3));\n",
              "      fill: #FFFFFF;\n",
              "    }\n",
              "  </style>\n",
              "\n",
              "      <script>\n",
              "        const buttonEl =\n",
              "          document.querySelector('#df-8b6a4d6a-fc25-40a5-af85-aa480e6f0b48 button.colab-df-convert');\n",
              "        buttonEl.style.display =\n",
              "          google.colab.kernel.accessAllowed ? 'block' : 'none';\n",
              "\n",
              "        async function convertToInteractive(key) {\n",
              "          const element = document.querySelector('#df-8b6a4d6a-fc25-40a5-af85-aa480e6f0b48');\n",
              "          const dataTable =\n",
              "            await google.colab.kernel.invokeFunction('convertToInteractive',\n",
              "                                                     [key], {});\n",
              "          if (!dataTable) return;\n",
              "\n",
              "          const docLinkHtml = 'Like what you see? Visit the ' +\n",
              "            '<a target=\"_blank\" href=https://colab.research.google.com/notebooks/data_table.ipynb>data table notebook</a>'\n",
              "            + ' to learn more about interactive tables.';\n",
              "          element.innerHTML = '';\n",
              "          dataTable['output_type'] = 'display_data';\n",
              "          await google.colab.output.renderOutput(dataTable, element);\n",
              "          const docLink = document.createElement('div');\n",
              "          docLink.innerHTML = docLinkHtml;\n",
              "          element.appendChild(docLink);\n",
              "        }\n",
              "      </script>\n",
              "    </div>\n",
              "  </div>\n",
              "  "
            ],
            "text/plain": [
              "   feedbacks  reviews  ... value_selftranscendence  reputation\n",
              "2          0       49  ...                0.828716         Bom\n",
              "3          0       56  ...                0.809379         Bom\n",
              "4          0       50  ...                0.826039         Bom\n",
              "5         72        0  ...                0.813391         Bom\n",
              "6         76        0  ...                0.816841         Bom\n",
              "\n",
              "[5 rows x 75 columns]"
            ]
          },
          "metadata": {},
          "execution_count": 4
        }
      ]
    },
    {
      "cell_type": "code",
      "metadata": {
        "id": "tCrta0ASa03K"
      },
      "source": [
        "data['blacklist'] = data['blacklist'] == 'S'"
      ],
      "execution_count": 5,
      "outputs": []
    },
    {
      "cell_type": "code",
      "metadata": {
        "id": "lxaSFv5BD0ib",
        "colab": {
          "base_uri": "https://localhost:8080/",
          "height": 334
        },
        "outputId": "0540fa2e-3df4-4f05-b512-81d8160f7ef7"
      },
      "source": [
        "sns.countplot(data['reputation']);"
      ],
      "execution_count": 7,
      "outputs": [
        {
          "output_type": "stream",
          "name": "stderr",
          "text": [
            "/usr/local/lib/python3.7/dist-packages/seaborn/_decorators.py:43: FutureWarning: Pass the following variable as a keyword arg: x. From version 0.12, the only valid positional argument will be `data`, and passing other arguments without an explicit keyword will result in an error or misinterpretation.\n",
            "  FutureWarning\n"
          ]
        },
        {
          "output_type": "display_data",
          "data": {
            "image/png": "[encoded data removed]",
            "text/plain": [
              "<Figure size 432x288 with 1 Axes>"
            ]
          },
          "metadata": {
            "needs_background": "light"
          }
        }
      ]
    },
    {
      "cell_type": "code",
      "metadata": {
        "id": "rTINRhAHZul9",
        "colab": {
          "base_uri": "https://localhost:8080/"
        },
        "outputId": "7b4d61db-b67c-4dbb-ea6d-14246abcded8"
      },
      "source": [
        "len(data.columns)"
      ],
      "execution_count": 8,
      "outputs": [
        {
          "output_type": "execute_result",
          "data": {
            "text/plain": [
              "75"
            ]
          },
          "metadata": {},
          "execution_count": 8
        }
      ]
    },
    {
      "cell_type": "code",
      "metadata": {
        "id": "X1sKkVj2EDAu"
      },
      "source": [
        "x = data.iloc[:,0:74].values"
      ],
      "execution_count": 9,
      "outputs": []
    },
    {
      "cell_type": "code",
      "metadata": {
        "id": "uIR9bquDEI1o",
        "colab": {
          "base_uri": "https://localhost:8080/"
        },
        "outputId": "84ee71c5-5ece-4886-98cb-0c5996b259dd"
      },
      "source": [
        "x.shape"
      ],
      "execution_count": 10,
      "outputs": [
        {
          "output_type": "execute_result",
          "data": {
            "text/plain": [
              "(5806, 74)"
            ]
          },
          "metadata": {},
          "execution_count": 10
        }
      ]
    },
    {
      "cell_type": "code",
      "metadata": {
        "id": "bn3a2VqhEPO_",
        "colab": {
          "base_uri": "https://localhost:8080/"
        },
        "outputId": "e911e82c-d98e-4d62-a35d-4bba25a46070"
      },
      "source": [
        "x"
      ],
      "execution_count": 11,
      "outputs": [
        {
          "output_type": "execute_result",
          "data": {
            "text/plain": [
              "array([[0, 49, False, ..., 0.6400725899947721, 0.5980370415548721,\n",
              "        0.828716381071851],\n",
              "       [0, 56, False, ..., 0.6444645861342442, 0.603041772443901,\n",
              "        0.8093789692710098],\n",
              "       [0, 50, False, ..., 0.6554697130298307, 0.6450420335022421,\n",
              "        0.8260389012547199],\n",
              "       ...,\n",
              "       [78, 0, False, ..., 0.6974661634054785, 0.6739035045452172,\n",
              "        0.8320726536961992],\n",
              "       [95, 0, False, ..., 0.7706773179699052, 0.7100477615788761,\n",
              "        0.8199238314070743],\n",
              "       [53, 0, False, ..., 0.6239306346573744, 0.6331205213003834,\n",
              "        0.7920921058167003]], dtype=object)"
            ]
          },
          "metadata": {},
          "execution_count": 11
        }
      ]
    },
    {
      "cell_type": "code",
      "metadata": {
        "id": "7nBKxDitERSD"
      },
      "source": [
        "y = data.iloc[:,74].values"
      ],
      "execution_count": 12,
      "outputs": []
    },
    {
      "cell_type": "code",
      "metadata": {
        "id": "azgq3FvEEXtj",
        "colab": {
          "base_uri": "https://localhost:8080/"
        },
        "outputId": "d242dd52-f4e2-48f4-fefe-db698184eeb2"
      },
      "source": [
        "y"
      ],
      "execution_count": 13,
      "outputs": [
        {
          "output_type": "execute_result",
          "data": {
            "text/plain": [
              "array(['Bom', 'Bom', 'Bom', ..., 'Bom', 'Ruim', 'Ruim'], dtype=object)"
            ]
          },
          "metadata": {},
          "execution_count": 13
        }
      ]
    },
    {
      "cell_type": "code",
      "metadata": {
        "id": "tAu1OPhreTkY",
        "colab": {
          "base_uri": "https://localhost:8080/"
        },
        "outputId": "2351deab-ef02-4e14-a011-0a662cde0456"
      },
      "source": [
        "np.unique(y, return_counts=True)"
      ],
      "execution_count": 14,
      "outputs": [
        {
          "output_type": "execute_result",
          "data": {
            "text/plain": [
              "(array(['Bom', 'Ruim'], dtype=object), array([4299, 1507]))"
            ]
          },
          "metadata": {},
          "execution_count": 14
        }
      ]
    },
    {
      "cell_type": "markdown",
      "source": [
        "**Treinamento**"
      ],
      "metadata": {
        "id": "NnHB0_JRTn7c"
      }
    },
    {
      "cell_type": "code",
      "metadata": {
        "id": "5g2E_l4pEb7N"
      },
      "source": [
        "from sklearn.model_selection import train_test_split"
      ],
      "execution_count": 15,
      "outputs": []
    },
    {
      "cell_type": "code",
      "metadata": {
        "id": "mKIvC6_BEj9N"
      },
      "source": [
        "x_treinamento, x_teste, y_treinamento, y_teste = train_test_split(x, y, test_size = 0.2, stratify = y)"
      ],
      "execution_count": 16,
      "outputs": []
    },
    {
      "cell_type": "code",
      "metadata": {
        "id": "_buNxoSfEswP",
        "colab": {
          "base_uri": "https://localhost:8080/"
        },
        "outputId": "fa26b355-194c-40ff-cc59-63d9649fef5c"
      },
      "source": [
        "x_treinamento.shape, y_treinamento.shape"
      ],
      "execution_count": 17,
      "outputs": [
        {
          "output_type": "execute_result",
          "data": {
            "text/plain": [
              "((4644, 74), (4644,))"
            ]
          },
          "metadata": {},
          "execution_count": 17
        }
      ]
    },
    {
      "cell_type": "code",
      "metadata": {
        "id": "Frqgy4fUEwUI",
        "colab": {
          "base_uri": "https://localhost:8080/"
        },
        "outputId": "7d7d2fb2-ef96-48e1-93d1-dbf37995ef28"
      },
      "source": [
        "x_teste.shape, y_teste.shape"
      ],
      "execution_count": 18,
      "outputs": [
        {
          "output_type": "execute_result",
          "data": {
            "text/plain": [
              "((1162, 74), (1162,))"
            ]
          },
          "metadata": {},
          "execution_count": 18
        }
      ]
    },
    {
      "cell_type": "markdown",
      "source": [
        "Problema de classificação, vamos utilizar o algoritimo de **Random Forest**"
      ],
      "metadata": {
        "id": "f-R3Bb3oT0UA"
      }
    },
    {
      "cell_type": "code",
      "metadata": {
        "id": "nMdeH8sYGMPq"
      },
      "source": [
        "from sklearn.ensemble import RandomForestClassifier"
      ],
      "execution_count": 19,
      "outputs": []
    },
    {
      "cell_type": "code",
      "metadata": {
        "id": "tNRBCJ2eGQiu",
        "colab": {
          "base_uri": "https://localhost:8080/"
        },
        "outputId": "2a4d0af5-87d3-4925-94c0-ddc6d2412202"
      },
      "source": [
        "modelo = RandomForestClassifier(n_estimators=50, criterion='entropy')\n",
        "modelo.fit(x_treinamento, y_treinamento)"
      ],
      "execution_count": 21,
      "outputs": [
        {
          "output_type": "execute_result",
          "data": {
            "text/plain": [
              "RandomForestClassifier(criterion='entropy', n_estimators=50)"
            ]
          },
          "metadata": {},
          "execution_count": 21
        }
      ]
    },
    {
      "cell_type": "code",
      "metadata": {
        "id": "xmFnRjRTHC3Z",
        "colab": {
          "base_uri": "https://localhost:8080/"
        },
        "outputId": "62a2115c-c3ca-4b0f-af11-35bd3aeec977"
      },
      "source": [
        "previsoes = modelo.predict(x_teste)\n",
        "from sklearn.metrics import accuracy_score\n",
        "accuracy_score(previsoes, y_teste)"
      ],
      "execution_count": 22,
      "outputs": [
        {
          "output_type": "execute_result",
          "data": {
            "text/plain": [
              "0.7418244406196214"
            ]
          },
          "metadata": {},
          "execution_count": 22
        }
      ]
    },
    {
      "cell_type": "code",
      "source": [
        "#modelo com resultado bom de 74%, ou seja, preveu corretamente 74%"
      ],
      "metadata": {
        "id": "9v57fGTxUHe1"
      },
      "execution_count": 24,
      "outputs": []
    },
    {
      "cell_type": "markdown",
      "metadata": {
        "id": "O3LdjHSOJSb0"
      },
      "source": [
        "**Subamostragem (undersampling)- Tomek links**\n",
        "\n"
      ]
    },
    {
      "cell_type": "code",
      "metadata": {
        "id": "KnLF9D5mJU1C"
      },
      "source": [
        "from imblearn.under_sampling import TomekLinks"
      ],
      "execution_count": 25,
      "outputs": []
    },
    {
      "cell_type": "code",
      "metadata": {
        "id": "I1FHa4UOCEW8"
      },
      "source": [
        "tl = TomekLinks(sampling_strategy='majority')\n",
        "x_under, y_under = tl.fit_resample(x, y)"
      ],
      "execution_count": 26,
      "outputs": []
    },
    {
      "cell_type": "code",
      "metadata": {
        "id": "JEc3acRAJ9_l",
        "colab": {
          "base_uri": "https://localhost:8080/"
        },
        "outputId": "3d485e01-b67b-44be-bedf-403a0f3affdc"
      },
      "source": [
        "x_under.shape, y_under.shape"
      ],
      "execution_count": 27,
      "outputs": [
        {
          "output_type": "execute_result",
          "data": {
            "text/plain": [
              "((5417, 74), (5417,))"
            ]
          },
          "metadata": {},
          "execution_count": 27
        }
      ]
    },
    {
      "cell_type": "code",
      "metadata": {
        "id": "hr8D-cbVN_rx",
        "colab": {
          "base_uri": "https://localhost:8080/"
        },
        "outputId": "e4fa673b-438f-4dd7-8502-24abc7982970"
      },
      "source": [
        "np.unique(y, return_counts=True)"
      ],
      "execution_count": 28,
      "outputs": [
        {
          "output_type": "execute_result",
          "data": {
            "text/plain": [
              "(array(['Bom', 'Ruim'], dtype=object), array([4299, 1507]))"
            ]
          },
          "metadata": {},
          "execution_count": 28
        }
      ]
    },
    {
      "cell_type": "code",
      "metadata": {
        "id": "xurz20fCMfkl",
        "colab": {
          "base_uri": "https://localhost:8080/"
        },
        "outputId": "e7d57fa1-7380-4162-baa0-4f37bb9cb454"
      },
      "source": [
        "np.unique(y_under, return_counts=True)"
      ],
      "execution_count": 29,
      "outputs": [
        {
          "output_type": "execute_result",
          "data": {
            "text/plain": [
              "(array(['Bom', 'Ruim'], dtype=object), array([3910, 1507]))"
            ]
          },
          "metadata": {},
          "execution_count": 29
        }
      ]
    },
    {
      "cell_type": "code",
      "metadata": {
        "id": "Yqt_zBN-OwQI",
        "colab": {
          "base_uri": "https://localhost:8080/"
        },
        "outputId": "22342bc8-959d-478f-bb38-548f56f678d4"
      },
      "source": [
        "x_treinamento_u, x_teste_u, y_treinamento_u, y_teste_u = train_test_split(x_under, y_under, \n",
        "                                                                          test_size = 0.2, stratify = y_under)\n",
        "x_treinamento_u.shape, x_teste_u.shape"
      ],
      "execution_count": 30,
      "outputs": [
        {
          "output_type": "execute_result",
          "data": {
            "text/plain": [
              "((4333, 74), (1084, 74))"
            ]
          },
          "metadata": {},
          "execution_count": 30
        }
      ]
    },
    {
      "cell_type": "code",
      "metadata": {
        "id": "KZTTgR6mPGH6",
        "colab": {
          "base_uri": "https://localhost:8080/"
        },
        "outputId": "f6905743-b79a-43d1-f283-4bd4ff299f20"
      },
      "source": [
        "modelo_u = RandomForestClassifier()\n",
        "modelo_u.fit(x_treinamento_u, y_treinamento_u)\n",
        "previsoes_u = modelo_u.predict(x_teste_u)\n",
        "accuracy_score(previsoes_u, y_teste_u)"
      ],
      "execution_count": 31,
      "outputs": [
        {
          "output_type": "execute_result",
          "data": {
            "text/plain": [
              "0.7260147601476015"
            ]
          },
          "metadata": {},
          "execution_count": 31
        }
      ]
    },
    {
      "cell_type": "code",
      "source": [
        "#aqui a acurácia diminui para 72% aplicando o undersampling"
      ],
      "metadata": {
        "id": "FmKZkLV9UvSK"
      },
      "execution_count": 33,
      "outputs": []
    },
    {
      "cell_type": "markdown",
      "metadata": {
        "id": "F3mmQGLHQvLr"
      },
      "source": [
        "**Sobreamostragem (oversampling) - SMOTE**"
      ]
    },
    {
      "cell_type": "code",
      "metadata": {
        "id": "qv_ZkPjoQzZ1"
      },
      "source": [
        "from imblearn.over_sampling import SMOTE"
      ],
      "execution_count": 34,
      "outputs": []
    },
    {
      "cell_type": "code",
      "metadata": {
        "id": "_YjC-oQwQ5RA"
      },
      "source": [
        "smote = SMOTE(sampling_strategy='minority')\n",
        "x_over, y_over = smote.fit_resample(x, y)"
      ],
      "execution_count": 35,
      "outputs": []
    },
    {
      "cell_type": "code",
      "metadata": {
        "id": "RQ2KvD8dRE05",
        "colab": {
          "base_uri": "https://localhost:8080/"
        },
        "outputId": "9d038cbd-ffbb-4688-985b-176d99baca28"
      },
      "source": [
        "x_over.shape, y_over.shape"
      ],
      "execution_count": 36,
      "outputs": [
        {
          "output_type": "execute_result",
          "data": {
            "text/plain": [
              "((8598, 74), (8598,))"
            ]
          },
          "metadata": {},
          "execution_count": 36
        }
      ]
    },
    {
      "cell_type": "code",
      "metadata": {
        "id": "jFJnhrWQROje",
        "colab": {
          "base_uri": "https://localhost:8080/"
        },
        "outputId": "28bba241-d28c-4b84-a02d-8d9b30b3cd0f"
      },
      "source": [
        "np.unique(y, return_counts=True)"
      ],
      "execution_count": 37,
      "outputs": [
        {
          "output_type": "execute_result",
          "data": {
            "text/plain": [
              "(array(['Bom', 'Ruim'], dtype=object), array([4299, 1507]))"
            ]
          },
          "metadata": {},
          "execution_count": 37
        }
      ]
    },
    {
      "cell_type": "code",
      "metadata": {
        "id": "NWIwYgMiRPzD",
        "colab": {
          "base_uri": "https://localhost:8080/"
        },
        "outputId": "61fc259f-b866-48bb-cf3a-41afe93d1725"
      },
      "source": [
        "np.unique(y_over, return_counts=True)"
      ],
      "execution_count": 38,
      "outputs": [
        {
          "output_type": "execute_result",
          "data": {
            "text/plain": [
              "(array(['Bom', 'Ruim'], dtype=object), array([4299, 4299]))"
            ]
          },
          "metadata": {},
          "execution_count": 38
        }
      ]
    },
    {
      "cell_type": "code",
      "metadata": {
        "id": "YVsmqWEXRWCb",
        "colab": {
          "base_uri": "https://localhost:8080/"
        },
        "outputId": "6a35f44b-cfca-47c0-bfe4-ebb3cd721aab"
      },
      "source": [
        "x_treinamento_o, x_teste_o, y_treinamento_o, y_teste_o = train_test_split(x_over, y_over, \n",
        "                                                                          test_size = 0.2, stratify = y_over)\n",
        "x_treinamento_o.shape, x_teste_o.shape"
      ],
      "execution_count": 39,
      "outputs": [
        {
          "output_type": "execute_result",
          "data": {
            "text/plain": [
              "((6878, 74), (1720, 74))"
            ]
          },
          "metadata": {},
          "execution_count": 39
        }
      ]
    },
    {
      "cell_type": "code",
      "metadata": {
        "id": "IctXsrUyRmXy",
        "colab": {
          "base_uri": "https://localhost:8080/"
        },
        "outputId": "043e9c1a-0b60-4201-d3c3-250a6f4c7167"
      },
      "source": [
        "modelo_o = RandomForestClassifier()\n",
        "modelo_o.fit(x_treinamento_o, y_treinamento_o)\n",
        "previsoes_o = modelo_o.predict(x_teste_o)\n",
        "accuracy_score(previsoes_o, y_teste_o)"
      ],
      "execution_count": 40,
      "outputs": [
        {
          "output_type": "execute_result",
          "data": {
            "text/plain": [
              "0.7947674418604651"
            ]
          },
          "metadata": {},
          "execution_count": 40
        }
      ]
    },
    {
      "cell_type": "markdown",
      "source": [
        "aplicando o oversampling, melhoramos a acurácia do modelo para quase 80%"
      ],
      "metadata": {
        "id": "wGHNaJvzVYRg"
      }
    },
    {
      "cell_type": "markdown",
      "source": [
        "Portanto fizemos a previsao usando o algoritimo de RF, e a partir disso trabalhamos usando dados balanceados, tanto com undersampling, como oversampling"
      ],
      "metadata": {
        "id": "o3rJFuGuVpkH"
      }
    }
  ]
}