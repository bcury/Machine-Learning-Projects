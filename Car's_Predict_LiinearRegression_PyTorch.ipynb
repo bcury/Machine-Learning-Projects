{
  "nbformat": 4,
  "nbformat_minor": 0,
  "metadata": {
    "colab": {
      "name": "Car's Predict_LiinearRegression_PyTorch",
      "provenance": [],
      "collapsed_sections": [],
      "authorship_tag": "ABX9TyOde86XrzLDdB0kzl725ABL",
      "include_colab_link": true
    },
    "kernelspec": {
      "name": "python3",
      "display_name": "Python 3"
    },
    "language_info": {
      "name": "python"
    }
  },
  "cells": [
    {
      "cell_type": "markdown",
      "metadata": {
        "id": "view-in-github",
        "colab_type": "text"
      },
      "source": [
        "<a href=\"https://colab.research.google.com/github/bcury/Machine-Learning-Projects/blob/main/Car's_Predict_LiinearRegression_PyTorch.ipynb\" target=\"_parent\"><img src=\"https://colab.research.google.com/assets/colab-badge.svg\" alt=\"Open In Colab\"/></a>"
      ]
    },
    {
      "cell_type": "markdown",
      "metadata": {
        "id": "eMD2-2uEcePm"
      },
      "source": [
        "Car's predict"
      ]
    },
    {
      "cell_type": "code",
      "metadata": {
        "colab": {
          "base_uri": "https://localhost:8080/",
          "height": 453
        },
        "id": "zQp5NUIrcmAx",
        "outputId": "ca3e451c-44aa-45c8-ed6d-32222f600a18"
      },
      "source": [
        "pip install jovian"
      ],
      "execution_count": 2,
      "outputs": [
        {
          "output_type": "stream",
          "name": "stdout",
          "text": [
            "Collecting jovian\n",
            "  Downloading jovian-0.2.41-py2.py3-none-any.whl (68 kB)\n",
            "\u001b[?25l\r\u001b[K     |████▊                           | 10 kB 23.8 MB/s eta 0:00:01\r\u001b[K     |█████████▌                      | 20 kB 25.3 MB/s eta 0:00:01\r\u001b[K     |██████████████▎                 | 30 kB 24.2 MB/s eta 0:00:01\r\u001b[K     |███████████████████             | 40 kB 19.3 MB/s eta 0:00:01\r\u001b[K     |███████████████████████▉        | 51 kB 8.6 MB/s eta 0:00:01\r\u001b[K     |████████████████████████████▋   | 61 kB 9.9 MB/s eta 0:00:01\r\u001b[K     |████████████████████████████████| 68 kB 4.3 MB/s \n",
            "\u001b[?25hCollecting uuid\n",
            "  Downloading uuid-1.30.tar.gz (5.8 kB)\n",
            "Requirement already satisfied: click in /usr/local/lib/python3.7/dist-packages (from jovian) (7.1.2)\n",
            "Requirement already satisfied: pyyaml in /usr/local/lib/python3.7/dist-packages (from jovian) (3.13)\n",
            "Requirement already satisfied: requests in /usr/local/lib/python3.7/dist-packages (from jovian) (2.23.0)\n",
            "Requirement already satisfied: urllib3!=1.25.0,!=1.25.1,<1.26,>=1.21.1 in /usr/local/lib/python3.7/dist-packages (from requests->jovian) (1.24.3)\n",
            "Requirement already satisfied: idna<3,>=2.5 in /usr/local/lib/python3.7/dist-packages (from requests->jovian) (2.10)\n",
            "Requirement already satisfied: certifi>=2017.4.17 in /usr/local/lib/python3.7/dist-packages (from requests->jovian) (2021.10.8)\n",
            "Requirement already satisfied: chardet<4,>=3.0.2 in /usr/local/lib/python3.7/dist-packages (from requests->jovian) (3.0.4)\n",
            "Building wheels for collected packages: uuid\n",
            "  Building wheel for uuid (setup.py) ... \u001b[?25l\u001b[?25hdone\n",
            "  Created wheel for uuid: filename=uuid-1.30-py3-none-any.whl size=6501 sha256=354cc97590569312f2c744e16adb0a73f0977fb12d644120efffb9979b9849ce\n",
            "  Stored in directory: /root/.cache/pip/wheels/2a/ea/87/dd57f1ecb4f0752f3e1dbf958ebf8b36d920d190425bcdc24d\n",
            "Successfully built uuid\n",
            "Installing collected packages: uuid, jovian\n",
            "Successfully installed jovian-0.2.41 uuid-1.30\n"
          ]
        },
        {
          "output_type": "display_data",
          "data": {
            "application/vnd.colab-display-data+json": {
              "pip_warning": {
                "packages": [
                  "uuid"
                ]
              }
            }
          },
          "metadata": {}
        }
      ]
    },
    {
      "cell_type": "code",
      "metadata": {
        "id": "Ou8T95YscYvj"
      },
      "source": [
        "import torch\n",
        "import jovian\n",
        "import torch.nn as nn\n",
        "import pandas as pd\n",
        "import matplotlib.pyplot as plt\n",
        "import torch.nn.functional as F\n",
        "from torch.utils.data import DataLoader, TensorDataset, random_split"
      ],
      "execution_count": 3,
      "outputs": []
    },
    {
      "cell_type": "code",
      "metadata": {
        "id": "th2du62WcbjZ"
      },
      "source": [
        "Data_Frame = pd.read_csv(\"/content/car data.csv\")"
      ],
      "execution_count": 4,
      "outputs": []
    },
    {
      "cell_type": "code",
      "metadata": {
        "colab": {
          "base_uri": "https://localhost:8080/",
          "height": 206
        },
        "id": "SlJkXaafc5Pe",
        "outputId": "77543bb2-7a88-4548-e9e3-e630925eb6eb"
      },
      "source": [
        "Data_Frame.head()"
      ],
      "execution_count": 5,
      "outputs": [
        {
          "output_type": "execute_result",
          "data": {
            "text/html": [
              "<div>\n",
              "<style scoped>\n",
              "    .dataframe tbody tr th:only-of-type {\n",
              "        vertical-align: middle;\n",
              "    }\n",
              "\n",
              "    .dataframe tbody tr th {\n",
              "        vertical-align: top;\n",
              "    }\n",
              "\n",
              "    .dataframe thead th {\n",
              "        text-align: right;\n",
              "    }\n",
              "</style>\n",
              "<table border=\"1\" class=\"dataframe\">\n",
              "  <thead>\n",
              "    <tr style=\"text-align: right;\">\n",
              "      <th></th>\n",
              "      <th>Car_Name</th>\n",
              "      <th>Year</th>\n",
              "      <th>Selling_Price</th>\n",
              "      <th>Present_Price</th>\n",
              "      <th>Kms_Driven</th>\n",
              "      <th>Fuel_Type</th>\n",
              "      <th>Seller_Type</th>\n",
              "      <th>Transmission</th>\n",
              "      <th>Owner</th>\n",
              "    </tr>\n",
              "  </thead>\n",
              "  <tbody>\n",
              "    <tr>\n",
              "      <th>0</th>\n",
              "      <td>ritz</td>\n",
              "      <td>2014</td>\n",
              "      <td>3.35</td>\n",
              "      <td>5.59</td>\n",
              "      <td>27000</td>\n",
              "      <td>Petrol</td>\n",
              "      <td>Dealer</td>\n",
              "      <td>Manual</td>\n",
              "      <td>0</td>\n",
              "    </tr>\n",
              "    <tr>\n",
              "      <th>1</th>\n",
              "      <td>sx4</td>\n",
              "      <td>2013</td>\n",
              "      <td>4.75</td>\n",
              "      <td>9.54</td>\n",
              "      <td>43000</td>\n",
              "      <td>Diesel</td>\n",
              "      <td>Dealer</td>\n",
              "      <td>Manual</td>\n",
              "      <td>0</td>\n",
              "    </tr>\n",
              "    <tr>\n",
              "      <th>2</th>\n",
              "      <td>ciaz</td>\n",
              "      <td>2017</td>\n",
              "      <td>7.25</td>\n",
              "      <td>9.85</td>\n",
              "      <td>6900</td>\n",
              "      <td>Petrol</td>\n",
              "      <td>Dealer</td>\n",
              "      <td>Manual</td>\n",
              "      <td>0</td>\n",
              "    </tr>\n",
              "    <tr>\n",
              "      <th>3</th>\n",
              "      <td>wagon r</td>\n",
              "      <td>2011</td>\n",
              "      <td>2.85</td>\n",
              "      <td>4.15</td>\n",
              "      <td>5200</td>\n",
              "      <td>Petrol</td>\n",
              "      <td>Dealer</td>\n",
              "      <td>Manual</td>\n",
              "      <td>0</td>\n",
              "    </tr>\n",
              "    <tr>\n",
              "      <th>4</th>\n",
              "      <td>swift</td>\n",
              "      <td>2014</td>\n",
              "      <td>4.60</td>\n",
              "      <td>6.87</td>\n",
              "      <td>42450</td>\n",
              "      <td>Diesel</td>\n",
              "      <td>Dealer</td>\n",
              "      <td>Manual</td>\n",
              "      <td>0</td>\n",
              "    </tr>\n",
              "  </tbody>\n",
              "</table>\n",
              "</div>"
            ],
            "text/plain": [
              "  Car_Name  Year  Selling_Price  ...  Seller_Type  Transmission Owner\n",
              "0     ritz  2014           3.35  ...       Dealer        Manual     0\n",
              "1      sx4  2013           4.75  ...       Dealer        Manual     0\n",
              "2     ciaz  2017           7.25  ...       Dealer        Manual     0\n",
              "3  wagon r  2011           2.85  ...       Dealer        Manual     0\n",
              "4    swift  2014           4.60  ...       Dealer        Manual     0\n",
              "\n",
              "[5 rows x 9 columns]"
            ]
          },
          "metadata": {},
          "execution_count": 5
        }
      ]
    },
    {
      "cell_type": "code",
      "metadata": {
        "colab": {
          "base_uri": "https://localhost:8080/",
          "height": 300
        },
        "id": "mzvmHjpvc7P6",
        "outputId": "c6e7e297-73a2-4f95-f2d5-62ca577969f7"
      },
      "source": [
        "Data_Frame.describe()"
      ],
      "execution_count": 6,
      "outputs": [
        {
          "output_type": "execute_result",
          "data": {
            "text/html": [
              "<div>\n",
              "<style scoped>\n",
              "    .dataframe tbody tr th:only-of-type {\n",
              "        vertical-align: middle;\n",
              "    }\n",
              "\n",
              "    .dataframe tbody tr th {\n",
              "        vertical-align: top;\n",
              "    }\n",
              "\n",
              "    .dataframe thead th {\n",
              "        text-align: right;\n",
              "    }\n",
              "</style>\n",
              "<table border=\"1\" class=\"dataframe\">\n",
              "  <thead>\n",
              "    <tr style=\"text-align: right;\">\n",
              "      <th></th>\n",
              "      <th>Year</th>\n",
              "      <th>Selling_Price</th>\n",
              "      <th>Present_Price</th>\n",
              "      <th>Kms_Driven</th>\n",
              "      <th>Owner</th>\n",
              "    </tr>\n",
              "  </thead>\n",
              "  <tbody>\n",
              "    <tr>\n",
              "      <th>count</th>\n",
              "      <td>301.000000</td>\n",
              "      <td>301.000000</td>\n",
              "      <td>301.000000</td>\n",
              "      <td>301.000000</td>\n",
              "      <td>301.000000</td>\n",
              "    </tr>\n",
              "    <tr>\n",
              "      <th>mean</th>\n",
              "      <td>2013.627907</td>\n",
              "      <td>4.661296</td>\n",
              "      <td>7.628472</td>\n",
              "      <td>36947.205980</td>\n",
              "      <td>0.043189</td>\n",
              "    </tr>\n",
              "    <tr>\n",
              "      <th>std</th>\n",
              "      <td>2.891554</td>\n",
              "      <td>5.082812</td>\n",
              "      <td>8.644115</td>\n",
              "      <td>38886.883882</td>\n",
              "      <td>0.247915</td>\n",
              "    </tr>\n",
              "    <tr>\n",
              "      <th>min</th>\n",
              "      <td>2003.000000</td>\n",
              "      <td>0.100000</td>\n",
              "      <td>0.320000</td>\n",
              "      <td>500.000000</td>\n",
              "      <td>0.000000</td>\n",
              "    </tr>\n",
              "    <tr>\n",
              "      <th>25%</th>\n",
              "      <td>2012.000000</td>\n",
              "      <td>0.900000</td>\n",
              "      <td>1.200000</td>\n",
              "      <td>15000.000000</td>\n",
              "      <td>0.000000</td>\n",
              "    </tr>\n",
              "    <tr>\n",
              "      <th>50%</th>\n",
              "      <td>2014.000000</td>\n",
              "      <td>3.600000</td>\n",
              "      <td>6.400000</td>\n",
              "      <td>32000.000000</td>\n",
              "      <td>0.000000</td>\n",
              "    </tr>\n",
              "    <tr>\n",
              "      <th>75%</th>\n",
              "      <td>2016.000000</td>\n",
              "      <td>6.000000</td>\n",
              "      <td>9.900000</td>\n",
              "      <td>48767.000000</td>\n",
              "      <td>0.000000</td>\n",
              "    </tr>\n",
              "    <tr>\n",
              "      <th>max</th>\n",
              "      <td>2018.000000</td>\n",
              "      <td>35.000000</td>\n",
              "      <td>92.600000</td>\n",
              "      <td>500000.000000</td>\n",
              "      <td>3.000000</td>\n",
              "    </tr>\n",
              "  </tbody>\n",
              "</table>\n",
              "</div>"
            ],
            "text/plain": [
              "              Year  Selling_Price  Present_Price     Kms_Driven       Owner\n",
              "count   301.000000     301.000000     301.000000     301.000000  301.000000\n",
              "mean   2013.627907       4.661296       7.628472   36947.205980    0.043189\n",
              "std       2.891554       5.082812       8.644115   38886.883882    0.247915\n",
              "min    2003.000000       0.100000       0.320000     500.000000    0.000000\n",
              "25%    2012.000000       0.900000       1.200000   15000.000000    0.000000\n",
              "50%    2014.000000       3.600000       6.400000   32000.000000    0.000000\n",
              "75%    2016.000000       6.000000       9.900000   48767.000000    0.000000\n",
              "max    2018.000000      35.000000      92.600000  500000.000000    3.000000"
            ]
          },
          "metadata": {},
          "execution_count": 6
        }
      ]
    },
    {
      "cell_type": "code",
      "metadata": {
        "colab": {
          "base_uri": "https://localhost:8080/"
        },
        "id": "5zdCJRE7c_qh",
        "outputId": "57f7718f-1b7b-4d79-c187-1756185a1b67"
      },
      "source": [
        "Data_Frame.info()"
      ],
      "execution_count": 7,
      "outputs": [
        {
          "output_type": "stream",
          "name": "stdout",
          "text": [
            "<class 'pandas.core.frame.DataFrame'>\n",
            "RangeIndex: 301 entries, 0 to 300\n",
            "Data columns (total 9 columns):\n",
            " #   Column         Non-Null Count  Dtype  \n",
            "---  ------         --------------  -----  \n",
            " 0   Car_Name       301 non-null    object \n",
            " 1   Year           301 non-null    int64  \n",
            " 2   Selling_Price  301 non-null    float64\n",
            " 3   Present_Price  301 non-null    float64\n",
            " 4   Kms_Driven     301 non-null    int64  \n",
            " 5   Fuel_Type      301 non-null    object \n",
            " 6   Seller_Type    301 non-null    object \n",
            " 7   Transmission   301 non-null    object \n",
            " 8   Owner          301 non-null    int64  \n",
            "dtypes: float64(2), int64(3), object(4)\n",
            "memory usage: 21.3+ KB\n"
          ]
        }
      ]
    },
    {
      "cell_type": "code",
      "metadata": {
        "colab": {
          "base_uri": "https://localhost:8080/",
          "height": 223
        },
        "id": "7etFF3LtdCwy",
        "outputId": "b0173bf1-b6ca-4c0e-f2b8-16c9a5bfdd82"
      },
      "source": [
        "my_name = \"Bruno Cury\"\n",
        "def customize_dataset(dataframe_raw, rand_str):\n",
        "  Data = Data_Frame.copy(deep=True)\n",
        "  Data = Data.sample(int(0.95*len(Data)), random_state=int(ord(rand_str[0])))\n",
        "  Data.Year = Data.Year*ord(rand_str[1])/100.\n",
        "  Data.Selling_Price = Data.Selling_Price*ord(rand_str[2])/100.\n",
        "  if ord(rand_str[3]) % 2 == 1:\n",
        "        Data = Data.drop(['Car_Name'], axis=1)\n",
        "  return Data\n",
        "\n",
        "Data = customize_dataset(Data_Frame, my_name)\n",
        "Data.head()"
      ],
      "execution_count": 17,
      "outputs": [
        {
          "output_type": "execute_result",
          "data": {
            "text/html": [
              "<div>\n",
              "<style scoped>\n",
              "    .dataframe tbody tr th:only-of-type {\n",
              "        vertical-align: middle;\n",
              "    }\n",
              "\n",
              "    .dataframe tbody tr th {\n",
              "        vertical-align: top;\n",
              "    }\n",
              "\n",
              "    .dataframe thead th {\n",
              "        text-align: right;\n",
              "    }\n",
              "</style>\n",
              "<table border=\"1\" class=\"dataframe\">\n",
              "  <thead>\n",
              "    <tr style=\"text-align: right;\">\n",
              "      <th></th>\n",
              "      <th>Car_Name</th>\n",
              "      <th>Year</th>\n",
              "      <th>Selling_Price</th>\n",
              "      <th>Present_Price</th>\n",
              "      <th>Kms_Driven</th>\n",
              "      <th>Fuel_Type</th>\n",
              "      <th>Seller_Type</th>\n",
              "      <th>Transmission</th>\n",
              "      <th>Owner</th>\n",
              "    </tr>\n",
              "  </thead>\n",
              "  <tbody>\n",
              "    <tr>\n",
              "      <th>103</th>\n",
              "      <td>Bajaj Dominar 400</td>\n",
              "      <td>2299.38</td>\n",
              "      <td>1.6965</td>\n",
              "      <td>1.60</td>\n",
              "      <td>1200</td>\n",
              "      <td>Petrol</td>\n",
              "      <td>Individual</td>\n",
              "      <td>Manual</td>\n",
              "      <td>0</td>\n",
              "    </tr>\n",
              "    <tr>\n",
              "      <th>64</th>\n",
              "      <td>fortuner</td>\n",
              "      <td>2299.38</td>\n",
              "      <td>38.6100</td>\n",
              "      <td>36.23</td>\n",
              "      <td>6000</td>\n",
              "      <td>Diesel</td>\n",
              "      <td>Dealer</td>\n",
              "      <td>Automatic</td>\n",
              "      <td>0</td>\n",
              "    </tr>\n",
              "    <tr>\n",
              "      <th>35</th>\n",
              "      <td>sx4</td>\n",
              "      <td>2292.54</td>\n",
              "      <td>3.4515</td>\n",
              "      <td>7.74</td>\n",
              "      <td>49998</td>\n",
              "      <td>CNG</td>\n",
              "      <td>Dealer</td>\n",
              "      <td>Manual</td>\n",
              "      <td>0</td>\n",
              "    </tr>\n",
              "    <tr>\n",
              "      <th>280</th>\n",
              "      <td>brio</td>\n",
              "      <td>2297.10</td>\n",
              "      <td>6.1425</td>\n",
              "      <td>5.90</td>\n",
              "      <td>14465</td>\n",
              "      <td>Petrol</td>\n",
              "      <td>Dealer</td>\n",
              "      <td>Manual</td>\n",
              "      <td>0</td>\n",
              "    </tr>\n",
              "    <tr>\n",
              "      <th>256</th>\n",
              "      <td>city</td>\n",
              "      <td>2298.24</td>\n",
              "      <td>11.9925</td>\n",
              "      <td>13.60</td>\n",
              "      <td>49562</td>\n",
              "      <td>Petrol</td>\n",
              "      <td>Dealer</td>\n",
              "      <td>Manual</td>\n",
              "      <td>0</td>\n",
              "    </tr>\n",
              "  </tbody>\n",
              "</table>\n",
              "</div>"
            ],
            "text/plain": [
              "              Car_Name     Year  Selling_Price  ...  Seller_Type  Transmission Owner\n",
              "103  Bajaj Dominar 400  2299.38         1.6965  ...   Individual        Manual     0\n",
              "64            fortuner  2299.38        38.6100  ...       Dealer     Automatic     0\n",
              "35                 sx4  2292.54         3.4515  ...       Dealer        Manual     0\n",
              "280               brio  2297.10         6.1425  ...       Dealer        Manual     0\n",
              "256               city  2298.24        11.9925  ...       Dealer        Manual     0\n",
              "\n",
              "[5 rows x 9 columns]"
            ]
          },
          "metadata": {},
          "execution_count": 17
        }
      ]
    },
    {
      "cell_type": "code",
      "metadata": {
        "id": "BCK666UbdlMH"
      },
      "source": [
        "input_cols = [\"Year\",\"Present_Price\",\"Kms_Driven\",\"Owner\"]\n",
        "categorical_cols = [\"Fuel_Type\",\"Seller_Type\",\"Transmission\"]\n",
        "output_cols = [\"Selling_Price\"]"
      ],
      "execution_count": 18,
      "outputs": []
    },
    {
      "cell_type": "code",
      "metadata": {
        "colab": {
          "base_uri": "https://localhost:8080/"
        },
        "id": "F1pEerv6fbQH",
        "outputId": "f78b7a1e-d676-4666-9b43-85ef68eba5f1"
      },
      "source": [
        "def Data_to_arrays(Data):\n",
        "    # Make a copy of the original dataframe\n",
        "    Data1 = Data.copy(deep=True)\n",
        "    # Convert non-numeric categorical columns to numbers\n",
        "    for col in categorical_cols:\n",
        "        Data1[col] = Data1[col].astype('category').cat.codes\n",
        "    # Extract input & outupts as numpy arrays\n",
        "    inputs_array = Data1[input_cols].to_numpy()\n",
        "    targets_array = Data1[output_cols].to_numpy()\n",
        "    return inputs_array, targets_array\n",
        "\n",
        "inputs_array, targets_array = Data_to_arrays(Data)\n",
        "inputs_array, targets_array"
      ],
      "execution_count": 19,
      "outputs": [
        {
          "output_type": "execute_result",
          "data": {
            "text/plain": [
              "(array([[2.29938e+03, 1.60000e+00, 1.20000e+03, 0.00000e+00],\n",
              "        [2.29938e+03, 3.62300e+01, 6.00000e+03, 0.00000e+00],\n",
              "        [2.29254e+03, 7.74000e+00, 4.99980e+04, 0.00000e+00],\n",
              "        ...,\n",
              "        [2.29482e+03, 5.10000e-01, 3.20000e+04, 0.00000e+00],\n",
              "        [2.29596e+03, 7.49000e+00, 3.90000e+04, 0.00000e+00],\n",
              "        [2.29710e+03, 5.80000e+00, 4.00230e+04, 0.00000e+00]]),\n",
              " array([[ 1.6965],\n",
              "        [38.61  ],\n",
              "        [ 3.4515],\n",
              "        [ 6.1425],\n",
              "        [11.9925],\n",
              "        [ 5.4405],\n",
              "        [ 0.7605],\n",
              "        [ 5.733 ],\n",
              "        [ 5.265 ],\n",
              "        [ 6.786 ],\n",
              "        [ 6.9615],\n",
              "        [10.8225],\n",
              "        [ 3.8025],\n",
              "        [24.2775],\n",
              "        [ 6.1425],\n",
              "        [ 0.1989],\n",
              "        [ 7.3125],\n",
              "        [ 6.1425],\n",
              "        [10.647 ],\n",
              "        [ 1.3455],\n",
              "        [ 3.6855],\n",
              "        [ 9.6525],\n",
              "        [ 0.351 ],\n",
              "        [ 0.351 ],\n",
              "        [10.8225],\n",
              "        [ 9.0675],\n",
              "        [ 2.2815],\n",
              "        [ 3.2175],\n",
              "        [ 0.468 ],\n",
              "        [ 3.51  ],\n",
              "        [ 1.2285],\n",
              "        [ 0.5265],\n",
              "        [ 7.137 ],\n",
              "        [ 8.2485],\n",
              "        [ 6.2595],\n",
              "        [ 9.243 ],\n",
              "        [ 7.488 ],\n",
              "        [ 7.8975],\n",
              "        [ 9.7695],\n",
              "        [ 9.0675],\n",
              "        [ 4.797 ],\n",
              "        [ 0.702 ],\n",
              "        [ 0.6435],\n",
              "        [ 1.287 ],\n",
              "        [13.1625],\n",
              "        [ 4.563 ],\n",
              "        [ 0.702 ],\n",
              "        [ 0.468 ],\n",
              "        [ 5.85  ],\n",
              "        [ 0.468 ],\n",
              "        [ 3.1005],\n",
              "        [ 1.287 ],\n",
              "        [ 4.0833],\n",
              "        [ 5.265 ],\n",
              "        [ 0.9126],\n",
              "        [ 5.5575],\n",
              "        [ 6.318 ],\n",
              "        [ 3.1005],\n",
              "        [ 8.0145],\n",
              "        [ 4.3875],\n",
              "        [ 2.925 ],\n",
              "        [ 0.5265],\n",
              "        [ 7.605 ],\n",
              "        [ 0.1872],\n",
              "        [ 1.287 ],\n",
              "        [ 1.404 ],\n",
              "        [11.115 ],\n",
              "        [ 6.084 ],\n",
              "        [ 0.8775],\n",
              "        [ 0.4095],\n",
              "        [15.093 ],\n",
              "        [ 0.4914],\n",
              "        [ 5.148 ],\n",
              "        [ 0.234 ],\n",
              "        [18.72  ],\n",
              "        [ 3.393 ],\n",
              "        [ 3.627 ],\n",
              "        [ 6.435 ],\n",
              "        [ 1.404 ],\n",
              "        [ 0.7605],\n",
              "        [10.0035],\n",
              "        [ 8.7165],\n",
              "        [ 9.828 ],\n",
              "        [ 0.4095],\n",
              "        [10.5183],\n",
              "        [ 4.68  ],\n",
              "        [ 5.9787],\n",
              "        [ 1.4625],\n",
              "        [ 0.585 ],\n",
              "        [ 3.51  ],\n",
              "        [ 5.265 ],\n",
              "        [ 5.265 ],\n",
              "        [ 5.265 ],\n",
              "        [11.349 ],\n",
              "        [ 6.6105],\n",
              "        [ 5.265 ],\n",
              "        [19.89  ],\n",
              "        [ 9.945 ],\n",
              "        [ 1.1115],\n",
              "        [ 7.02  ],\n",
              "        [ 7.5465],\n",
              "        [ 6.9615],\n",
              "        [ 3.9195],\n",
              "        [ 0.5616],\n",
              "        [ 3.393 ],\n",
              "        [ 0.234 ],\n",
              "        [ 6.435 ],\n",
              "        [10.1205],\n",
              "        [ 0.6435],\n",
              "        [ 4.797 ],\n",
              "        [ 3.51  ],\n",
              "        [26.91  ],\n",
              "        [ 0.117 ],\n",
              "        [23.1075],\n",
              "        [ 0.8424],\n",
              "        [ 0.2925],\n",
              "        [ 3.8025],\n",
              "        [10.8225],\n",
              "        [ 2.6325],\n",
              "        [ 2.34  ],\n",
              "        [ 1.2285],\n",
              "        [ 0.702 ],\n",
              "        [ 6.435 ],\n",
              "        [ 4.8555],\n",
              "        [ 0.5265],\n",
              "        [ 8.7165],\n",
              "        [ 7.1955],\n",
              "        [ 4.2705],\n",
              "        [ 3.1005],\n",
              "        [10.2375],\n",
              "        [ 0.936 ],\n",
              "        [ 5.0895],\n",
              "        [ 6.8445],\n",
              "        [ 4.1067],\n",
              "        [ 0.8775],\n",
              "        [ 4.6215],\n",
              "        [ 0.468 ],\n",
              "        [14.625 ],\n",
              "        [ 8.7165],\n",
              "        [ 2.9835],\n",
              "        [ 4.446 ],\n",
              "        [ 4.095 ],\n",
              "        [ 2.6325],\n",
              "        [ 0.702 ],\n",
              "        [ 5.382 ],\n",
              "        [ 3.627 ],\n",
              "        [ 5.5575],\n",
              "        [26.91  ],\n",
              "        [21.06  ],\n",
              "        [ 0.4914],\n",
              "        [ 0.4095],\n",
              "        [ 5.733 ],\n",
              "        [ 5.5575],\n",
              "        [ 1.5795],\n",
              "        [ 0.468 ],\n",
              "        [ 4.0365],\n",
              "        [ 5.6745],\n",
              "        [ 3.2175],\n",
              "        [ 1.3455],\n",
              "        [ 6.0255],\n",
              "        [ 0.234 ],\n",
              "        [ 0.351 ],\n",
              "        [ 0.3627],\n",
              "        [ 0.8775],\n",
              "        [ 3.51  ],\n",
              "        [ 0.6084],\n",
              "        [ 6.318 ],\n",
              "        [ 3.627 ],\n",
              "        [ 5.5575],\n",
              "        [ 8.775 ],\n",
              "        [ 0.585 ],\n",
              "        [16.6725],\n",
              "        [ 6.201 ],\n",
              "        [10.7055],\n",
              "        [12.753 ],\n",
              "        [ 1.2987],\n",
              "        [ 1.5795],\n",
              "        [ 9.6525],\n",
              "        [ 5.616 ],\n",
              "        [ 3.9195],\n",
              "        [ 4.212 ],\n",
              "        [ 2.9835],\n",
              "        [ 5.265 ],\n",
              "        [13.7475],\n",
              "        [ 0.234 ],\n",
              "        [ 5.5575],\n",
              "        [27.495 ],\n",
              "        [ 0.4446],\n",
              "        [13.1625],\n",
              "        [ 8.658 ],\n",
              "        [ 4.3875],\n",
              "        [17.2341],\n",
              "        [ 0.702 ],\n",
              "        [ 4.563 ],\n",
              "        [ 2.7495],\n",
              "        [ 5.7915],\n",
              "        [ 0.2925],\n",
              "        [11.2905],\n",
              "        [13.3965],\n",
              "        [ 6.8445],\n",
              "        [ 4.68  ],\n",
              "        [ 0.585 ],\n",
              "        [ 0.7605],\n",
              "        [ 1.3455],\n",
              "        [ 0.8775],\n",
              "        [ 3.3345],\n",
              "        [ 6.435 ],\n",
              "        [ 0.5265],\n",
              "        [ 0.5616],\n",
              "        [ 0.5265],\n",
              "        [ 0.2925],\n",
              "        [ 1.9305],\n",
              "        [ 0.234 ],\n",
              "        [ 6.435 ],\n",
              "        [ 2.925 ],\n",
              "        [ 0.5616],\n",
              "        [ 5.5575],\n",
              "        [ 8.4825],\n",
              "        [ 0.702 ],\n",
              "        [ 0.5616],\n",
              "        [ 8.775 ],\n",
              "        [ 0.1404],\n",
              "        [ 1.3455],\n",
              "        [ 3.159 ],\n",
              "        [ 1.755 ],\n",
              "        [ 3.393 ],\n",
              "        [ 9.0675],\n",
              "        [ 5.148 ],\n",
              "        [ 0.2106],\n",
              "        [21.9375],\n",
              "        [ 6.7275],\n",
              "        [ 7.839 ],\n",
              "        [ 0.585 ],\n",
              "        [ 0.585 ],\n",
              "        [ 6.201 ],\n",
              "        [ 3.4515],\n",
              "        [ 8.775 ],\n",
              "        [ 2.0475],\n",
              "        [ 0.702 ],\n",
              "        [ 7.02  ],\n",
              "        [17.433 ],\n",
              "        [11.8287],\n",
              "        [23.3883],\n",
              "        [ 0.4095],\n",
              "        [ 3.8025],\n",
              "        [ 0.5265],\n",
              "        [40.95  ],\n",
              "        [ 7.722 ],\n",
              "        [ 2.6325],\n",
              "        [ 3.3345],\n",
              "        [ 1.5795],\n",
              "        [13.1625],\n",
              "        [ 0.702 ],\n",
              "        [ 1.989 ],\n",
              "        [ 0.1755],\n",
              "        [13.455 ],\n",
              "        [ 0.3159],\n",
              "        [ 0.234 ],\n",
              "        [ 1.17  ],\n",
              "        [ 1.053 ],\n",
              "        [ 1.404 ],\n",
              "        [ 6.1425],\n",
              "        [ 7.02  ],\n",
              "        [ 4.68  ],\n",
              "        [ 0.7605],\n",
              "        [ 4.6215],\n",
              "        [ 7.3125],\n",
              "        [ 6.903 ],\n",
              "        [ 6.1425],\n",
              "        [ 2.2815],\n",
              "        [ 8.1315],\n",
              "        [ 1.2285],\n",
              "        [ 0.5265],\n",
              "        [ 1.053 ],\n",
              "        [ 2.457 ],\n",
              "        [ 4.095 ],\n",
              "        [ 4.68  ],\n",
              "        [ 1.4625],\n",
              "        [ 7.605 ],\n",
              "        [ 6.1425],\n",
              "        [ 0.2925],\n",
              "        [ 5.616 ],\n",
              "        [ 0.2925],\n",
              "        [ 5.7915],\n",
              "        [ 4.68  ]]))"
            ]
          },
          "metadata": {},
          "execution_count": 19
        }
      ]
    },
    {
      "cell_type": "code",
      "metadata": {
        "id": "0AZwULazf2iQ"
      },
      "source": [
        "inputs = torch.Tensor(inputs_array)\n",
        "targets = torch.Tensor(targets_array)\n",
        "\n",
        "dataset = TensorDataset(inputs, targets)\n",
        "train_ds, val_ds = random_split(dataset, [228, 57])\n",
        "batch_size = 128\n",
        "\n",
        "train_loader = DataLoader(train_ds, batch_size, shuffle=True)\n",
        "val_loader = DataLoader(val_ds, batch_size)"
      ],
      "execution_count": 20,
      "outputs": []
    },
    {
      "cell_type": "markdown",
      "metadata": {
        "id": "HF9PmOzdf_o0"
      },
      "source": [
        "**Regression Linear Model using PyTorch **"
      ]
    },
    {
      "cell_type": "code",
      "metadata": {
        "colab": {
          "base_uri": "https://localhost:8080/"
        },
        "id": "8kgK7OTIf84O",
        "outputId": "fe859556-f5b6-4235-b855-f899b1258572"
      },
      "source": [
        "input_size = len(input_cols)\n",
        "output_size = len(output_cols)\n",
        "\n",
        "class CarsModel(nn.Module):\n",
        "    def __init__(self):\n",
        "        super().__init__()\n",
        "        self.linear = nn.Linear(input_size, output_size)\n",
        "\n",
        "    def forward(self, xb):\n",
        "        out = self.linear(xb)                         \n",
        "        return out\n",
        "\n",
        "    def training_step(self, batch):\n",
        "        inputs, targets = batch \n",
        "        # Generate predictions\n",
        "        out = self(inputs) \n",
        "\n",
        "        loss = F.l1_loss(out, targets)                         \n",
        "        return loss\n",
        "\n",
        "    def validation_step(self, batch):\n",
        "        inputs, targets = batch\n",
        "        # Generate predictions\n",
        "        out = self(inputs)\n",
        "        # Calculate loss\n",
        "        loss = F.l1_loss(out, targets)                           # fill this    \n",
        "        return {'val_loss': loss.detach()}\n",
        "        \n",
        "    def validation_epoch_end(self, outputs):\n",
        "        batch_losses = [x['val_loss'] for x in outputs]\n",
        "        epoch_loss = torch.stack(batch_losses).mean()   # Combine losses\n",
        "        return {'val_loss': epoch_loss.item()}\n",
        "    \n",
        "    def epoch_end(self, epoch, result, num_epochs):\n",
        "        # Print result every 20th epoch\n",
        "        if (epoch+1) % 20 == 0 or epoch == num_epochs-1:\n",
        "            print(\"Epoch [{}], val_loss: {:.4f}\".format(epoch+1, result['val_loss']))\n",
        "            \n",
        "model = CarsModel()\n",
        "\n",
        "list(model.parameters())"
      ],
      "execution_count": 25,
      "outputs": [
        {
          "output_type": "execute_result",
          "data": {
            "text/plain": [
              "[Parameter containing:\n",
              " tensor([[ 0.0848,  0.2007, -0.1781, -0.3519]], requires_grad=True),\n",
              " Parameter containing:\n",
              " tensor([-0.2769], requires_grad=True)]"
            ]
          },
          "metadata": {},
          "execution_count": 25
        }
      ]
    },
    {
      "cell_type": "markdown",
      "metadata": {
        "id": "l5VPwK1hg4Pq"
      },
      "source": [
        "Training Model"
      ]
    },
    {
      "cell_type": "code",
      "metadata": {
        "colab": {
          "base_uri": "https://localhost:8080/"
        },
        "id": "58BLekhtgwUf",
        "outputId": "1a4fda74-dd67-47bc-ed24-41ff461280fc"
      },
      "source": [
        "# Eval algorithm\n",
        "def evaluate(model, val_loader):\n",
        "    outputs = [model.validation_step(batch) for batch in val_loader]\n",
        "    return model.validation_epoch_end(outputs)\n",
        "\n",
        "# Fitting algorithm\n",
        "def fit(epochs, lr, model, train_loader, val_loader, opt_func=torch.optim.SGD):\n",
        "    history = []\n",
        "    optimizer = opt_func(model.parameters(), lr)\n",
        "    for epoch in range(epochs):\n",
        "        # Training Phase \n",
        "        for batch in train_loader:\n",
        "            loss = model.training_step(batch)\n",
        "            loss.backward()\n",
        "            optimizer.step()\n",
        "            optimizer.zero_grad()\n",
        "        # Validation phase\n",
        "        result = evaluate(model, val_loader)\n",
        "        model.epoch_end(epoch, result, epochs)\n",
        "        history.append(result)\n",
        "    return history\n",
        "\n",
        "# Check the initial value that val_loss have\n",
        "result = evaluate(model, val_loader)\n",
        "print(result)"
      ],
      "execution_count": 26,
      "outputs": [
        {
          "output_type": "stream",
          "name": "stdout",
          "text": [
            "{'val_loss': 7877.52490234375}\n"
          ]
        }
      ]
    },
    {
      "cell_type": "code",
      "metadata": {
        "colab": {
          "base_uri": "https://localhost:8080/"
        },
        "id": "alsrtdQ1g_kD",
        "outputId": "2208dd76-9288-45a7-d6b8-daae8f1f9896"
      },
      "source": [
        "# Start with the Fitting\n",
        "epochs = 90\n",
        "lr = 1e-8\n",
        "history1 = fit(epochs, lr, model, train_loader, val_loader)"
      ],
      "execution_count": 27,
      "outputs": [
        {
          "output_type": "stream",
          "name": "stdout",
          "text": [
            "Epoch [20], val_loss: 7236.5654\n",
            "Epoch [40], val_loss: 6596.3408\n",
            "Epoch [60], val_loss: 5956.4722\n",
            "Epoch [80], val_loss: 5315.5903\n",
            "Epoch [90], val_loss: 4996.0298\n"
          ]
        }
      ]
    },
    {
      "cell_type": "code",
      "metadata": {
        "colab": {
          "base_uri": "https://localhost:8080/"
        },
        "id": "3F98Rf8zhLq3",
        "outputId": "528f4eb7-b3b1-499e-82eb-69247efd66cd"
      },
      "source": [
        "# Train repeatdly until have a 'good' val_loss\n",
        "epochs = 20\n",
        "lr = 1e-9\n",
        "history1 = fit(epochs, lr, model, train_loader, val_loader)"
      ],
      "execution_count": 28,
      "outputs": [
        {
          "output_type": "stream",
          "name": "stdout",
          "text": [
            "Epoch [20], val_loss: 4932.0898\n"
          ]
        }
      ]
    },
    {
      "cell_type": "markdown",
      "metadata": {
        "id": "_oJ--ks-hUjr"
      },
      "source": [
        "Lets use the model above to predict cars Prices"
      ]
    },
    {
      "cell_type": "code",
      "metadata": {
        "colab": {
          "base_uri": "https://localhost:8080/"
        },
        "id": "RZdS8e4bhRAa",
        "outputId": "fc257480-2d14-4635-939a-a7a88975ffd2"
      },
      "source": [
        "# Prediction Algorithm\n",
        "def predict_single(input, target, model):\n",
        "    inputs = input.unsqueeze(0)\n",
        "    predictions = model(inputs)                \n",
        "    prediction = predictions[0].detach()\n",
        "    print(\"Input:\", input)\n",
        "    print(\"Target:\", target)\n",
        "    print(\"Prediction:\", prediction)\n",
        "\n",
        "# Testing the model with some samples\n",
        "input, target = val_ds[0]\n",
        "predict_single(input, target, model)"
      ],
      "execution_count": 29,
      "outputs": [
        {
          "output_type": "stream",
          "name": "stdout",
          "text": [
            "Input: tensor([2.2971e+03, 1.4700e+00, 2.6000e+04, 0.0000e+00])\n",
            "Target: tensor([1.2870])\n",
            "Prediction: tensor([-2737.1597])\n"
          ]
        }
      ]
    },
    {
      "cell_type": "markdown",
      "metadata": {
        "id": "ubNvCuqjhnrM"
      },
      "source": [
        "lets compare with what we got"
      ]
    },
    {
      "cell_type": "code",
      "metadata": {
        "colab": {
          "base_uri": "https://localhost:8080/"
        },
        "id": "cWtsJ2lVhfdg",
        "outputId": "642169e6-f993-494e-80e3-d3c90e8ee3ed"
      },
      "source": [
        "input, target = val_ds[10]\n",
        "predict_single(input, target, model)"
      ],
      "execution_count": 30,
      "outputs": [
        {
          "output_type": "stream",
          "name": "stdout",
          "text": [
            "Input: tensor([2.2982e+03, 4.4300e+00, 1.2500e+04, 0.0000e+00])\n",
            "Target: tensor([3.3930])\n",
            "Prediction: tensor([-1209.2294])\n"
          ]
        }
      ]
    },
    {
      "cell_type": "markdown",
      "metadata": {
        "id": "5qtQDblwhwgl"
      },
      "source": [
        "its very similar, so it worked out"
      ]
    }
  ]
}