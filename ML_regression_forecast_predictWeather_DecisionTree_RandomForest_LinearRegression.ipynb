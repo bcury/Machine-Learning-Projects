{
  "nbformat": 4,
  "nbformat_minor": 0,
  "metadata": {
    "colab": {
      "name": "ML_regression_forecast_predictWeather_DecisionTree_RandomForest_LinearRegression",
      "provenance": [],
      "collapsed_sections": [],
      "authorship_tag": "ABX9TyMswpwgZvX6cxqP6aTtilve",
      "include_colab_link": true
    },
    "kernelspec": {
      "name": "python3",
      "display_name": "Python 3"
    },
    "language_info": {
      "name": "python"
    }
  },
  "cells": [
    {
      "cell_type": "markdown",
      "metadata": {
        "id": "view-in-github",
        "colab_type": "text"
      },
      "source": [
        "<a href=\"https://colab.research.google.com/github/bcury/Machine-Learning-Projects/blob/main/ML_regression_forecast_predictWeather_DecisionTree_RandomForest_LinearRegression.ipynb\" target=\"_parent\"><img src=\"https://colab.research.google.com/assets/colab-badge.svg\" alt=\"Open In Colab\"/></a>"
      ]
    },
    {
      "cell_type": "code",
      "execution_count": 60,
      "metadata": {
        "id": "magjdO4BMdZL"
      },
      "outputs": [],
      "source": [
        "import pandas as pd\n",
        "import numpy as np\n",
        "import matplotlib.pyplot as plt\n",
        "import seaborn as sns\n",
        "import datetime"
      ]
    },
    {
      "cell_type": "code",
      "source": [
        "base = pd.read_csv('/content/GlobalTemperatures.csv')"
      ],
      "metadata": {
        "id": "cELWK1u3ND40"
      },
      "execution_count": 2,
      "outputs": []
    },
    {
      "cell_type": "code",
      "source": [
        "base.shape"
      ],
      "metadata": {
        "colab": {
          "base_uri": "https://localhost:8080/"
        },
        "id": "sz036PLKNMbM",
        "outputId": "662d9655-fb66-40b3-9eed-a253ee8771ca"
      },
      "execution_count": 3,
      "outputs": [
        {
          "output_type": "execute_result",
          "data": {
            "text/plain": [
              "(3192, 9)"
            ]
          },
          "metadata": {},
          "execution_count": 3
        }
      ]
    },
    {
      "cell_type": "code",
      "source": [
        "base.head()"
      ],
      "metadata": {
        "colab": {
          "base_uri": "https://localhost:8080/",
          "height": 357
        },
        "id": "UJ1BAoGBNNZ-",
        "outputId": "2517329e-4b78-4147-bbb4-fb95b9b36312"
      },
      "execution_count": 4,
      "outputs": [
        {
          "output_type": "execute_result",
          "data": {
            "text/html": [
              "\n",
              "  <div id=\"df-249e2f46-7b98-41d2-902f-c3cf4a58c91b\">\n",
              "    <div class=\"colab-df-container\">\n",
              "      <div>\n",
              "<style scoped>\n",
              "    .dataframe tbody tr th:only-of-type {\n",
              "        vertical-align: middle;\n",
              "    }\n",
              "\n",
              "    .dataframe tbody tr th {\n",
              "        vertical-align: top;\n",
              "    }\n",
              "\n",
              "    .dataframe thead th {\n",
              "        text-align: right;\n",
              "    }\n",
              "</style>\n",
              "<table border=\"1\" class=\"dataframe\">\n",
              "  <thead>\n",
              "    <tr style=\"text-align: right;\">\n",
              "      <th></th>\n",
              "      <th>dt</th>\n",
              "      <th>LandAverageTemperature</th>\n",
              "      <th>LandAverageTemperatureUncertainty</th>\n",
              "      <th>LandMaxTemperature</th>\n",
              "      <th>LandMaxTemperatureUncertainty</th>\n",
              "      <th>LandMinTemperature</th>\n",
              "      <th>LandMinTemperatureUncertainty</th>\n",
              "      <th>LandAndOceanAverageTemperature</th>\n",
              "      <th>LandAndOceanAverageTemperatureUncertainty</th>\n",
              "    </tr>\n",
              "  </thead>\n",
              "  <tbody>\n",
              "    <tr>\n",
              "      <th>0</th>\n",
              "      <td>1750-01-01</td>\n",
              "      <td>3.034</td>\n",
              "      <td>3.574</td>\n",
              "      <td>NaN</td>\n",
              "      <td>NaN</td>\n",
              "      <td>NaN</td>\n",
              "      <td>NaN</td>\n",
              "      <td>NaN</td>\n",
              "      <td>NaN</td>\n",
              "    </tr>\n",
              "    <tr>\n",
              "      <th>1</th>\n",
              "      <td>1750-02-01</td>\n",
              "      <td>3.083</td>\n",
              "      <td>3.702</td>\n",
              "      <td>NaN</td>\n",
              "      <td>NaN</td>\n",
              "      <td>NaN</td>\n",
              "      <td>NaN</td>\n",
              "      <td>NaN</td>\n",
              "      <td>NaN</td>\n",
              "    </tr>\n",
              "    <tr>\n",
              "      <th>2</th>\n",
              "      <td>1750-03-01</td>\n",
              "      <td>5.626</td>\n",
              "      <td>3.076</td>\n",
              "      <td>NaN</td>\n",
              "      <td>NaN</td>\n",
              "      <td>NaN</td>\n",
              "      <td>NaN</td>\n",
              "      <td>NaN</td>\n",
              "      <td>NaN</td>\n",
              "    </tr>\n",
              "    <tr>\n",
              "      <th>3</th>\n",
              "      <td>1750-04-01</td>\n",
              "      <td>8.490</td>\n",
              "      <td>2.451</td>\n",
              "      <td>NaN</td>\n",
              "      <td>NaN</td>\n",
              "      <td>NaN</td>\n",
              "      <td>NaN</td>\n",
              "      <td>NaN</td>\n",
              "      <td>NaN</td>\n",
              "    </tr>\n",
              "    <tr>\n",
              "      <th>4</th>\n",
              "      <td>1750-05-01</td>\n",
              "      <td>11.573</td>\n",
              "      <td>2.072</td>\n",
              "      <td>NaN</td>\n",
              "      <td>NaN</td>\n",
              "      <td>NaN</td>\n",
              "      <td>NaN</td>\n",
              "      <td>NaN</td>\n",
              "      <td>NaN</td>\n",
              "    </tr>\n",
              "  </tbody>\n",
              "</table>\n",
              "</div>\n",
              "      <button class=\"colab-df-convert\" onclick=\"convertToInteractive('df-249e2f46-7b98-41d2-902f-c3cf4a58c91b')\"\n",
              "              title=\"Convert this dataframe to an interactive table.\"\n",
              "              style=\"display:none;\">\n",
              "        \n",
              "  <svg xmlns=\"http://www.w3.org/2000/svg\" height=\"24px\"viewBox=\"0 0 24 24\"\n",
              "       width=\"24px\">\n",
              "    <path d=\"M0 0h24v24H0V0z\" fill=\"none\"/>\n",
              "    <path d=\"M18.56 5.44l.94 2.06.94-2.06 2.06-.94-2.06-.94-.94-2.06-.94 2.06-2.06.94zm-11 1L8.5 8.5l.94-2.06 2.06-.94-2.06-.94L8.5 2.5l-.94 2.06-2.06.94zm10 10l.94 2.06.94-2.06 2.06-.94-2.06-.94-.94-2.06-.94 2.06-2.06.94z\"/><path d=\"M17.41 7.96l-1.37-1.37c-.4-.4-.92-.59-1.43-.59-.52 0-1.04.2-1.43.59L10.3 9.45l-7.72 7.72c-.78.78-.78 2.05 0 2.83L4 21.41c.39.39.9.59 1.41.59.51 0 1.02-.2 1.41-.59l7.78-7.78 2.81-2.81c.8-.78.8-2.07 0-2.86zM5.41 20L4 18.59l7.72-7.72 1.47 1.35L5.41 20z\"/>\n",
              "  </svg>\n",
              "      </button>\n",
              "      \n",
              "  <style>\n",
              "    .colab-df-container {\n",
              "      display:flex;\n",
              "      flex-wrap:wrap;\n",
              "      gap: 12px;\n",
              "    }\n",
              "\n",
              "    .colab-df-convert {\n",
              "      background-color: #E8F0FE;\n",
              "      border: none;\n",
              "      border-radius: 50%;\n",
              "      cursor: pointer;\n",
              "      display: none;\n",
              "      fill: #1967D2;\n",
              "      height: 32px;\n",
              "      padding: 0 0 0 0;\n",
              "      width: 32px;\n",
              "    }\n",
              "\n",
              "    .colab-df-convert:hover {\n",
              "      background-color: #E2EBFA;\n",
              "      box-shadow: 0px 1px 2px rgba(60, 64, 67, 0.3), 0px 1px 3px 1px rgba(60, 64, 67, 0.15);\n",
              "      fill: #174EA6;\n",
              "    }\n",
              "\n",
              "    [theme=dark] .colab-df-convert {\n",
              "      background-color: #3B4455;\n",
              "      fill: #D2E3FC;\n",
              "    }\n",
              "\n",
              "    [theme=dark] .colab-df-convert:hover {\n",
              "      background-color: #434B5C;\n",
              "      box-shadow: 0px 1px 3px 1px rgba(0, 0, 0, 0.15);\n",
              "      filter: drop-shadow(0px 1px 2px rgba(0, 0, 0, 0.3));\n",
              "      fill: #FFFFFF;\n",
              "    }\n",
              "  </style>\n",
              "\n",
              "      <script>\n",
              "        const buttonEl =\n",
              "          document.querySelector('#df-249e2f46-7b98-41d2-902f-c3cf4a58c91b button.colab-df-convert');\n",
              "        buttonEl.style.display =\n",
              "          google.colab.kernel.accessAllowed ? 'block' : 'none';\n",
              "\n",
              "        async function convertToInteractive(key) {\n",
              "          const element = document.querySelector('#df-249e2f46-7b98-41d2-902f-c3cf4a58c91b');\n",
              "          const dataTable =\n",
              "            await google.colab.kernel.invokeFunction('convertToInteractive',\n",
              "                                                     [key], {});\n",
              "          if (!dataTable) return;\n",
              "\n",
              "          const docLinkHtml = 'Like what you see? Visit the ' +\n",
              "            '<a target=\"_blank\" href=https://colab.research.google.com/notebooks/data_table.ipynb>data table notebook</a>'\n",
              "            + ' to learn more about interactive tables.';\n",
              "          element.innerHTML = '';\n",
              "          dataTable['output_type'] = 'display_data';\n",
              "          await google.colab.output.renderOutput(dataTable, element);\n",
              "          const docLink = document.createElement('div');\n",
              "          docLink.innerHTML = docLinkHtml;\n",
              "          element.appendChild(docLink);\n",
              "        }\n",
              "      </script>\n",
              "    </div>\n",
              "  </div>\n",
              "  "
            ],
            "text/plain": [
              "           dt  ...  LandAndOceanAverageTemperatureUncertainty\n",
              "0  1750-01-01  ...                                        NaN\n",
              "1  1750-02-01  ...                                        NaN\n",
              "2  1750-03-01  ...                                        NaN\n",
              "3  1750-04-01  ...                                        NaN\n",
              "4  1750-05-01  ...                                        NaN\n",
              "\n",
              "[5 rows x 9 columns]"
            ]
          },
          "metadata": {},
          "execution_count": 4
        }
      ]
    },
    {
      "cell_type": "code",
      "source": [
        "base.info()"
      ],
      "metadata": {
        "colab": {
          "base_uri": "https://localhost:8080/"
        },
        "id": "1_GYPiRCNPH5",
        "outputId": "5d84d2e3-9953-4558-e398-9c6336e34977"
      },
      "execution_count": 5,
      "outputs": [
        {
          "output_type": "stream",
          "name": "stdout",
          "text": [
            "<class 'pandas.core.frame.DataFrame'>\n",
            "RangeIndex: 3192 entries, 0 to 3191\n",
            "Data columns (total 9 columns):\n",
            " #   Column                                     Non-Null Count  Dtype  \n",
            "---  ------                                     --------------  -----  \n",
            " 0   dt                                         3192 non-null   object \n",
            " 1   LandAverageTemperature                     3180 non-null   float64\n",
            " 2   LandAverageTemperatureUncertainty          3180 non-null   float64\n",
            " 3   LandMaxTemperature                         1992 non-null   float64\n",
            " 4   LandMaxTemperatureUncertainty              1992 non-null   float64\n",
            " 5   LandMinTemperature                         1992 non-null   float64\n",
            " 6   LandMinTemperatureUncertainty              1992 non-null   float64\n",
            " 7   LandAndOceanAverageTemperature             1992 non-null   float64\n",
            " 8   LandAndOceanAverageTemperatureUncertainty  1992 non-null   float64\n",
            "dtypes: float64(8), object(1)\n",
            "memory usage: 224.6+ KB\n"
          ]
        }
      ]
    },
    {
      "cell_type": "code",
      "source": [
        "base.isnull().sum()"
      ],
      "metadata": {
        "colab": {
          "base_uri": "https://localhost:8080/"
        },
        "id": "kF2nN_gXNjAf",
        "outputId": "59cd5135-4896-4080-a840-601e866f5724"
      },
      "execution_count": 6,
      "outputs": [
        {
          "output_type": "execute_result",
          "data": {
            "text/plain": [
              "dt                                              0\n",
              "LandAverageTemperature                         12\n",
              "LandAverageTemperatureUncertainty              12\n",
              "LandMaxTemperature                           1200\n",
              "LandMaxTemperatureUncertainty                1200\n",
              "LandMinTemperature                           1200\n",
              "LandMinTemperatureUncertainty                1200\n",
              "LandAndOceanAverageTemperature               1200\n",
              "LandAndOceanAverageTemperatureUncertainty    1200\n",
              "dtype: int64"
            ]
          },
          "metadata": {},
          "execution_count": 6
        }
      ]
    },
    {
      "cell_type": "code",
      "source": [
        "np.unique(base['LandAndOceanAverageTemperature'], return_counts=True)"
      ],
      "metadata": {
        "colab": {
          "base_uri": "https://localhost:8080/"
        },
        "id": "W3uu9pP3N_v3",
        "outputId": "98410b0c-e01e-494f-cbef-c1246b1b2c58"
      },
      "execution_count": 19,
      "outputs": [
        {
          "output_type": "execute_result",
          "data": {
            "text/plain": [
              "(array([12.475, 12.62 , 12.658, ...,    nan,    nan,    nan]),\n",
              " array([1, 1, 1, ..., 1, 1, 1]))"
            ]
          },
          "metadata": {},
          "execution_count": 19
        }
      ]
    },
    {
      "cell_type": "code",
      "source": [
        "base.loc[pd.isnull(base['LandAndOceanAverageTemperature'])]"
      ],
      "metadata": {
        "colab": {
          "base_uri": "https://localhost:8080/",
          "height": 661
        },
        "id": "N3NAvOKIPr4-",
        "outputId": "69924298-c559-44d7-c1da-f6aba9e980ec"
      },
      "execution_count": 20,
      "outputs": [
        {
          "output_type": "execute_result",
          "data": {
            "text/html": [
              "\n",
              "  <div id=\"df-eb356820-88a4-4509-9b61-9bf6666fd52e\">\n",
              "    <div class=\"colab-df-container\">\n",
              "      <div>\n",
              "<style scoped>\n",
              "    .dataframe tbody tr th:only-of-type {\n",
              "        vertical-align: middle;\n",
              "    }\n",
              "\n",
              "    .dataframe tbody tr th {\n",
              "        vertical-align: top;\n",
              "    }\n",
              "\n",
              "    .dataframe thead th {\n",
              "        text-align: right;\n",
              "    }\n",
              "</style>\n",
              "<table border=\"1\" class=\"dataframe\">\n",
              "  <thead>\n",
              "    <tr style=\"text-align: right;\">\n",
              "      <th></th>\n",
              "      <th>dt</th>\n",
              "      <th>LandAverageTemperature</th>\n",
              "      <th>LandAverageTemperatureUncertainty</th>\n",
              "      <th>LandMaxTemperature</th>\n",
              "      <th>LandMaxTemperatureUncertainty</th>\n",
              "      <th>LandMinTemperature</th>\n",
              "      <th>LandMinTemperatureUncertainty</th>\n",
              "      <th>LandAndOceanAverageTemperature</th>\n",
              "      <th>LandAndOceanAverageTemperatureUncertainty</th>\n",
              "    </tr>\n",
              "  </thead>\n",
              "  <tbody>\n",
              "    <tr>\n",
              "      <th>0</th>\n",
              "      <td>1750-01-01</td>\n",
              "      <td>3.034</td>\n",
              "      <td>3.574</td>\n",
              "      <td>NaN</td>\n",
              "      <td>NaN</td>\n",
              "      <td>NaN</td>\n",
              "      <td>NaN</td>\n",
              "      <td>NaN</td>\n",
              "      <td>NaN</td>\n",
              "    </tr>\n",
              "    <tr>\n",
              "      <th>1</th>\n",
              "      <td>1750-02-01</td>\n",
              "      <td>3.083</td>\n",
              "      <td>3.702</td>\n",
              "      <td>NaN</td>\n",
              "      <td>NaN</td>\n",
              "      <td>NaN</td>\n",
              "      <td>NaN</td>\n",
              "      <td>NaN</td>\n",
              "      <td>NaN</td>\n",
              "    </tr>\n",
              "    <tr>\n",
              "      <th>2</th>\n",
              "      <td>1750-03-01</td>\n",
              "      <td>5.626</td>\n",
              "      <td>3.076</td>\n",
              "      <td>NaN</td>\n",
              "      <td>NaN</td>\n",
              "      <td>NaN</td>\n",
              "      <td>NaN</td>\n",
              "      <td>NaN</td>\n",
              "      <td>NaN</td>\n",
              "    </tr>\n",
              "    <tr>\n",
              "      <th>3</th>\n",
              "      <td>1750-04-01</td>\n",
              "      <td>8.490</td>\n",
              "      <td>2.451</td>\n",
              "      <td>NaN</td>\n",
              "      <td>NaN</td>\n",
              "      <td>NaN</td>\n",
              "      <td>NaN</td>\n",
              "      <td>NaN</td>\n",
              "      <td>NaN</td>\n",
              "    </tr>\n",
              "    <tr>\n",
              "      <th>4</th>\n",
              "      <td>1750-05-01</td>\n",
              "      <td>11.573</td>\n",
              "      <td>2.072</td>\n",
              "      <td>NaN</td>\n",
              "      <td>NaN</td>\n",
              "      <td>NaN</td>\n",
              "      <td>NaN</td>\n",
              "      <td>NaN</td>\n",
              "      <td>NaN</td>\n",
              "    </tr>\n",
              "    <tr>\n",
              "      <th>...</th>\n",
              "      <td>...</td>\n",
              "      <td>...</td>\n",
              "      <td>...</td>\n",
              "      <td>...</td>\n",
              "      <td>...</td>\n",
              "      <td>...</td>\n",
              "      <td>...</td>\n",
              "      <td>...</td>\n",
              "      <td>...</td>\n",
              "    </tr>\n",
              "    <tr>\n",
              "      <th>1195</th>\n",
              "      <td>1849-08-01</td>\n",
              "      <td>13.603</td>\n",
              "      <td>0.902</td>\n",
              "      <td>NaN</td>\n",
              "      <td>NaN</td>\n",
              "      <td>NaN</td>\n",
              "      <td>NaN</td>\n",
              "      <td>NaN</td>\n",
              "      <td>NaN</td>\n",
              "    </tr>\n",
              "    <tr>\n",
              "      <th>1196</th>\n",
              "      <td>1849-09-01</td>\n",
              "      <td>11.093</td>\n",
              "      <td>0.568</td>\n",
              "      <td>NaN</td>\n",
              "      <td>NaN</td>\n",
              "      <td>NaN</td>\n",
              "      <td>NaN</td>\n",
              "      <td>NaN</td>\n",
              "      <td>NaN</td>\n",
              "    </tr>\n",
              "    <tr>\n",
              "      <th>1197</th>\n",
              "      <td>1849-10-01</td>\n",
              "      <td>8.890</td>\n",
              "      <td>0.733</td>\n",
              "      <td>NaN</td>\n",
              "      <td>NaN</td>\n",
              "      <td>NaN</td>\n",
              "      <td>NaN</td>\n",
              "      <td>NaN</td>\n",
              "      <td>NaN</td>\n",
              "    </tr>\n",
              "    <tr>\n",
              "      <th>1198</th>\n",
              "      <td>1849-11-01</td>\n",
              "      <td>5.778</td>\n",
              "      <td>1.313</td>\n",
              "      <td>NaN</td>\n",
              "      <td>NaN</td>\n",
              "      <td>NaN</td>\n",
              "      <td>NaN</td>\n",
              "      <td>NaN</td>\n",
              "      <td>NaN</td>\n",
              "    </tr>\n",
              "    <tr>\n",
              "      <th>1199</th>\n",
              "      <td>1849-12-01</td>\n",
              "      <td>1.923</td>\n",
              "      <td>0.908</td>\n",
              "      <td>NaN</td>\n",
              "      <td>NaN</td>\n",
              "      <td>NaN</td>\n",
              "      <td>NaN</td>\n",
              "      <td>NaN</td>\n",
              "      <td>NaN</td>\n",
              "    </tr>\n",
              "  </tbody>\n",
              "</table>\n",
              "<p>1200 rows × 9 columns</p>\n",
              "</div>\n",
              "      <button class=\"colab-df-convert\" onclick=\"convertToInteractive('df-eb356820-88a4-4509-9b61-9bf6666fd52e')\"\n",
              "              title=\"Convert this dataframe to an interactive table.\"\n",
              "              style=\"display:none;\">\n",
              "        \n",
              "  <svg xmlns=\"http://www.w3.org/2000/svg\" height=\"24px\"viewBox=\"0 0 24 24\"\n",
              "       width=\"24px\">\n",
              "    <path d=\"M0 0h24v24H0V0z\" fill=\"none\"/>\n",
              "    <path d=\"M18.56 5.44l.94 2.06.94-2.06 2.06-.94-2.06-.94-.94-2.06-.94 2.06-2.06.94zm-11 1L8.5 8.5l.94-2.06 2.06-.94-2.06-.94L8.5 2.5l-.94 2.06-2.06.94zm10 10l.94 2.06.94-2.06 2.06-.94-2.06-.94-.94-2.06-.94 2.06-2.06.94z\"/><path d=\"M17.41 7.96l-1.37-1.37c-.4-.4-.92-.59-1.43-.59-.52 0-1.04.2-1.43.59L10.3 9.45l-7.72 7.72c-.78.78-.78 2.05 0 2.83L4 21.41c.39.39.9.59 1.41.59.51 0 1.02-.2 1.41-.59l7.78-7.78 2.81-2.81c.8-.78.8-2.07 0-2.86zM5.41 20L4 18.59l7.72-7.72 1.47 1.35L5.41 20z\"/>\n",
              "  </svg>\n",
              "      </button>\n",
              "      \n",
              "  <style>\n",
              "    .colab-df-container {\n",
              "      display:flex;\n",
              "      flex-wrap:wrap;\n",
              "      gap: 12px;\n",
              "    }\n",
              "\n",
              "    .colab-df-convert {\n",
              "      background-color: #E8F0FE;\n",
              "      border: none;\n",
              "      border-radius: 50%;\n",
              "      cursor: pointer;\n",
              "      display: none;\n",
              "      fill: #1967D2;\n",
              "      height: 32px;\n",
              "      padding: 0 0 0 0;\n",
              "      width: 32px;\n",
              "    }\n",
              "\n",
              "    .colab-df-convert:hover {\n",
              "      background-color: #E2EBFA;\n",
              "      box-shadow: 0px 1px 2px rgba(60, 64, 67, 0.3), 0px 1px 3px 1px rgba(60, 64, 67, 0.15);\n",
              "      fill: #174EA6;\n",
              "    }\n",
              "\n",
              "    [theme=dark] .colab-df-convert {\n",
              "      background-color: #3B4455;\n",
              "      fill: #D2E3FC;\n",
              "    }\n",
              "\n",
              "    [theme=dark] .colab-df-convert:hover {\n",
              "      background-color: #434B5C;\n",
              "      box-shadow: 0px 1px 3px 1px rgba(0, 0, 0, 0.15);\n",
              "      filter: drop-shadow(0px 1px 2px rgba(0, 0, 0, 0.3));\n",
              "      fill: #FFFFFF;\n",
              "    }\n",
              "  </style>\n",
              "\n",
              "      <script>\n",
              "        const buttonEl =\n",
              "          document.querySelector('#df-eb356820-88a4-4509-9b61-9bf6666fd52e button.colab-df-convert');\n",
              "        buttonEl.style.display =\n",
              "          google.colab.kernel.accessAllowed ? 'block' : 'none';\n",
              "\n",
              "        async function convertToInteractive(key) {\n",
              "          const element = document.querySelector('#df-eb356820-88a4-4509-9b61-9bf6666fd52e');\n",
              "          const dataTable =\n",
              "            await google.colab.kernel.invokeFunction('convertToInteractive',\n",
              "                                                     [key], {});\n",
              "          if (!dataTable) return;\n",
              "\n",
              "          const docLinkHtml = 'Like what you see? Visit the ' +\n",
              "            '<a target=\"_blank\" href=https://colab.research.google.com/notebooks/data_table.ipynb>data table notebook</a>'\n",
              "            + ' to learn more about interactive tables.';\n",
              "          element.innerHTML = '';\n",
              "          dataTable['output_type'] = 'display_data';\n",
              "          await google.colab.output.renderOutput(dataTable, element);\n",
              "          const docLink = document.createElement('div');\n",
              "          docLink.innerHTML = docLinkHtml;\n",
              "          element.appendChild(docLink);\n",
              "        }\n",
              "      </script>\n",
              "    </div>\n",
              "  </div>\n",
              "  "
            ],
            "text/plain": [
              "              dt  ...  LandAndOceanAverageTemperatureUncertainty\n",
              "0     1750-01-01  ...                                        NaN\n",
              "1     1750-02-01  ...                                        NaN\n",
              "2     1750-03-01  ...                                        NaN\n",
              "3     1750-04-01  ...                                        NaN\n",
              "4     1750-05-01  ...                                        NaN\n",
              "...          ...  ...                                        ...\n",
              "1195  1849-08-01  ...                                        NaN\n",
              "1196  1849-09-01  ...                                        NaN\n",
              "1197  1849-10-01  ...                                        NaN\n",
              "1198  1849-11-01  ...                                        NaN\n",
              "1199  1849-12-01  ...                                        NaN\n",
              "\n",
              "[1200 rows x 9 columns]"
            ]
          },
          "metadata": {},
          "execution_count": 20
        }
      ]
    },
    {
      "cell_type": "code",
      "source": [
        "base.loc[pd.isnull(base['LandAndOceanAverageTemperature'])]"
      ],
      "metadata": {
        "colab": {
          "base_uri": "https://localhost:8080/",
          "height": 661
        },
        "id": "y93mshYAQFMd",
        "outputId": "ec9e2772-4539-44ea-f9d1-a620f61ba972"
      },
      "execution_count": 21,
      "outputs": [
        {
          "output_type": "execute_result",
          "data": {
            "text/html": [
              "\n",
              "  <div id=\"df-7bf2ac5e-e579-4d36-98ec-6ddf1507bc7e\">\n",
              "    <div class=\"colab-df-container\">\n",
              "      <div>\n",
              "<style scoped>\n",
              "    .dataframe tbody tr th:only-of-type {\n",
              "        vertical-align: middle;\n",
              "    }\n",
              "\n",
              "    .dataframe tbody tr th {\n",
              "        vertical-align: top;\n",
              "    }\n",
              "\n",
              "    .dataframe thead th {\n",
              "        text-align: right;\n",
              "    }\n",
              "</style>\n",
              "<table border=\"1\" class=\"dataframe\">\n",
              "  <thead>\n",
              "    <tr style=\"text-align: right;\">\n",
              "      <th></th>\n",
              "      <th>dt</th>\n",
              "      <th>LandAverageTemperature</th>\n",
              "      <th>LandAverageTemperatureUncertainty</th>\n",
              "      <th>LandMaxTemperature</th>\n",
              "      <th>LandMaxTemperatureUncertainty</th>\n",
              "      <th>LandMinTemperature</th>\n",
              "      <th>LandMinTemperatureUncertainty</th>\n",
              "      <th>LandAndOceanAverageTemperature</th>\n",
              "      <th>LandAndOceanAverageTemperatureUncertainty</th>\n",
              "    </tr>\n",
              "  </thead>\n",
              "  <tbody>\n",
              "    <tr>\n",
              "      <th>0</th>\n",
              "      <td>1750-01-01</td>\n",
              "      <td>3.034</td>\n",
              "      <td>3.574</td>\n",
              "      <td>NaN</td>\n",
              "      <td>NaN</td>\n",
              "      <td>NaN</td>\n",
              "      <td>NaN</td>\n",
              "      <td>NaN</td>\n",
              "      <td>NaN</td>\n",
              "    </tr>\n",
              "    <tr>\n",
              "      <th>1</th>\n",
              "      <td>1750-02-01</td>\n",
              "      <td>3.083</td>\n",
              "      <td>3.702</td>\n",
              "      <td>NaN</td>\n",
              "      <td>NaN</td>\n",
              "      <td>NaN</td>\n",
              "      <td>NaN</td>\n",
              "      <td>NaN</td>\n",
              "      <td>NaN</td>\n",
              "    </tr>\n",
              "    <tr>\n",
              "      <th>2</th>\n",
              "      <td>1750-03-01</td>\n",
              "      <td>5.626</td>\n",
              "      <td>3.076</td>\n",
              "      <td>NaN</td>\n",
              "      <td>NaN</td>\n",
              "      <td>NaN</td>\n",
              "      <td>NaN</td>\n",
              "      <td>NaN</td>\n",
              "      <td>NaN</td>\n",
              "    </tr>\n",
              "    <tr>\n",
              "      <th>3</th>\n",
              "      <td>1750-04-01</td>\n",
              "      <td>8.490</td>\n",
              "      <td>2.451</td>\n",
              "      <td>NaN</td>\n",
              "      <td>NaN</td>\n",
              "      <td>NaN</td>\n",
              "      <td>NaN</td>\n",
              "      <td>NaN</td>\n",
              "      <td>NaN</td>\n",
              "    </tr>\n",
              "    <tr>\n",
              "      <th>4</th>\n",
              "      <td>1750-05-01</td>\n",
              "      <td>11.573</td>\n",
              "      <td>2.072</td>\n",
              "      <td>NaN</td>\n",
              "      <td>NaN</td>\n",
              "      <td>NaN</td>\n",
              "      <td>NaN</td>\n",
              "      <td>NaN</td>\n",
              "      <td>NaN</td>\n",
              "    </tr>\n",
              "    <tr>\n",
              "      <th>...</th>\n",
              "      <td>...</td>\n",
              "      <td>...</td>\n",
              "      <td>...</td>\n",
              "      <td>...</td>\n",
              "      <td>...</td>\n",
              "      <td>...</td>\n",
              "      <td>...</td>\n",
              "      <td>...</td>\n",
              "      <td>...</td>\n",
              "    </tr>\n",
              "    <tr>\n",
              "      <th>1195</th>\n",
              "      <td>1849-08-01</td>\n",
              "      <td>13.603</td>\n",
              "      <td>0.902</td>\n",
              "      <td>NaN</td>\n",
              "      <td>NaN</td>\n",
              "      <td>NaN</td>\n",
              "      <td>NaN</td>\n",
              "      <td>NaN</td>\n",
              "      <td>NaN</td>\n",
              "    </tr>\n",
              "    <tr>\n",
              "      <th>1196</th>\n",
              "      <td>1849-09-01</td>\n",
              "      <td>11.093</td>\n",
              "      <td>0.568</td>\n",
              "      <td>NaN</td>\n",
              "      <td>NaN</td>\n",
              "      <td>NaN</td>\n",
              "      <td>NaN</td>\n",
              "      <td>NaN</td>\n",
              "      <td>NaN</td>\n",
              "    </tr>\n",
              "    <tr>\n",
              "      <th>1197</th>\n",
              "      <td>1849-10-01</td>\n",
              "      <td>8.890</td>\n",
              "      <td>0.733</td>\n",
              "      <td>NaN</td>\n",
              "      <td>NaN</td>\n",
              "      <td>NaN</td>\n",
              "      <td>NaN</td>\n",
              "      <td>NaN</td>\n",
              "      <td>NaN</td>\n",
              "    </tr>\n",
              "    <tr>\n",
              "      <th>1198</th>\n",
              "      <td>1849-11-01</td>\n",
              "      <td>5.778</td>\n",
              "      <td>1.313</td>\n",
              "      <td>NaN</td>\n",
              "      <td>NaN</td>\n",
              "      <td>NaN</td>\n",
              "      <td>NaN</td>\n",
              "      <td>NaN</td>\n",
              "      <td>NaN</td>\n",
              "    </tr>\n",
              "    <tr>\n",
              "      <th>1199</th>\n",
              "      <td>1849-12-01</td>\n",
              "      <td>1.923</td>\n",
              "      <td>0.908</td>\n",
              "      <td>NaN</td>\n",
              "      <td>NaN</td>\n",
              "      <td>NaN</td>\n",
              "      <td>NaN</td>\n",
              "      <td>NaN</td>\n",
              "      <td>NaN</td>\n",
              "    </tr>\n",
              "  </tbody>\n",
              "</table>\n",
              "<p>1200 rows × 9 columns</p>\n",
              "</div>\n",
              "      <button class=\"colab-df-convert\" onclick=\"convertToInteractive('df-7bf2ac5e-e579-4d36-98ec-6ddf1507bc7e')\"\n",
              "              title=\"Convert this dataframe to an interactive table.\"\n",
              "              style=\"display:none;\">\n",
              "        \n",
              "  <svg xmlns=\"http://www.w3.org/2000/svg\" height=\"24px\"viewBox=\"0 0 24 24\"\n",
              "       width=\"24px\">\n",
              "    <path d=\"M0 0h24v24H0V0z\" fill=\"none\"/>\n",
              "    <path d=\"M18.56 5.44l.94 2.06.94-2.06 2.06-.94-2.06-.94-.94-2.06-.94 2.06-2.06.94zm-11 1L8.5 8.5l.94-2.06 2.06-.94-2.06-.94L8.5 2.5l-.94 2.06-2.06.94zm10 10l.94 2.06.94-2.06 2.06-.94-2.06-.94-.94-2.06-.94 2.06-2.06.94z\"/><path d=\"M17.41 7.96l-1.37-1.37c-.4-.4-.92-.59-1.43-.59-.52 0-1.04.2-1.43.59L10.3 9.45l-7.72 7.72c-.78.78-.78 2.05 0 2.83L4 21.41c.39.39.9.59 1.41.59.51 0 1.02-.2 1.41-.59l7.78-7.78 2.81-2.81c.8-.78.8-2.07 0-2.86zM5.41 20L4 18.59l7.72-7.72 1.47 1.35L5.41 20z\"/>\n",
              "  </svg>\n",
              "      </button>\n",
              "      \n",
              "  <style>\n",
              "    .colab-df-container {\n",
              "      display:flex;\n",
              "      flex-wrap:wrap;\n",
              "      gap: 12px;\n",
              "    }\n",
              "\n",
              "    .colab-df-convert {\n",
              "      background-color: #E8F0FE;\n",
              "      border: none;\n",
              "      border-radius: 50%;\n",
              "      cursor: pointer;\n",
              "      display: none;\n",
              "      fill: #1967D2;\n",
              "      height: 32px;\n",
              "      padding: 0 0 0 0;\n",
              "      width: 32px;\n",
              "    }\n",
              "\n",
              "    .colab-df-convert:hover {\n",
              "      background-color: #E2EBFA;\n",
              "      box-shadow: 0px 1px 2px rgba(60, 64, 67, 0.3), 0px 1px 3px 1px rgba(60, 64, 67, 0.15);\n",
              "      fill: #174EA6;\n",
              "    }\n",
              "\n",
              "    [theme=dark] .colab-df-convert {\n",
              "      background-color: #3B4455;\n",
              "      fill: #D2E3FC;\n",
              "    }\n",
              "\n",
              "    [theme=dark] .colab-df-convert:hover {\n",
              "      background-color: #434B5C;\n",
              "      box-shadow: 0px 1px 3px 1px rgba(0, 0, 0, 0.15);\n",
              "      filter: drop-shadow(0px 1px 2px rgba(0, 0, 0, 0.3));\n",
              "      fill: #FFFFFF;\n",
              "    }\n",
              "  </style>\n",
              "\n",
              "      <script>\n",
              "        const buttonEl =\n",
              "          document.querySelector('#df-7bf2ac5e-e579-4d36-98ec-6ddf1507bc7e button.colab-df-convert');\n",
              "        buttonEl.style.display =\n",
              "          google.colab.kernel.accessAllowed ? 'block' : 'none';\n",
              "\n",
              "        async function convertToInteractive(key) {\n",
              "          const element = document.querySelector('#df-7bf2ac5e-e579-4d36-98ec-6ddf1507bc7e');\n",
              "          const dataTable =\n",
              "            await google.colab.kernel.invokeFunction('convertToInteractive',\n",
              "                                                     [key], {});\n",
              "          if (!dataTable) return;\n",
              "\n",
              "          const docLinkHtml = 'Like what you see? Visit the ' +\n",
              "            '<a target=\"_blank\" href=https://colab.research.google.com/notebooks/data_table.ipynb>data table notebook</a>'\n",
              "            + ' to learn more about interactive tables.';\n",
              "          element.innerHTML = '';\n",
              "          dataTable['output_type'] = 'display_data';\n",
              "          await google.colab.output.renderOutput(dataTable, element);\n",
              "          const docLink = document.createElement('div');\n",
              "          docLink.innerHTML = docLinkHtml;\n",
              "          element.appendChild(docLink);\n",
              "        }\n",
              "      </script>\n",
              "    </div>\n",
              "  </div>\n",
              "  "
            ],
            "text/plain": [
              "              dt  ...  LandAndOceanAverageTemperatureUncertainty\n",
              "0     1750-01-01  ...                                        NaN\n",
              "1     1750-02-01  ...                                        NaN\n",
              "2     1750-03-01  ...                                        NaN\n",
              "3     1750-04-01  ...                                        NaN\n",
              "4     1750-05-01  ...                                        NaN\n",
              "...          ...  ...                                        ...\n",
              "1195  1849-08-01  ...                                        NaN\n",
              "1196  1849-09-01  ...                                        NaN\n",
              "1197  1849-10-01  ...                                        NaN\n",
              "1198  1849-11-01  ...                                        NaN\n",
              "1199  1849-12-01  ...                                        NaN\n",
              "\n",
              "[1200 rows x 9 columns]"
            ]
          },
          "metadata": {},
          "execution_count": 21
        }
      ]
    },
    {
      "cell_type": "code",
      "source": [
        "base['LandAndOceanAverageTemperature'].fillna(base['LandAndOceanAverageTemperature'].mean(), inplace = True)"
      ],
      "metadata": {
        "id": "EAIOcenPQu4a"
      },
      "execution_count": 22,
      "outputs": []
    },
    {
      "cell_type": "code",
      "source": [
        "base.head()"
      ],
      "metadata": {
        "colab": {
          "base_uri": "https://localhost:8080/",
          "height": 357
        },
        "id": "0FRBRoXCQ4Ir",
        "outputId": "27e60374-626b-426a-9213-7dc427600bbc"
      },
      "execution_count": 23,
      "outputs": [
        {
          "output_type": "execute_result",
          "data": {
            "text/html": [
              "\n",
              "  <div id=\"df-9e0f191b-792f-42d5-9e50-7016b7365711\">\n",
              "    <div class=\"colab-df-container\">\n",
              "      <div>\n",
              "<style scoped>\n",
              "    .dataframe tbody tr th:only-of-type {\n",
              "        vertical-align: middle;\n",
              "    }\n",
              "\n",
              "    .dataframe tbody tr th {\n",
              "        vertical-align: top;\n",
              "    }\n",
              "\n",
              "    .dataframe thead th {\n",
              "        text-align: right;\n",
              "    }\n",
              "</style>\n",
              "<table border=\"1\" class=\"dataframe\">\n",
              "  <thead>\n",
              "    <tr style=\"text-align: right;\">\n",
              "      <th></th>\n",
              "      <th>dt</th>\n",
              "      <th>LandAverageTemperature</th>\n",
              "      <th>LandAverageTemperatureUncertainty</th>\n",
              "      <th>LandMaxTemperature</th>\n",
              "      <th>LandMaxTemperatureUncertainty</th>\n",
              "      <th>LandMinTemperature</th>\n",
              "      <th>LandMinTemperatureUncertainty</th>\n",
              "      <th>LandAndOceanAverageTemperature</th>\n",
              "      <th>LandAndOceanAverageTemperatureUncertainty</th>\n",
              "    </tr>\n",
              "  </thead>\n",
              "  <tbody>\n",
              "    <tr>\n",
              "      <th>0</th>\n",
              "      <td>1750-01-01</td>\n",
              "      <td>3.034</td>\n",
              "      <td>3.574</td>\n",
              "      <td>NaN</td>\n",
              "      <td>NaN</td>\n",
              "      <td>NaN</td>\n",
              "      <td>NaN</td>\n",
              "      <td>15.212566</td>\n",
              "      <td>NaN</td>\n",
              "    </tr>\n",
              "    <tr>\n",
              "      <th>1</th>\n",
              "      <td>1750-02-01</td>\n",
              "      <td>3.083</td>\n",
              "      <td>3.702</td>\n",
              "      <td>NaN</td>\n",
              "      <td>NaN</td>\n",
              "      <td>NaN</td>\n",
              "      <td>NaN</td>\n",
              "      <td>15.212566</td>\n",
              "      <td>NaN</td>\n",
              "    </tr>\n",
              "    <tr>\n",
              "      <th>2</th>\n",
              "      <td>1750-03-01</td>\n",
              "      <td>5.626</td>\n",
              "      <td>3.076</td>\n",
              "      <td>NaN</td>\n",
              "      <td>NaN</td>\n",
              "      <td>NaN</td>\n",
              "      <td>NaN</td>\n",
              "      <td>15.212566</td>\n",
              "      <td>NaN</td>\n",
              "    </tr>\n",
              "    <tr>\n",
              "      <th>3</th>\n",
              "      <td>1750-04-01</td>\n",
              "      <td>8.490</td>\n",
              "      <td>2.451</td>\n",
              "      <td>NaN</td>\n",
              "      <td>NaN</td>\n",
              "      <td>NaN</td>\n",
              "      <td>NaN</td>\n",
              "      <td>15.212566</td>\n",
              "      <td>NaN</td>\n",
              "    </tr>\n",
              "    <tr>\n",
              "      <th>4</th>\n",
              "      <td>1750-05-01</td>\n",
              "      <td>11.573</td>\n",
              "      <td>2.072</td>\n",
              "      <td>NaN</td>\n",
              "      <td>NaN</td>\n",
              "      <td>NaN</td>\n",
              "      <td>NaN</td>\n",
              "      <td>15.212566</td>\n",
              "      <td>NaN</td>\n",
              "    </tr>\n",
              "  </tbody>\n",
              "</table>\n",
              "</div>\n",
              "      <button class=\"colab-df-convert\" onclick=\"convertToInteractive('df-9e0f191b-792f-42d5-9e50-7016b7365711')\"\n",
              "              title=\"Convert this dataframe to an interactive table.\"\n",
              "              style=\"display:none;\">\n",
              "        \n",
              "  <svg xmlns=\"http://www.w3.org/2000/svg\" height=\"24px\"viewBox=\"0 0 24 24\"\n",
              "       width=\"24px\">\n",
              "    <path d=\"M0 0h24v24H0V0z\" fill=\"none\"/>\n",
              "    <path d=\"M18.56 5.44l.94 2.06.94-2.06 2.06-.94-2.06-.94-.94-2.06-.94 2.06-2.06.94zm-11 1L8.5 8.5l.94-2.06 2.06-.94-2.06-.94L8.5 2.5l-.94 2.06-2.06.94zm10 10l.94 2.06.94-2.06 2.06-.94-2.06-.94-.94-2.06-.94 2.06-2.06.94z\"/><path d=\"M17.41 7.96l-1.37-1.37c-.4-.4-.92-.59-1.43-.59-.52 0-1.04.2-1.43.59L10.3 9.45l-7.72 7.72c-.78.78-.78 2.05 0 2.83L4 21.41c.39.39.9.59 1.41.59.51 0 1.02-.2 1.41-.59l7.78-7.78 2.81-2.81c.8-.78.8-2.07 0-2.86zM5.41 20L4 18.59l7.72-7.72 1.47 1.35L5.41 20z\"/>\n",
              "  </svg>\n",
              "      </button>\n",
              "      \n",
              "  <style>\n",
              "    .colab-df-container {\n",
              "      display:flex;\n",
              "      flex-wrap:wrap;\n",
              "      gap: 12px;\n",
              "    }\n",
              "\n",
              "    .colab-df-convert {\n",
              "      background-color: #E8F0FE;\n",
              "      border: none;\n",
              "      border-radius: 50%;\n",
              "      cursor: pointer;\n",
              "      display: none;\n",
              "      fill: #1967D2;\n",
              "      height: 32px;\n",
              "      padding: 0 0 0 0;\n",
              "      width: 32px;\n",
              "    }\n",
              "\n",
              "    .colab-df-convert:hover {\n",
              "      background-color: #E2EBFA;\n",
              "      box-shadow: 0px 1px 2px rgba(60, 64, 67, 0.3), 0px 1px 3px 1px rgba(60, 64, 67, 0.15);\n",
              "      fill: #174EA6;\n",
              "    }\n",
              "\n",
              "    [theme=dark] .colab-df-convert {\n",
              "      background-color: #3B4455;\n",
              "      fill: #D2E3FC;\n",
              "    }\n",
              "\n",
              "    [theme=dark] .colab-df-convert:hover {\n",
              "      background-color: #434B5C;\n",
              "      box-shadow: 0px 1px 3px 1px rgba(0, 0, 0, 0.15);\n",
              "      filter: drop-shadow(0px 1px 2px rgba(0, 0, 0, 0.3));\n",
              "      fill: #FFFFFF;\n",
              "    }\n",
              "  </style>\n",
              "\n",
              "      <script>\n",
              "        const buttonEl =\n",
              "          document.querySelector('#df-9e0f191b-792f-42d5-9e50-7016b7365711 button.colab-df-convert');\n",
              "        buttonEl.style.display =\n",
              "          google.colab.kernel.accessAllowed ? 'block' : 'none';\n",
              "\n",
              "        async function convertToInteractive(key) {\n",
              "          const element = document.querySelector('#df-9e0f191b-792f-42d5-9e50-7016b7365711');\n",
              "          const dataTable =\n",
              "            await google.colab.kernel.invokeFunction('convertToInteractive',\n",
              "                                                     [key], {});\n",
              "          if (!dataTable) return;\n",
              "\n",
              "          const docLinkHtml = 'Like what you see? Visit the ' +\n",
              "            '<a target=\"_blank\" href=https://colab.research.google.com/notebooks/data_table.ipynb>data table notebook</a>'\n",
              "            + ' to learn more about interactive tables.';\n",
              "          element.innerHTML = '';\n",
              "          dataTable['output_type'] = 'display_data';\n",
              "          await google.colab.output.renderOutput(dataTable, element);\n",
              "          const docLink = document.createElement('div');\n",
              "          docLink.innerHTML = docLinkHtml;\n",
              "          element.appendChild(docLink);\n",
              "        }\n",
              "      </script>\n",
              "    </div>\n",
              "  </div>\n",
              "  "
            ],
            "text/plain": [
              "           dt  ...  LandAndOceanAverageTemperatureUncertainty\n",
              "0  1750-01-01  ...                                        NaN\n",
              "1  1750-02-01  ...                                        NaN\n",
              "2  1750-03-01  ...                                        NaN\n",
              "3  1750-04-01  ...                                        NaN\n",
              "4  1750-05-01  ...                                        NaN\n",
              "\n",
              "[5 rows x 9 columns]"
            ]
          },
          "metadata": {},
          "execution_count": 23
        }
      ]
    },
    {
      "cell_type": "code",
      "source": [
        "base['LandMaxTemperature'].fillna(base['LandMaxTemperature'].mean(), inplace = True)"
      ],
      "metadata": {
        "id": "54RhVy93Q5Bc"
      },
      "execution_count": 24,
      "outputs": []
    },
    {
      "cell_type": "code",
      "source": [
        "base.head()"
      ],
      "metadata": {
        "colab": {
          "base_uri": "https://localhost:8080/",
          "height": 357
        },
        "id": "MCmj217xR0fY",
        "outputId": "af25b2a2-f09e-4733-b5c6-1c95837d511a"
      },
      "execution_count": 25,
      "outputs": [
        {
          "output_type": "execute_result",
          "data": {
            "text/html": [
              "\n",
              "  <div id=\"df-ea5692ab-e471-4298-9608-ca052784da5d\">\n",
              "    <div class=\"colab-df-container\">\n",
              "      <div>\n",
              "<style scoped>\n",
              "    .dataframe tbody tr th:only-of-type {\n",
              "        vertical-align: middle;\n",
              "    }\n",
              "\n",
              "    .dataframe tbody tr th {\n",
              "        vertical-align: top;\n",
              "    }\n",
              "\n",
              "    .dataframe thead th {\n",
              "        text-align: right;\n",
              "    }\n",
              "</style>\n",
              "<table border=\"1\" class=\"dataframe\">\n",
              "  <thead>\n",
              "    <tr style=\"text-align: right;\">\n",
              "      <th></th>\n",
              "      <th>dt</th>\n",
              "      <th>LandAverageTemperature</th>\n",
              "      <th>LandAverageTemperatureUncertainty</th>\n",
              "      <th>LandMaxTemperature</th>\n",
              "      <th>LandMaxTemperatureUncertainty</th>\n",
              "      <th>LandMinTemperature</th>\n",
              "      <th>LandMinTemperatureUncertainty</th>\n",
              "      <th>LandAndOceanAverageTemperature</th>\n",
              "      <th>LandAndOceanAverageTemperatureUncertainty</th>\n",
              "    </tr>\n",
              "  </thead>\n",
              "  <tbody>\n",
              "    <tr>\n",
              "      <th>0</th>\n",
              "      <td>1750-01-01</td>\n",
              "      <td>3.034</td>\n",
              "      <td>3.574</td>\n",
              "      <td>14.350601</td>\n",
              "      <td>NaN</td>\n",
              "      <td>NaN</td>\n",
              "      <td>NaN</td>\n",
              "      <td>15.212566</td>\n",
              "      <td>NaN</td>\n",
              "    </tr>\n",
              "    <tr>\n",
              "      <th>1</th>\n",
              "      <td>1750-02-01</td>\n",
              "      <td>3.083</td>\n",
              "      <td>3.702</td>\n",
              "      <td>14.350601</td>\n",
              "      <td>NaN</td>\n",
              "      <td>NaN</td>\n",
              "      <td>NaN</td>\n",
              "      <td>15.212566</td>\n",
              "      <td>NaN</td>\n",
              "    </tr>\n",
              "    <tr>\n",
              "      <th>2</th>\n",
              "      <td>1750-03-01</td>\n",
              "      <td>5.626</td>\n",
              "      <td>3.076</td>\n",
              "      <td>14.350601</td>\n",
              "      <td>NaN</td>\n",
              "      <td>NaN</td>\n",
              "      <td>NaN</td>\n",
              "      <td>15.212566</td>\n",
              "      <td>NaN</td>\n",
              "    </tr>\n",
              "    <tr>\n",
              "      <th>3</th>\n",
              "      <td>1750-04-01</td>\n",
              "      <td>8.490</td>\n",
              "      <td>2.451</td>\n",
              "      <td>14.350601</td>\n",
              "      <td>NaN</td>\n",
              "      <td>NaN</td>\n",
              "      <td>NaN</td>\n",
              "      <td>15.212566</td>\n",
              "      <td>NaN</td>\n",
              "    </tr>\n",
              "    <tr>\n",
              "      <th>4</th>\n",
              "      <td>1750-05-01</td>\n",
              "      <td>11.573</td>\n",
              "      <td>2.072</td>\n",
              "      <td>14.350601</td>\n",
              "      <td>NaN</td>\n",
              "      <td>NaN</td>\n",
              "      <td>NaN</td>\n",
              "      <td>15.212566</td>\n",
              "      <td>NaN</td>\n",
              "    </tr>\n",
              "  </tbody>\n",
              "</table>\n",
              "</div>\n",
              "      <button class=\"colab-df-convert\" onclick=\"convertToInteractive('df-ea5692ab-e471-4298-9608-ca052784da5d')\"\n",
              "              title=\"Convert this dataframe to an interactive table.\"\n",
              "              style=\"display:none;\">\n",
              "        \n",
              "  <svg xmlns=\"http://www.w3.org/2000/svg\" height=\"24px\"viewBox=\"0 0 24 24\"\n",
              "       width=\"24px\">\n",
              "    <path d=\"M0 0h24v24H0V0z\" fill=\"none\"/>\n",
              "    <path d=\"M18.56 5.44l.94 2.06.94-2.06 2.06-.94-2.06-.94-.94-2.06-.94 2.06-2.06.94zm-11 1L8.5 8.5l.94-2.06 2.06-.94-2.06-.94L8.5 2.5l-.94 2.06-2.06.94zm10 10l.94 2.06.94-2.06 2.06-.94-2.06-.94-.94-2.06-.94 2.06-2.06.94z\"/><path d=\"M17.41 7.96l-1.37-1.37c-.4-.4-.92-.59-1.43-.59-.52 0-1.04.2-1.43.59L10.3 9.45l-7.72 7.72c-.78.78-.78 2.05 0 2.83L4 21.41c.39.39.9.59 1.41.59.51 0 1.02-.2 1.41-.59l7.78-7.78 2.81-2.81c.8-.78.8-2.07 0-2.86zM5.41 20L4 18.59l7.72-7.72 1.47 1.35L5.41 20z\"/>\n",
              "  </svg>\n",
              "      </button>\n",
              "      \n",
              "  <style>\n",
              "    .colab-df-container {\n",
              "      display:flex;\n",
              "      flex-wrap:wrap;\n",
              "      gap: 12px;\n",
              "    }\n",
              "\n",
              "    .colab-df-convert {\n",
              "      background-color: #E8F0FE;\n",
              "      border: none;\n",
              "      border-radius: 50%;\n",
              "      cursor: pointer;\n",
              "      display: none;\n",
              "      fill: #1967D2;\n",
              "      height: 32px;\n",
              "      padding: 0 0 0 0;\n",
              "      width: 32px;\n",
              "    }\n",
              "\n",
              "    .colab-df-convert:hover {\n",
              "      background-color: #E2EBFA;\n",
              "      box-shadow: 0px 1px 2px rgba(60, 64, 67, 0.3), 0px 1px 3px 1px rgba(60, 64, 67, 0.15);\n",
              "      fill: #174EA6;\n",
              "    }\n",
              "\n",
              "    [theme=dark] .colab-df-convert {\n",
              "      background-color: #3B4455;\n",
              "      fill: #D2E3FC;\n",
              "    }\n",
              "\n",
              "    [theme=dark] .colab-df-convert:hover {\n",
              "      background-color: #434B5C;\n",
              "      box-shadow: 0px 1px 3px 1px rgba(0, 0, 0, 0.15);\n",
              "      filter: drop-shadow(0px 1px 2px rgba(0, 0, 0, 0.3));\n",
              "      fill: #FFFFFF;\n",
              "    }\n",
              "  </style>\n",
              "\n",
              "      <script>\n",
              "        const buttonEl =\n",
              "          document.querySelector('#df-ea5692ab-e471-4298-9608-ca052784da5d button.colab-df-convert');\n",
              "        buttonEl.style.display =\n",
              "          google.colab.kernel.accessAllowed ? 'block' : 'none';\n",
              "\n",
              "        async function convertToInteractive(key) {\n",
              "          const element = document.querySelector('#df-ea5692ab-e471-4298-9608-ca052784da5d');\n",
              "          const dataTable =\n",
              "            await google.colab.kernel.invokeFunction('convertToInteractive',\n",
              "                                                     [key], {});\n",
              "          if (!dataTable) return;\n",
              "\n",
              "          const docLinkHtml = 'Like what you see? Visit the ' +\n",
              "            '<a target=\"_blank\" href=https://colab.research.google.com/notebooks/data_table.ipynb>data table notebook</a>'\n",
              "            + ' to learn more about interactive tables.';\n",
              "          element.innerHTML = '';\n",
              "          dataTable['output_type'] = 'display_data';\n",
              "          await google.colab.output.renderOutput(dataTable, element);\n",
              "          const docLink = document.createElement('div');\n",
              "          docLink.innerHTML = docLinkHtml;\n",
              "          element.appendChild(docLink);\n",
              "        }\n",
              "      </script>\n",
              "    </div>\n",
              "  </div>\n",
              "  "
            ],
            "text/plain": [
              "           dt  ...  LandAndOceanAverageTemperatureUncertainty\n",
              "0  1750-01-01  ...                                        NaN\n",
              "1  1750-02-01  ...                                        NaN\n",
              "2  1750-03-01  ...                                        NaN\n",
              "3  1750-04-01  ...                                        NaN\n",
              "4  1750-05-01  ...                                        NaN\n",
              "\n",
              "[5 rows x 9 columns]"
            ]
          },
          "metadata": {},
          "execution_count": 25
        }
      ]
    },
    {
      "cell_type": "code",
      "source": [
        "base['LandMaxTemperatureUncertainty'].fillna(base['LandMaxTemperatureUncertainty'].mean(), inplace = True)"
      ],
      "metadata": {
        "id": "eCp_FWP8R1a2"
      },
      "execution_count": 27,
      "outputs": []
    },
    {
      "cell_type": "code",
      "source": [
        "base['LandMinTemperature'].fillna(base['LandMinTemperature'].mean(), inplace = True)"
      ],
      "metadata": {
        "id": "A37RDA-ySCaf"
      },
      "execution_count": 28,
      "outputs": []
    },
    {
      "cell_type": "code",
      "source": [
        "base['LandMinTemperatureUncertainty'].fillna(base['LandMinTemperatureUncertainty'].mean(), inplace = True)"
      ],
      "metadata": {
        "id": "OhoyEHB2SC9I"
      },
      "execution_count": 29,
      "outputs": []
    },
    {
      "cell_type": "code",
      "source": [
        "base.head()"
      ],
      "metadata": {
        "colab": {
          "base_uri": "https://localhost:8080/",
          "height": 357
        },
        "id": "_qDlPSWlSYu3",
        "outputId": "0eb22645-205c-437e-f94d-80e149fc5892"
      },
      "execution_count": 30,
      "outputs": [
        {
          "output_type": "execute_result",
          "data": {
            "text/html": [
              "\n",
              "  <div id=\"df-0d9088f2-be01-4489-b0c8-6bd6b05d35c6\">\n",
              "    <div class=\"colab-df-container\">\n",
              "      <div>\n",
              "<style scoped>\n",
              "    .dataframe tbody tr th:only-of-type {\n",
              "        vertical-align: middle;\n",
              "    }\n",
              "\n",
              "    .dataframe tbody tr th {\n",
              "        vertical-align: top;\n",
              "    }\n",
              "\n",
              "    .dataframe thead th {\n",
              "        text-align: right;\n",
              "    }\n",
              "</style>\n",
              "<table border=\"1\" class=\"dataframe\">\n",
              "  <thead>\n",
              "    <tr style=\"text-align: right;\">\n",
              "      <th></th>\n",
              "      <th>dt</th>\n",
              "      <th>LandAverageTemperature</th>\n",
              "      <th>LandAverageTemperatureUncertainty</th>\n",
              "      <th>LandMaxTemperature</th>\n",
              "      <th>LandMaxTemperatureUncertainty</th>\n",
              "      <th>LandMinTemperature</th>\n",
              "      <th>LandMinTemperatureUncertainty</th>\n",
              "      <th>LandAndOceanAverageTemperature</th>\n",
              "      <th>LandAndOceanAverageTemperatureUncertainty</th>\n",
              "    </tr>\n",
              "  </thead>\n",
              "  <tbody>\n",
              "    <tr>\n",
              "      <th>0</th>\n",
              "      <td>1750-01-01</td>\n",
              "      <td>3.034</td>\n",
              "      <td>3.574</td>\n",
              "      <td>14.350601</td>\n",
              "      <td>0.479782</td>\n",
              "      <td>2.743595</td>\n",
              "      <td>0.431849</td>\n",
              "      <td>15.212566</td>\n",
              "      <td>NaN</td>\n",
              "    </tr>\n",
              "    <tr>\n",
              "      <th>1</th>\n",
              "      <td>1750-02-01</td>\n",
              "      <td>3.083</td>\n",
              "      <td>3.702</td>\n",
              "      <td>14.350601</td>\n",
              "      <td>0.479782</td>\n",
              "      <td>2.743595</td>\n",
              "      <td>0.431849</td>\n",
              "      <td>15.212566</td>\n",
              "      <td>NaN</td>\n",
              "    </tr>\n",
              "    <tr>\n",
              "      <th>2</th>\n",
              "      <td>1750-03-01</td>\n",
              "      <td>5.626</td>\n",
              "      <td>3.076</td>\n",
              "      <td>14.350601</td>\n",
              "      <td>0.479782</td>\n",
              "      <td>2.743595</td>\n",
              "      <td>0.431849</td>\n",
              "      <td>15.212566</td>\n",
              "      <td>NaN</td>\n",
              "    </tr>\n",
              "    <tr>\n",
              "      <th>3</th>\n",
              "      <td>1750-04-01</td>\n",
              "      <td>8.490</td>\n",
              "      <td>2.451</td>\n",
              "      <td>14.350601</td>\n",
              "      <td>0.479782</td>\n",
              "      <td>2.743595</td>\n",
              "      <td>0.431849</td>\n",
              "      <td>15.212566</td>\n",
              "      <td>NaN</td>\n",
              "    </tr>\n",
              "    <tr>\n",
              "      <th>4</th>\n",
              "      <td>1750-05-01</td>\n",
              "      <td>11.573</td>\n",
              "      <td>2.072</td>\n",
              "      <td>14.350601</td>\n",
              "      <td>0.479782</td>\n",
              "      <td>2.743595</td>\n",
              "      <td>0.431849</td>\n",
              "      <td>15.212566</td>\n",
              "      <td>NaN</td>\n",
              "    </tr>\n",
              "  </tbody>\n",
              "</table>\n",
              "</div>\n",
              "      <button class=\"colab-df-convert\" onclick=\"convertToInteractive('df-0d9088f2-be01-4489-b0c8-6bd6b05d35c6')\"\n",
              "              title=\"Convert this dataframe to an interactive table.\"\n",
              "              style=\"display:none;\">\n",
              "        \n",
              "  <svg xmlns=\"http://www.w3.org/2000/svg\" height=\"24px\"viewBox=\"0 0 24 24\"\n",
              "       width=\"24px\">\n",
              "    <path d=\"M0 0h24v24H0V0z\" fill=\"none\"/>\n",
              "    <path d=\"M18.56 5.44l.94 2.06.94-2.06 2.06-.94-2.06-.94-.94-2.06-.94 2.06-2.06.94zm-11 1L8.5 8.5l.94-2.06 2.06-.94-2.06-.94L8.5 2.5l-.94 2.06-2.06.94zm10 10l.94 2.06.94-2.06 2.06-.94-2.06-.94-.94-2.06-.94 2.06-2.06.94z\"/><path d=\"M17.41 7.96l-1.37-1.37c-.4-.4-.92-.59-1.43-.59-.52 0-1.04.2-1.43.59L10.3 9.45l-7.72 7.72c-.78.78-.78 2.05 0 2.83L4 21.41c.39.39.9.59 1.41.59.51 0 1.02-.2 1.41-.59l7.78-7.78 2.81-2.81c.8-.78.8-2.07 0-2.86zM5.41 20L4 18.59l7.72-7.72 1.47 1.35L5.41 20z\"/>\n",
              "  </svg>\n",
              "      </button>\n",
              "      \n",
              "  <style>\n",
              "    .colab-df-container {\n",
              "      display:flex;\n",
              "      flex-wrap:wrap;\n",
              "      gap: 12px;\n",
              "    }\n",
              "\n",
              "    .colab-df-convert {\n",
              "      background-color: #E8F0FE;\n",
              "      border: none;\n",
              "      border-radius: 50%;\n",
              "      cursor: pointer;\n",
              "      display: none;\n",
              "      fill: #1967D2;\n",
              "      height: 32px;\n",
              "      padding: 0 0 0 0;\n",
              "      width: 32px;\n",
              "    }\n",
              "\n",
              "    .colab-df-convert:hover {\n",
              "      background-color: #E2EBFA;\n",
              "      box-shadow: 0px 1px 2px rgba(60, 64, 67, 0.3), 0px 1px 3px 1px rgba(60, 64, 67, 0.15);\n",
              "      fill: #174EA6;\n",
              "    }\n",
              "\n",
              "    [theme=dark] .colab-df-convert {\n",
              "      background-color: #3B4455;\n",
              "      fill: #D2E3FC;\n",
              "    }\n",
              "\n",
              "    [theme=dark] .colab-df-convert:hover {\n",
              "      background-color: #434B5C;\n",
              "      box-shadow: 0px 1px 3px 1px rgba(0, 0, 0, 0.15);\n",
              "      filter: drop-shadow(0px 1px 2px rgba(0, 0, 0, 0.3));\n",
              "      fill: #FFFFFF;\n",
              "    }\n",
              "  </style>\n",
              "\n",
              "      <script>\n",
              "        const buttonEl =\n",
              "          document.querySelector('#df-0d9088f2-be01-4489-b0c8-6bd6b05d35c6 button.colab-df-convert');\n",
              "        buttonEl.style.display =\n",
              "          google.colab.kernel.accessAllowed ? 'block' : 'none';\n",
              "\n",
              "        async function convertToInteractive(key) {\n",
              "          const element = document.querySelector('#df-0d9088f2-be01-4489-b0c8-6bd6b05d35c6');\n",
              "          const dataTable =\n",
              "            await google.colab.kernel.invokeFunction('convertToInteractive',\n",
              "                                                     [key], {});\n",
              "          if (!dataTable) return;\n",
              "\n",
              "          const docLinkHtml = 'Like what you see? Visit the ' +\n",
              "            '<a target=\"_blank\" href=https://colab.research.google.com/notebooks/data_table.ipynb>data table notebook</a>'\n",
              "            + ' to learn more about interactive tables.';\n",
              "          element.innerHTML = '';\n",
              "          dataTable['output_type'] = 'display_data';\n",
              "          await google.colab.output.renderOutput(dataTable, element);\n",
              "          const docLink = document.createElement('div');\n",
              "          docLink.innerHTML = docLinkHtml;\n",
              "          element.appendChild(docLink);\n",
              "        }\n",
              "      </script>\n",
              "    </div>\n",
              "  </div>\n",
              "  "
            ],
            "text/plain": [
              "           dt  ...  LandAndOceanAverageTemperatureUncertainty\n",
              "0  1750-01-01  ...                                        NaN\n",
              "1  1750-02-01  ...                                        NaN\n",
              "2  1750-03-01  ...                                        NaN\n",
              "3  1750-04-01  ...                                        NaN\n",
              "4  1750-05-01  ...                                        NaN\n",
              "\n",
              "[5 rows x 9 columns]"
            ]
          },
          "metadata": {},
          "execution_count": 30
        }
      ]
    },
    {
      "cell_type": "code",
      "source": [
        "base['LandAndOceanAverageTemperatureUncertainty'].fillna(base['LandAndOceanAverageTemperatureUncertainty'].mean(), inplace = True)"
      ],
      "metadata": {
        "id": "KvjQy1oySZi2"
      },
      "execution_count": 31,
      "outputs": []
    },
    {
      "cell_type": "code",
      "source": [
        "base.head()"
      ],
      "metadata": {
        "colab": {
          "base_uri": "https://localhost:8080/",
          "height": 357
        },
        "id": "FEstKAxXSlTO",
        "outputId": "3d56fee8-04c3-4a06-febb-1e7c1ee7b110"
      },
      "execution_count": 32,
      "outputs": [
        {
          "output_type": "execute_result",
          "data": {
            "text/html": [
              "\n",
              "  <div id=\"df-778d0033-96f2-4d6d-8457-d78af087af01\">\n",
              "    <div class=\"colab-df-container\">\n",
              "      <div>\n",
              "<style scoped>\n",
              "    .dataframe tbody tr th:only-of-type {\n",
              "        vertical-align: middle;\n",
              "    }\n",
              "\n",
              "    .dataframe tbody tr th {\n",
              "        vertical-align: top;\n",
              "    }\n",
              "\n",
              "    .dataframe thead th {\n",
              "        text-align: right;\n",
              "    }\n",
              "</style>\n",
              "<table border=\"1\" class=\"dataframe\">\n",
              "  <thead>\n",
              "    <tr style=\"text-align: right;\">\n",
              "      <th></th>\n",
              "      <th>dt</th>\n",
              "      <th>LandAverageTemperature</th>\n",
              "      <th>LandAverageTemperatureUncertainty</th>\n",
              "      <th>LandMaxTemperature</th>\n",
              "      <th>LandMaxTemperatureUncertainty</th>\n",
              "      <th>LandMinTemperature</th>\n",
              "      <th>LandMinTemperatureUncertainty</th>\n",
              "      <th>LandAndOceanAverageTemperature</th>\n",
              "      <th>LandAndOceanAverageTemperatureUncertainty</th>\n",
              "    </tr>\n",
              "  </thead>\n",
              "  <tbody>\n",
              "    <tr>\n",
              "      <th>0</th>\n",
              "      <td>1750-01-01</td>\n",
              "      <td>3.034</td>\n",
              "      <td>3.574</td>\n",
              "      <td>14.350601</td>\n",
              "      <td>0.479782</td>\n",
              "      <td>2.743595</td>\n",
              "      <td>0.431849</td>\n",
              "      <td>15.212566</td>\n",
              "      <td>0.128532</td>\n",
              "    </tr>\n",
              "    <tr>\n",
              "      <th>1</th>\n",
              "      <td>1750-02-01</td>\n",
              "      <td>3.083</td>\n",
              "      <td>3.702</td>\n",
              "      <td>14.350601</td>\n",
              "      <td>0.479782</td>\n",
              "      <td>2.743595</td>\n",
              "      <td>0.431849</td>\n",
              "      <td>15.212566</td>\n",
              "      <td>0.128532</td>\n",
              "    </tr>\n",
              "    <tr>\n",
              "      <th>2</th>\n",
              "      <td>1750-03-01</td>\n",
              "      <td>5.626</td>\n",
              "      <td>3.076</td>\n",
              "      <td>14.350601</td>\n",
              "      <td>0.479782</td>\n",
              "      <td>2.743595</td>\n",
              "      <td>0.431849</td>\n",
              "      <td>15.212566</td>\n",
              "      <td>0.128532</td>\n",
              "    </tr>\n",
              "    <tr>\n",
              "      <th>3</th>\n",
              "      <td>1750-04-01</td>\n",
              "      <td>8.490</td>\n",
              "      <td>2.451</td>\n",
              "      <td>14.350601</td>\n",
              "      <td>0.479782</td>\n",
              "      <td>2.743595</td>\n",
              "      <td>0.431849</td>\n",
              "      <td>15.212566</td>\n",
              "      <td>0.128532</td>\n",
              "    </tr>\n",
              "    <tr>\n",
              "      <th>4</th>\n",
              "      <td>1750-05-01</td>\n",
              "      <td>11.573</td>\n",
              "      <td>2.072</td>\n",
              "      <td>14.350601</td>\n",
              "      <td>0.479782</td>\n",
              "      <td>2.743595</td>\n",
              "      <td>0.431849</td>\n",
              "      <td>15.212566</td>\n",
              "      <td>0.128532</td>\n",
              "    </tr>\n",
              "  </tbody>\n",
              "</table>\n",
              "</div>\n",
              "      <button class=\"colab-df-convert\" onclick=\"convertToInteractive('df-778d0033-96f2-4d6d-8457-d78af087af01')\"\n",
              "              title=\"Convert this dataframe to an interactive table.\"\n",
              "              style=\"display:none;\">\n",
              "        \n",
              "  <svg xmlns=\"http://www.w3.org/2000/svg\" height=\"24px\"viewBox=\"0 0 24 24\"\n",
              "       width=\"24px\">\n",
              "    <path d=\"M0 0h24v24H0V0z\" fill=\"none\"/>\n",
              "    <path d=\"M18.56 5.44l.94 2.06.94-2.06 2.06-.94-2.06-.94-.94-2.06-.94 2.06-2.06.94zm-11 1L8.5 8.5l.94-2.06 2.06-.94-2.06-.94L8.5 2.5l-.94 2.06-2.06.94zm10 10l.94 2.06.94-2.06 2.06-.94-2.06-.94-.94-2.06-.94 2.06-2.06.94z\"/><path d=\"M17.41 7.96l-1.37-1.37c-.4-.4-.92-.59-1.43-.59-.52 0-1.04.2-1.43.59L10.3 9.45l-7.72 7.72c-.78.78-.78 2.05 0 2.83L4 21.41c.39.39.9.59 1.41.59.51 0 1.02-.2 1.41-.59l7.78-7.78 2.81-2.81c.8-.78.8-2.07 0-2.86zM5.41 20L4 18.59l7.72-7.72 1.47 1.35L5.41 20z\"/>\n",
              "  </svg>\n",
              "      </button>\n",
              "      \n",
              "  <style>\n",
              "    .colab-df-container {\n",
              "      display:flex;\n",
              "      flex-wrap:wrap;\n",
              "      gap: 12px;\n",
              "    }\n",
              "\n",
              "    .colab-df-convert {\n",
              "      background-color: #E8F0FE;\n",
              "      border: none;\n",
              "      border-radius: 50%;\n",
              "      cursor: pointer;\n",
              "      display: none;\n",
              "      fill: #1967D2;\n",
              "      height: 32px;\n",
              "      padding: 0 0 0 0;\n",
              "      width: 32px;\n",
              "    }\n",
              "\n",
              "    .colab-df-convert:hover {\n",
              "      background-color: #E2EBFA;\n",
              "      box-shadow: 0px 1px 2px rgba(60, 64, 67, 0.3), 0px 1px 3px 1px rgba(60, 64, 67, 0.15);\n",
              "      fill: #174EA6;\n",
              "    }\n",
              "\n",
              "    [theme=dark] .colab-df-convert {\n",
              "      background-color: #3B4455;\n",
              "      fill: #D2E3FC;\n",
              "    }\n",
              "\n",
              "    [theme=dark] .colab-df-convert:hover {\n",
              "      background-color: #434B5C;\n",
              "      box-shadow: 0px 1px 3px 1px rgba(0, 0, 0, 0.15);\n",
              "      filter: drop-shadow(0px 1px 2px rgba(0, 0, 0, 0.3));\n",
              "      fill: #FFFFFF;\n",
              "    }\n",
              "  </style>\n",
              "\n",
              "      <script>\n",
              "        const buttonEl =\n",
              "          document.querySelector('#df-778d0033-96f2-4d6d-8457-d78af087af01 button.colab-df-convert');\n",
              "        buttonEl.style.display =\n",
              "          google.colab.kernel.accessAllowed ? 'block' : 'none';\n",
              "\n",
              "        async function convertToInteractive(key) {\n",
              "          const element = document.querySelector('#df-778d0033-96f2-4d6d-8457-d78af087af01');\n",
              "          const dataTable =\n",
              "            await google.colab.kernel.invokeFunction('convertToInteractive',\n",
              "                                                     [key], {});\n",
              "          if (!dataTable) return;\n",
              "\n",
              "          const docLinkHtml = 'Like what you see? Visit the ' +\n",
              "            '<a target=\"_blank\" href=https://colab.research.google.com/notebooks/data_table.ipynb>data table notebook</a>'\n",
              "            + ' to learn more about interactive tables.';\n",
              "          element.innerHTML = '';\n",
              "          dataTable['output_type'] = 'display_data';\n",
              "          await google.colab.output.renderOutput(dataTable, element);\n",
              "          const docLink = document.createElement('div');\n",
              "          docLink.innerHTML = docLinkHtml;\n",
              "          element.appendChild(docLink);\n",
              "        }\n",
              "      </script>\n",
              "    </div>\n",
              "  </div>\n",
              "  "
            ],
            "text/plain": [
              "           dt  ...  LandAndOceanAverageTemperatureUncertainty\n",
              "0  1750-01-01  ...                                   0.128532\n",
              "1  1750-02-01  ...                                   0.128532\n",
              "2  1750-03-01  ...                                   0.128532\n",
              "3  1750-04-01  ...                                   0.128532\n",
              "4  1750-05-01  ...                                   0.128532\n",
              "\n",
              "[5 rows x 9 columns]"
            ]
          },
          "metadata": {},
          "execution_count": 32
        }
      ]
    },
    {
      "cell_type": "code",
      "source": [
        "base['LandAverageTemperatureUncertainty'].fillna(base['LandAverageTemperatureUncertainty'].mean(), inplace = True)"
      ],
      "metadata": {
        "id": "-xsZHx_XS1o3"
      },
      "execution_count": 35,
      "outputs": []
    },
    {
      "cell_type": "code",
      "source": [
        "base['LandAverageTemperature'].fillna(base['LandAverageTemperature'].mean(), inplace = True)"
      ],
      "metadata": {
        "id": "bu2i40onTA0m"
      },
      "execution_count": 37,
      "outputs": []
    },
    {
      "cell_type": "markdown",
      "source": [
        "pronto, valores nulos preenchidos com a média"
      ],
      "metadata": {
        "id": "rbyJqdbBSsVd"
      }
    },
    {
      "cell_type": "code",
      "source": [
        "base.isnull().sum()"
      ],
      "metadata": {
        "colab": {
          "base_uri": "https://localhost:8080/"
        },
        "id": "Bc5tR9AoSmKT",
        "outputId": "cfe5e560-9e20-44bc-b061-d82ad40a0b14"
      },
      "execution_count": 38,
      "outputs": [
        {
          "output_type": "execute_result",
          "data": {
            "text/plain": [
              "dt                                           0\n",
              "LandAverageTemperature                       0\n",
              "LandAverageTemperatureUncertainty            0\n",
              "LandMaxTemperature                           0\n",
              "LandMaxTemperatureUncertainty                0\n",
              "LandMinTemperature                           0\n",
              "LandMinTemperatureUncertainty                0\n",
              "LandAndOceanAverageTemperature               0\n",
              "LandAndOceanAverageTemperatureUncertainty    0\n",
              "dtype: int64"
            ]
          },
          "metadata": {},
          "execution_count": 38
        }
      ]
    },
    {
      "cell_type": "code",
      "source": [
        "base.shape"
      ],
      "metadata": {
        "colab": {
          "base_uri": "https://localhost:8080/"
        },
        "id": "U7x3cLz6Sw8N",
        "outputId": "b3b0f790-c0f0-468e-e38a-924324c6cb49"
      },
      "execution_count": 39,
      "outputs": [
        {
          "output_type": "execute_result",
          "data": {
            "text/plain": [
              "(3192, 9)"
            ]
          },
          "metadata": {},
          "execution_count": 39
        }
      ]
    },
    {
      "cell_type": "code",
      "source": [
        "base.head()"
      ],
      "metadata": {
        "colab": {
          "base_uri": "https://localhost:8080/",
          "height": 357
        },
        "id": "55Ae_oHdTJcq",
        "outputId": "18237af0-8731-4652-e076-01c9a0134e57"
      },
      "execution_count": 40,
      "outputs": [
        {
          "output_type": "execute_result",
          "data": {
            "text/html": [
              "\n",
              "  <div id=\"df-f5ae89b0-7ab2-42c8-bfcc-1c2960fc2b0c\">\n",
              "    <div class=\"colab-df-container\">\n",
              "      <div>\n",
              "<style scoped>\n",
              "    .dataframe tbody tr th:only-of-type {\n",
              "        vertical-align: middle;\n",
              "    }\n",
              "\n",
              "    .dataframe tbody tr th {\n",
              "        vertical-align: top;\n",
              "    }\n",
              "\n",
              "    .dataframe thead th {\n",
              "        text-align: right;\n",
              "    }\n",
              "</style>\n",
              "<table border=\"1\" class=\"dataframe\">\n",
              "  <thead>\n",
              "    <tr style=\"text-align: right;\">\n",
              "      <th></th>\n",
              "      <th>dt</th>\n",
              "      <th>LandAverageTemperature</th>\n",
              "      <th>LandAverageTemperatureUncertainty</th>\n",
              "      <th>LandMaxTemperature</th>\n",
              "      <th>LandMaxTemperatureUncertainty</th>\n",
              "      <th>LandMinTemperature</th>\n",
              "      <th>LandMinTemperatureUncertainty</th>\n",
              "      <th>LandAndOceanAverageTemperature</th>\n",
              "      <th>LandAndOceanAverageTemperatureUncertainty</th>\n",
              "    </tr>\n",
              "  </thead>\n",
              "  <tbody>\n",
              "    <tr>\n",
              "      <th>0</th>\n",
              "      <td>1750-01-01</td>\n",
              "      <td>3.034</td>\n",
              "      <td>3.574</td>\n",
              "      <td>14.350601</td>\n",
              "      <td>0.479782</td>\n",
              "      <td>2.743595</td>\n",
              "      <td>0.431849</td>\n",
              "      <td>15.212566</td>\n",
              "      <td>0.128532</td>\n",
              "    </tr>\n",
              "    <tr>\n",
              "      <th>1</th>\n",
              "      <td>1750-02-01</td>\n",
              "      <td>3.083</td>\n",
              "      <td>3.702</td>\n",
              "      <td>14.350601</td>\n",
              "      <td>0.479782</td>\n",
              "      <td>2.743595</td>\n",
              "      <td>0.431849</td>\n",
              "      <td>15.212566</td>\n",
              "      <td>0.128532</td>\n",
              "    </tr>\n",
              "    <tr>\n",
              "      <th>2</th>\n",
              "      <td>1750-03-01</td>\n",
              "      <td>5.626</td>\n",
              "      <td>3.076</td>\n",
              "      <td>14.350601</td>\n",
              "      <td>0.479782</td>\n",
              "      <td>2.743595</td>\n",
              "      <td>0.431849</td>\n",
              "      <td>15.212566</td>\n",
              "      <td>0.128532</td>\n",
              "    </tr>\n",
              "    <tr>\n",
              "      <th>3</th>\n",
              "      <td>1750-04-01</td>\n",
              "      <td>8.490</td>\n",
              "      <td>2.451</td>\n",
              "      <td>14.350601</td>\n",
              "      <td>0.479782</td>\n",
              "      <td>2.743595</td>\n",
              "      <td>0.431849</td>\n",
              "      <td>15.212566</td>\n",
              "      <td>0.128532</td>\n",
              "    </tr>\n",
              "    <tr>\n",
              "      <th>4</th>\n",
              "      <td>1750-05-01</td>\n",
              "      <td>11.573</td>\n",
              "      <td>2.072</td>\n",
              "      <td>14.350601</td>\n",
              "      <td>0.479782</td>\n",
              "      <td>2.743595</td>\n",
              "      <td>0.431849</td>\n",
              "      <td>15.212566</td>\n",
              "      <td>0.128532</td>\n",
              "    </tr>\n",
              "  </tbody>\n",
              "</table>\n",
              "</div>\n",
              "      <button class=\"colab-df-convert\" onclick=\"convertToInteractive('df-f5ae89b0-7ab2-42c8-bfcc-1c2960fc2b0c')\"\n",
              "              title=\"Convert this dataframe to an interactive table.\"\n",
              "              style=\"display:none;\">\n",
              "        \n",
              "  <svg xmlns=\"http://www.w3.org/2000/svg\" height=\"24px\"viewBox=\"0 0 24 24\"\n",
              "       width=\"24px\">\n",
              "    <path d=\"M0 0h24v24H0V0z\" fill=\"none\"/>\n",
              "    <path d=\"M18.56 5.44l.94 2.06.94-2.06 2.06-.94-2.06-.94-.94-2.06-.94 2.06-2.06.94zm-11 1L8.5 8.5l.94-2.06 2.06-.94-2.06-.94L8.5 2.5l-.94 2.06-2.06.94zm10 10l.94 2.06.94-2.06 2.06-.94-2.06-.94-.94-2.06-.94 2.06-2.06.94z\"/><path d=\"M17.41 7.96l-1.37-1.37c-.4-.4-.92-.59-1.43-.59-.52 0-1.04.2-1.43.59L10.3 9.45l-7.72 7.72c-.78.78-.78 2.05 0 2.83L4 21.41c.39.39.9.59 1.41.59.51 0 1.02-.2 1.41-.59l7.78-7.78 2.81-2.81c.8-.78.8-2.07 0-2.86zM5.41 20L4 18.59l7.72-7.72 1.47 1.35L5.41 20z\"/>\n",
              "  </svg>\n",
              "      </button>\n",
              "      \n",
              "  <style>\n",
              "    .colab-df-container {\n",
              "      display:flex;\n",
              "      flex-wrap:wrap;\n",
              "      gap: 12px;\n",
              "    }\n",
              "\n",
              "    .colab-df-convert {\n",
              "      background-color: #E8F0FE;\n",
              "      border: none;\n",
              "      border-radius: 50%;\n",
              "      cursor: pointer;\n",
              "      display: none;\n",
              "      fill: #1967D2;\n",
              "      height: 32px;\n",
              "      padding: 0 0 0 0;\n",
              "      width: 32px;\n",
              "    }\n",
              "\n",
              "    .colab-df-convert:hover {\n",
              "      background-color: #E2EBFA;\n",
              "      box-shadow: 0px 1px 2px rgba(60, 64, 67, 0.3), 0px 1px 3px 1px rgba(60, 64, 67, 0.15);\n",
              "      fill: #174EA6;\n",
              "    }\n",
              "\n",
              "    [theme=dark] .colab-df-convert {\n",
              "      background-color: #3B4455;\n",
              "      fill: #D2E3FC;\n",
              "    }\n",
              "\n",
              "    [theme=dark] .colab-df-convert:hover {\n",
              "      background-color: #434B5C;\n",
              "      box-shadow: 0px 1px 3px 1px rgba(0, 0, 0, 0.15);\n",
              "      filter: drop-shadow(0px 1px 2px rgba(0, 0, 0, 0.3));\n",
              "      fill: #FFFFFF;\n",
              "    }\n",
              "  </style>\n",
              "\n",
              "      <script>\n",
              "        const buttonEl =\n",
              "          document.querySelector('#df-f5ae89b0-7ab2-42c8-bfcc-1c2960fc2b0c button.colab-df-convert');\n",
              "        buttonEl.style.display =\n",
              "          google.colab.kernel.accessAllowed ? 'block' : 'none';\n",
              "\n",
              "        async function convertToInteractive(key) {\n",
              "          const element = document.querySelector('#df-f5ae89b0-7ab2-42c8-bfcc-1c2960fc2b0c');\n",
              "          const dataTable =\n",
              "            await google.colab.kernel.invokeFunction('convertToInteractive',\n",
              "                                                     [key], {});\n",
              "          if (!dataTable) return;\n",
              "\n",
              "          const docLinkHtml = 'Like what you see? Visit the ' +\n",
              "            '<a target=\"_blank\" href=https://colab.research.google.com/notebooks/data_table.ipynb>data table notebook</a>'\n",
              "            + ' to learn more about interactive tables.';\n",
              "          element.innerHTML = '';\n",
              "          dataTable['output_type'] = 'display_data';\n",
              "          await google.colab.output.renderOutput(dataTable, element);\n",
              "          const docLink = document.createElement('div');\n",
              "          docLink.innerHTML = docLinkHtml;\n",
              "          element.appendChild(docLink);\n",
              "        }\n",
              "      </script>\n",
              "    </div>\n",
              "  </div>\n",
              "  "
            ],
            "text/plain": [
              "           dt  ...  LandAndOceanAverageTemperatureUncertainty\n",
              "0  1750-01-01  ...                                   0.128532\n",
              "1  1750-02-01  ...                                   0.128532\n",
              "2  1750-03-01  ...                                   0.128532\n",
              "3  1750-04-01  ...                                   0.128532\n",
              "4  1750-05-01  ...                                   0.128532\n",
              "\n",
              "[5 rows x 9 columns]"
            ]
          },
          "metadata": {},
          "execution_count": 40
        }
      ]
    },
    {
      "cell_type": "code",
      "source": [
        "base.tail()"
      ],
      "metadata": {
        "colab": {
          "base_uri": "https://localhost:8080/",
          "height": 357
        },
        "id": "wVszBDfKTLp_",
        "outputId": "3bd1eb16-84f5-4b0a-f7a2-00694e6ed22d"
      },
      "execution_count": 41,
      "outputs": [
        {
          "output_type": "execute_result",
          "data": {
            "text/html": [
              "\n",
              "  <div id=\"df-6bea7ffc-0f34-4794-8cae-0f9c0f509826\">\n",
              "    <div class=\"colab-df-container\">\n",
              "      <div>\n",
              "<style scoped>\n",
              "    .dataframe tbody tr th:only-of-type {\n",
              "        vertical-align: middle;\n",
              "    }\n",
              "\n",
              "    .dataframe tbody tr th {\n",
              "        vertical-align: top;\n",
              "    }\n",
              "\n",
              "    .dataframe thead th {\n",
              "        text-align: right;\n",
              "    }\n",
              "</style>\n",
              "<table border=\"1\" class=\"dataframe\">\n",
              "  <thead>\n",
              "    <tr style=\"text-align: right;\">\n",
              "      <th></th>\n",
              "      <th>dt</th>\n",
              "      <th>LandAverageTemperature</th>\n",
              "      <th>LandAverageTemperatureUncertainty</th>\n",
              "      <th>LandMaxTemperature</th>\n",
              "      <th>LandMaxTemperatureUncertainty</th>\n",
              "      <th>LandMinTemperature</th>\n",
              "      <th>LandMinTemperatureUncertainty</th>\n",
              "      <th>LandAndOceanAverageTemperature</th>\n",
              "      <th>LandAndOceanAverageTemperatureUncertainty</th>\n",
              "    </tr>\n",
              "  </thead>\n",
              "  <tbody>\n",
              "    <tr>\n",
              "      <th>3187</th>\n",
              "      <td>2015-08-01</td>\n",
              "      <td>14.755</td>\n",
              "      <td>0.072</td>\n",
              "      <td>20.699</td>\n",
              "      <td>0.110</td>\n",
              "      <td>9.005</td>\n",
              "      <td>0.170</td>\n",
              "      <td>17.589</td>\n",
              "      <td>0.057</td>\n",
              "    </tr>\n",
              "    <tr>\n",
              "      <th>3188</th>\n",
              "      <td>2015-09-01</td>\n",
              "      <td>12.999</td>\n",
              "      <td>0.079</td>\n",
              "      <td>18.845</td>\n",
              "      <td>0.088</td>\n",
              "      <td>7.199</td>\n",
              "      <td>0.229</td>\n",
              "      <td>17.049</td>\n",
              "      <td>0.058</td>\n",
              "    </tr>\n",
              "    <tr>\n",
              "      <th>3189</th>\n",
              "      <td>2015-10-01</td>\n",
              "      <td>10.801</td>\n",
              "      <td>0.102</td>\n",
              "      <td>16.450</td>\n",
              "      <td>0.059</td>\n",
              "      <td>5.232</td>\n",
              "      <td>0.115</td>\n",
              "      <td>16.290</td>\n",
              "      <td>0.062</td>\n",
              "    </tr>\n",
              "    <tr>\n",
              "      <th>3190</th>\n",
              "      <td>2015-11-01</td>\n",
              "      <td>7.433</td>\n",
              "      <td>0.119</td>\n",
              "      <td>12.892</td>\n",
              "      <td>0.093</td>\n",
              "      <td>2.157</td>\n",
              "      <td>0.106</td>\n",
              "      <td>15.252</td>\n",
              "      <td>0.063</td>\n",
              "    </tr>\n",
              "    <tr>\n",
              "      <th>3191</th>\n",
              "      <td>2015-12-01</td>\n",
              "      <td>5.518</td>\n",
              "      <td>0.100</td>\n",
              "      <td>10.725</td>\n",
              "      <td>0.154</td>\n",
              "      <td>0.287</td>\n",
              "      <td>0.099</td>\n",
              "      <td>14.774</td>\n",
              "      <td>0.062</td>\n",
              "    </tr>\n",
              "  </tbody>\n",
              "</table>\n",
              "</div>\n",
              "      <button class=\"colab-df-convert\" onclick=\"convertToInteractive('df-6bea7ffc-0f34-4794-8cae-0f9c0f509826')\"\n",
              "              title=\"Convert this dataframe to an interactive table.\"\n",
              "              style=\"display:none;\">\n",
              "        \n",
              "  <svg xmlns=\"http://www.w3.org/2000/svg\" height=\"24px\"viewBox=\"0 0 24 24\"\n",
              "       width=\"24px\">\n",
              "    <path d=\"M0 0h24v24H0V0z\" fill=\"none\"/>\n",
              "    <path d=\"M18.56 5.44l.94 2.06.94-2.06 2.06-.94-2.06-.94-.94-2.06-.94 2.06-2.06.94zm-11 1L8.5 8.5l.94-2.06 2.06-.94-2.06-.94L8.5 2.5l-.94 2.06-2.06.94zm10 10l.94 2.06.94-2.06 2.06-.94-2.06-.94-.94-2.06-.94 2.06-2.06.94z\"/><path d=\"M17.41 7.96l-1.37-1.37c-.4-.4-.92-.59-1.43-.59-.52 0-1.04.2-1.43.59L10.3 9.45l-7.72 7.72c-.78.78-.78 2.05 0 2.83L4 21.41c.39.39.9.59 1.41.59.51 0 1.02-.2 1.41-.59l7.78-7.78 2.81-2.81c.8-.78.8-2.07 0-2.86zM5.41 20L4 18.59l7.72-7.72 1.47 1.35L5.41 20z\"/>\n",
              "  </svg>\n",
              "      </button>\n",
              "      \n",
              "  <style>\n",
              "    .colab-df-container {\n",
              "      display:flex;\n",
              "      flex-wrap:wrap;\n",
              "      gap: 12px;\n",
              "    }\n",
              "\n",
              "    .colab-df-convert {\n",
              "      background-color: #E8F0FE;\n",
              "      border: none;\n",
              "      border-radius: 50%;\n",
              "      cursor: pointer;\n",
              "      display: none;\n",
              "      fill: #1967D2;\n",
              "      height: 32px;\n",
              "      padding: 0 0 0 0;\n",
              "      width: 32px;\n",
              "    }\n",
              "\n",
              "    .colab-df-convert:hover {\n",
              "      background-color: #E2EBFA;\n",
              "      box-shadow: 0px 1px 2px rgba(60, 64, 67, 0.3), 0px 1px 3px 1px rgba(60, 64, 67, 0.15);\n",
              "      fill: #174EA6;\n",
              "    }\n",
              "\n",
              "    [theme=dark] .colab-df-convert {\n",
              "      background-color: #3B4455;\n",
              "      fill: #D2E3FC;\n",
              "    }\n",
              "\n",
              "    [theme=dark] .colab-df-convert:hover {\n",
              "      background-color: #434B5C;\n",
              "      box-shadow: 0px 1px 3px 1px rgba(0, 0, 0, 0.15);\n",
              "      filter: drop-shadow(0px 1px 2px rgba(0, 0, 0, 0.3));\n",
              "      fill: #FFFFFF;\n",
              "    }\n",
              "  </style>\n",
              "\n",
              "      <script>\n",
              "        const buttonEl =\n",
              "          document.querySelector('#df-6bea7ffc-0f34-4794-8cae-0f9c0f509826 button.colab-df-convert');\n",
              "        buttonEl.style.display =\n",
              "          google.colab.kernel.accessAllowed ? 'block' : 'none';\n",
              "\n",
              "        async function convertToInteractive(key) {\n",
              "          const element = document.querySelector('#df-6bea7ffc-0f34-4794-8cae-0f9c0f509826');\n",
              "          const dataTable =\n",
              "            await google.colab.kernel.invokeFunction('convertToInteractive',\n",
              "                                                     [key], {});\n",
              "          if (!dataTable) return;\n",
              "\n",
              "          const docLinkHtml = 'Like what you see? Visit the ' +\n",
              "            '<a target=\"_blank\" href=https://colab.research.google.com/notebooks/data_table.ipynb>data table notebook</a>'\n",
              "            + ' to learn more about interactive tables.';\n",
              "          element.innerHTML = '';\n",
              "          dataTable['output_type'] = 'display_data';\n",
              "          await google.colab.output.renderOutput(dataTable, element);\n",
              "          const docLink = document.createElement('div');\n",
              "          docLink.innerHTML = docLinkHtml;\n",
              "          element.appendChild(docLink);\n",
              "        }\n",
              "      </script>\n",
              "    </div>\n",
              "  </div>\n",
              "  "
            ],
            "text/plain": [
              "              dt  ...  LandAndOceanAverageTemperatureUncertainty\n",
              "3187  2015-08-01  ...                                      0.057\n",
              "3188  2015-09-01  ...                                      0.058\n",
              "3189  2015-10-01  ...                                      0.062\n",
              "3190  2015-11-01  ...                                      0.063\n",
              "3191  2015-12-01  ...                                      0.062\n",
              "\n",
              "[5 rows x 9 columns]"
            ]
          },
          "metadata": {},
          "execution_count": 41
        }
      ]
    },
    {
      "cell_type": "code",
      "source": [
        "base['dt'] = pd.to_datetime(base.dt, format='%Y-%d-%m')"
      ],
      "metadata": {
        "id": "X8UQEnM4V_Aw"
      },
      "execution_count": 62,
      "outputs": []
    },
    {
      "cell_type": "markdown",
      "source": [
        "**Treinando o modelo**"
      ],
      "metadata": {
        "id": "1e5t9oxDZbwT"
      }
    },
    {
      "cell_type": "code",
      "source": [
        "x = base.iloc[:,[1,2,3,4,5,6,8]].values\n",
        "y = base.iloc[:,7].values"
      ],
      "metadata": {
        "id": "ci2wJs6yTNpi"
      },
      "execution_count": 75,
      "outputs": []
    },
    {
      "cell_type": "code",
      "source": [
        "x.shape"
      ],
      "metadata": {
        "colab": {
          "base_uri": "https://localhost:8080/"
        },
        "id": "a3P5_s24T904",
        "outputId": "fca46885-2bcc-4e5f-c101-cb6d1ee9df34"
      },
      "execution_count": 76,
      "outputs": [
        {
          "output_type": "execute_result",
          "data": {
            "text/plain": [
              "(3192, 7)"
            ]
          },
          "metadata": {},
          "execution_count": 76
        }
      ]
    },
    {
      "cell_type": "code",
      "source": [
        "y.shape"
      ],
      "metadata": {
        "colab": {
          "base_uri": "https://localhost:8080/"
        },
        "id": "Ba6kuLIRVL5J",
        "outputId": "d40a708d-48db-435a-decd-644d36b1b53a"
      },
      "execution_count": 77,
      "outputs": [
        {
          "output_type": "execute_result",
          "data": {
            "text/plain": [
              "(3192,)"
            ]
          },
          "metadata": {},
          "execution_count": 77
        }
      ]
    },
    {
      "cell_type": "code",
      "source": [
        "from sklearn.model_selection import train_test_split"
      ],
      "metadata": {
        "id": "POgHINxoVNM9"
      },
      "execution_count": 78,
      "outputs": []
    },
    {
      "cell_type": "code",
      "source": [
        "x_treino, x_teste, y_treino, y_teste = train_test_split(x, y, test_size=0.25, random_state=0)"
      ],
      "metadata": {
        "id": "xXWzuNznVbio"
      },
      "execution_count": 79,
      "outputs": []
    },
    {
      "cell_type": "code",
      "source": [
        "x_treino.shape"
      ],
      "metadata": {
        "colab": {
          "base_uri": "https://localhost:8080/"
        },
        "id": "loR4URz8Vip8",
        "outputId": "b74b235a-4db4-463c-ebd9-aa95e1a87992"
      },
      "execution_count": 80,
      "outputs": [
        {
          "output_type": "execute_result",
          "data": {
            "text/plain": [
              "(2394, 7)"
            ]
          },
          "metadata": {},
          "execution_count": 80
        }
      ]
    },
    {
      "cell_type": "code",
      "source": [
        "y_treino.shape"
      ],
      "metadata": {
        "colab": {
          "base_uri": "https://localhost:8080/"
        },
        "id": "EeTWHG6fVkyO",
        "outputId": "a5fc82e5-c96b-4002-e2cb-0d5ee10caf3e"
      },
      "execution_count": 81,
      "outputs": [
        {
          "output_type": "execute_result",
          "data": {
            "text/plain": [
              "(2394,)"
            ]
          },
          "metadata": {},
          "execution_count": 81
        }
      ]
    },
    {
      "cell_type": "code",
      "source": [
        "x_teste.shape"
      ],
      "metadata": {
        "colab": {
          "base_uri": "https://localhost:8080/"
        },
        "id": "NXxN7HydVmg4",
        "outputId": "f902664b-aa39-4295-aaac-73ba7792845d"
      },
      "execution_count": 82,
      "outputs": [
        {
          "output_type": "execute_result",
          "data": {
            "text/plain": [
              "(798, 7)"
            ]
          },
          "metadata": {},
          "execution_count": 82
        }
      ]
    },
    {
      "cell_type": "code",
      "source": [
        "y_teste.shape"
      ],
      "metadata": {
        "colab": {
          "base_uri": "https://localhost:8080/"
        },
        "id": "5o2bzDH2VoO4",
        "outputId": "97a0ee3c-896b-46dc-dc23-0b603a7c6a63"
      },
      "execution_count": 83,
      "outputs": [
        {
          "output_type": "execute_result",
          "data": {
            "text/plain": [
              "(798,)"
            ]
          },
          "metadata": {},
          "execution_count": 83
        }
      ]
    },
    {
      "cell_type": "markdown",
      "source": [
        "**Decision Tree**"
      ],
      "metadata": {
        "id": "_1JPwg_YZWkl"
      }
    },
    {
      "cell_type": "code",
      "source": [
        "from sklearn.tree import DecisionTreeRegressor"
      ],
      "metadata": {
        "id": "04Xhd_4FVp_Z"
      },
      "execution_count": 84,
      "outputs": []
    },
    {
      "cell_type": "code",
      "source": [
        "tree = DecisionTreeRegressor(criterion='mse')"
      ],
      "metadata": {
        "id": "-JlSn1plVuss"
      },
      "execution_count": 85,
      "outputs": []
    },
    {
      "cell_type": "code",
      "source": [
        "tree.fit(x_treino, y_treino)"
      ],
      "metadata": {
        "colab": {
          "base_uri": "https://localhost:8080/"
        },
        "id": "3L-QnJohV1SZ",
        "outputId": "3d852ad5-8479-4ac4-9467-f4ca3bbf02c5"
      },
      "execution_count": 86,
      "outputs": [
        {
          "output_type": "stream",
          "name": "stderr",
          "text": [
            "/usr/local/lib/python3.7/dist-packages/sklearn/tree/_classes.py:363: FutureWarning: Criterion 'mse' was deprecated in v1.0 and will be removed in version 1.2. Use `criterion='squared_error'` which is equivalent.\n",
            "  FutureWarning,\n"
          ]
        },
        {
          "output_type": "execute_result",
          "data": {
            "text/plain": [
              "DecisionTreeRegressor(criterion='mse')"
            ]
          },
          "metadata": {},
          "execution_count": 86
        }
      ]
    },
    {
      "cell_type": "code",
      "source": [
        "previsao = tree.predict(x_teste)"
      ],
      "metadata": {
        "id": "PW7MvBE_V5De"
      },
      "execution_count": 87,
      "outputs": []
    },
    {
      "cell_type": "code",
      "source": [
        "previsao"
      ],
      "metadata": {
        "colab": {
          "base_uri": "https://localhost:8080/"
        },
        "id": "9nIUqAiEXFef",
        "outputId": "d8e25fab-ab87-40fa-a0c7-8d7d9cf73304"
      },
      "execution_count": 88,
      "outputs": [
        {
          "output_type": "execute_result",
          "data": {
            "text/plain": [
              "array([15.21256576, 15.719     , 15.21256576, 15.21256576, 15.21256576,\n",
              "       14.054     , 16.792     , 15.21256576, 15.21256576, 16.704     ,\n",
              "       15.21256576, 14.609     , 15.21256576, 15.93      , 16.753     ,\n",
              "       14.331     , 15.493     , 15.372     , 15.21256576, 15.21256576,\n",
              "       17.607     , 15.21256576, 15.21256576, 15.21256576, 15.21256576,\n",
              "       15.21256576, 16.543     , 13.936     , 15.21256576, 13.129     ,\n",
              "       15.285     , 13.467     , 16.591     , 15.21256576, 15.21256576,\n",
              "       15.254     , 15.936     , 16.613     , 13.364     , 16.304     ,\n",
              "       16.152     , 13.264     , 13.506     , 15.21256576, 15.21256576,\n",
              "       15.21256576, 15.21256576, 15.228     , 15.21256576, 15.808     ,\n",
              "       15.21256576, 14.902     , 14.157     , 13.777     , 13.417     ,\n",
              "       15.735     , 14.873     , 16.552     , 15.21256576, 15.21256576,\n",
              "       14.299     , 15.21256576, 15.21256576, 16.444     , 15.21256576,\n",
              "       15.21256576, 13.852     , 15.21256576, 15.21256576, 15.21256576,\n",
              "       15.21256576, 15.076     , 16.361     , 15.217     , 15.21256576,\n",
              "       15.21256576, 16.226     , 16.783     , 13.658     , 15.21256576,\n",
              "       17.578     , 15.21256576, 14.871     , 17.06      , 15.21256576,\n",
              "       13.903     , 16.757     , 15.847     , 13.886     , 13.331     ,\n",
              "       15.21256576, 14.273     , 15.831     , 14.945     , 15.21256576,\n",
              "       13.396     , 13.527     , 15.987     , 15.21256576, 13.673     ,\n",
              "       13.886     , 15.21256576, 15.21256576, 15.859     , 15.21256576,\n",
              "       15.859     , 15.21256576, 15.21256576, 15.095     , 15.982     ,\n",
              "       15.274     , 16.795     , 15.21256576, 15.21256576, 15.21256576,\n",
              "       17.611     , 15.076     , 16.427     , 16.063     , 15.21256576,\n",
              "       13.862     , 14.931     , 13.932     , 13.316     , 16.166     ,\n",
              "       14.995     , 15.077     , 15.21256576, 15.21256576, 15.21256576,\n",
              "       17.15      , 16.975     , 14.945     , 14.006     , 15.21256576,\n",
              "       14.023     , 15.353     , 13.49      , 15.062     , 17.049     ,\n",
              "       15.21256576, 13.585     , 15.197     , 15.011     , 16.665     ,\n",
              "       15.956     , 16.36      , 15.21256576, 13.407     , 16.382     ,\n",
              "       15.21256576, 16.36      , 15.868     , 15.21256576, 15.21256576,\n",
              "       14.187     , 14.355     , 15.21256576, 17.183     , 13.264     ,\n",
              "       15.21256576, 15.662     , 14.202     , 14.919     , 15.679     ,\n",
              "       15.21256576, 15.21256576, 12.828     , 14.857     , 15.884     ,\n",
              "       15.21256576, 15.21256576, 16.497     , 15.21256576, 15.21256576,\n",
              "       13.263     , 15.21256576, 15.21256576, 15.21256576, 16.792     ,\n",
              "       16.515     , 15.21256576, 16.707     , 15.337     , 16.932     ,\n",
              "       15.21256576, 16.638     , 15.21256576, 16.917     , 15.21256576,\n",
              "       15.21256576, 15.21256576, 16.497     , 15.683     , 15.21256576,\n",
              "       14.11      , 13.154     , 15.762     , 15.298     , 15.21256576,\n",
              "       14.013     , 14.068     , 14.254     , 14.607     , 15.21256576,\n",
              "       16.707     , 17.45      , 15.21256576, 14.161     , 15.624     ,\n",
              "       15.21256576, 14.941     , 15.21256576, 13.684     , 15.21256576,\n",
              "       15.21256576, 13.458     , 14.351     , 17.06      , 15.232     ,\n",
              "       15.21256576, 15.21256576, 14.141     , 16.831     , 14.388     ,\n",
              "       15.21256576, 15.21256576, 15.21256576, 13.586     , 15.285     ,\n",
              "       14.159     , 15.971     , 15.21256576, 15.21256576, 13.655     ,\n",
              "       16.303     , 15.21256576, 15.21256576, 17.061     , 15.507     ,\n",
              "       15.881     , 16.102     , 14.343     , 13.264     , 15.21256576,\n",
              "       15.21256576, 15.21256576, 15.21256576, 14.233     , 15.21256576,\n",
              "       15.21256576, 15.21256576, 15.21256576, 16.532     , 15.21256576,\n",
              "       15.21256576, 15.21256576, 15.011     , 13.627     , 15.21256576,\n",
              "       14.325     , 15.675     , 16.792     , 16.596     , 14.404     ,\n",
              "       15.21256576, 14.1       , 13.518     , 13.704     , 15.823     ,\n",
              "       15.21256576, 13.316     , 16.281     , 15.21256576, 16.197     ,\n",
              "       15.957     , 15.21256576, 16.539     , 16.244     , 13.417     ,\n",
              "       14.991     , 13.29      , 13.664     , 14.014     , 16.294     ,\n",
              "       16.846     , 14.673     , 15.076     , 15.21256576, 13.451     ,\n",
              "       13.435     , 15.21256576, 15.21256576, 13.271     , 16.742     ,\n",
              "       13.545     , 15.21256576, 14.417     , 15.21256576, 15.226     ,\n",
              "       14.193     , 15.21256576, 14.353     , 13.417     , 15.217     ,\n",
              "       15.21256576, 16.532     , 15.645     , 15.21256576, 15.624     ,\n",
              "       14.941     , 15.927     , 13.627     , 15.152     , 13.576     ,\n",
              "       15.743     , 15.21256576, 15.821     , 16.569     , 17.246     ,\n",
              "       15.21256576, 15.21256576, 15.21256576, 16.191     , 17.047     ,\n",
              "       15.21256576, 15.21256576, 15.21256576, 15.21256576, 16.223     ,\n",
              "       14.536     , 14.151     , 15.431     , 15.21256576, 16.699     ,\n",
              "       15.21256576, 17.155     , 15.21256576, 15.21256576, 15.21256576,\n",
              "       15.031     , 15.21256576, 15.307     , 16.683     , 15.21256576,\n",
              "       16.29      , 14.169     , 14.068     , 13.627     , 15.21256576,\n",
              "       15.21256576, 16.675     , 15.21256576, 15.21256576, 13.299     ,\n",
              "       15.019     , 15.21256576, 15.21256576, 16.074     , 15.21256576,\n",
              "       13.506     , 15.21256576, 14.538     , 13.394     , 16.596     ,\n",
              "       16.08      , 15.21256576, 15.21256576, 13.177     , 15.743     ,\n",
              "       15.21256576, 14.825     , 14.126     , 14.987     , 13.829     ,\n",
              "       17.375     , 14.193     , 13.367     , 15.21256576, 15.21256576,\n",
              "       14.298     , 15.21256576, 13.644     , 16.695     , 16.472     ,\n",
              "       15.21256576, 16.465     , 15.21256576, 15.21256576, 14.838     ,\n",
              "       15.21256576, 15.423     , 14.001     , 15.21256576, 15.21256576,\n",
              "       15.21256576, 14.313     , 13.801     , 14.555     , 15.21256576,\n",
              "       15.21256576, 15.21256576, 14.609     , 16.786     , 14.079     ,\n",
              "       15.21256576, 16.569     , 15.21256576, 16.529     , 15.095     ,\n",
              "       15.541     , 15.21256576, 15.21256576, 13.63      , 17.45      ,\n",
              "       13.968     , 15.21256576, 13.63      , 16.796     , 14.639     ,\n",
              "       15.21256576, 15.21256576, 15.21256576, 16.695     , 15.21256576,\n",
              "       16.427     , 15.21256576, 13.006     , 13.724     , 15.21256576,\n",
              "       15.21256576, 16.379     , 16.543     , 16.783     , 15.21256576,\n",
              "       15.21256576, 15.21256576, 13.518     , 16.356     , 15.21256576,\n",
              "       15.743     , 16.975     , 15.21256576, 17.039     , 15.762     ,\n",
              "       16.427     , 15.21256576, 15.21256576, 14.203     , 15.081     ,\n",
              "       15.21256576, 15.44      , 15.573     , 16.279     , 13.039     ,\n",
              "       15.21256576, 13.968     , 13.95      , 14.958     , 15.21256576,\n",
              "       14.388     , 13.604     , 15.875     , 13.903     , 14.089     ,\n",
              "       15.913     , 15.116     , 15.21256576, 15.21256576, 13.732     ,\n",
              "       15.21256576, 15.21256576, 16.175     , 14.514     , 15.868     ,\n",
              "       15.21256576, 16.83      , 15.21256576, 15.21256576, 14.169     ,\n",
              "       15.082     , 13.971     , 15.913     , 15.998     , 16.612     ,\n",
              "       17.611     , 16.173     , 15.21256576, 13.656     , 15.931     ,\n",
              "       15.587     , 15.21256576, 17.216     , 16.924     , 13.963     ,\n",
              "       13.787     , 15.21256576, 14.58      , 13.488     , 16.675     ,\n",
              "       14.101     , 15.21256576, 15.165     , 16.899     , 15.21256576,\n",
              "       14.555     , 14.121     , 15.21256576, 15.21256576, 15.373     ,\n",
              "       16.476     , 15.21256576, 15.21256576, 14.801     , 17.45      ,\n",
              "       15.541     , 16.358     , 15.21256576, 13.039     , 15.21256576,\n",
              "       16.848     , 14.206     , 13.946     , 16.593     , 13.566     ,\n",
              "       15.998     , 16.745     , 13.32      , 15.21256576, 15.21256576,\n",
              "       15.21256576, 13.801     , 15.21256576, 13.518     , 15.21256576,\n",
              "       15.21256576, 17.054     , 13.604     , 13.75      , 15.21256576,\n",
              "       15.21256576, 15.152     , 14.287     , 16.593     , 15.855     ,\n",
              "       15.21256576, 15.315     , 17.036     , 13.932     , 14.036     ,\n",
              "       15.21256576, 15.21256576, 15.21256576, 14.41      , 14.544     ,\n",
              "       13.711     , 16.795     , 15.21256576, 16.152     , 15.21256576,\n",
              "       15.21256576, 15.21256576, 15.21256576, 16.924     , 15.21256576,\n",
              "       15.21256576, 15.21256576, 15.21256576, 15.21256576, 16.375     ,\n",
              "       13.331     , 14.033     , 13.691     , 14.401     , 16.985     ,\n",
              "       15.21256576, 15.21256576, 15.918     , 15.21256576, 16.22      ,\n",
              "       15.21256576, 15.21256576, 15.21256576, 13.968     , 15.21256576,\n",
              "       16.848     , 16.543     , 15.21256576, 13.818     , 15.267     ,\n",
              "       15.21256576, 16.064     , 13.739     , 15.21256576, 15.21256576,\n",
              "       13.724     , 15.21256576, 16.638     , 15.21256576, 15.992     ,\n",
              "       14.83      , 15.589     , 15.21256576, 15.21256576, 16.223     ,\n",
              "       15.21256576, 15.21256576, 16.174     , 15.21256576, 14.241     ,\n",
              "       15.187     , 15.21256576, 13.627     , 15.21256576, 16.58      ,\n",
              "       15.21256576, 15.419     , 15.21256576, 13.993     , 16.335     ,\n",
              "       16.429     , 15.21256576, 15.85      , 15.21256576, 15.21256576,\n",
              "       15.011     , 16.434     , 15.21256576, 15.061     , 15.21256576,\n",
              "       16.864     , 15.998     , 15.907     , 14.126     , 15.1       ,\n",
              "       15.629     , 14.564     , 16.496     , 15.21256576, 15.21256576,\n",
              "       16.783     , 15.355     , 15.21256576, 16.338     , 13.63      ,\n",
              "       16.612     , 13.24      , 15.21256576, 14.254     , 15.21256576,\n",
              "       16.312     , 15.21256576, 15.651     , 15.21256576, 15.031     ,\n",
              "       13.872     , 15.018     , 16.786     , 14.169     , 13.279     ,\n",
              "       15.21256576, 15.266     , 15.21256576, 15.21256576, 15.516     ,\n",
              "       15.21256576, 16.191     , 13.829     , 14.298     , 15.21256576,\n",
              "       16.279     , 15.21256576, 15.21256576, 16.174     , 17.578     ,\n",
              "       16.843     , 15.21256576, 15.21256576, 16.223     , 16.988     ,\n",
              "       15.21256576, 15.21256576, 15.21256576, 14.435     , 14.475     ,\n",
              "       15.21256576, 16.665     , 15.21256576, 14.11      , 14.169     ,\n",
              "       14.407     , 15.266     , 15.159     , 16.906     , 15.21256576,\n",
              "       15.21256576, 13.722     , 14.019     , 15.21256576, 15.21256576,\n",
              "       15.21256576, 15.21256576, 15.21256576, 13.217     , 13.732     ,\n",
              "       15.21256576, 16.552     , 15.21256576, 15.528     , 15.21256576,\n",
              "       14.033     , 15.21256576, 15.419     , 15.21256576, 16.671     ,\n",
              "       13.655     , 15.21256576, 13.814     , 15.011     , 14.273     ,\n",
              "       15.21256576, 14.475     , 15.011     , 13.26      , 15.793     ,\n",
              "       15.21256576, 15.21256576, 13.316     , 15.17      , 16.144     ,\n",
              "       15.21256576, 14.407     , 15.21256576, 15.21256576, 15.21256576,\n",
              "       16.695     , 15.21256576, 16.707     , 16.515     , 15.227     ,\n",
              "       13.538     , 15.21256576, 13.518     , 16.912     , 15.21256576,\n",
              "       15.266     , 15.21256576, 15.21256576, 15.683     , 15.21256576,\n",
              "       15.21256576, 15.21256576, 15.21256576, 16.437     , 13.714     ,\n",
              "       15.21256576, 15.21256576, 16.686     , 15.21256576, 13.732     ,\n",
              "       14.313     , 15.21256576, 16.732     , 15.21256576, 15.21256576,\n",
              "       15.821     , 16.427     , 15.21256576, 15.384     , 16.175     ,\n",
              "       15.21256576, 13.263     , 15.21256576, 16.494     , 15.21256576,\n",
              "       15.21256576, 15.21256576, 15.21256576, 13.307     , 15.21256576,\n",
              "       14.211     , 17.052     , 15.21256576, 16.662     , 13.724     ,\n",
              "       13.279     , 13.673     , 15.21256576, 15.21256576, 13.731     ,\n",
              "       15.21256576, 15.965     , 15.005     , 15.21256576, 16.511     ,\n",
              "       15.21256576, 13.691     , 13.714     ])"
            ]
          },
          "metadata": {},
          "execution_count": 88
        }
      ]
    },
    {
      "cell_type": "code",
      "source": [
        "y_teste"
      ],
      "metadata": {
        "colab": {
          "base_uri": "https://localhost:8080/"
        },
        "id": "gkCZsOmMXGq0",
        "outputId": "0d4ef88f-987d-4140-c07a-728e5217ed1e"
      },
      "execution_count": 89,
      "outputs": [
        {
          "output_type": "execute_result",
          "data": {
            "text/plain": [
              "array([15.21256576, 15.656     , 15.21256576, 15.21256576, 15.21256576,\n",
              "       13.933     , 16.273     , 15.21256576, 15.21256576, 16.796     ,\n",
              "       15.21256576, 14.516     , 15.21256576, 15.62      , 16.725     ,\n",
              "       14.453     , 15.455     , 15.27      , 15.21256576, 15.21256576,\n",
              "       17.423     , 15.21256576, 15.21256576, 15.21256576, 15.21256576,\n",
              "       15.21256576, 16.716     , 13.81      , 15.21256576, 13.206     ,\n",
              "       15.181     , 13.321     , 16.49      , 15.21256576, 15.21256576,\n",
              "       15.19      , 15.641     , 16.553     , 13.344     , 16.45      ,\n",
              "       16.212     , 13.555     , 13.529     , 15.21256576, 15.21256576,\n",
              "       15.21256576, 15.21256576, 15.065     , 15.21256576, 15.962     ,\n",
              "       15.21256576, 14.918     , 14.061     , 13.526     , 13.176     ,\n",
              "       15.819     , 14.982     , 16.582     , 15.21256576, 15.21256576,\n",
              "       14.418     , 15.21256576, 15.21256576, 16.309     , 15.21256576,\n",
              "       15.21256576, 13.928     , 15.21256576, 15.21256576, 15.21256576,\n",
              "       15.21256576, 15.115     , 16.372     , 15.026     , 15.21256576,\n",
              "       15.21256576, 16.243     , 16.783     , 13.626     , 15.21256576,\n",
              "       17.503     , 15.21256576, 15.013     , 16.775     , 15.21256576,\n",
              "       14.104     , 16.58      , 15.816     , 13.793     , 13.384     ,\n",
              "       15.21256576, 14.072     , 15.91      , 15.016     , 15.21256576,\n",
              "       13.229     , 13.595     , 16.121     , 15.21256576, 13.739     ,\n",
              "       13.805     , 15.21256576, 15.21256576, 15.639     , 15.21256576,\n",
              "       15.748     , 15.21256576, 15.21256576, 15.252     , 16.147     ,\n",
              "       15.42      , 16.926     , 15.21256576, 15.21256576, 15.21256576,\n",
              "       17.449     , 15.024     , 16.408     , 15.902     , 15.21256576,\n",
              "       13.957     , 14.968     , 13.904     , 13.511     , 16.003     ,\n",
              "       15.029     , 15.005     , 15.21256576, 15.21256576, 15.21256576,\n",
              "       17.145     , 16.864     , 14.919     , 14.174     , 15.21256576,\n",
              "       13.586     , 15.261     , 13.587     , 14.905     , 16.995     ,\n",
              "       15.21256576, 13.678     , 14.874     , 15.168     , 16.693     ,\n",
              "       15.823     , 16.197     , 15.21256576, 13.1       , 16.284     ,\n",
              "       15.21256576, 16.161     , 15.857     , 15.21256576, 15.21256576,\n",
              "       14.101     , 14.339     , 15.21256576, 17.427     , 13.312     ,\n",
              "       15.21256576, 15.844     , 14.362     , 15.206     , 15.573     ,\n",
              "       15.21256576, 15.21256576, 12.732     , 14.875     , 15.832     ,\n",
              "       15.21256576, 15.21256576, 16.523     , 15.21256576, 15.21256576,\n",
              "       13.245     , 15.21256576, 15.21256576, 15.21256576, 16.573     ,\n",
              "       16.461     , 15.21256576, 16.745     , 15.292     , 16.945     ,\n",
              "       15.21256576, 16.438     , 15.21256576, 16.969     , 15.21256576,\n",
              "       15.21256576, 15.21256576, 16.395     , 15.811     , 15.21256576,\n",
              "       14.13      , 13.399     , 16.039     , 15.437     , 15.21256576,\n",
              "       14.094     , 13.971     , 14.299     , 14.465     , 15.21256576,\n",
              "       16.737     , 17.503     , 15.21256576, 14.138     , 15.558     ,\n",
              "       15.21256576, 15.093     , 15.21256576, 13.556     , 15.21256576,\n",
              "       15.21256576, 13.638     , 13.993     , 17.004     , 15.375     ,\n",
              "       15.21256576, 15.21256576, 14.118     , 16.984     , 14.882     ,\n",
              "       15.21256576, 15.21256576, 15.21256576, 13.376     , 15.143     ,\n",
              "       13.951     , 16.05      , 15.21256576, 15.21256576, 13.682     ,\n",
              "       16.284     , 15.21256576, 15.21256576, 16.784     , 15.489     ,\n",
              "       15.978     , 16.143     , 14.41      , 13.309     , 15.21256576,\n",
              "       15.21256576, 15.21256576, 15.21256576, 14.259     , 15.21256576,\n",
              "       15.21256576, 15.21256576, 15.21256576, 16.511     , 15.21256576,\n",
              "       15.21256576, 15.21256576, 15.005     , 13.642     , 15.21256576,\n",
              "       14.538     , 15.889     , 16.5       , 16.628     , 14.342     ,\n",
              "       15.21256576, 14.266     , 13.389     , 13.783     , 15.88      ,\n",
              "       15.21256576, 13.48      , 16.357     , 15.21256576, 16.314     ,\n",
              "       16.095     , 15.21256576, 16.448     , 16.337     , 13.129     ,\n",
              "       15.292     , 13.215     , 13.636     , 14.117     , 16.48      ,\n",
              "       17.106     , 14.899     , 14.972     , 15.21256576, 13.65      ,\n",
              "       13.707     , 15.21256576, 15.21256576, 13.349     , 16.679     ,\n",
              "       13.721     , 15.21256576, 14.327     , 15.21256576, 14.751     ,\n",
              "       13.892     , 15.21256576, 14.446     , 13.108     , 15.079     ,\n",
              "       15.21256576, 16.558     , 15.497     , 15.21256576, 15.813     ,\n",
              "       14.916     , 15.84      , 13.687     , 15.232     , 13.859     ,\n",
              "       15.905     , 15.21256576, 15.63      , 16.657     , 17.462     ,\n",
              "       15.21256576, 15.21256576, 15.21256576, 16.216     , 17.294     ,\n",
              "       15.21256576, 15.21256576, 15.21256576, 15.21256576, 16.261     ,\n",
              "       14.175     , 14.223     , 15.335     , 15.21256576, 16.903     ,\n",
              "       15.21256576, 17.282     , 15.21256576, 15.21256576, 15.21256576,\n",
              "       14.923     , 15.21256576, 15.245     , 16.664     , 15.21256576,\n",
              "       16.025     , 14.084     , 14.291     , 13.762     , 15.21256576,\n",
              "       15.21256576, 16.737     , 15.21256576, 15.21256576, 13.38      ,\n",
              "       15.028     , 15.21256576, 15.21256576, 16.068     , 15.21256576,\n",
              "       13.275     , 15.21256576, 14.465     , 13.302     , 16.4       ,\n",
              "       16.147     , 15.21256576, 15.21256576, 13.26      , 15.935     ,\n",
              "       15.21256576, 15.01      , 14.313     , 14.945     , 13.99      ,\n",
              "       17.        , 14.258     , 13.439     , 15.21256576, 15.21256576,\n",
              "       14.161     , 15.21256576, 13.615     , 16.657     , 16.466     ,\n",
              "       15.21256576, 16.629     , 15.21256576, 15.21256576, 14.754     ,\n",
              "       15.21256576, 15.529     , 14.164     , 15.21256576, 15.21256576,\n",
              "       15.21256576, 14.379     , 14.047     , 14.608     , 15.21256576,\n",
              "       15.21256576, 15.21256576, 14.421     , 16.729     , 14.32      ,\n",
              "       15.21256576, 16.839     , 15.21256576, 16.358     , 15.062     ,\n",
              "       15.792     , 15.21256576, 15.21256576, 13.678     , 17.609     ,\n",
              "       13.73      , 15.21256576, 13.701     , 16.718     , 14.561     ,\n",
              "       15.21256576, 15.21256576, 15.21256576, 16.746     , 15.21256576,\n",
              "       16.501     , 15.21256576, 12.84      , 13.568     , 15.21256576,\n",
              "       15.21256576, 16.309     , 16.866     , 16.706     , 15.21256576,\n",
              "       15.21256576, 15.21256576, 13.444     , 16.329     , 15.21256576,\n",
              "       16.029     , 17.049     , 15.21256576, 16.851     , 16.038     ,\n",
              "       16.635     , 15.21256576, 15.21256576, 14.079     , 15.214     ,\n",
              "       15.21256576, 15.468     , 15.518     , 16.388     , 13.23      ,\n",
              "       15.21256576, 14.127     , 14.135     , 14.783     , 15.21256576,\n",
              "       14.437     , 13.619     , 15.981     , 13.972     , 13.856     ,\n",
              "       16.02      , 15.536     , 15.21256576, 15.21256576, 14.128     ,\n",
              "       15.21256576, 15.21256576, 16.073     , 14.347     , 15.85      ,\n",
              "       15.21256576, 16.877     , 15.21256576, 15.21256576, 14.255     ,\n",
              "       14.95      , 13.767     , 15.916     , 15.826     , 16.565     ,\n",
              "       17.532     , 16.267     , 15.21256576, 13.945     , 15.873     ,\n",
              "       15.593     , 15.21256576, 17.39      , 16.991     , 13.904     ,\n",
              "       13.666     , 15.21256576, 14.645     , 13.341     , 16.762     ,\n",
              "       14.002     , 15.21256576, 15.151     , 17.26      , 15.21256576,\n",
              "       14.538     , 14.1       , 15.21256576, 15.21256576, 15.389     ,\n",
              "       16.498     , 15.21256576, 15.21256576, 14.918     , 17.508     ,\n",
              "       15.356     , 16.224     , 15.21256576, 13.037     , 15.21256576,\n",
              "       16.858     , 14.069     , 14.172     , 16.86      , 13.473     ,\n",
              "       15.867     , 16.653     , 13.303     , 15.21256576, 15.21256576,\n",
              "       15.21256576, 14.003     , 15.21256576, 13.3       , 15.21256576,\n",
              "       15.21256576, 16.848     , 13.442     , 13.92      , 15.21256576,\n",
              "       15.21256576, 15.168     , 14.272     , 16.634     , 16.018     ,\n",
              "       15.21256576, 15.405     , 17.077     , 13.946     , 13.992     ,\n",
              "       15.21256576, 15.21256576, 15.21256576, 14.388     , 14.88      ,\n",
              "       13.956     , 16.803     , 15.21256576, 16.117     , 15.21256576,\n",
              "       15.21256576, 15.21256576, 15.21256576, 16.987     , 15.21256576,\n",
              "       15.21256576, 15.21256576, 15.21256576, 15.21256576, 16.538     ,\n",
              "       13.63      , 13.824     , 13.668     , 14.236     , 16.846     ,\n",
              "       15.21256576, 15.21256576, 16.098     , 15.21256576, 16.246     ,\n",
              "       15.21256576, 15.21256576, 15.21256576, 13.98      , 15.21256576,\n",
              "       16.805     , 16.651     , 15.21256576, 13.891     , 15.075     ,\n",
              "       15.21256576, 15.685     , 13.425     , 15.21256576, 15.21256576,\n",
              "       13.873     , 15.21256576, 16.512     , 15.21256576, 15.849     ,\n",
              "       14.667     , 15.898     , 15.21256576, 15.21256576, 16.285     ,\n",
              "       15.21256576, 15.21256576, 16.089     , 15.21256576, 14.151     ,\n",
              "       15.125     , 15.21256576, 13.594     , 15.21256576, 16.403     ,\n",
              "       15.21256576, 15.45      , 15.21256576, 14.359     , 16.185     ,\n",
              "       16.211     , 15.21256576, 15.757     , 15.21256576, 15.21256576,\n",
              "       15.198     , 16.579     , 15.21256576, 15.318     , 15.21256576,\n",
              "       17.034     , 16.032     , 16.02      , 14.32      , 14.967     ,\n",
              "       15.523     , 14.488     , 16.387     , 15.21256576, 15.21256576,\n",
              "       16.672     , 15.437     , 15.21256576, 16.489     , 13.711     ,\n",
              "       16.611     , 13.24      , 15.21256576, 14.062     , 15.21256576,\n",
              "       16.385     , 15.21256576, 15.837     , 15.21256576, 14.481     ,\n",
              "       13.943     , 14.959     , 16.794     , 14.14      , 13.32      ,\n",
              "       15.21256576, 14.942     , 15.21256576, 15.21256576, 15.621     ,\n",
              "       15.21256576, 16.066     , 13.784     , 13.928     , 15.21256576,\n",
              "       16.319     , 15.21256576, 15.21256576, 16.051     , 17.419     ,\n",
              "       16.999     , 15.21256576, 15.21256576, 16.252     , 16.871     ,\n",
              "       15.21256576, 15.21256576, 15.21256576, 14.198     , 14.873     ,\n",
              "       15.21256576, 16.793     , 15.21256576, 14.13      , 14.181     ,\n",
              "       14.419     , 15.307     , 15.171     , 16.908     , 15.21256576,\n",
              "       15.21256576, 13.622     , 14.446     , 15.21256576, 15.21256576,\n",
              "       15.21256576, 15.21256576, 15.21256576, 13.342     , 13.531     ,\n",
              "       15.21256576, 16.437     , 15.21256576, 15.444     , 15.21256576,\n",
              "       13.996     , 15.21256576, 15.588     , 15.21256576, 16.569     ,\n",
              "       13.99      , 15.21256576, 14.159     , 15.296     , 14.459     ,\n",
              "       15.21256576, 14.54      , 15.432     , 13.26      , 15.896     ,\n",
              "       15.21256576, 15.21256576, 13.643     , 14.91      , 16.076     ,\n",
              "       15.21256576, 14.505     , 15.21256576, 15.21256576, 15.21256576,\n",
              "       16.685     , 15.21256576, 16.715     , 16.289     , 15.291     ,\n",
              "       13.55      , 15.21256576, 13.647     , 16.74      , 15.21256576,\n",
              "       15.407     , 15.21256576, 15.21256576, 15.818     , 15.21256576,\n",
              "       15.21256576, 15.21256576, 15.21256576, 16.49      , 13.634     ,\n",
              "       15.21256576, 15.21256576, 16.601     , 15.21256576, 13.807     ,\n",
              "       14.422     , 15.21256576, 16.567     , 15.21256576, 15.21256576,\n",
              "       15.822     , 16.45      , 15.21256576, 15.223     , 16.133     ,\n",
              "       15.21256576, 13.362     , 15.21256576, 16.566     , 15.21256576,\n",
              "       15.21256576, 15.21256576, 15.21256576, 13.732     , 15.21256576,\n",
              "       14.632     , 16.956     , 15.21256576, 16.689     , 13.717     ,\n",
              "       13.366     , 13.872     , 15.21256576, 15.21256576, 13.773     ,\n",
              "       15.21256576, 16.038     , 15.107     , 15.21256576, 16.634     ,\n",
              "       15.21256576, 13.559     , 13.426     ])"
            ]
          },
          "metadata": {},
          "execution_count": 89
        }
      ]
    },
    {
      "cell_type": "code",
      "source": [
        "tree.score(x_treino, y_treino)"
      ],
      "metadata": {
        "colab": {
          "base_uri": "https://localhost:8080/"
        },
        "id": "0UdiypeUXIdK",
        "outputId": "937a9f87-7d9a-4b62-a73c-38a93ed9eb98"
      },
      "execution_count": 90,
      "outputs": [
        {
          "output_type": "execute_result",
          "data": {
            "text/plain": [
              "1.0"
            ]
          },
          "metadata": {},
          "execution_count": 90
        }
      ]
    },
    {
      "cell_type": "code",
      "source": [
        "tree.score(x_teste,y_teste)"
      ],
      "metadata": {
        "colab": {
          "base_uri": "https://localhost:8080/"
        },
        "id": "0fBjTSRZXNJf",
        "outputId": "5043ad5a-372f-40b7-bfd0-fb655ee904d1"
      },
      "execution_count": 91,
      "outputs": [
        {
          "output_type": "execute_result",
          "data": {
            "text/plain": [
              "0.9829403355516639"
            ]
          },
          "metadata": {},
          "execution_count": 91
        }
      ]
    },
    {
      "cell_type": "markdown",
      "source": [
        "excelente acurácia"
      ],
      "metadata": {
        "id": "v2BPdBAoXQmQ"
      }
    },
    {
      "cell_type": "markdown",
      "source": [
        "- agora podemos prever alguns valores futuros"
      ],
      "metadata": {
        "id": "Ea-6iNY7XSO7"
      }
    },
    {
      "cell_type": "code",
      "source": [
        "#tree.predict(np.array([[(1),(2),(3).(4),(5),(6),(8)]]))"
      ],
      "metadata": {
        "id": "s6N1-dYjYR8T"
      },
      "execution_count": 94,
      "outputs": []
    },
    {
      "cell_type": "code",
      "source": [
        "tree.predict(np.array([[13000,0.080,17345,0.089,8000,0.233,0.060]])) # o resultado é nosso target(7) 'LandAndOceanAverageTemperature'"
      ],
      "metadata": {
        "colab": {
          "base_uri": "https://localhost:8080/"
        },
        "id": "hdzvexCxXPbQ",
        "outputId": "82e0319b-4946-4ac3-a48a-178ed91d755f"
      },
      "execution_count": 95,
      "outputs": [
        {
          "output_type": "execute_result",
          "data": {
            "text/plain": [
              "array([17.487])"
            ]
          },
          "metadata": {},
          "execution_count": 95
        }
      ]
    },
    {
      "cell_type": "code",
      "source": [
        "tree.predict(np.array([[0,0.020,10345,0.060,8000,0.203,0.080]]))"
      ],
      "metadata": {
        "colab": {
          "base_uri": "https://localhost:8080/"
        },
        "id": "XWzZE1xEX-Md",
        "outputId": "8807bdbb-539a-4c77-bb63-49c85576d57f"
      },
      "execution_count": 98,
      "outputs": [
        {
          "output_type": "execute_result",
          "data": {
            "text/plain": [
              "array([16.757])"
            ]
          },
          "metadata": {},
          "execution_count": 98
        }
      ]
    },
    {
      "cell_type": "code",
      "source": [
        "tree.predict(np.array([[2000,0.080,17345,0.089,8000,0.233,0.010]]))"
      ],
      "metadata": {
        "colab": {
          "base_uri": "https://localhost:8080/"
        },
        "id": "inhqLBo3ZL2A",
        "outputId": "32596e9c-ce45-4be7-e1c2-bb20692632cc"
      },
      "execution_count": 99,
      "outputs": [
        {
          "output_type": "execute_result",
          "data": {
            "text/plain": [
              "array([17.611])"
            ]
          },
          "metadata": {},
          "execution_count": 99
        }
      ]
    },
    {
      "cell_type": "code",
      "source": [
        "forecast = tree.predict(x_teste)"
      ],
      "metadata": {
        "id": "QF17Yrcpbn4Z"
      },
      "execution_count": 129,
      "outputs": []
    },
    {
      "cell_type": "code",
      "source": [
        "forecast.shape"
      ],
      "metadata": {
        "colab": {
          "base_uri": "https://localhost:8080/"
        },
        "id": "NMur15aRdgzG",
        "outputId": "e3accf03-4f0c-41d7-c536-ba881db0e167"
      },
      "execution_count": 131,
      "outputs": [
        {
          "output_type": "execute_result",
          "data": {
            "text/plain": [
              "(798,)"
            ]
          },
          "metadata": {},
          "execution_count": 131
        }
      ]
    },
    {
      "cell_type": "code",
      "source": [
        "with open('forecast.csv', 'w') as forecast:\n",
        "    \n",
        "  print(file=forecast)"
      ],
      "metadata": {
        "id": "ygdvFI3Fb109"
      },
      "execution_count": 133,
      "outputs": []
    },
    {
      "cell_type": "code",
      "source": [
        "forecast #se cria um arquivo com as previsões em csv"
      ],
      "metadata": {
        "colab": {
          "base_uri": "https://localhost:8080/"
        },
        "id": "-hjwW4kOda1O",
        "outputId": "d6245097-9ab3-4579-914b-46ffce2bc2ce"
      },
      "execution_count": 136,
      "outputs": [
        {
          "output_type": "execute_result",
          "data": {
            "text/plain": [
              "<_io.TextIOWrapper name='forecast.csv' mode='w' encoding='UTF-8'>"
            ]
          },
          "metadata": {},
          "execution_count": 136
        }
      ]
    },
    {
      "cell_type": "markdown",
      "source": [
        "**Random Forest**"
      ],
      "metadata": {
        "id": "8AcYHqC8ZgRl"
      }
    },
    {
      "cell_type": "code",
      "source": [
        "from sklearn.ensemble import RandomForestRegressor"
      ],
      "metadata": {
        "id": "3H34hikPZilO"
      },
      "execution_count": 100,
      "outputs": []
    },
    {
      "cell_type": "code",
      "source": [
        "rf = RandomForestRegressor(n_estimators=50, criterion='mse')"
      ],
      "metadata": {
        "id": "u1MD1ZzyZqmE"
      },
      "execution_count": 101,
      "outputs": []
    },
    {
      "cell_type": "code",
      "source": [
        "rf.fit(x_treino, y_treino)"
      ],
      "metadata": {
        "colab": {
          "base_uri": "https://localhost:8080/"
        },
        "id": "jrLpe9lCZxIe",
        "outputId": "e6c4aa5e-c566-4a7d-feba-db27017ba52d"
      },
      "execution_count": 102,
      "outputs": [
        {
          "output_type": "stream",
          "name": "stderr",
          "text": [
            "/usr/local/lib/python3.7/dist-packages/sklearn/ensemble/_forest.py:400: FutureWarning: Criterion 'mse' was deprecated in v1.0 and will be removed in version 1.2. Use `criterion='squared_error'` which is equivalent.\n",
            "  FutureWarning,\n"
          ]
        },
        {
          "output_type": "execute_result",
          "data": {
            "text/plain": [
              "RandomForestRegressor(criterion='mse', n_estimators=50)"
            ]
          },
          "metadata": {},
          "execution_count": 102
        }
      ]
    },
    {
      "cell_type": "code",
      "source": [
        "previsoes = rf.predict(x_teste)"
      ],
      "metadata": {
        "id": "G7i5ZQiSZz80"
      },
      "execution_count": 103,
      "outputs": []
    },
    {
      "cell_type": "code",
      "source": [
        "rf.score(x_treino,y_treino)"
      ],
      "metadata": {
        "colab": {
          "base_uri": "https://localhost:8080/"
        },
        "id": "XGNSkzuVZ6j1",
        "outputId": "a64cf28f-1edc-4421-9425-aa563c2df0bd"
      },
      "execution_count": 104,
      "outputs": [
        {
          "output_type": "execute_result",
          "data": {
            "text/plain": [
              "0.9985709266322167"
            ]
          },
          "metadata": {},
          "execution_count": 104
        }
      ]
    },
    {
      "cell_type": "code",
      "source": [
        "rf.score(x_teste, y_teste)"
      ],
      "metadata": {
        "colab": {
          "base_uri": "https://localhost:8080/"
        },
        "id": "FNzcC8FvZ-T3",
        "outputId": "5b034f0a-7a66-4f31-e85f-2a3963d1283f"
      },
      "execution_count": 105,
      "outputs": [
        {
          "output_type": "execute_result",
          "data": {
            "text/plain": [
              "0.9891992934455102"
            ]
          },
          "metadata": {},
          "execution_count": 105
        }
      ]
    },
    {
      "cell_type": "markdown",
      "source": [
        "excelente acurácia"
      ],
      "metadata": {
        "id": "RCPNXh_GaBzZ"
      }
    },
    {
      "cell_type": "markdown",
      "source": [
        "vamos prever resultados"
      ],
      "metadata": {
        "id": "mOVQrDDzaEjD"
      }
    },
    {
      "cell_type": "code",
      "source": [
        "rf.predict(np.array([[13000,0.020,10345,0.060,8000,0.203,0.080]]))"
      ],
      "metadata": {
        "colab": {
          "base_uri": "https://localhost:8080/"
        },
        "id": "Y8Bj3OxJaA2B",
        "outputId": "733107d4-2494-4e24-9b5d-636842428b64"
      },
      "execution_count": 107,
      "outputs": [
        {
          "output_type": "execute_result",
          "data": {
            "text/plain": [
              "array([17.48652])"
            ]
          },
          "metadata": {},
          "execution_count": 107
        }
      ]
    },
    {
      "cell_type": "code",
      "source": [
        "rf.predict(np.array([[3000,0.050,10345,0.090,8000,0.103,0.080]]))"
      ],
      "metadata": {
        "colab": {
          "base_uri": "https://localhost:8080/"
        },
        "id": "rul56CP4aRqr",
        "outputId": "d3c611b6-3104-4148-ba51-b6c8de806f6f"
      },
      "execution_count": 108,
      "outputs": [
        {
          "output_type": "execute_result",
          "data": {
            "text/plain": [
              "array([17.49676])"
            ]
          },
          "metadata": {},
          "execution_count": 108
        }
      ]
    },
    {
      "cell_type": "markdown",
      "source": [
        "**Regressão Linear**"
      ],
      "metadata": {
        "id": "r0FgogZCaXrI"
      }
    },
    {
      "cell_type": "code",
      "source": [
        "from sklearn.linear_model import LinearRegression"
      ],
      "metadata": {
        "id": "8fZd__uVabV3"
      },
      "execution_count": 109,
      "outputs": []
    },
    {
      "cell_type": "code",
      "source": [
        "rl = LinearRegression()"
      ],
      "metadata": {
        "id": "UdJ-vrGxagQq"
      },
      "execution_count": 110,
      "outputs": []
    },
    {
      "cell_type": "code",
      "source": [
        "rl.fit(x_treino, y_treino)"
      ],
      "metadata": {
        "colab": {
          "base_uri": "https://localhost:8080/"
        },
        "id": "6y-bLEufa20X",
        "outputId": "ae277777-05e8-479e-938b-6809617df2bd"
      },
      "execution_count": 111,
      "outputs": [
        {
          "output_type": "execute_result",
          "data": {
            "text/plain": [
              "LinearRegression()"
            ]
          },
          "metadata": {},
          "execution_count": 111
        }
      ]
    },
    {
      "cell_type": "code",
      "source": [
        "pred = rl.predict(x_teste)"
      ],
      "metadata": {
        "id": "zQItIrZza5mp"
      },
      "execution_count": 112,
      "outputs": []
    },
    {
      "cell_type": "code",
      "source": [
        "pred , y_teste"
      ],
      "metadata": {
        "colab": {
          "base_uri": "https://localhost:8080/"
        },
        "id": "_xVgEg1ua-TL",
        "outputId": "fc8e96e2-87bf-477f-e70e-b4d1c60a8c9d"
      },
      "execution_count": 114,
      "outputs": [
        {
          "output_type": "execute_result",
          "data": {
            "text/plain": [
              "(array([15.19740959, 15.83204588, 15.2236167 , 15.20111188, 15.20958336,\n",
              "        14.29656699, 16.37543423, 15.22371828, 15.22182049, 16.7772919 ,\n",
              "        15.19956826, 14.62258862, 15.2106144 , 15.6003498 , 16.6718275 ,\n",
              "        14.4669524 , 15.54242647, 15.41829489, 15.20451457, 15.21501817,\n",
              "        17.16701701, 15.20814342, 15.21482506, 15.21942512, 15.22292003,\n",
              "        15.20733272, 16.69657058, 13.75052653, 15.20196367, 13.22530363,\n",
              "        15.44295231, 13.24565467, 16.63546699, 15.21202718, 15.22525515,\n",
              "        15.15722394, 15.73952813, 16.54773576, 13.40532964, 16.62091729,\n",
              "        16.02736674, 13.34736367, 13.42415057, 15.19838691, 15.20407526,\n",
              "        15.22237995, 15.2195352 , 15.085222  , 15.19975807, 15.53023544,\n",
              "        15.2110195 , 15.16503348, 13.84795538, 13.70183162, 13.28148197,\n",
              "        15.548951  , 14.6272161 , 16.84756599, 15.22181071, 15.2198628 ,\n",
              "        14.51037538, 15.21247138, 15.22800169, 16.38809375, 15.23184855,\n",
              "        15.22618544, 13.76074754, 15.22772829, 15.21658783, 15.20891415,\n",
              "        15.2110195 , 15.18366264, 16.61169694, 15.08649634, 15.2002923 ,\n",
              "        15.20572196, 16.43620923, 16.92020873, 13.54427757, 15.22172953,\n",
              "        17.19612099, 15.22246705, 14.94649423, 16.67573254, 15.19994436,\n",
              "        14.00280125, 16.51070145, 15.86413762, 13.91171316, 12.96819064,\n",
              "        15.21890189, 14.0777615 , 15.78188375, 14.72005588, 15.20121953,\n",
              "        13.58770421, 13.60694739, 16.12379779, 15.21261626, 13.77349763,\n",
              "        13.91256895, 15.21983894, 15.22455324, 15.75837557, 15.19993461,\n",
              "        15.75879829, 15.21824946, 15.2110195 , 14.98232503, 15.95576454,\n",
              "        15.55405983, 16.87744386, 15.22478235, 15.21147844, 15.21858885,\n",
              "        17.27736632, 15.247407  , 16.57309258, 16.08686138, 15.20723239,\n",
              "        13.89409265, 14.87408403, 13.70106083, 13.52642616, 16.18927938,\n",
              "        15.09416081, 14.8049537 , 15.2036913 , 15.22268153, 15.20485556,\n",
              "        17.04312411, 16.68512049, 14.8105863 , 14.0400029 , 15.22182342,\n",
              "        13.75765711, 15.2971579 , 13.58596326, 15.3581172 , 16.91412874,\n",
              "        15.20311469, 13.47905047, 15.20581464, 15.1425538 , 16.75496881,\n",
              "        15.94500076, 16.51273224, 15.20993078, 13.17290421, 16.25426706,\n",
              "        15.19932271, 16.4613437 , 15.98875516, 15.20949226, 15.21788877,\n",
              "        14.26865974, 14.00252968, 15.22405416, 17.12016518, 13.18758423,\n",
              "        15.21105145, 15.72149493, 14.54817343, 15.32558506, 15.86041981,\n",
              "        15.20927711, 15.21999426, 13.51813355, 14.91138356, 15.59336222,\n",
              "        15.22054797, 15.21264732, 16.3229394 , 15.21149568, 15.21912597,\n",
              "        13.38017006, 15.19725631, 15.21305108, 15.20384574, 16.53846504,\n",
              "        16.5711492 , 15.20383447, 16.64730308, 15.53685701, 16.88590118,\n",
              "        15.20851351, 16.64517789, 15.20802144, 16.87023636, 15.22987918,\n",
              "        15.22499629, 15.21856909, 16.28221791, 15.49775071, 15.22297219,\n",
              "        14.12492924, 13.31025183, 15.64424504, 15.5334587 , 15.22759073,\n",
              "        14.16444379, 14.03076481, 14.50736193, 14.65409111, 15.22693742,\n",
              "        16.44203919, 17.26037401, 15.21088204, 13.99247384, 15.69791007,\n",
              "        15.21036855, 15.32233459, 15.20281573, 13.70770517, 15.21511087,\n",
              "        15.21508099, 12.97678869, 14.52572736, 16.88599617, 15.53815016,\n",
              "        15.21618351, 15.21392288, 14.23574723, 16.29685834, 14.48067321,\n",
              "        15.22405721, 15.22175257, 15.22632792, 13.31064736, 15.40689535,\n",
              "        13.92409789, 16.03206412, 15.1979612 , 15.21546502, 13.82052756,\n",
              "        16.55628535, 15.22376363, 15.21576144, 16.98076785, 15.35461697,\n",
              "        15.62311892, 16.09505593, 14.45815027, 13.26558433, 15.20757998,\n",
              "        15.20571417, 15.21714891, 15.20193493, 14.33960799, 15.22470243,\n",
              "        15.20421842, 15.23132738, 15.21173667, 16.66814104, 15.2059738 ,\n",
              "        15.21347866, 15.2022883 , 15.12271417, 13.59816605, 15.21011608,\n",
              "        14.22452943, 15.77426314, 16.44935711, 16.77855182, 14.56336957,\n",
              "        15.21077986, 14.017937  , 13.49109564, 13.64138685, 15.91887678,\n",
              "        15.2074839 , 13.38286445, 16.34300544, 15.19889466, 16.32168902,\n",
              "        16.08158669, 15.20628404, 16.65971168, 16.34183332, 13.25202869,\n",
              "        15.22651079, 13.12381337, 13.64224984, 14.06404624, 16.46017578,\n",
              "        16.85199317, 14.77124907, 15.28661696, 15.2208196 , 13.54505068,\n",
              "        13.25915442, 15.21427905, 15.19930157, 13.33227008, 16.67675051,\n",
              "        13.63569013, 15.20828401, 14.22848156, 15.22172071, 15.16113166,\n",
              "        13.99980351, 15.20257277, 14.57976476, 13.27749953, 15.05901412,\n",
              "        15.20892323, 16.70087198, 15.84571287, 15.20563399, 15.53437422,\n",
              "        14.92635342, 15.87977078, 13.71001693, 15.39138074, 13.74574452,\n",
              "        15.81923662, 15.21545375, 15.61182127, 16.53457   , 17.13340337,\n",
              "        15.21507746, 15.20244337, 15.19971721, 16.50519696, 17.04319331,\n",
              "        15.22202521, 15.20784561, 15.22300776, 15.21819492, 16.24137996,\n",
              "        14.38512662, 13.97743857, 15.215589  , 15.22612126, 16.69417666,\n",
              "        15.21021953, 17.02026336, 15.21635253, 15.19957499, 15.20016802,\n",
              "        14.85752277, 15.2110195 , 15.41392289, 16.82920725, 15.2067423 ,\n",
              "        15.90630951, 13.97693831, 14.0800789 , 13.62775717, 15.23889057,\n",
              "        15.20599932, 16.62214226, 15.21348134, 15.2170841 , 13.3364314 ,\n",
              "        15.37442485, 15.21047994, 15.22002651, 16.17742686, 15.20006641,\n",
              "        13.45913094, 15.22218839, 14.38580963, 13.53976242, 16.35117896,\n",
              "        15.98084312, 15.2115788 , 15.21202648, 13.31965678, 15.7821609 ,\n",
              "        15.21645707, 14.8100305 , 14.49178757, 14.92418943, 14.13139847,\n",
              "        17.12953115, 13.96679796, 13.53286043, 15.21675701, 15.20925518,\n",
              "        14.04474324, 15.22142817, 13.67295461, 16.39644714, 16.40682352,\n",
              "        15.20601714, 16.37726336, 15.20674945, 15.2139483 , 14.77105528,\n",
              "        15.21761812, 15.54470586, 13.85370726, 15.20552093, 15.21322235,\n",
              "        15.20320583, 14.49766982, 13.9310431 , 14.51306022, 15.21169418,\n",
              "        15.21382496, 15.20730502, 14.62205295, 16.7395424 , 14.13967638,\n",
              "        15.20268834, 16.60498783, 15.2233813 , 16.47774731, 15.1289662 ,\n",
              "        15.84282209, 15.22216364, 15.20703848, 13.69120067, 17.29650821,\n",
              "        13.94649852, 15.2139349 , 13.68271086, 16.83522418, 14.4191828 ,\n",
              "        15.21769083, 15.21456897, 15.21154426, 16.65790061, 15.20735853,\n",
              "        16.45901502, 15.21355989, 13.25775895, 13.77082145, 15.20974858,\n",
              "        15.20295229, 16.56300702, 16.76205558, 16.8453057 , 15.2164996 ,\n",
              "        15.22170797, 15.20668083, 13.46954876, 16.44001271, 15.22407499,\n",
              "        15.83968231, 16.6299062 , 15.22856368, 16.91707935, 15.59433388,\n",
              "        16.51629177, 15.2011476 , 15.21799629, 14.54076465, 15.05560726,\n",
              "        15.20508069, 15.38132992, 15.33080446, 16.20636228, 13.09584912,\n",
              "        15.21438242, 13.96351126, 14.10338492, 15.00956676, 15.22099908,\n",
              "        14.60307872, 13.6859891 , 16.09041286, 13.97536145, 13.96804031,\n",
              "        15.88624586, 15.17608337, 15.2170827 , 15.21127445, 14.13925124,\n",
              "        15.2196765 , 15.22118662, 15.9694973 , 14.1780327 , 15.84137049,\n",
              "        15.20763378, 17.01229127, 15.21853977, 15.19773579, 13.92781257,\n",
              "        14.97722667, 13.81713313, 16.06489014, 16.01424016, 16.5753468 ,\n",
              "        17.28196101, 16.16235241, 15.22454815, 13.82726309, 15.86085023,\n",
              "        15.48925095, 15.20216121, 17.06439074, 17.02757789, 13.9829634 ,\n",
              "        13.67913518, 15.2261276 , 14.78866205, 13.356535  , 16.60800988,\n",
              "        14.38327207, 15.21592915, 15.34820553, 16.96947785, 15.21513419,\n",
              "        14.4580351 , 14.14127812, 15.21567671, 15.20217036, 15.52226774,\n",
              "        16.71049574, 15.21377658, 15.21160998, 14.89985029, 17.17378336,\n",
              "        15.34383994, 16.27818866, 15.22293789, 13.17916781, 15.2110195 ,\n",
              "        16.71335319, 14.25125737, 13.72216447, 16.95095577, 13.493237  ,\n",
              "        16.17112182, 16.83758618, 13.31844675, 15.22725934, 15.22164209,\n",
              "        15.21032253, 13.99458487, 15.20454381, 13.45535807, 15.2222376 ,\n",
              "        15.22038038, 16.88665091, 13.66706566, 14.14977892, 15.21485825,\n",
              "        15.20304899, 15.38469474, 14.46612715, 16.75291991, 15.92412769,\n",
              "        15.20597604, 15.45807326, 16.94821745, 13.76698779, 14.17982658,\n",
              "        15.2239119 , 15.21132297, 15.2242373 , 14.15728545, 14.59321668,\n",
              "        13.9279203 , 16.85905824, 15.23549472, 16.15388822, 15.21350837,\n",
              "        15.20932153, 15.22319007, 15.20408014, 16.99071224, 15.20771945,\n",
              "        15.22553172, 15.2108841 , 15.20027657, 15.22372669, 16.67003877,\n",
              "        13.3711423 , 13.65679363, 13.69276199, 14.38169475, 16.97798367,\n",
              "        15.2083407 , 15.22078607, 15.99766427, 15.19800548, 16.29246601,\n",
              "        15.20322177, 15.23083208, 15.19759021, 13.98928602, 15.21581178,\n",
              "        16.73150569, 16.78992794, 15.2154846 , 13.74723904, 15.12014878,\n",
              "        15.22876505, 16.04029618, 13.69980829, 15.22245191, 15.19902998,\n",
              "        13.75675413, 15.20238247, 16.71949451, 15.21900299, 16.20159891,\n",
              "        14.5757601 , 15.6290714 , 15.20020464, 15.2055422 , 16.25309874,\n",
              "        15.20800245, 15.22088717, 15.98467341, 15.22537526, 14.09060532,\n",
              "        15.14043789, 15.21089258, 13.65871053, 15.20963056, 16.64705051,\n",
              "        15.21856211, 15.63060568, 15.2245242 , 13.98608524, 16.31264416,\n",
              "        16.41567375, 15.22339674, 15.90200509, 15.2022939 , 15.22820028,\n",
              "        15.19967984, 16.62354745, 15.21115742, 15.30324948, 15.20131634,\n",
              "        16.86715571, 16.13304748, 15.95442072, 14.53201687, 14.82735893,\n",
              "        15.58913448, 14.09107567, 16.66263768, 15.21052903, 15.20930545,\n",
              "        16.71135131, 15.42598969, 15.21267963, 16.36748165, 13.62887057,\n",
              "        16.57990621, 13.46925418, 15.21121915, 14.4751604 , 15.20450089,\n",
              "        16.35632972, 15.21475442, 15.83859807, 15.21547149, 14.70465624,\n",
              "        14.24902111, 14.93803701, 16.78161307, 13.92456987, 13.30607206,\n",
              "        15.2006507 , 15.1949127 , 15.22619173, 15.21086334, 15.62246749,\n",
              "        15.21133413, 16.22302574, 14.27835983, 14.03940619, 15.20472718,\n",
              "        16.19664858, 15.22625931, 15.2257321 , 16.00552673, 17.22959717,\n",
              "        16.41926902, 15.21882469, 15.20357972, 16.20239292, 16.92994449,\n",
              "        15.2087817 , 15.20163706, 15.20803798, 14.16429664, 14.53723414,\n",
              "        15.21002389, 16.6172602 , 15.21147764, 14.13862271, 13.92538325,\n",
              "        14.51216937, 15.15692368, 15.41303493, 16.86393984, 15.20887696,\n",
              "        15.20914102, 13.61770001, 14.23366861, 15.21146538, 15.20521987,\n",
              "        15.20594299, 15.22114572, 15.20127642, 13.64669664, 13.49396442,\n",
              "        15.20951041, 16.7931223 , 15.22725518, 15.3236794 , 15.22186036,\n",
              "        14.17617742, 15.20622787, 15.5847234 , 15.21704435, 16.38819833,\n",
              "        13.75550249, 15.20638943, 14.28944293, 15.155181  , 13.97307208,\n",
              "        15.21141957, 14.36603084, 15.16660849, 13.2391616 , 15.75476402,\n",
              "        15.22032789, 15.20561936, 13.45506185, 14.74220366, 16.16003891,\n",
              "        15.21866472, 14.16415918, 15.20743654, 15.22385904, 15.21798236,\n",
              "        16.4426006 , 15.20593254, 16.38146727, 16.52728691, 15.25221605,\n",
              "        13.65179245, 15.22443154, 13.54794497, 16.71009583, 15.2003361 ,\n",
              "        15.21029281, 15.21077853, 15.22981949, 15.50196666, 15.21182297,\n",
              "        15.20475909, 15.22759981, 15.19824298, 16.33582062, 13.31378035,\n",
              "        15.20422431, 15.21956181, 16.78658747, 15.20381279, 13.61385543,\n",
              "        14.52314269, 15.22531523, 16.36792471, 15.21582291, 15.21979045,\n",
              "        15.58370618, 16.46211542, 15.20150598, 15.45407965, 15.90447943,\n",
              "        15.2027726 , 12.96176121, 15.22461158, 16.18846987, 15.20119573,\n",
              "        15.21605385, 15.21945306, 15.20641222, 13.65279064, 15.21645378,\n",
              "        14.31893594, 16.98829345, 15.210216  , 16.79592514, 13.74421343,\n",
              "        13.29886993, 13.820202  , 15.1978964 , 15.22211948, 13.64909744,\n",
              "        15.20505558, 15.8491067 , 14.97810938, 15.20375168, 16.39476267,\n",
              "        15.21862675, 13.75385291, 13.76905174]),\n",
              " array([15.21256576, 15.656     , 15.21256576, 15.21256576, 15.21256576,\n",
              "        13.933     , 16.273     , 15.21256576, 15.21256576, 16.796     ,\n",
              "        15.21256576, 14.516     , 15.21256576, 15.62      , 16.725     ,\n",
              "        14.453     , 15.455     , 15.27      , 15.21256576, 15.21256576,\n",
              "        17.423     , 15.21256576, 15.21256576, 15.21256576, 15.21256576,\n",
              "        15.21256576, 16.716     , 13.81      , 15.21256576, 13.206     ,\n",
              "        15.181     , 13.321     , 16.49      , 15.21256576, 15.21256576,\n",
              "        15.19      , 15.641     , 16.553     , 13.344     , 16.45      ,\n",
              "        16.212     , 13.555     , 13.529     , 15.21256576, 15.21256576,\n",
              "        15.21256576, 15.21256576, 15.065     , 15.21256576, 15.962     ,\n",
              "        15.21256576, 14.918     , 14.061     , 13.526     , 13.176     ,\n",
              "        15.819     , 14.982     , 16.582     , 15.21256576, 15.21256576,\n",
              "        14.418     , 15.21256576, 15.21256576, 16.309     , 15.21256576,\n",
              "        15.21256576, 13.928     , 15.21256576, 15.21256576, 15.21256576,\n",
              "        15.21256576, 15.115     , 16.372     , 15.026     , 15.21256576,\n",
              "        15.21256576, 16.243     , 16.783     , 13.626     , 15.21256576,\n",
              "        17.503     , 15.21256576, 15.013     , 16.775     , 15.21256576,\n",
              "        14.104     , 16.58      , 15.816     , 13.793     , 13.384     ,\n",
              "        15.21256576, 14.072     , 15.91      , 15.016     , 15.21256576,\n",
              "        13.229     , 13.595     , 16.121     , 15.21256576, 13.739     ,\n",
              "        13.805     , 15.21256576, 15.21256576, 15.639     , 15.21256576,\n",
              "        15.748     , 15.21256576, 15.21256576, 15.252     , 16.147     ,\n",
              "        15.42      , 16.926     , 15.21256576, 15.21256576, 15.21256576,\n",
              "        17.449     , 15.024     , 16.408     , 15.902     , 15.21256576,\n",
              "        13.957     , 14.968     , 13.904     , 13.511     , 16.003     ,\n",
              "        15.029     , 15.005     , 15.21256576, 15.21256576, 15.21256576,\n",
              "        17.145     , 16.864     , 14.919     , 14.174     , 15.21256576,\n",
              "        13.586     , 15.261     , 13.587     , 14.905     , 16.995     ,\n",
              "        15.21256576, 13.678     , 14.874     , 15.168     , 16.693     ,\n",
              "        15.823     , 16.197     , 15.21256576, 13.1       , 16.284     ,\n",
              "        15.21256576, 16.161     , 15.857     , 15.21256576, 15.21256576,\n",
              "        14.101     , 14.339     , 15.21256576, 17.427     , 13.312     ,\n",
              "        15.21256576, 15.844     , 14.362     , 15.206     , 15.573     ,\n",
              "        15.21256576, 15.21256576, 12.732     , 14.875     , 15.832     ,\n",
              "        15.21256576, 15.21256576, 16.523     , 15.21256576, 15.21256576,\n",
              "        13.245     , 15.21256576, 15.21256576, 15.21256576, 16.573     ,\n",
              "        16.461     , 15.21256576, 16.745     , 15.292     , 16.945     ,\n",
              "        15.21256576, 16.438     , 15.21256576, 16.969     , 15.21256576,\n",
              "        15.21256576, 15.21256576, 16.395     , 15.811     , 15.21256576,\n",
              "        14.13      , 13.399     , 16.039     , 15.437     , 15.21256576,\n",
              "        14.094     , 13.971     , 14.299     , 14.465     , 15.21256576,\n",
              "        16.737     , 17.503     , 15.21256576, 14.138     , 15.558     ,\n",
              "        15.21256576, 15.093     , 15.21256576, 13.556     , 15.21256576,\n",
              "        15.21256576, 13.638     , 13.993     , 17.004     , 15.375     ,\n",
              "        15.21256576, 15.21256576, 14.118     , 16.984     , 14.882     ,\n",
              "        15.21256576, 15.21256576, 15.21256576, 13.376     , 15.143     ,\n",
              "        13.951     , 16.05      , 15.21256576, 15.21256576, 13.682     ,\n",
              "        16.284     , 15.21256576, 15.21256576, 16.784     , 15.489     ,\n",
              "        15.978     , 16.143     , 14.41      , 13.309     , 15.21256576,\n",
              "        15.21256576, 15.21256576, 15.21256576, 14.259     , 15.21256576,\n",
              "        15.21256576, 15.21256576, 15.21256576, 16.511     , 15.21256576,\n",
              "        15.21256576, 15.21256576, 15.005     , 13.642     , 15.21256576,\n",
              "        14.538     , 15.889     , 16.5       , 16.628     , 14.342     ,\n",
              "        15.21256576, 14.266     , 13.389     , 13.783     , 15.88      ,\n",
              "        15.21256576, 13.48      , 16.357     , 15.21256576, 16.314     ,\n",
              "        16.095     , 15.21256576, 16.448     , 16.337     , 13.129     ,\n",
              "        15.292     , 13.215     , 13.636     , 14.117     , 16.48      ,\n",
              "        17.106     , 14.899     , 14.972     , 15.21256576, 13.65      ,\n",
              "        13.707     , 15.21256576, 15.21256576, 13.349     , 16.679     ,\n",
              "        13.721     , 15.21256576, 14.327     , 15.21256576, 14.751     ,\n",
              "        13.892     , 15.21256576, 14.446     , 13.108     , 15.079     ,\n",
              "        15.21256576, 16.558     , 15.497     , 15.21256576, 15.813     ,\n",
              "        14.916     , 15.84      , 13.687     , 15.232     , 13.859     ,\n",
              "        15.905     , 15.21256576, 15.63      , 16.657     , 17.462     ,\n",
              "        15.21256576, 15.21256576, 15.21256576, 16.216     , 17.294     ,\n",
              "        15.21256576, 15.21256576, 15.21256576, 15.21256576, 16.261     ,\n",
              "        14.175     , 14.223     , 15.335     , 15.21256576, 16.903     ,\n",
              "        15.21256576, 17.282     , 15.21256576, 15.21256576, 15.21256576,\n",
              "        14.923     , 15.21256576, 15.245     , 16.664     , 15.21256576,\n",
              "        16.025     , 14.084     , 14.291     , 13.762     , 15.21256576,\n",
              "        15.21256576, 16.737     , 15.21256576, 15.21256576, 13.38      ,\n",
              "        15.028     , 15.21256576, 15.21256576, 16.068     , 15.21256576,\n",
              "        13.275     , 15.21256576, 14.465     , 13.302     , 16.4       ,\n",
              "        16.147     , 15.21256576, 15.21256576, 13.26      , 15.935     ,\n",
              "        15.21256576, 15.01      , 14.313     , 14.945     , 13.99      ,\n",
              "        17.        , 14.258     , 13.439     , 15.21256576, 15.21256576,\n",
              "        14.161     , 15.21256576, 13.615     , 16.657     , 16.466     ,\n",
              "        15.21256576, 16.629     , 15.21256576, 15.21256576, 14.754     ,\n",
              "        15.21256576, 15.529     , 14.164     , 15.21256576, 15.21256576,\n",
              "        15.21256576, 14.379     , 14.047     , 14.608     , 15.21256576,\n",
              "        15.21256576, 15.21256576, 14.421     , 16.729     , 14.32      ,\n",
              "        15.21256576, 16.839     , 15.21256576, 16.358     , 15.062     ,\n",
              "        15.792     , 15.21256576, 15.21256576, 13.678     , 17.609     ,\n",
              "        13.73      , 15.21256576, 13.701     , 16.718     , 14.561     ,\n",
              "        15.21256576, 15.21256576, 15.21256576, 16.746     , 15.21256576,\n",
              "        16.501     , 15.21256576, 12.84      , 13.568     , 15.21256576,\n",
              "        15.21256576, 16.309     , 16.866     , 16.706     , 15.21256576,\n",
              "        15.21256576, 15.21256576, 13.444     , 16.329     , 15.21256576,\n",
              "        16.029     , 17.049     , 15.21256576, 16.851     , 16.038     ,\n",
              "        16.635     , 15.21256576, 15.21256576, 14.079     , 15.214     ,\n",
              "        15.21256576, 15.468     , 15.518     , 16.388     , 13.23      ,\n",
              "        15.21256576, 14.127     , 14.135     , 14.783     , 15.21256576,\n",
              "        14.437     , 13.619     , 15.981     , 13.972     , 13.856     ,\n",
              "        16.02      , 15.536     , 15.21256576, 15.21256576, 14.128     ,\n",
              "        15.21256576, 15.21256576, 16.073     , 14.347     , 15.85      ,\n",
              "        15.21256576, 16.877     , 15.21256576, 15.21256576, 14.255     ,\n",
              "        14.95      , 13.767     , 15.916     , 15.826     , 16.565     ,\n",
              "        17.532     , 16.267     , 15.21256576, 13.945     , 15.873     ,\n",
              "        15.593     , 15.21256576, 17.39      , 16.991     , 13.904     ,\n",
              "        13.666     , 15.21256576, 14.645     , 13.341     , 16.762     ,\n",
              "        14.002     , 15.21256576, 15.151     , 17.26      , 15.21256576,\n",
              "        14.538     , 14.1       , 15.21256576, 15.21256576, 15.389     ,\n",
              "        16.498     , 15.21256576, 15.21256576, 14.918     , 17.508     ,\n",
              "        15.356     , 16.224     , 15.21256576, 13.037     , 15.21256576,\n",
              "        16.858     , 14.069     , 14.172     , 16.86      , 13.473     ,\n",
              "        15.867     , 16.653     , 13.303     , 15.21256576, 15.21256576,\n",
              "        15.21256576, 14.003     , 15.21256576, 13.3       , 15.21256576,\n",
              "        15.21256576, 16.848     , 13.442     , 13.92      , 15.21256576,\n",
              "        15.21256576, 15.168     , 14.272     , 16.634     , 16.018     ,\n",
              "        15.21256576, 15.405     , 17.077     , 13.946     , 13.992     ,\n",
              "        15.21256576, 15.21256576, 15.21256576, 14.388     , 14.88      ,\n",
              "        13.956     , 16.803     , 15.21256576, 16.117     , 15.21256576,\n",
              "        15.21256576, 15.21256576, 15.21256576, 16.987     , 15.21256576,\n",
              "        15.21256576, 15.21256576, 15.21256576, 15.21256576, 16.538     ,\n",
              "        13.63      , 13.824     , 13.668     , 14.236     , 16.846     ,\n",
              "        15.21256576, 15.21256576, 16.098     , 15.21256576, 16.246     ,\n",
              "        15.21256576, 15.21256576, 15.21256576, 13.98      , 15.21256576,\n",
              "        16.805     , 16.651     , 15.21256576, 13.891     , 15.075     ,\n",
              "        15.21256576, 15.685     , 13.425     , 15.21256576, 15.21256576,\n",
              "        13.873     , 15.21256576, 16.512     , 15.21256576, 15.849     ,\n",
              "        14.667     , 15.898     , 15.21256576, 15.21256576, 16.285     ,\n",
              "        15.21256576, 15.21256576, 16.089     , 15.21256576, 14.151     ,\n",
              "        15.125     , 15.21256576, 13.594     , 15.21256576, 16.403     ,\n",
              "        15.21256576, 15.45      , 15.21256576, 14.359     , 16.185     ,\n",
              "        16.211     , 15.21256576, 15.757     , 15.21256576, 15.21256576,\n",
              "        15.198     , 16.579     , 15.21256576, 15.318     , 15.21256576,\n",
              "        17.034     , 16.032     , 16.02      , 14.32      , 14.967     ,\n",
              "        15.523     , 14.488     , 16.387     , 15.21256576, 15.21256576,\n",
              "        16.672     , 15.437     , 15.21256576, 16.489     , 13.711     ,\n",
              "        16.611     , 13.24      , 15.21256576, 14.062     , 15.21256576,\n",
              "        16.385     , 15.21256576, 15.837     , 15.21256576, 14.481     ,\n",
              "        13.943     , 14.959     , 16.794     , 14.14      , 13.32      ,\n",
              "        15.21256576, 14.942     , 15.21256576, 15.21256576, 15.621     ,\n",
              "        15.21256576, 16.066     , 13.784     , 13.928     , 15.21256576,\n",
              "        16.319     , 15.21256576, 15.21256576, 16.051     , 17.419     ,\n",
              "        16.999     , 15.21256576, 15.21256576, 16.252     , 16.871     ,\n",
              "        15.21256576, 15.21256576, 15.21256576, 14.198     , 14.873     ,\n",
              "        15.21256576, 16.793     , 15.21256576, 14.13      , 14.181     ,\n",
              "        14.419     , 15.307     , 15.171     , 16.908     , 15.21256576,\n",
              "        15.21256576, 13.622     , 14.446     , 15.21256576, 15.21256576,\n",
              "        15.21256576, 15.21256576, 15.21256576, 13.342     , 13.531     ,\n",
              "        15.21256576, 16.437     , 15.21256576, 15.444     , 15.21256576,\n",
              "        13.996     , 15.21256576, 15.588     , 15.21256576, 16.569     ,\n",
              "        13.99      , 15.21256576, 14.159     , 15.296     , 14.459     ,\n",
              "        15.21256576, 14.54      , 15.432     , 13.26      , 15.896     ,\n",
              "        15.21256576, 15.21256576, 13.643     , 14.91      , 16.076     ,\n",
              "        15.21256576, 14.505     , 15.21256576, 15.21256576, 15.21256576,\n",
              "        16.685     , 15.21256576, 16.715     , 16.289     , 15.291     ,\n",
              "        13.55      , 15.21256576, 13.647     , 16.74      , 15.21256576,\n",
              "        15.407     , 15.21256576, 15.21256576, 15.818     , 15.21256576,\n",
              "        15.21256576, 15.21256576, 15.21256576, 16.49      , 13.634     ,\n",
              "        15.21256576, 15.21256576, 16.601     , 15.21256576, 13.807     ,\n",
              "        14.422     , 15.21256576, 16.567     , 15.21256576, 15.21256576,\n",
              "        15.822     , 16.45      , 15.21256576, 15.223     , 16.133     ,\n",
              "        15.21256576, 13.362     , 15.21256576, 16.566     , 15.21256576,\n",
              "        15.21256576, 15.21256576, 15.21256576, 13.732     , 15.21256576,\n",
              "        14.632     , 16.956     , 15.21256576, 16.689     , 13.717     ,\n",
              "        13.366     , 13.872     , 15.21256576, 15.21256576, 13.773     ,\n",
              "        15.21256576, 16.038     , 15.107     , 15.21256576, 16.634     ,\n",
              "        15.21256576, 13.559     , 13.426     ]))"
            ]
          },
          "metadata": {},
          "execution_count": 114
        }
      ]
    },
    {
      "cell_type": "code",
      "source": [
        "rl.score(x_treino, y_treino)"
      ],
      "metadata": {
        "colab": {
          "base_uri": "https://localhost:8080/"
        },
        "id": "CSDrWzmca_Wq",
        "outputId": "c1e85cfa-107b-4a74-d5e3-e6f823225a72"
      },
      "execution_count": 116,
      "outputs": [
        {
          "output_type": "execute_result",
          "data": {
            "text/plain": [
              "0.9795279351442409"
            ]
          },
          "metadata": {},
          "execution_count": 116
        }
      ]
    },
    {
      "cell_type": "code",
      "source": [
        "rl.score(x_teste, y_teste)"
      ],
      "metadata": {
        "colab": {
          "base_uri": "https://localhost:8080/"
        },
        "id": "PPV143MxbF-f",
        "outputId": "9930456a-ad3e-47e7-89a4-e8024c7aa4ae"
      },
      "execution_count": 117,
      "outputs": [
        {
          "output_type": "execute_result",
          "data": {
            "text/plain": [
              "0.9753624623660397"
            ]
          },
          "metadata": {},
          "execution_count": 117
        }
      ]
    },
    {
      "cell_type": "markdown",
      "source": [
        "excelente acurácia também"
      ],
      "metadata": {
        "id": "-Zto4wzvbMnA"
      }
    },
    {
      "cell_type": "markdown",
      "source": [
        "vamos prever resultados novamente"
      ],
      "metadata": {
        "id": "RY4gjo2rbOuA"
      }
    },
    {
      "cell_type": "code",
      "source": [
        "rl.predict(np.array([[13000,0.050,10345,0.090,8000,0.103,0.080]]))"
      ],
      "metadata": {
        "colab": {
          "base_uri": "https://localhost:8080/"
        },
        "id": "efo5CKuCbLXG",
        "outputId": "81f02d10-ec25-4e2b-80a5-0ad2f6b2b98b"
      },
      "execution_count": 119,
      "outputs": [
        {
          "output_type": "execute_result",
          "data": {
            "text/plain": [
              "array([2749.80145387])"
            ]
          },
          "metadata": {},
          "execution_count": 119
        }
      ]
    }
  ]
}