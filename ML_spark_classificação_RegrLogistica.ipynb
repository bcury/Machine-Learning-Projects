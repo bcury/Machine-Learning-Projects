{
  "nbformat": 4,
  "nbformat_minor": 0,
  "metadata": {
    "colab": {
      "name": "ML_spark_classificação_RegrLogistica",
      "provenance": [],
      "collapsed_sections": [],
      "authorship_tag": "ABX9TyNGnesguwX6z9Xy1yFtgrs4",
      "include_colab_link": true
    },
    "kernelspec": {
      "name": "python3",
      "display_name": "Python 3"
    },
    "language_info": {
      "name": "python"
    }
  },
  "cells": [
    {
      "cell_type": "markdown",
      "metadata": {
        "id": "view-in-github",
        "colab_type": "text"
      },
      "source": [
        "<a href=\"https://colab.research.google.com/github/bcury/Machine-Learning-Projects/blob/main/ML_spark_classifica%C3%A7%C3%A3o_RegrLogistica.ipynb\" target=\"_parent\"><img src=\"https://colab.research.google.com/assets/colab-badge.svg\" alt=\"Open In Colab\"/></a>"
      ]
    },
    {
      "cell_type": "code",
      "execution_count": 1,
      "metadata": {
        "colab": {
          "base_uri": "https://localhost:8080/"
        },
        "id": "aOI74OmrWncl",
        "outputId": "e2bfecf6-4a0e-4a6d-9831-b8c046d62194"
      },
      "outputs": [
        {
          "output_type": "stream",
          "name": "stdout",
          "text": [
            "Looking in indexes: https://pypi.org/simple, https://us-python.pkg.dev/colab-wheels/public/simple/\n",
            "Collecting pyspark\n",
            "  Downloading pyspark-3.2.1.tar.gz (281.4 MB)\n",
            "\u001b[K     |████████████████████████████████| 281.4 MB 34 kB/s \n",
            "\u001b[?25hCollecting py4j==0.10.9.3\n",
            "  Downloading py4j-0.10.9.3-py2.py3-none-any.whl (198 kB)\n",
            "\u001b[K     |████████████████████████████████| 198 kB 52.2 MB/s \n",
            "\u001b[?25hBuilding wheels for collected packages: pyspark\n",
            "  Building wheel for pyspark (setup.py) ... \u001b[?25l\u001b[?25hdone\n",
            "  Created wheel for pyspark: filename=pyspark-3.2.1-py2.py3-none-any.whl size=281853642 sha256=15e5d0f4a1a6e75e5822c0f93abd1c797dd4067ebd9587e7d641acaf1fc82b5a\n",
            "  Stored in directory: /root/.cache/pip/wheels/9f/f5/07/7cd8017084dce4e93e84e92efd1e1d5334db05f2e83bcef74f\n",
            "Successfully built pyspark\n",
            "Installing collected packages: py4j, pyspark\n",
            "Successfully installed py4j-0.10.9.3 pyspark-3.2.1\n"
          ]
        }
      ],
      "source": [
        "pip install pyspark"
      ]
    },
    {
      "cell_type": "code",
      "source": [
        "pip install findspark"
      ],
      "metadata": {
        "colab": {
          "base_uri": "https://localhost:8080/"
        },
        "id": "81DgMejdWqY4",
        "outputId": "13d3ddc0-727b-4065-b52d-4d8b180496bb"
      },
      "execution_count": 2,
      "outputs": [
        {
          "output_type": "stream",
          "name": "stdout",
          "text": [
            "Looking in indexes: https://pypi.org/simple, https://us-python.pkg.dev/colab-wheels/public/simple/\n",
            "Collecting findspark\n",
            "  Downloading findspark-2.0.1-py2.py3-none-any.whl (4.4 kB)\n",
            "Installing collected packages: findspark\n",
            "Successfully installed findspark-2.0.1\n"
          ]
        }
      ]
    },
    {
      "cell_type": "code",
      "source": [
        "import pyspark, findspark\n",
        "from pyspark.sql import SparkSession\n",
        "findspark.init()\n",
        "spark = SparkSession.builder.appName('Reg_Log').getOrCreate()"
      ],
      "metadata": {
        "id": "SINRAxb9WsLO"
      },
      "execution_count": 3,
      "outputs": []
    },
    {
      "cell_type": "code",
      "source": [
        "churn = spark.read.csv('Churn.csv', header=True, inferSchema=True, sep=';')\n",
        "churn.show()"
      ],
      "metadata": {
        "colab": {
          "base_uri": "https://localhost:8080/"
        },
        "id": "JcBipSjzXL7o",
        "outputId": "9b081f59-3024-4348-df6d-54ed896ab930"
      },
      "execution_count": 4,
      "outputs": [
        {
          "output_type": "stream",
          "name": "stdout",
          "text": [
            "+-----------+---------+------+---+------+--------+-------------+---------+--------------+---------------+------+\n",
            "|CreditScore|Geography|Gender|Age|Tenure| Balance|NumOfProducts|HasCrCard|IsActiveMember|EstimatedSalary|Exited|\n",
            "+-----------+---------+------+---+------+--------+-------------+---------+--------------+---------------+------+\n",
            "|        619|   France|Female| 42|     2|       0|            1|        1|             1|       10134888|     1|\n",
            "|        608|    Spain|Female| 41|     1| 8380786|            1|        0|             1|       11254258|     0|\n",
            "|        502|   France|Female| 42|     8| 1596608|            3|        1|             0|       11393157|     1|\n",
            "|        699|   France|Female| 39|     1|       0|            2|        0|             0|        9382663|     0|\n",
            "|        850|    Spain|Female| 43|     2|12551082|            1|        1|             1|         790841|     0|\n",
            "|        645|    Spain|  Male| 44|     8|11375578|            2|        1|             0|       14975671|     1|\n",
            "|        822|   France|  Male| 50|     7|       0|            2|        1|             1|         100628|     0|\n",
            "|        376|  Germany|Female| 29|     4|11504674|            4|        1|             0|       11934688|     1|\n",
            "|        501|   France|  Male| 44|     4|14205107|            2|        0|             1|         749405|     0|\n",
            "|        684|   France|  Male| 27|     2|13460388|            1|        1|             1|        7172573|     0|\n",
            "|        528|   France|  Male| 31|     6|10201672|            2|        0|             0|        8018112|     0|\n",
            "|        497|    Spain|  Male| 24|     3|       0|            2|        1|             0|        7639001|     0|\n",
            "|        476|   France|Female| 34|    10|       0|            2|        1|             0|        2626098|     0|\n",
            "|        549|   France|Female| 25|     5|       0|            2|        0|             0|       19085779|     0|\n",
            "|        635|    Spain|Female| 35|     7|       0|            2|        1|             1|        6595165|     0|\n",
            "|        616|  Germany|  Male| 45|     3|14312941|            2|        0|             1|        6432726|     0|\n",
            "|        653|  Germany|  Male| 58|     1|13260288|            1|        1|             0|         509767|     1|\n",
            "|        549|    Spain|Female| 24|     9|       0|            2|        1|             1|        1440641|     0|\n",
            "|        587|    Spain|  Male| 45|     6|       0|            1|        0|             0|       15868481|     0|\n",
            "|        726|   France|Female| 24|     6|       0|            2|        1|             1|        5472403|     0|\n",
            "+-----------+---------+------+---+------+--------+-------------+---------+--------------+---------------+------+\n",
            "only showing top 20 rows\n",
            "\n"
          ]
        }
      ]
    },
    {
      "cell_type": "code",
      "source": [
        "from pyspark.ml.feature import RFormula"
      ],
      "metadata": {
        "id": "je-1RZXfXbiL"
      },
      "execution_count": 5,
      "outputs": []
    },
    {
      "cell_type": "code",
      "source": [
        "Rformula = RFormula(formula='Exited ~ .', featuresCol='independente', labelCol='dependente')\n",
        "churn_rformula = Rformula.fit(churn).transform(churn)\n",
        "churn_rformula.select('independente','dependente').show(truncate=False)"
      ],
      "metadata": {
        "colab": {
          "base_uri": "https://localhost:8080/"
        },
        "id": "k7AYYgEUX3Ge",
        "outputId": "e18c2f5f-0826-4e75-9eae-dd9da2009640"
      },
      "execution_count": 8,
      "outputs": [
        {
          "output_type": "stream",
          "name": "stdout",
          "text": [
            "+----------------------------------------------------------------+----------+\n",
            "|independente                                                    |dependente|\n",
            "+----------------------------------------------------------------+----------+\n",
            "|[619.0,1.0,0.0,0.0,42.0,2.0,0.0,1.0,1.0,1.0,1.0134888E7]        |1.0       |\n",
            "|[608.0,0.0,0.0,0.0,41.0,1.0,8380786.0,1.0,0.0,1.0,1.1254258E7]  |0.0       |\n",
            "|[502.0,1.0,0.0,0.0,42.0,8.0,1596608.0,3.0,1.0,0.0,1.1393157E7]  |1.0       |\n",
            "|(11,[0,1,4,5,7,10],[699.0,1.0,39.0,1.0,2.0,9382663.0])          |0.0       |\n",
            "|[850.0,0.0,0.0,0.0,43.0,2.0,1.2551082E7,1.0,1.0,1.0,790841.0]   |0.0       |\n",
            "|[645.0,0.0,0.0,1.0,44.0,8.0,1.1375578E7,2.0,1.0,0.0,1.4975671E7]|1.0       |\n",
            "|[822.0,1.0,0.0,1.0,50.0,7.0,0.0,2.0,1.0,1.0,100628.0]           |0.0       |\n",
            "|[376.0,0.0,1.0,0.0,29.0,4.0,1.1504674E7,4.0,1.0,0.0,1.1934688E7]|1.0       |\n",
            "|[501.0,1.0,0.0,1.0,44.0,4.0,1.4205107E7,2.0,0.0,1.0,749405.0]   |0.0       |\n",
            "|[684.0,1.0,0.0,1.0,27.0,2.0,1.3460388E7,1.0,1.0,1.0,7172573.0]  |0.0       |\n",
            "|[528.0,1.0,0.0,1.0,31.0,6.0,1.0201672E7,2.0,0.0,0.0,8018112.0]  |0.0       |\n",
            "|[497.0,0.0,0.0,1.0,24.0,3.0,0.0,2.0,1.0,0.0,7639001.0]          |0.0       |\n",
            "|[476.0,1.0,0.0,0.0,34.0,10.0,0.0,2.0,1.0,0.0,2626098.0]         |0.0       |\n",
            "|(11,[0,1,4,5,7,10],[549.0,1.0,25.0,5.0,2.0,1.9085779E7])        |0.0       |\n",
            "|[635.0,0.0,0.0,0.0,35.0,7.0,0.0,2.0,1.0,1.0,6595165.0]          |0.0       |\n",
            "|[616.0,0.0,1.0,1.0,45.0,3.0,1.4312941E7,2.0,0.0,1.0,6432726.0]  |0.0       |\n",
            "|[653.0,0.0,1.0,1.0,58.0,1.0,1.3260288E7,1.0,1.0,0.0,509767.0]   |1.0       |\n",
            "|[549.0,0.0,0.0,0.0,24.0,9.0,0.0,2.0,1.0,1.0,1440641.0]          |0.0       |\n",
            "|(11,[0,3,4,5,7,10],[587.0,1.0,45.0,6.0,1.0,1.5868481E7])        |0.0       |\n",
            "|[726.0,1.0,0.0,0.0,24.0,6.0,0.0,2.0,1.0,1.0,5472403.0]          |0.0       |\n",
            "+----------------------------------------------------------------+----------+\n",
            "only showing top 20 rows\n",
            "\n"
          ]
        }
      ]
    },
    {
      "cell_type": "code",
      "source": [
        "churn_treino, churn_teste = churn_rformula.randomSplit([0.8,0.2])"
      ],
      "metadata": {
        "id": "LXI0QXspYxTI"
      },
      "execution_count": 9,
      "outputs": []
    },
    {
      "cell_type": "code",
      "source": [
        "churn_treino.count(), churn_teste.count()"
      ],
      "metadata": {
        "colab": {
          "base_uri": "https://localhost:8080/"
        },
        "id": "_xVY8PqLdVhK",
        "outputId": "4f57bedd-89d3-4f46-ccb4-7e1760ea361c"
      },
      "execution_count": 10,
      "outputs": [
        {
          "output_type": "execute_result",
          "data": {
            "text/plain": [
              "(7998, 2002)"
            ]
          },
          "metadata": {},
          "execution_count": 10
        }
      ]
    },
    {
      "cell_type": "code",
      "source": [
        "from pyspark.ml.classification import LogisticRegression"
      ],
      "metadata": {
        "id": "kX3z8MxDdZpF"
      },
      "execution_count": 11,
      "outputs": []
    },
    {
      "cell_type": "code",
      "source": [
        "logistic = LogisticRegression(featuresCol='independente',labelCol='dependente',maxIter=100,regParam=0.08)"
      ],
      "metadata": {
        "id": "qos_EM3Bno4Z"
      },
      "execution_count": 12,
      "outputs": []
    },
    {
      "cell_type": "code",
      "source": [
        "modelo = logistic.fit(churn_treino)"
      ],
      "metadata": {
        "id": "TrCnyd3Yn9vF"
      },
      "execution_count": 13,
      "outputs": []
    },
    {
      "cell_type": "code",
      "source": [
        "resumo = modelo.summary"
      ],
      "metadata": {
        "id": "VgVRzvzjoGrL"
      },
      "execution_count": 14,
      "outputs": []
    },
    {
      "cell_type": "code",
      "source": [
        "acuracia = resumo.accuracy\n",
        "precisao = resumo.weightedPrecision\n",
        "recall = resumo.weightedRecall\n",
        "auc = resumo.areaUnderROC"
      ],
      "metadata": {
        "id": "mUJtdsosoitu"
      },
      "execution_count": 15,
      "outputs": []
    },
    {
      "cell_type": "code",
      "source": [
        "print(acuracia, precisao, recall, auc)"
      ],
      "metadata": {
        "colab": {
          "base_uri": "https://localhost:8080/"
        },
        "id": "i663HWjWpUTh",
        "outputId": "6405a1e8-c29b-40b9-e97f-4a7376bae83f"
      },
      "execution_count": 17,
      "outputs": [
        {
          "output_type": "stream",
          "name": "stdout",
          "text": [
            "0.8034508627156789 0.7781897053709115 0.8034508627156789 0.7663623181567132\n"
          ]
        }
      ]
    },
    {
      "cell_type": "code",
      "source": [
        "from os import truncate\n",
        "previsao = modelo.transform(churn_teste)\n",
        "previsao.select('dependente','prediction','probability','rawPrediction').show(truncate=False)"
      ],
      "metadata": {
        "colab": {
          "base_uri": "https://localhost:8080/"
        },
        "id": "weM-s46ypYYc",
        "outputId": "e756d326-d82c-4f70-96f8-168a30f4017b"
      },
      "execution_count": 21,
      "outputs": [
        {
          "output_type": "stream",
          "name": "stdout",
          "text": [
            "+----------+----------+----------------------------------------+------------------------------------------+\n",
            "|dependente|prediction|probability                             |rawPrediction                             |\n",
            "+----------+----------+----------------------------------------+------------------------------------------+\n",
            "|1.0       |0.0       |[0.7346809814636831,0.2653190185363169] |[1.0185034206849053,-1.0185034206849053]  |\n",
            "|1.0       |0.0       |[0.6712873851377477,0.32871261486225234]|[0.7140134811017247,-0.7140134811017247]  |\n",
            "|1.0       |0.0       |[0.8115880397219309,0.18841196027806906]|[1.4603620276206266,-1.4603620276206266]  |\n",
            "|1.0       |0.0       |[0.7482188182688816,0.2517811817311184] |[1.0891350891524585,-1.0891350891524585]  |\n",
            "|0.0       |0.0       |[0.8532096844770152,0.14679031552298483]|[1.7600001938504475,-1.7600001938504475]  |\n",
            "|0.0       |0.0       |[0.926625882469543,0.07337411753045697] |[2.535978654090731,-2.535978654090731]    |\n",
            "|0.0       |0.0       |[0.8607970811757818,0.1392029188242182] |[1.821926082329112,-1.821926082329112]    |\n",
            "|1.0       |0.0       |[0.8956997401081229,0.10430025989187708]|[2.150331391549886,-2.150331391549886]    |\n",
            "|0.0       |0.0       |[0.9225874305712155,0.0774125694287845] |[2.4780329839790523,-2.4780329839790523]  |\n",
            "|0.0       |0.0       |[0.5998473533118953,0.4001526466881047] |[0.4048291206701964,-0.4048291206701964]  |\n",
            "|0.0       |0.0       |[0.8269372421567036,0.1730627578432964] |[1.5640745151820266,-1.5640745151820266]  |\n",
            "|0.0       |0.0       |[0.8749865294064856,0.12501347059351442]|[1.9457869950308813,-1.9457869950308813]  |\n",
            "|0.0       |0.0       |[0.8093575594233973,0.19064244057660273]|[1.4458411617270137,-1.4458411617270137]  |\n",
            "|0.0       |0.0       |[0.821912878277632,0.17808712172236796] |[1.5293615235122962,-1.5293615235122962]  |\n",
            "|0.0       |0.0       |[0.7592320545350194,0.2407679454649806] |[1.148473880133774,-1.148473880133774]    |\n",
            "|0.0       |0.0       |[0.8898026950536738,0.11019730494632618]|[2.0887273068008736,-2.0887273068008736]  |\n",
            "|1.0       |0.0       |[0.5284166274712773,0.47158337252872273]|[0.11378912926790141,-0.11378912926790141]|\n",
            "|1.0       |1.0       |[0.4605671858429633,0.5394328141570367] |[-0.15805950075735087,0.15805950075735087]|\n",
            "|0.0       |0.0       |[0.7078962513559524,0.29210374864404764]|[0.885188502584777,-0.885188502584777]    |\n",
            "|1.0       |0.0       |[0.5332752585065602,0.4667247414934398] |[0.13329805808074102,-0.13329805808074102]|\n",
            "+----------+----------+----------------------------------------+------------------------------------------+\n",
            "only showing top 20 rows\n",
            "\n"
          ]
        }
      ]
    },
    {
      "cell_type": "code",
      "source": [
        "from pyspark.ml.evaluation import BinaryClassificationEvaluator"
      ],
      "metadata": {
        "id": "k3Jv8jweqKln"
      },
      "execution_count": 22,
      "outputs": []
    },
    {
      "cell_type": "code",
      "source": [
        "avaliar = BinaryClassificationEvaluator(rawPredictionCol='rawPrediction',labelCol='dependente',metricName='areaUnderROC')"
      ],
      "metadata": {
        "id": "rs6Ui0E2rbX-"
      },
      "execution_count": 23,
      "outputs": []
    },
    {
      "cell_type": "code",
      "source": [
        "areaunderROC = avaliar.evaluate(previsao)"
      ],
      "metadata": {
        "id": "SqYjDJdqsD7g"
      },
      "execution_count": 24,
      "outputs": []
    },
    {
      "cell_type": "code",
      "source": [
        "print(areaunderROC)"
      ],
      "metadata": {
        "colab": {
          "base_uri": "https://localhost:8080/"
        },
        "id": "rSzzoKKGsTvC",
        "outputId": "e1803667-98c6-421d-888b-64a57d100953"
      },
      "execution_count": 25,
      "outputs": [
        {
          "output_type": "stream",
          "name": "stdout",
          "text": [
            "0.7712338958860032\n"
          ]
        }
      ]
    },
    {
      "cell_type": "markdown",
      "source": [
        "uma acurácia de 77%"
      ],
      "metadata": {
        "id": "09wTxpJdsoMB"
      }
    }
  ]
}