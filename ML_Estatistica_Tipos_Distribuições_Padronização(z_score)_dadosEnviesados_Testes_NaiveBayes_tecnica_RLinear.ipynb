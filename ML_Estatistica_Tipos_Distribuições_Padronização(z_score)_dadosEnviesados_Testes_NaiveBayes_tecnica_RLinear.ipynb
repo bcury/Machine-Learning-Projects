{
  "nbformat": 4,
  "nbformat_minor": 0,
  "metadata": {
    "colab": {
      "name": "ML_Estatistica_Tipos_Distribuições_Padronização(z-score)_dadosEnviesados_Testes_NaiveBayes_tecnica_RLinear",
      "provenance": [],
      "collapsed_sections": [],
      "authorship_tag": "ABX9TyPatR856hKNtIyGTu6NYHmu",
      "include_colab_link": true
    },
    "kernelspec": {
      "name": "python3",
      "display_name": "Python 3"
    },
    "language_info": {
      "name": "python"
    }
  },
  "cells": [
    {
      "cell_type": "markdown",
      "metadata": {
        "id": "view-in-github",
        "colab_type": "text"
      },
      "source": [
        "<a href=\"https://colab.research.google.com/github/bcury/Machine-Learning-Projects/blob/main/ML_Estatistica_Tipos_Distribui%C3%A7%C3%B5es_Padroniza%C3%A7%C3%A3o(z_score)_dadosEnviesados_Testes_NaiveBayes_tecnica_RLinear.ipynb\" target=\"_parent\"><img src=\"https://colab.research.google.com/assets/colab-badge.svg\" alt=\"Open In Colab\"/></a>"
      ]
    },
    {
      "cell_type": "markdown",
      "source": [
        "**Variaveis continuas**"
      ],
      "metadata": {
        "id": "OX9usAGPuVsS"
      }
    },
    {
      "cell_type": "code",
      "execution_count": 1,
      "metadata": {
        "id": "8eb-13--tKgT"
      },
      "outputs": [],
      "source": [
        "import pandas as pd\n",
        "import numpy as np\n",
        "import seaborn as sns\n",
        "import matplotlib.pyplot as plt\n",
        "from scipy import stats"
      ]
    },
    {
      "cell_type": "markdown",
      "source": [
        "- Distribuição Normal (Distribuição Gaussiana)(bell)"
      ],
      "metadata": {
        "id": "K5c3zDy3vMZu"
      }
    },
    {
      "cell_type": "code",
      "source": [
        "base_normal = stats.norm.rvs(size=1000, random_state=1)"
      ],
      "metadata": {
        "id": "Bf341aNZu5dv"
      },
      "execution_count": 2,
      "outputs": []
    },
    {
      "cell_type": "code",
      "source": [
        "base_normal #dados aleatorios"
      ],
      "metadata": {
        "colab": {
          "base_uri": "https://localhost:8080/"
        },
        "id": "Zab5yVgkw80k",
        "outputId": "2e51ff54-8ffd-4020-d5ac-7292e9b902a3"
      },
      "execution_count": 3,
      "outputs": [
        {
          "output_type": "execute_result",
          "data": {
            "text/plain": [
              "array([ 1.62434536e+00, -6.11756414e-01, -5.28171752e-01, -1.07296862e+00,\n",
              "        8.65407629e-01, -2.30153870e+00,  1.74481176e+00, -7.61206901e-01,\n",
              "        3.19039096e-01, -2.49370375e-01,  1.46210794e+00, -2.06014071e+00,\n",
              "       -3.22417204e-01, -3.84054355e-01,  1.13376944e+00, -1.09989127e+00,\n",
              "       -1.72428208e-01, -8.77858418e-01,  4.22137467e-02,  5.82815214e-01,\n",
              "       -1.10061918e+00,  1.14472371e+00,  9.01590721e-01,  5.02494339e-01,\n",
              "        9.00855949e-01, -6.83727859e-01, -1.22890226e-01, -9.35769434e-01,\n",
              "       -2.67888080e-01,  5.30355467e-01, -6.91660752e-01, -3.96753527e-01,\n",
              "       -6.87172700e-01, -8.45205641e-01, -6.71246131e-01, -1.26645989e-02,\n",
              "       -1.11731035e+00,  2.34415698e-01,  1.65980218e+00,  7.42044161e-01,\n",
              "       -1.91835552e-01, -8.87628964e-01, -7.47158294e-01,  1.69245460e+00,\n",
              "        5.08077548e-02, -6.36995647e-01,  1.90915485e-01,  2.10025514e+00,\n",
              "        1.20158952e-01,  6.17203110e-01,  3.00170320e-01, -3.52249846e-01,\n",
              "       -1.14251820e+00, -3.49342722e-01, -2.08894233e-01,  5.86623191e-01,\n",
              "        8.38983414e-01,  9.31102081e-01,  2.85587325e-01,  8.85141164e-01,\n",
              "       -7.54397941e-01,  1.25286816e+00,  5.12929820e-01, -2.98092835e-01,\n",
              "        4.88518147e-01, -7.55717130e-02,  1.13162939e+00,  1.51981682e+00,\n",
              "        2.18557541e+00, -1.39649634e+00, -1.44411381e+00, -5.04465863e-01,\n",
              "        1.60037069e-01,  8.76168921e-01,  3.15634947e-01, -2.02220122e+00,\n",
              "       -3.06204013e-01,  8.27974643e-01,  2.30094735e-01,  7.62011180e-01,\n",
              "       -2.22328143e-01, -2.00758069e-01,  1.86561391e-01,  4.10051647e-01,\n",
              "        1.98299720e-01,  1.19008646e-01, -6.70662286e-01,  3.77563786e-01,\n",
              "        1.21821271e-01,  1.12948391e+00,  1.19891788e+00,  1.85156417e-01,\n",
              "       -3.75284950e-01, -6.38730407e-01,  4.23494354e-01,  7.73400683e-02,\n",
              "       -3.43853676e-01,  4.35968568e-02, -6.20000844e-01,  6.98032034e-01,\n",
              "       -4.47128565e-01,  1.22450770e+00,  4.03491642e-01,  5.93578523e-01,\n",
              "       -1.09491185e+00,  1.69382433e-01,  7.40556451e-01, -9.53700602e-01,\n",
              "       -2.66218506e-01,  3.26145467e-02, -1.37311732e+00,  3.15159392e-01,\n",
              "        8.46160648e-01, -8.59515941e-01,  3.50545979e-01, -1.31228341e+00,\n",
              "       -3.86955093e-02, -1.61577235e+00,  1.12141771e+00,  4.08900538e-01,\n",
              "       -2.46169559e-02, -7.75161619e-01,  1.27375593e+00,  1.96710175e+00,\n",
              "       -1.85798186e+00,  1.23616403e+00,  1.62765075e+00,  3.38011697e-01,\n",
              "       -1.19926803e+00,  8.63345318e-01, -1.80920302e-01, -6.03920628e-01,\n",
              "       -1.23005814e+00,  5.50537496e-01,  7.92806866e-01, -6.23530730e-01,\n",
              "        5.20576337e-01, -1.14434139e+00,  8.01861032e-01,  4.65672984e-02,\n",
              "       -1.86569772e-01, -1.01745873e-01,  8.68886157e-01,  7.50411640e-01,\n",
              "        5.29465324e-01,  1.37701210e-01,  7.78211279e-02,  6.18380262e-01,\n",
              "        2.32494559e-01,  6.82551407e-01, -3.10116774e-01, -2.43483776e+00,\n",
              "        1.03882460e+00,  2.18697965e+00,  4.41364444e-01, -1.00155233e-01,\n",
              "       -1.36444744e-01, -1.19054188e-01,  1.74094083e-02, -1.12201873e+00,\n",
              "       -5.17094458e-01, -9.97026828e-01,  2.48799161e-01, -2.96641152e-01,\n",
              "        4.95211324e-01, -1.74703160e-01,  9.86335188e-01,  2.13533901e-01,\n",
              "        2.19069973e+00, -1.89636092e+00, -6.46916688e-01,  9.01486892e-01,\n",
              "        2.52832571e+00, -2.48634778e-01,  4.36689932e-02, -2.26314243e-01,\n",
              "        1.33145711e+00, -2.87307863e-01,  6.80069840e-01, -3.19801599e-01,\n",
              "       -1.27255876e+00,  3.13547720e-01,  5.03184813e-01,  1.29322588e+00,\n",
              "       -1.10447026e-01, -6.17362064e-01,  5.62761097e-01,  2.40737092e-01,\n",
              "        2.80665077e-01, -7.31127037e-02,  1.16033857e+00,  3.69492716e-01,\n",
              "        1.90465871e+00,  1.11105670e+00,  6.59049796e-01, -1.62743834e+00,\n",
              "        6.02319280e-01,  4.20282204e-01,  8.10951673e-01,  1.04444209e+00,\n",
              "       -4.00878192e-01,  8.24005618e-01, -5.62305431e-01,  1.95487808e+00,\n",
              "       -1.33195167e+00, -1.76068856e+00, -1.65072127e+00, -8.90555584e-01,\n",
              "       -1.11911540e+00,  1.95607890e+00, -3.26499498e-01, -1.34267579e+00,\n",
              "        1.11438298e+00, -5.86523939e-01, -1.23685338e+00,  8.75838928e-01,\n",
              "        6.23362177e-01, -4.34956683e-01,  1.40754000e+00,  1.29101580e-01,\n",
              "        1.61694960e+00,  5.02740882e-01,  1.55880554e+00,  1.09402696e-01,\n",
              "       -1.21974440e+00,  2.44936865e+00, -5.45774168e-01, -1.98837863e-01,\n",
              "       -7.00398505e-01, -2.03394449e-01,  2.42669441e-01,  2.01830179e-01,\n",
              "        6.61020288e-01,  1.79215821e+00, -1.20464572e-01, -1.23312074e+00,\n",
              "       -1.18231813e+00, -6.65754518e-01, -1.67419581e+00,  8.25029824e-01,\n",
              "       -4.98213564e-01, -3.10984978e-01, -1.89148284e-03, -1.39662042e+00,\n",
              "       -8.61316361e-01,  6.74711526e-01,  6.18539131e-01, -4.43171931e-01,\n",
              "        1.81053491e+00, -1.30572692e+00, -3.44987210e-01, -2.30839743e-01,\n",
              "       -2.79308500e+00,  1.93752881e+00,  3.66332015e-01, -1.04458938e+00,\n",
              "        2.05117344e+00,  5.85662000e-01,  4.29526140e-01, -6.06998398e-01,\n",
              "        1.06222724e-01, -1.52568032e+00,  7.95026094e-01, -3.74438319e-01,\n",
              "        1.34048197e-01,  1.20205486e+00,  2.84748111e-01,  2.62467445e-01,\n",
              "        2.76499305e-01, -7.33271604e-01,  8.36004719e-01,  1.54335911e+00,\n",
              "        7.58805660e-01,  8.84908814e-01, -8.77281519e-01, -8.67787223e-01,\n",
              "       -1.44087602e+00,  1.23225307e+00, -2.54179868e-01,  1.39984394e+00,\n",
              "       -7.81911683e-01, -4.37508983e-01,  9.54250872e-02,  9.21450069e-01,\n",
              "        6.07501958e-02,  2.11124755e-01,  1.65275673e-02,  1.77187720e-01,\n",
              "       -1.11647002e+00,  8.09271010e-02, -1.86578994e-01, -5.68244809e-02,\n",
              "        4.92336556e-01, -6.80678141e-01, -8.45080274e-02, -2.97361883e-01,\n",
              "        4.17302005e-01,  7.84770651e-01, -9.55425262e-01,  5.85910431e-01,\n",
              "        2.06578332e+00, -1.47115693e+00, -8.30171895e-01, -8.80577600e-01,\n",
              "       -2.79097722e-01,  1.62284909e+00,  1.33526763e-02, -6.94693595e-01,\n",
              "        6.21803504e-01, -5.99804531e-01,  1.12341216e+00,  3.05267040e-01,\n",
              "        1.38877940e+00, -6.61344243e-01,  3.03085711e+00,  8.24584625e-01,\n",
              "        6.54580153e-01, -5.11884476e-02, -7.25597119e-01, -8.67768678e-01,\n",
              "       -1.35977326e-01, -7.97269785e-01,  2.82675712e-01, -8.26097432e-01,\n",
              "        6.21082701e-01,  9.56121704e-01, -7.05840507e-01,  1.19268607e+00,\n",
              "       -2.37941936e-01,  1.15528789e+00,  4.38166347e-01,  1.12232832e+00,\n",
              "       -9.97019796e-01, -1.06793987e-01,  1.45142926e+00, -6.18036848e-01,\n",
              "       -2.03720123e+00, -1.94258918e+00, -2.50644065e+00, -2.11416392e+00,\n",
              "       -4.11639163e-01,  1.27852808e+00, -4.42229280e-01,  3.23527354e-01,\n",
              "       -1.09991490e-01,  8.54894544e-03, -1.68198840e-01, -1.74180344e-01,\n",
              "        4.61164100e-01, -1.17598267e+00,  1.01012718e+00,  9.20017933e-01,\n",
              "       -1.95057341e-01,  8.05393424e-01, -7.01344426e-01, -5.37223024e-01,\n",
              "        1.56263850e-01, -1.90221025e-01, -4.48738033e-01, -6.72448039e-01,\n",
              "       -5.57494722e-01,  9.39168744e-01, -1.94332341e+00,  3.52494364e-01,\n",
              "       -2.36436952e-01,  7.27813500e-01,  5.15073614e-01, -2.78253447e+00,\n",
              "        5.84646610e-01,  3.24274243e-01,  2.18628366e-02, -4.68673816e-01,\n",
              "        8.53281222e-01, -4.13029310e-01,  1.83471763e+00,  5.64382855e-01,\n",
              "        2.13782807e+00, -7.85533997e-01, -1.75592564e+00,  7.14789597e-01,\n",
              "        8.52704062e-01,  3.53600971e-02, -1.53879325e+00, -4.47895185e-01,\n",
              "        6.17985534e-01, -1.84176326e-01, -1.15985185e-01, -1.75458969e-01,\n",
              "       -9.33914656e-01, -5.33020326e-01, -1.42655542e+00,  1.76795995e+00,\n",
              "       -4.75372875e-01,  4.77610182e-01, -1.02188594e+00,  7.94528240e-01,\n",
              "       -1.87316098e+00,  9.20615118e-01, -3.53679249e-02,  2.11060505e+00,\n",
              "       -1.30653407e+00,  7.63804802e-02,  3.67231814e-01,  1.23289919e+00,\n",
              "       -4.22856961e-01,  8.64644065e-02, -2.14246673e+00, -8.30168864e-01,\n",
              "        4.51615951e-01,  1.10417433e+00, -2.81736269e-01,  2.05635552e+00,\n",
              "        1.76024923e+00, -6.06524918e-02, -2.41350300e+00, -1.77756638e+00,\n",
              "       -7.77858827e-01,  1.11584111e+00,  3.10272288e-01, -2.09424782e+00,\n",
              "       -2.28765829e-01,  1.61336137e+00, -3.74804687e-01, -7.49969617e-01,\n",
              "        2.05462410e+00,  5.34095368e-02, -4.79157099e-01,  3.50167159e-01,\n",
              "        1.71647264e-02, -4.29142278e-01,  1.20845633e+00,  1.11570180e+00,\n",
              "        8.40861558e-01, -1.02887218e-01,  1.14690038e+00, -4.97025792e-02,\n",
              "        4.66643267e-01,  1.03368687e+00,  8.08844360e-01,  1.78975468e+00,\n",
              "        4.51284016e-01, -1.68405999e+00, -1.16017010e+00,  1.35010682e+00,\n",
              "       -3.31283170e-01,  3.86539145e-01, -8.51455657e-01,  1.00088142e+00,\n",
              "       -3.84832249e-01,  1.45810824e+00, -5.32234021e-01,  1.11813340e+00,\n",
              "        6.74396105e-01, -7.22391905e-01,  1.09899633e+00, -9.01634490e-01,\n",
              "       -8.22467189e-01,  7.21711292e-01, -6.25342001e-01, -5.93843067e-01,\n",
              "       -3.43900709e-01, -1.00016919e+00,  1.04499441e+00,  6.08514698e-01,\n",
              "       -6.93286967e-02, -1.08392067e-01,  4.50155513e-01,  1.76533510e+00,\n",
              "        8.70969803e-01, -5.08457134e-01,  7.77419205e-01, -1.18771172e-01,\n",
              "       -1.98998184e-01,  1.86647138e+00, -4.18937898e-01, -4.79184915e-01,\n",
              "       -1.95210529e+00, -1.40232915e+00,  4.51122939e-01, -6.94920901e-01,\n",
              "        5.15413802e-01, -1.11487105e+00, -7.67309826e-01,  6.74570707e-01,\n",
              "        1.46089238e+00,  5.92472801e-01,  1.19783084e+00,  1.70459417e+00,\n",
              "        1.04008915e+00, -9.18440038e-01, -1.05344713e-01,  6.30195671e-01,\n",
              "       -4.14846901e-01,  4.51946037e-01, -1.57915629e+00, -8.28627979e-01,\n",
              "        5.28879746e-01, -2.23708651e+00, -1.10771250e+00, -1.77183179e-02,\n",
              "       -1.71939447e+00,  5.71209961e-02, -7.99547491e-01, -2.91594596e-01,\n",
              "       -2.58982853e-01,  1.89293198e-01, -5.63788735e-01,  8.96864073e-02,\n",
              "       -6.01156801e-01,  5.56073510e-01,  1.69380911e+00,  1.96869779e-01,\n",
              "        1.69869255e-01, -1.16400797e+00,  6.93366226e-01, -7.58067329e-01,\n",
              "       -8.08847196e-01,  5.57439453e-01,  1.81038744e-01,  1.10717545e+00,\n",
              "        1.44287693e+00, -5.39681562e-01,  1.28376990e-01,  1.76041518e+00,\n",
              "        9.66539250e-01,  7.13049050e-01,  1.30620607e+00, -6.04602969e-01,\n",
              "        6.36583409e-01,  1.40925339e+00,  1.62091229e+00, -8.06184817e-01,\n",
              "       -2.51674208e-01,  3.82715174e-01, -2.88997343e-01, -3.91816240e-01,\n",
              "        6.84001328e-01, -3.53409983e-01, -1.78791289e+00,  3.61847316e-01,\n",
              "       -4.24492791e-01, -7.31530982e-01, -1.56573815e+00,  1.01382247e+00,\n",
              "       -2.22711263e+00, -1.69933360e+00, -2.75846063e-01,  1.22895559e+00,\n",
              "        1.30970591e+00, -1.15498263e+00, -1.77632196e-01, -1.51045638e+00,\n",
              "        1.01120706e+00, -1.47656266e+00, -1.43195745e-01,  1.03298378e+00,\n",
              "       -2.22414029e-01,  1.47016034e+00, -8.70008223e-01,  3.69190470e-01,\n",
              "        8.53282186e-01, -1.39711730e-01,  1.38631426e+00,  5.48129585e-01,\n",
              "       -1.63744959e+00,  3.95860270e+00,  6.48643644e-01,  1.07343294e-01,\n",
              "       -1.39881282e+00,  8.17678188e-02, -4.59942831e-01,  6.44353666e-01,\n",
              "        3.71670291e-01,  1.85300949e+00,  1.42251373e-01,  5.13505480e-01,\n",
              "        3.72456852e-01, -1.48489803e-01, -1.83400197e-01,  1.10100020e+00,\n",
              "        7.80027135e-01, -6.29441604e-01, -1.11343610e+00, -6.74100249e-02,\n",
              "        1.16143998e+00, -2.75293863e-02,  1.74643509e+00, -7.75070287e-01,\n",
              "        1.41640538e-01, -2.51630386e+00, -5.95667881e-01, -3.09121319e-01,\n",
              "        5.10937774e-01,  1.71066184e+00,  3.49435894e-02,  1.45391758e+00,\n",
              "        6.61681076e-01,  9.86352180e-01, -4.66154857e-01,  1.38499134e+00,\n",
              "       -1.07296428e+00,  4.95158611e-01, -9.52062101e-01, -5.18145552e-01,\n",
              "       -1.46140360e+00, -5.16347909e-01,  3.51116897e-01, -6.87704631e-02,\n",
              "       -1.34776494e+00,  1.47073986e+00,  3.37220938e-01,  1.00806543e+00,\n",
              "        7.85226920e-01, -6.64867767e-01, -1.94504696e+00, -9.15424368e-01,\n",
              "        1.22515585e+00, -1.05354607e+00,  8.16043684e-01, -6.12406973e-01,\n",
              "        3.93109245e-01, -1.82391985e+00,  1.16707517e+00, -3.96687001e-02,\n",
              "        8.85825799e-01,  1.89861649e-01,  7.98063795e-01, -1.01932039e-01,\n",
              "        7.43356544e-01, -1.50957268e+00, -1.08071069e+00,  7.25474004e-01,\n",
              "       -3.91782562e-02, -2.28754171e-01, -1.79612295e-01,  5.01725109e-01,\n",
              "       -5.93343754e-01,  5.10307597e-01, -9.15791849e-01, -4.07252043e-01,\n",
              "        9.84951672e-01,  1.07125243e+00, -1.09715436e+00,  8.38634747e-01,\n",
              "       -1.03918232e+00,  7.33023232e-01, -1.89881206e+00, -1.11711069e+00,\n",
              "       -5.08972278e-01, -1.66485955e-01,  1.42361443e+00,  9.03999174e-01,\n",
              "        1.57546791e+00,  1.20660790e+00, -2.82863552e-01, -2.66326884e-01,\n",
              "        1.06897162e+00,  4.03714310e-02, -1.56993672e-01, -1.33520272e+00,\n",
              "       -1.06460122e-01, -2.79099641e+00, -4.56117555e-01, -9.79890252e-01,\n",
              "        6.92574348e-01, -4.78672356e-01, -3.29051549e-01,  1.34710546e+00,\n",
              "       -1.04906775e+00,  3.16658895e-01, -1.89526695e+00,  8.97291174e-02,\n",
              "        4.10265745e-01,  8.59870972e-01, -8.98683193e-01,  3.19656942e-01,\n",
              "        3.18154200e-01, -1.92316341e-02,  1.50016279e-01,  4.63534322e-01,\n",
              "        3.97880425e-01, -9.96010889e-01, -1.19586151e+00,  2.50598029e+00,\n",
              "        1.91979229e+00, -1.39169388e+00,  4.50217742e-01,  6.27437083e-01,\n",
              "        7.51337235e-01,  1.40395436e-01, -9.26871939e-01, -1.82420406e-01,\n",
              "       -4.91125138e-01,  1.34373116e-01, -2.68371304e-01, -1.31675626e-01,\n",
              "        1.01855247e+00,  1.23055820e+00, -1.18110317e+00, -4.59930104e-01,\n",
              "       -7.90799954e-01,  1.22372221e+00, -5.93679025e-02,  1.44898940e+00,\n",
              "       -4.77580855e-01,  2.59999942e-02, -1.34869645e+00,  1.30253554e+00,\n",
              "       -3.62612088e-01, -1.48515645e+00, -5.92461285e-01, -2.30490794e+00,\n",
              "       -3.18171727e-02,  1.12487742e-01,  2.88078167e-01,  1.49810818e+00,\n",
              "       -3.00976154e-01,  8.07455917e-01,  3.12238689e-01, -1.93321640e-01,\n",
              "       -2.07680202e+00,  9.47501167e-01, -5.03973949e-01,  1.79558917e-02,\n",
              "       -1.27046078e+00,  2.82995534e-01,  1.08030817e-01,  2.94176190e-02,\n",
              "       -1.34793129e-01,  1.04921829e+00,  9.66220863e-01,  7.25916853e-01,\n",
              "        3.32107876e+00, -6.00225330e-01, -3.79517516e-01, -1.01480369e+00,\n",
              "        4.35986196e-01, -6.87487393e-01, -2.69836174e+00, -1.21333813e+00,\n",
              "        7.22518992e-02,  1.00978733e+00, -1.55694156e+00, -6.12442128e-01,\n",
              "       -1.39351805e-01, -7.28537489e-01,  5.31163793e-01,  4.00084198e-03,\n",
              "        3.21265914e-01, -7.25214926e-01,  1.53653633e+00, -3.75008758e-04,\n",
              "        1.29354962e+00, -4.38997664e-01,  5.90039464e-01, -6.79383783e-01,\n",
              "       -9.50909251e-01, -7.04350332e-01, -4.58666861e-02, -2.18733459e-01,\n",
              "        1.53920701e+00, -1.14870423e+00, -1.09033833e+00,  1.70018815e+00,\n",
              "        6.08783659e-01, -1.88141087e+00,  4.97269099e-01,  2.37332699e-01,\n",
              "       -2.14444405e+00, -3.69562425e-01, -1.74549518e-02,  7.31402517e-01,\n",
              "        9.54495667e-01,  9.57467711e-02,  1.03345080e+00, -1.46273275e-01,\n",
              "       -8.57496825e-01, -9.34181843e-01,  5.42645295e-01, -1.95816909e+00,\n",
              "        6.77807571e-01, -1.10657307e+00, -3.59224096e-01,  5.05381903e-01,\n",
              "        1.21794090e+00, -1.94068096e+00, -8.06178212e-01,  4.90616924e-02,\n",
              "       -5.96086335e-01,  8.61623101e-01, -2.08639057e+00,  3.61801641e-01,\n",
              "        4.25920177e-01,  4.90803971e-02,  1.10223673e+00, -1.22957425e+00,\n",
              "        1.10861676e+00, -7.02920403e-01,  7.25550518e-01, -3.24204219e-01,\n",
              "        8.14343129e-01,  7.80469930e-01, -1.46405357e+00, -1.54491194e-01,\n",
              "       -9.24323185e-02, -2.37875265e-01, -7.55662765e-01,  1.85143789e+00,\n",
              "        2.09096677e-01,  1.55501599e+00, -5.69148654e-01, -1.06179676e+00,\n",
              "        1.32247779e-01, -5.63236604e-01,  2.39014596e+00,  2.45422849e-01,\n",
              "        1.15259914e+00, -2.24235772e-01, -3.26061306e-01, -3.09114176e-02,\n",
              "        3.55717262e-01,  8.49586845e-01, -1.22154015e-01, -6.80851574e-01,\n",
              "       -1.06787658e+00, -7.66793627e-02,  5.72962726e-01,  4.57947076e-01,\n",
              "       -1.78175491e-02, -6.00138799e-01,  1.46765263e-01,  5.71804879e-01,\n",
              "       -3.68176565e-02,  1.12368489e-01, -1.50504326e-01,  9.15499268e-01,\n",
              "       -4.38200267e-01,  1.85535621e-01,  3.94428030e-01,  7.25522558e-01,\n",
              "        1.49588477e+00,  6.75453809e-01,  5.99213235e-01, -1.47023709e+00,\n",
              "        6.06403944e-01,  2.29371761e+00, -8.30010986e-01, -1.01951985e+00,\n",
              "       -2.14653842e-01,  1.02124813e+00,  5.24750492e-01, -4.77124206e-01,\n",
              "       -3.59901817e-02,  1.03703898e+00,  6.72619748e-01,  2.42887697e+00,\n",
              "        1.00568668e+00,  3.53567216e-01,  6.14726276e-01, -3.48984191e-01,\n",
              "       -9.77773002e-01,  1.71957132e-01,  4.90561044e-01, -1.39528303e+00,\n",
              "       -5.22356465e-01, -3.69255902e-01,  2.65642403e-01, -2.60466059e-01,\n",
              "        4.45096710e-01,  9.81122462e-02,  1.06032751e+00, -1.71116766e+00,\n",
              "        1.65712464e+00,  1.41767401e+00,  5.03170861e-02,  6.50323214e-01,\n",
              "        6.06548400e-01, -7.37289628e-01,  1.64665066e-01,  7.78174179e-01,\n",
              "        3.09816759e-01,  1.05132077e+00,  9.49961101e-02,  8.07509886e-02,\n",
              "       -7.67803746e-01, -3.64538050e-01, -4.59717681e-01,  1.70548352e+00,\n",
              "        2.40505552e-01, -9.99426501e-01,  3.98598388e-01, -1.92003697e-01,\n",
              "       -3.05376438e+00,  4.79852371e-01, -1.55269878e+00,  5.78464420e-01,\n",
              "       -9.61263599e-01, -1.45832446e+00,  4.94341651e-01, -1.49419377e+00,\n",
              "       -4.46699203e-01,  2.04377395e-01,  6.12232523e-01,  7.44884536e-01,\n",
              "       -3.62812886e-02, -8.32395348e-01,  1.92381543e+00, -6.05981321e-01,\n",
              "        1.80358898e+00, -4.52524973e-01,  1.16128569e+00,  1.06996554e+00,\n",
              "       -1.04553425e+00,  3.55284507e-01,  7.55392029e-01,  7.00982122e-01,\n",
              "       -1.98937450e-01,  3.01960045e-01, -3.94689681e-01, -1.17181338e+00,\n",
              "        9.84012237e-01, -5.59681422e-01,  1.37975819e+00,  6.02450901e-01,\n",
              "       -8.92646674e-01, -1.61198320e-01, -2.86384915e-01, -8.70887650e-01,\n",
              "        5.01429590e-01, -4.78614074e-01,  1.63169151e+00,  8.60891241e-01,\n",
              "       -8.80189065e-01, -1.90005215e-02, -2.26760192e-01, -1.56450785e+00,\n",
              "        9.31255679e-01,  9.49808815e-01,  9.25501215e-01, -4.56987858e-01,\n",
              "        1.06898597e+00, -2.09752935e-01,  9.35147780e-01,  1.81252782e+00,\n",
              "        1.40109881e-01, -1.41914878e+00, -3.16901197e-01,  6.40985866e-01,\n",
              "        1.21987438e+00, -1.13379204e+00, -1.90548298e-01,  2.33339126e-01,\n",
              "        4.34998324e-01,  9.10423603e-01, -9.48439656e-01, -4.23478297e-01,\n",
              "        1.00796648e+00,  3.92334911e-01,  4.48380651e-01,  1.12532350e+00,\n",
              "        1.04053390e-01,  5.28003422e-01, -3.14563862e-01, -1.34501002e+00,\n",
              "       -1.29525789e+00,  7.43205537e-02, -1.99560718e-01, -6.54603169e-01,\n",
              "        3.18014296e-01, -8.90271552e-01,  1.11337266e-01, -1.95225583e-02,\n",
              "       -8.39988915e-01, -2.29820588e+00,  1.45652739e+00,  3.16637236e-01,\n",
              "       -2.66412594e+00, -4.26428618e-01,  3.93787731e-01, -2.28140691e-01,\n",
              "        5.80330113e-01, -9.73267585e-01,  1.75167729e-01, -5.34836927e-02,\n",
              "       -1.83061987e-01, -2.21028902e-01,  1.99759555e-01,  9.32721414e-01,\n",
              "       -5.30119800e-01, -4.07240024e-01,  1.60564992e-01, -1.20149976e-01,\n",
              "        3.85602292e-01,  7.18290736e-01,  1.29118890e+00, -1.16444148e-01,\n",
              "       -2.27729800e+00, -6.96245395e-02,  3.53870427e-01, -1.86955017e-01])"
            ]
          },
          "metadata": {},
          "execution_count": 3
        }
      ]
    },
    {
      "cell_type": "code",
      "source": [
        "min(base_normal), max(base_normal)"
      ],
      "metadata": {
        "colab": {
          "base_uri": "https://localhost:8080/"
        },
        "id": "poZ8KQI0w-c9",
        "outputId": "216f51bb-f0a3-4092-93c0-5b8561e85947"
      },
      "execution_count": 4,
      "outputs": [
        {
          "output_type": "execute_result",
          "data": {
            "text/plain": [
              "(-3.053764380426305, 3.9586027040379634)"
            ]
          },
          "metadata": {},
          "execution_count": 4
        }
      ]
    },
    {
      "cell_type": "code",
      "source": [
        "sns.distplot(base_normal,hist=True,kde=True);"
      ],
      "metadata": {
        "colab": {
          "base_uri": "https://localhost:8080/",
          "height": 320
        },
        "id": "f08Hb4Iwx410",
        "outputId": "50fe896b-9429-4a03-afa7-0e333b3f2c77"
      },
      "execution_count": 5,
      "outputs": [
        {
          "output_type": "stream",
          "name": "stderr",
          "text": [
            "/usr/local/lib/python3.7/dist-packages/seaborn/distributions.py:2619: FutureWarning: `distplot` is a deprecated function and will be removed in a future version. Please adapt your code to use either `displot` (a figure-level function with similar flexibility) or `histplot` (an axes-level function for histograms).\n",
            "  warnings.warn(msg, FutureWarning)\n"
          ]
        },
        {
          "output_type": "display_data",
          "data": {
            "image/png": "[encoded data removed]",
            "text/plain": [
              "<Figure size 432x288 with 1 Axes>"
            ]
          },
          "metadata": {
            "needs_background": "light"
          }
        }
      ]
    },
    {
      "cell_type": "markdown",
      "source": [
        "vamos ver a média, mediana, moda, variancia e desvio padrão dos dados"
      ],
      "metadata": {
        "id": "TErS3_l9zloE"
      }
    },
    {
      "cell_type": "code",
      "source": [
        "base_normal.mean(), np.median(base_normal), stats.mode(base_normal), np.var(base_normal), np.std(base_normal)"
      ],
      "metadata": {
        "colab": {
          "base_uri": "https://localhost:8080/"
        },
        "id": "arFHJmQnyAZI",
        "outputId": "d47895e0-1a2a-4249-87c1-bd061039f732"
      },
      "execution_count": 6,
      "outputs": [
        {
          "output_type": "execute_result",
          "data": {
            "text/plain": [
              "(0.03881247615960185,\n",
              " 0.04129258886921605,\n",
              " ModeResult(mode=array([-3.05376438]), count=array([1])),\n",
              " 0.9623691107920885,\n",
              " 0.9810041339322116)"
            ]
          },
          "metadata": {},
          "execution_count": 6
        }
      ]
    },
    {
      "cell_type": "code",
      "source": [
        "np.sum((base_normal >= 0.9810041339322116) & (base_normal <= 0.9810041339322116 + 1)) #elementos da direita no gráfico"
      ],
      "metadata": {
        "colab": {
          "base_uri": "https://localhost:8080/"
        },
        "id": "XGCcWXwYy-GP",
        "outputId": "adbf385f-7881-494e-af84-074375ebb515"
      },
      "execution_count": 7,
      "outputs": [
        {
          "output_type": "execute_result",
          "data": {
            "text/plain": [
              "148"
            ]
          },
          "metadata": {},
          "execution_count": 7
        }
      ]
    },
    {
      "cell_type": "code",
      "source": [
        "np.sum((base_normal <= 0.9810041339322116) & (base_normal >= 0.9810041339322116 - 1)) #elementos da esquerda do grafico"
      ],
      "metadata": {
        "colab": {
          "base_uri": "https://localhost:8080/"
        },
        "id": "4cWWSqXw0Z69",
        "outputId": "9274cbb9-0b0f-4b86-cc2a-51dc32112286"
      },
      "execution_count": 8,
      "outputs": [
        {
          "output_type": "execute_result",
          "data": {
            "text/plain": [
              "353"
            ]
          },
          "metadata": {},
          "execution_count": 8
        }
      ]
    },
    {
      "cell_type": "code",
      "source": [
        "(148 + 353) / 1000 # resultado sao os elementos do meio da grafico, 50%"
      ],
      "metadata": {
        "colab": {
          "base_uri": "https://localhost:8080/"
        },
        "id": "LE7MI1vg07Ac",
        "outputId": "dc0506c6-b362-4e8c-fb92-7f400e4c2fcd"
      },
      "execution_count": 9,
      "outputs": [
        {
          "output_type": "execute_result",
          "data": {
            "text/plain": [
              "0.501"
            ]
          },
          "metadata": {},
          "execution_count": 9
        }
      ]
    },
    {
      "cell_type": "markdown",
      "source": [
        "outro exemplo: base com dados de alturas"
      ],
      "metadata": {
        "id": "RxjDj_gj2HQc"
      }
    },
    {
      "cell_type": "code",
      "source": [
        "base_altura = np.array([126, 148, 162, 180, 121, 171, 162, 137, 133,\n",
        "                       160, 175, 182, 183, 156, 147, 179, 170, 180,\n",
        "                       180, 178, 157, 166, 174, 154, 178, 196, 165,\n",
        "                       161, 193, 124, 133, 158, 189, 169, 130, 165,\n",
        "                       149, 179, 158, 149, 140, 151, 150, 146, 181,\n",
        "                       188, 190, 157, 167, 163, 150, 149, 182, 169,\n",
        "                       151, 139, 148, 155, 156, 170, 150, 170, 172,\n",
        "                       168, 192, 143, 129, 167, 177, 166, 166, 179,\n",
        "                       150, 180, 168, 161, 171, 161, 129, 133, 122,\n",
        "                       121, 130, 138, 157, 133, 168, 179, 179, 158,\n",
        "                       147, 179, 180, 154, 139, 169, 170, 150, 178, 140.8])"
      ],
      "metadata": {
        "id": "thg8yB571jOq"
      },
      "execution_count": 10,
      "outputs": []
    },
    {
      "cell_type": "code",
      "source": [
        "base_altura = np.sort(base_altura) #ordem"
      ],
      "metadata": {
        "id": "57X2ukDB47Hj"
      },
      "execution_count": 11,
      "outputs": []
    },
    {
      "cell_type": "code",
      "source": [
        "base_altura"
      ],
      "metadata": {
        "colab": {
          "base_uri": "https://localhost:8080/"
        },
        "id": "9JHpCLv75zK6",
        "outputId": "21c8cdfe-5787-4ea0-8c10-a397f87facd8"
      },
      "execution_count": 12,
      "outputs": [
        {
          "output_type": "execute_result",
          "data": {
            "text/plain": [
              "array([121. , 121. , 122. , 124. , 126. , 129. , 129. , 130. , 130. ,\n",
              "       133. , 133. , 133. , 133. , 137. , 138. , 139. , 139. , 140. ,\n",
              "       140.8, 143. , 146. , 147. , 147. , 148. , 148. , 149. , 149. ,\n",
              "       149. , 150. , 150. , 150. , 150. , 150. , 151. , 151. , 154. ,\n",
              "       154. , 155. , 156. , 156. , 157. , 157. , 157. , 158. , 158. ,\n",
              "       158. , 160. , 161. , 161. , 161. , 162. , 162. , 163. , 165. ,\n",
              "       165. , 166. , 166. , 166. , 167. , 167. , 168. , 168. , 168. ,\n",
              "       169. , 169. , 169. , 170. , 170. , 170. , 170. , 171. , 171. ,\n",
              "       172. , 174. , 175. , 177. , 178. , 178. , 178. , 179. , 179. ,\n",
              "       179. , 179. , 179. , 179. , 180. , 180. , 180. , 180. , 180. ,\n",
              "       181. , 182. , 182. , 183. , 188. , 189. , 190. , 192. , 193. ,\n",
              "       196. ])"
            ]
          },
          "metadata": {},
          "execution_count": 12
        }
      ]
    },
    {
      "cell_type": "code",
      "source": [
        "len(base_altura)"
      ],
      "metadata": {
        "colab": {
          "base_uri": "https://localhost:8080/"
        },
        "id": "x68BwU_N51FB",
        "outputId": "b3e0e0e1-2140-4533-be9b-8e26dc28f39f"
      },
      "execution_count": 13,
      "outputs": [
        {
          "output_type": "execute_result",
          "data": {
            "text/plain": [
              "100"
            ]
          },
          "metadata": {},
          "execution_count": 13
        }
      ]
    },
    {
      "cell_type": "code",
      "source": [
        "min(base_altura), max(base_altura)"
      ],
      "metadata": {
        "colab": {
          "base_uri": "https://localhost:8080/"
        },
        "id": "52Gl-OUE6BL4",
        "outputId": "ee31a26f-26c1-40bc-f0a6-506af1dd1bee"
      },
      "execution_count": 14,
      "outputs": [
        {
          "output_type": "execute_result",
          "data": {
            "text/plain": [
              "(121.0, 196.0)"
            ]
          },
          "metadata": {},
          "execution_count": 14
        }
      ]
    },
    {
      "cell_type": "markdown",
      "source": [
        "estatisticas"
      ],
      "metadata": {
        "id": "vspif-Lo-q3x"
      }
    },
    {
      "cell_type": "code",
      "source": [
        "base_altura.mean(), np.median(base_altura), stats.mode(base_altura), np.std(base_altura), np.var(base_altura), stats.variation(base_altura) * 100"
      ],
      "metadata": {
        "colab": {
          "base_uri": "https://localhost:8080/"
        },
        "id": "rKp6AlLd6ckA",
        "outputId": "b9decc80-5337-40e1-e990-8888b0672981"
      },
      "execution_count": 15,
      "outputs": [
        {
          "output_type": "execute_result",
          "data": {
            "text/plain": [
              "(160.028,\n",
              " 161.5,\n",
              " ModeResult(mode=array([179.]), count=array([6])),\n",
              " 18.37404734945461,\n",
              " 337.605616,\n",
              " 11.481770283609501)"
            ]
          },
          "metadata": {},
          "execution_count": 15
        }
      ]
    },
    {
      "cell_type": "code",
      "source": [
        "sns.distplot(base_altura);"
      ],
      "metadata": {
        "colab": {
          "base_uri": "https://localhost:8080/",
          "height": 320
        },
        "id": "nssapNOw-vmm",
        "outputId": "e6c3ad3b-f063-4de8-8c6d-d8c76c0c5fb1"
      },
      "execution_count": 16,
      "outputs": [
        {
          "output_type": "stream",
          "name": "stderr",
          "text": [
            "/usr/local/lib/python3.7/dist-packages/seaborn/distributions.py:2619: FutureWarning: `distplot` is a deprecated function and will be removed in a future version. Please adapt your code to use either `displot` (a figure-level function with similar flexibility) or `histplot` (an axes-level function for histograms).\n",
            "  warnings.warn(msg, FutureWarning)\n"
          ]
        },
        {
          "output_type": "display_data",
          "data": {
            "image/png": "[encoded data removed]",
            "text/plain": [
              "<Figure size 432x288 with 1 Axes>"
            ]
          },
          "metadata": {
            "needs_background": "light"
          }
        }
      ]
    },
    {
      "cell_type": "markdown",
      "source": [
        "- Enviesamento"
      ],
      "metadata": {
        "id": "GEQhYV1HD2Ay"
      }
    },
    {
      "cell_type": "code",
      "source": [
        "from scipy.stats import skewnorm"
      ],
      "metadata": {
        "id": "fX42OAah_Z8L"
      },
      "execution_count": 17,
      "outputs": []
    },
    {
      "cell_type": "code",
      "source": [
        "base_normal = skewnorm.rvs(a =0, size=100) # a=0 , nao tem enviesamento"
      ],
      "metadata": {
        "id": "RAY6GDM2EIbv"
      },
      "execution_count": 18,
      "outputs": []
    },
    {
      "cell_type": "code",
      "source": [
        "sns.distplot(base_normal);"
      ],
      "metadata": {
        "colab": {
          "base_uri": "https://localhost:8080/",
          "height": 320
        },
        "id": "O_96013vEhK_",
        "outputId": "25a074b7-fa65-4ce1-ff12-9e64f877b718"
      },
      "execution_count": 19,
      "outputs": [
        {
          "output_type": "stream",
          "name": "stderr",
          "text": [
            "/usr/local/lib/python3.7/dist-packages/seaborn/distributions.py:2619: FutureWarning: `distplot` is a deprecated function and will be removed in a future version. Please adapt your code to use either `displot` (a figure-level function with similar flexibility) or `histplot` (an axes-level function for histograms).\n",
            "  warnings.warn(msg, FutureWarning)\n"
          ]
        },
        {
          "output_type": "display_data",
          "data": {
            "image/png": "[encoded data removed]",
            "text/plain": [
              "<Figure size 432x288 with 1 Axes>"
            ]
          },
          "metadata": {
            "needs_background": "light"
          }
        }
      ]
    },
    {
      "cell_type": "code",
      "source": [
        "base_normal.mean(), np.median(base_normal), stats.mode(base_normal)"
      ],
      "metadata": {
        "colab": {
          "base_uri": "https://localhost:8080/"
        },
        "id": "-F43jwMIEs0N",
        "outputId": "a0ed7f54-99b6-4aa0-f6fe-70231683d9b3"
      },
      "execution_count": 20,
      "outputs": [
        {
          "output_type": "execute_result",
          "data": {
            "text/plain": [
              "(0.08637864598150814,\n",
              " 0.1479226435469101,\n",
              " ModeResult(mode=array([-2.68485739]), count=array([1])))"
            ]
          },
          "metadata": {},
          "execution_count": 20
        }
      ]
    },
    {
      "cell_type": "code",
      "source": [
        "dados_enviesados_positivo = skewnorm.rvs(a =10, size=1000)"
      ],
      "metadata": {
        "id": "FEeQK1goE81R"
      },
      "execution_count": 21,
      "outputs": []
    },
    {
      "cell_type": "code",
      "source": [
        "sns.distplot(dados_enviesados_positivo); #esta enviesado para o canto esquerdo"
      ],
      "metadata": {
        "colab": {
          "base_uri": "https://localhost:8080/",
          "height": 320
        },
        "id": "lX62bVhcFfl3",
        "outputId": "595738dd-7d60-4cde-f1f0-3094208c79fe"
      },
      "execution_count": 22,
      "outputs": [
        {
          "output_type": "stream",
          "name": "stderr",
          "text": [
            "/usr/local/lib/python3.7/dist-packages/seaborn/distributions.py:2619: FutureWarning: `distplot` is a deprecated function and will be removed in a future version. Please adapt your code to use either `displot` (a figure-level function with similar flexibility) or `histplot` (an axes-level function for histograms).\n",
            "  warnings.warn(msg, FutureWarning)\n"
          ]
        },
        {
          "output_type": "display_data",
          "data": {
            "image/png": "[encoded data removed]",
            "text/plain": [
              "<Figure size 432x288 with 1 Axes>"
            ]
          },
          "metadata": {
            "needs_background": "light"
          }
        }
      ]
    },
    {
      "cell_type": "markdown",
      "source": [
        "dados enviesados positivos tem a caracteristica de ter média > mediana > moda"
      ],
      "metadata": {
        "id": "QrBBmvJvHAZX"
      }
    },
    {
      "cell_type": "code",
      "source": [
        "dados_enviesados_positivo.mean(), np.median(dados_enviesados_positivo), stats.mode(dados_enviesados_positivo)"
      ],
      "metadata": {
        "colab": {
          "base_uri": "https://localhost:8080/"
        },
        "id": "x18QoUdwFnJq",
        "outputId": "5ba5eab9-c1e9-4235-b876-4e31f8c23b4d"
      },
      "execution_count": 23,
      "outputs": [
        {
          "output_type": "execute_result",
          "data": {
            "text/plain": [
              "(0.7981389326144003,\n",
              " 0.6884135682119619,\n",
              " ModeResult(mode=array([-0.21072035]), count=array([1])))"
            ]
          },
          "metadata": {},
          "execution_count": 23
        }
      ]
    },
    {
      "cell_type": "code",
      "source": [
        "dados_enviesados_negativo = skewnorm.rvs(a =-10, size=1000)"
      ],
      "metadata": {
        "id": "CxcuMSIAGgii"
      },
      "execution_count": 24,
      "outputs": []
    },
    {
      "cell_type": "code",
      "source": [
        "sns.distplot(dados_enviesados_negativo); #enviesado para o canto direito"
      ],
      "metadata": {
        "colab": {
          "base_uri": "https://localhost:8080/",
          "height": 320
        },
        "id": "xzutiZ0xHnVp",
        "outputId": "42eb1d8b-9fa7-457b-98b1-ba4631b5dbe5"
      },
      "execution_count": 25,
      "outputs": [
        {
          "output_type": "stream",
          "name": "stderr",
          "text": [
            "/usr/local/lib/python3.7/dist-packages/seaborn/distributions.py:2619: FutureWarning: `distplot` is a deprecated function and will be removed in a future version. Please adapt your code to use either `displot` (a figure-level function with similar flexibility) or `histplot` (an axes-level function for histograms).\n",
            "  warnings.warn(msg, FutureWarning)\n"
          ]
        },
        {
          "output_type": "display_data",
          "data": {
            "image/png": "[encoded data removed]",
            "text/plain": [
              "<Figure size 432x288 with 1 Axes>"
            ]
          },
          "metadata": {
            "needs_background": "light"
          }
        }
      ]
    },
    {
      "cell_type": "markdown",
      "source": [
        "aqui a caraceristica é ter a mediana > média"
      ],
      "metadata": {
        "id": "rHSF1ndiIWTK"
      }
    },
    {
      "cell_type": "code",
      "source": [
        "dados_enviesados_negativo.mean(), np.median(dados_enviesados_negativo), stats.mode(dados_enviesados_negativo)"
      ],
      "metadata": {
        "colab": {
          "base_uri": "https://localhost:8080/"
        },
        "id": "tVoPKvFEHtVY",
        "outputId": "f63c677d-f2e0-41a5-db8b-f112c352a787"
      },
      "execution_count": 26,
      "outputs": [
        {
          "output_type": "execute_result",
          "data": {
            "text/plain": [
              "(-0.811556387345161,\n",
              " -0.6792045450226606,\n",
              " ModeResult(mode=array([-3.40368113]), count=array([1])))"
            ]
          },
          "metadata": {},
          "execution_count": 26
        }
      ]
    },
    {
      "cell_type": "markdown",
      "source": [
        "- Distribuição Normal Padronizada"
      ],
      "metadata": {
        "id": "nlUz99kWIxDq"
      }
    },
    {
      "cell_type": "code",
      "source": [
        "dados_normal_padronizado = np.random.standard_normal(size=1000)"
      ],
      "metadata": {
        "id": "V5Jidj1UIAaC"
      },
      "execution_count": 27,
      "outputs": []
    },
    {
      "cell_type": "code",
      "source": [
        "min(dados_normal_padronizado), max(dados_normal_padronizado)"
      ],
      "metadata": {
        "colab": {
          "base_uri": "https://localhost:8080/"
        },
        "id": "jA2sh9aSUEHH",
        "outputId": "b5e44b76-efed-42a0-f3d8-06e2e910590f"
      },
      "execution_count": 28,
      "outputs": [
        {
          "output_type": "execute_result",
          "data": {
            "text/plain": [
              "(-3.9496631298648777, 3.5300432187774318)"
            ]
          },
          "metadata": {},
          "execution_count": 28
        }
      ]
    },
    {
      "cell_type": "code",
      "source": [
        "sns.distplot(dados_normal_padronizado);"
      ],
      "metadata": {
        "colab": {
          "base_uri": "https://localhost:8080/",
          "height": 320
        },
        "id": "xWxqMD6nUMIX",
        "outputId": "d4be89d4-b09c-44f2-e5f2-cdba775f65f4"
      },
      "execution_count": 29,
      "outputs": [
        {
          "output_type": "stream",
          "name": "stderr",
          "text": [
            "/usr/local/lib/python3.7/dist-packages/seaborn/distributions.py:2619: FutureWarning: `distplot` is a deprecated function and will be removed in a future version. Please adapt your code to use either `displot` (a figure-level function with similar flexibility) or `histplot` (an axes-level function for histograms).\n",
            "  warnings.warn(msg, FutureWarning)\n"
          ]
        },
        {
          "output_type": "display_data",
          "data": {
            "image/png": "[encoded data removed]",
            "text/plain": [
              "<Figure size 432x288 with 1 Axes>"
            ]
          },
          "metadata": {
            "needs_background": "light"
          }
        }
      ]
    },
    {
      "cell_type": "markdown",
      "source": [
        "padronizado se espera a média em torno de zero, e o desvio padrao em torno de 1"
      ],
      "metadata": {
        "id": "2zzHDnWCU9dL"
      }
    },
    {
      "cell_type": "code",
      "source": [
        "dados_normal_padronizado.mean(), np.std(dados_normal_padronizado)"
      ],
      "metadata": {
        "colab": {
          "base_uri": "https://localhost:8080/"
        },
        "id": "3tdrwSC8UeJf",
        "outputId": "e0ba1640-66c3-4f56-8b7f-4ffa393d1e6f"
      },
      "execution_count": 30,
      "outputs": [
        {
          "output_type": "execute_result",
          "data": {
            "text/plain": [
              "(0.0026164678628132414, 0.9813592862895351)"
            ]
          },
          "metadata": {},
          "execution_count": 30
        }
      ]
    },
    {
      "cell_type": "code",
      "source": [
        "media = base_altura.mean()\n",
        "media"
      ],
      "metadata": {
        "colab": {
          "base_uri": "https://localhost:8080/"
        },
        "id": "K8Pty322U0ph",
        "outputId": "d1d7435b-47e0-4d20-94f0-a9fa34ee17f0"
      },
      "execution_count": 31,
      "outputs": [
        {
          "output_type": "execute_result",
          "data": {
            "text/plain": [
              "160.028"
            ]
          },
          "metadata": {},
          "execution_count": 31
        }
      ]
    },
    {
      "cell_type": "code",
      "source": [
        "desvio_padrao = np.std(base_altura)\n",
        "desvio_padrao"
      ],
      "metadata": {
        "colab": {
          "base_uri": "https://localhost:8080/"
        },
        "id": "JgX_fPh6VcVM",
        "outputId": "d6eb7d7c-d222-491e-cd14-47dcdc53201e"
      },
      "execution_count": 32,
      "outputs": [
        {
          "output_type": "execute_result",
          "data": {
            "text/plain": [
              "18.37404734945461"
            ]
          },
          "metadata": {},
          "execution_count": 32
        }
      ]
    },
    {
      "cell_type": "code",
      "source": [
        "base_padronizada = (base_altura - media) / desvio_padrao #z-score\n",
        "base_padronizada"
      ],
      "metadata": {
        "colab": {
          "base_uri": "https://localhost:8080/"
        },
        "id": "Smu-L9hRVlma",
        "outputId": "cff2ea6a-074e-4554-dcbd-d5bd25e1694c"
      },
      "execution_count": 33,
      "outputs": [
        {
          "output_type": "execute_result",
          "data": {
            "text/plain": [
              "array([-2.12408291e+00, -2.12408291e+00, -2.06965832e+00, -1.96080914e+00,\n",
              "       -1.85195996e+00, -1.68868619e+00, -1.68868619e+00, -1.63426160e+00,\n",
              "       -1.63426160e+00, -1.47098783e+00, -1.47098783e+00, -1.47098783e+00,\n",
              "       -1.47098783e+00, -1.25328947e+00, -1.19886488e+00, -1.14444029e+00,\n",
              "       -1.14444029e+00, -1.09001570e+00, -1.04647602e+00, -9.26741924e-01,\n",
              "       -7.63468153e-01, -7.09043563e-01, -7.09043563e-01, -6.54618973e-01,\n",
              "       -6.54618973e-01, -6.00194382e-01, -6.00194382e-01, -6.00194382e-01,\n",
              "       -5.45769792e-01, -5.45769792e-01, -5.45769792e-01, -5.45769792e-01,\n",
              "       -5.45769792e-01, -4.91345202e-01, -4.91345202e-01, -3.28071431e-01,\n",
              "       -3.28071431e-01, -2.73646840e-01, -2.19222250e-01, -2.19222250e-01,\n",
              "       -1.64797660e-01, -1.64797660e-01, -1.64797660e-01, -1.10373069e-01,\n",
              "       -1.10373069e-01, -1.10373069e-01, -1.52388853e-03,  5.29007018e-02,\n",
              "        5.29007018e-02,  5.29007018e-02,  1.07325292e-01,  1.07325292e-01,\n",
              "        1.61749883e-01,  2.70599063e-01,  2.70599063e-01,  3.25023654e-01,\n",
              "        3.25023654e-01,  3.25023654e-01,  3.79448244e-01,  3.79448244e-01,\n",
              "        4.33872834e-01,  4.33872834e-01,  4.33872834e-01,  4.88297425e-01,\n",
              "        4.88297425e-01,  4.88297425e-01,  5.42722015e-01,  5.42722015e-01,\n",
              "        5.42722015e-01,  5.42722015e-01,  5.97146605e-01,  5.97146605e-01,\n",
              "        6.51571196e-01,  7.60420376e-01,  8.14844967e-01,  9.23694147e-01,\n",
              "        9.78118738e-01,  9.78118738e-01,  9.78118738e-01,  1.03254333e+00,\n",
              "        1.03254333e+00,  1.03254333e+00,  1.03254333e+00,  1.03254333e+00,\n",
              "        1.03254333e+00,  1.08696792e+00,  1.08696792e+00,  1.08696792e+00,\n",
              "        1.08696792e+00,  1.08696792e+00,  1.14139251e+00,  1.19581710e+00,\n",
              "        1.19581710e+00,  1.25024169e+00,  1.52236464e+00,  1.57678923e+00,\n",
              "        1.63121382e+00,  1.74006300e+00,  1.79448759e+00,  1.95776136e+00])"
            ]
          },
          "metadata": {},
          "execution_count": 33
        }
      ]
    },
    {
      "cell_type": "code",
      "source": [
        "base_padronizada.mean(), np.std(base_padronizada) # 0 media e 1 std"
      ],
      "metadata": {
        "colab": {
          "base_uri": "https://localhost:8080/"
        },
        "id": "2ky8CMRXV-nk",
        "outputId": "6697cb91-2505-4695-de21-d9b5f4d570de"
      },
      "execution_count": 34,
      "outputs": [
        {
          "output_type": "execute_result",
          "data": {
            "text/plain": [
              "(4.596323321948148e-16, 1.0)"
            ]
          },
          "metadata": {},
          "execution_count": 34
        }
      ]
    },
    {
      "cell_type": "code",
      "source": [
        "sns.distplot(base_padronizada); #mesma distribuição"
      ],
      "metadata": {
        "colab": {
          "base_uri": "https://localhost:8080/",
          "height": 320
        },
        "id": "3iteu50jWMbQ",
        "outputId": "4897ecd6-1f61-476b-da69-7cb204de0ff2"
      },
      "execution_count": 35,
      "outputs": [
        {
          "output_type": "stream",
          "name": "stderr",
          "text": [
            "/usr/local/lib/python3.7/dist-packages/seaborn/distributions.py:2619: FutureWarning: `distplot` is a deprecated function and will be removed in a future version. Please adapt your code to use either `displot` (a figure-level function with similar flexibility) or `histplot` (an axes-level function for histograms).\n",
            "  warnings.warn(msg, FutureWarning)\n"
          ]
        },
        {
          "output_type": "display_data",
          "data": {
            "image/png": "[encoded data removed]",
            "text/plain": [
              "<Figure size 432x288 with 1 Axes>"
            ]
          },
          "metadata": {
            "needs_background": "light"
          }
        }
      ]
    },
    {
      "cell_type": "markdown",
      "source": [
        "- Teorema Central do Limite"
      ],
      "metadata": {
        "id": "LcW4dozsW4LN"
      }
    },
    {
      "cell_type": "markdown",
      "source": [
        "\"Quando o tamanho da amostra aumenta, a distribuição da amostra da sua média aproxima-se cada vez mais de uma distribuiçao normal\""
      ],
      "metadata": {
        "id": "UxN8M-roW_8t"
      }
    },
    {
      "cell_type": "code",
      "source": [
        "alturas = np.random.randint(121, 196, 500) #500 valores aleatorios entre 121 e 196\n",
        "alturas.mean()"
      ],
      "metadata": {
        "colab": {
          "base_uri": "https://localhost:8080/"
        },
        "id": "UL5Kjl0LWoYQ",
        "outputId": "bac10c3c-fbc9-4e5a-deb8-32e7f83aa59a"
      },
      "execution_count": 36,
      "outputs": [
        {
          "output_type": "execute_result",
          "data": {
            "text/plain": [
              "156.214"
            ]
          },
          "metadata": {},
          "execution_count": 36
        }
      ]
    },
    {
      "cell_type": "code",
      "source": [
        "sns.distplot(alturas);"
      ],
      "metadata": {
        "colab": {
          "base_uri": "https://localhost:8080/",
          "height": 320
        },
        "id": "cj4vYMEnu7Xl",
        "outputId": "b4db785a-5091-4676-f0aa-b4c4beba0b64"
      },
      "execution_count": 37,
      "outputs": [
        {
          "output_type": "stream",
          "name": "stderr",
          "text": [
            "/usr/local/lib/python3.7/dist-packages/seaborn/distributions.py:2619: FutureWarning: `distplot` is a deprecated function and will be removed in a future version. Please adapt your code to use either `displot` (a figure-level function with similar flexibility) or `histplot` (an axes-level function for histograms).\n",
            "  warnings.warn(msg, FutureWarning)\n"
          ]
        },
        {
          "output_type": "display_data",
          "data": {
            "image/png": "[encoded data removed]",
            "text/plain": [
              "<Figure size 432x288 with 1 Axes>"
            ]
          },
          "metadata": {
            "needs_background": "light"
          }
        }
      ]
    },
    {
      "cell_type": "code",
      "source": [
        "medias = [np.mean(np.random.randint(121, 196, 500)) for i in range(1000)] #1000 distr aleatorias"
      ],
      "metadata": {
        "id": "lPQj1Nw71p2X"
      },
      "execution_count": 38,
      "outputs": []
    },
    {
      "cell_type": "code",
      "source": [
        "type(medias), len(medias)"
      ],
      "metadata": {
        "colab": {
          "base_uri": "https://localhost:8080/"
        },
        "id": "WcDYiqcG_wkT",
        "outputId": "995ad9e3-81c5-48cb-b2a6-e583d6d808dc"
      },
      "execution_count": 39,
      "outputs": [
        {
          "output_type": "execute_result",
          "data": {
            "text/plain": [
              "(list, 1000)"
            ]
          },
          "metadata": {},
          "execution_count": 39
        }
      ]
    },
    {
      "cell_type": "code",
      "source": [
        "print(medias)\n"
      ],
      "metadata": {
        "colab": {
          "base_uri": "https://localhost:8080/"
        },
        "id": "bqoFmv1YAaon",
        "outputId": "bf0ee910-c75c-4d99-fc1f-c9ef9ac60d84"
      },
      "execution_count": 40,
      "outputs": [
        {
          "output_type": "stream",
          "name": "stdout",
          "text": [
            "[157.772, 159.008, 157.614, 156.414, 155.804, 158.06, 158.27, 158.542, 157.78, 158.538, 158.166, 157.736, 156.522, 158.092, 156.166, 159.064, 157.67, 157.616, 157.544, 159.158, 159.758, 156.59, 157.688, 158.028, 157.508, 158.476, 158.164, 159.416, 158.544, 158.02, 157.738, 157.17, 159.174, 158.944, 157.788, 158.838, 157.8, 157.334, 159.178, 157.828, 157.272, 158.85, 157.634, 159.826, 157.91, 157.806, 156.918, 160.844, 158.596, 157.76, 159.088, 158.97, 158.466, 159.536, 158.532, 158.938, 158.378, 157.906, 158.998, 157.802, 159.228, 158.212, 156.646, 158.734, 158.794, 158.282, 159.0, 156.166, 157.894, 158.214, 159.076, 157.546, 157.032, 157.778, 156.96, 157.214, 157.114, 157.276, 158.068, 160.138, 159.362, 157.902, 157.638, 159.898, 157.242, 156.49, 156.918, 158.804, 158.622, 158.996, 157.36, 158.15, 159.26, 157.5, 158.946, 157.894, 158.87, 159.33, 158.004, 158.398, 160.358, 159.392, 159.566, 158.202, 158.768, 159.1, 160.138, 156.972, 157.778, 157.922, 158.49, 158.094, 160.568, 159.34, 157.72, 158.308, 158.442, 157.974, 156.944, 157.756, 159.706, 158.252, 157.314, 156.766, 158.65, 158.84, 158.96, 159.508, 157.96, 160.916, 157.532, 157.88, 158.518, 158.348, 158.926, 158.312, 158.384, 157.886, 158.19, 158.688, 157.938, 156.496, 156.732, 156.758, 156.55, 157.278, 157.538, 160.508, 157.314, 158.716, 157.624, 159.764, 158.51, 158.73, 160.098, 156.556, 158.2, 156.208, 155.55, 157.244, 158.562, 157.992, 157.258, 158.316, 159.154, 156.226, 157.702, 158.534, 156.618, 157.666, 159.62, 156.044, 158.248, 159.346, 157.204, 157.13, 158.886, 158.106, 158.2, 156.84, 158.93, 157.61, 157.668, 159.244, 157.28, 158.936, 158.128, 157.502, 155.88, 158.886, 158.25, 157.606, 155.948, 158.268, 157.562, 157.948, 158.036, 158.826, 156.522, 157.928, 157.778, 158.582, 157.906, 157.878, 158.966, 158.566, 159.742, 157.486, 158.94, 158.708, 156.742, 157.296, 158.648, 158.522, 158.388, 158.542, 158.5, 157.458, 159.268, 158.184, 158.332, 158.77, 157.4, 158.368, 157.858, 157.534, 158.692, 157.71, 156.67, 157.99, 156.928, 158.824, 157.756, 158.954, 158.886, 157.442, 157.694, 156.212, 158.748, 159.49, 159.082, 157.954, 159.54, 158.076, 158.908, 157.598, 158.732, 158.418, 156.188, 157.93, 157.112, 157.796, 158.412, 157.696, 158.54, 157.19, 159.292, 157.41, 159.226, 159.386, 157.972, 158.088, 158.96, 156.778, 157.882, 158.56, 157.96, 158.746, 157.884, 156.12, 158.906, 157.856, 156.594, 159.75, 156.876, 158.056, 159.16, 158.698, 157.37, 157.51, 157.522, 159.932, 158.012, 157.346, 158.36, 158.286, 158.888, 159.01, 156.72, 156.696, 159.506, 157.484, 156.93, 157.894, 157.608, 157.774, 159.358, 158.636, 159.776, 158.002, 156.794, 158.58, 156.436, 157.986, 158.454, 158.904, 158.288, 155.644, 158.586, 157.232, 158.154, 157.824, 158.444, 158.388, 157.652, 158.438, 159.772, 157.868, 158.264, 158.656, 157.472, 156.122, 158.014, 157.378, 158.528, 156.798, 156.96, 155.814, 157.92, 158.258, 157.948, 157.902, 159.036, 157.46, 157.728, 158.726, 155.734, 158.132, 157.71, 158.458, 157.926, 156.172, 158.884, 156.518, 158.732, 157.34, 158.342, 156.946, 157.288, 157.826, 157.786, 157.192, 158.14, 158.314, 159.15, 156.986, 157.758, 156.904, 158.268, 157.996, 158.248, 157.728, 159.02, 158.502, 158.732, 158.798, 158.618, 158.006, 157.044, 158.72, 159.054, 157.928, 157.772, 158.19, 155.466, 158.708, 157.638, 159.638, 156.336, 157.366, 157.452, 155.45, 157.06, 157.612, 159.27, 157.722, 158.466, 157.714, 157.522, 158.538, 156.38, 158.91, 156.896, 157.158, 158.568, 157.786, 157.576, 155.284, 157.984, 156.98, 157.848, 158.232, 157.832, 155.726, 158.786, 158.504, 158.24, 157.772, 158.59, 159.732, 157.736, 157.998, 158.57, 157.932, 158.582, 157.324, 157.734, 156.614, 158.86, 158.128, 158.338, 157.02, 160.324, 159.804, 158.21, 157.93, 157.868, 157.248, 157.814, 157.614, 158.508, 157.694, 158.53, 159.334, 158.164, 158.802, 158.264, 157.614, 158.886, 158.166, 159.42, 159.26, 156.348, 158.14, 159.398, 157.79, 156.17, 157.534, 158.316, 158.456, 159.144, 159.718, 158.972, 156.84, 157.208, 159.204, 158.098, 158.264, 158.216, 157.084, 157.376, 157.494, 156.684, 158.794, 157.772, 158.202, 158.31, 157.232, 156.522, 159.734, 157.596, 157.714, 157.942, 157.956, 157.074, 159.03, 157.448, 159.44, 156.99, 157.652, 159.464, 157.426, 158.162, 159.244, 158.074, 156.718, 157.854, 158.264, 158.102, 157.432, 158.458, 156.908, 159.434, 158.024, 156.896, 157.388, 157.6, 157.434, 158.108, 157.834, 158.858, 158.148, 156.822, 158.356, 158.146, 158.158, 156.634, 159.284, 158.204, 157.264, 157.676, 157.838, 158.728, 157.952, 157.906, 157.916, 159.566, 157.524, 157.192, 158.408, 157.512, 157.536, 159.716, 157.824, 157.422, 158.772, 157.938, 157.496, 158.312, 159.202, 158.25, 158.602, 159.18, 157.966, 158.404, 158.544, 158.126, 157.436, 156.278, 158.612, 157.702, 158.432, 156.128, 160.322, 157.414, 156.716, 157.616, 156.862, 157.654, 156.378, 159.582, 157.562, 157.772, 155.568, 157.584, 157.24, 158.254, 157.098, 157.07, 157.174, 159.36, 158.834, 157.256, 157.9, 157.338, 157.034, 157.372, 158.118, 156.874, 158.184, 157.898, 158.802, 156.62, 159.936, 157.954, 158.368, 159.118, 157.916, 158.354, 156.204, 156.934, 158.596, 158.69, 158.726, 158.048, 158.41, 158.738, 156.132, 159.298, 157.34, 157.912, 157.258, 157.994, 157.404, 159.086, 157.256, 157.916, 157.174, 157.678, 158.458, 158.29, 159.15, 157.894, 158.136, 158.224, 156.228, 158.168, 157.604, 159.612, 159.02, 157.476, 158.384, 159.296, 158.522, 156.854, 157.346, 160.012, 157.126, 157.388, 158.644, 158.362, 158.662, 157.864, 156.47, 157.528, 157.406, 158.768, 158.162, 156.628, 157.356, 157.402, 158.518, 157.252, 160.15, 157.732, 158.106, 160.242, 157.612, 159.63, 160.02, 157.306, 157.868, 156.86, 157.6, 157.24, 157.622, 157.994, 158.312, 158.326, 159.788, 157.05, 157.392, 156.938, 158.08, 160.34, 157.804, 156.29, 158.158, 157.304, 157.908, 157.932, 158.708, 160.028, 158.262, 159.148, 158.98, 158.364, 157.21, 157.178, 157.81, 156.698, 156.194, 157.484, 159.018, 157.462, 158.152, 158.2, 157.528, 158.2, 158.164, 156.66, 158.542, 158.574, 157.656, 157.078, 160.088, 157.432, 157.474, 157.348, 156.536, 155.944, 158.268, 158.978, 157.004, 158.104, 158.49, 156.528, 158.062, 158.412, 156.896, 156.116, 156.692, 157.398, 157.492, 157.938, 158.528, 158.162, 156.744, 157.448, 156.97, 158.952, 156.346, 158.3, 158.508, 157.59, 157.204, 158.632, 156.99, 158.524, 158.74, 159.322, 158.204, 158.558, 158.636, 158.312, 157.594, 158.426, 156.444, 157.544, 157.434, 156.858, 160.148, 157.638, 157.992, 157.688, 156.784, 158.528, 158.556, 156.56, 158.746, 158.556, 157.81, 158.48, 158.426, 156.542, 158.09, 157.15, 159.416, 158.464, 159.948, 157.354, 157.6, 158.08, 159.336, 157.906, 157.832, 157.04, 158.444, 157.85, 156.874, 157.958, 156.22, 159.846, 157.284, 157.202, 157.484, 156.662, 159.506, 158.586, 157.68, 156.378, 158.184, 157.896, 156.134, 157.556, 157.858, 157.738, 158.468, 158.606, 156.87, 158.378, 157.248, 159.154, 160.294, 159.628, 158.172, 158.33, 158.46, 158.378, 157.294, 157.164, 158.24, 157.866, 157.634, 159.774, 158.964, 158.964, 157.54, 156.182, 157.74, 159.126, 158.006, 156.376, 158.63, 157.576, 158.88, 157.898, 158.728, 158.77, 159.42, 157.618, 158.832, 158.342, 157.106, 156.092, 156.888, 158.516, 158.418, 157.69, 158.212, 157.418, 159.358, 157.496, 158.318, 154.978, 159.264, 158.634, 157.83, 156.608, 157.51, 157.378, 160.382, 157.06, 157.236, 159.152, 159.326, 156.882, 157.9, 158.604, 156.892, 156.784, 157.282, 157.43, 157.558, 157.776, 159.284, 158.778, 157.404, 157.702, 158.498, 157.35, 158.958, 159.57, 156.484, 156.666, 159.31, 158.61, 158.846, 156.136, 157.166, 159.136, 158.422, 156.206, 158.948, 156.804, 158.96, 158.87, 159.116, 157.818, 158.396, 159.73, 158.184, 157.572, 157.058, 158.078, 157.142, 157.636, 157.976, 158.364, 157.476, 158.042, 157.396, 159.872, 156.338, 158.25, 158.082, 158.044, 157.36, 157.124, 157.096, 156.812, 158.604, 158.302, 158.126, 158.288, 156.178, 158.056, 158.588, 157.728, 156.444, 159.252, 157.434, 158.492, 156.724, 158.854, 159.224, 159.132, 159.608, 157.896, 159.052, 158.276, 156.442, 158.236, 158.274, 157.678, 158.014, 158.78, 159.37, 158.406, 159.118, 159.134, 158.878, 157.072, 158.842, 158.184, 157.198, 158.156, 157.186, 158.402, 157.574, 157.794, 156.042, 156.024, 158.602, 156.89, 158.962, 156.862, 157.536, 158.232, 158.042, 157.43, 157.788, 158.53, 155.92, 156.788, 158.822, 157.128, 156.994, 157.75, 156.56, 158.5, 156.902, 157.804, 158.96, 158.442, 158.468, 158.36, 158.342, 156.956, 158.448, 159.4, 157.074, 159.71, 159.178, 158.722, 157.642, 159.196, 156.918, 157.402, 156.828, 158.902, 158.348, 158.53, 158.062, 158.314, 157.138, 156.456, 158.04, 157.898, 160.612, 157.458, 158.532, 157.02, 159.51, 157.806, 156.036, 156.536, 158.712, 158.85, 156.854, 155.882, 158.598, 156.764, 158.106, 156.946, 158.976, 159.516, 158.622, 158.028, 156.664]\n"
          ]
        }
      ]
    },
    {
      "cell_type": "code",
      "source": [
        "sns.distplot(medias); #provando o terorema central do limite, agora teremos uma distr. normal"
      ],
      "metadata": {
        "colab": {
          "base_uri": "https://localhost:8080/",
          "height": 320
        },
        "id": "sVrxKXWfAg-n",
        "outputId": "d9bfd4d2-d68c-4447-dd1b-64ae058ad156"
      },
      "execution_count": 41,
      "outputs": [
        {
          "output_type": "stream",
          "name": "stderr",
          "text": [
            "/usr/local/lib/python3.7/dist-packages/seaborn/distributions.py:2619: FutureWarning: `distplot` is a deprecated function and will be removed in a future version. Please adapt your code to use either `displot` (a figure-level function with similar flexibility) or `histplot` (an axes-level function for histograms).\n",
            "  warnings.warn(msg, FutureWarning)\n"
          ]
        },
        {
          "output_type": "display_data",
          "data": {
            "image/png": "[encoded data removed]",
            "text/plain": [
              "<Figure size 432x288 with 1 Axes>"
            ]
          },
          "metadata": {
            "needs_background": "light"
          }
        }
      ]
    },
    {
      "cell_type": "markdown",
      "source": [
        "- Distribuição Gamma"
      ],
      "metadata": {
        "id": "PCAkUsSnBbVw"
      }
    },
    {
      "cell_type": "code",
      "source": [
        "from scipy.stats import gamma"
      ],
      "metadata": {
        "id": "mPdcHNs_AxhA"
      },
      "execution_count": 42,
      "outputs": []
    },
    {
      "cell_type": "code",
      "source": [
        "base_gamma = gamma.rvs(a=1, size=1000) #a é o ponto de decaimento"
      ],
      "metadata": {
        "id": "hMRD1gsnCxKD"
      },
      "execution_count": 43,
      "outputs": []
    },
    {
      "cell_type": "code",
      "source": [
        "base_gamma"
      ],
      "metadata": {
        "colab": {
          "base_uri": "https://localhost:8080/"
        },
        "id": "kdebBdTVDIFJ",
        "outputId": "3e3d0a52-5414-4400-b00d-7e3bf8d1ab03"
      },
      "execution_count": 44,
      "outputs": [
        {
          "output_type": "execute_result",
          "data": {
            "text/plain": [
              "array([1.71783852e+00, 1.32149591e+00, 3.19019634e-02, 1.55168117e-01,\n",
              "       2.44303061e+00, 1.22165947e+00, 1.67231352e+00, 4.09733977e+00,\n",
              "       4.53752490e-02, 9.30739217e-01, 1.02004269e+00, 1.23495248e+00,\n",
              "       4.99015099e-01, 3.22049634e-01, 9.61870802e-01, 1.01773396e-01,\n",
              "       4.65029011e-01, 9.02139354e-01, 1.13069730e+00, 1.92018995e-01,\n",
              "       2.13729883e-01, 1.90707054e+00, 7.30804626e-01, 6.77597707e-01,\n",
              "       1.52874720e+00, 1.00140160e+00, 1.93584282e+00, 7.04030003e-01,\n",
              "       1.41646277e-01, 7.13703996e-01, 8.71344366e-01, 1.69339174e-01,\n",
              "       5.33669292e-01, 6.13455271e-01, 1.71447040e+00, 1.67155041e+00,\n",
              "       4.38363999e-02, 4.31580121e-02, 5.41699469e-01, 4.87518598e+00,\n",
              "       8.91479522e-01, 6.21097529e-01, 8.24604456e-01, 4.86456096e-01,\n",
              "       4.05776366e-01, 1.34629585e-01, 7.18510978e-01, 7.14674464e-01,\n",
              "       6.14216374e-01, 7.82582435e+00, 4.56230344e-01, 6.21378206e-02,\n",
              "       5.62960317e-01, 9.87743787e-01, 3.30597156e+00, 7.64351488e-01,\n",
              "       5.95339695e-01, 1.45266781e+00, 1.37674545e+00, 1.61578055e+00,\n",
              "       4.19831496e-01, 1.04754458e+00, 9.09093358e-01, 1.05083614e+00,\n",
              "       2.57374587e-01, 1.06999388e+00, 4.16377693e-01, 1.14347685e-01,\n",
              "       9.65992160e-01, 2.14136188e+00, 6.80260517e-01, 1.50983307e+00,\n",
              "       4.29167845e-02, 8.06000715e-02, 6.76939369e-01, 5.69297483e-01,\n",
              "       6.23839185e-01, 2.56615216e-01, 1.60273664e-01, 2.72362264e-01,\n",
              "       4.38349842e-01, 7.71957317e-01, 1.74841781e+00, 1.45390174e+00,\n",
              "       1.27846599e+00, 9.45765462e-01, 2.00307999e+00, 7.72942038e+00,\n",
              "       1.93851498e-01, 8.19857481e-01, 8.65626899e-01, 1.68220082e+00,\n",
              "       1.59907801e-01, 6.02463944e+00, 4.63396532e-02, 3.54491911e-01,\n",
              "       1.48459734e-02, 5.87302168e-01, 5.51973976e-01, 6.65979836e-01,\n",
              "       1.78362784e+00, 1.76440118e+00, 4.55410289e+00, 5.60121903e-01,\n",
              "       6.35172032e-01, 5.70217601e-02, 9.43724044e-02, 7.98246093e-02,\n",
              "       2.20630134e-01, 5.79937337e-02, 1.61104581e+00, 2.16684811e+00,\n",
              "       9.01225258e-01, 1.17946541e+00, 1.74265946e+00, 4.75596173e-01,\n",
              "       2.75043506e-02, 3.14553646e+00, 9.78207837e-01, 3.10962116e-02,\n",
              "       1.80563675e+00, 1.81524360e+00, 5.63810411e-01, 5.72690239e-01,\n",
              "       2.30951372e+00, 5.24527886e-01, 2.07636460e+00, 1.42243885e+00,\n",
              "       5.84326547e-01, 8.57379968e-02, 9.89210078e-01, 5.96108515e-01,\n",
              "       2.04828294e+00, 6.92247610e-02, 3.19373326e-01, 2.50335446e-01,\n",
              "       3.06403471e-01, 3.93197721e-01, 1.68482382e+00, 4.94130312e-02,\n",
              "       1.38252708e+00, 2.28920261e-01, 1.30262605e+00, 1.44394019e-01,\n",
              "       9.76786799e-01, 1.21576540e+00, 2.27025389e+00, 1.28890121e+00,\n",
              "       3.11280638e+00, 9.61618410e-01, 3.40720150e-01, 1.26942232e+00,\n",
              "       5.74443343e-01, 1.24848117e+00, 2.33592210e-01, 1.67087768e-01,\n",
              "       1.51313051e+00, 7.79593468e-01, 7.41009046e-02, 2.17468170e+00,\n",
              "       6.80693641e-01, 2.57051184e-01, 3.27760843e-01, 2.08440722e+00,\n",
              "       1.52300655e+00, 6.56882633e-01, 2.42903912e-01, 3.03221589e-02,\n",
              "       2.47504163e+00, 1.90857424e-01, 1.18421347e+00, 2.39602593e-01,\n",
              "       1.02671767e+00, 3.48736818e-01, 8.76170734e-01, 1.31348713e+00,\n",
              "       1.41208221e+00, 6.21946195e-01, 1.16622959e+00, 2.43107603e-02,\n",
              "       5.91378680e-01, 3.14063830e-01, 2.21339976e-01, 2.79071062e+00,\n",
              "       1.01293018e+00, 5.29926024e-01, 8.93317491e-01, 1.16733948e+00,\n",
              "       1.35897221e+00, 5.03877754e-01, 1.47831037e+00, 6.80765441e-01,\n",
              "       8.64268549e-03, 4.45003340e-01, 1.25143845e+00, 1.79315171e+00,\n",
              "       1.43770440e+00, 1.44876621e+00, 9.02374748e-01, 5.59340392e-01,\n",
              "       1.98675672e-01, 1.12896074e+00, 1.39699351e+00, 1.05284543e+00,\n",
              "       8.26182759e-02, 1.05780677e-01, 1.67253662e+00, 3.81335553e-01,\n",
              "       3.36130092e-01, 1.00915741e+00, 6.58599932e-01, 3.03899697e-02,\n",
              "       1.78010918e-01, 3.98501231e-02, 6.22518528e-01, 9.40656365e-02,\n",
              "       1.12749191e+00, 6.52747009e-01, 1.71323875e-01, 1.12671455e+00,\n",
              "       1.26182837e+00, 2.06018902e+00, 9.98399589e-01, 1.48155581e+00,\n",
              "       5.09852461e-01, 6.97594042e-01, 1.22349176e+00, 3.44785173e-01,\n",
              "       5.34388052e-02, 5.92150576e-01, 5.44369923e-01, 7.27644975e-01,\n",
              "       2.60434427e+00, 2.56148192e+00, 9.24128388e-01, 1.55296109e-02,\n",
              "       1.76465917e+00, 9.20808019e-01, 2.20980322e+00, 4.66002056e-02,\n",
              "       7.74716347e-01, 4.08356268e+00, 1.29205200e+00, 1.14312382e+00,\n",
              "       2.85738190e+00, 1.99344712e+00, 5.65511413e-01, 1.04583493e+00,\n",
              "       2.96780835e-01, 9.15495797e-01, 1.52927144e+00, 1.18400123e-01,\n",
              "       8.36052087e-01, 2.56557908e-02, 8.90887897e-01, 2.32840897e+00,\n",
              "       1.90357300e+00, 1.23377998e-01, 4.20938194e-01, 2.58027150e-01,\n",
              "       1.21841157e+00, 9.08774144e-01, 2.44266417e-02, 2.91548595e-02,\n",
              "       1.12077830e+00, 1.60508648e+00, 3.94662975e-01, 3.62120023e-01,\n",
              "       2.11996378e+00, 2.52638787e-01, 5.94763451e-01, 1.84160298e+00,\n",
              "       9.56458170e-02, 2.78198387e-01, 5.65450633e-02, 3.65186932e-01,\n",
              "       4.23540848e-01, 1.19916361e+00, 1.74525215e-01, 1.02433152e+00,\n",
              "       2.40469927e-02, 1.76324557e-01, 5.68423229e-03, 1.22355336e+00,\n",
              "       2.27574560e+00, 3.62383279e-01, 2.03521906e-02, 4.77198498e-02,\n",
              "       3.92725743e-01, 1.32534635e-01, 2.12195233e+00, 1.59745610e-01,\n",
              "       1.27890648e+00, 2.86859930e-02, 1.95441835e+00, 8.13421187e-01,\n",
              "       1.36066980e+00, 1.89683276e-01, 1.99522784e+00, 5.57296224e+00,\n",
              "       7.02139891e-01, 6.49049220e-01, 1.22527665e+00, 3.58775340e+00,\n",
              "       2.05064671e+00, 2.65202708e-01, 1.39809663e+00, 5.09565113e-01,\n",
              "       8.18952703e-01, 1.78274817e+00, 4.24794211e+00, 8.74430136e-01,\n",
              "       9.08934857e-01, 5.04616544e-01, 8.16209892e-01, 2.90767087e-01,\n",
              "       8.29683262e-01, 3.09344163e+00, 3.66862896e-01, 4.60923205e-01,\n",
              "       1.86400485e-01, 1.85315182e+00, 8.77253638e-02, 2.05309669e+00,\n",
              "       1.49059783e+00, 2.77057048e+00, 3.37401318e-01, 3.52450435e-01,\n",
              "       1.64016691e+00, 4.91813951e-01, 1.30891751e-01, 6.56113528e-01,\n",
              "       1.58066513e+00, 2.49694256e-01, 1.08166217e+00, 1.16520817e-01,\n",
              "       2.91595921e-01, 1.72144174e+00, 5.93471649e-01, 1.62573930e+00,\n",
              "       2.08805551e-01, 6.28327253e-01, 2.02034967e-01, 3.48124538e-01,\n",
              "       4.24350756e-01, 3.31014035e-01, 9.17968803e-01, 5.79861653e-01,\n",
              "       1.45810303e+00, 6.40125302e-01, 9.55616183e-01, 2.71295040e-01,\n",
              "       7.68414082e-01, 1.33446517e+00, 1.53276723e-01, 1.12846253e-01,\n",
              "       8.76291944e-01, 4.67238248e-01, 6.77066420e-01, 2.71903886e+00,\n",
              "       5.22296707e-01, 1.30284398e+00, 1.98215695e+00, 9.67356424e-01,\n",
              "       7.24643539e-01, 5.79852967e-01, 7.70935510e-02, 1.03501020e+00,\n",
              "       1.98103189e+00, 6.08524108e-02, 1.57659225e-01, 3.14093925e-01,\n",
              "       3.42423719e-01, 6.32531019e-01, 1.26490758e+00, 3.22746485e-01,\n",
              "       2.92687597e-01, 1.33855884e+00, 1.34135349e+00, 6.23344368e-01,\n",
              "       4.94581923e-01, 5.51601165e-01, 2.67633784e-01, 1.59568353e-03,\n",
              "       1.77165508e+00, 1.25925226e+00, 6.46485971e-02, 1.21759325e-02,\n",
              "       1.99636612e-01, 8.46443233e-01, 9.50723651e-02, 2.71975360e+00,\n",
              "       2.03355854e+00, 8.17011212e-01, 6.77510295e-01, 4.54345972e-01,\n",
              "       8.18703614e-02, 1.03954502e+00, 2.59818968e+00, 1.34554078e+00,\n",
              "       2.99860431e+00, 1.49503154e+00, 6.39297036e-01, 1.83561416e+00,\n",
              "       7.57568205e-01, 1.38042996e+00, 1.84261060e+00, 2.72930865e+00,\n",
              "       3.60825001e+00, 1.47913195e+00, 8.12131687e-01, 4.70395605e-01,\n",
              "       9.24654242e-01, 3.13652785e+00, 2.38438710e+00, 3.78560107e-01,\n",
              "       1.14866540e+00, 4.60334868e+00, 9.01282165e-01, 1.45775478e+00,\n",
              "       3.88141316e-01, 1.96468006e-01, 5.14362686e-02, 4.22185298e-01,\n",
              "       3.71268626e-01, 3.08286970e+00, 6.62395905e-01, 3.23632703e-01,\n",
              "       3.20360481e+00, 9.54241930e-02, 6.28236702e-01, 7.72621243e-01,\n",
              "       1.03567697e+00, 4.89918311e-02, 1.93756832e-01, 2.31991228e+00,\n",
              "       2.73314494e-01, 1.55118106e+00, 6.86657353e-01, 1.26675427e-01,\n",
              "       2.85344742e+00, 1.59057849e+00, 2.48673336e+00, 5.92540126e-01,\n",
              "       1.44503472e+00, 2.42400594e-01, 1.48644696e+00, 8.91561020e-01,\n",
              "       9.74336687e-01, 1.21047490e+00, 1.70225173e+00, 9.12226506e-01,\n",
              "       1.66002731e-01, 8.29627717e-03, 1.69026682e+00, 1.40568541e+00,\n",
              "       1.17098948e+00, 4.59562289e-02, 2.50787598e+00, 1.42445497e+00,\n",
              "       9.99196332e-02, 1.13497211e+00, 1.41982183e+00, 3.75695412e-01,\n",
              "       8.42645919e-01, 3.13865076e-01, 8.13523906e-01, 3.77692697e-01,\n",
              "       1.40524789e+00, 1.56400086e+00, 1.18227158e+00, 1.85461283e+00,\n",
              "       6.45889945e-01, 9.70713671e-01, 6.05659601e-01, 1.66206578e+00,\n",
              "       1.12820474e+00, 6.02712258e-01, 2.03444533e+00, 1.41650615e+00,\n",
              "       1.01005233e+00, 5.13321411e-01, 1.89996554e+00, 2.99446929e+00,\n",
              "       1.42533855e+00, 6.51827654e-01, 1.85057845e+00, 9.52267444e-01,\n",
              "       5.41842767e-01, 3.02170473e+00, 1.43478026e+00, 2.43622479e-01,\n",
              "       1.68213048e+00, 1.72258455e+00, 1.28942802e+00, 1.79213714e+00,\n",
              "       3.12630606e+00, 4.46874749e-01, 4.86380785e-02, 1.50982534e+00,\n",
              "       6.83947566e-02, 6.69047311e-01, 6.34381022e-01, 3.66288310e-02,\n",
              "       1.27667824e+00, 5.68124195e-01, 1.53555688e+00, 7.07228516e-01,\n",
              "       1.52130849e-01, 8.57092394e-02, 6.72221077e-01, 5.94695940e-01,\n",
              "       7.68578795e-01, 1.82743680e+00, 1.48397081e+00, 9.71090196e-01,\n",
              "       6.79925204e-01, 2.99301980e-01, 1.45796616e+00, 1.02531890e+00,\n",
              "       8.88800682e-01, 1.73116441e+00, 1.18416245e+00, 6.89064985e-01,\n",
              "       2.60123644e+00, 1.21721423e+00, 1.76113640e-01, 2.45608640e-01,\n",
              "       2.89675734e+00, 3.78419781e-01, 7.70851318e-01, 8.74587666e-01,\n",
              "       4.99294947e-01, 8.70787275e-01, 3.17464878e-01, 2.35413698e+00,\n",
              "       4.42799532e+00, 1.94508530e+00, 2.80505008e-01, 8.79358969e-01,\n",
              "       1.32769986e+00, 1.65219651e-02, 4.66247256e+00, 6.55558798e-01,\n",
              "       1.32466588e-01, 1.31149915e-01, 8.53523043e-01, 2.54090996e+00,\n",
              "       6.09770463e+00, 1.00095969e+00, 2.22239241e-01, 1.09296326e+00,\n",
              "       2.02233844e+00, 1.83288970e+00, 2.11560908e-02, 1.92214515e+00,\n",
              "       1.25302089e-01, 5.77522635e-01, 3.93943041e-01, 4.22303140e+00,\n",
              "       3.36827449e-02, 4.89274599e-01, 4.90080818e+00, 1.69452919e-01,\n",
              "       8.65231407e-02, 2.96242681e-01, 9.55533603e-01, 1.47886139e-01,\n",
              "       1.30734569e-01, 3.66506927e-01, 9.95548981e-01, 6.28197087e-01,\n",
              "       3.23611254e+00, 1.62562473e-01, 1.74386390e+00, 1.35182388e+00,\n",
              "       3.49747538e-01, 1.30779820e+00, 4.33938467e+00, 1.05090837e+00,\n",
              "       2.97095566e-02, 8.00287312e-01, 1.51314972e+00, 1.00603410e+00,\n",
              "       1.08120913e+00, 8.92209018e-01, 1.25173143e+00, 8.39966609e-01,\n",
              "       4.47608894e-01, 3.88398053e-01, 1.28103666e+00, 4.53397077e-01,\n",
              "       1.67715866e+00, 1.65367488e+00, 3.78875995e-01, 1.23649924e+00,\n",
              "       5.26424829e-01, 6.28856103e-01, 5.33524912e-01, 8.36729151e-01,\n",
              "       4.35719898e-01, 1.06066165e+00, 5.23499032e-03, 6.43807772e-02,\n",
              "       9.41167239e-01, 1.02265983e+00, 2.38247726e+00, 5.87962170e-01,\n",
              "       7.28578509e-01, 4.15789763e-01, 2.00690809e+00, 1.06654060e+00,\n",
              "       7.21233575e-01, 8.84983601e-01, 1.07784163e+00, 6.20703010e-01,\n",
              "       2.08493245e+00, 7.16763422e-01, 1.43475433e+00, 7.45735664e-01,\n",
              "       3.50972063e-01, 1.84124653e+00, 4.45611140e-01, 5.35623024e-01,\n",
              "       9.17421727e-01, 9.11221582e-02, 5.44957881e-01, 7.24182435e-01,\n",
              "       4.70952306e-01, 1.73535914e+00, 8.06025923e-01, 3.95763627e-02,\n",
              "       1.14079623e+00, 5.45067943e-01, 5.30702723e-02, 8.16747148e-01,\n",
              "       2.52226174e-01, 1.63692822e-01, 1.27280820e+00, 5.55467338e-01,\n",
              "       5.09164516e-01, 5.03551924e-02, 1.29005955e+00, 9.12104763e-01,\n",
              "       8.88452192e-01, 1.27391016e+00, 3.83124795e-01, 3.17908541e+00,\n",
              "       2.74731347e-01, 2.55491123e-01, 2.62974694e+00, 1.19366842e+00,\n",
              "       7.41694798e-02, 6.13869621e-01, 3.72093318e-01, 1.55362328e+00,\n",
              "       2.31124294e-01, 3.78580602e-01, 1.86499624e-01, 2.30616332e+00,\n",
              "       8.80731654e-01, 6.23361131e-01, 6.04655706e-01, 1.24623867e-01,\n",
              "       2.22048406e-01, 5.14436656e-01, 5.22126340e-01, 5.23957939e-01,\n",
              "       1.49253874e-01, 1.12354800e-01, 5.11150396e-01, 1.15865949e+00,\n",
              "       1.08773152e+00, 9.13032089e-01, 1.07068081e+00, 3.74573555e-02,\n",
              "       2.70288578e+00, 3.43715228e+00, 1.27041476e-01, 1.31121451e+00,\n",
              "       1.26645588e+00, 2.47889244e+00, 3.91550932e-01, 7.98602620e-01,\n",
              "       1.07973511e+00, 2.81901083e-01, 3.48813555e-01, 5.74751274e-02,\n",
              "       5.43302385e-02, 1.20615452e+00, 2.07986318e+00, 1.00726021e+00,\n",
              "       3.36353863e-01, 4.24585942e-01, 4.66801412e-01, 3.35104059e-02,\n",
              "       9.72500205e-02, 1.29026820e+00, 9.34296026e-01, 5.79961224e-01,\n",
              "       9.52445121e-01, 2.39734509e-01, 6.88389660e-02, 2.00611902e-01,\n",
              "       2.46529599e-01, 1.70766368e+00, 1.12306055e+00, 1.02320415e+00,\n",
              "       1.04310120e+00, 2.16710724e-01, 9.04778355e-01, 9.86282080e-01,\n",
              "       1.67291739e+00, 1.63998345e+00, 1.59774221e+00, 6.26778662e-01,\n",
              "       3.46160019e-01, 3.65929050e-01, 6.42126000e-01, 1.68450019e+00,\n",
              "       2.61383267e-01, 4.56106949e-01, 3.57570328e+00, 1.34034450e+00,\n",
              "       1.30574845e+00, 8.54148567e-01, 5.05658809e-01, 8.80536173e-01,\n",
              "       1.14308026e-01, 1.73006363e+00, 1.59737809e-01, 4.17166234e-01,\n",
              "       8.22856371e-01, 6.92744787e-01, 1.65141244e+00, 1.42597879e-01,\n",
              "       1.53797992e+00, 9.66708660e-01, 6.25155671e-01, 2.86515009e-01,\n",
              "       2.59335179e-01, 8.14794409e-01, 1.79804909e+00, 1.44008579e+00,\n",
              "       1.02258942e-01, 1.78336812e+00, 4.07141180e-01, 2.73378273e-01,\n",
              "       2.16363019e+00, 2.01783921e+00, 1.88968312e+00, 1.70654501e+00,\n",
              "       7.37878594e-01, 2.45000314e+00, 1.68990666e+00, 2.48971813e-01,\n",
              "       8.28179327e-01, 8.20692294e-02, 2.23470391e-01, 1.25509428e-02,\n",
              "       1.76080158e+00, 3.66892188e+00, 1.67300558e+00, 4.25272978e-01,\n",
              "       1.92030751e+00, 9.10623020e-01, 6.34341155e-01, 7.92112489e-01,\n",
              "       1.06692791e+00, 2.54567142e+00, 8.28798873e-01, 8.77446588e-01,\n",
              "       8.11987793e-01, 6.70936444e-01, 4.67926162e-01, 1.01812272e+00,\n",
              "       1.82808697e+00, 8.87120563e-01, 7.69181809e-01, 2.39418699e-01,\n",
              "       6.87067780e-01, 1.09728895e+00, 1.56808611e-01, 1.01964050e+00,\n",
              "       1.53201340e-01, 4.04047487e-02, 2.26975445e-01, 1.03910417e+00,\n",
              "       8.86923973e-02, 7.22860814e-01, 2.53474461e+00, 1.96719434e+00,\n",
              "       2.58896608e+00, 6.10927584e-01, 2.27972905e-01, 1.81410532e-02,\n",
              "       2.57116201e-01, 4.08269739e-01, 3.68601996e-02, 2.80968871e-01,\n",
              "       9.39326189e-01, 6.58336516e-01, 4.07080587e-01, 1.62992779e-01,\n",
              "       1.63427977e-01, 7.88801281e-02, 9.74991528e-02, 1.97411708e+00,\n",
              "       1.95609053e-01, 6.63657034e-01, 2.51360135e-01, 8.83403302e-02,\n",
              "       4.43563576e-01, 8.71290826e-01, 6.75486069e-01, 8.54816937e-01,\n",
              "       1.30494027e+00, 2.91044348e-01, 2.15802024e+00, 3.21812704e+00,\n",
              "       1.37133952e+00, 5.32274179e-01, 7.66252685e-01, 2.47658338e+00,\n",
              "       1.20820288e-01, 1.72137466e-01, 3.40166907e-01, 1.30219152e+00,\n",
              "       5.94607974e-01, 7.19548373e-01, 2.89665026e-01, 2.58687358e+00,\n",
              "       1.03100950e+00, 1.05311319e+00, 6.18547278e-02, 2.49662986e-02,\n",
              "       1.95843464e+00, 1.02714761e+00, 7.93242611e-01, 3.82067922e+00,\n",
              "       2.83738011e+00, 1.87338613e-01, 1.52244162e+00, 6.84494260e-01,\n",
              "       6.53413045e-01, 6.33740479e-01, 2.84806231e-01, 2.17390303e-01,\n",
              "       9.62639374e-01, 6.66032220e-01, 1.57796919e+00, 1.57303211e-01,\n",
              "       6.49633528e-01, 1.26801069e-01, 4.59892112e-01, 9.89936122e-01,\n",
              "       6.60409020e-01, 8.83544043e-01, 1.16584757e-01, 1.34808262e-01,\n",
              "       5.38584050e-01, 1.03924496e+00, 5.37778026e-02, 4.30744531e-01,\n",
              "       1.44567696e+00, 1.76418334e+00, 4.33912116e+00, 4.03966521e-02,\n",
              "       2.08884432e+00, 2.16282067e+00, 4.18796033e-02, 5.57452331e-01,\n",
              "       7.58161874e-01, 3.09997248e+00, 6.27591485e-01, 3.32150907e+00,\n",
              "       1.31618147e-01, 4.55573943e-02, 4.19594761e+00, 3.20114818e-01,\n",
              "       4.33255170e-01, 1.85178032e-01, 1.88130631e-01, 1.62573338e-01,\n",
              "       3.74574206e-01, 3.44528907e+00, 6.03392094e-01, 8.18282410e-01,\n",
              "       1.17861734e+00, 1.57959544e-01, 5.56346419e-02, 1.86056711e-01,\n",
              "       3.86205671e-01, 2.09984401e+00, 4.50191821e+00, 1.29319276e+00,\n",
              "       4.81452195e-03, 8.94699992e-01, 2.76668074e-02, 4.03639334e-01,\n",
              "       3.25629885e+00, 7.37732758e-01, 9.72628024e-01, 4.95465414e-01,\n",
              "       1.98696163e+00, 7.00514014e-01, 1.22910374e-01, 2.52824641e-01,\n",
              "       1.14052458e+00, 2.22622490e+00, 1.83986802e-01, 2.50308610e+00,\n",
              "       2.41584033e-01, 1.05257605e+00, 1.47055466e+00, 2.12909758e+00,\n",
              "       8.97848385e-02, 7.34657087e-02, 5.45485391e-02, 2.33438481e+00,\n",
              "       2.29422153e-01, 3.71093132e-01, 2.38196247e-01, 5.21528060e-02,\n",
              "       4.58798360e-01, 4.42702220e-01, 4.29580343e-01, 3.47073245e-01,\n",
              "       2.51159148e-01, 3.97313279e-01, 4.34457900e-01, 1.66034246e-01,\n",
              "       2.33515923e-01, 1.24706765e-01, 6.60394598e-02, 8.94914293e-01,\n",
              "       7.23461518e-01, 9.21853758e-01, 8.20965072e-02, 1.99126403e-01,\n",
              "       2.00592702e+00, 1.18262230e+00, 4.23362996e+00, 5.18641152e-02,\n",
              "       1.69820529e+00, 1.51949642e-01, 1.60562039e+00, 1.74608727e+00,\n",
              "       3.25639310e+00, 1.09023064e+00, 3.08871070e-01, 4.93756253e+00,\n",
              "       2.25268705e+00, 1.02600528e+00, 1.34229191e-02, 2.05690172e+00,\n",
              "       1.19053530e-01, 7.04747777e-01, 9.09347360e-01, 1.72728373e-01,\n",
              "       1.28405893e+00, 1.45143149e+00, 3.61502042e+00, 4.67555052e-01,\n",
              "       3.67783818e-02, 1.60366956e-01, 2.82753270e-01, 2.27774132e-01,\n",
              "       4.73851757e-01, 2.34814877e-01, 1.90685872e+00, 5.99932855e-01,\n",
              "       5.12522161e-01, 2.42672061e+00, 6.95697408e-01, 2.18451807e+00,\n",
              "       6.63730644e-01, 1.69641552e+00, 6.68068303e-02, 8.25932736e-01,\n",
              "       5.68705273e-01, 1.61356887e+00, 5.52811261e-01, 9.32926738e-01,\n",
              "       7.30877176e-01, 1.21978171e+00, 5.22397188e-01, 1.37888323e+00,\n",
              "       9.19459629e-01, 1.90689371e+00, 1.91848179e-01, 1.66629806e-01,\n",
              "       2.53202075e-01, 4.35765545e-01, 3.65131854e-01, 3.67277167e-01,\n",
              "       9.88780376e-01, 1.37023364e+00, 6.00980113e-01, 1.91839639e-01])"
            ]
          },
          "metadata": {},
          "execution_count": 44
        }
      ]
    },
    {
      "cell_type": "code",
      "source": [
        "sns.distplot(base_gamma);"
      ],
      "metadata": {
        "colab": {
          "base_uri": "https://localhost:8080/",
          "height": 320
        },
        "id": "c8WLLp2DDL5s",
        "outputId": "c5543f17-1d0f-41e8-851a-f8c8e25fcbb4"
      },
      "execution_count": 45,
      "outputs": [
        {
          "output_type": "stream",
          "name": "stderr",
          "text": [
            "/usr/local/lib/python3.7/dist-packages/seaborn/distributions.py:2619: FutureWarning: `distplot` is a deprecated function and will be removed in a future version. Please adapt your code to use either `displot` (a figure-level function with similar flexibility) or `histplot` (an axes-level function for histograms).\n",
            "  warnings.warn(msg, FutureWarning)\n"
          ]
        },
        {
          "output_type": "display_data",
          "data": {
            "image/png": "[encoded data removed]",
            "text/plain": [
              "<Figure size 432x288 with 1 Axes>"
            ]
          },
          "metadata": {
            "needs_background": "light"
          }
        }
      ]
    },
    {
      "cell_type": "code",
      "source": [
        "min(base_gamma), max(base_gamma)"
      ],
      "metadata": {
        "colab": {
          "base_uri": "https://localhost:8080/"
        },
        "id": "fy66vtStDYj2",
        "outputId": "7a2ec0ca-cb59-48ab-a816-39d18a64edd8"
      },
      "execution_count": 46,
      "outputs": [
        {
          "output_type": "execute_result",
          "data": {
            "text/plain": [
              "(0.001595683534782219, 7.825824352919403)"
            ]
          },
          "metadata": {},
          "execution_count": 46
        }
      ]
    },
    {
      "cell_type": "markdown",
      "source": [
        "- Distribuição Exponencial"
      ],
      "metadata": {
        "id": "CzIM_E0VEhnG"
      }
    },
    {
      "cell_type": "code",
      "source": [
        "from scipy.stats import expon"
      ],
      "metadata": {
        "id": "UmC7BTpZEQuX"
      },
      "execution_count": 47,
      "outputs": []
    },
    {
      "cell_type": "code",
      "source": [
        "base_exp = expon.rvs(size=1000); #é um tipo da distr gamma"
      ],
      "metadata": {
        "id": "wj-M4EiJEx7l"
      },
      "execution_count": 48,
      "outputs": []
    },
    {
      "cell_type": "code",
      "source": [
        "sns.distplot(base_exp);"
      ],
      "metadata": {
        "colab": {
          "base_uri": "https://localhost:8080/",
          "height": 320
        },
        "id": "mE8CR4I4E4_l",
        "outputId": "93996206-6597-4be3-e213-525a25db92df"
      },
      "execution_count": 49,
      "outputs": [
        {
          "output_type": "stream",
          "name": "stderr",
          "text": [
            "/usr/local/lib/python3.7/dist-packages/seaborn/distributions.py:2619: FutureWarning: `distplot` is a deprecated function and will be removed in a future version. Please adapt your code to use either `displot` (a figure-level function with similar flexibility) or `histplot` (an axes-level function for histograms).\n",
            "  warnings.warn(msg, FutureWarning)\n"
          ]
        },
        {
          "output_type": "display_data",
          "data": {
            "image/png": "[encoded data removed]",
            "text/plain": [
              "<Figure size 432x288 with 1 Axes>"
            ]
          },
          "metadata": {
            "needs_background": "light"
          }
        }
      ]
    },
    {
      "cell_type": "code",
      "source": [
        "min(base_exp), max(base_exp)"
      ],
      "metadata": {
        "colab": {
          "base_uri": "https://localhost:8080/"
        },
        "id": "sSGSgL0JFEkG",
        "outputId": "ef593830-0da7-4b63-8479-43b381a9482d"
      },
      "execution_count": 50,
      "outputs": [
        {
          "output_type": "execute_result",
          "data": {
            "text/plain": [
              "(0.0010367075899140375, 6.303806856623468)"
            ]
          },
          "metadata": {},
          "execution_count": 50
        }
      ]
    },
    {
      "cell_type": "markdown",
      "source": [
        "- Ditr. Uniforme"
      ],
      "metadata": {
        "id": "2i8H_y4DFi4R"
      }
    },
    {
      "cell_type": "code",
      "source": [
        "from scipy.stats import uniform"
      ],
      "metadata": {
        "id": "RNItItiiFaxx"
      },
      "execution_count": 51,
      "outputs": []
    },
    {
      "cell_type": "code",
      "source": [
        "base_uniforme = uniform.rvs(size=1000)"
      ],
      "metadata": {
        "id": "ZWyMeuW3J2HL"
      },
      "execution_count": 52,
      "outputs": []
    },
    {
      "cell_type": "code",
      "source": [
        "sns.distplot(base_uniforme);"
      ],
      "metadata": {
        "colab": {
          "base_uri": "https://localhost:8080/",
          "height": 321
        },
        "id": "HOgbk_96J-i7",
        "outputId": "7dcbf657-200f-4635-8114-c795481f2bfe"
      },
      "execution_count": 53,
      "outputs": [
        {
          "output_type": "stream",
          "name": "stderr",
          "text": [
            "/usr/local/lib/python3.7/dist-packages/seaborn/distributions.py:2619: FutureWarning: `distplot` is a deprecated function and will be removed in a future version. Please adapt your code to use either `displot` (a figure-level function with similar flexibility) or `histplot` (an axes-level function for histograms).\n",
            "  warnings.warn(msg, FutureWarning)\n"
          ]
        },
        {
          "output_type": "display_data",
          "data": {
            "image/png": "[encoded data removed]",
            "text/plain": [
              "<Figure size 432x288 with 1 Axes>"
            ]
          },
          "metadata": {
            "needs_background": "light"
          }
        }
      ]
    },
    {
      "cell_type": "code",
      "source": [
        "min(base_uniforme), max(base_uniforme)"
      ],
      "metadata": {
        "colab": {
          "base_uri": "https://localhost:8080/"
        },
        "id": "l0rvW6IBKFmt",
        "outputId": "fe651f78-2ed5-4f3c-9d34-c6f472f271c6"
      },
      "execution_count": 54,
      "outputs": [
        {
          "output_type": "execute_result",
          "data": {
            "text/plain": [
              "(0.0008245400280662007, 0.9990145629306905)"
            ]
          },
          "metadata": {},
          "execution_count": 54
        }
      ]
    },
    {
      "cell_type": "code",
      "source": [
        "np.unique(base_uniforme, return_counts=True)"
      ],
      "metadata": {
        "colab": {
          "base_uri": "https://localhost:8080/"
        },
        "id": "jYGiLfviKWGd",
        "outputId": "d3e6ebcc-fc45-44b0-8ff5-ab48821940ef"
      },
      "execution_count": 55,
      "outputs": [
        {
          "output_type": "execute_result",
          "data": {
            "text/plain": [
              "(array([8.24540028e-04, 9.70942526e-04, 1.27261108e-03, 1.39573262e-03,\n",
              "        1.53203221e-03, 4.04487586e-03, 4.91879908e-03, 5.98554766e-03,\n",
              "        1.12465100e-02, 1.15832026e-02, 1.17526374e-02, 1.32548432e-02,\n",
              "        1.32992369e-02, 1.41798927e-02, 1.42651154e-02, 1.52645237e-02,\n",
              "        1.53675990e-02, 1.65228553e-02, 1.67513753e-02, 1.72231391e-02,\n",
              "        1.81233285e-02, 1.90151230e-02, 2.00221177e-02, 2.01421866e-02,\n",
              "        2.10878238e-02, 2.12354413e-02, 2.22942308e-02, 2.26790283e-02,\n",
              "        2.29322721e-02, 2.30129365e-02, 2.30150828e-02, 2.49055915e-02,\n",
              "        2.50944303e-02, 3.00390147e-02, 3.04403550e-02, 3.10671195e-02,\n",
              "        3.14114369e-02, 3.73325015e-02, 3.82515204e-02, 3.84547883e-02,\n",
              "        3.85884312e-02, 3.86304229e-02, 3.90752400e-02, 3.92432852e-02,\n",
              "        4.14777213e-02, 4.14953643e-02, 4.24456571e-02, 4.28980546e-02,\n",
              "        4.52029389e-02, 4.85021637e-02, 4.94469326e-02, 5.00995933e-02,\n",
              "        5.02058279e-02, 5.07326006e-02, 5.09401439e-02, 5.26110648e-02,\n",
              "        5.36356675e-02, 5.44014565e-02, 5.44336860e-02, 5.53815119e-02,\n",
              "        5.68455631e-02, 5.74489668e-02, 5.79773109e-02, 6.03908883e-02,\n",
              "        6.05764292e-02, 6.09065230e-02, 6.12094168e-02, 6.21581148e-02,\n",
              "        6.25783304e-02, 6.27068417e-02, 6.35950364e-02, 6.41624874e-02,\n",
              "        6.49872067e-02, 6.57850790e-02, 6.73946022e-02, 6.86345116e-02,\n",
              "        6.98266706e-02, 7.04248710e-02, 7.15328121e-02, 7.36996297e-02,\n",
              "        7.55782960e-02, 7.77284262e-02, 8.12476641e-02, 8.12676939e-02,\n",
              "        8.15385614e-02, 8.23071915e-02, 8.29916258e-02, 8.59518346e-02,\n",
              "        8.70692777e-02, 8.71189509e-02, 8.99900473e-02, 9.06215517e-02,\n",
              "        9.26236464e-02, 9.27455349e-02, 9.33633398e-02, 9.37572645e-02,\n",
              "        9.44810444e-02, 9.58172374e-02, 9.66315422e-02, 9.68132027e-02,\n",
              "        9.68352268e-02, 9.68547635e-02, 9.90156739e-02, 9.92824853e-02,\n",
              "        9.94388293e-02, 1.00212945e-01, 1.01310056e-01, 1.01919282e-01,\n",
              "        1.02107154e-01, 1.02561343e-01, 1.05218728e-01, 1.09096093e-01,\n",
              "        1.09446840e-01, 1.09647219e-01, 1.09725428e-01, 1.11869543e-01,\n",
              "        1.11877626e-01, 1.13822917e-01, 1.13931345e-01, 1.16318187e-01,\n",
              "        1.16657405e-01, 1.16746354e-01, 1.16994534e-01, 1.17686840e-01,\n",
              "        1.18764841e-01, 1.19264855e-01, 1.19708616e-01, 1.21371966e-01,\n",
              "        1.23698325e-01, 1.27757022e-01, 1.27943051e-01, 1.28455494e-01,\n",
              "        1.30290640e-01, 1.31488855e-01, 1.31884547e-01, 1.32871727e-01,\n",
              "        1.36513084e-01, 1.36535055e-01, 1.36589082e-01, 1.37264827e-01,\n",
              "        1.38133800e-01, 1.38765662e-01, 1.38974779e-01, 1.39747159e-01,\n",
              "        1.41351850e-01, 1.41591212e-01, 1.41809356e-01, 1.42936483e-01,\n",
              "        1.44389367e-01, 1.46189392e-01, 1.47343879e-01, 1.48580047e-01,\n",
              "        1.49329746e-01, 1.50410288e-01, 1.50698942e-01, 1.50864049e-01,\n",
              "        1.51125954e-01, 1.52040437e-01, 1.52188297e-01, 1.53809241e-01,\n",
              "        1.55022201e-01, 1.55791818e-01, 1.56536855e-01, 1.58503072e-01,\n",
              "        1.60775934e-01, 1.62707244e-01, 1.65576545e-01, 1.65794926e-01,\n",
              "        1.66907599e-01, 1.69070906e-01, 1.70038096e-01, 1.72052901e-01,\n",
              "        1.73001532e-01, 1.74376163e-01, 1.74383619e-01, 1.74406537e-01,\n",
              "        1.76603247e-01, 1.77235040e-01, 1.77707710e-01, 1.78680488e-01,\n",
              "        1.79814078e-01, 1.80141776e-01, 1.80446087e-01, 1.86302096e-01,\n",
              "        1.89357131e-01, 1.89432714e-01, 1.89857084e-01, 1.90423107e-01,\n",
              "        1.91321488e-01, 1.91389945e-01, 1.91774411e-01, 1.92977164e-01,\n",
              "        1.95031151e-01, 1.95314681e-01, 1.95362538e-01, 1.97834023e-01,\n",
              "        1.98095653e-01, 1.98735149e-01, 1.98933765e-01, 1.99395262e-01,\n",
              "        2.02716944e-01, 2.04919928e-01, 2.06056986e-01, 2.06825006e-01,\n",
              "        2.07628090e-01, 2.08011869e-01, 2.10573555e-01, 2.11557288e-01,\n",
              "        2.11615822e-01, 2.13195657e-01, 2.13463276e-01, 2.14070133e-01,\n",
              "        2.14133325e-01, 2.14280646e-01, 2.14403707e-01, 2.14573419e-01,\n",
              "        2.16289858e-01, 2.17843662e-01, 2.18717093e-01, 2.19409113e-01,\n",
              "        2.24121306e-01, 2.24493179e-01, 2.24921987e-01, 2.26839914e-01,\n",
              "        2.26935414e-01, 2.28008342e-01, 2.28730192e-01, 2.29977743e-01,\n",
              "        2.30520362e-01, 2.31370710e-01, 2.32060842e-01, 2.32567514e-01,\n",
              "        2.32630224e-01, 2.33623298e-01, 2.34151271e-01, 2.35206475e-01,\n",
              "        2.35725836e-01, 2.35784958e-01, 2.35842804e-01, 2.35951931e-01,\n",
              "        2.36719691e-01, 2.36759774e-01, 2.37794410e-01, 2.39043832e-01,\n",
              "        2.39208298e-01, 2.40554365e-01, 2.40705503e-01, 2.42614313e-01,\n",
              "        2.43557200e-01, 2.43999818e-01, 2.44216317e-01, 2.44234834e-01,\n",
              "        2.44737767e-01, 2.44791649e-01, 2.46299018e-01, 2.49400382e-01,\n",
              "        2.49743903e-01, 2.51236314e-01, 2.52022623e-01, 2.53635012e-01,\n",
              "        2.57646776e-01, 2.58107088e-01, 2.59885613e-01, 2.64311903e-01,\n",
              "        2.65804135e-01, 2.66834893e-01, 2.67366671e-01, 2.67504696e-01,\n",
              "        2.67841618e-01, 2.67872635e-01, 2.68545990e-01, 2.69620497e-01,\n",
              "        2.69649339e-01, 2.71352245e-01, 2.72525389e-01, 2.72691742e-01,\n",
              "        2.74043896e-01, 2.74507207e-01, 2.74767378e-01, 2.75255469e-01,\n",
              "        2.76205596e-01, 2.76488443e-01, 2.77959673e-01, 2.78283559e-01,\n",
              "        2.79424379e-01, 2.79803681e-01, 2.80614450e-01, 2.83277276e-01,\n",
              "        2.83793262e-01, 2.86066575e-01, 2.86383714e-01, 2.86620064e-01,\n",
              "        2.87514979e-01, 2.88401856e-01, 2.89111380e-01, 2.89625556e-01,\n",
              "        2.90232962e-01, 2.95169450e-01, 2.97385524e-01, 2.98429079e-01,\n",
              "        2.99126252e-01, 2.99788352e-01, 3.00655607e-01, 3.04181545e-01,\n",
              "        3.04751966e-01, 3.05453613e-01, 3.05471242e-01, 3.06132129e-01,\n",
              "        3.06807903e-01, 3.07525997e-01, 3.08770904e-01, 3.08958845e-01,\n",
              "        3.10066923e-01, 3.13290864e-01, 3.15255445e-01, 3.16274057e-01,\n",
              "        3.16842933e-01, 3.16956903e-01, 3.17100628e-01, 3.17104899e-01,\n",
              "        3.17673678e-01, 3.18368495e-01, 3.18404600e-01, 3.19078144e-01,\n",
              "        3.19310204e-01, 3.19604748e-01, 3.19629241e-01, 3.19912328e-01,\n",
              "        3.22353770e-01, 3.22694418e-01, 3.24372271e-01, 3.24605450e-01,\n",
              "        3.26012716e-01, 3.26023774e-01, 3.27055683e-01, 3.27933274e-01,\n",
              "        3.28254147e-01, 3.29199938e-01, 3.29968873e-01, 3.30259283e-01,\n",
              "        3.34156730e-01, 3.34265551e-01, 3.34623464e-01, 3.36755352e-01,\n",
              "        3.38533587e-01, 3.39357107e-01, 3.39576639e-01, 3.39990065e-01,\n",
              "        3.40228960e-01, 3.41096397e-01, 3.41925432e-01, 3.43022543e-01,\n",
              "        3.43073865e-01, 3.45426849e-01, 3.45651240e-01, 3.45684706e-01,\n",
              "        3.47940572e-01, 3.48015043e-01, 3.48031902e-01, 3.49268938e-01,\n",
              "        3.49431246e-01, 3.51842267e-01, 3.53532132e-01, 3.54395719e-01,\n",
              "        3.55205293e-01, 3.56564682e-01, 3.56752057e-01, 3.57232449e-01,\n",
              "        3.58518262e-01, 3.59767392e-01, 3.60263727e-01, 3.61587538e-01,\n",
              "        3.66498227e-01, 3.67111956e-01, 3.67874275e-01, 3.68027985e-01,\n",
              "        3.70787200e-01, 3.71458698e-01, 3.73824063e-01, 3.74833413e-01,\n",
              "        3.74835095e-01, 3.77669243e-01, 3.77955320e-01, 3.77992063e-01,\n",
              "        3.81941292e-01, 3.82363767e-01, 3.83696964e-01, 3.84406639e-01,\n",
              "        3.84707520e-01, 3.85024752e-01, 3.86202939e-01, 3.86802075e-01,\n",
              "        3.87114827e-01, 3.89377746e-01, 3.89957698e-01, 3.90531425e-01,\n",
              "        3.90930892e-01, 3.91501474e-01, 3.91887959e-01, 3.93407401e-01,\n",
              "        3.94394902e-01, 3.95888794e-01, 3.96156670e-01, 3.98462987e-01,\n",
              "        4.00666930e-01, 4.02223548e-01, 4.02241773e-01, 4.02435217e-01,\n",
              "        4.03325626e-01, 4.05168063e-01, 4.05439474e-01, 4.07126539e-01,\n",
              "        4.07483090e-01, 4.07596624e-01, 4.08676965e-01, 4.09721601e-01,\n",
              "        4.10881004e-01, 4.17092754e-01, 4.17137211e-01, 4.18760718e-01,\n",
              "        4.18843532e-01, 4.22989831e-01, 4.23305853e-01, 4.24154204e-01,\n",
              "        4.24839689e-01, 4.25288548e-01, 4.26244304e-01, 4.26397691e-01,\n",
              "        4.27056892e-01, 4.27510530e-01, 4.27535021e-01, 4.28223346e-01,\n",
              "        4.28689260e-01, 4.28893777e-01, 4.29193798e-01, 4.29682729e-01,\n",
              "        4.30948862e-01, 4.32969644e-01, 4.32976046e-01, 4.33753418e-01,\n",
              "        4.34333553e-01, 4.37761478e-01, 4.37856061e-01, 4.38732166e-01,\n",
              "        4.38980135e-01, 4.43022950e-01, 4.43247938e-01, 4.44751241e-01,\n",
              "        4.45483414e-01, 4.46139867e-01, 4.48413483e-01, 4.49488646e-01,\n",
              "        4.50076402e-01, 4.50159397e-01, 4.50295759e-01, 4.51120748e-01,\n",
              "        4.52711770e-01, 4.53292546e-01, 4.53728837e-01, 4.55225062e-01,\n",
              "        4.56489240e-01, 4.58037873e-01, 4.58856237e-01, 4.58864748e-01,\n",
              "        4.60588434e-01, 4.60897565e-01, 4.61455394e-01, 4.64952368e-01,\n",
              "        4.66382907e-01, 4.67248576e-01, 4.68928046e-01, 4.71766407e-01,\n",
              "        4.71843511e-01, 4.72624106e-01, 4.72827101e-01, 4.73348492e-01,\n",
              "        4.74600876e-01, 4.78595294e-01, 4.78953326e-01, 4.79207714e-01,\n",
              "        4.81237773e-01, 4.81629227e-01, 4.82517613e-01, 4.82928889e-01,\n",
              "        4.84245634e-01, 4.86829749e-01, 4.88115691e-01, 4.88684564e-01,\n",
              "        4.89607770e-01, 4.90494861e-01, 4.90846807e-01, 4.91483720e-01,\n",
              "        4.92186298e-01, 4.92778027e-01, 4.93155444e-01, 4.93160805e-01,\n",
              "        4.94425149e-01, 4.94814400e-01, 4.95767703e-01, 4.98256544e-01,\n",
              "        4.98676362e-01, 4.98856519e-01, 4.99091020e-01, 5.00229369e-01,\n",
              "        5.00347243e-01, 5.04131388e-01, 5.04703994e-01, 5.04887737e-01,\n",
              "        5.05705631e-01, 5.06094048e-01, 5.06437729e-01, 5.06445715e-01,\n",
              "        5.07243727e-01, 5.07624639e-01, 5.09373886e-01, 5.11538128e-01,\n",
              "        5.12466738e-01, 5.13389271e-01, 5.14074301e-01, 5.15645277e-01,\n",
              "        5.16349079e-01, 5.16755112e-01, 5.17524699e-01, 5.17785302e-01,\n",
              "        5.19087794e-01, 5.19512555e-01, 5.20508997e-01, 5.20901385e-01,\n",
              "        5.22794531e-01, 5.24053652e-01, 5.29241943e-01, 5.29812320e-01,\n",
              "        5.31276088e-01, 5.34000286e-01, 5.35782793e-01, 5.35785666e-01,\n",
              "        5.36904272e-01, 5.36963276e-01, 5.38137345e-01, 5.40781987e-01,\n",
              "        5.41788877e-01, 5.41949851e-01, 5.42180528e-01, 5.43373733e-01,\n",
              "        5.44740144e-01, 5.44964518e-01, 5.44985233e-01, 5.45423727e-01,\n",
              "        5.46160284e-01, 5.46346134e-01, 5.46977802e-01, 5.47939793e-01,\n",
              "        5.48476778e-01, 5.48960327e-01, 5.49412611e-01, 5.50311616e-01,\n",
              "        5.51091761e-01, 5.51412311e-01, 5.53108447e-01, 5.53234887e-01,\n",
              "        5.53948428e-01, 5.54342588e-01, 5.54429992e-01, 5.55541999e-01,\n",
              "        5.57155345e-01, 5.57478903e-01, 5.57510042e-01, 5.57937953e-01,\n",
              "        5.59461340e-01, 5.59945785e-01, 5.60781718e-01, 5.63756693e-01,\n",
              "        5.64144463e-01, 5.64911742e-01, 5.65836145e-01, 5.65859708e-01,\n",
              "        5.66087487e-01, 5.69331709e-01, 5.69768713e-01, 5.70050773e-01,\n",
              "        5.71244909e-01, 5.71393836e-01, 5.73095196e-01, 5.73349980e-01,\n",
              "        5.73378342e-01, 5.75318992e-01, 5.75557422e-01, 5.76968147e-01,\n",
              "        5.78032991e-01, 5.78663509e-01, 5.79106279e-01, 5.79135640e-01,\n",
              "        5.79841204e-01, 5.79864547e-01, 5.79918119e-01, 5.80548275e-01,\n",
              "        5.81370841e-01, 5.82181999e-01, 5.82833609e-01, 5.84169241e-01,\n",
              "        5.84251666e-01, 5.84492472e-01, 5.87248446e-01, 5.87331879e-01,\n",
              "        5.87953367e-01, 5.88496268e-01, 5.88769008e-01, 5.88835927e-01,\n",
              "        5.90199046e-01, 5.90284849e-01, 5.90847265e-01, 5.91113105e-01,\n",
              "        5.91581748e-01, 5.96365053e-01, 5.96583572e-01, 5.97102907e-01,\n",
              "        5.98233216e-01, 5.98516248e-01, 5.98931381e-01, 6.00657211e-01,\n",
              "        6.01221275e-01, 6.01953112e-01, 6.03810606e-01, 6.04673649e-01,\n",
              "        6.04788487e-01, 6.06652249e-01, 6.06820442e-01, 6.08696894e-01,\n",
              "        6.10487873e-01, 6.12167117e-01, 6.13370251e-01, 6.14747209e-01,\n",
              "        6.14945338e-01, 6.15697395e-01, 6.15803019e-01, 6.16511445e-01,\n",
              "        6.17416730e-01, 6.18125250e-01, 6.19428665e-01, 6.20627447e-01,\n",
              "        6.23244634e-01, 6.24174681e-01, 6.26965753e-01, 6.29528109e-01,\n",
              "        6.30449793e-01, 6.32104486e-01, 6.32214276e-01, 6.33156184e-01,\n",
              "        6.34139946e-01, 6.34818814e-01, 6.35777833e-01, 6.36649697e-01,\n",
              "        6.36913449e-01, 6.39051685e-01, 6.39377194e-01, 6.40293308e-01,\n",
              "        6.41182230e-01, 6.41772656e-01, 6.42292589e-01, 6.44319713e-01,\n",
              "        6.46134710e-01, 6.46721679e-01, 6.46972385e-01, 6.48545432e-01,\n",
              "        6.48863417e-01, 6.49035477e-01, 6.50161293e-01, 6.52330940e-01,\n",
              "        6.54711611e-01, 6.56718489e-01, 6.56827678e-01, 6.59036337e-01,\n",
              "        6.60739067e-01, 6.60858515e-01, 6.61692016e-01, 6.61771366e-01,\n",
              "        6.65867621e-01, 6.66299441e-01, 6.66657533e-01, 6.67521618e-01,\n",
              "        6.68783850e-01, 6.71007632e-01, 6.71529228e-01, 6.73514865e-01,\n",
              "        6.74367327e-01, 6.74997397e-01, 6.76509852e-01, 6.77905097e-01,\n",
              "        6.78427783e-01, 6.79839562e-01, 6.80606910e-01, 6.80781189e-01,\n",
              "        6.83164432e-01, 6.84514049e-01, 6.85440515e-01, 6.87608454e-01,\n",
              "        6.89391946e-01, 6.89527592e-01, 6.90969621e-01, 6.91246671e-01,\n",
              "        6.94055828e-01, 6.95470693e-01, 6.96832671e-01, 6.99212325e-01,\n",
              "        6.99762171e-01, 7.00858258e-01, 7.01995499e-01, 7.02021739e-01,\n",
              "        7.02260852e-01, 7.03583271e-01, 7.06255470e-01, 7.12800799e-01,\n",
              "        7.13954222e-01, 7.13969394e-01, 7.14066758e-01, 7.16042647e-01,\n",
              "        7.18778901e-01, 7.20856007e-01, 7.21992595e-01, 7.22431658e-01,\n",
              "        7.23769367e-01, 7.23991159e-01, 7.24502834e-01, 7.25567647e-01,\n",
              "        7.26412709e-01, 7.29102542e-01, 7.29802817e-01, 7.29974958e-01,\n",
              "        7.34237394e-01, 7.36568952e-01, 7.37117088e-01, 7.37346472e-01,\n",
              "        7.37762183e-01, 7.38519423e-01, 7.38690846e-01, 7.41497316e-01,\n",
              "        7.42828207e-01, 7.43126989e-01, 7.47278682e-01, 7.49102745e-01,\n",
              "        7.49418746e-01, 7.50710275e-01, 7.51480589e-01, 7.52627745e-01,\n",
              "        7.52631896e-01, 7.56241679e-01, 7.58261168e-01, 7.58535188e-01,\n",
              "        7.59129375e-01, 7.60826072e-01, 7.61101286e-01, 7.62355607e-01,\n",
              "        7.64642654e-01, 7.66215241e-01, 7.70633454e-01, 7.71144994e-01,\n",
              "        7.71400448e-01, 7.72045449e-01, 7.72356437e-01, 7.72940650e-01,\n",
              "        7.74681513e-01, 7.75846708e-01, 7.76342447e-01, 7.76660751e-01,\n",
              "        7.77183303e-01, 7.80303842e-01, 7.80878177e-01, 7.81157607e-01,\n",
              "        7.81194707e-01, 7.81264725e-01, 7.81955439e-01, 7.85545215e-01,\n",
              "        7.85906707e-01, 7.86883141e-01, 7.87243807e-01, 7.87714745e-01,\n",
              "        7.88623094e-01, 7.89106911e-01, 7.89200357e-01, 7.91342804e-01,\n",
              "        7.91893851e-01, 7.94028724e-01, 7.95221743e-01, 7.95814304e-01,\n",
              "        7.96951523e-01, 7.97309341e-01, 7.98677554e-01, 7.99867906e-01,\n",
              "        8.00271304e-01, 8.01451047e-01, 8.02099437e-01, 8.02345680e-01,\n",
              "        8.05090497e-01, 8.06125476e-01, 8.06718683e-01, 8.08567898e-01,\n",
              "        8.09986688e-01, 8.10136365e-01, 8.10689979e-01, 8.11081828e-01,\n",
              "        8.12002017e-01, 8.12359714e-01, 8.12380706e-01, 8.14926570e-01,\n",
              "        8.16095048e-01, 8.16500423e-01, 8.17838993e-01, 8.18058384e-01,\n",
              "        8.18116205e-01, 8.19171811e-01, 8.20513082e-01, 8.22040789e-01,\n",
              "        8.23126025e-01, 8.24088104e-01, 8.24580913e-01, 8.25823503e-01,\n",
              "        8.26466168e-01, 8.26545207e-01, 8.26844018e-01, 8.26882440e-01,\n",
              "        8.27734167e-01, 8.29256692e-01, 8.30505332e-01, 8.30766129e-01,\n",
              "        8.31522456e-01, 8.31929139e-01, 8.32046105e-01, 8.32260298e-01,\n",
              "        8.32956508e-01, 8.34600675e-01, 8.37442374e-01, 8.39216367e-01,\n",
              "        8.42241025e-01, 8.42311168e-01, 8.43660503e-01, 8.44716071e-01,\n",
              "        8.45505894e-01, 8.47435964e-01, 8.48301455e-01, 8.48727609e-01,\n",
              "        8.48939633e-01, 8.50113159e-01, 8.51213672e-01, 8.51650245e-01,\n",
              "        8.51862534e-01, 8.53157958e-01, 8.54273159e-01, 8.56909285e-01,\n",
              "        8.56992631e-01, 8.57271590e-01, 8.57660439e-01, 8.58646621e-01,\n",
              "        8.59194734e-01, 8.59763188e-01, 8.60012783e-01, 8.61895436e-01,\n",
              "        8.62219593e-01, 8.66667704e-01, 8.67095518e-01, 8.68877768e-01,\n",
              "        8.69477496e-01, 8.70321193e-01, 8.71271745e-01, 8.72659991e-01,\n",
              "        8.77149509e-01, 8.77495685e-01, 8.77721307e-01, 8.79109171e-01,\n",
              "        8.80683101e-01, 8.83180800e-01, 8.84099696e-01, 8.85913497e-01,\n",
              "        8.86096712e-01, 8.87098688e-01, 8.87107945e-01, 8.87539352e-01,\n",
              "        8.89092748e-01, 8.89693021e-01, 8.90373032e-01, 8.90609885e-01,\n",
              "        8.94804835e-01, 8.95045472e-01, 8.95526358e-01, 8.95565691e-01,\n",
              "        8.95820976e-01, 8.96140475e-01, 8.97157829e-01, 8.98288447e-01,\n",
              "        8.99818983e-01, 9.00479353e-01, 9.01776075e-01, 9.02664406e-01,\n",
              "        9.04660604e-01, 9.04974519e-01, 9.09557245e-01, 9.10188091e-01,\n",
              "        9.10303104e-01, 9.11790154e-01, 9.12907573e-01, 9.13102120e-01,\n",
              "        9.13208984e-01, 9.13390311e-01, 9.16234991e-01, 9.16433390e-01,\n",
              "        9.18381627e-01, 9.18620449e-01, 9.20240081e-01, 9.20532579e-01,\n",
              "        9.21870234e-01, 9.22126050e-01, 9.22821467e-01, 9.24652122e-01,\n",
              "        9.24818439e-01, 9.25245382e-01, 9.25714190e-01, 9.25777843e-01,\n",
              "        9.26275924e-01, 9.26288848e-01, 9.29118923e-01, 9.31039915e-01,\n",
              "        9.33740797e-01, 9.34158503e-01, 9.35223494e-01, 9.35541330e-01,\n",
              "        9.35639793e-01, 9.36095481e-01, 9.36190832e-01, 9.38073380e-01,\n",
              "        9.38151805e-01, 9.40505966e-01, 9.41061866e-01, 9.41282245e-01,\n",
              "        9.42690862e-01, 9.42759195e-01, 9.44363412e-01, 9.45016335e-01,\n",
              "        9.45581860e-01, 9.48339068e-01, 9.51232545e-01, 9.52391380e-01,\n",
              "        9.53443122e-01, 9.53756218e-01, 9.53954581e-01, 9.55258547e-01,\n",
              "        9.55483544e-01, 9.55872413e-01, 9.56583687e-01, 9.56600207e-01,\n",
              "        9.57153468e-01, 9.57302609e-01, 9.57626513e-01, 9.58664635e-01,\n",
              "        9.59003790e-01, 9.59225620e-01, 9.59325429e-01, 9.60037650e-01,\n",
              "        9.60064955e-01, 9.60333969e-01, 9.61238707e-01, 9.61445331e-01,\n",
              "        9.61931944e-01, 9.62357954e-01, 9.65156831e-01, 9.65583324e-01,\n",
              "        9.66258322e-01, 9.67766683e-01, 9.68067271e-01, 9.70855436e-01,\n",
              "        9.71046419e-01, 9.71920347e-01, 9.72219030e-01, 9.72379278e-01,\n",
              "        9.72541076e-01, 9.72936202e-01, 9.73194820e-01, 9.75240751e-01,\n",
              "        9.76346216e-01, 9.77320809e-01, 9.80701299e-01, 9.81154016e-01,\n",
              "        9.81178295e-01, 9.81637500e-01, 9.81814289e-01, 9.83983646e-01,\n",
              "        9.84045150e-01, 9.84583932e-01, 9.84777631e-01, 9.85399681e-01,\n",
              "        9.87658735e-01, 9.87783743e-01, 9.88245719e-01, 9.88972320e-01,\n",
              "        9.89008334e-01, 9.93440584e-01, 9.94929268e-01, 9.95164216e-01,\n",
              "        9.95284672e-01, 9.96794909e-01, 9.97536839e-01, 9.99014563e-01]),\n",
              " array([1, 1, 1, 1, 1, 1, 1, 1, 1, 1, 1, 1, 1, 1, 1, 1, 1, 1, 1, 1, 1, 1,\n",
              "        1, 1, 1, 1, 1, 1, 1, 1, 1, 1, 1, 1, 1, 1, 1, 1, 1, 1, 1, 1, 1, 1,\n",
              "        1, 1, 1, 1, 1, 1, 1, 1, 1, 1, 1, 1, 1, 1, 1, 1, 1, 1, 1, 1, 1, 1,\n",
              "        1, 1, 1, 1, 1, 1, 1, 1, 1, 1, 1, 1, 1, 1, 1, 1, 1, 1, 1, 1, 1, 1,\n",
              "        1, 1, 1, 1, 1, 1, 1, 1, 1, 1, 1, 1, 1, 1, 1, 1, 1, 1, 1, 1, 1, 1,\n",
              "        1, 1, 1, 1, 1, 1, 1, 1, 1, 1, 1, 1, 1, 1, 1, 1, 1, 1, 1, 1, 1, 1,\n",
              "        1, 1, 1, 1, 1, 1, 1, 1, 1, 1, 1, 1, 1, 1, 1, 1, 1, 1, 1, 1, 1, 1,\n",
              "        1, 1, 1, 1, 1, 1, 1, 1, 1, 1, 1, 1, 1, 1, 1, 1, 1, 1, 1, 1, 1, 1,\n",
              "        1, 1, 1, 1, 1, 1, 1, 1, 1, 1, 1, 1, 1, 1, 1, 1, 1, 1, 1, 1, 1, 1,\n",
              "        1, 1, 1, 1, 1, 1, 1, 1, 1, 1, 1, 1, 1, 1, 1, 1, 1, 1, 1, 1, 1, 1,\n",
              "        1, 1, 1, 1, 1, 1, 1, 1, 1, 1, 1, 1, 1, 1, 1, 1, 1, 1, 1, 1, 1, 1,\n",
              "        1, 1, 1, 1, 1, 1, 1, 1, 1, 1, 1, 1, 1, 1, 1, 1, 1, 1, 1, 1, 1, 1,\n",
              "        1, 1, 1, 1, 1, 1, 1, 1, 1, 1, 1, 1, 1, 1, 1, 1, 1, 1, 1, 1, 1, 1,\n",
              "        1, 1, 1, 1, 1, 1, 1, 1, 1, 1, 1, 1, 1, 1, 1, 1, 1, 1, 1, 1, 1, 1,\n",
              "        1, 1, 1, 1, 1, 1, 1, 1, 1, 1, 1, 1, 1, 1, 1, 1, 1, 1, 1, 1, 1, 1,\n",
              "        1, 1, 1, 1, 1, 1, 1, 1, 1, 1, 1, 1, 1, 1, 1, 1, 1, 1, 1, 1, 1, 1,\n",
              "        1, 1, 1, 1, 1, 1, 1, 1, 1, 1, 1, 1, 1, 1, 1, 1, 1, 1, 1, 1, 1, 1,\n",
              "        1, 1, 1, 1, 1, 1, 1, 1, 1, 1, 1, 1, 1, 1, 1, 1, 1, 1, 1, 1, 1, 1,\n",
              "        1, 1, 1, 1, 1, 1, 1, 1, 1, 1, 1, 1, 1, 1, 1, 1, 1, 1, 1, 1, 1, 1,\n",
              "        1, 1, 1, 1, 1, 1, 1, 1, 1, 1, 1, 1, 1, 1, 1, 1, 1, 1, 1, 1, 1, 1,\n",
              "        1, 1, 1, 1, 1, 1, 1, 1, 1, 1, 1, 1, 1, 1, 1, 1, 1, 1, 1, 1, 1, 1,\n",
              "        1, 1, 1, 1, 1, 1, 1, 1, 1, 1, 1, 1, 1, 1, 1, 1, 1, 1, 1, 1, 1, 1,\n",
              "        1, 1, 1, 1, 1, 1, 1, 1, 1, 1, 1, 1, 1, 1, 1, 1, 1, 1, 1, 1, 1, 1,\n",
              "        1, 1, 1, 1, 1, 1, 1, 1, 1, 1, 1, 1, 1, 1, 1, 1, 1, 1, 1, 1, 1, 1,\n",
              "        1, 1, 1, 1, 1, 1, 1, 1, 1, 1, 1, 1, 1, 1, 1, 1, 1, 1, 1, 1, 1, 1,\n",
              "        1, 1, 1, 1, 1, 1, 1, 1, 1, 1, 1, 1, 1, 1, 1, 1, 1, 1, 1, 1, 1, 1,\n",
              "        1, 1, 1, 1, 1, 1, 1, 1, 1, 1, 1, 1, 1, 1, 1, 1, 1, 1, 1, 1, 1, 1,\n",
              "        1, 1, 1, 1, 1, 1, 1, 1, 1, 1, 1, 1, 1, 1, 1, 1, 1, 1, 1, 1, 1, 1,\n",
              "        1, 1, 1, 1, 1, 1, 1, 1, 1, 1, 1, 1, 1, 1, 1, 1, 1, 1, 1, 1, 1, 1,\n",
              "        1, 1, 1, 1, 1, 1, 1, 1, 1, 1, 1, 1, 1, 1, 1, 1, 1, 1, 1, 1, 1, 1,\n",
              "        1, 1, 1, 1, 1, 1, 1, 1, 1, 1, 1, 1, 1, 1, 1, 1, 1, 1, 1, 1, 1, 1,\n",
              "        1, 1, 1, 1, 1, 1, 1, 1, 1, 1, 1, 1, 1, 1, 1, 1, 1, 1, 1, 1, 1, 1,\n",
              "        1, 1, 1, 1, 1, 1, 1, 1, 1, 1, 1, 1, 1, 1, 1, 1, 1, 1, 1, 1, 1, 1,\n",
              "        1, 1, 1, 1, 1, 1, 1, 1, 1, 1, 1, 1, 1, 1, 1, 1, 1, 1, 1, 1, 1, 1,\n",
              "        1, 1, 1, 1, 1, 1, 1, 1, 1, 1, 1, 1, 1, 1, 1, 1, 1, 1, 1, 1, 1, 1,\n",
              "        1, 1, 1, 1, 1, 1, 1, 1, 1, 1, 1, 1, 1, 1, 1, 1, 1, 1, 1, 1, 1, 1,\n",
              "        1, 1, 1, 1, 1, 1, 1, 1, 1, 1, 1, 1, 1, 1, 1, 1, 1, 1, 1, 1, 1, 1,\n",
              "        1, 1, 1, 1, 1, 1, 1, 1, 1, 1, 1, 1, 1, 1, 1, 1, 1, 1, 1, 1, 1, 1,\n",
              "        1, 1, 1, 1, 1, 1, 1, 1, 1, 1, 1, 1, 1, 1, 1, 1, 1, 1, 1, 1, 1, 1,\n",
              "        1, 1, 1, 1, 1, 1, 1, 1, 1, 1, 1, 1, 1, 1, 1, 1, 1, 1, 1, 1, 1, 1,\n",
              "        1, 1, 1, 1, 1, 1, 1, 1, 1, 1, 1, 1, 1, 1, 1, 1, 1, 1, 1, 1, 1, 1,\n",
              "        1, 1, 1, 1, 1, 1, 1, 1, 1, 1, 1, 1, 1, 1, 1, 1, 1, 1, 1, 1, 1, 1,\n",
              "        1, 1, 1, 1, 1, 1, 1, 1, 1, 1, 1, 1, 1, 1, 1, 1, 1, 1, 1, 1, 1, 1,\n",
              "        1, 1, 1, 1, 1, 1, 1, 1, 1, 1, 1, 1, 1, 1, 1, 1, 1, 1, 1, 1, 1, 1,\n",
              "        1, 1, 1, 1, 1, 1, 1, 1, 1, 1, 1, 1, 1, 1, 1, 1, 1, 1, 1, 1, 1, 1,\n",
              "        1, 1, 1, 1, 1, 1, 1, 1, 1, 1]))"
            ]
          },
          "metadata": {},
          "execution_count": 55
        }
      ]
    },
    {
      "cell_type": "markdown",
      "source": [
        "aplicando essa distr uniforme em um modelo de ML"
      ],
      "metadata": {
        "id": "yIuvLbabMdRq"
      }
    },
    {
      "cell_type": "code",
      "source": [
        "data = pd.read_csv('/content/credit_data.csv')"
      ],
      "metadata": {
        "id": "VX29b6ISKmGg"
      },
      "execution_count": 56,
      "outputs": []
    },
    {
      "cell_type": "code",
      "source": [
        "data.dropna(inplace=True)"
      ],
      "metadata": {
        "id": "SbHSi3KbMwkv"
      },
      "execution_count": 57,
      "outputs": []
    },
    {
      "cell_type": "code",
      "source": [
        "data.shape"
      ],
      "metadata": {
        "colab": {
          "base_uri": "https://localhost:8080/"
        },
        "id": "bwxsmzYgM3Jf",
        "outputId": "913a944f-d182-4d81-e081-007186cc7e6d"
      },
      "execution_count": 58,
      "outputs": [
        {
          "output_type": "execute_result",
          "data": {
            "text/plain": [
              "(1997, 5)"
            ]
          },
          "metadata": {},
          "execution_count": 58
        }
      ]
    },
    {
      "cell_type": "code",
      "source": [
        "data.head()"
      ],
      "metadata": {
        "colab": {
          "base_uri": "https://localhost:8080/",
          "height": 206
        },
        "id": "Hc_YVq8GM5Ke",
        "outputId": "e1f3699c-8017-4ace-d2d5-40687f34795b"
      },
      "execution_count": 59,
      "outputs": [
        {
          "output_type": "execute_result",
          "data": {
            "text/html": [
              "\n",
              "  <div id=\"df-20a72e38-39cd-4d95-8639-b2c0e36e28fa\">\n",
              "    <div class=\"colab-df-container\">\n",
              "      <div>\n",
              "<style scoped>\n",
              "    .dataframe tbody tr th:only-of-type {\n",
              "        vertical-align: middle;\n",
              "    }\n",
              "\n",
              "    .dataframe tbody tr th {\n",
              "        vertical-align: top;\n",
              "    }\n",
              "\n",
              "    .dataframe thead th {\n",
              "        text-align: right;\n",
              "    }\n",
              "</style>\n",
              "<table border=\"1\" class=\"dataframe\">\n",
              "  <thead>\n",
              "    <tr style=\"text-align: right;\">\n",
              "      <th></th>\n",
              "      <th>i#clientid</th>\n",
              "      <th>income</th>\n",
              "      <th>age</th>\n",
              "      <th>loan</th>\n",
              "      <th>c#default</th>\n",
              "    </tr>\n",
              "  </thead>\n",
              "  <tbody>\n",
              "    <tr>\n",
              "      <th>0</th>\n",
              "      <td>1</td>\n",
              "      <td>66155.925095</td>\n",
              "      <td>59.017015</td>\n",
              "      <td>8106.532131</td>\n",
              "      <td>0</td>\n",
              "    </tr>\n",
              "    <tr>\n",
              "      <th>1</th>\n",
              "      <td>2</td>\n",
              "      <td>34415.153966</td>\n",
              "      <td>48.117153</td>\n",
              "      <td>6564.745018</td>\n",
              "      <td>0</td>\n",
              "    </tr>\n",
              "    <tr>\n",
              "      <th>2</th>\n",
              "      <td>3</td>\n",
              "      <td>57317.170063</td>\n",
              "      <td>63.108049</td>\n",
              "      <td>8020.953296</td>\n",
              "      <td>0</td>\n",
              "    </tr>\n",
              "    <tr>\n",
              "      <th>3</th>\n",
              "      <td>4</td>\n",
              "      <td>42709.534201</td>\n",
              "      <td>45.751972</td>\n",
              "      <td>6103.642260</td>\n",
              "      <td>0</td>\n",
              "    </tr>\n",
              "    <tr>\n",
              "      <th>4</th>\n",
              "      <td>5</td>\n",
              "      <td>66952.688845</td>\n",
              "      <td>18.584336</td>\n",
              "      <td>8770.099235</td>\n",
              "      <td>1</td>\n",
              "    </tr>\n",
              "  </tbody>\n",
              "</table>\n",
              "</div>\n",
              "      <button class=\"colab-df-convert\" onclick=\"convertToInteractive('df-20a72e38-39cd-4d95-8639-b2c0e36e28fa')\"\n",
              "              title=\"Convert this dataframe to an interactive table.\"\n",
              "              style=\"display:none;\">\n",
              "        \n",
              "  <svg xmlns=\"http://www.w3.org/2000/svg\" height=\"24px\"viewBox=\"0 0 24 24\"\n",
              "       width=\"24px\">\n",
              "    <path d=\"M0 0h24v24H0V0z\" fill=\"none\"/>\n",
              "    <path d=\"M18.56 5.44l.94 2.06.94-2.06 2.06-.94-2.06-.94-.94-2.06-.94 2.06-2.06.94zm-11 1L8.5 8.5l.94-2.06 2.06-.94-2.06-.94L8.5 2.5l-.94 2.06-2.06.94zm10 10l.94 2.06.94-2.06 2.06-.94-2.06-.94-.94-2.06-.94 2.06-2.06.94z\"/><path d=\"M17.41 7.96l-1.37-1.37c-.4-.4-.92-.59-1.43-.59-.52 0-1.04.2-1.43.59L10.3 9.45l-7.72 7.72c-.78.78-.78 2.05 0 2.83L4 21.41c.39.39.9.59 1.41.59.51 0 1.02-.2 1.41-.59l7.78-7.78 2.81-2.81c.8-.78.8-2.07 0-2.86zM5.41 20L4 18.59l7.72-7.72 1.47 1.35L5.41 20z\"/>\n",
              "  </svg>\n",
              "      </button>\n",
              "      \n",
              "  <style>\n",
              "    .colab-df-container {\n",
              "      display:flex;\n",
              "      flex-wrap:wrap;\n",
              "      gap: 12px;\n",
              "    }\n",
              "\n",
              "    .colab-df-convert {\n",
              "      background-color: #E8F0FE;\n",
              "      border: none;\n",
              "      border-radius: 50%;\n",
              "      cursor: pointer;\n",
              "      display: none;\n",
              "      fill: #1967D2;\n",
              "      height: 32px;\n",
              "      padding: 0 0 0 0;\n",
              "      width: 32px;\n",
              "    }\n",
              "\n",
              "    .colab-df-convert:hover {\n",
              "      background-color: #E2EBFA;\n",
              "      box-shadow: 0px 1px 2px rgba(60, 64, 67, 0.3), 0px 1px 3px 1px rgba(60, 64, 67, 0.15);\n",
              "      fill: #174EA6;\n",
              "    }\n",
              "\n",
              "    [theme=dark] .colab-df-convert {\n",
              "      background-color: #3B4455;\n",
              "      fill: #D2E3FC;\n",
              "    }\n",
              "\n",
              "    [theme=dark] .colab-df-convert:hover {\n",
              "      background-color: #434B5C;\n",
              "      box-shadow: 0px 1px 3px 1px rgba(0, 0, 0, 0.15);\n",
              "      filter: drop-shadow(0px 1px 2px rgba(0, 0, 0, 0.3));\n",
              "      fill: #FFFFFF;\n",
              "    }\n",
              "  </style>\n",
              "\n",
              "      <script>\n",
              "        const buttonEl =\n",
              "          document.querySelector('#df-20a72e38-39cd-4d95-8639-b2c0e36e28fa button.colab-df-convert');\n",
              "        buttonEl.style.display =\n",
              "          google.colab.kernel.accessAllowed ? 'block' : 'none';\n",
              "\n",
              "        async function convertToInteractive(key) {\n",
              "          const element = document.querySelector('#df-20a72e38-39cd-4d95-8639-b2c0e36e28fa');\n",
              "          const dataTable =\n",
              "            await google.colab.kernel.invokeFunction('convertToInteractive',\n",
              "                                                     [key], {});\n",
              "          if (!dataTable) return;\n",
              "\n",
              "          const docLinkHtml = 'Like what you see? Visit the ' +\n",
              "            '<a target=\"_blank\" href=https://colab.research.google.com/notebooks/data_table.ipynb>data table notebook</a>'\n",
              "            + ' to learn more about interactive tables.';\n",
              "          element.innerHTML = '';\n",
              "          dataTable['output_type'] = 'display_data';\n",
              "          await google.colab.output.renderOutput(dataTable, element);\n",
              "          const docLink = document.createElement('div');\n",
              "          docLink.innerHTML = docLinkHtml;\n",
              "          element.appendChild(docLink);\n",
              "        }\n",
              "      </script>\n",
              "    </div>\n",
              "  </div>\n",
              "  "
            ],
            "text/plain": [
              "   i#clientid        income        age         loan  c#default\n",
              "0           1  66155.925095  59.017015  8106.532131          0\n",
              "1           2  34415.153966  48.117153  6564.745018          0\n",
              "2           3  57317.170063  63.108049  8020.953296          0\n",
              "3           4  42709.534201  45.751972  6103.642260          0\n",
              "4           5  66952.688845  18.584336  8770.099235          1"
            ]
          },
          "metadata": {},
          "execution_count": 59
        }
      ]
    },
    {
      "cell_type": "code",
      "source": [
        "x = data.iloc[:,1:4].values\n",
        "y = data.iloc[:,4].values"
      ],
      "metadata": {
        "id": "qDN2yZkuM8AP"
      },
      "execution_count": 60,
      "outputs": []
    },
    {
      "cell_type": "code",
      "source": [
        "from sklearn.naive_bayes import GaussianNB\n",
        "from sklearn.metrics import accuracy_score\n",
        "from sklearn.model_selection import train_test_split"
      ],
      "metadata": {
        "id": "b6JuZ1RmNOzN"
      },
      "execution_count": 61,
      "outputs": []
    },
    {
      "cell_type": "markdown",
      "source": [
        "treinando desta maneira para termos 30 resultados diferentes na acurácia:"
      ],
      "metadata": {
        "id": "Y41Wbw6JP0ia"
      }
    },
    {
      "cell_type": "code",
      "source": [
        "resultados_naive_bayes = []\n",
        "for i in range(30):\n",
        "  x_treinamento, x_teste, y_treinamento, y_teste = train_test_split(x, y, test_size = 0.2,stratify = y, random_state = i)\n",
        "  naive_bayes = GaussianNB()\n",
        "  naive_bayes.fit(x_treinamento, y_treinamento)\n",
        "  resultados_naive_bayes.append(accuracy_score(y_teste, naive_bayes.predict(x_teste)))\n",
        "\n",
        "print(resultados_naive_bayes)"
      ],
      "metadata": {
        "colab": {
          "base_uri": "https://localhost:8080/"
        },
        "id": "xNQc-AIHPWLZ",
        "outputId": "6ce06d62-2996-492f-a8ae-59b8e432a3b5"
      },
      "execution_count": 62,
      "outputs": [
        {
          "output_type": "stream",
          "name": "stdout",
          "text": [
            "[0.925, 0.925, 0.9325, 0.925, 0.92, 0.905, 0.9175, 0.9175, 0.9125, 0.9325, 0.9225, 0.9125, 0.935, 0.9175, 0.925, 0.9175, 0.9275, 0.92, 0.9325, 0.92, 0.93, 0.905, 0.9175, 0.9325, 0.9425, 0.9375, 0.94, 0.92, 0.935, 0.925]\n"
          ]
        }
      ]
    },
    {
      "cell_type": "code",
      "source": [
        "sns.distplot(resultados_naive_bayes, bins=10); #distr uniforme dos valores do modelo de ML"
      ],
      "metadata": {
        "colab": {
          "base_uri": "https://localhost:8080/",
          "height": 320
        },
        "id": "xbIhPMJ1Osuh",
        "outputId": "50816100-51b1-4314-b428-f0525557845d"
      },
      "execution_count": 63,
      "outputs": [
        {
          "output_type": "stream",
          "name": "stderr",
          "text": [
            "/usr/local/lib/python3.7/dist-packages/seaborn/distributions.py:2619: FutureWarning: `distplot` is a deprecated function and will be removed in a future version. Please adapt your code to use either `displot` (a figure-level function with similar flexibility) or `histplot` (an axes-level function for histograms).\n",
            "  warnings.warn(msg, FutureWarning)\n"
          ]
        },
        {
          "output_type": "display_data",
          "data": {
            "image/png": "[encoded data removed]",
            "text/plain": [
              "<Figure size 432x288 with 1 Axes>"
            ]
          },
          "metadata": {
            "needs_background": "light"
          }
        }
      ]
    },
    {
      "cell_type": "markdown",
      "source": [
        "**Variaveis Discretas**"
      ],
      "metadata": {
        "id": "rzqNKi1lQnVi"
      }
    },
    {
      "cell_type": "markdown",
      "source": [
        "- Distribuição de Bernoulli"
      ],
      "metadata": {
        "id": "zHxDU1NmxvNn"
      }
    },
    {
      "cell_type": "code",
      "source": [
        "# tipo da distr binominal # sucesso ou #fracasso"
      ],
      "metadata": {
        "id": "uRq7VgyrQA-D"
      },
      "execution_count": 64,
      "outputs": []
    },
    {
      "cell_type": "code",
      "source": [
        "from scipy.stats import bernoulli"
      ],
      "metadata": {
        "id": "44cGj8OLx8uh"
      },
      "execution_count": 65,
      "outputs": []
    },
    {
      "cell_type": "code",
      "source": [
        "base_bernoulli = bernoulli.rvs(size=1000, p=0.5) #p é prob de sucesso"
      ],
      "metadata": {
        "id": "mkSrLwp1yK5S"
      },
      "execution_count": 67,
      "outputs": []
    },
    {
      "cell_type": "code",
      "source": [
        "base_bernoulli"
      ],
      "metadata": {
        "colab": {
          "base_uri": "https://localhost:8080/"
        },
        "id": "VqNOAOday62q",
        "outputId": "894559fa-3479-4206-dff9-77cfcbcfec79"
      },
      "execution_count": 68,
      "outputs": [
        {
          "output_type": "execute_result",
          "data": {
            "text/plain": [
              "array([1, 0, 0, 1, 0, 0, 1, 0, 0, 1, 0, 1, 0, 0, 1, 0, 0, 0, 0, 1, 1, 1,\n",
              "       1, 1, 1, 0, 0, 0, 0, 1, 0, 1, 1, 1, 1, 0, 1, 0, 0, 0, 0, 0, 1, 0,\n",
              "       1, 0, 1, 1, 1, 0, 1, 1, 1, 0, 1, 1, 1, 1, 0, 1, 0, 0, 0, 0, 1, 1,\n",
              "       1, 1, 0, 0, 0, 0, 0, 0, 1, 1, 0, 1, 0, 1, 0, 0, 0, 0, 0, 0, 1, 1,\n",
              "       0, 0, 0, 0, 0, 0, 1, 1, 0, 0, 0, 0, 1, 0, 0, 1, 1, 0, 0, 1, 0, 1,\n",
              "       0, 0, 1, 1, 0, 0, 0, 1, 0, 1, 1, 1, 0, 0, 0, 0, 0, 0, 0, 0, 0, 1,\n",
              "       0, 1, 0, 0, 0, 0, 0, 0, 0, 1, 1, 0, 0, 1, 0, 1, 1, 1, 0, 0, 1, 0,\n",
              "       0, 0, 1, 1, 0, 0, 1, 1, 1, 0, 1, 0, 1, 1, 1, 0, 1, 0, 1, 1, 0, 1,\n",
              "       1, 1, 1, 1, 0, 1, 1, 1, 1, 1, 0, 0, 0, 1, 1, 1, 0, 0, 1, 1, 0, 1,\n",
              "       0, 1, 0, 0, 1, 0, 0, 0, 1, 0, 0, 1, 0, 0, 0, 1, 0, 1, 1, 0, 1, 0,\n",
              "       1, 1, 0, 0, 0, 0, 0, 0, 1, 0, 1, 1, 0, 0, 1, 0, 0, 0, 0, 0, 0, 1,\n",
              "       0, 1, 0, 1, 0, 1, 0, 1, 1, 0, 0, 0, 0, 1, 1, 1, 0, 1, 1, 1, 0, 1,\n",
              "       1, 0, 1, 0, 1, 1, 0, 0, 0, 1, 0, 1, 1, 1, 1, 1, 0, 1, 1, 0, 1, 1,\n",
              "       1, 0, 1, 1, 1, 1, 0, 0, 1, 1, 0, 0, 0, 0, 1, 0, 0, 1, 1, 1, 1, 1,\n",
              "       0, 0, 0, 1, 1, 1, 0, 1, 0, 1, 0, 0, 1, 1, 0, 1, 0, 0, 0, 1, 1, 1,\n",
              "       0, 0, 0, 1, 0, 0, 1, 1, 0, 1, 0, 1, 0, 1, 0, 0, 1, 0, 1, 0, 0, 0,\n",
              "       1, 1, 1, 0, 1, 1, 0, 0, 1, 1, 0, 0, 0, 1, 1, 0, 0, 0, 0, 0, 0, 1,\n",
              "       1, 0, 0, 1, 0, 0, 1, 1, 1, 1, 1, 1, 1, 0, 1, 1, 1, 1, 1, 1, 0, 1,\n",
              "       1, 1, 0, 0, 0, 0, 1, 1, 0, 0, 1, 1, 0, 0, 1, 0, 0, 0, 1, 0, 0, 0,\n",
              "       0, 0, 1, 0, 1, 1, 1, 0, 1, 0, 0, 1, 0, 1, 0, 0, 1, 1, 0, 1, 0, 0,\n",
              "       1, 0, 1, 0, 1, 0, 1, 0, 0, 0, 1, 1, 0, 1, 0, 0, 0, 1, 0, 0, 1, 1,\n",
              "       0, 0, 1, 1, 1, 0, 1, 0, 0, 0, 1, 1, 0, 1, 1, 0, 1, 1, 1, 1, 0, 0,\n",
              "       1, 0, 1, 0, 0, 0, 0, 0, 1, 1, 1, 0, 0, 0, 1, 0, 0, 0, 1, 0, 0, 1,\n",
              "       1, 0, 1, 0, 1, 0, 1, 0, 0, 1, 1, 0, 1, 0, 0, 1, 1, 1, 1, 1, 0, 1,\n",
              "       1, 1, 0, 1, 1, 0, 1, 0, 1, 1, 1, 1, 1, 0, 1, 0, 0, 1, 1, 1, 0, 1,\n",
              "       0, 0, 1, 1, 0, 0, 0, 1, 1, 0, 1, 0, 1, 0, 1, 1, 0, 1, 1, 0, 1, 0,\n",
              "       0, 1, 1, 1, 1, 0, 0, 1, 1, 0, 1, 0, 0, 1, 1, 1, 1, 0, 0, 0, 0, 1,\n",
              "       0, 1, 0, 0, 0, 1, 1, 0, 1, 1, 0, 1, 0, 0, 1, 0, 0, 1, 0, 1, 1, 1,\n",
              "       0, 1, 0, 0, 0, 0, 1, 0, 1, 0, 0, 1, 1, 1, 1, 1, 0, 0, 0, 1, 0, 1,\n",
              "       1, 1, 1, 0, 0, 1, 0, 0, 1, 0, 0, 0, 0, 0, 0, 1, 0, 1, 0, 0, 1, 1,\n",
              "       1, 1, 1, 1, 0, 0, 1, 1, 1, 0, 1, 0, 1, 1, 0, 0, 1, 1, 1, 1, 1, 0,\n",
              "       1, 1, 0, 1, 0, 1, 1, 0, 0, 1, 1, 0, 0, 0, 1, 0, 0, 1, 1, 1, 0, 1,\n",
              "       1, 1, 1, 0, 0, 1, 0, 0, 1, 1, 1, 0, 0, 0, 0, 1, 0, 0, 0, 0, 0, 0,\n",
              "       1, 1, 0, 1, 0, 1, 1, 1, 1, 0, 0, 1, 0, 0, 0, 0, 1, 0, 0, 0, 1, 0,\n",
              "       0, 1, 1, 1, 0, 1, 1, 0, 1, 0, 0, 1, 1, 1, 0, 1, 0, 1, 1, 0, 0, 1,\n",
              "       1, 1, 0, 1, 1, 0, 0, 0, 1, 1, 1, 0, 1, 0, 0, 0, 0, 1, 0, 0, 1, 0,\n",
              "       0, 1, 1, 0, 0, 0, 1, 0, 1, 0, 1, 1, 0, 1, 0, 1, 0, 1, 0, 1, 1, 0,\n",
              "       1, 0, 0, 1, 0, 0, 0, 1, 1, 0, 1, 1, 1, 1, 0, 1, 0, 0, 0, 0, 0, 1,\n",
              "       1, 0, 0, 1, 0, 0, 0, 0, 0, 0, 1, 1, 1, 1, 0, 1, 0, 1, 1, 1, 0, 1,\n",
              "       0, 0, 0, 0, 1, 1, 0, 0, 0, 1, 0, 1, 0, 0, 1, 1, 1, 0, 0, 1, 0, 0,\n",
              "       1, 0, 1, 0, 0, 0, 1, 0, 1, 0, 1, 0, 1, 1, 0, 1, 0, 0, 1, 1, 0, 0,\n",
              "       1, 0, 0, 0, 1, 1, 0, 0, 0, 1, 0, 0, 1, 0, 1, 1, 0, 0, 1, 0, 1, 1,\n",
              "       0, 0, 0, 1, 1, 0, 1, 0, 0, 0, 1, 1, 1, 1, 0, 0, 0, 1, 0, 0, 0, 0,\n",
              "       0, 1, 1, 1, 0, 0, 1, 0, 0, 1, 1, 1, 0, 0, 1, 1, 1, 1, 1, 1, 0, 0,\n",
              "       0, 0, 0, 0, 0, 1, 0, 0, 0, 0, 1, 1, 0, 1, 0, 1, 0, 1, 1, 1, 1, 0,\n",
              "       0, 0, 0, 0, 0, 1, 1, 1, 1, 0])"
            ]
          },
          "metadata": {},
          "execution_count": 68
        }
      ]
    },
    {
      "cell_type": "code",
      "source": [
        "np.unique(base_bernoulli, return_counts=True) #p=0.5 existe 50% pra visualizar 0 e 1, poderiamos ter colcado outro valor"
      ],
      "metadata": {
        "colab": {
          "base_uri": "https://localhost:8080/"
        },
        "id": "Kcnvnm9JzCiP",
        "outputId": "4c5e2e3d-7010-4821-dbd9-d84d98fcfb05"
      },
      "execution_count": 69,
      "outputs": [
        {
          "output_type": "execute_result",
          "data": {
            "text/plain": [
              "(array([0, 1]), array([519, 481]))"
            ]
          },
          "metadata": {},
          "execution_count": 69
        }
      ]
    },
    {
      "cell_type": "markdown",
      "source": [
        "acima temos duas respostas, ou é sim, ou é não"
      ],
      "metadata": {
        "id": "zMpcY7kpzVkt"
      }
    },
    {
      "cell_type": "code",
      "source": [
        "sns.distplot(base_bernoulli);"
      ],
      "metadata": {
        "colab": {
          "base_uri": "https://localhost:8080/",
          "height": 320
        },
        "id": "2ITK4s6xzSH9",
        "outputId": "6db1bbf2-7f8c-4696-fe16-f6ce79da18c7"
      },
      "execution_count": 70,
      "outputs": [
        {
          "output_type": "stream",
          "name": "stderr",
          "text": [
            "/usr/local/lib/python3.7/dist-packages/seaborn/distributions.py:2619: FutureWarning: `distplot` is a deprecated function and will be removed in a future version. Please adapt your code to use either `displot` (a figure-level function with similar flexibility) or `histplot` (an axes-level function for histograms).\n",
            "  warnings.warn(msg, FutureWarning)\n"
          ]
        },
        {
          "output_type": "display_data",
          "data": {
            "image/png": "[encoded data removed]",
            "text/plain": [
              "<Figure size 432x288 with 1 Axes>"
            ]
          },
          "metadata": {
            "needs_background": "light"
          }
        }
      ]
    },
    {
      "cell_type": "markdown",
      "source": [
        "- Distribuição Binominal"
      ],
      "metadata": {
        "id": "pSBpx21r0WNf"
      }
    },
    {
      "cell_type": "code",
      "source": [
        "#assim como a anterior, mas aqui podemos ter mais caracteristicas, vamos ver"
      ],
      "metadata": {
        "id": "Qks43YS5z241"
      },
      "execution_count": 72,
      "outputs": []
    },
    {
      "cell_type": "code",
      "source": [
        "from scipy.stats import binom"
      ],
      "metadata": {
        "id": "Tj4sJWfS0cHA"
      },
      "execution_count": 73,
      "outputs": []
    },
    {
      "cell_type": "code",
      "source": [
        "base_binominal = binom.rvs(size=1000, n=2, p=0.5) #n numero de caract e p probabilidade"
      ],
      "metadata": {
        "id": "e_MPwEW600NE"
      },
      "execution_count": 77,
      "outputs": []
    },
    {
      "cell_type": "code",
      "source": [
        "print(base_binominal)"
      ],
      "metadata": {
        "colab": {
          "base_uri": "https://localhost:8080/"
        },
        "id": "sFAvpAO51Fkp",
        "outputId": "b2e97955-c822-451b-e5ab-2c1dad95636f"
      },
      "execution_count": 78,
      "outputs": [
        {
          "output_type": "stream",
          "name": "stdout",
          "text": [
            "[1 1 1 1 2 2 1 1 1 1 2 2 2 0 0 0 2 1 0 0 2 2 1 2 1 1 0 0 1 0 0 1 2 2 1 1 0\n",
            " 1 1 0 1 1 1 1 1 2 0 2 0 2 2 1 1 2 1 1 1 2 2 2 0 0 1 2 1 1 1 1 0 1 1 2 1 1\n",
            " 1 2 0 0 1 2 0 0 2 1 1 1 2 1 1 0 1 1 2 0 2 0 1 0 2 1 0 1 1 1 0 2 1 2 1 2 2\n",
            " 0 0 0 0 1 1 1 0 1 1 1 0 2 1 1 1 2 1 1 2 2 2 2 1 1 1 1 1 2 1 2 1 1 1 2 0 2\n",
            " 1 2 1 1 2 1 1 2 0 0 2 0 1 1 2 1 1 0 2 1 2 1 1 1 0 2 0 2 2 2 2 0 2 2 0 1 1\n",
            " 1 1 2 0 1 1 1 2 1 2 0 1 2 1 2 1 1 0 1 1 2 1 2 1 1 2 0 1 1 1 1 2 1 1 2 2 1\n",
            " 0 2 0 1 2 1 0 2 1 1 0 0 1 1 1 2 1 2 0 0 1 1 0 1 2 1 2 1 1 2 1 1 0 2 0 1 0\n",
            " 2 2 2 2 0 1 0 2 1 1 0 0 2 0 1 1 2 0 2 1 1 2 2 0 2 1 0 1 1 2 1 0 0 1 2 0 1\n",
            " 0 1 1 1 2 1 0 2 0 1 2 0 2 1 1 1 1 2 2 0 1 2 2 0 1 1 1 2 1 2 0 2 1 1 1 0 0\n",
            " 1 1 0 1 1 1 1 1 0 0 0 1 0 2 0 1 1 2 0 2 0 1 1 2 1 1 2 1 2 0 1 1 0 1 1 2 1\n",
            " 1 1 1 0 1 2 0 2 1 1 0 2 1 0 1 2 2 1 1 0 1 0 2 0 2 0 2 2 1 0 2 1 1 2 0 0 1\n",
            " 1 2 0 0 1 1 1 0 1 2 2 1 1 2 1 1 1 2 2 1 0 2 1 1 1 1 1 1 0 1 0 0 1 1 2 1 2\n",
            " 1 2 0 1 1 0 1 2 2 1 2 1 1 2 0 0 2 1 1 2 1 1 2 2 1 0 1 0 1 2 1 2 1 2 0 1 0\n",
            " 1 1 1 1 1 2 1 0 1 1 1 1 0 2 1 1 1 1 2 0 1 0 0 1 0 1 2 1 2 1 2 1 1 1 0 1 2\n",
            " 1 1 2 1 1 0 0 2 1 0 2 2 0 1 2 0 1 1 1 1 0 2 0 2 0 2 0 0 1 0 0 2 1 1 1 2 0\n",
            " 1 0 1 2 0 0 1 1 1 0 1 1 1 1 1 1 2 0 1 2 1 1 2 1 0 1 1 0 0 1 0 1 2 1 2 2 1\n",
            " 1 2 1 2 1 0 1 1 1 2 0 0 0 1 1 1 1 1 1 1 1 1 1 2 1 1 1 2 1 1 0 1 0 1 0 2 0\n",
            " 1 1 2 2 1 1 2 1 1 0 1 1 1 2 1 2 1 1 1 2 1 0 2 1 1 1 2 0 1 2 1 1 0 1 1 1 1\n",
            " 0 0 1 0 1 0 1 1 1 2 0 1 1 2 1 0 1 1 1 1 1 2 1 0 1 2 0 1 0 1 2 0 1 0 1 0 2\n",
            " 0 1 1 0 1 2 1 1 0 2 1 2 1 1 1 2 0 1 0 0 0 2 2 1 1 2 1 2 1 1 0 1 0 1 1 2 1\n",
            " 2 1 1 0 0 0 0 0 1 2 1 0 1 0 1 1 1 2 2 0 1 0 2 0 0 1 1 1 1 1 1 1 0 1 1 0 1\n",
            " 0 0 1 2 1 0 1 0 0 1 0 2 1 1 1 0 1 1 1 2 0 1 1 1 2 2 0 1 0 1 2 1 2 2 1 1 0\n",
            " 1 1 1 2 1 1 0 2 0 1 2 0 1 0 0 2 1 1 1 0 2 1 2 1 1 1 1 2 0 0 1 0 1 1 2 1 2\n",
            " 0 1 0 1 2 1 2 0 1 1 1 0 2 2 2 1 1 0 2 2 1 2 2 2 1 0 1 0 2 1 1 0 0 1 2 2 1\n",
            " 2 1 1 1 2 1 1 2 1 2 0 2 0 0 1 2 0 1 1 1 0 1 2 1 1 1 0 0 0 1 2 2 1 0 2 1 1\n",
            " 2 2 2 2 0 1 2 1 2 0 0 2 1 1 2 1 1 2 0 1 1 1 1 1 1 2 2 0 0 1 1 2 1 1 2 1 1\n",
            " 2 1 1 1 1 0 0 2 2 1 2 1 1 2 1 1 1 0 1 2 0 0 0 0 1 1 0 1 2 1 1 2 1 1 2 1 2\n",
            " 2]\n"
          ]
        }
      ]
    },
    {
      "cell_type": "code",
      "source": [
        "np.unique(base_binominal, return_counts=True)"
      ],
      "metadata": {
        "colab": {
          "base_uri": "https://localhost:8080/"
        },
        "id": "EQgddrq51Rth",
        "outputId": "0f67a728-0dab-481d-a860-4492c86fc23a"
      },
      "execution_count": 79,
      "outputs": [
        {
          "output_type": "execute_result",
          "data": {
            "text/plain": [
              "(array([0, 1, 2]), array([239, 499, 262]))"
            ]
          },
          "metadata": {},
          "execution_count": 79
        }
      ]
    },
    {
      "cell_type": "markdown",
      "source": [
        "sorteou 239 \"0\", 499 \"1\", e 262 \"2\""
      ],
      "metadata": {
        "id": "zaN1Oorb1uhl"
      }
    },
    {
      "cell_type": "code",
      "source": [
        "sns.distplot(base_binominal);"
      ],
      "metadata": {
        "colab": {
          "base_uri": "https://localhost:8080/",
          "height": 320
        },
        "id": "oRKcXdNs1nvp",
        "outputId": "f69d6c28-9578-4748-96b9-b311fe0e966c"
      },
      "execution_count": 80,
      "outputs": [
        {
          "output_type": "stream",
          "name": "stderr",
          "text": [
            "/usr/local/lib/python3.7/dist-packages/seaborn/distributions.py:2619: FutureWarning: `distplot` is a deprecated function and will be removed in a future version. Please adapt your code to use either `displot` (a figure-level function with similar flexibility) or `histplot` (an axes-level function for histograms).\n",
            "  warnings.warn(msg, FutureWarning)\n"
          ]
        },
        {
          "output_type": "display_data",
          "data": {
            "image/png": "[encoded data removed]",
            "text/plain": [
              "<Figure size 432x288 with 1 Axes>"
            ]
          },
          "metadata": {
            "needs_background": "light"
          }
        }
      ]
    },
    {
      "cell_type": "markdown",
      "source": [
        "é igual contagem de categorias na vida real"
      ],
      "metadata": {
        "id": "4uawFnxw4Ai8"
      }
    },
    {
      "cell_type": "markdown",
      "source": [
        "- Distribuição de Poisson"
      ],
      "metadata": {
        "id": "AHs3uQLm4Iq6"
      }
    },
    {
      "cell_type": "code",
      "source": [
        "# qts de vezes em que algo aconteceu em um intervalo de tempo\n"
      ],
      "metadata": {
        "id": "botqNIF93o7R"
      },
      "execution_count": 81,
      "outputs": []
    },
    {
      "cell_type": "code",
      "source": [
        "from scipy.stats import poisson"
      ],
      "metadata": {
        "id": "cjHbpyAO4WkB"
      },
      "execution_count": 82,
      "outputs": []
    },
    {
      "cell_type": "code",
      "source": [
        "base_poisson = poisson.rvs(size=1000, mu=5) #quanto menor o \"mu\" menor categorias sao geradas, #rvs é so para gerar num alaeatorios para aproximar a distr"
      ],
      "metadata": {
        "id": "wXgYdSWf4poZ"
      },
      "execution_count": 85,
      "outputs": []
    },
    {
      "cell_type": "code",
      "source": [
        "min(base_poisson), max(base_poisson)"
      ],
      "metadata": {
        "colab": {
          "base_uri": "https://localhost:8080/"
        },
        "id": "E6xMO7Gk-Bwh",
        "outputId": "b1ddca77-e18b-4495-9843-9f9699019a7c"
      },
      "execution_count": 86,
      "outputs": [
        {
          "output_type": "execute_result",
          "data": {
            "text/plain": [
              "(0, 13)"
            ]
          },
          "metadata": {},
          "execution_count": 86
        }
      ]
    },
    {
      "cell_type": "code",
      "source": [
        "np.unique(base_poisson, return_counts=True)"
      ],
      "metadata": {
        "colab": {
          "base_uri": "https://localhost:8080/"
        },
        "id": "D1N-ix7j-IYz",
        "outputId": "2944927a-bfb5-4915-e9fc-1bc943692783"
      },
      "execution_count": 87,
      "outputs": [
        {
          "output_type": "execute_result",
          "data": {
            "text/plain": [
              "(array([ 0,  1,  2,  3,  4,  5,  6,  7,  8,  9, 10, 11, 12, 13]),\n",
              " array([ 10,  33,  89, 136, 159, 184, 130, 108,  67,  49,  20,   7,   6,\n",
              "          2]))"
            ]
          },
          "metadata": {},
          "execution_count": 87
        }
      ]
    },
    {
      "cell_type": "markdown",
      "source": [
        "ou seja, o numero 0 aparece 10 vezes, etc"
      ],
      "metadata": {
        "id": "ifs_JWba_hGV"
      }
    },
    {
      "cell_type": "code",
      "source": [
        "sns.distplot(base_poisson);"
      ],
      "metadata": {
        "colab": {
          "base_uri": "https://localhost:8080/",
          "height": 322
        },
        "id": "sE4m2hdR_cht",
        "outputId": "432af298-1429-43e4-d7e1-7add0dbd58c0"
      },
      "execution_count": 88,
      "outputs": [
        {
          "output_type": "stream",
          "name": "stderr",
          "text": [
            "/usr/local/lib/python3.7/dist-packages/seaborn/distributions.py:2619: FutureWarning: `distplot` is a deprecated function and will be removed in a future version. Please adapt your code to use either `displot` (a figure-level function with similar flexibility) or `histplot` (an axes-level function for histograms).\n",
            "  warnings.warn(msg, FutureWarning)\n"
          ]
        },
        {
          "output_type": "display_data",
          "data": {
            "image/png": "[encoded data removed]",
            "text/plain": [
              "<Figure size 432x288 with 1 Axes>"
            ]
          },
          "metadata": {
            "needs_background": "light"
          }
        }
      ]
    },
    {
      "cell_type": "markdown",
      "source": [
        "intervalo ao decorrer do tempo..."
      ],
      "metadata": {
        "id": "xqvQHWzT_42D"
      }
    },
    {
      "cell_type": "markdown",
      "source": [
        "Conhecemos o GaussianNB do naives Bayes, agora vamos ver outros tipos:"
      ],
      "metadata": {
        "id": "pApHGiV8C2Vj"
      }
    },
    {
      "cell_type": "markdown",
      "source": [
        "**Outros tipos de Naive Bayes : Bernoulli NB e Multinominal NB ( Distribuições )**"
      ],
      "metadata": {
        "id": "HCTqKN9_BPZ5"
      }
    },
    {
      "cell_type": "markdown",
      "source": [
        "- Bernoulli NB"
      ],
      "metadata": {
        "id": "uHrN-0g2COgP"
      }
    },
    {
      "cell_type": "code",
      "source": [
        "from sklearn.naive_bayes import BernoulliNB"
      ],
      "metadata": {
        "id": "Gp8WVM6gB2Ob"
      },
      "execution_count": 89,
      "outputs": []
    },
    {
      "cell_type": "code",
      "source": [
        "from sklearn.metrics import accuracy_score"
      ],
      "metadata": {
        "id": "hx1oYZqL_t0r"
      },
      "execution_count": 90,
      "outputs": []
    },
    {
      "cell_type": "code",
      "source": [
        "from sklearn.model_selection import train_test_split"
      ],
      "metadata": {
        "id": "xolkjCHRDEDb"
      },
      "execution_count": 91,
      "outputs": []
    },
    {
      "cell_type": "markdown",
      "source": [
        "temos que usar um outro dataset agora"
      ],
      "metadata": {
        "id": "-gzMP9LJHWRG"
      }
    },
    {
      "cell_type": "code",
      "source": [
        "dados = pd.read_csv('/content/census.csv')"
      ],
      "metadata": {
        "id": "iZrbBhvoD5kW"
      },
      "execution_count": 94,
      "outputs": []
    },
    {
      "cell_type": "code",
      "source": [
        "dados.head()"
      ],
      "metadata": {
        "colab": {
          "base_uri": "https://localhost:8080/",
          "height": 444
        },
        "id": "4OK5btqwHjWS",
        "outputId": "60a40945-38b9-40fd-c5e3-157c5ea33635"
      },
      "execution_count": 95,
      "outputs": [
        {
          "output_type": "execute_result",
          "data": {
            "text/html": [
              "\n",
              "  <div id=\"df-b4af5d05-f417-495b-a39e-b1701badf41e\">\n",
              "    <div class=\"colab-df-container\">\n",
              "      <div>\n",
              "<style scoped>\n",
              "    .dataframe tbody tr th:only-of-type {\n",
              "        vertical-align: middle;\n",
              "    }\n",
              "\n",
              "    .dataframe tbody tr th {\n",
              "        vertical-align: top;\n",
              "    }\n",
              "\n",
              "    .dataframe thead th {\n",
              "        text-align: right;\n",
              "    }\n",
              "</style>\n",
              "<table border=\"1\" class=\"dataframe\">\n",
              "  <thead>\n",
              "    <tr style=\"text-align: right;\">\n",
              "      <th></th>\n",
              "      <th>age</th>\n",
              "      <th>workclass</th>\n",
              "      <th>final-weight</th>\n",
              "      <th>education</th>\n",
              "      <th>education-num</th>\n",
              "      <th>marital-status</th>\n",
              "      <th>occupation</th>\n",
              "      <th>relationship</th>\n",
              "      <th>race</th>\n",
              "      <th>sex</th>\n",
              "      <th>capital-gain</th>\n",
              "      <th>capital-loos</th>\n",
              "      <th>hour-per-week</th>\n",
              "      <th>native-country</th>\n",
              "      <th>income</th>\n",
              "    </tr>\n",
              "  </thead>\n",
              "  <tbody>\n",
              "    <tr>\n",
              "      <th>0</th>\n",
              "      <td>39</td>\n",
              "      <td>State-gov</td>\n",
              "      <td>77516</td>\n",
              "      <td>Bachelors</td>\n",
              "      <td>13</td>\n",
              "      <td>Never-married</td>\n",
              "      <td>Adm-clerical</td>\n",
              "      <td>Not-in-family</td>\n",
              "      <td>White</td>\n",
              "      <td>Male</td>\n",
              "      <td>2174</td>\n",
              "      <td>0</td>\n",
              "      <td>40</td>\n",
              "      <td>United-States</td>\n",
              "      <td>&lt;=50K</td>\n",
              "    </tr>\n",
              "    <tr>\n",
              "      <th>1</th>\n",
              "      <td>50</td>\n",
              "      <td>Self-emp-not-inc</td>\n",
              "      <td>83311</td>\n",
              "      <td>Bachelors</td>\n",
              "      <td>13</td>\n",
              "      <td>Married-civ-spouse</td>\n",
              "      <td>Exec-managerial</td>\n",
              "      <td>Husband</td>\n",
              "      <td>White</td>\n",
              "      <td>Male</td>\n",
              "      <td>0</td>\n",
              "      <td>0</td>\n",
              "      <td>13</td>\n",
              "      <td>United-States</td>\n",
              "      <td>&lt;=50K</td>\n",
              "    </tr>\n",
              "    <tr>\n",
              "      <th>2</th>\n",
              "      <td>38</td>\n",
              "      <td>Private</td>\n",
              "      <td>215646</td>\n",
              "      <td>HS-grad</td>\n",
              "      <td>9</td>\n",
              "      <td>Divorced</td>\n",
              "      <td>Handlers-cleaners</td>\n",
              "      <td>Not-in-family</td>\n",
              "      <td>White</td>\n",
              "      <td>Male</td>\n",
              "      <td>0</td>\n",
              "      <td>0</td>\n",
              "      <td>40</td>\n",
              "      <td>United-States</td>\n",
              "      <td>&lt;=50K</td>\n",
              "    </tr>\n",
              "    <tr>\n",
              "      <th>3</th>\n",
              "      <td>53</td>\n",
              "      <td>Private</td>\n",
              "      <td>234721</td>\n",
              "      <td>11th</td>\n",
              "      <td>7</td>\n",
              "      <td>Married-civ-spouse</td>\n",
              "      <td>Handlers-cleaners</td>\n",
              "      <td>Husband</td>\n",
              "      <td>Black</td>\n",
              "      <td>Male</td>\n",
              "      <td>0</td>\n",
              "      <td>0</td>\n",
              "      <td>40</td>\n",
              "      <td>United-States</td>\n",
              "      <td>&lt;=50K</td>\n",
              "    </tr>\n",
              "    <tr>\n",
              "      <th>4</th>\n",
              "      <td>28</td>\n",
              "      <td>Private</td>\n",
              "      <td>338409</td>\n",
              "      <td>Bachelors</td>\n",
              "      <td>13</td>\n",
              "      <td>Married-civ-spouse</td>\n",
              "      <td>Prof-specialty</td>\n",
              "      <td>Wife</td>\n",
              "      <td>Black</td>\n",
              "      <td>Female</td>\n",
              "      <td>0</td>\n",
              "      <td>0</td>\n",
              "      <td>40</td>\n",
              "      <td>Cuba</td>\n",
              "      <td>&lt;=50K</td>\n",
              "    </tr>\n",
              "  </tbody>\n",
              "</table>\n",
              "</div>\n",
              "      <button class=\"colab-df-convert\" onclick=\"convertToInteractive('df-b4af5d05-f417-495b-a39e-b1701badf41e')\"\n",
              "              title=\"Convert this dataframe to an interactive table.\"\n",
              "              style=\"display:none;\">\n",
              "        \n",
              "  <svg xmlns=\"http://www.w3.org/2000/svg\" height=\"24px\"viewBox=\"0 0 24 24\"\n",
              "       width=\"24px\">\n",
              "    <path d=\"M0 0h24v24H0V0z\" fill=\"none\"/>\n",
              "    <path d=\"M18.56 5.44l.94 2.06.94-2.06 2.06-.94-2.06-.94-.94-2.06-.94 2.06-2.06.94zm-11 1L8.5 8.5l.94-2.06 2.06-.94-2.06-.94L8.5 2.5l-.94 2.06-2.06.94zm10 10l.94 2.06.94-2.06 2.06-.94-2.06-.94-.94-2.06-.94 2.06-2.06.94z\"/><path d=\"M17.41 7.96l-1.37-1.37c-.4-.4-.92-.59-1.43-.59-.52 0-1.04.2-1.43.59L10.3 9.45l-7.72 7.72c-.78.78-.78 2.05 0 2.83L4 21.41c.39.39.9.59 1.41.59.51 0 1.02-.2 1.41-.59l7.78-7.78 2.81-2.81c.8-.78.8-2.07 0-2.86zM5.41 20L4 18.59l7.72-7.72 1.47 1.35L5.41 20z\"/>\n",
              "  </svg>\n",
              "      </button>\n",
              "      \n",
              "  <style>\n",
              "    .colab-df-container {\n",
              "      display:flex;\n",
              "      flex-wrap:wrap;\n",
              "      gap: 12px;\n",
              "    }\n",
              "\n",
              "    .colab-df-convert {\n",
              "      background-color: #E8F0FE;\n",
              "      border: none;\n",
              "      border-radius: 50%;\n",
              "      cursor: pointer;\n",
              "      display: none;\n",
              "      fill: #1967D2;\n",
              "      height: 32px;\n",
              "      padding: 0 0 0 0;\n",
              "      width: 32px;\n",
              "    }\n",
              "\n",
              "    .colab-df-convert:hover {\n",
              "      background-color: #E2EBFA;\n",
              "      box-shadow: 0px 1px 2px rgba(60, 64, 67, 0.3), 0px 1px 3px 1px rgba(60, 64, 67, 0.15);\n",
              "      fill: #174EA6;\n",
              "    }\n",
              "\n",
              "    [theme=dark] .colab-df-convert {\n",
              "      background-color: #3B4455;\n",
              "      fill: #D2E3FC;\n",
              "    }\n",
              "\n",
              "    [theme=dark] .colab-df-convert:hover {\n",
              "      background-color: #434B5C;\n",
              "      box-shadow: 0px 1px 3px 1px rgba(0, 0, 0, 0.15);\n",
              "      filter: drop-shadow(0px 1px 2px rgba(0, 0, 0, 0.3));\n",
              "      fill: #FFFFFF;\n",
              "    }\n",
              "  </style>\n",
              "\n",
              "      <script>\n",
              "        const buttonEl =\n",
              "          document.querySelector('#df-b4af5d05-f417-495b-a39e-b1701badf41e button.colab-df-convert');\n",
              "        buttonEl.style.display =\n",
              "          google.colab.kernel.accessAllowed ? 'block' : 'none';\n",
              "\n",
              "        async function convertToInteractive(key) {\n",
              "          const element = document.querySelector('#df-b4af5d05-f417-495b-a39e-b1701badf41e');\n",
              "          const dataTable =\n",
              "            await google.colab.kernel.invokeFunction('convertToInteractive',\n",
              "                                                     [key], {});\n",
              "          if (!dataTable) return;\n",
              "\n",
              "          const docLinkHtml = 'Like what you see? Visit the ' +\n",
              "            '<a target=\"_blank\" href=https://colab.research.google.com/notebooks/data_table.ipynb>data table notebook</a>'\n",
              "            + ' to learn more about interactive tables.';\n",
              "          element.innerHTML = '';\n",
              "          dataTable['output_type'] = 'display_data';\n",
              "          await google.colab.output.renderOutput(dataTable, element);\n",
              "          const docLink = document.createElement('div');\n",
              "          docLink.innerHTML = docLinkHtml;\n",
              "          element.appendChild(docLink);\n",
              "        }\n",
              "      </script>\n",
              "    </div>\n",
              "  </div>\n",
              "  "
            ],
            "text/plain": [
              "   age          workclass  final-weight  ... hour-per-week  native-country  income\n",
              "0   39          State-gov         77516  ...            40   United-States   <=50K\n",
              "1   50   Self-emp-not-inc         83311  ...            13   United-States   <=50K\n",
              "2   38            Private        215646  ...            40   United-States   <=50K\n",
              "3   53            Private        234721  ...            40   United-States   <=50K\n",
              "4   28            Private        338409  ...            40            Cuba   <=50K\n",
              "\n",
              "[5 rows x 15 columns]"
            ]
          },
          "metadata": {},
          "execution_count": 95
        }
      ]
    },
    {
      "cell_type": "markdown",
      "source": [
        "só faz sentido usarmos a coluna de sexo para a previsão do income, pois só ela faz sentido para usar o Benoulli NB, pois no Benoulli só temos que ter dois tipos de caracteristicas, como no sexo: masculino e feminino"
      ],
      "metadata": {
        "id": "O8O1-BXpHl2F"
      }
    },
    {
      "cell_type": "code",
      "source": [
        "dados['sex'].unique()"
      ],
      "metadata": {
        "colab": {
          "base_uri": "https://localhost:8080/"
        },
        "id": "i9oDhTRqIOHH",
        "outputId": "755f94b1-61fa-4c11-a04f-7602d6ecdd71"
      },
      "execution_count": 96,
      "outputs": [
        {
          "output_type": "execute_result",
          "data": {
            "text/plain": [
              "array([' Male', ' Female'], dtype=object)"
            ]
          },
          "metadata": {},
          "execution_count": 96
        }
      ]
    },
    {
      "cell_type": "code",
      "source": [
        "x = dados['sex'].values\n",
        "x"
      ],
      "metadata": {
        "colab": {
          "base_uri": "https://localhost:8080/"
        },
        "id": "VOoz18pFIlLh",
        "outputId": "a81ad3eb-f2e9-4ee5-d350-b7e49530dec4"
      },
      "execution_count": 97,
      "outputs": [
        {
          "output_type": "execute_result",
          "data": {
            "text/plain": [
              "array([' Male', ' Male', ' Male', ..., ' Female', ' Male', ' Female'],\n",
              "      dtype=object)"
            ]
          },
          "metadata": {},
          "execution_count": 97
        }
      ]
    },
    {
      "cell_type": "markdown",
      "source": [
        "precisamos converter em dados numericos"
      ],
      "metadata": {
        "id": "Uh-P_k0dI0aQ"
      }
    },
    {
      "cell_type": "code",
      "source": [
        "from sklearn.preprocessing import LabelEncoder"
      ],
      "metadata": {
        "id": "6c3YQlnjI4bH"
      },
      "execution_count": 98,
      "outputs": []
    },
    {
      "cell_type": "code",
      "source": [
        "label_encoder = LabelEncoder()"
      ],
      "metadata": {
        "id": "kwF1PQEuI-HY"
      },
      "execution_count": 99,
      "outputs": []
    },
    {
      "cell_type": "code",
      "source": [
        "x = label_encoder.fit_transform(x)"
      ],
      "metadata": {
        "id": "b2vjoWqgJDhf"
      },
      "execution_count": 100,
      "outputs": []
    },
    {
      "cell_type": "code",
      "source": [
        "x"
      ],
      "metadata": {
        "colab": {
          "base_uri": "https://localhost:8080/"
        },
        "id": "Bb4GBliIJOjp",
        "outputId": "9a26f07a-0e74-400e-ee6c-0e0a4495a614"
      },
      "execution_count": 101,
      "outputs": [
        {
          "output_type": "execute_result",
          "data": {
            "text/plain": [
              "array([1, 1, 1, ..., 0, 1, 0])"
            ]
          },
          "metadata": {},
          "execution_count": 101
        }
      ]
    },
    {
      "cell_type": "markdown",
      "source": [
        "pronto!!"
      ],
      "metadata": {
        "id": "3u_sC9i-JQNh"
      }
    },
    {
      "cell_type": "code",
      "source": [
        "sns.distplot(x);"
      ],
      "metadata": {
        "colab": {
          "base_uri": "https://localhost:8080/",
          "height": 320
        },
        "id": "9YTQtr1QJbmk",
        "outputId": "091d48d5-c3c5-47be-cd56-d040108d30d7"
      },
      "execution_count": 102,
      "outputs": [
        {
          "output_type": "stream",
          "name": "stderr",
          "text": [
            "/usr/local/lib/python3.7/dist-packages/seaborn/distributions.py:2619: FutureWarning: `distplot` is a deprecated function and will be removed in a future version. Please adapt your code to use either `displot` (a figure-level function with similar flexibility) or `histplot` (an axes-level function for histograms).\n",
            "  warnings.warn(msg, FutureWarning)\n"
          ]
        },
        {
          "output_type": "display_data",
          "data": {
            "image/png": "[encoded data removed]",
            "text/plain": [
              "<Figure size 432x288 with 1 Axes>"
            ]
          },
          "metadata": {
            "needs_background": "light"
          }
        }
      ]
    },
    {
      "cell_type": "code",
      "source": [
        "x.shape"
      ],
      "metadata": {
        "colab": {
          "base_uri": "https://localhost:8080/"
        },
        "id": "p4UtvwkDJm0r",
        "outputId": "dc3688eb-f15b-4d63-c5e7-d0ea0a49ed0e"
      },
      "execution_count": 103,
      "outputs": [
        {
          "output_type": "execute_result",
          "data": {
            "text/plain": [
              "(32561,)"
            ]
          },
          "metadata": {},
          "execution_count": 103
        }
      ]
    },
    {
      "cell_type": "code",
      "source": [
        "x = x.reshape(-1,1) #precisamos desse formato para treinar o modelo #formato de matriz\n",
        "x.shape"
      ],
      "metadata": {
        "colab": {
          "base_uri": "https://localhost:8080/"
        },
        "id": "_JEPUC3IJuqK",
        "outputId": "eefd700d-63e0-49fd-f828-0002ab056b67"
      },
      "execution_count": 105,
      "outputs": [
        {
          "output_type": "execute_result",
          "data": {
            "text/plain": [
              "(32561, 1)"
            ]
          },
          "metadata": {},
          "execution_count": 105
        }
      ]
    },
    {
      "cell_type": "code",
      "source": [
        "y = dados['income'].values #valor target\n",
        "y"
      ],
      "metadata": {
        "colab": {
          "base_uri": "https://localhost:8080/"
        },
        "id": "X6gMvSl0KEC8",
        "outputId": "2dc7be0d-de18-434d-fc18-423d161ba4e9"
      },
      "execution_count": 107,
      "outputs": [
        {
          "output_type": "execute_result",
          "data": {
            "text/plain": [
              "array([' <=50K', ' <=50K', ' <=50K', ..., ' <=50K', ' <=50K', ' >50K'],\n",
              "      dtype=object)"
            ]
          },
          "metadata": {},
          "execution_count": 107
        }
      ]
    },
    {
      "cell_type": "code",
      "source": [
        "resultados_naive_bayes = []\n",
        "for i in range(30):\n",
        "  x_treinamento, x_teste, y_treinamento, y_teste = train_test_split(x, y, test_size = 0.2,stratify = y, random_state = i)\n",
        "  naive_bayes = BernoulliNB()\n",
        "  naive_bayes.fit(x_treinamento, y_treinamento)\n",
        "  resultados_naive_bayes.append(accuracy_score(y_teste, naive_bayes.predict(x_teste)))\n",
        "\n",
        "print(resultados_naive_bayes)"
      ],
      "metadata": {
        "colab": {
          "base_uri": "https://localhost:8080/"
        },
        "id": "DhHx9MEKDItA",
        "outputId": "1b100fe8-6140-47ee-e65a-feef2816e7c5"
      },
      "execution_count": 108,
      "outputs": [
        {
          "output_type": "stream",
          "name": "stdout",
          "text": [
            "[0.7592507293106096, 0.7592507293106096, 0.7592507293106096, 0.7592507293106096, 0.7592507293106096, 0.7592507293106096, 0.7592507293106096, 0.7592507293106096, 0.7592507293106096, 0.7592507293106096, 0.7592507293106096, 0.7592507293106096, 0.7592507293106096, 0.7592507293106096, 0.7592507293106096, 0.7592507293106096, 0.7592507293106096, 0.7592507293106096, 0.7592507293106096, 0.7592507293106096, 0.7592507293106096, 0.7592507293106096, 0.7592507293106096, 0.7592507293106096, 0.7592507293106096, 0.7592507293106096, 0.7592507293106096, 0.7592507293106096, 0.7592507293106096, 0.7592507293106096]\n"
          ]
        }
      ]
    },
    {
      "cell_type": "code",
      "source": [
        "#ou de uma unica vez:"
      ],
      "metadata": {
        "id": "ohO7INk2Kwlb"
      },
      "execution_count": 117,
      "outputs": []
    },
    {
      "cell_type": "code",
      "source": [
        "bernoulli_NB = BernoulliNB()"
      ],
      "metadata": {
        "id": "tDiKraGKKyPf"
      },
      "execution_count": 110,
      "outputs": []
    },
    {
      "cell_type": "code",
      "source": [
        "bernoulli_NB.fit(x_treinamento, y_treinamento)"
      ],
      "metadata": {
        "colab": {
          "base_uri": "https://localhost:8080/"
        },
        "id": "gFUmJuLiK52v",
        "outputId": "71829b5f-74e9-4e42-ec5f-94204107ea9d"
      },
      "execution_count": 112,
      "outputs": [
        {
          "output_type": "execute_result",
          "data": {
            "text/plain": [
              "BernoulliNB()"
            ]
          },
          "metadata": {},
          "execution_count": 112
        }
      ]
    },
    {
      "cell_type": "code",
      "source": [
        "previsoes = bernoulli_NB.predict(x_teste)"
      ],
      "metadata": {
        "id": "eEtn7TnlK-5F"
      },
      "execution_count": 113,
      "outputs": []
    },
    {
      "cell_type": "code",
      "source": [
        "previsoes"
      ],
      "metadata": {
        "colab": {
          "base_uri": "https://localhost:8080/"
        },
        "id": "XbhJUqzGLKwO",
        "outputId": "b3dffc05-5870-4a5c-c8d2-5fec74e29f8f"
      },
      "execution_count": 114,
      "outputs": [
        {
          "output_type": "execute_result",
          "data": {
            "text/plain": [
              "array([' <=50K', ' <=50K', ' <=50K', ..., ' <=50K', ' <=50K', ' <=50K'],\n",
              "      dtype='<U6')"
            ]
          },
          "metadata": {},
          "execution_count": 114
        }
      ]
    },
    {
      "cell_type": "code",
      "source": [
        "y_teste"
      ],
      "metadata": {
        "colab": {
          "base_uri": "https://localhost:8080/"
        },
        "id": "SbeKz7QyLLzo",
        "outputId": "814a6662-4ea7-4a57-bbf7-0bd45d0b0b21"
      },
      "execution_count": 115,
      "outputs": [
        {
          "output_type": "execute_result",
          "data": {
            "text/plain": [
              "array([' <=50K', ' <=50K', ' <=50K', ..., ' <=50K', ' <=50K', ' >50K'],\n",
              "      dtype=object)"
            ]
          },
          "metadata": {},
          "execution_count": 115
        }
      ]
    },
    {
      "cell_type": "code",
      "source": [
        "accuracy_score(y_teste, previsoes)"
      ],
      "metadata": {
        "colab": {
          "base_uri": "https://localhost:8080/"
        },
        "id": "2mYo4k48LNJb",
        "outputId": "287e66c7-3105-4be7-e47e-b8534981d859"
      },
      "execution_count": 116,
      "outputs": [
        {
          "output_type": "execute_result",
          "data": {
            "text/plain": [
              "0.7592507293106096"
            ]
          },
          "metadata": {},
          "execution_count": 116
        }
      ]
    },
    {
      "cell_type": "markdown",
      "source": [
        "acurácia aceitável, vale lembrar que usamos como atributo preditor somente o atributo genero, paar fazer sentido o uso do Bernoulli Naive Bayes"
      ],
      "metadata": {
        "id": "S8L5LqEwLfi7"
      }
    },
    {
      "cell_type": "markdown",
      "source": [
        "- Multinominal NB"
      ],
      "metadata": {
        "id": "j8hsWunNMKi8"
      }
    },
    {
      "cell_type": "code",
      "source": [
        "from sklearn.naive_bayes import MultinomialNB #permite varias categorias"
      ],
      "metadata": {
        "id": "Is02Ny3OLQsX"
      },
      "execution_count": 120,
      "outputs": []
    },
    {
      "cell_type": "code",
      "source": [
        "dados.head()"
      ],
      "metadata": {
        "colab": {
          "base_uri": "https://localhost:8080/",
          "height": 444
        },
        "id": "b-25DyzQMWPa",
        "outputId": "06e35c65-2eea-4731-a944-2d7f1c23fa01"
      },
      "execution_count": 121,
      "outputs": [
        {
          "output_type": "execute_result",
          "data": {
            "text/html": [
              "\n",
              "  <div id=\"df-e6744397-7dfa-4f6d-8bf5-c6402d784604\">\n",
              "    <div class=\"colab-df-container\">\n",
              "      <div>\n",
              "<style scoped>\n",
              "    .dataframe tbody tr th:only-of-type {\n",
              "        vertical-align: middle;\n",
              "    }\n",
              "\n",
              "    .dataframe tbody tr th {\n",
              "        vertical-align: top;\n",
              "    }\n",
              "\n",
              "    .dataframe thead th {\n",
              "        text-align: right;\n",
              "    }\n",
              "</style>\n",
              "<table border=\"1\" class=\"dataframe\">\n",
              "  <thead>\n",
              "    <tr style=\"text-align: right;\">\n",
              "      <th></th>\n",
              "      <th>age</th>\n",
              "      <th>workclass</th>\n",
              "      <th>final-weight</th>\n",
              "      <th>education</th>\n",
              "      <th>education-num</th>\n",
              "      <th>marital-status</th>\n",
              "      <th>occupation</th>\n",
              "      <th>relationship</th>\n",
              "      <th>race</th>\n",
              "      <th>sex</th>\n",
              "      <th>capital-gain</th>\n",
              "      <th>capital-loos</th>\n",
              "      <th>hour-per-week</th>\n",
              "      <th>native-country</th>\n",
              "      <th>income</th>\n",
              "    </tr>\n",
              "  </thead>\n",
              "  <tbody>\n",
              "    <tr>\n",
              "      <th>0</th>\n",
              "      <td>39</td>\n",
              "      <td>State-gov</td>\n",
              "      <td>77516</td>\n",
              "      <td>Bachelors</td>\n",
              "      <td>13</td>\n",
              "      <td>Never-married</td>\n",
              "      <td>Adm-clerical</td>\n",
              "      <td>Not-in-family</td>\n",
              "      <td>White</td>\n",
              "      <td>Male</td>\n",
              "      <td>2174</td>\n",
              "      <td>0</td>\n",
              "      <td>40</td>\n",
              "      <td>United-States</td>\n",
              "      <td>&lt;=50K</td>\n",
              "    </tr>\n",
              "    <tr>\n",
              "      <th>1</th>\n",
              "      <td>50</td>\n",
              "      <td>Self-emp-not-inc</td>\n",
              "      <td>83311</td>\n",
              "      <td>Bachelors</td>\n",
              "      <td>13</td>\n",
              "      <td>Married-civ-spouse</td>\n",
              "      <td>Exec-managerial</td>\n",
              "      <td>Husband</td>\n",
              "      <td>White</td>\n",
              "      <td>Male</td>\n",
              "      <td>0</td>\n",
              "      <td>0</td>\n",
              "      <td>13</td>\n",
              "      <td>United-States</td>\n",
              "      <td>&lt;=50K</td>\n",
              "    </tr>\n",
              "    <tr>\n",
              "      <th>2</th>\n",
              "      <td>38</td>\n",
              "      <td>Private</td>\n",
              "      <td>215646</td>\n",
              "      <td>HS-grad</td>\n",
              "      <td>9</td>\n",
              "      <td>Divorced</td>\n",
              "      <td>Handlers-cleaners</td>\n",
              "      <td>Not-in-family</td>\n",
              "      <td>White</td>\n",
              "      <td>Male</td>\n",
              "      <td>0</td>\n",
              "      <td>0</td>\n",
              "      <td>40</td>\n",
              "      <td>United-States</td>\n",
              "      <td>&lt;=50K</td>\n",
              "    </tr>\n",
              "    <tr>\n",
              "      <th>3</th>\n",
              "      <td>53</td>\n",
              "      <td>Private</td>\n",
              "      <td>234721</td>\n",
              "      <td>11th</td>\n",
              "      <td>7</td>\n",
              "      <td>Married-civ-spouse</td>\n",
              "      <td>Handlers-cleaners</td>\n",
              "      <td>Husband</td>\n",
              "      <td>Black</td>\n",
              "      <td>Male</td>\n",
              "      <td>0</td>\n",
              "      <td>0</td>\n",
              "      <td>40</td>\n",
              "      <td>United-States</td>\n",
              "      <td>&lt;=50K</td>\n",
              "    </tr>\n",
              "    <tr>\n",
              "      <th>4</th>\n",
              "      <td>28</td>\n",
              "      <td>Private</td>\n",
              "      <td>338409</td>\n",
              "      <td>Bachelors</td>\n",
              "      <td>13</td>\n",
              "      <td>Married-civ-spouse</td>\n",
              "      <td>Prof-specialty</td>\n",
              "      <td>Wife</td>\n",
              "      <td>Black</td>\n",
              "      <td>Female</td>\n",
              "      <td>0</td>\n",
              "      <td>0</td>\n",
              "      <td>40</td>\n",
              "      <td>Cuba</td>\n",
              "      <td>&lt;=50K</td>\n",
              "    </tr>\n",
              "  </tbody>\n",
              "</table>\n",
              "</div>\n",
              "      <button class=\"colab-df-convert\" onclick=\"convertToInteractive('df-e6744397-7dfa-4f6d-8bf5-c6402d784604')\"\n",
              "              title=\"Convert this dataframe to an interactive table.\"\n",
              "              style=\"display:none;\">\n",
              "        \n",
              "  <svg xmlns=\"http://www.w3.org/2000/svg\" height=\"24px\"viewBox=\"0 0 24 24\"\n",
              "       width=\"24px\">\n",
              "    <path d=\"M0 0h24v24H0V0z\" fill=\"none\"/>\n",
              "    <path d=\"M18.56 5.44l.94 2.06.94-2.06 2.06-.94-2.06-.94-.94-2.06-.94 2.06-2.06.94zm-11 1L8.5 8.5l.94-2.06 2.06-.94-2.06-.94L8.5 2.5l-.94 2.06-2.06.94zm10 10l.94 2.06.94-2.06 2.06-.94-2.06-.94-.94-2.06-.94 2.06-2.06.94z\"/><path d=\"M17.41 7.96l-1.37-1.37c-.4-.4-.92-.59-1.43-.59-.52 0-1.04.2-1.43.59L10.3 9.45l-7.72 7.72c-.78.78-.78 2.05 0 2.83L4 21.41c.39.39.9.59 1.41.59.51 0 1.02-.2 1.41-.59l7.78-7.78 2.81-2.81c.8-.78.8-2.07 0-2.86zM5.41 20L4 18.59l7.72-7.72 1.47 1.35L5.41 20z\"/>\n",
              "  </svg>\n",
              "      </button>\n",
              "      \n",
              "  <style>\n",
              "    .colab-df-container {\n",
              "      display:flex;\n",
              "      flex-wrap:wrap;\n",
              "      gap: 12px;\n",
              "    }\n",
              "\n",
              "    .colab-df-convert {\n",
              "      background-color: #E8F0FE;\n",
              "      border: none;\n",
              "      border-radius: 50%;\n",
              "      cursor: pointer;\n",
              "      display: none;\n",
              "      fill: #1967D2;\n",
              "      height: 32px;\n",
              "      padding: 0 0 0 0;\n",
              "      width: 32px;\n",
              "    }\n",
              "\n",
              "    .colab-df-convert:hover {\n",
              "      background-color: #E2EBFA;\n",
              "      box-shadow: 0px 1px 2px rgba(60, 64, 67, 0.3), 0px 1px 3px 1px rgba(60, 64, 67, 0.15);\n",
              "      fill: #174EA6;\n",
              "    }\n",
              "\n",
              "    [theme=dark] .colab-df-convert {\n",
              "      background-color: #3B4455;\n",
              "      fill: #D2E3FC;\n",
              "    }\n",
              "\n",
              "    [theme=dark] .colab-df-convert:hover {\n",
              "      background-color: #434B5C;\n",
              "      box-shadow: 0px 1px 3px 1px rgba(0, 0, 0, 0.15);\n",
              "      filter: drop-shadow(0px 1px 2px rgba(0, 0, 0, 0.3));\n",
              "      fill: #FFFFFF;\n",
              "    }\n",
              "  </style>\n",
              "\n",
              "      <script>\n",
              "        const buttonEl =\n",
              "          document.querySelector('#df-e6744397-7dfa-4f6d-8bf5-c6402d784604 button.colab-df-convert');\n",
              "        buttonEl.style.display =\n",
              "          google.colab.kernel.accessAllowed ? 'block' : 'none';\n",
              "\n",
              "        async function convertToInteractive(key) {\n",
              "          const element = document.querySelector('#df-e6744397-7dfa-4f6d-8bf5-c6402d784604');\n",
              "          const dataTable =\n",
              "            await google.colab.kernel.invokeFunction('convertToInteractive',\n",
              "                                                     [key], {});\n",
              "          if (!dataTable) return;\n",
              "\n",
              "          const docLinkHtml = 'Like what you see? Visit the ' +\n",
              "            '<a target=\"_blank\" href=https://colab.research.google.com/notebooks/data_table.ipynb>data table notebook</a>'\n",
              "            + ' to learn more about interactive tables.';\n",
              "          element.innerHTML = '';\n",
              "          dataTable['output_type'] = 'display_data';\n",
              "          await google.colab.output.renderOutput(dataTable, element);\n",
              "          const docLink = document.createElement('div');\n",
              "          docLink.innerHTML = docLinkHtml;\n",
              "          element.appendChild(docLink);\n",
              "        }\n",
              "      </script>\n",
              "    </div>\n",
              "  </div>\n",
              "  "
            ],
            "text/plain": [
              "   age          workclass  final-weight  ... hour-per-week  native-country  income\n",
              "0   39          State-gov         77516  ...            40   United-States   <=50K\n",
              "1   50   Self-emp-not-inc         83311  ...            13   United-States   <=50K\n",
              "2   38            Private        215646  ...            40   United-States   <=50K\n",
              "3   53            Private        234721  ...            40   United-States   <=50K\n",
              "4   28            Private        338409  ...            40            Cuba   <=50K\n",
              "\n",
              "[5 rows x 15 columns]"
            ]
          },
          "metadata": {},
          "execution_count": 121
        }
      ]
    },
    {
      "cell_type": "markdown",
      "source": [
        "transformando elas em numericas, temos:"
      ],
      "metadata": {
        "id": "xEjJiQPaW7Se"
      }
    },
    {
      "cell_type": "code",
      "source": [
        "from sklearn.preprocessing import LabelEncoder\n",
        "label_encoder0 = LabelEncoder()\n",
        "label_encoder1 = LabelEncoder()\n",
        "label_encoder2 = LabelEncoder()\n",
        "label_encoder3 = LabelEncoder()\n",
        "label_encoder4 = LabelEncoder()\n",
        "label_encoder5 = LabelEncoder()\n",
        "label_encoder6 = LabelEncoder()"
      ],
      "metadata": {
        "id": "vp7BX88pMqck"
      },
      "execution_count": 122,
      "outputs": []
    },
    {
      "cell_type": "code",
      "source": [
        "dados['workclass'] = label_encoder0.fit_transform(dados['workclass'])\n",
        "dados['education'] = label_encoder1.fit_transform(dados['education'])\n",
        "dados['marital-status'] = label_encoder2.fit_transform(dados['marital-status'])\n",
        "dados['occupation'] = label_encoder3.fit_transform(dados['occupation'])\n",
        "dados['relationship'] = label_encoder4.fit_transform(dados['relationship'])\n",
        "dados['race'] = label_encoder5.fit_transform(dados['race'])\n",
        "dados['native-country'] = label_encoder6.fit_transform(dados['native-country'])"
      ],
      "metadata": {
        "id": "gBs6FTm_V2pY"
      },
      "execution_count": 123,
      "outputs": []
    },
    {
      "cell_type": "code",
      "source": [
        "dados.head()"
      ],
      "metadata": {
        "colab": {
          "base_uri": "https://localhost:8080/",
          "height": 305
        },
        "id": "1McsK4pzW_Ku",
        "outputId": "aa96daec-471e-4fd1-a1f7-80d6ea483f81"
      },
      "execution_count": 124,
      "outputs": [
        {
          "output_type": "execute_result",
          "data": {
            "text/html": [
              "\n",
              "  <div id=\"df-fb48665a-4726-4f60-9a3f-c7b38fd4c205\">\n",
              "    <div class=\"colab-df-container\">\n",
              "      <div>\n",
              "<style scoped>\n",
              "    .dataframe tbody tr th:only-of-type {\n",
              "        vertical-align: middle;\n",
              "    }\n",
              "\n",
              "    .dataframe tbody tr th {\n",
              "        vertical-align: top;\n",
              "    }\n",
              "\n",
              "    .dataframe thead th {\n",
              "        text-align: right;\n",
              "    }\n",
              "</style>\n",
              "<table border=\"1\" class=\"dataframe\">\n",
              "  <thead>\n",
              "    <tr style=\"text-align: right;\">\n",
              "      <th></th>\n",
              "      <th>age</th>\n",
              "      <th>workclass</th>\n",
              "      <th>final-weight</th>\n",
              "      <th>education</th>\n",
              "      <th>education-num</th>\n",
              "      <th>marital-status</th>\n",
              "      <th>occupation</th>\n",
              "      <th>relationship</th>\n",
              "      <th>race</th>\n",
              "      <th>sex</th>\n",
              "      <th>capital-gain</th>\n",
              "      <th>capital-loos</th>\n",
              "      <th>hour-per-week</th>\n",
              "      <th>native-country</th>\n",
              "      <th>income</th>\n",
              "    </tr>\n",
              "  </thead>\n",
              "  <tbody>\n",
              "    <tr>\n",
              "      <th>0</th>\n",
              "      <td>39</td>\n",
              "      <td>7</td>\n",
              "      <td>77516</td>\n",
              "      <td>9</td>\n",
              "      <td>13</td>\n",
              "      <td>4</td>\n",
              "      <td>1</td>\n",
              "      <td>1</td>\n",
              "      <td>4</td>\n",
              "      <td>Male</td>\n",
              "      <td>2174</td>\n",
              "      <td>0</td>\n",
              "      <td>40</td>\n",
              "      <td>39</td>\n",
              "      <td>&lt;=50K</td>\n",
              "    </tr>\n",
              "    <tr>\n",
              "      <th>1</th>\n",
              "      <td>50</td>\n",
              "      <td>6</td>\n",
              "      <td>83311</td>\n",
              "      <td>9</td>\n",
              "      <td>13</td>\n",
              "      <td>2</td>\n",
              "      <td>4</td>\n",
              "      <td>0</td>\n",
              "      <td>4</td>\n",
              "      <td>Male</td>\n",
              "      <td>0</td>\n",
              "      <td>0</td>\n",
              "      <td>13</td>\n",
              "      <td>39</td>\n",
              "      <td>&lt;=50K</td>\n",
              "    </tr>\n",
              "    <tr>\n",
              "      <th>2</th>\n",
              "      <td>38</td>\n",
              "      <td>4</td>\n",
              "      <td>215646</td>\n",
              "      <td>11</td>\n",
              "      <td>9</td>\n",
              "      <td>0</td>\n",
              "      <td>6</td>\n",
              "      <td>1</td>\n",
              "      <td>4</td>\n",
              "      <td>Male</td>\n",
              "      <td>0</td>\n",
              "      <td>0</td>\n",
              "      <td>40</td>\n",
              "      <td>39</td>\n",
              "      <td>&lt;=50K</td>\n",
              "    </tr>\n",
              "    <tr>\n",
              "      <th>3</th>\n",
              "      <td>53</td>\n",
              "      <td>4</td>\n",
              "      <td>234721</td>\n",
              "      <td>1</td>\n",
              "      <td>7</td>\n",
              "      <td>2</td>\n",
              "      <td>6</td>\n",
              "      <td>0</td>\n",
              "      <td>2</td>\n",
              "      <td>Male</td>\n",
              "      <td>0</td>\n",
              "      <td>0</td>\n",
              "      <td>40</td>\n",
              "      <td>39</td>\n",
              "      <td>&lt;=50K</td>\n",
              "    </tr>\n",
              "    <tr>\n",
              "      <th>4</th>\n",
              "      <td>28</td>\n",
              "      <td>4</td>\n",
              "      <td>338409</td>\n",
              "      <td>9</td>\n",
              "      <td>13</td>\n",
              "      <td>2</td>\n",
              "      <td>10</td>\n",
              "      <td>5</td>\n",
              "      <td>2</td>\n",
              "      <td>Female</td>\n",
              "      <td>0</td>\n",
              "      <td>0</td>\n",
              "      <td>40</td>\n",
              "      <td>5</td>\n",
              "      <td>&lt;=50K</td>\n",
              "    </tr>\n",
              "  </tbody>\n",
              "</table>\n",
              "</div>\n",
              "      <button class=\"colab-df-convert\" onclick=\"convertToInteractive('df-fb48665a-4726-4f60-9a3f-c7b38fd4c205')\"\n",
              "              title=\"Convert this dataframe to an interactive table.\"\n",
              "              style=\"display:none;\">\n",
              "        \n",
              "  <svg xmlns=\"http://www.w3.org/2000/svg\" height=\"24px\"viewBox=\"0 0 24 24\"\n",
              "       width=\"24px\">\n",
              "    <path d=\"M0 0h24v24H0V0z\" fill=\"none\"/>\n",
              "    <path d=\"M18.56 5.44l.94 2.06.94-2.06 2.06-.94-2.06-.94-.94-2.06-.94 2.06-2.06.94zm-11 1L8.5 8.5l.94-2.06 2.06-.94-2.06-.94L8.5 2.5l-.94 2.06-2.06.94zm10 10l.94 2.06.94-2.06 2.06-.94-2.06-.94-.94-2.06-.94 2.06-2.06.94z\"/><path d=\"M17.41 7.96l-1.37-1.37c-.4-.4-.92-.59-1.43-.59-.52 0-1.04.2-1.43.59L10.3 9.45l-7.72 7.72c-.78.78-.78 2.05 0 2.83L4 21.41c.39.39.9.59 1.41.59.51 0 1.02-.2 1.41-.59l7.78-7.78 2.81-2.81c.8-.78.8-2.07 0-2.86zM5.41 20L4 18.59l7.72-7.72 1.47 1.35L5.41 20z\"/>\n",
              "  </svg>\n",
              "      </button>\n",
              "      \n",
              "  <style>\n",
              "    .colab-df-container {\n",
              "      display:flex;\n",
              "      flex-wrap:wrap;\n",
              "      gap: 12px;\n",
              "    }\n",
              "\n",
              "    .colab-df-convert {\n",
              "      background-color: #E8F0FE;\n",
              "      border: none;\n",
              "      border-radius: 50%;\n",
              "      cursor: pointer;\n",
              "      display: none;\n",
              "      fill: #1967D2;\n",
              "      height: 32px;\n",
              "      padding: 0 0 0 0;\n",
              "      width: 32px;\n",
              "    }\n",
              "\n",
              "    .colab-df-convert:hover {\n",
              "      background-color: #E2EBFA;\n",
              "      box-shadow: 0px 1px 2px rgba(60, 64, 67, 0.3), 0px 1px 3px 1px rgba(60, 64, 67, 0.15);\n",
              "      fill: #174EA6;\n",
              "    }\n",
              "\n",
              "    [theme=dark] .colab-df-convert {\n",
              "      background-color: #3B4455;\n",
              "      fill: #D2E3FC;\n",
              "    }\n",
              "\n",
              "    [theme=dark] .colab-df-convert:hover {\n",
              "      background-color: #434B5C;\n",
              "      box-shadow: 0px 1px 3px 1px rgba(0, 0, 0, 0.15);\n",
              "      filter: drop-shadow(0px 1px 2px rgba(0, 0, 0, 0.3));\n",
              "      fill: #FFFFFF;\n",
              "    }\n",
              "  </style>\n",
              "\n",
              "      <script>\n",
              "        const buttonEl =\n",
              "          document.querySelector('#df-fb48665a-4726-4f60-9a3f-c7b38fd4c205 button.colab-df-convert');\n",
              "        buttonEl.style.display =\n",
              "          google.colab.kernel.accessAllowed ? 'block' : 'none';\n",
              "\n",
              "        async function convertToInteractive(key) {\n",
              "          const element = document.querySelector('#df-fb48665a-4726-4f60-9a3f-c7b38fd4c205');\n",
              "          const dataTable =\n",
              "            await google.colab.kernel.invokeFunction('convertToInteractive',\n",
              "                                                     [key], {});\n",
              "          if (!dataTable) return;\n",
              "\n",
              "          const docLinkHtml = 'Like what you see? Visit the ' +\n",
              "            '<a target=\"_blank\" href=https://colab.research.google.com/notebooks/data_table.ipynb>data table notebook</a>'\n",
              "            + ' to learn more about interactive tables.';\n",
              "          element.innerHTML = '';\n",
              "          dataTable['output_type'] = 'display_data';\n",
              "          await google.colab.output.renderOutput(dataTable, element);\n",
              "          const docLink = document.createElement('div');\n",
              "          docLink.innerHTML = docLinkHtml;\n",
              "          element.appendChild(docLink);\n",
              "        }\n",
              "      </script>\n",
              "    </div>\n",
              "  </div>\n",
              "  "
            ],
            "text/plain": [
              "   age  workclass  final-weight  ...  hour-per-week  native-country  income\n",
              "0   39          7         77516  ...             40              39   <=50K\n",
              "1   50          6         83311  ...             13              39   <=50K\n",
              "2   38          4        215646  ...             40              39   <=50K\n",
              "3   53          4        234721  ...             40              39   <=50K\n",
              "4   28          4        338409  ...             40               5   <=50K\n",
              "\n",
              "[5 rows x 15 columns]"
            ]
          },
          "metadata": {},
          "execution_count": 124
        }
      ]
    },
    {
      "cell_type": "code",
      "source": [
        "x = dados.iloc[:,[1,3,5,6,7,8,13]].values\n",
        "x"
      ],
      "metadata": {
        "colab": {
          "base_uri": "https://localhost:8080/"
        },
        "id": "WEqtHCj_XAKR",
        "outputId": "ce3f6a39-ec9a-4397-8973-84ad5f883ee1"
      },
      "execution_count": 125,
      "outputs": [
        {
          "output_type": "execute_result",
          "data": {
            "text/plain": [
              "array([[ 7,  9,  4, ...,  1,  4, 39],\n",
              "       [ 6,  9,  2, ...,  0,  4, 39],\n",
              "       [ 4, 11,  0, ...,  1,  4, 39],\n",
              "       ...,\n",
              "       [ 4, 11,  6, ...,  4,  4, 39],\n",
              "       [ 4, 11,  4, ...,  3,  4, 39],\n",
              "       [ 5, 11,  2, ...,  5,  4, 39]])"
            ]
          },
          "metadata": {},
          "execution_count": 125
        }
      ]
    },
    {
      "cell_type": "code",
      "source": [
        "y = dados.iloc[:,14].values\n",
        "y"
      ],
      "metadata": {
        "colab": {
          "base_uri": "https://localhost:8080/"
        },
        "id": "dlQu51GZXbmd",
        "outputId": "fc2596f3-107d-4ec2-b891-3922960a35a0"
      },
      "execution_count": 126,
      "outputs": [
        {
          "output_type": "execute_result",
          "data": {
            "text/plain": [
              "array([' <=50K', ' <=50K', ' <=50K', ..., ' <=50K', ' <=50K', ' >50K'],\n",
              "      dtype=object)"
            ]
          },
          "metadata": {},
          "execution_count": 126
        }
      ]
    },
    {
      "cell_type": "code",
      "source": [
        " x_treinamento, x_teste, y_treinamento, y_teste = train_test_split(x, y, test_size = 0.2,stratify = y, random_state = i)"
      ],
      "metadata": {
        "id": "4ok1EG9mYFGE"
      },
      "execution_count": 127,
      "outputs": []
    },
    {
      "cell_type": "code",
      "source": [
        "multinominal = MultinomialNB()"
      ],
      "metadata": {
        "id": "suDbx86HXswi"
      },
      "execution_count": 128,
      "outputs": []
    },
    {
      "cell_type": "code",
      "source": [
        "multinominal.fit(x_treinamento, y_treinamento)"
      ],
      "metadata": {
        "colab": {
          "base_uri": "https://localhost:8080/"
        },
        "id": "tq_eQaePYIKR",
        "outputId": "c9555f1f-147c-4722-fdef-06726da1f8ae"
      },
      "execution_count": 129,
      "outputs": [
        {
          "output_type": "execute_result",
          "data": {
            "text/plain": [
              "MultinomialNB()"
            ]
          },
          "metadata": {},
          "execution_count": 129
        }
      ]
    },
    {
      "cell_type": "code",
      "source": [
        "previsao = multinominal.predict(x_teste)\n",
        "previsao"
      ],
      "metadata": {
        "colab": {
          "base_uri": "https://localhost:8080/"
        },
        "id": "IuDQbkXmYOMx",
        "outputId": "b717d780-d5b2-49a6-d5b6-a1faa28cc13f"
      },
      "execution_count": 130,
      "outputs": [
        {
          "output_type": "execute_result",
          "data": {
            "text/plain": [
              "array([' <=50K', ' <=50K', ' <=50K', ..., ' <=50K', ' >50K', ' <=50K'],\n",
              "      dtype='<U6')"
            ]
          },
          "metadata": {},
          "execution_count": 130
        }
      ]
    },
    {
      "cell_type": "code",
      "source": [
        "y_teste"
      ],
      "metadata": {
        "colab": {
          "base_uri": "https://localhost:8080/"
        },
        "id": "QgaTWvPrYTnh",
        "outputId": "cbde44d2-0682-4f5e-ea33-755d52d17be6"
      },
      "execution_count": 131,
      "outputs": [
        {
          "output_type": "execute_result",
          "data": {
            "text/plain": [
              "array([' <=50K', ' <=50K', ' <=50K', ..., ' <=50K', ' <=50K', ' >50K'],\n",
              "      dtype=object)"
            ]
          },
          "metadata": {},
          "execution_count": 131
        }
      ]
    },
    {
      "cell_type": "code",
      "source": [
        "accuracy_score(y_teste, previsao)"
      ],
      "metadata": {
        "colab": {
          "base_uri": "https://localhost:8080/"
        },
        "id": "o_9vvKx8YVHp",
        "outputId": "6776146c-c61e-4a7e-a372-bd00802b83f0"
      },
      "execution_count": 133,
      "outputs": [
        {
          "output_type": "execute_result",
          "data": {
            "text/plain": [
              "0.7397512666973745"
            ]
          },
          "metadata": {},
          "execution_count": 133
        }
      ]
    },
    {
      "cell_type": "markdown",
      "source": [
        "acurácia um pouco menor que com o algoritimo de BernoulliNB"
      ],
      "metadata": {
        "id": "1sIT9tjtYhFR"
      }
    },
    {
      "cell_type": "markdown",
      "source": [
        "**Padronização z-score**"
      ],
      "metadata": {
        "id": "5ZeZT8JaZUk4"
      }
    },
    {
      "cell_type": "markdown",
      "source": [
        "temos o dataset:"
      ],
      "metadata": {
        "id": "_0rzczwoZZXn"
      }
    },
    {
      "cell_type": "code",
      "source": [
        "data.head()"
      ],
      "metadata": {
        "colab": {
          "base_uri": "https://localhost:8080/",
          "height": 206
        },
        "id": "nbbEZ0BPYX_D",
        "outputId": "4852a635-e938-4dd1-d38a-3458233116c7"
      },
      "execution_count": 134,
      "outputs": [
        {
          "output_type": "execute_result",
          "data": {
            "text/html": [
              "\n",
              "  <div id=\"df-419cfc04-36cb-4ef5-bc04-42f5845ec274\">\n",
              "    <div class=\"colab-df-container\">\n",
              "      <div>\n",
              "<style scoped>\n",
              "    .dataframe tbody tr th:only-of-type {\n",
              "        vertical-align: middle;\n",
              "    }\n",
              "\n",
              "    .dataframe tbody tr th {\n",
              "        vertical-align: top;\n",
              "    }\n",
              "\n",
              "    .dataframe thead th {\n",
              "        text-align: right;\n",
              "    }\n",
              "</style>\n",
              "<table border=\"1\" class=\"dataframe\">\n",
              "  <thead>\n",
              "    <tr style=\"text-align: right;\">\n",
              "      <th></th>\n",
              "      <th>i#clientid</th>\n",
              "      <th>income</th>\n",
              "      <th>age</th>\n",
              "      <th>loan</th>\n",
              "      <th>c#default</th>\n",
              "    </tr>\n",
              "  </thead>\n",
              "  <tbody>\n",
              "    <tr>\n",
              "      <th>0</th>\n",
              "      <td>1</td>\n",
              "      <td>66155.925095</td>\n",
              "      <td>59.017015</td>\n",
              "      <td>8106.532131</td>\n",
              "      <td>0</td>\n",
              "    </tr>\n",
              "    <tr>\n",
              "      <th>1</th>\n",
              "      <td>2</td>\n",
              "      <td>34415.153966</td>\n",
              "      <td>48.117153</td>\n",
              "      <td>6564.745018</td>\n",
              "      <td>0</td>\n",
              "    </tr>\n",
              "    <tr>\n",
              "      <th>2</th>\n",
              "      <td>3</td>\n",
              "      <td>57317.170063</td>\n",
              "      <td>63.108049</td>\n",
              "      <td>8020.953296</td>\n",
              "      <td>0</td>\n",
              "    </tr>\n",
              "    <tr>\n",
              "      <th>3</th>\n",
              "      <td>4</td>\n",
              "      <td>42709.534201</td>\n",
              "      <td>45.751972</td>\n",
              "      <td>6103.642260</td>\n",
              "      <td>0</td>\n",
              "    </tr>\n",
              "    <tr>\n",
              "      <th>4</th>\n",
              "      <td>5</td>\n",
              "      <td>66952.688845</td>\n",
              "      <td>18.584336</td>\n",
              "      <td>8770.099235</td>\n",
              "      <td>1</td>\n",
              "    </tr>\n",
              "  </tbody>\n",
              "</table>\n",
              "</div>\n",
              "      <button class=\"colab-df-convert\" onclick=\"convertToInteractive('df-419cfc04-36cb-4ef5-bc04-42f5845ec274')\"\n",
              "              title=\"Convert this dataframe to an interactive table.\"\n",
              "              style=\"display:none;\">\n",
              "        \n",
              "  <svg xmlns=\"http://www.w3.org/2000/svg\" height=\"24px\"viewBox=\"0 0 24 24\"\n",
              "       width=\"24px\">\n",
              "    <path d=\"M0 0h24v24H0V0z\" fill=\"none\"/>\n",
              "    <path d=\"M18.56 5.44l.94 2.06.94-2.06 2.06-.94-2.06-.94-.94-2.06-.94 2.06-2.06.94zm-11 1L8.5 8.5l.94-2.06 2.06-.94-2.06-.94L8.5 2.5l-.94 2.06-2.06.94zm10 10l.94 2.06.94-2.06 2.06-.94-2.06-.94-.94-2.06-.94 2.06-2.06.94z\"/><path d=\"M17.41 7.96l-1.37-1.37c-.4-.4-.92-.59-1.43-.59-.52 0-1.04.2-1.43.59L10.3 9.45l-7.72 7.72c-.78.78-.78 2.05 0 2.83L4 21.41c.39.39.9.59 1.41.59.51 0 1.02-.2 1.41-.59l7.78-7.78 2.81-2.81c.8-.78.8-2.07 0-2.86zM5.41 20L4 18.59l7.72-7.72 1.47 1.35L5.41 20z\"/>\n",
              "  </svg>\n",
              "      </button>\n",
              "      \n",
              "  <style>\n",
              "    .colab-df-container {\n",
              "      display:flex;\n",
              "      flex-wrap:wrap;\n",
              "      gap: 12px;\n",
              "    }\n",
              "\n",
              "    .colab-df-convert {\n",
              "      background-color: #E8F0FE;\n",
              "      border: none;\n",
              "      border-radius: 50%;\n",
              "      cursor: pointer;\n",
              "      display: none;\n",
              "      fill: #1967D2;\n",
              "      height: 32px;\n",
              "      padding: 0 0 0 0;\n",
              "      width: 32px;\n",
              "    }\n",
              "\n",
              "    .colab-df-convert:hover {\n",
              "      background-color: #E2EBFA;\n",
              "      box-shadow: 0px 1px 2px rgba(60, 64, 67, 0.3), 0px 1px 3px 1px rgba(60, 64, 67, 0.15);\n",
              "      fill: #174EA6;\n",
              "    }\n",
              "\n",
              "    [theme=dark] .colab-df-convert {\n",
              "      background-color: #3B4455;\n",
              "      fill: #D2E3FC;\n",
              "    }\n",
              "\n",
              "    [theme=dark] .colab-df-convert:hover {\n",
              "      background-color: #434B5C;\n",
              "      box-shadow: 0px 1px 3px 1px rgba(0, 0, 0, 0.15);\n",
              "      filter: drop-shadow(0px 1px 2px rgba(0, 0, 0, 0.3));\n",
              "      fill: #FFFFFF;\n",
              "    }\n",
              "  </style>\n",
              "\n",
              "      <script>\n",
              "        const buttonEl =\n",
              "          document.querySelector('#df-419cfc04-36cb-4ef5-bc04-42f5845ec274 button.colab-df-convert');\n",
              "        buttonEl.style.display =\n",
              "          google.colab.kernel.accessAllowed ? 'block' : 'none';\n",
              "\n",
              "        async function convertToInteractive(key) {\n",
              "          const element = document.querySelector('#df-419cfc04-36cb-4ef5-bc04-42f5845ec274');\n",
              "          const dataTable =\n",
              "            await google.colab.kernel.invokeFunction('convertToInteractive',\n",
              "                                                     [key], {});\n",
              "          if (!dataTable) return;\n",
              "\n",
              "          const docLinkHtml = 'Like what you see? Visit the ' +\n",
              "            '<a target=\"_blank\" href=https://colab.research.google.com/notebooks/data_table.ipynb>data table notebook</a>'\n",
              "            + ' to learn more about interactive tables.';\n",
              "          element.innerHTML = '';\n",
              "          dataTable['output_type'] = 'display_data';\n",
              "          await google.colab.output.renderOutput(dataTable, element);\n",
              "          const docLink = document.createElement('div');\n",
              "          docLink.innerHTML = docLinkHtml;\n",
              "          element.appendChild(docLink);\n",
              "        }\n",
              "      </script>\n",
              "    </div>\n",
              "  </div>\n",
              "  "
            ],
            "text/plain": [
              "   i#clientid        income        age         loan  c#default\n",
              "0           1  66155.925095  59.017015  8106.532131          0\n",
              "1           2  34415.153966  48.117153  6564.745018          0\n",
              "2           3  57317.170063  63.108049  8020.953296          0\n",
              "3           4  42709.534201  45.751972  6103.642260          0\n",
              "4           5  66952.688845  18.584336  8770.099235          1"
            ]
          },
          "metadata": {},
          "execution_count": 134
        }
      ]
    },
    {
      "cell_type": "markdown",
      "source": [
        "- sem padronização"
      ],
      "metadata": {
        "id": "Fs_9ypkiagSg"
      }
    },
    {
      "cell_type": "code",
      "source": [
        "x = data.iloc[:,1:4].values\n",
        "y = data.iloc[:,4].values\n",
        "x,y"
      ],
      "metadata": {
        "colab": {
          "base_uri": "https://localhost:8080/"
        },
        "id": "alV2y_V3Zgc2",
        "outputId": "f178b886-6197-4a93-9769-330ea225aec4"
      },
      "execution_count": 138,
      "outputs": [
        {
          "output_type": "execute_result",
          "data": {
            "text/plain": [
              "(array([[6.61559251e+04, 5.90170151e+01, 8.10653213e+03],\n",
              "        [3.44151540e+04, 4.81171531e+01, 6.56474502e+03],\n",
              "        [5.73171701e+04, 6.31080495e+01, 8.02095330e+03],\n",
              "        ...,\n",
              "        [4.43114493e+04, 2.80171669e+01, 5.52278669e+03],\n",
              "        [4.37560566e+04, 6.39717958e+01, 1.62272260e+03],\n",
              "        [6.94365796e+04, 5.61526170e+01, 7.37883360e+03]]),\n",
              " array([0, 0, 0, ..., 1, 0, 0]))"
            ]
          },
          "metadata": {},
          "execution_count": 138
        }
      ]
    },
    {
      "cell_type": "markdown",
      "source": [
        "usando o mesmo algoritimo de Naives BAYES, mas agora o mais usual, temos:"
      ],
      "metadata": {
        "id": "F9BIvrYcbRIA"
      }
    },
    {
      "cell_type": "code",
      "source": [
        "from sklearn.naive_bayes import GaussianNB\n",
        "from sklearn.model_selection import train_test_split\n",
        "from sklearn.metrics import accuracy_score"
      ],
      "metadata": {
        "id": "ZV3Ug9LIawls"
      },
      "execution_count": 140,
      "outputs": []
    },
    {
      "cell_type": "code",
      "source": [
        "resultados_naive_bayes = []\n",
        "for i in range(30):\n",
        "  x_treinamento, x_teste, y_treinamento, y_teste = train_test_split(x, y, test_size = 0.2,stratify = y, random_state = i)\n",
        "  naive_bayes = GaussianNB()\n",
        "  naive_bayes.fit(x_treinamento, y_treinamento)\n",
        "  resultados_naive_bayes.append(accuracy_score(y_teste, naive_bayes.predict(x_teste)))\n",
        "\n",
        "print(resultados_naive_bayes)"
      ],
      "metadata": {
        "colab": {
          "base_uri": "https://localhost:8080/"
        },
        "id": "lmEkjTzWbrSz",
        "outputId": "0ad18df3-71d4-4d60-aabe-0d2d794869a1"
      },
      "execution_count": 141,
      "outputs": [
        {
          "output_type": "stream",
          "name": "stdout",
          "text": [
            "[0.925, 0.925, 0.9325, 0.925, 0.92, 0.905, 0.9175, 0.9175, 0.9125, 0.9325, 0.9225, 0.9125, 0.935, 0.9175, 0.925, 0.9175, 0.9275, 0.92, 0.9325, 0.92, 0.93, 0.905, 0.9175, 0.9325, 0.9425, 0.9375, 0.94, 0.92, 0.935, 0.925]\n"
          ]
        }
      ]
    },
    {
      "cell_type": "code",
      "source": [
        "np.mean(x_treinamento[0]), np.median(x_treinamento[0]), np.std(x_treinamento[0])"
      ],
      "metadata": {
        "colab": {
          "base_uri": "https://localhost:8080/"
        },
        "id": "nOSoszQMcHP8",
        "outputId": "9b817098-ed3d-4175-f6b1-348d344131f4"
      },
      "execution_count": 146,
      "outputs": [
        {
          "output_type": "execute_result",
          "data": {
            "text/plain": [
              "(25107.54161278239, 7289.014109090092, 30470.115073990906)"
            ]
          },
          "metadata": {},
          "execution_count": 146
        }
      ]
    },
    {
      "cell_type": "code",
      "source": [
        "np.mean(x_teste[0]), np.median(x_teste[0]), np.std(x_teste[0])"
      ],
      "metadata": {
        "colab": {
          "base_uri": "https://localhost:8080/"
        },
        "id": "fqgP7sW9cKcj",
        "outputId": "8ccc1176-7e8b-4ca9-dfa7-d11ee12711b9"
      },
      "execution_count": 149,
      "outputs": [
        {
          "output_type": "execute_result",
          "data": {
            "text/plain": [
              "(16385.94042713694, 4588.472285879389, 19985.290456454084)"
            ]
          },
          "metadata": {},
          "execution_count": 149
        }
      ]
    },
    {
      "cell_type": "markdown",
      "source": [
        "-  com Padronização"
      ],
      "metadata": {
        "id": "hsf2jkOEf7-R"
      }
    },
    {
      "cell_type": "code",
      "source": [
        "from sklearn.preprocessing import StandardScaler # com isso nao e necessario calculr o z score manualmente"
      ],
      "metadata": {
        "id": "gsfKzyHzcxAg"
      },
      "execution_count": 206,
      "outputs": []
    },
    {
      "cell_type": "code",
      "source": [
        "z_score_treinamento = StandardScaler()\n",
        "z_score_teste = StandardScaler()"
      ],
      "metadata": {
        "id": "atdCfvrUliRe"
      },
      "execution_count": 227,
      "outputs": []
    },
    {
      "cell_type": "code",
      "source": [
        "x_treinamento_padronizado = z_score_treinamento.fit_transform(x_treinamento)"
      ],
      "metadata": {
        "id": "M9shP5kll7uM"
      },
      "execution_count": 228,
      "outputs": []
    },
    {
      "cell_type": "code",
      "source": [
        "x_teste_padronizado = z_score_teste.fit_transform(x_teste)"
      ],
      "metadata": {
        "id": "QvRDzggEmZSB"
      },
      "execution_count": 229,
      "outputs": []
    },
    {
      "cell_type": "code",
      "source": [
        "x_treinamento_padronizado"
      ],
      "metadata": {
        "colab": {
          "base_uri": "https://localhost:8080/"
        },
        "id": "S4KDQBO78S62",
        "outputId": "643a9632-3e81-4918-f6df-b8c4a134eee1"
      },
      "execution_count": 230,
      "outputs": [
        {
          "output_type": "execute_result",
          "data": {
            "text/plain": [
              "array([[ 1.61947369, -0.14692359,  0.95840626],\n",
              "       [ 1.27578474,  0.57787308,  2.4905727 ],\n",
              "       [ 0.11340719, -1.5041088 , -0.96178507],\n",
              "       ...,\n",
              "       [ 1.52322735,  0.87831571,  0.52685557],\n",
              "       [-0.92604261,  0.0612349 , -0.49834659],\n",
              "       [-0.57230343,  0.40527752, -1.20456055]])"
            ]
          },
          "metadata": {},
          "execution_count": 230
        }
      ]
    },
    {
      "cell_type": "code",
      "source": [
        "x_teste_padronizado"
      ],
      "metadata": {
        "colab": {
          "base_uri": "https://localhost:8080/"
        },
        "id": "HWatRYF28miB",
        "outputId": "3b06b7d9-21f4-41b8-dbd6-a2f6f9129bf7"
      },
      "execution_count": 231,
      "outputs": [
        {
          "output_type": "execute_result",
          "data": {
            "text/plain": [
              "array([[-1.45911646e-01,  3.00586050e-02,  1.04687383e-03],\n",
              "       [ 4.16764786e-01,  1.34840461e+00,  5.27555057e-01],\n",
              "       [ 1.12752931e+00, -1.27607926e+00,  2.09344135e+00],\n",
              "       ...,\n",
              "       [ 6.17443562e-01, -7.71448556e-01,  1.03804948e+00],\n",
              "       [-1.53273297e+00,  7.43859080e-01, -2.13391891e-01],\n",
              "       [-1.42905609e+00, -1.32384503e+00, -4.61430180e-01]])"
            ]
          },
          "metadata": {},
          "execution_count": 231
        }
      ]
    },
    {
      "cell_type": "code",
      "source": [
        "min(x_treinamento_padronizado[0]), max(x_teste_padronizado[0])"
      ],
      "metadata": {
        "colab": {
          "base_uri": "https://localhost:8080/"
        },
        "id": "nmS56FZw9OEC",
        "outputId": "b8191c3a-eb3e-468f-d553-af092c3445b9"
      },
      "execution_count": 221,
      "outputs": [
        {
          "output_type": "execute_result",
          "data": {
            "text/plain": [
              "(-0.14692359488559328, 0.03005860497781775)"
            ]
          },
          "metadata": {},
          "execution_count": 221
        }
      ]
    },
    {
      "cell_type": "code",
      "source": [
        "min(x_teste_padronizado[0]), max(x_teste_padronizado[0])"
      ],
      "metadata": {
        "colab": {
          "base_uri": "https://localhost:8080/"
        },
        "id": "QuLuHyoy9f2J",
        "outputId": "6d97a8be-19ad-432d-8ffb-9c94fd3b140a"
      },
      "execution_count": 222,
      "outputs": [
        {
          "output_type": "execute_result",
          "data": {
            "text/plain": [
              "(-0.145911646145242, 0.03005860497781775)"
            ]
          },
          "metadata": {},
          "execution_count": 222
        }
      ]
    },
    {
      "cell_type": "code",
      "source": [
        "np.mean(x_treinamento_padronizado[0]), np.median(x_treinamento_padronizado[0]), np.std(x_treinamento_padronizado[0])"
      ],
      "metadata": {
        "colab": {
          "base_uri": "https://localhost:8080/"
        },
        "id": "beVfx-PK6ort",
        "outputId": "81a3e087-6add-4f9c-802f-6d7ac1ec79ed"
      },
      "execution_count": 223,
      "outputs": [
        {
          "output_type": "execute_result",
          "data": {
            "text/plain": [
              "(0.8103187823431705, 0.9584062555640372, 0.7286916419555313)"
            ]
          },
          "metadata": {},
          "execution_count": 223
        }
      ]
    },
    {
      "cell_type": "code",
      "source": [
        "np.mean(x_teste_padronizado[0]), np.median(x_teste_padronizado[0]), np.std(x_teste_padronizado[0])"
      ],
      "metadata": {
        "colab": {
          "base_uri": "https://localhost:8080/"
        },
        "id": "9_1YPWfp6y62",
        "outputId": "53c39b07-3707-41c5-f793-f795d000b3ec"
      },
      "execution_count": 224,
      "outputs": [
        {
          "output_type": "execute_result",
          "data": {
            "text/plain": [
              "(-0.03826872244595976, 0.0010468738295449681, 0.07703103012402227)"
            ]
          },
          "metadata": {},
          "execution_count": 224
        }
      ]
    },
    {
      "cell_type": "markdown",
      "source": [
        "tudo padronizado, nenhum atributo mais importante do que o outro"
      ],
      "metadata": {
        "id": "PInBoQI3-U91"
      }
    },
    {
      "cell_type": "code",
      "source": [
        "nb = GaussianNB()"
      ],
      "metadata": {
        "id": "O200nHzu_Ke2"
      },
      "execution_count": 226,
      "outputs": []
    },
    {
      "cell_type": "code",
      "source": [
        "nb.fit(x_treinamento_padronizado, y_treinamento)\n",
        "previsao = nb.predict(x_teste_padronizado)\n",
        "previsao"
      ],
      "metadata": {
        "colab": {
          "base_uri": "https://localhost:8080/"
        },
        "id": "LzRb-9su_ONA",
        "outputId": "990632b0-17e4-4b82-f70e-47522f376d4f"
      },
      "execution_count": 232,
      "outputs": [
        {
          "output_type": "execute_result",
          "data": {
            "text/plain": [
              "array([0, 0, 1, 0, 0, 0, 0, 0, 1, 0, 0, 0, 0, 0, 0, 0, 0, 0, 0, 0, 0, 0,\n",
              "       0, 0, 0, 0, 0, 0, 0, 0, 0, 0, 1, 0, 0, 0, 0, 0, 0, 0, 0, 0, 0, 0,\n",
              "       0, 0, 0, 0, 0, 1, 0, 0, 0, 0, 0, 0, 0, 0, 0, 0, 0, 0, 1, 0, 0, 0,\n",
              "       0, 0, 0, 0, 0, 0, 0, 0, 0, 0, 0, 0, 0, 0, 0, 0, 0, 0, 0, 0, 0, 0,\n",
              "       0, 0, 0, 0, 0, 0, 0, 0, 0, 0, 0, 0, 0, 0, 0, 0, 0, 0, 0, 1, 0, 0,\n",
              "       0, 0, 0, 0, 0, 0, 0, 1, 0, 0, 0, 0, 0, 1, 1, 0, 0, 0, 0, 0, 0, 0,\n",
              "       0, 0, 0, 0, 0, 0, 0, 0, 1, 0, 0, 0, 0, 0, 0, 0, 0, 0, 0, 0, 0, 1,\n",
              "       0, 0, 0, 0, 0, 0, 0, 1, 0, 0, 0, 0, 0, 0, 0, 0, 0, 0, 0, 0, 0, 0,\n",
              "       0, 0, 0, 0, 0, 0, 0, 0, 0, 0, 1, 0, 0, 0, 0, 0, 0, 0, 0, 1, 0, 0,\n",
              "       0, 0, 0, 0, 0, 1, 0, 0, 0, 0, 1, 0, 0, 0, 1, 0, 0, 0, 0, 0, 0, 0,\n",
              "       0, 0, 1, 1, 0, 0, 0, 0, 1, 0, 0, 0, 0, 0, 0, 0, 0, 0, 0, 0, 1, 0,\n",
              "       0, 0, 0, 1, 0, 0, 0, 1, 0, 0, 0, 0, 0, 0, 0, 0, 0, 0, 0, 0, 0, 1,\n",
              "       1, 1, 1, 0, 0, 0, 1, 0, 0, 0, 0, 0, 0, 0, 0, 0, 0, 0, 0, 0, 0, 0,\n",
              "       0, 0, 0, 0, 0, 0, 0, 0, 0, 0, 0, 1, 0, 0, 0, 0, 1, 0, 0, 0, 0, 0,\n",
              "       0, 0, 0, 0, 1, 0, 0, 0, 0, 0, 0, 0, 0, 0, 0, 0, 0, 0, 0, 0, 0, 1,\n",
              "       0, 0, 0, 0, 1, 1, 0, 0, 0, 0, 0, 0, 0, 0, 0, 0, 0, 0, 0, 0, 0, 0,\n",
              "       1, 1, 0, 0, 1, 0, 1, 0, 0, 1, 0, 0, 0, 0, 0, 1, 0, 0, 0, 0, 0, 0,\n",
              "       0, 0, 0, 0, 0, 0, 0, 0, 0, 1, 0, 0, 0, 0, 1, 0, 0, 0, 0, 0, 0, 0,\n",
              "       0, 1, 0, 0])"
            ]
          },
          "metadata": {},
          "execution_count": 232
        }
      ]
    },
    {
      "cell_type": "code",
      "source": [
        "y_teste"
      ],
      "metadata": {
        "colab": {
          "base_uri": "https://localhost:8080/"
        },
        "id": "hEKfa4y6_e8W",
        "outputId": "b8109c5c-8e53-436c-ea85-e59334f9b775"
      },
      "execution_count": 233,
      "outputs": [
        {
          "output_type": "execute_result",
          "data": {
            "text/plain": [
              "array([0, 0, 1, 0, 0, 0, 0, 0, 1, 0, 0, 0, 0, 0, 0, 0, 0, 0, 0, 0, 0, 0,\n",
              "       0, 0, 1, 0, 0, 0, 0, 0, 0, 0, 0, 0, 0, 0, 0, 1, 0, 0, 0, 0, 0, 0,\n",
              "       0, 0, 0, 0, 0, 1, 0, 0, 0, 0, 1, 0, 0, 0, 0, 0, 0, 0, 0, 0, 0, 0,\n",
              "       0, 0, 0, 0, 0, 0, 0, 0, 0, 0, 0, 0, 0, 0, 0, 0, 0, 0, 0, 0, 0, 0,\n",
              "       0, 0, 0, 0, 0, 0, 0, 0, 0, 1, 0, 0, 0, 1, 0, 0, 0, 0, 0, 1, 0, 0,\n",
              "       0, 0, 0, 0, 0, 0, 0, 1, 0, 0, 0, 0, 0, 1, 1, 0, 0, 0, 0, 0, 0, 0,\n",
              "       0, 0, 0, 0, 0, 1, 0, 0, 0, 0, 0, 0, 0, 0, 0, 0, 0, 0, 0, 0, 0, 1,\n",
              "       0, 0, 0, 0, 0, 0, 0, 1, 0, 0, 0, 0, 1, 0, 0, 0, 0, 0, 1, 0, 0, 0,\n",
              "       0, 0, 0, 0, 0, 0, 0, 0, 0, 0, 1, 1, 0, 0, 0, 1, 0, 0, 0, 1, 0, 0,\n",
              "       0, 0, 0, 0, 0, 1, 0, 0, 0, 0, 1, 0, 0, 0, 1, 0, 0, 0, 0, 0, 0, 0,\n",
              "       1, 0, 1, 1, 0, 0, 1, 0, 1, 1, 1, 0, 0, 0, 0, 0, 0, 1, 0, 0, 0, 0,\n",
              "       1, 0, 0, 1, 0, 0, 0, 0, 0, 0, 0, 0, 0, 0, 0, 0, 0, 0, 0, 0, 0, 1,\n",
              "       0, 1, 1, 0, 0, 0, 0, 0, 0, 0, 0, 0, 0, 0, 0, 0, 0, 0, 0, 0, 0, 0,\n",
              "       0, 0, 1, 0, 1, 0, 0, 0, 0, 1, 0, 1, 0, 0, 0, 0, 1, 0, 0, 0, 0, 0,\n",
              "       0, 1, 0, 0, 1, 0, 0, 0, 0, 0, 0, 0, 0, 0, 0, 0, 0, 0, 0, 0, 0, 1,\n",
              "       0, 0, 0, 0, 1, 1, 0, 0, 0, 0, 0, 0, 0, 0, 0, 0, 0, 0, 1, 0, 0, 0,\n",
              "       0, 1, 0, 0, 1, 0, 1, 0, 0, 1, 0, 0, 0, 0, 0, 1, 0, 0, 0, 0, 0, 0,\n",
              "       0, 0, 0, 0, 0, 0, 0, 0, 0, 1, 0, 0, 0, 0, 1, 0, 0, 0, 0, 0, 0, 0,\n",
              "       0, 1, 0, 1])"
            ]
          },
          "metadata": {},
          "execution_count": 233
        }
      ]
    },
    {
      "cell_type": "code",
      "source": [
        "accuracy_score(y_teste, previsao)"
      ],
      "metadata": {
        "colab": {
          "base_uri": "https://localhost:8080/"
        },
        "id": "C4ov7d89_gb1",
        "outputId": "61c07b54-3fa3-48bc-bcca-1fc1fd868032"
      },
      "execution_count": 234,
      "outputs": [
        {
          "output_type": "execute_result",
          "data": {
            "text/plain": [
              "0.925"
            ]
          },
          "metadata": {},
          "execution_count": 234
        }
      ]
    },
    {
      "cell_type": "markdown",
      "source": [
        "neste caso, MESMO usando a padronização, não notamos melhora , mas se usarmos outro algoritimo como KNN SVM, Random Forest, poderiamos notar uma diferença. Apesar que mesmo sem a padronização, já tinhamos uma otima acurácia"
      ],
      "metadata": {
        "id": "QxdETaSk_lcQ"
      }
    },
    {
      "cell_type": "markdown",
      "source": [
        "**Dados Enviesados com ML**"
      ],
      "metadata": {
        "id": "jMwnj-hQBAln"
      }
    },
    {
      "cell_type": "code",
      "source": [
        "nova_base = pd.read_csv('/content/house_prices.csv')"
      ],
      "metadata": {
        "id": "8fCyY5h-_jkP"
      },
      "execution_count": 237,
      "outputs": []
    },
    {
      "cell_type": "code",
      "source": [
        "nova_base.head()"
      ],
      "metadata": {
        "colab": {
          "base_uri": "https://localhost:8080/",
          "height": 270
        },
        "id": "bdIRG4axBYrY",
        "outputId": "c431e775-e072-44a6-b0ad-212e0750ed62"
      },
      "execution_count": 238,
      "outputs": [
        {
          "output_type": "execute_result",
          "data": {
            "text/html": [
              "\n",
              "  <div id=\"df-c97e9e25-600a-4323-8598-6ef3bd96caf2\">\n",
              "    <div class=\"colab-df-container\">\n",
              "      <div>\n",
              "<style scoped>\n",
              "    .dataframe tbody tr th:only-of-type {\n",
              "        vertical-align: middle;\n",
              "    }\n",
              "\n",
              "    .dataframe tbody tr th {\n",
              "        vertical-align: top;\n",
              "    }\n",
              "\n",
              "    .dataframe thead th {\n",
              "        text-align: right;\n",
              "    }\n",
              "</style>\n",
              "<table border=\"1\" class=\"dataframe\">\n",
              "  <thead>\n",
              "    <tr style=\"text-align: right;\">\n",
              "      <th></th>\n",
              "      <th>id</th>\n",
              "      <th>date</th>\n",
              "      <th>price</th>\n",
              "      <th>bedrooms</th>\n",
              "      <th>bathrooms</th>\n",
              "      <th>sqft_living</th>\n",
              "      <th>sqft_lot</th>\n",
              "      <th>floors</th>\n",
              "      <th>waterfront</th>\n",
              "      <th>view</th>\n",
              "      <th>condition</th>\n",
              "      <th>grade</th>\n",
              "      <th>sqft_above</th>\n",
              "      <th>sqft_basement</th>\n",
              "      <th>yr_built</th>\n",
              "      <th>yr_renovated</th>\n",
              "      <th>zipcode</th>\n",
              "      <th>lat</th>\n",
              "      <th>long</th>\n",
              "      <th>sqft_living15</th>\n",
              "      <th>sqft_lot15</th>\n",
              "    </tr>\n",
              "  </thead>\n",
              "  <tbody>\n",
              "    <tr>\n",
              "      <th>0</th>\n",
              "      <td>7129300520</td>\n",
              "      <td>20141013T000000</td>\n",
              "      <td>221900.0</td>\n",
              "      <td>3</td>\n",
              "      <td>1.00</td>\n",
              "      <td>1180</td>\n",
              "      <td>5650</td>\n",
              "      <td>1.0</td>\n",
              "      <td>0</td>\n",
              "      <td>0</td>\n",
              "      <td>3</td>\n",
              "      <td>7</td>\n",
              "      <td>1180</td>\n",
              "      <td>0</td>\n",
              "      <td>1955</td>\n",
              "      <td>0</td>\n",
              "      <td>98178</td>\n",
              "      <td>47.5112</td>\n",
              "      <td>-122.257</td>\n",
              "      <td>1340</td>\n",
              "      <td>5650</td>\n",
              "    </tr>\n",
              "    <tr>\n",
              "      <th>1</th>\n",
              "      <td>6414100192</td>\n",
              "      <td>20141209T000000</td>\n",
              "      <td>538000.0</td>\n",
              "      <td>3</td>\n",
              "      <td>2.25</td>\n",
              "      <td>2570</td>\n",
              "      <td>7242</td>\n",
              "      <td>2.0</td>\n",
              "      <td>0</td>\n",
              "      <td>0</td>\n",
              "      <td>3</td>\n",
              "      <td>7</td>\n",
              "      <td>2170</td>\n",
              "      <td>400</td>\n",
              "      <td>1951</td>\n",
              "      <td>1991</td>\n",
              "      <td>98125</td>\n",
              "      <td>47.7210</td>\n",
              "      <td>-122.319</td>\n",
              "      <td>1690</td>\n",
              "      <td>7639</td>\n",
              "    </tr>\n",
              "    <tr>\n",
              "      <th>2</th>\n",
              "      <td>5631500400</td>\n",
              "      <td>20150225T000000</td>\n",
              "      <td>180000.0</td>\n",
              "      <td>2</td>\n",
              "      <td>1.00</td>\n",
              "      <td>770</td>\n",
              "      <td>10000</td>\n",
              "      <td>1.0</td>\n",
              "      <td>0</td>\n",
              "      <td>0</td>\n",
              "      <td>3</td>\n",
              "      <td>6</td>\n",
              "      <td>770</td>\n",
              "      <td>0</td>\n",
              "      <td>1933</td>\n",
              "      <td>0</td>\n",
              "      <td>98028</td>\n",
              "      <td>47.7379</td>\n",
              "      <td>-122.233</td>\n",
              "      <td>2720</td>\n",
              "      <td>8062</td>\n",
              "    </tr>\n",
              "    <tr>\n",
              "      <th>3</th>\n",
              "      <td>2487200875</td>\n",
              "      <td>20141209T000000</td>\n",
              "      <td>604000.0</td>\n",
              "      <td>4</td>\n",
              "      <td>3.00</td>\n",
              "      <td>1960</td>\n",
              "      <td>5000</td>\n",
              "      <td>1.0</td>\n",
              "      <td>0</td>\n",
              "      <td>0</td>\n",
              "      <td>5</td>\n",
              "      <td>7</td>\n",
              "      <td>1050</td>\n",
              "      <td>910</td>\n",
              "      <td>1965</td>\n",
              "      <td>0</td>\n",
              "      <td>98136</td>\n",
              "      <td>47.5208</td>\n",
              "      <td>-122.393</td>\n",
              "      <td>1360</td>\n",
              "      <td>5000</td>\n",
              "    </tr>\n",
              "    <tr>\n",
              "      <th>4</th>\n",
              "      <td>1954400510</td>\n",
              "      <td>20150218T000000</td>\n",
              "      <td>510000.0</td>\n",
              "      <td>3</td>\n",
              "      <td>2.00</td>\n",
              "      <td>1680</td>\n",
              "      <td>8080</td>\n",
              "      <td>1.0</td>\n",
              "      <td>0</td>\n",
              "      <td>0</td>\n",
              "      <td>3</td>\n",
              "      <td>8</td>\n",
              "      <td>1680</td>\n",
              "      <td>0</td>\n",
              "      <td>1987</td>\n",
              "      <td>0</td>\n",
              "      <td>98074</td>\n",
              "      <td>47.6168</td>\n",
              "      <td>-122.045</td>\n",
              "      <td>1800</td>\n",
              "      <td>7503</td>\n",
              "    </tr>\n",
              "  </tbody>\n",
              "</table>\n",
              "</div>\n",
              "      <button class=\"colab-df-convert\" onclick=\"convertToInteractive('df-c97e9e25-600a-4323-8598-6ef3bd96caf2')\"\n",
              "              title=\"Convert this dataframe to an interactive table.\"\n",
              "              style=\"display:none;\">\n",
              "        \n",
              "  <svg xmlns=\"http://www.w3.org/2000/svg\" height=\"24px\"viewBox=\"0 0 24 24\"\n",
              "       width=\"24px\">\n",
              "    <path d=\"M0 0h24v24H0V0z\" fill=\"none\"/>\n",
              "    <path d=\"M18.56 5.44l.94 2.06.94-2.06 2.06-.94-2.06-.94-.94-2.06-.94 2.06-2.06.94zm-11 1L8.5 8.5l.94-2.06 2.06-.94-2.06-.94L8.5 2.5l-.94 2.06-2.06.94zm10 10l.94 2.06.94-2.06 2.06-.94-2.06-.94-.94-2.06-.94 2.06-2.06.94z\"/><path d=\"M17.41 7.96l-1.37-1.37c-.4-.4-.92-.59-1.43-.59-.52 0-1.04.2-1.43.59L10.3 9.45l-7.72 7.72c-.78.78-.78 2.05 0 2.83L4 21.41c.39.39.9.59 1.41.59.51 0 1.02-.2 1.41-.59l7.78-7.78 2.81-2.81c.8-.78.8-2.07 0-2.86zM5.41 20L4 18.59l7.72-7.72 1.47 1.35L5.41 20z\"/>\n",
              "  </svg>\n",
              "      </button>\n",
              "      \n",
              "  <style>\n",
              "    .colab-df-container {\n",
              "      display:flex;\n",
              "      flex-wrap:wrap;\n",
              "      gap: 12px;\n",
              "    }\n",
              "\n",
              "    .colab-df-convert {\n",
              "      background-color: #E8F0FE;\n",
              "      border: none;\n",
              "      border-radius: 50%;\n",
              "      cursor: pointer;\n",
              "      display: none;\n",
              "      fill: #1967D2;\n",
              "      height: 32px;\n",
              "      padding: 0 0 0 0;\n",
              "      width: 32px;\n",
              "    }\n",
              "\n",
              "    .colab-df-convert:hover {\n",
              "      background-color: #E2EBFA;\n",
              "      box-shadow: 0px 1px 2px rgba(60, 64, 67, 0.3), 0px 1px 3px 1px rgba(60, 64, 67, 0.15);\n",
              "      fill: #174EA6;\n",
              "    }\n",
              "\n",
              "    [theme=dark] .colab-df-convert {\n",
              "      background-color: #3B4455;\n",
              "      fill: #D2E3FC;\n",
              "    }\n",
              "\n",
              "    [theme=dark] .colab-df-convert:hover {\n",
              "      background-color: #434B5C;\n",
              "      box-shadow: 0px 1px 3px 1px rgba(0, 0, 0, 0.15);\n",
              "      filter: drop-shadow(0px 1px 2px rgba(0, 0, 0, 0.3));\n",
              "      fill: #FFFFFF;\n",
              "    }\n",
              "  </style>\n",
              "\n",
              "      <script>\n",
              "        const buttonEl =\n",
              "          document.querySelector('#df-c97e9e25-600a-4323-8598-6ef3bd96caf2 button.colab-df-convert');\n",
              "        buttonEl.style.display =\n",
              "          google.colab.kernel.accessAllowed ? 'block' : 'none';\n",
              "\n",
              "        async function convertToInteractive(key) {\n",
              "          const element = document.querySelector('#df-c97e9e25-600a-4323-8598-6ef3bd96caf2');\n",
              "          const dataTable =\n",
              "            await google.colab.kernel.invokeFunction('convertToInteractive',\n",
              "                                                     [key], {});\n",
              "          if (!dataTable) return;\n",
              "\n",
              "          const docLinkHtml = 'Like what you see? Visit the ' +\n",
              "            '<a target=\"_blank\" href=https://colab.research.google.com/notebooks/data_table.ipynb>data table notebook</a>'\n",
              "            + ' to learn more about interactive tables.';\n",
              "          element.innerHTML = '';\n",
              "          dataTable['output_type'] = 'display_data';\n",
              "          await google.colab.output.renderOutput(dataTable, element);\n",
              "          const docLink = document.createElement('div');\n",
              "          docLink.innerHTML = docLinkHtml;\n",
              "          element.appendChild(docLink);\n",
              "        }\n",
              "      </script>\n",
              "    </div>\n",
              "  </div>\n",
              "  "
            ],
            "text/plain": [
              "           id             date     price  ...     long  sqft_living15  sqft_lot15\n",
              "0  7129300520  20141013T000000  221900.0  ... -122.257           1340        5650\n",
              "1  6414100192  20141209T000000  538000.0  ... -122.319           1690        7639\n",
              "2  5631500400  20150225T000000  180000.0  ... -122.233           2720        8062\n",
              "3  2487200875  20141209T000000  604000.0  ... -122.393           1360        5000\n",
              "4  1954400510  20150218T000000  510000.0  ... -122.045           1800        7503\n",
              "\n",
              "[5 rows x 21 columns]"
            ]
          },
          "metadata": {},
          "execution_count": 238
        }
      ]
    },
    {
      "cell_type": "markdown",
      "source": [
        "o objetivo aqui é olhar na coluna sqft_living e fazer a previsao do preço da casa \n",
        "na coluna price"
      ],
      "metadata": {
        "id": "8KGsZTW9CEju"
      }
    },
    {
      "cell_type": "code",
      "source": [
        "sns.distplot(nova_base['price']);"
      ],
      "metadata": {
        "colab": {
          "base_uri": "https://localhost:8080/",
          "height": 345
        },
        "id": "8mCTlcN4BbJ3",
        "outputId": "43093464-a5e6-47de-aed1-7d5c3dd2637a"
      },
      "execution_count": 239,
      "outputs": [
        {
          "output_type": "stream",
          "name": "stderr",
          "text": [
            "/usr/local/lib/python3.7/dist-packages/seaborn/distributions.py:2619: FutureWarning: `distplot` is a deprecated function and will be removed in a future version. Please adapt your code to use either `displot` (a figure-level function with similar flexibility) or `histplot` (an axes-level function for histograms).\n",
            "  warnings.warn(msg, FutureWarning)\n"
          ]
        },
        {
          "output_type": "display_data",
          "data": {
            "image/png": "[encoded data removed]",
            "text/plain": [
              "<Figure size 432x288 with 1 Axes>"
            ]
          },
          "metadata": {
            "needs_background": "light"
          }
        }
      ]
    },
    {
      "cell_type": "code",
      "source": [
        "sns.distplot(nova_base['sqft_living']);"
      ],
      "metadata": {
        "colab": {
          "base_uri": "https://localhost:8080/",
          "height": 335
        },
        "id": "kRl7p0XLCpKS",
        "outputId": "2e8bcfb8-3716-4261-f61b-3f1305536a71"
      },
      "execution_count": 240,
      "outputs": [
        {
          "output_type": "stream",
          "name": "stderr",
          "text": [
            "/usr/local/lib/python3.7/dist-packages/seaborn/distributions.py:2619: FutureWarning: `distplot` is a deprecated function and will be removed in a future version. Please adapt your code to use either `displot` (a figure-level function with similar flexibility) or `histplot` (an axes-level function for histograms).\n",
            "  warnings.warn(msg, FutureWarning)\n"
          ]
        },
        {
          "output_type": "display_data",
          "data": {
            "image/png": "[encoded data removed]",
            "text/plain": [
              "<Figure size 432x288 with 1 Axes>"
            ]
          },
          "metadata": {
            "needs_background": "light"
          }
        }
      ]
    },
    {
      "cell_type": "markdown",
      "source": [
        "esta enviesada"
      ],
      "metadata": {
        "id": "WwnVWfZwHCzI"
      }
    },
    {
      "cell_type": "code",
      "source": [
        "#sem tratamento de dados"
      ],
      "metadata": {
        "id": "cNB7jYoQC8zl"
      },
      "execution_count": 241,
      "outputs": []
    },
    {
      "cell_type": "markdown",
      "source": [
        "- Regressão Linear"
      ],
      "metadata": {
        "id": "k9rh6Yv4Fkxq"
      }
    },
    {
      "cell_type": "code",
      "source": [
        "from sklearn.linear_model import LinearRegression"
      ],
      "metadata": {
        "id": "8RJOJHzKDIel"
      },
      "execution_count": 242,
      "outputs": []
    },
    {
      "cell_type": "code",
      "source": [
        "x = nova_base['sqft_living'].values"
      ],
      "metadata": {
        "id": "IlOUYUF0DRD1"
      },
      "execution_count": 243,
      "outputs": []
    },
    {
      "cell_type": "code",
      "source": [
        "y = nova_base['price'].values"
      ],
      "metadata": {
        "id": "nTdVZ1w-DaTK"
      },
      "execution_count": 244,
      "outputs": []
    },
    {
      "cell_type": "code",
      "source": [
        "x.shape"
      ],
      "metadata": {
        "colab": {
          "base_uri": "https://localhost:8080/"
        },
        "id": "Soo0H4eBDefI",
        "outputId": "ec8fc3fc-c3b6-418b-d242-29fbd16d3a7b"
      },
      "execution_count": 246,
      "outputs": [
        {
          "output_type": "execute_result",
          "data": {
            "text/plain": [
              "(21613,)"
            ]
          },
          "metadata": {},
          "execution_count": 246
        }
      ]
    },
    {
      "cell_type": "code",
      "source": [
        "x = x.reshape(-1,1)"
      ],
      "metadata": {
        "id": "PlfHXLdqDlRr"
      },
      "execution_count": 247,
      "outputs": []
    },
    {
      "cell_type": "code",
      "source": [
        "x.shape"
      ],
      "metadata": {
        "colab": {
          "base_uri": "https://localhost:8080/"
        },
        "id": "gJvThvr8DtXj",
        "outputId": "a42e0ed2-8d2d-40f1-f7a1-a0ec3a168155"
      },
      "execution_count": 248,
      "outputs": [
        {
          "output_type": "execute_result",
          "data": {
            "text/plain": [
              "(21613, 1)"
            ]
          },
          "metadata": {},
          "execution_count": 248
        }
      ]
    },
    {
      "cell_type": "code",
      "source": [
        "y.shape"
      ],
      "metadata": {
        "colab": {
          "base_uri": "https://localhost:8080/"
        },
        "id": "O3GgmclVDubG",
        "outputId": "b5831633-697c-4d2c-ffe3-f76b9e137812"
      },
      "execution_count": 249,
      "outputs": [
        {
          "output_type": "execute_result",
          "data": {
            "text/plain": [
              "(21613,)"
            ]
          },
          "metadata": {},
          "execution_count": 249
        }
      ]
    },
    {
      "cell_type": "markdown",
      "source": [
        "fazendo \"teste\" sem fazer treinamento neste modelo"
      ],
      "metadata": {
        "id": "YkWsTPhREXhr"
      }
    },
    {
      "cell_type": "code",
      "source": [
        "regressao = LinearRegression()"
      ],
      "metadata": {
        "id": "BbsO0qEsDw8m"
      },
      "execution_count": 250,
      "outputs": []
    },
    {
      "cell_type": "code",
      "source": [
        "regressao.fit(x,y)"
      ],
      "metadata": {
        "colab": {
          "base_uri": "https://localhost:8080/"
        },
        "id": "orT-C9xhEBUA",
        "outputId": "27e122e1-8dcd-49c8-b8f5-c20052625b0f"
      },
      "execution_count": 251,
      "outputs": [
        {
          "output_type": "execute_result",
          "data": {
            "text/plain": [
              "LinearRegression()"
            ]
          },
          "metadata": {},
          "execution_count": 251
        }
      ]
    },
    {
      "cell_type": "code",
      "source": [
        "previsao = regressao.predict(x)\n",
        "previsao"
      ],
      "metadata": {
        "colab": {
          "base_uri": "https://localhost:8080/"
        },
        "id": "b5PoA3jhEGJ5",
        "outputId": "0705e7a8-671f-4a40-b263-88425c0f8ed0"
      },
      "execution_count": 252,
      "outputs": [
        {
          "output_type": "execute_result",
          "data": {
            "text/plain": [
              "array([287555.06702451, 677621.82640197, 172499.40418656, ...,\n",
              "       242655.29616092, 405416.96554144, 242655.29616092])"
            ]
          },
          "metadata": {},
          "execution_count": 252
        }
      ]
    },
    {
      "cell_type": "code",
      "source": [
        "y\n"
      ],
      "metadata": {
        "colab": {
          "base_uri": "https://localhost:8080/"
        },
        "id": "SYCllQnjELWn",
        "outputId": "6e05ad25-e27b-4e70-d7e0-945406a68305"
      },
      "execution_count": 253,
      "outputs": [
        {
          "output_type": "execute_result",
          "data": {
            "text/plain": [
              "array([221900., 538000., 180000., ..., 402101., 400000., 325000.])"
            ]
          },
          "metadata": {},
          "execution_count": 253
        }
      ]
    },
    {
      "cell_type": "code",
      "source": [
        "#avaliando o algoritimo"
      ],
      "metadata": {
        "id": "W6n7w5gDENZ4"
      },
      "execution_count": 254,
      "outputs": []
    },
    {
      "cell_type": "code",
      "source": [
        "from sklearn.metrics import mean_absolute_error, r2_score"
      ],
      "metadata": {
        "id": "jKZ48YuvExnq"
      },
      "execution_count": 256,
      "outputs": []
    },
    {
      "cell_type": "code",
      "source": [
        "mean_absolute_error(y, previsao) #em media vamos errar(pra cima ou pra baixo)"
      ],
      "metadata": {
        "colab": {
          "base_uri": "https://localhost:8080/"
        },
        "id": "OnBXyGdfFIsa",
        "outputId": "95928d3c-0ec7-4766-c646-e4fe778309d9"
      },
      "execution_count": 259,
      "outputs": [
        {
          "output_type": "execute_result",
          "data": {
            "text/plain": [
              "173688.2733595311"
            ]
          },
          "metadata": {},
          "execution_count": 259
        }
      ]
    },
    {
      "cell_type": "code",
      "source": [
        "r2_score(y, previsao) #quanto mais perto de 1 melhor"
      ],
      "metadata": {
        "colab": {
          "base_uri": "https://localhost:8080/"
        },
        "id": "eVNHltGnFogV",
        "outputId": "2ba29147-097a-4bfe-8ef9-4f47e1364c6e"
      },
      "execution_count": 261,
      "outputs": [
        {
          "output_type": "execute_result",
          "data": {
            "text/plain": [
              "0.4928532179037931"
            ]
          },
          "metadata": {},
          "execution_count": 261
        }
      ]
    },
    {
      "cell_type": "markdown",
      "source": [
        "o resultado deve ser melhor quando usarmos mais atributos para fazer a previsao, aqui só usamos um."
      ],
      "metadata": {
        "id": "TVvWt1FHGJEf"
      }
    },
    {
      "cell_type": "code",
      "source": [
        "# com tratamento dos dados agora"
      ],
      "metadata": {
        "id": "FiSA-t3JFwEv"
      },
      "execution_count": 262,
      "outputs": []
    },
    {
      "cell_type": "code",
      "source": [
        "x_novo = np.log(x)"
      ],
      "metadata": {
        "id": "kd3thS-ZGBhF"
      },
      "execution_count": 263,
      "outputs": []
    },
    {
      "cell_type": "code",
      "source": [
        "x_novo"
      ],
      "metadata": {
        "colab": {
          "base_uri": "https://localhost:8080/"
        },
        "id": "gpN8H7-2Gn0O",
        "outputId": "e32dada3-5bf8-4e3e-f46d-4720d0abe544"
      },
      "execution_count": 264,
      "outputs": [
        {
          "output_type": "execute_result",
          "data": {
            "text/plain": [
              "array([[7.07326972],\n",
              "       [7.85166118],\n",
              "       [6.64639051],\n",
              "       ...,\n",
              "       [6.92755791],\n",
              "       [7.37775891],\n",
              "       [6.92755791]])"
            ]
          },
          "metadata": {},
          "execution_count": 264
        }
      ]
    },
    {
      "cell_type": "code",
      "source": [
        "sns.distplot(x_novo);"
      ],
      "metadata": {
        "colab": {
          "base_uri": "https://localhost:8080/",
          "height": 320
        },
        "id": "yHw7R9YOGojy",
        "outputId": "7d181e36-786b-44dd-f389-d4fb1e8cb06a"
      },
      "execution_count": 265,
      "outputs": [
        {
          "output_type": "stream",
          "name": "stderr",
          "text": [
            "/usr/local/lib/python3.7/dist-packages/seaborn/distributions.py:2619: FutureWarning: `distplot` is a deprecated function and will be removed in a future version. Please adapt your code to use either `displot` (a figure-level function with similar flexibility) or `histplot` (an axes-level function for histograms).\n",
            "  warnings.warn(msg, FutureWarning)\n"
          ]
        },
        {
          "output_type": "display_data",
          "data": {
            "image/png": "[encoded data removed]",
            "text/plain": [
              "<Figure size 432x288 with 1 Axes>"
            ]
          },
          "metadata": {
            "needs_background": "light"
          }
        }
      ]
    },
    {
      "cell_type": "markdown",
      "source": [
        "agora temos uma distr parecido com a distr normal, e nao esta mais enviesada"
      ],
      "metadata": {
        "id": "dXcBXcqsG5Sq"
      }
    },
    {
      "cell_type": "code",
      "source": [
        "#recriar o modelo"
      ],
      "metadata": {
        "id": "36TkYPs6Gy6V"
      },
      "execution_count": 266,
      "outputs": []
    },
    {
      "cell_type": "code",
      "source": [
        "regressao = LinearRegression()"
      ],
      "metadata": {
        "id": "Ecp6cjTcHc2O"
      },
      "execution_count": 267,
      "outputs": []
    },
    {
      "cell_type": "code",
      "source": [
        "regressao.fit(x_novo,y)"
      ],
      "metadata": {
        "colab": {
          "base_uri": "https://localhost:8080/"
        },
        "id": "HYpEV1lrHhCZ",
        "outputId": "2fac735e-1f60-4300-d123-dacc2dc79291"
      },
      "execution_count": 268,
      "outputs": [
        {
          "output_type": "execute_result",
          "data": {
            "text/plain": [
              "LinearRegression()"
            ]
          },
          "metadata": {},
          "execution_count": 268
        }
      ]
    },
    {
      "cell_type": "code",
      "source": [
        "previsao = regressao.predict(x_novo)"
      ],
      "metadata": {
        "id": "wn-VSFxuHprC"
      },
      "execution_count": 270,
      "outputs": []
    },
    {
      "cell_type": "code",
      "source": [
        "previsao"
      ],
      "metadata": {
        "colab": {
          "base_uri": "https://localhost:8080/"
        },
        "id": "i61lDnHaHueZ",
        "outputId": "53401a74-b0b4-4d4e-9bb7-edbece31d62a"
      },
      "execution_count": 271,
      "outputs": [
        {
          "output_type": "execute_result",
          "data": {
            "text/plain": [
              "array([287888.94654388, 699383.60994277,  62220.3431218 , ...,\n",
              "       210858.76861484, 448856.38186826, 210858.76861484])"
            ]
          },
          "metadata": {},
          "execution_count": 271
        }
      ]
    },
    {
      "cell_type": "code",
      "source": [
        "y"
      ],
      "metadata": {
        "colab": {
          "base_uri": "https://localhost:8080/"
        },
        "id": "SQ4jrQegHzzj",
        "outputId": "5a81b492-5027-44e9-eb29-dd9646688396"
      },
      "execution_count": 272,
      "outputs": [
        {
          "output_type": "execute_result",
          "data": {
            "text/plain": [
              "array([221900., 538000., 180000., ..., 402101., 400000., 325000.])"
            ]
          },
          "metadata": {},
          "execution_count": 272
        }
      ]
    },
    {
      "cell_type": "code",
      "source": [
        "mean_absolute_error(y, previsao) #em media vamos errar(pra cima ou pra baixo)"
      ],
      "metadata": {
        "colab": {
          "base_uri": "https://localhost:8080/"
        },
        "id": "eUnZAH0vH0tz",
        "outputId": "3f6a6c7c-120c-4c13-dbeb-b06c5554710d"
      },
      "execution_count": 273,
      "outputs": [
        {
          "output_type": "execute_result",
          "data": {
            "text/plain": [
              "187308.7468220667"
            ]
          },
          "metadata": {},
          "execution_count": 273
        }
      ]
    },
    {
      "cell_type": "code",
      "source": [
        "r2_score(y, previsao) #quanto mais perto de 1 melhor"
      ],
      "metadata": {
        "colab": {
          "base_uri": "https://localhost:8080/"
        },
        "id": "W0PuKLNVH6ev",
        "outputId": "9acf409c-0468-4766-fe37-30f3a93d630d"
      },
      "execution_count": 274,
      "outputs": [
        {
          "output_type": "execute_result",
          "data": {
            "text/plain": [
              "0.3741814092179204"
            ]
          },
          "metadata": {},
          "execution_count": 274
        }
      ]
    },
    {
      "cell_type": "markdown",
      "source": [
        "apesar de ter diminuido, é um bom truque mas usamos somente um atributo para fazer a previsao, o que prejudica o modelo"
      ],
      "metadata": {
        "id": "GxoIYe0mIHre"
      }
    },
    {
      "cell_type": "code",
      "source": [
        "#mas vamos tentar melhorar"
      ],
      "metadata": {
        "id": "41WkBWDoH9xA"
      },
      "execution_count": 275,
      "outputs": []
    },
    {
      "cell_type": "code",
      "source": [
        "y_novo = np.log(y)"
      ],
      "metadata": {
        "id": "wTiOjyKwIaq7"
      },
      "execution_count": 276,
      "outputs": []
    },
    {
      "cell_type": "code",
      "source": [
        "y_novo"
      ],
      "metadata": {
        "colab": {
          "base_uri": "https://localhost:8080/"
        },
        "id": "Kon4QzjcIf_B",
        "outputId": "99240c79-e129-414b-f4cc-8d25d7344836"
      },
      "execution_count": 277,
      "outputs": [
        {
          "output_type": "execute_result",
          "data": {
            "text/plain": [
              "array([12.30998211, 13.19561384, 12.10071213, ..., 12.90445858,\n",
              "       12.89921983, 12.69158046])"
            ]
          },
          "metadata": {},
          "execution_count": 277
        }
      ]
    },
    {
      "cell_type": "code",
      "source": [
        "sns.distplot(y_novo);"
      ],
      "metadata": {
        "colab": {
          "base_uri": "https://localhost:8080/",
          "height": 320
        },
        "id": "EIbGZlU-IhMj",
        "outputId": "668cbb1a-cf05-4744-e9ad-201e132f03cb"
      },
      "execution_count": 278,
      "outputs": [
        {
          "output_type": "stream",
          "name": "stderr",
          "text": [
            "/usr/local/lib/python3.7/dist-packages/seaborn/distributions.py:2619: FutureWarning: `distplot` is a deprecated function and will be removed in a future version. Please adapt your code to use either `displot` (a figure-level function with similar flexibility) or `histplot` (an axes-level function for histograms).\n",
            "  warnings.warn(msg, FutureWarning)\n"
          ]
        },
        {
          "output_type": "display_data",
          "data": {
            "image/png": "[encoded data removed]",
            "text/plain": [
              "<Figure size 432x288 with 1 Axes>"
            ]
          },
          "metadata": {
            "needs_background": "light"
          }
        }
      ]
    },
    {
      "cell_type": "markdown",
      "source": [
        "assim como o x_novo, o y_novo tem uma dstr normal agora"
      ],
      "metadata": {
        "id": "wy52Iiy9JHIm"
      }
    },
    {
      "cell_type": "code",
      "source": [
        "#recriar o modelo de novo"
      ],
      "metadata": {
        "id": "dxComJxwI6Hb"
      },
      "execution_count": 279,
      "outputs": []
    },
    {
      "cell_type": "code",
      "source": [
        "regressao = LinearRegression()"
      ],
      "metadata": {
        "id": "_8JEpN3zJNyk"
      },
      "execution_count": 280,
      "outputs": []
    },
    {
      "cell_type": "code",
      "source": [
        "regressao.fit(x_novo, y_novo)"
      ],
      "metadata": {
        "colab": {
          "base_uri": "https://localhost:8080/"
        },
        "id": "Mtaaav-BJQjX",
        "outputId": "38af1b09-a2f2-438d-c9ab-c08c440bfa0c"
      },
      "execution_count": 281,
      "outputs": [
        {
          "output_type": "execute_result",
          "data": {
            "text/plain": [
              "LinearRegression()"
            ]
          },
          "metadata": {},
          "execution_count": 281
        }
      ]
    },
    {
      "cell_type": "code",
      "source": [
        "previsoes = regressao.predict(x_novo)\n",
        "previsoes"
      ],
      "metadata": {
        "colab": {
          "base_uri": "https://localhost:8080/"
        },
        "id": "fqQ2BPDCJTOT",
        "outputId": "db657489-2205-42b0-9bc1-1649351192af"
      },
      "execution_count": 282,
      "outputs": [
        {
          "output_type": "execute_result",
          "data": {
            "text/plain": [
              "array([12.64862279, 13.29995815, 12.29142267, ..., 12.52669538,\n",
              "       12.9034105 , 12.52669538])"
            ]
          },
          "metadata": {},
          "execution_count": 282
        }
      ]
    },
    {
      "cell_type": "code",
      "source": [
        "y_novo"
      ],
      "metadata": {
        "colab": {
          "base_uri": "https://localhost:8080/"
        },
        "id": "64RKxsdpJXmA",
        "outputId": "3e255bb5-4c54-4453-d5e1-bef39b3bf7d8"
      },
      "execution_count": 283,
      "outputs": [
        {
          "output_type": "execute_result",
          "data": {
            "text/plain": [
              "array([12.30998211, 13.19561384, 12.10071213, ..., 12.90445858,\n",
              "       12.89921983, 12.69158046])"
            ]
          },
          "metadata": {},
          "execution_count": 283
        }
      ]
    },
    {
      "cell_type": "code",
      "source": [
        "mean_absolute_error(y_novo, previsoes) #em media vamos errar(pra cima ou pra baixo)"
      ],
      "metadata": {
        "colab": {
          "base_uri": "https://localhost:8080/"
        },
        "id": "BvXqNfyAJZT0",
        "outputId": "f252af59-842e-426f-c4e4-159a2adf2df6"
      },
      "execution_count": 284,
      "outputs": [
        {
          "output_type": "execute_result",
          "data": {
            "text/plain": [
              "0.314671784942507"
            ]
          },
          "metadata": {},
          "execution_count": 284
        }
      ]
    },
    {
      "cell_type": "code",
      "source": [
        "r2_score(y_novo, previsoes) #quanto mais perto de 1 melhor"
      ],
      "metadata": {
        "colab": {
          "base_uri": "https://localhost:8080/"
        },
        "id": "FKE4feVqJhWg",
        "outputId": "f220baa0-7023-465c-a8be-2e42235e2ff9"
      },
      "execution_count": 285,
      "outputs": [
        {
          "output_type": "execute_result",
          "data": {
            "text/plain": [
              "0.45550706431577015"
            ]
          },
          "metadata": {},
          "execution_count": 285
        }
      ]
    },
    {
      "cell_type": "markdown",
      "source": [
        "houve uma melhora, mas novamente, fazer previsão com apenas um atributo, não ajuda muito, é sempre melhor fazermos uma regressao com mais atributos, do que uma simples regressao linear, mas vimos uma excelente tecnica para fazer uma melhor previsão usando Regressao Linear em ML"
      ],
      "metadata": {
        "id": "M-v0qCyrJ20l"
      }
    }
  ]
}