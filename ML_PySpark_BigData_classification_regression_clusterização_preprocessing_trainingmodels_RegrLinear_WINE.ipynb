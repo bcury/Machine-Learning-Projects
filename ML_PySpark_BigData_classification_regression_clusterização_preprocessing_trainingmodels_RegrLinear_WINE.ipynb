{
  "nbformat": 4,
  "nbformat_minor": 0,
  "metadata": {
    "colab": {
      "name": "ML_PySpark_BigData_classification/regression/clusterização_preprocessing_trainingmodels_RegrLinear-WINE",
      "provenance": [],
      "collapsed_sections": [],
      "authorship_tag": "ABX9TyMYxp4w/CTXn586gem+GhZj",
      "include_colab_link": true
    },
    "kernelspec": {
      "name": "python3",
      "display_name": "Python 3"
    },
    "language_info": {
      "name": "python"
    }
  },
  "cells": [
    {
      "cell_type": "markdown",
      "metadata": {
        "id": "view-in-github",
        "colab_type": "text"
      },
      "source": [
        "<a href=\"https://colab.research.google.com/github/bcury/Machine-Learning-Projects/blob/main/ML_PySpark_BigData_classification_regression_clusteriza%C3%A7%C3%A3o_preprocessing_trainingmodels_RegrLinear_WINE.ipynb\" target=\"_parent\"><img src=\"https://colab.research.google.com/assets/colab-badge.svg\" alt=\"Open In Colab\"/></a>"
      ]
    },
    {
      "cell_type": "markdown",
      "source": [
        "**Machine Learning** com uso do **apache spark,** que é usado para grande volume de dados, crédito para Odemir Depieri Jr e Ronisson do canal Data Vikings"
      ],
      "metadata": {
        "id": "xwJ4HKKUGv7u"
      }
    },
    {
      "cell_type": "code",
      "source": [
        "pip install pyspark"
      ],
      "metadata": {
        "colab": {
          "base_uri": "https://localhost:8080/"
        },
        "id": "jtjVl4xUHBfp",
        "outputId": "b8db6d42-0b67-4389-c8af-f993d26eac21"
      },
      "execution_count": 1,
      "outputs": [
        {
          "output_type": "stream",
          "name": "stdout",
          "text": [
            "Collecting pyspark\n",
            "  Downloading pyspark-3.2.1.tar.gz (281.4 MB)\n",
            "\u001b[K     |████████████████████████████████| 281.4 MB 37 kB/s \n",
            "\u001b[?25hCollecting py4j==0.10.9.3\n",
            "  Downloading py4j-0.10.9.3-py2.py3-none-any.whl (198 kB)\n",
            "\u001b[K     |████████████████████████████████| 198 kB 36.2 MB/s \n",
            "\u001b[?25hBuilding wheels for collected packages: pyspark\n",
            "  Building wheel for pyspark (setup.py) ... \u001b[?25l\u001b[?25hdone\n",
            "  Created wheel for pyspark: filename=pyspark-3.2.1-py2.py3-none-any.whl size=281853642 sha256=2eefa272ec94b4a5cd2ed1e660fb52c2566e5c8e23bf742fb66d7296285fe7a4\n",
            "  Stored in directory: /root/.cache/pip/wheels/9f/f5/07/7cd8017084dce4e93e84e92efd1e1d5334db05f2e83bcef74f\n",
            "Successfully built pyspark\n",
            "Installing collected packages: py4j, pyspark\n",
            "Successfully installed py4j-0.10.9.3 pyspark-3.2.1\n"
          ]
        }
      ]
    },
    {
      "cell_type": "markdown",
      "source": [
        "- tratamento dos dados"
      ],
      "metadata": {
        "id": "p9bx3-CLH2fg"
      }
    },
    {
      "cell_type": "code",
      "source": [
        "from pyspark.sql import SparkSession"
      ],
      "metadata": {
        "id": "X78ybOtsHhzC"
      },
      "execution_count": 2,
      "outputs": []
    },
    {
      "cell_type": "code",
      "source": [
        "#criando a seção do spark(API)\n",
        "\n",
        "spark = SparkSession.builder.appName('DataFrame').getOrCreate()"
      ],
      "metadata": {
        "id": "rIg7oKD1IA1K"
      },
      "execution_count": 3,
      "outputs": []
    },
    {
      "cell_type": "code",
      "source": [
        "spark"
      ],
      "metadata": {
        "colab": {
          "base_uri": "https://localhost:8080/",
          "height": 219
        },
        "id": "P4buAO05IZDi",
        "outputId": "e3c48fc6-71fc-448d-e682-95a31be369ad"
      },
      "execution_count": 4,
      "outputs": [
        {
          "output_type": "execute_result",
          "data": {
            "text/html": [
              "\n",
              "            <div>\n",
              "                <p><b>SparkSession - in-memory</b></p>\n",
              "                \n",
              "        <div>\n",
              "            <p><b>SparkContext</b></p>\n",
              "\n",
              "            <p><a href=\"http://c837e24967a9:4040\">Spark UI</a></p>\n",
              "\n",
              "            <dl>\n",
              "              <dt>Version</dt>\n",
              "                <dd><code>v3.2.1</code></dd>\n",
              "              <dt>Master</dt>\n",
              "                <dd><code>local[*]</code></dd>\n",
              "              <dt>AppName</dt>\n",
              "                <dd><code>DataFrame</code></dd>\n",
              "            </dl>\n",
              "        </div>\n",
              "        \n",
              "            </div>\n",
              "        "
            ],
            "text/plain": [
              "<pyspark.sql.session.SparkSession at 0x7f80a78461d0>"
            ]
          },
          "metadata": {},
          "execution_count": 4
        }
      ]
    },
    {
      "cell_type": "code",
      "source": [
        "base_spark = spark.read.csv('wine.csv', header=True, inferSchema=True, sep=',')"
      ],
      "metadata": {
        "id": "Qgrz135RIcxj"
      },
      "execution_count": 7,
      "outputs": []
    },
    {
      "cell_type": "code",
      "source": [
        "base_spark.printSchema()"
      ],
      "metadata": {
        "colab": {
          "base_uri": "https://localhost:8080/"
        },
        "id": "a4idmKZMLN0S",
        "outputId": "c4d3b6f3-09fd-4c89-951d-d744567976a3"
      },
      "execution_count": 8,
      "outputs": [
        {
          "output_type": "stream",
          "name": "stdout",
          "text": [
            "root\n",
            " |-- Wine: integer (nullable = true)\n",
            " |-- Alcohol: double (nullable = true)\n",
            " |-- Malic.acid: double (nullable = true)\n",
            " |-- Ash: double (nullable = true)\n",
            " |-- Acl: double (nullable = true)\n",
            " |-- Mg: integer (nullable = true)\n",
            " |-- Phenols: double (nullable = true)\n",
            " |-- Flavanoids: double (nullable = true)\n",
            " |-- Nonflavanoid.phenols: double (nullable = true)\n",
            " |-- Proanth: double (nullable = true)\n",
            " |-- Color.int: double (nullable = true)\n",
            " |-- Hue: double (nullable = true)\n",
            " |-- OD: double (nullable = true)\n",
            " |-- Proline: integer (nullable = true)\n",
            "\n"
          ]
        }
      ]
    },
    {
      "cell_type": "code",
      "source": [
        "type(base_spark)"
      ],
      "metadata": {
        "colab": {
          "base_uri": "https://localhost:8080/"
        },
        "id": "zcctScFvLRtJ",
        "outputId": "70b3c47a-f4f5-41fe-ab6a-0acc7306638a"
      },
      "execution_count": 9,
      "outputs": [
        {
          "output_type": "execute_result",
          "data": {
            "text/plain": [
              "pyspark.sql.dataframe.DataFrame"
            ]
          },
          "metadata": {},
          "execution_count": 9
        }
      ]
    },
    {
      "cell_type": "code",
      "source": [
        "base_spark.head(5)"
      ],
      "metadata": {
        "colab": {
          "base_uri": "https://localhost:8080/"
        },
        "id": "hCnv9zA_Lcmk",
        "outputId": "b48c6010-fbe9-48eb-f222-c98386dcd926"
      },
      "execution_count": 11,
      "outputs": [
        {
          "output_type": "execute_result",
          "data": {
            "text/plain": [
              "[Row(Wine=1, Alcohol=14.23, Malic.acid=1.71, Ash=2.43, Acl=15.6, Mg=127, Phenols=2.8, Flavanoids=3.06, Nonflavanoid.phenols=0.28, Proanth=2.29, Color.int=5.64, Hue=1.04, OD=3.92, Proline=1065),\n",
              " Row(Wine=1, Alcohol=13.2, Malic.acid=1.78, Ash=2.14, Acl=11.2, Mg=100, Phenols=2.65, Flavanoids=2.76, Nonflavanoid.phenols=0.26, Proanth=1.28, Color.int=4.38, Hue=1.05, OD=3.4, Proline=1050),\n",
              " Row(Wine=1, Alcohol=13.16, Malic.acid=2.36, Ash=2.67, Acl=18.6, Mg=101, Phenols=2.8, Flavanoids=3.24, Nonflavanoid.phenols=0.3, Proanth=2.81, Color.int=5.68, Hue=1.03, OD=3.17, Proline=1185),\n",
              " Row(Wine=1, Alcohol=14.37, Malic.acid=1.95, Ash=2.5, Acl=16.8, Mg=113, Phenols=3.85, Flavanoids=3.49, Nonflavanoid.phenols=0.24, Proanth=2.18, Color.int=7.8, Hue=0.86, OD=3.45, Proline=1480),\n",
              " Row(Wine=1, Alcohol=13.24, Malic.acid=2.59, Ash=2.87, Acl=21.0, Mg=118, Phenols=2.8, Flavanoids=2.69, Nonflavanoid.phenols=0.39, Proanth=1.82, Color.int=4.32, Hue=1.04, OD=2.93, Proline=735)]"
            ]
          },
          "metadata": {},
          "execution_count": 11
        }
      ]
    },
    {
      "cell_type": "code",
      "source": [
        "base_spark.show()"
      ],
      "metadata": {
        "colab": {
          "base_uri": "https://localhost:8080/"
        },
        "id": "5QLOQuKmLjVy",
        "outputId": "99b213bc-6ac2-4e01-ae7f-51c3b1b415b2"
      },
      "execution_count": 12,
      "outputs": [
        {
          "output_type": "stream",
          "name": "stdout",
          "text": [
            "+----+-------+----------+----+----+---+-------+----------+--------------------+-------+---------+----+----+-------+\n",
            "|Wine|Alcohol|Malic.acid| Ash| Acl| Mg|Phenols|Flavanoids|Nonflavanoid.phenols|Proanth|Color.int| Hue|  OD|Proline|\n",
            "+----+-------+----------+----+----+---+-------+----------+--------------------+-------+---------+----+----+-------+\n",
            "|   1|  14.23|      1.71|2.43|15.6|127|    2.8|      3.06|                0.28|   2.29|     5.64|1.04|3.92|   1065|\n",
            "|   1|   13.2|      1.78|2.14|11.2|100|   2.65|      2.76|                0.26|   1.28|     4.38|1.05| 3.4|   1050|\n",
            "|   1|  13.16|      2.36|2.67|18.6|101|    2.8|      3.24|                 0.3|   2.81|     5.68|1.03|3.17|   1185|\n",
            "|   1|  14.37|      1.95| 2.5|16.8|113|   3.85|      3.49|                0.24|   2.18|      7.8|0.86|3.45|   1480|\n",
            "|   1|  13.24|      2.59|2.87|21.0|118|    2.8|      2.69|                0.39|   1.82|     4.32|1.04|2.93|    735|\n",
            "|   1|   14.2|      1.76|2.45|15.2|112|   3.27|      3.39|                0.34|   1.97|     6.75|1.05|2.85|   1450|\n",
            "|   1|  14.39|      1.87|2.45|14.6| 96|    2.5|      2.52|                 0.3|   1.98|     5.25|1.02|3.58|   1290|\n",
            "|   1|  14.06|      2.15|2.61|17.6|121|    2.6|      2.51|                0.31|   1.25|     5.05|1.06|3.58|   1295|\n",
            "|   1|  14.83|      1.64|2.17|14.0| 97|    2.8|      2.98|                0.29|   1.98|      5.2|1.08|2.85|   1045|\n",
            "|   1|  13.86|      1.35|2.27|16.0| 98|   2.98|      3.15|                0.22|   1.85|     7.22|1.01|3.55|   1045|\n",
            "|   1|   14.1|      2.16| 2.3|18.0|105|   2.95|      3.32|                0.22|   2.38|     5.75|1.25|3.17|   1510|\n",
            "|   1|  14.12|      1.48|2.32|16.8| 95|    2.2|      2.43|                0.26|   1.57|      5.0|1.17|2.82|   1280|\n",
            "|   1|  13.75|      1.73|2.41|16.0| 89|    2.6|      2.76|                0.29|   1.81|      5.6|1.15| 2.9|   1320|\n",
            "|   1|  14.75|      1.73|2.39|11.4| 91|    3.1|      3.69|                0.43|   2.81|      5.4|1.25|2.73|   1150|\n",
            "|   1|  14.38|      1.87|2.38|12.0|102|    3.3|      3.64|                0.29|   2.96|      7.5| 1.2| 3.0|   1547|\n",
            "|   1|  13.63|      1.81| 2.7|17.2|112|   2.85|      2.91|                 0.3|   1.46|      7.3|1.28|2.88|   1310|\n",
            "|   1|   14.3|      1.92|2.72|20.0|120|    2.8|      3.14|                0.33|   1.97|      6.2|1.07|2.65|   1280|\n",
            "|   1|  13.83|      1.57|2.62|20.0|115|   2.95|       3.4|                 0.4|   1.72|      6.6|1.13|2.57|   1130|\n",
            "|   1|  14.19|      1.59|2.48|16.5|108|    3.3|      3.93|                0.32|   1.86|      8.7|1.23|2.82|   1680|\n",
            "|   1|  13.64|       3.1|2.56|15.2|116|    2.7|      3.03|                0.17|   1.66|      5.1|0.96|3.36|    845|\n",
            "+----+-------+----------+----+----+---+-------+----------+--------------------+-------+---------+----+----+-------+\n",
            "only showing top 20 rows\n",
            "\n"
          ]
        }
      ]
    },
    {
      "cell_type": "code",
      "source": [
        "#selecionando algumas colunas\n",
        "\n",
        "base_spark.select(['wine', 'Alcohol']).show()"
      ],
      "metadata": {
        "colab": {
          "base_uri": "https://localhost:8080/"
        },
        "id": "7doR7w8mLrgE",
        "outputId": "bfb04727-1166-44d3-a02c-5d4ac885c135"
      },
      "execution_count": 14,
      "outputs": [
        {
          "output_type": "stream",
          "name": "stdout",
          "text": [
            "+----+-------+\n",
            "|wine|Alcohol|\n",
            "+----+-------+\n",
            "|   1|  14.23|\n",
            "|   1|   13.2|\n",
            "|   1|  13.16|\n",
            "|   1|  14.37|\n",
            "|   1|  13.24|\n",
            "|   1|   14.2|\n",
            "|   1|  14.39|\n",
            "|   1|  14.06|\n",
            "|   1|  14.83|\n",
            "|   1|  13.86|\n",
            "|   1|   14.1|\n",
            "|   1|  14.12|\n",
            "|   1|  13.75|\n",
            "|   1|  14.75|\n",
            "|   1|  14.38|\n",
            "|   1|  13.63|\n",
            "|   1|   14.3|\n",
            "|   1|  13.83|\n",
            "|   1|  14.19|\n",
            "|   1|  13.64|\n",
            "+----+-------+\n",
            "only showing top 20 rows\n",
            "\n"
          ]
        }
      ]
    },
    {
      "cell_type": "code",
      "source": [
        "base_spark.dtypes"
      ],
      "metadata": {
        "colab": {
          "base_uri": "https://localhost:8080/"
        },
        "id": "spluvMuGMHsR",
        "outputId": "d55ed21d-1c6c-42cd-f201-1813c6edfbad"
      },
      "execution_count": 16,
      "outputs": [
        {
          "output_type": "execute_result",
          "data": {
            "text/plain": [
              "[('Wine', 'int'),\n",
              " ('Alcohol', 'double'),\n",
              " ('Malic.acid', 'double'),\n",
              " ('Ash', 'double'),\n",
              " ('Acl', 'double'),\n",
              " ('Mg', 'int'),\n",
              " ('Phenols', 'double'),\n",
              " ('Flavanoids', 'double'),\n",
              " ('Nonflavanoid.phenols', 'double'),\n",
              " ('Proanth', 'double'),\n",
              " ('Color.int', 'double'),\n",
              " ('Hue', 'double'),\n",
              " ('OD', 'double'),\n",
              " ('Proline', 'int')]"
            ]
          },
          "metadata": {},
          "execution_count": 16
        }
      ]
    },
    {
      "cell_type": "code",
      "source": [
        "# dados estatisticos\n",
        "\n",
        "base_spark.describe().show()"
      ],
      "metadata": {
        "colab": {
          "base_uri": "https://localhost:8080/"
        },
        "id": "H_DKFl2BMSQ2",
        "outputId": "9fb33de8-30cc-4014-8184-f27915061327"
      },
      "execution_count": 17,
      "outputs": [
        {
          "output_type": "stream",
          "name": "stdout",
          "text": [
            "+-------+------------------+------------------+------------------+------------------+-----------------+------------------+------------------+------------------+--------------------+------------------+-----------------+-------------------+------------------+-----------------+\n",
            "|summary|              Wine|           Alcohol|        Malic.acid|               Ash|              Acl|                Mg|           Phenols|        Flavanoids|Nonflavanoid.phenols|           Proanth|        Color.int|                Hue|                OD|          Proline|\n",
            "+-------+------------------+------------------+------------------+------------------+-----------------+------------------+------------------+------------------+--------------------+------------------+-----------------+-------------------+------------------+-----------------+\n",
            "|  count|               178|               178|               178|               178|              178|               178|               178|               178|                 178|               178|              178|                178|               178|              178|\n",
            "|   mean|1.9382022471910112|13.000617977528083| 2.336348314606741|2.3665168539325854|19.49494382022472| 99.74157303370787| 2.295112359550562|2.0292696629213474| 0.36185393258426973|1.5908988764044953|5.058089882022473| 0.9574494382022468|2.6116853932584254|746.8932584269663|\n",
            "| stddev|0.7750349899850563| 0.811826538005858|1.1171460976144625|0.2743440090608148|3.339563767173504|14.282483515295652|0.6258510488339892|0.9988586850169471| 0.12445334029667941|0.5723588626747612|2.318285871822413|0.22857156582982324|0.7099904287650503|314.9074742768492|\n",
            "|    min|                 1|             11.03|              0.74|              1.36|             10.6|                70|              0.98|              0.34|                0.13|              0.41|             1.28|               0.48|              1.27|              278|\n",
            "|    max|                 3|             14.83|               5.8|              3.23|             30.0|               162|              3.88|              5.08|                0.66|              3.58|             13.0|               1.71|               4.0|             1680|\n",
            "+-------+------------------+------------------+------------------+------------------+-----------------+------------------+------------------+------------------+--------------------+------------------+-----------------+-------------------+------------------+-----------------+\n",
            "\n"
          ]
        }
      ]
    },
    {
      "cell_type": "code",
      "source": [
        "#adicionando uma nova coluna\n",
        "\n",
        "base_spark = base_spark.withColumn('nem column', base_spark['wine'] + 0)"
      ],
      "metadata": {
        "id": "jTJYMTtjMc5k"
      },
      "execution_count": 20,
      "outputs": []
    },
    {
      "cell_type": "code",
      "source": [
        "base_spark.head(5)"
      ],
      "metadata": {
        "colab": {
          "base_uri": "https://localhost:8080/"
        },
        "id": "4pfKMwCzM6w5",
        "outputId": "05f38b02-0f77-4d57-f9ea-ba6e2b5b1256"
      },
      "execution_count": 21,
      "outputs": [
        {
          "output_type": "execute_result",
          "data": {
            "text/plain": [
              "[Row(Wine=1, Alcohol=14.23, Malic.acid=1.71, Ash=2.43, Acl=15.6, Mg=127, Phenols=2.8, Flavanoids=3.06, Nonflavanoid.phenols=0.28, Proanth=2.29, Color.int=5.64, Hue=1.04, OD=3.92, Proline=1065, nem column=1),\n",
              " Row(Wine=1, Alcohol=13.2, Malic.acid=1.78, Ash=2.14, Acl=11.2, Mg=100, Phenols=2.65, Flavanoids=2.76, Nonflavanoid.phenols=0.26, Proanth=1.28, Color.int=4.38, Hue=1.05, OD=3.4, Proline=1050, nem column=1),\n",
              " Row(Wine=1, Alcohol=13.16, Malic.acid=2.36, Ash=2.67, Acl=18.6, Mg=101, Phenols=2.8, Flavanoids=3.24, Nonflavanoid.phenols=0.3, Proanth=2.81, Color.int=5.68, Hue=1.03, OD=3.17, Proline=1185, nem column=1),\n",
              " Row(Wine=1, Alcohol=14.37, Malic.acid=1.95, Ash=2.5, Acl=16.8, Mg=113, Phenols=3.85, Flavanoids=3.49, Nonflavanoid.phenols=0.24, Proanth=2.18, Color.int=7.8, Hue=0.86, OD=3.45, Proline=1480, nem column=1),\n",
              " Row(Wine=1, Alcohol=13.24, Malic.acid=2.59, Ash=2.87, Acl=21.0, Mg=118, Phenols=2.8, Flavanoids=2.69, Nonflavanoid.phenols=0.39, Proanth=1.82, Color.int=4.32, Hue=1.04, OD=2.93, Proline=735, nem column=1)]"
            ]
          },
          "metadata": {},
          "execution_count": 21
        }
      ]
    },
    {
      "cell_type": "code",
      "source": [
        "#excluindo a coluna\n",
        "\n",
        "base_spark = base_spark.drop('new column')"
      ],
      "metadata": {
        "id": "uu1Os6x4NMJt"
      },
      "execution_count": 25,
      "outputs": []
    },
    {
      "cell_type": "code",
      "source": [
        "#renomeando uma coluna\n",
        "\n",
        "base_spark.withColumnRenamed('wine', 'vinho').show()"
      ],
      "metadata": {
        "colab": {
          "base_uri": "https://localhost:8080/"
        },
        "id": "KnrKbibPNYZG",
        "outputId": "7b408bab-2d26-4909-8487-d80f1479e45e"
      },
      "execution_count": 26,
      "outputs": [
        {
          "output_type": "stream",
          "name": "stdout",
          "text": [
            "+-----+-------+----------+----+----+---+-------+----------+--------------------+-------+---------+----+----+-------+----------+\n",
            "|vinho|Alcohol|Malic.acid| Ash| Acl| Mg|Phenols|Flavanoids|Nonflavanoid.phenols|Proanth|Color.int| Hue|  OD|Proline|nem column|\n",
            "+-----+-------+----------+----+----+---+-------+----------+--------------------+-------+---------+----+----+-------+----------+\n",
            "|    1|  14.23|      1.71|2.43|15.6|127|    2.8|      3.06|                0.28|   2.29|     5.64|1.04|3.92|   1065|         1|\n",
            "|    1|   13.2|      1.78|2.14|11.2|100|   2.65|      2.76|                0.26|   1.28|     4.38|1.05| 3.4|   1050|         1|\n",
            "|    1|  13.16|      2.36|2.67|18.6|101|    2.8|      3.24|                 0.3|   2.81|     5.68|1.03|3.17|   1185|         1|\n",
            "|    1|  14.37|      1.95| 2.5|16.8|113|   3.85|      3.49|                0.24|   2.18|      7.8|0.86|3.45|   1480|         1|\n",
            "|    1|  13.24|      2.59|2.87|21.0|118|    2.8|      2.69|                0.39|   1.82|     4.32|1.04|2.93|    735|         1|\n",
            "|    1|   14.2|      1.76|2.45|15.2|112|   3.27|      3.39|                0.34|   1.97|     6.75|1.05|2.85|   1450|         1|\n",
            "|    1|  14.39|      1.87|2.45|14.6| 96|    2.5|      2.52|                 0.3|   1.98|     5.25|1.02|3.58|   1290|         1|\n",
            "|    1|  14.06|      2.15|2.61|17.6|121|    2.6|      2.51|                0.31|   1.25|     5.05|1.06|3.58|   1295|         1|\n",
            "|    1|  14.83|      1.64|2.17|14.0| 97|    2.8|      2.98|                0.29|   1.98|      5.2|1.08|2.85|   1045|         1|\n",
            "|    1|  13.86|      1.35|2.27|16.0| 98|   2.98|      3.15|                0.22|   1.85|     7.22|1.01|3.55|   1045|         1|\n",
            "|    1|   14.1|      2.16| 2.3|18.0|105|   2.95|      3.32|                0.22|   2.38|     5.75|1.25|3.17|   1510|         1|\n",
            "|    1|  14.12|      1.48|2.32|16.8| 95|    2.2|      2.43|                0.26|   1.57|      5.0|1.17|2.82|   1280|         1|\n",
            "|    1|  13.75|      1.73|2.41|16.0| 89|    2.6|      2.76|                0.29|   1.81|      5.6|1.15| 2.9|   1320|         1|\n",
            "|    1|  14.75|      1.73|2.39|11.4| 91|    3.1|      3.69|                0.43|   2.81|      5.4|1.25|2.73|   1150|         1|\n",
            "|    1|  14.38|      1.87|2.38|12.0|102|    3.3|      3.64|                0.29|   2.96|      7.5| 1.2| 3.0|   1547|         1|\n",
            "|    1|  13.63|      1.81| 2.7|17.2|112|   2.85|      2.91|                 0.3|   1.46|      7.3|1.28|2.88|   1310|         1|\n",
            "|    1|   14.3|      1.92|2.72|20.0|120|    2.8|      3.14|                0.33|   1.97|      6.2|1.07|2.65|   1280|         1|\n",
            "|    1|  13.83|      1.57|2.62|20.0|115|   2.95|       3.4|                 0.4|   1.72|      6.6|1.13|2.57|   1130|         1|\n",
            "|    1|  14.19|      1.59|2.48|16.5|108|    3.3|      3.93|                0.32|   1.86|      8.7|1.23|2.82|   1680|         1|\n",
            "|    1|  13.64|       3.1|2.56|15.2|116|    2.7|      3.03|                0.17|   1.66|      5.1|0.96|3.36|    845|         1|\n",
            "+-----+-------+----------+----+----+---+-------+----------+--------------------+-------+---------+----+----+-------+----------+\n",
            "only showing top 20 rows\n",
            "\n"
          ]
        }
      ]
    },
    {
      "cell_type": "code",
      "source": [
        "# removendo valores nulos\n",
        "\n",
        "base_spark.na.drop().show()"
      ],
      "metadata": {
        "id": "UUf3Dc3RNs-J"
      },
      "execution_count": null,
      "outputs": []
    },
    {
      "cell_type": "code",
      "source": [
        "# eliminar linhas nulas de uma coluna especifica\n",
        "\n",
        "base_spark.na.drop(how='any', subset=['Alcohol']).show()"
      ],
      "metadata": {
        "colab": {
          "base_uri": "https://localhost:8080/"
        },
        "id": "07GNEr1LOBR0",
        "outputId": "a3a2bbf5-2de3-4949-9695-a09130455783"
      },
      "execution_count": 27,
      "outputs": [
        {
          "output_type": "stream",
          "name": "stdout",
          "text": [
            "+----+-------+----------+----+----+---+-------+----------+--------------------+-------+---------+----+----+-------+----------+\n",
            "|Wine|Alcohol|Malic.acid| Ash| Acl| Mg|Phenols|Flavanoids|Nonflavanoid.phenols|Proanth|Color.int| Hue|  OD|Proline|nem column|\n",
            "+----+-------+----------+----+----+---+-------+----------+--------------------+-------+---------+----+----+-------+----------+\n",
            "|   1|  14.23|      1.71|2.43|15.6|127|    2.8|      3.06|                0.28|   2.29|     5.64|1.04|3.92|   1065|         1|\n",
            "|   1|   13.2|      1.78|2.14|11.2|100|   2.65|      2.76|                0.26|   1.28|     4.38|1.05| 3.4|   1050|         1|\n",
            "|   1|  13.16|      2.36|2.67|18.6|101|    2.8|      3.24|                 0.3|   2.81|     5.68|1.03|3.17|   1185|         1|\n",
            "|   1|  14.37|      1.95| 2.5|16.8|113|   3.85|      3.49|                0.24|   2.18|      7.8|0.86|3.45|   1480|         1|\n",
            "|   1|  13.24|      2.59|2.87|21.0|118|    2.8|      2.69|                0.39|   1.82|     4.32|1.04|2.93|    735|         1|\n",
            "|   1|   14.2|      1.76|2.45|15.2|112|   3.27|      3.39|                0.34|   1.97|     6.75|1.05|2.85|   1450|         1|\n",
            "|   1|  14.39|      1.87|2.45|14.6| 96|    2.5|      2.52|                 0.3|   1.98|     5.25|1.02|3.58|   1290|         1|\n",
            "|   1|  14.06|      2.15|2.61|17.6|121|    2.6|      2.51|                0.31|   1.25|     5.05|1.06|3.58|   1295|         1|\n",
            "|   1|  14.83|      1.64|2.17|14.0| 97|    2.8|      2.98|                0.29|   1.98|      5.2|1.08|2.85|   1045|         1|\n",
            "|   1|  13.86|      1.35|2.27|16.0| 98|   2.98|      3.15|                0.22|   1.85|     7.22|1.01|3.55|   1045|         1|\n",
            "|   1|   14.1|      2.16| 2.3|18.0|105|   2.95|      3.32|                0.22|   2.38|     5.75|1.25|3.17|   1510|         1|\n",
            "|   1|  14.12|      1.48|2.32|16.8| 95|    2.2|      2.43|                0.26|   1.57|      5.0|1.17|2.82|   1280|         1|\n",
            "|   1|  13.75|      1.73|2.41|16.0| 89|    2.6|      2.76|                0.29|   1.81|      5.6|1.15| 2.9|   1320|         1|\n",
            "|   1|  14.75|      1.73|2.39|11.4| 91|    3.1|      3.69|                0.43|   2.81|      5.4|1.25|2.73|   1150|         1|\n",
            "|   1|  14.38|      1.87|2.38|12.0|102|    3.3|      3.64|                0.29|   2.96|      7.5| 1.2| 3.0|   1547|         1|\n",
            "|   1|  13.63|      1.81| 2.7|17.2|112|   2.85|      2.91|                 0.3|   1.46|      7.3|1.28|2.88|   1310|         1|\n",
            "|   1|   14.3|      1.92|2.72|20.0|120|    2.8|      3.14|                0.33|   1.97|      6.2|1.07|2.65|   1280|         1|\n",
            "|   1|  13.83|      1.57|2.62|20.0|115|   2.95|       3.4|                 0.4|   1.72|      6.6|1.13|2.57|   1130|         1|\n",
            "|   1|  14.19|      1.59|2.48|16.5|108|    3.3|      3.93|                0.32|   1.86|      8.7|1.23|2.82|   1680|         1|\n",
            "|   1|  13.64|       3.1|2.56|15.2|116|    2.7|      3.03|                0.17|   1.66|      5.1|0.96|3.36|    845|         1|\n",
            "+----+-------+----------+----+----+---+-------+----------+--------------------+-------+---------+----+----+-------+----------+\n",
            "only showing top 20 rows\n",
            "\n"
          ]
        }
      ]
    },
    {
      "cell_type": "code",
      "source": [
        "# preencher os valores ausentes com 0 ou com qualquer outra coisa\n",
        "\n",
        "base_spark.na.fill('0',['wine','Alcohol']).show()"
      ],
      "metadata": {
        "colab": {
          "base_uri": "https://localhost:8080/"
        },
        "id": "ale_6bi6O0Qi",
        "outputId": "6b7ff5d9-6944-4aa2-8021-805d7c43f5dd"
      },
      "execution_count": 30,
      "outputs": [
        {
          "output_type": "stream",
          "name": "stdout",
          "text": [
            "+----+-------+----------+----+----+---+-------+----------+--------------------+-------+---------+----+----+-------+----------+\n",
            "|Wine|Alcohol|Malic.acid| Ash| Acl| Mg|Phenols|Flavanoids|Nonflavanoid.phenols|Proanth|Color.int| Hue|  OD|Proline|nem column|\n",
            "+----+-------+----------+----+----+---+-------+----------+--------------------+-------+---------+----+----+-------+----------+\n",
            "|   1|  14.23|      1.71|2.43|15.6|127|    2.8|      3.06|                0.28|   2.29|     5.64|1.04|3.92|   1065|         1|\n",
            "|   1|   13.2|      1.78|2.14|11.2|100|   2.65|      2.76|                0.26|   1.28|     4.38|1.05| 3.4|   1050|         1|\n",
            "|   1|  13.16|      2.36|2.67|18.6|101|    2.8|      3.24|                 0.3|   2.81|     5.68|1.03|3.17|   1185|         1|\n",
            "|   1|  14.37|      1.95| 2.5|16.8|113|   3.85|      3.49|                0.24|   2.18|      7.8|0.86|3.45|   1480|         1|\n",
            "|   1|  13.24|      2.59|2.87|21.0|118|    2.8|      2.69|                0.39|   1.82|     4.32|1.04|2.93|    735|         1|\n",
            "|   1|   14.2|      1.76|2.45|15.2|112|   3.27|      3.39|                0.34|   1.97|     6.75|1.05|2.85|   1450|         1|\n",
            "|   1|  14.39|      1.87|2.45|14.6| 96|    2.5|      2.52|                 0.3|   1.98|     5.25|1.02|3.58|   1290|         1|\n",
            "|   1|  14.06|      2.15|2.61|17.6|121|    2.6|      2.51|                0.31|   1.25|     5.05|1.06|3.58|   1295|         1|\n",
            "|   1|  14.83|      1.64|2.17|14.0| 97|    2.8|      2.98|                0.29|   1.98|      5.2|1.08|2.85|   1045|         1|\n",
            "|   1|  13.86|      1.35|2.27|16.0| 98|   2.98|      3.15|                0.22|   1.85|     7.22|1.01|3.55|   1045|         1|\n",
            "|   1|   14.1|      2.16| 2.3|18.0|105|   2.95|      3.32|                0.22|   2.38|     5.75|1.25|3.17|   1510|         1|\n",
            "|   1|  14.12|      1.48|2.32|16.8| 95|    2.2|      2.43|                0.26|   1.57|      5.0|1.17|2.82|   1280|         1|\n",
            "|   1|  13.75|      1.73|2.41|16.0| 89|    2.6|      2.76|                0.29|   1.81|      5.6|1.15| 2.9|   1320|         1|\n",
            "|   1|  14.75|      1.73|2.39|11.4| 91|    3.1|      3.69|                0.43|   2.81|      5.4|1.25|2.73|   1150|         1|\n",
            "|   1|  14.38|      1.87|2.38|12.0|102|    3.3|      3.64|                0.29|   2.96|      7.5| 1.2| 3.0|   1547|         1|\n",
            "|   1|  13.63|      1.81| 2.7|17.2|112|   2.85|      2.91|                 0.3|   1.46|      7.3|1.28|2.88|   1310|         1|\n",
            "|   1|   14.3|      1.92|2.72|20.0|120|    2.8|      3.14|                0.33|   1.97|      6.2|1.07|2.65|   1280|         1|\n",
            "|   1|  13.83|      1.57|2.62|20.0|115|   2.95|       3.4|                 0.4|   1.72|      6.6|1.13|2.57|   1130|         1|\n",
            "|   1|  14.19|      1.59|2.48|16.5|108|    3.3|      3.93|                0.32|   1.86|      8.7|1.23|2.82|   1680|         1|\n",
            "|   1|  13.64|       3.1|2.56|15.2|116|    2.7|      3.03|                0.17|   1.66|      5.1|0.96|3.36|    845|         1|\n",
            "+----+-------+----------+----+----+---+-------+----------+--------------------+-------+---------+----+----+-------+----------+\n",
            "only showing top 20 rows\n",
            "\n"
          ]
        }
      ]
    },
    {
      "cell_type": "code",
      "source": [
        "# criar função para depois subst os valores faltantes pela media, moda ou mediana\n",
        "\n",
        "from pyspark.ml.feature import Imputer"
      ],
      "metadata": {
        "id": "H8WeRh9pPQY7"
      },
      "execution_count": 31,
      "outputs": []
    },
    {
      "cell_type": "code",
      "source": [
        "inserir = Imputer(inputCols=['Wine','Alcohol'],\n",
        "                  outputCols=['{}_inputed'.format(Loop) for Loop in ['Wine','Alcohol']]).setStrategy('mean')"
      ],
      "metadata": {
        "id": "kqDcJ6_XP2kL"
      },
      "execution_count": 53,
      "outputs": []
    },
    {
      "cell_type": "code",
      "source": [
        "inserir.fit(base_spark).transform(base_spark).show()"
      ],
      "metadata": {
        "colab": {
          "base_uri": "https://localhost:8080/"
        },
        "id": "KxRan_uCRRfQ",
        "outputId": "afc511a1-31b5-41b0-84ec-06de29e8c30c"
      },
      "execution_count": 54,
      "outputs": [
        {
          "output_type": "stream",
          "name": "stdout",
          "text": [
            "+----+-------+----------+----+----+---+-------+----------+--------------------+-------+---------+----+----+-------+----------+------------+---------------+\n",
            "|Wine|Alcohol|Malic.acid| Ash| Acl| Mg|Phenols|Flavanoids|Nonflavanoid.phenols|Proanth|Color.int| Hue|  OD|Proline|nem column|Wine_inputed|Alcohol_inputed|\n",
            "+----+-------+----------+----+----+---+-------+----------+--------------------+-------+---------+----+----+-------+----------+------------+---------------+\n",
            "|   1|  14.23|      1.71|2.43|15.6|127|    2.8|      3.06|                0.28|   2.29|     5.64|1.04|3.92|   1065|         1|           1|          14.23|\n",
            "|   1|   13.2|      1.78|2.14|11.2|100|   2.65|      2.76|                0.26|   1.28|     4.38|1.05| 3.4|   1050|         1|           1|           13.2|\n",
            "|   1|  13.16|      2.36|2.67|18.6|101|    2.8|      3.24|                 0.3|   2.81|     5.68|1.03|3.17|   1185|         1|           1|          13.16|\n",
            "|   1|  14.37|      1.95| 2.5|16.8|113|   3.85|      3.49|                0.24|   2.18|      7.8|0.86|3.45|   1480|         1|           1|          14.37|\n",
            "|   1|  13.24|      2.59|2.87|21.0|118|    2.8|      2.69|                0.39|   1.82|     4.32|1.04|2.93|    735|         1|           1|          13.24|\n",
            "|   1|   14.2|      1.76|2.45|15.2|112|   3.27|      3.39|                0.34|   1.97|     6.75|1.05|2.85|   1450|         1|           1|           14.2|\n",
            "|   1|  14.39|      1.87|2.45|14.6| 96|    2.5|      2.52|                 0.3|   1.98|     5.25|1.02|3.58|   1290|         1|           1|          14.39|\n",
            "|   1|  14.06|      2.15|2.61|17.6|121|    2.6|      2.51|                0.31|   1.25|     5.05|1.06|3.58|   1295|         1|           1|          14.06|\n",
            "|   1|  14.83|      1.64|2.17|14.0| 97|    2.8|      2.98|                0.29|   1.98|      5.2|1.08|2.85|   1045|         1|           1|          14.83|\n",
            "|   1|  13.86|      1.35|2.27|16.0| 98|   2.98|      3.15|                0.22|   1.85|     7.22|1.01|3.55|   1045|         1|           1|          13.86|\n",
            "|   1|   14.1|      2.16| 2.3|18.0|105|   2.95|      3.32|                0.22|   2.38|     5.75|1.25|3.17|   1510|         1|           1|           14.1|\n",
            "|   1|  14.12|      1.48|2.32|16.8| 95|    2.2|      2.43|                0.26|   1.57|      5.0|1.17|2.82|   1280|         1|           1|          14.12|\n",
            "|   1|  13.75|      1.73|2.41|16.0| 89|    2.6|      2.76|                0.29|   1.81|      5.6|1.15| 2.9|   1320|         1|           1|          13.75|\n",
            "|   1|  14.75|      1.73|2.39|11.4| 91|    3.1|      3.69|                0.43|   2.81|      5.4|1.25|2.73|   1150|         1|           1|          14.75|\n",
            "|   1|  14.38|      1.87|2.38|12.0|102|    3.3|      3.64|                0.29|   2.96|      7.5| 1.2| 3.0|   1547|         1|           1|          14.38|\n",
            "|   1|  13.63|      1.81| 2.7|17.2|112|   2.85|      2.91|                 0.3|   1.46|      7.3|1.28|2.88|   1310|         1|           1|          13.63|\n",
            "|   1|   14.3|      1.92|2.72|20.0|120|    2.8|      3.14|                0.33|   1.97|      6.2|1.07|2.65|   1280|         1|           1|           14.3|\n",
            "|   1|  13.83|      1.57|2.62|20.0|115|   2.95|       3.4|                 0.4|   1.72|      6.6|1.13|2.57|   1130|         1|           1|          13.83|\n",
            "|   1|  14.19|      1.59|2.48|16.5|108|    3.3|      3.93|                0.32|   1.86|      8.7|1.23|2.82|   1680|         1|           1|          14.19|\n",
            "|   1|  13.64|       3.1|2.56|15.2|116|    2.7|      3.03|                0.17|   1.66|      5.1|0.96|3.36|    845|         1|           1|          13.64|\n",
            "+----+-------+----------+----+----+---+-------+----------+--------------------+-------+---------+----+----+-------+----------+------------+---------------+\n",
            "only showing top 20 rows\n",
            "\n"
          ]
        }
      ]
    },
    {
      "cell_type": "code",
      "source": [
        "#filtrando um valor\n",
        "\n",
        "base_spark.filter('Alcohol <= 14').show()"
      ],
      "metadata": {
        "colab": {
          "base_uri": "https://localhost:8080/"
        },
        "id": "SS73-J48Rb5A",
        "outputId": "48989311-f6b0-4848-cf4f-c7dad3504075"
      },
      "execution_count": 55,
      "outputs": [
        {
          "output_type": "stream",
          "name": "stdout",
          "text": [
            "+----+-------+----------+----+----+---+-------+----------+--------------------+-------+---------+----+----+-------+----------+\n",
            "|Wine|Alcohol|Malic.acid| Ash| Acl| Mg|Phenols|Flavanoids|Nonflavanoid.phenols|Proanth|Color.int| Hue|  OD|Proline|nem column|\n",
            "+----+-------+----------+----+----+---+-------+----------+--------------------+-------+---------+----+----+-------+----------+\n",
            "|   1|   13.2|      1.78|2.14|11.2|100|   2.65|      2.76|                0.26|   1.28|     4.38|1.05| 3.4|   1050|         1|\n",
            "|   1|  13.16|      2.36|2.67|18.6|101|    2.8|      3.24|                 0.3|   2.81|     5.68|1.03|3.17|   1185|         1|\n",
            "|   1|  13.24|      2.59|2.87|21.0|118|    2.8|      2.69|                0.39|   1.82|     4.32|1.04|2.93|    735|         1|\n",
            "|   1|  13.86|      1.35|2.27|16.0| 98|   2.98|      3.15|                0.22|   1.85|     7.22|1.01|3.55|   1045|         1|\n",
            "|   1|  13.75|      1.73|2.41|16.0| 89|    2.6|      2.76|                0.29|   1.81|      5.6|1.15| 2.9|   1320|         1|\n",
            "|   1|  13.63|      1.81| 2.7|17.2|112|   2.85|      2.91|                 0.3|   1.46|      7.3|1.28|2.88|   1310|         1|\n",
            "|   1|  13.83|      1.57|2.62|20.0|115|   2.95|       3.4|                 0.4|   1.72|      6.6|1.13|2.57|   1130|         1|\n",
            "|   1|  13.64|       3.1|2.56|15.2|116|    2.7|      3.03|                0.17|   1.66|      5.1|0.96|3.36|    845|         1|\n",
            "|   1|  12.93|       3.8|2.65|18.6|102|   2.41|      2.41|                0.25|   1.98|      4.5|1.03|3.52|    770|         1|\n",
            "|   1|  13.71|      1.86|2.36|16.6|101|   2.61|      2.88|                0.27|   1.69|      3.8|1.11| 4.0|   1035|         1|\n",
            "|   1|  12.85|       1.6|2.52|17.8| 95|   2.48|      2.37|                0.26|   1.46|     3.93|1.09|3.63|   1015|         1|\n",
            "|   1|   13.5|      1.81|2.61|20.0| 96|   2.53|      2.61|                0.28|   1.66|     3.52|1.12|3.82|    845|         1|\n",
            "|   1|  13.05|      2.05|3.22|25.0|124|   2.63|      2.68|                0.47|   1.92|     3.58|1.13| 3.2|    830|         1|\n",
            "|   1|  13.39|      1.77|2.62|16.1| 93|   2.85|      2.94|                0.34|   1.45|      4.8|0.92|3.22|   1195|         1|\n",
            "|   1|   13.3|      1.72|2.14|17.0| 94|    2.4|      2.19|                0.27|   1.35|     3.95|1.02|2.77|   1285|         1|\n",
            "|   1|  13.87|       1.9| 2.8|19.4|107|   2.95|      2.97|                0.37|   1.76|      4.5|1.25| 3.4|    915|         1|\n",
            "|   1|  13.73|       1.5| 2.7|22.5|101|    3.0|      3.25|                0.29|   2.38|      5.7|1.19|2.71|   1285|         1|\n",
            "|   1|  13.58|      1.66|2.36|19.1|106|   2.86|      3.19|                0.22|   1.95|      6.9|1.09|2.88|   1515|         1|\n",
            "|   1|  13.68|      1.83|2.36|17.2|104|   2.42|      2.69|                0.42|   1.97|     3.84|1.23|2.87|    990|         1|\n",
            "|   1|  13.76|      1.53| 2.7|19.5|132|   2.95|      2.74|                 0.5|   1.35|      5.4|1.25| 3.0|   1235|         1|\n",
            "+----+-------+----------+----+----+---+-------+----------+--------------------+-------+---------+----+----+-------+----------+\n",
            "only showing top 20 rows\n",
            "\n"
          ]
        }
      ]
    },
    {
      "cell_type": "code",
      "source": [
        "#ordenando por tal coluna\n",
        "\n",
        "base_spark.sort('Alcohol').show()"
      ],
      "metadata": {
        "colab": {
          "base_uri": "https://localhost:8080/"
        },
        "id": "PbjS8a51R22s",
        "outputId": "9497871a-e95c-45cc-e0cd-0867e8852b05"
      },
      "execution_count": 56,
      "outputs": [
        {
          "output_type": "stream",
          "name": "stdout",
          "text": [
            "+----+-------+----------+----+----+---+-------+----------+--------------------+-------+---------+----+----+-------+----------+\n",
            "|Wine|Alcohol|Malic.acid| Ash| Acl| Mg|Phenols|Flavanoids|Nonflavanoid.phenols|Proanth|Color.int| Hue|  OD|Proline|nem column|\n",
            "+----+-------+----------+----+----+---+-------+----------+--------------------+-------+---------+----+----+-------+----------+\n",
            "|   2|  11.03|      1.51| 2.2|21.5| 85|   2.46|      2.17|                0.52|   2.01|      1.9|1.71|2.87|    407|         2|\n",
            "|   2|  11.41|      0.74| 2.5|21.0| 88|   2.48|      2.01|                0.42|   1.44|     3.08| 1.1|2.31|    434|         2|\n",
            "|   2|  11.45|       2.4|2.42|20.0| 96|    2.9|      2.79|                0.32|   1.83|     3.25| 0.8|3.39|    625|         2|\n",
            "|   2|  11.46|      3.74|1.82|19.5|107|   3.18|      2.58|                0.24|   3.58|      2.9|0.75|2.81|    562|         2|\n",
            "|   2|  11.56|      2.05|3.23|28.5|119|   3.18|      5.08|                0.47|   1.87|      6.0|0.93|3.69|    465|         2|\n",
            "|   2|  11.61|      1.35| 2.7|20.0| 94|   2.74|      2.92|                0.29|   2.49|     2.65|0.96|3.26|    680|         2|\n",
            "|   2|  11.62|      1.99|2.28|18.0| 98|   3.02|      2.26|                0.17|   1.35|     3.25|1.16|2.96|    345|         2|\n",
            "|   2|  11.64|      2.06|2.46|21.6| 84|   1.95|      1.69|                0.48|   1.35|      2.8| 1.0|2.75|    680|         2|\n",
            "|   2|  11.65|      1.67|2.62|26.0| 88|   1.92|      1.61|                 0.4|   1.34|      2.6|1.36|3.21|    562|         2|\n",
            "|   2|  11.66|      1.88|1.92|16.0| 97|   1.61|      1.57|                0.34|   1.15|      3.8|1.23|2.14|    428|         2|\n",
            "|   2|  11.76|      2.68|2.92|20.0|103|   1.75|      2.03|                 0.6|   1.05|      3.8|1.23| 2.5|    607|         2|\n",
            "|   2|  11.79|      2.13|2.78|28.5| 92|   2.13|      2.24|                0.58|   1.76|      3.0|0.97|2.44|    466|         2|\n",
            "|   2|  11.81|      2.12|2.74|21.5|134|    1.6|      0.99|                0.14|   1.56|      2.5|0.95|2.26|    625|         2|\n",
            "|   2|  11.82|      1.72|1.88|19.5| 86|    2.5|      1.64|                0.37|   1.42|     2.06|0.94|2.44|    415|         2|\n",
            "|   2|  11.82|      1.47|1.99|20.8| 86|   1.98|       1.6|                 0.3|   1.53|     1.95|0.95|3.33|    495|         2|\n",
            "|   2|  11.84|      2.89|2.23|18.0|112|   1.72|      1.32|                0.43|   0.95|     2.65|0.96|2.52|    500|         2|\n",
            "|   2|  11.84|      0.89|2.58|18.0| 94|    2.2|      2.21|                0.22|   2.35|     3.05|0.79|3.08|    520|         2|\n",
            "|   2|  11.87|      4.31|2.39|21.0| 82|   2.86|      3.03|                0.21|   2.91|      2.8|0.75|3.64|    380|         2|\n",
            "|   2|  11.96|      1.09| 2.3|21.0|101|   3.38|      2.14|                0.13|   1.65|     3.21|0.99|3.13|    886|         2|\n",
            "|   2|   12.0|      0.92| 2.0|19.0| 86|   2.42|      2.26|                 0.3|   1.43|      2.5|1.38|3.12|    278|         2|\n",
            "+----+-------+----------+----+----+---+-------+----------+--------------------+-------+---------+----+----+-------+----------+\n",
            "only showing top 20 rows\n",
            "\n"
          ]
        }
      ]
    },
    {
      "cell_type": "markdown",
      "source": [
        "- Pré Processamento"
      ],
      "metadata": {
        "id": "ZEa8LibaTBWx"
      }
    },
    {
      "cell_type": "code",
      "source": [
        "from pyspark.ml.feature import VectorAssembler #fç de vetor"
      ],
      "metadata": {
        "id": "TKfn7YLKSV_f"
      },
      "execution_count": 45,
      "outputs": []
    },
    {
      "cell_type": "code",
      "source": [
        "amostra = base_spark\n",
        "\n",
        "#vetorizando os dados\n",
        "\n",
        "dados_amostra = VectorAssembler(inputCols=['Wine','Alcohol'],\n",
        "                                outputCol='correlações')\n",
        "\n",
        "dados_amostral = dados_amostra.transform(amostra)\n",
        "\n",
        "#função da regressao linear\n",
        "\n",
        "from pyspark.ml.feature import MinMaxScaler\n",
        "\n",
        "funcao_min_max = MinMaxScaler(outputCol='valor escalada minima')\n",
        "\n",
        "funcao_min_max.setInputCol('correlações')\n",
        "\n",
        "\n",
        "#Fitando o modelo\n",
        "\n",
        "modelo_min_max = funcao_min_max.fit(dados_amostral)\n",
        "\n",
        "modelo_min_max.transform(dados_amostral).show()\n"
      ],
      "metadata": {
        "colab": {
          "base_uri": "https://localhost:8080/"
        },
        "id": "kXEKCs7qT_Mb",
        "outputId": "db9a6593-9d35-448e-8897-1507d9d47478"
      },
      "execution_count": 57,
      "outputs": [
        {
          "output_type": "stream",
          "name": "stdout",
          "text": [
            "+----+-------+----------+----+----+---+-------+----------+--------------------+-------+---------+----+----+-------+----------+-----------+---------------------+\n",
            "|Wine|Alcohol|Malic.acid| Ash| Acl| Mg|Phenols|Flavanoids|Nonflavanoid.phenols|Proanth|Color.int| Hue|  OD|Proline|nem column|correlações|valor escalada minima|\n",
            "+----+-------+----------+----+----+---+-------+----------+--------------------+-------+---------+----+----+-------+----------+-----------+---------------------+\n",
            "|   1|  14.23|      1.71|2.43|15.6|127|    2.8|      3.06|                0.28|   2.29|     5.64|1.04|3.92|   1065|         1|[1.0,14.23]| [0.0,0.8421052631...|\n",
            "|   1|   13.2|      1.78|2.14|11.2|100|   2.65|      2.76|                0.26|   1.28|     4.38|1.05| 3.4|   1050|         1| [1.0,13.2]| [0.0,0.5710526315...|\n",
            "|   1|  13.16|      2.36|2.67|18.6|101|    2.8|      3.24|                 0.3|   2.81|     5.68|1.03|3.17|   1185|         1|[1.0,13.16]| [0.0,0.5605263157...|\n",
            "|   1|  14.37|      1.95| 2.5|16.8|113|   3.85|      3.49|                0.24|   2.18|      7.8|0.86|3.45|   1480|         1|[1.0,14.37]| [0.0,0.8789473684...|\n",
            "|   1|  13.24|      2.59|2.87|21.0|118|    2.8|      2.69|                0.39|   1.82|     4.32|1.04|2.93|    735|         1|[1.0,13.24]| [0.0,0.5815789473...|\n",
            "|   1|   14.2|      1.76|2.45|15.2|112|   3.27|      3.39|                0.34|   1.97|     6.75|1.05|2.85|   1450|         1| [1.0,14.2]| [0.0,0.8342105263...|\n",
            "|   1|  14.39|      1.87|2.45|14.6| 96|    2.5|      2.52|                 0.3|   1.98|     5.25|1.02|3.58|   1290|         1|[1.0,14.39]| [0.0,0.8842105263...|\n",
            "|   1|  14.06|      2.15|2.61|17.6|121|    2.6|      2.51|                0.31|   1.25|     5.05|1.06|3.58|   1295|         1|[1.0,14.06]| [0.0,0.7973684210...|\n",
            "|   1|  14.83|      1.64|2.17|14.0| 97|    2.8|      2.98|                0.29|   1.98|      5.2|1.08|2.85|   1045|         1|[1.0,14.83]| [0.0,0.9999999999...|\n",
            "|   1|  13.86|      1.35|2.27|16.0| 98|   2.98|      3.15|                0.22|   1.85|     7.22|1.01|3.55|   1045|         1|[1.0,13.86]| [0.0,0.7447368421...|\n",
            "|   1|   14.1|      2.16| 2.3|18.0|105|   2.95|      3.32|                0.22|   2.38|     5.75|1.25|3.17|   1510|         1| [1.0,14.1]| [0.0,0.8078947368...|\n",
            "|   1|  14.12|      1.48|2.32|16.8| 95|    2.2|      2.43|                0.26|   1.57|      5.0|1.17|2.82|   1280|         1|[1.0,14.12]| [0.0,0.8131578947...|\n",
            "|   1|  13.75|      1.73|2.41|16.0| 89|    2.6|      2.76|                0.29|   1.81|      5.6|1.15| 2.9|   1320|         1|[1.0,13.75]| [0.0,0.7157894736...|\n",
            "|   1|  14.75|      1.73|2.39|11.4| 91|    3.1|      3.69|                0.43|   2.81|      5.4|1.25|2.73|   1150|         1|[1.0,14.75]| [0.0,0.9789473684...|\n",
            "|   1|  14.38|      1.87|2.38|12.0|102|    3.3|      3.64|                0.29|   2.96|      7.5| 1.2| 3.0|   1547|         1|[1.0,14.38]| [0.0,0.8815789473...|\n",
            "|   1|  13.63|      1.81| 2.7|17.2|112|   2.85|      2.91|                 0.3|   1.46|      7.3|1.28|2.88|   1310|         1|[1.0,13.63]| [0.0,0.6842105263...|\n",
            "|   1|   14.3|      1.92|2.72|20.0|120|    2.8|      3.14|                0.33|   1.97|      6.2|1.07|2.65|   1280|         1| [1.0,14.3]| [0.0,0.8605263157...|\n",
            "|   1|  13.83|      1.57|2.62|20.0|115|   2.95|       3.4|                 0.4|   1.72|      6.6|1.13|2.57|   1130|         1|[1.0,13.83]| [0.0,0.7368421052...|\n",
            "|   1|  14.19|      1.59|2.48|16.5|108|    3.3|      3.93|                0.32|   1.86|      8.7|1.23|2.82|   1680|         1|[1.0,14.19]| [0.0,0.8315789473...|\n",
            "|   1|  13.64|       3.1|2.56|15.2|116|    2.7|      3.03|                0.17|   1.66|      5.1|0.96|3.36|    845|         1|[1.0,13.64]| [0.0,0.6868421052...|\n",
            "+----+-------+----------+----+----+---+-------+----------+--------------------+-------+---------+----+----+-------+----------+-----------+---------------------+\n",
            "only showing top 20 rows\n",
            "\n"
          ]
        }
      ]
    },
    {
      "cell_type": "code",
      "source": [
        "#calculo da correlação\n",
        "\n",
        "amostra = base_spark\n",
        "\n",
        "dados_correlacao = VectorAssembler(inputCols=['Wine', 'Alcohol'],\n",
        "                                   outputCol='correlacoes')\n",
        "\n",
        "saida_correlacao = dados_correlacao.transform(amostra)\n",
        "\n",
        "from pyspark.ml.stat import Correlation\n",
        "\n",
        "#correlacao de pearson\n",
        "\n",
        "correlacao_pearson = Correlation.corr(saida_correlacao, 'correlacoes', 'pearson').collect()\n",
        "\n",
        "print(str(correlacao_pearson).replace('nan', 'Nan'))\n",
        "\n",
        "#correlacao de spearman\n",
        "\n",
        "correlacao_spearman = Correlation.corr(saida_correlacao, 'correlacoes', 'spearman').collect()[0][0]\n",
        "\n",
        "print('\\n', str(correlacao_spearman).replace('nan', 'Nan'));"
      ],
      "metadata": {
        "colab": {
          "base_uri": "https://localhost:8080/"
        },
        "id": "4iq8GHMQWNEl",
        "outputId": "1aea971a-ddd2-49ed-fbec-bdb0f7f79750"
      },
      "execution_count": 67,
      "outputs": [
        {
          "output_type": "stream",
          "name": "stderr",
          "text": [
            "/usr/local/lib/python3.7/dist-packages/pyspark/sql/context.py:127: FutureWarning: Deprecated in 3.0.0. Use SparkSession.builder.getOrCreate() instead.\n",
            "  FutureWarning\n"
          ]
        },
        {
          "output_type": "stream",
          "name": "stdout",
          "text": [
            "[Row(pearson(correlacoes)=DenseMatrix(2, 2, [1.0, -0.3282, -0.3282, 1.0], False))]\n",
            "\n",
            " DenseMatrix([[ 1.        , -0.35416692],\n",
            "             [-0.35416692,  1.        ]])\n"
          ]
        }
      ]
    },
    {
      "cell_type": "markdown",
      "source": [
        "**Regressão Linear**"
      ],
      "metadata": {
        "id": "qZTJeRNpZZpX"
      }
    },
    {
      "cell_type": "code",
      "source": [
        "#separando os dados caracteristicas e previsor\n",
        "\n",
        "selecao_dados = VectorAssembler(inputCols=['Wine','Alcohol'],\n",
        "                                outputCol= 'variaveis caracteristicas') #outputcol previsao\n",
        "\n",
        "saida = selecao_dados.transform(base_spark)\n",
        "\n",
        "saida.show()"
      ],
      "metadata": {
        "colab": {
          "base_uri": "https://localhost:8080/"
        },
        "id": "PTPU002DZSSz",
        "outputId": "9ea3a42b-b445-4090-e36d-04130daa31ad"
      },
      "execution_count": 69,
      "outputs": [
        {
          "output_type": "stream",
          "name": "stdout",
          "text": [
            "+----+-------+----------+----+----+---+-------+----------+--------------------+-------+---------+----+----+-------+----------+-------------------------+\n",
            "|Wine|Alcohol|Malic.acid| Ash| Acl| Mg|Phenols|Flavanoids|Nonflavanoid.phenols|Proanth|Color.int| Hue|  OD|Proline|nem column|variaveis caracteristicas|\n",
            "+----+-------+----------+----+----+---+-------+----------+--------------------+-------+---------+----+----+-------+----------+-------------------------+\n",
            "|   1|  14.23|      1.71|2.43|15.6|127|    2.8|      3.06|                0.28|   2.29|     5.64|1.04|3.92|   1065|         1|              [1.0,14.23]|\n",
            "|   1|   13.2|      1.78|2.14|11.2|100|   2.65|      2.76|                0.26|   1.28|     4.38|1.05| 3.4|   1050|         1|               [1.0,13.2]|\n",
            "|   1|  13.16|      2.36|2.67|18.6|101|    2.8|      3.24|                 0.3|   2.81|     5.68|1.03|3.17|   1185|         1|              [1.0,13.16]|\n",
            "|   1|  14.37|      1.95| 2.5|16.8|113|   3.85|      3.49|                0.24|   2.18|      7.8|0.86|3.45|   1480|         1|              [1.0,14.37]|\n",
            "|   1|  13.24|      2.59|2.87|21.0|118|    2.8|      2.69|                0.39|   1.82|     4.32|1.04|2.93|    735|         1|              [1.0,13.24]|\n",
            "|   1|   14.2|      1.76|2.45|15.2|112|   3.27|      3.39|                0.34|   1.97|     6.75|1.05|2.85|   1450|         1|               [1.0,14.2]|\n",
            "|   1|  14.39|      1.87|2.45|14.6| 96|    2.5|      2.52|                 0.3|   1.98|     5.25|1.02|3.58|   1290|         1|              [1.0,14.39]|\n",
            "|   1|  14.06|      2.15|2.61|17.6|121|    2.6|      2.51|                0.31|   1.25|     5.05|1.06|3.58|   1295|         1|              [1.0,14.06]|\n",
            "|   1|  14.83|      1.64|2.17|14.0| 97|    2.8|      2.98|                0.29|   1.98|      5.2|1.08|2.85|   1045|         1|              [1.0,14.83]|\n",
            "|   1|  13.86|      1.35|2.27|16.0| 98|   2.98|      3.15|                0.22|   1.85|     7.22|1.01|3.55|   1045|         1|              [1.0,13.86]|\n",
            "|   1|   14.1|      2.16| 2.3|18.0|105|   2.95|      3.32|                0.22|   2.38|     5.75|1.25|3.17|   1510|         1|               [1.0,14.1]|\n",
            "|   1|  14.12|      1.48|2.32|16.8| 95|    2.2|      2.43|                0.26|   1.57|      5.0|1.17|2.82|   1280|         1|              [1.0,14.12]|\n",
            "|   1|  13.75|      1.73|2.41|16.0| 89|    2.6|      2.76|                0.29|   1.81|      5.6|1.15| 2.9|   1320|         1|              [1.0,13.75]|\n",
            "|   1|  14.75|      1.73|2.39|11.4| 91|    3.1|      3.69|                0.43|   2.81|      5.4|1.25|2.73|   1150|         1|              [1.0,14.75]|\n",
            "|   1|  14.38|      1.87|2.38|12.0|102|    3.3|      3.64|                0.29|   2.96|      7.5| 1.2| 3.0|   1547|         1|              [1.0,14.38]|\n",
            "|   1|  13.63|      1.81| 2.7|17.2|112|   2.85|      2.91|                 0.3|   1.46|      7.3|1.28|2.88|   1310|         1|              [1.0,13.63]|\n",
            "|   1|   14.3|      1.92|2.72|20.0|120|    2.8|      3.14|                0.33|   1.97|      6.2|1.07|2.65|   1280|         1|               [1.0,14.3]|\n",
            "|   1|  13.83|      1.57|2.62|20.0|115|   2.95|       3.4|                 0.4|   1.72|      6.6|1.13|2.57|   1130|         1|              [1.0,13.83]|\n",
            "|   1|  14.19|      1.59|2.48|16.5|108|    3.3|      3.93|                0.32|   1.86|      8.7|1.23|2.82|   1680|         1|              [1.0,14.19]|\n",
            "|   1|  13.64|       3.1|2.56|15.2|116|    2.7|      3.03|                0.17|   1.66|      5.1|0.96|3.36|    845|         1|              [1.0,13.64]|\n",
            "+----+-------+----------+----+----+---+-------+----------+--------------------+-------+---------+----+----+-------+----------+-------------------------+\n",
            "only showing top 20 rows\n",
            "\n"
          ]
        }
      ]
    },
    {
      "cell_type": "code",
      "source": [
        "#treinando o modelo\n",
        "\n",
        "from pyspark.ml.regression import LinearRegression\n",
        "\n",
        "dados_treino, dados_teste = dados_amostral.randomSplit([0.75, 0.25])\n",
        "\n",
        "funcao_linear = LinearRegression(featuresCol= 'variaveis caracteristicas', labelCol='Wine')\n",
        "\n",
        "funcao_linear.fit(dados_treino)\n",
        "\n",
        "funcao_linear.coefficients\n",
        "\n",
        "previsoes = funcao_linear.evaluate(dados_teste)\n",
        "\n",
        "previsoes.predictions.show()"
      ],
      "metadata": {
        "id": "Y4sfZhi1aTxz"
      },
      "execution_count": null,
      "outputs": []
    }
  ]
}