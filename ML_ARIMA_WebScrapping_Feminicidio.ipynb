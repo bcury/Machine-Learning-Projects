{
  "nbformat": 4,
  "nbformat_minor": 0,
  "metadata": {
    "colab": {
      "name": "ML_ARIMA_WebScrapping_Feminicidio",
      "provenance": [],
      "collapsed_sections": [],
      "authorship_tag": "ABX9TyPGJEUIjoeGsYkGkOzCEjZu",
      "include_colab_link": true
    },
    "kernelspec": {
      "name": "python3",
      "display_name": "Python 3"
    },
    "language_info": {
      "name": "python"
    }
  },
  "cells": [
    {
      "cell_type": "markdown",
      "metadata": {
        "id": "view-in-github",
        "colab_type": "text"
      },
      "source": [
        "<a href=\"https://colab.research.google.com/github/bcury/Machine-Learning-Projects/blob/main/ML_ARIMA_WebScrapping_Feminicidio.ipynb\" target=\"_parent\"><img src=\"https://colab.research.google.com/assets/colab-badge.svg\" alt=\"Open In Colab\"/></a>"
      ]
    },
    {
      "cell_type": "markdown",
      "metadata": {
        "id": "1Ly6--ljMlDH"
      },
      "source": [
        "Prever Feminicidios | dados do Governo de SP"
      ]
    },
    {
      "cell_type": "code",
      "metadata": {
        "colab": {
          "base_uri": "https://localhost:8080/"
        },
        "id": "PGzb4K5dL3cs",
        "outputId": "3817f24e-355a-40df-b206-23efb76c14d3"
      },
      "source": [
        "pip install pmdarima"
      ],
      "execution_count": null,
      "outputs": [
        {
          "output_type": "stream",
          "name": "stdout",
          "text": [
            "Collecting pmdarima\n",
            "  Downloading pmdarima-1.8.4-cp37-cp37m-manylinux_2_17_x86_64.manylinux2014_x86_64.manylinux_2_24_x86_64.whl (1.4 MB)\n",
            "\u001b[?25l\r\u001b[K     |▎                               | 10 kB 16.9 MB/s eta 0:00:01\r\u001b[K     |▌                               | 20 kB 20.1 MB/s eta 0:00:01\r\u001b[K     |▊                               | 30 kB 23.6 MB/s eta 0:00:01\r\u001b[K     |█                               | 40 kB 22.4 MB/s eta 0:00:01\r\u001b[K     |█▏                              | 51 kB 23.0 MB/s eta 0:00:01\r\u001b[K     |█▍                              | 61 kB 22.1 MB/s eta 0:00:01\r\u001b[K     |█▋                              | 71 kB 20.6 MB/s eta 0:00:01\r\u001b[K     |██                              | 81 kB 21.4 MB/s eta 0:00:01\r\u001b[K     |██▏                             | 92 kB 22.1 MB/s eta 0:00:01\r\u001b[K     |██▍                             | 102 kB 21.3 MB/s eta 0:00:01\r\u001b[K     |██▋                             | 112 kB 21.3 MB/s eta 0:00:01\r\u001b[K     |██▉                             | 122 kB 21.3 MB/s eta 0:00:01\r\u001b[K     |███                             | 133 kB 21.3 MB/s eta 0:00:01\r\u001b[K     |███▎                            | 143 kB 21.3 MB/s eta 0:00:01\r\u001b[K     |███▌                            | 153 kB 21.3 MB/s eta 0:00:01\r\u001b[K     |███▉                            | 163 kB 21.3 MB/s eta 0:00:01\r\u001b[K     |████                            | 174 kB 21.3 MB/s eta 0:00:01\r\u001b[K     |████▎                           | 184 kB 21.3 MB/s eta 0:00:01\r\u001b[K     |████▌                           | 194 kB 21.3 MB/s eta 0:00:01\r\u001b[K     |████▊                           | 204 kB 21.3 MB/s eta 0:00:01\r\u001b[K     |█████                           | 215 kB 21.3 MB/s eta 0:00:01\r\u001b[K     |█████▏                          | 225 kB 21.3 MB/s eta 0:00:01\r\u001b[K     |█████▌                          | 235 kB 21.3 MB/s eta 0:00:01\r\u001b[K     |█████▊                          | 245 kB 21.3 MB/s eta 0:00:01\r\u001b[K     |██████                          | 256 kB 21.3 MB/s eta 0:00:01\r\u001b[K     |██████▏                         | 266 kB 21.3 MB/s eta 0:00:01\r\u001b[K     |██████▍                         | 276 kB 21.3 MB/s eta 0:00:01\r\u001b[K     |██████▋                         | 286 kB 21.3 MB/s eta 0:00:01\r\u001b[K     |██████▉                         | 296 kB 21.3 MB/s eta 0:00:01\r\u001b[K     |███████                         | 307 kB 21.3 MB/s eta 0:00:01\r\u001b[K     |███████▍                        | 317 kB 21.3 MB/s eta 0:00:01\r\u001b[K     |███████▋                        | 327 kB 21.3 MB/s eta 0:00:01\r\u001b[K     |███████▉                        | 337 kB 21.3 MB/s eta 0:00:01\r\u001b[K     |████████                        | 348 kB 21.3 MB/s eta 0:00:01\r\u001b[K     |████████▎                       | 358 kB 21.3 MB/s eta 0:00:01\r\u001b[K     |████████▌                       | 368 kB 21.3 MB/s eta 0:00:01\r\u001b[K     |████████▊                       | 378 kB 21.3 MB/s eta 0:00:01\r\u001b[K     |█████████                       | 389 kB 21.3 MB/s eta 0:00:01\r\u001b[K     |█████████▎                      | 399 kB 21.3 MB/s eta 0:00:01\r\u001b[K     |█████████▌                      | 409 kB 21.3 MB/s eta 0:00:01\r\u001b[K     |█████████▊                      | 419 kB 21.3 MB/s eta 0:00:01\r\u001b[K     |██████████                      | 430 kB 21.3 MB/s eta 0:00:01\r\u001b[K     |██████████▏                     | 440 kB 21.3 MB/s eta 0:00:01\r\u001b[K     |██████████▍                     | 450 kB 21.3 MB/s eta 0:00:01\r\u001b[K     |██████████▋                     | 460 kB 21.3 MB/s eta 0:00:01\r\u001b[K     |███████████                     | 471 kB 21.3 MB/s eta 0:00:01\r\u001b[K     |███████████▏                    | 481 kB 21.3 MB/s eta 0:00:01\r\u001b[K     |███████████▍                    | 491 kB 21.3 MB/s eta 0:00:01\r\u001b[K     |███████████▋                    | 501 kB 21.3 MB/s eta 0:00:01\r\u001b[K     |███████████▉                    | 512 kB 21.3 MB/s eta 0:00:01\r\u001b[K     |████████████                    | 522 kB 21.3 MB/s eta 0:00:01\r\u001b[K     |████████████▎                   | 532 kB 21.3 MB/s eta 0:00:01\r\u001b[K     |████████████▌                   | 542 kB 21.3 MB/s eta 0:00:01\r\u001b[K     |████████████▉                   | 552 kB 21.3 MB/s eta 0:00:01\r\u001b[K     |█████████████                   | 563 kB 21.3 MB/s eta 0:00:01\r\u001b[K     |█████████████▎                  | 573 kB 21.3 MB/s eta 0:00:01\r\u001b[K     |█████████████▌                  | 583 kB 21.3 MB/s eta 0:00:01\r\u001b[K     |█████████████▊                  | 593 kB 21.3 MB/s eta 0:00:01\r\u001b[K     |██████████████                  | 604 kB 21.3 MB/s eta 0:00:01\r\u001b[K     |██████████████▏                 | 614 kB 21.3 MB/s eta 0:00:01\r\u001b[K     |██████████████▍                 | 624 kB 21.3 MB/s eta 0:00:01\r\u001b[K     |██████████████▊                 | 634 kB 21.3 MB/s eta 0:00:01\r\u001b[K     |███████████████                 | 645 kB 21.3 MB/s eta 0:00:01\r\u001b[K     |███████████████▏                | 655 kB 21.3 MB/s eta 0:00:01\r\u001b[K     |███████████████▍                | 665 kB 21.3 MB/s eta 0:00:01\r\u001b[K     |███████████████▋                | 675 kB 21.3 MB/s eta 0:00:01\r\u001b[K     |███████████████▉                | 686 kB 21.3 MB/s eta 0:00:01\r\u001b[K     |████████████████                | 696 kB 21.3 MB/s eta 0:00:01\r\u001b[K     |████████████████▍               | 706 kB 21.3 MB/s eta 0:00:01\r\u001b[K     |████████████████▋               | 716 kB 21.3 MB/s eta 0:00:01\r\u001b[K     |████████████████▉               | 727 kB 21.3 MB/s eta 0:00:01\r\u001b[K     |█████████████████               | 737 kB 21.3 MB/s eta 0:00:01\r\u001b[K     |█████████████████▎              | 747 kB 21.3 MB/s eta 0:00:01\r\u001b[K     |█████████████████▌              | 757 kB 21.3 MB/s eta 0:00:01\r\u001b[K     |█████████████████▊              | 768 kB 21.3 MB/s eta 0:00:01\r\u001b[K     |██████████████████              | 778 kB 21.3 MB/s eta 0:00:01\r\u001b[K     |██████████████████▎             | 788 kB 21.3 MB/s eta 0:00:01\r\u001b[K     |██████████████████▌             | 798 kB 21.3 MB/s eta 0:00:01\r\u001b[K     |██████████████████▊             | 808 kB 21.3 MB/s eta 0:00:01\r\u001b[K     |███████████████████             | 819 kB 21.3 MB/s eta 0:00:01\r\u001b[K     |███████████████████▏            | 829 kB 21.3 MB/s eta 0:00:01\r\u001b[K     |███████████████████▍            | 839 kB 21.3 MB/s eta 0:00:01\r\u001b[K     |███████████████████▋            | 849 kB 21.3 MB/s eta 0:00:01\r\u001b[K     |███████████████████▉            | 860 kB 21.3 MB/s eta 0:00:01\r\u001b[K     |████████████████████▏           | 870 kB 21.3 MB/s eta 0:00:01\r\u001b[K     |████████████████████▍           | 880 kB 21.3 MB/s eta 0:00:01\r\u001b[K     |████████████████████▋           | 890 kB 21.3 MB/s eta 0:00:01\r\u001b[K     |████████████████████▉           | 901 kB 21.3 MB/s eta 0:00:01\r\u001b[K     |█████████████████████           | 911 kB 21.3 MB/s eta 0:00:01\r\u001b[K     |█████████████████████▎          | 921 kB 21.3 MB/s eta 0:00:01\r\u001b[K     |█████████████████████▌          | 931 kB 21.3 MB/s eta 0:00:01\r\u001b[K     |█████████████████████▉          | 942 kB 21.3 MB/s eta 0:00:01\r\u001b[K     |██████████████████████          | 952 kB 21.3 MB/s eta 0:00:01\r\u001b[K     |██████████████████████▎         | 962 kB 21.3 MB/s eta 0:00:01\r\u001b[K     |██████████████████████▌         | 972 kB 21.3 MB/s eta 0:00:01\r\u001b[K     |██████████████████████▊         | 983 kB 21.3 MB/s eta 0:00:01\r\u001b[K     |███████████████████████         | 993 kB 21.3 MB/s eta 0:00:01\r\u001b[K     |███████████████████████▏        | 1.0 MB 21.3 MB/s eta 0:00:01\r\u001b[K     |███████████████████████▍        | 1.0 MB 21.3 MB/s eta 0:00:01\r\u001b[K     |███████████████████████▊        | 1.0 MB 21.3 MB/s eta 0:00:01\r\u001b[K     |████████████████████████        | 1.0 MB 21.3 MB/s eta 0:00:01\r\u001b[K     |████████████████████████▏       | 1.0 MB 21.3 MB/s eta 0:00:01\r\u001b[K     |████████████████████████▍       | 1.1 MB 21.3 MB/s eta 0:00:01\r\u001b[K     |████████████████████████▋       | 1.1 MB 21.3 MB/s eta 0:00:01\r\u001b[K     |████████████████████████▉       | 1.1 MB 21.3 MB/s eta 0:00:01\r\u001b[K     |█████████████████████████       | 1.1 MB 21.3 MB/s eta 0:00:01\r\u001b[K     |█████████████████████████▎      | 1.1 MB 21.3 MB/s eta 0:00:01\r\u001b[K     |█████████████████████████▋      | 1.1 MB 21.3 MB/s eta 0:00:01\r\u001b[K     |█████████████████████████▉      | 1.1 MB 21.3 MB/s eta 0:00:01\r\u001b[K     |██████████████████████████      | 1.1 MB 21.3 MB/s eta 0:00:01\r\u001b[K     |██████████████████████████▎     | 1.1 MB 21.3 MB/s eta 0:00:01\r\u001b[K     |██████████████████████████▌     | 1.1 MB 21.3 MB/s eta 0:00:01\r\u001b[K     |██████████████████████████▊     | 1.2 MB 21.3 MB/s eta 0:00:01\r\u001b[K     |███████████████████████████     | 1.2 MB 21.3 MB/s eta 0:00:01\r\u001b[K     |███████████████████████████▎    | 1.2 MB 21.3 MB/s eta 0:00:01\r\u001b[K     |███████████████████████████▌    | 1.2 MB 21.3 MB/s eta 0:00:01\r\u001b[K     |███████████████████████████▊    | 1.2 MB 21.3 MB/s eta 0:00:01\r\u001b[K     |████████████████████████████    | 1.2 MB 21.3 MB/s eta 0:00:01\r\u001b[K     |████████████████████████████▏   | 1.2 MB 21.3 MB/s eta 0:00:01\r\u001b[K     |████████████████████████████▍   | 1.2 MB 21.3 MB/s eta 0:00:01\r\u001b[K     |████████████████████████████▋   | 1.2 MB 21.3 MB/s eta 0:00:01\r\u001b[K     |████████████████████████████▉   | 1.2 MB 21.3 MB/s eta 0:00:01\r\u001b[K     |█████████████████████████████▏  | 1.3 MB 21.3 MB/s eta 0:00:01\r\u001b[K     |█████████████████████████████▍  | 1.3 MB 21.3 MB/s eta 0:00:01\r\u001b[K     |█████████████████████████████▋  | 1.3 MB 21.3 MB/s eta 0:00:01\r\u001b[K     |█████████████████████████████▉  | 1.3 MB 21.3 MB/s eta 0:00:01\r\u001b[K     |██████████████████████████████  | 1.3 MB 21.3 MB/s eta 0:00:01\r\u001b[K     |██████████████████████████████▎ | 1.3 MB 21.3 MB/s eta 0:00:01\r\u001b[K     |██████████████████████████████▌ | 1.3 MB 21.3 MB/s eta 0:00:01\r\u001b[K     |██████████████████████████████▊ | 1.3 MB 21.3 MB/s eta 0:00:01\r\u001b[K     |███████████████████████████████ | 1.3 MB 21.3 MB/s eta 0:00:01\r\u001b[K     |███████████████████████████████▎| 1.4 MB 21.3 MB/s eta 0:00:01\r\u001b[K     |███████████████████████████████▌| 1.4 MB 21.3 MB/s eta 0:00:01\r\u001b[K     |███████████████████████████████▊| 1.4 MB 21.3 MB/s eta 0:00:01\r\u001b[K     |████████████████████████████████| 1.4 MB 21.3 MB/s eta 0:00:01\r\u001b[K     |████████████████████████████████| 1.4 MB 21.3 MB/s \n",
            "\u001b[?25hRequirement already satisfied: pandas>=0.19 in /usr/local/lib/python3.7/dist-packages (from pmdarima) (1.1.5)\n",
            "Requirement already satisfied: joblib>=0.11 in /usr/local/lib/python3.7/dist-packages (from pmdarima) (1.1.0)\n",
            "Requirement already satisfied: Cython!=0.29.18,>=0.29 in /usr/local/lib/python3.7/dist-packages (from pmdarima) (0.29.24)\n",
            "Collecting statsmodels!=0.12.0,>=0.11\n",
            "  Downloading statsmodels-0.13.1-cp37-cp37m-manylinux_2_17_x86_64.manylinux2014_x86_64.whl (9.8 MB)\n",
            "\u001b[K     |████████████████████████████████| 9.8 MB 25.6 MB/s \n",
            "\u001b[?25hRequirement already satisfied: scipy>=1.3.2 in /usr/local/lib/python3.7/dist-packages (from pmdarima) (1.4.1)\n",
            "Requirement already satisfied: numpy>=1.19.3 in /usr/local/lib/python3.7/dist-packages (from pmdarima) (1.19.5)\n",
            "Requirement already satisfied: scikit-learn>=0.22 in /usr/local/lib/python3.7/dist-packages (from pmdarima) (1.0.1)\n",
            "Requirement already satisfied: urllib3 in /usr/local/lib/python3.7/dist-packages (from pmdarima) (1.24.3)\n",
            "Requirement already satisfied: setuptools!=50.0.0,>=38.6.0 in /usr/local/lib/python3.7/dist-packages (from pmdarima) (57.4.0)\n",
            "Requirement already satisfied: pytz>=2017.2 in /usr/local/lib/python3.7/dist-packages (from pandas>=0.19->pmdarima) (2018.9)\n",
            "Requirement already satisfied: python-dateutil>=2.7.3 in /usr/local/lib/python3.7/dist-packages (from pandas>=0.19->pmdarima) (2.8.2)\n",
            "Requirement already satisfied: six>=1.5 in /usr/local/lib/python3.7/dist-packages (from python-dateutil>=2.7.3->pandas>=0.19->pmdarima) (1.15.0)\n",
            "Requirement already satisfied: threadpoolctl>=2.0.0 in /usr/local/lib/python3.7/dist-packages (from scikit-learn>=0.22->pmdarima) (3.0.0)\n",
            "Requirement already satisfied: patsy>=0.5.2 in /usr/local/lib/python3.7/dist-packages (from statsmodels!=0.12.0,>=0.11->pmdarima) (0.5.2)\n",
            "Installing collected packages: statsmodels, pmdarima\n",
            "  Attempting uninstall: statsmodels\n",
            "    Found existing installation: statsmodels 0.10.2\n",
            "    Uninstalling statsmodels-0.10.2:\n",
            "      Successfully uninstalled statsmodels-0.10.2\n",
            "Successfully installed pmdarima-1.8.4 statsmodels-0.13.1\n"
          ]
        }
      ]
    },
    {
      "cell_type": "code",
      "metadata": {
        "id": "tzr_G4YaMdyt"
      },
      "source": [
        "import requests\n",
        "from bs4 import BeautifulSoup\n",
        "import pandas as pd\n",
        "import datetime\n",
        "from dateutil.relativedelta import relativedelta\n",
        "import plotly.graph_objects as Dash\n",
        "import seaborn as sns\n",
        "import matplotlib.pyplot as plt\n"
      ],
      "execution_count": 22,
      "outputs": []
    },
    {
      "cell_type": "code",
      "metadata": {
        "id": "Ub2v-DVJNjYy"
      },
      "source": [
        "site = 'http://www.ssp.sp.gov.br/Estatistica/ViolenciaMulher.aspx'"
      ],
      "execution_count": 2,
      "outputs": []
    },
    {
      "cell_type": "code",
      "metadata": {
        "id": "5ESVloEtOL8Z"
      },
      "source": [
        "pagina = requests.get(site)"
      ],
      "execution_count": 3,
      "outputs": []
    },
    {
      "cell_type": "code",
      "metadata": {
        "id": "Y_vVT3weOT8B"
      },
      "source": [
        "coleta = BeautifulSoup(pagina.text, 'html.parser')"
      ],
      "execution_count": 4,
      "outputs": []
    },
    {
      "cell_type": "code",
      "metadata": {
        "colab": {
          "base_uri": "https://localhost:8080/"
        },
        "id": "Wfk15hPtO0PR",
        "outputId": "4b2b60b8-a83c-438e-f071-e94bd6501e63"
      },
      "source": [
        "print(coleta.title)"
      ],
      "execution_count": 5,
      "outputs": [
        {
          "output_type": "stream",
          "name": "stdout",
          "text": [
            "<title>\r\n",
            "\tSSP\r\n",
            "</title>\n"
          ]
        }
      ]
    },
    {
      "cell_type": "code",
      "metadata": {
        "id": "rm5_BcudO67p"
      },
      "source": [
        "tabelas = coleta.find_all('table', attrs={'class':'table table-striped table-hover table-condensed'})"
      ],
      "execution_count": 6,
      "outputs": []
    },
    {
      "cell_type": "code",
      "metadata": {
        "colab": {
          "base_uri": "https://localhost:8080/"
        },
        "id": "-1BZ6-v9PudX",
        "outputId": "530e4475-053f-48b4-96d4-00669a241d4d"
      },
      "source": [
        "print('Localizado:', len(tabelas),'tabelas')"
      ],
      "execution_count": 7,
      "outputs": [
        {
          "output_type": "stream",
          "name": "stdout",
          "text": [
            "Localizado: 121 tabelas\n"
          ]
        }
      ]
    },
    {
      "cell_type": "markdown",
      "metadata": {
        "id": "fS-MXMnmQf6v"
      },
      "source": [
        "tratamentos dos dados"
      ]
    },
    {
      "cell_type": "code",
      "metadata": {
        "id": "o7eveyktQGXY"
      },
      "source": [
        "Rotulos = []\n",
        "Dados = []\n",
        "Periodos = []\n",
        "\n",
        "Registro_Inicial = datetime.datetime(2021, 11, 22)\n",
        "\n",
        "Loop = 0\n",
        "\n",
        "for Consulta in tabelas:\n",
        "  Linha = Consulta.find_all('tr')[2]\n",
        "  Rotulo = Linha.find_all('td')[0].text\n",
        "  Informação = Linha.find_all('span')[0].text\n",
        "  Data = Registro_Inicial - relativedelta(months=Loop)\n",
        "\n",
        "  #caso tenha feminicidio\n",
        "\n",
        "  if Rotulo == 'FEMINICÍDIO':\n",
        "    Rotulos.append(Rotulo)\n",
        "    Dados.append(Informação)\n",
        "    Periodos.append(Data)\n",
        "  else:\n",
        "   pass\n",
        "\n",
        "    #somando o loop para dar o mes\n",
        "  Loop = Loop + 1\n",
        "\n",
        "#organização dos dados em um dicionario\n",
        "Dicionario = {\n",
        "    'Rotulo': Rotulos, \n",
        "    'Quantidade': Dados,\n",
        "     'Periodo': Periodos\n",
        "}\n",
        " \n",
        " #passando o dicionario como base de dados\n",
        "\n",
        "Base_Feminicidio = pd.DataFrame(Dicionario)"
      ],
      "execution_count": 8,
      "outputs": []
    },
    {
      "cell_type": "code",
      "metadata": {
        "colab": {
          "base_uri": "https://localhost:8080/",
          "height": 206
        },
        "id": "7YEzgixVTrbh",
        "outputId": "46df935c-1dbf-4984-837e-6d5add0a9ae9"
      },
      "source": [
        "Base_Feminicidio.head()"
      ],
      "execution_count": 9,
      "outputs": [
        {
          "output_type": "execute_result",
          "data": {
            "text/html": [
              "<div>\n",
              "<style scoped>\n",
              "    .dataframe tbody tr th:only-of-type {\n",
              "        vertical-align: middle;\n",
              "    }\n",
              "\n",
              "    .dataframe tbody tr th {\n",
              "        vertical-align: top;\n",
              "    }\n",
              "\n",
              "    .dataframe thead th {\n",
              "        text-align: right;\n",
              "    }\n",
              "</style>\n",
              "<table border=\"1\" class=\"dataframe\">\n",
              "  <thead>\n",
              "    <tr style=\"text-align: right;\">\n",
              "      <th></th>\n",
              "      <th>Rotulo</th>\n",
              "      <th>Quantidade</th>\n",
              "      <th>Periodo</th>\n",
              "    </tr>\n",
              "  </thead>\n",
              "  <tbody>\n",
              "    <tr>\n",
              "      <th>0</th>\n",
              "      <td>FEMINICÍDIO</td>\n",
              "      <td>6</td>\n",
              "      <td>2021-11-22</td>\n",
              "    </tr>\n",
              "    <tr>\n",
              "      <th>1</th>\n",
              "      <td>FEMINICÍDIO</td>\n",
              "      <td>8</td>\n",
              "      <td>2021-10-22</td>\n",
              "    </tr>\n",
              "    <tr>\n",
              "      <th>2</th>\n",
              "      <td>FEMINICÍDIO</td>\n",
              "      <td>8</td>\n",
              "      <td>2021-09-22</td>\n",
              "    </tr>\n",
              "    <tr>\n",
              "      <th>3</th>\n",
              "      <td>FEMINICÍDIO</td>\n",
              "      <td>7</td>\n",
              "      <td>2021-08-22</td>\n",
              "    </tr>\n",
              "    <tr>\n",
              "      <th>4</th>\n",
              "      <td>FEMINICÍDIO</td>\n",
              "      <td>26</td>\n",
              "      <td>2021-07-22</td>\n",
              "    </tr>\n",
              "  </tbody>\n",
              "</table>\n",
              "</div>"
            ],
            "text/plain": [
              "        Rotulo Quantidade    Periodo\n",
              "0  FEMINICÍDIO          6 2021-11-22\n",
              "1  FEMINICÍDIO          8 2021-10-22\n",
              "2  FEMINICÍDIO          8 2021-09-22\n",
              "3  FEMINICÍDIO          7 2021-08-22\n",
              "4  FEMINICÍDIO         26 2021-07-22"
            ]
          },
          "metadata": {},
          "execution_count": 9
        }
      ]
    },
    {
      "cell_type": "code",
      "metadata": {
        "id": "TtkwLt4lWSK6",
        "colab": {
          "base_uri": "https://localhost:8080/",
          "height": 331
        },
        "outputId": "f93a666f-8ba9-468d-83a0-41a79cf91048"
      },
      "source": [
        "Base_Feminicidio.describe()"
      ],
      "execution_count": 10,
      "outputs": [
        {
          "output_type": "stream",
          "name": "stderr",
          "text": [
            "/usr/local/lib/python3.7/dist-packages/ipykernel_launcher.py:1: FutureWarning:\n",
            "\n",
            "Treating datetime data as categorical rather than numeric in `.describe` is deprecated and will be removed in a future version of pandas. Specify `datetime_is_numeric=True` to silence this warning and adopt the future behavior now.\n",
            "\n"
          ]
        },
        {
          "output_type": "execute_result",
          "data": {
            "text/html": [
              "<div>\n",
              "<style scoped>\n",
              "    .dataframe tbody tr th:only-of-type {\n",
              "        vertical-align: middle;\n",
              "    }\n",
              "\n",
              "    .dataframe tbody tr th {\n",
              "        vertical-align: top;\n",
              "    }\n",
              "\n",
              "    .dataframe thead th {\n",
              "        text-align: right;\n",
              "    }\n",
              "</style>\n",
              "<table border=\"1\" class=\"dataframe\">\n",
              "  <thead>\n",
              "    <tr style=\"text-align: right;\">\n",
              "      <th></th>\n",
              "      <th>Rotulo</th>\n",
              "      <th>Quantidade</th>\n",
              "      <th>Periodo</th>\n",
              "    </tr>\n",
              "  </thead>\n",
              "  <tbody>\n",
              "    <tr>\n",
              "      <th>count</th>\n",
              "      <td>45</td>\n",
              "      <td>45</td>\n",
              "      <td>45</td>\n",
              "    </tr>\n",
              "    <tr>\n",
              "      <th>unique</th>\n",
              "      <td>1</td>\n",
              "      <td>19</td>\n",
              "      <td>45</td>\n",
              "    </tr>\n",
              "    <tr>\n",
              "      <th>top</th>\n",
              "      <td>FEMINICÍDIO</td>\n",
              "      <td>8</td>\n",
              "      <td>2019-11-22 00:00:00</td>\n",
              "    </tr>\n",
              "    <tr>\n",
              "      <th>freq</th>\n",
              "      <td>45</td>\n",
              "      <td>6</td>\n",
              "      <td>1</td>\n",
              "    </tr>\n",
              "    <tr>\n",
              "      <th>first</th>\n",
              "      <td>NaN</td>\n",
              "      <td>NaN</td>\n",
              "      <td>2018-03-22 00:00:00</td>\n",
              "    </tr>\n",
              "    <tr>\n",
              "      <th>last</th>\n",
              "      <td>NaN</td>\n",
              "      <td>NaN</td>\n",
              "      <td>2021-11-22 00:00:00</td>\n",
              "    </tr>\n",
              "  </tbody>\n",
              "</table>\n",
              "</div>"
            ],
            "text/plain": [
              "             Rotulo Quantidade              Periodo\n",
              "count            45         45                   45\n",
              "unique            1         19                   45\n",
              "top     FEMINICÍDIO          8  2019-11-22 00:00:00\n",
              "freq             45          6                    1\n",
              "first           NaN        NaN  2018-03-22 00:00:00\n",
              "last            NaN        NaN  2021-11-22 00:00:00"
            ]
          },
          "metadata": {},
          "execution_count": 10
        }
      ]
    },
    {
      "cell_type": "code",
      "metadata": {
        "id": "3HY3JuJjzJSc"
      },
      "source": [
        "#preparando os dados para a serie\n",
        "Base_Feminicidio = Base_Feminicidio.set_index('Periodo')\n",
        "#ordenar a data\n",
        "Base_Feminicidio = Base_Feminicidio.sort_values(by='Periodo')"
      ],
      "execution_count": 11,
      "outputs": []
    },
    {
      "cell_type": "code",
      "metadata": {
        "colab": {
          "base_uri": "https://localhost:8080/",
          "height": 1000
        },
        "id": "fNC7hlg66ZaO",
        "outputId": "3e58b794-51b2-4e7f-ca16-a653993c613e"
      },
      "source": [
        "Base_Feminicidio"
      ],
      "execution_count": 12,
      "outputs": [
        {
          "output_type": "execute_result",
          "data": {
            "text/html": [
              "<div>\n",
              "<style scoped>\n",
              "    .dataframe tbody tr th:only-of-type {\n",
              "        vertical-align: middle;\n",
              "    }\n",
              "\n",
              "    .dataframe tbody tr th {\n",
              "        vertical-align: top;\n",
              "    }\n",
              "\n",
              "    .dataframe thead th {\n",
              "        text-align: right;\n",
              "    }\n",
              "</style>\n",
              "<table border=\"1\" class=\"dataframe\">\n",
              "  <thead>\n",
              "    <tr style=\"text-align: right;\">\n",
              "      <th></th>\n",
              "      <th>Rotulo</th>\n",
              "      <th>Quantidade</th>\n",
              "    </tr>\n",
              "    <tr>\n",
              "      <th>Periodo</th>\n",
              "      <th></th>\n",
              "      <th></th>\n",
              "    </tr>\n",
              "  </thead>\n",
              "  <tbody>\n",
              "    <tr>\n",
              "      <th>2018-03-22</th>\n",
              "      <td>FEMINICÍDIO</td>\n",
              "      <td>5</td>\n",
              "    </tr>\n",
              "    <tr>\n",
              "      <th>2018-04-22</th>\n",
              "      <td>FEMINICÍDIO</td>\n",
              "      <td>8</td>\n",
              "    </tr>\n",
              "    <tr>\n",
              "      <th>2018-05-22</th>\n",
              "      <td>FEMINICÍDIO</td>\n",
              "      <td>8</td>\n",
              "    </tr>\n",
              "    <tr>\n",
              "      <th>2018-06-22</th>\n",
              "      <td>FEMINICÍDIO</td>\n",
              "      <td>14</td>\n",
              "    </tr>\n",
              "    <tr>\n",
              "      <th>2018-07-22</th>\n",
              "      <td>FEMINICÍDIO</td>\n",
              "      <td>16</td>\n",
              "    </tr>\n",
              "    <tr>\n",
              "      <th>2018-08-22</th>\n",
              "      <td>FEMINICÍDIO</td>\n",
              "      <td>6</td>\n",
              "    </tr>\n",
              "    <tr>\n",
              "      <th>2018-09-22</th>\n",
              "      <td>FEMINICÍDIO</td>\n",
              "      <td>16</td>\n",
              "    </tr>\n",
              "    <tr>\n",
              "      <th>2018-10-22</th>\n",
              "      <td>FEMINICÍDIO</td>\n",
              "      <td>11</td>\n",
              "    </tr>\n",
              "    <tr>\n",
              "      <th>2018-11-22</th>\n",
              "      <td>FEMINICÍDIO</td>\n",
              "      <td>11</td>\n",
              "    </tr>\n",
              "    <tr>\n",
              "      <th>2018-12-22</th>\n",
              "      <td>FEMINICÍDIO</td>\n",
              "      <td>17</td>\n",
              "    </tr>\n",
              "    <tr>\n",
              "      <th>2019-01-22</th>\n",
              "      <td>FEMINICÍDIO</td>\n",
              "      <td>9</td>\n",
              "    </tr>\n",
              "    <tr>\n",
              "      <th>2019-02-22</th>\n",
              "      <td>FEMINICÍDIO</td>\n",
              "      <td>15</td>\n",
              "    </tr>\n",
              "    <tr>\n",
              "      <th>2019-03-22</th>\n",
              "      <td>FEMINICÍDIO</td>\n",
              "      <td>14</td>\n",
              "    </tr>\n",
              "    <tr>\n",
              "      <th>2019-04-22</th>\n",
              "      <td>FEMINICÍDIO</td>\n",
              "      <td>12</td>\n",
              "    </tr>\n",
              "    <tr>\n",
              "      <th>2019-05-22</th>\n",
              "      <td>FEMINICÍDIO</td>\n",
              "      <td>13</td>\n",
              "    </tr>\n",
              "    <tr>\n",
              "      <th>2019-06-22</th>\n",
              "      <td>FEMINICÍDIO</td>\n",
              "      <td>16</td>\n",
              "    </tr>\n",
              "    <tr>\n",
              "      <th>2019-07-22</th>\n",
              "      <td>FEMINICÍDIO</td>\n",
              "      <td>19</td>\n",
              "    </tr>\n",
              "    <tr>\n",
              "      <th>2019-08-22</th>\n",
              "      <td>FEMINICÍDIO</td>\n",
              "      <td>11</td>\n",
              "    </tr>\n",
              "    <tr>\n",
              "      <th>2019-09-22</th>\n",
              "      <td>FEMINICÍDIO</td>\n",
              "      <td>5</td>\n",
              "    </tr>\n",
              "    <tr>\n",
              "      <th>2019-10-22</th>\n",
              "      <td>FEMINICÍDIO</td>\n",
              "      <td>13</td>\n",
              "    </tr>\n",
              "    <tr>\n",
              "      <th>2019-11-22</th>\n",
              "      <td>FEMINICÍDIO</td>\n",
              "      <td>19</td>\n",
              "    </tr>\n",
              "    <tr>\n",
              "      <th>2019-12-22</th>\n",
              "      <td>FEMINICÍDIO</td>\n",
              "      <td>18</td>\n",
              "    </tr>\n",
              "    <tr>\n",
              "      <th>2020-01-22</th>\n",
              "      <td>FEMINICÍDIO</td>\n",
              "      <td>17</td>\n",
              "    </tr>\n",
              "    <tr>\n",
              "      <th>2020-02-22</th>\n",
              "      <td>FEMINICÍDIO</td>\n",
              "      <td>27</td>\n",
              "    </tr>\n",
              "    <tr>\n",
              "      <th>2020-03-22</th>\n",
              "      <td>FEMINICÍDIO</td>\n",
              "      <td>12</td>\n",
              "    </tr>\n",
              "    <tr>\n",
              "      <th>2020-04-22</th>\n",
              "      <td>FEMINICÍDIO</td>\n",
              "      <td>18</td>\n",
              "    </tr>\n",
              "    <tr>\n",
              "      <th>2020-05-22</th>\n",
              "      <td>FEMINICÍDIO</td>\n",
              "      <td>20</td>\n",
              "    </tr>\n",
              "    <tr>\n",
              "      <th>2020-06-22</th>\n",
              "      <td>FEMINICÍDIO</td>\n",
              "      <td>21</td>\n",
              "    </tr>\n",
              "    <tr>\n",
              "      <th>2020-07-22</th>\n",
              "      <td>FEMINICÍDIO</td>\n",
              "      <td>9</td>\n",
              "    </tr>\n",
              "    <tr>\n",
              "      <th>2020-08-22</th>\n",
              "      <td>FEMINICÍDIO</td>\n",
              "      <td>8</td>\n",
              "    </tr>\n",
              "    <tr>\n",
              "      <th>2020-09-22</th>\n",
              "      <td>FEMINICÍDIO</td>\n",
              "      <td>13</td>\n",
              "    </tr>\n",
              "    <tr>\n",
              "      <th>2020-10-22</th>\n",
              "      <td>FEMINICÍDIO</td>\n",
              "      <td>8</td>\n",
              "    </tr>\n",
              "    <tr>\n",
              "      <th>2020-11-22</th>\n",
              "      <td>FEMINICÍDIO</td>\n",
              "      <td>17</td>\n",
              "    </tr>\n",
              "    <tr>\n",
              "      <th>2020-12-22</th>\n",
              "      <td>FEMINICÍDIO</td>\n",
              "      <td>14</td>\n",
              "    </tr>\n",
              "    <tr>\n",
              "      <th>2021-01-22</th>\n",
              "      <td>FEMINICÍDIO</td>\n",
              "      <td>20</td>\n",
              "    </tr>\n",
              "    <tr>\n",
              "      <th>2021-02-22</th>\n",
              "      <td>FEMINICÍDIO</td>\n",
              "      <td>19</td>\n",
              "    </tr>\n",
              "    <tr>\n",
              "      <th>2021-03-22</th>\n",
              "      <td>FEMINICÍDIO</td>\n",
              "      <td>11</td>\n",
              "    </tr>\n",
              "    <tr>\n",
              "      <th>2021-04-22</th>\n",
              "      <td>FEMINICÍDIO</td>\n",
              "      <td>11</td>\n",
              "    </tr>\n",
              "    <tr>\n",
              "      <th>2021-05-22</th>\n",
              "      <td>FEMINICÍDIO</td>\n",
              "      <td>21</td>\n",
              "    </tr>\n",
              "    <tr>\n",
              "      <th>2021-06-22</th>\n",
              "      <td>FEMINICÍDIO</td>\n",
              "      <td>10</td>\n",
              "    </tr>\n",
              "    <tr>\n",
              "      <th>2021-07-22</th>\n",
              "      <td>FEMINICÍDIO</td>\n",
              "      <td>26</td>\n",
              "    </tr>\n",
              "    <tr>\n",
              "      <th>2021-08-22</th>\n",
              "      <td>FEMINICÍDIO</td>\n",
              "      <td>7</td>\n",
              "    </tr>\n",
              "    <tr>\n",
              "      <th>2021-09-22</th>\n",
              "      <td>FEMINICÍDIO</td>\n",
              "      <td>8</td>\n",
              "    </tr>\n",
              "    <tr>\n",
              "      <th>2021-10-22</th>\n",
              "      <td>FEMINICÍDIO</td>\n",
              "      <td>8</td>\n",
              "    </tr>\n",
              "    <tr>\n",
              "      <th>2021-11-22</th>\n",
              "      <td>FEMINICÍDIO</td>\n",
              "      <td>6</td>\n",
              "    </tr>\n",
              "  </tbody>\n",
              "</table>\n",
              "</div>"
            ],
            "text/plain": [
              "                 Rotulo Quantidade\n",
              "Periodo                           \n",
              "2018-03-22  FEMINICÍDIO          5\n",
              "2018-04-22  FEMINICÍDIO          8\n",
              "2018-05-22  FEMINICÍDIO          8\n",
              "2018-06-22  FEMINICÍDIO         14\n",
              "2018-07-22  FEMINICÍDIO         16\n",
              "2018-08-22  FEMINICÍDIO          6\n",
              "2018-09-22  FEMINICÍDIO         16\n",
              "2018-10-22  FEMINICÍDIO         11\n",
              "2018-11-22  FEMINICÍDIO         11\n",
              "2018-12-22  FEMINICÍDIO         17\n",
              "2019-01-22  FEMINICÍDIO          9\n",
              "2019-02-22  FEMINICÍDIO         15\n",
              "2019-03-22  FEMINICÍDIO         14\n",
              "2019-04-22  FEMINICÍDIO         12\n",
              "2019-05-22  FEMINICÍDIO         13\n",
              "2019-06-22  FEMINICÍDIO         16\n",
              "2019-07-22  FEMINICÍDIO         19\n",
              "2019-08-22  FEMINICÍDIO         11\n",
              "2019-09-22  FEMINICÍDIO          5\n",
              "2019-10-22  FEMINICÍDIO         13\n",
              "2019-11-22  FEMINICÍDIO         19\n",
              "2019-12-22  FEMINICÍDIO         18\n",
              "2020-01-22  FEMINICÍDIO         17\n",
              "2020-02-22  FEMINICÍDIO         27\n",
              "2020-03-22  FEMINICÍDIO         12\n",
              "2020-04-22  FEMINICÍDIO         18\n",
              "2020-05-22  FEMINICÍDIO         20\n",
              "2020-06-22  FEMINICÍDIO         21\n",
              "2020-07-22  FEMINICÍDIO          9\n",
              "2020-08-22  FEMINICÍDIO          8\n",
              "2020-09-22  FEMINICÍDIO         13\n",
              "2020-10-22  FEMINICÍDIO          8\n",
              "2020-11-22  FEMINICÍDIO         17\n",
              "2020-12-22  FEMINICÍDIO         14\n",
              "2021-01-22  FEMINICÍDIO         20\n",
              "2021-02-22  FEMINICÍDIO         19\n",
              "2021-03-22  FEMINICÍDIO         11\n",
              "2021-04-22  FEMINICÍDIO         11\n",
              "2021-05-22  FEMINICÍDIO         21\n",
              "2021-06-22  FEMINICÍDIO         10\n",
              "2021-07-22  FEMINICÍDIO         26\n",
              "2021-08-22  FEMINICÍDIO          7\n",
              "2021-09-22  FEMINICÍDIO          8\n",
              "2021-10-22  FEMINICÍDIO          8\n",
              "2021-11-22  FEMINICÍDIO          6"
            ]
          },
          "metadata": {},
          "execution_count": 12
        }
      ]
    },
    {
      "cell_type": "code",
      "metadata": {
        "colab": {
          "base_uri": "https://localhost:8080/"
        },
        "id": "Yc-gKwV_6bQd",
        "outputId": "28071882-17ac-47a5-8700-b715dd0d365f"
      },
      "source": [
        "#verificando os tipos de colunas\n",
        "Base_Feminicidio.info()"
      ],
      "execution_count": 13,
      "outputs": [
        {
          "output_type": "stream",
          "name": "stdout",
          "text": [
            "<class 'pandas.core.frame.DataFrame'>\n",
            "DatetimeIndex: 45 entries, 2018-03-22 to 2021-11-22\n",
            "Data columns (total 2 columns):\n",
            " #   Column      Non-Null Count  Dtype \n",
            "---  ------      --------------  ----- \n",
            " 0   Rotulo      45 non-null     object\n",
            " 1   Quantidade  45 non-null     object\n",
            "dtypes: object(2)\n",
            "memory usage: 1.1+ KB\n"
          ]
        }
      ]
    },
    {
      "cell_type": "code",
      "metadata": {
        "id": "8hy3DJki6lqe"
      },
      "source": [
        "#convertendo a coluna para inteiro\n",
        "Base_Feminicidio['Quantidade'] = pd.to_numeric(Base_Feminicidio['Quantidade'])"
      ],
      "execution_count": 14,
      "outputs": []
    },
    {
      "cell_type": "code",
      "metadata": {
        "colab": {
          "base_uri": "https://localhost:8080/",
          "height": 516
        },
        "id": "vxKtcTZI63d1",
        "outputId": "2872f026-29e1-4e74-c1d8-7fbd75d595d2"
      },
      "source": [
        "#plotar o historico agora\n",
        "figura = Dash.Figure()\n",
        "figura.add_trace(Dash.Scatter(x = Base_Feminicidio.index, y = Base_Feminicidio.Quantidade,\n",
        "                   mode='lines',\n",
        "                   name='Quantidade',\n",
        "                   marker_color= 'red',))\n",
        "\n",
        "figura.update_layout(\n",
        "    title='Historico de Feminicidio SP',\n",
        "    titlefont_size=28,\n",
        "\n",
        "    xaxis= dict(\n",
        "        title ='Periodo Historico',\n",
        "        titlefont_size=16,\n",
        "        tickfont_size=14),\n",
        "\n",
        "\n",
        "    height = 500,\n",
        "    \n",
        "  \n",
        "    yaxis = dict(\n",
        "        title='Quantidade',\n",
        "        titlefont_size=16,\n",
        "        tickfont_size=14),\n",
        "\n",
        "    legend = dict(\n",
        "        y =1, x = 1, \n",
        "        bgcolor ='red',\n",
        "        bordercolor ='red'))\n",
        "\n",
        "\n",
        "figura.show()\n",
        "       \n",
        "\n"
      ],
      "execution_count": 15,
      "outputs": [
        {
          "output_type": "display_data",
          "data": {
            "text/html": [
              "<html>\n",
              "<head><meta charset=\"utf-8\" /></head>\n",
              "<body>\n",
              "    <div>\n",
              "            <script src=\"https://cdnjs.cloudflare.com/ajax/libs/mathjax/2.7.5/MathJax.js?config=TeX-AMS-MML_SVG\"></script><script type=\"text/javascript\">if (window.MathJax) {MathJax.Hub.Config({SVG: {font: \"STIX-Web\"}});}</script>\n",
              "                <script type=\"text/javascript\">window.PlotlyConfig = {MathJaxConfig: 'local'};</script>\n",
              "        <script src=\"https://cdn.plot.ly/plotly-latest.min.js\"></script>    \n",
              "            <div id=\"c3017957-f288-4117-a7ae-c5651c732610\" class=\"plotly-graph-div\" style=\"height:500px; width:100%;\"></div>\n",
              "            <script type=\"text/javascript\">\n",
              "                \n",
              "                    window.PLOTLYENV=window.PLOTLYENV || {};\n",
              "                    \n",
              "                if (document.getElementById(\"c3017957-f288-4117-a7ae-c5651c732610\")) {\n",
              "                    Plotly.newPlot(\n",
              "                        'c3017957-f288-4117-a7ae-c5651c732610',\n",
              "                        [{\"marker\": {\"color\": \"red\"}, \"mode\": \"lines\", \"name\": \"Quantidade\", \"type\": \"scatter\", \"x\": [\"2018-03-22T00:00:00\", \"2018-04-22T00:00:00\", \"2018-05-22T00:00:00\", \"2018-06-22T00:00:00\", \"2018-07-22T00:00:00\", \"2018-08-22T00:00:00\", \"2018-09-22T00:00:00\", \"2018-10-22T00:00:00\", \"2018-11-22T00:00:00\", \"2018-12-22T00:00:00\", \"2019-01-22T00:00:00\", \"2019-02-22T00:00:00\", \"2019-03-22T00:00:00\", \"2019-04-22T00:00:00\", \"2019-05-22T00:00:00\", \"2019-06-22T00:00:00\", \"2019-07-22T00:00:00\", \"2019-08-22T00:00:00\", \"2019-09-22T00:00:00\", \"2019-10-22T00:00:00\", \"2019-11-22T00:00:00\", \"2019-12-22T00:00:00\", \"2020-01-22T00:00:00\", \"2020-02-22T00:00:00\", \"2020-03-22T00:00:00\", \"2020-04-22T00:00:00\", \"2020-05-22T00:00:00\", \"2020-06-22T00:00:00\", \"2020-07-22T00:00:00\", \"2020-08-22T00:00:00\", \"2020-09-22T00:00:00\", \"2020-10-22T00:00:00\", \"2020-11-22T00:00:00\", \"2020-12-22T00:00:00\", \"2021-01-22T00:00:00\", \"2021-02-22T00:00:00\", \"2021-03-22T00:00:00\", \"2021-04-22T00:00:00\", \"2021-05-22T00:00:00\", \"2021-06-22T00:00:00\", \"2021-07-22T00:00:00\", \"2021-08-22T00:00:00\", \"2021-09-22T00:00:00\", \"2021-10-22T00:00:00\", \"2021-11-22T00:00:00\"], \"y\": [5, 8, 8, 14, 16, 6, 16, 11, 11, 17, 9, 15, 14, 12, 13, 16, 19, 11, 5, 13, 19, 18, 17, 27, 12, 18, 20, 21, 9, 8, 13, 8, 17, 14, 20, 19, 11, 11, 21, 10, 26, 7, 8, 8, 6]}],\n",
              "                        {\"height\": 500, \"legend\": {\"bgcolor\": \"red\", \"bordercolor\": \"red\", \"x\": 1, \"y\": 1}, \"template\": {\"data\": {\"bar\": [{\"error_x\": {\"color\": \"#2a3f5f\"}, \"error_y\": {\"color\": \"#2a3f5f\"}, \"marker\": {\"line\": {\"color\": \"#E5ECF6\", \"width\": 0.5}}, \"type\": \"bar\"}], \"barpolar\": [{\"marker\": {\"line\": {\"color\": \"#E5ECF6\", \"width\": 0.5}}, \"type\": \"barpolar\"}], \"carpet\": [{\"aaxis\": {\"endlinecolor\": \"#2a3f5f\", \"gridcolor\": \"white\", \"linecolor\": \"white\", \"minorgridcolor\": \"white\", \"startlinecolor\": \"#2a3f5f\"}, \"baxis\": {\"endlinecolor\": \"#2a3f5f\", \"gridcolor\": \"white\", \"linecolor\": \"white\", \"minorgridcolor\": \"white\", \"startlinecolor\": \"#2a3f5f\"}, \"type\": \"carpet\"}], \"choropleth\": [{\"colorbar\": {\"outlinewidth\": 0, \"ticks\": \"\"}, \"type\": \"choropleth\"}], \"contour\": [{\"colorbar\": {\"outlinewidth\": 0, \"ticks\": \"\"}, \"colorscale\": [[0.0, \"#0d0887\"], [0.1111111111111111, \"#46039f\"], [0.2222222222222222, \"#7201a8\"], [0.3333333333333333, \"#9c179e\"], [0.4444444444444444, \"#bd3786\"], [0.5555555555555556, \"#d8576b\"], [0.6666666666666666, \"#ed7953\"], [0.7777777777777778, \"#fb9f3a\"], [0.8888888888888888, \"#fdca26\"], [1.0, \"#f0f921\"]], \"type\": \"contour\"}], \"contourcarpet\": [{\"colorbar\": {\"outlinewidth\": 0, \"ticks\": \"\"}, \"type\": \"contourcarpet\"}], \"heatmap\": [{\"colorbar\": {\"outlinewidth\": 0, \"ticks\": \"\"}, \"colorscale\": [[0.0, \"#0d0887\"], [0.1111111111111111, \"#46039f\"], [0.2222222222222222, \"#7201a8\"], [0.3333333333333333, \"#9c179e\"], [0.4444444444444444, \"#bd3786\"], [0.5555555555555556, \"#d8576b\"], [0.6666666666666666, \"#ed7953\"], [0.7777777777777778, \"#fb9f3a\"], [0.8888888888888888, \"#fdca26\"], [1.0, \"#f0f921\"]], \"type\": \"heatmap\"}], \"heatmapgl\": [{\"colorbar\": {\"outlinewidth\": 0, \"ticks\": \"\"}, \"colorscale\": [[0.0, \"#0d0887\"], [0.1111111111111111, \"#46039f\"], [0.2222222222222222, \"#7201a8\"], [0.3333333333333333, \"#9c179e\"], [0.4444444444444444, \"#bd3786\"], [0.5555555555555556, \"#d8576b\"], [0.6666666666666666, \"#ed7953\"], [0.7777777777777778, \"#fb9f3a\"], [0.8888888888888888, \"#fdca26\"], [1.0, \"#f0f921\"]], \"type\": \"heatmapgl\"}], \"histogram\": [{\"marker\": {\"colorbar\": {\"outlinewidth\": 0, \"ticks\": \"\"}}, \"type\": \"histogram\"}], \"histogram2d\": [{\"colorbar\": {\"outlinewidth\": 0, \"ticks\": \"\"}, \"colorscale\": [[0.0, \"#0d0887\"], [0.1111111111111111, \"#46039f\"], [0.2222222222222222, \"#7201a8\"], [0.3333333333333333, \"#9c179e\"], [0.4444444444444444, \"#bd3786\"], [0.5555555555555556, \"#d8576b\"], [0.6666666666666666, \"#ed7953\"], [0.7777777777777778, \"#fb9f3a\"], [0.8888888888888888, \"#fdca26\"], [1.0, \"#f0f921\"]], \"type\": \"histogram2d\"}], \"histogram2dcontour\": [{\"colorbar\": {\"outlinewidth\": 0, \"ticks\": \"\"}, \"colorscale\": [[0.0, \"#0d0887\"], [0.1111111111111111, \"#46039f\"], [0.2222222222222222, \"#7201a8\"], [0.3333333333333333, \"#9c179e\"], [0.4444444444444444, \"#bd3786\"], [0.5555555555555556, \"#d8576b\"], [0.6666666666666666, \"#ed7953\"], [0.7777777777777778, \"#fb9f3a\"], [0.8888888888888888, \"#fdca26\"], [1.0, \"#f0f921\"]], \"type\": \"histogram2dcontour\"}], \"mesh3d\": [{\"colorbar\": {\"outlinewidth\": 0, \"ticks\": \"\"}, \"type\": \"mesh3d\"}], \"parcoords\": [{\"line\": {\"colorbar\": {\"outlinewidth\": 0, \"ticks\": \"\"}}, \"type\": \"parcoords\"}], \"pie\": [{\"automargin\": true, \"type\": \"pie\"}], \"scatter\": [{\"marker\": {\"colorbar\": {\"outlinewidth\": 0, \"ticks\": \"\"}}, \"type\": \"scatter\"}], \"scatter3d\": [{\"line\": {\"colorbar\": {\"outlinewidth\": 0, \"ticks\": \"\"}}, \"marker\": {\"colorbar\": {\"outlinewidth\": 0, \"ticks\": \"\"}}, \"type\": \"scatter3d\"}], \"scattercarpet\": [{\"marker\": {\"colorbar\": {\"outlinewidth\": 0, \"ticks\": \"\"}}, \"type\": \"scattercarpet\"}], \"scattergeo\": [{\"marker\": {\"colorbar\": {\"outlinewidth\": 0, \"ticks\": \"\"}}, \"type\": \"scattergeo\"}], \"scattergl\": [{\"marker\": {\"colorbar\": {\"outlinewidth\": 0, \"ticks\": \"\"}}, \"type\": \"scattergl\"}], \"scattermapbox\": [{\"marker\": {\"colorbar\": {\"outlinewidth\": 0, \"ticks\": \"\"}}, \"type\": \"scattermapbox\"}], \"scatterpolar\": [{\"marker\": {\"colorbar\": {\"outlinewidth\": 0, \"ticks\": \"\"}}, \"type\": \"scatterpolar\"}], \"scatterpolargl\": [{\"marker\": {\"colorbar\": {\"outlinewidth\": 0, \"ticks\": \"\"}}, \"type\": \"scatterpolargl\"}], \"scatterternary\": [{\"marker\": {\"colorbar\": {\"outlinewidth\": 0, \"ticks\": \"\"}}, \"type\": \"scatterternary\"}], \"surface\": [{\"colorbar\": {\"outlinewidth\": 0, \"ticks\": \"\"}, \"colorscale\": [[0.0, \"#0d0887\"], [0.1111111111111111, \"#46039f\"], [0.2222222222222222, \"#7201a8\"], [0.3333333333333333, \"#9c179e\"], [0.4444444444444444, \"#bd3786\"], [0.5555555555555556, \"#d8576b\"], [0.6666666666666666, \"#ed7953\"], [0.7777777777777778, \"#fb9f3a\"], [0.8888888888888888, \"#fdca26\"], [1.0, \"#f0f921\"]], \"type\": \"surface\"}], \"table\": [{\"cells\": {\"fill\": {\"color\": \"#EBF0F8\"}, \"line\": {\"color\": \"white\"}}, \"header\": {\"fill\": {\"color\": \"#C8D4E3\"}, \"line\": {\"color\": \"white\"}}, \"type\": \"table\"}]}, \"layout\": {\"annotationdefaults\": {\"arrowcolor\": \"#2a3f5f\", \"arrowhead\": 0, \"arrowwidth\": 1}, \"coloraxis\": {\"colorbar\": {\"outlinewidth\": 0, \"ticks\": \"\"}}, \"colorscale\": {\"diverging\": [[0, \"#8e0152\"], [0.1, \"#c51b7d\"], [0.2, \"#de77ae\"], [0.3, \"#f1b6da\"], [0.4, \"#fde0ef\"], [0.5, \"#f7f7f7\"], [0.6, \"#e6f5d0\"], [0.7, \"#b8e186\"], [0.8, \"#7fbc41\"], [0.9, \"#4d9221\"], [1, \"#276419\"]], \"sequential\": [[0.0, \"#0d0887\"], [0.1111111111111111, \"#46039f\"], [0.2222222222222222, \"#7201a8\"], [0.3333333333333333, \"#9c179e\"], [0.4444444444444444, \"#bd3786\"], [0.5555555555555556, \"#d8576b\"], [0.6666666666666666, \"#ed7953\"], [0.7777777777777778, \"#fb9f3a\"], [0.8888888888888888, \"#fdca26\"], [1.0, \"#f0f921\"]], \"sequentialminus\": [[0.0, \"#0d0887\"], [0.1111111111111111, \"#46039f\"], [0.2222222222222222, \"#7201a8\"], [0.3333333333333333, \"#9c179e\"], [0.4444444444444444, \"#bd3786\"], [0.5555555555555556, \"#d8576b\"], [0.6666666666666666, \"#ed7953\"], [0.7777777777777778, \"#fb9f3a\"], [0.8888888888888888, \"#fdca26\"], [1.0, \"#f0f921\"]]}, \"colorway\": [\"#636efa\", \"#EF553B\", \"#00cc96\", \"#ab63fa\", \"#FFA15A\", \"#19d3f3\", \"#FF6692\", \"#B6E880\", \"#FF97FF\", \"#FECB52\"], \"font\": {\"color\": \"#2a3f5f\"}, \"geo\": {\"bgcolor\": \"white\", \"lakecolor\": \"white\", \"landcolor\": \"#E5ECF6\", \"showlakes\": true, \"showland\": true, \"subunitcolor\": \"white\"}, \"hoverlabel\": {\"align\": \"left\"}, \"hovermode\": \"closest\", \"mapbox\": {\"style\": \"light\"}, \"paper_bgcolor\": \"white\", \"plot_bgcolor\": \"#E5ECF6\", \"polar\": {\"angularaxis\": {\"gridcolor\": \"white\", \"linecolor\": \"white\", \"ticks\": \"\"}, \"bgcolor\": \"#E5ECF6\", \"radialaxis\": {\"gridcolor\": \"white\", \"linecolor\": \"white\", \"ticks\": \"\"}}, \"scene\": {\"xaxis\": {\"backgroundcolor\": \"#E5ECF6\", \"gridcolor\": \"white\", \"gridwidth\": 2, \"linecolor\": \"white\", \"showbackground\": true, \"ticks\": \"\", \"zerolinecolor\": \"white\"}, \"yaxis\": {\"backgroundcolor\": \"#E5ECF6\", \"gridcolor\": \"white\", \"gridwidth\": 2, \"linecolor\": \"white\", \"showbackground\": true, \"ticks\": \"\", \"zerolinecolor\": \"white\"}, \"zaxis\": {\"backgroundcolor\": \"#E5ECF6\", \"gridcolor\": \"white\", \"gridwidth\": 2, \"linecolor\": \"white\", \"showbackground\": true, \"ticks\": \"\", \"zerolinecolor\": \"white\"}}, \"shapedefaults\": {\"line\": {\"color\": \"#2a3f5f\"}}, \"ternary\": {\"aaxis\": {\"gridcolor\": \"white\", \"linecolor\": \"white\", \"ticks\": \"\"}, \"baxis\": {\"gridcolor\": \"white\", \"linecolor\": \"white\", \"ticks\": \"\"}, \"bgcolor\": \"#E5ECF6\", \"caxis\": {\"gridcolor\": \"white\", \"linecolor\": \"white\", \"ticks\": \"\"}}, \"title\": {\"x\": 0.05}, \"xaxis\": {\"automargin\": true, \"gridcolor\": \"white\", \"linecolor\": \"white\", \"ticks\": \"\", \"title\": {\"standoff\": 15}, \"zerolinecolor\": \"white\", \"zerolinewidth\": 2}, \"yaxis\": {\"automargin\": true, \"gridcolor\": \"white\", \"linecolor\": \"white\", \"ticks\": \"\", \"title\": {\"standoff\": 15}, \"zerolinecolor\": \"white\", \"zerolinewidth\": 2}}}, \"title\": {\"font\": {\"size\": 28}, \"text\": \"Historico de Feminicidio SP\"}, \"xaxis\": {\"tickfont\": {\"size\": 14}, \"title\": {\"font\": {\"size\": 16}, \"text\": \"Periodo Historico\"}}, \"yaxis\": {\"tickfont\": {\"size\": 14}, \"title\": {\"font\": {\"size\": 16}, \"text\": \"Quantidade\"}}},\n",
              "                        {\"responsive\": true}\n",
              "                    ).then(function(){\n",
              "                            \n",
              "var gd = document.getElementById('c3017957-f288-4117-a7ae-c5651c732610');\n",
              "var x = new MutationObserver(function (mutations, observer) {{\n",
              "        var display = window.getComputedStyle(gd).display;\n",
              "        if (!display || display === 'none') {{\n",
              "            console.log([gd, 'removed!']);\n",
              "            Plotly.purge(gd);\n",
              "            observer.disconnect();\n",
              "        }}\n",
              "}});\n",
              "\n",
              "// Listen for the removal of the full notebook cells\n",
              "var notebookContainer = gd.closest('#notebook-container');\n",
              "if (notebookContainer) {{\n",
              "    x.observe(notebookContainer, {childList: true});\n",
              "}}\n",
              "\n",
              "// Listen for the clearing of the current output cell\n",
              "var outputEl = gd.closest('.output');\n",
              "if (outputEl) {{\n",
              "    x.observe(outputEl, {childList: true});\n",
              "}}\n",
              "\n",
              "                        })\n",
              "                };\n",
              "                \n",
              "            </script>\n",
              "        </div>\n",
              "</body>\n",
              "</html>"
            ]
          },
          "metadata": {}
        }
      ]
    },
    {
      "cell_type": "code",
      "metadata": {
        "id": "BHAuQaut7lPD"
      },
      "source": [
        "#Treinar o Modelo\n",
        "from pmdarima.arima import auto_arima"
      ],
      "execution_count": 23,
      "outputs": []
    },
    {
      "cell_type": "code",
      "metadata": {
        "id": "FbvoDk78JMYe"
      },
      "source": [
        "Funcao_auto_arima = auto_arima(\n",
        "    #treinar o modelo\n",
        "    Base_Feminicidio['Quantidade'],\n",
        "    start_p=1, start_q=1,\n",
        "    max_p=6, max_q=6,\n",
        "    m=12 #diferenciação sazonal,\n",
        "    start_P=0,\n",
        "    seasonal=True,\n",
        "    d=1,\n",
        "    D=1,\n",
        "    trace=True,\n",
        "    error_action='ignore',\n",
        "    stepwise=True)"
      ],
      "execution_count": null,
      "outputs": []
    },
    {
      "cell_type": "code",
      "metadata": {
        "id": "AhVbCqpaL_4X"
      },
      "source": [
        "# em construção!!!!"
      ],
      "execution_count": 25,
      "outputs": []
    }
  ]
}