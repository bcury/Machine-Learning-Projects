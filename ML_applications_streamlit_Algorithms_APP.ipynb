{
  "nbformat": 4,
  "nbformat_minor": 0,
  "metadata": {
    "colab": {
      "name": "ML_applications_streamlit_Algorithms_APP",
      "provenance": [],
      "collapsed_sections": [],
      "authorship_tag": "ABX9TyMcOPct5d9yNTZphSoN9/m+",
      "include_colab_link": true
    },
    "kernelspec": {
      "name": "python3",
      "display_name": "Python 3"
    },
    "language_info": {
      "name": "python"
    }
  },
  "cells": [
    {
      "cell_type": "markdown",
      "metadata": {
        "id": "view-in-github",
        "colab_type": "text"
      },
      "source": [
        "<a href=\"https://colab.research.google.com/github/bcury/Machine-Learning-Projects/blob/main/ML_applications_streamlit_Algorithms_APP.ipynb\" target=\"_parent\"><img src=\"https://colab.research.google.com/assets/colab-badge.svg\" alt=\"Open In Colab\"/></a>"
      ]
    },
    {
      "cell_type": "markdown",
      "source": [
        "**Aplicação com Machine Learning de forma Visual**"
      ],
      "metadata": {
        "id": "CEhxEC28M95s"
      }
    },
    {
      "cell_type": "markdown",
      "source": [
        "*Code APP done by Eduardo Rocha*"
      ],
      "metadata": {
        "id": "qB-L150AsQS5"
      }
    },
    {
      "cell_type": "code",
      "execution_count": 7,
      "metadata": {
        "id": "EEEg44SrMm2N"
      },
      "outputs": [],
      "source": [
        "#bibliotecas\n",
        "\n",
        "import pandas as pd\n",
        "import numpy as np\n",
        "import seaborn as sns\n",
        "import matplotlib.pyplot as plt\n",
        "import streamlit as st\n",
        "import sys\n",
        "import warnings\n",
        "import os\n"
      ]
    },
    {
      "cell_type": "code",
      "source": [
        "#continuando\n",
        "\n",
        "from numpy.core.numeric import True_\n",
        "from sklearn.svm import SVC\n",
        "from sklearn.linear_model import LogisticRegression\n",
        "from sklearn.ensemble import RandomForestClassifier\n",
        "from sklearn.preprocessing import LabelEncoder\n",
        "from sklearn.metrics import accuracy_score, classification_report\n",
        "from sklearn.metrics import precision_score, recall_score\n",
        "from sklearn.metrics import plot_roc_curve, plot_confusion_matrix, plot_precision_recall_curve\n",
        "from sklearn.model_selection import train_test_split\n"
      ],
      "metadata": {
        "id": "sfDXIVxwNWUI"
      },
      "execution_count": 8,
      "outputs": []
    },
    {
      "cell_type": "markdown",
      "source": [
        "**Aplicação no StreamLit**"
      ],
      "metadata": {
        "id": "z8vk6_RzPZP5"
      }
    },
    {
      "cell_type": "code",
      "source": [
        "st.cache(persist=True)"
      ],
      "metadata": {
        "colab": {
          "base_uri": "https://localhost:8080/"
        },
        "id": "asUV3HFJOnHK",
        "outputId": "25438991-00e7-48c1-eab7-efe12a9c90af"
      },
      "execution_count": 45,
      "outputs": [
        {
          "output_type": "execute_result",
          "data": {
            "text/plain": [
              "<function streamlit.legacy_caching.caching.cache.<locals>.<lambda>(f)>"
            ]
          },
          "metadata": {},
          "execution_count": 45
        }
      ]
    },
    {
      "cell_type": "code",
      "source": [
        "def load():\n",
        "  columns_names = ['target', 'cap-shape', 'cap-surface','cap-color','bruises?','odor','gill-attachment', 'gill-spacing', 'gill-color','stalk-shape',\n",
        "                   'stalk-root', 'stalk-surface-above-ring','stalk-surface-below-ring','veil-type', 'veil-color', 'ring-number','ring-type',\n",
        "                   'spore-print-color','population','habitat']\n",
        "  \n",
        "  url = 'https://archive.ics.uci.edu/ml/machine-learning-databases/mushroom/agaricus-lepiota.data'\n",
        "  data = pd.read_csv(url, header=None, names = columns_names)\n",
        "  label = LabelEncoder()\n",
        "  for i in data.columns:\n",
        "    data[i] = label.fit_transform(data[i])\n",
        "    return data\n",
        "\n",
        "base = load()"
      ],
      "metadata": {
        "id": "IuBT847JQFbs"
      },
      "execution_count": 11,
      "outputs": []
    },
    {
      "cell_type": "code",
      "source": [
        "base.head()"
      ],
      "metadata": {
        "colab": {
          "base_uri": "https://localhost:8080/",
          "height": 278
        },
        "id": "08CUSJU4TqSt",
        "outputId": "8925cc72-f730-4152-87c9-9a9c60ca5c16"
      },
      "execution_count": 12,
      "outputs": [
        {
          "output_type": "execute_result",
          "data": {
            "text/html": [
              "<div>\n",
              "<style scoped>\n",
              "    .dataframe tbody tr th:only-of-type {\n",
              "        vertical-align: middle;\n",
              "    }\n",
              "\n",
              "    .dataframe tbody tr th {\n",
              "        vertical-align: top;\n",
              "    }\n",
              "\n",
              "    .dataframe thead th {\n",
              "        text-align: right;\n",
              "    }\n",
              "</style>\n",
              "<table border=\"1\" class=\"dataframe\">\n",
              "  <thead>\n",
              "    <tr style=\"text-align: right;\">\n",
              "      <th></th>\n",
              "      <th></th>\n",
              "      <th></th>\n",
              "      <th>target</th>\n",
              "      <th>cap-shape</th>\n",
              "      <th>cap-surface</th>\n",
              "      <th>cap-color</th>\n",
              "      <th>bruises?</th>\n",
              "      <th>odor</th>\n",
              "      <th>gill-attachment</th>\n",
              "      <th>gill-spacing</th>\n",
              "      <th>gill-color</th>\n",
              "      <th>stalk-shape</th>\n",
              "      <th>stalk-root</th>\n",
              "      <th>stalk-surface-above-ring</th>\n",
              "      <th>stalk-surface-below-ring</th>\n",
              "      <th>veil-type</th>\n",
              "      <th>veil-color</th>\n",
              "      <th>ring-number</th>\n",
              "      <th>ring-type</th>\n",
              "      <th>spore-print-color</th>\n",
              "      <th>population</th>\n",
              "      <th>habitat</th>\n",
              "    </tr>\n",
              "  </thead>\n",
              "  <tbody>\n",
              "    <tr>\n",
              "      <th>p</th>\n",
              "      <th>x</th>\n",
              "      <th>s</th>\n",
              "      <td>4</td>\n",
              "      <td>t</td>\n",
              "      <td>p</td>\n",
              "      <td>f</td>\n",
              "      <td>c</td>\n",
              "      <td>n</td>\n",
              "      <td>k</td>\n",
              "      <td>e</td>\n",
              "      <td>e</td>\n",
              "      <td>s</td>\n",
              "      <td>s</td>\n",
              "      <td>w</td>\n",
              "      <td>w</td>\n",
              "      <td>p</td>\n",
              "      <td>w</td>\n",
              "      <td>o</td>\n",
              "      <td>p</td>\n",
              "      <td>k</td>\n",
              "      <td>s</td>\n",
              "      <td>u</td>\n",
              "    </tr>\n",
              "    <tr>\n",
              "      <th rowspan=\"2\" valign=\"top\">e</th>\n",
              "      <th>x</th>\n",
              "      <th>s</th>\n",
              "      <td>9</td>\n",
              "      <td>t</td>\n",
              "      <td>a</td>\n",
              "      <td>f</td>\n",
              "      <td>c</td>\n",
              "      <td>b</td>\n",
              "      <td>k</td>\n",
              "      <td>e</td>\n",
              "      <td>c</td>\n",
              "      <td>s</td>\n",
              "      <td>s</td>\n",
              "      <td>w</td>\n",
              "      <td>w</td>\n",
              "      <td>p</td>\n",
              "      <td>w</td>\n",
              "      <td>o</td>\n",
              "      <td>p</td>\n",
              "      <td>n</td>\n",
              "      <td>n</td>\n",
              "      <td>g</td>\n",
              "    </tr>\n",
              "    <tr>\n",
              "      <th>b</th>\n",
              "      <th>s</th>\n",
              "      <td>8</td>\n",
              "      <td>t</td>\n",
              "      <td>l</td>\n",
              "      <td>f</td>\n",
              "      <td>c</td>\n",
              "      <td>b</td>\n",
              "      <td>n</td>\n",
              "      <td>e</td>\n",
              "      <td>c</td>\n",
              "      <td>s</td>\n",
              "      <td>s</td>\n",
              "      <td>w</td>\n",
              "      <td>w</td>\n",
              "      <td>p</td>\n",
              "      <td>w</td>\n",
              "      <td>o</td>\n",
              "      <td>p</td>\n",
              "      <td>n</td>\n",
              "      <td>n</td>\n",
              "      <td>m</td>\n",
              "    </tr>\n",
              "    <tr>\n",
              "      <th>p</th>\n",
              "      <th>x</th>\n",
              "      <th>y</th>\n",
              "      <td>8</td>\n",
              "      <td>t</td>\n",
              "      <td>p</td>\n",
              "      <td>f</td>\n",
              "      <td>c</td>\n",
              "      <td>n</td>\n",
              "      <td>n</td>\n",
              "      <td>e</td>\n",
              "      <td>e</td>\n",
              "      <td>s</td>\n",
              "      <td>s</td>\n",
              "      <td>w</td>\n",
              "      <td>w</td>\n",
              "      <td>p</td>\n",
              "      <td>w</td>\n",
              "      <td>o</td>\n",
              "      <td>p</td>\n",
              "      <td>k</td>\n",
              "      <td>s</td>\n",
              "      <td>u</td>\n",
              "    </tr>\n",
              "    <tr>\n",
              "      <th>e</th>\n",
              "      <th>x</th>\n",
              "      <th>s</th>\n",
              "      <td>3</td>\n",
              "      <td>f</td>\n",
              "      <td>n</td>\n",
              "      <td>f</td>\n",
              "      <td>w</td>\n",
              "      <td>b</td>\n",
              "      <td>k</td>\n",
              "      <td>t</td>\n",
              "      <td>e</td>\n",
              "      <td>s</td>\n",
              "      <td>s</td>\n",
              "      <td>w</td>\n",
              "      <td>w</td>\n",
              "      <td>p</td>\n",
              "      <td>w</td>\n",
              "      <td>o</td>\n",
              "      <td>e</td>\n",
              "      <td>n</td>\n",
              "      <td>a</td>\n",
              "      <td>g</td>\n",
              "    </tr>\n",
              "  </tbody>\n",
              "</table>\n",
              "</div>"
            ],
            "text/plain": [
              "       target cap-shape cap-surface  ... spore-print-color population habitat\n",
              "p x s       4         t           p  ...                 k          s       u\n",
              "e x s       9         t           a  ...                 n          n       g\n",
              "  b s       8         t           l  ...                 n          n       m\n",
              "p x y       8         t           p  ...                 k          s       u\n",
              "e x s       3         f           n  ...                 n          a       g\n",
              "\n",
              "[5 rows x 20 columns]"
            ]
          },
          "metadata": {},
          "execution_count": 12
        }
      ]
    },
    {
      "cell_type": "markdown",
      "source": [
        "***Treinando o modelo***"
      ],
      "metadata": {
        "id": "KkW4SSQxUut4"
      }
    },
    {
      "cell_type": "code",
      "source": [
        "def split(base):\n",
        "  x = base.drop(columns=['target'])\n",
        "  y = base.target\n",
        "  x_train, x_test, y_train, y_test = train_test_split( x, y, test_size=0.30, random_state=0)\n",
        "\n",
        "  return x_train, x_test, y_train, y_test\n",
        "x_train, x_test, y_train, y_test = split(base)"
      ],
      "metadata": {
        "id": "jC8PEeFUTrON"
      },
      "execution_count": 15,
      "outputs": []
    },
    {
      "cell_type": "markdown",
      "source": [
        "***Visualização das metricas***"
      ],
      "metadata": {
        "id": "2h6g5XI6VWpQ"
      }
    },
    {
      "cell_type": "code",
      "source": [
        "def plot_metrics(metrics_list):\n",
        "  if 'Confusion Matrix' in metrics_list:\n",
        "    st.subheader('Confusion Matrix')\n",
        "    plot_confusion_matrix(model, x_test, y_test, display_labels = class_names)\n",
        "    st.pyplot()\n",
        "  if 'Roc Curve' in metrics_list:\n",
        "    st.subheader('Roc Curve')\n",
        "    plot_roc_curve(model, x_test, y_test)\n",
        "    st.pyplot()\n",
        "\n",
        "  if 'Precision Recall Curve' in metrics_list:\n",
        "    st.subheader('Precision Recall Curve')\n",
        "    plot_precision_recall_curve(model, x_test, y_test)\n",
        "    st.pyplot()\n",
        "\n",
        "class_names = ['Comestivel', 'venenoso']"
      ],
      "metadata": {
        "id": "W2SgiFtIVbhE"
      },
      "execution_count": 16,
      "outputs": []
    },
    {
      "cell_type": "markdown",
      "source": [
        "**Criando as máquinas preditivas**"
      ],
      "metadata": {
        "id": "JeBbKcGVXoAR"
      }
    },
    {
      "cell_type": "code",
      "source": [
        "st.set_option('deprecation.showPyplotGlobalUse', False)\n",
        "st.sidebar.subheader('choose your predict machine')\n",
        "classifier = st.sidebar.selectbox('Classifier', ('SVM', 'Logistic Regression', 'Random Forest'))"
      ],
      "metadata": {
        "id": "XjmYDrqdYk6Q"
      },
      "execution_count": 24,
      "outputs": []
    },
    {
      "cell_type": "code",
      "source": [
        "#Algoritimo SVM"
      ],
      "metadata": {
        "id": "cEcjCTKHXs7i"
      },
      "execution_count": 17,
      "outputs": []
    },
    {
      "cell_type": "code",
      "source": [
        "if classifier == 'SVM':\n",
        "  st.sidebar.subheader('hyperparametros')\n",
        "  c = st.sidebar.number_input('C', 0.01,10.0, step=0.01, key='c')\n",
        "  kernel = st.sidebar.radio('Kernel',('rbf','linear'),key='Kernel')\n",
        "  gamma = st.sidebar.radio('Gamma', ('scale','auto'), key='gamma')\n",
        "  metrics = st.sidebar.multiselect('qual metrica usar?', ('confusion matrix', 'roc curve', 'precision recall curve'))\n",
        "  st.set_option('deprecation.showPyplotGlobalUse', False)\n",
        "\n",
        "  if st.sidebar.button('classify', key='classify'):\n",
        "    st.subheader('SVM results')\n",
        "    model = SVC(c = c, kernel = kernel, gamma=gamma)\n",
        "    model.fit(x_train, y_train)\n",
        "    accuracy = model.score(x_test, y_test)\n",
        "    previsao = model.predict(x_test)\n",
        "    st.write('acurácia', accuracy.round(2))\n",
        "    st.write('precisao', precision_score(y_test, previsao, labels=class_names).round(2))\n",
        "    st.write('recall', recall_score(y_test, previsao, labels=class_names).round(2))\n",
        "    plot_metrics(metrics)"
      ],
      "metadata": {
        "id": "-83oglsgYeFr"
      },
      "execution_count": 30,
      "outputs": []
    },
    {
      "cell_type": "code",
      "source": [
        "#lOGISTIC rEGRESSION"
      ],
      "metadata": {
        "id": "bMsrPCMjiKBM"
      },
      "execution_count": 35,
      "outputs": []
    },
    {
      "cell_type": "code",
      "source": [
        "if classifier == 'Logistic Regression':\n",
        "  st.sidebar.subheader('hyperparametros')\n",
        "  c = st.sidebar.number_input('c',0.01, 10.0, step=0.01, key='c_LR')\n",
        "  max_iter = st.sidebar.slider('max int', 100, 500, key='max int')\n",
        "  metrics = st.sidebar.multiselect('qual metrica usar?', ('confusion matrix', 'roc curve', 'precision recall curve'))\n",
        "  st.set_option('deprecation.showPyplotGlobalUse', False)\n",
        "\n",
        "  if st.sidebar.button('classify', key='classify'):\n",
        "    st.subheader('LR results')\n",
        "    model = LogisticRegression(c = c, max_iter=max_inter)\n",
        "    model.fit(x_train, y_train)\n",
        "    accuracy = model.score(x_test, y_test)\n",
        "    previsao = model.predict(x_test)\n",
        "    st.write('acurácia', accuracy.round(2))\n",
        "    st.write('precisao', precision_score(y_test, previsao, labels=class_names).round(2))\n",
        "    st.write('recall', recall_score(y_test, previsao, labels=class_names).round(2))\n",
        "    plot_metrics(metrics)\n",
        "    metrics = st.sidebar.multiselect('qual metrica usar?', ('confusion matrix', 'roc curve', 'precision recall curve'))\n",
        "    st.set_option('deprecation.showPyplotGlobalUse', False)\n",
        "\n",
        "\n",
        "\n"
      ],
      "metadata": {
        "id": "mzB7f_-jjgLU"
      },
      "execution_count": 40,
      "outputs": []
    },
    {
      "cell_type": "code",
      "source": [
        "#random Forest"
      ],
      "metadata": {
        "id": "giGHwpn2mqUq"
      },
      "execution_count": 38,
      "outputs": []
    },
    {
      "cell_type": "code",
      "source": [
        "if classifier == 'random forest':\n",
        "  st.sidebar.subheader('hyperparametros')\n",
        "  n_estimators = st.sidebar.number_input('numero de tree',100,5000, step=10, key='n_estimators')\n",
        "  max_depth = st.sidebar.number_input('profundidade', 1, 20, step=1, key='max_depth')\n",
        "  bootstrap = st.sidebar.radio('amostras', ('True','False'), key='max_depth')\n",
        "\n",
        "  if st.sidebar.button('classify', key='classify'):\n",
        "    st.subheader('random Forest results')\n",
        "    modelo = RandomForestClassifier(n_estimators=n_estimators, max_depth=max_depth, bootstrap=bootstrap, n_jobs=-1)\n",
        "    modelo.fit(x_train, y_train)\n",
        "    previsao = modelo.predict(x_test)\n",
        "    st.write('acurácia', accuracy.round(2))\n",
        "    st.write('precisao', precision_score(y_test, previsao, labels=class_names).round(2))\n",
        "    st.write('recall', recall_score(y_test, previsao, labels=class_names).round(2))\n",
        "    plot_metrics(metrics)\n",
        "    metrics = st.sidebar.multiselect('qual metrica usar?', ('confusion matrix', 'roc curve', 'precision recall curve'))\n",
        "    st.set_option('deprecation.showPyplotGlobalUse', False)"
      ],
      "metadata": {
        "id": "LHyUKegEmsSR"
      },
      "execution_count": 42,
      "outputs": []
    },
    {
      "cell_type": "markdown",
      "source": [
        "Modelo Preditivo criado como se fosse um APP, voce escolhe os metodos e ve os resultados"
      ],
      "metadata": {
        "id": "4OpZzMmTsED3"
      }
    }
  ]
}