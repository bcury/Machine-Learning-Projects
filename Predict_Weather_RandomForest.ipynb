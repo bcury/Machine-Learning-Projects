{
  "nbformat": 4,
  "nbformat_minor": 0,
  "metadata": {
    "colab": {
      "name": "Predict_Weather_RandomForest",
      "provenance": [],
      "collapsed_sections": [],
      "authorship_tag": "ABX9TyPwWV2eR3X2kWCSMMfjYz7K",
      "include_colab_link": true
    },
    "kernelspec": {
      "name": "python3",
      "display_name": "Python 3"
    },
    "language_info": {
      "name": "python"
    }
  },
  "cells": [
    {
      "cell_type": "markdown",
      "metadata": {
        "id": "view-in-github",
        "colab_type": "text"
      },
      "source": [
        "<a href=\"https://colab.research.google.com/github/bcury/Machine-Learning-Projects/blob/main/Predict_Weather_RandomForest.ipynb\" target=\"_parent\"><img src=\"https://colab.research.google.com/assets/colab-badge.svg\" alt=\"Open In Colab\"/></a>"
      ]
    },
    {
      "cell_type": "markdown",
      "metadata": {
        "id": "-5aqsVjMxh0Y"
      },
      "source": [
        "Prever Temperatura"
      ]
    },
    {
      "cell_type": "code",
      "metadata": {
        "id": "zgUAXie4xkFE"
      },
      "source": [
        "import pandas as pd\n",
        "temp_global = pd.read_csv('/content/GlobalTemperatures.csv')"
      ],
      "execution_count": null,
      "outputs": []
    },
    {
      "cell_type": "code",
      "metadata": {
        "colab": {
          "base_uri": "https://localhost:8080/"
        },
        "id": "7YJo3feCxwVU",
        "outputId": "3aa18f25-9e40-47cb-92a9-e019ebd810eb"
      },
      "source": [
        "temp_global.info()"
      ],
      "execution_count": null,
      "outputs": [
        {
          "output_type": "stream",
          "name": "stdout",
          "text": [
            "<class 'pandas.core.frame.DataFrame'>\n",
            "RangeIndex: 3192 entries, 0 to 3191\n",
            "Data columns (total 9 columns):\n",
            " #   Column                                     Non-Null Count  Dtype  \n",
            "---  ------                                     --------------  -----  \n",
            " 0   dt                                         3192 non-null   object \n",
            " 1   LandAverageTemperature                     3180 non-null   float64\n",
            " 2   LandAverageTemperatureUncertainty          3180 non-null   float64\n",
            " 3   LandMaxTemperature                         1992 non-null   float64\n",
            " 4   LandMaxTemperatureUncertainty              1992 non-null   float64\n",
            " 5   LandMinTemperature                         1992 non-null   float64\n",
            " 6   LandMinTemperatureUncertainty              1992 non-null   float64\n",
            " 7   LandAndOceanAverageTemperature             1992 non-null   float64\n",
            " 8   LandAndOceanAverageTemperatureUncertainty  1992 non-null   float64\n",
            "dtypes: float64(8), object(1)\n",
            "memory usage: 224.6+ KB\n"
          ]
        }
      ]
    },
    {
      "cell_type": "code",
      "metadata": {
        "colab": {
          "base_uri": "https://localhost:8080/",
          "height": 320
        },
        "id": "MHvnMbwBx1P7",
        "outputId": "25053d6a-af7f-4e78-cdf2-627d3af0411f"
      },
      "source": [
        "temp_global.describe()"
      ],
      "execution_count": null,
      "outputs": [
        {
          "output_type": "execute_result",
          "data": {
            "text/html": [
              "<div>\n",
              "<style scoped>\n",
              "    .dataframe tbody tr th:only-of-type {\n",
              "        vertical-align: middle;\n",
              "    }\n",
              "\n",
              "    .dataframe tbody tr th {\n",
              "        vertical-align: top;\n",
              "    }\n",
              "\n",
              "    .dataframe thead th {\n",
              "        text-align: right;\n",
              "    }\n",
              "</style>\n",
              "<table border=\"1\" class=\"dataframe\">\n",
              "  <thead>\n",
              "    <tr style=\"text-align: right;\">\n",
              "      <th></th>\n",
              "      <th>LandAverageTemperature</th>\n",
              "      <th>LandAverageTemperatureUncertainty</th>\n",
              "      <th>LandMaxTemperature</th>\n",
              "      <th>LandMaxTemperatureUncertainty</th>\n",
              "      <th>LandMinTemperature</th>\n",
              "      <th>LandMinTemperatureUncertainty</th>\n",
              "      <th>LandAndOceanAverageTemperature</th>\n",
              "      <th>LandAndOceanAverageTemperatureUncertainty</th>\n",
              "    </tr>\n",
              "  </thead>\n",
              "  <tbody>\n",
              "    <tr>\n",
              "      <th>count</th>\n",
              "      <td>3180.000000</td>\n",
              "      <td>3180.000000</td>\n",
              "      <td>1992.000000</td>\n",
              "      <td>1992.000000</td>\n",
              "      <td>1992.000000</td>\n",
              "      <td>1992.000000</td>\n",
              "      <td>1992.000000</td>\n",
              "      <td>1992.000000</td>\n",
              "    </tr>\n",
              "    <tr>\n",
              "      <th>mean</th>\n",
              "      <td>8.374731</td>\n",
              "      <td>0.938468</td>\n",
              "      <td>14.350601</td>\n",
              "      <td>0.479782</td>\n",
              "      <td>2.743595</td>\n",
              "      <td>0.431849</td>\n",
              "      <td>15.212566</td>\n",
              "      <td>0.128532</td>\n",
              "    </tr>\n",
              "    <tr>\n",
              "      <th>std</th>\n",
              "      <td>4.381310</td>\n",
              "      <td>1.096440</td>\n",
              "      <td>4.309579</td>\n",
              "      <td>0.583203</td>\n",
              "      <td>4.155835</td>\n",
              "      <td>0.445838</td>\n",
              "      <td>1.274093</td>\n",
              "      <td>0.073587</td>\n",
              "    </tr>\n",
              "    <tr>\n",
              "      <th>min</th>\n",
              "      <td>-2.080000</td>\n",
              "      <td>0.034000</td>\n",
              "      <td>5.900000</td>\n",
              "      <td>0.044000</td>\n",
              "      <td>-5.407000</td>\n",
              "      <td>0.045000</td>\n",
              "      <td>12.475000</td>\n",
              "      <td>0.042000</td>\n",
              "    </tr>\n",
              "    <tr>\n",
              "      <th>25%</th>\n",
              "      <td>4.312000</td>\n",
              "      <td>0.186750</td>\n",
              "      <td>10.212000</td>\n",
              "      <td>0.142000</td>\n",
              "      <td>-1.334500</td>\n",
              "      <td>0.155000</td>\n",
              "      <td>14.047000</td>\n",
              "      <td>0.063000</td>\n",
              "    </tr>\n",
              "    <tr>\n",
              "      <th>50%</th>\n",
              "      <td>8.610500</td>\n",
              "      <td>0.392000</td>\n",
              "      <td>14.760000</td>\n",
              "      <td>0.252000</td>\n",
              "      <td>2.949500</td>\n",
              "      <td>0.279000</td>\n",
              "      <td>15.251000</td>\n",
              "      <td>0.122000</td>\n",
              "    </tr>\n",
              "    <tr>\n",
              "      <th>75%</th>\n",
              "      <td>12.548250</td>\n",
              "      <td>1.419250</td>\n",
              "      <td>18.451500</td>\n",
              "      <td>0.539000</td>\n",
              "      <td>6.778750</td>\n",
              "      <td>0.458250</td>\n",
              "      <td>16.396250</td>\n",
              "      <td>0.151000</td>\n",
              "    </tr>\n",
              "    <tr>\n",
              "      <th>max</th>\n",
              "      <td>19.021000</td>\n",
              "      <td>7.880000</td>\n",
              "      <td>21.320000</td>\n",
              "      <td>4.373000</td>\n",
              "      <td>9.715000</td>\n",
              "      <td>3.498000</td>\n",
              "      <td>17.611000</td>\n",
              "      <td>0.457000</td>\n",
              "    </tr>\n",
              "  </tbody>\n",
              "</table>\n",
              "</div>"
            ],
            "text/plain": [
              "       LandAverageTemperature  ...  LandAndOceanAverageTemperatureUncertainty\n",
              "count             3180.000000  ...                                1992.000000\n",
              "mean                 8.374731  ...                                   0.128532\n",
              "std                  4.381310  ...                                   0.073587\n",
              "min                 -2.080000  ...                                   0.042000\n",
              "25%                  4.312000  ...                                   0.063000\n",
              "50%                  8.610500  ...                                   0.122000\n",
              "75%                 12.548250  ...                                   0.151000\n",
              "max                 19.021000  ...                                   0.457000\n",
              "\n",
              "[8 rows x 8 columns]"
            ]
          },
          "metadata": {},
          "execution_count": 3
        }
      ]
    },
    {
      "cell_type": "code",
      "metadata": {
        "colab": {
          "base_uri": "https://localhost:8080/"
        },
        "id": "KLEpUdllx7In",
        "outputId": "0f0d501e-f075-4840-e9df-b6727199aff5"
      },
      "source": [
        "temp_global.shape"
      ],
      "execution_count": null,
      "outputs": [
        {
          "output_type": "execute_result",
          "data": {
            "text/plain": [
              "(3192, 9)"
            ]
          },
          "metadata": {},
          "execution_count": 4
        }
      ]
    },
    {
      "cell_type": "code",
      "metadata": {
        "colab": {
          "base_uri": "https://localhost:8080/"
        },
        "id": "1-xNwsFryBWK",
        "outputId": "bfc57d72-219d-4c1c-cdbd-142ed38d85e8"
      },
      "source": [
        "temp_global.columns"
      ],
      "execution_count": null,
      "outputs": [
        {
          "output_type": "execute_result",
          "data": {
            "text/plain": [
              "Index(['dt', 'LandAverageTemperature', 'LandAverageTemperatureUncertainty',\n",
              "       'LandMaxTemperature', 'LandMaxTemperatureUncertainty',\n",
              "       'LandMinTemperature', 'LandMinTemperatureUncertainty',\n",
              "       'LandAndOceanAverageTemperature',\n",
              "       'LandAndOceanAverageTemperatureUncertainty'],\n",
              "      dtype='object')"
            ]
          },
          "metadata": {},
          "execution_count": 5
        }
      ]
    },
    {
      "cell_type": "code",
      "metadata": {
        "colab": {
          "base_uri": "https://localhost:8080/"
        },
        "id": "MQ1hsKO8yGnl",
        "outputId": "cb61857d-8acf-4f5f-bc37-3a898141b259"
      },
      "source": [
        "print(temp_global.isnull().sum())"
      ],
      "execution_count": null,
      "outputs": [
        {
          "output_type": "stream",
          "name": "stdout",
          "text": [
            "dt                                              0\n",
            "LandAverageTemperature                         12\n",
            "LandAverageTemperatureUncertainty              12\n",
            "LandMaxTemperature                           1200\n",
            "LandMaxTemperatureUncertainty                1200\n",
            "LandMinTemperature                           1200\n",
            "LandMinTemperatureUncertainty                1200\n",
            "LandAndOceanAverageTemperature               1200\n",
            "LandAndOceanAverageTemperatureUncertainty    1200\n",
            "dtype: int64\n"
          ]
        }
      ]
    },
    {
      "cell_type": "code",
      "metadata": {
        "id": "iDIRNPFIy2I3"
      },
      "source": [
        "def wrangle(df):\n",
        "    df = df.copy()\n",
        "    df = df.drop(columns=[\"LandAverageTemperatureUncertainty\", \"LandMaxTemperatureUncertainty\",\n",
        "                          \"LandMinTemperatureUncertainty\", \"LandAndOceanAverageTemperatureUncertainty\"], axis=1)\n",
        "    \n"
      ],
      "execution_count": null,
      "outputs": []
    },
    {
      "cell_type": "code",
      "metadata": {
        "id": "PDV0mP9m3AJF"
      },
      "source": [
        "def converttemp(x):\n",
        "        x = (x * 1.8) + 32\n",
        "        return float(x)"
      ],
      "execution_count": null,
      "outputs": []
    },
    {
      "cell_type": "code",
      "metadata": {
        "id": "8Em8h8nd6qnE"
      },
      "source": [
        "df[\"LandAverageTemperature\"] = [\"LandAvrageTemperature\"].apply(converttemp)\n",
        "df[\"LandMaxTemperature\"] = df[\"LandMaxTemperature\"].apply(converttemp)\n",
        "df[\"LandMinTemperature\"] = df[\"LandMinTemperature\"].apply(converttemp)\n",
        "df[\"LandAndOceanAverageTemperature\"] = df[\"LandAndOceanAverageTemperature\"].apply(converttemp)\n",
        "df[\"dt\"] = pd.to_datetime(df[\"dt\"])\n",
        "df[\"Month\"] = df[\"dt\"].dt.month\n",
        "df[\"Year\"] = df[\"dt\"].dt.year\n",
        "df = df.drop(\"dt\", axis=1)\n",
        "df = df.drop(\"Month\", axis=1)\n",
        "df = df[df.Year &gt = 1850]\n",
        "df = df.set_index([\"Year\"])\n",
        "df = df.dropna()\n",
        "return df\n",
        "temp_global = wrangle(temp_global)\n",
        "print(temp_global.head())\n"
      ],
      "execution_count": null,
      "outputs": []
    },
    {
      "cell_type": "code",
      "metadata": {
        "colab": {
          "base_uri": "https://localhost:8080/",
          "height": 498
        },
        "id": "PxjpIYw-8Mhr",
        "outputId": "3fea8d92-cc76-4bad-cbc5-cb147a84f528"
      },
      "source": [
        "import seaborn as sns\n",
        "import matplotlib.pyplot as plt\n",
        "corrMatrix = temp_global.corr()\n",
        "sns.heatmap(corrMatrix, annot=True)\n",
        "plt.show()"
      ],
      "execution_count": null,
      "outputs": [
        {
          "output_type": "display_data",
          "data": {
            "image/png": "[encoded data removed]",
            "text/plain": [
              "<Figure size 432x288 with 2 Axes>"
            ]
          },
          "metadata": {
            "needs_background": "light"
          }
        }
      ]
    },
    {
      "cell_type": "code",
      "metadata": {
        "id": "kvCeEBjM9y9z"
      },
      "source": [
        "#separando nosso alvo pra prever o tempo\n",
        "alvo = \"LandAndOceanAverageTemperature\"\n",
        "y = temp_global[alvo]\n",
        "x = temp_global[[\"LandAverageTemperature\", \"LandMaxTemperature\", \"LandMinTemperature\"]]\n"
      ],
      "execution_count": null,
      "outputs": []
    },
    {
      "cell_type": "code",
      "metadata": {
        "colab": {
          "base_uri": "https://localhost:8080/"
        },
        "id": "vLPoSJv7_BM-",
        "outputId": "1ec0b3e9-8728-4677-9514-77b89a173cbf"
      },
      "source": [
        "#treino e teste\n",
        "from sklearn.model_selection import train_test_split\n",
        "xtrain, xval, ytrain, yval = train_test_split(x, y, test_size=0.25, random_state=42)\n",
        "print(xtrain.shape)\n",
        "print(xval.shape)\n",
        "print(ytrain.shape)\n",
        "print(yval.shape)"
      ],
      "execution_count": null,
      "outputs": [
        {
          "output_type": "stream",
          "name": "stdout",
          "text": [
            "(2394, 3)\n",
            "(798, 3)\n",
            "(2394,)\n",
            "(798,)\n"
          ]
        }
      ]
    },
    {
      "cell_type": "code",
      "metadata": {
        "id": "qDMa1qh-_Ql5"
      },
      "source": [
        "from sklearn.metrics import mean_squared_error\n",
        "ypred = [ytrain.mean()] * len(ytrain)\n",
        "\n",
        "\n",
        "\n"
      ],
      "execution_count": null,
      "outputs": []
    },
    {
      "cell_type": "code",
      "metadata": {
        "id": "ckvPYdglABIz"
      },
      "source": [
        "#TREINANDO O MODELO\n",
        "from sklearn.feature_selection import SelectKBest\n",
        "from sklearn.ensemble import RandomForestRegressor\n",
        "from sklearn.pipeline import make_pipeline\n",
        "from sklearn.preprocessing import StandardScaler\n"
      ],
      "execution_count": null,
      "outputs": []
    },
    {
      "cell_type": "code",
      "metadata": {
        "id": "K37Jk_HjCVP_"
      },
      "source": [
        "forest = make_pipeline(SelectKBest(),StandardScaler(),RandomForestRegressor(\n",
        "        n_estimators=100,\n",
        "        max_depth=50,\n",
        "        random_state=77,\n",
        "        n_jobs=-1))\n",
        "\n"
      ],
      "execution_count": null,
      "outputs": []
    },
    {
      "cell_type": "code",
      "metadata": {
        "id": "QpZDnrOaW6TQ"
      },
      "source": [
        "#acuracia encontramos neste caso o erro de porcentagem media\n",
        "import numpy as np\n",
        "errors = abs(ypred -yval)\n",
        "mape = 100* (errors/ytrain)\n",
        "acuracia = 100 - np.mean(mape)\n",
        "print(\"Random Forest Model:\", round(acuracia, 2), \"%\")"
      ],
      "execution_count": null,
      "outputs": []
    },
    {
      "cell_type": "markdown",
      "metadata": {
        "id": "XF2kNjyZYTR-"
      },
      "source": [
        "Acurácia de 99,52%, excelente modelo para prever o tempo!!"
      ]
    }
  ]
}