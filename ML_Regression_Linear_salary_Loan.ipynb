{
  "nbformat": 4,
  "nbformat_minor": 0,
  "metadata": {
    "colab": {
      "name": "ML_Regression_Linear_salary/Loan",
      "provenance": [],
      "collapsed_sections": [],
      "authorship_tag": "ABX9TyMCqg4wjW188f0XRtWkiebA",
      "include_colab_link": true
    },
    "kernelspec": {
      "name": "python3",
      "display_name": "Python 3"
    },
    "language_info": {
      "name": "python"
    }
  },
  "cells": [
    {
      "cell_type": "markdown",
      "metadata": {
        "id": "view-in-github",
        "colab_type": "text"
      },
      "source": [
        "<a href=\"https://colab.research.google.com/github/bcury/Machine-Learning-Projects/blob/main/ML_Regression_Linear_salary_Loan.ipynb\" target=\"_parent\"><img src=\"https://colab.research.google.com/assets/colab-badge.svg\" alt=\"Open In Colab\"/></a>"
      ]
    },
    {
      "cell_type": "code",
      "metadata": {
        "id": "EXUq9yNJ_iDV"
      },
      "source": [
        "import pandas as pd\n",
        "import numpy as np\n",
        "from matplotlib import pyplot as plt\n",
        "import seaborn as sns"
      ],
      "execution_count": 65,
      "outputs": []
    },
    {
      "cell_type": "code",
      "metadata": {
        "id": "mKbrmAr9Amzc"
      },
      "source": [
        "data = pd.read_excel('/content/BaseDados_RegressaoLinear.xlsx')"
      ],
      "execution_count": 102,
      "outputs": []
    },
    {
      "cell_type": "code",
      "metadata": {
        "colab": {
          "base_uri": "https://localhost:8080/",
          "height": 206
        },
        "id": "dyiS5VdcCK4i",
        "outputId": "24710bda-9b5b-4ff4-b8df-3ce038be48f7"
      },
      "source": [
        "data.head()"
      ],
      "execution_count": 103,
      "outputs": [
        {
          "output_type": "execute_result",
          "data": {
            "text/html": [
              "<div>\n",
              "<style scoped>\n",
              "    .dataframe tbody tr th:only-of-type {\n",
              "        vertical-align: middle;\n",
              "    }\n",
              "\n",
              "    .dataframe tbody tr th {\n",
              "        vertical-align: top;\n",
              "    }\n",
              "\n",
              "    .dataframe thead th {\n",
              "        text-align: right;\n",
              "    }\n",
              "</style>\n",
              "<table border=\"1\" class=\"dataframe\">\n",
              "  <thead>\n",
              "    <tr style=\"text-align: right;\">\n",
              "      <th></th>\n",
              "      <th>Salario</th>\n",
              "      <th>Limite_Emprestimo</th>\n",
              "    </tr>\n",
              "  </thead>\n",
              "  <tbody>\n",
              "    <tr>\n",
              "      <th>0</th>\n",
              "      <td>1250.219130</td>\n",
              "      <td>2900.124323</td>\n",
              "    </tr>\n",
              "    <tr>\n",
              "      <th>1</th>\n",
              "      <td>1262.721321</td>\n",
              "      <td>2929.125566</td>\n",
              "    </tr>\n",
              "    <tr>\n",
              "      <th>2</th>\n",
              "      <td>1275.348535</td>\n",
              "      <td>2958.416822</td>\n",
              "    </tr>\n",
              "    <tr>\n",
              "      <th>3</th>\n",
              "      <td>1288.102020</td>\n",
              "      <td>2988.000990</td>\n",
              "    </tr>\n",
              "    <tr>\n",
              "      <th>4</th>\n",
              "      <td>1300.983040</td>\n",
              "      <td>3017.881000</td>\n",
              "    </tr>\n",
              "  </tbody>\n",
              "</table>\n",
              "</div>"
            ],
            "text/plain": [
              "       Salario  Limite_Emprestimo\n",
              "0  1250.219130        2900.124323\n",
              "1  1262.721321        2929.125566\n",
              "2  1275.348535        2958.416822\n",
              "3  1288.102020        2988.000990\n",
              "4  1300.983040        3017.881000"
            ]
          },
          "metadata": {},
          "execution_count": 103
        }
      ]
    },
    {
      "cell_type": "code",
      "metadata": {
        "colab": {
          "base_uri": "https://localhost:8080/",
          "height": 300
        },
        "id": "xpB8diNICMXR",
        "outputId": "5c994551-18a7-4c46-e4bb-6b62a760e2ef"
      },
      "source": [
        "data.describe()"
      ],
      "execution_count": 104,
      "outputs": [
        {
          "output_type": "execute_result",
          "data": {
            "text/html": [
              "<div>\n",
              "<style scoped>\n",
              "    .dataframe tbody tr th:only-of-type {\n",
              "        vertical-align: middle;\n",
              "    }\n",
              "\n",
              "    .dataframe tbody tr th {\n",
              "        vertical-align: top;\n",
              "    }\n",
              "\n",
              "    .dataframe thead th {\n",
              "        text-align: right;\n",
              "    }\n",
              "</style>\n",
              "<table border=\"1\" class=\"dataframe\">\n",
              "  <thead>\n",
              "    <tr style=\"text-align: right;\">\n",
              "      <th></th>\n",
              "      <th>Salario</th>\n",
              "      <th>Limite_Emprestimo</th>\n",
              "    </tr>\n",
              "  </thead>\n",
              "  <tbody>\n",
              "    <tr>\n",
              "      <th>count</th>\n",
              "      <td>99.000000</td>\n",
              "      <td>99.000000</td>\n",
              "    </tr>\n",
              "    <tr>\n",
              "      <th>mean</th>\n",
              "      <td>2119.100581</td>\n",
              "      <td>4900.652060</td>\n",
              "    </tr>\n",
              "    <tr>\n",
              "      <th>std</th>\n",
              "      <td>600.832983</td>\n",
              "      <td>1378.113961</td>\n",
              "    </tr>\n",
              "    <tr>\n",
              "      <th>min</th>\n",
              "      <td>1250.219130</td>\n",
              "      <td>2900.124323</td>\n",
              "    </tr>\n",
              "    <tr>\n",
              "      <th>25%</th>\n",
              "      <td>1595.383780</td>\n",
              "      <td>3700.800280</td>\n",
              "    </tr>\n",
              "    <tr>\n",
              "      <th>50%</th>\n",
              "      <td>2035.792243</td>\n",
              "      <td>4722.412623</td>\n",
              "    </tr>\n",
              "    <tr>\n",
              "      <th>75%</th>\n",
              "      <td>2597.840528</td>\n",
              "      <td>6026.191986</td>\n",
              "    </tr>\n",
              "    <tr>\n",
              "      <th>max</th>\n",
              "      <td>3314.978916</td>\n",
              "      <td>7423.384910</td>\n",
              "    </tr>\n",
              "  </tbody>\n",
              "</table>\n",
              "</div>"
            ],
            "text/plain": [
              "           Salario  Limite_Emprestimo\n",
              "count    99.000000          99.000000\n",
              "mean   2119.100581        4900.652060\n",
              "std     600.832983        1378.113961\n",
              "min    1250.219130        2900.124323\n",
              "25%    1595.383780        3700.800280\n",
              "50%    2035.792243        4722.412623\n",
              "75%    2597.840528        6026.191986\n",
              "max    3314.978916        7423.384910"
            ]
          },
          "metadata": {},
          "execution_count": 104
        }
      ]
    },
    {
      "cell_type": "code",
      "metadata": {
        "colab": {
          "base_uri": "https://localhost:8080/"
        },
        "id": "uAZaMBbNCS4b",
        "outputId": "9ae530ef-8966-4635-cb19-9da93afab1c2"
      },
      "source": [
        "data.info()"
      ],
      "execution_count": 105,
      "outputs": [
        {
          "output_type": "stream",
          "name": "stdout",
          "text": [
            "<class 'pandas.core.frame.DataFrame'>\n",
            "RangeIndex: 99 entries, 0 to 98\n",
            "Data columns (total 2 columns):\n",
            " #   Column             Non-Null Count  Dtype  \n",
            "---  ------             --------------  -----  \n",
            " 0   Salario            99 non-null     float64\n",
            " 1   Limite_Emprestimo  99 non-null     float64\n",
            "dtypes: float64(2)\n",
            "memory usage: 1.7 KB\n"
          ]
        }
      ]
    },
    {
      "cell_type": "code",
      "metadata": {
        "id": "ig_xANJZCwOG"
      },
      "source": [
        "#converter para um array\n",
        "\n",
        "x = data.iloc[:,0].values\n",
        "y = data.iloc[:,1].values\n",
        "\n"
      ],
      "execution_count": 107,
      "outputs": []
    },
    {
      "cell_type": "code",
      "metadata": {
        "colab": {
          "base_uri": "https://localhost:8080/"
        },
        "id": "DTyLXRmAMLGV",
        "outputId": "44faf227-541b-4cad-a6e4-b0f9e75ba7b4"
      },
      "source": [
        "x"
      ],
      "execution_count": 108,
      "outputs": [
        {
          "output_type": "execute_result",
          "data": {
            "text/plain": [
              "array([1250.21913   , 1262.7213213 , 1275.34853451, 1288.10201986,\n",
              "       1300.98304006, 1313.99287046, 1327.13279916, 1340.40412715,\n",
              "       1353.80816843, 1367.34625011, 1381.01971261, 1394.82990974,\n",
              "       1408.77820883, 1422.86599092, 1437.09465083, 1451.46559734,\n",
              "       1465.98025331, 1480.64005585, 1495.4464564 , 1510.40092097,\n",
              "       1525.50493018, 1540.75997948, 1556.16757927, 1571.72925507,\n",
              "       1587.44654762, 1603.32101309, 1619.35422323, 1635.54776546,\n",
              "       1651.90324311, 1668.42227554, 1685.1064983 , 1701.95756328,\n",
              "       1718.97713891, 1736.1669103 , 1753.52857941, 1771.0638652 ,\n",
              "       1788.77450385, 1806.66224889, 1824.72887138, 1842.97616009,\n",
              "       1861.4059217 , 1880.01998091, 1898.82018072, 1917.80838253,\n",
              "       1936.98646635, 1956.35633102, 1975.91989433, 1995.67909327,\n",
              "       2015.6358842 , 2035.79224305, 2056.15016548, 2076.71166713,\n",
              "       2097.4787838 , 2118.45357164, 2139.63810736, 2161.03448843,\n",
              "       2182.64483331, 2204.47128165, 2226.51599446, 2248.78115441,\n",
              "       2271.26896595, 2293.98165561, 2316.92147217, 2340.09068689,\n",
              "       2363.49159376, 2387.1265097 , 2410.99777479, 2435.10775254,\n",
              "       2459.45883007, 2484.05341837, 2508.89395255, 2533.98289208,\n",
              "       2559.322721  , 2584.91594821, 2610.76510769, 2636.87275877,\n",
              "       2663.24148635, 2689.87390122, 2716.77264023, 2743.94036663,\n",
              "       2771.3797703 , 2799.093568  , 2827.08450368, 2855.35534872,\n",
              "       2883.90890221, 2912.74799123, 2941.87547114, 2971.29422585,\n",
              "       3001.00716811, 3031.01723979, 3061.32741219, 3091.94068631,\n",
              "       3122.86009317, 3154.08869411, 3185.62958105, 3217.48587686,\n",
              "       3249.66073563, 3282.15734298, 3314.97891641])"
            ]
          },
          "metadata": {},
          "execution_count": 108
        }
      ]
    },
    {
      "cell_type": "code",
      "metadata": {
        "colab": {
          "base_uri": "https://localhost:8080/"
        },
        "id": "JMr-XIJ9MLeS",
        "outputId": "5cf94226-085f-4514-bc75-7690c3e0c65a"
      },
      "source": [
        "y"
      ],
      "execution_count": 109,
      "outputs": [
        {
          "output_type": "execute_result",
          "data": {
            "text/plain": [
              "array([2900.124323  , 2929.12556623, 2958.41682189, 2988.00099011,\n",
              "       3017.88100001, 3048.05981001, 3078.54040811, 3109.32581219,\n",
              "       3140.41907032, 3171.82326102, 3203.54149363, 3235.57690857,\n",
              "       3267.93267765, 3300.61200443, 3333.61812447, 3366.95430572,\n",
              "       3400.62384877, 3434.63008726, 3434.63008726, 3434.63008726,\n",
              "       3434.63008726, 3574.08984167, 3609.83074009, 3645.92904749,\n",
              "       3682.38833796, 3719.21222134, 3756.40434356, 3793.96838699,\n",
              "       3831.90807086, 3870.22715157, 3870.22715157, 3870.22715157,\n",
              "       3870.22715157, 4027.37389354, 4067.64763247, 4108.3241088 ,\n",
              "       4149.40734988, 4190.90142338, 4232.81043762, 4275.13854199,\n",
              "       4317.88992741, 4361.06882669, 4404.67951495, 4448.7263101 ,\n",
              "       4493.2135732 , 4538.14570894, 4583.52716602, 4629.36243768,\n",
              "       4675.65606206, 4722.41262268, 4769.63674891, 4817.3331164 ,\n",
              "       4865.50644756, 4914.16151204, 4963.30312716, 5012.93615843,\n",
              "       5063.06552001, 5113.69617521, 5164.83313697, 5216.48146834,\n",
              "       5268.64628302, 5321.33274585, 5374.54607331, 5428.29153404,\n",
              "       5482.57444938, 5537.40019388, 5592.77419581, 5648.70193777,\n",
              "       5705.18895715, 5762.24084672, 5819.86325519, 5878.06188774,\n",
              "       5936.84250662, 5996.21093168, 6056.173041  , 6116.73477141,\n",
              "       6177.90211913, 6239.68114032, 6302.07795172, 6365.09873124,\n",
              "       6428.74971855, 6493.03721573, 6557.96758789, 6623.54726377,\n",
              "       6689.78273641, 6756.68056377, 6824.24736941, 6892.4898431 ,\n",
              "       6961.41474154, 7031.02888895, 7101.33917784, 7172.35256962,\n",
              "       7208.21433247, 7244.07609532, 7279.93785816, 7315.79962101,\n",
              "       7351.66138386, 7387.52314671, 7423.38490956])"
            ]
          },
          "metadata": {},
          "execution_count": 109
        }
      ]
    },
    {
      "cell_type": "code",
      "metadata": {
        "colab": {
          "base_uri": "https://localhost:8080/",
          "height": 350
        },
        "id": "Pkwh9shGMMne",
        "outputId": "7d300e46-a209-4b5b-c72f-9d1d72a85795"
      },
      "source": [
        "plt.figure(figsize=(10,5))\n",
        "plt.scatter(x, y) ;\n",
        "plt.title('Gráfico  [Salário X Limite]')\n",
        "plt.xlabel('Salario')\n",
        "plt.ylabel('limite');"
      ],
      "execution_count": 110,
      "outputs": [
        {
          "output_type": "display_data",
          "data": {
            "image/png": "[encoded data removed]",
            "text/plain": [
              "<Figure size 720x360 with 1 Axes>"
            ]
          },
          "metadata": {
            "needs_background": "light"
          }
        }
      ]
    },
    {
      "cell_type": "code",
      "metadata": {
        "colab": {
          "base_uri": "https://localhost:8080/",
          "height": 627
        },
        "id": "xvjhlo0MMX6O",
        "outputId": "4f139b13-cffe-4724-cc1f-8e52107d34b1"
      },
      "source": [
        "sns.heatmap(data.isnull());\n",
        "sns.pairplot(data);"
      ],
      "execution_count": 111,
      "outputs": [
        {
          "output_type": "display_data",
          "data": {
            "image/png": "[encoded data removed]",
            "text/plain": [
              "<Figure size 432x288 with 2 Axes>"
            ]
          },
          "metadata": {
            "needs_background": "light"
          }
        },
        {
          "output_type": "display_data",
          "data": {
            "image/png": "[encoded data removed]",
            "text/plain": [
              "<Figure size 360x360 with 6 Axes>"
            ]
          },
          "metadata": {
            "needs_background": "light"
          }
        }
      ]
    },
    {
      "cell_type": "code",
      "metadata": {
        "colab": {
          "base_uri": "https://localhost:8080/",
          "height": 359
        },
        "id": "k1T3CesNMe6U",
        "outputId": "b5c5bfbb-1bd9-48b6-fcac-c815f9543365"
      },
      "source": [
        "Correlação = np.corrcoef(x,y)\n",
        "print(Correlação)\n",
        "plt.figure(figsize=(10,5))\n",
        "sns.heatmap(Correlação, annot=True);"
      ],
      "execution_count": 112,
      "outputs": [
        {
          "output_type": "stream",
          "name": "stdout",
          "text": [
            "[[1.         0.99949773]\n",
            " [0.99949773 1.        ]]\n"
          ]
        },
        {
          "output_type": "display_data",
          "data": {
            "image/png": "[encoded data removed]",
            "text/plain": [
              "<Figure size 720x360 with 2 Axes>"
            ]
          },
          "metadata": {
            "needs_background": "light"
          }
        }
      ]
    },
    {
      "cell_type": "code",
      "metadata": {
        "id": "uC8FTQ3zMlZk"
      },
      "source": [
        "#deixando em formato de matriz, anterior estava em tipo lista\n",
        "\n",
        "x = x.reshape(-1,1)\n",
        "y = y.reshape(-1,1)"
      ],
      "execution_count": 113,
      "outputs": []
    },
    {
      "cell_type": "code",
      "metadata": {
        "colab": {
          "base_uri": "https://localhost:8080/"
        },
        "id": "sahdSoOHMsVs",
        "outputId": "ce2471b2-283f-43bd-a21f-de1c997ee2f9"
      },
      "source": [
        "x"
      ],
      "execution_count": 114,
      "outputs": [
        {
          "output_type": "execute_result",
          "data": {
            "text/plain": [
              "array([[1250.21913   ],\n",
              "       [1262.7213213 ],\n",
              "       [1275.34853451],\n",
              "       [1288.10201986],\n",
              "       [1300.98304006],\n",
              "       [1313.99287046],\n",
              "       [1327.13279916],\n",
              "       [1340.40412715],\n",
              "       [1353.80816843],\n",
              "       [1367.34625011],\n",
              "       [1381.01971261],\n",
              "       [1394.82990974],\n",
              "       [1408.77820883],\n",
              "       [1422.86599092],\n",
              "       [1437.09465083],\n",
              "       [1451.46559734],\n",
              "       [1465.98025331],\n",
              "       [1480.64005585],\n",
              "       [1495.4464564 ],\n",
              "       [1510.40092097],\n",
              "       [1525.50493018],\n",
              "       [1540.75997948],\n",
              "       [1556.16757927],\n",
              "       [1571.72925507],\n",
              "       [1587.44654762],\n",
              "       [1603.32101309],\n",
              "       [1619.35422323],\n",
              "       [1635.54776546],\n",
              "       [1651.90324311],\n",
              "       [1668.42227554],\n",
              "       [1685.1064983 ],\n",
              "       [1701.95756328],\n",
              "       [1718.97713891],\n",
              "       [1736.1669103 ],\n",
              "       [1753.52857941],\n",
              "       [1771.0638652 ],\n",
              "       [1788.77450385],\n",
              "       [1806.66224889],\n",
              "       [1824.72887138],\n",
              "       [1842.97616009],\n",
              "       [1861.4059217 ],\n",
              "       [1880.01998091],\n",
              "       [1898.82018072],\n",
              "       [1917.80838253],\n",
              "       [1936.98646635],\n",
              "       [1956.35633102],\n",
              "       [1975.91989433],\n",
              "       [1995.67909327],\n",
              "       [2015.6358842 ],\n",
              "       [2035.79224305],\n",
              "       [2056.15016548],\n",
              "       [2076.71166713],\n",
              "       [2097.4787838 ],\n",
              "       [2118.45357164],\n",
              "       [2139.63810736],\n",
              "       [2161.03448843],\n",
              "       [2182.64483331],\n",
              "       [2204.47128165],\n",
              "       [2226.51599446],\n",
              "       [2248.78115441],\n",
              "       [2271.26896595],\n",
              "       [2293.98165561],\n",
              "       [2316.92147217],\n",
              "       [2340.09068689],\n",
              "       [2363.49159376],\n",
              "       [2387.1265097 ],\n",
              "       [2410.99777479],\n",
              "       [2435.10775254],\n",
              "       [2459.45883007],\n",
              "       [2484.05341837],\n",
              "       [2508.89395255],\n",
              "       [2533.98289208],\n",
              "       [2559.322721  ],\n",
              "       [2584.91594821],\n",
              "       [2610.76510769],\n",
              "       [2636.87275877],\n",
              "       [2663.24148635],\n",
              "       [2689.87390122],\n",
              "       [2716.77264023],\n",
              "       [2743.94036663],\n",
              "       [2771.3797703 ],\n",
              "       [2799.093568  ],\n",
              "       [2827.08450368],\n",
              "       [2855.35534872],\n",
              "       [2883.90890221],\n",
              "       [2912.74799123],\n",
              "       [2941.87547114],\n",
              "       [2971.29422585],\n",
              "       [3001.00716811],\n",
              "       [3031.01723979],\n",
              "       [3061.32741219],\n",
              "       [3091.94068631],\n",
              "       [3122.86009317],\n",
              "       [3154.08869411],\n",
              "       [3185.62958105],\n",
              "       [3217.48587686],\n",
              "       [3249.66073563],\n",
              "       [3282.15734298],\n",
              "       [3314.97891641]])"
            ]
          },
          "metadata": {},
          "execution_count": 114
        }
      ]
    },
    {
      "cell_type": "code",
      "metadata": {
        "colab": {
          "base_uri": "https://localhost:8080/"
        },
        "id": "UxiOJYmAMsqf",
        "outputId": "e753ba36-6cd6-4891-bdfc-2e733bd20e4d"
      },
      "source": [
        "y"
      ],
      "execution_count": 115,
      "outputs": [
        {
          "output_type": "execute_result",
          "data": {
            "text/plain": [
              "array([[2900.124323  ],\n",
              "       [2929.12556623],\n",
              "       [2958.41682189],\n",
              "       [2988.00099011],\n",
              "       [3017.88100001],\n",
              "       [3048.05981001],\n",
              "       [3078.54040811],\n",
              "       [3109.32581219],\n",
              "       [3140.41907032],\n",
              "       [3171.82326102],\n",
              "       [3203.54149363],\n",
              "       [3235.57690857],\n",
              "       [3267.93267765],\n",
              "       [3300.61200443],\n",
              "       [3333.61812447],\n",
              "       [3366.95430572],\n",
              "       [3400.62384877],\n",
              "       [3434.63008726],\n",
              "       [3434.63008726],\n",
              "       [3434.63008726],\n",
              "       [3434.63008726],\n",
              "       [3574.08984167],\n",
              "       [3609.83074009],\n",
              "       [3645.92904749],\n",
              "       [3682.38833796],\n",
              "       [3719.21222134],\n",
              "       [3756.40434356],\n",
              "       [3793.96838699],\n",
              "       [3831.90807086],\n",
              "       [3870.22715157],\n",
              "       [3870.22715157],\n",
              "       [3870.22715157],\n",
              "       [3870.22715157],\n",
              "       [4027.37389354],\n",
              "       [4067.64763247],\n",
              "       [4108.3241088 ],\n",
              "       [4149.40734988],\n",
              "       [4190.90142338],\n",
              "       [4232.81043762],\n",
              "       [4275.13854199],\n",
              "       [4317.88992741],\n",
              "       [4361.06882669],\n",
              "       [4404.67951495],\n",
              "       [4448.7263101 ],\n",
              "       [4493.2135732 ],\n",
              "       [4538.14570894],\n",
              "       [4583.52716602],\n",
              "       [4629.36243768],\n",
              "       [4675.65606206],\n",
              "       [4722.41262268],\n",
              "       [4769.63674891],\n",
              "       [4817.3331164 ],\n",
              "       [4865.50644756],\n",
              "       [4914.16151204],\n",
              "       [4963.30312716],\n",
              "       [5012.93615843],\n",
              "       [5063.06552001],\n",
              "       [5113.69617521],\n",
              "       [5164.83313697],\n",
              "       [5216.48146834],\n",
              "       [5268.64628302],\n",
              "       [5321.33274585],\n",
              "       [5374.54607331],\n",
              "       [5428.29153404],\n",
              "       [5482.57444938],\n",
              "       [5537.40019388],\n",
              "       [5592.77419581],\n",
              "       [5648.70193777],\n",
              "       [5705.18895715],\n",
              "       [5762.24084672],\n",
              "       [5819.86325519],\n",
              "       [5878.06188774],\n",
              "       [5936.84250662],\n",
              "       [5996.21093168],\n",
              "       [6056.173041  ],\n",
              "       [6116.73477141],\n",
              "       [6177.90211913],\n",
              "       [6239.68114032],\n",
              "       [6302.07795172],\n",
              "       [6365.09873124],\n",
              "       [6428.74971855],\n",
              "       [6493.03721573],\n",
              "       [6557.96758789],\n",
              "       [6623.54726377],\n",
              "       [6689.78273641],\n",
              "       [6756.68056377],\n",
              "       [6824.24736941],\n",
              "       [6892.4898431 ],\n",
              "       [6961.41474154],\n",
              "       [7031.02888895],\n",
              "       [7101.33917784],\n",
              "       [7172.35256962],\n",
              "       [7208.21433247],\n",
              "       [7244.07609532],\n",
              "       [7279.93785816],\n",
              "       [7315.79962101],\n",
              "       [7351.66138386],\n",
              "       [7387.52314671],\n",
              "       [7423.38490956]])"
            ]
          },
          "metadata": {},
          "execution_count": 115
        }
      ]
    },
    {
      "cell_type": "code",
      "metadata": {
        "id": "PQtEGsBmMwb0"
      },
      "source": [
        "#Dados de teste e treino - ML\n",
        "\n",
        "from sklearn.model_selection import train_test_split\n",
        "\n",
        "x_treinamento, x_teste, y_treinamento, y_teste = train_test_split(x,y,test_size = 0.20, random_state=1)"
      ],
      "execution_count": 116,
      "outputs": []
    },
    {
      "cell_type": "code",
      "metadata": {
        "colab": {
          "base_uri": "https://localhost:8080/"
        },
        "id": "dMCTVW06M8Bc",
        "outputId": "a193c12e-8382-46e1-debd-a3d5ad373d65"
      },
      "source": [
        "print(len(x_treinamento), len(x_teste))"
      ],
      "execution_count": 117,
      "outputs": [
        {
          "output_type": "stream",
          "name": "stdout",
          "text": [
            "79 20\n"
          ]
        }
      ]
    },
    {
      "cell_type": "code",
      "metadata": {
        "colab": {
          "base_uri": "https://localhost:8080/"
        },
        "id": "VFNGikyTM-M-",
        "outputId": "f8178406-8606-4dc4-e21a-28b093e6852c"
      },
      "source": [
        "x_treinamento, y_treinamento"
      ],
      "execution_count": 118,
      "outputs": [
        {
          "output_type": "execute_result",
          "data": {
            "text/plain": [
              "(array([[1275.34853451],\n",
              "        [1936.98646635],\n",
              "        [2248.78115441],\n",
              "        [2161.03448843],\n",
              "        [1510.40092097],\n",
              "        [1824.72887138],\n",
              "        [3154.08869411],\n",
              "        [1635.54776546],\n",
              "        [1861.4059217 ],\n",
              "        [3314.97891641],\n",
              "        [1788.77450385],\n",
              "        [2097.4787838 ],\n",
              "        [2610.76510769],\n",
              "        [2508.89395255],\n",
              "        [1842.97616009],\n",
              "        [1975.91989433],\n",
              "        [2410.99777479],\n",
              "        [1571.72925507],\n",
              "        [1753.52857941],\n",
              "        [2912.74799123],\n",
              "        [3249.66073563],\n",
              "        [2435.10775254],\n",
              "        [1451.46559734],\n",
              "        [2827.08450368],\n",
              "        [1880.01998091],\n",
              "        [3061.32741219],\n",
              "        [1619.35422323],\n",
              "        [3282.15734298],\n",
              "        [1917.80838253],\n",
              "        [2118.45357164],\n",
              "        [1587.44654762],\n",
              "        [1300.98304006],\n",
              "        [2182.64483331],\n",
              "        [2035.79224305],\n",
              "        [1540.75997948],\n",
              "        [2941.87547114],\n",
              "        [1288.10201986],\n",
              "        [2584.91594821],\n",
              "        [1685.1064983 ],\n",
              "        [2387.1265097 ],\n",
              "        [2484.05341837],\n",
              "        [1898.82018072],\n",
              "        [1995.67909327],\n",
              "        [2076.71166713],\n",
              "        [3185.62958105],\n",
              "        [1353.80816843],\n",
              "        [2271.26896595],\n",
              "        [1250.21913   ],\n",
              "        [3031.01723979],\n",
              "        [2204.47128165],\n",
              "        [1556.16757927],\n",
              "        [2293.98165561],\n",
              "        [2340.09068689],\n",
              "        [1340.40412715],\n",
              "        [3217.48587686],\n",
              "        [1422.86599092],\n",
              "        [2459.45883007],\n",
              "        [2883.90890221],\n",
              "        [1437.09465083],\n",
              "        [1668.42227554],\n",
              "        [1651.90324311],\n",
              "        [1394.82990974],\n",
              "        [1495.4464564 ],\n",
              "        [1525.50493018],\n",
              "        [2056.15016548],\n",
              "        [1603.32101309],\n",
              "        [1327.13279916],\n",
              "        [2533.98289208],\n",
              "        [2663.24148635],\n",
              "        [1262.7213213 ],\n",
              "        [1465.98025331],\n",
              "        [2363.49159376],\n",
              "        [2743.94036663],\n",
              "        [1313.99287046],\n",
              "        [2636.87275877],\n",
              "        [1367.34625011],\n",
              "        [2559.322721  ],\n",
              "        [1408.77820883],\n",
              "        [1806.66224889]]), array([[2958.41682189],\n",
              "        [4493.2135732 ],\n",
              "        [5216.48146834],\n",
              "        [5012.93615843],\n",
              "        [3434.63008726],\n",
              "        [4232.81043762],\n",
              "        [7244.07609532],\n",
              "        [3793.96838699],\n",
              "        [4317.88992741],\n",
              "        [7423.38490956],\n",
              "        [4149.40734988],\n",
              "        [4865.50644756],\n",
              "        [6056.173041  ],\n",
              "        [5819.86325519],\n",
              "        [4275.13854199],\n",
              "        [4583.52716602],\n",
              "        [5592.77419581],\n",
              "        [3645.92904749],\n",
              "        [4067.64763247],\n",
              "        [6756.68056377],\n",
              "        [7351.66138386],\n",
              "        [5648.70193777],\n",
              "        [3366.95430572],\n",
              "        [6557.96758789],\n",
              "        [4361.06882669],\n",
              "        [7101.33917784],\n",
              "        [3756.40434356],\n",
              "        [7387.52314671],\n",
              "        [4448.7263101 ],\n",
              "        [4914.16151204],\n",
              "        [3682.38833796],\n",
              "        [3017.88100001],\n",
              "        [5063.06552001],\n",
              "        [4722.41262268],\n",
              "        [3574.08984167],\n",
              "        [6824.24736941],\n",
              "        [2988.00099011],\n",
              "        [5996.21093168],\n",
              "        [3870.22715157],\n",
              "        [5537.40019388],\n",
              "        [5762.24084672],\n",
              "        [4404.67951495],\n",
              "        [4629.36243768],\n",
              "        [4817.3331164 ],\n",
              "        [7279.93785816],\n",
              "        [3140.41907032],\n",
              "        [5268.64628302],\n",
              "        [2900.124323  ],\n",
              "        [7031.02888895],\n",
              "        [5113.69617521],\n",
              "        [3609.83074009],\n",
              "        [5321.33274585],\n",
              "        [5428.29153404],\n",
              "        [3109.32581219],\n",
              "        [7315.79962101],\n",
              "        [3300.61200443],\n",
              "        [5705.18895715],\n",
              "        [6689.78273641],\n",
              "        [3333.61812447],\n",
              "        [3870.22715157],\n",
              "        [3831.90807086],\n",
              "        [3235.57690857],\n",
              "        [3434.63008726],\n",
              "        [3434.63008726],\n",
              "        [4769.63674891],\n",
              "        [3719.21222134],\n",
              "        [3078.54040811],\n",
              "        [5878.06188774],\n",
              "        [6177.90211913],\n",
              "        [2929.12556623],\n",
              "        [3400.62384877],\n",
              "        [5482.57444938],\n",
              "        [6365.09873124],\n",
              "        [3048.05981001],\n",
              "        [6116.73477141],\n",
              "        [3171.82326102],\n",
              "        [5936.84250662],\n",
              "        [3267.93267765],\n",
              "        [4190.90142338]]))"
            ]
          },
          "metadata": {},
          "execution_count": 118
        }
      ]
    },
    {
      "cell_type": "code",
      "metadata": {
        "colab": {
          "base_uri": "https://localhost:8080/"
        },
        "id": "qMwRhAcWNC_h",
        "outputId": "9c726d3f-ab9e-4839-be44-5a1e2bc8275b"
      },
      "source": [
        "x_teste, y_teste"
      ],
      "execution_count": 119,
      "outputs": [
        {
          "output_type": "execute_result",
          "data": {
            "text/plain": [
              "(array([[3122.86009317],\n",
              "        [2855.35534872],\n",
              "        [1718.97713891],\n",
              "        [2771.3797703 ],\n",
              "        [2716.77264023],\n",
              "        [1480.64005585],\n",
              "        [1771.0638652 ],\n",
              "        [2799.093568  ],\n",
              "        [3001.00716811],\n",
              "        [3091.94068631],\n",
              "        [1956.35633102],\n",
              "        [1736.1669103 ],\n",
              "        [2139.63810736],\n",
              "        [2689.87390122],\n",
              "        [2316.92147217],\n",
              "        [1701.95756328],\n",
              "        [2226.51599446],\n",
              "        [2015.6358842 ],\n",
              "        [2971.29422585],\n",
              "        [1381.01971261]]), array([[7208.21433247],\n",
              "        [6623.54726377],\n",
              "        [3870.22715157],\n",
              "        [6428.74971855],\n",
              "        [6302.07795172],\n",
              "        [3434.63008726],\n",
              "        [4108.3241088 ],\n",
              "        [6493.03721573],\n",
              "        [6961.41474154],\n",
              "        [7172.35256962],\n",
              "        [4538.14570894],\n",
              "        [4027.37389354],\n",
              "        [4963.30312716],\n",
              "        [6239.68114032],\n",
              "        [5374.54607331],\n",
              "        [3870.22715157],\n",
              "        [5164.83313697],\n",
              "        [4675.65606206],\n",
              "        [6892.4898431 ],\n",
              "        [3203.54149363]]))"
            ]
          },
          "metadata": {},
          "execution_count": 119
        }
      ]
    },
    {
      "cell_type": "code",
      "metadata": {
        "id": "30yN7UNvNGmh"
      },
      "source": [
        "#agora implementando a Regressao linear no modelo ML"
      ],
      "execution_count": 120,
      "outputs": []
    },
    {
      "cell_type": "code",
      "metadata": {
        "colab": {
          "base_uri": "https://localhost:8080/"
        },
        "id": "ZpFRwum0NH-m",
        "outputId": "885b5974-8769-4284-ef09-cb1294867c72"
      },
      "source": [
        "funcao_Regr = LinearRegression()\n",
        "funcao_Regr.fit(x_treinamento, y_treinamento)"
      ],
      "execution_count": 121,
      "outputs": [
        {
          "output_type": "execute_result",
          "data": {
            "text/plain": [
              "LinearRegression()"
            ]
          },
          "metadata": {},
          "execution_count": 121
        }
      ]
    },
    {
      "cell_type": "code",
      "metadata": {
        "colab": {
          "base_uri": "https://localhost:8080/"
        },
        "id": "T2-BuLrWNhAE",
        "outputId": "b4e83395-b2a4-44f6-d37c-07424a4d0c99"
      },
      "source": [
        "previsao = funcao_Regr.predict(x_teste)\n",
        "previsao"
      ],
      "execution_count": 122,
      "outputs": [
        {
          "output_type": "execute_result",
          "data": {
            "text/plain": [
              "array([[7187.80623052],\n",
              "       [6577.51253132],\n",
              "       [3984.94370507],\n",
              "       [6385.92801756],\n",
              "       [6261.34560135],\n",
              "       [3441.19402176],\n",
              "       [4103.77599318],\n",
              "       [6449.15514332],\n",
              "       [6909.80715224],\n",
              "       [7117.26572766],\n",
              "       [4526.50802594],\n",
              "       [4024.16098771],\n",
              "       [4944.65280878],\n",
              "       [6199.977976  ],\n",
              "       [5349.11262775],\n",
              "       [3946.11471236],\n",
              "       [5142.85874045],\n",
              "       [4661.75025454],\n",
              "       [6842.0191155 ],\n",
              "       [3213.91705173]])"
            ]
          },
          "metadata": {},
          "execution_count": 122
        }
      ]
    },
    {
      "cell_type": "code",
      "metadata": {
        "colab": {
          "base_uri": "https://localhost:8080/"
        },
        "id": "maZfKp9jNobV",
        "outputId": "a016efdd-40da-4423-907c-b206b50571d0"
      },
      "source": [
        "y_teste"
      ],
      "execution_count": 123,
      "outputs": [
        {
          "output_type": "execute_result",
          "data": {
            "text/plain": [
              "array([[7208.21433247],\n",
              "       [6623.54726377],\n",
              "       [3870.22715157],\n",
              "       [6428.74971855],\n",
              "       [6302.07795172],\n",
              "       [3434.63008726],\n",
              "       [4108.3241088 ],\n",
              "       [6493.03721573],\n",
              "       [6961.41474154],\n",
              "       [7172.35256962],\n",
              "       [4538.14570894],\n",
              "       [4027.37389354],\n",
              "       [4963.30312716],\n",
              "       [6239.68114032],\n",
              "       [5374.54607331],\n",
              "       [3870.22715157],\n",
              "       [5164.83313697],\n",
              "       [4675.65606206],\n",
              "       [6892.4898431 ],\n",
              "       [3203.54149363]])"
            ]
          },
          "metadata": {},
          "execution_count": 123
        }
      ]
    },
    {
      "cell_type": "code",
      "metadata": {
        "colab": {
          "base_uri": "https://localhost:8080/",
          "height": 320
        },
        "id": "ckPF_tWROglM",
        "outputId": "3fadf24d-7863-477e-e72e-9f3c1d064e44"
      },
      "source": [
        "plt.figure(figsize=(10,5))\n",
        "plt.scatter(x_treinamento,y_treinamento)\n",
        "plt.plot(x_teste,funcao_Regr.predict(x_teste),color='red');"
      ],
      "execution_count": 129,
      "outputs": [
        {
          "output_type": "display_data",
          "data": {
            "image/png": "[encoded data removed]",
            "text/plain": [
              "<Figure size 720x360 with 1 Axes>"
            ]
          },
          "metadata": {
            "needs_background": "light"
          }
        }
      ]
    },
    {
      "cell_type": "code",
      "metadata": {
        "colab": {
          "base_uri": "https://localhost:8080/"
        },
        "id": "_TufT6xdOtez",
        "outputId": "8c9ba36d-1786-4150-c877-2e0287cdf157"
      },
      "source": [
        "from sklearn import metrics\n",
        "print('RMSE', np.sqrt(metrics.mean_squared_error(y_teste, previsao)))  #erro medio da nossa regressao"
      ],
      "execution_count": 132,
      "outputs": [
        {
          "output_type": "stream",
          "name": "stdout",
          "text": [
            "RMSE 43.978753871489616\n"
          ]
        }
      ]
    },
    {
      "cell_type": "code",
      "metadata": {
        "colab": {
          "base_uri": "https://localhost:8080/"
        },
        "id": "LtowCj5tPvba",
        "outputId": "468fc9d4-c9ee-43f8-e307-ea9f0e720ca1"
      },
      "source": [
        "print(funcao_Regr.predict([[6000]])) #exemplo salario de 6.000,00"
      ],
      "execution_count": 136,
      "outputs": [
        {
          "output_type": "stream",
          "name": "stdout",
          "text": [
            "[[13751.80329316]]\n"
          ]
        }
      ]
    },
    {
      "cell_type": "markdown",
      "metadata": {
        "id": "2X6pIYVEQBHU"
      },
      "source": [
        "Portanto basta colocarmos o salario da pessoa acima, e o resultado é o quanto o banco deve dar de emprestimo pra pessoa\n"
      ]
    },
    {
      "cell_type": "code",
      "metadata": {
        "colab": {
          "base_uri": "https://localhost:8080/"
        },
        "id": "0noI71B7Rliy",
        "outputId": "2e9ed403-fde5-4b91-d63e-d4b678fe58aa"
      },
      "source": [
        "score = funcao_Regr.score(x,y)\n",
        "score"
      ],
      "execution_count": 140,
      "outputs": [
        {
          "output_type": "execute_result",
          "data": {
            "text/plain": [
              "0.9989679995313819"
            ]
          },
          "metadata": {},
          "execution_count": 140
        }
      ]
    },
    {
      "cell_type": "markdown",
      "metadata": {
        "id": "A1TiftU8SEph"
      },
      "source": [
        "O modelo tem uma acurácia de 99,8%, excelente!"
      ]
    }
  ]
}